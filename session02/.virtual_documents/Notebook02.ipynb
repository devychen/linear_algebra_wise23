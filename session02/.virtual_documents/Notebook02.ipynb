import sympy
from sympy import Matrix
import numpy as np



%matplotlib notebook
import matplotlib.pyplot as plt
from mpl_toolkits.mplot3d import axes3d














Matrix([0.6, 0.8])


from sympy import Rational
Matrix([
    Rational(1,3), 
    Rational(2,3), 
    Rational(2,3)
])


Matrix([
    sympy.Rational(1,2), 
    sympy.Rational(1,2), 
    sympy.Rational(1,2),     
    sympy.Rational(1,2)
])


x, y, z, t = sympy.symbols('x y z t')
Matrix([sympy.sin(x), sympy.cos(x)])


Matrix([0, 0, 0, 1, 0])













































fig = plt.figure(figsize=(12,6))
ax = fig.add_subplot(121, projection='3d')




x = np.arange(-4, 4, 1)
y = np.arange(-4, 4, 1)
X,Y = np.meshgrid(x,y)
Xt = X - 2* Y
Yt = X + Y
Z = 2*X + Y

ax.plot_wireframe(Xt, Yt, Z, alpha=0.4)
ax.quiver((0,),(0,),(0,),(1,),(1,),(2,), color='red', length=1)
ax.quiver((0,),(0,),(0,),(-2,),(1,),(1,), color='green', length=1)
ax.scatter3D((1,), (4,), (7,), color="black")
plt.show()












Matrix([
    [1,0,0],
    [0,2,0],
    [0,0,3]
])


Matrix([
    [3,0,0],
    [0,2,0],
    [0,0,1],
    [0,0,0]
])


Matrix([
    [1,0,0,0],
    [0,2,0,0],
    [0,0,3,0]
])














xs = [0, 2, -3, -1.5]
ys = [0, 3, 1, -2.5]
colors = ['m', 'g', 'r', 'b']

# Select length of axes and the space between tick labels
xmin, xmax, ymin, ymax = -5, 5, -5, 5
ticks_frequency = 1

fig, ax = plt.subplots(figsize=(6,6))
# Set identical scales for both axes
ax.set(xlim=(xmin-1, xmax+1), ylim=(ymin-1, ymax+1), aspect='equal')

# Set bottom and left spines as x and y axes of coordinate system
ax.spines['bottom'].set_position('zero')
ax.spines['left'].set_position('zero')

# Remove top and right spines
ax.spines['top'].set_visible(False)
ax.spines['right'].set_visible(False)

# Create 'x' and 'y' labels placed at the end of the axes
ax.set_xlabel('x', size=14, labelpad=-24, x=1.03)
ax.set_ylabel('y', size=14, labelpad=-21, y=1.02, rotation=0)

# Create custom major ticks to determine position of tick labels
x_ticks = np.arange(xmin, xmax+1, ticks_frequency)
y_ticks = np.arange(ymin, ymax+1, ticks_frequency)
ax.set_xticks(x_ticks[x_ticks != 0])
ax.set_yticks(y_ticks[y_ticks != 0])

# Create minor ticks placed at each integer to enable drawing of minor grid
# lines: note that this has no effect in this example with ticks_frequency=1
ax.set_xticks(np.arange(xmin, xmax+1), minor=True)
ax.set_yticks(np.arange(ymin, ymax+1), minor=True)


# Draw major and minor grid lines
ax.grid(which='both', color='grey', linewidth=1, linestyle='-', alpha=0.2)

# Draw arrows
arrow_fmt = dict(markersize=4, color='black', clip_on=False)
ax.plot((1), (0), marker='>', transform=ax.get_yaxis_transform(), **arrow_fmt)
ax.plot((0), (1), marker='^', transform=ax.get_xaxis_transform(), **arrow_fmt)

ax.quiver((0,),(0,), (1,), (3,), units="xy", scale=1, color='red')
ax.quiver((0,),(0,), (2,), (4,), units="xy", scale=1, color='green')





xs = [0, 2, -3, -1.5]
ys = [0, 3, 1, -2.5]
colors = ['m', 'g', 'r', 'b']

# Select length of axes and the space between tick labels
xmin, xmax, ymin, ymax = -5, 5, -5, 5
ticks_frequency = 1

fig, ax = plt.subplots(figsize=(6,6))
# Set identical scales for both axes
ax.set(xlim=(xmin-1, xmax+1), ylim=(ymin-1, ymax+1), aspect='equal')

# Set bottom and left spines as x and y axes of coordinate system
ax.spines['bottom'].set_position('zero')
ax.spines['left'].set_position('zero')

# Remove top and right spines
ax.spines['top'].set_visible(False)
ax.spines['right'].set_visible(False)

# Create 'x' and 'y' labels placed at the end of the axes
ax.set_xlabel('x', size=14, labelpad=-24, x=1.03)
ax.set_ylabel('y', size=14, labelpad=-21, y=1.02, rotation=0)

# Create custom major ticks to determine position of tick labels
x_ticks = np.arange(xmin, xmax+1, ticks_frequency)
y_ticks = np.arange(ymin, ymax+1, ticks_frequency)
ax.set_xticks(x_ticks[x_ticks != 0])
ax.set_yticks(y_ticks[y_ticks != 0])

# Create minor ticks placed at each integer to enable drawing of minor grid
# lines: note that this has no effect in this example with ticks_frequency=1
ax.set_xticks(np.arange(xmin, xmax+1), minor=True)
ax.set_yticks(np.arange(ymin, ymax+1), minor=True)


# Draw major and minor grid lines
ax.grid(which='both', color='grey', linewidth=1, linestyle='-', alpha=0.2)

# Draw arrows
arrow_fmt = dict(markersize=4, color='black', clip_on=False)
ax.plot((1), (0), marker='>', transform=ax.get_yaxis_transform(), **arrow_fmt)
ax.plot((0), (1), marker='^', transform=ax.get_xaxis_transform(), **arrow_fmt)

ax.quiver((0,),(0,), (2,), (4,), units="xy", scale=1, color='green')
ax.quiver((0,),(0,), (1,), (2,), units="xy", scale=1, color='red', alpha=0.8)






fig = plt.figure(figsize=(12,6))
ax = fig.add_subplot(121, projection='3d')



ax.set_xlim(-5,5)
ax.set_ylim(-5,5)
ax.set_zlim(-10,10)
ax.quiver((0,),(0,),(0,),(1,),(-4,),(2,), color='red', length=1)
ax.quiver((0,),(0,),(0,),(-2,),(1,),(3,), color='green', length=1)
ax.quiver((0,),(0,),(0,),(2,),(6,),(8,), color='blue', length=1)

plt.show()




fig = plt.figure(figsize=(12,6))
ax = fig.add_subplot(121, projection='3d')



ax.set_xlim(-5,5)
ax.set_ylim(-5,5)
ax.set_zlim(-10,10)
ax.quiver((0,),(0,),(0,),(1,),(-4,),(2,), color='red', length=1)
ax.quiver((0,),(0,),(0,),(-2,),(1,),(3,), color='green', length=1)
ax.quiver((0,),(0,),(0,),(2,),(6,),(-10,), color='blue', length=1)

plt.show()









import numpy as np
x = np.array([1,2,3])
x





A = np.array([
    [1,2, 3],
    [4,5,6],
    [7,8,9]
])
A





y = np.array([3,10,4])

x + y


3*x


2*x - 3*y





A, x


A @ x





A


A.T





B = np.array([
    [4,1,0],
    [1,0,2],
    [4,5,6]
])


A, B


A @ B





np.eye(3)





np.diag([2,3, 4])





A = np.array(
[
    [1, -4, 2],
    [-2, 1, 3],
    [2,6,8]
])
A


np.linalg.inv(A)


B = np.array(
[
    [1, -4, 2],
    [-2, 1, 3],
    [2,6,-10]
])


B



from numpy.linalg import LinAlgError

try:
    np.linalg.inv(B)
except LinAlgError:
    print("matrix is not invertible")
        





import sympy
from sympy import Matrix





x = Matrix([1,2,3])
x





A = Matrix(
[
    [1,2, 3],
    [4,5,6],
    [7,8,9]
])
A





y = Matrix([3,10,4])
y


x+y


3*x


2 * x - 3 * y





A * x





A.T





B = Matrix(
[
    [4,1,0],
    [1,0,2],
    [4,5,6]
])
B


A * B





sympy.eye(3)





sympy.diag(1,2,3)





A = Matrix(
[
    [1, -4, 2],
    [-2, 1, 3],
    [2,6,8]
])


A.inv()


B = Matrix(
[
    [1, -4, 2],
    [-2, 1, 3],
    [2,6,-10]
])


try:
    B.inv()
except ValueError:
    print("B is not invertible")





from sympy import symbols
a,b,c,d = symbols('a b c d')


A = Matrix([
    [a, b],
    [c,d]
])
A


A.inv()
