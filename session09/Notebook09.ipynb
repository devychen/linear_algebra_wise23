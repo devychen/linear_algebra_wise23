{
 "cells": [
  {
   "cell_type": "code",
   "execution_count": 1,
   "id": "6b6d3e8a",
   "metadata": {
    "slideshow": {
     "slide_type": "skip"
    }
   },
   "outputs": [],
   "source": [
    "import sympy\n",
    "from sympy import Matrix, Rational, sqrt, symbols, zeros, simplify, exp\n",
    "import numpy as np\n",
    "import matplotlib.pyplot as plt\n",
    "import ipywidgets as widgets\n",
    "from ipywidgets import interact, interactive, fixed, interact_manual\n",
    "import matplotlib.pyplot as plt\n",
    "%matplotlib notebook\n"
   ]
  },
  {
   "cell_type": "markdown",
   "id": "17d690f6",
   "metadata": {
    "hide_input": true,
    "slideshow": {
     "slide_type": "slide"
    }
   },
   "source": [
    "# Linear algebra\n",
    "\n",
    "## Session 9: \n",
    "\n",
    "## Gerhard Jäger\n",
    "\n",
    "### December 21, 2023"
   ]
  },
  {
   "cell_type": "markdown",
   "id": "4ac3102c",
   "metadata": {
    "slideshow": {
     "slide_type": "slide"
    }
   },
   "source": [
    "## Eigenvectors and eigenvalues\n",
    "\n",
    "### Basic equation\n",
    "\n",
    "$$\n",
    "A\\mathbf x = \\lambda \\mathbf x\n",
    "$$\n",
    "\n",
    "- $\\mathbf x$ is called an **eigenvector** of $A$\n",
    "- $\\lambda$ is called an **eigenvalue** of $A$"
   ]
  },
  {
   "cell_type": "code",
   "execution_count": 2,
   "id": "79b42587",
   "metadata": {
    "slideshow": {
     "slide_type": "slide"
    }
   },
   "outputs": [],
   "source": [
    "A = np.array([\n",
    "    [1, 1],\n",
    "    [-1, 1]\n",
    "])"
   ]
  },
  {
   "cell_type": "code",
   "execution_count": 3,
   "id": "af2cc205",
   "metadata": {
    "hide_input": true
   },
   "outputs": [
    {
     "data": {
      "application/javascript": [
       "/* Put everything inside the global mpl namespace */\n",
       "/* global mpl */\n",
       "window.mpl = {};\n",
       "\n",
       "mpl.get_websocket_type = function () {\n",
       "    if (typeof WebSocket !== 'undefined') {\n",
       "        return WebSocket;\n",
       "    } else if (typeof MozWebSocket !== 'undefined') {\n",
       "        return MozWebSocket;\n",
       "    } else {\n",
       "        alert(\n",
       "            'Your browser does not have WebSocket support. ' +\n",
       "                'Please try Chrome, Safari or Firefox ≥ 6. ' +\n",
       "                'Firefox 4 and 5 are also supported but you ' +\n",
       "                'have to enable WebSockets in about:config.'\n",
       "        );\n",
       "    }\n",
       "};\n",
       "\n",
       "mpl.figure = function (figure_id, websocket, ondownload, parent_element) {\n",
       "    this.id = figure_id;\n",
       "\n",
       "    this.ws = websocket;\n",
       "\n",
       "    this.supports_binary = this.ws.binaryType !== undefined;\n",
       "\n",
       "    if (!this.supports_binary) {\n",
       "        var warnings = document.getElementById('mpl-warnings');\n",
       "        if (warnings) {\n",
       "            warnings.style.display = 'block';\n",
       "            warnings.textContent =\n",
       "                'This browser does not support binary websocket messages. ' +\n",
       "                'Performance may be slow.';\n",
       "        }\n",
       "    }\n",
       "\n",
       "    this.imageObj = new Image();\n",
       "\n",
       "    this.context = undefined;\n",
       "    this.message = undefined;\n",
       "    this.canvas = undefined;\n",
       "    this.rubberband_canvas = undefined;\n",
       "    this.rubberband_context = undefined;\n",
       "    this.format_dropdown = undefined;\n",
       "\n",
       "    this.image_mode = 'full';\n",
       "\n",
       "    this.root = document.createElement('div');\n",
       "    this.root.setAttribute('style', 'display: inline-block');\n",
       "    this._root_extra_style(this.root);\n",
       "\n",
       "    parent_element.appendChild(this.root);\n",
       "\n",
       "    this._init_header(this);\n",
       "    this._init_canvas(this);\n",
       "    this._init_toolbar(this);\n",
       "\n",
       "    var fig = this;\n",
       "\n",
       "    this.waiting = false;\n",
       "\n",
       "    this.ws.onopen = function () {\n",
       "        fig.send_message('supports_binary', { value: fig.supports_binary });\n",
       "        fig.send_message('send_image_mode', {});\n",
       "        if (fig.ratio !== 1) {\n",
       "            fig.send_message('set_device_pixel_ratio', {\n",
       "                device_pixel_ratio: fig.ratio,\n",
       "            });\n",
       "        }\n",
       "        fig.send_message('refresh', {});\n",
       "    };\n",
       "\n",
       "    this.imageObj.onload = function () {\n",
       "        if (fig.image_mode === 'full') {\n",
       "            // Full images could contain transparency (where diff images\n",
       "            // almost always do), so we need to clear the canvas so that\n",
       "            // there is no ghosting.\n",
       "            fig.context.clearRect(0, 0, fig.canvas.width, fig.canvas.height);\n",
       "        }\n",
       "        fig.context.drawImage(fig.imageObj, 0, 0);\n",
       "    };\n",
       "\n",
       "    this.imageObj.onunload = function () {\n",
       "        fig.ws.close();\n",
       "    };\n",
       "\n",
       "    this.ws.onmessage = this._make_on_message_function(this);\n",
       "\n",
       "    this.ondownload = ondownload;\n",
       "};\n",
       "\n",
       "mpl.figure.prototype._init_header = function () {\n",
       "    var titlebar = document.createElement('div');\n",
       "    titlebar.classList =\n",
       "        'ui-dialog-titlebar ui-widget-header ui-corner-all ui-helper-clearfix';\n",
       "    var titletext = document.createElement('div');\n",
       "    titletext.classList = 'ui-dialog-title';\n",
       "    titletext.setAttribute(\n",
       "        'style',\n",
       "        'width: 100%; text-align: center; padding: 3px;'\n",
       "    );\n",
       "    titlebar.appendChild(titletext);\n",
       "    this.root.appendChild(titlebar);\n",
       "    this.header = titletext;\n",
       "};\n",
       "\n",
       "mpl.figure.prototype._canvas_extra_style = function (_canvas_div) {};\n",
       "\n",
       "mpl.figure.prototype._root_extra_style = function (_canvas_div) {};\n",
       "\n",
       "mpl.figure.prototype._init_canvas = function () {\n",
       "    var fig = this;\n",
       "\n",
       "    var canvas_div = (this.canvas_div = document.createElement('div'));\n",
       "    canvas_div.setAttribute('tabindex', '0');\n",
       "    canvas_div.setAttribute(\n",
       "        'style',\n",
       "        'border: 1px solid #ddd;' +\n",
       "            'box-sizing: content-box;' +\n",
       "            'clear: both;' +\n",
       "            'min-height: 1px;' +\n",
       "            'min-width: 1px;' +\n",
       "            'outline: 0;' +\n",
       "            'overflow: hidden;' +\n",
       "            'position: relative;' +\n",
       "            'resize: both;' +\n",
       "            'z-index: 2;'\n",
       "    );\n",
       "\n",
       "    function on_keyboard_event_closure(name) {\n",
       "        return function (event) {\n",
       "            return fig.key_event(event, name);\n",
       "        };\n",
       "    }\n",
       "\n",
       "    canvas_div.addEventListener(\n",
       "        'keydown',\n",
       "        on_keyboard_event_closure('key_press')\n",
       "    );\n",
       "    canvas_div.addEventListener(\n",
       "        'keyup',\n",
       "        on_keyboard_event_closure('key_release')\n",
       "    );\n",
       "\n",
       "    this._canvas_extra_style(canvas_div);\n",
       "    this.root.appendChild(canvas_div);\n",
       "\n",
       "    var canvas = (this.canvas = document.createElement('canvas'));\n",
       "    canvas.classList.add('mpl-canvas');\n",
       "    canvas.setAttribute(\n",
       "        'style',\n",
       "        'box-sizing: content-box;' +\n",
       "            'pointer-events: none;' +\n",
       "            'position: relative;' +\n",
       "            'z-index: 0;'\n",
       "    );\n",
       "\n",
       "    this.context = canvas.getContext('2d');\n",
       "\n",
       "    var backingStore =\n",
       "        this.context.backingStorePixelRatio ||\n",
       "        this.context.webkitBackingStorePixelRatio ||\n",
       "        this.context.mozBackingStorePixelRatio ||\n",
       "        this.context.msBackingStorePixelRatio ||\n",
       "        this.context.oBackingStorePixelRatio ||\n",
       "        this.context.backingStorePixelRatio ||\n",
       "        1;\n",
       "\n",
       "    this.ratio = (window.devicePixelRatio || 1) / backingStore;\n",
       "\n",
       "    var rubberband_canvas = (this.rubberband_canvas = document.createElement(\n",
       "        'canvas'\n",
       "    ));\n",
       "    rubberband_canvas.setAttribute(\n",
       "        'style',\n",
       "        'box-sizing: content-box;' +\n",
       "            'left: 0;' +\n",
       "            'pointer-events: none;' +\n",
       "            'position: absolute;' +\n",
       "            'top: 0;' +\n",
       "            'z-index: 1;'\n",
       "    );\n",
       "\n",
       "    // Apply a ponyfill if ResizeObserver is not implemented by browser.\n",
       "    if (this.ResizeObserver === undefined) {\n",
       "        if (window.ResizeObserver !== undefined) {\n",
       "            this.ResizeObserver = window.ResizeObserver;\n",
       "        } else {\n",
       "            var obs = _JSXTOOLS_RESIZE_OBSERVER({});\n",
       "            this.ResizeObserver = obs.ResizeObserver;\n",
       "        }\n",
       "    }\n",
       "\n",
       "    this.resizeObserverInstance = new this.ResizeObserver(function (entries) {\n",
       "        var nentries = entries.length;\n",
       "        for (var i = 0; i < nentries; i++) {\n",
       "            var entry = entries[i];\n",
       "            var width, height;\n",
       "            if (entry.contentBoxSize) {\n",
       "                if (entry.contentBoxSize instanceof Array) {\n",
       "                    // Chrome 84 implements new version of spec.\n",
       "                    width = entry.contentBoxSize[0].inlineSize;\n",
       "                    height = entry.contentBoxSize[0].blockSize;\n",
       "                } else {\n",
       "                    // Firefox implements old version of spec.\n",
       "                    width = entry.contentBoxSize.inlineSize;\n",
       "                    height = entry.contentBoxSize.blockSize;\n",
       "                }\n",
       "            } else {\n",
       "                // Chrome <84 implements even older version of spec.\n",
       "                width = entry.contentRect.width;\n",
       "                height = entry.contentRect.height;\n",
       "            }\n",
       "\n",
       "            // Keep the size of the canvas and rubber band canvas in sync with\n",
       "            // the canvas container.\n",
       "            if (entry.devicePixelContentBoxSize) {\n",
       "                // Chrome 84 implements new version of spec.\n",
       "                canvas.setAttribute(\n",
       "                    'width',\n",
       "                    entry.devicePixelContentBoxSize[0].inlineSize\n",
       "                );\n",
       "                canvas.setAttribute(\n",
       "                    'height',\n",
       "                    entry.devicePixelContentBoxSize[0].blockSize\n",
       "                );\n",
       "            } else {\n",
       "                canvas.setAttribute('width', width * fig.ratio);\n",
       "                canvas.setAttribute('height', height * fig.ratio);\n",
       "            }\n",
       "            /* This rescales the canvas back to display pixels, so that it\n",
       "             * appears correct on HiDPI screens. */\n",
       "            canvas.style.width = width + 'px';\n",
       "            canvas.style.height = height + 'px';\n",
       "\n",
       "            rubberband_canvas.setAttribute('width', width);\n",
       "            rubberband_canvas.setAttribute('height', height);\n",
       "\n",
       "            // And update the size in Python. We ignore the initial 0/0 size\n",
       "            // that occurs as the element is placed into the DOM, which should\n",
       "            // otherwise not happen due to the minimum size styling.\n",
       "            if (fig.ws.readyState == 1 && width != 0 && height != 0) {\n",
       "                fig.request_resize(width, height);\n",
       "            }\n",
       "        }\n",
       "    });\n",
       "    this.resizeObserverInstance.observe(canvas_div);\n",
       "\n",
       "    function on_mouse_event_closure(name) {\n",
       "        /* User Agent sniffing is bad, but WebKit is busted:\n",
       "         * https://bugs.webkit.org/show_bug.cgi?id=144526\n",
       "         * https://bugs.webkit.org/show_bug.cgi?id=181818\n",
       "         * The worst that happens here is that they get an extra browser\n",
       "         * selection when dragging, if this check fails to catch them.\n",
       "         */\n",
       "        var UA = navigator.userAgent;\n",
       "        var isWebKit = /AppleWebKit/.test(UA) && !/Chrome/.test(UA);\n",
       "        if(isWebKit) {\n",
       "            return function (event) {\n",
       "                /* This prevents the web browser from automatically changing to\n",
       "                 * the text insertion cursor when the button is pressed. We\n",
       "                 * want to control all of the cursor setting manually through\n",
       "                 * the 'cursor' event from matplotlib */\n",
       "                event.preventDefault()\n",
       "                return fig.mouse_event(event, name);\n",
       "            };\n",
       "        } else {\n",
       "            return function (event) {\n",
       "                return fig.mouse_event(event, name);\n",
       "            };\n",
       "        }\n",
       "    }\n",
       "\n",
       "    canvas_div.addEventListener(\n",
       "        'mousedown',\n",
       "        on_mouse_event_closure('button_press')\n",
       "    );\n",
       "    canvas_div.addEventListener(\n",
       "        'mouseup',\n",
       "        on_mouse_event_closure('button_release')\n",
       "    );\n",
       "    canvas_div.addEventListener(\n",
       "        'dblclick',\n",
       "        on_mouse_event_closure('dblclick')\n",
       "    );\n",
       "    // Throttle sequential mouse events to 1 every 20ms.\n",
       "    canvas_div.addEventListener(\n",
       "        'mousemove',\n",
       "        on_mouse_event_closure('motion_notify')\n",
       "    );\n",
       "\n",
       "    canvas_div.addEventListener(\n",
       "        'mouseenter',\n",
       "        on_mouse_event_closure('figure_enter')\n",
       "    );\n",
       "    canvas_div.addEventListener(\n",
       "        'mouseleave',\n",
       "        on_mouse_event_closure('figure_leave')\n",
       "    );\n",
       "\n",
       "    canvas_div.addEventListener('wheel', function (event) {\n",
       "        if (event.deltaY < 0) {\n",
       "            event.step = 1;\n",
       "        } else {\n",
       "            event.step = -1;\n",
       "        }\n",
       "        on_mouse_event_closure('scroll')(event);\n",
       "    });\n",
       "\n",
       "    canvas_div.appendChild(canvas);\n",
       "    canvas_div.appendChild(rubberband_canvas);\n",
       "\n",
       "    this.rubberband_context = rubberband_canvas.getContext('2d');\n",
       "    this.rubberband_context.strokeStyle = '#000000';\n",
       "\n",
       "    this._resize_canvas = function (width, height, forward) {\n",
       "        if (forward) {\n",
       "            canvas_div.style.width = width + 'px';\n",
       "            canvas_div.style.height = height + 'px';\n",
       "        }\n",
       "    };\n",
       "\n",
       "    // Disable right mouse context menu.\n",
       "    canvas_div.addEventListener('contextmenu', function (_e) {\n",
       "        event.preventDefault();\n",
       "        return false;\n",
       "    });\n",
       "\n",
       "    function set_focus() {\n",
       "        canvas.focus();\n",
       "        canvas_div.focus();\n",
       "    }\n",
       "\n",
       "    window.setTimeout(set_focus, 100);\n",
       "};\n",
       "\n",
       "mpl.figure.prototype._init_toolbar = function () {\n",
       "    var fig = this;\n",
       "\n",
       "    var toolbar = document.createElement('div');\n",
       "    toolbar.classList = 'mpl-toolbar';\n",
       "    this.root.appendChild(toolbar);\n",
       "\n",
       "    function on_click_closure(name) {\n",
       "        return function (_event) {\n",
       "            return fig.toolbar_button_onclick(name);\n",
       "        };\n",
       "    }\n",
       "\n",
       "    function on_mouseover_closure(tooltip) {\n",
       "        return function (event) {\n",
       "            if (!event.currentTarget.disabled) {\n",
       "                return fig.toolbar_button_onmouseover(tooltip);\n",
       "            }\n",
       "        };\n",
       "    }\n",
       "\n",
       "    fig.buttons = {};\n",
       "    var buttonGroup = document.createElement('div');\n",
       "    buttonGroup.classList = 'mpl-button-group';\n",
       "    for (var toolbar_ind in mpl.toolbar_items) {\n",
       "        var name = mpl.toolbar_items[toolbar_ind][0];\n",
       "        var tooltip = mpl.toolbar_items[toolbar_ind][1];\n",
       "        var image = mpl.toolbar_items[toolbar_ind][2];\n",
       "        var method_name = mpl.toolbar_items[toolbar_ind][3];\n",
       "\n",
       "        if (!name) {\n",
       "            /* Instead of a spacer, we start a new button group. */\n",
       "            if (buttonGroup.hasChildNodes()) {\n",
       "                toolbar.appendChild(buttonGroup);\n",
       "            }\n",
       "            buttonGroup = document.createElement('div');\n",
       "            buttonGroup.classList = 'mpl-button-group';\n",
       "            continue;\n",
       "        }\n",
       "\n",
       "        var button = (fig.buttons[name] = document.createElement('button'));\n",
       "        button.classList = 'mpl-widget';\n",
       "        button.setAttribute('role', 'button');\n",
       "        button.setAttribute('aria-disabled', 'false');\n",
       "        button.addEventListener('click', on_click_closure(method_name));\n",
       "        button.addEventListener('mouseover', on_mouseover_closure(tooltip));\n",
       "\n",
       "        var icon_img = document.createElement('img');\n",
       "        icon_img.src = '_images/' + image + '.png';\n",
       "        icon_img.srcset = '_images/' + image + '_large.png 2x';\n",
       "        icon_img.alt = tooltip;\n",
       "        button.appendChild(icon_img);\n",
       "\n",
       "        buttonGroup.appendChild(button);\n",
       "    }\n",
       "\n",
       "    if (buttonGroup.hasChildNodes()) {\n",
       "        toolbar.appendChild(buttonGroup);\n",
       "    }\n",
       "\n",
       "    var fmt_picker = document.createElement('select');\n",
       "    fmt_picker.classList = 'mpl-widget';\n",
       "    toolbar.appendChild(fmt_picker);\n",
       "    this.format_dropdown = fmt_picker;\n",
       "\n",
       "    for (var ind in mpl.extensions) {\n",
       "        var fmt = mpl.extensions[ind];\n",
       "        var option = document.createElement('option');\n",
       "        option.selected = fmt === mpl.default_extension;\n",
       "        option.innerHTML = fmt;\n",
       "        fmt_picker.appendChild(option);\n",
       "    }\n",
       "\n",
       "    var status_bar = document.createElement('span');\n",
       "    status_bar.classList = 'mpl-message';\n",
       "    toolbar.appendChild(status_bar);\n",
       "    this.message = status_bar;\n",
       "};\n",
       "\n",
       "mpl.figure.prototype.request_resize = function (x_pixels, y_pixels) {\n",
       "    // Request matplotlib to resize the figure. Matplotlib will then trigger a resize in the client,\n",
       "    // which will in turn request a refresh of the image.\n",
       "    this.send_message('resize', { width: x_pixels, height: y_pixels });\n",
       "};\n",
       "\n",
       "mpl.figure.prototype.send_message = function (type, properties) {\n",
       "    properties['type'] = type;\n",
       "    properties['figure_id'] = this.id;\n",
       "    this.ws.send(JSON.stringify(properties));\n",
       "};\n",
       "\n",
       "mpl.figure.prototype.send_draw_message = function () {\n",
       "    if (!this.waiting) {\n",
       "        this.waiting = true;\n",
       "        this.ws.send(JSON.stringify({ type: 'draw', figure_id: this.id }));\n",
       "    }\n",
       "};\n",
       "\n",
       "mpl.figure.prototype.handle_save = function (fig, _msg) {\n",
       "    var format_dropdown = fig.format_dropdown;\n",
       "    var format = format_dropdown.options[format_dropdown.selectedIndex].value;\n",
       "    fig.ondownload(fig, format);\n",
       "};\n",
       "\n",
       "mpl.figure.prototype.handle_resize = function (fig, msg) {\n",
       "    var size = msg['size'];\n",
       "    if (size[0] !== fig.canvas.width || size[1] !== fig.canvas.height) {\n",
       "        fig._resize_canvas(size[0], size[1], msg['forward']);\n",
       "        fig.send_message('refresh', {});\n",
       "    }\n",
       "};\n",
       "\n",
       "mpl.figure.prototype.handle_rubberband = function (fig, msg) {\n",
       "    var x0 = msg['x0'] / fig.ratio;\n",
       "    var y0 = (fig.canvas.height - msg['y0']) / fig.ratio;\n",
       "    var x1 = msg['x1'] / fig.ratio;\n",
       "    var y1 = (fig.canvas.height - msg['y1']) / fig.ratio;\n",
       "    x0 = Math.floor(x0) + 0.5;\n",
       "    y0 = Math.floor(y0) + 0.5;\n",
       "    x1 = Math.floor(x1) + 0.5;\n",
       "    y1 = Math.floor(y1) + 0.5;\n",
       "    var min_x = Math.min(x0, x1);\n",
       "    var min_y = Math.min(y0, y1);\n",
       "    var width = Math.abs(x1 - x0);\n",
       "    var height = Math.abs(y1 - y0);\n",
       "\n",
       "    fig.rubberband_context.clearRect(\n",
       "        0,\n",
       "        0,\n",
       "        fig.canvas.width / fig.ratio,\n",
       "        fig.canvas.height / fig.ratio\n",
       "    );\n",
       "\n",
       "    fig.rubberband_context.strokeRect(min_x, min_y, width, height);\n",
       "};\n",
       "\n",
       "mpl.figure.prototype.handle_figure_label = function (fig, msg) {\n",
       "    // Updates the figure title.\n",
       "    fig.header.textContent = msg['label'];\n",
       "};\n",
       "\n",
       "mpl.figure.prototype.handle_cursor = function (fig, msg) {\n",
       "    fig.canvas_div.style.cursor = msg['cursor'];\n",
       "};\n",
       "\n",
       "mpl.figure.prototype.handle_message = function (fig, msg) {\n",
       "    fig.message.textContent = msg['message'];\n",
       "};\n",
       "\n",
       "mpl.figure.prototype.handle_draw = function (fig, _msg) {\n",
       "    // Request the server to send over a new figure.\n",
       "    fig.send_draw_message();\n",
       "};\n",
       "\n",
       "mpl.figure.prototype.handle_image_mode = function (fig, msg) {\n",
       "    fig.image_mode = msg['mode'];\n",
       "};\n",
       "\n",
       "mpl.figure.prototype.handle_history_buttons = function (fig, msg) {\n",
       "    for (var key in msg) {\n",
       "        if (!(key in fig.buttons)) {\n",
       "            continue;\n",
       "        }\n",
       "        fig.buttons[key].disabled = !msg[key];\n",
       "        fig.buttons[key].setAttribute('aria-disabled', !msg[key]);\n",
       "    }\n",
       "};\n",
       "\n",
       "mpl.figure.prototype.handle_navigate_mode = function (fig, msg) {\n",
       "    if (msg['mode'] === 'PAN') {\n",
       "        fig.buttons['Pan'].classList.add('active');\n",
       "        fig.buttons['Zoom'].classList.remove('active');\n",
       "    } else if (msg['mode'] === 'ZOOM') {\n",
       "        fig.buttons['Pan'].classList.remove('active');\n",
       "        fig.buttons['Zoom'].classList.add('active');\n",
       "    } else {\n",
       "        fig.buttons['Pan'].classList.remove('active');\n",
       "        fig.buttons['Zoom'].classList.remove('active');\n",
       "    }\n",
       "};\n",
       "\n",
       "mpl.figure.prototype.updated_canvas_event = function () {\n",
       "    // Called whenever the canvas gets updated.\n",
       "    this.send_message('ack', {});\n",
       "};\n",
       "\n",
       "// A function to construct a web socket function for onmessage handling.\n",
       "// Called in the figure constructor.\n",
       "mpl.figure.prototype._make_on_message_function = function (fig) {\n",
       "    return function socket_on_message(evt) {\n",
       "        if (evt.data instanceof Blob) {\n",
       "            var img = evt.data;\n",
       "            if (img.type !== 'image/png') {\n",
       "                /* FIXME: We get \"Resource interpreted as Image but\n",
       "                 * transferred with MIME type text/plain:\" errors on\n",
       "                 * Chrome.  But how to set the MIME type?  It doesn't seem\n",
       "                 * to be part of the websocket stream */\n",
       "                img.type = 'image/png';\n",
       "            }\n",
       "\n",
       "            /* Free the memory for the previous frames */\n",
       "            if (fig.imageObj.src) {\n",
       "                (window.URL || window.webkitURL).revokeObjectURL(\n",
       "                    fig.imageObj.src\n",
       "                );\n",
       "            }\n",
       "\n",
       "            fig.imageObj.src = (window.URL || window.webkitURL).createObjectURL(\n",
       "                img\n",
       "            );\n",
       "            fig.updated_canvas_event();\n",
       "            fig.waiting = false;\n",
       "            return;\n",
       "        } else if (\n",
       "            typeof evt.data === 'string' &&\n",
       "            evt.data.slice(0, 21) === 'data:image/png;base64'\n",
       "        ) {\n",
       "            fig.imageObj.src = evt.data;\n",
       "            fig.updated_canvas_event();\n",
       "            fig.waiting = false;\n",
       "            return;\n",
       "        }\n",
       "\n",
       "        var msg = JSON.parse(evt.data);\n",
       "        var msg_type = msg['type'];\n",
       "\n",
       "        // Call the  \"handle_{type}\" callback, which takes\n",
       "        // the figure and JSON message as its only arguments.\n",
       "        try {\n",
       "            var callback = fig['handle_' + msg_type];\n",
       "        } catch (e) {\n",
       "            console.log(\n",
       "                \"No handler for the '\" + msg_type + \"' message type: \",\n",
       "                msg\n",
       "            );\n",
       "            return;\n",
       "        }\n",
       "\n",
       "        if (callback) {\n",
       "            try {\n",
       "                // console.log(\"Handling '\" + msg_type + \"' message: \", msg);\n",
       "                callback(fig, msg);\n",
       "            } catch (e) {\n",
       "                console.log(\n",
       "                    \"Exception inside the 'handler_\" + msg_type + \"' callback:\",\n",
       "                    e,\n",
       "                    e.stack,\n",
       "                    msg\n",
       "                );\n",
       "            }\n",
       "        }\n",
       "    };\n",
       "};\n",
       "\n",
       "function getModifiers(event) {\n",
       "    var mods = [];\n",
       "    if (event.ctrlKey) {\n",
       "        mods.push('ctrl');\n",
       "    }\n",
       "    if (event.altKey) {\n",
       "        mods.push('alt');\n",
       "    }\n",
       "    if (event.shiftKey) {\n",
       "        mods.push('shift');\n",
       "    }\n",
       "    if (event.metaKey) {\n",
       "        mods.push('meta');\n",
       "    }\n",
       "    return mods;\n",
       "}\n",
       "\n",
       "/*\n",
       " * return a copy of an object with only non-object keys\n",
       " * we need this to avoid circular references\n",
       " * https://stackoverflow.com/a/24161582/3208463\n",
       " */\n",
       "function simpleKeys(original) {\n",
       "    return Object.keys(original).reduce(function (obj, key) {\n",
       "        if (typeof original[key] !== 'object') {\n",
       "            obj[key] = original[key];\n",
       "        }\n",
       "        return obj;\n",
       "    }, {});\n",
       "}\n",
       "\n",
       "mpl.figure.prototype.mouse_event = function (event, name) {\n",
       "    if (name === 'button_press') {\n",
       "        this.canvas.focus();\n",
       "        this.canvas_div.focus();\n",
       "    }\n",
       "\n",
       "    // from https://stackoverflow.com/q/1114465\n",
       "    var boundingRect = this.canvas.getBoundingClientRect();\n",
       "    var x = (event.clientX - boundingRect.left) * this.ratio;\n",
       "    var y = (event.clientY - boundingRect.top) * this.ratio;\n",
       "\n",
       "    this.send_message(name, {\n",
       "        x: x,\n",
       "        y: y,\n",
       "        button: event.button,\n",
       "        step: event.step,\n",
       "        modifiers: getModifiers(event),\n",
       "        guiEvent: simpleKeys(event),\n",
       "    });\n",
       "\n",
       "    return false;\n",
       "};\n",
       "\n",
       "mpl.figure.prototype._key_event_extra = function (_event, _name) {\n",
       "    // Handle any extra behaviour associated with a key event\n",
       "};\n",
       "\n",
       "mpl.figure.prototype.key_event = function (event, name) {\n",
       "    // Prevent repeat events\n",
       "    if (name === 'key_press') {\n",
       "        if (event.key === this._key) {\n",
       "            return;\n",
       "        } else {\n",
       "            this._key = event.key;\n",
       "        }\n",
       "    }\n",
       "    if (name === 'key_release') {\n",
       "        this._key = null;\n",
       "    }\n",
       "\n",
       "    var value = '';\n",
       "    if (event.ctrlKey && event.key !== 'Control') {\n",
       "        value += 'ctrl+';\n",
       "    }\n",
       "    else if (event.altKey && event.key !== 'Alt') {\n",
       "        value += 'alt+';\n",
       "    }\n",
       "    else if (event.shiftKey && event.key !== 'Shift') {\n",
       "        value += 'shift+';\n",
       "    }\n",
       "\n",
       "    value += 'k' + event.key;\n",
       "\n",
       "    this._key_event_extra(event, name);\n",
       "\n",
       "    this.send_message(name, { key: value, guiEvent: simpleKeys(event) });\n",
       "    return false;\n",
       "};\n",
       "\n",
       "mpl.figure.prototype.toolbar_button_onclick = function (name) {\n",
       "    if (name === 'download') {\n",
       "        this.handle_save(this, null);\n",
       "    } else {\n",
       "        this.send_message('toolbar_button', { name: name });\n",
       "    }\n",
       "};\n",
       "\n",
       "mpl.figure.prototype.toolbar_button_onmouseover = function (tooltip) {\n",
       "    this.message.textContent = tooltip;\n",
       "};\n",
       "\n",
       "///////////////// REMAINING CONTENT GENERATED BY embed_js.py /////////////////\n",
       "// prettier-ignore\n",
       "var _JSXTOOLS_RESIZE_OBSERVER=function(A){var t,i=new WeakMap,n=new WeakMap,a=new WeakMap,r=new WeakMap,o=new Set;function s(e){if(!(this instanceof s))throw new TypeError(\"Constructor requires 'new' operator\");i.set(this,e)}function h(){throw new TypeError(\"Function is not a constructor\")}function c(e,t,i,n){e=0 in arguments?Number(arguments[0]):0,t=1 in arguments?Number(arguments[1]):0,i=2 in arguments?Number(arguments[2]):0,n=3 in arguments?Number(arguments[3]):0,this.right=(this.x=this.left=e)+(this.width=i),this.bottom=(this.y=this.top=t)+(this.height=n),Object.freeze(this)}function d(){t=requestAnimationFrame(d);var s=new WeakMap,p=new Set;o.forEach((function(t){r.get(t).forEach((function(i){var r=t instanceof window.SVGElement,o=a.get(t),d=r?0:parseFloat(o.paddingTop),f=r?0:parseFloat(o.paddingRight),l=r?0:parseFloat(o.paddingBottom),u=r?0:parseFloat(o.paddingLeft),g=r?0:parseFloat(o.borderTopWidth),m=r?0:parseFloat(o.borderRightWidth),w=r?0:parseFloat(o.borderBottomWidth),b=u+f,F=d+l,v=(r?0:parseFloat(o.borderLeftWidth))+m,W=g+w,y=r?0:t.offsetHeight-W-t.clientHeight,E=r?0:t.offsetWidth-v-t.clientWidth,R=b+v,z=F+W,M=r?t.width:parseFloat(o.width)-R-E,O=r?t.height:parseFloat(o.height)-z-y;if(n.has(t)){var k=n.get(t);if(k[0]===M&&k[1]===O)return}n.set(t,[M,O]);var S=Object.create(h.prototype);S.target=t,S.contentRect=new c(u,d,M,O),s.has(i)||(s.set(i,[]),p.add(i)),s.get(i).push(S)}))})),p.forEach((function(e){i.get(e).call(e,s.get(e),e)}))}return s.prototype.observe=function(i){if(i instanceof window.Element){r.has(i)||(r.set(i,new Set),o.add(i),a.set(i,window.getComputedStyle(i)));var n=r.get(i);n.has(this)||n.add(this),cancelAnimationFrame(t),t=requestAnimationFrame(d)}},s.prototype.unobserve=function(i){if(i instanceof window.Element&&r.has(i)){var n=r.get(i);n.has(this)&&(n.delete(this),n.size||(r.delete(i),o.delete(i))),n.size||r.delete(i),o.size||cancelAnimationFrame(t)}},A.DOMRectReadOnly=c,A.ResizeObserver=s,A.ResizeObserverEntry=h,A}; // eslint-disable-line\n",
       "mpl.toolbar_items = [[\"Home\", \"Reset original view\", \"fa fa-home\", \"home\"], [\"Back\", \"Back to previous view\", \"fa fa-arrow-left\", \"back\"], [\"Forward\", \"Forward to next view\", \"fa fa-arrow-right\", \"forward\"], [\"\", \"\", \"\", \"\"], [\"Pan\", \"Left button pans, Right button zooms\\nx/y fixes axis, CTRL fixes aspect\", \"fa fa-arrows\", \"pan\"], [\"Zoom\", \"Zoom to rectangle\\nx/y fixes axis\", \"fa fa-square-o\", \"zoom\"], [\"\", \"\", \"\", \"\"], [\"Download\", \"Download plot\", \"fa fa-floppy-o\", \"download\"]];\n",
       "\n",
       "mpl.extensions = [\"eps\", \"jpeg\", \"pgf\", \"pdf\", \"png\", \"ps\", \"raw\", \"svg\", \"tif\", \"webp\"];\n",
       "\n",
       "mpl.default_extension = \"png\";/* global mpl */\n",
       "\n",
       "var comm_websocket_adapter = function (comm) {\n",
       "    // Create a \"websocket\"-like object which calls the given IPython comm\n",
       "    // object with the appropriate methods. Currently this is a non binary\n",
       "    // socket, so there is still some room for performance tuning.\n",
       "    var ws = {};\n",
       "\n",
       "    ws.binaryType = comm.kernel.ws.binaryType;\n",
       "    ws.readyState = comm.kernel.ws.readyState;\n",
       "    function updateReadyState(_event) {\n",
       "        if (comm.kernel.ws) {\n",
       "            ws.readyState = comm.kernel.ws.readyState;\n",
       "        } else {\n",
       "            ws.readyState = 3; // Closed state.\n",
       "        }\n",
       "    }\n",
       "    comm.kernel.ws.addEventListener('open', updateReadyState);\n",
       "    comm.kernel.ws.addEventListener('close', updateReadyState);\n",
       "    comm.kernel.ws.addEventListener('error', updateReadyState);\n",
       "\n",
       "    ws.close = function () {\n",
       "        comm.close();\n",
       "    };\n",
       "    ws.send = function (m) {\n",
       "        //console.log('sending', m);\n",
       "        comm.send(m);\n",
       "    };\n",
       "    // Register the callback with on_msg.\n",
       "    comm.on_msg(function (msg) {\n",
       "        //console.log('receiving', msg['content']['data'], msg);\n",
       "        var data = msg['content']['data'];\n",
       "        if (data['blob'] !== undefined) {\n",
       "            data = {\n",
       "                data: new Blob(msg['buffers'], { type: data['blob'] }),\n",
       "            };\n",
       "        }\n",
       "        // Pass the mpl event to the overridden (by mpl) onmessage function.\n",
       "        ws.onmessage(data);\n",
       "    });\n",
       "    return ws;\n",
       "};\n",
       "\n",
       "mpl.mpl_figure_comm = function (comm, msg) {\n",
       "    // This is the function which gets called when the mpl process\n",
       "    // starts-up an IPython Comm through the \"matplotlib\" channel.\n",
       "\n",
       "    var id = msg.content.data.id;\n",
       "    // Get hold of the div created by the display call when the Comm\n",
       "    // socket was opened in Python.\n",
       "    var element = document.getElementById(id);\n",
       "    var ws_proxy = comm_websocket_adapter(comm);\n",
       "\n",
       "    function ondownload(figure, _format) {\n",
       "        window.open(figure.canvas.toDataURL());\n",
       "    }\n",
       "\n",
       "    var fig = new mpl.figure(id, ws_proxy, ondownload, element);\n",
       "\n",
       "    // Call onopen now - mpl needs it, as it is assuming we've passed it a real\n",
       "    // web socket which is closed, not our websocket->open comm proxy.\n",
       "    ws_proxy.onopen();\n",
       "\n",
       "    fig.parent_element = element;\n",
       "    fig.cell_info = mpl.find_output_cell(\"<div id='\" + id + \"'></div>\");\n",
       "    if (!fig.cell_info) {\n",
       "        console.error('Failed to find cell for figure', id, fig);\n",
       "        return;\n",
       "    }\n",
       "    fig.cell_info[0].output_area.element.on(\n",
       "        'cleared',\n",
       "        { fig: fig },\n",
       "        fig._remove_fig_handler\n",
       "    );\n",
       "};\n",
       "\n",
       "mpl.figure.prototype.handle_close = function (fig, msg) {\n",
       "    var width = fig.canvas.width / fig.ratio;\n",
       "    fig.cell_info[0].output_area.element.off(\n",
       "        'cleared',\n",
       "        fig._remove_fig_handler\n",
       "    );\n",
       "    fig.resizeObserverInstance.unobserve(fig.canvas_div);\n",
       "\n",
       "    // Update the output cell to use the data from the current canvas.\n",
       "    fig.push_to_output();\n",
       "    var dataURL = fig.canvas.toDataURL();\n",
       "    // Re-enable the keyboard manager in IPython - without this line, in FF,\n",
       "    // the notebook keyboard shortcuts fail.\n",
       "    IPython.keyboard_manager.enable();\n",
       "    fig.parent_element.innerHTML =\n",
       "        '<img src=\"' + dataURL + '\" width=\"' + width + '\">';\n",
       "    fig.close_ws(fig, msg);\n",
       "};\n",
       "\n",
       "mpl.figure.prototype.close_ws = function (fig, msg) {\n",
       "    fig.send_message('closing', msg);\n",
       "    // fig.ws.close()\n",
       "};\n",
       "\n",
       "mpl.figure.prototype.push_to_output = function (_remove_interactive) {\n",
       "    // Turn the data on the canvas into data in the output cell.\n",
       "    var width = this.canvas.width / this.ratio;\n",
       "    var dataURL = this.canvas.toDataURL();\n",
       "    this.cell_info[1]['text/html'] =\n",
       "        '<img src=\"' + dataURL + '\" width=\"' + width + '\">';\n",
       "};\n",
       "\n",
       "mpl.figure.prototype.updated_canvas_event = function () {\n",
       "    // Tell IPython that the notebook contents must change.\n",
       "    IPython.notebook.set_dirty(true);\n",
       "    this.send_message('ack', {});\n",
       "    var fig = this;\n",
       "    // Wait a second, then push the new image to the DOM so\n",
       "    // that it is saved nicely (might be nice to debounce this).\n",
       "    setTimeout(function () {\n",
       "        fig.push_to_output();\n",
       "    }, 1000);\n",
       "};\n",
       "\n",
       "mpl.figure.prototype._init_toolbar = function () {\n",
       "    var fig = this;\n",
       "\n",
       "    var toolbar = document.createElement('div');\n",
       "    toolbar.classList = 'btn-toolbar';\n",
       "    this.root.appendChild(toolbar);\n",
       "\n",
       "    function on_click_closure(name) {\n",
       "        return function (_event) {\n",
       "            return fig.toolbar_button_onclick(name);\n",
       "        };\n",
       "    }\n",
       "\n",
       "    function on_mouseover_closure(tooltip) {\n",
       "        return function (event) {\n",
       "            if (!event.currentTarget.disabled) {\n",
       "                return fig.toolbar_button_onmouseover(tooltip);\n",
       "            }\n",
       "        };\n",
       "    }\n",
       "\n",
       "    fig.buttons = {};\n",
       "    var buttonGroup = document.createElement('div');\n",
       "    buttonGroup.classList = 'btn-group';\n",
       "    var button;\n",
       "    for (var toolbar_ind in mpl.toolbar_items) {\n",
       "        var name = mpl.toolbar_items[toolbar_ind][0];\n",
       "        var tooltip = mpl.toolbar_items[toolbar_ind][1];\n",
       "        var image = mpl.toolbar_items[toolbar_ind][2];\n",
       "        var method_name = mpl.toolbar_items[toolbar_ind][3];\n",
       "\n",
       "        if (!name) {\n",
       "            /* Instead of a spacer, we start a new button group. */\n",
       "            if (buttonGroup.hasChildNodes()) {\n",
       "                toolbar.appendChild(buttonGroup);\n",
       "            }\n",
       "            buttonGroup = document.createElement('div');\n",
       "            buttonGroup.classList = 'btn-group';\n",
       "            continue;\n",
       "        }\n",
       "\n",
       "        button = fig.buttons[name] = document.createElement('button');\n",
       "        button.classList = 'btn btn-default';\n",
       "        button.href = '#';\n",
       "        button.title = name;\n",
       "        button.innerHTML = '<i class=\"fa ' + image + ' fa-lg\"></i>';\n",
       "        button.addEventListener('click', on_click_closure(method_name));\n",
       "        button.addEventListener('mouseover', on_mouseover_closure(tooltip));\n",
       "        buttonGroup.appendChild(button);\n",
       "    }\n",
       "\n",
       "    if (buttonGroup.hasChildNodes()) {\n",
       "        toolbar.appendChild(buttonGroup);\n",
       "    }\n",
       "\n",
       "    // Add the status bar.\n",
       "    var status_bar = document.createElement('span');\n",
       "    status_bar.classList = 'mpl-message pull-right';\n",
       "    toolbar.appendChild(status_bar);\n",
       "    this.message = status_bar;\n",
       "\n",
       "    // Add the close button to the window.\n",
       "    var buttongrp = document.createElement('div');\n",
       "    buttongrp.classList = 'btn-group inline pull-right';\n",
       "    button = document.createElement('button');\n",
       "    button.classList = 'btn btn-mini btn-primary';\n",
       "    button.href = '#';\n",
       "    button.title = 'Stop Interaction';\n",
       "    button.innerHTML = '<i class=\"fa fa-power-off icon-remove icon-large\"></i>';\n",
       "    button.addEventListener('click', function (_evt) {\n",
       "        fig.handle_close(fig, {});\n",
       "    });\n",
       "    button.addEventListener(\n",
       "        'mouseover',\n",
       "        on_mouseover_closure('Stop Interaction')\n",
       "    );\n",
       "    buttongrp.appendChild(button);\n",
       "    var titlebar = this.root.querySelector('.ui-dialog-titlebar');\n",
       "    titlebar.insertBefore(buttongrp, titlebar.firstChild);\n",
       "};\n",
       "\n",
       "mpl.figure.prototype._remove_fig_handler = function (event) {\n",
       "    var fig = event.data.fig;\n",
       "    if (event.target !== this) {\n",
       "        // Ignore bubbled events from children.\n",
       "        return;\n",
       "    }\n",
       "    fig.close_ws(fig, {});\n",
       "};\n",
       "\n",
       "mpl.figure.prototype._root_extra_style = function (el) {\n",
       "    el.style.boxSizing = 'content-box'; // override notebook setting of border-box.\n",
       "};\n",
       "\n",
       "mpl.figure.prototype._canvas_extra_style = function (el) {\n",
       "    // this is important to make the div 'focusable\n",
       "    el.setAttribute('tabindex', 0);\n",
       "    // reach out to IPython and tell the keyboard manager to turn it's self\n",
       "    // off when our div gets focus\n",
       "\n",
       "    // location in version 3\n",
       "    if (IPython.notebook.keyboard_manager) {\n",
       "        IPython.notebook.keyboard_manager.register_events(el);\n",
       "    } else {\n",
       "        // location in version 2\n",
       "        IPython.keyboard_manager.register_events(el);\n",
       "    }\n",
       "};\n",
       "\n",
       "mpl.figure.prototype._key_event_extra = function (event, _name) {\n",
       "    // Check for shift+enter\n",
       "    if (event.shiftKey && event.which === 13) {\n",
       "        this.canvas_div.blur();\n",
       "        // select the cell after this one\n",
       "        var index = IPython.notebook.find_cell_index(this.cell_info[0]);\n",
       "        IPython.notebook.select(index + 1);\n",
       "    }\n",
       "};\n",
       "\n",
       "mpl.figure.prototype.handle_save = function (fig, _msg) {\n",
       "    fig.ondownload(fig, null);\n",
       "};\n",
       "\n",
       "mpl.find_output_cell = function (html_output) {\n",
       "    // Return the cell and output element which can be found *uniquely* in the notebook.\n",
       "    // Note - this is a bit hacky, but it is done because the \"notebook_saving.Notebook\"\n",
       "    // IPython event is triggered only after the cells have been serialised, which for\n",
       "    // our purposes (turning an active figure into a static one), is too late.\n",
       "    var cells = IPython.notebook.get_cells();\n",
       "    var ncells = cells.length;\n",
       "    for (var i = 0; i < ncells; i++) {\n",
       "        var cell = cells[i];\n",
       "        if (cell.cell_type === 'code') {\n",
       "            for (var j = 0; j < cell.output_area.outputs.length; j++) {\n",
       "                var data = cell.output_area.outputs[j];\n",
       "                if (data.data) {\n",
       "                    // IPython >= 3 moved mimebundle to data attribute of output\n",
       "                    data = data.data;\n",
       "                }\n",
       "                if (data['text/html'] === html_output) {\n",
       "                    return [cell, data, j];\n",
       "                }\n",
       "            }\n",
       "        }\n",
       "    }\n",
       "};\n",
       "\n",
       "// Register the function which deals with the matplotlib target/channel.\n",
       "// The kernel may be null if the page has been refreshed.\n",
       "if (IPython.notebook.kernel !== null) {\n",
       "    IPython.notebook.kernel.comm_manager.register_target(\n",
       "        'matplotlib',\n",
       "        mpl.mpl_figure_comm\n",
       "    );\n",
       "}\n"
      ],
      "text/plain": [
       "<IPython.core.display.Javascript object>"
      ]
     },
     "metadata": {},
     "output_type": "display_data"
    },
    {
     "data": {
      "text/html": [
       "<img src=\"data:image/png;base64,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\" width=\"600\">"
      ],
      "text/plain": [
       "<IPython.core.display.HTML object>"
      ]
     },
     "metadata": {},
     "output_type": "display_data"
    },
    {
     "data": {
      "application/vnd.jupyter.widget-view+json": {
       "model_id": "fa15482375144d5d9a811643888dd278",
       "version_major": 2,
       "version_minor": 0
      },
      "text/plain": [
       "interactive(children=(FloatSlider(value=0.0, description='theta', max=6.283185307179586, step=0.01), Output())…"
      ]
     },
     "metadata": {},
     "output_type": "display_data"
    }
   ],
   "source": [
    "\n",
    "def g(A, theta):\n",
    "    a, c = np.cos(theta), np.sin(theta)\n",
    "    x = np.linspace(0, a, 100)\n",
    "    y = np.linspace(0, c, 100)\n",
    "    b, d = A @ np.array([a,c])\n",
    "    z = np.linspace(0, b, 100)\n",
    "    w = np.linspace(0, d, 100)\n",
    "    return x, y, z, w\n",
    "\n",
    "fig, ax = plt.subplots(figsize=(6,6))\n",
    "xmin, xmax, ymin, ymax = -2, 2, -2, 2\n",
    "ax.set(xlim=(xmin-1, xmax+1), ylim=(ymin-1, ymax+1), aspect='equal')\n",
    "ax.spines['bottom'].set_position('zero')\n",
    "ax.spines['left'].set_position('zero')\n",
    "ax.spines['top'].set_visible(False)\n",
    "ax.spines['right'].set_visible(False)\n",
    "\n",
    "ax.set_xlabel('x', size=14, labelpad=-24, x=1.03)\n",
    "ax.set_ylabel('y', size=14, labelpad=-21, y=1.02, rotation=0)\n",
    "arrow_fmt = dict(markersize=4, color='black', clip_on=False)\n",
    "ax.plot((1), (0), marker='>', transform=ax.get_yaxis_transform(), **arrow_fmt)\n",
    "ax.plot((0), (1), marker='^', transform=ax.get_xaxis_transform(), **arrow_fmt)\n",
    "\n",
    "x, y, z, w = g(A, 0)\n",
    "line1, = ax.plot(x,y, color='red')\n",
    "line2, = ax.plot(z,w, color='green')\n",
    "\n",
    "angles = np.linspace(0, 2*np.pi, 100)\n",
    "crc = np.array([np.cos(angles), np.sin(angles)])\n",
    "elps = A @ crc\n",
    "ax.plot(crc[0,:], crc[1,:], color='red')\n",
    "ax.plot(elps[0,:], elps[1,:], color='green')\n",
    "\n",
    "def update(theta = 0):\n",
    "    x, y, z, w = g(A,theta)\n",
    "    print(\"x = \"+str(x[-1])+\",\"+str(y[-1]))\n",
    "    print(\"y = \"+str(z[-1])+\",\"+str(w[-1]))\n",
    "    line1.set_data(x, y)\n",
    "    line2.set_data(z, w)\n",
    "    fig.canvas.draw_idle()\n",
    "    \n",
    "interact(update, theta = (0, 2*np.pi, 0.01));"
   ]
  },
  {
   "cell_type": "markdown",
   "id": "6c8629b4",
   "metadata": {
    "slideshow": {
     "slide_type": "slide"
    }
   },
   "source": [
    "### Example: How to find eigenvalues and eigenvectors\n",
    "\n",
    "$$\n",
    "\\begin{aligned}\n",
    "A &= \\left[\\begin{matrix}0.8 & 0.3\\\\0.2 & 0.7\\end{matrix}\\right]\\\\\n",
    "A\\mathbf x &= \\lambda \\mathbf x\\\\\n",
    "&= \\lambda \\mathbf I \\mathbf x\\\\\n",
    "(A-\\lambda \\mathbf I)\\mathbf x &= \\mathbf 0 \n",
    "\\end{aligned}\n",
    "$$\n",
    "\n",
    "The important matrix now is\n",
    "\n",
    "$$\n",
    "A-\\lambda \\mathbf I = \\begin{bmatrix}\n",
    "0.8-\\lambda & 0.3\\\\\n",
    "0.2 & 0.7-\\lambda\n",
    "\\end{bmatrix}\n",
    "$$"
   ]
  },
  {
   "cell_type": "markdown",
   "id": "b511393c",
   "metadata": {},
   "source": [
    "We are looking for a value of $\\lambda$ such that\n",
    "$$\n",
    "(A-\\lambda \\mathbf I)\\mathbf x = \\mathbf 0 \n",
    "$$\n",
    "\n",
    "with $\\mathbf x \\neq \\mathbf 0$ (otherwise the equation would be trivial).\n",
    "\n",
    "It follows that $(A-\\lambda \\mathbf I)$ is not invertible. Hence:\n",
    "\n",
    "$$\n",
    "|(A-\\lambda \\mathbf I)| = 0\n",
    "$$\n",
    "\n",
    "Using the formula for the determinant of a $2\\times 2$ matrix:\n",
    "\n",
    "$$\n",
    "(0.8-\\lambda)(0.7-\\lambda) - 0.2\\times 0.3 = 0\n",
    "$$\n"
   ]
  },
  {
   "cell_type": "markdown",
   "id": "1f5dd9bd",
   "metadata": {
    "slideshow": {
     "slide_type": "slide"
    }
   },
   "source": [
    "Simplifying:\n",
    "\n",
    "$$\n",
    "\\begin{aligned}\n",
    "(0.8-\\lambda)(0.7-\\lambda) - 0.2\\times 0.3 &= 0\\\\\n",
    "\\lambda ^2 - 1.5\\lambda + 0.56 - 0.06 &= 0\\\\\n",
    "\\lambda^2 - 1.5\\lambda + 0.5 &= 0\n",
    "\\end{aligned}\n",
    "$$\n",
    "\n",
    "There is a formula for finding the solution of quadratic equations (https://en.wikipedia.org/wiki/Quadratic_equation):\n",
    "\n",
    "$$\n",
    "\\begin{aligned}\n",
    "\\lambda_{1/2} = \\frac{3}{4} \\pm \\sqrt{(\\frac{3}{4})^2-\\frac{1}{2}}\\\\\n",
    "&= \\frac{3}{4} \\pm \\sqrt{\\frac{9-8}{16}}\\\\\n",
    "&= \\frac{3}{4} \\pm \\sqrt{\\frac{1}{16}}\\\\\n",
    "&= \\frac{3}{4} \\pm \\frac{1}{4}\\\\\n",
    "\\lambda_1 &= 1\\\\\n",
    "\\lambda_2 &= 0.5\n",
    "\\end{aligned}\n",
    "$$\n",
    "\n",
    "$\\lambda_1$ and $\\lambda_2$ are the eigenvalues of $A$. Now let's find the corresponding eigenvectors."
   ]
  },
  {
   "cell_type": "markdown",
   "id": "1b565015",
   "metadata": {
    "slideshow": {
     "slide_type": "slide"
    }
   },
   "source": [
    "This amount to finding the nullspace of $A-\\lambda\\mathbf I$:\n",
    "\n",
    "- $\\lambda_1$\n",
    "\n",
    "$$\n",
    "\\begin{aligned}\n",
    "(A - \\lambda_1\\mathbf I)\\mathbf x_1 &= \\mathbf 0\\\\\n",
    "\\begin{bmatrix}\n",
    "-0.2 & 0.3\\\\\n",
    "0.2 & -0.3\n",
    "\\end{bmatrix}\\mathbf x_1 &= \\mathbf 0\\\\\n",
    "\\begin{bmatrix}\n",
    "-0.2 & 0.3\\\\\n",
    "0 & 0\n",
    "\\end{bmatrix}\\mathbf x_1 &= \\mathbf 0\\\\\n",
    "\\begin{bmatrix}\n",
    "1 & -1.5\\\\\n",
    "0 & 0\n",
    "\\end{bmatrix}\\mathbf x_1 &= \\mathbf 0\\\\\n",
    "\\mathbf x_1 &= \\begin{bmatrix}1.5\\\\1\\end{bmatrix}\n",
    "\\end{aligned}\n",
    "$$\n",
    "\n"
   ]
  },
  {
   "cell_type": "markdown",
   "id": "9b33c66b",
   "metadata": {
    "slideshow": {
     "slide_type": "slide"
    }
   },
   "source": [
    "\n",
    "- $\\lambda_2$\n",
    "\n",
    "$$\n",
    "\\begin{aligned}\n",
    "(A - \\lambda_2\\mathbf I)\\mathbf x_1 &= \\mathbf 0\\\\\n",
    "\\begin{bmatrix}\n",
    "0.3 & 0.3\\\\\n",
    "0.2 & 0.2\n",
    "\\end{bmatrix}\\mathbf x_2 &= \\mathbf 0\\\\\n",
    "\\begin{bmatrix}\n",
    "0.3 & 0.3\\\\\n",
    "0 & 0\n",
    "\\end{bmatrix}\\mathbf x_2 &= \\mathbf 0\\\\\n",
    "\\begin{bmatrix}\n",
    "1 & 1\\\\\n",
    "0 & 0\n",
    "\\end{bmatrix}\\mathbf x_2 &= \\mathbf 0\\\\\n",
    "\\mathbf x_2 &= \\begin{bmatrix}-1\\\\1\\end{bmatrix}\\\\\n",
    "\\end{aligned}\n",
    "$$"
   ]
  },
  {
   "cell_type": "markdown",
   "id": "6cd39819",
   "metadata": {
    "slideshow": {
     "slide_type": "slide"
    }
   },
   "source": [
    "$\\mathbf x_1$ is the eigenvector *corresponding to* $\\lambda_1$.\n",
    "\n",
    "$\\mathbf x_2$ is the eigenvector *corresponding to* $\\lambda_2$.\n",
    "\n",
    "Any non-zero multiples of $\\mathbf x_1, \\mathbf x_2$ are also eigenvectors. It is common practice to use normalized eigenvectors, i.e.\\ eigenvectors with length 1.\n",
    "\n",
    "$$\n",
    "\\begin{aligned}\n",
    "\\mathbf v_1 &= \\frac{\\mathbf x_1}{||\\mathbf x_1||}\\\\\n",
    "&= \\frac{1}{\\sqrt{13}}\\begin{bmatrix}3\\\\2\\end{bmatrix}\\\\\n",
    "\\mathbf v_2 &= \\frac{\\mathbf x_1}{||\\mathbf x_1||}\\\\\n",
    "&= \\frac{1}{\\sqrt{2}}\\begin{bmatrix}-1\\\\1\\end{bmatrix}\\\\\n",
    "\\end{aligned}\n",
    "$$"
   ]
  },
  {
   "cell_type": "code",
   "execution_count": 4,
   "id": "d201fdf4",
   "metadata": {
    "slideshow": {
     "slide_type": "slide"
    }
   },
   "outputs": [
    {
     "data": {
      "text/latex": [
       "$\\displaystyle \\left[\\begin{matrix}\\frac{4}{5} & \\frac{3}{10}\\\\\\frac{1}{5} & \\frac{7}{10}\\end{matrix}\\right]$"
      ],
      "text/plain": [
       "Matrix([\n",
       "[4/5, 3/10],\n",
       "[1/5, 7/10]])"
      ]
     },
     "execution_count": 4,
     "metadata": {},
     "output_type": "execute_result"
    }
   ],
   "source": [
    "A = Matrix([\n",
    "    [Rational(4,5), Rational(3,10)],\n",
    "    [Rational(1,5), Rational(7,10)]\n",
    "])\n",
    "A"
   ]
  },
  {
   "cell_type": "code",
   "execution_count": 5,
   "id": "d3d5c23c",
   "metadata": {},
   "outputs": [],
   "source": [
    "e1, e2 = A.eigenvects()"
   ]
  },
  {
   "cell_type": "code",
   "execution_count": 6,
   "id": "fd9bf523",
   "metadata": {},
   "outputs": [],
   "source": [
    "lambda1, _, v1 = e1"
   ]
  },
  {
   "cell_type": "code",
   "execution_count": 7,
   "id": "c8bf9c34",
   "metadata": {},
   "outputs": [
    {
     "data": {
      "text/latex": [
       "$\\displaystyle \\frac{1}{2}$"
      ],
      "text/plain": [
       "1/2"
      ]
     },
     "execution_count": 7,
     "metadata": {},
     "output_type": "execute_result"
    }
   ],
   "source": [
    "lambda1"
   ]
  },
  {
   "cell_type": "code",
   "execution_count": 8,
   "id": "f77ce6d4",
   "metadata": {},
   "outputs": [
    {
     "data": {
      "text/latex": [
       "$\\displaystyle \\left[\\begin{matrix}- \\frac{\\sqrt{2}}{2}\\\\\\frac{\\sqrt{2}}{2}\\end{matrix}\\right]$"
      ],
      "text/plain": [
       "Matrix([\n",
       "[-sqrt(2)/2],\n",
       "[ sqrt(2)/2]])"
      ]
     },
     "execution_count": 8,
     "metadata": {},
     "output_type": "execute_result"
    }
   ],
   "source": [
    "v1[0].normalized()"
   ]
  },
  {
   "cell_type": "code",
   "execution_count": 9,
   "id": "db0dc01c",
   "metadata": {},
   "outputs": [],
   "source": [
    "lambda2, _, v2 = e2"
   ]
  },
  {
   "cell_type": "code",
   "execution_count": 10,
   "id": "e1c383d6",
   "metadata": {},
   "outputs": [
    {
     "data": {
      "text/latex": [
       "$\\displaystyle 1$"
      ],
      "text/plain": [
       "1"
      ]
     },
     "execution_count": 10,
     "metadata": {},
     "output_type": "execute_result"
    }
   ],
   "source": [
    "lambda2"
   ]
  },
  {
   "cell_type": "code",
   "execution_count": 11,
   "id": "35f6dfd7",
   "metadata": {},
   "outputs": [
    {
     "data": {
      "text/latex": [
       "$\\displaystyle \\left[\\begin{matrix}\\frac{3 \\sqrt{13}}{13}\\\\\\frac{2 \\sqrt{13}}{13}\\end{matrix}\\right]$"
      ],
      "text/plain": [
       "Matrix([\n",
       "[3*sqrt(13)/13],\n",
       "[2*sqrt(13)/13]])"
      ]
     },
     "execution_count": 11,
     "metadata": {},
     "output_type": "execute_result"
    }
   ],
   "source": [
    "v2[0].normalized()"
   ]
  },
  {
   "cell_type": "code",
   "execution_count": 12,
   "id": "e0ade0b9",
   "metadata": {
    "slideshow": {
     "slide_type": "slide"
    }
   },
   "outputs": [
    {
     "data": {
      "text/plain": [
       "array([[0.8, 0.3],\n",
       "       [0.2, 0.7]])"
      ]
     },
     "execution_count": 12,
     "metadata": {},
     "output_type": "execute_result"
    }
   ],
   "source": [
    "A = np.array([\n",
    "    [0.8, 0.3],\n",
    "    [0.2, 0.7]\n",
    "])\n",
    "A"
   ]
  },
  {
   "cell_type": "code",
   "execution_count": 13,
   "id": "764134f7",
   "metadata": {},
   "outputs": [
    {
     "data": {
      "text/plain": [
       "(array([1. , 0.5]),\n",
       " array([[ 0.83205029, -0.70710678],\n",
       "        [ 0.5547002 ,  0.70710678]]))"
      ]
     },
     "execution_count": 13,
     "metadata": {},
     "output_type": "execute_result"
    }
   ],
   "source": [
    "np.linalg.eig(A)"
   ]
  },
  {
   "cell_type": "markdown",
   "id": "2955e66a",
   "metadata": {
    "slideshow": {
     "slide_type": "slide"
    }
   },
   "source": [
    "\n",
    "\n",
    "### Procedure to find eigenvalues and eigenvectors:\n",
    "\n",
    "1. Construct $A-\\lambda \\mathbf I$ with $\\lambda$ as unknown.\n",
    "2. Set $|A-\\lambda \\mathbf I| = 0$ and solve for $\\lambda$. All solutions are eigenvalues.\n",
    "3. For each solution for $\\lambda$, find the nullspace of $|A-\\lambda \\mathbf I| = 0$. Each vector in the nullspace is an eigenvector corresponding to this solution."
   ]
  },
  {
   "cell_type": "markdown",
   "id": "fbdc1706",
   "metadata": {},
   "source": [
    "##### Example 2: Projection matrix\n",
    "\n",
    "$$\n",
    "A = \\begin{bmatrix}\n",
    "\\frac{1}{2} & \\frac{1}{2}\\\\\n",
    "\\frac{1}{2} & \\frac{1}{2}\n",
    "\\end{bmatrix}\n",
    "$$\n",
    "\n",
    "- find eigenvalues\n",
    "\n",
    "$$\n",
    "\\begin{aligned}\n",
    "\\begin{vmatrix}\n",
    "\\frac{1}{2}-\\lambda & \\frac{1}{2}\\\\\n",
    "\\frac{1}{2} & \\frac{1}{2}-\\lambda\n",
    "\\end{vmatrix} &= 0\\\\\n",
    "(\\frac{1}{2}-\\lambda)^2 - \\frac{1}{4} &= 0\\\\\n",
    "\\lambda^2 -\\lambda &= 0\\\\\n",
    "\\lambda(\\lambda-1) &= 0\\\\\n",
    "\\lambda_1 &= 1\\\\\n",
    "\\lambda_2 &= 0\n",
    "\\end{aligned}\n",
    "$$"
   ]
  },
  {
   "cell_type": "markdown",
   "id": "0c700c06",
   "metadata": {
    "slideshow": {
     "slide_type": "slide"
    }
   },
   "source": [
    "- find eigenvectors\n",
    "\n",
    "    - $\\lambda_1$: \n",
    "    $$\n",
    "    \\begin{aligned}\n",
    "    \\begin{bmatrix}\n",
    "    -\\frac{1}{2} & \\frac{1}{2}\\\\\n",
    "    \\frac{1}{2} & -\\frac{1}{2}\n",
    "    \\end{bmatrix}\\mathbf x_1 &= \\mathbf 0\\\\\n",
    "    \\mathbf x_1 &= \\begin{bmatrix}1\\\\1\\end{bmatrix}\n",
    "    \\end{aligned}\n",
    "    $$\n",
    "    \n",
    "    - $\\lambda_2$:\n",
    "    $$\n",
    "    \\begin{aligned}\n",
    "    \\begin{bmatrix}\n",
    "    \\frac{1}{2} & \\frac{1}{2}\\\\\n",
    "    \\frac{1}{2} & \\frac{1}{2}\n",
    "    \\end{bmatrix}\\mathbf x_2 &= \\mathbf 0\\\\\n",
    "    \\mathbf x_2 &= \\begin{bmatrix}-1\\\\1\\end{bmatrix}\n",
    "    \\end{aligned}\n",
    "    $$"
   ]
  },
  {
   "cell_type": "markdown",
   "id": "a4ee7e80",
   "metadata": {
    "slideshow": {
     "slide_type": "slide"
    }
   },
   "source": [
    "##### Example 3: Reflection matrix\n",
    "\n",
    "$$\n",
    "A = \\begin{bmatrix}\n",
    "0 & 1\\\\\n",
    "1 & 0\n",
    "\\end{bmatrix}\n",
    "$$\n",
    "\n",
    "- find eigenvalues\n",
    "\n",
    "$$\n",
    "\\begin{aligned}\n",
    "\\begin{vmatrix}\n",
    "-\\lambda & 1\\\\\n",
    "1 & -\\lambda\n",
    "\\end{vmatrix} &= 0\\\\\n",
    "\\lambda^2-1 &= 0\\\\\n",
    "\\lambda^2 &= 1\\\\\n",
    "\\lambda_1 &= 1\\\\\n",
    "\\lambda_2 &= -1\n",
    "\\end{aligned}\n",
    "$$"
   ]
  },
  {
   "cell_type": "markdown",
   "id": "afb03c09",
   "metadata": {
    "slideshow": {
     "slide_type": "slide"
    }
   },
   "source": [
    "- find eigenvectors\n",
    "\n",
    "    - $\\lambda_1$: \n",
    "    $$\n",
    "    \\begin{aligned}\n",
    "    \\begin{bmatrix}\n",
    "    -1 & 1\\\\\n",
    "    1 & -1\n",
    "    \\end{bmatrix}\\mathbf x_1 &= \\mathbf 0\\\\\n",
    "    \\mathbf x_1 &= \\begin{bmatrix}1\\\\1\\end{bmatrix}\n",
    "    \\end{aligned}\n",
    "    $$\n",
    "    \n",
    "    - $\\lambda_2$:\n",
    "    $$\n",
    "    \\begin{aligned}\n",
    "    \\begin{bmatrix}\n",
    "    1 & 1\\\\\n",
    "    1 & 1\n",
    "    \\end{bmatrix}\\mathbf x_2 &= \\mathbf 0\\\\\n",
    "    \\mathbf x_2 &= \\begin{bmatrix}-1\\\\1\\end{bmatrix}\n",
    "    \\end{aligned}\n",
    "    $$"
   ]
  },
  {
   "cell_type": "markdown",
   "id": "054398bb",
   "metadata": {
    "slideshow": {
     "slide_type": "slide"
    }
   },
   "source": [
    "##### Example 4: Rotation matrix\n",
    "\n",
    "$$\n",
    "A = \\begin{bmatrix}\n",
    "\\frac{\\sqrt{2}}{2} & \\frac{\\sqrt{2}}{2}\\\\\n",
    "-\\frac{\\sqrt{2}}{2} & \\frac{\\sqrt{2}}{2}\n",
    "\\end{bmatrix}\n",
    "$$\n",
    "\n",
    "- find eigenvalues\n",
    "\n",
    "$$\n",
    "\\begin{aligned}\n",
    "\\begin{vmatrix}\n",
    "\\frac{\\sqrt{2}}{2}-\\lambda & \\frac{\\sqrt{2}}{2}\\\\\n",
    "-\\frac{\\sqrt{2}}{2} & \\frac{\\sqrt{2}}{2}-\\lambda\n",
    "\\end{vmatrix} &= 0\\\\\n",
    "(\\frac{\\sqrt{2}}{2}-\\lambda)^2 + \\frac{1}{2} &= 0\\\\\n",
    "\\lambda^2 - \\sqrt{2}\\lambda + 1 &= 0\\\\\n",
    "\\lambda_{1/2} &= \\frac{\\sqrt{2}}{2} \\pm \\sqrt{\\frac{1}{2} - 1}\\\\\n",
    " &= \\frac{\\sqrt{2}}{2} \\pm \\sqrt{-\\frac{1}{2}}\n",
    "\\end{aligned}\n",
    "$$\n",
    "\n",
    "**There is no solution within the real numbers!**\n",
    "\n",
    "(There are complex eigenvalues – and complex eigenvectors – for this matrix, but this is beyond the scope of this course.)"
   ]
  },
  {
   "cell_type": "markdown",
   "id": "b88fe023",
   "metadata": {
    "slideshow": {
     "slide_type": "slide"
    }
   },
   "source": [
    "##### Example 5: Multiple eigenvalues\n",
    "$$\n",
    "A = \\begin{bmatrix}\n",
    "1 & 0\\\\\n",
    "0 & 1\n",
    "\\end{bmatrix}\n",
    "$$\n",
    "\n",
    "- find eigenvalues\n",
    "\n",
    "$$\n",
    "\\begin{aligned}\n",
    "\\begin{vmatrix}\n",
    "1-\\lambda & 0\\\\\n",
    "0 & 1-\\lambda\n",
    "\\end{vmatrix} &= 0\\\\\n",
    "(1-\\lambda)^2 &= 0\\\\\n",
    "1-\\lambda &= 0\\\\\n",
    "\\lambda &= 1\n",
    "\\end{aligned}\n",
    "$$\n",
    "\n",
    "- find eigenvectors\n",
    "\n",
    "$$\n",
    "\\begin{bmatrix}\n",
    "0 & 0\\\\\n",
    "0 & 0\n",
    "\\end{bmatrix}\\mathbf x = \\mathbf 0\n",
    "$$\n",
    "\n",
    "**Any vector is an eigenvector of the identity matrix.**"
   ]
  },
  {
   "cell_type": "markdown",
   "id": "858ce872",
   "metadata": {
    "slideshow": {
     "slide_type": "slide"
    }
   },
   "source": [
    "##### Example 6: Defective eigenvalues\n",
    "\n",
    "$$\n",
    "A = \\begin{bmatrix}\n",
    "1 & 1\\\\\n",
    "0 & 1\n",
    "\\end{bmatrix}\n",
    "$$\n",
    "\n",
    "- find eigenvalues\n",
    "\n",
    "$$\n",
    "\\begin{aligned}\n",
    "\\begin{vmatrix}\n",
    "1-\\lambda & 1\\\\\n",
    "0 & 1-\\lambda\n",
    "\\end{vmatrix} &= 0\\\\\n",
    "(1-\\lambda)^2 &= 0\\\\\n",
    "1-\\lambda &= 0\\\\\n",
    "\\lambda &= 1\n",
    "\\end{aligned}\n",
    "$$\n",
    "\n",
    "- find eigenvectors\n",
    "\n",
    "$$\n",
    "\\begin{aligned}\n",
    "\\begin{bmatrix}\n",
    "0 & 1\\\\\n",
    "0 & 0\n",
    "\\end{bmatrix}\n",
    "\\mathbf x &= \\mathbf 0\\\\\n",
    "\\mathbf x &= \\begin{bmatrix}1\\\\0\\end{bmatrix}\n",
    "\\end{aligned}\n",
    "$$\n",
    "\n",
    "**This matrix has only one eigenvalue and one eigenvector.**"
   ]
  },
  {
   "cell_type": "markdown",
   "id": "cc9037e8",
   "metadata": {
    "slideshow": {
     "slide_type": "slide"
    }
   },
   "source": [
    "### Larger matrices\n",
    "\n",
    "$$\n",
    "A = \\begin{bmatrix}\n",
    "-1 & 2 & 2\\\\\n",
    "2 & 2 & -1\\\\\n",
    "2 & -1 & 2\n",
    "\\end{bmatrix}\n",
    "$$\n",
    "\n",
    "- finding eigenvalues\n",
    "\n",
    "$$\n",
    "\\begin{aligned}\n",
    "\\begin{vmatrix}\n",
    "-1-\\lambda & 2 & 2\\\\\n",
    "2 & 2-\\lambda & -1\\\\\n",
    "2 & -1 & 2-\\lambda\n",
    "\\end{vmatrix} &= 0\\\\\n",
    "(-1-\\lambda)(2-\\lambda)^2 -4 -4 -4(2-\\lambda)-4(2-\\lambda) + 1 + \\lambda &= 0\\\\\n",
    "-\\lambda^2+4\\lambda-4-\\lambda^3+4\\lambda^2-4\\lambda -4 -4 -8+4\\lambda-8+4\\lambda + 1 + \\lambda &= 0\\\\\n",
    "-\\lambda^3 + 3\\lambda^2 + 9\\lambda - 27&= 0\\\\\n",
    "\\lambda^3 - 3\\lambda^2 - 9\\lambda + 27&= 0\n",
    "\\end{aligned}\n",
    "$$\n"
   ]
  },
  {
   "cell_type": "markdown",
   "id": "8c916755",
   "metadata": {},
   "source": [
    "In the general case, solving a cubic equation by hand is very hard. In this particular example, the solution is:\n",
    "\n",
    "$$\n",
    "\\begin{aligned}\n",
    "\\lambda^3 - 3\\lambda^2 - 9\\lambda + 27 &= (\\lambda -3)^2 (\\lambda+3)\\\\\n",
    "\\lambda_1 &= 3\\\\\n",
    "\\lambda_2 &= -3\n",
    "\\end{aligned}\n",
    "$$\n",
    "\n"
   ]
  },
  {
   "cell_type": "markdown",
   "id": "16223894",
   "metadata": {
    "slideshow": {
     "slide_type": "slide"
    }
   },
   "source": [
    "\n",
    "\n",
    "- eigenvectors"
   ]
  },
  {
   "cell_type": "code",
   "execution_count": 14,
   "id": "ef01cfd0",
   "metadata": {},
   "outputs": [
    {
     "data": {
      "text/latex": [
       "$\\displaystyle \\left[\\begin{matrix}-1 & 2 & 2\\\\2 & 2 & -1\\\\2 & -1 & 2\\end{matrix}\\right]$"
      ],
      "text/plain": [
       "Matrix([\n",
       "[-1,  2,  2],\n",
       "[ 2,  2, -1],\n",
       "[ 2, -1,  2]])"
      ]
     },
     "execution_count": 14,
     "metadata": {},
     "output_type": "execute_result"
    }
   ],
   "source": [
    "A = Matrix([\n",
    "    [-1,2,2],\n",
    "    [2,2,-1],\n",
    "    [2,-1,2]\n",
    "])\n",
    "A"
   ]
  },
  {
   "cell_type": "code",
   "execution_count": 15,
   "id": "7018c0de",
   "metadata": {},
   "outputs": [
    {
     "data": {
      "text/plain": [
       "{-3: 1, 3: 2}"
      ]
     },
     "execution_count": 15,
     "metadata": {},
     "output_type": "execute_result"
    }
   ],
   "source": [
    "A.eigenvals()"
   ]
  },
  {
   "cell_type": "markdown",
   "id": "cc34ddc5",
   "metadata": {},
   "source": [
    "(In this dictionary, the keys are the eigenvalues and the values are the *algebraic multiplicity*.)"
   ]
  },
  {
   "cell_type": "code",
   "execution_count": 16,
   "id": "05ebe5ec",
   "metadata": {},
   "outputs": [],
   "source": [
    "e1, e2 = A.eigenvects()"
   ]
  },
  {
   "cell_type": "code",
   "execution_count": 17,
   "id": "26e73b6d",
   "metadata": {},
   "outputs": [
    {
     "data": {
      "text/latex": [
       "$\\displaystyle -3$"
      ],
      "text/plain": [
       "-3"
      ]
     },
     "execution_count": 17,
     "metadata": {},
     "output_type": "execute_result"
    }
   ],
   "source": [
    "e1[0]"
   ]
  },
  {
   "cell_type": "code",
   "execution_count": 18,
   "id": "86046c65",
   "metadata": {},
   "outputs": [
    {
     "data": {
      "text/latex": [
       "$\\displaystyle \\left[\\begin{matrix}-2\\\\1\\\\1\\end{matrix}\\right]$"
      ],
      "text/plain": [
       "Matrix([\n",
       "[-2],\n",
       "[ 1],\n",
       "[ 1]])"
      ]
     },
     "execution_count": 18,
     "metadata": {},
     "output_type": "execute_result"
    }
   ],
   "source": [
    "e1[2][0]"
   ]
  },
  {
   "cell_type": "code",
   "execution_count": 19,
   "id": "cf4b0d33",
   "metadata": {},
   "outputs": [
    {
     "data": {
      "text/latex": [
       "$\\displaystyle 3$"
      ],
      "text/plain": [
       "3"
      ]
     },
     "execution_count": 19,
     "metadata": {},
     "output_type": "execute_result"
    }
   ],
   "source": [
    "e2[0]"
   ]
  },
  {
   "cell_type": "code",
   "execution_count": 20,
   "id": "2c03d6f5",
   "metadata": {},
   "outputs": [
    {
     "data": {
      "text/latex": [
       "$\\displaystyle \\left[\\begin{matrix}\\frac{1}{2}\\\\1\\\\0\\end{matrix}\\right]$"
      ],
      "text/plain": [
       "Matrix([\n",
       "[1/2],\n",
       "[  1],\n",
       "[  0]])"
      ]
     },
     "execution_count": 20,
     "metadata": {},
     "output_type": "execute_result"
    }
   ],
   "source": [
    "e2[2][0]"
   ]
  },
  {
   "cell_type": "code",
   "execution_count": 21,
   "id": "755698f1",
   "metadata": {
    "slideshow": {
     "slide_type": "slide"
    }
   },
   "outputs": [
    {
     "data": {
      "text/latex": [
       "$\\displaystyle \\left[\\begin{matrix}\\frac{1}{2}\\\\0\\\\1\\end{matrix}\\right]$"
      ],
      "text/plain": [
       "Matrix([\n",
       "[1/2],\n",
       "[  0],\n",
       "[  1]])"
      ]
     },
     "execution_count": 21,
     "metadata": {},
     "output_type": "execute_result"
    }
   ],
   "source": [
    "e2[2][1]"
   ]
  },
  {
   "cell_type": "markdown",
   "id": "af548ac3",
   "metadata": {},
   "source": [
    "Note that there are two eigenvectors corresponding to the eigenvalue 3."
   ]
  },
  {
   "cell_type": "code",
   "execution_count": 22,
   "id": "cc2e3e5a",
   "metadata": {
    "slideshow": {
     "slide_type": "slide"
    }
   },
   "outputs": [
    {
     "data": {
      "text/latex": [
       "$\\displaystyle \\left[\\begin{matrix}-1 & 2 & 3\\\\4 & 5 & 6\\\\7 & 8 & 9\\end{matrix}\\right]$"
      ],
      "text/plain": [
       "Matrix([\n",
       "[-1, 2, 3],\n",
       "[ 4, 5, 6],\n",
       "[ 7, 8, 9]])"
      ]
     },
     "execution_count": 22,
     "metadata": {},
     "output_type": "execute_result"
    }
   ],
   "source": [
    "A = Matrix([\n",
    "    [-1,2,3],\n",
    "    [4,5,6],\n",
    "    [7,8,9]\n",
    "])\n",
    "A"
   ]
  },
  {
   "cell_type": "code",
   "execution_count": 23,
   "id": "ffeae032",
   "metadata": {},
   "outputs": [],
   "source": [
    "e1, e2, e3 = A.eigenvects()"
   ]
  },
  {
   "cell_type": "code",
   "execution_count": 24,
   "id": "d47eafce",
   "metadata": {},
   "outputs": [
    {
     "data": {
      "text/latex": [
       "$\\displaystyle \\frac{13}{3} + \\left(- \\frac{1}{2} - \\frac{\\sqrt{3} i}{2}\\right) \\sqrt[3]{\\frac{4969}{27} + \\frac{\\sqrt{471498} i}{9}} + \\frac{307}{9 \\left(- \\frac{1}{2} - \\frac{\\sqrt{3} i}{2}\\right) \\sqrt[3]{\\frac{4969}{27} + \\frac{\\sqrt{471498} i}{9}}}$"
      ],
      "text/plain": [
       "13/3 + (-1/2 - sqrt(3)*I/2)*(4969/27 + sqrt(471498)*I/9)**(1/3) + 307/(9*(-1/2 - sqrt(3)*I/2)*(4969/27 + sqrt(471498)*I/9)**(1/3))"
      ]
     },
     "execution_count": 24,
     "metadata": {},
     "output_type": "execute_result"
    }
   ],
   "source": [
    "e1[0]"
   ]
  },
  {
   "cell_type": "code",
   "execution_count": 25,
   "id": "ab31601e",
   "metadata": {
    "slideshow": {
     "slide_type": "slide"
    }
   },
   "outputs": [
    {
     "data": {
      "text/latex": [
       "$\\displaystyle \\left[\\begin{matrix}\\frac{306}{89} + \\frac{63 \\left(- \\frac{1}{2} - \\frac{\\sqrt{3} i}{2}\\right) \\sqrt[3]{\\frac{4969}{27} + \\frac{\\sqrt{471498} i}{9}}}{89} - \\frac{4 \\left(\\frac{13}{3} + \\left(- \\frac{1}{2} - \\frac{\\sqrt{3} i}{2}\\right) \\sqrt[3]{\\frac{4969}{27} + \\frac{\\sqrt{471498} i}{9}} + \\frac{307}{9 \\left(- \\frac{1}{2} - \\frac{\\sqrt{3} i}{2}\\right) \\sqrt[3]{\\frac{4969}{27} + \\frac{\\sqrt{471498} i}{9}}}\\right)^{2}}{89} + \\frac{2149}{89 \\left(- \\frac{1}{2} - \\frac{\\sqrt{3} i}{2}\\right) \\sqrt[3]{\\frac{4969}{27} + \\frac{\\sqrt{471498} i}{9}}}\\\\- \\frac{959}{267} - \\frac{13508}{801 \\left(- \\frac{1}{2} - \\frac{\\sqrt{3} i}{2}\\right) \\sqrt[3]{\\frac{4969}{27} + \\frac{\\sqrt{471498} i}{9}}} + \\frac{7 \\left(\\frac{13}{3} + \\left(- \\frac{1}{2} - \\frac{\\sqrt{3} i}{2}\\right) \\sqrt[3]{\\frac{4969}{27} + \\frac{\\sqrt{471498} i}{9}} + \\frac{307}{9 \\left(- \\frac{1}{2} - \\frac{\\sqrt{3} i}{2}\\right) \\sqrt[3]{\\frac{4969}{27} + \\frac{\\sqrt{471498} i}{9}}}\\right)^{2}}{178} - \\frac{44 \\left(- \\frac{1}{2} - \\frac{\\sqrt{3} i}{2}\\right) \\sqrt[3]{\\frac{4969}{27} + \\frac{\\sqrt{471498} i}{9}}}{89}\\\\1\\end{matrix}\\right]$"
      ],
      "text/plain": [
       "Matrix([\n",
       "[     306/89 + 63*(-1/2 - sqrt(3)*I/2)*(4969/27 + sqrt(471498)*I/9)**(1/3)/89 - 4*(13/3 + (-1/2 - sqrt(3)*I/2)*(4969/27 + sqrt(471498)*I/9)**(1/3) + 307/(9*(-1/2 - sqrt(3)*I/2)*(4969/27 + sqrt(471498)*I/9)**(1/3)))**2/89 + 2149/(89*(-1/2 - sqrt(3)*I/2)*(4969/27 + sqrt(471498)*I/9)**(1/3))],\n",
       "[-959/267 - 13508/(801*(-1/2 - sqrt(3)*I/2)*(4969/27 + sqrt(471498)*I/9)**(1/3)) + 7*(13/3 + (-1/2 - sqrt(3)*I/2)*(4969/27 + sqrt(471498)*I/9)**(1/3) + 307/(9*(-1/2 - sqrt(3)*I/2)*(4969/27 + sqrt(471498)*I/9)**(1/3)))**2/178 - 44*(-1/2 - sqrt(3)*I/2)*(4969/27 + sqrt(471498)*I/9)**(1/3)/89],\n",
       "[                                                                                                                                                                                                                                                                                               1]])"
      ]
     },
     "execution_count": 25,
     "metadata": {},
     "output_type": "execute_result"
    }
   ],
   "source": [
    "e1[2][0]"
   ]
  },
  {
   "cell_type": "code",
   "execution_count": 26,
   "id": "7087786e",
   "metadata": {
    "slideshow": {
     "slide_type": "slide"
    }
   },
   "outputs": [
    {
     "data": {
      "text/latex": [
       "$\\displaystyle \\frac{13}{3} + \\frac{307}{9 \\left(- \\frac{1}{2} + \\frac{\\sqrt{3} i}{2}\\right) \\sqrt[3]{\\frac{4969}{27} + \\frac{\\sqrt{471498} i}{9}}} + \\left(- \\frac{1}{2} + \\frac{\\sqrt{3} i}{2}\\right) \\sqrt[3]{\\frac{4969}{27} + \\frac{\\sqrt{471498} i}{9}}$"
      ],
      "text/plain": [
       "13/3 + 307/(9*(-1/2 + sqrt(3)*I/2)*(4969/27 + sqrt(471498)*I/9)**(1/3)) + (-1/2 + sqrt(3)*I/2)*(4969/27 + sqrt(471498)*I/9)**(1/3)"
      ]
     },
     "execution_count": 26,
     "metadata": {},
     "output_type": "execute_result"
    }
   ],
   "source": [
    "e2[0]"
   ]
  },
  {
   "cell_type": "code",
   "execution_count": 27,
   "id": "326fe5c5",
   "metadata": {},
   "outputs": [
    {
     "data": {
      "text/latex": [
       "$\\displaystyle \\left[\\begin{matrix}\\frac{306}{89} + \\frac{2149}{89 \\left(- \\frac{1}{2} + \\frac{\\sqrt{3} i}{2}\\right) \\sqrt[3]{\\frac{4969}{27} + \\frac{\\sqrt{471498} i}{9}}} - \\frac{4 \\left(\\frac{13}{3} + \\frac{307}{9 \\left(- \\frac{1}{2} + \\frac{\\sqrt{3} i}{2}\\right) \\sqrt[3]{\\frac{4969}{27} + \\frac{\\sqrt{471498} i}{9}}} + \\left(- \\frac{1}{2} + \\frac{\\sqrt{3} i}{2}\\right) \\sqrt[3]{\\frac{4969}{27} + \\frac{\\sqrt{471498} i}{9}}\\right)^{2}}{89} + \\frac{63 \\left(- \\frac{1}{2} + \\frac{\\sqrt{3} i}{2}\\right) \\sqrt[3]{\\frac{4969}{27} + \\frac{\\sqrt{471498} i}{9}}}{89}\\\\- \\frac{959}{267} - \\frac{44 \\left(- \\frac{1}{2} + \\frac{\\sqrt{3} i}{2}\\right) \\sqrt[3]{\\frac{4969}{27} + \\frac{\\sqrt{471498} i}{9}}}{89} + \\frac{7 \\left(\\frac{13}{3} + \\frac{307}{9 \\left(- \\frac{1}{2} + \\frac{\\sqrt{3} i}{2}\\right) \\sqrt[3]{\\frac{4969}{27} + \\frac{\\sqrt{471498} i}{9}}} + \\left(- \\frac{1}{2} + \\frac{\\sqrt{3} i}{2}\\right) \\sqrt[3]{\\frac{4969}{27} + \\frac{\\sqrt{471498} i}{9}}\\right)^{2}}{178} - \\frac{13508}{801 \\left(- \\frac{1}{2} + \\frac{\\sqrt{3} i}{2}\\right) \\sqrt[3]{\\frac{4969}{27} + \\frac{\\sqrt{471498} i}{9}}}\\\\1\\end{matrix}\\right]$"
      ],
      "text/plain": [
       "Matrix([\n",
       "[     306/89 + 2149/(89*(-1/2 + sqrt(3)*I/2)*(4969/27 + sqrt(471498)*I/9)**(1/3)) - 4*(13/3 + 307/(9*(-1/2 + sqrt(3)*I/2)*(4969/27 + sqrt(471498)*I/9)**(1/3)) + (-1/2 + sqrt(3)*I/2)*(4969/27 + sqrt(471498)*I/9)**(1/3))**2/89 + 63*(-1/2 + sqrt(3)*I/2)*(4969/27 + sqrt(471498)*I/9)**(1/3)/89],\n",
       "[-959/267 - 44*(-1/2 + sqrt(3)*I/2)*(4969/27 + sqrt(471498)*I/9)**(1/3)/89 + 7*(13/3 + 307/(9*(-1/2 + sqrt(3)*I/2)*(4969/27 + sqrt(471498)*I/9)**(1/3)) + (-1/2 + sqrt(3)*I/2)*(4969/27 + sqrt(471498)*I/9)**(1/3))**2/178 - 13508/(801*(-1/2 + sqrt(3)*I/2)*(4969/27 + sqrt(471498)*I/9)**(1/3))],\n",
       "[                                                                                                                                                                                                                                                                                               1]])"
      ]
     },
     "execution_count": 27,
     "metadata": {},
     "output_type": "execute_result"
    }
   ],
   "source": [
    "e2[2][0]"
   ]
  },
  {
   "cell_type": "code",
   "execution_count": 28,
   "id": "79d77dd9",
   "metadata": {
    "slideshow": {
     "slide_type": "slide"
    }
   },
   "outputs": [
    {
     "data": {
      "text/latex": [
       "$\\displaystyle \\frac{13}{3} + \\frac{307}{9 \\sqrt[3]{\\frac{4969}{27} + \\frac{\\sqrt{471498} i}{9}}} + \\sqrt[3]{\\frac{4969}{27} + \\frac{\\sqrt{471498} i}{9}}$"
      ],
      "text/plain": [
       "13/3 + 307/(9*(4969/27 + sqrt(471498)*I/9)**(1/3)) + (4969/27 + sqrt(471498)*I/9)**(1/3)"
      ]
     },
     "execution_count": 28,
     "metadata": {},
     "output_type": "execute_result"
    }
   ],
   "source": [
    "e3[0]"
   ]
  },
  {
   "cell_type": "code",
   "execution_count": 29,
   "id": "adc3ee71",
   "metadata": {},
   "outputs": [
    {
     "data": {
      "text/latex": [
       "$\\displaystyle \\left[\\begin{matrix}\\frac{306}{89} + \\frac{2149}{89 \\sqrt[3]{\\frac{4969}{27} + \\frac{\\sqrt{471498} i}{9}}} - \\frac{4 \\left(\\frac{13}{3} + \\frac{307}{9 \\sqrt[3]{\\frac{4969}{27} + \\frac{\\sqrt{471498} i}{9}}} + \\sqrt[3]{\\frac{4969}{27} + \\frac{\\sqrt{471498} i}{9}}\\right)^{2}}{89} + \\frac{63 \\sqrt[3]{\\frac{4969}{27} + \\frac{\\sqrt{471498} i}{9}}}{89}\\\\- \\frac{959}{267} - \\frac{44 \\sqrt[3]{\\frac{4969}{27} + \\frac{\\sqrt{471498} i}{9}}}{89} + \\frac{7 \\left(\\frac{13}{3} + \\frac{307}{9 \\sqrt[3]{\\frac{4969}{27} + \\frac{\\sqrt{471498} i}{9}}} + \\sqrt[3]{\\frac{4969}{27} + \\frac{\\sqrt{471498} i}{9}}\\right)^{2}}{178} - \\frac{13508}{801 \\sqrt[3]{\\frac{4969}{27} + \\frac{\\sqrt{471498} i}{9}}}\\\\1\\end{matrix}\\right]$"
      ],
      "text/plain": [
       "Matrix([\n",
       "[     306/89 + 2149/(89*(4969/27 + sqrt(471498)*I/9)**(1/3)) - 4*(13/3 + 307/(9*(4969/27 + sqrt(471498)*I/9)**(1/3)) + (4969/27 + sqrt(471498)*I/9)**(1/3))**2/89 + 63*(4969/27 + sqrt(471498)*I/9)**(1/3)/89],\n",
       "[-959/267 - 44*(4969/27 + sqrt(471498)*I/9)**(1/3)/89 + 7*(13/3 + 307/(9*(4969/27 + sqrt(471498)*I/9)**(1/3)) + (4969/27 + sqrt(471498)*I/9)**(1/3))**2/178 - 13508/(801*(4969/27 + sqrt(471498)*I/9)**(1/3))],\n",
       "[                                                                                                                                                                                                           1]])"
      ]
     },
     "execution_count": 29,
     "metadata": {},
     "output_type": "execute_result"
    }
   ],
   "source": [
    "e3[2][0]"
   ]
  },
  {
   "cell_type": "code",
   "execution_count": 30,
   "id": "7857cb6d",
   "metadata": {},
   "outputs": [
    {
     "data": {
      "text/latex": [
       "$\\displaystyle \\left[\\begin{matrix}0 & -3 & 2 & -1\\\\-3 & 9 & -6 & 3\\\\2 & -6 & 4 & -2\\\\-1 & 3 & -2 & 2\\end{matrix}\\right]$"
      ],
      "text/plain": [
       "Matrix([\n",
       "[ 0, -3,  2, -1],\n",
       "[-3,  9, -6,  3],\n",
       "[ 2, -6,  4, -2],\n",
       "[-1,  3, -2,  2]])"
      ]
     },
     "execution_count": 30,
     "metadata": {},
     "output_type": "execute_result"
    }
   ],
   "source": [
    "A = Matrix([\n",
    "    [0,-3,2,-1],\n",
    "    [-3,9,-6,3],\n",
    "    [2,-6,4,-2],\n",
    "    [-1, 3, -2, 2]\n",
    "])\n",
    "A"
   ]
  },
  {
   "cell_type": "code",
   "execution_count": 31,
   "id": "9b560343",
   "metadata": {
    "slideshow": {
     "slide_type": "slide"
    }
   },
   "outputs": [
    {
     "data": {
      "text/plain": [
       "[(0,\n",
       "  1,\n",
       "  [Matrix([\n",
       "   [  0],\n",
       "   [2/3],\n",
       "   [  1],\n",
       "   [  0]])]),\n",
       " (5 + (-1/2 - sqrt(3)*I/2)*(121 + sqrt(131007)*I/9)**(1/3) + 76/(3*(-1/2 - sqrt(3)*I/2)*(121 + sqrt(131007)*I/9)**(1/3)),\n",
       "  1,\n",
       "  [Matrix([\n",
       "   [             -66 - 1216/(3*(-1/2 - sqrt(3)*I/2)*(121 + sqrt(131007)*I/9)**(1/3)) + (5 + (-1/2 - sqrt(3)*I/2)*(121 + sqrt(131007)*I/9)**(1/3) + 76/(3*(-1/2 - sqrt(3)*I/2)*(121 + sqrt(131007)*I/9)**(1/3)))**2 - 16*(-1/2 - sqrt(3)*I/2)*(121 + sqrt(131007)*I/9)**(1/3)],\n",
       "   [-189/13 - 1140/(13*(-1/2 - sqrt(3)*I/2)*(121 + sqrt(131007)*I/9)**(1/3)) + 3*(5 + (-1/2 - sqrt(3)*I/2)*(121 + sqrt(131007)*I/9)**(1/3) + 76/(3*(-1/2 - sqrt(3)*I/2)*(121 + sqrt(131007)*I/9)**(1/3)))**2/13 - 45*(-1/2 - sqrt(3)*I/2)*(121 + sqrt(131007)*I/9)**(1/3)/13],\n",
       "   [  126/13 + 30*(-1/2 - sqrt(3)*I/2)*(121 + sqrt(131007)*I/9)**(1/3)/13 - 2*(5 + (-1/2 - sqrt(3)*I/2)*(121 + sqrt(131007)*I/9)**(1/3) + 76/(3*(-1/2 - sqrt(3)*I/2)*(121 + sqrt(131007)*I/9)**(1/3)))**2/13 + 760/(13*(-1/2 - sqrt(3)*I/2)*(121 + sqrt(131007)*I/9)**(1/3))],\n",
       "   [                                                                                                                                                                                                                                                                       1]])]),\n",
       " (5 + 76/(3*(-1/2 + sqrt(3)*I/2)*(121 + sqrt(131007)*I/9)**(1/3)) + (-1/2 + sqrt(3)*I/2)*(121 + sqrt(131007)*I/9)**(1/3),\n",
       "  1,\n",
       "  [Matrix([\n",
       "   [             -66 - 16*(-1/2 + sqrt(3)*I/2)*(121 + sqrt(131007)*I/9)**(1/3) + (5 + 76/(3*(-1/2 + sqrt(3)*I/2)*(121 + sqrt(131007)*I/9)**(1/3)) + (-1/2 + sqrt(3)*I/2)*(121 + sqrt(131007)*I/9)**(1/3))**2 - 1216/(3*(-1/2 + sqrt(3)*I/2)*(121 + sqrt(131007)*I/9)**(1/3))],\n",
       "   [-189/13 - 45*(-1/2 + sqrt(3)*I/2)*(121 + sqrt(131007)*I/9)**(1/3)/13 + 3*(5 + 76/(3*(-1/2 + sqrt(3)*I/2)*(121 + sqrt(131007)*I/9)**(1/3)) + (-1/2 + sqrt(3)*I/2)*(121 + sqrt(131007)*I/9)**(1/3))**2/13 - 1140/(13*(-1/2 + sqrt(3)*I/2)*(121 + sqrt(131007)*I/9)**(1/3))],\n",
       "   [  126/13 + 760/(13*(-1/2 + sqrt(3)*I/2)*(121 + sqrt(131007)*I/9)**(1/3)) - 2*(5 + 76/(3*(-1/2 + sqrt(3)*I/2)*(121 + sqrt(131007)*I/9)**(1/3)) + (-1/2 + sqrt(3)*I/2)*(121 + sqrt(131007)*I/9)**(1/3))**2/13 + 30*(-1/2 + sqrt(3)*I/2)*(121 + sqrt(131007)*I/9)**(1/3)/13],\n",
       "   [                                                                                                                                                                                                                                                                       1]])]),\n",
       " (5 + 76/(3*(121 + sqrt(131007)*I/9)**(1/3)) + (121 + sqrt(131007)*I/9)**(1/3),\n",
       "  1,\n",
       "  [Matrix([\n",
       "   [             -66 - 16*(121 + sqrt(131007)*I/9)**(1/3) + (5 + 76/(3*(121 + sqrt(131007)*I/9)**(1/3)) + (121 + sqrt(131007)*I/9)**(1/3))**2 - 1216/(3*(121 + sqrt(131007)*I/9)**(1/3))],\n",
       "   [-189/13 - 45*(121 + sqrt(131007)*I/9)**(1/3)/13 + 3*(5 + 76/(3*(121 + sqrt(131007)*I/9)**(1/3)) + (121 + sqrt(131007)*I/9)**(1/3))**2/13 - 1140/(13*(121 + sqrt(131007)*I/9)**(1/3))],\n",
       "   [  126/13 + 760/(13*(121 + sqrt(131007)*I/9)**(1/3)) - 2*(5 + 76/(3*(121 + sqrt(131007)*I/9)**(1/3)) + (121 + sqrt(131007)*I/9)**(1/3))**2/13 + 30*(121 + sqrt(131007)*I/9)**(1/3)/13],\n",
       "   [                                                                                                                                                                                   1]])])]"
      ]
     },
     "execution_count": 31,
     "metadata": {},
     "output_type": "execute_result"
    }
   ],
   "source": [
    "A.eigenvects()"
   ]
  },
  {
   "cell_type": "markdown",
   "id": "1d35b521",
   "metadata": {
    "slideshow": {
     "slide_type": "slide"
    }
   },
   "source": [
    "### Facts about eigenvalues and eigenvectors\n",
    "\n",
    "- An $n\\times n$ matrix has between 0 and $n$ eigenvalues.\n",
    "- Each eigenvalue has a certain *algebraic multiplicity* between $1$ and $n$.\n",
    "- The sum of the algebraic multiplicities is $\\leq n$.\n",
    "- For each eigenvalue, there is a number $k$ of eigenvectors. $k$ is between $1$ and the algebraic multiplicity of the eigenvalue.\n",
    "- The number of eigenvectors for an eigenvalue is called its *geometric multiplicity*."
   ]
  },
  {
   "cell_type": "markdown",
   "id": "d0476bfd",
   "metadata": {
    "slideshow": {
     "slide_type": "slide"
    }
   },
   "source": [
    "## Eigenspaces\n",
    "\n",
    "\n",
    "- **Eigenspaces** are fundamental concepts in linear algebra, associated with eigenvalues and eigenvectors of a matrix.\n",
    "- **Definition:** The eigenspace of an eigenvalue is the set of all vectors that, when multiplied by the matrix, result in a vector that is a scalar multiple of the original vector.\n",
    "- **Mathematically:** If $A$ is a matrix and λ is an eigenvalue, then the eigenspace of λ is the set of all vectors \n",
    "$\\mathbf v$ satisfying \n",
    "$$\n",
    "A\\mathbf v=λ\\mathbf v\n",
    "$$\n"
   ]
  },
  {
   "cell_type": "markdown",
   "id": "83e1aee6",
   "metadata": {
    "slideshow": {
     "slide_type": "slide"
    }
   },
   "source": [
    "### Computing Eigenspaces\n",
    "\n",
    "To find the eigenspace of an eigenvalue:\n",
    "\n",
    "1. **Determine Eigenvalues**: Solve $ \\det(A - \\lambda I) = 0 $ to find the eigenvalues $\\lambda$.\n",
    "2. **Find Eigenvectors**: Solve $ (A - \\lambda I)\\mathbf v = 0 $ for each eigenvalue to find the corresponding eigenvectors $ \\mathbf v $.\n",
    "3. **Form Eigenspace**: The set of all eigenvectors, including the zero vector, forms the eigenspace for the eigenvalue.\n",
    "\n",
    "**Example**: For matrix $ A $ and eigenvalue $ \\lambda $, the eigenspace is the solution to $ A\\mathbf v = \\lambda \\mathbf v $.\n"
   ]
  },
  {
   "cell_type": "markdown",
   "id": "eca72ca6",
   "metadata": {
    "slideshow": {
     "slide_type": "slide"
    }
   },
   "source": [
    "### Properties and Applications of Eigenspaces\n",
    "\n",
    "**Properties**:\n",
    "- The eigenspace of an eigenvalue is a linear subspace.\n",
    "- Dimension of the eigenspace is the geometric multiplicity of the eigenvalue.\n",
    "\n",
    "**Applications**:\n",
    "- Used in diagonalization of matrices.\n",
    "- Important in fields like quantum mechanics, vibrations analysis, facial recognition, and more.\n",
    "\n",
    "**Conclusion**: Understanding eigenspaces is crucial for grasping the behavior of linear transformations and matrices.\n"
   ]
  },
  {
   "cell_type": "markdown",
   "id": "b7fcb3e9",
   "metadata": {
    "slideshow": {
     "slide_type": "slide"
    }
   },
   "source": [
    "### Triangular matrices\n",
    "\n",
    "$$\n",
    "\\begin{aligned}\n",
    "A &= \n",
    "\\begin{bmatrix}\n",
    "1 & 4 & 1\\\\\n",
    "0 & 6 & 4\\\\\n",
    "0 & 0 & 2\n",
    "\\end{bmatrix}\\\\\n",
    "A -\\lambda \\mathbf I &= \n",
    "\\begin{vmatrix}\n",
    "1-\\lambda & 4 & 1\\\\\n",
    "0 & 6-\\lambda & 4\\\\\n",
    "0 & 0 & 2-\\lambda \n",
    "\\end{vmatrix}\\\\\n",
    "&= 0\\\\\n",
    "(1-\\lambda)(6-\\lambda)(2-\\lambda) &= 0\\\\\n",
    "\\lambda_1 &= 6\\\\\n",
    "\\lambda_2 &= 2\\\\\n",
    "\\lambda_3 &= 1\n",
    "\\end{aligned}\n",
    "$$\n",
    "\n",
    "**In triangular matrices, the diagonal entries are the eigenvalues.**"
   ]
  },
  {
   "cell_type": "markdown",
   "id": "8ffe177c",
   "metadata": {
    "slideshow": {
     "slide_type": "slide"
    }
   },
   "source": [
    "## Matrix diagonalization\n",
    "\n",
    "Let $A$ be an $n\\times n$ matrix, which has $n$ **linearly independent eigenvectors** $\\mathbf v_1,\\ldots, \\mathbf v_n$. (This means that the algebraic and the geometric multiplicities both sum up to $n$.)\n",
    "\n",
    "Let \n",
    "\n",
    "$$\n",
    "V = \\begin{bmatrix}\n",
    "| & \\cdots & |\\\\\n",
    "\\mathbf v_1&\\cdots & \\mathbf v_n\\\\\n",
    "| & \\cdots & |\\\\\n",
    "\\end{bmatrix}\n",
    "$$\n",
    "\n",
    "Let $\\lambda_1, \\ldots, \\lambda_n$ be the corresponding eigenvalues.\n",
    "\n",
    "$$\n",
    "\\begin{aligned}\n",
    "A\\mathbf v_1 &= \\lambda_1 \\mathbf v_1\\\\\n",
    " & \\vdots \\\\\n",
    "A\\mathbf v_n &= \\lambda_1 \\mathbf v_n\n",
    "\\end{aligned}\n",
    "$$\n",
    "\n"
   ]
  },
  {
   "cell_type": "markdown",
   "id": "53e48cbd",
   "metadata": {
    "slideshow": {
     "slide_type": "slide"
    }
   },
   "source": [
    "In matrix notation:\n",
    "\n",
    "$$\n",
    "\\begin{aligned}\n",
    "A\\begin{bmatrix}\n",
    "| & \\cdots & |\\\\\n",
    "\\mathbf v_1&\\cdots & \\mathbf v_n\\\\\n",
    "| & \\cdots & |\\\\\n",
    "\\end{bmatrix} &= \n",
    "\\begin{bmatrix}\n",
    "| & \\cdots & |\\\\\n",
    "\\mathbf \\lambda_1 v_1&\\cdots & \\lambda_n \\mathbf v_n\\\\\n",
    "| & \\cdots & |\\\\\n",
    "\\end{bmatrix}\\\\\n",
    "AV &= \\begin{bmatrix}\n",
    "| & \\cdots & |\\\\\n",
    "\\mathbf \\lambda_1 v_1&\\cdots & \\lambda_n \\mathbf v_n\\\\\n",
    "| & \\cdots & |\\\\\n",
    "\\end{bmatrix}\\\\\n",
    "AV &= V\\begin{bmatrix}\n",
    "\\lambda_1 & \\cdots & 0\\\\\n",
    "0 & \\ddots & 0\\\\\n",
    "0 & \\cdots & \\lambda_n\n",
    "\\end{bmatrix}\n",
    "\\end{aligned}\n",
    "$$\n"
   ]
  },
  {
   "cell_type": "markdown",
   "id": "6f38257c",
   "metadata": {
    "slideshow": {
     "slide_type": "slide"
    }
   },
   "source": [
    "Let $\\Lambda$ be the diagonal matrix with $\\lambda_1,\\ldots,\\lambda_n$ as diagonal entries.\n",
    "\n",
    "$$\n",
    "AV = V\\Lambda\n",
    "$$\n",
    "\n",
    "By assumption, $V$ has independent columns, so it is invertible. Therefore\n",
    "\n",
    "$$\n",
    "A = V\\Lambda V^{-1}\n",
    "$$\n",
    "\n",
    "It also holds that:\n",
    "\n",
    "$$\n",
    "V^{-1}AV = \\Lambda\n",
    "$$\n",
    "\n",
    "This operation is called **diagonalization** of $A$, since $A$ is converted to a diagonal matrix."
   ]
  },
  {
   "cell_type": "markdown",
   "id": "22491cad",
   "metadata": {
    "slideshow": {
     "slide_type": "slide"
    }
   },
   "source": [
    "### Example\n",
    "\n",
    "$$\n",
    "\\begin{aligned}\n",
    "A &= \\left[\\begin{matrix}0.8 & 0.3\\\\0.2 & 0.7\\end{matrix}\\right]\\\\\n",
    "V &= \n",
    "\\begin{bmatrix}\n",
    "3 & -1\\\\\n",
    "2 & 1\n",
    "\\end{bmatrix}\\\\\n",
    "\\Lambda &= \\begin{bmatrix}\n",
    "1 & 0\\\\\n",
    "0 & 0.5\n",
    "\\end{bmatrix}\\\\\n",
    "V^{-1} &= \n",
    "\\begin{bmatrix}\n",
    "0.2 & 0.2\\\\\n",
    "-0.4 & 0.6\n",
    "\\end{bmatrix}\\\\\n",
    "A &= V \\Lambda V^{-1}\\\\\n",
    "\\left[\\begin{matrix}0.8 & 0.3\\\\0.2 & 0.7\\end{matrix}\\right] &=\n",
    "\\begin{bmatrix}\n",
    "3 & -1\\\\\n",
    "2 & 1\n",
    "\\end{bmatrix}\\begin{bmatrix}\n",
    "1 & 0\\\\\n",
    "0 & 0.5\n",
    "\\end{bmatrix}\\begin{bmatrix}\n",
    "0.2 & 0.2\\\\\n",
    "-0.4 & 0.6\n",
    "\\end{bmatrix}\\\\\n",
    "\\Lambda &= V^{-1}AV\\\\\n",
    "\\begin{bmatrix}\n",
    "1 & 0\\\\\n",
    "0 & 0.5\n",
    "\\end{bmatrix} &= \\begin{bmatrix}\n",
    "0.2 & 0.2\\\\\n",
    "-0.4 & 0.6\n",
    "\\end{bmatrix}\\left[\\begin{matrix}0.8 & 0.3\\\\0.2 & 0.7\\end{matrix}\\right]\\begin{bmatrix}\n",
    "3 & -1\\\\\n",
    "2 & 1\n",
    "\\end{bmatrix}\n",
    "\\end{aligned}\n",
    "$$\n"
   ]
  },
  {
   "cell_type": "markdown",
   "id": "599fed3f",
   "metadata": {
    "slideshow": {
     "slide_type": "slide"
    }
   },
   "source": [
    "### Matrix power\n",
    "\n",
    "Suppose $\\lambda, \\mathbf v$ are an eigenvalue and a corresponding eigenvector of $A$.\n",
    "\n",
    "$$\n",
    "\\begin{aligned}\n",
    "A\\mathbf v &= \\lambda \\mathbf v\\\\\n",
    "A^2\\mathbf v &= A\\lambda \\mathbf v\\\\\n",
    "&= \\lambda A\\mathbf v\\\\\n",
    "&= \\lambda ^2 \\mathbf v\n",
    "\\end{aligned}\n",
    "$$\n",
    "\n",
    "$\\mathbf v$ is also an eigenvector of $A^2$, and $\\lambda^2$ is the corresponding eigenvalue.\n",
    "\n",
    "Likewise, $\\mathbf v$ is also an eigenvector of $A^k$, and $\\lambda^k$ is the corresponding eigenvalue."
   ]
  },
  {
   "cell_type": "markdown",
   "id": "7e5a0876",
   "metadata": {
    "slideshow": {
     "slide_type": "slide"
    }
   },
   "source": [
    "### Matrix power\n",
    "\n",
    "Suppose $A$ is diagonalizable.\n",
    "\n",
    "$$\n",
    "\\begin{aligned}\n",
    "A &= V\\Lambda V^{-1}\\\\\n",
    "A^2 &= V\\Lambda V^{-1}V\\Lambda V^{-1}\\\\\n",
    "&= V\\Lambda^2V^{-1}\\\\\n",
    "&\\vdots\\\\\n",
    "A^k &= V\\Lambda^nV^{-1}\\\\\n",
    "&= V\n",
    "\\begin{bmatrix}\n",
    "\\lambda_1^k & \\cdots & 0\\\\\n",
    "0 & \\ddots & 0\\\\\n",
    "0 & \\cdots & \\lambda_n^k\n",
    "\\end{bmatrix}\n",
    "V^{-1}\\\\\n",
    "\\end{aligned}\n",
    "$$\n",
    "\n"
   ]
  },
  {
   "cell_type": "markdown",
   "id": "43f8a52f",
   "metadata": {
    "slideshow": {
     "slide_type": "slide"
    }
   },
   "source": [
    "### Matrix inverse\n",
    "\n",
    "Suppose $A$ is a invertible matrix, $\\lambda$ is an eigenvalue, and $\\mathbf v$ a corresponding eigenvector .\n",
    "\n",
    "$$\n",
    "\\begin{aligned}\n",
    "A^{-1}A &= \\mathbf I\\\\\n",
    "A^{-1}A\\mathbf v &= \\mathbf v\\\\\n",
    "A^{-1}\\lambda\\mathbf v &= \\mathbf v\\\\\n",
    "A^{-1}\\mathbf v &= \\lambda^{-1}\\mathbf v\\\\\n",
    "\\end{aligned}\n",
    "$$\n",
    "\n",
    "- $\\mathbf v$ is also an eigenvector of $A^{-1}$.\n",
    "- The corresponding eigenvalue is $\\lambda^{-1}$.\n",
    "\n",
    "If $A$ is also diagonlizabe as $A = P\\Lambda P^{-1}$, then\n",
    "\n",
    "$$\n",
    "A^{-1} = P \\Lambda^{-1}P^{-1}\n",
    "$$\n"
   ]
  },
  {
   "cell_type": "markdown",
   "id": "68ab6a88",
   "metadata": {
    "slideshow": {
     "slide_type": "slide"
    }
   },
   "source": [
    "## Matrix exponential\n",
    "\n",
    "If $A$ is diagonalizable:\n",
    "\n",
    "$$\n",
    "e^A = V\n",
    "\\begin{bmatrix}\n",
    "e^\\lambda_1 & \\cdots & 0\\\\\n",
    "0 & \\ddots & 0\\\\\n",
    "0 & \\cdots & ^e\\lambda_n\n",
    "\\end{bmatrix}\n",
    "V^{-1}\\\\\n",
    "$$\n",
    "\n"
   ]
  },
  {
   "cell_type": "markdown",
   "id": "f4f9b580",
   "metadata": {
    "slideshow": {
     "slide_type": "slide"
    }
   },
   "source": [
    "## Defective matrices\n",
    "\n",
    "**Defective Matrices** are square matrices that lack a complete set of linearly independent eigenvectors.\n",
    "\n",
    "- **Characteristics**:\n",
    "  - Cannot be diagonalized.\n",
    "  - The geometric multiplicity of at least one eigenvalue is less than its algebraic multiplicity.\n",
    "- **Implications**:\n",
    "  - Standard techniques like diagonalization are not directly applicable.\n",
    "  - Requires alternative methods for analysis, like Jordan canonical form."
   ]
  },
  {
   "cell_type": "markdown",
   "id": "d26a542e",
   "metadata": {
    "slideshow": {
     "slide_type": "slide"
    }
   },
   "source": [
    "### Algebraic vs Geometric Multiplicity\n",
    "\n",
    "The concept of a defective matrix is rooted in the difference between algebraic and geometric multiplicities of eigenvalues.\n",
    "\n",
    "- **Algebraic Multiplicity**: The number of times an eigenvalue appears as a root of the characteristic polynomial.\n",
    "- **Geometric Multiplicity**: The number of linearly independent eigenvectors associated with an eigenvalue (= the dimensionality of the corresponding eigenspace).\n",
    "\n",
    "**Defective Matrix Criterion**: A matrix is defective if, for any eigenvalue, its geometric multiplicity is less than its algebraic multiplicity.\n"
   ]
  },
  {
   "cell_type": "markdown",
   "id": "7374f6ed",
   "metadata": {
    "slideshow": {
     "slide_type": "slide"
    }
   },
   "source": [
    "### Diagonalization and Defective Matrices\n",
    "\n",
    "Diagonalization is a key concept in understanding defective matrices.\n",
    "\n",
    "- **Diagonalizable Matrix**: Can be expressed as $$P^{-1}AP = \\Lambda,$$ where $ A $ is the matrix, $ P $ contains the eigenvectors, and $ \\Lambda $ is a diagonal matrix of eigenvalues.\n",
    "- **Defective Matrix**: Lacks enough linearly independent eigenvectors to form matrix $ P $, making diagonalization impossible.\n",
    "\n",
    "**Result**: Alternative methods, like *Jordan canonical form*, are needed to analyze defective matrices.\n"
   ]
  },
  {
   "cell_type": "markdown",
   "id": "0f72f4ba",
   "metadata": {
    "slideshow": {
     "slide_type": "slide"
    }
   },
   "source": [
    "### Example of a Defective Matrix\n",
    "\n",
    "Consider the matrix $$ A = \\begin{pmatrix} 5 & 4 \\\\ -1 & 1 \\end{pmatrix} $$.\n",
    "\n",
    "- **Characteristic Polynomial**: $$ (5 - \\lambda)(1 - \\lambda) + 4,$$ leads to a single eigenvalue $\\lambda = 3$ with algebraic multiplicity 2.\n",
    "- **Eigenvectors**: Solving $$(A - 3I)\\mathbf v = 0$$ yields only one linearly independent eigenvector, $\\begin{pmatrix}-2\\\\1\\end{pmatrix}$.\n",
    "\n",
    "**Conclusion**: Matrix $A$ is defective as it has fewer linearly independent eigenvectors than the algebraic multiplicity of its eigenvalue."
   ]
  },
  {
   "cell_type": "markdown",
   "id": "1f72ddd9",
   "metadata": {
    "slideshow": {
     "slide_type": "slide"
    }
   },
   "source": [
    "### Working with Defective Matrices\n",
    "\n",
    "Handling defective matrices requires alternative approaches:\n",
    "\n",
    "- **Jordan Canonical Form**: A way to bring matrices to a nearly diagonal form, useful for defective matrices.\n",
    "- **Applications**:\n",
    "  - In fields where diagonalization is crucial but not directly applicable.\n",
    "  - In studying systems with complex or repeated eigenvalues.\n",
    "\n",
    "\n"
   ]
  },
  {
   "cell_type": "markdown",
   "id": "e70a72fd",
   "metadata": {
    "slideshow": {
     "slide_type": "slide"
    }
   },
   "source": [
    "### Jordan Canonical Form: An Introduction\n",
    "\n",
    "**Jordan Canonical Form** (JCF) is a fundamental concept in linear algebra for simplifying the study of linear transformations and matrices.\n",
    "\n",
    "- **Purpose**: Provides a simplified form for matrices, especially useful for non-diagonalizable (defective) matrices.\n",
    "- **Structure**: Consists of Jordan blocks along its diagonal, representing the eigenvalues of the matrix.\n"
   ]
  },
  {
   "cell_type": "markdown",
   "id": "d432988c",
   "metadata": {
    "slideshow": {
     "slide_type": "slide"
    }
   },
   "source": [
    "### Understanding Jordan Blocks\n",
    "\n",
    "A **Jordan Block** is a key component of the Jordan Canonical Form.\n",
    "\n",
    "- **Definition**: A square matrix with an eigenvalue repeated along the main diagonal, ones on the superdiagonal, and zeros elsewhere.\n",
    "- **Example**:\n",
    "  - A 3x3 Jordan block for eigenvalue $ \\lambda $ looks like:\n",
    "    $$\n",
    "    \\begin{pmatrix}\n",
    "    \\lambda & 1 & 0 \\\\\n",
    "    0 & \\lambda & 1 \\\\\n",
    "    0 & 0 & \\lambda\n",
    "    \\end{pmatrix}\n",
    "    $$\n",
    "\n",
    "**Significance**: Each Jordan block corresponds to an eigenvalue and its associated generalized eigenvectors.\n"
   ]
  },
  {
   "cell_type": "markdown",
   "id": "e17a0f31",
   "metadata": {
    "slideshow": {
     "slide_type": "slide"
    }
   },
   "source": [
    "### Generalized Eigenvectors\n",
    "\n",
    "**Generalized Eigenvectors** are essential in constructing the Jordan Canonical Form.\n",
    "\n",
    "- **Definition**: Vectors that are not eigenvectors but satisfy $$(A - \\lambda I)^k v = 0$$ for some integer $$k > 1$$.\n",
    "- **Role**: Used when a matrix does not have enough linearly independent eigenvectors (defective matrix).\n",
    "- **Significance**: Help in forming the Jordan blocks where each block corresponds to an eigenvalue and its generalized eigenvectors.\n"
   ]
  },
  {
   "cell_type": "markdown",
   "id": "544ad4cc",
   "metadata": {
    "slideshow": {
     "slide_type": "slide"
    }
   },
   "source": [
    "### Example\n",
    "\n",
    "$$\n",
    "\\begin{aligned}\n",
    "A &= \\begin{pmatrix}\n",
    "5 & 4\\\\\n",
    "-1 &1\n",
    "\\end{pmatrix}\\\\\n",
    "\\lambda &= 3\\\\\n",
    "A-\\lambda\\mathbf I &= \\begin{pmatrix}\n",
    "2 & 4\\\\\n",
    "-1 &-2\n",
    "\\end{pmatrix}\\\\\n",
    "(A-\\lambda\\mathbf I)^2 &= \\begin{pmatrix}\n",
    "0 & 0\\\\\n",
    "0 &0\n",
    "\\end{pmatrix}\\\\\n",
    "\\end{aligned}\n",
    "$$\n",
    "\n",
    "- eigenvector: $\\begin{pmatrix}2\\\\-1\\end{pmatrix}$\n",
    "- generalized eigenvector: $\\begin{pmatrix}1\\\\0\\end{pmatrix}$\n",
    "- Jordan Canonical Form:\n",
    "\n",
    "$$\n",
    "\\begin{aligned}\n",
    "A &= \n",
    "\\begin{pmatrix}\n",
    "2 &1\\\\\n",
    "-1 & 0\n",
    "\\end{pmatrix}\n",
    "\\begin{pmatrix}\n",
    "3 &1\\\\\n",
    "0 & 3\n",
    "\\end{pmatrix}\n",
    "\\begin{pmatrix}\n",
    "0 &-1\\\\\n",
    "1 & 2\n",
    "\\end{pmatrix}\n",
    "\\end{aligned}\n",
    "$$\n"
   ]
  },
  {
   "cell_type": "markdown",
   "id": "6ce58e34",
   "metadata": {
    "slideshow": {
     "slide_type": "slide"
    }
   },
   "source": [
    "### Applications of Jordan Canonical Form\n",
    "\n",
    "**Jordan Canonical Form** is used for:\n",
    "\n",
    "- **Simplifying Matrix Powers and Polynomials**:\n",
    "  - Easier computation of $ A^n $ for matrix powers.\n",
    "- **Computing Matrix Exponential**:\n",
    "  - Useful in solving systems of linear differential equations by simplifying $ e^{At} $.\n",
    "- **Theoretical Analysis**:\n",
    "  - Provides insights into the structure and behavior of linear transformations.\n",
    "\n",
    "*Note*: The next slides detail the computation of matrix powers and exponentials using JCF.\n"
   ]
  },
  {
   "cell_type": "markdown",
   "id": "5bb7e118",
   "metadata": {
    "slideshow": {
     "slide_type": "slide"
    }
   },
   "source": [
    "### Computing Matrix Power using JCF\n",
    "\n",
    "To compute $ A^n $ for a defective matrix $ A $:\n",
    "\n",
    "There is a matrix $P$ such that each column is a generalized eigenvector of $A$, allowing the following decomposition (we will skip the algorithm how to find $P$):\n",
    "\n",
    "1. **JCF Decomposition**:\n",
    "   - Decompose $ A $ into its JCF, $$ A = PJP^{-1} $$.\n",
    "2. **Compute Power of JCF**:\n",
    "   - Compute $ J^n $, which is simpler due to the Jordan block structure.\n",
    "3. **Transform Back**:\n",
    "   - Compute $$ A^n = PJ^nP^{-1} $$.\n",
    "\n",
    "*Example*: For a Jordan block $$ J = \\begin{pmatrix} \\lambda & 1 \\\\ 0 & \\lambda \\end{pmatrix}, $$ $ J^n $ involves $ \\lambda^n $ and terms with powers of $ n $.\n"
   ]
  },
  {
   "cell_type": "markdown",
   "id": "82a99384",
   "metadata": {
    "slideshow": {
     "slide_type": "slide"
    }
   },
   "source": [
    "# Computing Matrix Exponential using JCF\n",
    "\n",
    "To compute the matrix exponential $ e^{At} $:\n",
    "\n",
    "1. **JCF Decomposition**:\n",
    "   - Decompose $ A $ into its JCF, $ A = PJP^{-1}$.\n",
    "2. **Exponential of JCF**:\n",
    "   - Compute $ e^{Jt} $, easier for Jordan blocks.\n",
    "3. **Transform Back**:\n",
    "   - Compute $ e^{At} = Pe^{Jt}P^{-1} $.\n",
    "\n",
    "*Example*: For a Jordan block $$ J = \\begin{pmatrix} \\lambda & 1 \\\\ 0 & \\lambda \\end{pmatrix}, $$ $ e^{Jt} $ involves $ e^{\\lambda t} $ and terms with $ t $:\n",
    "\n",
    "$$\n",
    "e^{Jt} = \\begin{pmatrix}\n",
    "e^{\\lambda t} & te^{\\lambda t}\\\\\n",
    "0 & e^{\\lambda t}\n",
    "\\end{pmatrix}\n",
    "$$\n"
   ]
  },
  {
   "cell_type": "markdown",
   "id": "2755d20c",
   "metadata": {
    "slideshow": {
     "slide_type": "slide"
    }
   },
   "source": [
    "**Sympy**"
   ]
  },
  {
   "cell_type": "code",
   "execution_count": 32,
   "id": "c0fd7912",
   "metadata": {},
   "outputs": [
    {
     "data": {
      "text/latex": [
       "$\\displaystyle \\left[\\begin{matrix}5 & 4\\\\-1 & 1\\end{matrix}\\right]$"
      ],
      "text/plain": [
       "Matrix([\n",
       "[ 5, 4],\n",
       "[-1, 1]])"
      ]
     },
     "execution_count": 32,
     "metadata": {},
     "output_type": "execute_result"
    }
   ],
   "source": [
    "A = Matrix([[5, 4], [-1, 1]])\n",
    "\n",
    "A\n"
   ]
  },
  {
   "cell_type": "code",
   "execution_count": 33,
   "id": "c87c8d81",
   "metadata": {},
   "outputs": [
    {
     "name": "stdout",
     "output_type": "stream",
     "text": [
      "J: \n"
     ]
    },
    {
     "data": {
      "text/latex": [
       "$\\displaystyle \\left[\\begin{matrix}3 & 1\\\\0 & 3\\end{matrix}\\right]$"
      ],
      "text/plain": [
       "Matrix([\n",
       "[3, 1],\n",
       "[0, 3]])"
      ]
     },
     "execution_count": 33,
     "metadata": {},
     "output_type": "execute_result"
    }
   ],
   "source": [
    "P, J = A.jordan_form()\n",
    "print(\"J: \")\n",
    "J"
   ]
  },
  {
   "cell_type": "code",
   "execution_count": 34,
   "id": "9e6ad8cc",
   "metadata": {},
   "outputs": [
    {
     "name": "stdout",
     "output_type": "stream",
     "text": [
      "P: \n"
     ]
    },
    {
     "data": {
      "text/latex": [
       "$\\displaystyle \\left[\\begin{matrix}2 & 1\\\\-1 & 0\\end{matrix}\\right]$"
      ],
      "text/plain": [
       "Matrix([\n",
       "[ 2, 1],\n",
       "[-1, 0]])"
      ]
     },
     "execution_count": 34,
     "metadata": {},
     "output_type": "execute_result"
    }
   ],
   "source": [
    "print(\"P: \")\n",
    "P"
   ]
  },
  {
   "cell_type": "code",
   "execution_count": 35,
   "id": "fa89347b",
   "metadata": {},
   "outputs": [
    {
     "data": {
      "text/latex": [
       "$\\displaystyle \\left[\\begin{matrix}5 & 4\\\\-1 & 1\\end{matrix}\\right]$"
      ],
      "text/plain": [
       "Matrix([\n",
       "[ 5, 4],\n",
       "[-1, 1]])"
      ]
     },
     "execution_count": 35,
     "metadata": {},
     "output_type": "execute_result"
    }
   ],
   "source": [
    "P * J * P.inv()"
   ]
  },
  {
   "cell_type": "code",
   "execution_count": 36,
   "id": "f7f4c6f8",
   "metadata": {},
   "outputs": [],
   "source": [
    "t, k = symbols(\"t k\")"
   ]
  },
  {
   "cell_type": "code",
   "execution_count": 37,
   "id": "015f292a",
   "metadata": {},
   "outputs": [
    {
     "data": {
      "text/latex": [
       "$\\displaystyle \\left[\\begin{matrix}3^{k} & 3^{k - 1} k\\\\0 & 3^{k}\\end{matrix}\\right]$"
      ],
      "text/plain": [
       "Matrix([\n",
       "[3**k, 3**(k - 1)*k],\n",
       "[   0,         3**k]])"
      ]
     },
     "execution_count": 37,
     "metadata": {},
     "output_type": "execute_result"
    }
   ],
   "source": [
    "J**k"
   ]
  },
  {
   "cell_type": "code",
   "execution_count": 38,
   "id": "5fb3b7d3",
   "metadata": {},
   "outputs": [
    {
     "data": {
      "text/latex": [
       "$\\displaystyle \\left[\\begin{matrix}e^{3 t} & t e^{3 t}\\\\0 & e^{3 t}\\end{matrix}\\right]$"
      ],
      "text/plain": [
       "Matrix([\n",
       "[exp(3*t), t*exp(3*t)],\n",
       "[       0,   exp(3*t)]])"
      ]
     },
     "execution_count": 38,
     "metadata": {},
     "output_type": "execute_result"
    }
   ],
   "source": [
    "exp(t*J)"
   ]
  },
  {
   "cell_type": "code",
   "execution_count": 39,
   "id": "919e8607",
   "metadata": {
    "slideshow": {
     "slide_type": "slide"
    }
   },
   "outputs": [
    {
     "data": {
      "text/latex": [
       "$\\displaystyle \\left[\\begin{matrix}4 & 0 & 0 & 1\\\\0 & 4 & 1 & 0\\\\0 & 0 & 4 & 0\\\\0 & 0 & 0 & 4\\end{matrix}\\right]$"
      ],
      "text/plain": [
       "Matrix([\n",
       "[4, 0, 0, 1],\n",
       "[0, 4, 1, 0],\n",
       "[0, 0, 4, 0],\n",
       "[0, 0, 0, 4]])"
      ]
     },
     "execution_count": 39,
     "metadata": {},
     "output_type": "execute_result"
    }
   ],
   "source": [
    "A = Matrix([\n",
    "    [4, 0, 0, 1],\n",
    "    [0, 4, 1, 0],\n",
    "    [0, 0, 4, 0],\n",
    "    [0, 0, 0, 4]\n",
    "])\n",
    "A"
   ]
  },
  {
   "cell_type": "code",
   "execution_count": 40,
   "id": "92193e24",
   "metadata": {},
   "outputs": [
    {
     "name": "stdout",
     "output_type": "stream",
     "text": [
      "J: \n"
     ]
    },
    {
     "data": {
      "text/latex": [
       "$\\displaystyle \\left[\\begin{matrix}4 & 1 & 0 & 0\\\\0 & 4 & 0 & 0\\\\0 & 0 & 4 & 1\\\\0 & 0 & 0 & 4\\end{matrix}\\right]$"
      ],
      "text/plain": [
       "Matrix([\n",
       "[4, 1, 0, 0],\n",
       "[0, 4, 0, 0],\n",
       "[0, 0, 4, 1],\n",
       "[0, 0, 0, 4]])"
      ]
     },
     "execution_count": 40,
     "metadata": {},
     "output_type": "execute_result"
    }
   ],
   "source": [
    "P, J = A.jordan_form()\n",
    "print(\"J: \")\n",
    "J"
   ]
  },
  {
   "cell_type": "code",
   "execution_count": 41,
   "id": "d37ef5ab",
   "metadata": {},
   "outputs": [
    {
     "name": "stdout",
     "output_type": "stream",
     "text": [
      "P: \n"
     ]
    },
    {
     "data": {
      "text/latex": [
       "$\\displaystyle \\left[\\begin{matrix}0 & 0 & 1 & 0\\\\1 & 0 & 0 & 0\\\\0 & 1 & 0 & 0\\\\0 & 0 & 0 & 1\\end{matrix}\\right]$"
      ],
      "text/plain": [
       "Matrix([\n",
       "[0, 0, 1, 0],\n",
       "[1, 0, 0, 0],\n",
       "[0, 1, 0, 0],\n",
       "[0, 0, 0, 1]])"
      ]
     },
     "execution_count": 41,
     "metadata": {},
     "output_type": "execute_result"
    }
   ],
   "source": [
    "print(\"P: \")\n",
    "P"
   ]
  },
  {
   "cell_type": "code",
   "execution_count": 42,
   "id": "32d0728f",
   "metadata": {
    "slideshow": {
     "slide_type": "slide"
    }
   },
   "outputs": [
    {
     "data": {
      "text/latex": [
       "$\\displaystyle \\left[\\begin{matrix}4^{k} & 4^{k - 1} k & 0 & 0\\\\0 & 4^{k} & 0 & 0\\\\0 & 0 & 4^{k} & 4^{k - 1} k\\\\0 & 0 & 0 & 4^{k}\\end{matrix}\\right]$"
      ],
      "text/plain": [
       "Matrix([\n",
       "[4**k, 4**(k - 1)*k,    0,            0],\n",
       "[   0,         4**k,    0,            0],\n",
       "[   0,            0, 4**k, 4**(k - 1)*k],\n",
       "[   0,            0,    0,         4**k]])"
      ]
     },
     "execution_count": 42,
     "metadata": {},
     "output_type": "execute_result"
    }
   ],
   "source": [
    "J**k"
   ]
  },
  {
   "cell_type": "code",
   "execution_count": 43,
   "id": "3142bc4d",
   "metadata": {},
   "outputs": [
    {
     "data": {
      "text/latex": [
       "$\\displaystyle \\left[\\begin{matrix}e^{4 t} & t e^{4 t} & 0 & 0\\\\0 & e^{4 t} & 0 & 0\\\\0 & 0 & e^{4 t} & t e^{4 t}\\\\0 & 0 & 0 & e^{4 t}\\end{matrix}\\right]$"
      ],
      "text/plain": [
       "Matrix([\n",
       "[exp(4*t), t*exp(4*t),        0,          0],\n",
       "[       0,   exp(4*t),        0,          0],\n",
       "[       0,          0, exp(4*t), t*exp(4*t)],\n",
       "[       0,          0,        0,   exp(4*t)]])"
      ]
     },
     "execution_count": 43,
     "metadata": {},
     "output_type": "execute_result"
    }
   ],
   "source": [
    "exp(t*J)"
   ]
  }
 ],
 "metadata": {
  "@webio": {
   "lastCommId": null,
   "lastKernelId": null
  },
  "celltoolbar": "Slideshow",
  "hide_input": false,
  "kernelspec": {
   "display_name": "Python 3 (ipykernel)",
   "language": "python",
   "name": "python3"
  },
  "language_info": {
   "codemirror_mode": {
    "name": "ipython",
    "version": 3
   },
   "file_extension": ".py",
   "mimetype": "text/x-python",
   "name": "python",
   "nbconvert_exporter": "python",
   "pygments_lexer": "ipython3",
   "version": "3.8.18"
  },
  "latex_envs": {
   "LaTeX_envs_menu_present": true,
   "autoclose": false,
   "autocomplete": true,
   "bibliofile": "biblio.bib",
   "cite_by": "apalike",
   "current_citInitial": 1,
   "eqLabelWithNumbers": true,
   "eqNumInitial": 1,
   "hotkeys": {
    "equation": "Ctrl-E",
    "itemize": "Ctrl-I"
   },
   "labels_anchors": false,
   "latex_user_defs": false,
   "report_style_numbering": false,
   "user_envs_cfg": false
  },
  "rise": {
   "enable_chalkboard": true
  },
  "varInspector": {
   "cols": {
    "lenName": 16,
    "lenType": 16,
    "lenVar": 40
   },
   "kernels_config": {
    "python": {
     "delete_cmd_postfix": "",
     "delete_cmd_prefix": "del ",
     "library": "var_list.py",
     "varRefreshCmd": "print(var_dic_list())"
    },
    "r": {
     "delete_cmd_postfix": ") ",
     "delete_cmd_prefix": "rm(",
     "library": "var_list.r",
     "varRefreshCmd": "cat(var_dic_list()) "
    }
   },
   "types_to_exclude": [
    "module",
    "function",
    "builtin_function_or_method",
    "instance",
    "_Feature"
   ],
   "window_display": false
  }
 },
 "nbformat": 4,
 "nbformat_minor": 5
}
