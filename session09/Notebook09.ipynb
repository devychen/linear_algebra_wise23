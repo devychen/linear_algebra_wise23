{
 "cells": [
  {
   "cell_type": "code",
   "execution_count": 54,
   "id": "6b6d3e8a",
   "metadata": {
    "slideshow": {
     "slide_type": "skip"
    }
   },
   "outputs": [],
   "source": [
    "import sympy\n",
    "from sympy import Matrix, Rational, sqrt, symbols, zeros, simplify, exp\n",
    "import numpy as np\n",
    "import matplotlib.pyplot as plt\n",
    "import ipywidgets as widgets\n",
    "from ipywidgets import interact, interactive, fixed, interact_manual\n",
    "import matplotlib.pyplot as plt\n",
    "%matplotlib notebook\n"
   ]
  },
  {
   "cell_type": "markdown",
   "id": "17d690f6",
   "metadata": {
    "hide_input": true,
    "slideshow": {
     "slide_type": "slide"
    }
   },
   "source": [
    "# Linear algebra\n",
    "\n",
    "## Session 9: \n",
    "\n",
    "## Gerhard Jäger\n",
    "\n",
    "### December 21, 2023"
   ]
  },
  {
   "cell_type": "markdown",
   "id": "e25f4761",
   "metadata": {
    "slideshow": {
     "slide_type": "slide"
    }
   },
   "source": [
    "\n",
    "\n",
    "### Procedure to find eigenvalues and eigenvectors:\n",
    "\n",
    "1. Construct $A-\\lambda \\mathbf I$ with $\\lambda$ as unknown.\n",
    "2. Set $|A-\\lambda \\mathbf I| = 0$ and solve for $\\lambda$. All solutions are eigenvalues.\n",
    "3. For each solution for $\\lambda$, find the nullspace of $|A-\\lambda \\mathbf I| = 0$. Each vector in the nullspace is an eigenvector corresponding to this solution."
   ]
  },
  {
   "cell_type": "markdown",
   "id": "9693cd72",
   "metadata": {
    "slideshow": {
     "slide_type": "slide"
    }
   },
   "source": [
    "##### Example 2: Projection matrix\n",
    "\n",
    "$$\n",
    "A = \\begin{bmatrix}\n",
    "\\frac{1}{2} & \\frac{1}{2}\\\\\n",
    "\\frac{1}{2} & \\frac{1}{2}\n",
    "\\end{bmatrix}\n",
    "$$\n",
    "\n",
    "- find eigenvalues\n",
    "\n",
    "$$\n",
    "\\begin{aligned}\n",
    "\\begin{vmatrix}\n",
    "\\frac{1}{2}-\\lambda & \\frac{1}{2}\\\\\n",
    "\\frac{1}{2} & \\frac{1}{2}-\\lambda\n",
    "\\end{vmatrix} &= 0\\\\\n",
    "(\\frac{1}{2}-\\lambda)^2 - \\frac{1}{4} &= 0\\\\\n",
    "\\lambda^2 -\\lambda &= 0\\\\\n",
    "\\lambda(\\lambda-1) &= 0\\\\\n",
    "\\lambda_1 &= 1\\\\\n",
    "\\lambda_2 &= 0\n",
    "\\end{aligned}\n",
    "$$"
   ]
  },
  {
   "cell_type": "markdown",
   "id": "de352eeb",
   "metadata": {
    "slideshow": {
     "slide_type": "slide"
    }
   },
   "source": [
    "- find eigenvectors\n",
    "\n",
    "    - $\\lambda_1$: \n",
    "    $$\n",
    "    \\begin{aligned}\n",
    "    \\begin{bmatrix}\n",
    "    -\\frac{1}{2} & \\frac{1}{2}\\\\\n",
    "    \\frac{1}{2} & -\\frac{1}{2}\n",
    "    \\end{bmatrix}\\mathbf x_1 &= \\mathbf 0\\\\\n",
    "    \\mathbf x_1 &= \\begin{bmatrix}1\\\\1\\end{bmatrix}\n",
    "    \\end{aligned}\n",
    "    $$\n",
    "    \n",
    "    - $\\lambda_2$:\n",
    "    $$\n",
    "    \\begin{aligned}\n",
    "    \\begin{bmatrix}\n",
    "    \\frac{1}{2} & \\frac{1}{2}\\\\\n",
    "    \\frac{1}{2} & \\frac{1}{2}\n",
    "    \\end{bmatrix}\\mathbf x_2 &= \\mathbf 0\\\\\n",
    "    \\mathbf x_2 &= \\begin{bmatrix}-1\\\\1\\end{bmatrix}\n",
    "    \\end{aligned}\n",
    "    $$"
   ]
  },
  {
   "cell_type": "markdown",
   "id": "b13fec6b",
   "metadata": {
    "slideshow": {
     "slide_type": "slide"
    }
   },
   "source": [
    "##### Example 3: Reflection matrix\n",
    "\n",
    "$$\n",
    "A = \\begin{bmatrix}\n",
    "0 & 1\\\\\n",
    "1 & 0\n",
    "\\end{bmatrix}\n",
    "$$\n",
    "\n",
    "- find eigenvalues\n",
    "\n",
    "$$\n",
    "\\begin{aligned}\n",
    "\\begin{vmatrix}\n",
    "-\\lambda & 1\\\\\n",
    "1 & -\\lambda\n",
    "\\end{vmatrix} &= 0\\\\\n",
    "\\lambda^2-1 &= 0\\\\\n",
    "\\lambda^2 &= 1\\\\\n",
    "\\lambda_1 &= 1\\\\\n",
    "\\lambda_2 &= -1\n",
    "\\end{aligned}\n",
    "$$"
   ]
  },
  {
   "cell_type": "markdown",
   "id": "590f050d",
   "metadata": {
    "slideshow": {
     "slide_type": "slide"
    }
   },
   "source": [
    "- find eigenvectors\n",
    "\n",
    "    - $\\lambda_1$: \n",
    "    $$\n",
    "    \\begin{aligned}\n",
    "    \\begin{bmatrix}\n",
    "    -1 & 1\\\\\n",
    "    1 & -1\n",
    "    \\end{bmatrix}\\mathbf x_1 &= \\mathbf 0\\\\\n",
    "    \\mathbf x_1 &= \\begin{bmatrix}1\\\\1\\end{bmatrix}\n",
    "    \\end{aligned}\n",
    "    $$\n",
    "    \n",
    "    - $\\lambda_2$:\n",
    "    $$\n",
    "    \\begin{aligned}\n",
    "    \\begin{bmatrix}\n",
    "    1 & 1\\\\\n",
    "    1 & 1\n",
    "    \\end{bmatrix}\\mathbf x_2 &= \\mathbf 0\\\\\n",
    "    \\mathbf x_2 &= \\begin{bmatrix}-1\\\\1\\end{bmatrix}\n",
    "    \\end{aligned}\n",
    "    $$"
   ]
  },
  {
   "cell_type": "markdown",
   "id": "054398bb",
   "metadata": {
    "slideshow": {
     "slide_type": "slide"
    }
   },
   "source": [
    "##### Example 3: Rotation matrix\n",
    "\n",
    "$$\n",
    "A = \\begin{bmatrix}\n",
    "\\frac{\\sqrt{2}}{2} & \\frac{\\sqrt{2}}{2}\\\\\n",
    "-\\frac{\\sqrt{2}}{2} & \\frac{\\sqrt{2}}{2}\n",
    "\\end{bmatrix}\n",
    "$$\n",
    "\n",
    "- find eigenvalues\n",
    "\n",
    "$$\n",
    "\\begin{aligned}\n",
    "\\begin{vmatrix}\n",
    "\\frac{\\sqrt{2}}{2}-\\lambda & \\frac{\\sqrt{2}}{2}\\\\\n",
    "-\\frac{\\sqrt{2}}{2} & \\frac{\\sqrt{2}}{2}-\\lambda\n",
    "\\end{vmatrix} &= 0\\\\\n",
    "(\\frac{\\sqrt{2}}{2}-\\lambda)^2 + \\frac{1}{2} &= 0\\\\\n",
    "\\lambda^2 - \\sqrt{2}\\lambda + 1 &= 0\\\\\n",
    "\\lambda_{1/2} &= \\frac{\\sqrt{2}}{2} \\pm \\sqrt{\\frac{1}{2} - 1}\\\\\n",
    " &= \\frac{\\sqrt{2}}{2} \\pm \\sqrt{-\\frac{1}{2}}\n",
    "\\end{aligned}\n",
    "$$\n",
    "\n",
    "**There is no solution within the real numbers!**\n",
    "\n",
    "(There are complex eigenvalues – and complex eigenvectors – for this matrix, but this is beyond the scope of this course.)"
   ]
  },
  {
   "cell_type": "markdown",
   "id": "b88fe023",
   "metadata": {
    "slideshow": {
     "slide_type": "slide"
    }
   },
   "source": [
    "##### Example 4: Multiple eigenvalues\n",
    "$$\n",
    "A = \\begin{bmatrix}\n",
    "1 & 0\\\\\n",
    "0 & 1\n",
    "\\end{bmatrix}\n",
    "$$\n",
    "\n",
    "- find eigenvalues\n",
    "\n",
    "$$\n",
    "\\begin{aligned}\n",
    "\\begin{vmatrix}\n",
    "1-\\lambda & 0\\\\\n",
    "0 & 1-\\lambda\n",
    "\\end{vmatrix} &= 0\\\\\n",
    "(1-\\lambda)^2 &= 0\\\\\n",
    "1-\\lambda &= 0\\\\\n",
    "\\lambda &= 1\n",
    "\\end{aligned}\n",
    "$$\n",
    "\n",
    "- find eigenvectors\n",
    "\n",
    "$$\n",
    "\\begin{bmatrix}\n",
    "0 & 0\\\\\n",
    "0 & 0\n",
    "\\end{bmatrix}\\mathbf x = \\mathbf 0\n",
    "$$\n",
    "\n",
    "**Any vector is an eigenvector of the identity matrix.**"
   ]
  },
  {
   "cell_type": "markdown",
   "id": "858ce872",
   "metadata": {
    "slideshow": {
     "slide_type": "slide"
    }
   },
   "source": [
    "##### Example 5: Defective eigenvalues\n",
    "\n",
    "$$\n",
    "A = \\begin{bmatrix}\n",
    "1 & 1\\\\\n",
    "0 & 1\n",
    "\\end{bmatrix}\n",
    "$$\n",
    "\n",
    "- find eigenvalues\n",
    "\n",
    "$$\n",
    "\\begin{aligned}\n",
    "\\begin{vmatrix}\n",
    "1-\\lambda & 1\\\\\n",
    "0 & 1-\\lambda\n",
    "\\end{vmatrix} &= 0\\\\\n",
    "(1-\\lambda)^2 &= 0\\\\\n",
    "1-\\lambda &= 0\\\\\n",
    "\\lambda &= 1\n",
    "\\end{aligned}\n",
    "$$\n",
    "\n",
    "- find eigenvectors\n",
    "\n",
    "$$\n",
    "\\begin{aligned}\n",
    "\\begin{bmatrix}\n",
    "0 & 1\\\\\n",
    "0 & 0\n",
    "\\end{bmatrix}\n",
    "\\mathbf x &= \\mathbf 0\\\\\n",
    "\\mathbf x &= \\begin{bmatrix}1\\\\0\\end{bmatrix}\n",
    "\\end{aligned}\n",
    "$$\n",
    "\n",
    "**This matrix has only one eigenvalue and one eigenvector.**"
   ]
  },
  {
   "cell_type": "markdown",
   "id": "cc9037e8",
   "metadata": {
    "slideshow": {
     "slide_type": "slide"
    }
   },
   "source": [
    "### Larger matrices\n",
    "\n",
    "$$\n",
    "A = \\begin{bmatrix}\n",
    "-1 & 2 & 2\\\\\n",
    "2 & 2 & -1\\\\\n",
    "2 & -1 & 2\n",
    "\\end{bmatrix}\n",
    "$$\n",
    "\n",
    "- finding eigenvalues\n",
    "\n",
    "$$\n",
    "\\begin{aligned}\n",
    "\\begin{vmatrix}\n",
    "-1-\\lambda & 2 & 2\\\\\n",
    "2 & 2-\\lambda & -1\\\\\n",
    "2 & -1 & 2-\\lambda\n",
    "\\end{vmatrix} &= 0\\\\\n",
    "(-1-\\lambda)(2-\\lambda)^2 -4 -4 -4(2-\\lambda)-4(2-\\lambda) + 1 + \\lambda &= 0\\\\\n",
    "-\\lambda^2+4\\lambda-4-\\lambda^3+4\\lambda^2-4\\lambda -4 -4 -8+4\\lambda-8+4\\lambda + 1 + \\lambda &= 0\\\\\n",
    "-\\lambda^3 + 3\\lambda^2 + 9\\lambda - 27&= 0\\\\\n",
    "\\lambda^3 - 3\\lambda^2 - 9\\lambda + 27&= 0\n",
    "\\end{aligned}\n",
    "$$\n"
   ]
  },
  {
   "cell_type": "markdown",
   "id": "8c916755",
   "metadata": {},
   "source": [
    "In the general case, solving a cubic equation by hand is very hard. In this particular example, the solution is:\n",
    "\n",
    "$$\n",
    "\\begin{aligned}\n",
    "\\lambda^3 - 3\\lambda^2 - 9\\lambda + 27 &= (\\lambda -3)^2 (\\lambda+3)\\\\\n",
    "\\lambda_1 &= 3\\\\\n",
    "\\lambda_2 &= -3\n",
    "\\end{aligned}\n",
    "$$\n",
    "\n"
   ]
  },
  {
   "cell_type": "markdown",
   "id": "16223894",
   "metadata": {
    "slideshow": {
     "slide_type": "slide"
    }
   },
   "source": [
    "\n",
    "\n",
    "- eigenvectors"
   ]
  },
  {
   "cell_type": "code",
   "execution_count": 2,
   "id": "ef01cfd0",
   "metadata": {},
   "outputs": [
    {
     "data": {
      "text/latex": [
       "$\\displaystyle \\left[\\begin{matrix}-1 & 2 & 2\\\\2 & 2 & -1\\\\2 & -1 & 2\\end{matrix}\\right]$"
      ],
      "text/plain": [
       "Matrix([\n",
       "[-1,  2,  2],\n",
       "[ 2,  2, -1],\n",
       "[ 2, -1,  2]])"
      ]
     },
     "execution_count": 2,
     "metadata": {},
     "output_type": "execute_result"
    }
   ],
   "source": [
    "A = Matrix([\n",
    "    [-1,2,2],\n",
    "    [2,2,-1],\n",
    "    [2,-1,2]\n",
    "])\n",
    "A"
   ]
  },
  {
   "cell_type": "code",
   "execution_count": 3,
   "id": "7018c0de",
   "metadata": {},
   "outputs": [
    {
     "data": {
      "text/plain": [
       "{-3: 1, 3: 2}"
      ]
     },
     "execution_count": 3,
     "metadata": {},
     "output_type": "execute_result"
    }
   ],
   "source": [
    "A.eigenvals()"
   ]
  },
  {
   "cell_type": "markdown",
   "id": "cc34ddc5",
   "metadata": {},
   "source": [
    "(In this dictionary, the keys are the eigenvalues and the values are the *algebraic multiplicity*.)"
   ]
  },
  {
   "cell_type": "code",
   "execution_count": 4,
   "id": "05ebe5ec",
   "metadata": {},
   "outputs": [],
   "source": [
    "e1, e2 = A.eigenvects()"
   ]
  },
  {
   "cell_type": "code",
   "execution_count": 5,
   "id": "26e73b6d",
   "metadata": {},
   "outputs": [
    {
     "data": {
      "text/latex": [
       "$\\displaystyle -3$"
      ],
      "text/plain": [
       "-3"
      ]
     },
     "execution_count": 5,
     "metadata": {},
     "output_type": "execute_result"
    }
   ],
   "source": [
    "e1[0]"
   ]
  },
  {
   "cell_type": "code",
   "execution_count": 6,
   "id": "86046c65",
   "metadata": {},
   "outputs": [
    {
     "data": {
      "text/latex": [
       "$\\displaystyle \\left[\\begin{matrix}-2\\\\1\\\\1\\end{matrix}\\right]$"
      ],
      "text/plain": [
       "Matrix([\n",
       "[-2],\n",
       "[ 1],\n",
       "[ 1]])"
      ]
     },
     "execution_count": 6,
     "metadata": {},
     "output_type": "execute_result"
    }
   ],
   "source": [
    "e1[2][0]"
   ]
  },
  {
   "cell_type": "code",
   "execution_count": 7,
   "id": "cf4b0d33",
   "metadata": {},
   "outputs": [
    {
     "data": {
      "text/latex": [
       "$\\displaystyle 3$"
      ],
      "text/plain": [
       "3"
      ]
     },
     "execution_count": 7,
     "metadata": {},
     "output_type": "execute_result"
    }
   ],
   "source": [
    "e2[0]"
   ]
  },
  {
   "cell_type": "code",
   "execution_count": 8,
   "id": "2c03d6f5",
   "metadata": {},
   "outputs": [
    {
     "data": {
      "text/latex": [
       "$\\displaystyle \\left[\\begin{matrix}\\frac{1}{2}\\\\1\\\\0\\end{matrix}\\right]$"
      ],
      "text/plain": [
       "Matrix([\n",
       "[1/2],\n",
       "[  1],\n",
       "[  0]])"
      ]
     },
     "execution_count": 8,
     "metadata": {},
     "output_type": "execute_result"
    }
   ],
   "source": [
    "e2[2][0]"
   ]
  },
  {
   "cell_type": "code",
   "execution_count": 9,
   "id": "755698f1",
   "metadata": {
    "slideshow": {
     "slide_type": "slide"
    }
   },
   "outputs": [
    {
     "data": {
      "text/latex": [
       "$\\displaystyle \\left[\\begin{matrix}\\frac{1}{2}\\\\0\\\\1\\end{matrix}\\right]$"
      ],
      "text/plain": [
       "Matrix([\n",
       "[1/2],\n",
       "[  0],\n",
       "[  1]])"
      ]
     },
     "execution_count": 9,
     "metadata": {},
     "output_type": "execute_result"
    }
   ],
   "source": [
    "e2[2][1]"
   ]
  },
  {
   "cell_type": "markdown",
   "id": "af548ac3",
   "metadata": {},
   "source": [
    "Note that there are two eigenvectors corresponding to the eigenvalue 3."
   ]
  },
  {
   "cell_type": "code",
   "execution_count": 10,
   "id": "cc2e3e5a",
   "metadata": {
    "slideshow": {
     "slide_type": "slide"
    }
   },
   "outputs": [
    {
     "data": {
      "text/latex": [
       "$\\displaystyle \\left[\\begin{matrix}-1 & 2 & 3\\\\4 & 5 & 6\\\\7 & 8 & 9\\end{matrix}\\right]$"
      ],
      "text/plain": [
       "Matrix([\n",
       "[-1, 2, 3],\n",
       "[ 4, 5, 6],\n",
       "[ 7, 8, 9]])"
      ]
     },
     "execution_count": 10,
     "metadata": {},
     "output_type": "execute_result"
    }
   ],
   "source": [
    "A = Matrix([\n",
    "    [-1,2,3],\n",
    "    [4,5,6],\n",
    "    [7,8,9]\n",
    "])\n",
    "A"
   ]
  },
  {
   "cell_type": "code",
   "execution_count": 11,
   "id": "ffeae032",
   "metadata": {},
   "outputs": [],
   "source": [
    "e1, e2, e3 = A.eigenvects()"
   ]
  },
  {
   "cell_type": "code",
   "execution_count": 12,
   "id": "d47eafce",
   "metadata": {},
   "outputs": [
    {
     "data": {
      "text/latex": [
       "$\\displaystyle \\frac{13}{3} + \\left(- \\frac{1}{2} - \\frac{\\sqrt{3} i}{2}\\right) \\sqrt[3]{\\frac{4969}{27} + \\frac{\\sqrt{471498} i}{9}} + \\frac{307}{9 \\left(- \\frac{1}{2} - \\frac{\\sqrt{3} i}{2}\\right) \\sqrt[3]{\\frac{4969}{27} + \\frac{\\sqrt{471498} i}{9}}}$"
      ],
      "text/plain": [
       "13/3 + (-1/2 - sqrt(3)*I/2)*(4969/27 + sqrt(471498)*I/9)**(1/3) + 307/(9*(-1/2 - sqrt(3)*I/2)*(4969/27 + sqrt(471498)*I/9)**(1/3))"
      ]
     },
     "execution_count": 12,
     "metadata": {},
     "output_type": "execute_result"
    }
   ],
   "source": [
    "e1[0]"
   ]
  },
  {
   "cell_type": "code",
   "execution_count": 13,
   "id": "ab31601e",
   "metadata": {
    "slideshow": {
     "slide_type": "slide"
    }
   },
   "outputs": [
    {
     "data": {
      "text/latex": [
       "$\\displaystyle \\left[\\begin{matrix}\\frac{306}{89} + \\frac{63 \\left(- \\frac{1}{2} - \\frac{\\sqrt{3} i}{2}\\right) \\sqrt[3]{\\frac{4969}{27} + \\frac{\\sqrt{471498} i}{9}}}{89} - \\frac{4 \\left(\\frac{13}{3} + \\left(- \\frac{1}{2} - \\frac{\\sqrt{3} i}{2}\\right) \\sqrt[3]{\\frac{4969}{27} + \\frac{\\sqrt{471498} i}{9}} + \\frac{307}{9 \\left(- \\frac{1}{2} - \\frac{\\sqrt{3} i}{2}\\right) \\sqrt[3]{\\frac{4969}{27} + \\frac{\\sqrt{471498} i}{9}}}\\right)^{2}}{89} + \\frac{2149}{89 \\left(- \\frac{1}{2} - \\frac{\\sqrt{3} i}{2}\\right) \\sqrt[3]{\\frac{4969}{27} + \\frac{\\sqrt{471498} i}{9}}}\\\\- \\frac{959}{267} - \\frac{13508}{801 \\left(- \\frac{1}{2} - \\frac{\\sqrt{3} i}{2}\\right) \\sqrt[3]{\\frac{4969}{27} + \\frac{\\sqrt{471498} i}{9}}} + \\frac{7 \\left(\\frac{13}{3} + \\left(- \\frac{1}{2} - \\frac{\\sqrt{3} i}{2}\\right) \\sqrt[3]{\\frac{4969}{27} + \\frac{\\sqrt{471498} i}{9}} + \\frac{307}{9 \\left(- \\frac{1}{2} - \\frac{\\sqrt{3} i}{2}\\right) \\sqrt[3]{\\frac{4969}{27} + \\frac{\\sqrt{471498} i}{9}}}\\right)^{2}}{178} - \\frac{44 \\left(- \\frac{1}{2} - \\frac{\\sqrt{3} i}{2}\\right) \\sqrt[3]{\\frac{4969}{27} + \\frac{\\sqrt{471498} i}{9}}}{89}\\\\1\\end{matrix}\\right]$"
      ],
      "text/plain": [
       "Matrix([\n",
       "[     306/89 + 63*(-1/2 - sqrt(3)*I/2)*(4969/27 + sqrt(471498)*I/9)**(1/3)/89 - 4*(13/3 + (-1/2 - sqrt(3)*I/2)*(4969/27 + sqrt(471498)*I/9)**(1/3) + 307/(9*(-1/2 - sqrt(3)*I/2)*(4969/27 + sqrt(471498)*I/9)**(1/3)))**2/89 + 2149/(89*(-1/2 - sqrt(3)*I/2)*(4969/27 + sqrt(471498)*I/9)**(1/3))],\n",
       "[-959/267 - 13508/(801*(-1/2 - sqrt(3)*I/2)*(4969/27 + sqrt(471498)*I/9)**(1/3)) + 7*(13/3 + (-1/2 - sqrt(3)*I/2)*(4969/27 + sqrt(471498)*I/9)**(1/3) + 307/(9*(-1/2 - sqrt(3)*I/2)*(4969/27 + sqrt(471498)*I/9)**(1/3)))**2/178 - 44*(-1/2 - sqrt(3)*I/2)*(4969/27 + sqrt(471498)*I/9)**(1/3)/89],\n",
       "[                                                                                                                                                                                                                                                                                               1]])"
      ]
     },
     "execution_count": 13,
     "metadata": {},
     "output_type": "execute_result"
    }
   ],
   "source": [
    "e1[2][0]"
   ]
  },
  {
   "cell_type": "code",
   "execution_count": 14,
   "id": "7087786e",
   "metadata": {
    "slideshow": {
     "slide_type": "slide"
    }
   },
   "outputs": [
    {
     "data": {
      "text/latex": [
       "$\\displaystyle \\frac{13}{3} + \\frac{307}{9 \\left(- \\frac{1}{2} + \\frac{\\sqrt{3} i}{2}\\right) \\sqrt[3]{\\frac{4969}{27} + \\frac{\\sqrt{471498} i}{9}}} + \\left(- \\frac{1}{2} + \\frac{\\sqrt{3} i}{2}\\right) \\sqrt[3]{\\frac{4969}{27} + \\frac{\\sqrt{471498} i}{9}}$"
      ],
      "text/plain": [
       "13/3 + 307/(9*(-1/2 + sqrt(3)*I/2)*(4969/27 + sqrt(471498)*I/9)**(1/3)) + (-1/2 + sqrt(3)*I/2)*(4969/27 + sqrt(471498)*I/9)**(1/3)"
      ]
     },
     "execution_count": 14,
     "metadata": {},
     "output_type": "execute_result"
    }
   ],
   "source": [
    "e2[0]"
   ]
  },
  {
   "cell_type": "code",
   "execution_count": 15,
   "id": "326fe5c5",
   "metadata": {},
   "outputs": [
    {
     "data": {
      "text/latex": [
       "$\\displaystyle \\left[\\begin{matrix}\\frac{306}{89} + \\frac{2149}{89 \\left(- \\frac{1}{2} + \\frac{\\sqrt{3} i}{2}\\right) \\sqrt[3]{\\frac{4969}{27} + \\frac{\\sqrt{471498} i}{9}}} - \\frac{4 \\left(\\frac{13}{3} + \\frac{307}{9 \\left(- \\frac{1}{2} + \\frac{\\sqrt{3} i}{2}\\right) \\sqrt[3]{\\frac{4969}{27} + \\frac{\\sqrt{471498} i}{9}}} + \\left(- \\frac{1}{2} + \\frac{\\sqrt{3} i}{2}\\right) \\sqrt[3]{\\frac{4969}{27} + \\frac{\\sqrt{471498} i}{9}}\\right)^{2}}{89} + \\frac{63 \\left(- \\frac{1}{2} + \\frac{\\sqrt{3} i}{2}\\right) \\sqrt[3]{\\frac{4969}{27} + \\frac{\\sqrt{471498} i}{9}}}{89}\\\\- \\frac{959}{267} - \\frac{44 \\left(- \\frac{1}{2} + \\frac{\\sqrt{3} i}{2}\\right) \\sqrt[3]{\\frac{4969}{27} + \\frac{\\sqrt{471498} i}{9}}}{89} + \\frac{7 \\left(\\frac{13}{3} + \\frac{307}{9 \\left(- \\frac{1}{2} + \\frac{\\sqrt{3} i}{2}\\right) \\sqrt[3]{\\frac{4969}{27} + \\frac{\\sqrt{471498} i}{9}}} + \\left(- \\frac{1}{2} + \\frac{\\sqrt{3} i}{2}\\right) \\sqrt[3]{\\frac{4969}{27} + \\frac{\\sqrt{471498} i}{9}}\\right)^{2}}{178} - \\frac{13508}{801 \\left(- \\frac{1}{2} + \\frac{\\sqrt{3} i}{2}\\right) \\sqrt[3]{\\frac{4969}{27} + \\frac{\\sqrt{471498} i}{9}}}\\\\1\\end{matrix}\\right]$"
      ],
      "text/plain": [
       "Matrix([\n",
       "[     306/89 + 2149/(89*(-1/2 + sqrt(3)*I/2)*(4969/27 + sqrt(471498)*I/9)**(1/3)) - 4*(13/3 + 307/(9*(-1/2 + sqrt(3)*I/2)*(4969/27 + sqrt(471498)*I/9)**(1/3)) + (-1/2 + sqrt(3)*I/2)*(4969/27 + sqrt(471498)*I/9)**(1/3))**2/89 + 63*(-1/2 + sqrt(3)*I/2)*(4969/27 + sqrt(471498)*I/9)**(1/3)/89],\n",
       "[-959/267 - 44*(-1/2 + sqrt(3)*I/2)*(4969/27 + sqrt(471498)*I/9)**(1/3)/89 + 7*(13/3 + 307/(9*(-1/2 + sqrt(3)*I/2)*(4969/27 + sqrt(471498)*I/9)**(1/3)) + (-1/2 + sqrt(3)*I/2)*(4969/27 + sqrt(471498)*I/9)**(1/3))**2/178 - 13508/(801*(-1/2 + sqrt(3)*I/2)*(4969/27 + sqrt(471498)*I/9)**(1/3))],\n",
       "[                                                                                                                                                                                                                                                                                               1]])"
      ]
     },
     "execution_count": 15,
     "metadata": {},
     "output_type": "execute_result"
    }
   ],
   "source": [
    "e2[2][0]"
   ]
  },
  {
   "cell_type": "code",
   "execution_count": 16,
   "id": "79d77dd9",
   "metadata": {
    "slideshow": {
     "slide_type": "slide"
    }
   },
   "outputs": [
    {
     "data": {
      "text/latex": [
       "$\\displaystyle \\frac{13}{3} + \\frac{307}{9 \\sqrt[3]{\\frac{4969}{27} + \\frac{\\sqrt{471498} i}{9}}} + \\sqrt[3]{\\frac{4969}{27} + \\frac{\\sqrt{471498} i}{9}}$"
      ],
      "text/plain": [
       "13/3 + 307/(9*(4969/27 + sqrt(471498)*I/9)**(1/3)) + (4969/27 + sqrt(471498)*I/9)**(1/3)"
      ]
     },
     "execution_count": 16,
     "metadata": {},
     "output_type": "execute_result"
    }
   ],
   "source": [
    "e3[0]"
   ]
  },
  {
   "cell_type": "code",
   "execution_count": 17,
   "id": "adc3ee71",
   "metadata": {},
   "outputs": [
    {
     "data": {
      "text/latex": [
       "$\\displaystyle \\left[\\begin{matrix}\\frac{306}{89} + \\frac{2149}{89 \\sqrt[3]{\\frac{4969}{27} + \\frac{\\sqrt{471498} i}{9}}} - \\frac{4 \\left(\\frac{13}{3} + \\frac{307}{9 \\sqrt[3]{\\frac{4969}{27} + \\frac{\\sqrt{471498} i}{9}}} + \\sqrt[3]{\\frac{4969}{27} + \\frac{\\sqrt{471498} i}{9}}\\right)^{2}}{89} + \\frac{63 \\sqrt[3]{\\frac{4969}{27} + \\frac{\\sqrt{471498} i}{9}}}{89}\\\\- \\frac{959}{267} - \\frac{44 \\sqrt[3]{\\frac{4969}{27} + \\frac{\\sqrt{471498} i}{9}}}{89} + \\frac{7 \\left(\\frac{13}{3} + \\frac{307}{9 \\sqrt[3]{\\frac{4969}{27} + \\frac{\\sqrt{471498} i}{9}}} + \\sqrt[3]{\\frac{4969}{27} + \\frac{\\sqrt{471498} i}{9}}\\right)^{2}}{178} - \\frac{13508}{801 \\sqrt[3]{\\frac{4969}{27} + \\frac{\\sqrt{471498} i}{9}}}\\\\1\\end{matrix}\\right]$"
      ],
      "text/plain": [
       "Matrix([\n",
       "[     306/89 + 2149/(89*(4969/27 + sqrt(471498)*I/9)**(1/3)) - 4*(13/3 + 307/(9*(4969/27 + sqrt(471498)*I/9)**(1/3)) + (4969/27 + sqrt(471498)*I/9)**(1/3))**2/89 + 63*(4969/27 + sqrt(471498)*I/9)**(1/3)/89],\n",
       "[-959/267 - 44*(4969/27 + sqrt(471498)*I/9)**(1/3)/89 + 7*(13/3 + 307/(9*(4969/27 + sqrt(471498)*I/9)**(1/3)) + (4969/27 + sqrt(471498)*I/9)**(1/3))**2/178 - 13508/(801*(4969/27 + sqrt(471498)*I/9)**(1/3))],\n",
       "[                                                                                                                                                                                                           1]])"
      ]
     },
     "execution_count": 17,
     "metadata": {},
     "output_type": "execute_result"
    }
   ],
   "source": [
    "e3[2][0]"
   ]
  },
  {
   "cell_type": "code",
   "execution_count": 18,
   "id": "7857cb6d",
   "metadata": {},
   "outputs": [
    {
     "data": {
      "text/latex": [
       "$\\displaystyle \\left[\\begin{matrix}0 & -3 & 2 & -1\\\\-3 & 9 & -6 & 3\\\\2 & -6 & 4 & -2\\\\-1 & 3 & -2 & 2\\end{matrix}\\right]$"
      ],
      "text/plain": [
       "Matrix([\n",
       "[ 0, -3,  2, -1],\n",
       "[-3,  9, -6,  3],\n",
       "[ 2, -6,  4, -2],\n",
       "[-1,  3, -2,  2]])"
      ]
     },
     "execution_count": 18,
     "metadata": {},
     "output_type": "execute_result"
    }
   ],
   "source": [
    "A = Matrix([\n",
    "    [0,-3,2,-1],\n",
    "    [-3,9,-6,3],\n",
    "    [2,-6,4,-2],\n",
    "    [-1, 3, -2, 2]\n",
    "])\n",
    "A"
   ]
  },
  {
   "cell_type": "code",
   "execution_count": 19,
   "id": "9b560343",
   "metadata": {
    "slideshow": {
     "slide_type": "slide"
    }
   },
   "outputs": [
    {
     "data": {
      "text/plain": [
       "[(0,\n",
       "  1,\n",
       "  [Matrix([\n",
       "   [  0],\n",
       "   [2/3],\n",
       "   [  1],\n",
       "   [  0]])]),\n",
       " (5 + (-1/2 - sqrt(3)*I/2)*(121 + sqrt(131007)*I/9)**(1/3) + 76/(3*(-1/2 - sqrt(3)*I/2)*(121 + sqrt(131007)*I/9)**(1/3)),\n",
       "  1,\n",
       "  [Matrix([\n",
       "   [             -66 - 1216/(3*(-1/2 - sqrt(3)*I/2)*(121 + sqrt(131007)*I/9)**(1/3)) + (5 + (-1/2 - sqrt(3)*I/2)*(121 + sqrt(131007)*I/9)**(1/3) + 76/(3*(-1/2 - sqrt(3)*I/2)*(121 + sqrt(131007)*I/9)**(1/3)))**2 - 16*(-1/2 - sqrt(3)*I/2)*(121 + sqrt(131007)*I/9)**(1/3)],\n",
       "   [-189/13 - 1140/(13*(-1/2 - sqrt(3)*I/2)*(121 + sqrt(131007)*I/9)**(1/3)) + 3*(5 + (-1/2 - sqrt(3)*I/2)*(121 + sqrt(131007)*I/9)**(1/3) + 76/(3*(-1/2 - sqrt(3)*I/2)*(121 + sqrt(131007)*I/9)**(1/3)))**2/13 - 45*(-1/2 - sqrt(3)*I/2)*(121 + sqrt(131007)*I/9)**(1/3)/13],\n",
       "   [  126/13 + 30*(-1/2 - sqrt(3)*I/2)*(121 + sqrt(131007)*I/9)**(1/3)/13 - 2*(5 + (-1/2 - sqrt(3)*I/2)*(121 + sqrt(131007)*I/9)**(1/3) + 76/(3*(-1/2 - sqrt(3)*I/2)*(121 + sqrt(131007)*I/9)**(1/3)))**2/13 + 760/(13*(-1/2 - sqrt(3)*I/2)*(121 + sqrt(131007)*I/9)**(1/3))],\n",
       "   [                                                                                                                                                                                                                                                                       1]])]),\n",
       " (5 + 76/(3*(-1/2 + sqrt(3)*I/2)*(121 + sqrt(131007)*I/9)**(1/3)) + (-1/2 + sqrt(3)*I/2)*(121 + sqrt(131007)*I/9)**(1/3),\n",
       "  1,\n",
       "  [Matrix([\n",
       "   [             -66 - 16*(-1/2 + sqrt(3)*I/2)*(121 + sqrt(131007)*I/9)**(1/3) + (5 + 76/(3*(-1/2 + sqrt(3)*I/2)*(121 + sqrt(131007)*I/9)**(1/3)) + (-1/2 + sqrt(3)*I/2)*(121 + sqrt(131007)*I/9)**(1/3))**2 - 1216/(3*(-1/2 + sqrt(3)*I/2)*(121 + sqrt(131007)*I/9)**(1/3))],\n",
       "   [-189/13 - 45*(-1/2 + sqrt(3)*I/2)*(121 + sqrt(131007)*I/9)**(1/3)/13 + 3*(5 + 76/(3*(-1/2 + sqrt(3)*I/2)*(121 + sqrt(131007)*I/9)**(1/3)) + (-1/2 + sqrt(3)*I/2)*(121 + sqrt(131007)*I/9)**(1/3))**2/13 - 1140/(13*(-1/2 + sqrt(3)*I/2)*(121 + sqrt(131007)*I/9)**(1/3))],\n",
       "   [  126/13 + 760/(13*(-1/2 + sqrt(3)*I/2)*(121 + sqrt(131007)*I/9)**(1/3)) - 2*(5 + 76/(3*(-1/2 + sqrt(3)*I/2)*(121 + sqrt(131007)*I/9)**(1/3)) + (-1/2 + sqrt(3)*I/2)*(121 + sqrt(131007)*I/9)**(1/3))**2/13 + 30*(-1/2 + sqrt(3)*I/2)*(121 + sqrt(131007)*I/9)**(1/3)/13],\n",
       "   [                                                                                                                                                                                                                                                                       1]])]),\n",
       " (5 + 76/(3*(121 + sqrt(131007)*I/9)**(1/3)) + (121 + sqrt(131007)*I/9)**(1/3),\n",
       "  1,\n",
       "  [Matrix([\n",
       "   [             -66 - 16*(121 + sqrt(131007)*I/9)**(1/3) + (5 + 76/(3*(121 + sqrt(131007)*I/9)**(1/3)) + (121 + sqrt(131007)*I/9)**(1/3))**2 - 1216/(3*(121 + sqrt(131007)*I/9)**(1/3))],\n",
       "   [-189/13 - 45*(121 + sqrt(131007)*I/9)**(1/3)/13 + 3*(5 + 76/(3*(121 + sqrt(131007)*I/9)**(1/3)) + (121 + sqrt(131007)*I/9)**(1/3))**2/13 - 1140/(13*(121 + sqrt(131007)*I/9)**(1/3))],\n",
       "   [  126/13 + 760/(13*(121 + sqrt(131007)*I/9)**(1/3)) - 2*(5 + 76/(3*(121 + sqrt(131007)*I/9)**(1/3)) + (121 + sqrt(131007)*I/9)**(1/3))**2/13 + 30*(121 + sqrt(131007)*I/9)**(1/3)/13],\n",
       "   [                                                                                                                                                                                   1]])])]"
      ]
     },
     "execution_count": 19,
     "metadata": {},
     "output_type": "execute_result"
    }
   ],
   "source": [
    "A.eigenvects()"
   ]
  },
  {
   "cell_type": "markdown",
   "id": "1d35b521",
   "metadata": {
    "slideshow": {
     "slide_type": "slide"
    }
   },
   "source": [
    "### Facts about eigenvalues and eigenvectors\n",
    "\n",
    "- An $n\\times n$ matrix has between 0 and $n$ eigenvalues.\n",
    "- Each eigenvalue has a certain *algebraic multiplicity* between $1$ and $n$.\n",
    "- The sum of the algebraic multiplicities is $\\leq n$.\n",
    "- For each eigenvalue, there is a number $k$ of eigenvectors. $k$ is between $1$ and the algebraic multiplicity of the eigenvalue.\n",
    "- The number of eigenvectors for an eigenvalue is called its *geometric multiplicity*."
   ]
  },
  {
   "cell_type": "markdown",
   "id": "d0476bfd",
   "metadata": {
    "slideshow": {
     "slide_type": "slide"
    }
   },
   "source": [
    "## Eigenspaces\n",
    "\n",
    "\n",
    "- **Eigenspaces** are fundamental concepts in linear algebra, associated with eigenvalues and eigenvectors of a matrix.\n",
    "- **Definition:** The eigenspace of an eigenvalue is the set of all vectors that, when multiplied by the matrix, result in a vector that is a scalar multiple of the original vector.\n",
    "- **Mathematically:** If $A$ is a matrix and λ is an eigenvalue, then the eigenspace of λ is the set of all vectors \n",
    "$\\mathbf v$ satisfying \n",
    "$$\n",
    "A\\mathbf v=λ\\mathbf v\n",
    "$$\n"
   ]
  },
  {
   "cell_type": "markdown",
   "id": "0f3968a0",
   "metadata": {
    "slideshow": {
     "slide_type": "slide"
    }
   },
   "source": [
    "### Eigenvector and Eigenvalue Relationship\n",
    "\n",
    "The relationship between eigenvectors and eigenvalues is at the heart of understanding eigenspaces.\n",
    "\n",
    "- **Eigenvectors**: Vectors that, when transformed by the matrix, only change in scale, not direction.\n",
    "- **Eigenvalues**: The scalars by which the eigenvectors are scaled during this transformation.\n",
    "\n",
    "**Key Point**: Each eigenvalue has an associated eigenspace, which is a subspace of the vector space."
   ]
  },
  {
   "cell_type": "markdown",
   "id": "83e1aee6",
   "metadata": {
    "slideshow": {
     "slide_type": "slide"
    }
   },
   "source": [
    "### Computing Eigenspaces\n",
    "\n",
    "To find the eigenspace of an eigenvalue:\n",
    "\n",
    "1. **Determine Eigenvalues**: Solve $ \\det(A - \\lambda I) = 0 $ to find the eigenvalues $\\lambda$.\n",
    "2. **Find Eigenvectors**: Solve $ (A - \\lambda I)\\mathbf v = 0 $ for each eigenvalue to find the corresponding eigenvectors $ \\mathbf v $.\n",
    "3. **Form Eigenspace**: The set of all eigenvectors, including the zero vector, forms the eigenspace for the eigenvalue.\n",
    "\n",
    "**Example**: For matrix $ A $ and eigenvalue $ \\lambda $, the eigenspace is the solution to $ A\\mathbf v = \\lambda \\mathbf v $.\n"
   ]
  },
  {
   "cell_type": "markdown",
   "id": "eca72ca6",
   "metadata": {
    "slideshow": {
     "slide_type": "slide"
    }
   },
   "source": [
    "### Properties and Applications of Eigenspaces\n",
    "\n",
    "**Properties**:\n",
    "- The eigenspace of an eigenvalue is a linear subspace.\n",
    "- Dimension of the eigenspace is the geometric multiplicity of the eigenvalue.\n",
    "\n",
    "**Applications**:\n",
    "- Used in diagonalization of matrices.\n",
    "- Important in fields like quantum mechanics, vibrations analysis, facial recognition, and more.\n",
    "\n",
    "**Conclusion**: Understanding eigenspaces is crucial for grasping the behavior of linear transformations and matrices.\n"
   ]
  },
  {
   "cell_type": "markdown",
   "id": "b7fcb3e9",
   "metadata": {
    "slideshow": {
     "slide_type": "slide"
    }
   },
   "source": [
    "### Triangular matrices\n",
    "\n",
    "$$\n",
    "\\begin{aligned}\n",
    "A &= \n",
    "\\begin{bmatrix}\n",
    "1 & 4 & 1\\\\\n",
    "0 & 6 & 4\\\\\n",
    "0 & 0 & 2\n",
    "\\end{bmatrix}\\\\\n",
    "A -\\lambda \\mathbf I &= \n",
    "\\begin{vmatrix}\n",
    "1-\\lambda & 4 & 1\\\\\n",
    "0 & 6-\\lambda & 4\\\\\n",
    "0 & 0 & 2-\\lambda \n",
    "\\end{vmatrix}\\\\\n",
    "&= 0\\\\\n",
    "(1-\\lambda)(6-\\lambda)(2-\\lambda) &= 0\\\\\n",
    "\\lambda_1 &= 6\\\\\n",
    "\\lambda_2 &= 2\\\\\n",
    "\\lambda_3 &= 1\n",
    "\\end{aligned}\n",
    "$$\n",
    "\n",
    "**In triangular matrices, the diagonal entries are the eigenvalues.**"
   ]
  },
  {
   "cell_type": "markdown",
   "id": "8ffe177c",
   "metadata": {
    "slideshow": {
     "slide_type": "slide"
    }
   },
   "source": [
    "## Matrix diagonalization\n",
    "\n",
    "Let $A$ be an $n\\times n$ matrix, which has $n$ **linearly independent eigenvectors** $\\mathbf v_1,\\ldots, \\mathbf v_n$. (This means that the algebraic and the geometric multiplicities both sum up to $n$.)\n",
    "\n",
    "Let \n",
    "\n",
    "$$\n",
    "V = \\begin{bmatrix}\n",
    "| & \\cdots & |\\\\\n",
    "\\mathbf v_1&\\cdots & \\mathbf v_n\\\\\n",
    "| & \\cdots & |\\\\\n",
    "\\end{bmatrix}\n",
    "$$\n",
    "\n",
    "Let $\\lambda_1, \\ldots, \\lambda_n$ be the corresponding eigenvalues.\n",
    "\n",
    "$$\n",
    "\\begin{aligned}\n",
    "A\\mathbf v_1 &= \\lambda_1 \\mathbf v_1\\\\\n",
    " & \\vdots \\\\\n",
    "A\\mathbf v_n &= \\lambda_1 \\mathbf v_n\n",
    "\\end{aligned}\n",
    "$$\n",
    "\n"
   ]
  },
  {
   "cell_type": "markdown",
   "id": "53e48cbd",
   "metadata": {
    "slideshow": {
     "slide_type": "slide"
    }
   },
   "source": [
    "In matrix notation:\n",
    "\n",
    "$$\n",
    "\\begin{aligned}\n",
    "A\\begin{bmatrix}\n",
    "| & \\cdots & |\\\\\n",
    "\\mathbf v_1&\\cdots & \\mathbf v_n\\\\\n",
    "| & \\cdots & |\\\\\n",
    "\\end{bmatrix} &= \n",
    "\\begin{bmatrix}\n",
    "| & \\cdots & |\\\\\n",
    "\\mathbf \\lambda_1 v_1&\\cdots & \\lambda_n \\mathbf v_n\\\\\n",
    "| & \\cdots & |\\\\\n",
    "\\end{bmatrix}\\\\\n",
    "AV &= \\begin{bmatrix}\n",
    "| & \\cdots & |\\\\\n",
    "\\mathbf \\lambda_1 v_1&\\cdots & \\lambda_n \\mathbf v_n\\\\\n",
    "| & \\cdots & |\\\\\n",
    "\\end{bmatrix}\\\\\n",
    "AV &= V\\begin{bmatrix}\n",
    "\\lambda_1 & \\cdots & 0\\\\\n",
    "0 & \\ddots & 0\\\\\n",
    "0 & \\cdots & \\lambda_n\n",
    "\\end{bmatrix}\n",
    "\\end{aligned}\n",
    "$$\n"
   ]
  },
  {
   "cell_type": "markdown",
   "id": "6f38257c",
   "metadata": {
    "slideshow": {
     "slide_type": "slide"
    }
   },
   "source": [
    "Let $\\Lambda$ be the diagonal matrix with $\\lambda_1,\\ldots,\\lambda_n$ as diagonal entries.\n",
    "\n",
    "$$\n",
    "AV = V\\Lambda\n",
    "$$\n",
    "\n",
    "By assumption, $V$ has independent columns, so it is invertible. Therefore\n",
    "\n",
    "$$\n",
    "A = V\\Lambda V^{-1}\n",
    "$$\n",
    "\n",
    "It also holds that:\n",
    "\n",
    "$$\n",
    "V^{-1}AV = \\Lambda\n",
    "$$\n",
    "\n",
    "This operation is called **diagonalization** of $A$, since $A$ is converted to a diagonal matrix."
   ]
  },
  {
   "cell_type": "markdown",
   "id": "22491cad",
   "metadata": {
    "slideshow": {
     "slide_type": "slide"
    }
   },
   "source": [
    "### Example\n",
    "\n",
    "$$\n",
    "\\begin{aligned}\n",
    "A &= \\left[\\begin{matrix}0.8 & 0.3\\\\0.2 & 0.7\\end{matrix}\\right]\\\\\n",
    "V &= \n",
    "\\begin{bmatrix}\n",
    "3 & -1\\\\\n",
    "2 & 1\n",
    "\\end{bmatrix}\\\\\n",
    "\\Lambda &= \\begin{bmatrix}\n",
    "1 & 0\\\\\n",
    "0 & 0.5\n",
    "\\end{bmatrix}\\\\\n",
    "V^{-1} &= \n",
    "\\begin{bmatrix}\n",
    "0.2 & 0.2\\\\\n",
    "-0.4 & 0.6\n",
    "\\end{bmatrix}\\\\\n",
    "A &= V \\Lambda V^{-1}\\\\\n",
    "\\left[\\begin{matrix}0.8 & 0.3\\\\0.2 & 0.7\\end{matrix}\\right] &=\n",
    "\\begin{bmatrix}\n",
    "3 & -1\\\\\n",
    "2 & 1\n",
    "\\end{bmatrix}\\begin{bmatrix}\n",
    "1 & 0\\\\\n",
    "0 & 0.5\n",
    "\\end{bmatrix}\\begin{bmatrix}\n",
    "0.2 & 0.2\\\\\n",
    "-0.4 & 0.6\n",
    "\\end{bmatrix}\\\\\n",
    "\\Lambda &= V^{-1}AV\\\\\n",
    "\\begin{bmatrix}\n",
    "1 & 0\\\\\n",
    "0 & 0.5\n",
    "\\end{bmatrix} &= \\begin{bmatrix}\n",
    "0.2 & 0.2\\\\\n",
    "-0.4 & 0.6\n",
    "\\end{bmatrix}\\left[\\begin{matrix}0.8 & 0.3\\\\0.2 & 0.7\\end{matrix}\\right]\\begin{bmatrix}\n",
    "3 & -1\\\\\n",
    "2 & 1\n",
    "\\end{bmatrix}\n",
    "\\end{aligned}\n",
    "$$\n"
   ]
  },
  {
   "cell_type": "markdown",
   "id": "599fed3f",
   "metadata": {
    "slideshow": {
     "slide_type": "slide"
    }
   },
   "source": [
    "### Matrix power\n",
    "\n",
    "Suppose $\\lambda, \\mathbf v$ are an eigenvalue and a corresponding eigenvector of $A$.\n",
    "\n",
    "$$\n",
    "\\begin{aligned}\n",
    "A\\mathbf v &= \\lambda \\mathbf v\\\\\n",
    "A^2\\mathbf v &= A\\lambda \\mathbf v\\\\\n",
    "&= \\lambda A\\mathbf v\\\\\n",
    "&= \\lambda ^2 \\mathbf v\n",
    "\\end{aligned}\n",
    "$$\n",
    "\n",
    "$\\mathbf v$ is also an eigenvector of $A^2$, and $\\lambda^2$ is the corresponding eigenvalue.\n",
    "\n",
    "Likewise, $\\mathbf v$ is also an eigenvector of $A^k$, and $\\lambda^k$ is the corresponding eigenvalue."
   ]
  },
  {
   "cell_type": "markdown",
   "id": "7e5a0876",
   "metadata": {
    "slideshow": {
     "slide_type": "slide"
    }
   },
   "source": [
    "### Matrix power\n",
    "\n",
    "Suppose $A$ is diagonalizable.\n",
    "\n",
    "$$\n",
    "\\begin{aligned}\n",
    "A &= V\\Lambda V^{-1}\\\\\n",
    "A^2 &= V\\Lambda V^{-1}V\\Lambda V^{-1}\\\\\n",
    "&= V\\Lambda^2V^{-1}\\\\\n",
    "&\\vdots\\\\\n",
    "A^k &= V\\Lambda^nV^{-1}\\\\\n",
    "&= V\n",
    "\\begin{bmatrix}\n",
    "\\lambda_1^k & \\cdots & 0\\\\\n",
    "0 & \\ddots & 0\\\\\n",
    "0 & \\cdots & \\lambda_n^k\n",
    "\\end{bmatrix}\n",
    "V^{-1}\\\\\n",
    "\\end{aligned}\n",
    "$$\n",
    "\n"
   ]
  },
  {
   "cell_type": "markdown",
   "id": "68ab6a88",
   "metadata": {
    "slideshow": {
     "slide_type": "slide"
    }
   },
   "source": [
    "## Matrix exponential\n",
    "\n",
    "If $A$ is diagonalizable:\n",
    "\n",
    "$$\n",
    "e^A = V\n",
    "\\begin{bmatrix}\n",
    "e^\\lambda_1 & \\cdots & 0\\\\\n",
    "0 & \\ddots & 0\\\\\n",
    "0 & \\cdots & ^e\\lambda_n\n",
    "\\end{bmatrix}\n",
    "V^{-1}\\\\\n",
    "$$\n",
    "\n"
   ]
  },
  {
   "cell_type": "markdown",
   "id": "f4f9b580",
   "metadata": {
    "slideshow": {
     "slide_type": "slide"
    }
   },
   "source": [
    "## Defective matrices\n",
    "\n",
    "**Defective Matrices** are square matrices that lack a complete set of linearly independent eigenvectors.\n",
    "\n",
    "- **Characteristics**:\n",
    "  - Cannot be diagonalized.\n",
    "  - The geometric multiplicity of at least one eigenvalue is less than its algebraic multiplicity.\n",
    "- **Implications**:\n",
    "  - Standard techniques like diagonalization are not directly applicable.\n",
    "  - Requires alternative methods for analysis, like Jordan canonical form."
   ]
  },
  {
   "cell_type": "markdown",
   "id": "d26a542e",
   "metadata": {
    "slideshow": {
     "slide_type": "slide"
    }
   },
   "source": [
    "### Algebraic vs Geometric Multiplicity\n",
    "\n",
    "The concept of a defective matrix is rooted in the difference between algebraic and geometric multiplicities of eigenvalues.\n",
    "\n",
    "- **Algebraic Multiplicity**: The number of times an eigenvalue appears as a root of the characteristic polynomial.\n",
    "- **Geometric Multiplicity**: The number of linearly independent eigenvectors associated with an eigenvalue.\n",
    "\n",
    "**Defective Matrix Criterion**: A matrix is defective if, for any eigenvalue, its geometric multiplicity is less than its algebraic multiplicity.\n"
   ]
  },
  {
   "cell_type": "markdown",
   "id": "7374f6ed",
   "metadata": {
    "slideshow": {
     "slide_type": "slide"
    }
   },
   "source": [
    "### Diagonalization and Defective Matrices\n",
    "\n",
    "Diagonalization is a key concept in understanding defective matrices.\n",
    "\n",
    "- **Diagonalizable Matrix**: Can be expressed as $$P^{-1}AP = D,$$ where $ A $ is the matrix, $ P $ contains the eigenvectors, and $ D $ is a diagonal matrix of eigenvalues.\n",
    "- **Defective Matrix**: Lacks enough linearly independent eigenvectors to form matrix $ P $, making diagonalization impossible.\n",
    "\n",
    "**Result**: Alternative methods, like Jordan canonical form, are needed to analyze defective matrices.\n"
   ]
  },
  {
   "cell_type": "markdown",
   "id": "0f72f4ba",
   "metadata": {
    "slideshow": {
     "slide_type": "slide"
    }
   },
   "source": [
    "### Example of a Defective Matrix\n",
    "\n",
    "Consider the matrix $$ A = \\begin{pmatrix} 5 & 4 \\\\ -1 & 1 \\end{pmatrix} $$.\n",
    "\n",
    "- **Characteristic Polynomial**: $$ (5 - \\lambda)(1 - \\lambda) + 4,$$ leads to a single eigenvalue $\\lambda = 3$ with algebraic multiplicity 2.\n",
    "- **Eigenvectors**: Solving $$(A - 3I)\\mathbf v = 0$$ yields only one linearly independent eigenvector.\n",
    "\n",
    "**Conclusion**: Matrix $A$ is defective as it has fewer linearly independent eigenvectors than the algebraic multiplicity of its eigenvalue."
   ]
  },
  {
   "cell_type": "markdown",
   "id": "1f72ddd9",
   "metadata": {
    "slideshow": {
     "slide_type": "slide"
    }
   },
   "source": [
    "### Working with Defective Matrices\n",
    "\n",
    "Handling defective matrices requires alternative approaches:\n",
    "\n",
    "- **Jordan Canonical Form**: A way to bring matrices to a nearly diagonal form, useful for defective matrices.\n",
    "- **Applications**:\n",
    "  - In fields where diagonalization is crucial but not directly applicable.\n",
    "  - In studying systems with complex or repeated eigenvalues.\n",
    "\n",
    "\n"
   ]
  },
  {
   "cell_type": "markdown",
   "id": "e70a72fd",
   "metadata": {
    "slideshow": {
     "slide_type": "slide"
    }
   },
   "source": [
    "### Jordan Canonical Form: An Introduction\n",
    "\n",
    "**Jordan Canonical Form** (JCF) is a fundamental concept in linear algebra for simplifying the study of linear transformations and matrices.\n",
    "\n",
    "- **Purpose**: Provides a simplified form for matrices, especially useful for non-diagonalizable (defective) matrices.\n",
    "- **Structure**: Consists of Jordan blocks along its diagonal, representing the eigenvalues of the matrix.\n"
   ]
  },
  {
   "cell_type": "markdown",
   "id": "d432988c",
   "metadata": {
    "slideshow": {
     "slide_type": "slide"
    }
   },
   "source": [
    "### Understanding Jordan Blocks\n",
    "\n",
    "A **Jordan Block** is a key component of the Jordan Canonical Form.\n",
    "\n",
    "- **Definition**: A square matrix with an eigenvalue repeated along the main diagonal, ones on the superdiagonal, and zeros elsewhere.\n",
    "- **Example**:\n",
    "  - A 3x3 Jordan block for eigenvalue $ \\lambda $ looks like:\n",
    "    $$\n",
    "    \\begin{pmatrix}\n",
    "    \\lambda & 1 & 0 \\\\\n",
    "    0 & \\lambda & 1 \\\\\n",
    "    0 & 0 & \\lambda\n",
    "    \\end{pmatrix}\n",
    "    $$\n",
    "\n",
    "**Significance**: Each Jordan block corresponds to an eigenvalue and its associated generalized eigenvectors.\n"
   ]
  },
  {
   "cell_type": "markdown",
   "id": "e17a0f31",
   "metadata": {
    "slideshow": {
     "slide_type": "slide"
    }
   },
   "source": [
    "### Generalized Eigenvectors\n",
    "\n",
    "**Generalized Eigenvectors** are essential in constructing the Jordan Canonical Form.\n",
    "\n",
    "- **Definition**: Vectors that are not eigenvectors but satisfy $$(A - \\lambda I)^k v = 0$$ for some integer $$k > 1$$.\n",
    "- **Role**: Used when a matrix does not have enough linearly independent eigenvectors (defective matrix).\n",
    "- **Significance**: Help in forming the Jordan blocks where each block corresponds to an eigenvalue and its generalized eigenvectors.\n"
   ]
  },
  {
   "cell_type": "markdown",
   "id": "6ce58e34",
   "metadata": {
    "slideshow": {
     "slide_type": "slide"
    }
   },
   "source": [
    "### Applications of Jordan Canonical Form\n",
    "\n",
    "**Jordan Canonical Form** is used for:\n",
    "\n",
    "- **Simplifying Matrix Powers and Polynomials**:\n",
    "  - Easier computation of $ A^n $ for matrix powers.\n",
    "- **Computing Matrix Exponential**:\n",
    "  - Useful in solving systems of linear differential equations by simplifying $ e^{At} $.\n",
    "- **Theoretical Analysis**:\n",
    "  - Provides insights into the structure and behavior of linear transformations.\n",
    "\n",
    "*Note*: The next slides detail the computation of matrix powers and exponentials using JCF.\n"
   ]
  },
  {
   "cell_type": "markdown",
   "id": "5bb7e118",
   "metadata": {
    "slideshow": {
     "slide_type": "slide"
    }
   },
   "source": [
    "### Computing Matrix Power using JCF\n",
    "\n",
    "To compute $ A^n $ for a defective matrix $ A $:\n",
    "\n",
    "1. **JCF Decomposition**:\n",
    "   - Decompose $ A $ into its JCF, $$ A = PJP^{-1} $$.\n",
    "2. **Compute Power of JCF**:\n",
    "   - Compute $ J^n $, which is simpler due to the Jordan block structure.\n",
    "3. **Transform Back**:\n",
    "   - Compute $$ A^n = PJ^nP^{-1} $$.\n",
    "\n",
    "*Example*: For a Jordan block $$ J = \\begin{pmatrix} \\lambda & 1 \\\\ 0 & \\lambda \\end{pmatrix}, $$ $ J^n $ involves $ \\lambda^n $ and terms with powers of $ n $.\n"
   ]
  },
  {
   "cell_type": "markdown",
   "id": "82a99384",
   "metadata": {
    "slideshow": {
     "slide_type": "slide"
    }
   },
   "source": [
    "# Computing Matrix Exponential using JCF\n",
    "\n",
    "To compute the matrix exponential $ e^{At} $:\n",
    "\n",
    "1. **JCF Decomposition**:\n",
    "   - Decompose $ A $ into its JCF, $ A = PJP^{-1} $.\n",
    "2. **Exponential of JCF**:\n",
    "   - Compute $ e^{Jt} $, easier for Jordan blocks.\n",
    "3. **Transform Back**:\n",
    "   - Compute $ e^{At} = Pe^{Jt}P^{-1} $.\n",
    "\n",
    "*Example*: For a Jordan block $$ J = \\begin{pmatrix} \\lambda & 1 \\\\ 0 & \\lambda \\end{pmatrix}, $$ $ e^{Jt} $ involves $ e^{\\lambda t} $ and terms with $ t $:\n",
    "\n",
    "$$\n",
    "e^{Jt} = \\begin{pmatrix}\n",
    "e^{\\lambda t} & te^{\\lambda t}\\\\\n",
    "0 & e^{\\lambda t}\n",
    "\\end{pmatrix}\n",
    "$$\n"
   ]
  },
  {
   "cell_type": "markdown",
   "id": "2755d20c",
   "metadata": {
    "slideshow": {
     "slide_type": "slide"
    }
   },
   "source": [
    "**Sympy**"
   ]
  },
  {
   "cell_type": "code",
   "execution_count": 37,
   "id": "c0fd7912",
   "metadata": {},
   "outputs": [
    {
     "data": {
      "text/latex": [
       "$\\displaystyle \\left[\\begin{matrix}5 & 4\\\\-1 & 1\\end{matrix}\\right]$"
      ],
      "text/plain": [
       "Matrix([\n",
       "[ 5, 4],\n",
       "[-1, 1]])"
      ]
     },
     "execution_count": 37,
     "metadata": {},
     "output_type": "execute_result"
    }
   ],
   "source": [
    "A = Matrix([[5, 4], [-1, 1]])\n",
    "\n",
    "A\n"
   ]
  },
  {
   "cell_type": "code",
   "execution_count": 44,
   "id": "c87c8d81",
   "metadata": {},
   "outputs": [
    {
     "name": "stdout",
     "output_type": "stream",
     "text": [
      "J: \n"
     ]
    },
    {
     "data": {
      "text/latex": [
       "$\\displaystyle \\left[\\begin{matrix}3 & 1\\\\0 & 3\\end{matrix}\\right]$"
      ],
      "text/plain": [
       "Matrix([\n",
       "[3, 1],\n",
       "[0, 3]])"
      ]
     },
     "execution_count": 44,
     "metadata": {},
     "output_type": "execute_result"
    }
   ],
   "source": [
    "P, J = A.jordan_form()\n",
    "print(\"J: \")\n",
    "J"
   ]
  },
  {
   "cell_type": "code",
   "execution_count": 45,
   "id": "9e6ad8cc",
   "metadata": {},
   "outputs": [
    {
     "name": "stdout",
     "output_type": "stream",
     "text": [
      "P: \n"
     ]
    },
    {
     "data": {
      "text/latex": [
       "$\\displaystyle \\left[\\begin{matrix}2 & 1\\\\-1 & 0\\end{matrix}\\right]$"
      ],
      "text/plain": [
       "Matrix([\n",
       "[ 2, 1],\n",
       "[-1, 0]])"
      ]
     },
     "execution_count": 45,
     "metadata": {},
     "output_type": "execute_result"
    }
   ],
   "source": [
    "print(\"P: \")\n",
    "P"
   ]
  },
  {
   "cell_type": "code",
   "execution_count": 47,
   "id": "fa89347b",
   "metadata": {},
   "outputs": [
    {
     "data": {
      "text/latex": [
       "$\\displaystyle \\left[\\begin{matrix}5 & 4\\\\-1 & 1\\end{matrix}\\right]$"
      ],
      "text/plain": [
       "Matrix([\n",
       "[ 5, 4],\n",
       "[-1, 1]])"
      ]
     },
     "execution_count": 47,
     "metadata": {},
     "output_type": "execute_result"
    }
   ],
   "source": [
    "P * J * P.inv()"
   ]
  },
  {
   "cell_type": "code",
   "execution_count": 48,
   "id": "f7f4c6f8",
   "metadata": {},
   "outputs": [],
   "source": [
    "t, k = symbols(\"t k\")"
   ]
  },
  {
   "cell_type": "code",
   "execution_count": 57,
   "id": "015f292a",
   "metadata": {},
   "outputs": [
    {
     "data": {
      "text/latex": [
       "$\\displaystyle \\left[\\begin{matrix}3^{k} & 3^{k - 1} k\\\\0 & 3^{k}\\end{matrix}\\right]$"
      ],
      "text/plain": [
       "Matrix([\n",
       "[3**k, 3**(k - 1)*k],\n",
       "[   0,         3**k]])"
      ]
     },
     "execution_count": 57,
     "metadata": {},
     "output_type": "execute_result"
    }
   ],
   "source": [
    "J**k"
   ]
  },
  {
   "cell_type": "code",
   "execution_count": 58,
   "id": "5fb3b7d3",
   "metadata": {},
   "outputs": [
    {
     "data": {
      "text/latex": [
       "$\\displaystyle \\left[\\begin{matrix}e^{3 t} & t e^{3 t}\\\\0 & e^{3 t}\\end{matrix}\\right]$"
      ],
      "text/plain": [
       "Matrix([\n",
       "[exp(3*t), t*exp(3*t)],\n",
       "[       0,   exp(3*t)]])"
      ]
     },
     "execution_count": 58,
     "metadata": {},
     "output_type": "execute_result"
    }
   ],
   "source": [
    "exp(t*J)"
   ]
  },
  {
   "cell_type": "code",
   "execution_count": 59,
   "id": "919e8607",
   "metadata": {
    "slideshow": {
     "slide_type": "slide"
    }
   },
   "outputs": [
    {
     "data": {
      "text/latex": [
       "$\\displaystyle \\left[\\begin{matrix}4 & 0 & 0 & 1\\\\0 & 4 & 1 & 0\\\\0 & 0 & 4 & 0\\\\0 & 0 & 0 & 4\\end{matrix}\\right]$"
      ],
      "text/plain": [
       "Matrix([\n",
       "[4, 0, 0, 1],\n",
       "[0, 4, 1, 0],\n",
       "[0, 0, 4, 0],\n",
       "[0, 0, 0, 4]])"
      ]
     },
     "execution_count": 59,
     "metadata": {},
     "output_type": "execute_result"
    }
   ],
   "source": [
    "A = Matrix([\n",
    "    [4, 0, 0, 1],\n",
    "    [0, 4, 1, 0],\n",
    "    [0, 0, 4, 0],\n",
    "    [0, 0, 0, 4]\n",
    "])\n",
    "A"
   ]
  },
  {
   "cell_type": "code",
   "execution_count": 60,
   "id": "92193e24",
   "metadata": {},
   "outputs": [
    {
     "name": "stdout",
     "output_type": "stream",
     "text": [
      "J: \n"
     ]
    },
    {
     "data": {
      "text/latex": [
       "$\\displaystyle \\left[\\begin{matrix}4 & 1 & 0 & 0\\\\0 & 4 & 0 & 0\\\\0 & 0 & 4 & 1\\\\0 & 0 & 0 & 4\\end{matrix}\\right]$"
      ],
      "text/plain": [
       "Matrix([\n",
       "[4, 1, 0, 0],\n",
       "[0, 4, 0, 0],\n",
       "[0, 0, 4, 1],\n",
       "[0, 0, 0, 4]])"
      ]
     },
     "execution_count": 60,
     "metadata": {},
     "output_type": "execute_result"
    }
   ],
   "source": [
    "P, J = A.jordan_form()\n",
    "print(\"J: \")\n",
    "J"
   ]
  },
  {
   "cell_type": "code",
   "execution_count": 61,
   "id": "d37ef5ab",
   "metadata": {},
   "outputs": [
    {
     "name": "stdout",
     "output_type": "stream",
     "text": [
      "P: \n"
     ]
    },
    {
     "data": {
      "text/latex": [
       "$\\displaystyle \\left[\\begin{matrix}0 & 0 & 1 & 0\\\\1 & 0 & 0 & 0\\\\0 & 1 & 0 & 0\\\\0 & 0 & 0 & 1\\end{matrix}\\right]$"
      ],
      "text/plain": [
       "Matrix([\n",
       "[0, 0, 1, 0],\n",
       "[1, 0, 0, 0],\n",
       "[0, 1, 0, 0],\n",
       "[0, 0, 0, 1]])"
      ]
     },
     "execution_count": 61,
     "metadata": {},
     "output_type": "execute_result"
    }
   ],
   "source": [
    "print(\"P: \")\n",
    "P"
   ]
  },
  {
   "cell_type": "code",
   "execution_count": 62,
   "id": "32d0728f",
   "metadata": {},
   "outputs": [
    {
     "data": {
      "text/latex": [
       "$\\displaystyle \\left[\\begin{matrix}4^{k} & 4^{k - 1} k & 0 & 0\\\\0 & 4^{k} & 0 & 0\\\\0 & 0 & 4^{k} & 4^{k - 1} k\\\\0 & 0 & 0 & 4^{k}\\end{matrix}\\right]$"
      ],
      "text/plain": [
       "Matrix([\n",
       "[4**k, 4**(k - 1)*k,    0,            0],\n",
       "[   0,         4**k,    0,            0],\n",
       "[   0,            0, 4**k, 4**(k - 1)*k],\n",
       "[   0,            0,    0,         4**k]])"
      ]
     },
     "execution_count": 62,
     "metadata": {},
     "output_type": "execute_result"
    }
   ],
   "source": [
    "J**k"
   ]
  },
  {
   "cell_type": "code",
   "execution_count": 63,
   "id": "3142bc4d",
   "metadata": {},
   "outputs": [
    {
     "data": {
      "text/latex": [
       "$\\displaystyle \\left[\\begin{matrix}e^{4 t} & t e^{4 t} & 0 & 0\\\\0 & e^{4 t} & 0 & 0\\\\0 & 0 & e^{4 t} & t e^{4 t}\\\\0 & 0 & 0 & e^{4 t}\\end{matrix}\\right]$"
      ],
      "text/plain": [
       "Matrix([\n",
       "[exp(4*t), t*exp(4*t),        0,          0],\n",
       "[       0,   exp(4*t),        0,          0],\n",
       "[       0,          0, exp(4*t), t*exp(4*t)],\n",
       "[       0,          0,        0,   exp(4*t)]])"
      ]
     },
     "execution_count": 63,
     "metadata": {},
     "output_type": "execute_result"
    }
   ],
   "source": [
    "exp(t*J)"
   ]
  },
  {
   "cell_type": "markdown",
   "id": "c640751f",
   "metadata": {
    "slideshow": {
     "slide_type": "slide"
    }
   },
   "source": [
    "### Symmetric matrices\n",
    "\n",
    "Symmetric matrices are particularly well-behaved, when it comes to eigenvectors.\n",
    "\n",
    "#### Theorem\n",
    "- For each $n\\times n$ symmetric matrix there is a set of $n$ independent eigenvectors.\n",
    "- These eigenvectors can be chose so that they are mutually orthogonal and have unit length.\n",
    "- Each symmetric matrix can be diagonalized by an orthogonal matrix."
   ]
  },
  {
   "cell_type": "code",
   "execution_count": 20,
   "id": "69f84d06",
   "metadata": {},
   "outputs": [
    {
     "data": {
      "text/latex": [
       "$\\displaystyle \\left[\\begin{matrix}1 & 2\\\\2 & 1\\end{matrix}\\right]$"
      ],
      "text/plain": [
       "Matrix([\n",
       "[1, 2],\n",
       "[2, 1]])"
      ]
     },
     "execution_count": 20,
     "metadata": {},
     "output_type": "execute_result"
    }
   ],
   "source": [
    "A = Matrix([\n",
    "    [1, 2],\n",
    "    [2, 1]\n",
    "])\n",
    "A"
   ]
  },
  {
   "cell_type": "code",
   "execution_count": 21,
   "id": "d389adb7",
   "metadata": {},
   "outputs": [],
   "source": [
    "V, L = A.diagonalize(normalize=True)"
   ]
  },
  {
   "cell_type": "code",
   "execution_count": 22,
   "id": "bc278633",
   "metadata": {},
   "outputs": [
    {
     "data": {
      "text/latex": [
       "$\\displaystyle \\left[\\begin{matrix}- \\frac{\\sqrt{2}}{2} & \\frac{\\sqrt{2}}{2}\\\\\\frac{\\sqrt{2}}{2} & \\frac{\\sqrt{2}}{2}\\end{matrix}\\right]$"
      ],
      "text/plain": [
       "Matrix([\n",
       "[-sqrt(2)/2, sqrt(2)/2],\n",
       "[ sqrt(2)/2, sqrt(2)/2]])"
      ]
     },
     "execution_count": 22,
     "metadata": {},
     "output_type": "execute_result"
    }
   ],
   "source": [
    "V"
   ]
  },
  {
   "cell_type": "code",
   "execution_count": 23,
   "id": "1aeb151e",
   "metadata": {},
   "outputs": [
    {
     "data": {
      "text/latex": [
       "$\\displaystyle \\left[\\begin{matrix}-1 & 0\\\\0 & 3\\end{matrix}\\right]$"
      ],
      "text/plain": [
       "Matrix([\n",
       "[-1, 0],\n",
       "[ 0, 3]])"
      ]
     },
     "execution_count": 23,
     "metadata": {},
     "output_type": "execute_result"
    }
   ],
   "source": [
    "L"
   ]
  },
  {
   "cell_type": "code",
   "execution_count": 24,
   "id": "afdf16b7",
   "metadata": {},
   "outputs": [
    {
     "data": {
      "text/latex": [
       "$\\displaystyle \\left[\\begin{matrix}1 & 2\\\\2 & 1\\end{matrix}\\right]$"
      ],
      "text/plain": [
       "Matrix([\n",
       "[1, 2],\n",
       "[2, 1]])"
      ]
     },
     "execution_count": 24,
     "metadata": {},
     "output_type": "execute_result"
    }
   ],
   "source": [
    "V * L * V.T"
   ]
  },
  {
   "cell_type": "code",
   "execution_count": 25,
   "id": "2120f98d",
   "metadata": {
    "slideshow": {
     "slide_type": "slide"
    }
   },
   "outputs": [
    {
     "data": {
      "text/latex": [
       "$\\displaystyle \\left[\\begin{matrix}1 & 0\\\\0 & 1\\end{matrix}\\right]$"
      ],
      "text/plain": [
       "Matrix([\n",
       "[1, 0],\n",
       "[0, 1]])"
      ]
     },
     "execution_count": 25,
     "metadata": {},
     "output_type": "execute_result"
    }
   ],
   "source": [
    "V*V.T"
   ]
  },
  {
   "cell_type": "code",
   "execution_count": 26,
   "id": "964e38f1",
   "metadata": {},
   "outputs": [
    {
     "data": {
      "text/latex": [
       "$\\displaystyle \\left[\\begin{matrix}-1 & 2 & 2\\\\2 & 2 & -1\\\\2 & -1 & 3\\end{matrix}\\right]$"
      ],
      "text/plain": [
       "Matrix([\n",
       "[-1,  2,  2],\n",
       "[ 2,  2, -1],\n",
       "[ 2, -1,  3]])"
      ]
     },
     "execution_count": 26,
     "metadata": {},
     "output_type": "execute_result"
    }
   ],
   "source": [
    "A = Matrix([\n",
    "    [-1,2,2],\n",
    "    [2,2,-1],\n",
    "    [2,-1,3]\n",
    "])\n",
    "A"
   ]
  },
  {
   "cell_type": "code",
   "execution_count": 27,
   "id": "93b8c297",
   "metadata": {},
   "outputs": [],
   "source": [
    "V, L = A.diagonalize(normalize=True, sort=True)"
   ]
  },
  {
   "cell_type": "code",
   "execution_count": 28,
   "id": "64c9a4c4",
   "metadata": {},
   "outputs": [
    {
     "data": {
      "text/latex": [
       "$\\displaystyle \\left[\\begin{matrix}1 & 0 & 0\\\\0 & 1 & 0\\\\0 & 0 & 1\\end{matrix}\\right]$"
      ],
      "text/plain": [
       "Matrix([\n",
       "[1, 0, 0],\n",
       "[0, 1, 0],\n",
       "[0, 0, 1]])"
      ]
     },
     "execution_count": 28,
     "metadata": {},
     "output_type": "execute_result"
    }
   ],
   "source": [
    "simplify(V.T * V)"
   ]
  },
  {
   "cell_type": "code",
   "execution_count": 29,
   "id": "4788f839",
   "metadata": {},
   "outputs": [
    {
     "data": {
      "text/latex": [
       "$\\displaystyle \\left[\\begin{matrix}\\frac{\\sqrt{5}}{5} & - \\frac{\\sqrt{30 \\sqrt{5} + 90}}{15} & \\frac{\\sqrt{90 - 30 \\sqrt{5}}}{15}\\\\\\frac{2 \\sqrt{5}}{5} & \\frac{\\sqrt{30 \\sqrt{5} + 90}}{30} & - \\frac{\\sqrt{90 - 30 \\sqrt{5}}}{30}\\\\0 & \\frac{\\sqrt{6}}{3 \\sqrt{\\sqrt{5} + 3}} & \\frac{\\sqrt{6}}{3 \\sqrt{3 - \\sqrt{5}}}\\end{matrix}\\right]$"
      ],
      "text/plain": [
       "Matrix([\n",
       "[  sqrt(5)/5,     -sqrt(30*sqrt(5) + 90)/15,      sqrt(90 - 30*sqrt(5))/15],\n",
       "[2*sqrt(5)/5,      sqrt(30*sqrt(5) + 90)/30,     -sqrt(90 - 30*sqrt(5))/30],\n",
       "[          0, sqrt(6)/(3*sqrt(sqrt(5) + 3)), sqrt(6)/(3*sqrt(3 - sqrt(5)))]])"
      ]
     },
     "execution_count": 29,
     "metadata": {},
     "output_type": "execute_result"
    }
   ],
   "source": [
    "simplify(V)"
   ]
  },
  {
   "cell_type": "code",
   "execution_count": 30,
   "id": "adb503a5",
   "metadata": {
    "slideshow": {
     "slide_type": "slide"
    }
   },
   "outputs": [
    {
     "data": {
      "text/latex": [
       "$\\displaystyle \\left[\\begin{matrix}3 & 0 & 0\\\\0 & \\frac{1}{2} - \\frac{3 \\sqrt{5}}{2} & 0\\\\0 & 0 & \\frac{1}{2} + \\frac{3 \\sqrt{5}}{2}\\end{matrix}\\right]$"
      ],
      "text/plain": [
       "Matrix([\n",
       "[3,                 0,                 0],\n",
       "[0, 1/2 - 3*sqrt(5)/2,                 0],\n",
       "[0,                 0, 1/2 + 3*sqrt(5)/2]])"
      ]
     },
     "execution_count": 30,
     "metadata": {},
     "output_type": "execute_result"
    }
   ],
   "source": [
    "L"
   ]
  },
  {
   "cell_type": "code",
   "execution_count": 32,
   "id": "f71e0620",
   "metadata": {},
   "outputs": [
    {
     "data": {
      "text/latex": [
       "$\\displaystyle \\left[\\begin{matrix}-1 & 2 & 2\\\\2 & 2 & -1\\\\2 & -1 & 3\\end{matrix}\\right]$"
      ],
      "text/plain": [
       "Matrix([\n",
       "[-1,  2,  2],\n",
       "[ 2,  2, -1],\n",
       "[ 2, -1,  3]])"
      ]
     },
     "execution_count": 32,
     "metadata": {},
     "output_type": "execute_result"
    }
   ],
   "source": [
    "simplify(V * L * V.T)"
   ]
  },
  {
   "cell_type": "code",
   "execution_count": null,
   "id": "bf0b0866",
   "metadata": {},
   "outputs": [],
   "source": []
  }
 ],
 "metadata": {
  "@webio": {
   "lastCommId": null,
   "lastKernelId": null
  },
  "celltoolbar": "Slideshow",
  "hide_input": false,
  "kernelspec": {
   "display_name": "Python 3 (ipykernel)",
   "language": "python",
   "name": "python3"
  },
  "language_info": {
   "codemirror_mode": {
    "name": "ipython",
    "version": 3
   },
   "file_extension": ".py",
   "mimetype": "text/x-python",
   "name": "python",
   "nbconvert_exporter": "python",
   "pygments_lexer": "ipython3",
   "version": "3.8.18"
  },
  "latex_envs": {
   "LaTeX_envs_menu_present": true,
   "autoclose": false,
   "autocomplete": true,
   "bibliofile": "biblio.bib",
   "cite_by": "apalike",
   "current_citInitial": 1,
   "eqLabelWithNumbers": true,
   "eqNumInitial": 1,
   "hotkeys": {
    "equation": "Ctrl-E",
    "itemize": "Ctrl-I"
   },
   "labels_anchors": false,
   "latex_user_defs": false,
   "report_style_numbering": false,
   "user_envs_cfg": false
  },
  "rise": {
   "enable_chalkboard": true
  },
  "varInspector": {
   "cols": {
    "lenName": 16,
    "lenType": 16,
    "lenVar": 40
   },
   "kernels_config": {
    "python": {
     "delete_cmd_postfix": "",
     "delete_cmd_prefix": "del ",
     "library": "var_list.py",
     "varRefreshCmd": "print(var_dic_list())"
    },
    "r": {
     "delete_cmd_postfix": ") ",
     "delete_cmd_prefix": "rm(",
     "library": "var_list.r",
     "varRefreshCmd": "cat(var_dic_list()) "
    }
   },
   "types_to_exclude": [
    "module",
    "function",
    "builtin_function_or_method",
    "instance",
    "_Feature"
   ],
   "window_display": false
  }
 },
 "nbformat": 4,
 "nbformat_minor": 5
}
