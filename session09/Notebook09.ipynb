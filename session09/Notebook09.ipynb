{
 "cells": [
  {
   "cell_type": "code",
   "execution_count": 1,
   "id": "6b6d3e8a",
   "metadata": {
    "slideshow": {
     "slide_type": "skip"
    }
   },
   "outputs": [],
   "source": [
    "import sympy\n",
    "from sympy import Matrix, Rational, sqrt, symbols, zeros, simplify, exp\n",
    "import numpy as np\n",
    "import matplotlib.pyplot as plt\n",
    "import ipywidgets as widgets\n",
    "from ipywidgets import interact, interactive, fixed, interact_manual\n",
    "import matplotlib.pyplot as plt\n",
    "%matplotlib notebook\n"
   ]
  },
  {
   "cell_type": "markdown",
   "id": "17d690f6",
   "metadata": {
    "hide_input": true,
    "slideshow": {
     "slide_type": "slide"
    }
   },
   "source": [
    "# Linear algebra\n",
    "\n",
    "## Session 9: \n",
    "\n",
    "## Gerhard Jäger\n",
    "\n",
    "### December 21, 2023"
   ]
  },
  {
   "cell_type": "markdown",
   "id": "4ac3102c",
   "metadata": {
    "slideshow": {
     "slide_type": "slide"
    }
   },
   "source": [
    "## Eigenvectors and eigenvalues\n",
    "\n",
    "### Basic equation\n",
    "\n",
    "$$\n",
    "A\\mathbf x = \\lambda \\mathbf x\n",
    "$$\n",
    "\n",
    "- $\\mathbf x$ is called an **eigenvector** of $A$\n",
    "- $\\lambda$ is called an **eigenvalue** of $A$"
   ]
  },
  {
   "cell_type": "code",
   "execution_count": 46,
   "id": "79b42587",
   "metadata": {
    "slideshow": {
     "slide_type": "slide"
    }
   },
   "outputs": [],
   "source": [
    "from math import *\n",
    "A = np.array([\n",
    "    [1, 1],\n",
    "    [0, 1]\n",
    "])"
   ]
  },
  {
   "cell_type": "code",
   "execution_count": 47,
   "id": "af2cc205",
   "metadata": {
    "hide_input": false,
    "scrolled": false
   },
   "outputs": [
    {
     "data": {
      "application/javascript": [
       "/* Put everything inside the global mpl namespace */\n",
       "/* global mpl */\n",
       "window.mpl = {};\n",
       "\n",
       "mpl.get_websocket_type = function () {\n",
       "    if (typeof WebSocket !== 'undefined') {\n",
       "        return WebSocket;\n",
       "    } else if (typeof MozWebSocket !== 'undefined') {\n",
       "        return MozWebSocket;\n",
       "    } else {\n",
       "        alert(\n",
       "            'Your browser does not have WebSocket support. ' +\n",
       "                'Please try Chrome, Safari or Firefox ≥ 6. ' +\n",
       "                'Firefox 4 and 5 are also supported but you ' +\n",
       "                'have to enable WebSockets in about:config.'\n",
       "        );\n",
       "    }\n",
       "};\n",
       "\n",
       "mpl.figure = function (figure_id, websocket, ondownload, parent_element) {\n",
       "    this.id = figure_id;\n",
       "\n",
       "    this.ws = websocket;\n",
       "\n",
       "    this.supports_binary = this.ws.binaryType !== undefined;\n",
       "\n",
       "    if (!this.supports_binary) {\n",
       "        var warnings = document.getElementById('mpl-warnings');\n",
       "        if (warnings) {\n",
       "            warnings.style.display = 'block';\n",
       "            warnings.textContent =\n",
       "                'This browser does not support binary websocket messages. ' +\n",
       "                'Performance may be slow.';\n",
       "        }\n",
       "    }\n",
       "\n",
       "    this.imageObj = new Image();\n",
       "\n",
       "    this.context = undefined;\n",
       "    this.message = undefined;\n",
       "    this.canvas = undefined;\n",
       "    this.rubberband_canvas = undefined;\n",
       "    this.rubberband_context = undefined;\n",
       "    this.format_dropdown = undefined;\n",
       "\n",
       "    this.image_mode = 'full';\n",
       "\n",
       "    this.root = document.createElement('div');\n",
       "    this.root.setAttribute('style', 'display: inline-block');\n",
       "    this._root_extra_style(this.root);\n",
       "\n",
       "    parent_element.appendChild(this.root);\n",
       "\n",
       "    this._init_header(this);\n",
       "    this._init_canvas(this);\n",
       "    this._init_toolbar(this);\n",
       "\n",
       "    var fig = this;\n",
       "\n",
       "    this.waiting = false;\n",
       "\n",
       "    this.ws.onopen = function () {\n",
       "        fig.send_message('supports_binary', { value: fig.supports_binary });\n",
       "        fig.send_message('send_image_mode', {});\n",
       "        if (fig.ratio !== 1) {\n",
       "            fig.send_message('set_device_pixel_ratio', {\n",
       "                device_pixel_ratio: fig.ratio,\n",
       "            });\n",
       "        }\n",
       "        fig.send_message('refresh', {});\n",
       "    };\n",
       "\n",
       "    this.imageObj.onload = function () {\n",
       "        if (fig.image_mode === 'full') {\n",
       "            // Full images could contain transparency (where diff images\n",
       "            // almost always do), so we need to clear the canvas so that\n",
       "            // there is no ghosting.\n",
       "            fig.context.clearRect(0, 0, fig.canvas.width, fig.canvas.height);\n",
       "        }\n",
       "        fig.context.drawImage(fig.imageObj, 0, 0);\n",
       "    };\n",
       "\n",
       "    this.imageObj.onunload = function () {\n",
       "        fig.ws.close();\n",
       "    };\n",
       "\n",
       "    this.ws.onmessage = this._make_on_message_function(this);\n",
       "\n",
       "    this.ondownload = ondownload;\n",
       "};\n",
       "\n",
       "mpl.figure.prototype._init_header = function () {\n",
       "    var titlebar = document.createElement('div');\n",
       "    titlebar.classList =\n",
       "        'ui-dialog-titlebar ui-widget-header ui-corner-all ui-helper-clearfix';\n",
       "    var titletext = document.createElement('div');\n",
       "    titletext.classList = 'ui-dialog-title';\n",
       "    titletext.setAttribute(\n",
       "        'style',\n",
       "        'width: 100%; text-align: center; padding: 3px;'\n",
       "    );\n",
       "    titlebar.appendChild(titletext);\n",
       "    this.root.appendChild(titlebar);\n",
       "    this.header = titletext;\n",
       "};\n",
       "\n",
       "mpl.figure.prototype._canvas_extra_style = function (_canvas_div) {};\n",
       "\n",
       "mpl.figure.prototype._root_extra_style = function (_canvas_div) {};\n",
       "\n",
       "mpl.figure.prototype._init_canvas = function () {\n",
       "    var fig = this;\n",
       "\n",
       "    var canvas_div = (this.canvas_div = document.createElement('div'));\n",
       "    canvas_div.setAttribute('tabindex', '0');\n",
       "    canvas_div.setAttribute(\n",
       "        'style',\n",
       "        'border: 1px solid #ddd;' +\n",
       "            'box-sizing: content-box;' +\n",
       "            'clear: both;' +\n",
       "            'min-height: 1px;' +\n",
       "            'min-width: 1px;' +\n",
       "            'outline: 0;' +\n",
       "            'overflow: hidden;' +\n",
       "            'position: relative;' +\n",
       "            'resize: both;' +\n",
       "            'z-index: 2;'\n",
       "    );\n",
       "\n",
       "    function on_keyboard_event_closure(name) {\n",
       "        return function (event) {\n",
       "            return fig.key_event(event, name);\n",
       "        };\n",
       "    }\n",
       "\n",
       "    canvas_div.addEventListener(\n",
       "        'keydown',\n",
       "        on_keyboard_event_closure('key_press')\n",
       "    );\n",
       "    canvas_div.addEventListener(\n",
       "        'keyup',\n",
       "        on_keyboard_event_closure('key_release')\n",
       "    );\n",
       "\n",
       "    this._canvas_extra_style(canvas_div);\n",
       "    this.root.appendChild(canvas_div);\n",
       "\n",
       "    var canvas = (this.canvas = document.createElement('canvas'));\n",
       "    canvas.classList.add('mpl-canvas');\n",
       "    canvas.setAttribute(\n",
       "        'style',\n",
       "        'box-sizing: content-box;' +\n",
       "            'pointer-events: none;' +\n",
       "            'position: relative;' +\n",
       "            'z-index: 0;'\n",
       "    );\n",
       "\n",
       "    this.context = canvas.getContext('2d');\n",
       "\n",
       "    var backingStore =\n",
       "        this.context.backingStorePixelRatio ||\n",
       "        this.context.webkitBackingStorePixelRatio ||\n",
       "        this.context.mozBackingStorePixelRatio ||\n",
       "        this.context.msBackingStorePixelRatio ||\n",
       "        this.context.oBackingStorePixelRatio ||\n",
       "        this.context.backingStorePixelRatio ||\n",
       "        1;\n",
       "\n",
       "    this.ratio = (window.devicePixelRatio || 1) / backingStore;\n",
       "\n",
       "    var rubberband_canvas = (this.rubberband_canvas = document.createElement(\n",
       "        'canvas'\n",
       "    ));\n",
       "    rubberband_canvas.setAttribute(\n",
       "        'style',\n",
       "        'box-sizing: content-box;' +\n",
       "            'left: 0;' +\n",
       "            'pointer-events: none;' +\n",
       "            'position: absolute;' +\n",
       "            'top: 0;' +\n",
       "            'z-index: 1;'\n",
       "    );\n",
       "\n",
       "    // Apply a ponyfill if ResizeObserver is not implemented by browser.\n",
       "    if (this.ResizeObserver === undefined) {\n",
       "        if (window.ResizeObserver !== undefined) {\n",
       "            this.ResizeObserver = window.ResizeObserver;\n",
       "        } else {\n",
       "            var obs = _JSXTOOLS_RESIZE_OBSERVER({});\n",
       "            this.ResizeObserver = obs.ResizeObserver;\n",
       "        }\n",
       "    }\n",
       "\n",
       "    this.resizeObserverInstance = new this.ResizeObserver(function (entries) {\n",
       "        var nentries = entries.length;\n",
       "        for (var i = 0; i < nentries; i++) {\n",
       "            var entry = entries[i];\n",
       "            var width, height;\n",
       "            if (entry.contentBoxSize) {\n",
       "                if (entry.contentBoxSize instanceof Array) {\n",
       "                    // Chrome 84 implements new version of spec.\n",
       "                    width = entry.contentBoxSize[0].inlineSize;\n",
       "                    height = entry.contentBoxSize[0].blockSize;\n",
       "                } else {\n",
       "                    // Firefox implements old version of spec.\n",
       "                    width = entry.contentBoxSize.inlineSize;\n",
       "                    height = entry.contentBoxSize.blockSize;\n",
       "                }\n",
       "            } else {\n",
       "                // Chrome <84 implements even older version of spec.\n",
       "                width = entry.contentRect.width;\n",
       "                height = entry.contentRect.height;\n",
       "            }\n",
       "\n",
       "            // Keep the size of the canvas and rubber band canvas in sync with\n",
       "            // the canvas container.\n",
       "            if (entry.devicePixelContentBoxSize) {\n",
       "                // Chrome 84 implements new version of spec.\n",
       "                canvas.setAttribute(\n",
       "                    'width',\n",
       "                    entry.devicePixelContentBoxSize[0].inlineSize\n",
       "                );\n",
       "                canvas.setAttribute(\n",
       "                    'height',\n",
       "                    entry.devicePixelContentBoxSize[0].blockSize\n",
       "                );\n",
       "            } else {\n",
       "                canvas.setAttribute('width', width * fig.ratio);\n",
       "                canvas.setAttribute('height', height * fig.ratio);\n",
       "            }\n",
       "            /* This rescales the canvas back to display pixels, so that it\n",
       "             * appears correct on HiDPI screens. */\n",
       "            canvas.style.width = width + 'px';\n",
       "            canvas.style.height = height + 'px';\n",
       "\n",
       "            rubberband_canvas.setAttribute('width', width);\n",
       "            rubberband_canvas.setAttribute('height', height);\n",
       "\n",
       "            // And update the size in Python. We ignore the initial 0/0 size\n",
       "            // that occurs as the element is placed into the DOM, which should\n",
       "            // otherwise not happen due to the minimum size styling.\n",
       "            if (fig.ws.readyState == 1 && width != 0 && height != 0) {\n",
       "                fig.request_resize(width, height);\n",
       "            }\n",
       "        }\n",
       "    });\n",
       "    this.resizeObserverInstance.observe(canvas_div);\n",
       "\n",
       "    function on_mouse_event_closure(name) {\n",
       "        /* User Agent sniffing is bad, but WebKit is busted:\n",
       "         * https://bugs.webkit.org/show_bug.cgi?id=144526\n",
       "         * https://bugs.webkit.org/show_bug.cgi?id=181818\n",
       "         * The worst that happens here is that they get an extra browser\n",
       "         * selection when dragging, if this check fails to catch them.\n",
       "         */\n",
       "        var UA = navigator.userAgent;\n",
       "        var isWebKit = /AppleWebKit/.test(UA) && !/Chrome/.test(UA);\n",
       "        if(isWebKit) {\n",
       "            return function (event) {\n",
       "                /* This prevents the web browser from automatically changing to\n",
       "                 * the text insertion cursor when the button is pressed. We\n",
       "                 * want to control all of the cursor setting manually through\n",
       "                 * the 'cursor' event from matplotlib */\n",
       "                event.preventDefault()\n",
       "                return fig.mouse_event(event, name);\n",
       "            };\n",
       "        } else {\n",
       "            return function (event) {\n",
       "                return fig.mouse_event(event, name);\n",
       "            };\n",
       "        }\n",
       "    }\n",
       "\n",
       "    canvas_div.addEventListener(\n",
       "        'mousedown',\n",
       "        on_mouse_event_closure('button_press')\n",
       "    );\n",
       "    canvas_div.addEventListener(\n",
       "        'mouseup',\n",
       "        on_mouse_event_closure('button_release')\n",
       "    );\n",
       "    canvas_div.addEventListener(\n",
       "        'dblclick',\n",
       "        on_mouse_event_closure('dblclick')\n",
       "    );\n",
       "    // Throttle sequential mouse events to 1 every 20ms.\n",
       "    canvas_div.addEventListener(\n",
       "        'mousemove',\n",
       "        on_mouse_event_closure('motion_notify')\n",
       "    );\n",
       "\n",
       "    canvas_div.addEventListener(\n",
       "        'mouseenter',\n",
       "        on_mouse_event_closure('figure_enter')\n",
       "    );\n",
       "    canvas_div.addEventListener(\n",
       "        'mouseleave',\n",
       "        on_mouse_event_closure('figure_leave')\n",
       "    );\n",
       "\n",
       "    canvas_div.addEventListener('wheel', function (event) {\n",
       "        if (event.deltaY < 0) {\n",
       "            event.step = 1;\n",
       "        } else {\n",
       "            event.step = -1;\n",
       "        }\n",
       "        on_mouse_event_closure('scroll')(event);\n",
       "    });\n",
       "\n",
       "    canvas_div.appendChild(canvas);\n",
       "    canvas_div.appendChild(rubberband_canvas);\n",
       "\n",
       "    this.rubberband_context = rubberband_canvas.getContext('2d');\n",
       "    this.rubberband_context.strokeStyle = '#000000';\n",
       "\n",
       "    this._resize_canvas = function (width, height, forward) {\n",
       "        if (forward) {\n",
       "            canvas_div.style.width = width + 'px';\n",
       "            canvas_div.style.height = height + 'px';\n",
       "        }\n",
       "    };\n",
       "\n",
       "    // Disable right mouse context menu.\n",
       "    canvas_div.addEventListener('contextmenu', function (_e) {\n",
       "        event.preventDefault();\n",
       "        return false;\n",
       "    });\n",
       "\n",
       "    function set_focus() {\n",
       "        canvas.focus();\n",
       "        canvas_div.focus();\n",
       "    }\n",
       "\n",
       "    window.setTimeout(set_focus, 100);\n",
       "};\n",
       "\n",
       "mpl.figure.prototype._init_toolbar = function () {\n",
       "    var fig = this;\n",
       "\n",
       "    var toolbar = document.createElement('div');\n",
       "    toolbar.classList = 'mpl-toolbar';\n",
       "    this.root.appendChild(toolbar);\n",
       "\n",
       "    function on_click_closure(name) {\n",
       "        return function (_event) {\n",
       "            return fig.toolbar_button_onclick(name);\n",
       "        };\n",
       "    }\n",
       "\n",
       "    function on_mouseover_closure(tooltip) {\n",
       "        return function (event) {\n",
       "            if (!event.currentTarget.disabled) {\n",
       "                return fig.toolbar_button_onmouseover(tooltip);\n",
       "            }\n",
       "        };\n",
       "    }\n",
       "\n",
       "    fig.buttons = {};\n",
       "    var buttonGroup = document.createElement('div');\n",
       "    buttonGroup.classList = 'mpl-button-group';\n",
       "    for (var toolbar_ind in mpl.toolbar_items) {\n",
       "        var name = mpl.toolbar_items[toolbar_ind][0];\n",
       "        var tooltip = mpl.toolbar_items[toolbar_ind][1];\n",
       "        var image = mpl.toolbar_items[toolbar_ind][2];\n",
       "        var method_name = mpl.toolbar_items[toolbar_ind][3];\n",
       "\n",
       "        if (!name) {\n",
       "            /* Instead of a spacer, we start a new button group. */\n",
       "            if (buttonGroup.hasChildNodes()) {\n",
       "                toolbar.appendChild(buttonGroup);\n",
       "            }\n",
       "            buttonGroup = document.createElement('div');\n",
       "            buttonGroup.classList = 'mpl-button-group';\n",
       "            continue;\n",
       "        }\n",
       "\n",
       "        var button = (fig.buttons[name] = document.createElement('button'));\n",
       "        button.classList = 'mpl-widget';\n",
       "        button.setAttribute('role', 'button');\n",
       "        button.setAttribute('aria-disabled', 'false');\n",
       "        button.addEventListener('click', on_click_closure(method_name));\n",
       "        button.addEventListener('mouseover', on_mouseover_closure(tooltip));\n",
       "\n",
       "        var icon_img = document.createElement('img');\n",
       "        icon_img.src = '_images/' + image + '.png';\n",
       "        icon_img.srcset = '_images/' + image + '_large.png 2x';\n",
       "        icon_img.alt = tooltip;\n",
       "        button.appendChild(icon_img);\n",
       "\n",
       "        buttonGroup.appendChild(button);\n",
       "    }\n",
       "\n",
       "    if (buttonGroup.hasChildNodes()) {\n",
       "        toolbar.appendChild(buttonGroup);\n",
       "    }\n",
       "\n",
       "    var fmt_picker = document.createElement('select');\n",
       "    fmt_picker.classList = 'mpl-widget';\n",
       "    toolbar.appendChild(fmt_picker);\n",
       "    this.format_dropdown = fmt_picker;\n",
       "\n",
       "    for (var ind in mpl.extensions) {\n",
       "        var fmt = mpl.extensions[ind];\n",
       "        var option = document.createElement('option');\n",
       "        option.selected = fmt === mpl.default_extension;\n",
       "        option.innerHTML = fmt;\n",
       "        fmt_picker.appendChild(option);\n",
       "    }\n",
       "\n",
       "    var status_bar = document.createElement('span');\n",
       "    status_bar.classList = 'mpl-message';\n",
       "    toolbar.appendChild(status_bar);\n",
       "    this.message = status_bar;\n",
       "};\n",
       "\n",
       "mpl.figure.prototype.request_resize = function (x_pixels, y_pixels) {\n",
       "    // Request matplotlib to resize the figure. Matplotlib will then trigger a resize in the client,\n",
       "    // which will in turn request a refresh of the image.\n",
       "    this.send_message('resize', { width: x_pixels, height: y_pixels });\n",
       "};\n",
       "\n",
       "mpl.figure.prototype.send_message = function (type, properties) {\n",
       "    properties['type'] = type;\n",
       "    properties['figure_id'] = this.id;\n",
       "    this.ws.send(JSON.stringify(properties));\n",
       "};\n",
       "\n",
       "mpl.figure.prototype.send_draw_message = function () {\n",
       "    if (!this.waiting) {\n",
       "        this.waiting = true;\n",
       "        this.ws.send(JSON.stringify({ type: 'draw', figure_id: this.id }));\n",
       "    }\n",
       "};\n",
       "\n",
       "mpl.figure.prototype.handle_save = function (fig, _msg) {\n",
       "    var format_dropdown = fig.format_dropdown;\n",
       "    var format = format_dropdown.options[format_dropdown.selectedIndex].value;\n",
       "    fig.ondownload(fig, format);\n",
       "};\n",
       "\n",
       "mpl.figure.prototype.handle_resize = function (fig, msg) {\n",
       "    var size = msg['size'];\n",
       "    if (size[0] !== fig.canvas.width || size[1] !== fig.canvas.height) {\n",
       "        fig._resize_canvas(size[0], size[1], msg['forward']);\n",
       "        fig.send_message('refresh', {});\n",
       "    }\n",
       "};\n",
       "\n",
       "mpl.figure.prototype.handle_rubberband = function (fig, msg) {\n",
       "    var x0 = msg['x0'] / fig.ratio;\n",
       "    var y0 = (fig.canvas.height - msg['y0']) / fig.ratio;\n",
       "    var x1 = msg['x1'] / fig.ratio;\n",
       "    var y1 = (fig.canvas.height - msg['y1']) / fig.ratio;\n",
       "    x0 = Math.floor(x0) + 0.5;\n",
       "    y0 = Math.floor(y0) + 0.5;\n",
       "    x1 = Math.floor(x1) + 0.5;\n",
       "    y1 = Math.floor(y1) + 0.5;\n",
       "    var min_x = Math.min(x0, x1);\n",
       "    var min_y = Math.min(y0, y1);\n",
       "    var width = Math.abs(x1 - x0);\n",
       "    var height = Math.abs(y1 - y0);\n",
       "\n",
       "    fig.rubberband_context.clearRect(\n",
       "        0,\n",
       "        0,\n",
       "        fig.canvas.width / fig.ratio,\n",
       "        fig.canvas.height / fig.ratio\n",
       "    );\n",
       "\n",
       "    fig.rubberband_context.strokeRect(min_x, min_y, width, height);\n",
       "};\n",
       "\n",
       "mpl.figure.prototype.handle_figure_label = function (fig, msg) {\n",
       "    // Updates the figure title.\n",
       "    fig.header.textContent = msg['label'];\n",
       "};\n",
       "\n",
       "mpl.figure.prototype.handle_cursor = function (fig, msg) {\n",
       "    fig.canvas_div.style.cursor = msg['cursor'];\n",
       "};\n",
       "\n",
       "mpl.figure.prototype.handle_message = function (fig, msg) {\n",
       "    fig.message.textContent = msg['message'];\n",
       "};\n",
       "\n",
       "mpl.figure.prototype.handle_draw = function (fig, _msg) {\n",
       "    // Request the server to send over a new figure.\n",
       "    fig.send_draw_message();\n",
       "};\n",
       "\n",
       "mpl.figure.prototype.handle_image_mode = function (fig, msg) {\n",
       "    fig.image_mode = msg['mode'];\n",
       "};\n",
       "\n",
       "mpl.figure.prototype.handle_history_buttons = function (fig, msg) {\n",
       "    for (var key in msg) {\n",
       "        if (!(key in fig.buttons)) {\n",
       "            continue;\n",
       "        }\n",
       "        fig.buttons[key].disabled = !msg[key];\n",
       "        fig.buttons[key].setAttribute('aria-disabled', !msg[key]);\n",
       "    }\n",
       "};\n",
       "\n",
       "mpl.figure.prototype.handle_navigate_mode = function (fig, msg) {\n",
       "    if (msg['mode'] === 'PAN') {\n",
       "        fig.buttons['Pan'].classList.add('active');\n",
       "        fig.buttons['Zoom'].classList.remove('active');\n",
       "    } else if (msg['mode'] === 'ZOOM') {\n",
       "        fig.buttons['Pan'].classList.remove('active');\n",
       "        fig.buttons['Zoom'].classList.add('active');\n",
       "    } else {\n",
       "        fig.buttons['Pan'].classList.remove('active');\n",
       "        fig.buttons['Zoom'].classList.remove('active');\n",
       "    }\n",
       "};\n",
       "\n",
       "mpl.figure.prototype.updated_canvas_event = function () {\n",
       "    // Called whenever the canvas gets updated.\n",
       "    this.send_message('ack', {});\n",
       "};\n",
       "\n",
       "// A function to construct a web socket function for onmessage handling.\n",
       "// Called in the figure constructor.\n",
       "mpl.figure.prototype._make_on_message_function = function (fig) {\n",
       "    return function socket_on_message(evt) {\n",
       "        if (evt.data instanceof Blob) {\n",
       "            var img = evt.data;\n",
       "            if (img.type !== 'image/png') {\n",
       "                /* FIXME: We get \"Resource interpreted as Image but\n",
       "                 * transferred with MIME type text/plain:\" errors on\n",
       "                 * Chrome.  But how to set the MIME type?  It doesn't seem\n",
       "                 * to be part of the websocket stream */\n",
       "                img.type = 'image/png';\n",
       "            }\n",
       "\n",
       "            /* Free the memory for the previous frames */\n",
       "            if (fig.imageObj.src) {\n",
       "                (window.URL || window.webkitURL).revokeObjectURL(\n",
       "                    fig.imageObj.src\n",
       "                );\n",
       "            }\n",
       "\n",
       "            fig.imageObj.src = (window.URL || window.webkitURL).createObjectURL(\n",
       "                img\n",
       "            );\n",
       "            fig.updated_canvas_event();\n",
       "            fig.waiting = false;\n",
       "            return;\n",
       "        } else if (\n",
       "            typeof evt.data === 'string' &&\n",
       "            evt.data.slice(0, 21) === 'data:image/png;base64'\n",
       "        ) {\n",
       "            fig.imageObj.src = evt.data;\n",
       "            fig.updated_canvas_event();\n",
       "            fig.waiting = false;\n",
       "            return;\n",
       "        }\n",
       "\n",
       "        var msg = JSON.parse(evt.data);\n",
       "        var msg_type = msg['type'];\n",
       "\n",
       "        // Call the  \"handle_{type}\" callback, which takes\n",
       "        // the figure and JSON message as its only arguments.\n",
       "        try {\n",
       "            var callback = fig['handle_' + msg_type];\n",
       "        } catch (e) {\n",
       "            console.log(\n",
       "                \"No handler for the '\" + msg_type + \"' message type: \",\n",
       "                msg\n",
       "            );\n",
       "            return;\n",
       "        }\n",
       "\n",
       "        if (callback) {\n",
       "            try {\n",
       "                // console.log(\"Handling '\" + msg_type + \"' message: \", msg);\n",
       "                callback(fig, msg);\n",
       "            } catch (e) {\n",
       "                console.log(\n",
       "                    \"Exception inside the 'handler_\" + msg_type + \"' callback:\",\n",
       "                    e,\n",
       "                    e.stack,\n",
       "                    msg\n",
       "                );\n",
       "            }\n",
       "        }\n",
       "    };\n",
       "};\n",
       "\n",
       "function getModifiers(event) {\n",
       "    var mods = [];\n",
       "    if (event.ctrlKey) {\n",
       "        mods.push('ctrl');\n",
       "    }\n",
       "    if (event.altKey) {\n",
       "        mods.push('alt');\n",
       "    }\n",
       "    if (event.shiftKey) {\n",
       "        mods.push('shift');\n",
       "    }\n",
       "    if (event.metaKey) {\n",
       "        mods.push('meta');\n",
       "    }\n",
       "    return mods;\n",
       "}\n",
       "\n",
       "/*\n",
       " * return a copy of an object with only non-object keys\n",
       " * we need this to avoid circular references\n",
       " * https://stackoverflow.com/a/24161582/3208463\n",
       " */\n",
       "function simpleKeys(original) {\n",
       "    return Object.keys(original).reduce(function (obj, key) {\n",
       "        if (typeof original[key] !== 'object') {\n",
       "            obj[key] = original[key];\n",
       "        }\n",
       "        return obj;\n",
       "    }, {});\n",
       "}\n",
       "\n",
       "mpl.figure.prototype.mouse_event = function (event, name) {\n",
       "    if (name === 'button_press') {\n",
       "        this.canvas.focus();\n",
       "        this.canvas_div.focus();\n",
       "    }\n",
       "\n",
       "    // from https://stackoverflow.com/q/1114465\n",
       "    var boundingRect = this.canvas.getBoundingClientRect();\n",
       "    var x = (event.clientX - boundingRect.left) * this.ratio;\n",
       "    var y = (event.clientY - boundingRect.top) * this.ratio;\n",
       "\n",
       "    this.send_message(name, {\n",
       "        x: x,\n",
       "        y: y,\n",
       "        button: event.button,\n",
       "        step: event.step,\n",
       "        modifiers: getModifiers(event),\n",
       "        guiEvent: simpleKeys(event),\n",
       "    });\n",
       "\n",
       "    return false;\n",
       "};\n",
       "\n",
       "mpl.figure.prototype._key_event_extra = function (_event, _name) {\n",
       "    // Handle any extra behaviour associated with a key event\n",
       "};\n",
       "\n",
       "mpl.figure.prototype.key_event = function (event, name) {\n",
       "    // Prevent repeat events\n",
       "    if (name === 'key_press') {\n",
       "        if (event.key === this._key) {\n",
       "            return;\n",
       "        } else {\n",
       "            this._key = event.key;\n",
       "        }\n",
       "    }\n",
       "    if (name === 'key_release') {\n",
       "        this._key = null;\n",
       "    }\n",
       "\n",
       "    var value = '';\n",
       "    if (event.ctrlKey && event.key !== 'Control') {\n",
       "        value += 'ctrl+';\n",
       "    }\n",
       "    else if (event.altKey && event.key !== 'Alt') {\n",
       "        value += 'alt+';\n",
       "    }\n",
       "    else if (event.shiftKey && event.key !== 'Shift') {\n",
       "        value += 'shift+';\n",
       "    }\n",
       "\n",
       "    value += 'k' + event.key;\n",
       "\n",
       "    this._key_event_extra(event, name);\n",
       "\n",
       "    this.send_message(name, { key: value, guiEvent: simpleKeys(event) });\n",
       "    return false;\n",
       "};\n",
       "\n",
       "mpl.figure.prototype.toolbar_button_onclick = function (name) {\n",
       "    if (name === 'download') {\n",
       "        this.handle_save(this, null);\n",
       "    } else {\n",
       "        this.send_message('toolbar_button', { name: name });\n",
       "    }\n",
       "};\n",
       "\n",
       "mpl.figure.prototype.toolbar_button_onmouseover = function (tooltip) {\n",
       "    this.message.textContent = tooltip;\n",
       "};\n",
       "\n",
       "///////////////// REMAINING CONTENT GENERATED BY embed_js.py /////////////////\n",
       "// prettier-ignore\n",
       "var _JSXTOOLS_RESIZE_OBSERVER=function(A){var t,i=new WeakMap,n=new WeakMap,a=new WeakMap,r=new WeakMap,o=new Set;function s(e){if(!(this instanceof s))throw new TypeError(\"Constructor requires 'new' operator\");i.set(this,e)}function h(){throw new TypeError(\"Function is not a constructor\")}function c(e,t,i,n){e=0 in arguments?Number(arguments[0]):0,t=1 in arguments?Number(arguments[1]):0,i=2 in arguments?Number(arguments[2]):0,n=3 in arguments?Number(arguments[3]):0,this.right=(this.x=this.left=e)+(this.width=i),this.bottom=(this.y=this.top=t)+(this.height=n),Object.freeze(this)}function d(){t=requestAnimationFrame(d);var s=new WeakMap,p=new Set;o.forEach((function(t){r.get(t).forEach((function(i){var r=t instanceof window.SVGElement,o=a.get(t),d=r?0:parseFloat(o.paddingTop),f=r?0:parseFloat(o.paddingRight),l=r?0:parseFloat(o.paddingBottom),u=r?0:parseFloat(o.paddingLeft),g=r?0:parseFloat(o.borderTopWidth),m=r?0:parseFloat(o.borderRightWidth),w=r?0:parseFloat(o.borderBottomWidth),b=u+f,F=d+l,v=(r?0:parseFloat(o.borderLeftWidth))+m,W=g+w,y=r?0:t.offsetHeight-W-t.clientHeight,E=r?0:t.offsetWidth-v-t.clientWidth,R=b+v,z=F+W,M=r?t.width:parseFloat(o.width)-R-E,O=r?t.height:parseFloat(o.height)-z-y;if(n.has(t)){var k=n.get(t);if(k[0]===M&&k[1]===O)return}n.set(t,[M,O]);var S=Object.create(h.prototype);S.target=t,S.contentRect=new c(u,d,M,O),s.has(i)||(s.set(i,[]),p.add(i)),s.get(i).push(S)}))})),p.forEach((function(e){i.get(e).call(e,s.get(e),e)}))}return s.prototype.observe=function(i){if(i instanceof window.Element){r.has(i)||(r.set(i,new Set),o.add(i),a.set(i,window.getComputedStyle(i)));var n=r.get(i);n.has(this)||n.add(this),cancelAnimationFrame(t),t=requestAnimationFrame(d)}},s.prototype.unobserve=function(i){if(i instanceof window.Element&&r.has(i)){var n=r.get(i);n.has(this)&&(n.delete(this),n.size||(r.delete(i),o.delete(i))),n.size||r.delete(i),o.size||cancelAnimationFrame(t)}},A.DOMRectReadOnly=c,A.ResizeObserver=s,A.ResizeObserverEntry=h,A}; // eslint-disable-line\n",
       "mpl.toolbar_items = [[\"Home\", \"Reset original view\", \"fa fa-home\", \"home\"], [\"Back\", \"Back to previous view\", \"fa fa-arrow-left\", \"back\"], [\"Forward\", \"Forward to next view\", \"fa fa-arrow-right\", \"forward\"], [\"\", \"\", \"\", \"\"], [\"Pan\", \"Left button pans, Right button zooms\\nx/y fixes axis, CTRL fixes aspect\", \"fa fa-arrows\", \"pan\"], [\"Zoom\", \"Zoom to rectangle\\nx/y fixes axis\", \"fa fa-square-o\", \"zoom\"], [\"\", \"\", \"\", \"\"], [\"Download\", \"Download plot\", \"fa fa-floppy-o\", \"download\"]];\n",
       "\n",
       "mpl.extensions = [\"eps\", \"jpeg\", \"pgf\", \"pdf\", \"png\", \"ps\", \"raw\", \"svg\", \"tif\", \"webp\"];\n",
       "\n",
       "mpl.default_extension = \"png\";/* global mpl */\n",
       "\n",
       "var comm_websocket_adapter = function (comm) {\n",
       "    // Create a \"websocket\"-like object which calls the given IPython comm\n",
       "    // object with the appropriate methods. Currently this is a non binary\n",
       "    // socket, so there is still some room for performance tuning.\n",
       "    var ws = {};\n",
       "\n",
       "    ws.binaryType = comm.kernel.ws.binaryType;\n",
       "    ws.readyState = comm.kernel.ws.readyState;\n",
       "    function updateReadyState(_event) {\n",
       "        if (comm.kernel.ws) {\n",
       "            ws.readyState = comm.kernel.ws.readyState;\n",
       "        } else {\n",
       "            ws.readyState = 3; // Closed state.\n",
       "        }\n",
       "    }\n",
       "    comm.kernel.ws.addEventListener('open', updateReadyState);\n",
       "    comm.kernel.ws.addEventListener('close', updateReadyState);\n",
       "    comm.kernel.ws.addEventListener('error', updateReadyState);\n",
       "\n",
       "    ws.close = function () {\n",
       "        comm.close();\n",
       "    };\n",
       "    ws.send = function (m) {\n",
       "        //console.log('sending', m);\n",
       "        comm.send(m);\n",
       "    };\n",
       "    // Register the callback with on_msg.\n",
       "    comm.on_msg(function (msg) {\n",
       "        //console.log('receiving', msg['content']['data'], msg);\n",
       "        var data = msg['content']['data'];\n",
       "        if (data['blob'] !== undefined) {\n",
       "            data = {\n",
       "                data: new Blob(msg['buffers'], { type: data['blob'] }),\n",
       "            };\n",
       "        }\n",
       "        // Pass the mpl event to the overridden (by mpl) onmessage function.\n",
       "        ws.onmessage(data);\n",
       "    });\n",
       "    return ws;\n",
       "};\n",
       "\n",
       "mpl.mpl_figure_comm = function (comm, msg) {\n",
       "    // This is the function which gets called when the mpl process\n",
       "    // starts-up an IPython Comm through the \"matplotlib\" channel.\n",
       "\n",
       "    var id = msg.content.data.id;\n",
       "    // Get hold of the div created by the display call when the Comm\n",
       "    // socket was opened in Python.\n",
       "    var element = document.getElementById(id);\n",
       "    var ws_proxy = comm_websocket_adapter(comm);\n",
       "\n",
       "    function ondownload(figure, _format) {\n",
       "        window.open(figure.canvas.toDataURL());\n",
       "    }\n",
       "\n",
       "    var fig = new mpl.figure(id, ws_proxy, ondownload, element);\n",
       "\n",
       "    // Call onopen now - mpl needs it, as it is assuming we've passed it a real\n",
       "    // web socket which is closed, not our websocket->open comm proxy.\n",
       "    ws_proxy.onopen();\n",
       "\n",
       "    fig.parent_element = element;\n",
       "    fig.cell_info = mpl.find_output_cell(\"<div id='\" + id + \"'></div>\");\n",
       "    if (!fig.cell_info) {\n",
       "        console.error('Failed to find cell for figure', id, fig);\n",
       "        return;\n",
       "    }\n",
       "    fig.cell_info[0].output_area.element.on(\n",
       "        'cleared',\n",
       "        { fig: fig },\n",
       "        fig._remove_fig_handler\n",
       "    );\n",
       "};\n",
       "\n",
       "mpl.figure.prototype.handle_close = function (fig, msg) {\n",
       "    var width = fig.canvas.width / fig.ratio;\n",
       "    fig.cell_info[0].output_area.element.off(\n",
       "        'cleared',\n",
       "        fig._remove_fig_handler\n",
       "    );\n",
       "    fig.resizeObserverInstance.unobserve(fig.canvas_div);\n",
       "\n",
       "    // Update the output cell to use the data from the current canvas.\n",
       "    fig.push_to_output();\n",
       "    var dataURL = fig.canvas.toDataURL();\n",
       "    // Re-enable the keyboard manager in IPython - without this line, in FF,\n",
       "    // the notebook keyboard shortcuts fail.\n",
       "    IPython.keyboard_manager.enable();\n",
       "    fig.parent_element.innerHTML =\n",
       "        '<img src=\"' + dataURL + '\" width=\"' + width + '\">';\n",
       "    fig.close_ws(fig, msg);\n",
       "};\n",
       "\n",
       "mpl.figure.prototype.close_ws = function (fig, msg) {\n",
       "    fig.send_message('closing', msg);\n",
       "    // fig.ws.close()\n",
       "};\n",
       "\n",
       "mpl.figure.prototype.push_to_output = function (_remove_interactive) {\n",
       "    // Turn the data on the canvas into data in the output cell.\n",
       "    var width = this.canvas.width / this.ratio;\n",
       "    var dataURL = this.canvas.toDataURL();\n",
       "    this.cell_info[1]['text/html'] =\n",
       "        '<img src=\"' + dataURL + '\" width=\"' + width + '\">';\n",
       "};\n",
       "\n",
       "mpl.figure.prototype.updated_canvas_event = function () {\n",
       "    // Tell IPython that the notebook contents must change.\n",
       "    IPython.notebook.set_dirty(true);\n",
       "    this.send_message('ack', {});\n",
       "    var fig = this;\n",
       "    // Wait a second, then push the new image to the DOM so\n",
       "    // that it is saved nicely (might be nice to debounce this).\n",
       "    setTimeout(function () {\n",
       "        fig.push_to_output();\n",
       "    }, 1000);\n",
       "};\n",
       "\n",
       "mpl.figure.prototype._init_toolbar = function () {\n",
       "    var fig = this;\n",
       "\n",
       "    var toolbar = document.createElement('div');\n",
       "    toolbar.classList = 'btn-toolbar';\n",
       "    this.root.appendChild(toolbar);\n",
       "\n",
       "    function on_click_closure(name) {\n",
       "        return function (_event) {\n",
       "            return fig.toolbar_button_onclick(name);\n",
       "        };\n",
       "    }\n",
       "\n",
       "    function on_mouseover_closure(tooltip) {\n",
       "        return function (event) {\n",
       "            if (!event.currentTarget.disabled) {\n",
       "                return fig.toolbar_button_onmouseover(tooltip);\n",
       "            }\n",
       "        };\n",
       "    }\n",
       "\n",
       "    fig.buttons = {};\n",
       "    var buttonGroup = document.createElement('div');\n",
       "    buttonGroup.classList = 'btn-group';\n",
       "    var button;\n",
       "    for (var toolbar_ind in mpl.toolbar_items) {\n",
       "        var name = mpl.toolbar_items[toolbar_ind][0];\n",
       "        var tooltip = mpl.toolbar_items[toolbar_ind][1];\n",
       "        var image = mpl.toolbar_items[toolbar_ind][2];\n",
       "        var method_name = mpl.toolbar_items[toolbar_ind][3];\n",
       "\n",
       "        if (!name) {\n",
       "            /* Instead of a spacer, we start a new button group. */\n",
       "            if (buttonGroup.hasChildNodes()) {\n",
       "                toolbar.appendChild(buttonGroup);\n",
       "            }\n",
       "            buttonGroup = document.createElement('div');\n",
       "            buttonGroup.classList = 'btn-group';\n",
       "            continue;\n",
       "        }\n",
       "\n",
       "        button = fig.buttons[name] = document.createElement('button');\n",
       "        button.classList = 'btn btn-default';\n",
       "        button.href = '#';\n",
       "        button.title = name;\n",
       "        button.innerHTML = '<i class=\"fa ' + image + ' fa-lg\"></i>';\n",
       "        button.addEventListener('click', on_click_closure(method_name));\n",
       "        button.addEventListener('mouseover', on_mouseover_closure(tooltip));\n",
       "        buttonGroup.appendChild(button);\n",
       "    }\n",
       "\n",
       "    if (buttonGroup.hasChildNodes()) {\n",
       "        toolbar.appendChild(buttonGroup);\n",
       "    }\n",
       "\n",
       "    // Add the status bar.\n",
       "    var status_bar = document.createElement('span');\n",
       "    status_bar.classList = 'mpl-message pull-right';\n",
       "    toolbar.appendChild(status_bar);\n",
       "    this.message = status_bar;\n",
       "\n",
       "    // Add the close button to the window.\n",
       "    var buttongrp = document.createElement('div');\n",
       "    buttongrp.classList = 'btn-group inline pull-right';\n",
       "    button = document.createElement('button');\n",
       "    button.classList = 'btn btn-mini btn-primary';\n",
       "    button.href = '#';\n",
       "    button.title = 'Stop Interaction';\n",
       "    button.innerHTML = '<i class=\"fa fa-power-off icon-remove icon-large\"></i>';\n",
       "    button.addEventListener('click', function (_evt) {\n",
       "        fig.handle_close(fig, {});\n",
       "    });\n",
       "    button.addEventListener(\n",
       "        'mouseover',\n",
       "        on_mouseover_closure('Stop Interaction')\n",
       "    );\n",
       "    buttongrp.appendChild(button);\n",
       "    var titlebar = this.root.querySelector('.ui-dialog-titlebar');\n",
       "    titlebar.insertBefore(buttongrp, titlebar.firstChild);\n",
       "};\n",
       "\n",
       "mpl.figure.prototype._remove_fig_handler = function (event) {\n",
       "    var fig = event.data.fig;\n",
       "    if (event.target !== this) {\n",
       "        // Ignore bubbled events from children.\n",
       "        return;\n",
       "    }\n",
       "    fig.close_ws(fig, {});\n",
       "};\n",
       "\n",
       "mpl.figure.prototype._root_extra_style = function (el) {\n",
       "    el.style.boxSizing = 'content-box'; // override notebook setting of border-box.\n",
       "};\n",
       "\n",
       "mpl.figure.prototype._canvas_extra_style = function (el) {\n",
       "    // this is important to make the div 'focusable\n",
       "    el.setAttribute('tabindex', 0);\n",
       "    // reach out to IPython and tell the keyboard manager to turn it's self\n",
       "    // off when our div gets focus\n",
       "\n",
       "    // location in version 3\n",
       "    if (IPython.notebook.keyboard_manager) {\n",
       "        IPython.notebook.keyboard_manager.register_events(el);\n",
       "    } else {\n",
       "        // location in version 2\n",
       "        IPython.keyboard_manager.register_events(el);\n",
       "    }\n",
       "};\n",
       "\n",
       "mpl.figure.prototype._key_event_extra = function (event, _name) {\n",
       "    // Check for shift+enter\n",
       "    if (event.shiftKey && event.which === 13) {\n",
       "        this.canvas_div.blur();\n",
       "        // select the cell after this one\n",
       "        var index = IPython.notebook.find_cell_index(this.cell_info[0]);\n",
       "        IPython.notebook.select(index + 1);\n",
       "    }\n",
       "};\n",
       "\n",
       "mpl.figure.prototype.handle_save = function (fig, _msg) {\n",
       "    fig.ondownload(fig, null);\n",
       "};\n",
       "\n",
       "mpl.find_output_cell = function (html_output) {\n",
       "    // Return the cell and output element which can be found *uniquely* in the notebook.\n",
       "    // Note - this is a bit hacky, but it is done because the \"notebook_saving.Notebook\"\n",
       "    // IPython event is triggered only after the cells have been serialised, which for\n",
       "    // our purposes (turning an active figure into a static one), is too late.\n",
       "    var cells = IPython.notebook.get_cells();\n",
       "    var ncells = cells.length;\n",
       "    for (var i = 0; i < ncells; i++) {\n",
       "        var cell = cells[i];\n",
       "        if (cell.cell_type === 'code') {\n",
       "            for (var j = 0; j < cell.output_area.outputs.length; j++) {\n",
       "                var data = cell.output_area.outputs[j];\n",
       "                if (data.data) {\n",
       "                    // IPython >= 3 moved mimebundle to data attribute of output\n",
       "                    data = data.data;\n",
       "                }\n",
       "                if (data['text/html'] === html_output) {\n",
       "                    return [cell, data, j];\n",
       "                }\n",
       "            }\n",
       "        }\n",
       "    }\n",
       "};\n",
       "\n",
       "// Register the function which deals with the matplotlib target/channel.\n",
       "// The kernel may be null if the page has been refreshed.\n",
       "if (IPython.notebook.kernel !== null) {\n",
       "    IPython.notebook.kernel.comm_manager.register_target(\n",
       "        'matplotlib',\n",
       "        mpl.mpl_figure_comm\n",
       "    );\n",
       "}\n"
      ],
      "text/plain": [
       "<IPython.core.display.Javascript object>"
      ]
     },
     "metadata": {},
     "output_type": "display_data"
    },
    {
     "data": {
      "text/html": [
       "<img src=\"data:image/png;base64,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\" width=\"499.9999925494195\">"
      ],
      "text/plain": [
       "<IPython.core.display.HTML object>"
      ]
     },
     "metadata": {},
     "output_type": "display_data"
    },
    {
     "data": {
      "application/vnd.jupyter.widget-view+json": {
       "model_id": "b4a0c882d54340a59448cc77c2f03c94",
       "version_major": 2,
       "version_minor": 0
      },
      "text/plain": [
       "interactive(children=(FloatSlider(value=0.0, description='theta', max=6.283185307179586, step=0.01), Output())…"
      ]
     },
     "metadata": {},
     "output_type": "display_data"
    }
   ],
   "source": [
    "\n",
    "def g(A, theta):\n",
    "    a, c = np.cos(theta), np.sin(theta)\n",
    "    x = np.linspace(0, a, 100)\n",
    "    y = np.linspace(0, c, 100)\n",
    "    b, d = A @ np.array([a,c])\n",
    "    z = np.linspace(0, b, 100)\n",
    "    w = np.linspace(0, d, 100)\n",
    "    return x, y, z, w\n",
    "\n",
    "fig, ax = plt.subplots(figsize=(6,6))\n",
    "xmin, xmax, ymin, ymax = -2, 2, -2, 2\n",
    "ax.set(xlim=(xmin-1, xmax+1), ylim=(ymin-1, ymax+1), aspect='equal')\n",
    "ax.spines['bottom'].set_position('zero')\n",
    "ax.spines['left'].set_position('zero')\n",
    "ax.spines['top'].set_visible(False)\n",
    "ax.spines['right'].set_visible(False)\n",
    "\n",
    "ax.set_xlabel('x', size=14, labelpad=-24, x=1.03)\n",
    "ax.set_ylabel('y', size=14, labelpad=-21, y=1.02, rotation=0)\n",
    "arrow_fmt = dict(markersize=4, color='black', clip_on=False)\n",
    "ax.plot((1), (0), marker='>', transform=ax.get_yaxis_transform(), **arrow_fmt)\n",
    "ax.plot((0), (1), marker='^', transform=ax.get_xaxis_transform(), **arrow_fmt)\n",
    "\n",
    "x, y, z, w = g(A, 0)\n",
    "line1, = ax.plot(x,y, color='red')\n",
    "line2, = ax.plot(z,w, color='green')\n",
    "\n",
    "angles = np.linspace(0, 2*np.pi, 100)\n",
    "crc = np.array([np.cos(angles), np.sin(angles)])\n",
    "elps = A @ crc\n",
    "ax.plot(crc[0,:], crc[1,:], color='red')\n",
    "ax.plot(elps[0,:], elps[1,:], color='green')\n",
    "\n",
    "def update(theta = 0):\n",
    "    x, y, z, w = g(A,theta)\n",
    "    print(\"x = \"+str(x[-1])+\",\"+str(y[-1]))\n",
    "    print(\"y = \"+str(z[-1])+\",\"+str(w[-1]))\n",
    "    line1.set_data(x, y)\n",
    "    line2.set_data(z, w)\n",
    "    fig.canvas.draw_idle()\n",
    "    \n",
    "interact(update, theta = (0, 2*np.pi, 0.01));"
   ]
  },
  {
   "cell_type": "markdown",
   "id": "6c8629b4",
   "metadata": {
    "hide_input": true,
    "slideshow": {
     "slide_type": "slide"
    }
   },
   "source": [
    "### Example: How to find eigenvalues and eigenvectors\n",
    "\n",
    "$$\n",
    "\\begin{aligned}\n",
    "A &= \\left[\\begin{matrix}0.8 & 0.3\\\\0.2 & 0.7\\end{matrix}\\right]\\\\\n",
    "A\\mathbf x &= \\lambda \\mathbf x\\\\\n",
    "&= \\lambda \\mathbf I \\mathbf x\\\\\n",
    "(A-\\lambda \\mathbf I)\\mathbf x &= \\mathbf 0 \n",
    "\\end{aligned}\n",
    "$$\n",
    "\n",
    "The important matrix now is\n",
    "\n",
    "$$\n",
    "A-\\lambda \\mathbf I = \\begin{bmatrix}\n",
    "0.8-\\lambda & 0.3\\\\\n",
    "0.2 & 0.7-\\lambda\n",
    "\\end{bmatrix}\n",
    "$$"
   ]
  },
  {
   "cell_type": "markdown",
   "id": "b511393c",
   "metadata": {},
   "source": [
    "We are looking for a value of $\\lambda$ such that\n",
    "$$\n",
    "(A-\\lambda \\mathbf I)\\mathbf x = \\mathbf 0 \n",
    "$$\n",
    "\n",
    "with $\\mathbf x \\neq \\mathbf 0$ (otherwise the equation would be trivial).\n",
    "\n",
    "It follows that $(A-\\lambda \\mathbf I)$ is not invertible. Hence:\n",
    "\n",
    "$$\n",
    "|(A-\\lambda \\mathbf I)| = 0\n",
    "$$\n",
    "\n",
    "Using the formula for the determinant of a $2\\times 2$ matrix:\n",
    "\n",
    "$$\n",
    "(0.8-\\lambda)(0.7-\\lambda) - 0.2\\times 0.3 = 0\n",
    "$$\n"
   ]
  },
  {
   "cell_type": "markdown",
   "id": "1f5dd9bd",
   "metadata": {
    "slideshow": {
     "slide_type": "slide"
    }
   },
   "source": [
    "Simplifying:\n",
    "\n",
    "$$\n",
    "\\begin{aligned}\n",
    "(0.8-\\lambda)(0.7-\\lambda) - 0.2\\times 0.3 &= 0\\\\\n",
    "\\lambda ^2 - 1.5\\lambda + 0.56 - 0.06 &= 0\\\\\n",
    "\\lambda^2 - 1.5\\lambda + 0.5 &= 0\n",
    "\\end{aligned}\n",
    "$$\n",
    "\n",
    "There is a formula for finding the solution of quadratic equations (https://en.wikipedia.org/wiki/Quadratic_equation):\n",
    "\n",
    "$$\n",
    "\\begin{aligned}\n",
    "\\lambda_{1/2} = \\frac{3}{4} \\pm \\sqrt{(\\frac{3}{4})^2-\\frac{1}{2}}\\\\\n",
    "&= \\frac{3}{4} \\pm \\sqrt{\\frac{9-8}{16}}\\\\\n",
    "&= \\frac{3}{4} \\pm \\sqrt{\\frac{1}{16}}\\\\\n",
    "&= \\frac{3}{4} \\pm \\frac{1}{4}\\\\\n",
    "\\lambda_1 &= 1\\\\\n",
    "\\lambda_2 &= 0.5\n",
    "\\end{aligned}\n",
    "$$\n",
    "\n",
    "$\\lambda_1$ and $\\lambda_2$ are the eigenvalues of $A$. Now let's find the corresponding eigenvectors."
   ]
  },
  {
   "cell_type": "markdown",
   "id": "1b565015",
   "metadata": {
    "slideshow": {
     "slide_type": "slide"
    }
   },
   "source": [
    "This amount to finding the nullspace of $A-\\lambda\\mathbf I$:\n",
    "\n",
    "- $\\lambda_1$\n",
    "\n",
    "$$\n",
    "\\begin{aligned}\n",
    "(A - \\lambda_1\\mathbf I)\\mathbf x_1 &= \\mathbf 0\\\\\n",
    "\\begin{bmatrix}\n",
    "-0.2 & 0.3\\\\\n",
    "0.2 & -0.3\n",
    "\\end{bmatrix}\\mathbf x_1 &= \\mathbf 0\\\\\n",
    "\\begin{bmatrix}\n",
    "-0.2 & 0.3\\\\\n",
    "0 & 0\n",
    "\\end{bmatrix}\\mathbf x_1 &= \\mathbf 0\\\\\n",
    "\\begin{bmatrix}\n",
    "1 & -1.5\\\\\n",
    "0 & 0\n",
    "\\end{bmatrix}\\mathbf x_1 &= \\mathbf 0\\\\\n",
    "\\mathbf x_1 &= \\begin{bmatrix}1.5\\\\1\\end{bmatrix}\n",
    "\\end{aligned}\n",
    "$$\n",
    "\n"
   ]
  },
  {
   "cell_type": "markdown",
   "id": "9b33c66b",
   "metadata": {
    "slideshow": {
     "slide_type": "slide"
    }
   },
   "source": [
    "\n",
    "- $\\lambda_2$\n",
    "\n",
    "$$\n",
    "\\begin{aligned}\n",
    "(A - \\lambda_2\\mathbf I)\\mathbf x_1 &= \\mathbf 0\\\\\n",
    "\\begin{bmatrix}\n",
    "0.3 & 0.3\\\\\n",
    "0.2 & 0.2\n",
    "\\end{bmatrix}\\mathbf x_2 &= \\mathbf 0\\\\\n",
    "\\begin{bmatrix}\n",
    "0.3 & 0.3\\\\\n",
    "0 & 0\n",
    "\\end{bmatrix}\\mathbf x_2 &= \\mathbf 0\\\\\n",
    "\\begin{bmatrix}\n",
    "1 & 1\\\\\n",
    "0 & 0\n",
    "\\end{bmatrix}\\mathbf x_2 &= \\mathbf 0\\\\\n",
    "\\mathbf x_2 &= \\begin{bmatrix}-1\\\\1\\end{bmatrix}\\\\\n",
    "\\end{aligned}\n",
    "$$"
   ]
  },
  {
   "cell_type": "markdown",
   "id": "6cd39819",
   "metadata": {
    "slideshow": {
     "slide_type": "slide"
    }
   },
   "source": [
    "$\\mathbf x_1$ is the eigenvector *corresponding to* $\\lambda_1$.\n",
    "\n",
    "$\\mathbf x_2$ is the eigenvector *corresponding to* $\\lambda_2$.\n",
    "\n",
    "Any non-zero multiples of $\\mathbf x_1, \\mathbf x_2$ are also eigenvectors. It is common practice to use normalized eigenvectors, i.e.\\ eigenvectors with length 1.\n",
    "\n",
    "$$\n",
    "\\begin{aligned}\n",
    "\\mathbf v_1 &= \\frac{\\mathbf x_1}{||\\mathbf x_1||}\\\\\n",
    "&= \\frac{1}{\\sqrt{13}}\\begin{bmatrix}3\\\\2\\end{bmatrix}\\\\\n",
    "\\mathbf v_2 &= \\frac{\\mathbf x_1}{||\\mathbf x_1||}\\\\\n",
    "&= \\frac{1}{\\sqrt{2}}\\begin{bmatrix}-1\\\\1\\end{bmatrix}\\\\\n",
    "\\end{aligned}\n",
    "$$"
   ]
  },
  {
   "cell_type": "code",
   "execution_count": 23,
   "id": "d201fdf4",
   "metadata": {
    "slideshow": {
     "slide_type": "slide"
    }
   },
   "outputs": [
    {
     "data": {
      "text/latex": [
       "$\\displaystyle \\left[\\begin{matrix}\\frac{4}{5} & \\frac{3}{10}\\\\\\frac{1}{5} & \\frac{7}{10}\\end{matrix}\\right]$"
      ],
      "text/plain": [
       "Matrix([\n",
       "[4/5, 3/10],\n",
       "[1/5, 7/10]])"
      ]
     },
     "execution_count": 23,
     "metadata": {},
     "output_type": "execute_result"
    }
   ],
   "source": [
    "A = Matrix([\n",
    "    [Rational(4,5), Rational(3,10)],\n",
    "    [Rational(1,5), Rational(7,10)]\n",
    "])\n",
    "A"
   ]
  },
  {
   "cell_type": "code",
   "execution_count": 24,
   "id": "d3d5c23c",
   "metadata": {},
   "outputs": [],
   "source": [
    "e1, e2 = A.eigenvects()"
   ]
  },
  {
   "cell_type": "code",
   "execution_count": 25,
   "id": "fd9bf523",
   "metadata": {},
   "outputs": [],
   "source": [
    "lambda1, _, v1 = e1"
   ]
  },
  {
   "cell_type": "code",
   "execution_count": 26,
   "id": "c8bf9c34",
   "metadata": {},
   "outputs": [
    {
     "data": {
      "text/latex": [
       "$\\displaystyle \\frac{1}{2}$"
      ],
      "text/plain": [
       "1/2"
      ]
     },
     "execution_count": 26,
     "metadata": {},
     "output_type": "execute_result"
    }
   ],
   "source": [
    "lambda1"
   ]
  },
  {
   "cell_type": "code",
   "execution_count": 27,
   "id": "f77ce6d4",
   "metadata": {},
   "outputs": [
    {
     "data": {
      "text/latex": [
       "$\\displaystyle \\left[\\begin{matrix}- \\frac{\\sqrt{2}}{2}\\\\\\frac{\\sqrt{2}}{2}\\end{matrix}\\right]$"
      ],
      "text/plain": [
       "Matrix([\n",
       "[-sqrt(2)/2],\n",
       "[ sqrt(2)/2]])"
      ]
     },
     "execution_count": 27,
     "metadata": {},
     "output_type": "execute_result"
    }
   ],
   "source": [
    "v1[0].normalized()"
   ]
  },
  {
   "cell_type": "code",
   "execution_count": 28,
   "id": "db0dc01c",
   "metadata": {},
   "outputs": [],
   "source": [
    "lambda2, _, v2 = e2"
   ]
  },
  {
   "cell_type": "code",
   "execution_count": 29,
   "id": "e1c383d6",
   "metadata": {},
   "outputs": [
    {
     "data": {
      "text/latex": [
       "$\\displaystyle 1$"
      ],
      "text/plain": [
       "1"
      ]
     },
     "execution_count": 29,
     "metadata": {},
     "output_type": "execute_result"
    }
   ],
   "source": [
    "lambda2"
   ]
  },
  {
   "cell_type": "code",
   "execution_count": 30,
   "id": "35f6dfd7",
   "metadata": {},
   "outputs": [
    {
     "data": {
      "text/latex": [
       "$\\displaystyle \\left[\\begin{matrix}\\frac{3 \\sqrt{13}}{13}\\\\\\frac{2 \\sqrt{13}}{13}\\end{matrix}\\right]$"
      ],
      "text/plain": [
       "Matrix([\n",
       "[3*sqrt(13)/13],\n",
       "[2*sqrt(13)/13]])"
      ]
     },
     "execution_count": 30,
     "metadata": {},
     "output_type": "execute_result"
    }
   ],
   "source": [
    "v2[0].normalized()"
   ]
  },
  {
   "cell_type": "code",
   "execution_count": 31,
   "id": "e0ade0b9",
   "metadata": {
    "slideshow": {
     "slide_type": "slide"
    }
   },
   "outputs": [
    {
     "data": {
      "text/plain": [
       "array([[0.8, 0.3],\n",
       "       [0.2, 0.7]])"
      ]
     },
     "execution_count": 31,
     "metadata": {},
     "output_type": "execute_result"
    }
   ],
   "source": [
    "A = np.array([\n",
    "    [0.8, 0.3],\n",
    "    [0.2, 0.7]\n",
    "])\n",
    "A"
   ]
  },
  {
   "cell_type": "code",
   "execution_count": 32,
   "id": "764134f7",
   "metadata": {},
   "outputs": [
    {
     "data": {
      "text/plain": [
       "(array([1. , 0.5]),\n",
       " array([[ 0.83205029, -0.70710678],\n",
       "        [ 0.5547002 ,  0.70710678]]))"
      ]
     },
     "execution_count": 32,
     "metadata": {},
     "output_type": "execute_result"
    }
   ],
   "source": [
    "np.linalg.eig(A)"
   ]
  },
  {
   "cell_type": "markdown",
   "id": "2955e66a",
   "metadata": {
    "slideshow": {
     "slide_type": "slide"
    }
   },
   "source": [
    "\n",
    "\n",
    "### Procedure to find eigenvalues and eigenvectors:\n",
    "\n",
    "1. Construct $A-\\lambda \\mathbf I$ with $\\lambda$ as unknown.\n",
    "2. Set $|A-\\lambda \\mathbf I| = 0$ and solve for $\\lambda$. All solutions are eigenvalues.\n",
    "3. For each solution for $\\lambda$, find the nullspace of $|A-\\lambda \\mathbf I| = 0$. Each vector in the nullspace is an eigenvector corresponding to this solution."
   ]
  },
  {
   "cell_type": "markdown",
   "id": "fbdc1706",
   "metadata": {},
   "source": [
    "##### Example 2: Projection matrix\n",
    "\n",
    "$$\n",
    "A = \\begin{bmatrix}\n",
    "\\frac{1}{2} & \\frac{1}{2}\\\\\n",
    "\\frac{1}{2} & \\frac{1}{2}\n",
    "\\end{bmatrix}\n",
    "$$\n",
    "\n",
    "- find eigenvalues\n",
    "\n",
    "$$\n",
    "\\begin{aligned}\n",
    "\\begin{vmatrix}\n",
    "\\frac{1}{2}-\\lambda & \\frac{1}{2}\\\\\n",
    "\\frac{1}{2} & \\frac{1}{2}-\\lambda\n",
    "\\end{vmatrix} &= 0\\\\\n",
    "(\\frac{1}{2}-\\lambda)^2 - \\frac{1}{4} &= 0\\\\\n",
    "\\lambda^2 -\\lambda &= 0\\\\\n",
    "\\lambda(\\lambda-1) &= 0\\\\\n",
    "\\lambda_1 &= 1\\\\\n",
    "\\lambda_2 &= 0\n",
    "\\end{aligned}\n",
    "$$"
   ]
  },
  {
   "cell_type": "markdown",
   "id": "0c700c06",
   "metadata": {
    "slideshow": {
     "slide_type": "slide"
    }
   },
   "source": [
    "- find eigenvectors\n",
    "\n",
    "    - $\\lambda_1$: \n",
    "    $$\n",
    "    \\begin{aligned}\n",
    "    \\begin{bmatrix}\n",
    "    -\\frac{1}{2} & \\frac{1}{2}\\\\\n",
    "    \\frac{1}{2} & -\\frac{1}{2}\n",
    "    \\end{bmatrix}\\mathbf x_1 &= \\mathbf 0\\\\\n",
    "    \\mathbf x_1 &= \\begin{bmatrix}1\\\\1\\end{bmatrix}\n",
    "    \\end{aligned}\n",
    "    $$\n",
    "    \n",
    "    - $\\lambda_2$:\n",
    "    $$\n",
    "    \\begin{aligned}\n",
    "    \\begin{bmatrix}\n",
    "    \\frac{1}{2} & \\frac{1}{2}\\\\\n",
    "    \\frac{1}{2} & \\frac{1}{2}\n",
    "    \\end{bmatrix}\\mathbf x_2 &= \\mathbf 0\\\\\n",
    "    \\mathbf x_2 &= \\begin{bmatrix}-1\\\\1\\end{bmatrix}\n",
    "    \\end{aligned}\n",
    "    $$"
   ]
  },
  {
   "cell_type": "markdown",
   "id": "a4ee7e80",
   "metadata": {
    "slideshow": {
     "slide_type": "slide"
    }
   },
   "source": [
    "##### Example 3: Reflection matrix\n",
    "\n",
    "$$\n",
    "A = \\begin{bmatrix}\n",
    "0 & 1\\\\\n",
    "1 & 0\n",
    "\\end{bmatrix}\n",
    "$$\n",
    "\n",
    "- find eigenvalues\n",
    "\n",
    "$$\n",
    "\\begin{aligned}\n",
    "\\begin{vmatrix}\n",
    "-\\lambda & 1\\\\\n",
    "1 & -\\lambda\n",
    "\\end{vmatrix} &= 0\\\\\n",
    "\\lambda^2-1 &= 0\\\\\n",
    "\\lambda^2 &= 1\\\\\n",
    "\\lambda_1 &= 1\\\\\n",
    "\\lambda_2 &= -1\n",
    "\\end{aligned}\n",
    "$$"
   ]
  },
  {
   "cell_type": "markdown",
   "id": "afb03c09",
   "metadata": {
    "slideshow": {
     "slide_type": "slide"
    }
   },
   "source": [
    "- find eigenvectors\n",
    "\n",
    "    - $\\lambda_1$: \n",
    "    $$\n",
    "    \\begin{aligned}\n",
    "    \\begin{bmatrix}\n",
    "    -1 & 1\\\\\n",
    "    1 & -1\n",
    "    \\end{bmatrix}\\mathbf x_1 &= \\mathbf 0\\\\\n",
    "    \\mathbf x_1 &= \\begin{bmatrix}1\\\\1\\end{bmatrix}\n",
    "    \\end{aligned}\n",
    "    $$\n",
    "    \n",
    "    - $\\lambda_2$:\n",
    "    $$\n",
    "    \\begin{aligned}\n",
    "    \\begin{bmatrix}\n",
    "    1 & 1\\\\\n",
    "    1 & 1\n",
    "    \\end{bmatrix}\\mathbf x_2 &= \\mathbf 0\\\\\n",
    "    \\mathbf x_2 &= \\begin{bmatrix}-1\\\\1\\end{bmatrix}\n",
    "    \\end{aligned}\n",
    "    $$"
   ]
  },
  {
   "cell_type": "markdown",
   "id": "054398bb",
   "metadata": {
    "slideshow": {
     "slide_type": "slide"
    }
   },
   "source": [
    "##### Example 4: Rotation matrix\n",
    "\n",
    "$$\n",
    "A = \\begin{bmatrix}\n",
    "\\frac{\\sqrt{2}}{2} & \\frac{\\sqrt{2}}{2}\\\\\n",
    "-\\frac{\\sqrt{2}}{2} & \\frac{\\sqrt{2}}{2}\n",
    "\\end{bmatrix}\n",
    "$$\n",
    "\n",
    "- find eigenvalues\n",
    "\n",
    "$$\n",
    "\\begin{aligned}\n",
    "\\begin{vmatrix}\n",
    "\\frac{\\sqrt{2}}{2}-\\lambda & \\frac{\\sqrt{2}}{2}\\\\\n",
    "-\\frac{\\sqrt{2}}{2} & \\frac{\\sqrt{2}}{2}-\\lambda\n",
    "\\end{vmatrix} &= 0\\\\\n",
    "(\\frac{\\sqrt{2}}{2}-\\lambda)^2 + \\frac{1}{2} &= 0\\\\\n",
    "\\lambda^2 - \\sqrt{2}\\lambda + 1 &= 0\\\\\n",
    "\\lambda_{1/2} &= \\frac{\\sqrt{2}}{2} \\pm \\sqrt{\\frac{1}{2} - 1}\\\\\n",
    " &= \\frac{\\sqrt{2}}{2} \\pm \\sqrt{-\\frac{1}{2}}\n",
    "\\end{aligned}\n",
    "$$\n",
    "\n",
    "**There is no solution within the real numbers!**\n",
    "\n",
    "(There are complex eigenvalues – and complex eigenvectors – for this matrix, but this is beyond the scope of this course.)"
   ]
  },
  {
   "cell_type": "markdown",
   "id": "b88fe023",
   "metadata": {
    "slideshow": {
     "slide_type": "slide"
    }
   },
   "source": [
    "##### Example 5: Multiple eigenvalues\n",
    "$$\n",
    "A = \\begin{bmatrix}\n",
    "1 & 0\\\\\n",
    "0 & 1\n",
    "\\end{bmatrix}\n",
    "$$\n",
    "\n",
    "- find eigenvalues\n",
    "\n",
    "$$\n",
    "\\begin{aligned}\n",
    "\\begin{vmatrix}\n",
    "1-\\lambda & 0\\\\\n",
    "0 & 1-\\lambda\n",
    "\\end{vmatrix} &= 0\\\\\n",
    "(1-\\lambda)^2 &= 0\\\\\n",
    "1-\\lambda &= 0\\\\\n",
    "\\lambda &= 1\n",
    "\\end{aligned}\n",
    "$$\n",
    "\n",
    "- find eigenvectors\n",
    "\n",
    "$$\n",
    "\\begin{bmatrix}\n",
    "0 & 0\\\\\n",
    "0 & 0\n",
    "\\end{bmatrix}\\mathbf x = \\mathbf 0\n",
    "$$\n",
    "\n",
    "**Any vector is an eigenvector of the identity matrix.**"
   ]
  },
  {
   "cell_type": "markdown",
   "id": "858ce872",
   "metadata": {
    "slideshow": {
     "slide_type": "slide"
    }
   },
   "source": [
    "##### Example 6: Defective eigenvalues\n",
    "\n",
    "$$\n",
    "A = \\begin{bmatrix}\n",
    "1 & 1\\\\\n",
    "0 & 1\n",
    "\\end{bmatrix}\n",
    "$$\n",
    "\n",
    "- find eigenvalues\n",
    "\n",
    "$$\n",
    "\\begin{aligned}\n",
    "\\begin{vmatrix}\n",
    "1-\\lambda & 1\\\\\n",
    "0 & 1-\\lambda\n",
    "\\end{vmatrix} &= 0\\\\\n",
    "(1-\\lambda)^2 &= 0\\\\\n",
    "1-\\lambda &= 0\\\\\n",
    "\\lambda &= 1\n",
    "\\end{aligned}\n",
    "$$\n",
    "\n",
    "- find eigenvectors\n",
    "\n",
    "$$\n",
    "\\begin{aligned}\n",
    "\\begin{bmatrix}\n",
    "0 & 1\\\\\n",
    "0 & 0\n",
    "\\end{bmatrix}\n",
    "\\mathbf x &= \\mathbf 0\\\\\n",
    "\\mathbf x &= \\begin{bmatrix}1\\\\0\\end{bmatrix}\n",
    "\\end{aligned}\n",
    "$$\n",
    "\n",
    "**This matrix has only one eigenvalue and one eigenvector.**"
   ]
  },
  {
   "cell_type": "markdown",
   "id": "cc9037e8",
   "metadata": {
    "slideshow": {
     "slide_type": "slide"
    }
   },
   "source": [
    "### Larger matrices\n",
    "\n",
    "$$\n",
    "A = \\begin{bmatrix}\n",
    "-1 & 2 & 2\\\\\n",
    "2 & 2 & -1\\\\\n",
    "2 & -1 & 2\n",
    "\\end{bmatrix}\n",
    "$$\n",
    "\n",
    "- finding eigenvalues\n",
    "\n",
    "$$\n",
    "\\begin{aligned}\n",
    "\\begin{vmatrix}\n",
    "-1-\\lambda & 2 & 2\\\\\n",
    "2 & 2-\\lambda & -1\\\\\n",
    "2 & -1 & 2-\\lambda\n",
    "\\end{vmatrix} &= 0\\\\\n",
    "(-1-\\lambda)(2-\\lambda)^2 -4 -4 -4(2-\\lambda)-4(2-\\lambda) + 1 + \\lambda &= 0\\\\\n",
    "-\\lambda^2+4\\lambda-4-\\lambda^3+4\\lambda^2-4\\lambda -4 -4 -8+4\\lambda-8+4\\lambda + 1 + \\lambda &= 0\\\\\n",
    "-\\lambda^3 + 3\\lambda^2 + 9\\lambda - 27&= 0\\\\\n",
    "\\lambda^3 - 3\\lambda^2 - 9\\lambda + 27&= 0\n",
    "\\end{aligned}\n",
    "$$\n"
   ]
  },
  {
   "cell_type": "markdown",
   "id": "8c916755",
   "metadata": {},
   "source": [
    "In the general case, solving a cubic equation by hand is very hard. In this particular example, the solution is:\n",
    "\n",
    "$$\n",
    "\\begin{aligned}\n",
    "\\lambda^3 - 3\\lambda^2 - 9\\lambda + 27 &= (\\lambda -3)^2 (\\lambda+3)\\\\\n",
    "\\lambda_1 &= 3\\\\\n",
    "\\lambda_2 &= -3\n",
    "\\end{aligned}\n",
    "$$\n",
    "\n"
   ]
  },
  {
   "cell_type": "markdown",
   "id": "16223894",
   "metadata": {
    "slideshow": {
     "slide_type": "slide"
    }
   },
   "source": [
    "\n",
    "\n",
    "- eigenvectors"
   ]
  },
  {
   "cell_type": "code",
   "execution_count": 48,
   "id": "ef01cfd0",
   "metadata": {},
   "outputs": [
    {
     "data": {
      "text/latex": [
       "$\\displaystyle \\left[\\begin{matrix}-1 & 2 & 2\\\\2 & 2 & -1\\\\2 & -1 & 2\\end{matrix}\\right]$"
      ],
      "text/plain": [
       "Matrix([\n",
       "[-1,  2,  2],\n",
       "[ 2,  2, -1],\n",
       "[ 2, -1,  2]])"
      ]
     },
     "execution_count": 48,
     "metadata": {},
     "output_type": "execute_result"
    }
   ],
   "source": [
    "A = Matrix([\n",
    "    [-1,2,2],\n",
    "    [2,2,-1],\n",
    "    [2,-1,2]\n",
    "])\n",
    "A"
   ]
  },
  {
   "cell_type": "code",
   "execution_count": 50,
   "id": "7018c0de",
   "metadata": {},
   "outputs": [
    {
     "data": {
      "text/plain": [
       "{-3: 1, 3: 2}"
      ]
     },
     "execution_count": 50,
     "metadata": {},
     "output_type": "execute_result"
    }
   ],
   "source": [
    "A.eigenvals()"
   ]
  },
  {
   "cell_type": "markdown",
   "id": "cc34ddc5",
   "metadata": {},
   "source": [
    "(In this dictionary, the keys are the eigenvalues and the values are the *algebraic multiplicity*.)"
   ]
  },
  {
   "cell_type": "code",
   "execution_count": 51,
   "id": "05ebe5ec",
   "metadata": {},
   "outputs": [],
   "source": [
    "e1, e2 = A.eigenvects()"
   ]
  },
  {
   "cell_type": "code",
   "execution_count": 52,
   "id": "26e73b6d",
   "metadata": {},
   "outputs": [
    {
     "data": {
      "text/latex": [
       "$\\displaystyle -3$"
      ],
      "text/plain": [
       "-3"
      ]
     },
     "execution_count": 52,
     "metadata": {},
     "output_type": "execute_result"
    }
   ],
   "source": [
    "e1[0]"
   ]
  },
  {
   "cell_type": "code",
   "execution_count": 53,
   "id": "86046c65",
   "metadata": {},
   "outputs": [
    {
     "data": {
      "text/latex": [
       "$\\displaystyle \\left[\\begin{matrix}-2\\\\1\\\\1\\end{matrix}\\right]$"
      ],
      "text/plain": [
       "Matrix([\n",
       "[-2],\n",
       "[ 1],\n",
       "[ 1]])"
      ]
     },
     "execution_count": 53,
     "metadata": {},
     "output_type": "execute_result"
    }
   ],
   "source": [
    "e1[2][0]"
   ]
  },
  {
   "cell_type": "code",
   "execution_count": 54,
   "id": "cf4b0d33",
   "metadata": {},
   "outputs": [
    {
     "data": {
      "text/latex": [
       "$\\displaystyle 3$"
      ],
      "text/plain": [
       "3"
      ]
     },
     "execution_count": 54,
     "metadata": {},
     "output_type": "execute_result"
    }
   ],
   "source": [
    "e2[0]"
   ]
  },
  {
   "cell_type": "code",
   "execution_count": 56,
   "id": "2c03d6f5",
   "metadata": {},
   "outputs": [
    {
     "data": {
      "text/latex": [
       "$\\displaystyle \\left[\\begin{matrix}\\frac{1}{2}\\\\1\\\\0\\end{matrix}\\right]$"
      ],
      "text/plain": [
       "Matrix([\n",
       "[1/2],\n",
       "[  1],\n",
       "[  0]])"
      ]
     },
     "execution_count": 56,
     "metadata": {},
     "output_type": "execute_result"
    }
   ],
   "source": [
    "e2[2][0]"
   ]
  },
  {
   "cell_type": "code",
   "execution_count": 57,
   "id": "755698f1",
   "metadata": {
    "slideshow": {
     "slide_type": "slide"
    }
   },
   "outputs": [
    {
     "data": {
      "text/latex": [
       "$\\displaystyle \\left[\\begin{matrix}\\frac{1}{2}\\\\0\\\\1\\end{matrix}\\right]$"
      ],
      "text/plain": [
       "Matrix([\n",
       "[1/2],\n",
       "[  0],\n",
       "[  1]])"
      ]
     },
     "execution_count": 57,
     "metadata": {},
     "output_type": "execute_result"
    }
   ],
   "source": [
    "e2[2][1]"
   ]
  },
  {
   "cell_type": "markdown",
   "id": "af548ac3",
   "metadata": {},
   "source": [
    "Note that there are two eigenvectors corresponding to the eigenvalue 3."
   ]
  },
  {
   "cell_type": "code",
   "execution_count": 58,
   "id": "cc2e3e5a",
   "metadata": {
    "slideshow": {
     "slide_type": "slide"
    }
   },
   "outputs": [
    {
     "data": {
      "text/latex": [
       "$\\displaystyle \\left[\\begin{matrix}-1 & 2 & 3\\\\4 & 5 & 6\\\\7 & 8 & 9\\end{matrix}\\right]$"
      ],
      "text/plain": [
       "Matrix([\n",
       "[-1, 2, 3],\n",
       "[ 4, 5, 6],\n",
       "[ 7, 8, 9]])"
      ]
     },
     "execution_count": 58,
     "metadata": {},
     "output_type": "execute_result"
    }
   ],
   "source": [
    "A = Matrix([\n",
    "    [-1,2,3],\n",
    "    [4,5,6],\n",
    "    [7,8,9]\n",
    "])\n",
    "A"
   ]
  },
  {
   "cell_type": "code",
   "execution_count": 59,
   "id": "ffeae032",
   "metadata": {},
   "outputs": [],
   "source": [
    "e1, e2, e3 = A.eigenvects()"
   ]
  },
  {
   "cell_type": "code",
   "execution_count": 60,
   "id": "d47eafce",
   "metadata": {},
   "outputs": [
    {
     "data": {
      "text/latex": [
       "$\\displaystyle \\frac{13}{3} + \\left(- \\frac{1}{2} - \\frac{\\sqrt{3} i}{2}\\right) \\sqrt[3]{\\frac{4969}{27} + \\frac{\\sqrt{471498} i}{9}} + \\frac{307}{9 \\left(- \\frac{1}{2} - \\frac{\\sqrt{3} i}{2}\\right) \\sqrt[3]{\\frac{4969}{27} + \\frac{\\sqrt{471498} i}{9}}}$"
      ],
      "text/plain": [
       "13/3 + (-1/2 - sqrt(3)*I/2)*(4969/27 + sqrt(471498)*I/9)**(1/3) + 307/(9*(-1/2 - sqrt(3)*I/2)*(4969/27 + sqrt(471498)*I/9)**(1/3))"
      ]
     },
     "execution_count": 60,
     "metadata": {},
     "output_type": "execute_result"
    }
   ],
   "source": [
    "e1[0]"
   ]
  },
  {
   "cell_type": "code",
   "execution_count": 25,
   "id": "ab31601e",
   "metadata": {
    "slideshow": {
     "slide_type": "slide"
    }
   },
   "outputs": [
    {
     "data": {
      "text/latex": [
       "$\\displaystyle \\left[\\begin{matrix}\\frac{306}{89} + \\frac{63 \\left(- \\frac{1}{2} - \\frac{\\sqrt{3} i}{2}\\right) \\sqrt[3]{\\frac{4969}{27} + \\frac{\\sqrt{471498} i}{9}}}{89} - \\frac{4 \\left(\\frac{13}{3} + \\left(- \\frac{1}{2} - \\frac{\\sqrt{3} i}{2}\\right) \\sqrt[3]{\\frac{4969}{27} + \\frac{\\sqrt{471498} i}{9}} + \\frac{307}{9 \\left(- \\frac{1}{2} - \\frac{\\sqrt{3} i}{2}\\right) \\sqrt[3]{\\frac{4969}{27} + \\frac{\\sqrt{471498} i}{9}}}\\right)^{2}}{89} + \\frac{2149}{89 \\left(- \\frac{1}{2} - \\frac{\\sqrt{3} i}{2}\\right) \\sqrt[3]{\\frac{4969}{27} + \\frac{\\sqrt{471498} i}{9}}}\\\\- \\frac{959}{267} - \\frac{13508}{801 \\left(- \\frac{1}{2} - \\frac{\\sqrt{3} i}{2}\\right) \\sqrt[3]{\\frac{4969}{27} + \\frac{\\sqrt{471498} i}{9}}} + \\frac{7 \\left(\\frac{13}{3} + \\left(- \\frac{1}{2} - \\frac{\\sqrt{3} i}{2}\\right) \\sqrt[3]{\\frac{4969}{27} + \\frac{\\sqrt{471498} i}{9}} + \\frac{307}{9 \\left(- \\frac{1}{2} - \\frac{\\sqrt{3} i}{2}\\right) \\sqrt[3]{\\frac{4969}{27} + \\frac{\\sqrt{471498} i}{9}}}\\right)^{2}}{178} - \\frac{44 \\left(- \\frac{1}{2} - \\frac{\\sqrt{3} i}{2}\\right) \\sqrt[3]{\\frac{4969}{27} + \\frac{\\sqrt{471498} i}{9}}}{89}\\\\1\\end{matrix}\\right]$"
      ],
      "text/plain": [
       "Matrix([\n",
       "[     306/89 + 63*(-1/2 - sqrt(3)*I/2)*(4969/27 + sqrt(471498)*I/9)**(1/3)/89 - 4*(13/3 + (-1/2 - sqrt(3)*I/2)*(4969/27 + sqrt(471498)*I/9)**(1/3) + 307/(9*(-1/2 - sqrt(3)*I/2)*(4969/27 + sqrt(471498)*I/9)**(1/3)))**2/89 + 2149/(89*(-1/2 - sqrt(3)*I/2)*(4969/27 + sqrt(471498)*I/9)**(1/3))],\n",
       "[-959/267 - 13508/(801*(-1/2 - sqrt(3)*I/2)*(4969/27 + sqrt(471498)*I/9)**(1/3)) + 7*(13/3 + (-1/2 - sqrt(3)*I/2)*(4969/27 + sqrt(471498)*I/9)**(1/3) + 307/(9*(-1/2 - sqrt(3)*I/2)*(4969/27 + sqrt(471498)*I/9)**(1/3)))**2/178 - 44*(-1/2 - sqrt(3)*I/2)*(4969/27 + sqrt(471498)*I/9)**(1/3)/89],\n",
       "[                                                                                                                                                                                                                                                                                               1]])"
      ]
     },
     "execution_count": 25,
     "metadata": {},
     "output_type": "execute_result"
    }
   ],
   "source": [
    "e1[2][0]"
   ]
  },
  {
   "cell_type": "code",
   "execution_count": 26,
   "id": "7087786e",
   "metadata": {
    "slideshow": {
     "slide_type": "slide"
    }
   },
   "outputs": [
    {
     "data": {
      "text/latex": [
       "$\\displaystyle \\frac{13}{3} + \\frac{307}{9 \\left(- \\frac{1}{2} + \\frac{\\sqrt{3} i}{2}\\right) \\sqrt[3]{\\frac{4969}{27} + \\frac{\\sqrt{471498} i}{9}}} + \\left(- \\frac{1}{2} + \\frac{\\sqrt{3} i}{2}\\right) \\sqrt[3]{\\frac{4969}{27} + \\frac{\\sqrt{471498} i}{9}}$"
      ],
      "text/plain": [
       "13/3 + 307/(9*(-1/2 + sqrt(3)*I/2)*(4969/27 + sqrt(471498)*I/9)**(1/3)) + (-1/2 + sqrt(3)*I/2)*(4969/27 + sqrt(471498)*I/9)**(1/3)"
      ]
     },
     "execution_count": 26,
     "metadata": {},
     "output_type": "execute_result"
    }
   ],
   "source": [
    "e2[0]"
   ]
  },
  {
   "cell_type": "code",
   "execution_count": 27,
   "id": "326fe5c5",
   "metadata": {},
   "outputs": [
    {
     "data": {
      "text/latex": [
       "$\\displaystyle \\left[\\begin{matrix}\\frac{306}{89} + \\frac{2149}{89 \\left(- \\frac{1}{2} + \\frac{\\sqrt{3} i}{2}\\right) \\sqrt[3]{\\frac{4969}{27} + \\frac{\\sqrt{471498} i}{9}}} - \\frac{4 \\left(\\frac{13}{3} + \\frac{307}{9 \\left(- \\frac{1}{2} + \\frac{\\sqrt{3} i}{2}\\right) \\sqrt[3]{\\frac{4969}{27} + \\frac{\\sqrt{471498} i}{9}}} + \\left(- \\frac{1}{2} + \\frac{\\sqrt{3} i}{2}\\right) \\sqrt[3]{\\frac{4969}{27} + \\frac{\\sqrt{471498} i}{9}}\\right)^{2}}{89} + \\frac{63 \\left(- \\frac{1}{2} + \\frac{\\sqrt{3} i}{2}\\right) \\sqrt[3]{\\frac{4969}{27} + \\frac{\\sqrt{471498} i}{9}}}{89}\\\\- \\frac{959}{267} - \\frac{44 \\left(- \\frac{1}{2} + \\frac{\\sqrt{3} i}{2}\\right) \\sqrt[3]{\\frac{4969}{27} + \\frac{\\sqrt{471498} i}{9}}}{89} + \\frac{7 \\left(\\frac{13}{3} + \\frac{307}{9 \\left(- \\frac{1}{2} + \\frac{\\sqrt{3} i}{2}\\right) \\sqrt[3]{\\frac{4969}{27} + \\frac{\\sqrt{471498} i}{9}}} + \\left(- \\frac{1}{2} + \\frac{\\sqrt{3} i}{2}\\right) \\sqrt[3]{\\frac{4969}{27} + \\frac{\\sqrt{471498} i}{9}}\\right)^{2}}{178} - \\frac{13508}{801 \\left(- \\frac{1}{2} + \\frac{\\sqrt{3} i}{2}\\right) \\sqrt[3]{\\frac{4969}{27} + \\frac{\\sqrt{471498} i}{9}}}\\\\1\\end{matrix}\\right]$"
      ],
      "text/plain": [
       "Matrix([\n",
       "[     306/89 + 2149/(89*(-1/2 + sqrt(3)*I/2)*(4969/27 + sqrt(471498)*I/9)**(1/3)) - 4*(13/3 + 307/(9*(-1/2 + sqrt(3)*I/2)*(4969/27 + sqrt(471498)*I/9)**(1/3)) + (-1/2 + sqrt(3)*I/2)*(4969/27 + sqrt(471498)*I/9)**(1/3))**2/89 + 63*(-1/2 + sqrt(3)*I/2)*(4969/27 + sqrt(471498)*I/9)**(1/3)/89],\n",
       "[-959/267 - 44*(-1/2 + sqrt(3)*I/2)*(4969/27 + sqrt(471498)*I/9)**(1/3)/89 + 7*(13/3 + 307/(9*(-1/2 + sqrt(3)*I/2)*(4969/27 + sqrt(471498)*I/9)**(1/3)) + (-1/2 + sqrt(3)*I/2)*(4969/27 + sqrt(471498)*I/9)**(1/3))**2/178 - 13508/(801*(-1/2 + sqrt(3)*I/2)*(4969/27 + sqrt(471498)*I/9)**(1/3))],\n",
       "[                                                                                                                                                                                                                                                                                               1]])"
      ]
     },
     "execution_count": 27,
     "metadata": {},
     "output_type": "execute_result"
    }
   ],
   "source": [
    "e2[2][0]"
   ]
  },
  {
   "cell_type": "code",
   "execution_count": 28,
   "id": "79d77dd9",
   "metadata": {
    "slideshow": {
     "slide_type": "slide"
    }
   },
   "outputs": [
    {
     "data": {
      "text/latex": [
       "$\\displaystyle \\frac{13}{3} + \\frac{307}{9 \\sqrt[3]{\\frac{4969}{27} + \\frac{\\sqrt{471498} i}{9}}} + \\sqrt[3]{\\frac{4969}{27} + \\frac{\\sqrt{471498} i}{9}}$"
      ],
      "text/plain": [
       "13/3 + 307/(9*(4969/27 + sqrt(471498)*I/9)**(1/3)) + (4969/27 + sqrt(471498)*I/9)**(1/3)"
      ]
     },
     "execution_count": 28,
     "metadata": {},
     "output_type": "execute_result"
    }
   ],
   "source": [
    "e3[0]"
   ]
  },
  {
   "cell_type": "code",
   "execution_count": 29,
   "id": "adc3ee71",
   "metadata": {},
   "outputs": [
    {
     "data": {
      "text/latex": [
       "$\\displaystyle \\left[\\begin{matrix}\\frac{306}{89} + \\frac{2149}{89 \\sqrt[3]{\\frac{4969}{27} + \\frac{\\sqrt{471498} i}{9}}} - \\frac{4 \\left(\\frac{13}{3} + \\frac{307}{9 \\sqrt[3]{\\frac{4969}{27} + \\frac{\\sqrt{471498} i}{9}}} + \\sqrt[3]{\\frac{4969}{27} + \\frac{\\sqrt{471498} i}{9}}\\right)^{2}}{89} + \\frac{63 \\sqrt[3]{\\frac{4969}{27} + \\frac{\\sqrt{471498} i}{9}}}{89}\\\\- \\frac{959}{267} - \\frac{44 \\sqrt[3]{\\frac{4969}{27} + \\frac{\\sqrt{471498} i}{9}}}{89} + \\frac{7 \\left(\\frac{13}{3} + \\frac{307}{9 \\sqrt[3]{\\frac{4969}{27} + \\frac{\\sqrt{471498} i}{9}}} + \\sqrt[3]{\\frac{4969}{27} + \\frac{\\sqrt{471498} i}{9}}\\right)^{2}}{178} - \\frac{13508}{801 \\sqrt[3]{\\frac{4969}{27} + \\frac{\\sqrt{471498} i}{9}}}\\\\1\\end{matrix}\\right]$"
      ],
      "text/plain": [
       "Matrix([\n",
       "[     306/89 + 2149/(89*(4969/27 + sqrt(471498)*I/9)**(1/3)) - 4*(13/3 + 307/(9*(4969/27 + sqrt(471498)*I/9)**(1/3)) + (4969/27 + sqrt(471498)*I/9)**(1/3))**2/89 + 63*(4969/27 + sqrt(471498)*I/9)**(1/3)/89],\n",
       "[-959/267 - 44*(4969/27 + sqrt(471498)*I/9)**(1/3)/89 + 7*(13/3 + 307/(9*(4969/27 + sqrt(471498)*I/9)**(1/3)) + (4969/27 + sqrt(471498)*I/9)**(1/3))**2/178 - 13508/(801*(4969/27 + sqrt(471498)*I/9)**(1/3))],\n",
       "[                                                                                                                                                                                                           1]])"
      ]
     },
     "execution_count": 29,
     "metadata": {},
     "output_type": "execute_result"
    }
   ],
   "source": [
    "e3[2][0]"
   ]
  },
  {
   "cell_type": "code",
   "execution_count": 62,
   "id": "7857cb6d",
   "metadata": {},
   "outputs": [
    {
     "data": {
      "text/latex": [
       "$\\displaystyle \\left[\\begin{matrix}0 & -3 & 2 & -1\\\\-3 & 9 & -6 & 3\\\\2 & -6 & 4 & -2\\\\-1 & 3 & -2 & 2\\end{matrix}\\right]$"
      ],
      "text/plain": [
       "Matrix([\n",
       "[ 0, -3,  2, -1],\n",
       "[-3,  9, -6,  3],\n",
       "[ 2, -6,  4, -2],\n",
       "[-1,  3, -2,  2]])"
      ]
     },
     "execution_count": 62,
     "metadata": {},
     "output_type": "execute_result"
    }
   ],
   "source": [
    "A = Matrix([\n",
    "    [0,-3,2,-1],\n",
    "    [-3,9,-6,3],\n",
    "    [2,-6,4,-2],\n",
    "    [-1, 3, -2, 2]\n",
    "])\n",
    "A"
   ]
  },
  {
   "cell_type": "code",
   "execution_count": 63,
   "id": "9b560343",
   "metadata": {
    "slideshow": {
     "slide_type": "slide"
    }
   },
   "outputs": [
    {
     "data": {
      "text/plain": [
       "[(0,\n",
       "  1,\n",
       "  [Matrix([\n",
       "   [  0],\n",
       "   [2/3],\n",
       "   [  1],\n",
       "   [  0]])]),\n",
       " (5 + (-1/2 - sqrt(3)*I/2)*(121 + sqrt(131007)*I/9)**(1/3) + 76/(3*(-1/2 - sqrt(3)*I/2)*(121 + sqrt(131007)*I/9)**(1/3)),\n",
       "  1,\n",
       "  [Matrix([\n",
       "   [             -66 - 1216/(3*(-1/2 - sqrt(3)*I/2)*(121 + sqrt(131007)*I/9)**(1/3)) + (5 + (-1/2 - sqrt(3)*I/2)*(121 + sqrt(131007)*I/9)**(1/3) + 76/(3*(-1/2 - sqrt(3)*I/2)*(121 + sqrt(131007)*I/9)**(1/3)))**2 - 16*(-1/2 - sqrt(3)*I/2)*(121 + sqrt(131007)*I/9)**(1/3)],\n",
       "   [-189/13 - 1140/(13*(-1/2 - sqrt(3)*I/2)*(121 + sqrt(131007)*I/9)**(1/3)) + 3*(5 + (-1/2 - sqrt(3)*I/2)*(121 + sqrt(131007)*I/9)**(1/3) + 76/(3*(-1/2 - sqrt(3)*I/2)*(121 + sqrt(131007)*I/9)**(1/3)))**2/13 - 45*(-1/2 - sqrt(3)*I/2)*(121 + sqrt(131007)*I/9)**(1/3)/13],\n",
       "   [  126/13 + 30*(-1/2 - sqrt(3)*I/2)*(121 + sqrt(131007)*I/9)**(1/3)/13 - 2*(5 + (-1/2 - sqrt(3)*I/2)*(121 + sqrt(131007)*I/9)**(1/3) + 76/(3*(-1/2 - sqrt(3)*I/2)*(121 + sqrt(131007)*I/9)**(1/3)))**2/13 + 760/(13*(-1/2 - sqrt(3)*I/2)*(121 + sqrt(131007)*I/9)**(1/3))],\n",
       "   [                                                                                                                                                                                                                                                                       1]])]),\n",
       " (5 + 76/(3*(-1/2 + sqrt(3)*I/2)*(121 + sqrt(131007)*I/9)**(1/3)) + (-1/2 + sqrt(3)*I/2)*(121 + sqrt(131007)*I/9)**(1/3),\n",
       "  1,\n",
       "  [Matrix([\n",
       "   [             -66 - 16*(-1/2 + sqrt(3)*I/2)*(121 + sqrt(131007)*I/9)**(1/3) + (5 + 76/(3*(-1/2 + sqrt(3)*I/2)*(121 + sqrt(131007)*I/9)**(1/3)) + (-1/2 + sqrt(3)*I/2)*(121 + sqrt(131007)*I/9)**(1/3))**2 - 1216/(3*(-1/2 + sqrt(3)*I/2)*(121 + sqrt(131007)*I/9)**(1/3))],\n",
       "   [-189/13 - 45*(-1/2 + sqrt(3)*I/2)*(121 + sqrt(131007)*I/9)**(1/3)/13 + 3*(5 + 76/(3*(-1/2 + sqrt(3)*I/2)*(121 + sqrt(131007)*I/9)**(1/3)) + (-1/2 + sqrt(3)*I/2)*(121 + sqrt(131007)*I/9)**(1/3))**2/13 - 1140/(13*(-1/2 + sqrt(3)*I/2)*(121 + sqrt(131007)*I/9)**(1/3))],\n",
       "   [  126/13 + 760/(13*(-1/2 + sqrt(3)*I/2)*(121 + sqrt(131007)*I/9)**(1/3)) - 2*(5 + 76/(3*(-1/2 + sqrt(3)*I/2)*(121 + sqrt(131007)*I/9)**(1/3)) + (-1/2 + sqrt(3)*I/2)*(121 + sqrt(131007)*I/9)**(1/3))**2/13 + 30*(-1/2 + sqrt(3)*I/2)*(121 + sqrt(131007)*I/9)**(1/3)/13],\n",
       "   [                                                                                                                                                                                                                                                                       1]])]),\n",
       " (5 + 76/(3*(121 + sqrt(131007)*I/9)**(1/3)) + (121 + sqrt(131007)*I/9)**(1/3),\n",
       "  1,\n",
       "  [Matrix([\n",
       "   [             -66 - 16*(121 + sqrt(131007)*I/9)**(1/3) + (5 + 76/(3*(121 + sqrt(131007)*I/9)**(1/3)) + (121 + sqrt(131007)*I/9)**(1/3))**2 - 1216/(3*(121 + sqrt(131007)*I/9)**(1/3))],\n",
       "   [-189/13 - 45*(121 + sqrt(131007)*I/9)**(1/3)/13 + 3*(5 + 76/(3*(121 + sqrt(131007)*I/9)**(1/3)) + (121 + sqrt(131007)*I/9)**(1/3))**2/13 - 1140/(13*(121 + sqrt(131007)*I/9)**(1/3))],\n",
       "   [  126/13 + 760/(13*(121 + sqrt(131007)*I/9)**(1/3)) - 2*(5 + 76/(3*(121 + sqrt(131007)*I/9)**(1/3)) + (121 + sqrt(131007)*I/9)**(1/3))**2/13 + 30*(121 + sqrt(131007)*I/9)**(1/3)/13],\n",
       "   [                                                                                                                                                                                   1]])])]"
      ]
     },
     "execution_count": 63,
     "metadata": {},
     "output_type": "execute_result"
    }
   ],
   "source": [
    "A.eigenvects()"
   ]
  },
  {
   "cell_type": "markdown",
   "id": "1d35b521",
   "metadata": {
    "slideshow": {
     "slide_type": "slide"
    }
   },
   "source": [
    "### Facts about eigenvalues and eigenvectors\n",
    "\n",
    "- An $n\\times n$ matrix has between 0 and $n$ eigenvalues.\n",
    "- Each eigenvalue has a certain *algebraic multiplicity* between $1$ and $n$.\n",
    "- The sum of the algebraic multiplicities is $\\leq n$.\n",
    "- For each eigenvalue, there is a number $k$ of linearly independent eigenvectors. $k$ is between $1$ and the algebraic multiplicity of the eigenvalue.\n",
    "- The number of eigenvectors for an eigenvalue is called its *geometric multiplicity*."
   ]
  },
  {
   "cell_type": "markdown",
   "id": "d0476bfd",
   "metadata": {
    "slideshow": {
     "slide_type": "slide"
    }
   },
   "source": [
    "## Eigenspaces\n",
    "\n",
    "\n",
    "- **Eigenspaces** are fundamental concepts in linear algebra, associated with eigenvalues and eigenvectors of a matrix.\n",
    "- **Definition:** The eigenspace of an eigenvalue is the set of all vectors that, when multiplied by the matrix, result in a vector that is a the original vector multiplied with that eigenvalue.\n",
    "- **Mathematically:** If $A$ is a matrix and λ is an eigenvalue, then the eigenspace of λ is the set of all vectors \n",
    "$\\mathbf v$ satisfying \n",
    "$$\n",
    "A\\mathbf v=λ\\mathbf v\n",
    "$$\n"
   ]
  },
  {
   "cell_type": "markdown",
   "id": "83e1aee6",
   "metadata": {
    "slideshow": {
     "slide_type": "slide"
    }
   },
   "source": [
    "### Computing Eigenspaces\n",
    "\n",
    "To find the eigenspace of an eigenvalue:\n",
    "\n",
    "1. **Determine Eigenvalues**: Solve $ \\det(A - \\lambda I) = 0 $ to find the eigenvalues $\\lambda$.\n",
    "2. **Find Eigenvectors**: Solve $ (A - \\lambda I)\\mathbf v = 0 $ for each eigenvalue to find the corresponding eigenvectors $ \\mathbf v $.\n",
    "3. **Form Eigenspace**: The set of all eigenvectors, including the zero vector, forms the eigenspace for the eigenvalue.\n",
    "\n",
    "**Example**: For matrix $ A $ and eigenvalue $ \\lambda $, the eigenspace is the solution to $ A\\mathbf v = \\lambda \\mathbf v $.\n"
   ]
  },
  {
   "cell_type": "markdown",
   "id": "eca72ca6",
   "metadata": {
    "slideshow": {
     "slide_type": "slide"
    }
   },
   "source": [
    "### Properties and Applications of Eigenspaces\n",
    "\n",
    "**Properties**:\n",
    "- The eigenspace of an eigenvalue is a linear subspace.\n",
    "- Dimension of the eigenspace is the geometric multiplicity of the eigenvalue.\n",
    "\n",
    "**Applications**:\n",
    "- Used in diagonalization of matrices.\n",
    "- Important in fields like quantum mechanics, vibrations analysis, facial recognition, and more.\n",
    "\n",
    "**Conclusion**: Understanding eigenspaces is crucial for grasping the behavior of linear transformations and matrices.\n"
   ]
  },
  {
   "cell_type": "markdown",
   "id": "b7fcb3e9",
   "metadata": {
    "slideshow": {
     "slide_type": "slide"
    }
   },
   "source": [
    "### Triangular matrices\n",
    "\n",
    "$$\n",
    "\\begin{aligned}\n",
    "A &= \n",
    "\\begin{bmatrix}\n",
    "1 & 4 & 1\\\\\n",
    "0 & 6 & 4\\\\\n",
    "0 & 0 & 2\n",
    "\\end{bmatrix}\\\\\n",
    "A -\\lambda \\mathbf I &= \n",
    "\\begin{vmatrix}\n",
    "1-\\lambda & 4 & 1\\\\\n",
    "0 & 6-\\lambda & 4\\\\\n",
    "0 & 0 & 2-\\lambda \n",
    "\\end{vmatrix}\\\\\n",
    "&= 0\\\\\n",
    "(1-\\lambda)(6-\\lambda)(2-\\lambda) &= 0\\\\\n",
    "\\lambda_1 &= 6\\\\\n",
    "\\lambda_2 &= 2\\\\\n",
    "\\lambda_3 &= 1\n",
    "\\end{aligned}\n",
    "$$\n",
    "\n",
    "**In triangular matrices, the diagonal entries are the eigenvalues.**"
   ]
  }
 ],
 "metadata": {
  "@webio": {
   "lastCommId": null,
   "lastKernelId": null
  },
  "celltoolbar": "Slideshow",
  "hide_input": false,
  "kernelspec": {
   "display_name": "Python 3 (ipykernel)",
   "language": "python",
   "name": "python3"
  },
  "language_info": {
   "codemirror_mode": {
    "name": "ipython",
    "version": 3
   },
   "file_extension": ".py",
   "mimetype": "text/x-python",
   "name": "python",
   "nbconvert_exporter": "python",
   "pygments_lexer": "ipython3",
   "version": "3.8.18"
  },
  "latex_envs": {
   "LaTeX_envs_menu_present": true,
   "autoclose": false,
   "autocomplete": true,
   "bibliofile": "biblio.bib",
   "cite_by": "apalike",
   "current_citInitial": 1,
   "eqLabelWithNumbers": true,
   "eqNumInitial": 1,
   "hotkeys": {
    "equation": "Ctrl-E",
    "itemize": "Ctrl-I"
   },
   "labels_anchors": false,
   "latex_user_defs": false,
   "report_style_numbering": false,
   "user_envs_cfg": false
  },
  "rise": {
   "enable_chalkboard": true
  },
  "varInspector": {
   "cols": {
    "lenName": 16,
    "lenType": 16,
    "lenVar": 40
   },
   "kernels_config": {
    "python": {
     "delete_cmd_postfix": "",
     "delete_cmd_prefix": "del ",
     "library": "var_list.py",
     "varRefreshCmd": "print(var_dic_list())"
    },
    "r": {
     "delete_cmd_postfix": ") ",
     "delete_cmd_prefix": "rm(",
     "library": "var_list.r",
     "varRefreshCmd": "cat(var_dic_list()) "
    }
   },
   "types_to_exclude": [
    "module",
    "function",
    "builtin_function_or_method",
    "instance",
    "_Feature"
   ],
   "window_display": false
  }
 },
 "nbformat": 4,
 "nbformat_minor": 5
}
