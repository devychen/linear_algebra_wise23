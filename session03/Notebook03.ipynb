{
 "cells": [
  {
   "cell_type": "code",
   "execution_count": 1,
   "id": "5d1f156d",
   "metadata": {
    "slideshow": {
     "slide_type": "skip"
    }
   },
   "outputs": [],
   "source": [
    "import sympy\n",
    "from sympy import Matrix\n",
    "import numpy as np\n"
   ]
  },
  {
   "cell_type": "code",
   "execution_count": 2,
   "id": "3afd14d3",
   "metadata": {
    "slideshow": {
     "slide_type": "skip"
    }
   },
   "outputs": [],
   "source": [
    "%matplotlib notebook\n",
    "import matplotlib.pyplot as plt\n",
    "from mpl_toolkits.mplot3d import axes3d"
   ]
  },
  {
   "cell_type": "markdown",
   "id": "17d690f6",
   "metadata": {
    "slideshow": {
     "slide_type": "slide"
    }
   },
   "source": [
    "# Linear algebra\n",
    "\n",
    "## Session 03: solving systems of linear equations\n",
    "\n",
    "## Gerhard Jäger\n",
    "\n",
    "### November 9, 2023"
   ]
  },
  {
   "cell_type": "markdown",
   "id": "011a809e",
   "metadata": {
    "slideshow": {
     "slide_type": "slide"
    }
   },
   "source": [
    "## Back to solving systems of linear equations\n",
    "\n",
    "### First part: lower elimination\n",
    "\n",
    "$$\n",
    "\\begin{array}{rrrrrrr}\n",
    "    3x &+ &4y &- &z &=& 0\\\\\n",
    "       &  &y  &+ &z &=& 4\\\\\n",
    "     x & - &y &- & z & =&-5\\\\\n",
    "\\end{array}\n",
    "$$"
   ]
  },
  {
   "cell_type": "markdown",
   "id": "3fd13a72",
   "metadata": {},
   "source": [
    "- subtracting $\\frac{1}{3}$ times the first equation from the third equation:\n",
    "\n",
    "$$\n",
    "\\begin{array}{rrrrrrr}\n",
    "    3x &+& 4y &-& z &=& 0\\\\\n",
    "        && y &+& z &=& 4\\\\\n",
    "     &-&\\frac{7}{3} y &-& \\frac{2}{3}z &=& -5\n",
    "\\end{array}\n",
    "$$"
   ]
  },
  {
   "cell_type": "markdown",
   "id": "9dafe3a4",
   "metadata": {},
   "source": [
    "- adding $\\frac{7}{3}$ times the second equation to the third equation:\n",
    "\n",
    "$$\n",
    "\\begin{array}{rrrrrrr}\n",
    "    3x &+& 4y &-& z &=& 0\\\\\n",
    "      &&   y &+& z &=& 4\\\\\n",
    "     &&&& \\frac{5}{3}z &=& \\frac{13}{3}\n",
    "\\end{array}\n",
    "$$"
   ]
  },
  {
   "cell_type": "markdown",
   "id": "424d8214",
   "metadata": {},
   "source": [
    "**Lower elimination** is completed if the left-hand side has a **upper triangular** shape."
   ]
  },
  {
   "cell_type": "markdown",
   "id": "359f115d",
   "metadata": {
    "slideshow": {
     "slide_type": "slide"
    }
   },
   "source": [
    "### Second part: upper elimination (a.k.a backward substitution)\n",
    "\n",
    "In the elimination part, we transformed all coefficients below the diagonal to 0.\n",
    "In the substitution part, we successively transform all coefficients **above** the diagonal to 0.\n",
    "\n",
    "- subtract $\\frac{3}{5}$ times third equation from second equation.\n",
    "\n",
    "\n",
    "$$\n",
    "\\begin{array}{rrrrrrr}\n",
    "    3x &+& 4y &-& z &=& 0\\\\\n",
    "      &&   y &&  &=& \\frac{7}{5}\\\\\n",
    "     &&&& \\frac{5}{3}z &=& \\frac{13}{3}\n",
    "\\end{array}\n",
    "$$"
   ]
  },
  {
   "cell_type": "markdown",
   "id": "e0e27fbf",
   "metadata": {
    "slideshow": {
     "slide_type": "slide"
    }
   },
   "source": [
    "\n",
    "- add $\\frac{3}{5}$ times third equation to first equation.\n",
    "\n",
    "\n",
    "$$\n",
    "\\begin{array}{rrrrrrr}\n",
    "    3x &+& 4y &&  &=& \\frac{13}{5}\\\\\n",
    "      &&   y &&  &=& \\frac{7}{5}\\\\\n",
    "     &&&& \\frac{5}{3}z &=& \\frac{13}{3}\n",
    "\\end{array}\n",
    "$$"
   ]
  },
  {
   "cell_type": "markdown",
   "id": "9628a2d4",
   "metadata": {
    "slideshow": {
     "slide_type": "slide"
    }
   },
   "source": [
    "\n",
    "- subtract 4 times second equation from first equation.\n",
    "\n",
    "\n",
    "$$\n",
    "\\begin{array}{rrrrrrr}\n",
    "    3x &&  &&  &=& -3\\\\\n",
    "      &&   y &&  &=& \\frac{7}{5}\\\\\n",
    "     &&&& \\frac{5}{3}z &=& \\frac{13}{3}\n",
    "\\end{array}\n",
    "$$"
   ]
  },
  {
   "cell_type": "markdown",
   "id": "9476bf57",
   "metadata": {
    "slideshow": {
     "slide_type": "slide"
    }
   },
   "source": [
    "### Third step: dividing by pivots\n",
    "\n",
    "The diagonal coefficients are called the **pivots**. In the last step, we transform them into 1.\n",
    "\n",
    "- divide first equation by 3\n",
    "\n",
    "\n",
    "$$\n",
    "\\begin{array}{rrrrrrr}\n",
    "    x &&  &&  &=& -1\\\\\n",
    "      &&   y &&  &=& \\frac{7}{5}\\\\\n",
    "     &&&& \\frac{5}{3}z &=& \\frac{13}{3}\n",
    "\\end{array}\n",
    "$$"
   ]
  },
  {
   "cell_type": "markdown",
   "id": "376a1f45",
   "metadata": {
    "slideshow": {
     "slide_type": "slide"
    }
   },
   "source": [
    "\n",
    "- divide third equation by $\\frac{5}{3}$\n",
    "\n",
    "\n",
    "$$\n",
    "\\begin{array}{rrrrrrr}\n",
    "    x &&  &&  &=& -1\\\\\n",
    "      &&   y &&  &=& \\frac{7}{5}\\\\\n",
    "     &&&& z &=& \\frac{13}{5}\n",
    "\\end{array}\n",
    "$$"
   ]
  },
  {
   "cell_type": "markdown",
   "id": "82c3ea74",
   "metadata": {
    "slideshow": {
     "slide_type": "slide"
    }
   },
   "source": [
    "#### checking result\n",
    "\n",
    "\n",
    "$$\n",
    "\\begin{array}{rrrrrrr}\n",
    "    3x &+ &4y &- &z &=& 0\\\\\n",
    "       &  &y  &+ &z &=& 4\\\\\n",
    "     x & - &y &- & z & =&-5\\\\\n",
    "\\end{array}\n",
    "$$\n",
    "\n",
    "becomes\n",
    "\n",
    "$$\n",
    "\\begin{array}{rrrrrrr}\n",
    "    -3 &+ &4\\frac{7}{5} &- &\\frac{13}{5} &=& 0\\\\\n",
    "       &  &\\frac{7}{5}  &+ &\\frac{13}{5} &=& 4\\\\\n",
    "     x & - &\\frac{7}{5} &- & \\frac{13}{5} & =&-5\\\\\n",
    "\\end{array}\n",
    "$$"
   ]
  },
  {
   "cell_type": "markdown",
   "id": "7e2ed38d",
   "metadata": {
    "slideshow": {
     "slide_type": "slide"
    }
   },
   "source": [
    "Stripping down the superfluous notation, this is a sequence of **augmented matrices**. The augmented matrix is the matrix of coefficients on the left-hand side, plus the right-hand side as additional column.\n",
    "\n",
    "- system of equations in matrix notation\n",
    "$$\n",
    "\\begin{aligned}\n",
    "A &= \\begin{bmatrix}\n",
    "3 & 4 & -1\\\\\n",
    "0 & 1 & 1\\\\\n",
    "1 & -1 & -1\n",
    "\\end{bmatrix}\\\\[1em]\n",
    "\\mathbf x &= \\begin{bmatrix}\n",
    "x\\\\y\\\\z\n",
    "\\end{bmatrix}\\\\[1em]\n",
    "\\mathbf b &= \\begin{bmatrix}\n",
    "0\\\\4\\\\-5\n",
    "\\end{bmatrix}\\\\[1em]\n",
    "A\\mathbf x &= \\mathbf b\n",
    "\\end{aligned}\n",
    "$$\n"
   ]
  },
  {
   "cell_type": "markdown",
   "id": "bb061973",
   "metadata": {
    "slideshow": {
     "slide_type": "slide"
    }
   },
   "source": [
    "\n",
    "- augmented matrix\n",
    "\n",
    "$$\n",
    "\\left[\n",
    "\\begin{array}{rrr|r}\n",
    "3 & 4 & -1&0\\\\\n",
    "0 & 1 & 1&4\\\\\n",
    "1 & -1 & -1&-5\n",
    "\\end{array}\n",
    "\\right]\n",
    "$$"
   ]
  },
  {
   "cell_type": "markdown",
   "id": "fd8bde23",
   "metadata": {
    "slideshow": {
     "slide_type": "slide"
    }
   },
   "source": [
    "### lower elimination: transforming below-diagonal entries to 0\n",
    "\n",
    "- subtracting $\\frac{1}{3}$ times first row from third row\n",
    "\n",
    "\n",
    "$$\n",
    "\\left[\n",
    "\\begin{array}{rrr|r}\n",
    "3 & 4 & -1&0\\\\\n",
    "0 & 1 & 1&4\\\\\n",
    "0 & -\\frac{7}{3} & -\\frac{2}{3} &-5\n",
    "\\end{array}\n",
    "\\right]\n",
    "$$"
   ]
  },
  {
   "cell_type": "markdown",
   "id": "03c1d5fd",
   "metadata": {
    "slideshow": {
     "slide_type": "slide"
    }
   },
   "source": [
    "\n",
    "- adding $\\frac{7}{3}$ times second row to third row\n",
    "\n",
    "\n",
    "$$\n",
    "\\left[\n",
    "\\begin{array}{rrr|r}\n",
    "3 & 4 & -1&0\\\\\n",
    "0 & 1 & 1&4\\\\\n",
    "0 & 0 & \\frac{5}{3} &\\frac{13}{3}\n",
    "\\end{array}\n",
    "\\right]\n",
    "$$"
   ]
  },
  {
   "cell_type": "markdown",
   "id": "91985e49",
   "metadata": {
    "slideshow": {
     "slide_type": "slide"
    }
   },
   "source": [
    "### upper elimination: transforming above-diagonal entries to 0\n",
    "\n",
    "\n",
    "- subtract $\\frac{3}{5}$ times third row from second row\n",
    "\n",
    "\n",
    "$$\n",
    "\\left[\n",
    "\\begin{array}{rrr|r}\n",
    "3 & 4 & -1 &0  \\\\\n",
    "0 & 1 & 0  & \\frac{7}{5} \\\\\n",
    "0 & 0 & \\frac{5}{3} &\\frac{13}{3}\n",
    "\\end{array}\n",
    "\\right]\n",
    "$$"
   ]
  },
  {
   "cell_type": "markdown",
   "id": "1830f962",
   "metadata": {
    "slideshow": {
     "slide_type": "slide"
    }
   },
   "source": [
    "- add $\\frac{3}{5}$ times third row to first row\n",
    "\n",
    "\n",
    "$$\n",
    "\\left[\n",
    "\\begin{array}{rrr|r}\n",
    "3 & 4 & 0 & \\frac{13}{5}  \\\\\n",
    "0 & 1 & 0  & \\frac{7}{5} \\\\\n",
    "0 & 0 & \\frac{5}{3} &\\frac{13}{3}\n",
    "\\end{array}\n",
    "\\right]\n",
    "$$"
   ]
  },
  {
   "cell_type": "markdown",
   "id": "1b1ad9fb",
   "metadata": {
    "slideshow": {
     "slide_type": "slide"
    }
   },
   "source": [
    "- subtract 4 times second row from first row\n",
    "\n",
    "\n",
    "$$\n",
    "\\left[\n",
    "\\begin{array}{rrr|r}\n",
    "3 & 0 & 0 & -3  \\\\\n",
    "0 & 1 & 0  & \\frac{7}{5} \\\\\n",
    "0 & 0 & \\frac{5}{3} &\\frac{13}{3}\n",
    "\\end{array}\n",
    "\\right]\n",
    "$$"
   ]
  },
  {
   "cell_type": "markdown",
   "id": "620c70ad",
   "metadata": {
    "slideshow": {
     "slide_type": "slide"
    }
   },
   "source": [
    "## dividing by pivots\n",
    "\n",
    "\n",
    "\n",
    "$$\n",
    "\\left[\n",
    "\\begin{array}{rrr|r}\n",
    "1 & 0 & 0 & -1  \\\\\n",
    "0 & 1 & 0  & \\frac{7}{5} \\\\\n",
    "0 & 0 & 1 &\\frac{13}{5}\n",
    "\\end{array}\n",
    "\\right]\n",
    "$$"
   ]
  },
  {
   "cell_type": "markdown",
   "id": "e3345069",
   "metadata": {
    "slideshow": {
     "slide_type": "slide"
    }
   },
   "source": [
    "All these steps can be formalized as multiplication with some matrix.\n",
    "\n",
    "- subtracting $\\frac{1}{3}$ times first row from third row\n",
    "\n",
    "\n",
    "$$\n",
    "\\begin{aligned}\n",
    "E_{3,1}\n",
    "\\left[\n",
    "\\begin{array}{rrr|r}\n",
    "3 & 4 & -1&0\\\\\n",
    "0 & 1 & 1&4\\\\\n",
    "1 & -1 & -1&-5\n",
    "\\end{array}\n",
    "\\right] &= \n",
    "\\left[\n",
    "\\begin{array}{rrr|r}\n",
    "3 & 4 & -1&0\\\\\n",
    "0 & 1 & 1&4\\\\\n",
    "0 & -\\frac{7}{3} & \\frac{2}{3} &-5\n",
    "\\end{array}\n",
    "\\right]\n",
    "\\end{aligned}\n",
    "$$\n"
   ]
  },
  {
   "cell_type": "markdown",
   "id": "45dc9344",
   "metadata": {
    "slideshow": {
     "slide_type": "fragment"
    }
   },
   "source": [
    "$$\n",
    "E_{3,1} = \\begin{bmatrix}\n",
    "1 & 0 & 0\\\\\n",
    "0 & 1 & 0\\\\\n",
    "-\\frac{1}{3} & 0 & 1\n",
    "\\end{bmatrix}\n",
    "$$"
   ]
  },
  {
   "cell_type": "markdown",
   "id": "315c99e9",
   "metadata": {
    "slideshow": {
     "slide_type": "slide"
    }
   },
   "source": [
    "- adding $\\frac{7}{3}$ times second row to third row\n",
    "\n",
    "$$\n",
    "\\begin{aligned}\n",
    "E_{3,2}\n",
    "\\left[\n",
    "\\begin{array}{rrr|r}\n",
    "3 & 4 & -1&0\\\\\n",
    "0 & 1 & 1&4\\\\\n",
    "0 & -\\frac{7}{3} & -\\frac{2}{3} &-5\n",
    "\\end{array}\n",
    "\\right]\n",
    "&= \n",
    "\\left[\n",
    "\\begin{array}{rrr|r}\n",
    "3 & 4 & -1&0\\\\\n",
    "0 & 1 & 1&4\\\\\n",
    "0 & 0 & \\frac{5}{3} &\\frac{13}{3}\n",
    "\\end{array}\n",
    "\\right]\n",
    "\\end{aligned}\n",
    "$$"
   ]
  },
  {
   "cell_type": "markdown",
   "id": "32cb1b5e",
   "metadata": {
    "slideshow": {
     "slide_type": "fragment"
    }
   },
   "source": [
    "$$\n",
    "E_{3,2} = \\begin{bmatrix}\n",
    "1 & 0 & 0\\\\\n",
    "0 & 1 & 0\\\\\n",
    "0&\\frac{7}{3} & 1\n",
    "\\end{bmatrix}\n",
    "$$"
   ]
  },
  {
   "cell_type": "markdown",
   "id": "a519cc85",
   "metadata": {
    "slideshow": {
     "slide_type": "slide"
    }
   },
   "source": [
    "- subtract $\\frac{3}{5}$ times third row from second row\n",
    "\n",
    "\n",
    "$$\n",
    "\\begin{aligned}\n",
    "E_{2,3}\n",
    "\\left[\n",
    "\\begin{array}{rrr|r}\n",
    "3 & 4 & -1&0\\\\\n",
    "0 & 1 & 1&4\\\\\n",
    "0 & 0 & \\frac{5}{3} &\\frac{13}{3}\n",
    "\\end{array}\n",
    "\\right]\n",
    "&= \n",
    "\\left[\n",
    "\\begin{array}{rrr|r}\n",
    "3 & 4 & -1&0\\\\\n",
    "0 & 1 & 0&\\frac{7}{5}\\\\\n",
    "0 & 0 & \\frac{5}{3} &\\frac{13}{3}\n",
    "\\end{array}\n",
    "\\right]\n",
    "\\end{aligned}\n",
    "$$"
   ]
  },
  {
   "cell_type": "markdown",
   "id": "35e81d2d",
   "metadata": {
    "slideshow": {
     "slide_type": "fragment"
    }
   },
   "source": [
    "$$\n",
    "E_{2,3} = \\begin{bmatrix}\n",
    "1 & 0 & 0\\\\\n",
    "0 & 1 & -\\frac{3}{5}\\\\\n",
    "0&0 & 1\n",
    "\\end{bmatrix}\n",
    "$$"
   ]
  },
  {
   "cell_type": "markdown",
   "id": "3931248c",
   "metadata": {
    "slideshow": {
     "slide_type": "slide"
    }
   },
   "source": [
    "- add $\\frac{3}{5}$ times third row to first row\n",
    "\n",
    "\n",
    "$$\n",
    "\\begin{aligned}\n",
    "E_{1,3}\n",
    "\\left[\n",
    "\\begin{array}{rrr|r}\n",
    "3 & 4 & -1&0\\\\\n",
    "0 & 1 & 0&\\frac{7}{5}\\\\\n",
    "0 & 0 & \\frac{5}{3} &\\frac{13}{3}\n",
    "\\end{array}\n",
    "\\right]\n",
    "&= \n",
    "\\left[\n",
    "\\begin{array}{rrr|r}\n",
    "3 & 4 & 0&\\frac{13}{5}\\\\\n",
    "0 & 1 & 0&\\frac{7}{5}\\\\\n",
    "0 & 0 & \\frac{5}{3} &\\frac{13}{3}\n",
    "\\end{array}\n",
    "\\right]\n",
    "\\end{aligned}\n",
    "$$"
   ]
  },
  {
   "cell_type": "markdown",
   "id": "5adc73dc",
   "metadata": {
    "slideshow": {
     "slide_type": "fragment"
    }
   },
   "source": [
    "$$\n",
    "E_{1,3} = \\begin{bmatrix}\n",
    "1 & 0 & \\frac{3}{5}\\\\\n",
    "0 & 1 & 0\\\\\n",
    "0&0 & 1\n",
    "\\end{bmatrix}\n",
    "$$"
   ]
  },
  {
   "cell_type": "markdown",
   "id": "138feae2",
   "metadata": {
    "slideshow": {
     "slide_type": "slide"
    }
   },
   "source": [
    "- subtract 4 times second row from first row\n",
    "\n",
    "\n",
    "$$\n",
    "\\begin{aligned}\n",
    "E_{1,2}\n",
    "\\left[\n",
    "\\begin{array}{rrr|r}\n",
    "3 & 4 & 0&\\frac{13}{5}\\\\\n",
    "0 & 1 & 0&\\frac{7}{5}\\\\\n",
    "0 & 0 & \\frac{5}{3} &\\frac{13}{3}\n",
    "\\end{array}\n",
    "\\right]\n",
    "&= \n",
    "\\left[\n",
    "\\begin{array}{rrr|r}\n",
    "3 & 0 & 0&-3\\\\\n",
    "0 & 1 & 0&\\frac{7}{5}\\\\\n",
    "0 & 0 & \\frac{5}{3} &\\frac{13}{3}\n",
    "\\end{array}\n",
    "\\right]\n",
    "\\end{aligned}\n",
    "$$"
   ]
  },
  {
   "cell_type": "markdown",
   "id": "05559b2c",
   "metadata": {
    "slideshow": {
     "slide_type": "fragment"
    }
   },
   "source": [
    "$$\n",
    "E_{1,2} = \\begin{bmatrix}\n",
    "1 & -4 & 0\\\\\n",
    "0 & 1 & 0\\\\\n",
    "0&0 & 1\n",
    "\\end{bmatrix}\n",
    "$$"
   ]
  },
  {
   "cell_type": "markdown",
   "id": "8d13c709",
   "metadata": {
    "slideshow": {
     "slide_type": "slide"
    }
   },
   "source": [
    "- divide each row by its pivot\n",
    "\n",
    "$$\n",
    "D\\left[\n",
    "\\begin{array}{rrr|r}\n",
    "3 & 0 & 0&-3\\\\\n",
    "0 & 1 & 0&\\frac{7}{5}\\\\\n",
    "0 & 0 & \\frac{5}{3} &\\frac{13}{3}\n",
    "\\end{array}\n",
    "\\right]\n",
    "=\n",
    "\\left[\n",
    "\\begin{array}{rrr|r}\n",
    "1 & 0 & 0&-1\\\\\n",
    "0 & 1 & 0&\\frac{7}{5}\\\\\n",
    "0 & 0 & 1 &\\frac{13}{5}\n",
    "\\end{array}\n",
    "\\right]\n",
    "$$"
   ]
  },
  {
   "cell_type": "markdown",
   "id": "c1a28527",
   "metadata": {
    "slideshow": {
     "slide_type": "fragment"
    }
   },
   "source": [
    "$$\n",
    "D = \\begin{bmatrix}\n",
    "\\frac{1}{3} & 0 & 0\\\\\n",
    "0 & 1 & 0\\\\\n",
    "0 & 0 & \\frac{3}{5}\n",
    "\\end{bmatrix}\n",
    "$$"
   ]
  },
  {
   "cell_type": "markdown",
   "id": "569c081d",
   "metadata": {
    "slideshow": {
     "slide_type": "slide"
    }
   },
   "source": [
    "Let us reflect what we did. Taking everyting together, we have\n",
    "\n",
    "$$\n",
    "\\begin{aligned}\n",
    "D E_{1,2} E_{1,3} E_{2,3} E_{3,2} E_{3,1} A & = \\mathbf I\\\\\n",
    "D E_{1,2} E_{1,3} E_{2,3} E_{3,2} E_{3,1} \\mathbf b & = \\mathbf x\\\\\n",
    "\\end{aligned}\n",
    "$$\n",
    "\n",
    "Therefore\n",
    "$$\n",
    "\\begin{aligned}\n",
    "D E_{1,2} E_{1,3} E_{2,3} E_{3,2} E_{3,1}  & = A^{-1}\\\\\n",
    "\\end{aligned}\n",
    "$$\n",
    "\n",
    "Let's check this with SymPy."
   ]
  },
  {
   "cell_type": "code",
   "execution_count": 3,
   "id": "19815946",
   "metadata": {
    "slideshow": {
     "slide_type": "slide"
    }
   },
   "outputs": [],
   "source": [
    "from sympy import Rational, diag"
   ]
  },
  {
   "cell_type": "code",
   "execution_count": 4,
   "id": "b648b2c1",
   "metadata": {},
   "outputs": [
    {
     "data": {
      "text/latex": [
       "$\\displaystyle \\left[\\begin{matrix}3 & 4 & -1\\\\0 & 1 & 1\\\\1 & -1 & -1\\end{matrix}\\right]$"
      ],
      "text/plain": [
       "Matrix([\n",
       "[3,  4, -1],\n",
       "[0,  1,  1],\n",
       "[1, -1, -1]])"
      ]
     },
     "execution_count": 4,
     "metadata": {},
     "output_type": "execute_result"
    }
   ],
   "source": [
    "A = Matrix([\n",
    "    [3,4,-1],\n",
    "    [0,1,1],\n",
    "    [1,-1,-1]\n",
    "])\n",
    "A"
   ]
  },
  {
   "cell_type": "code",
   "execution_count": 5,
   "id": "4450dd26",
   "metadata": {},
   "outputs": [
    {
     "data": {
      "text/latex": [
       "$\\displaystyle \\left[\\begin{matrix}0\\\\4\\\\-5\\end{matrix}\\right]$"
      ],
      "text/plain": [
       "Matrix([\n",
       "[ 0],\n",
       "[ 4],\n",
       "[-5]])"
      ]
     },
     "execution_count": 5,
     "metadata": {},
     "output_type": "execute_result"
    }
   ],
   "source": [
    "b = Matrix([0, 4, -5])\n",
    "b"
   ]
  },
  {
   "cell_type": "code",
   "execution_count": 6,
   "id": "f9d4b37a",
   "metadata": {},
   "outputs": [
    {
     "data": {
      "text/latex": [
       "$\\displaystyle \\left[\\begin{matrix}1 & 0 & 0\\\\0 & 1 & 0\\\\- \\frac{1}{3} & 0 & 1\\end{matrix}\\right]$"
      ],
      "text/plain": [
       "Matrix([\n",
       "[   1, 0, 0],\n",
       "[   0, 1, 0],\n",
       "[-1/3, 0, 1]])"
      ]
     },
     "execution_count": 6,
     "metadata": {},
     "output_type": "execute_result"
    }
   ],
   "source": [
    "E31 = Matrix(\n",
    "[\n",
    "    [1, 0, 0],\n",
    "    [0, 1, 0],\n",
    "    [-Rational(1,3), 0, 1]\n",
    "])\n",
    "E31"
   ]
  },
  {
   "cell_type": "code",
   "execution_count": 7,
   "id": "19172aa6",
   "metadata": {
    "slideshow": {
     "slide_type": "slide"
    }
   },
   "outputs": [
    {
     "data": {
      "text/latex": [
       "$\\displaystyle \\left[\\begin{matrix}1 & 0 & 0\\\\0 & 1 & 0\\\\0 & \\frac{7}{3} & 1\\end{matrix}\\right]$"
      ],
      "text/plain": [
       "Matrix([\n",
       "[1,   0, 0],\n",
       "[0,   1, 0],\n",
       "[0, 7/3, 1]])"
      ]
     },
     "execution_count": 7,
     "metadata": {},
     "output_type": "execute_result"
    }
   ],
   "source": [
    "E32 = Matrix([\n",
    "    [1,0,0],\n",
    "    [0,1,0],\n",
    "    [0,Rational(7,3),1]\n",
    "])\n",
    "E32"
   ]
  },
  {
   "cell_type": "code",
   "execution_count": 8,
   "id": "a9594a37",
   "metadata": {},
   "outputs": [
    {
     "data": {
      "text/latex": [
       "$\\displaystyle \\left[\\begin{matrix}1 & 0 & 0\\\\0 & 1 & - \\frac{3}{5}\\\\0 & 0 & 1\\end{matrix}\\right]$"
      ],
      "text/plain": [
       "Matrix([\n",
       "[1, 0,    0],\n",
       "[0, 1, -3/5],\n",
       "[0, 0,    1]])"
      ]
     },
     "execution_count": 8,
     "metadata": {},
     "output_type": "execute_result"
    }
   ],
   "source": [
    "E23 = Matrix([\n",
    "    [1,0,0],\n",
    "    [0,1,-Rational(3,5)],\n",
    "    [0,0,1]\n",
    "])\n",
    "E23"
   ]
  },
  {
   "cell_type": "code",
   "execution_count": 9,
   "id": "d5510e27",
   "metadata": {},
   "outputs": [
    {
     "data": {
      "text/latex": [
       "$\\displaystyle \\left[\\begin{matrix}1 & 0 & \\frac{3}{5}\\\\0 & 1 & 0\\\\0 & 0 & 1\\end{matrix}\\right]$"
      ],
      "text/plain": [
       "Matrix([\n",
       "[1, 0, 3/5],\n",
       "[0, 1,   0],\n",
       "[0, 0,   1]])"
      ]
     },
     "execution_count": 9,
     "metadata": {},
     "output_type": "execute_result"
    }
   ],
   "source": [
    "E13 = Matrix([\n",
    "    [1,0,Rational(3,5)],\n",
    "    [0,1,0],\n",
    "    [0,0,1]\n",
    "])\n",
    "E13"
   ]
  },
  {
   "cell_type": "code",
   "execution_count": 10,
   "id": "35a7cc8c",
   "metadata": {
    "slideshow": {
     "slide_type": "slide"
    }
   },
   "outputs": [
    {
     "data": {
      "text/latex": [
       "$\\displaystyle \\left[\\begin{matrix}1 & -4 & 0\\\\0 & 1 & 0\\\\0 & 0 & 1\\end{matrix}\\right]$"
      ],
      "text/plain": [
       "Matrix([\n",
       "[1, -4, 0],\n",
       "[0,  1, 0],\n",
       "[0,  0, 1]])"
      ]
     },
     "execution_count": 10,
     "metadata": {},
     "output_type": "execute_result"
    }
   ],
   "source": [
    "E12 = Matrix([\n",
    "    [1,-4,0],\n",
    "    [0,1,0],\n",
    "    [0,0,1]\n",
    "])\n",
    "E12"
   ]
  },
  {
   "cell_type": "code",
   "execution_count": 11,
   "id": "19eeb338",
   "metadata": {},
   "outputs": [
    {
     "data": {
      "text/latex": [
       "$\\displaystyle \\left[\\begin{matrix}\\frac{1}{3} & 0 & 0\\\\0 & 1 & 0\\\\0 & 0 & \\frac{3}{5}\\end{matrix}\\right]$"
      ],
      "text/plain": [
       "Matrix([\n",
       "[1/3, 0,   0],\n",
       "[  0, 1,   0],\n",
       "[  0, 0, 3/5]])"
      ]
     },
     "execution_count": 11,
     "metadata": {},
     "output_type": "execute_result"
    }
   ],
   "source": [
    "D = diag(Rational(1,3), 1, Rational(3,5))\n",
    "D"
   ]
  },
  {
   "cell_type": "code",
   "execution_count": 12,
   "id": "b8b92b26",
   "metadata": {},
   "outputs": [
    {
     "data": {
      "text/latex": [
       "$\\displaystyle \\left[\\begin{matrix}1 & 0 & 0\\\\0 & 1 & 0\\\\0 & 0 & 1\\end{matrix}\\right]$"
      ],
      "text/plain": [
       "Matrix([\n",
       "[1, 0, 0],\n",
       "[0, 1, 0],\n",
       "[0, 0, 1]])"
      ]
     },
     "execution_count": 12,
     "metadata": {},
     "output_type": "execute_result"
    }
   ],
   "source": [
    "D * E12 * E13 * E23 * E32 * E31 * A"
   ]
  },
  {
   "cell_type": "code",
   "execution_count": 13,
   "id": "a3096d6b",
   "metadata": {},
   "outputs": [
    {
     "data": {
      "text/latex": [
       "$\\displaystyle \\left[\\begin{matrix}-1\\\\\\frac{7}{5}\\\\\\frac{13}{5}\\end{matrix}\\right]$"
      ],
      "text/plain": [
       "Matrix([\n",
       "[  -1],\n",
       "[ 7/5],\n",
       "[13/5]])"
      ]
     },
     "execution_count": 13,
     "metadata": {},
     "output_type": "execute_result"
    }
   ],
   "source": [
    "D * E12 * E13 * E23 * E32 * E31 * b"
   ]
  },
  {
   "cell_type": "code",
   "execution_count": 14,
   "id": "28dbc545",
   "metadata": {
    "slideshow": {
     "slide_type": "slide"
    }
   },
   "outputs": [
    {
     "data": {
      "text/latex": [
       "$\\displaystyle \\left[\\begin{matrix}0 & 1 & 1\\\\\\frac{1}{5} & - \\frac{2}{5} & - \\frac{3}{5}\\\\- \\frac{1}{5} & \\frac{7}{5} & \\frac{3}{5}\\end{matrix}\\right]$"
      ],
      "text/plain": [
       "Matrix([\n",
       "[   0,    1,    1],\n",
       "[ 1/5, -2/5, -3/5],\n",
       "[-1/5,  7/5,  3/5]])"
      ]
     },
     "execution_count": 14,
     "metadata": {},
     "output_type": "execute_result"
    }
   ],
   "source": [
    "D * E12 * E13 * E23 * E32 * E31"
   ]
  },
  {
   "cell_type": "code",
   "execution_count": 15,
   "id": "8892f588",
   "metadata": {},
   "outputs": [
    {
     "data": {
      "text/latex": [
       "$\\displaystyle \\left[\\begin{matrix}0 & 1 & 1\\\\\\frac{1}{5} & - \\frac{2}{5} & - \\frac{3}{5}\\\\- \\frac{1}{5} & \\frac{7}{5} & \\frac{3}{5}\\end{matrix}\\right]$"
      ],
      "text/plain": [
       "Matrix([\n",
       "[   0,    1,    1],\n",
       "[ 1/5, -2/5, -3/5],\n",
       "[-1/5,  7/5,  3/5]])"
      ]
     },
     "execution_count": 15,
     "metadata": {},
     "output_type": "execute_result"
    }
   ],
   "source": [
    "A.inv()"
   ]
  },
  {
   "cell_type": "markdown",
   "id": "7fc49418",
   "metadata": {
    "slideshow": {
     "slide_type": "slide"
    }
   },
   "source": [
    "So we can compute the inverse of a square matrix by multiplying out the elimination matrices.\n",
    "\n",
    "There is also a shorter way to the inverse matrix: augment $A$ with the identity matrix!\n",
    "\n",
    "$$\n",
    "\\begin{aligned}\n",
    "A\\begin{bmatrix}\n",
    "\\mathbf x_1 & \\mathbf x_2 & \\mathbf x_3\n",
    "\\end{bmatrix} & = \\mathbf I\\\\\n",
    "\\vdots & \\vdots & \\vdots\\\\\n",
    "D E_{1,2} E_{1,3} E_{2,3} E_{3,2} E_{3,1} A\\begin{bmatrix}\n",
    "\\mathbf x_1 & \\mathbf x_2 & \\mathbf x_3\n",
    "\\end{bmatrix} & = D E_{1,2} E_{1,3} E_{2,3} E_{3,2} E_{3,1}\\mathbf I\\\\\n",
    "A^{-1} A\\begin{bmatrix}\n",
    "\\mathbf x_1 & \\mathbf x_2 & \\mathbf x_3\n",
    "\\end{bmatrix} & = A^{-1}\\mathbf I\\\\\n",
    "\\begin{bmatrix}\n",
    "\\mathbf x_1 & \\mathbf x_2 & \\mathbf x_3\n",
    "\\end{bmatrix} & = A^{-1}\\\\\n",
    "\\end{aligned}\n",
    "$$"
   ]
  },
  {
   "cell_type": "markdown",
   "id": "a90be4c3",
   "metadata": {
    "slideshow": {
     "slide_type": "slide"
    }
   },
   "source": [
    "- augmented matrix:\n",
    "    \n",
    "$$\n",
    "\\left[\n",
    "\\begin{array}{rrr|rrr}\n",
    "3 & 4  & -1 & 1 & 0 & 0\\\\\n",
    "0 & 1  & 1  & 0 & 1 & 0\\\\\n",
    "1 & -1 & -1 & 0 & 0 & 1\n",
    "\\end{array}\n",
    "\\right]\n",
    "$$"
   ]
  },
  {
   "cell_type": "markdown",
   "id": "3612fe10",
   "metadata": {
    "slideshow": {
     "slide_type": "slide"
    }
   },
   "source": [
    "- left-multiplication with $E_{3,1}$:\n",
    "\n",
    "$$\n",
    "\\left[\n",
    "\\begin{array}{rrr|rrr}\n",
    "3 & 4  & -1 & 1 & 0 & 0\\\\\n",
    "0 & 1  & 1  & 0 & 1 & 0\\\\\n",
    "0  & -\\frac{7}{3} & -\\frac{2}{3} & -\\frac{1}{3} & 0 & 1\n",
    "\\end{array}\n",
    "\\right]\n",
    "$$\n"
   ]
  },
  {
   "cell_type": "markdown",
   "id": "81d359b3",
   "metadata": {
    "slideshow": {
     "slide_type": "slide"
    }
   },
   "source": [
    "- left-multiplication with $E_{3,2}$:\n",
    "\n",
    "$$\n",
    "\\left[\n",
    "\\begin{array}{rrr|rrr}\n",
    "3 & 4  & -1 & 1 & 0 & 0\\\\\n",
    "0 & 1  & 1  & 0 & 1 & 0\\\\\n",
    "0  & 0 & \\frac{5}{3} & -\\frac{1}{3} & \\frac{7}{3} & 1\n",
    "\\end{array}\n",
    "\\right]\n",
    "$$\n"
   ]
  },
  {
   "cell_type": "markdown",
   "id": "0442ee83",
   "metadata": {
    "slideshow": {
     "slide_type": "slide"
    }
   },
   "source": [
    "- left-multiplication with $E_{2,3}$:\n",
    "\n",
    "$$\n",
    "\\left[\n",
    "\\begin{array}{rrr|rrr}\n",
    "3 & 4  & -1          & 1            & 0            & 0\\\\\n",
    "0 & 1  &  0          & \\frac{1}{5}  & -\\frac{2}{5} & -\\frac{3}{5}\\\\\n",
    "0 & 0  & \\frac{5}{3} & -\\frac{1}{3} & \\frac{7}{3}  & 1\n",
    "\\end{array}\n",
    "\\right]\n",
    "$$\n"
   ]
  },
  {
   "cell_type": "markdown",
   "id": "941b989d",
   "metadata": {
    "slideshow": {
     "slide_type": "slide"
    }
   },
   "source": [
    "- left-multiplication with $E_{1,3}$:\n",
    "\n",
    "$$\n",
    "\\left[\n",
    "\\begin{array}{rrr|rrr}\n",
    "3 & 4  & 0           & \\frac{4}{5}  & \\frac{7}{5}  & \\frac{3}{5}\\\\\n",
    "0 & 1  &  0          & \\frac{1}{5}  & -\\frac{2}{5} & -\\frac{3}{5}\\\\\n",
    "0 & 0  & \\frac{5}{3} & -\\frac{1}{3} & \\frac{7}{3}  & 1\n",
    "\\end{array}\n",
    "\\right]\n",
    "$$\n"
   ]
  },
  {
   "cell_type": "markdown",
   "id": "2fecf101",
   "metadata": {
    "slideshow": {
     "slide_type": "slide"
    }
   },
   "source": [
    "- left-multiplication with $E_{1,2}$:\n",
    "\n",
    "$$\n",
    "\\left[\n",
    "\\begin{array}{rrr|rrr}\n",
    "3 & 0  & 0           & 0            & 3            & 3\\\\\n",
    "0 & 1  &  0          & \\frac{1}{5}  & -\\frac{2}{5} & -\\frac{3}{5}\\\\\n",
    "0 & 0  & \\frac{5}{3} & -\\frac{1}{3} & \\frac{7}{3}  & 1\n",
    "\\end{array}\n",
    "\\right]\n",
    "$$\n"
   ]
  },
  {
   "cell_type": "markdown",
   "id": "d6e05ad6",
   "metadata": {
    "slideshow": {
     "slide_type": "slide"
    }
   },
   "source": [
    "- left-multiplication with D:\n",
    "\n",
    "$$\n",
    "\\begin{aligned}\n",
    "&\\left[\n",
    "\\begin{array}{rrr|rrr}\n",
    "1 & 0  & 0 & 0            & 1            & 1\\\\\n",
    "0 & 1  & 0 & \\frac{1}{5}  & -\\frac{2}{5} & -\\frac{3}{5}\\\\\n",
    "0 & 0  & 1 & -\\frac{1}{5} & \\frac{7}{5}  & \\frac{3}{5}\n",
    "\\end{array}\n",
    "\\right]\\\\[1em]\n",
    "A^{-1} &= \n",
    "\\left[\n",
    "\\begin{array}{rrr}\n",
    "  0            & 1            & 1\\\\\n",
    " \\frac{1}{5}  & -\\frac{2}{5} & -\\frac{3}{5}\\\\\n",
    " -\\frac{1}{5} & \\frac{7}{5}  & \\frac{3}{5}\n",
    "\\end{array}\n",
    "\\right]\n",
    "\\end{aligned}\n",
    "$$\n"
   ]
  },
  {
   "cell_type": "markdown",
   "id": "1d87aeba",
   "metadata": {
    "slideshow": {
     "slide_type": "slide"
    }
   },
   "source": [
    "### Algorithm to find the inverse of a square matrix $A$ (preliminary)\n",
    "\n",
    "(@ represents matrix multiplication.)\n",
    "\n",
    "<img src=\"_img/pseudocode.svg\" width=\"500\">"
   ]
  },
  {
   "cell_type": "markdown",
   "id": "7ef03063",
   "metadata": {
    "slideshow": {
     "slide_type": "slide"
    }
   },
   "source": [
    "## Permutation\n",
    "\n",
    "The algorithm fails if a 0 occurs at the diagonal somewhere along the way. Sometimes, this is benign, sometimes not.\n",
    "\n",
    "Here is a benign example:\n",
    "\n",
    "$$\n",
    "A =  \\begin{bmatrix}\n",
    "    1 & 1 & 1\\\\\n",
    "    1 & 1 & -1\\\\\n",
    "    1 & -1 & 1\n",
    "\\end{bmatrix}\n",
    "$$\n",
    "\n",
    "This matrix is invertible, according to SymPy:"
   ]
  },
  {
   "cell_type": "code",
   "execution_count": 16,
   "id": "c3428a26",
   "metadata": {},
   "outputs": [
    {
     "data": {
      "text/latex": [
       "$\\displaystyle \\left[\\begin{matrix}1 & 1 & 1\\\\1 & 1 & -1\\\\1 & -1 & 1\\end{matrix}\\right]$"
      ],
      "text/plain": [
       "Matrix([\n",
       "[1,  1,  1],\n",
       "[1,  1, -1],\n",
       "[1, -1,  1]])"
      ]
     },
     "execution_count": 16,
     "metadata": {},
     "output_type": "execute_result"
    }
   ],
   "source": [
    "A = Matrix([\n",
    "    [1,1,1],\n",
    "    [1,1,-1],\n",
    "    [1,-1,1]\n",
    "])\n",
    "A"
   ]
  },
  {
   "cell_type": "code",
   "execution_count": 17,
   "id": "cee380f9",
   "metadata": {},
   "outputs": [
    {
     "data": {
      "text/latex": [
       "$\\displaystyle \\left[\\begin{matrix}0 & \\frac{1}{2} & \\frac{1}{2}\\\\\\frac{1}{2} & 0 & - \\frac{1}{2}\\\\\\frac{1}{2} & - \\frac{1}{2} & 0\\end{matrix}\\right]$"
      ],
      "text/plain": [
       "Matrix([\n",
       "[  0,  1/2,  1/2],\n",
       "[1/2,    0, -1/2],\n",
       "[1/2, -1/2,    0]])"
      ]
     },
     "execution_count": 17,
     "metadata": {},
     "output_type": "execute_result"
    }
   ],
   "source": [
    "A.inv()"
   ]
  },
  {
   "cell_type": "markdown",
   "id": "57a67750",
   "metadata": {
    "slideshow": {
     "slide_type": "slide"
    }
   },
   "source": [
    "Still, elimination fails:\n",
    "    \n",
    "  \n",
    "$$\n",
    "\\left[\n",
    "\\begin{array}{rrr|rrr}\n",
    "1 & 1  & 1 & 1 & 0 & 0\\\\\n",
    "1 & 1  & -1  & 0 & 1 & 0\\\\\n",
    "1 & -1 & 1 & 0 & 0 & 1\n",
    "\\end{array}\n",
    "\\right]\n",
    "$$"
   ]
  },
  {
   "cell_type": "markdown",
   "id": "0eb03568",
   "metadata": {},
   "source": [
    "- subtracting first row from second:\n",
    "$$\n",
    "\\left[\n",
    "\\begin{array}{rrr|rrr}\n",
    "1 & 1  & 1  & 1  & 0 & 0\\\\\n",
    "0 & 0  & -2 & -1 & 1 & 0\\\\\n",
    "1 & -1 & 1  & 0  & 0 & 1\n",
    "\\end{array}\n",
    "\\right]\n",
    "$$\n"
   ]
  },
  {
   "cell_type": "markdown",
   "id": "0a34b4f0",
   "metadata": {},
   "source": [
    "- subtracting first row from third:\n",
    "$$\n",
    "\\left[\n",
    "\\begin{array}{rrr|rrr}\n",
    "1 & 1  & 1  & 1  & 0 & 0\\\\\n",
    "0 & 0  & -2 & -1 & 1 & 0\\\\\n",
    "0 & -2 & 0  & -1 & 0 & 1\n",
    "\\end{array}\n",
    "\\right]\n",
    "$$\n"
   ]
  },
  {
   "cell_type": "markdown",
   "id": "46f92bf3",
   "metadata": {
    "slideshow": {
     "slide_type": "slide"
    }
   },
   "source": [
    "Now, according to the algorithm, we have to subtract $l$ times the second row from the third, with\n",
    "\n",
    "$$\n",
    "l = \\frac{-2}{0}\n",
    "$$\n",
    "\n",
    "This is not possible. We can recover from this though, by swapping the second and third row:\n",
    "\n",
    "$$\n",
    "\\left[\n",
    "\\begin{array}{rrr|rrr}\n",
    "1 & 1  & 1  & 1  & 0 & 0\\\\\n",
    "0 & -2 & 0  & -1 & 0 & 1\\\\\n",
    "0 & 0  & -2 & -1 & 1 & 0\\\\\n",
    "\\end{array}\n",
    "\\right]\n",
    "$$\n",
    "\n"
   ]
  },
  {
   "cell_type": "markdown",
   "id": "1ca4fb33",
   "metadata": {
    "slideshow": {
     "slide_type": "slide"
    }
   },
   "source": [
    "The rest is straightforward:\n",
    "\n",
    "- add $\\frac{1}{2}$ times third row to first row:\n",
    "\n",
    "$$\n",
    "\\left[\n",
    "\\begin{array}{rrr|rrr}\n",
    "1 & 1  & 0  & \\frac{1}{2}  & \\frac{1}{2} & 0\\\\\n",
    "0 & -2 & 0  & -1 & 0 & 1\\\\\n",
    "0 & 0  & -2 & -1 & 1 & 0\\\\\n",
    "\\end{array}\n",
    "\\right]\n",
    "$$"
   ]
  },
  {
   "cell_type": "markdown",
   "id": "b55b28bd",
   "metadata": {},
   "source": [
    "- add $\\frac{1}{2}$ times second row to first row:\n",
    "\n",
    "$$\n",
    "\\left[\n",
    "\\begin{array}{rrr|rrr}\n",
    "1 & 0  & 0  & 0  & \\frac{1}{2} & \\frac{1}{2}\\\\\n",
    "0 & -2 & 0  & -1 & 0 & 1\\\\\n",
    "0 & 0  & -2 & -1 & 1 & 0\\\\\n",
    "\\end{array}\n",
    "\\right]\n",
    "$$"
   ]
  },
  {
   "cell_type": "markdown",
   "id": "6ccb3422",
   "metadata": {},
   "source": [
    "- divide each row by its pivot\n",
    "\n",
    "$$\n",
    "\\left[\n",
    "\\begin{array}{rrr|rrr}\n",
    "1 & 0  & 0  & 0  & \\frac{1}{2} & \\frac{1}{2}\\\\\n",
    "0 & 1 & 0  & \\frac{1}{2} & 0 & -\\frac{1}{2}\\\\\n",
    "0 & 0  & 1 & \\frac{1}{2} & -\\frac{1}{2} & 0\\\\\n",
    "\\end{array}\n",
    "\\right]\n",
    "$$"
   ]
  },
  {
   "cell_type": "markdown",
   "id": "4dd4ddf0",
   "metadata": {
    "slideshow": {
     "slide_type": "slide"
    }
   },
   "source": [
    "The step of exchanging the second and third row can also be done via matrix multiplication:\n",
    "\n",
    "$$\n",
    "P_{2,3} = \\begin{bmatrix}\n",
    "1 & 0 & 0\\\\\n",
    "0 & 0 & 1\\\\\n",
    "0 & 1 & 0\n",
    "\\end{bmatrix}\n",
    "$$"
   ]
  },
  {
   "cell_type": "markdown",
   "id": "6996c242",
   "metadata": {
    "slideshow": {
     "slide_type": "slide"
    }
   },
   "source": [
    "Here we had a configuration where, during lower elimination, a $0$ was in $X_{i,i}$ and a non-zero entry $X_{j,i}$ was below it.\n",
    "\n",
    "In such a configuration, we can save the day by multiplying everything with $P_{i,j}$ from the left.\n",
    "\n",
    "If both $X_{i,i}=0$ and $X_{j,i}=0$, we just do nothing and proceed to the next row.\n",
    "\n",
    "This cannot happen during upper elimination, because it does not affect the diagonal.\n",
    "\n",
    "\n"
   ]
  },
  {
   "cell_type": "markdown",
   "id": "50d1ca24",
   "metadata": {
    "slideshow": {
     "slide_type": "slide"
    }
   },
   "source": [
    "### Algorithm to find the inverse of a square matrix $A$ (final version)\n",
    "\n",
    "(@ represents matrix multiplication.)\n",
    "\n",
    "<img src=\"_img/pseudocodeRevised.svg\" width=\"400\">"
   ]
  },
  {
   "cell_type": "markdown",
   "id": "5a893f7e",
   "metadata": {
    "slideshow": {
     "slide_type": "slide"
    }
   },
   "source": [
    "## Systems of linear equation without solution\n",
    "\n",
    "$$\n",
    "\\begin{aligned}\n",
    "A &= \n",
    "\\begin{bmatrix}\n",
    "3 & 4  & -1\\\\\n",
    "0 & 1  & 1\\\\\n",
    "0 & -1 & -1\n",
    "\\end{bmatrix}\\\\[1em]\n",
    "\\mathbf b &= \\begin{bmatrix}0 \\\\ 4 \\\\ 5\\end{bmatrix}\n",
    "\\end{aligned}\n",
    "$$"
   ]
  },
  {
   "cell_type": "markdown",
   "id": "3dd347e1",
   "metadata": {},
   "source": [
    "## elimination step\n",
    "\n",
    "\n",
    "$$\n",
    "\\left[\n",
    "\\begin{array}{rrr|r}\n",
    "3 & 4 & -1&0\\\\\n",
    "0 & 1 & 1&4\\\\\n",
    "0 & 0 & 0&-1\n",
    "\\end{array}\n",
    "\\right]\n",
    "$$"
   ]
  },
  {
   "cell_type": "markdown",
   "id": "9ddf4f5d",
   "metadata": {},
   "source": [
    "Here we already see that this system cannot have a solution, because the third row has no solution."
   ]
  },
  {
   "cell_type": "markdown",
   "id": "0c691f44",
   "metadata": {
    "slideshow": {
     "slide_type": "slide"
    }
   },
   "source": [
    "## Systems of linear equation with infinitely many solution\n",
    "\n",
    "$$\n",
    "\\begin{aligned}\n",
    "A &= \n",
    "\\begin{bmatrix}\n",
    "3 & 4  & -1\\\\\n",
    "0 & 1  & 1\\\\\n",
    "0 & -1 & -1\n",
    "\\end{bmatrix}\\\\[1em]\n",
    "\\mathbf b &= \\begin{bmatrix}0 \\\\ 4 \\\\ -4\\end{bmatrix}\n",
    "\\end{aligned}\n",
    "$$"
   ]
  },
  {
   "cell_type": "markdown",
   "id": "315e2314",
   "metadata": {},
   "source": [
    "### augmented matrix\n",
    "\n",
    "\n",
    "$$\n",
    "\\left[\n",
    "\\begin{array}{rrr|r}\n",
    "3 & 4 & -1&0\\\\\n",
    "0 & 1 & 1&4\\\\\n",
    "0 & -1 & -1&-4\n",
    "\\end{array}\n",
    "\\right]\n",
    "$$"
   ]
  },
  {
   "cell_type": "markdown",
   "id": "e7cc7a34",
   "metadata": {},
   "source": [
    "## elimination step\n",
    "\n",
    "\n",
    "$$\n",
    "\\left[\n",
    "\\begin{array}{rrr|r}\n",
    "3 & 0 & -5&-16\\\\\n",
    "0 & 1 & 1&4\\\\\n",
    "0 & 0 & 0&0\n",
    "\\end{array}\n",
    "\\right]\n",
    "$$"
   ]
  },
  {
   "cell_type": "markdown",
   "id": "b34dce2f",
   "metadata": {},
   "source": [
    "## dividing by the pivots\n",
    "\n",
    "\n",
    "$$\n",
    "\\left[\n",
    "\\begin{array}{rrr|r}\n",
    "1 & 0 & -\\frac{5}{3}&-\\frac{16}{3}\\\\\n",
    "0 & 1 & 1&4\\\\\n",
    "0 & 0 & 0&0\n",
    "\\end{array}\n",
    "\\right]\n",
    "$$"
   ]
  },
  {
   "cell_type": "markdown",
   "id": "f78638d2",
   "metadata": {},
   "source": [
    "The set of solutions obtained this way is\n",
    "\n",
    "$$\n",
    "\\begin{aligned}\n",
    "x &= \\frac{5}{3}z - \\frac{16}{3}\\\\\n",
    "y &= 4-z\\\\\n",
    "z &\\in \\mathbb R\n",
    "\\end{aligned}\n",
    "$$"
   ]
  },
  {
   "cell_type": "markdown",
   "id": "5e01abdd",
   "metadata": {
    "slideshow": {
     "slide_type": "slide"
    }
   },
   "source": [
    "## Permutations during elimination\n",
    "\n",
    "Consider the following matrix:"
   ]
  },
  {
   "cell_type": "code",
   "execution_count": 18,
   "id": "ad5ab42c",
   "metadata": {},
   "outputs": [
    {
     "data": {
      "text/latex": [
       "$\\displaystyle \\left[\\begin{matrix}1 & 4 & 5\\\\4 & 16 & 6\\\\5 & 6 & 3\\end{matrix}\\right]$"
      ],
      "text/plain": [
       "Matrix([\n",
       "[1,  4, 5],\n",
       "[4, 16, 6],\n",
       "[5,  6, 3]])"
      ]
     },
     "execution_count": 18,
     "metadata": {},
     "output_type": "execute_result"
    }
   ],
   "source": [
    "A = Matrix([\n",
    "    [1,4,5],\n",
    "    [4,16,6],\n",
    "    [5,6,3]\n",
    "])\n",
    "A"
   ]
  },
  {
   "cell_type": "markdown",
   "id": "ca2610b3",
   "metadata": {},
   "source": [
    "We want to find the inverse.\n",
    "\n",
    "$$\n",
    "\\begin{aligned}\n",
    "&& \\left[\\begin{array}{rrr|rrr}\n",
    "    1 & 4 & 5 & 1 & 0 & 0\\\\\n",
    "    4 & 16 & 6 & 0 & 1 & 0\\\\\n",
    "    5 & 6 & 3 & 0 & 0 & 1\n",
    "\\end{array}\\right]\\\\[2em]\n",
    "E_1 = \n",
    "\\left[\\begin{array}{r}\n",
    "1 & 0 & 0\\\\\n",
    "-4 & 1 & 0\\\\\n",
    "0 & 0 & 1\n",
    "\\end{array}\\right] &&\n",
    "\\left[\\begin{array}{rrr|rrr}\n",
    "    1 & 4 & 5 & 1 & 0 & 0\\\\\n",
    "    0 & 0 & -14 & -4 & 1 & 0\\\\\n",
    "    5 & 6 & 3 & 0 & 0 & 1\n",
    "\\end{array}\\right]\\\\[2em]\n",
    "\\end{aligned}\n",
    "$$"
   ]
  },
  {
   "cell_type": "markdown",
   "id": "090e389a",
   "metadata": {
    "slideshow": {
     "slide_type": "slide"
    }
   },
   "source": [
    "Since we have a $0$ above a non-$0$, we have to exchange rows.\n",
    "\n",
    "$$\n",
    "\\begin{aligned}\n",
    "P_1 = \n",
    "\\left[\\begin{array}{r}\n",
    "1 & 0 & 0\\\\\n",
    "0 & 0 & 1\\\\\n",
    "0 & 1 & 0\n",
    "\\end{array}\\right] &&\n",
    "\\left[\\begin{array}{rrr|rrr}\n",
    "    1 & 4 & 5 & 1 & 0 & 0\\\\\n",
    "    5 & 6 & 3 & 0 & 0 & 1\\\\\n",
    "    0 & 0 & -14 & -4 & 1 & 0\\\\\n",
    "\\end{array}\\right]\\\\[2em]\n",
    "\\end{aligned}\n",
    "$$"
   ]
  },
  {
   "cell_type": "markdown",
   "id": "dc5adc3c",
   "metadata": {},
   "source": [
    "Now we can continue with elimination.\n",
    "\n",
    "\n",
    "$$\n",
    "\\begin{aligned}\n",
    "E_2 = \n",
    "\\left[\\begin{array}{r}\n",
    "1 & 0 & 0\\\\\n",
    "-5 & 1 & 0\\\\\n",
    "0 & 0 & 1\n",
    "\\end{array}\\right] &&\n",
    "\\left[\\begin{array}{rrr|rrr}\n",
    "    1 & 4 & 5 & 1 & 0 & 0\\\\\n",
    "    0 & -14 & -22 & -5 & 0 & 1\\\\\n",
    "    0 & 0 & -14 & -4 & 1 & 0\\\\\n",
    "\\end{array}\\right]\\\\[2em]\n",
    "E_3 = \n",
    "\\left[\\begin{array}{r}\n",
    "1 & 0 & 0\\\\\n",
    "0 & 1 & -\\frac{11}{7}\\\\\n",
    "0 & 0 & 1\n",
    "\\end{array}\\right] &&\n",
    "\\left[\\begin{array}{rrr|rrr}\n",
    "    1 & 4 & 5 & 1 & 0 & 0\\\\\n",
    "    0 & -14 & 0 & \\frac{9}{7} & -\\frac{11}{7} & 1\\\\\n",
    "    0 & 0 & -14 & -4 & 1 & 0\\\\\n",
    "\\end{array}\\right]\\\\[2em]\n",
    "E_4 = \n",
    "\\left[\\begin{array}{r}\n",
    "1 & 0 & \\frac{5}{14}\\\\\n",
    "0 & 1 & 0\\\\\n",
    "0 & 0 & 1\n",
    "\\end{array}\\right] &&\n",
    "\\left[\\begin{array}{rrr|rrr}\n",
    "    1 & 4 & 0 & -\\frac{3}{7} & \\frac{5}{14} & 0\\\\\n",
    "    0 & -14 & 0 & \\frac{9}{7} & -\\frac{11}{7} & 1\\\\\n",
    "    0 & 0 & -14 & -4 & 1 & 0\\\\\n",
    "\\end{array}\\right]\n",
    "\\end{aligned}\n",
    "$$"
   ]
  },
  {
   "cell_type": "markdown",
   "id": "d6fbaa6b",
   "metadata": {
    "slideshow": {
     "slide_type": "slide"
    }
   },
   "source": [
    "Alltogether we have\n",
    "\n",
    "$$\n",
    "D E_5 E_4 E_3 E_2 P_1 E_1 = A^{-1}\n",
    "$$\n",
    "\n",
    "- Elimination and permutation are interspersed. It is common practice to separate these processes. Most implementations perform permutation first.\n",
    "\n",
    "- To shift $P_1$ to the end, we need a matrix $F$ with\n",
    "\n",
    "$$\n",
    "\\begin{aligned}\n",
    "P_1 E_1 &= F P_1\\\\\n",
    "F &= P_1 E_1 P_1^{-1}\n",
    "\\end{aligned}\n",
    "$$\n",
    "\n",
    "In the example, this amounts to \n",
    "\n",
    "$$\n",
    "\\begin{aligned}\n",
    "F &= \\left[\\begin{array}{r}\n",
    "1 & 0 & 0\\\\\n",
    "0 & 1 & 0\\\\\n",
    "-4 & 0 & 1\n",
    "\\end{array}\\right]\\\\\n",
    "A^{-1} &= D E_5 E_4 E_3 E_2 F P_1 \n",
    "\\end{aligned}\n",
    "$$\n",
    "\n",
    "**It is always possible to do permutations first and elimination afterwards.**\n"
   ]
  },
  {
   "cell_type": "markdown",
   "id": "e0dd7f2a",
   "metadata": {
    "slideshow": {
     "slide_type": "slide"
    }
   },
   "source": [
    "\n",
    "\n",
    "- product of permutation matrices is always a permutation matrix\n",
    "- after moving all permutation matrices to the right, we can multiply them to a single permutation matrix\n",
    "\n",
    "$$\n",
    "\\begin{aligned}\n",
    "E_n \\cdots P_i \\cdots P_j \\cdots E_1 &= F_n\\cdots F_1 P_i\\cdots P_1\\\\\n",
    "P &= P_i\\cdots P_1\n",
    "\\end{aligned}\n",
    "$$\n",
    "\n",
    "Finding the right permutations in advance is tricky – let the computer worry about it.\n",
    "\n",
    "For now we assume that Gauss-elimination works without permutation."
   ]
  }
 ],
 "metadata": {
  "@webio": {
   "lastCommId": null,
   "lastKernelId": null
  },
  "celltoolbar": "Slideshow",
  "hide_input": false,
  "kernelspec": {
   "display_name": "Python 3 (ipykernel)",
   "language": "python",
   "name": "python3"
  },
  "language_info": {
   "codemirror_mode": {
    "name": "ipython",
    "version": 3
   },
   "file_extension": ".py",
   "mimetype": "text/x-python",
   "name": "python",
   "nbconvert_exporter": "python",
   "pygments_lexer": "ipython3",
   "version": "3.10.12"
  },
  "latex_envs": {
   "LaTeX_envs_menu_present": true,
   "autoclose": false,
   "autocomplete": true,
   "bibliofile": "biblio.bib",
   "cite_by": "apalike",
   "current_citInitial": 1,
   "eqLabelWithNumbers": true,
   "eqNumInitial": 1,
   "hotkeys": {
    "equation": "Ctrl-E",
    "itemize": "Ctrl-I"
   },
   "labels_anchors": false,
   "latex_user_defs": false,
   "report_style_numbering": false,
   "user_envs_cfg": false
  },
  "varInspector": {
   "cols": {
    "lenName": 16,
    "lenType": 16,
    "lenVar": 40
   },
   "kernels_config": {
    "python": {
     "delete_cmd_postfix": "",
     "delete_cmd_prefix": "del ",
     "library": "var_list.py",
     "varRefreshCmd": "print(var_dic_list())"
    },
    "r": {
     "delete_cmd_postfix": ") ",
     "delete_cmd_prefix": "rm(",
     "library": "var_list.r",
     "varRefreshCmd": "cat(var_dic_list()) "
    }
   },
   "types_to_exclude": [
    "module",
    "function",
    "builtin_function_or_method",
    "instance",
    "_Feature"
   ],
   "window_display": false
  }
 },
 "nbformat": 4,
 "nbformat_minor": 5
}
