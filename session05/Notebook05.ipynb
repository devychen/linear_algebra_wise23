{
 "cells": [
  {
   "cell_type": "code",
   "execution_count": 1,
   "id": "6b6d3e8a",
   "metadata": {
    "slideshow": {
     "slide_type": "skip"
    }
   },
   "outputs": [],
   "source": [
    "import sympy\n",
    "from sympy import Matrix, Rational, sqrt, symbols\n",
    "import numpy as np\n",
    "%matplotlib notebook\n",
    "import matplotlib.pyplot as plt"
   ]
  },
  {
   "cell_type": "markdown",
   "id": "17d690f6",
   "metadata": {
    "slideshow": {
     "slide_type": "slide"
    }
   },
   "source": [
    "# Linear algebra\n",
    "\n",
    "## Session 05: \n",
    "\n",
    "## Gerhard Jäger\n",
    "\n",
    "### November 23, 2023"
   ]
  },
  {
   "cell_type": "markdown",
   "id": "20547490",
   "metadata": {
    "slideshow": {
     "slide_type": "slide"
    }
   },
   "source": [
    "## Vector spaces\n",
    "\n",
    "In mathematics, vector spaces are not confined to $\\mathbb R^n$. Any set can be a vector space if the following eight axioms are met."
   ]
  },
  {
   "cell_type": "markdown",
   "id": "0be01d71",
   "metadata": {
    "slideshow": {
     "slide_type": "-"
    }
   },
   "source": [
    "<table border=\"0\" style=\"width:100%;\" align = \"left\">\n",
    "<tbody><tr>\n",
    "<th>Axiom</th>\n",
    "<th>Meaning\n",
    "</th>\n",
    "    <tr>\n",
    "    <td>Associativity of vector addition</td>\n",
    "    <td><span class=\"texhtml\"><b>u</b> + (<b>v</b> + <b>w</b>) = (<b>u</b> + <b>v</b>) + <b>w</b></span>\n",
    "    </td></tr>\n",
    "    \n",
    "<tr style=\"background:#F8F4FF;\">\n",
    "<td>Commutativity of vector addition</td>\n",
    "<td><span class=\"texhtml\"><b>u</b> + <b>v</b> = <b>v</b> + <b>u</b></span>\n",
    "</td></tr>\n",
    "<tr>\n",
    "<td>Identity element of vector addition</td>\n",
    "<td>There exists an element <span class=\"texhtml\"><b>0</b> ∈ <i>V</i></span>, called the <i>zero vector</i>, such that <span class=\"texhtml\"><b>v</b> + <b>0</b> = <b>v</b></span> for all <span class=\"texhtml\"><b>v</b> ∈ <i>V</i></span>.\n",
    "</td></tr>\n",
    "<tr style=\"background:#F8F4FF;\">\n",
    "<td>Inverse elements of vector addition</td>\n",
    "<td>For every <span class=\"texhtml\"><b>v</b> ∈ <i>V</i></span>, there exists an element <span class=\"texhtml\">−<b>v</b> ∈ <i>V</i></span>, called the <i>additive inverse</i> of <span class=\"texhtml\"><b>v</b></span>, such that <span class=\"texhtml\"><b>v</b> + (−<b>v</b>) = <b>0</b></span>.\n",
    "</td></tr>\n",
    "<tr>\n",
    "<td>Compatibility of scalar multiplication with field multiplication</td>\n",
    "<td><span class=\"texhtml\"><i>a</i>(<i>b</i><b>v</b>) = (<i>ab</i>)<b>v</b></span> <sup id=\"cite_ref-4\" class=\"reference\"><a href=\"#cite_note-4\">&#91;nb 3&#93;</a></sup>\n",
    "</td></tr>\n",
    "<tr style=\"background:#F8F4FF;\">\n",
    "<td>Identity element of scalar multiplication</td>\n",
    "<td><span class=\"texhtml\">1<b>v</b> = <b>v</b></span>, where <span class=\"texhtml\">1</span> denotes the multiplicative identity in <span class=\"texhtml mvar\" style=\"font-style:italic;\">$\\mathbb R$</span>.\n",
    "</td></tr>\n",
    "<tr>\n",
    "<td>Distributivityof scalar multiplication with respect to vector addition</td>\n",
    "<td><span class=\"texhtml\"><i>a</i>(<b>u</b> + <b>v</b>) = <i>a</i><b>u</b> + <i>a</i><b>v</b></span>\n",
    "</td></tr>\n",
    "<tr style=\"background:#F8F4FF;\">\n",
    "<td>Distributivity of scalar multiplication with respect to field addition</td>\n",
    "<td><span class=\"texhtml\">(<i>a</i> + <i>b</i>)<b>v</b> = <i>a</i><b>v</b> + <i>b</i><b>v</b></span>\n",
    "</td></tr></tbody></table>"
   ]
  },
  {
   "cell_type": "markdown",
   "id": "a91b4f05",
   "metadata": {},
   "source": [
    "A subset $\\alpha$ of a vector space is a **sub-space** if it is also a vector space.\n",
    "\n",
    "This is guaranteed if two conditions are met: If $\\mathbf u, \\mathbf v\\in \\alpha$, \n",
    "\n",
    "- $\\mathbf u + \\mathbf v \\in \\alpha$\n",
    "- for any scalar $c$, $c\\mathbf u\\in \\alpha$."
   ]
  },
  {
   "cell_type": "markdown",
   "id": "3eb0daf4",
   "metadata": {
    "slideshow": {
     "slide_type": "slide"
    }
   },
   "source": [
    "### Column space of a matrix\n",
    "\n",
    "For an $n\\times m$ matrix $A$, the set $\\{A\\mathbf x:\\mathbf x\\in \\mathbb R^m\\}$ is a subspace of $\\mathbb R^n$, because:\n",
    "\n",
    "- $A\\mathbf u + A\\mathbf v = A(\\mathbf u+\\mathbf v)$\n",
    "- $Ac\\mathbf u = cA\\mathbf u$\n",
    "\n",
    "This vector space is called the **column space** of $A$, because it consists of all linear combinations of the column vectors of $A$.\n",
    "\n",
    "\n",
    "The system of linear equation \n",
    "$$\n",
    "A\\mathbf x = \\mathbf b\n",
    "$$\n",
    "\n",
    "is solvable if and only if $\\mathbf b$ is in the column space of $A$."
   ]
  },
  {
   "cell_type": "markdown",
   "id": "258c0420",
   "metadata": {},
   "source": [
    "So far we have focused on invertable matrices. In this case, the column space equals the entire vector space.\n",
    "\n",
    "But what about non-invertable matrices?\n",
    "\n",
    "We proceed per Gauss-Jordan elimination as usual. After the Gauss part, we will see whether the system is solvable.\n",
    "\n",
    "$$\n",
    "\\begin{aligned}\n",
    "\\begin{bmatrix}\n",
    "1 & 0\\\\\n",
    "4 & 3\\\\\n",
    "2 & 3\n",
    "\\end{bmatrix} \\mathbf x &=\n",
    "\\begin{bmatrix}\n",
    "1\\\\1\\\\0\n",
    "\\end{bmatrix}\n",
    "\\end{aligned}\n",
    "$$"
   ]
  },
  {
   "cell_type": "markdown",
   "id": "744ded20",
   "metadata": {
    "slideshow": {
     "slide_type": "slide"
    }
   },
   "source": [
    "$$\n",
    "\\left[\n",
    "\\begin{array}{rr|r}\n",
    "1 & 0 & 1\\\\\n",
    "4 & 3 & 1\\\\\n",
    "2 & 3 & 0\n",
    "\\end{array}\n",
    "\\right]\\\\[1em]\n",
    "\\left[\n",
    "\\begin{array}{rr|r}\n",
    "1 & 0 & 1\\\\\n",
    "0 & 3 & -3\\\\\n",
    "0 & 3 & -2\n",
    "\\end{array}\n",
    "\\right]\\\\[1em]\n",
    "\\left[\n",
    "\\begin{array}{rr|r}\n",
    "1 & 0 & 1\\\\\n",
    "0 & 3 & -3\\\\\n",
    "0 & 0 & 1\n",
    "\\end{array}\n",
    "\\right]\\\\[1em]\n",
    "$$\n",
    "\n",
    "There can't be a solution for the last row, so $\\mathbf b$ is not in the column space of $A$."
   ]
  },
  {
   "cell_type": "markdown",
   "id": "88dd0dce",
   "metadata": {
    "slideshow": {
     "slide_type": "slide"
    }
   },
   "source": [
    "Another example:\n",
    "\n",
    "$$\n",
    "\\begin{aligned}\n",
    "A & =\n",
    "\\begin{bmatrix}\n",
    "1 & 2& 3\\\\\n",
    "2 & 4 & 3\\\\\n",
    "3 & 6 & 1\n",
    "\\end{bmatrix}\\\\[1em]\n",
    "\\mathbf b &= \\begin{bmatrix} 4\\\\ 5\\\\ 4\\end{bmatrix}\\\\[1em]\n",
    "A\\mathbf x &= \\mathbf b\n",
    "\\end{aligned}\n",
    "$$"
   ]
  },
  {
   "cell_type": "markdown",
   "id": "3e3cf2af",
   "metadata": {
    "slideshow": {
     "slide_type": "slide"
    }
   },
   "source": [
    "$$\n",
    "\\displaystyle\n",
    "\\left[\n",
    "\\begin{array}{rrr|r}\n",
    "1 & 2 & 3 & 4\\\\\n",
    "2 & 4 & 3 & 5\\\\\n",
    "3 & 6 & 1 & 4\n",
    "\\end{array}\n",
    "\\right]\\\\[1em]\n",
    "\\left[\n",
    "\\begin{array}{rrr|r}\n",
    "1 & 2 & 3 & 4\\\\\n",
    "0 & 0 & -3 & -3\\\\\n",
    "3 & 6 & 1 & 4\n",
    "\\end{array}\n",
    "\\right]\\\\[1em]\n",
    "\\left[\n",
    "\\begin{array}{rrr|r}\n",
    "1 & 2 & 3 & 4\\\\\n",
    "0 & 0 & -3 & -3\\\\\n",
    "0 & 0 & -8 & -8\n",
    "\\end{array}\n",
    "\\right]\\\\[1em]\n",
    "\\left[\n",
    "\\begin{array}{rrr|r}\n",
    "1 & 2 & 3 & 4\\\\\n",
    "0 & 0 & -3 & -3\\\\\n",
    "0 & 0 & 0 & 0\n",
    "\\end{array}\n",
    "\\right]\\\\[1em]\n",
    "\\left[\n",
    "\\begin{array}{rrr|r}\n",
    "1 & 2 & 0 & 1\\\\\n",
    "0 & 0 & -3 & -3\\\\\n",
    "0 & 0 & 0 & 0\n",
    "\\end{array}\n",
    "\\right]\\\\[1em]\n",
    "\\left[\n",
    "\\begin{array}{rrr|r}\n",
    "1 & 2 & 0 & 1\\\\\n",
    "0 & 0 & 1 & 1\\\\\n",
    "0 & 0 & 0 & 0\n",
    "\\end{array}\n",
    "\\right]\\\\[1em]\n",
    "$$\n"
   ]
  },
  {
   "cell_type": "markdown",
   "id": "8bbcbfe6",
   "metadata": {},
   "source": [
    "Since the left side is not the identity matrix, we cannot simply read off the solution from the right side.\n"
   ]
  },
  {
   "cell_type": "markdown",
   "id": "278b36c6",
   "metadata": {
    "slideshow": {
     "slide_type": "slide"
    }
   },
   "source": [
    "\n",
    "### Pivots\n",
    "\n",
    "A pivot cell in a matrix $A$ is a cell $a_{ij}$ with an entry $\\neq 0$ such that\n",
    "$$\n",
    "\\begin{aligned}\n",
    "a_{ij} &\\neq 0\\\\\n",
    "\\forall k\\geq i, l< j: &  a_{kl} = 0\n",
    "\\end{aligned}\n",
    "$$\n",
    "\n",
    "During Gauss elimination, we\n",
    "\n",
    "- go top-down through the rows,\n",
    "- identify the pivot in the current row, and\n",
    "- transform all cells below the pivot into $0$ using elimination.\n",
    "\n",
    "A column with a pivot in it is called *pivot column*.\n",
    "\n",
    "A column without a pivot in it is called *free column*.\n",
    "\n",
    "After Gauss-Jordan elimination, we find the *canonical solution* by\n",
    "- setting all positions corresponding to a free column to $0$, and\n",
    "- setting all positions corresponding to a pivot colun to the entry on the the same row as the pivot on the right side.\n",
    "\n",
    "For our example above, the solution thus found is\n",
    "$$\n",
    "\\begin{bmatrix}\n",
    "1 \\\\ 0 \\\\ 1\n",
    "\\end{bmatrix}\n",
    "$$"
   ]
  },
  {
   "cell_type": "markdown",
   "id": "d6ec6e30",
   "metadata": {
    "slideshow": {
     "slide_type": "slide"
    }
   },
   "source": [
    "## The nullspace of a matrix\n",
    "\n",
    "The canonical solution is only one of infinitely many solutions.\n",
    "\n",
    "$$\n",
    "\\begin{aligned}\n",
    "A & =\n",
    "\\begin{bmatrix}\n",
    "1 & 2& 3\\\\\n",
    "2 & 4 & 3\\\\\n",
    "3 & 6 & 1\n",
    "\\end{bmatrix}\\\\[1em]\n",
    "\\mathbf b &= \\begin{bmatrix} 4\\\\ 5\\\\ 4\\end{bmatrix}\\\\[1em]\n",
    "A\\mathbf x &= \\mathbf b\\\\\n",
    "\\mathbf x &= \\begin{bmatrix}\n",
    "1 \\\\ 0 \\\\ 1\n",
    "\\end{bmatrix}, \n",
    "\\begin{bmatrix}\n",
    "-1 \\\\ 1 \\\\ 1\n",
    "\\end{bmatrix},\n",
    "\\begin{bmatrix}\n",
    "3 \\\\ -1 \\\\ 1\n",
    "\\end{bmatrix},\\cdots\n",
    "\\end{aligned}\n",
    "$$\n",
    "\n",
    "How do we find all solutions?"
   ]
  },
  {
   "cell_type": "markdown",
   "id": "c0df154d",
   "metadata": {
    "slideshow": {
     "slide_type": "slide"
    }
   },
   "source": [
    "Suppose we have a solution $\\mathbf y$ to \n",
    "\n",
    "$$\n",
    "A\\mathbf y = \\mathbf 0\n",
    "$$\n",
    "\n",
    "Let $\\mathbf x$ be the canonical solution to\n",
    "\n",
    "$$\n",
    "A\\mathbf x = \\mathbf b\n",
    "$$\n",
    "\n",
    "It follows:\n",
    "\n",
    "$$\n",
    "\\begin{aligned}\n",
    "A\\mathbf x + A\\mathbf y &= \\mathbf b + \\mathbf 0\\\\\n",
    "A(\\mathbf x + \\mathbf y) &= \\mathbf b\n",
    "\\end{aligned}\n",
    "$$\n",
    "\n",
    "The set of solutions $\\mathbf y$ to $A\\mathbf y = \\mathbf 0$ form a *vector space*:\n",
    "\n"
   ]
  },
  {
   "cell_type": "markdown",
   "id": "5ecb2607",
   "metadata": {
    "slideshow": {
     "slide_type": "slide"
    }
   },
   "source": [
    "\n",
    "Suppose $A\\mathbf y_1 = \\mathbf 0$ and $A\\mathbf y_2 = \\mathbf 0$.\n",
    "\n",
    "$$\n",
    "\\begin{aligned}\n",
    "A(\\mathbf y_1 + \\mathbf y_2) &= A\\mathbf y_1 + A\\mathbf y_2\\\\\n",
    "&= \\mathbf 0 + \\mathbf 0\\\\\n",
    "&= \\mathbf 0\\\\[2em]\n",
    "A(c\\mathbf y_1) &= cA\\mathbf y_1\\\\\n",
    "&= c~\\mathbf 0\\\\\n",
    "&=\\mathbf 0\n",
    "\\end{aligned}\n",
    "$$\n",
    "\n",
    "The set of solutions $\\mathbf y$ to $A\\mathbf y = \\mathbf 0$ is called the **nullspace** of $A$."
   ]
  },
  {
   "cell_type": "markdown",
   "id": "73c2df57",
   "metadata": {
    "slideshow": {
     "slide_type": "slide"
    }
   },
   "source": [
    "### How to find the null space\n",
    "\n",
    "**important observation:** applying an elimination step to a matrix does not change the null space!\n",
    "\n",
    "If\n",
    "$$\n",
    "A\\mathbf x = \\mathbf 0,\n",
    "$$\n",
    "\n",
    "then\n",
    "$$\n",
    "EA\\mathbf x = E\\mathbf 0 = \\mathbf 0\n",
    "$$\n",
    "\n",
    "---\n",
    "\n",
    "For the reverse direction, note that elimination matrices are always invertible by construction.\n",
    "\n",
    "If\n",
    "$$\n",
    "EA\\mathbf x = \\mathbf 0\n",
    "$$\n",
    "\n",
    "then\n",
    "\n",
    "$$\n",
    "A\\mathbf x = E^{-1}\\mathbf 0 = \\mathbf 0\n",
    "$$\n",
    "\n"
   ]
  },
  {
   "cell_type": "markdown",
   "id": "f3f30e9f",
   "metadata": {
    "slideshow": {
     "slide_type": "slide"
    }
   },
   "source": [
    "So we can apply Gauss-Jordan elimination first and then find the null space of the reduced row echelon form.\n",
    "\n",
    "For each free column $i$ in the reduced row echelon form or $A$:\n",
    "- set $y_i = 1$,\n",
    "- set $y_j = 0$ for all free columns $j\\neq i$,\n",
    "- solve $A\\mathbf y = \\mathbf 0$ via substitution.\n",
    "\n"
   ]
  },
  {
   "cell_type": "markdown",
   "id": "0760023c",
   "metadata": {
    "slideshow": {
     "slide_type": "slide"
    }
   },
   "source": [
    "<img src=_img/nullspaceStrang.svg width=\"1000\">\n",
    "\n",
    "(Strang, p. 135)"
   ]
  },
  {
   "cell_type": "markdown",
   "id": "1a1a0d2a",
   "metadata": {
    "slideshow": {
     "slide_type": "slide"
    }
   },
   "source": [
    "###  simple example\n",
    "\n",
    "$$\n",
    "A = \\begin{bmatrix}\n",
    "1&2\\\\\n",
    "3&6\n",
    "\\end{bmatrix}\n",
    "$$\n",
    "\n",
    "Elimination stops after one step:\n",
    "\n",
    "$$\n",
    "\\begin{bmatrix}\n",
    "1&2\\\\\n",
    "0&0\n",
    "\\end{bmatrix}\n",
    "$$\n",
    "\n",
    "- the entry in the upper left corner is the only pivot\n",
    "- the second column is free\n",
    "- the special solution is the solution of\n",
    "\n",
    "$$\n",
    "\\begin{bmatrix}\n",
    "1&2\\\\\n",
    "0&0\n",
    "\\end{bmatrix}\\begin{bmatrix}x_1\\\\1\\end{bmatrix} = \\mathbf 0\n",
    "$$\n",
    "\n",
    "- the only special solution is $\\mathbf x = \\left[\\begin{array}{r}-2\\\\1\\end{array}\\right]$\n",
    "- the null space of $A$ is the set of multiples of $\\mathbf x$"
   ]
  },
  {
   "cell_type": "markdown",
   "id": "a51597a3",
   "metadata": {
    "slideshow": {
     "slide_type": "slide"
    }
   },
   "source": [
    "The result of Gauss elimination is called **row echelon form**.\n",
    "\n",
    "The result of Gauss-Jordan elimination is called **reduced row echelon form**.\n",
    "\n",
    "*Sympy* has a function that returns\n",
    "- the reduced row echelon form of a matrix\n",
    "- the tuple of indices of the pivot columns"
   ]
  },
  {
   "cell_type": "code",
   "execution_count": 2,
   "id": "4d28d923",
   "metadata": {},
   "outputs": [
    {
     "data": {
      "text/latex": [
       "$\\displaystyle \\left[\\begin{matrix}1 & 2\\\\0 & 0\\end{matrix}\\right]$"
      ],
      "text/plain": [
       "Matrix([\n",
       "[1, 2],\n",
       "[0, 0]])"
      ]
     },
     "execution_count": 2,
     "metadata": {},
     "output_type": "execute_result"
    }
   ],
   "source": [
    "A = Matrix([\n",
    "    [1,2],\n",
    "    [3,6]\n",
    "])\n",
    "rr,i = A.rref()\n",
    "rr"
   ]
  },
  {
   "cell_type": "code",
   "execution_count": 3,
   "id": "78d598cd",
   "metadata": {},
   "outputs": [
    {
     "data": {
      "text/plain": [
       "(0,)"
      ]
     },
     "execution_count": 3,
     "metadata": {},
     "output_type": "execute_result"
    }
   ],
   "source": [
    "i"
   ]
  },
  {
   "cell_type": "markdown",
   "id": "a7ee2f15",
   "metadata": {
    "slideshow": {
     "slide_type": "slide"
    }
   },
   "source": [
    "back to our previous examples"
   ]
  },
  {
   "cell_type": "code",
   "execution_count": 4,
   "id": "c4e4327a",
   "metadata": {},
   "outputs": [
    {
     "data": {
      "text/latex": [
       "$\\displaystyle \\left[\\begin{matrix}1 & 2 & 3\\\\2 & 4 & 3\\\\3 & 6 & 1\\end{matrix}\\right]$"
      ],
      "text/plain": [
       "Matrix([\n",
       "[1, 2, 3],\n",
       "[2, 4, 3],\n",
       "[3, 6, 1]])"
      ]
     },
     "execution_count": 4,
     "metadata": {},
     "output_type": "execute_result"
    }
   ],
   "source": [
    "A = Matrix([\n",
    "    [1,2,3],\n",
    "    [2,4,3],\n",
    "    [3,6,1]\n",
    "])\n",
    "A"
   ]
  },
  {
   "cell_type": "code",
   "execution_count": 5,
   "id": "8e2f8e69",
   "metadata": {},
   "outputs": [
    {
     "data": {
      "text/latex": [
       "$\\displaystyle \\left[\\begin{matrix}1 & 2 & 0\\\\0 & 0 & 1\\\\0 & 0 & 0\\end{matrix}\\right]$"
      ],
      "text/plain": [
       "Matrix([\n",
       "[1, 2, 0],\n",
       "[0, 0, 1],\n",
       "[0, 0, 0]])"
      ]
     },
     "execution_count": 5,
     "metadata": {},
     "output_type": "execute_result"
    }
   ],
   "source": [
    "rr,i = A.rref()\n",
    "rr"
   ]
  },
  {
   "cell_type": "code",
   "execution_count": 6,
   "id": "913465c4",
   "metadata": {},
   "outputs": [
    {
     "data": {
      "text/plain": [
       "(0, 2)"
      ]
     },
     "execution_count": 6,
     "metadata": {},
     "output_type": "execute_result"
    }
   ],
   "source": [
    "i"
   ]
  },
  {
   "cell_type": "markdown",
   "id": "8cb315ee",
   "metadata": {
    "slideshow": {
     "slide_type": "slide"
    }
   },
   "source": [
    "$$\n",
    "\\begin{aligned}\n",
    "\\left[\\begin{matrix}1 & 2 & 0\\\\0 & 0 & 1\\\\0 & 0 & 0\\end{matrix}\\right]\n",
    "\\begin{bmatrix}\n",
    "a \\\\ 1 \\\\ b\n",
    "\\end{bmatrix}\n",
    "&= \\begin{bmatrix}\n",
    "0\\\\0\\\\0\n",
    "\\end{bmatrix}\\\\\n",
    "a + 2 &= 0\\\\\n",
    "b &= 0\\\\\n",
    "a &= -2\\\\\n",
    "\\mathbf y &= \n",
    "\\begin{bmatrix}\n",
    "-2\\\\1\\\\0\n",
    "\\end{bmatrix}\\\\[2em]\n",
    "\\left[\\begin{matrix}1 & 2 & 3\\\\2 & 4 & 3\\\\3 & 6 & 1\\end{matrix}\\right]\n",
    "\\begin{bmatrix}\n",
    "-2\\\\1\\\\0\n",
    "\\end{bmatrix} &= \\begin{bmatrix}\n",
    "0\\\\0\\\\0\n",
    "\\end{bmatrix}\n",
    "\\end{aligned}\n",
    "$$"
   ]
  },
  {
   "cell_type": "markdown",
   "id": "00702fa3",
   "metadata": {
    "slideshow": {
     "slide_type": "slide"
    }
   },
   "source": [
    "### example\n",
    "\n",
    "$$\n",
    "\\begin{aligned}\n",
    "A &= \\left[\\begin{matrix}1 & 2\\\\3 & 8\\end{matrix}\\right]\\\\\n",
    "A\\mathbf x &= \\mathbf 0\n",
    "\\end{aligned}\n",
    "$$\n",
    "\n"
   ]
  },
  {
   "cell_type": "markdown",
   "id": "a81d3329",
   "metadata": {
    "slideshow": {
     "slide_type": "fragment"
    }
   },
   "source": [
    "$$\n",
    "\\left[\\begin{matrix}\n",
    "1 & 2\\\\\n",
    "3 & 8\n",
    "\\end{matrix}\\right]\\\\\n",
    "\\left[\\begin{matrix}\n",
    "1 & 2\\\\\n",
    "0 & 2\n",
    "\\end{matrix}\\right]\\\\\n",
    "\\left[\\begin{matrix}\n",
    "1 & 0\\\\\n",
    "0 & 2\n",
    "\\end{matrix}\\right]\\\\\n",
    "\\left[\\begin{matrix}\n",
    "1 & 0\\\\\n",
    "0 & 1\n",
    "\\end{matrix}\\right]\\\\\n",
    "$$\n",
    "\n",
    "The last matrix contains the *reduced row echelon form* of $A$ (rref($A$). It contains two pivots and now free columns.\n",
    "\n",
    "Hence the only solution is $\\mathbf x = \\mathbf 0.$"
   ]
  },
  {
   "cell_type": "markdown",
   "id": "f60431ac",
   "metadata": {
    "slideshow": {
     "slide_type": "slide"
    }
   },
   "source": [
    "### example\n",
    "\n",
    "$$\n",
    "\\begin{aligned}\n",
    "B &= \\left[\\begin{array}{r}\n",
    "A\\\\\n",
    "2A\n",
    "\\end{array}\\right] \\\\[1em]\n",
    "&= \\left[\\begin{array}{r}1 & 2\\\\3 & 8\\\\2 & 4\\\\6 & 16\\end{array}\\right]\\\\\n",
    "B\\mathbf y &= \\mathbf 0\n",
    "\\end{aligned}\n",
    "$$"
   ]
  },
  {
   "cell_type": "markdown",
   "id": "47903a52",
   "metadata": {
    "slideshow": {
     "slide_type": "slide"
    }
   },
   "source": [
    "$$\n",
    "\\left[\\begin{array}{r}\n",
    "1 & 2\\\\\n",
    "3 & 8\\\\\n",
    "2 & 4\\\\\n",
    "6 & 16\n",
    "\\end{array}\\right]\\\\[2em]\n",
    "\\left[\\begin{array}{r}\n",
    "1 & 2\\\\\n",
    "0 & 2\\\\\n",
    "2 & 4\\\\\n",
    "6 & 16\n",
    "\\end{array}\\right]\\\\[2em]\n",
    "\\left[\\begin{array}{r}\n",
    "1 & 2\\\\\n",
    "0 & 2\\\\\n",
    "0 & 0\\\\\n",
    "6 & 16\n",
    "\\end{array}\\right]\\\\[2em]\n",
    "\\left[\\begin{array}{r}\n",
    "1 & 2\\\\\n",
    "0 & 2\\\\\n",
    "0 & 0\\\\\n",
    "0 & 4\n",
    "\\end{array}\\right]\\\\[2em]\n",
    "\\left[\\begin{array}{r}\n",
    "1 & 2\\\\\n",
    "0 & 2\\\\\n",
    "0 & 0\\\\\n",
    "0 & 0\n",
    "\\end{array}\\right]\\\\[2em]\n",
    "\\left[\\begin{array}{r}\n",
    "1 & 0\\\\\n",
    "0 & 2\\\\\n",
    "0 & 0\\\\\n",
    "0 & 0\n",
    "\\end{array}\\right]\\\\[2em]\n",
    "\\left[\\begin{array}{r}\n",
    "1 & 0\\\\\n",
    "0 & 1\\\\\n",
    "0 & 0\\\\\n",
    "0 & 0\n",
    "\\end{array}\\right]\\\\[2em]\n",
    "$$\n",
    "\n",
    "rref($B$) contains no free columns.\n",
    "\n",
    "Again, the only solution is $\\mathbf 0$"
   ]
  },
  {
   "cell_type": "markdown",
   "id": "29ea8f94",
   "metadata": {
    "slideshow": {
     "slide_type": "slide"
    }
   },
   "source": [
    "### example\n",
    "\n",
    "$$\n",
    "\\begin{aligned}\n",
    "C &= \\begin{bmatrix}\n",
    "A & 2A\n",
    "\\end{bmatrix}\\\\\n",
    "&=\\left[\\begin{matrix}1 & 2 & 2 & 4\\\\3 & 8 & 6 & 16\\end{matrix}\\right]\\\\\n",
    "C\\mathbf z &= 0\n",
    "\\end{aligned}\n",
    "$$"
   ]
  },
  {
   "cell_type": "markdown",
   "id": "a7c932eb",
   "metadata": {
    "slideshow": {
     "slide_type": "fragment"
    }
   },
   "source": [
    "$$\n",
    "\\left[\\begin{matrix}\n",
    "1 & 2 & 2 & 4\\\\\n",
    "3 & 8 & 6 & 16\n",
    "\\end{matrix}\\right]\\\\[1em]\n",
    "\\left[\\begin{matrix}\n",
    "1 & 2 & 2 & 4\\\\\n",
    "0 & 2 & 0 & 4\n",
    "\\end{matrix}\\right]\\\\[1em]\n",
    "\\left[\\begin{matrix}\n",
    "1 & 0 & 2 & 0\\\\\n",
    "0 & 2 & 0 & 4\n",
    "\\end{matrix}\\right]\\\\[1em]\n",
    "\\left[\\begin{matrix}\n",
    "\\mathbf 1 & 0 & 2 & 0\\\\\n",
    "0 & \\mathbf 1 & 0 & 2\n",
    "\\end{matrix}\\right]\\\\[1em]\n",
    "$$\n",
    "\n",
    "The last matrix contains rref($C$). This time we have two free columns, the third and the fourth."
   ]
  },
  {
   "cell_type": "markdown",
   "id": "da56c2e4",
   "metadata": {
    "slideshow": {
     "slide_type": "slide"
    }
   },
   "source": [
    "- special solutions:\n",
    "\n",
    "$$\n",
    "\\begin{aligned}\n",
    "\\mathbf z_1 &= \n",
    "\\begin{bmatrix}\n",
    "a\\\\b\\\\1\\\\0\n",
    "\\end{bmatrix}\\\\\n",
    "\\mathbf z_2 &= \n",
    "\\begin{bmatrix}\n",
    "c\\\\d\\\\0\\\\1\n",
    "\\end{bmatrix}\\\\\n",
    "\\end{aligned}\n",
    "$$"
   ]
  },
  {
   "cell_type": "markdown",
   "id": "2445af68",
   "metadata": {
    "slideshow": {
     "slide_type": "slide"
    }
   },
   "source": [
    "- solving via substitution\n",
    "\n",
    "$$\n",
    "\\begin{aligned}\n",
    "\\mathrm{rref}(C) ~\\mathbf z_1 &= \\mathbf 0\\\\\n",
    "\\left[\\begin{matrix}\n",
    "\\mathbf 1 & 0 & 2 & 0\\\\\n",
    "0 & \\mathbf 1 & 0 & 2\n",
    "\\end{matrix}\\right]\n",
    "\\begin{bmatrix}\n",
    "a\\\\b\\\\1\\\\0\n",
    "\\end{bmatrix} &= \\mathbf 0\\\\\n",
    "a + 2 &= 0\\\\\n",
    "b  &= 0\\\\\n",
    "a &= -2\\\\\n",
    "\\mathbf z_1 &= \\begin{bmatrix}\n",
    "-2\\\\0\\\\1\\\\0\n",
    "\\end{bmatrix}\n",
    "\\end{aligned}\n",
    "$$"
   ]
  },
  {
   "cell_type": "markdown",
   "id": "4b68bd0d",
   "metadata": {
    "slideshow": {
     "slide_type": "slide"
    }
   },
   "source": [
    "- solving via substitution\n",
    "\n",
    "$$\n",
    "\\begin{aligned}\n",
    "\\mathrm{rref}(C) ~\\mathbf z_2 &= \\mathbf 0\\\\\n",
    "\\left[\\begin{matrix}\n",
    "\\mathbf 1 & 0 & 2 & 0\\\\\n",
    "0 & \\mathbf 1 & 0 & 2\n",
    "\\end{matrix}\\right]\n",
    "\\begin{bmatrix}\n",
    "c\\\\d\\\\0\\\\1\n",
    "\\end{bmatrix} &= \\mathbf 0\\\\\n",
    "c  &= 0\\\\\n",
    "d + 2  &= 0\\\\\n",
    "d &= -2\\\\\n",
    "\\mathbf z_2 &= \\begin{bmatrix}\n",
    "0\\\\-2\\\\0\\\\1\n",
    "\\end{bmatrix}\n",
    "\\end{aligned}\n",
    "$$"
   ]
  },
  {
   "cell_type": "markdown",
   "id": "cceb94fd",
   "metadata": {},
   "source": [
    "Any linear combination \n",
    "$$\\mathbf z = \\alpha \\mathbf z_1 + \\beta \\mathbf z_2$$\n",
    "\n",
    "($\\alpha, \\beta$ real numbers) are solutions to \n",
    "\n",
    "$$\n",
    "C\\mathbf z = \\mathbf 0\n",
    "$$"
   ]
  },
  {
   "cell_type": "markdown",
   "id": "1146076d",
   "metadata": {
    "slideshow": {
     "slide_type": "slide"
    }
   },
   "source": [
    "## The complete solution to a system of equations\n",
    "\n",
    "Back to our example from above:\n",
    "\n",
    "$$\n",
    "\\begin{aligned}\n",
    "A & =\n",
    "\\begin{bmatrix}\n",
    "1 & 2& 3\\\\\n",
    "2 & 4 & 3\\\\\n",
    "3 & 6 & 1\n",
    "\\end{bmatrix}\\\\[1em]\n",
    "\\mathbf b &= \\begin{bmatrix} 4\\\\ 5\\\\ 4\\end{bmatrix}\\\\[1em]\n",
    "A\\mathbf x &= \\mathbf b\n",
    "\\end{aligned}\n",
    "$$\n",
    "\n"
   ]
  },
  {
   "cell_type": "markdown",
   "id": "d6fd8afd",
   "metadata": {
    "slideshow": {
     "slide_type": "slide"
    }
   },
   "source": [
    "- first step: apply Gauss-Jordan elimination to the augmented matrix\n",
    "\n",
    "$$\n",
    "\\left[\\begin{array}{rrr|r}\n",
    "1 & 2 & 3 & 4\\\\\n",
    "2 & 4 & 3 & 5\\\\\n",
    "3 & 6 & 1 & 4\n",
    "\\end{array}\\right]\\\\\n",
    "\\left[\\begin{array}{rrr|r}\n",
    "1 & 2 & 3 & 4\\\\\n",
    "0 & 0 & -3 & -3\\\\\n",
    "0 & 0 & -8 & -8\n",
    "\\end{array}\\right]\\\\\n",
    "\\left[\\begin{array}{rrr|r}\n",
    "1 & 2 & 3 & 4\\\\\n",
    "0 & 0 & -3 & -3\\\\\n",
    "0 & 0 & 0 & 0\n",
    "\\end{array}\\right]\\\\\n",
    "\\left[\\begin{array}{rrr|r}\n",
    "1 & 2 & 0 & 1\\\\\n",
    "0 & 0 & -3 & -3\\\\\n",
    "0 & 0 & 0 & 0\n",
    "\\end{array}\\right]\\\\\n",
    "\\left[\\begin{array}{rrr|r}\n",
    "1 & 2 & 0 & 1\\\\\n",
    "0 & 0 & 1 & 1\\\\\n",
    "0 & 0 & 0 & 0\n",
    "\\end{array}\\right]\\\\\n",
    "$$"
   ]
  },
  {
   "cell_type": "markdown",
   "id": "527b8d96",
   "metadata": {
    "slideshow": {
     "slide_type": "slide"
    }
   },
   "source": [
    "- second step: find canonical solution by setting the slots corresponding to the free columns to 0 and solving via substitution\n",
    "\n",
    "$$\n",
    "\\mathbf x_c = \\begin{bmatrix}1\\\\0\\\\1\\end{bmatrix}\n",
    "$$"
   ]
  },
  {
   "cell_type": "markdown",
   "id": "9a9df94d",
   "metadata": {
    "slideshow": {
     "slide_type": "fragment"
    }
   },
   "source": [
    "- third step: find the null space of $A$\n",
    "\n",
    "$$\n",
    "\\mathbf x_0 = \\begin{bmatrix}-2\\\\1\\\\0\\end{bmatrix}\n",
    "$$"
   ]
  },
  {
   "cell_type": "markdown",
   "id": "8b3eae02",
   "metadata": {
    "slideshow": {
     "slide_type": "fragment"
    }
   },
   "source": [
    "The complete solution is the set of vectors $$\\mathbf x_c + \\alpha~\\mathbf x_0,$$ for any real number $\\alpha$."
   ]
  },
  {
   "cell_type": "markdown",
   "id": "35a96387",
   "metadata": {
    "slideshow": {
     "slide_type": "slide"
    }
   },
   "source": [
    "## Rank of a matrix\n",
    "\n",
    "Geometrically speaking, the **rank** of a matrix is the number of dimensions covered by its column space.\n",
    "\n"
   ]
  },
  {
   "cell_type": "markdown",
   "id": "ed8dd959",
   "metadata": {
    "slideshow": {
     "slide_type": "-"
    }
   },
   "source": [
    "## examples of an invertable and a non-invertable matrix in 3d\n",
    "\n",
    "$$\n",
    "\\begin{aligned}\n",
    "A &= \n",
    "\\begin{bmatrix}\n",
    "1 & -4 & 2\\\\\n",
    "-2 & 1 & 3\\\\\n",
    "2 & 6 & 8\n",
    "\\end{bmatrix}\\\\[1em]\n",
    "A^{-1} &=\n",
    "\\begin{bmatrix}\n",
    "\\frac{5}{63} & - \\frac{22}{63} & \\frac{1}{9}\\\\- \\frac{11}{63} & - \\frac{2}{63} & \\frac{1}{18}\\\\\\frac{1}{9} & \\frac{1}{9} & \\frac{1}{18}\n",
    "\\end{bmatrix}\\\\[1em]\n",
    "B &= \n",
    "\\begin{bmatrix}\n",
    "1 & -4 & 2\\\\\n",
    "-2 & 1 & 3\\\\\n",
    "2 & 6 & -10\n",
    "\\end{bmatrix}\\\\[1em]\n",
    "& \\mbox{ is undefined}\n",
    "\\end{aligned}\n",
    "$$"
   ]
  },
  {
   "cell_type": "code",
   "execution_count": 7,
   "id": "7359a99e",
   "metadata": {
    "hide_input": true,
    "slideshow": {
     "slide_type": "slide"
    }
   },
   "outputs": [
    {
     "data": {
      "application/javascript": "/* Put everything inside the global mpl namespace */\n/* global mpl */\nwindow.mpl = {};\n\nmpl.get_websocket_type = function () {\n    if (typeof WebSocket !== 'undefined') {\n        return WebSocket;\n    } else if (typeof MozWebSocket !== 'undefined') {\n        return MozWebSocket;\n    } else {\n        alert(\n            'Your browser does not have WebSocket support. ' +\n                'Please try Chrome, Safari or Firefox ≥ 6. ' +\n                'Firefox 4 and 5 are also supported but you ' +\n                'have to enable WebSockets in about:config.'\n        );\n    }\n};\n\nmpl.figure = function (figure_id, websocket, ondownload, parent_element) {\n    this.id = figure_id;\n\n    this.ws = websocket;\n\n    this.supports_binary = this.ws.binaryType !== undefined;\n\n    if (!this.supports_binary) {\n        var warnings = document.getElementById('mpl-warnings');\n        if (warnings) {\n            warnings.style.display = 'block';\n            warnings.textContent =\n                'This browser does not support binary websocket messages. ' +\n                'Performance may be slow.';\n        }\n    }\n\n    this.imageObj = new Image();\n\n    this.context = undefined;\n    this.message = undefined;\n    this.canvas = undefined;\n    this.rubberband_canvas = undefined;\n    this.rubberband_context = undefined;\n    this.format_dropdown = undefined;\n\n    this.image_mode = 'full';\n\n    this.root = document.createElement('div');\n    this.root.setAttribute('style', 'display: inline-block');\n    this._root_extra_style(this.root);\n\n    parent_element.appendChild(this.root);\n\n    this._init_header(this);\n    this._init_canvas(this);\n    this._init_toolbar(this);\n\n    var fig = this;\n\n    this.waiting = false;\n\n    this.ws.onopen = function () {\n        fig.send_message('supports_binary', { value: fig.supports_binary });\n        fig.send_message('send_image_mode', {});\n        if (fig.ratio !== 1) {\n            fig.send_message('set_device_pixel_ratio', {\n                device_pixel_ratio: fig.ratio,\n            });\n        }\n        fig.send_message('refresh', {});\n    };\n\n    this.imageObj.onload = function () {\n        if (fig.image_mode === 'full') {\n            // Full images could contain transparency (where diff images\n            // almost always do), so we need to clear the canvas so that\n            // there is no ghosting.\n            fig.context.clearRect(0, 0, fig.canvas.width, fig.canvas.height);\n        }\n        fig.context.drawImage(fig.imageObj, 0, 0);\n    };\n\n    this.imageObj.onunload = function () {\n        fig.ws.close();\n    };\n\n    this.ws.onmessage = this._make_on_message_function(this);\n\n    this.ondownload = ondownload;\n};\n\nmpl.figure.prototype._init_header = function () {\n    var titlebar = document.createElement('div');\n    titlebar.classList =\n        'ui-dialog-titlebar ui-widget-header ui-corner-all ui-helper-clearfix';\n    var titletext = document.createElement('div');\n    titletext.classList = 'ui-dialog-title';\n    titletext.setAttribute(\n        'style',\n        'width: 100%; text-align: center; padding: 3px;'\n    );\n    titlebar.appendChild(titletext);\n    this.root.appendChild(titlebar);\n    this.header = titletext;\n};\n\nmpl.figure.prototype._canvas_extra_style = function (_canvas_div) {};\n\nmpl.figure.prototype._root_extra_style = function (_canvas_div) {};\n\nmpl.figure.prototype._init_canvas = function () {\n    var fig = this;\n\n    var canvas_div = (this.canvas_div = document.createElement('div'));\n    canvas_div.setAttribute(\n        'style',\n        'border: 1px solid #ddd;' +\n            'box-sizing: content-box;' +\n            'clear: both;' +\n            'min-height: 1px;' +\n            'min-width: 1px;' +\n            'outline: 0;' +\n            'overflow: hidden;' +\n            'position: relative;' +\n            'resize: both;'\n    );\n\n    function on_keyboard_event_closure(name) {\n        return function (event) {\n            return fig.key_event(event, name);\n        };\n    }\n\n    canvas_div.addEventListener(\n        'keydown',\n        on_keyboard_event_closure('key_press')\n    );\n    canvas_div.addEventListener(\n        'keyup',\n        on_keyboard_event_closure('key_release')\n    );\n\n    this._canvas_extra_style(canvas_div);\n    this.root.appendChild(canvas_div);\n\n    var canvas = (this.canvas = document.createElement('canvas'));\n    canvas.classList.add('mpl-canvas');\n    canvas.setAttribute('style', 'box-sizing: content-box;');\n\n    this.context = canvas.getContext('2d');\n\n    var backingStore =\n        this.context.backingStorePixelRatio ||\n        this.context.webkitBackingStorePixelRatio ||\n        this.context.mozBackingStorePixelRatio ||\n        this.context.msBackingStorePixelRatio ||\n        this.context.oBackingStorePixelRatio ||\n        this.context.backingStorePixelRatio ||\n        1;\n\n    this.ratio = (window.devicePixelRatio || 1) / backingStore;\n\n    var rubberband_canvas = (this.rubberband_canvas = document.createElement(\n        'canvas'\n    ));\n    rubberband_canvas.setAttribute(\n        'style',\n        'box-sizing: content-box; position: absolute; left: 0; top: 0; z-index: 1;'\n    );\n\n    // Apply a ponyfill if ResizeObserver is not implemented by browser.\n    if (this.ResizeObserver === undefined) {\n        if (window.ResizeObserver !== undefined) {\n            this.ResizeObserver = window.ResizeObserver;\n        } else {\n            var obs = _JSXTOOLS_RESIZE_OBSERVER({});\n            this.ResizeObserver = obs.ResizeObserver;\n        }\n    }\n\n    this.resizeObserverInstance = new this.ResizeObserver(function (entries) {\n        var nentries = entries.length;\n        for (var i = 0; i < nentries; i++) {\n            var entry = entries[i];\n            var width, height;\n            if (entry.contentBoxSize) {\n                if (entry.contentBoxSize instanceof Array) {\n                    // Chrome 84 implements new version of spec.\n                    width = entry.contentBoxSize[0].inlineSize;\n                    height = entry.contentBoxSize[0].blockSize;\n                } else {\n                    // Firefox implements old version of spec.\n                    width = entry.contentBoxSize.inlineSize;\n                    height = entry.contentBoxSize.blockSize;\n                }\n            } else {\n                // Chrome <84 implements even older version of spec.\n                width = entry.contentRect.width;\n                height = entry.contentRect.height;\n            }\n\n            // Keep the size of the canvas and rubber band canvas in sync with\n            // the canvas container.\n            if (entry.devicePixelContentBoxSize) {\n                // Chrome 84 implements new version of spec.\n                canvas.setAttribute(\n                    'width',\n                    entry.devicePixelContentBoxSize[0].inlineSize\n                );\n                canvas.setAttribute(\n                    'height',\n                    entry.devicePixelContentBoxSize[0].blockSize\n                );\n            } else {\n                canvas.setAttribute('width', width * fig.ratio);\n                canvas.setAttribute('height', height * fig.ratio);\n            }\n            canvas.setAttribute(\n                'style',\n                'width: ' + width + 'px; height: ' + height + 'px;'\n            );\n\n            rubberband_canvas.setAttribute('width', width);\n            rubberband_canvas.setAttribute('height', height);\n\n            // And update the size in Python. We ignore the initial 0/0 size\n            // that occurs as the element is placed into the DOM, which should\n            // otherwise not happen due to the minimum size styling.\n            if (fig.ws.readyState == 1 && width != 0 && height != 0) {\n                fig.request_resize(width, height);\n            }\n        }\n    });\n    this.resizeObserverInstance.observe(canvas_div);\n\n    function on_mouse_event_closure(name) {\n        return function (event) {\n            return fig.mouse_event(event, name);\n        };\n    }\n\n    rubberband_canvas.addEventListener(\n        'mousedown',\n        on_mouse_event_closure('button_press')\n    );\n    rubberband_canvas.addEventListener(\n        'mouseup',\n        on_mouse_event_closure('button_release')\n    );\n    rubberband_canvas.addEventListener(\n        'dblclick',\n        on_mouse_event_closure('dblclick')\n    );\n    // Throttle sequential mouse events to 1 every 20ms.\n    rubberband_canvas.addEventListener(\n        'mousemove',\n        on_mouse_event_closure('motion_notify')\n    );\n\n    rubberband_canvas.addEventListener(\n        'mouseenter',\n        on_mouse_event_closure('figure_enter')\n    );\n    rubberband_canvas.addEventListener(\n        'mouseleave',\n        on_mouse_event_closure('figure_leave')\n    );\n\n    canvas_div.addEventListener('wheel', function (event) {\n        if (event.deltaY < 0) {\n            event.step = 1;\n        } else {\n            event.step = -1;\n        }\n        on_mouse_event_closure('scroll')(event);\n    });\n\n    canvas_div.appendChild(canvas);\n    canvas_div.appendChild(rubberband_canvas);\n\n    this.rubberband_context = rubberband_canvas.getContext('2d');\n    this.rubberband_context.strokeStyle = '#000000';\n\n    this._resize_canvas = function (width, height, forward) {\n        if (forward) {\n            canvas_div.style.width = width + 'px';\n            canvas_div.style.height = height + 'px';\n        }\n    };\n\n    // Disable right mouse context menu.\n    this.rubberband_canvas.addEventListener('contextmenu', function (_e) {\n        event.preventDefault();\n        return false;\n    });\n\n    function set_focus() {\n        canvas.focus();\n        canvas_div.focus();\n    }\n\n    window.setTimeout(set_focus, 100);\n};\n\nmpl.figure.prototype._init_toolbar = function () {\n    var fig = this;\n\n    var toolbar = document.createElement('div');\n    toolbar.classList = 'mpl-toolbar';\n    this.root.appendChild(toolbar);\n\n    function on_click_closure(name) {\n        return function (_event) {\n            return fig.toolbar_button_onclick(name);\n        };\n    }\n\n    function on_mouseover_closure(tooltip) {\n        return function (event) {\n            if (!event.currentTarget.disabled) {\n                return fig.toolbar_button_onmouseover(tooltip);\n            }\n        };\n    }\n\n    fig.buttons = {};\n    var buttonGroup = document.createElement('div');\n    buttonGroup.classList = 'mpl-button-group';\n    for (var toolbar_ind in mpl.toolbar_items) {\n        var name = mpl.toolbar_items[toolbar_ind][0];\n        var tooltip = mpl.toolbar_items[toolbar_ind][1];\n        var image = mpl.toolbar_items[toolbar_ind][2];\n        var method_name = mpl.toolbar_items[toolbar_ind][3];\n\n        if (!name) {\n            /* Instead of a spacer, we start a new button group. */\n            if (buttonGroup.hasChildNodes()) {\n                toolbar.appendChild(buttonGroup);\n            }\n            buttonGroup = document.createElement('div');\n            buttonGroup.classList = 'mpl-button-group';\n            continue;\n        }\n\n        var button = (fig.buttons[name] = document.createElement('button'));\n        button.classList = 'mpl-widget';\n        button.setAttribute('role', 'button');\n        button.setAttribute('aria-disabled', 'false');\n        button.addEventListener('click', on_click_closure(method_name));\n        button.addEventListener('mouseover', on_mouseover_closure(tooltip));\n\n        var icon_img = document.createElement('img');\n        icon_img.src = '_images/' + image + '.png';\n        icon_img.srcset = '_images/' + image + '_large.png 2x';\n        icon_img.alt = tooltip;\n        button.appendChild(icon_img);\n\n        buttonGroup.appendChild(button);\n    }\n\n    if (buttonGroup.hasChildNodes()) {\n        toolbar.appendChild(buttonGroup);\n    }\n\n    var fmt_picker = document.createElement('select');\n    fmt_picker.classList = 'mpl-widget';\n    toolbar.appendChild(fmt_picker);\n    this.format_dropdown = fmt_picker;\n\n    for (var ind in mpl.extensions) {\n        var fmt = mpl.extensions[ind];\n        var option = document.createElement('option');\n        option.selected = fmt === mpl.default_extension;\n        option.innerHTML = fmt;\n        fmt_picker.appendChild(option);\n    }\n\n    var status_bar = document.createElement('span');\n    status_bar.classList = 'mpl-message';\n    toolbar.appendChild(status_bar);\n    this.message = status_bar;\n};\n\nmpl.figure.prototype.request_resize = function (x_pixels, y_pixels) {\n    // Request matplotlib to resize the figure. Matplotlib will then trigger a resize in the client,\n    // which will in turn request a refresh of the image.\n    this.send_message('resize', { width: x_pixels, height: y_pixels });\n};\n\nmpl.figure.prototype.send_message = function (type, properties) {\n    properties['type'] = type;\n    properties['figure_id'] = this.id;\n    this.ws.send(JSON.stringify(properties));\n};\n\nmpl.figure.prototype.send_draw_message = function () {\n    if (!this.waiting) {\n        this.waiting = true;\n        this.ws.send(JSON.stringify({ type: 'draw', figure_id: this.id }));\n    }\n};\n\nmpl.figure.prototype.handle_save = function (fig, _msg) {\n    var format_dropdown = fig.format_dropdown;\n    var format = format_dropdown.options[format_dropdown.selectedIndex].value;\n    fig.ondownload(fig, format);\n};\n\nmpl.figure.prototype.handle_resize = function (fig, msg) {\n    var size = msg['size'];\n    if (size[0] !== fig.canvas.width || size[1] !== fig.canvas.height) {\n        fig._resize_canvas(size[0], size[1], msg['forward']);\n        fig.send_message('refresh', {});\n    }\n};\n\nmpl.figure.prototype.handle_rubberband = function (fig, msg) {\n    var x0 = msg['x0'] / fig.ratio;\n    var y0 = (fig.canvas.height - msg['y0']) / fig.ratio;\n    var x1 = msg['x1'] / fig.ratio;\n    var y1 = (fig.canvas.height - msg['y1']) / fig.ratio;\n    x0 = Math.floor(x0) + 0.5;\n    y0 = Math.floor(y0) + 0.5;\n    x1 = Math.floor(x1) + 0.5;\n    y1 = Math.floor(y1) + 0.5;\n    var min_x = Math.min(x0, x1);\n    var min_y = Math.min(y0, y1);\n    var width = Math.abs(x1 - x0);\n    var height = Math.abs(y1 - y0);\n\n    fig.rubberband_context.clearRect(\n        0,\n        0,\n        fig.canvas.width / fig.ratio,\n        fig.canvas.height / fig.ratio\n    );\n\n    fig.rubberband_context.strokeRect(min_x, min_y, width, height);\n};\n\nmpl.figure.prototype.handle_figure_label = function (fig, msg) {\n    // Updates the figure title.\n    fig.header.textContent = msg['label'];\n};\n\nmpl.figure.prototype.handle_cursor = function (fig, msg) {\n    fig.rubberband_canvas.style.cursor = msg['cursor'];\n};\n\nmpl.figure.prototype.handle_message = function (fig, msg) {\n    fig.message.textContent = msg['message'];\n};\n\nmpl.figure.prototype.handle_draw = function (fig, _msg) {\n    // Request the server to send over a new figure.\n    fig.send_draw_message();\n};\n\nmpl.figure.prototype.handle_image_mode = function (fig, msg) {\n    fig.image_mode = msg['mode'];\n};\n\nmpl.figure.prototype.handle_history_buttons = function (fig, msg) {\n    for (var key in msg) {\n        if (!(key in fig.buttons)) {\n            continue;\n        }\n        fig.buttons[key].disabled = !msg[key];\n        fig.buttons[key].setAttribute('aria-disabled', !msg[key]);\n    }\n};\n\nmpl.figure.prototype.handle_navigate_mode = function (fig, msg) {\n    if (msg['mode'] === 'PAN') {\n        fig.buttons['Pan'].classList.add('active');\n        fig.buttons['Zoom'].classList.remove('active');\n    } else if (msg['mode'] === 'ZOOM') {\n        fig.buttons['Pan'].classList.remove('active');\n        fig.buttons['Zoom'].classList.add('active');\n    } else {\n        fig.buttons['Pan'].classList.remove('active');\n        fig.buttons['Zoom'].classList.remove('active');\n    }\n};\n\nmpl.figure.prototype.updated_canvas_event = function () {\n    // Called whenever the canvas gets updated.\n    this.send_message('ack', {});\n};\n\n// A function to construct a web socket function for onmessage handling.\n// Called in the figure constructor.\nmpl.figure.prototype._make_on_message_function = function (fig) {\n    return function socket_on_message(evt) {\n        if (evt.data instanceof Blob) {\n            var img = evt.data;\n            if (img.type !== 'image/png') {\n                /* FIXME: We get \"Resource interpreted as Image but\n                 * transferred with MIME type text/plain:\" errors on\n                 * Chrome.  But how to set the MIME type?  It doesn't seem\n                 * to be part of the websocket stream */\n                img.type = 'image/png';\n            }\n\n            /* Free the memory for the previous frames */\n            if (fig.imageObj.src) {\n                (window.URL || window.webkitURL).revokeObjectURL(\n                    fig.imageObj.src\n                );\n            }\n\n            fig.imageObj.src = (window.URL || window.webkitURL).createObjectURL(\n                img\n            );\n            fig.updated_canvas_event();\n            fig.waiting = false;\n            return;\n        } else if (\n            typeof evt.data === 'string' &&\n            evt.data.slice(0, 21) === 'data:image/png;base64'\n        ) {\n            fig.imageObj.src = evt.data;\n            fig.updated_canvas_event();\n            fig.waiting = false;\n            return;\n        }\n\n        var msg = JSON.parse(evt.data);\n        var msg_type = msg['type'];\n\n        // Call the  \"handle_{type}\" callback, which takes\n        // the figure and JSON message as its only arguments.\n        try {\n            var callback = fig['handle_' + msg_type];\n        } catch (e) {\n            console.log(\n                \"No handler for the '\" + msg_type + \"' message type: \",\n                msg\n            );\n            return;\n        }\n\n        if (callback) {\n            try {\n                // console.log(\"Handling '\" + msg_type + \"' message: \", msg);\n                callback(fig, msg);\n            } catch (e) {\n                console.log(\n                    \"Exception inside the 'handler_\" + msg_type + \"' callback:\",\n                    e,\n                    e.stack,\n                    msg\n                );\n            }\n        }\n    };\n};\n\n// from https://stackoverflow.com/questions/1114465/getting-mouse-location-in-canvas\nmpl.findpos = function (e) {\n    //this section is from http://www.quirksmode.org/js/events_properties.html\n    var targ;\n    if (!e) {\n        e = window.event;\n    }\n    if (e.target) {\n        targ = e.target;\n    } else if (e.srcElement) {\n        targ = e.srcElement;\n    }\n    if (targ.nodeType === 3) {\n        // defeat Safari bug\n        targ = targ.parentNode;\n    }\n\n    // pageX,Y are the mouse positions relative to the document\n    var boundingRect = targ.getBoundingClientRect();\n    var x = e.pageX - (boundingRect.left + document.body.scrollLeft);\n    var y = e.pageY - (boundingRect.top + document.body.scrollTop);\n\n    return { x: x, y: y };\n};\n\n/*\n * return a copy of an object with only non-object keys\n * we need this to avoid circular references\n * https://stackoverflow.com/a/24161582/3208463\n */\nfunction simpleKeys(original) {\n    return Object.keys(original).reduce(function (obj, key) {\n        if (typeof original[key] !== 'object') {\n            obj[key] = original[key];\n        }\n        return obj;\n    }, {});\n}\n\nmpl.figure.prototype.mouse_event = function (event, name) {\n    var canvas_pos = mpl.findpos(event);\n\n    if (name === 'button_press') {\n        this.canvas.focus();\n        this.canvas_div.focus();\n    }\n\n    var x = canvas_pos.x * this.ratio;\n    var y = canvas_pos.y * this.ratio;\n\n    this.send_message(name, {\n        x: x,\n        y: y,\n        button: event.button,\n        step: event.step,\n        guiEvent: simpleKeys(event),\n    });\n\n    /* This prevents the web browser from automatically changing to\n     * the text insertion cursor when the button is pressed.  We want\n     * to control all of the cursor setting manually through the\n     * 'cursor' event from matplotlib */\n    event.preventDefault();\n    return false;\n};\n\nmpl.figure.prototype._key_event_extra = function (_event, _name) {\n    // Handle any extra behaviour associated with a key event\n};\n\nmpl.figure.prototype.key_event = function (event, name) {\n    // Prevent repeat events\n    if (name === 'key_press') {\n        if (event.key === this._key) {\n            return;\n        } else {\n            this._key = event.key;\n        }\n    }\n    if (name === 'key_release') {\n        this._key = null;\n    }\n\n    var value = '';\n    if (event.ctrlKey && event.key !== 'Control') {\n        value += 'ctrl+';\n    }\n    else if (event.altKey && event.key !== 'Alt') {\n        value += 'alt+';\n    }\n    else if (event.shiftKey && event.key !== 'Shift') {\n        value += 'shift+';\n    }\n\n    value += 'k' + event.key;\n\n    this._key_event_extra(event, name);\n\n    this.send_message(name, { key: value, guiEvent: simpleKeys(event) });\n    return false;\n};\n\nmpl.figure.prototype.toolbar_button_onclick = function (name) {\n    if (name === 'download') {\n        this.handle_save(this, null);\n    } else {\n        this.send_message('toolbar_button', { name: name });\n    }\n};\n\nmpl.figure.prototype.toolbar_button_onmouseover = function (tooltip) {\n    this.message.textContent = tooltip;\n};\n\n///////////////// REMAINING CONTENT GENERATED BY embed_js.py /////////////////\n// prettier-ignore\nvar _JSXTOOLS_RESIZE_OBSERVER=function(A){var t,i=new WeakMap,n=new WeakMap,a=new WeakMap,r=new WeakMap,o=new Set;function s(e){if(!(this instanceof s))throw new TypeError(\"Constructor requires 'new' operator\");i.set(this,e)}function h(){throw new TypeError(\"Function is not a constructor\")}function c(e,t,i,n){e=0 in arguments?Number(arguments[0]):0,t=1 in arguments?Number(arguments[1]):0,i=2 in arguments?Number(arguments[2]):0,n=3 in arguments?Number(arguments[3]):0,this.right=(this.x=this.left=e)+(this.width=i),this.bottom=(this.y=this.top=t)+(this.height=n),Object.freeze(this)}function d(){t=requestAnimationFrame(d);var s=new WeakMap,p=new Set;o.forEach((function(t){r.get(t).forEach((function(i){var r=t instanceof window.SVGElement,o=a.get(t),d=r?0:parseFloat(o.paddingTop),f=r?0:parseFloat(o.paddingRight),l=r?0:parseFloat(o.paddingBottom),u=r?0:parseFloat(o.paddingLeft),g=r?0:parseFloat(o.borderTopWidth),m=r?0:parseFloat(o.borderRightWidth),w=r?0:parseFloat(o.borderBottomWidth),b=u+f,F=d+l,v=(r?0:parseFloat(o.borderLeftWidth))+m,W=g+w,y=r?0:t.offsetHeight-W-t.clientHeight,E=r?0:t.offsetWidth-v-t.clientWidth,R=b+v,z=F+W,M=r?t.width:parseFloat(o.width)-R-E,O=r?t.height:parseFloat(o.height)-z-y;if(n.has(t)){var k=n.get(t);if(k[0]===M&&k[1]===O)return}n.set(t,[M,O]);var S=Object.create(h.prototype);S.target=t,S.contentRect=new c(u,d,M,O),s.has(i)||(s.set(i,[]),p.add(i)),s.get(i).push(S)}))})),p.forEach((function(e){i.get(e).call(e,s.get(e),e)}))}return s.prototype.observe=function(i){if(i instanceof window.Element){r.has(i)||(r.set(i,new Set),o.add(i),a.set(i,window.getComputedStyle(i)));var n=r.get(i);n.has(this)||n.add(this),cancelAnimationFrame(t),t=requestAnimationFrame(d)}},s.prototype.unobserve=function(i){if(i instanceof window.Element&&r.has(i)){var n=r.get(i);n.has(this)&&(n.delete(this),n.size||(r.delete(i),o.delete(i))),n.size||r.delete(i),o.size||cancelAnimationFrame(t)}},A.DOMRectReadOnly=c,A.ResizeObserver=s,A.ResizeObserverEntry=h,A}; // eslint-disable-line\nmpl.toolbar_items = [[\"Home\", \"Reset original view\", \"fa fa-home icon-home\", \"home\"], [\"Back\", \"Back to previous view\", \"fa fa-arrow-left icon-arrow-left\", \"back\"], [\"Forward\", \"Forward to next view\", \"fa fa-arrow-right icon-arrow-right\", \"forward\"], [\"\", \"\", \"\", \"\"], [\"Pan\", \"Left button pans, Right button zooms\\nx/y fixes axis, CTRL fixes aspect\", \"fa fa-arrows icon-move\", \"pan\"], [\"Zoom\", \"Zoom to rectangle\\nx/y fixes axis\", \"fa fa-square-o icon-check-empty\", \"zoom\"], [\"\", \"\", \"\", \"\"], [\"Download\", \"Download plot\", \"fa fa-floppy-o icon-save\", \"download\"]];\n\nmpl.extensions = [\"eps\", \"jpeg\", \"pgf\", \"pdf\", \"png\", \"ps\", \"raw\", \"svg\", \"tif\"];\n\nmpl.default_extension = \"png\";/* global mpl */\n\nvar comm_websocket_adapter = function (comm) {\n    // Create a \"websocket\"-like object which calls the given IPython comm\n    // object with the appropriate methods. Currently this is a non binary\n    // socket, so there is still some room for performance tuning.\n    var ws = {};\n\n    ws.binaryType = comm.kernel.ws.binaryType;\n    ws.readyState = comm.kernel.ws.readyState;\n    function updateReadyState(_event) {\n        if (comm.kernel.ws) {\n            ws.readyState = comm.kernel.ws.readyState;\n        } else {\n            ws.readyState = 3; // Closed state.\n        }\n    }\n    comm.kernel.ws.addEventListener('open', updateReadyState);\n    comm.kernel.ws.addEventListener('close', updateReadyState);\n    comm.kernel.ws.addEventListener('error', updateReadyState);\n\n    ws.close = function () {\n        comm.close();\n    };\n    ws.send = function (m) {\n        //console.log('sending', m);\n        comm.send(m);\n    };\n    // Register the callback with on_msg.\n    comm.on_msg(function (msg) {\n        //console.log('receiving', msg['content']['data'], msg);\n        var data = msg['content']['data'];\n        if (data['blob'] !== undefined) {\n            data = {\n                data: new Blob(msg['buffers'], { type: data['blob'] }),\n            };\n        }\n        // Pass the mpl event to the overridden (by mpl) onmessage function.\n        ws.onmessage(data);\n    });\n    return ws;\n};\n\nmpl.mpl_figure_comm = function (comm, msg) {\n    // This is the function which gets called when the mpl process\n    // starts-up an IPython Comm through the \"matplotlib\" channel.\n\n    var id = msg.content.data.id;\n    // Get hold of the div created by the display call when the Comm\n    // socket was opened in Python.\n    var element = document.getElementById(id);\n    var ws_proxy = comm_websocket_adapter(comm);\n\n    function ondownload(figure, _format) {\n        window.open(figure.canvas.toDataURL());\n    }\n\n    var fig = new mpl.figure(id, ws_proxy, ondownload, element);\n\n    // Call onopen now - mpl needs it, as it is assuming we've passed it a real\n    // web socket which is closed, not our websocket->open comm proxy.\n    ws_proxy.onopen();\n\n    fig.parent_element = element;\n    fig.cell_info = mpl.find_output_cell(\"<div id='\" + id + \"'></div>\");\n    if (!fig.cell_info) {\n        console.error('Failed to find cell for figure', id, fig);\n        return;\n    }\n    fig.cell_info[0].output_area.element.on(\n        'cleared',\n        { fig: fig },\n        fig._remove_fig_handler\n    );\n};\n\nmpl.figure.prototype.handle_close = function (fig, msg) {\n    var width = fig.canvas.width / fig.ratio;\n    fig.cell_info[0].output_area.element.off(\n        'cleared',\n        fig._remove_fig_handler\n    );\n    fig.resizeObserverInstance.unobserve(fig.canvas_div);\n\n    // Update the output cell to use the data from the current canvas.\n    fig.push_to_output();\n    var dataURL = fig.canvas.toDataURL();\n    // Re-enable the keyboard manager in IPython - without this line, in FF,\n    // the notebook keyboard shortcuts fail.\n    IPython.keyboard_manager.enable();\n    fig.parent_element.innerHTML =\n        '<img src=\"' + dataURL + '\" width=\"' + width + '\">';\n    fig.close_ws(fig, msg);\n};\n\nmpl.figure.prototype.close_ws = function (fig, msg) {\n    fig.send_message('closing', msg);\n    // fig.ws.close()\n};\n\nmpl.figure.prototype.push_to_output = function (_remove_interactive) {\n    // Turn the data on the canvas into data in the output cell.\n    var width = this.canvas.width / this.ratio;\n    var dataURL = this.canvas.toDataURL();\n    this.cell_info[1]['text/html'] =\n        '<img src=\"' + dataURL + '\" width=\"' + width + '\">';\n};\n\nmpl.figure.prototype.updated_canvas_event = function () {\n    // Tell IPython that the notebook contents must change.\n    IPython.notebook.set_dirty(true);\n    this.send_message('ack', {});\n    var fig = this;\n    // Wait a second, then push the new image to the DOM so\n    // that it is saved nicely (might be nice to debounce this).\n    setTimeout(function () {\n        fig.push_to_output();\n    }, 1000);\n};\n\nmpl.figure.prototype._init_toolbar = function () {\n    var fig = this;\n\n    var toolbar = document.createElement('div');\n    toolbar.classList = 'btn-toolbar';\n    this.root.appendChild(toolbar);\n\n    function on_click_closure(name) {\n        return function (_event) {\n            return fig.toolbar_button_onclick(name);\n        };\n    }\n\n    function on_mouseover_closure(tooltip) {\n        return function (event) {\n            if (!event.currentTarget.disabled) {\n                return fig.toolbar_button_onmouseover(tooltip);\n            }\n        };\n    }\n\n    fig.buttons = {};\n    var buttonGroup = document.createElement('div');\n    buttonGroup.classList = 'btn-group';\n    var button;\n    for (var toolbar_ind in mpl.toolbar_items) {\n        var name = mpl.toolbar_items[toolbar_ind][0];\n        var tooltip = mpl.toolbar_items[toolbar_ind][1];\n        var image = mpl.toolbar_items[toolbar_ind][2];\n        var method_name = mpl.toolbar_items[toolbar_ind][3];\n\n        if (!name) {\n            /* Instead of a spacer, we start a new button group. */\n            if (buttonGroup.hasChildNodes()) {\n                toolbar.appendChild(buttonGroup);\n            }\n            buttonGroup = document.createElement('div');\n            buttonGroup.classList = 'btn-group';\n            continue;\n        }\n\n        button = fig.buttons[name] = document.createElement('button');\n        button.classList = 'btn btn-default';\n        button.href = '#';\n        button.title = name;\n        button.innerHTML = '<i class=\"fa ' + image + ' fa-lg\"></i>';\n        button.addEventListener('click', on_click_closure(method_name));\n        button.addEventListener('mouseover', on_mouseover_closure(tooltip));\n        buttonGroup.appendChild(button);\n    }\n\n    if (buttonGroup.hasChildNodes()) {\n        toolbar.appendChild(buttonGroup);\n    }\n\n    // Add the status bar.\n    var status_bar = document.createElement('span');\n    status_bar.classList = 'mpl-message pull-right';\n    toolbar.appendChild(status_bar);\n    this.message = status_bar;\n\n    // Add the close button to the window.\n    var buttongrp = document.createElement('div');\n    buttongrp.classList = 'btn-group inline pull-right';\n    button = document.createElement('button');\n    button.classList = 'btn btn-mini btn-primary';\n    button.href = '#';\n    button.title = 'Stop Interaction';\n    button.innerHTML = '<i class=\"fa fa-power-off icon-remove icon-large\"></i>';\n    button.addEventListener('click', function (_evt) {\n        fig.handle_close(fig, {});\n    });\n    button.addEventListener(\n        'mouseover',\n        on_mouseover_closure('Stop Interaction')\n    );\n    buttongrp.appendChild(button);\n    var titlebar = this.root.querySelector('.ui-dialog-titlebar');\n    titlebar.insertBefore(buttongrp, titlebar.firstChild);\n};\n\nmpl.figure.prototype._remove_fig_handler = function (event) {\n    var fig = event.data.fig;\n    if (event.target !== this) {\n        // Ignore bubbled events from children.\n        return;\n    }\n    fig.close_ws(fig, {});\n};\n\nmpl.figure.prototype._root_extra_style = function (el) {\n    el.style.boxSizing = 'content-box'; // override notebook setting of border-box.\n};\n\nmpl.figure.prototype._canvas_extra_style = function (el) {\n    // this is important to make the div 'focusable\n    el.setAttribute('tabindex', 0);\n    // reach out to IPython and tell the keyboard manager to turn it's self\n    // off when our div gets focus\n\n    // location in version 3\n    if (IPython.notebook.keyboard_manager) {\n        IPython.notebook.keyboard_manager.register_events(el);\n    } else {\n        // location in version 2\n        IPython.keyboard_manager.register_events(el);\n    }\n};\n\nmpl.figure.prototype._key_event_extra = function (event, _name) {\n    // Check for shift+enter\n    if (event.shiftKey && event.which === 13) {\n        this.canvas_div.blur();\n        // select the cell after this one\n        var index = IPython.notebook.find_cell_index(this.cell_info[0]);\n        IPython.notebook.select(index + 1);\n    }\n};\n\nmpl.figure.prototype.handle_save = function (fig, _msg) {\n    fig.ondownload(fig, null);\n};\n\nmpl.find_output_cell = function (html_output) {\n    // Return the cell and output element which can be found *uniquely* in the notebook.\n    // Note - this is a bit hacky, but it is done because the \"notebook_saving.Notebook\"\n    // IPython event is triggered only after the cells have been serialised, which for\n    // our purposes (turning an active figure into a static one), is too late.\n    var cells = IPython.notebook.get_cells();\n    var ncells = cells.length;\n    for (var i = 0; i < ncells; i++) {\n        var cell = cells[i];\n        if (cell.cell_type === 'code') {\n            for (var j = 0; j < cell.output_area.outputs.length; j++) {\n                var data = cell.output_area.outputs[j];\n                if (data.data) {\n                    // IPython >= 3 moved mimebundle to data attribute of output\n                    data = data.data;\n                }\n                if (data['text/html'] === html_output) {\n                    return [cell, data, j];\n                }\n            }\n        }\n    }\n};\n\n// Register the function which deals with the matplotlib target/channel.\n// The kernel may be null if the page has been refreshed.\nif (IPython.notebook.kernel !== null) {\n    IPython.notebook.kernel.comm_manager.register_target(\n        'matplotlib',\n        mpl.mpl_figure_comm\n    );\n}\n",
      "text/plain": [
       "<IPython.core.display.Javascript object>"
      ]
     },
     "metadata": {},
     "output_type": "display_data"
    },
    {
     "data": {
      "text/html": [
       "<img src=\"data:image/png;base64,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\" width=\"1199.9999821186068\">"
      ],
      "text/plain": [
       "<IPython.core.display.HTML object>"
      ]
     },
     "metadata": {},
     "output_type": "display_data"
    }
   ],
   "source": [
    "\n",
    "fig = plt.figure(figsize=(12,6))\n",
    "ax = fig.add_subplot(121, projection='3d')\n",
    "\n",
    "\n",
    "\n",
    "ax.set_xlim(-5,5)\n",
    "ax.set_ylim(-5,5)\n",
    "ax.set_zlim(-10,10)\n",
    "ax.quiver((0,),(0,),(0,),(1,),(-4,),(2,), color='red', length=1)\n",
    "ax.quiver((0,),(0,),(0,),(-2,),(1,),(3,), color='green', length=1)\n",
    "ax.quiver((0,),(0,),(0,),(2,),(6,),(8,), color='blue', length=1)\n",
    "\n",
    "plt.show()\n"
   ]
  },
  {
   "cell_type": "code",
   "execution_count": 8,
   "id": "13d01edd",
   "metadata": {
    "hide_input": true,
    "slideshow": {
     "slide_type": "slide"
    }
   },
   "outputs": [
    {
     "data": {
      "application/javascript": "/* Put everything inside the global mpl namespace */\n/* global mpl */\nwindow.mpl = {};\n\nmpl.get_websocket_type = function () {\n    if (typeof WebSocket !== 'undefined') {\n        return WebSocket;\n    } else if (typeof MozWebSocket !== 'undefined') {\n        return MozWebSocket;\n    } else {\n        alert(\n            'Your browser does not have WebSocket support. ' +\n                'Please try Chrome, Safari or Firefox ≥ 6. ' +\n                'Firefox 4 and 5 are also supported but you ' +\n                'have to enable WebSockets in about:config.'\n        );\n    }\n};\n\nmpl.figure = function (figure_id, websocket, ondownload, parent_element) {\n    this.id = figure_id;\n\n    this.ws = websocket;\n\n    this.supports_binary = this.ws.binaryType !== undefined;\n\n    if (!this.supports_binary) {\n        var warnings = document.getElementById('mpl-warnings');\n        if (warnings) {\n            warnings.style.display = 'block';\n            warnings.textContent =\n                'This browser does not support binary websocket messages. ' +\n                'Performance may be slow.';\n        }\n    }\n\n    this.imageObj = new Image();\n\n    this.context = undefined;\n    this.message = undefined;\n    this.canvas = undefined;\n    this.rubberband_canvas = undefined;\n    this.rubberband_context = undefined;\n    this.format_dropdown = undefined;\n\n    this.image_mode = 'full';\n\n    this.root = document.createElement('div');\n    this.root.setAttribute('style', 'display: inline-block');\n    this._root_extra_style(this.root);\n\n    parent_element.appendChild(this.root);\n\n    this._init_header(this);\n    this._init_canvas(this);\n    this._init_toolbar(this);\n\n    var fig = this;\n\n    this.waiting = false;\n\n    this.ws.onopen = function () {\n        fig.send_message('supports_binary', { value: fig.supports_binary });\n        fig.send_message('send_image_mode', {});\n        if (fig.ratio !== 1) {\n            fig.send_message('set_device_pixel_ratio', {\n                device_pixel_ratio: fig.ratio,\n            });\n        }\n        fig.send_message('refresh', {});\n    };\n\n    this.imageObj.onload = function () {\n        if (fig.image_mode === 'full') {\n            // Full images could contain transparency (where diff images\n            // almost always do), so we need to clear the canvas so that\n            // there is no ghosting.\n            fig.context.clearRect(0, 0, fig.canvas.width, fig.canvas.height);\n        }\n        fig.context.drawImage(fig.imageObj, 0, 0);\n    };\n\n    this.imageObj.onunload = function () {\n        fig.ws.close();\n    };\n\n    this.ws.onmessage = this._make_on_message_function(this);\n\n    this.ondownload = ondownload;\n};\n\nmpl.figure.prototype._init_header = function () {\n    var titlebar = document.createElement('div');\n    titlebar.classList =\n        'ui-dialog-titlebar ui-widget-header ui-corner-all ui-helper-clearfix';\n    var titletext = document.createElement('div');\n    titletext.classList = 'ui-dialog-title';\n    titletext.setAttribute(\n        'style',\n        'width: 100%; text-align: center; padding: 3px;'\n    );\n    titlebar.appendChild(titletext);\n    this.root.appendChild(titlebar);\n    this.header = titletext;\n};\n\nmpl.figure.prototype._canvas_extra_style = function (_canvas_div) {};\n\nmpl.figure.prototype._root_extra_style = function (_canvas_div) {};\n\nmpl.figure.prototype._init_canvas = function () {\n    var fig = this;\n\n    var canvas_div = (this.canvas_div = document.createElement('div'));\n    canvas_div.setAttribute(\n        'style',\n        'border: 1px solid #ddd;' +\n            'box-sizing: content-box;' +\n            'clear: both;' +\n            'min-height: 1px;' +\n            'min-width: 1px;' +\n            'outline: 0;' +\n            'overflow: hidden;' +\n            'position: relative;' +\n            'resize: both;'\n    );\n\n    function on_keyboard_event_closure(name) {\n        return function (event) {\n            return fig.key_event(event, name);\n        };\n    }\n\n    canvas_div.addEventListener(\n        'keydown',\n        on_keyboard_event_closure('key_press')\n    );\n    canvas_div.addEventListener(\n        'keyup',\n        on_keyboard_event_closure('key_release')\n    );\n\n    this._canvas_extra_style(canvas_div);\n    this.root.appendChild(canvas_div);\n\n    var canvas = (this.canvas = document.createElement('canvas'));\n    canvas.classList.add('mpl-canvas');\n    canvas.setAttribute('style', 'box-sizing: content-box;');\n\n    this.context = canvas.getContext('2d');\n\n    var backingStore =\n        this.context.backingStorePixelRatio ||\n        this.context.webkitBackingStorePixelRatio ||\n        this.context.mozBackingStorePixelRatio ||\n        this.context.msBackingStorePixelRatio ||\n        this.context.oBackingStorePixelRatio ||\n        this.context.backingStorePixelRatio ||\n        1;\n\n    this.ratio = (window.devicePixelRatio || 1) / backingStore;\n\n    var rubberband_canvas = (this.rubberband_canvas = document.createElement(\n        'canvas'\n    ));\n    rubberband_canvas.setAttribute(\n        'style',\n        'box-sizing: content-box; position: absolute; left: 0; top: 0; z-index: 1;'\n    );\n\n    // Apply a ponyfill if ResizeObserver is not implemented by browser.\n    if (this.ResizeObserver === undefined) {\n        if (window.ResizeObserver !== undefined) {\n            this.ResizeObserver = window.ResizeObserver;\n        } else {\n            var obs = _JSXTOOLS_RESIZE_OBSERVER({});\n            this.ResizeObserver = obs.ResizeObserver;\n        }\n    }\n\n    this.resizeObserverInstance = new this.ResizeObserver(function (entries) {\n        var nentries = entries.length;\n        for (var i = 0; i < nentries; i++) {\n            var entry = entries[i];\n            var width, height;\n            if (entry.contentBoxSize) {\n                if (entry.contentBoxSize instanceof Array) {\n                    // Chrome 84 implements new version of spec.\n                    width = entry.contentBoxSize[0].inlineSize;\n                    height = entry.contentBoxSize[0].blockSize;\n                } else {\n                    // Firefox implements old version of spec.\n                    width = entry.contentBoxSize.inlineSize;\n                    height = entry.contentBoxSize.blockSize;\n                }\n            } else {\n                // Chrome <84 implements even older version of spec.\n                width = entry.contentRect.width;\n                height = entry.contentRect.height;\n            }\n\n            // Keep the size of the canvas and rubber band canvas in sync with\n            // the canvas container.\n            if (entry.devicePixelContentBoxSize) {\n                // Chrome 84 implements new version of spec.\n                canvas.setAttribute(\n                    'width',\n                    entry.devicePixelContentBoxSize[0].inlineSize\n                );\n                canvas.setAttribute(\n                    'height',\n                    entry.devicePixelContentBoxSize[0].blockSize\n                );\n            } else {\n                canvas.setAttribute('width', width * fig.ratio);\n                canvas.setAttribute('height', height * fig.ratio);\n            }\n            canvas.setAttribute(\n                'style',\n                'width: ' + width + 'px; height: ' + height + 'px;'\n            );\n\n            rubberband_canvas.setAttribute('width', width);\n            rubberband_canvas.setAttribute('height', height);\n\n            // And update the size in Python. We ignore the initial 0/0 size\n            // that occurs as the element is placed into the DOM, which should\n            // otherwise not happen due to the minimum size styling.\n            if (fig.ws.readyState == 1 && width != 0 && height != 0) {\n                fig.request_resize(width, height);\n            }\n        }\n    });\n    this.resizeObserverInstance.observe(canvas_div);\n\n    function on_mouse_event_closure(name) {\n        return function (event) {\n            return fig.mouse_event(event, name);\n        };\n    }\n\n    rubberband_canvas.addEventListener(\n        'mousedown',\n        on_mouse_event_closure('button_press')\n    );\n    rubberband_canvas.addEventListener(\n        'mouseup',\n        on_mouse_event_closure('button_release')\n    );\n    rubberband_canvas.addEventListener(\n        'dblclick',\n        on_mouse_event_closure('dblclick')\n    );\n    // Throttle sequential mouse events to 1 every 20ms.\n    rubberband_canvas.addEventListener(\n        'mousemove',\n        on_mouse_event_closure('motion_notify')\n    );\n\n    rubberband_canvas.addEventListener(\n        'mouseenter',\n        on_mouse_event_closure('figure_enter')\n    );\n    rubberband_canvas.addEventListener(\n        'mouseleave',\n        on_mouse_event_closure('figure_leave')\n    );\n\n    canvas_div.addEventListener('wheel', function (event) {\n        if (event.deltaY < 0) {\n            event.step = 1;\n        } else {\n            event.step = -1;\n        }\n        on_mouse_event_closure('scroll')(event);\n    });\n\n    canvas_div.appendChild(canvas);\n    canvas_div.appendChild(rubberband_canvas);\n\n    this.rubberband_context = rubberband_canvas.getContext('2d');\n    this.rubberband_context.strokeStyle = '#000000';\n\n    this._resize_canvas = function (width, height, forward) {\n        if (forward) {\n            canvas_div.style.width = width + 'px';\n            canvas_div.style.height = height + 'px';\n        }\n    };\n\n    // Disable right mouse context menu.\n    this.rubberband_canvas.addEventListener('contextmenu', function (_e) {\n        event.preventDefault();\n        return false;\n    });\n\n    function set_focus() {\n        canvas.focus();\n        canvas_div.focus();\n    }\n\n    window.setTimeout(set_focus, 100);\n};\n\nmpl.figure.prototype._init_toolbar = function () {\n    var fig = this;\n\n    var toolbar = document.createElement('div');\n    toolbar.classList = 'mpl-toolbar';\n    this.root.appendChild(toolbar);\n\n    function on_click_closure(name) {\n        return function (_event) {\n            return fig.toolbar_button_onclick(name);\n        };\n    }\n\n    function on_mouseover_closure(tooltip) {\n        return function (event) {\n            if (!event.currentTarget.disabled) {\n                return fig.toolbar_button_onmouseover(tooltip);\n            }\n        };\n    }\n\n    fig.buttons = {};\n    var buttonGroup = document.createElement('div');\n    buttonGroup.classList = 'mpl-button-group';\n    for (var toolbar_ind in mpl.toolbar_items) {\n        var name = mpl.toolbar_items[toolbar_ind][0];\n        var tooltip = mpl.toolbar_items[toolbar_ind][1];\n        var image = mpl.toolbar_items[toolbar_ind][2];\n        var method_name = mpl.toolbar_items[toolbar_ind][3];\n\n        if (!name) {\n            /* Instead of a spacer, we start a new button group. */\n            if (buttonGroup.hasChildNodes()) {\n                toolbar.appendChild(buttonGroup);\n            }\n            buttonGroup = document.createElement('div');\n            buttonGroup.classList = 'mpl-button-group';\n            continue;\n        }\n\n        var button = (fig.buttons[name] = document.createElement('button'));\n        button.classList = 'mpl-widget';\n        button.setAttribute('role', 'button');\n        button.setAttribute('aria-disabled', 'false');\n        button.addEventListener('click', on_click_closure(method_name));\n        button.addEventListener('mouseover', on_mouseover_closure(tooltip));\n\n        var icon_img = document.createElement('img');\n        icon_img.src = '_images/' + image + '.png';\n        icon_img.srcset = '_images/' + image + '_large.png 2x';\n        icon_img.alt = tooltip;\n        button.appendChild(icon_img);\n\n        buttonGroup.appendChild(button);\n    }\n\n    if (buttonGroup.hasChildNodes()) {\n        toolbar.appendChild(buttonGroup);\n    }\n\n    var fmt_picker = document.createElement('select');\n    fmt_picker.classList = 'mpl-widget';\n    toolbar.appendChild(fmt_picker);\n    this.format_dropdown = fmt_picker;\n\n    for (var ind in mpl.extensions) {\n        var fmt = mpl.extensions[ind];\n        var option = document.createElement('option');\n        option.selected = fmt === mpl.default_extension;\n        option.innerHTML = fmt;\n        fmt_picker.appendChild(option);\n    }\n\n    var status_bar = document.createElement('span');\n    status_bar.classList = 'mpl-message';\n    toolbar.appendChild(status_bar);\n    this.message = status_bar;\n};\n\nmpl.figure.prototype.request_resize = function (x_pixels, y_pixels) {\n    // Request matplotlib to resize the figure. Matplotlib will then trigger a resize in the client,\n    // which will in turn request a refresh of the image.\n    this.send_message('resize', { width: x_pixels, height: y_pixels });\n};\n\nmpl.figure.prototype.send_message = function (type, properties) {\n    properties['type'] = type;\n    properties['figure_id'] = this.id;\n    this.ws.send(JSON.stringify(properties));\n};\n\nmpl.figure.prototype.send_draw_message = function () {\n    if (!this.waiting) {\n        this.waiting = true;\n        this.ws.send(JSON.stringify({ type: 'draw', figure_id: this.id }));\n    }\n};\n\nmpl.figure.prototype.handle_save = function (fig, _msg) {\n    var format_dropdown = fig.format_dropdown;\n    var format = format_dropdown.options[format_dropdown.selectedIndex].value;\n    fig.ondownload(fig, format);\n};\n\nmpl.figure.prototype.handle_resize = function (fig, msg) {\n    var size = msg['size'];\n    if (size[0] !== fig.canvas.width || size[1] !== fig.canvas.height) {\n        fig._resize_canvas(size[0], size[1], msg['forward']);\n        fig.send_message('refresh', {});\n    }\n};\n\nmpl.figure.prototype.handle_rubberband = function (fig, msg) {\n    var x0 = msg['x0'] / fig.ratio;\n    var y0 = (fig.canvas.height - msg['y0']) / fig.ratio;\n    var x1 = msg['x1'] / fig.ratio;\n    var y1 = (fig.canvas.height - msg['y1']) / fig.ratio;\n    x0 = Math.floor(x0) + 0.5;\n    y0 = Math.floor(y0) + 0.5;\n    x1 = Math.floor(x1) + 0.5;\n    y1 = Math.floor(y1) + 0.5;\n    var min_x = Math.min(x0, x1);\n    var min_y = Math.min(y0, y1);\n    var width = Math.abs(x1 - x0);\n    var height = Math.abs(y1 - y0);\n\n    fig.rubberband_context.clearRect(\n        0,\n        0,\n        fig.canvas.width / fig.ratio,\n        fig.canvas.height / fig.ratio\n    );\n\n    fig.rubberband_context.strokeRect(min_x, min_y, width, height);\n};\n\nmpl.figure.prototype.handle_figure_label = function (fig, msg) {\n    // Updates the figure title.\n    fig.header.textContent = msg['label'];\n};\n\nmpl.figure.prototype.handle_cursor = function (fig, msg) {\n    fig.rubberband_canvas.style.cursor = msg['cursor'];\n};\n\nmpl.figure.prototype.handle_message = function (fig, msg) {\n    fig.message.textContent = msg['message'];\n};\n\nmpl.figure.prototype.handle_draw = function (fig, _msg) {\n    // Request the server to send over a new figure.\n    fig.send_draw_message();\n};\n\nmpl.figure.prototype.handle_image_mode = function (fig, msg) {\n    fig.image_mode = msg['mode'];\n};\n\nmpl.figure.prototype.handle_history_buttons = function (fig, msg) {\n    for (var key in msg) {\n        if (!(key in fig.buttons)) {\n            continue;\n        }\n        fig.buttons[key].disabled = !msg[key];\n        fig.buttons[key].setAttribute('aria-disabled', !msg[key]);\n    }\n};\n\nmpl.figure.prototype.handle_navigate_mode = function (fig, msg) {\n    if (msg['mode'] === 'PAN') {\n        fig.buttons['Pan'].classList.add('active');\n        fig.buttons['Zoom'].classList.remove('active');\n    } else if (msg['mode'] === 'ZOOM') {\n        fig.buttons['Pan'].classList.remove('active');\n        fig.buttons['Zoom'].classList.add('active');\n    } else {\n        fig.buttons['Pan'].classList.remove('active');\n        fig.buttons['Zoom'].classList.remove('active');\n    }\n};\n\nmpl.figure.prototype.updated_canvas_event = function () {\n    // Called whenever the canvas gets updated.\n    this.send_message('ack', {});\n};\n\n// A function to construct a web socket function for onmessage handling.\n// Called in the figure constructor.\nmpl.figure.prototype._make_on_message_function = function (fig) {\n    return function socket_on_message(evt) {\n        if (evt.data instanceof Blob) {\n            var img = evt.data;\n            if (img.type !== 'image/png') {\n                /* FIXME: We get \"Resource interpreted as Image but\n                 * transferred with MIME type text/plain:\" errors on\n                 * Chrome.  But how to set the MIME type?  It doesn't seem\n                 * to be part of the websocket stream */\n                img.type = 'image/png';\n            }\n\n            /* Free the memory for the previous frames */\n            if (fig.imageObj.src) {\n                (window.URL || window.webkitURL).revokeObjectURL(\n                    fig.imageObj.src\n                );\n            }\n\n            fig.imageObj.src = (window.URL || window.webkitURL).createObjectURL(\n                img\n            );\n            fig.updated_canvas_event();\n            fig.waiting = false;\n            return;\n        } else if (\n            typeof evt.data === 'string' &&\n            evt.data.slice(0, 21) === 'data:image/png;base64'\n        ) {\n            fig.imageObj.src = evt.data;\n            fig.updated_canvas_event();\n            fig.waiting = false;\n            return;\n        }\n\n        var msg = JSON.parse(evt.data);\n        var msg_type = msg['type'];\n\n        // Call the  \"handle_{type}\" callback, which takes\n        // the figure and JSON message as its only arguments.\n        try {\n            var callback = fig['handle_' + msg_type];\n        } catch (e) {\n            console.log(\n                \"No handler for the '\" + msg_type + \"' message type: \",\n                msg\n            );\n            return;\n        }\n\n        if (callback) {\n            try {\n                // console.log(\"Handling '\" + msg_type + \"' message: \", msg);\n                callback(fig, msg);\n            } catch (e) {\n                console.log(\n                    \"Exception inside the 'handler_\" + msg_type + \"' callback:\",\n                    e,\n                    e.stack,\n                    msg\n                );\n            }\n        }\n    };\n};\n\n// from https://stackoverflow.com/questions/1114465/getting-mouse-location-in-canvas\nmpl.findpos = function (e) {\n    //this section is from http://www.quirksmode.org/js/events_properties.html\n    var targ;\n    if (!e) {\n        e = window.event;\n    }\n    if (e.target) {\n        targ = e.target;\n    } else if (e.srcElement) {\n        targ = e.srcElement;\n    }\n    if (targ.nodeType === 3) {\n        // defeat Safari bug\n        targ = targ.parentNode;\n    }\n\n    // pageX,Y are the mouse positions relative to the document\n    var boundingRect = targ.getBoundingClientRect();\n    var x = e.pageX - (boundingRect.left + document.body.scrollLeft);\n    var y = e.pageY - (boundingRect.top + document.body.scrollTop);\n\n    return { x: x, y: y };\n};\n\n/*\n * return a copy of an object with only non-object keys\n * we need this to avoid circular references\n * https://stackoverflow.com/a/24161582/3208463\n */\nfunction simpleKeys(original) {\n    return Object.keys(original).reduce(function (obj, key) {\n        if (typeof original[key] !== 'object') {\n            obj[key] = original[key];\n        }\n        return obj;\n    }, {});\n}\n\nmpl.figure.prototype.mouse_event = function (event, name) {\n    var canvas_pos = mpl.findpos(event);\n\n    if (name === 'button_press') {\n        this.canvas.focus();\n        this.canvas_div.focus();\n    }\n\n    var x = canvas_pos.x * this.ratio;\n    var y = canvas_pos.y * this.ratio;\n\n    this.send_message(name, {\n        x: x,\n        y: y,\n        button: event.button,\n        step: event.step,\n        guiEvent: simpleKeys(event),\n    });\n\n    /* This prevents the web browser from automatically changing to\n     * the text insertion cursor when the button is pressed.  We want\n     * to control all of the cursor setting manually through the\n     * 'cursor' event from matplotlib */\n    event.preventDefault();\n    return false;\n};\n\nmpl.figure.prototype._key_event_extra = function (_event, _name) {\n    // Handle any extra behaviour associated with a key event\n};\n\nmpl.figure.prototype.key_event = function (event, name) {\n    // Prevent repeat events\n    if (name === 'key_press') {\n        if (event.key === this._key) {\n            return;\n        } else {\n            this._key = event.key;\n        }\n    }\n    if (name === 'key_release') {\n        this._key = null;\n    }\n\n    var value = '';\n    if (event.ctrlKey && event.key !== 'Control') {\n        value += 'ctrl+';\n    }\n    else if (event.altKey && event.key !== 'Alt') {\n        value += 'alt+';\n    }\n    else if (event.shiftKey && event.key !== 'Shift') {\n        value += 'shift+';\n    }\n\n    value += 'k' + event.key;\n\n    this._key_event_extra(event, name);\n\n    this.send_message(name, { key: value, guiEvent: simpleKeys(event) });\n    return false;\n};\n\nmpl.figure.prototype.toolbar_button_onclick = function (name) {\n    if (name === 'download') {\n        this.handle_save(this, null);\n    } else {\n        this.send_message('toolbar_button', { name: name });\n    }\n};\n\nmpl.figure.prototype.toolbar_button_onmouseover = function (tooltip) {\n    this.message.textContent = tooltip;\n};\n\n///////////////// REMAINING CONTENT GENERATED BY embed_js.py /////////////////\n// prettier-ignore\nvar _JSXTOOLS_RESIZE_OBSERVER=function(A){var t,i=new WeakMap,n=new WeakMap,a=new WeakMap,r=new WeakMap,o=new Set;function s(e){if(!(this instanceof s))throw new TypeError(\"Constructor requires 'new' operator\");i.set(this,e)}function h(){throw new TypeError(\"Function is not a constructor\")}function c(e,t,i,n){e=0 in arguments?Number(arguments[0]):0,t=1 in arguments?Number(arguments[1]):0,i=2 in arguments?Number(arguments[2]):0,n=3 in arguments?Number(arguments[3]):0,this.right=(this.x=this.left=e)+(this.width=i),this.bottom=(this.y=this.top=t)+(this.height=n),Object.freeze(this)}function d(){t=requestAnimationFrame(d);var s=new WeakMap,p=new Set;o.forEach((function(t){r.get(t).forEach((function(i){var r=t instanceof window.SVGElement,o=a.get(t),d=r?0:parseFloat(o.paddingTop),f=r?0:parseFloat(o.paddingRight),l=r?0:parseFloat(o.paddingBottom),u=r?0:parseFloat(o.paddingLeft),g=r?0:parseFloat(o.borderTopWidth),m=r?0:parseFloat(o.borderRightWidth),w=r?0:parseFloat(o.borderBottomWidth),b=u+f,F=d+l,v=(r?0:parseFloat(o.borderLeftWidth))+m,W=g+w,y=r?0:t.offsetHeight-W-t.clientHeight,E=r?0:t.offsetWidth-v-t.clientWidth,R=b+v,z=F+W,M=r?t.width:parseFloat(o.width)-R-E,O=r?t.height:parseFloat(o.height)-z-y;if(n.has(t)){var k=n.get(t);if(k[0]===M&&k[1]===O)return}n.set(t,[M,O]);var S=Object.create(h.prototype);S.target=t,S.contentRect=new c(u,d,M,O),s.has(i)||(s.set(i,[]),p.add(i)),s.get(i).push(S)}))})),p.forEach((function(e){i.get(e).call(e,s.get(e),e)}))}return s.prototype.observe=function(i){if(i instanceof window.Element){r.has(i)||(r.set(i,new Set),o.add(i),a.set(i,window.getComputedStyle(i)));var n=r.get(i);n.has(this)||n.add(this),cancelAnimationFrame(t),t=requestAnimationFrame(d)}},s.prototype.unobserve=function(i){if(i instanceof window.Element&&r.has(i)){var n=r.get(i);n.has(this)&&(n.delete(this),n.size||(r.delete(i),o.delete(i))),n.size||r.delete(i),o.size||cancelAnimationFrame(t)}},A.DOMRectReadOnly=c,A.ResizeObserver=s,A.ResizeObserverEntry=h,A}; // eslint-disable-line\nmpl.toolbar_items = [[\"Home\", \"Reset original view\", \"fa fa-home icon-home\", \"home\"], [\"Back\", \"Back to previous view\", \"fa fa-arrow-left icon-arrow-left\", \"back\"], [\"Forward\", \"Forward to next view\", \"fa fa-arrow-right icon-arrow-right\", \"forward\"], [\"\", \"\", \"\", \"\"], [\"Pan\", \"Left button pans, Right button zooms\\nx/y fixes axis, CTRL fixes aspect\", \"fa fa-arrows icon-move\", \"pan\"], [\"Zoom\", \"Zoom to rectangle\\nx/y fixes axis\", \"fa fa-square-o icon-check-empty\", \"zoom\"], [\"\", \"\", \"\", \"\"], [\"Download\", \"Download plot\", \"fa fa-floppy-o icon-save\", \"download\"]];\n\nmpl.extensions = [\"eps\", \"jpeg\", \"pgf\", \"pdf\", \"png\", \"ps\", \"raw\", \"svg\", \"tif\"];\n\nmpl.default_extension = \"png\";/* global mpl */\n\nvar comm_websocket_adapter = function (comm) {\n    // Create a \"websocket\"-like object which calls the given IPython comm\n    // object with the appropriate methods. Currently this is a non binary\n    // socket, so there is still some room for performance tuning.\n    var ws = {};\n\n    ws.binaryType = comm.kernel.ws.binaryType;\n    ws.readyState = comm.kernel.ws.readyState;\n    function updateReadyState(_event) {\n        if (comm.kernel.ws) {\n            ws.readyState = comm.kernel.ws.readyState;\n        } else {\n            ws.readyState = 3; // Closed state.\n        }\n    }\n    comm.kernel.ws.addEventListener('open', updateReadyState);\n    comm.kernel.ws.addEventListener('close', updateReadyState);\n    comm.kernel.ws.addEventListener('error', updateReadyState);\n\n    ws.close = function () {\n        comm.close();\n    };\n    ws.send = function (m) {\n        //console.log('sending', m);\n        comm.send(m);\n    };\n    // Register the callback with on_msg.\n    comm.on_msg(function (msg) {\n        //console.log('receiving', msg['content']['data'], msg);\n        var data = msg['content']['data'];\n        if (data['blob'] !== undefined) {\n            data = {\n                data: new Blob(msg['buffers'], { type: data['blob'] }),\n            };\n        }\n        // Pass the mpl event to the overridden (by mpl) onmessage function.\n        ws.onmessage(data);\n    });\n    return ws;\n};\n\nmpl.mpl_figure_comm = function (comm, msg) {\n    // This is the function which gets called when the mpl process\n    // starts-up an IPython Comm through the \"matplotlib\" channel.\n\n    var id = msg.content.data.id;\n    // Get hold of the div created by the display call when the Comm\n    // socket was opened in Python.\n    var element = document.getElementById(id);\n    var ws_proxy = comm_websocket_adapter(comm);\n\n    function ondownload(figure, _format) {\n        window.open(figure.canvas.toDataURL());\n    }\n\n    var fig = new mpl.figure(id, ws_proxy, ondownload, element);\n\n    // Call onopen now - mpl needs it, as it is assuming we've passed it a real\n    // web socket which is closed, not our websocket->open comm proxy.\n    ws_proxy.onopen();\n\n    fig.parent_element = element;\n    fig.cell_info = mpl.find_output_cell(\"<div id='\" + id + \"'></div>\");\n    if (!fig.cell_info) {\n        console.error('Failed to find cell for figure', id, fig);\n        return;\n    }\n    fig.cell_info[0].output_area.element.on(\n        'cleared',\n        { fig: fig },\n        fig._remove_fig_handler\n    );\n};\n\nmpl.figure.prototype.handle_close = function (fig, msg) {\n    var width = fig.canvas.width / fig.ratio;\n    fig.cell_info[0].output_area.element.off(\n        'cleared',\n        fig._remove_fig_handler\n    );\n    fig.resizeObserverInstance.unobserve(fig.canvas_div);\n\n    // Update the output cell to use the data from the current canvas.\n    fig.push_to_output();\n    var dataURL = fig.canvas.toDataURL();\n    // Re-enable the keyboard manager in IPython - without this line, in FF,\n    // the notebook keyboard shortcuts fail.\n    IPython.keyboard_manager.enable();\n    fig.parent_element.innerHTML =\n        '<img src=\"' + dataURL + '\" width=\"' + width + '\">';\n    fig.close_ws(fig, msg);\n};\n\nmpl.figure.prototype.close_ws = function (fig, msg) {\n    fig.send_message('closing', msg);\n    // fig.ws.close()\n};\n\nmpl.figure.prototype.push_to_output = function (_remove_interactive) {\n    // Turn the data on the canvas into data in the output cell.\n    var width = this.canvas.width / this.ratio;\n    var dataURL = this.canvas.toDataURL();\n    this.cell_info[1]['text/html'] =\n        '<img src=\"' + dataURL + '\" width=\"' + width + '\">';\n};\n\nmpl.figure.prototype.updated_canvas_event = function () {\n    // Tell IPython that the notebook contents must change.\n    IPython.notebook.set_dirty(true);\n    this.send_message('ack', {});\n    var fig = this;\n    // Wait a second, then push the new image to the DOM so\n    // that it is saved nicely (might be nice to debounce this).\n    setTimeout(function () {\n        fig.push_to_output();\n    }, 1000);\n};\n\nmpl.figure.prototype._init_toolbar = function () {\n    var fig = this;\n\n    var toolbar = document.createElement('div');\n    toolbar.classList = 'btn-toolbar';\n    this.root.appendChild(toolbar);\n\n    function on_click_closure(name) {\n        return function (_event) {\n            return fig.toolbar_button_onclick(name);\n        };\n    }\n\n    function on_mouseover_closure(tooltip) {\n        return function (event) {\n            if (!event.currentTarget.disabled) {\n                return fig.toolbar_button_onmouseover(tooltip);\n            }\n        };\n    }\n\n    fig.buttons = {};\n    var buttonGroup = document.createElement('div');\n    buttonGroup.classList = 'btn-group';\n    var button;\n    for (var toolbar_ind in mpl.toolbar_items) {\n        var name = mpl.toolbar_items[toolbar_ind][0];\n        var tooltip = mpl.toolbar_items[toolbar_ind][1];\n        var image = mpl.toolbar_items[toolbar_ind][2];\n        var method_name = mpl.toolbar_items[toolbar_ind][3];\n\n        if (!name) {\n            /* Instead of a spacer, we start a new button group. */\n            if (buttonGroup.hasChildNodes()) {\n                toolbar.appendChild(buttonGroup);\n            }\n            buttonGroup = document.createElement('div');\n            buttonGroup.classList = 'btn-group';\n            continue;\n        }\n\n        button = fig.buttons[name] = document.createElement('button');\n        button.classList = 'btn btn-default';\n        button.href = '#';\n        button.title = name;\n        button.innerHTML = '<i class=\"fa ' + image + ' fa-lg\"></i>';\n        button.addEventListener('click', on_click_closure(method_name));\n        button.addEventListener('mouseover', on_mouseover_closure(tooltip));\n        buttonGroup.appendChild(button);\n    }\n\n    if (buttonGroup.hasChildNodes()) {\n        toolbar.appendChild(buttonGroup);\n    }\n\n    // Add the status bar.\n    var status_bar = document.createElement('span');\n    status_bar.classList = 'mpl-message pull-right';\n    toolbar.appendChild(status_bar);\n    this.message = status_bar;\n\n    // Add the close button to the window.\n    var buttongrp = document.createElement('div');\n    buttongrp.classList = 'btn-group inline pull-right';\n    button = document.createElement('button');\n    button.classList = 'btn btn-mini btn-primary';\n    button.href = '#';\n    button.title = 'Stop Interaction';\n    button.innerHTML = '<i class=\"fa fa-power-off icon-remove icon-large\"></i>';\n    button.addEventListener('click', function (_evt) {\n        fig.handle_close(fig, {});\n    });\n    button.addEventListener(\n        'mouseover',\n        on_mouseover_closure('Stop Interaction')\n    );\n    buttongrp.appendChild(button);\n    var titlebar = this.root.querySelector('.ui-dialog-titlebar');\n    titlebar.insertBefore(buttongrp, titlebar.firstChild);\n};\n\nmpl.figure.prototype._remove_fig_handler = function (event) {\n    var fig = event.data.fig;\n    if (event.target !== this) {\n        // Ignore bubbled events from children.\n        return;\n    }\n    fig.close_ws(fig, {});\n};\n\nmpl.figure.prototype._root_extra_style = function (el) {\n    el.style.boxSizing = 'content-box'; // override notebook setting of border-box.\n};\n\nmpl.figure.prototype._canvas_extra_style = function (el) {\n    // this is important to make the div 'focusable\n    el.setAttribute('tabindex', 0);\n    // reach out to IPython and tell the keyboard manager to turn it's self\n    // off when our div gets focus\n\n    // location in version 3\n    if (IPython.notebook.keyboard_manager) {\n        IPython.notebook.keyboard_manager.register_events(el);\n    } else {\n        // location in version 2\n        IPython.keyboard_manager.register_events(el);\n    }\n};\n\nmpl.figure.prototype._key_event_extra = function (event, _name) {\n    // Check for shift+enter\n    if (event.shiftKey && event.which === 13) {\n        this.canvas_div.blur();\n        // select the cell after this one\n        var index = IPython.notebook.find_cell_index(this.cell_info[0]);\n        IPython.notebook.select(index + 1);\n    }\n};\n\nmpl.figure.prototype.handle_save = function (fig, _msg) {\n    fig.ondownload(fig, null);\n};\n\nmpl.find_output_cell = function (html_output) {\n    // Return the cell and output element which can be found *uniquely* in the notebook.\n    // Note - this is a bit hacky, but it is done because the \"notebook_saving.Notebook\"\n    // IPython event is triggered only after the cells have been serialised, which for\n    // our purposes (turning an active figure into a static one), is too late.\n    var cells = IPython.notebook.get_cells();\n    var ncells = cells.length;\n    for (var i = 0; i < ncells; i++) {\n        var cell = cells[i];\n        if (cell.cell_type === 'code') {\n            for (var j = 0; j < cell.output_area.outputs.length; j++) {\n                var data = cell.output_area.outputs[j];\n                if (data.data) {\n                    // IPython >= 3 moved mimebundle to data attribute of output\n                    data = data.data;\n                }\n                if (data['text/html'] === html_output) {\n                    return [cell, data, j];\n                }\n            }\n        }\n    }\n};\n\n// Register the function which deals with the matplotlib target/channel.\n// The kernel may be null if the page has been refreshed.\nif (IPython.notebook.kernel !== null) {\n    IPython.notebook.kernel.comm_manager.register_target(\n        'matplotlib',\n        mpl.mpl_figure_comm\n    );\n}\n",
      "text/plain": [
       "<IPython.core.display.Javascript object>"
      ]
     },
     "metadata": {},
     "output_type": "display_data"
    },
    {
     "data": {
      "text/html": [
       "<img src=\"data:image/png;base64,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\" width=\"1199.9999821186068\">"
      ],
      "text/plain": [
       "<IPython.core.display.HTML object>"
      ]
     },
     "metadata": {},
     "output_type": "display_data"
    }
   ],
   "source": [
    "\n",
    "fig = plt.figure(figsize=(12,6))\n",
    "ax = fig.add_subplot(121, projection='3d')\n",
    "\n",
    "\n",
    "\n",
    "ax.set_xlim(-5,5)\n",
    "ax.set_ylim(-5,5)\n",
    "ax.set_zlim(-10,10)\n",
    "ax.quiver((0,),(0,),(0,),(1,),(-4,),(2,), color='red', length=1)\n",
    "ax.quiver((0,),(0,),(0,),(-2,),(1,),(3,), color='green', length=1)\n",
    "ax.quiver((0,),(0,),(0,),(2,),(6,),(-10,), color='blue', length=1)\n",
    "\n",
    "plt.show()\n"
   ]
  },
  {
   "cell_type": "markdown",
   "id": "3267bad2",
   "metadata": {
    "slideshow": {
     "slide_type": "slide"
    }
   },
   "source": [
    "- the invertable matrix has rank 3\n",
    "- the non-invertable matrix has rank 2\n",
    "\n",
    "### Fact: \n",
    "\n",
    "The rank of a matrix equals the number of pivots in its row echelon form, which is equal to the number of pivots in its reduced row echelon form."
   ]
  },
  {
   "cell_type": "markdown",
   "id": "3044ccfb",
   "metadata": {},
   "source": [
    "- rank-3 matrix:\n",
    "\n",
    "$$\n",
    "\\begin{aligned}\n",
    "A &= \n",
    "\\begin{bmatrix}\n",
    "1 & -4 & 2\\\\\n",
    "-2 & 1 & 3\\\\\n",
    "2 & 6 & 8\n",
    "\\end{bmatrix}\n",
    "\\end{aligned}\n",
    "$$"
   ]
  },
  {
   "cell_type": "markdown",
   "id": "5cf09a3d",
   "metadata": {},
   "source": [
    "- row echelon form:\n",
    "\n",
    "$$\n",
    "\\left[\\begin{array}{r}\n",
    "1 & -4 & 2\\\\\n",
    "-2 & 1 & 3\\\\\n",
    "2 & 6 & 8\n",
    "\\end{array}\\right]\\\\\n",
    "\\left[\\begin{array}{r}\n",
    "1 & -4 & 2\\\\\n",
    "0 & -7 & 7\\\\\n",
    "0 & 14 & 4\n",
    "\\end{array}\\right]\\\\\n",
    "\\left[\\begin{array}{r}\n",
    "1 & -4 & 2\\\\\n",
    "0 & -7 & 7\\\\\n",
    "0 & 0 & 28\n",
    "\\end{array}\\right]\\\\\n",
    "$$\n",
    "\n",
    "The row echelon form has 3 pivots, so $A$ has rank 3.\n"
   ]
  },
  {
   "cell_type": "markdown",
   "id": "b26a7e8d",
   "metadata": {
    "slideshow": {
     "slide_type": "slide"
    }
   },
   "source": [
    "\n",
    "\n",
    "$$\n",
    "\\left[\\begin{array}{r}\n",
    "1 & -4 & 0\\\\\n",
    "0 & -7 &0\\\\\n",
    "0 & 0 & 28\n",
    "\\end{array}\\right]\\\\\n",
    "\\left[\\begin{array}{r}\n",
    "1 & 0 & 0\\\\\n",
    "0 & -7 &0\\\\\n",
    "0 & 0 & 28\n",
    "\\end{array}\\right]\\\\\n",
    "\\left[\\begin{array}{r}\n",
    "1 & 0 & 0\\\\\n",
    "0 & 1 &0\\\\\n",
    "0 & 0 & 1\n",
    "\\end{array}\\right]\\\\\n",
    "$$\n",
    "\n",
    "The reduced row echolon form also has 3 pivots.\n",
    "(For an invertable matrix, the reduced row echelon form is always the identity matrix.)"
   ]
  },
  {
   "cell_type": "markdown",
   "id": "3c32870e",
   "metadata": {
    "slideshow": {
     "slide_type": "slide"
    }
   },
   "source": [
    "- rank-2 matrix\n",
    "\n",
    "$$\n",
    "\\begin{aligned}\n",
    "B &= \n",
    "\\begin{bmatrix}\n",
    "1 & -4 & 2\\\\\n",
    "-2 & 1 & 3\\\\\n",
    "2 & 6 & -10\n",
    "\\end{bmatrix}\\\\[1em]\n",
    "\\end{aligned}\n",
    "$$"
   ]
  },
  {
   "cell_type": "markdown",
   "id": "9bbaf573",
   "metadata": {},
   "source": [
    "- row-echelon form\n",
    "\n",
    "$$\n",
    "\\begin{bmatrix}\n",
    "1 & -4 & 2\\\\\n",
    "0 & -7 & 7\\\\\n",
    "0 & 14 & -14\n",
    "\\end{bmatrix}\\\\[1em]\n",
    "\\begin{bmatrix}\n",
    "1 & -4 & 2\\\\\n",
    "0 & -7 & 7\\\\\n",
    "0 & 0 & 0\n",
    "\\end{bmatrix}\\\\[1em]\n",
    "$$\n",
    "\n",
    "The row echelon form has two pivots, hence $B$ has rank 2.\n"
   ]
  },
  {
   "cell_type": "markdown",
   "id": "5ca815f0",
   "metadata": {
    "slideshow": {
     "slide_type": "slide"
    }
   },
   "source": [
    "- reduced row echelon form\n",
    "\n",
    "\n",
    "$$\n",
    "\\begin{bmatrix}\n",
    "1 & 0 & -2\\\\\n",
    "0 & -7 & 7\\\\\n",
    "0 & 0 & 0\n",
    "\\end{bmatrix}\\\\[1em]\n",
    "\\begin{bmatrix}\n",
    "1 & 0 & -2\\\\\n",
    "0 & 1 & -1\\\\\n",
    "0 & 0 & 0\n",
    "\\end{bmatrix}\\\\[1em]\n",
    "$$\n",
    "\n",
    "The reduced row echelon form also has 2 pivots."
   ]
  },
  {
   "cell_type": "markdown",
   "id": "d44f137f",
   "metadata": {
    "slideshow": {
     "slide_type": "slide"
    }
   },
   "source": [
    "## Dimensionality of a vector space\n",
    "\n",
    "### Linear independence of vectors\n",
    "\n",
    "- a vector $\\mathbf b$ is independent from a set of vectors $\\mathbf a_1, \\ldots, \\mathbf a_n$ if and only if there are no real numbers $x_1,\\ldots,x_n$ such that\n",
    "\n",
    "$$\n",
    "x_1\\mathbf a_1 + \\cdots + x_n\\mathbf a_n = \\mathbf b\n",
    "$$\n",
    "\n",
    "- a set of vectors $\\mathbf a_1, \\ldots, \\mathbf a_n$ is linearly independent if and only if each $\\mathbf a_i$ is linearly independent of the other vectors $\\mathbf a_1,\\ldots, \\mathbf a_{i-1},\\mathbf a_{i+1}, \\ldots \\mathbf a_n$.\n",
    "\n",
    "Equivalently, the column vectors of a matrix $A$ are linearly independent if and only if the linear system\n",
    "\n",
    "$$\n",
    "A\\mathbf x = \\mathbf 0\n",
    "$$\n",
    "\n",
    "has as its only solution $\\mathbf x = \\mathbf 0$.\n",
    "\n",
    "(Independence is important, e.g., for linear regression.)"
   ]
  },
  {
   "cell_type": "markdown",
   "id": "bbc4669b",
   "metadata": {
    "slideshow": {
     "slide_type": "slide"
    }
   },
   "source": [
    "#### Examples\n",
    "\n",
    "- $\\begin{bmatrix}1\\\\ 0\\end{bmatrix}$ and $\\begin{bmatrix}0\\\\ 1\\end{bmatrix}$: dependent or independent?\n",
    "\n",
    "\n",
    "- $\\begin{bmatrix}1\\\\ 0\\end{bmatrix}$ and $\\begin{bmatrix}0\\\\ 0.00001\\end{bmatrix}$: dependent or independent?\n",
    "\n",
    "\n",
    "- $\\begin{bmatrix}1\\\\ 1\\end{bmatrix}$ and $\\begin{bmatrix}-1\\\\ -1\\end{bmatrix}$: dependent or independent?\n",
    "\n",
    "\n",
    "- $\\begin{bmatrix}1\\\\ 1\\end{bmatrix}$ and $\\begin{bmatrix}0\\\\ 0\\end{bmatrix}$: dependent or independent?\n",
    "\n",
    "\n",
    "- $\\begin{bmatrix}a\\\\ b\\end{bmatrix}, \\begin{bmatrix}c\\\\ d\\end{bmatrix}$ and $\\begin{bmatrix}e\\\\ f\\end{bmatrix}$: dependent or independent?\n",
    "\n"
   ]
  },
  {
   "cell_type": "code",
   "execution_count": 9,
   "id": "1156e3ff",
   "metadata": {
    "slideshow": {
     "slide_type": "slide"
    }
   },
   "outputs": [
    {
     "data": {
      "text/latex": [
       "$\\displaystyle \\left[\\begin{matrix}1 & 0 & 3\\\\2 & 1 & 5\\\\1 & 0 & 3\\end{matrix}\\right]$"
      ],
      "text/plain": [
       "Matrix([\n",
       "[1, 0, 3],\n",
       "[2, 1, 5],\n",
       "[1, 0, 3]])"
      ]
     },
     "execution_count": 9,
     "metadata": {},
     "output_type": "execute_result"
    }
   ],
   "source": [
    "A = Matrix([\n",
    "    [1,0,3],\n",
    "    [2,1,5],\n",
    "    [1,0,3]\n",
    "])\n",
    "A"
   ]
  },
  {
   "cell_type": "markdown",
   "id": "2c99bc27",
   "metadata": {},
   "source": [
    "- are the columns dependent or independent?\n",
    "- what is the rank of $A$?"
   ]
  },
  {
   "cell_type": "code",
   "execution_count": 10,
   "id": "b1aa30de",
   "metadata": {},
   "outputs": [
    {
     "data": {
      "text/latex": [
       "$\\displaystyle \\left[\\begin{matrix}-3\\\\1\\\\1\\end{matrix}\\right]$"
      ],
      "text/plain": [
       "Matrix([\n",
       "[-3],\n",
       "[ 1],\n",
       "[ 1]])"
      ]
     },
     "execution_count": 10,
     "metadata": {},
     "output_type": "execute_result"
    }
   ],
   "source": [
    "A.nullspace()[0]"
   ]
  },
  {
   "cell_type": "markdown",
   "id": "af357bad",
   "metadata": {
    "slideshow": {
     "slide_type": "slide"
    }
   },
   "source": [
    "**A little puzzle**\n",
    "\n",
    "A rectangular $m\\times n$ matrix with $m<n$ cannot have independent columns. Why?\n",
    "\n",
    "**Example**"
   ]
  },
  {
   "cell_type": "code",
   "execution_count": 11,
   "id": "788692f6",
   "metadata": {},
   "outputs": [
    {
     "data": {
      "text/latex": [
       "$\\displaystyle \\left[\\begin{matrix}1 & 0 & 1 & 5\\\\0 & 1 & 1 & -3\\\\2 & 1 & -1 & -2\\end{matrix}\\right]$"
      ],
      "text/plain": [
       "Matrix([\n",
       "[1, 0,  1,  5],\n",
       "[0, 1,  1, -3],\n",
       "[2, 1, -1, -2]])"
      ]
     },
     "execution_count": 11,
     "metadata": {},
     "output_type": "execute_result"
    }
   ],
   "source": [
    "B = Matrix([\n",
    "    [1,0,1,5],\n",
    "    [0,1,1,-3],\n",
    "    [2,1,-1,-2]\n",
    "])\n",
    "B"
   ]
  },
  {
   "cell_type": "code",
   "execution_count": 12,
   "id": "07ff00b7",
   "metadata": {},
   "outputs": [
    {
     "data": {
      "text/latex": [
       "$\\displaystyle \\left[\\begin{matrix}1 & 0 & 0 & \\frac{11}{4}\\\\0 & 1 & 0 & - \\frac{21}{4}\\\\0 & 0 & 1 & \\frac{9}{4}\\end{matrix}\\right]$"
      ],
      "text/plain": [
       "Matrix([\n",
       "[1, 0, 0,  11/4],\n",
       "[0, 1, 0, -21/4],\n",
       "[0, 0, 1,   9/4]])"
      ]
     },
     "execution_count": 12,
     "metadata": {},
     "output_type": "execute_result"
    }
   ],
   "source": [
    "B.rref()[0]"
   ]
  },
  {
   "cell_type": "markdown",
   "id": "f1ef5691",
   "metadata": {
    "slideshow": {
     "slide_type": "slide"
    }
   },
   "source": [
    "### Basis of a vector space\n",
    "\n",
    "- the **span** of a set of vectors $\\mathbf a_1,\\ldots, \\mathbf a_n$ is the set of their linear combinations, i.e., the set\n",
    "\n",
    "$$\n",
    "    \\{x_1\\mathbf a_1 + \\cdots x_n\\mathbf a_n|x_1,\\ldots, x_n \\in \\mathbb R\\}\n",
    "$$\n",
    "\n",
    "- the span of a set of vectors is a vector space\n",
    "\n",
    "- a set of vectors $\\mathbf a_1, \\ldots, \\mathbf a_n$ is a **basis of a vector space $S$** if and only if\n",
    "    - $\\mathbf a_1, \\ldots, \\mathbf a_n$ are linearly independent, and\n",
    "    - the span of $\\mathbf a_1, \\ldots, \\mathbf a_n$ is $S$."
   ]
  },
  {
   "cell_type": "markdown",
   "id": "836ba884",
   "metadata": {},
   "source": [
    "\n",
    "\n",
    "What is the span of\n",
    "\n",
    "- $\\mathbf v_1 = \\begin{bmatrix}1\\\\0\\end{bmatrix}$ and $\\mathbf v_2 = \\begin{bmatrix}0\\\\1\\end{bmatrix}$,\n",
    "\n",
    "\n",
    "- $\\mathbf v_1 = \\begin{bmatrix}1\\\\0\\end{bmatrix}$, $\\mathbf v_2 = \\begin{bmatrix}0\\\\1\\end{bmatrix}$, and $\\mathbf v_3 = \\begin{bmatrix}4\\\\7\\end{bmatrix}$,\n",
    "\n",
    "\n",
    "- $\\mathbf w_1 = \\begin{bmatrix}1\\\\1\\end{bmatrix}$ and $\\mathbf w_2 = \\begin{bmatrix} -1\\\\-1\\end{bmatrix}$?\n",
    "\n",
    "Which of these sets of vectors form a basis?"
   ]
  },
  {
   "cell_type": "markdown",
   "id": "aef3ce0a",
   "metadata": {
    "slideshow": {
     "slide_type": "slide"
    }
   },
   "source": [
    "### Theorem\n",
    "\n",
    "If the columns of $A$ and the columns of $B$ are both a basis for some vector space $S$, then $A$ and $B$ have the same number of columns.\n",
    "\n",
    "#### Proof\n",
    "\n",
    "Let $A$ be an $m\\times n$ matrix and $B$ and $m\\times k$ matrix. Suppose $k<n$\n",
    "\n",
    "Since $B$ is a basis of the column space of $A$, there must be a solution $\\mathbf x_i$\n",
    "$$\n",
    "B\\mathbf x_i = \\mathbf a_i \n",
    "$$\n",
    "\n",
    "for each column vector $\\mathbf a_i$ of $A$. Let \n",
    "\n",
    "$$\n",
    "X = \\begin{bmatrix}\n",
    "\\vdots & \\cdots & \\vdots\\\\\n",
    "\\mathbf x_1 & \\cdots & \\mathbf x_n\\\\\n",
    "\\vdots & \\cdots & \\vdots\\\\\n",
    "\\end{bmatrix}\n",
    "$$\n",
    "i.e., $X$ is the matrix with $\\mathbf x_1,\\ldots, \\mathbf x_n$ as column vectors. It has the format $k\\times n$.\n",
    "\n"
   ]
  },
  {
   "cell_type": "markdown",
   "id": "44a6bb99",
   "metadata": {
    "slideshow": {
     "slide_type": "slide"
    }
   },
   "source": [
    "\n",
    "\n",
    "Then it holds:\n",
    "\n",
    "$$\n",
    "A = BX\n",
    "$$\n",
    "\n",
    "Since $k<n$, $X$ is broader than high. Therefore its reduced row-echolon form must have free columns. Therefore there must be a non-zero solution $\\mathbf y$ for \n",
    "\n",
    "$$\n",
    "X\\mathbf y = \\mathbf 0\n",
    "$$\n",
    "\n",
    "It follows immediately that\n",
    "\n",
    "$$\n",
    "\\begin{aligned}\n",
    "X\\mathbf y &= \\mathbf 0\\\\\n",
    "BX\\mathbf y &= \\mathbf 0\\\\\n",
    "A\\mathbf y &= \\mathbf 0\n",
    "\\end{aligned}\n",
    "$$\n",
    "\n",
    "This is a contradiction, since by assumption, the columns of $A$ are linearly independent. \n",
    "\n",
    "$\\dashv$"
   ]
  },
  {
   "cell_type": "markdown",
   "id": "d6f1d79c",
   "metadata": {
    "slideshow": {
     "slide_type": "slide"
    }
   },
   "source": [
    "### Dimensions of a vector space\n",
    "\n",
    "It follows that each basis of a vector space $S$ has the same number of vectors as elements. We call this number the **number of dimensions of $S$**.\n",
    "\n",
    "\n",
    "\n",
    "\n"
   ]
  },
  {
   "cell_type": "markdown",
   "id": "4b89e854",
   "metadata": {},
   "source": [
    "Let us re-consider the invertible matrix from above:\n",
    "\n",
    "$$\n",
    "\\begin{aligned}\n",
    "A &= \n",
    "\\left[\n",
    "\\begin{array}{r}\n",
    "1 & -4 & 2\\\\\n",
    "-2 & 1 & 3\\\\\n",
    "2 & 6 & 8\n",
    "\\end{array}\\right]\\\\[1em]\n",
    "A^{-1} &=\n",
    "\\left[\\begin{array}{r}\n",
    "\\frac{5}{63} & - \\frac{22}{63} & \\frac{1}{9}\\\\- \\frac{11}{63} & - \\frac{2}{63} & \\frac{1}{18}\\\\\\frac{1}{9} & \\frac{1}{9} & \\frac{1}{18}\n",
    "\\end{array}\\right]\n",
    "\\end{aligned}\n",
    "$$\n",
    "\n",
    "Solving $A\\mathbf x = \\mathbf 0$:\n",
    "\n",
    "\n",
    "$$\n",
    "\\begin{aligned}\n",
    "A\\mathbf x &= \\mathbf 0\\\\\n",
    "A^{-1}A\\mathbf x &= A^{-1}\\mathbf 0\\\\\n",
    "\\mathbf x &= \\mathbf 0\n",
    "\\end{aligned}\n",
    "$$\n"
   ]
  },
  {
   "cell_type": "markdown",
   "id": "af8b5ecc",
   "metadata": {
    "slideshow": {
     "slide_type": "slide"
    }
   },
   "source": [
    "So the columns of $A$ are independent (as are the columns of each invertible matrix). Let $\\mathbf b$ be some arbitrary vector in $\\mathbb R^3$.\n",
    "$$\n",
    "\\begin{aligned}\n",
    "A\\mathbf x &= \\mathbf b\\\\\n",
    "\\mathbf x &= A^{-1}\\mathbf b\\\\\n",
    "\\end{aligned}\n",
    "$$\n",
    "This means that for each vector $\\mathbf b$ in $\\mathbb R^3$, we can find coefficients $x_1, x_2, x_3$ such that $\\mathbf b = x_1\\mathbf a_1 + x_2 \\mathbf a_2 + x_3\\mathbf a_3$. The columns of $A$ therefore are a basis for $\\mathbb R^3$.\n",
    "\n",
    "By an analogous argument, it follows that\n",
    "\n",
    "**The columns of an invertible $n\\times n$ matrix form a basis for $\\mathbb R^n$**."
   ]
  },
  {
   "cell_type": "markdown",
   "id": "cdcdef1f",
   "metadata": {
    "slideshow": {
     "slide_type": "slide"
    }
   },
   "source": [
    "# The four subspaces of a matrix\n",
    "\n",
    "So far we have looked at two subspaces of an $n\\times m$ matrix $A$:\n",
    "\n",
    "- the **column space** $C(A)$\n",
    "- the **nullspace** $N(A)$\n",
    "\n",
    "The transpose $A^T$ also has these two subspaces:\n",
    "\n",
    "- the column space $C(A^T)$ is called the **row space of $A$**\n",
    "- the null space $N(A^T)$ is called the **left nullspace of $A$**\n",
    "\n",
    "What can we say about the number of dimensions of these four subspaces?\n",
    "\n",
    "- dimensions of $C(A) < n$\n",
    "- dimensions of $C(A^T) < m$\n",
    "\n",
    "We want to do better than that!"
   ]
  },
  {
   "cell_type": "markdown",
   "id": "1c43fa79",
   "metadata": {
    "slideshow": {
     "slide_type": "slide"
    }
   },
   "source": [
    "### Subspaces of reduced row echelon form matrices\n",
    "\n",
    "Let us start with matrices in reduced row echelon form. Example:\n",
    "\n",
    "$$\n",
    "R = \\left[\\begin{array}{r}\n",
    "1 & 2 & 0 & -2& 0\\\\\n",
    "0 & 0 & 1 & -1& 3\\\\\n",
    "0 & 0 & 0 & 0 & 0\n",
    "\\end{array}\\right]\n",
    "$$\n",
    "\n",
    "- columns $\\mathbf r_1$ an $\\mathbf r_3$ are pivot columns\n",
    "- columns $\\mathbf r_2, \\mathbf r_4$ and $\\mathbf r_5$ are free columns\n",
    "\n",
    "**Observation**: The pivot columns form a basis for $C(R)$.\n",
    "\n",
    "$$\n",
    "\\begin{aligned}\n",
    "\\mathbf r_2 &= 2\\mathbf r_1\\\\\n",
    "\\mathbf r_4 &= -2\\mathbf r_1-\\mathbf r_3\\\\\n",
    "\\mathbf r_5 &=  3\\mathbf r_3\n",
    "\\end{aligned}\n",
    "$$\n",
    "\n",
    "Remember that the *rank of $R$* is the number of pivot columns. Hence the rank of $R$ is the number of dimensions of the column space. In the example, this number is 2.\n",
    "\n",
    "(Here this is only demonstrated with a single example, but the argument works for any matrix in reduced row echelon form.)"
   ]
  },
  {
   "cell_type": "markdown",
   "id": "eb26e005",
   "metadata": {
    "slideshow": {
     "slide_type": "slide"
    }
   },
   "source": [
    "There is one special solution to $R\\mathbf x = \\mathbf 0$ for each free column of $R$:\n",
    "\n",
    "$$\n",
    "\\begin{aligned}\n",
    "\\mathbf x_1 &= \\left[\\begin{array}{r}-2\\\\1\\\\0\\\\0\\\\0\\end{array}\\right]&\n",
    "\\mathbf x_2 &= \\left[\\begin{array}{r}2\\\\0\\\\1\\\\1\\\\0\\end{array}\\right]&\n",
    "\\mathbf x_2 &= \\left[\\begin{array}{r}0\\\\0\\\\-3\\\\0\\\\1\\end{array}\\right]\n",
    "\\end{aligned}\n",
    "$$\n",
    "\n"
   ]
  },
  {
   "cell_type": "markdown",
   "id": "b997614f",
   "metadata": {
    "slideshow": {
     "slide_type": "slide"
    }
   },
   "source": [
    "\n",
    "With *sympy*:"
   ]
  },
  {
   "cell_type": "code",
   "execution_count": 13,
   "id": "464947bb",
   "metadata": {},
   "outputs": [
    {
     "data": {
      "text/latex": [
       "$\\displaystyle \\left[\\begin{matrix}1 & 2 & 0 & -2 & 0\\\\0 & 0 & 1 & -1 & 3\\\\0 & 0 & 0 & 0 & 0\\end{matrix}\\right]$"
      ],
      "text/plain": [
       "Matrix([\n",
       "[1, 2, 0, -2, 0],\n",
       "[0, 0, 1, -1, 3],\n",
       "[0, 0, 0,  0, 0]])"
      ]
     },
     "execution_count": 13,
     "metadata": {},
     "output_type": "execute_result"
    }
   ],
   "source": [
    "R = Matrix([\n",
    "    [1,2,0,-2,0],\n",
    "    [0,0,1,-1,3],\n",
    "    [0,0,0,0,0]\n",
    "])\n",
    "R"
   ]
  },
  {
   "cell_type": "code",
   "execution_count": 14,
   "id": "e03389fb",
   "metadata": {},
   "outputs": [],
   "source": [
    "x1, x2, x3 = R.nullspace()"
   ]
  },
  {
   "cell_type": "code",
   "execution_count": 15,
   "id": "e00cbd89",
   "metadata": {},
   "outputs": [
    {
     "data": {
      "text/latex": [
       "$\\displaystyle \\left[\\begin{matrix}-2\\\\1\\\\0\\\\0\\\\0\\end{matrix}\\right]$"
      ],
      "text/plain": [
       "Matrix([\n",
       "[-2],\n",
       "[ 1],\n",
       "[ 0],\n",
       "[ 0],\n",
       "[ 0]])"
      ]
     },
     "execution_count": 15,
     "metadata": {},
     "output_type": "execute_result"
    }
   ],
   "source": [
    "x1"
   ]
  },
  {
   "cell_type": "code",
   "execution_count": 16,
   "id": "0c2939d4",
   "metadata": {},
   "outputs": [
    {
     "data": {
      "text/latex": [
       "$\\displaystyle \\left[\\begin{matrix}2\\\\0\\\\1\\\\1\\\\0\\end{matrix}\\right]$"
      ],
      "text/plain": [
       "Matrix([\n",
       "[2],\n",
       "[0],\n",
       "[1],\n",
       "[1],\n",
       "[0]])"
      ]
     },
     "execution_count": 16,
     "metadata": {},
     "output_type": "execute_result"
    }
   ],
   "source": [
    "x2"
   ]
  },
  {
   "cell_type": "code",
   "execution_count": 17,
   "id": "92cf9e34",
   "metadata": {},
   "outputs": [
    {
     "data": {
      "text/latex": [
       "$\\displaystyle \\left[\\begin{matrix}0\\\\0\\\\-3\\\\0\\\\1\\end{matrix}\\right]$"
      ],
      "text/plain": [
       "Matrix([\n",
       "[ 0],\n",
       "[ 0],\n",
       "[-3],\n",
       "[ 0],\n",
       "[ 1]])"
      ]
     },
     "execution_count": 17,
     "metadata": {},
     "output_type": "execute_result"
    }
   ],
   "source": [
    "x3"
   ]
  },
  {
   "cell_type": "markdown",
   "id": "48a5d64d",
   "metadata": {
    "slideshow": {
     "slide_type": "slide"
    }
   },
   "source": [
    "collecting them in a matrix:\n",
    "\n",
    "$$\n",
    "X = \\left[\\begin{array}{r}\n",
    "-2 & 2 & 0\\\\\n",
    "1 & 0 & 0\\\\\n",
    "0 & 1 & -3\\\\\n",
    "0 & 1 & 0\\\\\n",
    "0 & 0 & 1\n",
    "\\end{array}\\right]\n",
    "$$\n",
    "\n",
    "Now consider the system\n",
    "\n",
    "$$\n",
    "X\\mathbf z = \\mathbf 0\n",
    "$$\n",
    "\n",
    "Solving via substitution, this gives\n",
    "\n",
    "$$\n",
    "\\begin{aligned}\n",
    "-2z_1 + 2 z_2 &= 0\\\\\n",
    "z_1 &= 0\\\\\n",
    "z_2-3z_3 &= 0\\\\\n",
    "z_2 &= 0\\\\\n",
    "z_3 &= 0\n",
    "\\end{aligned}\n",
    "$$\n",
    "\n",
    "Therefore $\\mathbf z = \\mathbf 0$. The columns of $X$ are linearly independent, so they are a basis for $N(R)$.\n",
    "\n",
    "There are as many columns in $X$ as there are free columns in $R$. If $r$ is the rank of $R$, there are $r$ pivot columns and $n-r$ free columns.\n",
    "\n",
    "**The nullspace $N(R)$ has $n-r$ dimensions.**"
   ]
  },
  {
   "cell_type": "markdown",
   "id": "43f0bd19",
   "metadata": {
    "slideshow": {
     "slide_type": "slide"
    }
   },
   "source": [
    "## Dimensions of the row space of $R$\n",
    "\n",
    "Now let us focus on the row space of $R$, which is the column space of \n",
    "\n",
    "$$\n",
    "R^T = \\left[\\begin{array}{r}\n",
    "1 & 0 & 0\\\\\n",
    "2 & 0 & 0\\\\\n",
    "0 & 1 & 0\\\\\n",
    "-2 & -1 & 0\\\\\n",
    "0 & 3 & 0\n",
    "\\end{array}\\right]\n",
    "$$\n",
    "\n",
    "By the construction of reduced row echelon forms, each row of $R$, i.e. each column of $R^T$, either contains a pivot or it is all-zero. By the same argument, each pivot row of $R^T$ contains a $1$ in one column and $0$ in all other columns, and all pivot columns are different.\n",
    "\n",
    "Two oberservations follow from this:\n",
    "\n",
    "- The pivot columns are linearly independent.\n",
    "- The pivot columns form a basis of $C(R^T)$.\n",
    "\n",
    "Since the number of pivot columns equals $r$, the rank of $R$, **the row space of $R$ has $r$ dimensions**.\n"
   ]
  },
  {
   "cell_type": "markdown",
   "id": "580d729e",
   "metadata": {
    "slideshow": {
     "slide_type": "slide"
    }
   },
   "source": [
    "When we bring $R^T$ in reduced row echelon form, pivot columns remain pivot columns:\n",
    "\n",
    "\n",
    "$$\n",
    "\\begin{aligned}\n",
    "R^T &= \\left[\\begin{array}{r}\n",
    "1 & 0 & 0\\\\\n",
    "2 & 0 & 0\\\\\n",
    "0 & 1 & 0\\\\\n",
    "-2 & -1 & 0\\\\\n",
    "0 & 3 & 0\n",
    "\\end{array}\\right]\\\\\n",
    "\\mathrm{rref}(R^T) &= \\left[\\begin{array}{r}\n",
    "1 & 0 & 0\\\\\n",
    "0 & 0 & 0\\\\\n",
    "0 & 1 & 0\\\\\n",
    "0 & 0 & 0\\\\\n",
    "0 & 0 & 0\n",
    "\\end{array}\\right]\n",
    "\\end{aligned}\n",
    "$$\n",
    "\n",
    "Hence the number of dimensions of $N(R^T)$, the left nullspace of $R$, is $m-r$.\n"
   ]
  },
  {
   "cell_type": "markdown",
   "id": "69e75e39",
   "metadata": {
    "slideshow": {
     "slide_type": "slide"
    }
   },
   "source": [
    "### Generalizing to all matrices\n",
    "\n",
    "We found that for an $m\\times n$ matrix $R$ in reduced row echelon form with rank $r$:\n",
    "\n",
    "- the row space of $R$ and the column space of $R$ both have $r$ dimensions\n",
    "- the null space of $R$ has $n-r$ dimensions\n",
    "- the left null space of $R$ has $m-r$ dimensions\n",
    "\n",
    "Next it will be shown that this holds not just for matrices in reduced row echelon form, but for all matrices $m\\times n$ matrices."
   ]
  },
  {
   "cell_type": "markdown",
   "id": "f7f75c23",
   "metadata": {},
   "source": [
    "Let \n",
    "\n",
    "$$\n",
    "A = \\left[\\begin{array}{r}\n",
    "-1 & -2 & -2 & 4 & -6\\\\\n",
    "-2 & -4 & - \\frac{7}{2} & \\frac{15}{2} & - \\frac{21}{2}\\\\\n",
    "2 & 4 & 3 & -7 & 9\n",
    "\\end{array}\\right]\n",
    "$$\n",
    "\n",
    "When performing Gauss-Jordan elimination, we multiply $A$ repeatedly with matrices from the left.\n",
    "\n"
   ]
  },
  {
   "cell_type": "markdown",
   "id": "4aa5ea1f",
   "metadata": {
    "slideshow": {
     "slide_type": "slide"
    }
   },
   "source": [
    "\n",
    "\n",
    "These matrices have one of two forms:\n",
    "\n",
    "- elimination matrix, i.e. a matrix with \n",
    "    - $1$s at the diagonal,\n",
    "    - one non-zero entry off the diagonal, and\n",
    "    - $0$s everywhere else\n",
    "- an invertable diagonal matrix, i.e., a matrix with \n",
    "    - non-zero entries along the diagonal and \n",
    "    - $0$ everywhere else"
   ]
  },
  {
   "cell_type": "code",
   "execution_count": 18,
   "id": "a18a1cb8",
   "metadata": {},
   "outputs": [
    {
     "data": {
      "text/latex": [
       "$\\displaystyle \\left[\\begin{matrix}-1 & -2 & -2 & 4 & -6\\\\-2 & -4 & - \\frac{7}{2} & \\frac{15}{2} & - \\frac{21}{2}\\\\2 & 4 & 3 & -7 & 9\\end{matrix}\\right]$"
      ],
      "text/plain": [
       "Matrix([\n",
       "[-1, -2,   -2,    4,    -6],\n",
       "[-2, -4, -7/2, 15/2, -21/2],\n",
       "[ 2,  4,    3,   -7,     9]])"
      ]
     },
     "execution_count": 18,
     "metadata": {},
     "output_type": "execute_result"
    }
   ],
   "source": [
    "A = Matrix([\n",
    "    [-1, -2, -2, 4, -6],\n",
    "    [-2, -4, -Rational(7,2), Rational(15,2), -Rational(21,2)],\n",
    "    [2,4,3,-7,9]\n",
    "])\n",
    "A"
   ]
  },
  {
   "cell_type": "code",
   "execution_count": 19,
   "id": "bcf82298",
   "metadata": {
    "slideshow": {
     "slide_type": "slide"
    }
   },
   "outputs": [
    {
     "data": {
      "text/latex": [
       "$\\displaystyle \\left[\\begin{matrix}1 & 0 & 0\\\\-2 & 1 & 0\\\\0 & 0 & 1\\end{matrix}\\right]$"
      ],
      "text/plain": [
       "Matrix([\n",
       "[ 1, 0, 0],\n",
       "[-2, 1, 0],\n",
       "[ 0, 0, 1]])"
      ]
     },
     "execution_count": 19,
     "metadata": {},
     "output_type": "execute_result"
    }
   ],
   "source": [
    "E1 = Matrix([\n",
    "    [1, 0, 0],\n",
    "    [-2, 1, 0],\n",
    "    [0, 0, 1]\n",
    "])\n",
    "E1"
   ]
  },
  {
   "cell_type": "code",
   "execution_count": 20,
   "id": "f231047a",
   "metadata": {},
   "outputs": [
    {
     "data": {
      "text/latex": [
       "$\\displaystyle \\left[\\begin{matrix}-1 & -2 & -2 & 4 & -6\\\\0 & 0 & \\frac{1}{2} & - \\frac{1}{2} & \\frac{3}{2}\\\\2 & 4 & 3 & -7 & 9\\end{matrix}\\right]$"
      ],
      "text/plain": [
       "Matrix([\n",
       "[-1, -2,  -2,    4,  -6],\n",
       "[ 0,  0, 1/2, -1/2, 3/2],\n",
       "[ 2,  4,   3,   -7,   9]])"
      ]
     },
     "execution_count": 20,
     "metadata": {},
     "output_type": "execute_result"
    }
   ],
   "source": [
    "B = E1 * A\n",
    "B"
   ]
  },
  {
   "cell_type": "code",
   "execution_count": 21,
   "id": "934d23ac",
   "metadata": {
    "slideshow": {
     "slide_type": "-"
    }
   },
   "outputs": [
    {
     "data": {
      "text/latex": [
       "$\\displaystyle \\left[\\begin{matrix}1 & 0 & 0\\\\0 & 1 & 0\\\\2 & 0 & 1\\end{matrix}\\right]$"
      ],
      "text/plain": [
       "Matrix([\n",
       "[1, 0, 0],\n",
       "[0, 1, 0],\n",
       "[2, 0, 1]])"
      ]
     },
     "execution_count": 21,
     "metadata": {},
     "output_type": "execute_result"
    }
   ],
   "source": [
    "E2 = Matrix([\n",
    "    [1, 0, 0],\n",
    "    [0, 1, 0],\n",
    "    [2, 0, 1]\n",
    "])\n",
    "E2"
   ]
  },
  {
   "cell_type": "code",
   "execution_count": 22,
   "id": "61e31b14",
   "metadata": {},
   "outputs": [
    {
     "data": {
      "text/latex": [
       "$\\displaystyle \\left[\\begin{matrix}-1 & -2 & -2 & 4 & -6\\\\0 & 0 & \\frac{1}{2} & - \\frac{1}{2} & \\frac{3}{2}\\\\0 & 0 & -1 & 1 & -3\\end{matrix}\\right]$"
      ],
      "text/plain": [
       "Matrix([\n",
       "[-1, -2,  -2,    4,  -6],\n",
       "[ 0,  0, 1/2, -1/2, 3/2],\n",
       "[ 0,  0,  -1,    1,  -3]])"
      ]
     },
     "execution_count": 22,
     "metadata": {},
     "output_type": "execute_result"
    }
   ],
   "source": [
    "B = E2 * B\n",
    "B"
   ]
  },
  {
   "cell_type": "code",
   "execution_count": 23,
   "id": "c8973b94",
   "metadata": {
    "slideshow": {
     "slide_type": "slide"
    }
   },
   "outputs": [
    {
     "data": {
      "text/latex": [
       "$\\displaystyle \\left[\\begin{matrix}1 & 0 & 0\\\\0 & 1 & 0\\\\0 & 2 & 1\\end{matrix}\\right]$"
      ],
      "text/plain": [
       "Matrix([\n",
       "[1, 0, 0],\n",
       "[0, 1, 0],\n",
       "[0, 2, 1]])"
      ]
     },
     "execution_count": 23,
     "metadata": {},
     "output_type": "execute_result"
    }
   ],
   "source": [
    "E3 = Matrix([\n",
    "    [1, 0, 0],\n",
    "    [0, 1, 0],\n",
    "    [0, 2, 1]\n",
    "])\n",
    "E3"
   ]
  },
  {
   "cell_type": "code",
   "execution_count": 24,
   "id": "00cd29b1",
   "metadata": {},
   "outputs": [
    {
     "data": {
      "text/latex": [
       "$\\displaystyle \\left[\\begin{matrix}-1 & -2 & -2 & 4 & -6\\\\0 & 0 & \\frac{1}{2} & - \\frac{1}{2} & \\frac{3}{2}\\\\0 & 0 & 0 & 0 & 0\\end{matrix}\\right]$"
      ],
      "text/plain": [
       "Matrix([\n",
       "[-1, -2,  -2,    4,  -6],\n",
       "[ 0,  0, 1/2, -1/2, 3/2],\n",
       "[ 0,  0,   0,    0,   0]])"
      ]
     },
     "execution_count": 24,
     "metadata": {},
     "output_type": "execute_result"
    }
   ],
   "source": [
    "B = E3 * B\n",
    "B"
   ]
  },
  {
   "cell_type": "code",
   "execution_count": 25,
   "id": "a5fe40d1",
   "metadata": {},
   "outputs": [
    {
     "data": {
      "text/latex": [
       "$\\displaystyle \\left[\\begin{matrix}1 & 4 & 0\\\\0 & 1 & 0\\\\0 & 0 & 1\\end{matrix}\\right]$"
      ],
      "text/plain": [
       "Matrix([\n",
       "[1, 4, 0],\n",
       "[0, 1, 0],\n",
       "[0, 0, 1]])"
      ]
     },
     "execution_count": 25,
     "metadata": {},
     "output_type": "execute_result"
    }
   ],
   "source": [
    "E4 = Matrix([\n",
    "    [1, 4, 0],\n",
    "    [0, 1, 0],\n",
    "    [0, 0, 1]\n",
    "])\n",
    "E4"
   ]
  },
  {
   "cell_type": "code",
   "execution_count": 26,
   "id": "25dae674",
   "metadata": {},
   "outputs": [
    {
     "data": {
      "text/latex": [
       "$\\displaystyle \\left[\\begin{matrix}-1 & -2 & 0 & 2 & 0\\\\0 & 0 & \\frac{1}{2} & - \\frac{1}{2} & \\frac{3}{2}\\\\0 & 0 & 0 & 0 & 0\\end{matrix}\\right]$"
      ],
      "text/plain": [
       "Matrix([\n",
       "[-1, -2,   0,    2,   0],\n",
       "[ 0,  0, 1/2, -1/2, 3/2],\n",
       "[ 0,  0,   0,    0,   0]])"
      ]
     },
     "execution_count": 26,
     "metadata": {},
     "output_type": "execute_result"
    }
   ],
   "source": [
    "B = E4 * B\n",
    "B"
   ]
  },
  {
   "cell_type": "code",
   "execution_count": 27,
   "id": "c43b585c",
   "metadata": {
    "slideshow": {
     "slide_type": "slide"
    }
   },
   "outputs": [
    {
     "data": {
      "text/latex": [
       "$\\displaystyle \\left[\\begin{matrix}-1 & 0 & 0\\\\0 & 2 & 0\\\\0 & 0 & 1\\end{matrix}\\right]$"
      ],
      "text/plain": [
       "Matrix([\n",
       "[-1, 0, 0],\n",
       "[ 0, 2, 0],\n",
       "[ 0, 0, 1]])"
      ]
     },
     "execution_count": 27,
     "metadata": {},
     "output_type": "execute_result"
    }
   ],
   "source": [
    "D = Matrix([\n",
    "    [-1, 0, 0],\n",
    "    [0, 2, 0],\n",
    "    [0, 0, 1]\n",
    "])\n",
    "D"
   ]
  },
  {
   "cell_type": "code",
   "execution_count": 28,
   "id": "c5eee6b9",
   "metadata": {},
   "outputs": [
    {
     "data": {
      "text/latex": [
       "$\\displaystyle \\left[\\begin{matrix}1 & 2 & 0 & -2 & 0\\\\0 & 0 & 1 & -1 & 3\\\\0 & 0 & 0 & 0 & 0\\end{matrix}\\right]$"
      ],
      "text/plain": [
       "Matrix([\n",
       "[1, 2, 0, -2, 0],\n",
       "[0, 0, 1, -1, 3],\n",
       "[0, 0, 0,  0, 0]])"
      ]
     },
     "execution_count": 28,
     "metadata": {},
     "output_type": "execute_result"
    }
   ],
   "source": [
    "B = D * B\n",
    "B"
   ]
  },
  {
   "cell_type": "code",
   "execution_count": 29,
   "id": "bd3e58d5",
   "metadata": {},
   "outputs": [
    {
     "data": {
      "text/latex": [
       "$\\displaystyle \\left[\\begin{matrix}1 & 2 & 0 & -2 & 0\\\\0 & 0 & 1 & -1 & 3\\\\0 & 0 & 0 & 0 & 0\\end{matrix}\\right]$"
      ],
      "text/plain": [
       "Matrix([\n",
       "[1, 2, 0, -2, 0],\n",
       "[0, 0, 1, -1, 3],\n",
       "[0, 0, 0,  0, 0]])"
      ]
     },
     "execution_count": 29,
     "metadata": {},
     "output_type": "execute_result"
    }
   ],
   "source": [
    "A.rref()[0]"
   ]
  },
  {
   "cell_type": "markdown",
   "id": "c6fd93c3",
   "metadata": {
    "slideshow": {
     "slide_type": "slide"
    }
   },
   "source": [
    "**Observations**:\n",
    "\n",
    "- Elimination matrices and invertable diagonal matrices are invertable.\n",
    "- Let $U$ be an invertable matrix. If a subset of the columns of $B$ form a basis of $C(B)$, than the corresponding columns of $UB$ form a basis for of $C(UB)$\n",
    "\n",
    "\n",
    "The first statement should be obvious. To invert an elimination matrix, you only have to replace its non-zero off-diagonal entry with its negation.\n"
   ]
  },
  {
   "cell_type": "code",
   "execution_count": 30,
   "id": "cebdb9c3",
   "metadata": {},
   "outputs": [
    {
     "data": {
      "text/latex": [
       "$\\displaystyle \\left[\\begin{matrix}1 & 0 & 0\\\\-2 & 1 & 0\\\\0 & 0 & 1\\end{matrix}\\right]$"
      ],
      "text/plain": [
       "Matrix([\n",
       "[ 1, 0, 0],\n",
       "[-2, 1, 0],\n",
       "[ 0, 0, 1]])"
      ]
     },
     "execution_count": 30,
     "metadata": {},
     "output_type": "execute_result"
    }
   ],
   "source": [
    "E1"
   ]
  },
  {
   "cell_type": "code",
   "execution_count": 31,
   "id": "a1da6013",
   "metadata": {},
   "outputs": [
    {
     "data": {
      "text/latex": [
       "$\\displaystyle \\left[\\begin{matrix}1 & 0 & 0\\\\2 & 1 & 0\\\\0 & 0 & 1\\end{matrix}\\right]$"
      ],
      "text/plain": [
       "Matrix([\n",
       "[1, 0, 0],\n",
       "[2, 1, 0],\n",
       "[0, 0, 1]])"
      ]
     },
     "execution_count": 31,
     "metadata": {},
     "output_type": "execute_result"
    }
   ],
   "source": [
    "E1.inv()"
   ]
  },
  {
   "cell_type": "markdown",
   "id": "a538d649",
   "metadata": {
    "slideshow": {
     "slide_type": "slide"
    }
   },
   "source": [
    "To invert an invertable diagonal matrix, you replace each diagonal entry with its inverse."
   ]
  },
  {
   "cell_type": "code",
   "execution_count": 32,
   "id": "75c7f202",
   "metadata": {},
   "outputs": [
    {
     "data": {
      "text/latex": [
       "$\\displaystyle \\left[\\begin{matrix}-1 & 0 & 0\\\\0 & 2 & 0\\\\0 & 0 & 1\\end{matrix}\\right]$"
      ],
      "text/plain": [
       "Matrix([\n",
       "[-1, 0, 0],\n",
       "[ 0, 2, 0],\n",
       "[ 0, 0, 1]])"
      ]
     },
     "execution_count": 32,
     "metadata": {},
     "output_type": "execute_result"
    }
   ],
   "source": [
    "D"
   ]
  },
  {
   "cell_type": "code",
   "execution_count": 33,
   "id": "ba5aec42",
   "metadata": {},
   "outputs": [
    {
     "data": {
      "text/latex": [
       "$\\displaystyle \\left[\\begin{matrix}-1 & 0 & 0\\\\0 & \\frac{1}{2} & 0\\\\0 & 0 & 1\\end{matrix}\\right]$"
      ],
      "text/plain": [
       "Matrix([\n",
       "[-1,   0, 0],\n",
       "[ 0, 1/2, 0],\n",
       "[ 0,   0, 1]])"
      ]
     },
     "execution_count": 33,
     "metadata": {},
     "output_type": "execute_result"
    }
   ],
   "source": [
    "D.inv()"
   ]
  },
  {
   "cell_type": "markdown",
   "id": "80a640c5",
   "metadata": {},
   "source": [
    "Now consider the second statement. Recall the running example\n",
    "\n",
    "$$\n",
    "A = \\left[\\begin{array}{r}\n",
    "-1 & -2 & -2 & 4 & -6\\\\\n",
    "-2 & -4 & - \\frac{7}{2} & \\frac{15}{2} & - \\frac{21}{2}\\\\\n",
    "2 & 4 & 3 & -7 & 9\n",
    "\\end{array}\\right]\n",
    "$$\n",
    "\n",
    "\n",
    "Here $\\{\\mathbf a_1, \\mathbf a_3\\}$ form a basis for the column space.\n"
   ]
  },
  {
   "cell_type": "code",
   "execution_count": 34,
   "id": "1ed75f9f",
   "metadata": {
    "slideshow": {
     "slide_type": "slide"
    }
   },
   "outputs": [
    {
     "data": {
      "text/latex": [
       "$\\displaystyle \\left[\\begin{matrix}-1 & -2\\\\-2 & - \\frac{7}{2}\\\\2 & 3\\end{matrix}\\right]$"
      ],
      "text/plain": [
       "Matrix([\n",
       "[-1,   -2],\n",
       "[-2, -7/2],\n",
       "[ 2,    3]])"
      ]
     },
     "execution_count": 34,
     "metadata": {},
     "output_type": "execute_result"
    }
   ],
   "source": [
    "D = A[:, [0,2]]\n",
    "D"
   ]
  },
  {
   "cell_type": "code",
   "execution_count": 35,
   "id": "ffa29b2c",
   "metadata": {},
   "outputs": [
    {
     "data": {
      "text/latex": [
       "$\\displaystyle \\left[\\begin{matrix}1 & 2 & 0 & -2 & 0\\\\0 & 0 & 1 & -1 & 3\\end{matrix}\\right]$"
      ],
      "text/plain": [
       "Matrix([\n",
       "[1, 2, 0, -2, 0],\n",
       "[0, 0, 1, -1, 3]])"
      ]
     },
     "execution_count": 35,
     "metadata": {},
     "output_type": "execute_result"
    }
   ],
   "source": [
    "D.solve(A)"
   ]
  },
  {
   "cell_type": "code",
   "execution_count": 39,
   "id": "5537ba9f",
   "metadata": {},
   "outputs": [
    {
     "ename": "NonInvertibleMatrixError",
     "evalue": "Matrix det == 0; not invertible.",
     "output_type": "error",
     "traceback": [
      "\u001b[0;31m---------------------------------------------------------------------------\u001b[0m",
      "\u001b[0;31mShapeError\u001b[0m                                Traceback (most recent call last)",
      "\u001b[0;32m/usr/lib/python3/dist-packages/sympy/matrices/solvers.py\u001b[0m in \u001b[0;36m_solve\u001b[0;34m(M, rhs, method)\u001b[0m\n\u001b[1;32m    750\u001b[0m         \u001b[0;32mtry\u001b[0m\u001b[0;34m:\u001b[0m\u001b[0;34m\u001b[0m\u001b[0;34m\u001b[0m\u001b[0m\n\u001b[0;32m--> 751\u001b[0;31m             \u001b[0msoln\u001b[0m\u001b[0;34m,\u001b[0m \u001b[0mparam\u001b[0m \u001b[0;34m=\u001b[0m \u001b[0mM\u001b[0m\u001b[0;34m.\u001b[0m\u001b[0mgauss_jordan_solve\u001b[0m\u001b[0;34m(\u001b[0m\u001b[0mrhs\u001b[0m\u001b[0;34m)\u001b[0m\u001b[0;34m\u001b[0m\u001b[0;34m\u001b[0m\u001b[0m\n\u001b[0m\u001b[1;32m    752\u001b[0m \u001b[0;34m\u001b[0m\u001b[0m\n",
      "\u001b[0;32m/usr/lib/python3/dist-packages/sympy/matrices/matrices.py\u001b[0m in \u001b[0;36mgauss_jordan_solve\u001b[0;34m(self, B, freevar)\u001b[0m\n\u001b[1;32m   2183\u001b[0m     \u001b[0;32mdef\u001b[0m \u001b[0mgauss_jordan_solve\u001b[0m\u001b[0;34m(\u001b[0m\u001b[0mself\u001b[0m\u001b[0;34m,\u001b[0m \u001b[0mB\u001b[0m\u001b[0;34m,\u001b[0m \u001b[0mfreevar\u001b[0m\u001b[0;34m=\u001b[0m\u001b[0;32mFalse\u001b[0m\u001b[0;34m)\u001b[0m\u001b[0;34m:\u001b[0m\u001b[0;34m\u001b[0m\u001b[0;34m\u001b[0m\u001b[0m\n\u001b[0;32m-> 2184\u001b[0;31m         \u001b[0;32mreturn\u001b[0m \u001b[0m_gauss_jordan_solve\u001b[0m\u001b[0;34m(\u001b[0m\u001b[0mself\u001b[0m\u001b[0;34m,\u001b[0m \u001b[0mB\u001b[0m\u001b[0;34m,\u001b[0m \u001b[0mfreevar\u001b[0m\u001b[0;34m=\u001b[0m\u001b[0mfreevar\u001b[0m\u001b[0;34m)\u001b[0m\u001b[0;34m\u001b[0m\u001b[0;34m\u001b[0m\u001b[0m\n\u001b[0m\u001b[1;32m   2185\u001b[0m \u001b[0;34m\u001b[0m\u001b[0m\n",
      "\u001b[0;32m/usr/lib/python3/dist-packages/sympy/matrices/solvers.py\u001b[0m in \u001b[0;36m_gauss_jordan_solve\u001b[0;34m(M, B, freevar)\u001b[0m\n\u001b[1;32m    559\u001b[0m     \u001b[0mcls\u001b[0m      \u001b[0;34m=\u001b[0m \u001b[0mM\u001b[0m\u001b[0;34m.\u001b[0m\u001b[0m__class__\u001b[0m\u001b[0;34m\u001b[0m\u001b[0;34m\u001b[0m\u001b[0m\n\u001b[0;32m--> 560\u001b[0;31m     \u001b[0maug\u001b[0m      \u001b[0;34m=\u001b[0m \u001b[0mM\u001b[0m\u001b[0;34m.\u001b[0m\u001b[0mhstack\u001b[0m\u001b[0;34m(\u001b[0m\u001b[0mM\u001b[0m\u001b[0;34m.\u001b[0m\u001b[0mcopy\u001b[0m\u001b[0;34m(\u001b[0m\u001b[0;34m)\u001b[0m\u001b[0;34m,\u001b[0m \u001b[0mB\u001b[0m\u001b[0;34m.\u001b[0m\u001b[0mcopy\u001b[0m\u001b[0;34m(\u001b[0m\u001b[0;34m)\u001b[0m\u001b[0;34m)\u001b[0m\u001b[0;34m\u001b[0m\u001b[0;34m\u001b[0m\u001b[0m\n\u001b[0m\u001b[1;32m    561\u001b[0m     \u001b[0mB_cols\u001b[0m   \u001b[0;34m=\u001b[0m \u001b[0mB\u001b[0m\u001b[0;34m.\u001b[0m\u001b[0mcols\u001b[0m\u001b[0;34m\u001b[0m\u001b[0;34m\u001b[0m\u001b[0m\n",
      "\u001b[0;32m/usr/lib/python3/dist-packages/sympy/matrices/common.py\u001b[0m in \u001b[0;36mhstack\u001b[0;34m(cls, *args)\u001b[0m\n\u001b[1;32m    420\u001b[0m         \u001b[0mkls\u001b[0m \u001b[0;34m=\u001b[0m \u001b[0mtype\u001b[0m\u001b[0;34m(\u001b[0m\u001b[0margs\u001b[0m\u001b[0;34m[\u001b[0m\u001b[0;36m0\u001b[0m\u001b[0;34m]\u001b[0m\u001b[0;34m)\u001b[0m\u001b[0;34m\u001b[0m\u001b[0;34m\u001b[0m\u001b[0m\n\u001b[0;32m--> 421\u001b[0;31m         \u001b[0;32mreturn\u001b[0m \u001b[0mreduce\u001b[0m\u001b[0;34m(\u001b[0m\u001b[0mkls\u001b[0m\u001b[0;34m.\u001b[0m\u001b[0mrow_join\u001b[0m\u001b[0;34m,\u001b[0m \u001b[0margs\u001b[0m\u001b[0;34m)\u001b[0m\u001b[0;34m\u001b[0m\u001b[0;34m\u001b[0m\u001b[0m\n\u001b[0m\u001b[1;32m    422\u001b[0m \u001b[0;34m\u001b[0m\u001b[0m\n",
      "\u001b[0;32m/usr/lib/python3/dist-packages/sympy/matrices/common.py\u001b[0m in \u001b[0;36mrow_join\u001b[0;34m(self, other)\u001b[0m\n\u001b[1;32m    523\u001b[0m         \u001b[0;32mif\u001b[0m \u001b[0mself\u001b[0m\u001b[0;34m.\u001b[0m\u001b[0mrows\u001b[0m \u001b[0;34m!=\u001b[0m \u001b[0mother\u001b[0m\u001b[0;34m.\u001b[0m\u001b[0mrows\u001b[0m\u001b[0;34m:\u001b[0m\u001b[0;34m\u001b[0m\u001b[0;34m\u001b[0m\u001b[0m\n\u001b[0;32m--> 524\u001b[0;31m             raise ShapeError(\n\u001b[0m\u001b[1;32m    525\u001b[0m                 \"`self` and `rhs` must have the same number of rows.\")\n",
      "\u001b[0;31mShapeError\u001b[0m: `self` and `rhs` must have the same number of rows.",
      "\nDuring handling of the above exception, another exception occurred:\n",
      "\u001b[0;31mNonInvertibleMatrixError\u001b[0m                  Traceback (most recent call last)",
      "\u001b[0;32m/tmp/ipykernel_12771/1276865807.py\u001b[0m in \u001b[0;36m<module>\u001b[0;34m\u001b[0m\n\u001b[0;32m----> 1\u001b[0;31m \u001b[0mD\u001b[0m\u001b[0;34m.\u001b[0m\u001b[0msolve\u001b[0m\u001b[0;34m(\u001b[0m\u001b[0mMatrix\u001b[0m\u001b[0;34m(\u001b[0m\u001b[0;34m[\u001b[0m\u001b[0;36m0\u001b[0m\u001b[0;34m,\u001b[0m\u001b[0;36m0\u001b[0m\u001b[0;34m]\u001b[0m\u001b[0;34m)\u001b[0m\u001b[0;34m)\u001b[0m\u001b[0;34m\u001b[0m\u001b[0;34m\u001b[0m\u001b[0m\n\u001b[0m",
      "\u001b[0;32m/usr/lib/python3/dist-packages/sympy/matrices/matrices.py\u001b[0m in \u001b[0;36msolve\u001b[0;34m(self, rhs, method)\u001b[0m\n\u001b[1;32m   2188\u001b[0m \u001b[0;34m\u001b[0m\u001b[0m\n\u001b[1;32m   2189\u001b[0m     \u001b[0;32mdef\u001b[0m \u001b[0msolve\u001b[0m\u001b[0;34m(\u001b[0m\u001b[0mself\u001b[0m\u001b[0;34m,\u001b[0m \u001b[0mrhs\u001b[0m\u001b[0;34m,\u001b[0m \u001b[0mmethod\u001b[0m\u001b[0;34m=\u001b[0m\u001b[0;34m'GJ'\u001b[0m\u001b[0;34m)\u001b[0m\u001b[0;34m:\u001b[0m\u001b[0;34m\u001b[0m\u001b[0;34m\u001b[0m\u001b[0m\n\u001b[0;32m-> 2190\u001b[0;31m         \u001b[0;32mreturn\u001b[0m \u001b[0m_solve\u001b[0m\u001b[0;34m(\u001b[0m\u001b[0mself\u001b[0m\u001b[0;34m,\u001b[0m \u001b[0mrhs\u001b[0m\u001b[0;34m,\u001b[0m \u001b[0mmethod\u001b[0m\u001b[0;34m=\u001b[0m\u001b[0mmethod\u001b[0m\u001b[0;34m)\u001b[0m\u001b[0;34m\u001b[0m\u001b[0;34m\u001b[0m\u001b[0m\n\u001b[0m\u001b[1;32m   2191\u001b[0m \u001b[0;34m\u001b[0m\u001b[0m\n\u001b[1;32m   2192\u001b[0m     \u001b[0;32mdef\u001b[0m \u001b[0msolve_least_squares\u001b[0m\u001b[0;34m(\u001b[0m\u001b[0mself\u001b[0m\u001b[0;34m,\u001b[0m \u001b[0mrhs\u001b[0m\u001b[0;34m,\u001b[0m \u001b[0mmethod\u001b[0m\u001b[0;34m=\u001b[0m\u001b[0;34m'CH'\u001b[0m\u001b[0;34m)\u001b[0m\u001b[0;34m:\u001b[0m\u001b[0;34m\u001b[0m\u001b[0;34m\u001b[0m\u001b[0m\n",
      "\u001b[0;32m/usr/lib/python3/dist-packages/sympy/matrices/solvers.py\u001b[0m in \u001b[0;36m_solve\u001b[0;34m(M, rhs, method)\u001b[0m\n\u001b[1;32m    756\u001b[0m \u001b[0;34m\u001b[0m\u001b[0m\n\u001b[1;32m    757\u001b[0m         \u001b[0;32mexcept\u001b[0m \u001b[0mValueError\u001b[0m\u001b[0;34m:\u001b[0m\u001b[0;34m\u001b[0m\u001b[0;34m\u001b[0m\u001b[0m\n\u001b[0;32m--> 758\u001b[0;31m             \u001b[0;32mraise\u001b[0m \u001b[0mNonInvertibleMatrixError\u001b[0m\u001b[0;34m(\u001b[0m\u001b[0;34m\"Matrix det == 0; not invertible.\"\u001b[0m\u001b[0;34m)\u001b[0m\u001b[0;34m\u001b[0m\u001b[0;34m\u001b[0m\u001b[0m\n\u001b[0m\u001b[1;32m    759\u001b[0m \u001b[0;34m\u001b[0m\u001b[0m\n\u001b[1;32m    760\u001b[0m         \u001b[0;32mreturn\u001b[0m \u001b[0msoln\u001b[0m\u001b[0;34m\u001b[0m\u001b[0;34m\u001b[0m\u001b[0m\n",
      "\u001b[0;31mNonInvertibleMatrixError\u001b[0m: Matrix det == 0; not invertible."
     ]
    }
   ],
   "source": [
    "D.solve(Matrix([0,0]))"
   ]
  },
  {
   "cell_type": "markdown",
   "id": "2980d81a",
   "metadata": {
    "slideshow": {
     "slide_type": "slide"
    }
   },
   "source": [
    "We get from $A$ to $\\begin{bmatrix}\\mathbf a_1, \\mathbf a_3\\end{bmatrix}$ by multiplying $A$ with\n",
    "\n",
    "$$\n",
    "\\begin{aligned}\n",
    "W &= \\begin{bmatrix}\n",
    "1 & 0\\\\\n",
    "0 & 0\\\\\n",
    "0 & 1\\\\\n",
    "0 & 0\\\\\n",
    "0 & 0\n",
    "\\end{bmatrix}\\\\\n",
    "AW &= D\n",
    "\\end{aligned}\n",
    "$$\n",
    "\n",
    "In general, $W$ is an $n\\times k$ matrix, $k\\leq n$, with exactly one 1 per column. Let us call such matrices *subset matrices*."
   ]
  },
  {
   "cell_type": "markdown",
   "id": "4448480e",
   "metadata": {},
   "source": [
    "Now let us assume:\n",
    "\n",
    "- $U$ is invertable\n",
    "- the columns of $BW$ form a basis for $C(B)$\n",
    "\n",
    "We need to show that $UBW$ form a basis for $C(UB)$.\n",
    "\n",
    "First we need to show that the columns of $UBW$ are linearly independent, i.e., $\\mathbf 0$ is the only solution for\n",
    "\n",
    "$$\n",
    "UBW\\mathbf x = \\mathbf 0\n",
    "$$\n",
    "\n",
    "Suppose it is otherwise, i.e, $\\mathbf x \\neq \\mathbf 0$.\n",
    "\n",
    "Since $U$ is invertable:\n",
    "\n",
    "$$\n",
    "\\begin{aligned}\n",
    "U^{-1}UBW\\mathbf x &= \\mathbf 0\\\\\n",
    "BW\\mathbf x &= \\mathbf 0\n",
    "\\end{aligned}\n",
    "$$\n",
    "\n",
    "This contradicts the assumption that $BW$ is a basis for $C(B)$.\n"
   ]
  },
  {
   "cell_type": "markdown",
   "id": "8b726848",
   "metadata": {
    "slideshow": {
     "slide_type": "slide"
    }
   },
   "source": [
    "\n",
    "\n",
    "By assumption, $BW$ is a basis for $C(B)$. This means that each column vector of $B$ is a linear combination of the column vectors of $BW$. This amounts to saying that there is a matrix $X$ such that\n",
    "\n",
    "$$\n",
    "BWX = B\n",
    "$$\n",
    "\n",
    "We need to show that $UBW$ is a basis for $UB$, i.e., that there is a matrix $Y$ with\n",
    "\n",
    "$$\n",
    "UBWY = UB\n",
    "$$\n",
    "For $Y=X$, this follows directly from the assumptions."
   ]
  },
  {
   "cell_type": "markdown",
   "id": "0c69dde7",
   "metadata": {},
   "source": [
    "Taking everything together, it follows that **the columns of $A$ with the same indices as the pivot columns of rref($A$)** form a basis of $C(A)$.\n",
    "\n",
    "Therefore $C(A)$ has the same number of dimensions as $C(\\mathrm{rref}(A))$, which equals the rank of $A$.\n",
    "\n",
    "Furthermore, if $U$ is invertible, $U^T$ is also invertible. Therefore, applying Gauss-Jordan elimination does not change the dimensionality of the row space either. Since matrices in reduced row echelon form have the same number of dimensions for the row space and the column space, this also applies to all matrices.\n",
    "\n"
   ]
  },
  {
   "cell_type": "markdown",
   "id": "d6ef2462",
   "metadata": {
    "slideshow": {
     "slide_type": "slide"
    }
   },
   "source": [
    "\n",
    "\n",
    "Finally $U$ is invertible. If \n",
    "\n",
    "$$\n",
    "A\\mathbf x = \\mathbf 0,\n",
    "$$\n",
    "\n",
    "then \n",
    "$$\n",
    "\\begin{aligned}\n",
    "UA\\mathbf x &= U\\mathbf 0 = \\mathbf 0\n",
    "\\end{aligned}\n",
    "$$\n",
    "\n",
    "If \n",
    "$$\n",
    "UA\\mathbf x = \\mathbf 0,\n",
    "$$\n",
    "\n",
    "then\n",
    "\n",
    "$$\n",
    "\\begin{aligned}\n",
    "U^{-1}UA\\mathbf x &=  U^{-1}\\mathbf 0\\\\\n",
    "A\\mathbf x &= \\mathbf 0\n",
    "\\end{aligned}\n",
    "$$\n",
    "\n",
    "This entails that $A$ and $\\mathrm{rref}(A)$ have the same nullspace, end therefore the same number of dimensions of their nullspaces.\n"
   ]
  },
  {
   "cell_type": "markdown",
   "id": "81444ae4",
   "metadata": {
    "slideshow": {
     "slide_type": "slide"
    }
   },
   "source": [
    "### Summary\n",
    "\n",
    "Let $A$ be an $m\\times n$ matrix.\n",
    "\n",
    "- The column space $C(A)$ and the row space $C(A^T)$ both have dimension $r$ (the rank of $A$).\n",
    "- The nullspace $N(A)$ has dimension $n-r$.\n",
    "- The left nullspace $N(A^T)$ has dimension $m-r$."
   ]
  }
 ],
 "metadata": {
  "@webio": {
   "lastCommId": null,
   "lastKernelId": null
  },
  "celltoolbar": "Slideshow",
  "hide_input": false,
  "kernelspec": {
   "display_name": "Python 3 (ipykernel)",
   "language": "python",
   "name": "python3"
  },
  "language_info": {
   "codemirror_mode": {
    "name": "ipython",
    "version": 3
   },
   "file_extension": ".py",
   "mimetype": "text/x-python",
   "name": "python",
   "nbconvert_exporter": "python",
   "pygments_lexer": "ipython3",
   "version": "3.10.12"
  },
  "latex_envs": {
   "LaTeX_envs_menu_present": true,
   "autoclose": false,
   "autocomplete": true,
   "bibliofile": "biblio.bib",
   "cite_by": "apalike",
   "current_citInitial": 1,
   "eqLabelWithNumbers": true,
   "eqNumInitial": 1,
   "hotkeys": {
    "equation": "Ctrl-E",
    "itemize": "Ctrl-I"
   },
   "labels_anchors": false,
   "latex_user_defs": false,
   "report_style_numbering": false,
   "user_envs_cfg": false
  },
  "varInspector": {
   "cols": {
    "lenName": 16,
    "lenType": 16,
    "lenVar": 40
   },
   "kernels_config": {
    "python": {
     "delete_cmd_postfix": "",
     "delete_cmd_prefix": "del ",
     "library": "var_list.py",
     "varRefreshCmd": "print(var_dic_list())"
    },
    "r": {
     "delete_cmd_postfix": ") ",
     "delete_cmd_prefix": "rm(",
     "library": "var_list.r",
     "varRefreshCmd": "cat(var_dic_list()) "
    }
   },
   "types_to_exclude": [
    "module",
    "function",
    "builtin_function_or_method",
    "instance",
    "_Feature"
   ],
   "window_display": false
  }
 },
 "nbformat": 4,
 "nbformat_minor": 5
}
