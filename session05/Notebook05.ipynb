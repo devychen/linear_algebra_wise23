{
 "cells": [
  {
   "cell_type": "code",
   "execution_count": 1,
   "id": "6b6d3e8a",
   "metadata": {
    "slideshow": {
     "slide_type": "skip"
    }
   },
   "outputs": [],
   "source": [
    "import sympy\n",
    "from sympy import Matrix, Rational, sqrt, symbols\n",
    "import numpy as np\n",
    "%matplotlib notebook\n",
    "import matplotlib.pyplot as plt"
   ]
  },
  {
   "cell_type": "markdown",
   "id": "17d690f6",
   "metadata": {
    "slideshow": {
     "slide_type": "slide"
    }
   },
   "source": [
    "# Linear algebra\n",
    "\n",
    "## Session 05: \n",
    "\n",
    "## Gerhard Jäger\n",
    "\n",
    "### November 23, 2023"
   ]
  },
  {
   "cell_type": "markdown",
   "id": "20547490",
   "metadata": {
    "slideshow": {
     "slide_type": "slide"
    }
   },
   "source": [
    "## Vector spaces\n",
    "\n",
    "In mathematics, vector spaces are not confined to $\\mathbb R^n$. Any set can be a vector space if the following eight axioms are met."
   ]
  },
  {
   "cell_type": "markdown",
   "id": "0be01d71",
   "metadata": {
    "slideshow": {
     "slide_type": "-"
    }
   },
   "source": [
    "<table border=\"0\" style=\"width:100%;\" align = \"left\">\n",
    "<tbody><tr>\n",
    "<th>Axiom</th>\n",
    "<th>Meaning\n",
    "</th>\n",
    "    <tr>\n",
    "    <td>Associativity of vector addition</td>\n",
    "    <td><span class=\"texhtml\"><b>u</b> + (<b>v</b> + <b>w</b>) = (<b>u</b> + <b>v</b>) + <b>w</b></span>\n",
    "    </td></tr>\n",
    "    \n",
    "<tr style=\"background:#F8F4FF;\">\n",
    "<td>Commutativity of vector addition</td>\n",
    "<td><span class=\"texhtml\"><b>u</b> + <b>v</b> = <b>v</b> + <b>u</b></span>\n",
    "</td></tr>\n",
    "<tr>\n",
    "<td>Identity element of vector addition</td>\n",
    "<td>There exists an element <span class=\"texhtml\"><b>0</b> ∈ <i>V</i></span>, called the <i>zero vector</i>, such that <span class=\"texhtml\"><b>v</b> + <b>0</b> = <b>v</b></span> for all <span class=\"texhtml\"><b>v</b> ∈ <i>V</i></span>.\n",
    "</td></tr>\n",
    "<tr style=\"background:#F8F4FF;\">\n",
    "<td>Inverse elements of vector addition</td>\n",
    "<td>For every <span class=\"texhtml\"><b>v</b> ∈ <i>V</i></span>, there exists an element <span class=\"texhtml\">−<b>v</b> ∈ <i>V</i></span>, called the <i>additive inverse</i> of <span class=\"texhtml\"><b>v</b></span>, such that <span class=\"texhtml\"><b>v</b> + (−<b>v</b>) = <b>0</b></span>.\n",
    "</td></tr>\n",
    "<tr>\n",
    "<td>Compatibility of scalar multiplication with field multiplication</td>\n",
    "<td><span class=\"texhtml\"><i>a</i>(<i>b</i><b>v</b>) = (<i>ab</i>)<b>v</b></span> <sup id=\"cite_ref-4\" class=\"reference\"><a href=\"#cite_note-4\">&#91;nb 3&#93;</a></sup>\n",
    "</td></tr>\n",
    "<tr style=\"background:#F8F4FF;\">\n",
    "<td>Identity element of scalar multiplication</td>\n",
    "<td><span class=\"texhtml\">1<b>v</b> = <b>v</b></span>, where <span class=\"texhtml\">1</span> denotes the multiplicative identity in <span class=\"texhtml mvar\" style=\"font-style:italic;\">$\\mathbb R$</span>.\n",
    "</td></tr>\n",
    "<tr>\n",
    "<td>Distributivityof scalar multiplication with respect to vector addition</td>\n",
    "<td><span class=\"texhtml\"><i>a</i>(<b>u</b> + <b>v</b>) = <i>a</i><b>u</b> + <i>a</i><b>v</b></span>\n",
    "</td></tr>\n",
    "<tr style=\"background:#F8F4FF;\">\n",
    "<td>Distributivity of scalar multiplication with respect to field addition</td>\n",
    "<td><span class=\"texhtml\">(<i>a</i> + <i>b</i>)<b>v</b> = <i>a</i><b>v</b> + <i>b</i><b>v</b></span>\n",
    "</td></tr></tbody></table>"
   ]
  },
  {
   "cell_type": "markdown",
   "id": "a91b4f05",
   "metadata": {},
   "source": [
    "A subset $\\alpha$ of a vector space is a **sub-space** if it is also a vector space.\n",
    "\n",
    "This is guaranteed if two conditions are met: If $\\mathbf u, \\mathbf v\\in \\alpha$, \n",
    "\n",
    "- $\\mathbf u + \\mathbf v \\in \\alpha$\n",
    "- for any scalar $c$, $c\\mathbf u\\in \\alpha$."
   ]
  },
  {
   "cell_type": "markdown",
   "id": "3eb0daf4",
   "metadata": {
    "slideshow": {
     "slide_type": "slide"
    }
   },
   "source": [
    "### Column space of a matrix\n",
    "\n",
    "For an $n\\times m$ matrix $A$, the set $\\{A\\mathbf x:\\mathbf x\\in \\mathbb R^m\\}$ is a subspace of $\\mathbb R^n$, because:\n",
    "\n",
    "- $A\\mathbf u + A\\mathbf v = A(\\mathbf u+\\mathbf v)$\n",
    "- $Ac\\mathbf u = cA\\mathbf u$\n",
    "\n",
    "This vector space is called the **column space** of $A$, because it consists of all linear combinations of the column vectors of $A$.\n",
    "\n",
    "\n",
    "The system of linear equation \n",
    "$$\n",
    "A\\mathbf x = \\mathbf b\n",
    "$$\n",
    "\n",
    "is solvable if and only if $\\mathbf b$ is in the column space of $A$."
   ]
  },
  {
   "cell_type": "markdown",
   "id": "258c0420",
   "metadata": {},
   "source": [
    "So far we have focused on invertable matrices. In this case, the column space equals the entire vector space.\n",
    "\n",
    "But what about non-invertable matrices?\n",
    "\n",
    "We proceed per Gauss-Jordan elimination as usual. After the Gauss part, we will see whether the system is solvable.\n",
    "\n",
    "$$\n",
    "\\begin{aligned}\n",
    "\\begin{bmatrix}\n",
    "1 & 0\\\\\n",
    "4 & 3\\\\\n",
    "2 & 3\n",
    "\\end{bmatrix} \\mathbf x &=\n",
    "\\begin{bmatrix}\n",
    "1\\\\1\\\\0\n",
    "\\end{bmatrix}\n",
    "\\end{aligned}\n",
    "$$"
   ]
  },
  {
   "cell_type": "markdown",
   "id": "744ded20",
   "metadata": {
    "slideshow": {
     "slide_type": "slide"
    }
   },
   "source": [
    "$$\n",
    "\\left[\n",
    "\\begin{array}{rr|r}\n",
    "1 & 0 & 1\\\\\n",
    "4 & 3 & 1\\\\\n",
    "2 & 3 & 0\n",
    "\\end{array}\n",
    "\\right]\\\\[1em]\n",
    "\\left[\n",
    "\\begin{array}{rr|r}\n",
    "1 & 0 & 1\\\\\n",
    "0 & 3 & -3\\\\\n",
    "0 & 3 & -2\n",
    "\\end{array}\n",
    "\\right]\\\\[1em]\n",
    "\\left[\n",
    "\\begin{array}{rr|r}\n",
    "1 & 0 & 1\\\\\n",
    "0 & 3 & -3\\\\\n",
    "0 & 0 & 1\n",
    "\\end{array}\n",
    "\\right]\\\\[1em]\n",
    "$$\n",
    "\n",
    "There can't be a solution for the last row, so $\\mathbf b$ is not in the column space of $A$."
   ]
  },
  {
   "cell_type": "markdown",
   "id": "88dd0dce",
   "metadata": {
    "slideshow": {
     "slide_type": "slide"
    }
   },
   "source": [
    "Another example:\n",
    "\n",
    "$$\n",
    "\\begin{aligned}\n",
    "A & =\n",
    "\\begin{bmatrix}\n",
    "1 & 2& 3\\\\\n",
    "2 & 4 & 3\\\\\n",
    "3 & 6 & 1\n",
    "\\end{bmatrix}\\\\[1em]\n",
    "\\mathbf b &= \\begin{bmatrix} 4\\\\ 5\\\\ 4\\end{bmatrix}\\\\[1em]\n",
    "A\\mathbf x &= \\mathbf b\n",
    "\\end{aligned}\n",
    "$$"
   ]
  },
  {
   "cell_type": "markdown",
   "id": "3e3cf2af",
   "metadata": {
    "slideshow": {
     "slide_type": "slide"
    }
   },
   "source": [
    "$$\n",
    "\\displaystyle\n",
    "\\left[\n",
    "\\begin{array}{rrr|r}\n",
    "1 & 2 & 3 & 4\\\\\n",
    "2 & 4 & 3 & 5\\\\\n",
    "3 & 6 & 1 & 4\n",
    "\\end{array}\n",
    "\\right]\\\\[1em]\n",
    "\\left[\n",
    "\\begin{array}{rrr|r}\n",
    "1 & 2 & 3 & 4\\\\\n",
    "0 & 0 & -3 & -3\\\\\n",
    "3 & 6 & 1 & 4\n",
    "\\end{array}\n",
    "\\right]\\\\[1em]\n",
    "\\left[\n",
    "\\begin{array}{rrr|r}\n",
    "1 & 2 & 3 & 4\\\\\n",
    "0 & 0 & -3 & -3\\\\\n",
    "0 & 0 & -8 & -8\n",
    "\\end{array}\n",
    "\\right]\\\\[1em]\n",
    "\\left[\n",
    "\\begin{array}{rrr|r}\n",
    "1 & 2 & 3 & 4\\\\\n",
    "0 & 0 & -3 & -3\\\\\n",
    "0 & 0 & 0 & 0\n",
    "\\end{array}\n",
    "\\right]\\\\[1em]\n",
    "\\left[\n",
    "\\begin{array}{rrr|r}\n",
    "1 & 2 & 0 & 1\\\\\n",
    "0 & 0 & -3 & -3\\\\\n",
    "0 & 0 & 0 & 0\n",
    "\\end{array}\n",
    "\\right]\\\\[1em]\n",
    "\\left[\n",
    "\\begin{array}{rrr|r}\n",
    "1 & 2 & 0 & 1\\\\\n",
    "0 & 0 & 1 & 1\\\\\n",
    "0 & 0 & 0 & 0\n",
    "\\end{array}\n",
    "\\right]\\\\[1em]\n",
    "$$\n"
   ]
  },
  {
   "cell_type": "markdown",
   "id": "8bbcbfe6",
   "metadata": {},
   "source": [
    "Since the left side is not the identity matrix, we cannot simply read off the solution from the right side.\n"
   ]
  },
  {
   "cell_type": "markdown",
   "id": "278b36c6",
   "metadata": {
    "slideshow": {
     "slide_type": "slide"
    }
   },
   "source": [
    "\n",
    "### Pivots\n",
    "\n",
    "A pivot cell in a matrix $A$ is a cell $a_{ij}$ with an entry $\\neq 0$ such that\n",
    "$$\n",
    "\\begin{aligned}\n",
    "a_{ij} &\\neq 0\\\\\n",
    "\\forall k\\geq i, l< j: &  a_{kl} = 0\n",
    "\\end{aligned}\n",
    "$$\n",
    "\n",
    "During Gauss elimination, we\n",
    "\n",
    "- go top-down through the rows,\n",
    "- identify the pivot in the current row, and\n",
    "- transform all cells below the pivot into $0$ using elimination.\n",
    "\n",
    "A column with a pivot in it is called *pivot column*.\n",
    "\n",
    "A column without a pivot in it is called *free column*.\n",
    "\n",
    "After Gauss-Jordan elimination, we find the *canonical solution* by\n",
    "- setting all positions corresponding to a free column to $0$, and\n",
    "- setting all positions corresponding to a pivot colun to the entry on the the same row as the pivot on the right side.\n",
    "\n",
    "For our example above, the solution thus found is\n",
    "$$\n",
    "\\begin{bmatrix}\n",
    "1 \\\\ 0 \\\\ 1\n",
    "\\end{bmatrix}\n",
    "$$"
   ]
  },
  {
   "cell_type": "markdown",
   "id": "d6ec6e30",
   "metadata": {
    "slideshow": {
     "slide_type": "slide"
    }
   },
   "source": [
    "## The nullspace of a matrix\n",
    "\n",
    "The canonical solution is only one of infinitely many solutions.\n",
    "\n",
    "$$\n",
    "\\begin{aligned}\n",
    "A & =\n",
    "\\begin{bmatrix}\n",
    "1 & 2& 3\\\\\n",
    "2 & 4 & 3\\\\\n",
    "3 & 6 & 1\n",
    "\\end{bmatrix}\\\\[1em]\n",
    "\\mathbf b &= \\begin{bmatrix} 4\\\\ 5\\\\ 4\\end{bmatrix}\\\\[1em]\n",
    "A\\mathbf x &= \\mathbf b\\\\\n",
    "\\mathbf x &= \\begin{bmatrix}\n",
    "1 \\\\ 0 \\\\ 1\n",
    "\\end{bmatrix}, \n",
    "\\begin{bmatrix}\n",
    "-1 \\\\ 1 \\\\ 1\n",
    "\\end{bmatrix},\n",
    "\\begin{bmatrix}\n",
    "3 \\\\ -1 \\\\ 1\n",
    "\\end{bmatrix},\\cdots\n",
    "\\end{aligned}\n",
    "$$\n",
    "\n",
    "How do we find all solutions?"
   ]
  },
  {
   "cell_type": "markdown",
   "id": "c0df154d",
   "metadata": {
    "slideshow": {
     "slide_type": "slide"
    }
   },
   "source": [
    "Suppose we have a solution $\\mathbf y$ to \n",
    "\n",
    "$$\n",
    "A\\mathbf y = \\mathbf 0\n",
    "$$\n",
    "\n",
    "Let $\\mathbf x$ be the canonical solution to\n",
    "\n",
    "$$\n",
    "A\\mathbf x = \\mathbf b\n",
    "$$\n",
    "\n",
    "It follows:\n",
    "\n",
    "$$\n",
    "\\begin{aligned}\n",
    "A\\mathbf x + A\\mathbf y &= \\mathbf b + \\mathbf 0\\\\\n",
    "A(\\mathbf x + \\mathbf y) &= \\mathbf b\n",
    "\\end{aligned}\n",
    "$$\n",
    "\n",
    "The set of solutions $\\mathbf y$ to $A\\mathbf y = \\mathbf 0$ form a *vector space*:\n",
    "\n"
   ]
  },
  {
   "cell_type": "markdown",
   "id": "5ecb2607",
   "metadata": {
    "slideshow": {
     "slide_type": "slide"
    }
   },
   "source": [
    "\n",
    "Suppose $A\\mathbf y_1 = \\mathbf 0$ and $A\\mathbf y_2 = \\mathbf 0$.\n",
    "\n",
    "$$\n",
    "\\begin{aligned}\n",
    "A(\\mathbf y_1 + \\mathbf y_2) &= A\\mathbf y_1 + A\\mathbf y_2\\\\\n",
    "&= \\mathbf 0 + \\mathbf 0\\\\\n",
    "&= \\mathbf 0\\\\[2em]\n",
    "A(c\\mathbf y_1) &= cA\\mathbf y_1\\\\\n",
    "&= c~\\mathbf 0\\\\\n",
    "&=\\mathbf 0\n",
    "\\end{aligned}\n",
    "$$\n",
    "\n",
    "The set of solutions $\\mathbf y$ to $A\\mathbf y = \\mathbf 0$ is called the **nullspace** of $A$."
   ]
  },
  {
   "cell_type": "markdown",
   "id": "73c2df57",
   "metadata": {
    "slideshow": {
     "slide_type": "slide"
    }
   },
   "source": [
    "### How to find the null space\n",
    "\n",
    "**important observation:** applying an elimination step to a matrix does not change the null space!\n",
    "\n",
    "If\n",
    "$$\n",
    "A\\mathbf x = \\mathbf 0,\n",
    "$$\n",
    "\n",
    "then\n",
    "$$\n",
    "EA\\mathbf x = E\\mathbf 0 = \\mathbf 0\n",
    "$$\n",
    "\n",
    "---\n",
    "\n",
    "For the reverse direction, note that elimination matrices are always invertible by construction.\n",
    "\n",
    "If\n",
    "$$\n",
    "EA\\mathbf x = \\mathbf 0\n",
    "$$\n",
    "\n",
    "then\n",
    "\n",
    "$$\n",
    "A\\mathbf x = E^{-1}\\mathbf 0 = \\mathbf 0\n",
    "$$\n",
    "\n"
   ]
  },
  {
   "cell_type": "markdown",
   "id": "f3f30e9f",
   "metadata": {
    "slideshow": {
     "slide_type": "slide"
    }
   },
   "source": [
    "So we can apply Gauss-Jordan elimination first and then find the null space of the **reduced row echelon form**.\n",
    "\n",
    "For each free column $i$ in the reduced row echelon form or $A$:\n",
    "- set $y_i = 1$,\n",
    "- set $y_j = 0$ for all free columns $j\\neq i$,\n",
    "- solve $A\\mathbf y = \\mathbf 0$ via substitution.\n",
    "\n"
   ]
  },
  {
   "cell_type": "markdown",
   "id": "0760023c",
   "metadata": {
    "slideshow": {
     "slide_type": "slide"
    }
   },
   "source": [
    "<img src=_img/nullspaceStrang.svg width=\"1000\">\n",
    "\n",
    "(Strang, p. 135)"
   ]
  },
  {
   "cell_type": "markdown",
   "id": "1a1a0d2a",
   "metadata": {
    "slideshow": {
     "slide_type": "slide"
    }
   },
   "source": [
    "###  simple example\n",
    "\n",
    "$$\n",
    "A = \\begin{bmatrix}\n",
    "1&2\\\\\n",
    "3&6\n",
    "\\end{bmatrix}\n",
    "$$\n",
    "\n",
    "Elimination stops after one step:\n",
    "\n",
    "$$\n",
    "\\begin{bmatrix}\n",
    "1&2\\\\\n",
    "0&0\n",
    "\\end{bmatrix}\n",
    "$$\n",
    "\n",
    "- the entry in the upper left corner is the only pivot\n",
    "- the second column is free\n",
    "- the special solution is the solution of\n",
    "\n",
    "$$\n",
    "\\begin{bmatrix}\n",
    "1&2\\\\\n",
    "0&0\n",
    "\\end{bmatrix}\\begin{bmatrix}x_1\\\\1\\end{bmatrix} = \\mathbf 0\n",
    "$$\n",
    "\n",
    "- the only special solution is $\\mathbf x = \\left[\\begin{array}{r}-2\\\\1\\end{array}\\right]$\n",
    "- the null space of $A$ is the set of multiples of $\\mathbf x$"
   ]
  },
  {
   "cell_type": "markdown",
   "id": "a51597a3",
   "metadata": {
    "slideshow": {
     "slide_type": "slide"
    }
   },
   "source": [
    "The result of Gauss elimination is called **row echelon form**.\n",
    "\n",
    "The result of Gauss-Jordan elimination is called **reduced row echelon form**.\n",
    "\n",
    "*Sympy* has a function that returns\n",
    "- the reduced row echelon form of a matrix\n",
    "- the tuple of indices of the pivot columns"
   ]
  },
  {
   "cell_type": "code",
   "execution_count": 2,
   "id": "4d28d923",
   "metadata": {},
   "outputs": [
    {
     "data": {
      "text/latex": [
       "$\\displaystyle \\left[\\begin{matrix}1 & 2\\\\0 & 0\\end{matrix}\\right]$"
      ],
      "text/plain": [
       "Matrix([\n",
       "[1, 2],\n",
       "[0, 0]])"
      ]
     },
     "execution_count": 2,
     "metadata": {},
     "output_type": "execute_result"
    }
   ],
   "source": [
    "A = Matrix([\n",
    "    [1,2],\n",
    "    [3,6]\n",
    "])\n",
    "rr,i = A.rref()\n",
    "rr"
   ]
  },
  {
   "cell_type": "code",
   "execution_count": 3,
   "id": "78d598cd",
   "metadata": {},
   "outputs": [
    {
     "data": {
      "text/plain": [
       "(0,)"
      ]
     },
     "execution_count": 3,
     "metadata": {},
     "output_type": "execute_result"
    }
   ],
   "source": [
    "i"
   ]
  },
  {
   "cell_type": "markdown",
   "id": "a7ee2f15",
   "metadata": {
    "slideshow": {
     "slide_type": "slide"
    }
   },
   "source": [
    "back to our previous examples"
   ]
  },
  {
   "cell_type": "code",
   "execution_count": 4,
   "id": "c4e4327a",
   "metadata": {},
   "outputs": [
    {
     "data": {
      "text/latex": [
       "$\\displaystyle \\left[\\begin{matrix}1 & 2 & 3\\\\2 & 4 & 3\\\\3 & 6 & 1\\end{matrix}\\right]$"
      ],
      "text/plain": [
       "Matrix([\n",
       "[1, 2, 3],\n",
       "[2, 4, 3],\n",
       "[3, 6, 1]])"
      ]
     },
     "execution_count": 4,
     "metadata": {},
     "output_type": "execute_result"
    }
   ],
   "source": [
    "A = Matrix([\n",
    "    [1,2,3],\n",
    "    [2,4,3],\n",
    "    [3,6,1]\n",
    "])\n",
    "A"
   ]
  },
  {
   "cell_type": "code",
   "execution_count": 5,
   "id": "8e2f8e69",
   "metadata": {},
   "outputs": [
    {
     "data": {
      "text/latex": [
       "$\\displaystyle \\left[\\begin{matrix}1 & 2 & 0\\\\0 & 0 & 1\\\\0 & 0 & 0\\end{matrix}\\right]$"
      ],
      "text/plain": [
       "Matrix([\n",
       "[1, 2, 0],\n",
       "[0, 0, 1],\n",
       "[0, 0, 0]])"
      ]
     },
     "execution_count": 5,
     "metadata": {},
     "output_type": "execute_result"
    }
   ],
   "source": [
    "rr,i = A.rref()\n",
    "rr"
   ]
  },
  {
   "cell_type": "code",
   "execution_count": 6,
   "id": "913465c4",
   "metadata": {},
   "outputs": [
    {
     "data": {
      "text/plain": [
       "(0, 2)"
      ]
     },
     "execution_count": 6,
     "metadata": {},
     "output_type": "execute_result"
    }
   ],
   "source": [
    "i"
   ]
  },
  {
   "cell_type": "markdown",
   "id": "8cb315ee",
   "metadata": {
    "slideshow": {
     "slide_type": "slide"
    }
   },
   "source": [
    "$$\n",
    "\\begin{aligned}\n",
    "\\left[\\begin{matrix}1 & 2 & 0\\\\0 & 0 & 1\\\\0 & 0 & 0\\end{matrix}\\right]\n",
    "\\begin{bmatrix}\n",
    "a \\\\ 1 \\\\ b\n",
    "\\end{bmatrix}\n",
    "&= \\begin{bmatrix}\n",
    "0\\\\0\\\\0\n",
    "\\end{bmatrix}\\\\\n",
    "a + 2 &= 0\\\\\n",
    "b &= 0\\\\\n",
    "a &= -2\\\\\n",
    "\\mathbf y &= \n",
    "\\begin{bmatrix}\n",
    "-2\\\\1\\\\0\n",
    "\\end{bmatrix}\\\\[2em]\n",
    "\\left[\\begin{matrix}1 & 2 & 3\\\\2 & 4 & 3\\\\3 & 6 & 1\\end{matrix}\\right]\n",
    "\\begin{bmatrix}\n",
    "-2\\\\1\\\\0\n",
    "\\end{bmatrix} &= \\begin{bmatrix}\n",
    "0\\\\0\\\\0\n",
    "\\end{bmatrix}\n",
    "\\end{aligned}\n",
    "$$"
   ]
  },
  {
   "cell_type": "markdown",
   "id": "00702fa3",
   "metadata": {
    "slideshow": {
     "slide_type": "slide"
    }
   },
   "source": [
    "### example\n",
    "\n",
    "$$\n",
    "\\begin{aligned}\n",
    "A &= \\left[\\begin{matrix}1 & 2\\\\3 & 8\\end{matrix}\\right]\\\\\n",
    "A\\mathbf x &= \\mathbf 0\n",
    "\\end{aligned}\n",
    "$$\n",
    "\n"
   ]
  },
  {
   "cell_type": "markdown",
   "id": "a81d3329",
   "metadata": {
    "slideshow": {
     "slide_type": "fragment"
    }
   },
   "source": [
    "$$\n",
    "\\left[\\begin{matrix}\n",
    "1 & 2\\\\\n",
    "3 & 8\n",
    "\\end{matrix}\\right]\\\\\n",
    "\\left[\\begin{matrix}\n",
    "1 & 2\\\\\n",
    "0 & 2\n",
    "\\end{matrix}\\right]\\\\\n",
    "\\left[\\begin{matrix}\n",
    "1 & 0\\\\\n",
    "0 & 2\n",
    "\\end{matrix}\\right]\\\\\n",
    "\\left[\\begin{matrix}\n",
    "1 & 0\\\\\n",
    "0 & 1\n",
    "\\end{matrix}\\right]\\\\\n",
    "$$\n",
    "\n",
    "The last matrix contains the *reduced row echelon form* of $A$ (rref($A$). It contains two pivots and now free columns.\n",
    "\n",
    "Hence the only solution is $\\mathbf x = \\mathbf 0.$"
   ]
  },
  {
   "cell_type": "markdown",
   "id": "f60431ac",
   "metadata": {
    "slideshow": {
     "slide_type": "slide"
    }
   },
   "source": [
    "### example\n",
    "\n",
    "$$\n",
    "\\begin{aligned}\n",
    "B &= \\left[\\begin{array}{r}\n",
    "A\\\\\n",
    "2A\n",
    "\\end{array}\\right] \\\\[1em]\n",
    "&= \\left[\\begin{array}{r}1 & 2\\\\3 & 8\\\\2 & 4\\\\6 & 16\\end{array}\\right]\\\\\n",
    "B\\mathbf y &= \\mathbf 0\n",
    "\\end{aligned}\n",
    "$$"
   ]
  },
  {
   "cell_type": "markdown",
   "id": "66445436",
   "metadata": {
    "slideshow": {
     "slide_type": "slide"
    }
   },
   "source": [
    "<div style=\"overflow: auto; height: 800px;\">\n",
    "    $$\n",
    "\\left[\\begin{array}{r}\n",
    "1 & 2\\\\\n",
    "3 & 8\\\\\n",
    "2 & 4\\\\\n",
    "6 & 16\n",
    "\\end{array}\\right]\\\\[2em]\n",
    "\\left[\\begin{array}{r}\n",
    "1 & 2\\\\\n",
    "0 & 2\\\\\n",
    "2 & 4\\\\\n",
    "6 & 16\n",
    "\\end{array}\\right]\\\\[2em]\n",
    "\\left[\\begin{array}{r}\n",
    "1 & 2\\\\\n",
    "0 & 2\\\\\n",
    "0 & 0\\\\\n",
    "6 & 16\n",
    "\\end{array}\\right]\\\\[2em]\n",
    "\\left[\\begin{array}{r}\n",
    "1 & 2\\\\\n",
    "0 & 2\\\\\n",
    "0 & 0\\\\\n",
    "0 & 4\n",
    "\\end{array}\\right]\\\\[2em]\n",
    "\\left[\\begin{array}{r}\n",
    "1 & 2\\\\\n",
    "0 & 2\\\\\n",
    "0 & 0\\\\\n",
    "0 & 0\n",
    "\\end{array}\\right]\\\\[2em]\n",
    "\\left[\\begin{array}{r}\n",
    "1 & 0\\\\\n",
    "0 & 2\\\\\n",
    "0 & 0\\\\\n",
    "0 & 0\n",
    "\\end{array}\\right]\\\\[2em]\n",
    "\\left[\\begin{array}{r}\n",
    "1 & 0\\\\\n",
    "0 & 1\\\\\n",
    "0 & 0\\\\\n",
    "0 & 0\n",
    "\\end{array}\\right]\\\\[2em]\n",
    "$$\n",
    "\n",
    "rref($B$) contains no free columns.\n",
    "\n",
    "Again, the only solution is $\\mathbf 0$\n",
    "</div>\n"
   ]
  },
  {
   "cell_type": "markdown",
   "id": "29ea8f94",
   "metadata": {
    "slideshow": {
     "slide_type": "slide"
    }
   },
   "source": [
    "### example\n",
    "\n",
    "$$\n",
    "\\begin{aligned}\n",
    "C &= \\begin{bmatrix}\n",
    "A & 2A\n",
    "\\end{bmatrix}\\\\\n",
    "&=\\left[\\begin{matrix}1 & 2 & 2 & 4\\\\3 & 8 & 6 & 16\\end{matrix}\\right]\\\\\n",
    "C\\mathbf z &= 0\n",
    "\\end{aligned}\n",
    "$$"
   ]
  },
  {
   "cell_type": "markdown",
   "id": "a7c932eb",
   "metadata": {
    "slideshow": {
     "slide_type": "fragment"
    }
   },
   "source": [
    "$$\n",
    "\\left[\\begin{matrix}\n",
    "1 & 2 & 2 & 4\\\\\n",
    "3 & 8 & 6 & 16\n",
    "\\end{matrix}\\right]\\\\[1em]\n",
    "\\left[\\begin{matrix}\n",
    "1 & 2 & 2 & 4\\\\\n",
    "0 & 2 & 0 & 4\n",
    "\\end{matrix}\\right]\\\\[1em]\n",
    "\\left[\\begin{matrix}\n",
    "1 & 0 & 2 & 0\\\\\n",
    "0 & 2 & 0 & 4\n",
    "\\end{matrix}\\right]\\\\[1em]\n",
    "\\left[\\begin{matrix}\n",
    "\\mathbf 1 & 0 & 2 & 0\\\\\n",
    "0 & \\mathbf 1 & 0 & 2\n",
    "\\end{matrix}\\right]\\\\[1em]\n",
    "$$\n",
    "\n",
    "The last matrix contains rref($C$). This time we have two free columns, the third and the fourth."
   ]
  },
  {
   "cell_type": "markdown",
   "id": "da56c2e4",
   "metadata": {
    "slideshow": {
     "slide_type": "slide"
    }
   },
   "source": [
    "- special solutions:\n",
    "\n",
    "$$\n",
    "\\begin{aligned}\n",
    "\\mathbf z_1 &= \n",
    "\\begin{bmatrix}\n",
    "a\\\\b\\\\1\\\\0\n",
    "\\end{bmatrix}\\\\\n",
    "\\mathbf z_2 &= \n",
    "\\begin{bmatrix}\n",
    "c\\\\d\\\\0\\\\1\n",
    "\\end{bmatrix}\\\\\n",
    "\\end{aligned}\n",
    "$$"
   ]
  },
  {
   "cell_type": "markdown",
   "id": "2445af68",
   "metadata": {
    "slideshow": {
     "slide_type": "slide"
    }
   },
   "source": [
    "- solving via substitution\n",
    "\n",
    "$$\n",
    "\\begin{aligned}\n",
    "\\mathrm{rref}(C) ~\\mathbf z_1 &= \\mathbf 0\\\\\n",
    "\\left[\\begin{matrix}\n",
    "\\mathbf 1 & 0 & 2 & 0\\\\\n",
    "0 & \\mathbf 1 & 0 & 2\n",
    "\\end{matrix}\\right]\n",
    "\\begin{bmatrix}\n",
    "a\\\\b\\\\1\\\\0\n",
    "\\end{bmatrix} &= \\mathbf 0\\\\\n",
    "a + 2 &= 0\\\\\n",
    "b  &= 0\\\\\n",
    "a &= -2\\\\\n",
    "\\mathbf z_1 &= \\begin{bmatrix}\n",
    "-2\\\\0\\\\1\\\\0\n",
    "\\end{bmatrix}\n",
    "\\end{aligned}\n",
    "$$"
   ]
  },
  {
   "cell_type": "markdown",
   "id": "4b68bd0d",
   "metadata": {
    "slideshow": {
     "slide_type": "slide"
    }
   },
   "source": [
    "- solving via substitution\n",
    "\n",
    "$$\n",
    "\\begin{aligned}\n",
    "\\mathrm{rref}(C) ~\\mathbf z_2 &= \\mathbf 0\\\\\n",
    "\\left[\\begin{matrix}\n",
    "\\mathbf 1 & 0 & 2 & 0\\\\\n",
    "0 & \\mathbf 1 & 0 & 2\n",
    "\\end{matrix}\\right]\n",
    "\\begin{bmatrix}\n",
    "c\\\\d\\\\0\\\\1\n",
    "\\end{bmatrix} &= \\mathbf 0\\\\\n",
    "c  &= 0\\\\\n",
    "d + 2  &= 0\\\\\n",
    "d &= -2\\\\\n",
    "\\mathbf z_2 &= \\begin{bmatrix}\n",
    "0\\\\-2\\\\0\\\\1\n",
    "\\end{bmatrix}\n",
    "\\end{aligned}\n",
    "$$"
   ]
  },
  {
   "cell_type": "markdown",
   "id": "cceb94fd",
   "metadata": {},
   "source": [
    "Any linear combination \n",
    "$$\\mathbf z = \\alpha \\mathbf z_1 + \\beta \\mathbf z_2$$\n",
    "\n",
    "($\\alpha, \\beta$ real numbers) are solutions to \n",
    "\n",
    "$$\n",
    "C\\mathbf z = \\mathbf 0\n",
    "$$"
   ]
  },
  {
   "cell_type": "markdown",
   "id": "1146076d",
   "metadata": {
    "slideshow": {
     "slide_type": "slide"
    }
   },
   "source": [
    "## The complete solution to a system of equations\n",
    "\n",
    "Back to our example from above:\n",
    "\n",
    "$$\n",
    "\\begin{aligned}\n",
    "A & =\n",
    "\\begin{bmatrix}\n",
    "1 & 2& 3\\\\\n",
    "2 & 4 & 3\\\\\n",
    "3 & 6 & 1\n",
    "\\end{bmatrix}\\\\[1em]\n",
    "\\mathbf b &= \\begin{bmatrix} 4\\\\ 5\\\\ 4\\end{bmatrix}\\\\[1em]\n",
    "A\\mathbf x &= \\mathbf b\n",
    "\\end{aligned}\n",
    "$$\n",
    "\n"
   ]
  },
  {
   "cell_type": "markdown",
   "id": "d6fd8afd",
   "metadata": {
    "slideshow": {
     "slide_type": "slide"
    }
   },
   "source": [
    "- first step: apply Gauss-Jordan elimination to the augmented matrix\n",
    "\n",
    "$$\n",
    "\\left[\\begin{array}{rrr|r}\n",
    "1 & 2 & 3 & 4\\\\\n",
    "2 & 4 & 3 & 5\\\\\n",
    "3 & 6 & 1 & 4\n",
    "\\end{array}\\right]\\\\\n",
    "\\left[\\begin{array}{rrr|r}\n",
    "1 & 2 & 3 & 4\\\\\n",
    "0 & 0 & -3 & -3\\\\\n",
    "0 & 0 & -8 & -8\n",
    "\\end{array}\\right]\\\\\n",
    "\\left[\\begin{array}{rrr|r}\n",
    "1 & 2 & 3 & 4\\\\\n",
    "0 & 0 & -3 & -3\\\\\n",
    "0 & 0 & 0 & 0\n",
    "\\end{array}\\right]\\\\\n",
    "\\left[\\begin{array}{rrr|r}\n",
    "1 & 2 & 0 & 1\\\\\n",
    "0 & 0 & -3 & -3\\\\\n",
    "0 & 0 & 0 & 0\n",
    "\\end{array}\\right]\\\\\n",
    "\\left[\\begin{array}{rrr|r}\n",
    "1 & 2 & 0 & 1\\\\\n",
    "0 & 0 & 1 & 1\\\\\n",
    "0 & 0 & 0 & 0\n",
    "\\end{array}\\right]\\\\\n",
    "$$"
   ]
  },
  {
   "cell_type": "markdown",
   "id": "527b8d96",
   "metadata": {
    "slideshow": {
     "slide_type": "slide"
    }
   },
   "source": [
    "- second step: find canonical solution by setting the slots corresponding to the free columns to 0 and solving via substitution\n",
    "\n",
    "$$\n",
    "\\mathbf x_c = \\begin{bmatrix}1\\\\0\\\\1\\end{bmatrix}\n",
    "$$"
   ]
  },
  {
   "cell_type": "markdown",
   "id": "9a9df94d",
   "metadata": {
    "slideshow": {
     "slide_type": "fragment"
    }
   },
   "source": [
    "- third step: find the null space of $A$\n",
    "\n",
    "$$\n",
    "\\mathbf x_0 = \\begin{bmatrix}-2\\\\1\\\\0\\end{bmatrix}\n",
    "$$"
   ]
  },
  {
   "cell_type": "markdown",
   "id": "8b3eae02",
   "metadata": {
    "slideshow": {
     "slide_type": "fragment"
    }
   },
   "source": [
    "The complete solution is the set of vectors $$\\mathbf x_c + \\alpha~\\mathbf x_0,$$ for any real number $\\alpha$."
   ]
  },
  {
   "cell_type": "markdown",
   "id": "35a96387",
   "metadata": {
    "slideshow": {
     "slide_type": "slide"
    }
   },
   "source": [
    "## Rank of a matrix\n",
    "\n",
    "Geometrically speaking, the **rank** of a matrix is the number of dimensions covered by its column space.\n",
    "\n"
   ]
  },
  {
   "cell_type": "markdown",
   "id": "ed8dd959",
   "metadata": {
    "slideshow": {
     "slide_type": "-"
    }
   },
   "source": [
    "## examples of an invertable and a non-invertable matrix in 3d\n",
    "\n",
    "$$\n",
    "\\begin{aligned}\n",
    "A &= \n",
    "\\begin{bmatrix}\n",
    "1 & -4 & 2\\\\\n",
    "-2 & 1 & 3\\\\\n",
    "2 & 6 & 8\n",
    "\\end{bmatrix}\\\\[1em]\n",
    "A^{-1} &=\n",
    "\\begin{bmatrix}\n",
    "\\frac{5}{63} & - \\frac{22}{63} & \\frac{1}{9}\\\\- \\frac{11}{63} & - \\frac{2}{63} & \\frac{1}{18}\\\\\\frac{1}{9} & \\frac{1}{9} & \\frac{1}{18}\n",
    "\\end{bmatrix}\\\\[1em]\n",
    "B &= \n",
    "\\begin{bmatrix}\n",
    "1 & -4 & 2\\\\\n",
    "-2 & 1 & 3\\\\\n",
    "2 & 6 & -10\n",
    "\\end{bmatrix}\\\\[1em]\n",
    "B^{-1}& \\mbox{ is undefined}\n",
    "\\end{aligned}\n",
    "$$"
   ]
  },
  {
   "cell_type": "code",
   "execution_count": 7,
   "id": "7359a99e",
   "metadata": {
    "hide_input": true,
    "slideshow": {
     "slide_type": "slide"
    }
   },
   "outputs": [
    {
     "data": {
      "application/javascript": [
       "/* Put everything inside the global mpl namespace */\n",
       "/* global mpl */\n",
       "window.mpl = {};\n",
       "\n",
       "mpl.get_websocket_type = function () {\n",
       "    if (typeof WebSocket !== 'undefined') {\n",
       "        return WebSocket;\n",
       "    } else if (typeof MozWebSocket !== 'undefined') {\n",
       "        return MozWebSocket;\n",
       "    } else {\n",
       "        alert(\n",
       "            'Your browser does not have WebSocket support. ' +\n",
       "                'Please try Chrome, Safari or Firefox ≥ 6. ' +\n",
       "                'Firefox 4 and 5 are also supported but you ' +\n",
       "                'have to enable WebSockets in about:config.'\n",
       "        );\n",
       "    }\n",
       "};\n",
       "\n",
       "mpl.figure = function (figure_id, websocket, ondownload, parent_element) {\n",
       "    this.id = figure_id;\n",
       "\n",
       "    this.ws = websocket;\n",
       "\n",
       "    this.supports_binary = this.ws.binaryType !== undefined;\n",
       "\n",
       "    if (!this.supports_binary) {\n",
       "        var warnings = document.getElementById('mpl-warnings');\n",
       "        if (warnings) {\n",
       "            warnings.style.display = 'block';\n",
       "            warnings.textContent =\n",
       "                'This browser does not support binary websocket messages. ' +\n",
       "                'Performance may be slow.';\n",
       "        }\n",
       "    }\n",
       "\n",
       "    this.imageObj = new Image();\n",
       "\n",
       "    this.context = undefined;\n",
       "    this.message = undefined;\n",
       "    this.canvas = undefined;\n",
       "    this.rubberband_canvas = undefined;\n",
       "    this.rubberband_context = undefined;\n",
       "    this.format_dropdown = undefined;\n",
       "\n",
       "    this.image_mode = 'full';\n",
       "\n",
       "    this.root = document.createElement('div');\n",
       "    this.root.setAttribute('style', 'display: inline-block');\n",
       "    this._root_extra_style(this.root);\n",
       "\n",
       "    parent_element.appendChild(this.root);\n",
       "\n",
       "    this._init_header(this);\n",
       "    this._init_canvas(this);\n",
       "    this._init_toolbar(this);\n",
       "\n",
       "    var fig = this;\n",
       "\n",
       "    this.waiting = false;\n",
       "\n",
       "    this.ws.onopen = function () {\n",
       "        fig.send_message('supports_binary', { value: fig.supports_binary });\n",
       "        fig.send_message('send_image_mode', {});\n",
       "        if (fig.ratio !== 1) {\n",
       "            fig.send_message('set_device_pixel_ratio', {\n",
       "                device_pixel_ratio: fig.ratio,\n",
       "            });\n",
       "        }\n",
       "        fig.send_message('refresh', {});\n",
       "    };\n",
       "\n",
       "    this.imageObj.onload = function () {\n",
       "        if (fig.image_mode === 'full') {\n",
       "            // Full images could contain transparency (where diff images\n",
       "            // almost always do), so we need to clear the canvas so that\n",
       "            // there is no ghosting.\n",
       "            fig.context.clearRect(0, 0, fig.canvas.width, fig.canvas.height);\n",
       "        }\n",
       "        fig.context.drawImage(fig.imageObj, 0, 0);\n",
       "    };\n",
       "\n",
       "    this.imageObj.onunload = function () {\n",
       "        fig.ws.close();\n",
       "    };\n",
       "\n",
       "    this.ws.onmessage = this._make_on_message_function(this);\n",
       "\n",
       "    this.ondownload = ondownload;\n",
       "};\n",
       "\n",
       "mpl.figure.prototype._init_header = function () {\n",
       "    var titlebar = document.createElement('div');\n",
       "    titlebar.classList =\n",
       "        'ui-dialog-titlebar ui-widget-header ui-corner-all ui-helper-clearfix';\n",
       "    var titletext = document.createElement('div');\n",
       "    titletext.classList = 'ui-dialog-title';\n",
       "    titletext.setAttribute(\n",
       "        'style',\n",
       "        'width: 100%; text-align: center; padding: 3px;'\n",
       "    );\n",
       "    titlebar.appendChild(titletext);\n",
       "    this.root.appendChild(titlebar);\n",
       "    this.header = titletext;\n",
       "};\n",
       "\n",
       "mpl.figure.prototype._canvas_extra_style = function (_canvas_div) {};\n",
       "\n",
       "mpl.figure.prototype._root_extra_style = function (_canvas_div) {};\n",
       "\n",
       "mpl.figure.prototype._init_canvas = function () {\n",
       "    var fig = this;\n",
       "\n",
       "    var canvas_div = (this.canvas_div = document.createElement('div'));\n",
       "    canvas_div.setAttribute(\n",
       "        'style',\n",
       "        'border: 1px solid #ddd;' +\n",
       "            'box-sizing: content-box;' +\n",
       "            'clear: both;' +\n",
       "            'min-height: 1px;' +\n",
       "            'min-width: 1px;' +\n",
       "            'outline: 0;' +\n",
       "            'overflow: hidden;' +\n",
       "            'position: relative;' +\n",
       "            'resize: both;'\n",
       "    );\n",
       "\n",
       "    function on_keyboard_event_closure(name) {\n",
       "        return function (event) {\n",
       "            return fig.key_event(event, name);\n",
       "        };\n",
       "    }\n",
       "\n",
       "    canvas_div.addEventListener(\n",
       "        'keydown',\n",
       "        on_keyboard_event_closure('key_press')\n",
       "    );\n",
       "    canvas_div.addEventListener(\n",
       "        'keyup',\n",
       "        on_keyboard_event_closure('key_release')\n",
       "    );\n",
       "\n",
       "    this._canvas_extra_style(canvas_div);\n",
       "    this.root.appendChild(canvas_div);\n",
       "\n",
       "    var canvas = (this.canvas = document.createElement('canvas'));\n",
       "    canvas.classList.add('mpl-canvas');\n",
       "    canvas.setAttribute('style', 'box-sizing: content-box;');\n",
       "\n",
       "    this.context = canvas.getContext('2d');\n",
       "\n",
       "    var backingStore =\n",
       "        this.context.backingStorePixelRatio ||\n",
       "        this.context.webkitBackingStorePixelRatio ||\n",
       "        this.context.mozBackingStorePixelRatio ||\n",
       "        this.context.msBackingStorePixelRatio ||\n",
       "        this.context.oBackingStorePixelRatio ||\n",
       "        this.context.backingStorePixelRatio ||\n",
       "        1;\n",
       "\n",
       "    this.ratio = (window.devicePixelRatio || 1) / backingStore;\n",
       "\n",
       "    var rubberband_canvas = (this.rubberband_canvas = document.createElement(\n",
       "        'canvas'\n",
       "    ));\n",
       "    rubberband_canvas.setAttribute(\n",
       "        'style',\n",
       "        'box-sizing: content-box; position: absolute; left: 0; top: 0; z-index: 1;'\n",
       "    );\n",
       "\n",
       "    // Apply a ponyfill if ResizeObserver is not implemented by browser.\n",
       "    if (this.ResizeObserver === undefined) {\n",
       "        if (window.ResizeObserver !== undefined) {\n",
       "            this.ResizeObserver = window.ResizeObserver;\n",
       "        } else {\n",
       "            var obs = _JSXTOOLS_RESIZE_OBSERVER({});\n",
       "            this.ResizeObserver = obs.ResizeObserver;\n",
       "        }\n",
       "    }\n",
       "\n",
       "    this.resizeObserverInstance = new this.ResizeObserver(function (entries) {\n",
       "        var nentries = entries.length;\n",
       "        for (var i = 0; i < nentries; i++) {\n",
       "            var entry = entries[i];\n",
       "            var width, height;\n",
       "            if (entry.contentBoxSize) {\n",
       "                if (entry.contentBoxSize instanceof Array) {\n",
       "                    // Chrome 84 implements new version of spec.\n",
       "                    width = entry.contentBoxSize[0].inlineSize;\n",
       "                    height = entry.contentBoxSize[0].blockSize;\n",
       "                } else {\n",
       "                    // Firefox implements old version of spec.\n",
       "                    width = entry.contentBoxSize.inlineSize;\n",
       "                    height = entry.contentBoxSize.blockSize;\n",
       "                }\n",
       "            } else {\n",
       "                // Chrome <84 implements even older version of spec.\n",
       "                width = entry.contentRect.width;\n",
       "                height = entry.contentRect.height;\n",
       "            }\n",
       "\n",
       "            // Keep the size of the canvas and rubber band canvas in sync with\n",
       "            // the canvas container.\n",
       "            if (entry.devicePixelContentBoxSize) {\n",
       "                // Chrome 84 implements new version of spec.\n",
       "                canvas.setAttribute(\n",
       "                    'width',\n",
       "                    entry.devicePixelContentBoxSize[0].inlineSize\n",
       "                );\n",
       "                canvas.setAttribute(\n",
       "                    'height',\n",
       "                    entry.devicePixelContentBoxSize[0].blockSize\n",
       "                );\n",
       "            } else {\n",
       "                canvas.setAttribute('width', width * fig.ratio);\n",
       "                canvas.setAttribute('height', height * fig.ratio);\n",
       "            }\n",
       "            canvas.setAttribute(\n",
       "                'style',\n",
       "                'width: ' + width + 'px; height: ' + height + 'px;'\n",
       "            );\n",
       "\n",
       "            rubberband_canvas.setAttribute('width', width);\n",
       "            rubberband_canvas.setAttribute('height', height);\n",
       "\n",
       "            // And update the size in Python. We ignore the initial 0/0 size\n",
       "            // that occurs as the element is placed into the DOM, which should\n",
       "            // otherwise not happen due to the minimum size styling.\n",
       "            if (fig.ws.readyState == 1 && width != 0 && height != 0) {\n",
       "                fig.request_resize(width, height);\n",
       "            }\n",
       "        }\n",
       "    });\n",
       "    this.resizeObserverInstance.observe(canvas_div);\n",
       "\n",
       "    function on_mouse_event_closure(name) {\n",
       "        return function (event) {\n",
       "            return fig.mouse_event(event, name);\n",
       "        };\n",
       "    }\n",
       "\n",
       "    rubberband_canvas.addEventListener(\n",
       "        'mousedown',\n",
       "        on_mouse_event_closure('button_press')\n",
       "    );\n",
       "    rubberband_canvas.addEventListener(\n",
       "        'mouseup',\n",
       "        on_mouse_event_closure('button_release')\n",
       "    );\n",
       "    rubberband_canvas.addEventListener(\n",
       "        'dblclick',\n",
       "        on_mouse_event_closure('dblclick')\n",
       "    );\n",
       "    // Throttle sequential mouse events to 1 every 20ms.\n",
       "    rubberband_canvas.addEventListener(\n",
       "        'mousemove',\n",
       "        on_mouse_event_closure('motion_notify')\n",
       "    );\n",
       "\n",
       "    rubberband_canvas.addEventListener(\n",
       "        'mouseenter',\n",
       "        on_mouse_event_closure('figure_enter')\n",
       "    );\n",
       "    rubberband_canvas.addEventListener(\n",
       "        'mouseleave',\n",
       "        on_mouse_event_closure('figure_leave')\n",
       "    );\n",
       "\n",
       "    canvas_div.addEventListener('wheel', function (event) {\n",
       "        if (event.deltaY < 0) {\n",
       "            event.step = 1;\n",
       "        } else {\n",
       "            event.step = -1;\n",
       "        }\n",
       "        on_mouse_event_closure('scroll')(event);\n",
       "    });\n",
       "\n",
       "    canvas_div.appendChild(canvas);\n",
       "    canvas_div.appendChild(rubberband_canvas);\n",
       "\n",
       "    this.rubberband_context = rubberband_canvas.getContext('2d');\n",
       "    this.rubberband_context.strokeStyle = '#000000';\n",
       "\n",
       "    this._resize_canvas = function (width, height, forward) {\n",
       "        if (forward) {\n",
       "            canvas_div.style.width = width + 'px';\n",
       "            canvas_div.style.height = height + 'px';\n",
       "        }\n",
       "    };\n",
       "\n",
       "    // Disable right mouse context menu.\n",
       "    this.rubberband_canvas.addEventListener('contextmenu', function (_e) {\n",
       "        event.preventDefault();\n",
       "        return false;\n",
       "    });\n",
       "\n",
       "    function set_focus() {\n",
       "        canvas.focus();\n",
       "        canvas_div.focus();\n",
       "    }\n",
       "\n",
       "    window.setTimeout(set_focus, 100);\n",
       "};\n",
       "\n",
       "mpl.figure.prototype._init_toolbar = function () {\n",
       "    var fig = this;\n",
       "\n",
       "    var toolbar = document.createElement('div');\n",
       "    toolbar.classList = 'mpl-toolbar';\n",
       "    this.root.appendChild(toolbar);\n",
       "\n",
       "    function on_click_closure(name) {\n",
       "        return function (_event) {\n",
       "            return fig.toolbar_button_onclick(name);\n",
       "        };\n",
       "    }\n",
       "\n",
       "    function on_mouseover_closure(tooltip) {\n",
       "        return function (event) {\n",
       "            if (!event.currentTarget.disabled) {\n",
       "                return fig.toolbar_button_onmouseover(tooltip);\n",
       "            }\n",
       "        };\n",
       "    }\n",
       "\n",
       "    fig.buttons = {};\n",
       "    var buttonGroup = document.createElement('div');\n",
       "    buttonGroup.classList = 'mpl-button-group';\n",
       "    for (var toolbar_ind in mpl.toolbar_items) {\n",
       "        var name = mpl.toolbar_items[toolbar_ind][0];\n",
       "        var tooltip = mpl.toolbar_items[toolbar_ind][1];\n",
       "        var image = mpl.toolbar_items[toolbar_ind][2];\n",
       "        var method_name = mpl.toolbar_items[toolbar_ind][3];\n",
       "\n",
       "        if (!name) {\n",
       "            /* Instead of a spacer, we start a new button group. */\n",
       "            if (buttonGroup.hasChildNodes()) {\n",
       "                toolbar.appendChild(buttonGroup);\n",
       "            }\n",
       "            buttonGroup = document.createElement('div');\n",
       "            buttonGroup.classList = 'mpl-button-group';\n",
       "            continue;\n",
       "        }\n",
       "\n",
       "        var button = (fig.buttons[name] = document.createElement('button'));\n",
       "        button.classList = 'mpl-widget';\n",
       "        button.setAttribute('role', 'button');\n",
       "        button.setAttribute('aria-disabled', 'false');\n",
       "        button.addEventListener('click', on_click_closure(method_name));\n",
       "        button.addEventListener('mouseover', on_mouseover_closure(tooltip));\n",
       "\n",
       "        var icon_img = document.createElement('img');\n",
       "        icon_img.src = '_images/' + image + '.png';\n",
       "        icon_img.srcset = '_images/' + image + '_large.png 2x';\n",
       "        icon_img.alt = tooltip;\n",
       "        button.appendChild(icon_img);\n",
       "\n",
       "        buttonGroup.appendChild(button);\n",
       "    }\n",
       "\n",
       "    if (buttonGroup.hasChildNodes()) {\n",
       "        toolbar.appendChild(buttonGroup);\n",
       "    }\n",
       "\n",
       "    var fmt_picker = document.createElement('select');\n",
       "    fmt_picker.classList = 'mpl-widget';\n",
       "    toolbar.appendChild(fmt_picker);\n",
       "    this.format_dropdown = fmt_picker;\n",
       "\n",
       "    for (var ind in mpl.extensions) {\n",
       "        var fmt = mpl.extensions[ind];\n",
       "        var option = document.createElement('option');\n",
       "        option.selected = fmt === mpl.default_extension;\n",
       "        option.innerHTML = fmt;\n",
       "        fmt_picker.appendChild(option);\n",
       "    }\n",
       "\n",
       "    var status_bar = document.createElement('span');\n",
       "    status_bar.classList = 'mpl-message';\n",
       "    toolbar.appendChild(status_bar);\n",
       "    this.message = status_bar;\n",
       "};\n",
       "\n",
       "mpl.figure.prototype.request_resize = function (x_pixels, y_pixels) {\n",
       "    // Request matplotlib to resize the figure. Matplotlib will then trigger a resize in the client,\n",
       "    // which will in turn request a refresh of the image.\n",
       "    this.send_message('resize', { width: x_pixels, height: y_pixels });\n",
       "};\n",
       "\n",
       "mpl.figure.prototype.send_message = function (type, properties) {\n",
       "    properties['type'] = type;\n",
       "    properties['figure_id'] = this.id;\n",
       "    this.ws.send(JSON.stringify(properties));\n",
       "};\n",
       "\n",
       "mpl.figure.prototype.send_draw_message = function () {\n",
       "    if (!this.waiting) {\n",
       "        this.waiting = true;\n",
       "        this.ws.send(JSON.stringify({ type: 'draw', figure_id: this.id }));\n",
       "    }\n",
       "};\n",
       "\n",
       "mpl.figure.prototype.handle_save = function (fig, _msg) {\n",
       "    var format_dropdown = fig.format_dropdown;\n",
       "    var format = format_dropdown.options[format_dropdown.selectedIndex].value;\n",
       "    fig.ondownload(fig, format);\n",
       "};\n",
       "\n",
       "mpl.figure.prototype.handle_resize = function (fig, msg) {\n",
       "    var size = msg['size'];\n",
       "    if (size[0] !== fig.canvas.width || size[1] !== fig.canvas.height) {\n",
       "        fig._resize_canvas(size[0], size[1], msg['forward']);\n",
       "        fig.send_message('refresh', {});\n",
       "    }\n",
       "};\n",
       "\n",
       "mpl.figure.prototype.handle_rubberband = function (fig, msg) {\n",
       "    var x0 = msg['x0'] / fig.ratio;\n",
       "    var y0 = (fig.canvas.height - msg['y0']) / fig.ratio;\n",
       "    var x1 = msg['x1'] / fig.ratio;\n",
       "    var y1 = (fig.canvas.height - msg['y1']) / fig.ratio;\n",
       "    x0 = Math.floor(x0) + 0.5;\n",
       "    y0 = Math.floor(y0) + 0.5;\n",
       "    x1 = Math.floor(x1) + 0.5;\n",
       "    y1 = Math.floor(y1) + 0.5;\n",
       "    var min_x = Math.min(x0, x1);\n",
       "    var min_y = Math.min(y0, y1);\n",
       "    var width = Math.abs(x1 - x0);\n",
       "    var height = Math.abs(y1 - y0);\n",
       "\n",
       "    fig.rubberband_context.clearRect(\n",
       "        0,\n",
       "        0,\n",
       "        fig.canvas.width / fig.ratio,\n",
       "        fig.canvas.height / fig.ratio\n",
       "    );\n",
       "\n",
       "    fig.rubberband_context.strokeRect(min_x, min_y, width, height);\n",
       "};\n",
       "\n",
       "mpl.figure.prototype.handle_figure_label = function (fig, msg) {\n",
       "    // Updates the figure title.\n",
       "    fig.header.textContent = msg['label'];\n",
       "};\n",
       "\n",
       "mpl.figure.prototype.handle_cursor = function (fig, msg) {\n",
       "    fig.rubberband_canvas.style.cursor = msg['cursor'];\n",
       "};\n",
       "\n",
       "mpl.figure.prototype.handle_message = function (fig, msg) {\n",
       "    fig.message.textContent = msg['message'];\n",
       "};\n",
       "\n",
       "mpl.figure.prototype.handle_draw = function (fig, _msg) {\n",
       "    // Request the server to send over a new figure.\n",
       "    fig.send_draw_message();\n",
       "};\n",
       "\n",
       "mpl.figure.prototype.handle_image_mode = function (fig, msg) {\n",
       "    fig.image_mode = msg['mode'];\n",
       "};\n",
       "\n",
       "mpl.figure.prototype.handle_history_buttons = function (fig, msg) {\n",
       "    for (var key in msg) {\n",
       "        if (!(key in fig.buttons)) {\n",
       "            continue;\n",
       "        }\n",
       "        fig.buttons[key].disabled = !msg[key];\n",
       "        fig.buttons[key].setAttribute('aria-disabled', !msg[key]);\n",
       "    }\n",
       "};\n",
       "\n",
       "mpl.figure.prototype.handle_navigate_mode = function (fig, msg) {\n",
       "    if (msg['mode'] === 'PAN') {\n",
       "        fig.buttons['Pan'].classList.add('active');\n",
       "        fig.buttons['Zoom'].classList.remove('active');\n",
       "    } else if (msg['mode'] === 'ZOOM') {\n",
       "        fig.buttons['Pan'].classList.remove('active');\n",
       "        fig.buttons['Zoom'].classList.add('active');\n",
       "    } else {\n",
       "        fig.buttons['Pan'].classList.remove('active');\n",
       "        fig.buttons['Zoom'].classList.remove('active');\n",
       "    }\n",
       "};\n",
       "\n",
       "mpl.figure.prototype.updated_canvas_event = function () {\n",
       "    // Called whenever the canvas gets updated.\n",
       "    this.send_message('ack', {});\n",
       "};\n",
       "\n",
       "// A function to construct a web socket function for onmessage handling.\n",
       "// Called in the figure constructor.\n",
       "mpl.figure.prototype._make_on_message_function = function (fig) {\n",
       "    return function socket_on_message(evt) {\n",
       "        if (evt.data instanceof Blob) {\n",
       "            var img = evt.data;\n",
       "            if (img.type !== 'image/png') {\n",
       "                /* FIXME: We get \"Resource interpreted as Image but\n",
       "                 * transferred with MIME type text/plain:\" errors on\n",
       "                 * Chrome.  But how to set the MIME type?  It doesn't seem\n",
       "                 * to be part of the websocket stream */\n",
       "                img.type = 'image/png';\n",
       "            }\n",
       "\n",
       "            /* Free the memory for the previous frames */\n",
       "            if (fig.imageObj.src) {\n",
       "                (window.URL || window.webkitURL).revokeObjectURL(\n",
       "                    fig.imageObj.src\n",
       "                );\n",
       "            }\n",
       "\n",
       "            fig.imageObj.src = (window.URL || window.webkitURL).createObjectURL(\n",
       "                img\n",
       "            );\n",
       "            fig.updated_canvas_event();\n",
       "            fig.waiting = false;\n",
       "            return;\n",
       "        } else if (\n",
       "            typeof evt.data === 'string' &&\n",
       "            evt.data.slice(0, 21) === 'data:image/png;base64'\n",
       "        ) {\n",
       "            fig.imageObj.src = evt.data;\n",
       "            fig.updated_canvas_event();\n",
       "            fig.waiting = false;\n",
       "            return;\n",
       "        }\n",
       "\n",
       "        var msg = JSON.parse(evt.data);\n",
       "        var msg_type = msg['type'];\n",
       "\n",
       "        // Call the  \"handle_{type}\" callback, which takes\n",
       "        // the figure and JSON message as its only arguments.\n",
       "        try {\n",
       "            var callback = fig['handle_' + msg_type];\n",
       "        } catch (e) {\n",
       "            console.log(\n",
       "                \"No handler for the '\" + msg_type + \"' message type: \",\n",
       "                msg\n",
       "            );\n",
       "            return;\n",
       "        }\n",
       "\n",
       "        if (callback) {\n",
       "            try {\n",
       "                // console.log(\"Handling '\" + msg_type + \"' message: \", msg);\n",
       "                callback(fig, msg);\n",
       "            } catch (e) {\n",
       "                console.log(\n",
       "                    \"Exception inside the 'handler_\" + msg_type + \"' callback:\",\n",
       "                    e,\n",
       "                    e.stack,\n",
       "                    msg\n",
       "                );\n",
       "            }\n",
       "        }\n",
       "    };\n",
       "};\n",
       "\n",
       "// from https://stackoverflow.com/questions/1114465/getting-mouse-location-in-canvas\n",
       "mpl.findpos = function (e) {\n",
       "    //this section is from http://www.quirksmode.org/js/events_properties.html\n",
       "    var targ;\n",
       "    if (!e) {\n",
       "        e = window.event;\n",
       "    }\n",
       "    if (e.target) {\n",
       "        targ = e.target;\n",
       "    } else if (e.srcElement) {\n",
       "        targ = e.srcElement;\n",
       "    }\n",
       "    if (targ.nodeType === 3) {\n",
       "        // defeat Safari bug\n",
       "        targ = targ.parentNode;\n",
       "    }\n",
       "\n",
       "    // pageX,Y are the mouse positions relative to the document\n",
       "    var boundingRect = targ.getBoundingClientRect();\n",
       "    var x = e.pageX - (boundingRect.left + document.body.scrollLeft);\n",
       "    var y = e.pageY - (boundingRect.top + document.body.scrollTop);\n",
       "\n",
       "    return { x: x, y: y };\n",
       "};\n",
       "\n",
       "/*\n",
       " * return a copy of an object with only non-object keys\n",
       " * we need this to avoid circular references\n",
       " * https://stackoverflow.com/a/24161582/3208463\n",
       " */\n",
       "function simpleKeys(original) {\n",
       "    return Object.keys(original).reduce(function (obj, key) {\n",
       "        if (typeof original[key] !== 'object') {\n",
       "            obj[key] = original[key];\n",
       "        }\n",
       "        return obj;\n",
       "    }, {});\n",
       "}\n",
       "\n",
       "mpl.figure.prototype.mouse_event = function (event, name) {\n",
       "    var canvas_pos = mpl.findpos(event);\n",
       "\n",
       "    if (name === 'button_press') {\n",
       "        this.canvas.focus();\n",
       "        this.canvas_div.focus();\n",
       "    }\n",
       "\n",
       "    var x = canvas_pos.x * this.ratio;\n",
       "    var y = canvas_pos.y * this.ratio;\n",
       "\n",
       "    this.send_message(name, {\n",
       "        x: x,\n",
       "        y: y,\n",
       "        button: event.button,\n",
       "        step: event.step,\n",
       "        guiEvent: simpleKeys(event),\n",
       "    });\n",
       "\n",
       "    /* This prevents the web browser from automatically changing to\n",
       "     * the text insertion cursor when the button is pressed.  We want\n",
       "     * to control all of the cursor setting manually through the\n",
       "     * 'cursor' event from matplotlib */\n",
       "    event.preventDefault();\n",
       "    return false;\n",
       "};\n",
       "\n",
       "mpl.figure.prototype._key_event_extra = function (_event, _name) {\n",
       "    // Handle any extra behaviour associated with a key event\n",
       "};\n",
       "\n",
       "mpl.figure.prototype.key_event = function (event, name) {\n",
       "    // Prevent repeat events\n",
       "    if (name === 'key_press') {\n",
       "        if (event.key === this._key) {\n",
       "            return;\n",
       "        } else {\n",
       "            this._key = event.key;\n",
       "        }\n",
       "    }\n",
       "    if (name === 'key_release') {\n",
       "        this._key = null;\n",
       "    }\n",
       "\n",
       "    var value = '';\n",
       "    if (event.ctrlKey && event.key !== 'Control') {\n",
       "        value += 'ctrl+';\n",
       "    }\n",
       "    else if (event.altKey && event.key !== 'Alt') {\n",
       "        value += 'alt+';\n",
       "    }\n",
       "    else if (event.shiftKey && event.key !== 'Shift') {\n",
       "        value += 'shift+';\n",
       "    }\n",
       "\n",
       "    value += 'k' + event.key;\n",
       "\n",
       "    this._key_event_extra(event, name);\n",
       "\n",
       "    this.send_message(name, { key: value, guiEvent: simpleKeys(event) });\n",
       "    return false;\n",
       "};\n",
       "\n",
       "mpl.figure.prototype.toolbar_button_onclick = function (name) {\n",
       "    if (name === 'download') {\n",
       "        this.handle_save(this, null);\n",
       "    } else {\n",
       "        this.send_message('toolbar_button', { name: name });\n",
       "    }\n",
       "};\n",
       "\n",
       "mpl.figure.prototype.toolbar_button_onmouseover = function (tooltip) {\n",
       "    this.message.textContent = tooltip;\n",
       "};\n",
       "\n",
       "///////////////// REMAINING CONTENT GENERATED BY embed_js.py /////////////////\n",
       "// prettier-ignore\n",
       "var _JSXTOOLS_RESIZE_OBSERVER=function(A){var t,i=new WeakMap,n=new WeakMap,a=new WeakMap,r=new WeakMap,o=new Set;function s(e){if(!(this instanceof s))throw new TypeError(\"Constructor requires 'new' operator\");i.set(this,e)}function h(){throw new TypeError(\"Function is not a constructor\")}function c(e,t,i,n){e=0 in arguments?Number(arguments[0]):0,t=1 in arguments?Number(arguments[1]):0,i=2 in arguments?Number(arguments[2]):0,n=3 in arguments?Number(arguments[3]):0,this.right=(this.x=this.left=e)+(this.width=i),this.bottom=(this.y=this.top=t)+(this.height=n),Object.freeze(this)}function d(){t=requestAnimationFrame(d);var s=new WeakMap,p=new Set;o.forEach((function(t){r.get(t).forEach((function(i){var r=t instanceof window.SVGElement,o=a.get(t),d=r?0:parseFloat(o.paddingTop),f=r?0:parseFloat(o.paddingRight),l=r?0:parseFloat(o.paddingBottom),u=r?0:parseFloat(o.paddingLeft),g=r?0:parseFloat(o.borderTopWidth),m=r?0:parseFloat(o.borderRightWidth),w=r?0:parseFloat(o.borderBottomWidth),b=u+f,F=d+l,v=(r?0:parseFloat(o.borderLeftWidth))+m,W=g+w,y=r?0:t.offsetHeight-W-t.clientHeight,E=r?0:t.offsetWidth-v-t.clientWidth,R=b+v,z=F+W,M=r?t.width:parseFloat(o.width)-R-E,O=r?t.height:parseFloat(o.height)-z-y;if(n.has(t)){var k=n.get(t);if(k[0]===M&&k[1]===O)return}n.set(t,[M,O]);var S=Object.create(h.prototype);S.target=t,S.contentRect=new c(u,d,M,O),s.has(i)||(s.set(i,[]),p.add(i)),s.get(i).push(S)}))})),p.forEach((function(e){i.get(e).call(e,s.get(e),e)}))}return s.prototype.observe=function(i){if(i instanceof window.Element){r.has(i)||(r.set(i,new Set),o.add(i),a.set(i,window.getComputedStyle(i)));var n=r.get(i);n.has(this)||n.add(this),cancelAnimationFrame(t),t=requestAnimationFrame(d)}},s.prototype.unobserve=function(i){if(i instanceof window.Element&&r.has(i)){var n=r.get(i);n.has(this)&&(n.delete(this),n.size||(r.delete(i),o.delete(i))),n.size||r.delete(i),o.size||cancelAnimationFrame(t)}},A.DOMRectReadOnly=c,A.ResizeObserver=s,A.ResizeObserverEntry=h,A}; // eslint-disable-line\n",
       "mpl.toolbar_items = [[\"Home\", \"Reset original view\", \"fa fa-home icon-home\", \"home\"], [\"Back\", \"Back to previous view\", \"fa fa-arrow-left icon-arrow-left\", \"back\"], [\"Forward\", \"Forward to next view\", \"fa fa-arrow-right icon-arrow-right\", \"forward\"], [\"\", \"\", \"\", \"\"], [\"Pan\", \"Left button pans, Right button zooms\\nx/y fixes axis, CTRL fixes aspect\", \"fa fa-arrows icon-move\", \"pan\"], [\"Zoom\", \"Zoom to rectangle\\nx/y fixes axis\", \"fa fa-square-o icon-check-empty\", \"zoom\"], [\"\", \"\", \"\", \"\"], [\"Download\", \"Download plot\", \"fa fa-floppy-o icon-save\", \"download\"]];\n",
       "\n",
       "mpl.extensions = [\"eps\", \"jpeg\", \"pgf\", \"pdf\", \"png\", \"ps\", \"raw\", \"svg\", \"tif\"];\n",
       "\n",
       "mpl.default_extension = \"png\";/* global mpl */\n",
       "\n",
       "var comm_websocket_adapter = function (comm) {\n",
       "    // Create a \"websocket\"-like object which calls the given IPython comm\n",
       "    // object with the appropriate methods. Currently this is a non binary\n",
       "    // socket, so there is still some room for performance tuning.\n",
       "    var ws = {};\n",
       "\n",
       "    ws.binaryType = comm.kernel.ws.binaryType;\n",
       "    ws.readyState = comm.kernel.ws.readyState;\n",
       "    function updateReadyState(_event) {\n",
       "        if (comm.kernel.ws) {\n",
       "            ws.readyState = comm.kernel.ws.readyState;\n",
       "        } else {\n",
       "            ws.readyState = 3; // Closed state.\n",
       "        }\n",
       "    }\n",
       "    comm.kernel.ws.addEventListener('open', updateReadyState);\n",
       "    comm.kernel.ws.addEventListener('close', updateReadyState);\n",
       "    comm.kernel.ws.addEventListener('error', updateReadyState);\n",
       "\n",
       "    ws.close = function () {\n",
       "        comm.close();\n",
       "    };\n",
       "    ws.send = function (m) {\n",
       "        //console.log('sending', m);\n",
       "        comm.send(m);\n",
       "    };\n",
       "    // Register the callback with on_msg.\n",
       "    comm.on_msg(function (msg) {\n",
       "        //console.log('receiving', msg['content']['data'], msg);\n",
       "        var data = msg['content']['data'];\n",
       "        if (data['blob'] !== undefined) {\n",
       "            data = {\n",
       "                data: new Blob(msg['buffers'], { type: data['blob'] }),\n",
       "            };\n",
       "        }\n",
       "        // Pass the mpl event to the overridden (by mpl) onmessage function.\n",
       "        ws.onmessage(data);\n",
       "    });\n",
       "    return ws;\n",
       "};\n",
       "\n",
       "mpl.mpl_figure_comm = function (comm, msg) {\n",
       "    // This is the function which gets called when the mpl process\n",
       "    // starts-up an IPython Comm through the \"matplotlib\" channel.\n",
       "\n",
       "    var id = msg.content.data.id;\n",
       "    // Get hold of the div created by the display call when the Comm\n",
       "    // socket was opened in Python.\n",
       "    var element = document.getElementById(id);\n",
       "    var ws_proxy = comm_websocket_adapter(comm);\n",
       "\n",
       "    function ondownload(figure, _format) {\n",
       "        window.open(figure.canvas.toDataURL());\n",
       "    }\n",
       "\n",
       "    var fig = new mpl.figure(id, ws_proxy, ondownload, element);\n",
       "\n",
       "    // Call onopen now - mpl needs it, as it is assuming we've passed it a real\n",
       "    // web socket which is closed, not our websocket->open comm proxy.\n",
       "    ws_proxy.onopen();\n",
       "\n",
       "    fig.parent_element = element;\n",
       "    fig.cell_info = mpl.find_output_cell(\"<div id='\" + id + \"'></div>\");\n",
       "    if (!fig.cell_info) {\n",
       "        console.error('Failed to find cell for figure', id, fig);\n",
       "        return;\n",
       "    }\n",
       "    fig.cell_info[0].output_area.element.on(\n",
       "        'cleared',\n",
       "        { fig: fig },\n",
       "        fig._remove_fig_handler\n",
       "    );\n",
       "};\n",
       "\n",
       "mpl.figure.prototype.handle_close = function (fig, msg) {\n",
       "    var width = fig.canvas.width / fig.ratio;\n",
       "    fig.cell_info[0].output_area.element.off(\n",
       "        'cleared',\n",
       "        fig._remove_fig_handler\n",
       "    );\n",
       "    fig.resizeObserverInstance.unobserve(fig.canvas_div);\n",
       "\n",
       "    // Update the output cell to use the data from the current canvas.\n",
       "    fig.push_to_output();\n",
       "    var dataURL = fig.canvas.toDataURL();\n",
       "    // Re-enable the keyboard manager in IPython - without this line, in FF,\n",
       "    // the notebook keyboard shortcuts fail.\n",
       "    IPython.keyboard_manager.enable();\n",
       "    fig.parent_element.innerHTML =\n",
       "        '<img src=\"' + dataURL + '\" width=\"' + width + '\">';\n",
       "    fig.close_ws(fig, msg);\n",
       "};\n",
       "\n",
       "mpl.figure.prototype.close_ws = function (fig, msg) {\n",
       "    fig.send_message('closing', msg);\n",
       "    // fig.ws.close()\n",
       "};\n",
       "\n",
       "mpl.figure.prototype.push_to_output = function (_remove_interactive) {\n",
       "    // Turn the data on the canvas into data in the output cell.\n",
       "    var width = this.canvas.width / this.ratio;\n",
       "    var dataURL = this.canvas.toDataURL();\n",
       "    this.cell_info[1]['text/html'] =\n",
       "        '<img src=\"' + dataURL + '\" width=\"' + width + '\">';\n",
       "};\n",
       "\n",
       "mpl.figure.prototype.updated_canvas_event = function () {\n",
       "    // Tell IPython that the notebook contents must change.\n",
       "    IPython.notebook.set_dirty(true);\n",
       "    this.send_message('ack', {});\n",
       "    var fig = this;\n",
       "    // Wait a second, then push the new image to the DOM so\n",
       "    // that it is saved nicely (might be nice to debounce this).\n",
       "    setTimeout(function () {\n",
       "        fig.push_to_output();\n",
       "    }, 1000);\n",
       "};\n",
       "\n",
       "mpl.figure.prototype._init_toolbar = function () {\n",
       "    var fig = this;\n",
       "\n",
       "    var toolbar = document.createElement('div');\n",
       "    toolbar.classList = 'btn-toolbar';\n",
       "    this.root.appendChild(toolbar);\n",
       "\n",
       "    function on_click_closure(name) {\n",
       "        return function (_event) {\n",
       "            return fig.toolbar_button_onclick(name);\n",
       "        };\n",
       "    }\n",
       "\n",
       "    function on_mouseover_closure(tooltip) {\n",
       "        return function (event) {\n",
       "            if (!event.currentTarget.disabled) {\n",
       "                return fig.toolbar_button_onmouseover(tooltip);\n",
       "            }\n",
       "        };\n",
       "    }\n",
       "\n",
       "    fig.buttons = {};\n",
       "    var buttonGroup = document.createElement('div');\n",
       "    buttonGroup.classList = 'btn-group';\n",
       "    var button;\n",
       "    for (var toolbar_ind in mpl.toolbar_items) {\n",
       "        var name = mpl.toolbar_items[toolbar_ind][0];\n",
       "        var tooltip = mpl.toolbar_items[toolbar_ind][1];\n",
       "        var image = mpl.toolbar_items[toolbar_ind][2];\n",
       "        var method_name = mpl.toolbar_items[toolbar_ind][3];\n",
       "\n",
       "        if (!name) {\n",
       "            /* Instead of a spacer, we start a new button group. */\n",
       "            if (buttonGroup.hasChildNodes()) {\n",
       "                toolbar.appendChild(buttonGroup);\n",
       "            }\n",
       "            buttonGroup = document.createElement('div');\n",
       "            buttonGroup.classList = 'btn-group';\n",
       "            continue;\n",
       "        }\n",
       "\n",
       "        button = fig.buttons[name] = document.createElement('button');\n",
       "        button.classList = 'btn btn-default';\n",
       "        button.href = '#';\n",
       "        button.title = name;\n",
       "        button.innerHTML = '<i class=\"fa ' + image + ' fa-lg\"></i>';\n",
       "        button.addEventListener('click', on_click_closure(method_name));\n",
       "        button.addEventListener('mouseover', on_mouseover_closure(tooltip));\n",
       "        buttonGroup.appendChild(button);\n",
       "    }\n",
       "\n",
       "    if (buttonGroup.hasChildNodes()) {\n",
       "        toolbar.appendChild(buttonGroup);\n",
       "    }\n",
       "\n",
       "    // Add the status bar.\n",
       "    var status_bar = document.createElement('span');\n",
       "    status_bar.classList = 'mpl-message pull-right';\n",
       "    toolbar.appendChild(status_bar);\n",
       "    this.message = status_bar;\n",
       "\n",
       "    // Add the close button to the window.\n",
       "    var buttongrp = document.createElement('div');\n",
       "    buttongrp.classList = 'btn-group inline pull-right';\n",
       "    button = document.createElement('button');\n",
       "    button.classList = 'btn btn-mini btn-primary';\n",
       "    button.href = '#';\n",
       "    button.title = 'Stop Interaction';\n",
       "    button.innerHTML = '<i class=\"fa fa-power-off icon-remove icon-large\"></i>';\n",
       "    button.addEventListener('click', function (_evt) {\n",
       "        fig.handle_close(fig, {});\n",
       "    });\n",
       "    button.addEventListener(\n",
       "        'mouseover',\n",
       "        on_mouseover_closure('Stop Interaction')\n",
       "    );\n",
       "    buttongrp.appendChild(button);\n",
       "    var titlebar = this.root.querySelector('.ui-dialog-titlebar');\n",
       "    titlebar.insertBefore(buttongrp, titlebar.firstChild);\n",
       "};\n",
       "\n",
       "mpl.figure.prototype._remove_fig_handler = function (event) {\n",
       "    var fig = event.data.fig;\n",
       "    if (event.target !== this) {\n",
       "        // Ignore bubbled events from children.\n",
       "        return;\n",
       "    }\n",
       "    fig.close_ws(fig, {});\n",
       "};\n",
       "\n",
       "mpl.figure.prototype._root_extra_style = function (el) {\n",
       "    el.style.boxSizing = 'content-box'; // override notebook setting of border-box.\n",
       "};\n",
       "\n",
       "mpl.figure.prototype._canvas_extra_style = function (el) {\n",
       "    // this is important to make the div 'focusable\n",
       "    el.setAttribute('tabindex', 0);\n",
       "    // reach out to IPython and tell the keyboard manager to turn it's self\n",
       "    // off when our div gets focus\n",
       "\n",
       "    // location in version 3\n",
       "    if (IPython.notebook.keyboard_manager) {\n",
       "        IPython.notebook.keyboard_manager.register_events(el);\n",
       "    } else {\n",
       "        // location in version 2\n",
       "        IPython.keyboard_manager.register_events(el);\n",
       "    }\n",
       "};\n",
       "\n",
       "mpl.figure.prototype._key_event_extra = function (event, _name) {\n",
       "    // Check for shift+enter\n",
       "    if (event.shiftKey && event.which === 13) {\n",
       "        this.canvas_div.blur();\n",
       "        // select the cell after this one\n",
       "        var index = IPython.notebook.find_cell_index(this.cell_info[0]);\n",
       "        IPython.notebook.select(index + 1);\n",
       "    }\n",
       "};\n",
       "\n",
       "mpl.figure.prototype.handle_save = function (fig, _msg) {\n",
       "    fig.ondownload(fig, null);\n",
       "};\n",
       "\n",
       "mpl.find_output_cell = function (html_output) {\n",
       "    // Return the cell and output element which can be found *uniquely* in the notebook.\n",
       "    // Note - this is a bit hacky, but it is done because the \"notebook_saving.Notebook\"\n",
       "    // IPython event is triggered only after the cells have been serialised, which for\n",
       "    // our purposes (turning an active figure into a static one), is too late.\n",
       "    var cells = IPython.notebook.get_cells();\n",
       "    var ncells = cells.length;\n",
       "    for (var i = 0; i < ncells; i++) {\n",
       "        var cell = cells[i];\n",
       "        if (cell.cell_type === 'code') {\n",
       "            for (var j = 0; j < cell.output_area.outputs.length; j++) {\n",
       "                var data = cell.output_area.outputs[j];\n",
       "                if (data.data) {\n",
       "                    // IPython >= 3 moved mimebundle to data attribute of output\n",
       "                    data = data.data;\n",
       "                }\n",
       "                if (data['text/html'] === html_output) {\n",
       "                    return [cell, data, j];\n",
       "                }\n",
       "            }\n",
       "        }\n",
       "    }\n",
       "};\n",
       "\n",
       "// Register the function which deals with the matplotlib target/channel.\n",
       "// The kernel may be null if the page has been refreshed.\n",
       "if (IPython.notebook.kernel !== null) {\n",
       "    IPython.notebook.kernel.comm_manager.register_target(\n",
       "        'matplotlib',\n",
       "        mpl.mpl_figure_comm\n",
       "    );\n",
       "}\n"
      ],
      "text/plain": [
       "<IPython.core.display.Javascript object>"
      ]
     },
     "metadata": {},
     "output_type": "display_data"
    },
    {
     "data": {
      "text/html": [
       "<img src=\"data:image/png;base64,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\" width=\"1124.9999832361939\">"
      ],
      "text/plain": [
       "<IPython.core.display.HTML object>"
      ]
     },
     "metadata": {},
     "output_type": "display_data"
    }
   ],
   "source": [
    "\n",
    "fig = plt.figure(figsize=(12,6))\n",
    "ax = fig.add_subplot(121, projection='3d')\n",
    "\n",
    "\n",
    "\n",
    "ax.set_xlim(-5,5)\n",
    "ax.set_ylim(-5,5)\n",
    "ax.set_zlim(-10,10)\n",
    "ax.quiver((0,),(0,),(0,),(1,),(-4,),(2,), color='red', length=1)\n",
    "ax.quiver((0,),(0,),(0,),(-2,),(1,),(3,), color='green', length=1)\n",
    "ax.quiver((0,),(0,),(0,),(2,),(6,),(8,), color='blue', length=1)\n",
    "\n",
    "plt.show()\n"
   ]
  },
  {
   "cell_type": "code",
   "execution_count": 8,
   "id": "13d01edd",
   "metadata": {
    "hide_input": true,
    "slideshow": {
     "slide_type": "slide"
    }
   },
   "outputs": [
    {
     "data": {
      "application/javascript": [
       "/* Put everything inside the global mpl namespace */\n",
       "/* global mpl */\n",
       "window.mpl = {};\n",
       "\n",
       "mpl.get_websocket_type = function () {\n",
       "    if (typeof WebSocket !== 'undefined') {\n",
       "        return WebSocket;\n",
       "    } else if (typeof MozWebSocket !== 'undefined') {\n",
       "        return MozWebSocket;\n",
       "    } else {\n",
       "        alert(\n",
       "            'Your browser does not have WebSocket support. ' +\n",
       "                'Please try Chrome, Safari or Firefox ≥ 6. ' +\n",
       "                'Firefox 4 and 5 are also supported but you ' +\n",
       "                'have to enable WebSockets in about:config.'\n",
       "        );\n",
       "    }\n",
       "};\n",
       "\n",
       "mpl.figure = function (figure_id, websocket, ondownload, parent_element) {\n",
       "    this.id = figure_id;\n",
       "\n",
       "    this.ws = websocket;\n",
       "\n",
       "    this.supports_binary = this.ws.binaryType !== undefined;\n",
       "\n",
       "    if (!this.supports_binary) {\n",
       "        var warnings = document.getElementById('mpl-warnings');\n",
       "        if (warnings) {\n",
       "            warnings.style.display = 'block';\n",
       "            warnings.textContent =\n",
       "                'This browser does not support binary websocket messages. ' +\n",
       "                'Performance may be slow.';\n",
       "        }\n",
       "    }\n",
       "\n",
       "    this.imageObj = new Image();\n",
       "\n",
       "    this.context = undefined;\n",
       "    this.message = undefined;\n",
       "    this.canvas = undefined;\n",
       "    this.rubberband_canvas = undefined;\n",
       "    this.rubberband_context = undefined;\n",
       "    this.format_dropdown = undefined;\n",
       "\n",
       "    this.image_mode = 'full';\n",
       "\n",
       "    this.root = document.createElement('div');\n",
       "    this.root.setAttribute('style', 'display: inline-block');\n",
       "    this._root_extra_style(this.root);\n",
       "\n",
       "    parent_element.appendChild(this.root);\n",
       "\n",
       "    this._init_header(this);\n",
       "    this._init_canvas(this);\n",
       "    this._init_toolbar(this);\n",
       "\n",
       "    var fig = this;\n",
       "\n",
       "    this.waiting = false;\n",
       "\n",
       "    this.ws.onopen = function () {\n",
       "        fig.send_message('supports_binary', { value: fig.supports_binary });\n",
       "        fig.send_message('send_image_mode', {});\n",
       "        if (fig.ratio !== 1) {\n",
       "            fig.send_message('set_device_pixel_ratio', {\n",
       "                device_pixel_ratio: fig.ratio,\n",
       "            });\n",
       "        }\n",
       "        fig.send_message('refresh', {});\n",
       "    };\n",
       "\n",
       "    this.imageObj.onload = function () {\n",
       "        if (fig.image_mode === 'full') {\n",
       "            // Full images could contain transparency (where diff images\n",
       "            // almost always do), so we need to clear the canvas so that\n",
       "            // there is no ghosting.\n",
       "            fig.context.clearRect(0, 0, fig.canvas.width, fig.canvas.height);\n",
       "        }\n",
       "        fig.context.drawImage(fig.imageObj, 0, 0);\n",
       "    };\n",
       "\n",
       "    this.imageObj.onunload = function () {\n",
       "        fig.ws.close();\n",
       "    };\n",
       "\n",
       "    this.ws.onmessage = this._make_on_message_function(this);\n",
       "\n",
       "    this.ondownload = ondownload;\n",
       "};\n",
       "\n",
       "mpl.figure.prototype._init_header = function () {\n",
       "    var titlebar = document.createElement('div');\n",
       "    titlebar.classList =\n",
       "        'ui-dialog-titlebar ui-widget-header ui-corner-all ui-helper-clearfix';\n",
       "    var titletext = document.createElement('div');\n",
       "    titletext.classList = 'ui-dialog-title';\n",
       "    titletext.setAttribute(\n",
       "        'style',\n",
       "        'width: 100%; text-align: center; padding: 3px;'\n",
       "    );\n",
       "    titlebar.appendChild(titletext);\n",
       "    this.root.appendChild(titlebar);\n",
       "    this.header = titletext;\n",
       "};\n",
       "\n",
       "mpl.figure.prototype._canvas_extra_style = function (_canvas_div) {};\n",
       "\n",
       "mpl.figure.prototype._root_extra_style = function (_canvas_div) {};\n",
       "\n",
       "mpl.figure.prototype._init_canvas = function () {\n",
       "    var fig = this;\n",
       "\n",
       "    var canvas_div = (this.canvas_div = document.createElement('div'));\n",
       "    canvas_div.setAttribute(\n",
       "        'style',\n",
       "        'border: 1px solid #ddd;' +\n",
       "            'box-sizing: content-box;' +\n",
       "            'clear: both;' +\n",
       "            'min-height: 1px;' +\n",
       "            'min-width: 1px;' +\n",
       "            'outline: 0;' +\n",
       "            'overflow: hidden;' +\n",
       "            'position: relative;' +\n",
       "            'resize: both;'\n",
       "    );\n",
       "\n",
       "    function on_keyboard_event_closure(name) {\n",
       "        return function (event) {\n",
       "            return fig.key_event(event, name);\n",
       "        };\n",
       "    }\n",
       "\n",
       "    canvas_div.addEventListener(\n",
       "        'keydown',\n",
       "        on_keyboard_event_closure('key_press')\n",
       "    );\n",
       "    canvas_div.addEventListener(\n",
       "        'keyup',\n",
       "        on_keyboard_event_closure('key_release')\n",
       "    );\n",
       "\n",
       "    this._canvas_extra_style(canvas_div);\n",
       "    this.root.appendChild(canvas_div);\n",
       "\n",
       "    var canvas = (this.canvas = document.createElement('canvas'));\n",
       "    canvas.classList.add('mpl-canvas');\n",
       "    canvas.setAttribute('style', 'box-sizing: content-box;');\n",
       "\n",
       "    this.context = canvas.getContext('2d');\n",
       "\n",
       "    var backingStore =\n",
       "        this.context.backingStorePixelRatio ||\n",
       "        this.context.webkitBackingStorePixelRatio ||\n",
       "        this.context.mozBackingStorePixelRatio ||\n",
       "        this.context.msBackingStorePixelRatio ||\n",
       "        this.context.oBackingStorePixelRatio ||\n",
       "        this.context.backingStorePixelRatio ||\n",
       "        1;\n",
       "\n",
       "    this.ratio = (window.devicePixelRatio || 1) / backingStore;\n",
       "\n",
       "    var rubberband_canvas = (this.rubberband_canvas = document.createElement(\n",
       "        'canvas'\n",
       "    ));\n",
       "    rubberband_canvas.setAttribute(\n",
       "        'style',\n",
       "        'box-sizing: content-box; position: absolute; left: 0; top: 0; z-index: 1;'\n",
       "    );\n",
       "\n",
       "    // Apply a ponyfill if ResizeObserver is not implemented by browser.\n",
       "    if (this.ResizeObserver === undefined) {\n",
       "        if (window.ResizeObserver !== undefined) {\n",
       "            this.ResizeObserver = window.ResizeObserver;\n",
       "        } else {\n",
       "            var obs = _JSXTOOLS_RESIZE_OBSERVER({});\n",
       "            this.ResizeObserver = obs.ResizeObserver;\n",
       "        }\n",
       "    }\n",
       "\n",
       "    this.resizeObserverInstance = new this.ResizeObserver(function (entries) {\n",
       "        var nentries = entries.length;\n",
       "        for (var i = 0; i < nentries; i++) {\n",
       "            var entry = entries[i];\n",
       "            var width, height;\n",
       "            if (entry.contentBoxSize) {\n",
       "                if (entry.contentBoxSize instanceof Array) {\n",
       "                    // Chrome 84 implements new version of spec.\n",
       "                    width = entry.contentBoxSize[0].inlineSize;\n",
       "                    height = entry.contentBoxSize[0].blockSize;\n",
       "                } else {\n",
       "                    // Firefox implements old version of spec.\n",
       "                    width = entry.contentBoxSize.inlineSize;\n",
       "                    height = entry.contentBoxSize.blockSize;\n",
       "                }\n",
       "            } else {\n",
       "                // Chrome <84 implements even older version of spec.\n",
       "                width = entry.contentRect.width;\n",
       "                height = entry.contentRect.height;\n",
       "            }\n",
       "\n",
       "            // Keep the size of the canvas and rubber band canvas in sync with\n",
       "            // the canvas container.\n",
       "            if (entry.devicePixelContentBoxSize) {\n",
       "                // Chrome 84 implements new version of spec.\n",
       "                canvas.setAttribute(\n",
       "                    'width',\n",
       "                    entry.devicePixelContentBoxSize[0].inlineSize\n",
       "                );\n",
       "                canvas.setAttribute(\n",
       "                    'height',\n",
       "                    entry.devicePixelContentBoxSize[0].blockSize\n",
       "                );\n",
       "            } else {\n",
       "                canvas.setAttribute('width', width * fig.ratio);\n",
       "                canvas.setAttribute('height', height * fig.ratio);\n",
       "            }\n",
       "            canvas.setAttribute(\n",
       "                'style',\n",
       "                'width: ' + width + 'px; height: ' + height + 'px;'\n",
       "            );\n",
       "\n",
       "            rubberband_canvas.setAttribute('width', width);\n",
       "            rubberband_canvas.setAttribute('height', height);\n",
       "\n",
       "            // And update the size in Python. We ignore the initial 0/0 size\n",
       "            // that occurs as the element is placed into the DOM, which should\n",
       "            // otherwise not happen due to the minimum size styling.\n",
       "            if (fig.ws.readyState == 1 && width != 0 && height != 0) {\n",
       "                fig.request_resize(width, height);\n",
       "            }\n",
       "        }\n",
       "    });\n",
       "    this.resizeObserverInstance.observe(canvas_div);\n",
       "\n",
       "    function on_mouse_event_closure(name) {\n",
       "        return function (event) {\n",
       "            return fig.mouse_event(event, name);\n",
       "        };\n",
       "    }\n",
       "\n",
       "    rubberband_canvas.addEventListener(\n",
       "        'mousedown',\n",
       "        on_mouse_event_closure('button_press')\n",
       "    );\n",
       "    rubberband_canvas.addEventListener(\n",
       "        'mouseup',\n",
       "        on_mouse_event_closure('button_release')\n",
       "    );\n",
       "    rubberband_canvas.addEventListener(\n",
       "        'dblclick',\n",
       "        on_mouse_event_closure('dblclick')\n",
       "    );\n",
       "    // Throttle sequential mouse events to 1 every 20ms.\n",
       "    rubberband_canvas.addEventListener(\n",
       "        'mousemove',\n",
       "        on_mouse_event_closure('motion_notify')\n",
       "    );\n",
       "\n",
       "    rubberband_canvas.addEventListener(\n",
       "        'mouseenter',\n",
       "        on_mouse_event_closure('figure_enter')\n",
       "    );\n",
       "    rubberband_canvas.addEventListener(\n",
       "        'mouseleave',\n",
       "        on_mouse_event_closure('figure_leave')\n",
       "    );\n",
       "\n",
       "    canvas_div.addEventListener('wheel', function (event) {\n",
       "        if (event.deltaY < 0) {\n",
       "            event.step = 1;\n",
       "        } else {\n",
       "            event.step = -1;\n",
       "        }\n",
       "        on_mouse_event_closure('scroll')(event);\n",
       "    });\n",
       "\n",
       "    canvas_div.appendChild(canvas);\n",
       "    canvas_div.appendChild(rubberband_canvas);\n",
       "\n",
       "    this.rubberband_context = rubberband_canvas.getContext('2d');\n",
       "    this.rubberband_context.strokeStyle = '#000000';\n",
       "\n",
       "    this._resize_canvas = function (width, height, forward) {\n",
       "        if (forward) {\n",
       "            canvas_div.style.width = width + 'px';\n",
       "            canvas_div.style.height = height + 'px';\n",
       "        }\n",
       "    };\n",
       "\n",
       "    // Disable right mouse context menu.\n",
       "    this.rubberband_canvas.addEventListener('contextmenu', function (_e) {\n",
       "        event.preventDefault();\n",
       "        return false;\n",
       "    });\n",
       "\n",
       "    function set_focus() {\n",
       "        canvas.focus();\n",
       "        canvas_div.focus();\n",
       "    }\n",
       "\n",
       "    window.setTimeout(set_focus, 100);\n",
       "};\n",
       "\n",
       "mpl.figure.prototype._init_toolbar = function () {\n",
       "    var fig = this;\n",
       "\n",
       "    var toolbar = document.createElement('div');\n",
       "    toolbar.classList = 'mpl-toolbar';\n",
       "    this.root.appendChild(toolbar);\n",
       "\n",
       "    function on_click_closure(name) {\n",
       "        return function (_event) {\n",
       "            return fig.toolbar_button_onclick(name);\n",
       "        };\n",
       "    }\n",
       "\n",
       "    function on_mouseover_closure(tooltip) {\n",
       "        return function (event) {\n",
       "            if (!event.currentTarget.disabled) {\n",
       "                return fig.toolbar_button_onmouseover(tooltip);\n",
       "            }\n",
       "        };\n",
       "    }\n",
       "\n",
       "    fig.buttons = {};\n",
       "    var buttonGroup = document.createElement('div');\n",
       "    buttonGroup.classList = 'mpl-button-group';\n",
       "    for (var toolbar_ind in mpl.toolbar_items) {\n",
       "        var name = mpl.toolbar_items[toolbar_ind][0];\n",
       "        var tooltip = mpl.toolbar_items[toolbar_ind][1];\n",
       "        var image = mpl.toolbar_items[toolbar_ind][2];\n",
       "        var method_name = mpl.toolbar_items[toolbar_ind][3];\n",
       "\n",
       "        if (!name) {\n",
       "            /* Instead of a spacer, we start a new button group. */\n",
       "            if (buttonGroup.hasChildNodes()) {\n",
       "                toolbar.appendChild(buttonGroup);\n",
       "            }\n",
       "            buttonGroup = document.createElement('div');\n",
       "            buttonGroup.classList = 'mpl-button-group';\n",
       "            continue;\n",
       "        }\n",
       "\n",
       "        var button = (fig.buttons[name] = document.createElement('button'));\n",
       "        button.classList = 'mpl-widget';\n",
       "        button.setAttribute('role', 'button');\n",
       "        button.setAttribute('aria-disabled', 'false');\n",
       "        button.addEventListener('click', on_click_closure(method_name));\n",
       "        button.addEventListener('mouseover', on_mouseover_closure(tooltip));\n",
       "\n",
       "        var icon_img = document.createElement('img');\n",
       "        icon_img.src = '_images/' + image + '.png';\n",
       "        icon_img.srcset = '_images/' + image + '_large.png 2x';\n",
       "        icon_img.alt = tooltip;\n",
       "        button.appendChild(icon_img);\n",
       "\n",
       "        buttonGroup.appendChild(button);\n",
       "    }\n",
       "\n",
       "    if (buttonGroup.hasChildNodes()) {\n",
       "        toolbar.appendChild(buttonGroup);\n",
       "    }\n",
       "\n",
       "    var fmt_picker = document.createElement('select');\n",
       "    fmt_picker.classList = 'mpl-widget';\n",
       "    toolbar.appendChild(fmt_picker);\n",
       "    this.format_dropdown = fmt_picker;\n",
       "\n",
       "    for (var ind in mpl.extensions) {\n",
       "        var fmt = mpl.extensions[ind];\n",
       "        var option = document.createElement('option');\n",
       "        option.selected = fmt === mpl.default_extension;\n",
       "        option.innerHTML = fmt;\n",
       "        fmt_picker.appendChild(option);\n",
       "    }\n",
       "\n",
       "    var status_bar = document.createElement('span');\n",
       "    status_bar.classList = 'mpl-message';\n",
       "    toolbar.appendChild(status_bar);\n",
       "    this.message = status_bar;\n",
       "};\n",
       "\n",
       "mpl.figure.prototype.request_resize = function (x_pixels, y_pixels) {\n",
       "    // Request matplotlib to resize the figure. Matplotlib will then trigger a resize in the client,\n",
       "    // which will in turn request a refresh of the image.\n",
       "    this.send_message('resize', { width: x_pixels, height: y_pixels });\n",
       "};\n",
       "\n",
       "mpl.figure.prototype.send_message = function (type, properties) {\n",
       "    properties['type'] = type;\n",
       "    properties['figure_id'] = this.id;\n",
       "    this.ws.send(JSON.stringify(properties));\n",
       "};\n",
       "\n",
       "mpl.figure.prototype.send_draw_message = function () {\n",
       "    if (!this.waiting) {\n",
       "        this.waiting = true;\n",
       "        this.ws.send(JSON.stringify({ type: 'draw', figure_id: this.id }));\n",
       "    }\n",
       "};\n",
       "\n",
       "mpl.figure.prototype.handle_save = function (fig, _msg) {\n",
       "    var format_dropdown = fig.format_dropdown;\n",
       "    var format = format_dropdown.options[format_dropdown.selectedIndex].value;\n",
       "    fig.ondownload(fig, format);\n",
       "};\n",
       "\n",
       "mpl.figure.prototype.handle_resize = function (fig, msg) {\n",
       "    var size = msg['size'];\n",
       "    if (size[0] !== fig.canvas.width || size[1] !== fig.canvas.height) {\n",
       "        fig._resize_canvas(size[0], size[1], msg['forward']);\n",
       "        fig.send_message('refresh', {});\n",
       "    }\n",
       "};\n",
       "\n",
       "mpl.figure.prototype.handle_rubberband = function (fig, msg) {\n",
       "    var x0 = msg['x0'] / fig.ratio;\n",
       "    var y0 = (fig.canvas.height - msg['y0']) / fig.ratio;\n",
       "    var x1 = msg['x1'] / fig.ratio;\n",
       "    var y1 = (fig.canvas.height - msg['y1']) / fig.ratio;\n",
       "    x0 = Math.floor(x0) + 0.5;\n",
       "    y0 = Math.floor(y0) + 0.5;\n",
       "    x1 = Math.floor(x1) + 0.5;\n",
       "    y1 = Math.floor(y1) + 0.5;\n",
       "    var min_x = Math.min(x0, x1);\n",
       "    var min_y = Math.min(y0, y1);\n",
       "    var width = Math.abs(x1 - x0);\n",
       "    var height = Math.abs(y1 - y0);\n",
       "\n",
       "    fig.rubberband_context.clearRect(\n",
       "        0,\n",
       "        0,\n",
       "        fig.canvas.width / fig.ratio,\n",
       "        fig.canvas.height / fig.ratio\n",
       "    );\n",
       "\n",
       "    fig.rubberband_context.strokeRect(min_x, min_y, width, height);\n",
       "};\n",
       "\n",
       "mpl.figure.prototype.handle_figure_label = function (fig, msg) {\n",
       "    // Updates the figure title.\n",
       "    fig.header.textContent = msg['label'];\n",
       "};\n",
       "\n",
       "mpl.figure.prototype.handle_cursor = function (fig, msg) {\n",
       "    fig.rubberband_canvas.style.cursor = msg['cursor'];\n",
       "};\n",
       "\n",
       "mpl.figure.prototype.handle_message = function (fig, msg) {\n",
       "    fig.message.textContent = msg['message'];\n",
       "};\n",
       "\n",
       "mpl.figure.prototype.handle_draw = function (fig, _msg) {\n",
       "    // Request the server to send over a new figure.\n",
       "    fig.send_draw_message();\n",
       "};\n",
       "\n",
       "mpl.figure.prototype.handle_image_mode = function (fig, msg) {\n",
       "    fig.image_mode = msg['mode'];\n",
       "};\n",
       "\n",
       "mpl.figure.prototype.handle_history_buttons = function (fig, msg) {\n",
       "    for (var key in msg) {\n",
       "        if (!(key in fig.buttons)) {\n",
       "            continue;\n",
       "        }\n",
       "        fig.buttons[key].disabled = !msg[key];\n",
       "        fig.buttons[key].setAttribute('aria-disabled', !msg[key]);\n",
       "    }\n",
       "};\n",
       "\n",
       "mpl.figure.prototype.handle_navigate_mode = function (fig, msg) {\n",
       "    if (msg['mode'] === 'PAN') {\n",
       "        fig.buttons['Pan'].classList.add('active');\n",
       "        fig.buttons['Zoom'].classList.remove('active');\n",
       "    } else if (msg['mode'] === 'ZOOM') {\n",
       "        fig.buttons['Pan'].classList.remove('active');\n",
       "        fig.buttons['Zoom'].classList.add('active');\n",
       "    } else {\n",
       "        fig.buttons['Pan'].classList.remove('active');\n",
       "        fig.buttons['Zoom'].classList.remove('active');\n",
       "    }\n",
       "};\n",
       "\n",
       "mpl.figure.prototype.updated_canvas_event = function () {\n",
       "    // Called whenever the canvas gets updated.\n",
       "    this.send_message('ack', {});\n",
       "};\n",
       "\n",
       "// A function to construct a web socket function for onmessage handling.\n",
       "// Called in the figure constructor.\n",
       "mpl.figure.prototype._make_on_message_function = function (fig) {\n",
       "    return function socket_on_message(evt) {\n",
       "        if (evt.data instanceof Blob) {\n",
       "            var img = evt.data;\n",
       "            if (img.type !== 'image/png') {\n",
       "                /* FIXME: We get \"Resource interpreted as Image but\n",
       "                 * transferred with MIME type text/plain:\" errors on\n",
       "                 * Chrome.  But how to set the MIME type?  It doesn't seem\n",
       "                 * to be part of the websocket stream */\n",
       "                img.type = 'image/png';\n",
       "            }\n",
       "\n",
       "            /* Free the memory for the previous frames */\n",
       "            if (fig.imageObj.src) {\n",
       "                (window.URL || window.webkitURL).revokeObjectURL(\n",
       "                    fig.imageObj.src\n",
       "                );\n",
       "            }\n",
       "\n",
       "            fig.imageObj.src = (window.URL || window.webkitURL).createObjectURL(\n",
       "                img\n",
       "            );\n",
       "            fig.updated_canvas_event();\n",
       "            fig.waiting = false;\n",
       "            return;\n",
       "        } else if (\n",
       "            typeof evt.data === 'string' &&\n",
       "            evt.data.slice(0, 21) === 'data:image/png;base64'\n",
       "        ) {\n",
       "            fig.imageObj.src = evt.data;\n",
       "            fig.updated_canvas_event();\n",
       "            fig.waiting = false;\n",
       "            return;\n",
       "        }\n",
       "\n",
       "        var msg = JSON.parse(evt.data);\n",
       "        var msg_type = msg['type'];\n",
       "\n",
       "        // Call the  \"handle_{type}\" callback, which takes\n",
       "        // the figure and JSON message as its only arguments.\n",
       "        try {\n",
       "            var callback = fig['handle_' + msg_type];\n",
       "        } catch (e) {\n",
       "            console.log(\n",
       "                \"No handler for the '\" + msg_type + \"' message type: \",\n",
       "                msg\n",
       "            );\n",
       "            return;\n",
       "        }\n",
       "\n",
       "        if (callback) {\n",
       "            try {\n",
       "                // console.log(\"Handling '\" + msg_type + \"' message: \", msg);\n",
       "                callback(fig, msg);\n",
       "            } catch (e) {\n",
       "                console.log(\n",
       "                    \"Exception inside the 'handler_\" + msg_type + \"' callback:\",\n",
       "                    e,\n",
       "                    e.stack,\n",
       "                    msg\n",
       "                );\n",
       "            }\n",
       "        }\n",
       "    };\n",
       "};\n",
       "\n",
       "// from https://stackoverflow.com/questions/1114465/getting-mouse-location-in-canvas\n",
       "mpl.findpos = function (e) {\n",
       "    //this section is from http://www.quirksmode.org/js/events_properties.html\n",
       "    var targ;\n",
       "    if (!e) {\n",
       "        e = window.event;\n",
       "    }\n",
       "    if (e.target) {\n",
       "        targ = e.target;\n",
       "    } else if (e.srcElement) {\n",
       "        targ = e.srcElement;\n",
       "    }\n",
       "    if (targ.nodeType === 3) {\n",
       "        // defeat Safari bug\n",
       "        targ = targ.parentNode;\n",
       "    }\n",
       "\n",
       "    // pageX,Y are the mouse positions relative to the document\n",
       "    var boundingRect = targ.getBoundingClientRect();\n",
       "    var x = e.pageX - (boundingRect.left + document.body.scrollLeft);\n",
       "    var y = e.pageY - (boundingRect.top + document.body.scrollTop);\n",
       "\n",
       "    return { x: x, y: y };\n",
       "};\n",
       "\n",
       "/*\n",
       " * return a copy of an object with only non-object keys\n",
       " * we need this to avoid circular references\n",
       " * https://stackoverflow.com/a/24161582/3208463\n",
       " */\n",
       "function simpleKeys(original) {\n",
       "    return Object.keys(original).reduce(function (obj, key) {\n",
       "        if (typeof original[key] !== 'object') {\n",
       "            obj[key] = original[key];\n",
       "        }\n",
       "        return obj;\n",
       "    }, {});\n",
       "}\n",
       "\n",
       "mpl.figure.prototype.mouse_event = function (event, name) {\n",
       "    var canvas_pos = mpl.findpos(event);\n",
       "\n",
       "    if (name === 'button_press') {\n",
       "        this.canvas.focus();\n",
       "        this.canvas_div.focus();\n",
       "    }\n",
       "\n",
       "    var x = canvas_pos.x * this.ratio;\n",
       "    var y = canvas_pos.y * this.ratio;\n",
       "\n",
       "    this.send_message(name, {\n",
       "        x: x,\n",
       "        y: y,\n",
       "        button: event.button,\n",
       "        step: event.step,\n",
       "        guiEvent: simpleKeys(event),\n",
       "    });\n",
       "\n",
       "    /* This prevents the web browser from automatically changing to\n",
       "     * the text insertion cursor when the button is pressed.  We want\n",
       "     * to control all of the cursor setting manually through the\n",
       "     * 'cursor' event from matplotlib */\n",
       "    event.preventDefault();\n",
       "    return false;\n",
       "};\n",
       "\n",
       "mpl.figure.prototype._key_event_extra = function (_event, _name) {\n",
       "    // Handle any extra behaviour associated with a key event\n",
       "};\n",
       "\n",
       "mpl.figure.prototype.key_event = function (event, name) {\n",
       "    // Prevent repeat events\n",
       "    if (name === 'key_press') {\n",
       "        if (event.key === this._key) {\n",
       "            return;\n",
       "        } else {\n",
       "            this._key = event.key;\n",
       "        }\n",
       "    }\n",
       "    if (name === 'key_release') {\n",
       "        this._key = null;\n",
       "    }\n",
       "\n",
       "    var value = '';\n",
       "    if (event.ctrlKey && event.key !== 'Control') {\n",
       "        value += 'ctrl+';\n",
       "    }\n",
       "    else if (event.altKey && event.key !== 'Alt') {\n",
       "        value += 'alt+';\n",
       "    }\n",
       "    else if (event.shiftKey && event.key !== 'Shift') {\n",
       "        value += 'shift+';\n",
       "    }\n",
       "\n",
       "    value += 'k' + event.key;\n",
       "\n",
       "    this._key_event_extra(event, name);\n",
       "\n",
       "    this.send_message(name, { key: value, guiEvent: simpleKeys(event) });\n",
       "    return false;\n",
       "};\n",
       "\n",
       "mpl.figure.prototype.toolbar_button_onclick = function (name) {\n",
       "    if (name === 'download') {\n",
       "        this.handle_save(this, null);\n",
       "    } else {\n",
       "        this.send_message('toolbar_button', { name: name });\n",
       "    }\n",
       "};\n",
       "\n",
       "mpl.figure.prototype.toolbar_button_onmouseover = function (tooltip) {\n",
       "    this.message.textContent = tooltip;\n",
       "};\n",
       "\n",
       "///////////////// REMAINING CONTENT GENERATED BY embed_js.py /////////////////\n",
       "// prettier-ignore\n",
       "var _JSXTOOLS_RESIZE_OBSERVER=function(A){var t,i=new WeakMap,n=new WeakMap,a=new WeakMap,r=new WeakMap,o=new Set;function s(e){if(!(this instanceof s))throw new TypeError(\"Constructor requires 'new' operator\");i.set(this,e)}function h(){throw new TypeError(\"Function is not a constructor\")}function c(e,t,i,n){e=0 in arguments?Number(arguments[0]):0,t=1 in arguments?Number(arguments[1]):0,i=2 in arguments?Number(arguments[2]):0,n=3 in arguments?Number(arguments[3]):0,this.right=(this.x=this.left=e)+(this.width=i),this.bottom=(this.y=this.top=t)+(this.height=n),Object.freeze(this)}function d(){t=requestAnimationFrame(d);var s=new WeakMap,p=new Set;o.forEach((function(t){r.get(t).forEach((function(i){var r=t instanceof window.SVGElement,o=a.get(t),d=r?0:parseFloat(o.paddingTop),f=r?0:parseFloat(o.paddingRight),l=r?0:parseFloat(o.paddingBottom),u=r?0:parseFloat(o.paddingLeft),g=r?0:parseFloat(o.borderTopWidth),m=r?0:parseFloat(o.borderRightWidth),w=r?0:parseFloat(o.borderBottomWidth),b=u+f,F=d+l,v=(r?0:parseFloat(o.borderLeftWidth))+m,W=g+w,y=r?0:t.offsetHeight-W-t.clientHeight,E=r?0:t.offsetWidth-v-t.clientWidth,R=b+v,z=F+W,M=r?t.width:parseFloat(o.width)-R-E,O=r?t.height:parseFloat(o.height)-z-y;if(n.has(t)){var k=n.get(t);if(k[0]===M&&k[1]===O)return}n.set(t,[M,O]);var S=Object.create(h.prototype);S.target=t,S.contentRect=new c(u,d,M,O),s.has(i)||(s.set(i,[]),p.add(i)),s.get(i).push(S)}))})),p.forEach((function(e){i.get(e).call(e,s.get(e),e)}))}return s.prototype.observe=function(i){if(i instanceof window.Element){r.has(i)||(r.set(i,new Set),o.add(i),a.set(i,window.getComputedStyle(i)));var n=r.get(i);n.has(this)||n.add(this),cancelAnimationFrame(t),t=requestAnimationFrame(d)}},s.prototype.unobserve=function(i){if(i instanceof window.Element&&r.has(i)){var n=r.get(i);n.has(this)&&(n.delete(this),n.size||(r.delete(i),o.delete(i))),n.size||r.delete(i),o.size||cancelAnimationFrame(t)}},A.DOMRectReadOnly=c,A.ResizeObserver=s,A.ResizeObserverEntry=h,A}; // eslint-disable-line\n",
       "mpl.toolbar_items = [[\"Home\", \"Reset original view\", \"fa fa-home icon-home\", \"home\"], [\"Back\", \"Back to previous view\", \"fa fa-arrow-left icon-arrow-left\", \"back\"], [\"Forward\", \"Forward to next view\", \"fa fa-arrow-right icon-arrow-right\", \"forward\"], [\"\", \"\", \"\", \"\"], [\"Pan\", \"Left button pans, Right button zooms\\nx/y fixes axis, CTRL fixes aspect\", \"fa fa-arrows icon-move\", \"pan\"], [\"Zoom\", \"Zoom to rectangle\\nx/y fixes axis\", \"fa fa-square-o icon-check-empty\", \"zoom\"], [\"\", \"\", \"\", \"\"], [\"Download\", \"Download plot\", \"fa fa-floppy-o icon-save\", \"download\"]];\n",
       "\n",
       "mpl.extensions = [\"eps\", \"jpeg\", \"pgf\", \"pdf\", \"png\", \"ps\", \"raw\", \"svg\", \"tif\"];\n",
       "\n",
       "mpl.default_extension = \"png\";/* global mpl */\n",
       "\n",
       "var comm_websocket_adapter = function (comm) {\n",
       "    // Create a \"websocket\"-like object which calls the given IPython comm\n",
       "    // object with the appropriate methods. Currently this is a non binary\n",
       "    // socket, so there is still some room for performance tuning.\n",
       "    var ws = {};\n",
       "\n",
       "    ws.binaryType = comm.kernel.ws.binaryType;\n",
       "    ws.readyState = comm.kernel.ws.readyState;\n",
       "    function updateReadyState(_event) {\n",
       "        if (comm.kernel.ws) {\n",
       "            ws.readyState = comm.kernel.ws.readyState;\n",
       "        } else {\n",
       "            ws.readyState = 3; // Closed state.\n",
       "        }\n",
       "    }\n",
       "    comm.kernel.ws.addEventListener('open', updateReadyState);\n",
       "    comm.kernel.ws.addEventListener('close', updateReadyState);\n",
       "    comm.kernel.ws.addEventListener('error', updateReadyState);\n",
       "\n",
       "    ws.close = function () {\n",
       "        comm.close();\n",
       "    };\n",
       "    ws.send = function (m) {\n",
       "        //console.log('sending', m);\n",
       "        comm.send(m);\n",
       "    };\n",
       "    // Register the callback with on_msg.\n",
       "    comm.on_msg(function (msg) {\n",
       "        //console.log('receiving', msg['content']['data'], msg);\n",
       "        var data = msg['content']['data'];\n",
       "        if (data['blob'] !== undefined) {\n",
       "            data = {\n",
       "                data: new Blob(msg['buffers'], { type: data['blob'] }),\n",
       "            };\n",
       "        }\n",
       "        // Pass the mpl event to the overridden (by mpl) onmessage function.\n",
       "        ws.onmessage(data);\n",
       "    });\n",
       "    return ws;\n",
       "};\n",
       "\n",
       "mpl.mpl_figure_comm = function (comm, msg) {\n",
       "    // This is the function which gets called when the mpl process\n",
       "    // starts-up an IPython Comm through the \"matplotlib\" channel.\n",
       "\n",
       "    var id = msg.content.data.id;\n",
       "    // Get hold of the div created by the display call when the Comm\n",
       "    // socket was opened in Python.\n",
       "    var element = document.getElementById(id);\n",
       "    var ws_proxy = comm_websocket_adapter(comm);\n",
       "\n",
       "    function ondownload(figure, _format) {\n",
       "        window.open(figure.canvas.toDataURL());\n",
       "    }\n",
       "\n",
       "    var fig = new mpl.figure(id, ws_proxy, ondownload, element);\n",
       "\n",
       "    // Call onopen now - mpl needs it, as it is assuming we've passed it a real\n",
       "    // web socket which is closed, not our websocket->open comm proxy.\n",
       "    ws_proxy.onopen();\n",
       "\n",
       "    fig.parent_element = element;\n",
       "    fig.cell_info = mpl.find_output_cell(\"<div id='\" + id + \"'></div>\");\n",
       "    if (!fig.cell_info) {\n",
       "        console.error('Failed to find cell for figure', id, fig);\n",
       "        return;\n",
       "    }\n",
       "    fig.cell_info[0].output_area.element.on(\n",
       "        'cleared',\n",
       "        { fig: fig },\n",
       "        fig._remove_fig_handler\n",
       "    );\n",
       "};\n",
       "\n",
       "mpl.figure.prototype.handle_close = function (fig, msg) {\n",
       "    var width = fig.canvas.width / fig.ratio;\n",
       "    fig.cell_info[0].output_area.element.off(\n",
       "        'cleared',\n",
       "        fig._remove_fig_handler\n",
       "    );\n",
       "    fig.resizeObserverInstance.unobserve(fig.canvas_div);\n",
       "\n",
       "    // Update the output cell to use the data from the current canvas.\n",
       "    fig.push_to_output();\n",
       "    var dataURL = fig.canvas.toDataURL();\n",
       "    // Re-enable the keyboard manager in IPython - without this line, in FF,\n",
       "    // the notebook keyboard shortcuts fail.\n",
       "    IPython.keyboard_manager.enable();\n",
       "    fig.parent_element.innerHTML =\n",
       "        '<img src=\"' + dataURL + '\" width=\"' + width + '\">';\n",
       "    fig.close_ws(fig, msg);\n",
       "};\n",
       "\n",
       "mpl.figure.prototype.close_ws = function (fig, msg) {\n",
       "    fig.send_message('closing', msg);\n",
       "    // fig.ws.close()\n",
       "};\n",
       "\n",
       "mpl.figure.prototype.push_to_output = function (_remove_interactive) {\n",
       "    // Turn the data on the canvas into data in the output cell.\n",
       "    var width = this.canvas.width / this.ratio;\n",
       "    var dataURL = this.canvas.toDataURL();\n",
       "    this.cell_info[1]['text/html'] =\n",
       "        '<img src=\"' + dataURL + '\" width=\"' + width + '\">';\n",
       "};\n",
       "\n",
       "mpl.figure.prototype.updated_canvas_event = function () {\n",
       "    // Tell IPython that the notebook contents must change.\n",
       "    IPython.notebook.set_dirty(true);\n",
       "    this.send_message('ack', {});\n",
       "    var fig = this;\n",
       "    // Wait a second, then push the new image to the DOM so\n",
       "    // that it is saved nicely (might be nice to debounce this).\n",
       "    setTimeout(function () {\n",
       "        fig.push_to_output();\n",
       "    }, 1000);\n",
       "};\n",
       "\n",
       "mpl.figure.prototype._init_toolbar = function () {\n",
       "    var fig = this;\n",
       "\n",
       "    var toolbar = document.createElement('div');\n",
       "    toolbar.classList = 'btn-toolbar';\n",
       "    this.root.appendChild(toolbar);\n",
       "\n",
       "    function on_click_closure(name) {\n",
       "        return function (_event) {\n",
       "            return fig.toolbar_button_onclick(name);\n",
       "        };\n",
       "    }\n",
       "\n",
       "    function on_mouseover_closure(tooltip) {\n",
       "        return function (event) {\n",
       "            if (!event.currentTarget.disabled) {\n",
       "                return fig.toolbar_button_onmouseover(tooltip);\n",
       "            }\n",
       "        };\n",
       "    }\n",
       "\n",
       "    fig.buttons = {};\n",
       "    var buttonGroup = document.createElement('div');\n",
       "    buttonGroup.classList = 'btn-group';\n",
       "    var button;\n",
       "    for (var toolbar_ind in mpl.toolbar_items) {\n",
       "        var name = mpl.toolbar_items[toolbar_ind][0];\n",
       "        var tooltip = mpl.toolbar_items[toolbar_ind][1];\n",
       "        var image = mpl.toolbar_items[toolbar_ind][2];\n",
       "        var method_name = mpl.toolbar_items[toolbar_ind][3];\n",
       "\n",
       "        if (!name) {\n",
       "            /* Instead of a spacer, we start a new button group. */\n",
       "            if (buttonGroup.hasChildNodes()) {\n",
       "                toolbar.appendChild(buttonGroup);\n",
       "            }\n",
       "            buttonGroup = document.createElement('div');\n",
       "            buttonGroup.classList = 'btn-group';\n",
       "            continue;\n",
       "        }\n",
       "\n",
       "        button = fig.buttons[name] = document.createElement('button');\n",
       "        button.classList = 'btn btn-default';\n",
       "        button.href = '#';\n",
       "        button.title = name;\n",
       "        button.innerHTML = '<i class=\"fa ' + image + ' fa-lg\"></i>';\n",
       "        button.addEventListener('click', on_click_closure(method_name));\n",
       "        button.addEventListener('mouseover', on_mouseover_closure(tooltip));\n",
       "        buttonGroup.appendChild(button);\n",
       "    }\n",
       "\n",
       "    if (buttonGroup.hasChildNodes()) {\n",
       "        toolbar.appendChild(buttonGroup);\n",
       "    }\n",
       "\n",
       "    // Add the status bar.\n",
       "    var status_bar = document.createElement('span');\n",
       "    status_bar.classList = 'mpl-message pull-right';\n",
       "    toolbar.appendChild(status_bar);\n",
       "    this.message = status_bar;\n",
       "\n",
       "    // Add the close button to the window.\n",
       "    var buttongrp = document.createElement('div');\n",
       "    buttongrp.classList = 'btn-group inline pull-right';\n",
       "    button = document.createElement('button');\n",
       "    button.classList = 'btn btn-mini btn-primary';\n",
       "    button.href = '#';\n",
       "    button.title = 'Stop Interaction';\n",
       "    button.innerHTML = '<i class=\"fa fa-power-off icon-remove icon-large\"></i>';\n",
       "    button.addEventListener('click', function (_evt) {\n",
       "        fig.handle_close(fig, {});\n",
       "    });\n",
       "    button.addEventListener(\n",
       "        'mouseover',\n",
       "        on_mouseover_closure('Stop Interaction')\n",
       "    );\n",
       "    buttongrp.appendChild(button);\n",
       "    var titlebar = this.root.querySelector('.ui-dialog-titlebar');\n",
       "    titlebar.insertBefore(buttongrp, titlebar.firstChild);\n",
       "};\n",
       "\n",
       "mpl.figure.prototype._remove_fig_handler = function (event) {\n",
       "    var fig = event.data.fig;\n",
       "    if (event.target !== this) {\n",
       "        // Ignore bubbled events from children.\n",
       "        return;\n",
       "    }\n",
       "    fig.close_ws(fig, {});\n",
       "};\n",
       "\n",
       "mpl.figure.prototype._root_extra_style = function (el) {\n",
       "    el.style.boxSizing = 'content-box'; // override notebook setting of border-box.\n",
       "};\n",
       "\n",
       "mpl.figure.prototype._canvas_extra_style = function (el) {\n",
       "    // this is important to make the div 'focusable\n",
       "    el.setAttribute('tabindex', 0);\n",
       "    // reach out to IPython and tell the keyboard manager to turn it's self\n",
       "    // off when our div gets focus\n",
       "\n",
       "    // location in version 3\n",
       "    if (IPython.notebook.keyboard_manager) {\n",
       "        IPython.notebook.keyboard_manager.register_events(el);\n",
       "    } else {\n",
       "        // location in version 2\n",
       "        IPython.keyboard_manager.register_events(el);\n",
       "    }\n",
       "};\n",
       "\n",
       "mpl.figure.prototype._key_event_extra = function (event, _name) {\n",
       "    // Check for shift+enter\n",
       "    if (event.shiftKey && event.which === 13) {\n",
       "        this.canvas_div.blur();\n",
       "        // select the cell after this one\n",
       "        var index = IPython.notebook.find_cell_index(this.cell_info[0]);\n",
       "        IPython.notebook.select(index + 1);\n",
       "    }\n",
       "};\n",
       "\n",
       "mpl.figure.prototype.handle_save = function (fig, _msg) {\n",
       "    fig.ondownload(fig, null);\n",
       "};\n",
       "\n",
       "mpl.find_output_cell = function (html_output) {\n",
       "    // Return the cell and output element which can be found *uniquely* in the notebook.\n",
       "    // Note - this is a bit hacky, but it is done because the \"notebook_saving.Notebook\"\n",
       "    // IPython event is triggered only after the cells have been serialised, which for\n",
       "    // our purposes (turning an active figure into a static one), is too late.\n",
       "    var cells = IPython.notebook.get_cells();\n",
       "    var ncells = cells.length;\n",
       "    for (var i = 0; i < ncells; i++) {\n",
       "        var cell = cells[i];\n",
       "        if (cell.cell_type === 'code') {\n",
       "            for (var j = 0; j < cell.output_area.outputs.length; j++) {\n",
       "                var data = cell.output_area.outputs[j];\n",
       "                if (data.data) {\n",
       "                    // IPython >= 3 moved mimebundle to data attribute of output\n",
       "                    data = data.data;\n",
       "                }\n",
       "                if (data['text/html'] === html_output) {\n",
       "                    return [cell, data, j];\n",
       "                }\n",
       "            }\n",
       "        }\n",
       "    }\n",
       "};\n",
       "\n",
       "// Register the function which deals with the matplotlib target/channel.\n",
       "// The kernel may be null if the page has been refreshed.\n",
       "if (IPython.notebook.kernel !== null) {\n",
       "    IPython.notebook.kernel.comm_manager.register_target(\n",
       "        'matplotlib',\n",
       "        mpl.mpl_figure_comm\n",
       "    );\n",
       "}\n"
      ],
      "text/plain": [
       "<IPython.core.display.Javascript object>"
      ]
     },
     "metadata": {},
     "output_type": "display_data"
    },
    {
     "data": {
      "text/html": [
       "<img src=\"data:image/png;base64,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\" width=\"1124.9999832361939\">"
      ],
      "text/plain": [
       "<IPython.core.display.HTML object>"
      ]
     },
     "metadata": {},
     "output_type": "display_data"
    }
   ],
   "source": [
    "\n",
    "fig = plt.figure(figsize=(12,6))\n",
    "ax = fig.add_subplot(121, projection='3d')\n",
    "\n",
    "\n",
    "\n",
    "ax.set_xlim(-5,5)\n",
    "ax.set_ylim(-5,5)\n",
    "ax.set_zlim(-10,10)\n",
    "ax.quiver((0,),(0,),(0,),(1,),(-4,),(2,), color='red', length=1)\n",
    "ax.quiver((0,),(0,),(0,),(-2,),(1,),(3,), color='green', length=1)\n",
    "ax.quiver((0,),(0,),(0,),(2,),(6,),(-10,), color='blue', length=1)\n",
    "\n",
    "plt.show()\n"
   ]
  },
  {
   "cell_type": "markdown",
   "id": "3267bad2",
   "metadata": {
    "slideshow": {
     "slide_type": "slide"
    }
   },
   "source": [
    "- the invertable matrix has rank 3\n",
    "- the non-invertable matrix has rank 2\n",
    "\n",
    "### Fact: \n",
    "\n",
    "The rank of a matrix equals the number of pivots in its row echelon form, which is equal to the number of pivots in its reduced row echelon form."
   ]
  },
  {
   "cell_type": "markdown",
   "id": "3044ccfb",
   "metadata": {},
   "source": [
    "- rank-3 matrix:\n",
    "\n",
    "$$\n",
    "\\begin{aligned}\n",
    "A &= \n",
    "\\begin{bmatrix}\n",
    "1 & -4 & 2\\\\\n",
    "-2 & 1 & 3\\\\\n",
    "2 & 6 & 8\n",
    "\\end{bmatrix}\n",
    "\\end{aligned}\n",
    "$$"
   ]
  },
  {
   "cell_type": "markdown",
   "id": "5cf09a3d",
   "metadata": {
    "slideshow": {
     "slide_type": "slide"
    }
   },
   "source": [
    "- row echelon form:\n",
    "\n",
    "$$\n",
    "\\left[\\begin{array}{r}\n",
    "1 & -4 & 2\\\\\n",
    "-2 & 1 & 3\\\\\n",
    "2 & 6 & 8\n",
    "\\end{array}\\right]\\\\\n",
    "\\left[\\begin{array}{r}\n",
    "1 & -4 & 2\\\\\n",
    "0 & -7 & 7\\\\\n",
    "0 & 14 & 4\n",
    "\\end{array}\\right]\\\\\n",
    "\\left[\\begin{array}{r}\n",
    "1 & -4 & 2\\\\\n",
    "0 & -7 & 7\\\\\n",
    "0 & 0 & 28\n",
    "\\end{array}\\right]\\\\\n",
    "$$\n",
    "\n",
    "The row echelon form has 3 pivots, so $A$ has rank 3.\n"
   ]
  },
  {
   "cell_type": "markdown",
   "id": "b26a7e8d",
   "metadata": {
    "slideshow": {
     "slide_type": "slide"
    }
   },
   "source": [
    "\n",
    "\n",
    "$$\n",
    "\\left[\\begin{array}{r}\n",
    "1 & -4 & 0\\\\\n",
    "0 & -7 &0\\\\\n",
    "0 & 0 & 28\n",
    "\\end{array}\\right]\\\\\n",
    "\\left[\\begin{array}{r}\n",
    "1 & 0 & 0\\\\\n",
    "0 & -7 &0\\\\\n",
    "0 & 0 & 28\n",
    "\\end{array}\\right]\\\\\n",
    "\\left[\\begin{array}{r}\n",
    "1 & 0 & 0\\\\\n",
    "0 & 1 &0\\\\\n",
    "0 & 0 & 1\n",
    "\\end{array}\\right]\\\\\n",
    "$$\n",
    "\n",
    "The reduced row echolon form also has 3 pivots.\n",
    "(For an invertable matrix, the reduced row echelon form is always the identity matrix.)"
   ]
  },
  {
   "cell_type": "markdown",
   "id": "3c32870e",
   "metadata": {
    "slideshow": {
     "slide_type": "slide"
    }
   },
   "source": [
    "- rank-2 matrix\n",
    "\n",
    "$$\n",
    "\\begin{aligned}\n",
    "B &= \n",
    "\\begin{bmatrix}\n",
    "1 & -4 & 2\\\\\n",
    "-2 & 1 & 3\\\\\n",
    "2 & 6 & -10\n",
    "\\end{bmatrix}\\\\[1em]\n",
    "\\end{aligned}\n",
    "$$"
   ]
  },
  {
   "cell_type": "markdown",
   "id": "9bbaf573",
   "metadata": {},
   "source": [
    "- row-echelon form\n",
    "\n",
    "$$\n",
    "\\begin{bmatrix}\n",
    "1 & -4 & 2\\\\\n",
    "0 & -7 & 7\\\\\n",
    "0 & 14 & -14\n",
    "\\end{bmatrix}\\\\[1em]\n",
    "\\begin{bmatrix}\n",
    "1 & -4 & 2\\\\\n",
    "0 & -7 & 7\\\\\n",
    "0 & 0 & 0\n",
    "\\end{bmatrix}\\\\[1em]\n",
    "$$\n",
    "\n",
    "The row echelon form has two pivots, hence $B$ has rank 2.\n"
   ]
  },
  {
   "cell_type": "markdown",
   "id": "5ca815f0",
   "metadata": {
    "slideshow": {
     "slide_type": "slide"
    }
   },
   "source": [
    "- reduced row echelon form\n",
    "\n",
    "\n",
    "$$\n",
    "\\begin{bmatrix}\n",
    "1 & 0 & -2\\\\\n",
    "0 & -7 & 7\\\\\n",
    "0 & 0 & 0\n",
    "\\end{bmatrix}\\\\[1em]\n",
    "\\begin{bmatrix}\n",
    "1 & 0 & -2\\\\\n",
    "0 & 1 & -1\\\\\n",
    "0 & 0 & 0\n",
    "\\end{bmatrix}\\\\[1em]\n",
    "$$\n",
    "\n",
    "The reduced row echelon form also has 2 pivots."
   ]
  },
  {
   "cell_type": "markdown",
   "id": "d44f137f",
   "metadata": {
    "slideshow": {
     "slide_type": "slide"
    }
   },
   "source": [
    "## Dimensionality of a vector space\n",
    "\n",
    "### Linear independence of vectors\n",
    "\n",
    "- a vector $\\mathbf b$ is independent from a set of vectors $\\mathbf a_1, \\ldots, \\mathbf a_n$ if and only if there are no real numbers $x_1,\\ldots,x_n$ such that\n",
    "\n",
    "$$\n",
    "x_1\\mathbf a_1 + \\cdots + x_n\\mathbf a_n = \\mathbf b\n",
    "$$\n",
    "\n",
    "- a set of vectors $\\mathbf a_1, \\ldots, \\mathbf a_n$ is linearly independent if and only if each $\\mathbf a_i$ is linearly independent of the other vectors $\\mathbf a_1,\\ldots, \\mathbf a_{i-1},\\mathbf a_{i+1}, \\ldots \\mathbf a_n$.\n",
    "\n",
    "Equivalently, the column vectors of a matrix $A$ are linearly independent if and only if the linear system\n",
    "\n",
    "$$\n",
    "A\\mathbf x = \\mathbf 0\n",
    "$$\n",
    "\n",
    "has as its only solution $\\mathbf x = \\mathbf 0$.\n",
    "\n",
    "(Independence is important, e.g., for linear regression.)"
   ]
  },
  {
   "cell_type": "markdown",
   "id": "bbc4669b",
   "metadata": {
    "slideshow": {
     "slide_type": "slide"
    }
   },
   "source": [
    "#### Examples\n",
    "\n",
    "- $\\begin{bmatrix}1\\\\ 0\\end{bmatrix}$ and $\\begin{bmatrix}0\\\\ 1\\end{bmatrix}$: dependent or independent?\n",
    "\n",
    "\n",
    "- $\\begin{bmatrix}1\\\\ 0\\end{bmatrix}$ and $\\begin{bmatrix}0\\\\ 0.00001\\end{bmatrix}$: dependent or independent?\n",
    "\n",
    "\n",
    "- $\\begin{bmatrix}1\\\\ 1\\end{bmatrix}$ and $\\begin{bmatrix}-1\\\\ -1\\end{bmatrix}$: dependent or independent?\n",
    "\n",
    "\n",
    "- $\\begin{bmatrix}1\\\\ 1\\end{bmatrix}$ and $\\begin{bmatrix}0\\\\ 0\\end{bmatrix}$: dependent or independent?\n",
    "\n",
    "\n",
    "- $\\begin{bmatrix}a\\\\ b\\end{bmatrix}, \\begin{bmatrix}c\\\\ d\\end{bmatrix}$ and $\\begin{bmatrix}e\\\\ f\\end{bmatrix}$: dependent or independent?\n",
    "\n"
   ]
  },
  {
   "cell_type": "code",
   "execution_count": 9,
   "id": "1156e3ff",
   "metadata": {
    "slideshow": {
     "slide_type": "slide"
    }
   },
   "outputs": [
    {
     "data": {
      "text/latex": [
       "$\\displaystyle \\left[\\begin{matrix}1 & 0 & 3\\\\2 & 1 & 5\\\\1 & 0 & 3\\end{matrix}\\right]$"
      ],
      "text/plain": [
       "Matrix([\n",
       "[1, 0, 3],\n",
       "[2, 1, 5],\n",
       "[1, 0, 3]])"
      ]
     },
     "execution_count": 9,
     "metadata": {},
     "output_type": "execute_result"
    }
   ],
   "source": [
    "A = Matrix([\n",
    "    [1,0,3],\n",
    "    [2,1,5],\n",
    "    [1,0,3]\n",
    "])\n",
    "A"
   ]
  },
  {
   "cell_type": "markdown",
   "id": "2c99bc27",
   "metadata": {},
   "source": [
    "- are the columns dependent or independent?\n",
    "- what is the rank of $A$?"
   ]
  },
  {
   "cell_type": "code",
   "execution_count": 10,
   "id": "b1aa30de",
   "metadata": {},
   "outputs": [
    {
     "data": {
      "text/latex": [
       "$\\displaystyle \\left[\\begin{matrix}-3\\\\1\\\\1\\end{matrix}\\right]$"
      ],
      "text/plain": [
       "Matrix([\n",
       "[-3],\n",
       "[ 1],\n",
       "[ 1]])"
      ]
     },
     "execution_count": 10,
     "metadata": {},
     "output_type": "execute_result"
    }
   ],
   "source": [
    "A.nullspace()[0]"
   ]
  },
  {
   "cell_type": "markdown",
   "id": "af357bad",
   "metadata": {
    "slideshow": {
     "slide_type": "slide"
    }
   },
   "source": [
    "**A little puzzle**\n",
    "\n",
    "A rectangular $m\\times n$ matrix with $m<n$ cannot have independent columns. Why?\n",
    "\n",
    "**Example**"
   ]
  },
  {
   "cell_type": "code",
   "execution_count": 11,
   "id": "788692f6",
   "metadata": {},
   "outputs": [
    {
     "data": {
      "text/latex": [
       "$\\displaystyle \\left[\\begin{matrix}1 & 0 & 1 & 5\\\\0 & 1 & 1 & -3\\\\2 & 1 & -1 & -2\\end{matrix}\\right]$"
      ],
      "text/plain": [
       "Matrix([\n",
       "[1, 0,  1,  5],\n",
       "[0, 1,  1, -3],\n",
       "[2, 1, -1, -2]])"
      ]
     },
     "execution_count": 11,
     "metadata": {},
     "output_type": "execute_result"
    }
   ],
   "source": [
    "B = Matrix([\n",
    "    [1,0,1,5],\n",
    "    [0,1,1,-3],\n",
    "    [2,1,-1,-2]\n",
    "])\n",
    "B"
   ]
  },
  {
   "cell_type": "code",
   "execution_count": 12,
   "id": "07ff00b7",
   "metadata": {},
   "outputs": [
    {
     "data": {
      "text/latex": [
       "$\\displaystyle \\left[\\begin{matrix}1 & 0 & 0 & \\frac{11}{4}\\\\0 & 1 & 0 & - \\frac{21}{4}\\\\0 & 0 & 1 & \\frac{9}{4}\\end{matrix}\\right]$"
      ],
      "text/plain": [
       "Matrix([\n",
       "[1, 0, 0,  11/4],\n",
       "[0, 1, 0, -21/4],\n",
       "[0, 0, 1,   9/4]])"
      ]
     },
     "execution_count": 12,
     "metadata": {},
     "output_type": "execute_result"
    }
   ],
   "source": [
    "B.rref()[0]"
   ]
  },
  {
   "cell_type": "markdown",
   "id": "f1ef5691",
   "metadata": {
    "slideshow": {
     "slide_type": "slide"
    }
   },
   "source": [
    "### Basis of a vector space\n",
    "\n",
    "- the **span** of a set of vectors $\\mathbf a_1,\\ldots, \\mathbf a_n$ is the set of their linear combinations, i.e., the set\n",
    "\n",
    "$$\n",
    "    \\{x_1\\mathbf a_1 + \\cdots x_n\\mathbf a_n|x_1,\\ldots, x_n \\in \\mathbb R\\}\n",
    "$$\n",
    "\n",
    "- the span of a set of vectors is a vector space\n",
    "\n",
    "- a set of vectors $\\mathbf a_1, \\ldots, \\mathbf a_n$ is a **basis of a vector space $S$** if and only if\n",
    "    - $\\mathbf a_1, \\ldots, \\mathbf a_n$ are linearly independent, and\n",
    "    - the span of $\\mathbf a_1, \\ldots, \\mathbf a_n$ is $S$."
   ]
  },
  {
   "cell_type": "markdown",
   "id": "836ba884",
   "metadata": {},
   "source": [
    "\n",
    "\n",
    "What is the span of\n",
    "\n",
    "- $\\mathbf v_1 = \\begin{bmatrix}1\\\\0\\end{bmatrix}$ and $\\mathbf v_2 = \\begin{bmatrix}0\\\\1\\end{bmatrix}$,\n",
    "\n",
    "\n",
    "- $\\mathbf v_1 = \\begin{bmatrix}1\\\\0\\end{bmatrix}$, $\\mathbf v_2 = \\begin{bmatrix}0\\\\1\\end{bmatrix}$, and $\\mathbf v_3 = \\begin{bmatrix}4\\\\7\\end{bmatrix}$,\n",
    "\n",
    "\n",
    "- $\\mathbf w_1 = \\begin{bmatrix}1\\\\1\\end{bmatrix}$ and $\\mathbf w_2 = \\begin{bmatrix} -1\\\\-1\\end{bmatrix}$?\n",
    "\n",
    "Which of these sets of vectors form a basis?"
   ]
  },
  {
   "cell_type": "markdown",
   "id": "aef3ce0a",
   "metadata": {
    "slideshow": {
     "slide_type": "slide"
    }
   },
   "source": [
    "### Theorem\n",
    "\n",
    "If the columns of $A$ and the columns of $B$ are both a basis for some vector space $S$, then $A$ and $B$ have the same number of columns.\n",
    "\n",
    "#### Proof\n",
    "\n",
    "Let $A$ be an $m\\times n$ matrix and $B$ and $m\\times k$ matrix. Suppose $k<n$\n",
    "\n",
    "Since $B$ is a basis of the column space of $A$, there must be a solution $\\mathbf x_i$\n",
    "$$\n",
    "B\\mathbf x_i = \\mathbf a_i \n",
    "$$\n",
    "\n",
    "for each column vector $\\mathbf a_i$ of $A$. Let \n",
    "\n",
    "$$\n",
    "X = \\begin{bmatrix}\n",
    "\\vdots & \\cdots & \\vdots\\\\\n",
    "\\mathbf x_1 & \\cdots & \\mathbf x_n\\\\\n",
    "\\vdots & \\cdots & \\vdots\\\\\n",
    "\\end{bmatrix}\n",
    "$$\n",
    "i.e., $X$ is the matrix with $\\mathbf x_1,\\ldots, \\mathbf x_n$ as column vectors. It has the format $k\\times n$.\n",
    "\n"
   ]
  },
  {
   "cell_type": "markdown",
   "id": "44a6bb99",
   "metadata": {
    "slideshow": {
     "slide_type": "slide"
    }
   },
   "source": [
    "\n",
    "\n",
    "Then it holds:\n",
    "\n",
    "$$\n",
    "A = BX\n",
    "$$\n",
    "\n",
    "Since $k<n$, $X$ is broader than high. Therefore its reduced row-echolon form must have free columns. Therefore there must be a non-zero solution $\\mathbf y$ for \n",
    "\n",
    "$$\n",
    "X\\mathbf y = \\mathbf 0\n",
    "$$\n",
    "\n",
    "It follows immediately that\n",
    "\n",
    "$$\n",
    "\\begin{aligned}\n",
    "X\\mathbf y &= \\mathbf 0\\\\\n",
    "BX\\mathbf y &= \\mathbf 0\\\\\n",
    "A\\mathbf y &= \\mathbf 0\n",
    "\\end{aligned}\n",
    "$$\n",
    "\n",
    "This is a contradiction, since by assumption, the columns of $A$ are linearly independent. \n",
    "\n",
    "$\\dashv$"
   ]
  },
  {
   "cell_type": "markdown",
   "id": "d6f1d79c",
   "metadata": {
    "slideshow": {
     "slide_type": "slide"
    }
   },
   "source": [
    "### Dimensions of a vector space\n",
    "\n",
    "It follows that each basis of a vector space $S$ has the same number of vectors as elements. We call this number the **number of dimensions of $S$**.\n",
    "\n",
    "\n",
    "\n",
    "\n"
   ]
  },
  {
   "cell_type": "markdown",
   "id": "4b89e854",
   "metadata": {},
   "source": [
    "Let us re-consider the invertible matrix from above:\n",
    "\n",
    "$$\n",
    "\\begin{aligned}\n",
    "A &= \n",
    "\\left[\n",
    "\\begin{array}{r}\n",
    "1 & -4 & 2\\\\\n",
    "-2 & 1 & 3\\\\\n",
    "2 & 6 & 8\n",
    "\\end{array}\\right]\\\\[1em]\n",
    "A^{-1} &=\n",
    "\\left[\\begin{array}{r}\n",
    "\\frac{5}{63} & - \\frac{22}{63} & \\frac{1}{9}\\\\- \\frac{11}{63} & - \\frac{2}{63} & \\frac{1}{18}\\\\\\frac{1}{9} & \\frac{1}{9} & \\frac{1}{18}\n",
    "\\end{array}\\right]\n",
    "\\end{aligned}\n",
    "$$\n",
    "\n",
    "Solving $A\\mathbf x = \\mathbf 0$:\n",
    "\n",
    "\n",
    "$$\n",
    "\\begin{aligned}\n",
    "A\\mathbf x &= \\mathbf 0\\\\\n",
    "A^{-1}A\\mathbf x &= A^{-1}\\mathbf 0\\\\\n",
    "\\mathbf x &= \\mathbf 0\n",
    "\\end{aligned}\n",
    "$$\n"
   ]
  },
  {
   "cell_type": "markdown",
   "id": "af8b5ecc",
   "metadata": {
    "slideshow": {
     "slide_type": "slide"
    }
   },
   "source": [
    "So the columns of $A$ are independent (as are the columns of each invertible matrix). Let $\\mathbf b$ be some arbitrary vector in $\\mathbb R^3$.\n",
    "$$\n",
    "\\begin{aligned}\n",
    "A\\mathbf x &= \\mathbf b\\\\\n",
    "\\mathbf x &= A^{-1}\\mathbf b\\\\\n",
    "\\end{aligned}\n",
    "$$\n",
    "This means that for each vector $\\mathbf b$ in $\\mathbb R^3$, we can find coefficients $x_1, x_2, x_3$ such that $\\mathbf b = x_1\\mathbf a_1 + x_2 \\mathbf a_2 + x_3\\mathbf a_3$. The columns of $A$ therefore are a basis for $\\mathbb R^3$.\n",
    "\n",
    "By an analogous argument, it follows that\n",
    "\n",
    "**The columns of an invertible $n\\times n$ matrix form a basis for $\\mathbb R^n$**."
   ]
  },
  {
   "cell_type": "markdown",
   "id": "cdcdef1f",
   "metadata": {
    "slideshow": {
     "slide_type": "slide"
    }
   },
   "source": [
    "# The four subspaces of a matrix\n",
    "\n",
    "So far we have looked at two subspaces of an $n\\times m$ matrix $A$:\n",
    "\n",
    "- the **column space** $C(A)$\n",
    "- the **nullspace** $N(A)$\n",
    "\n",
    "The transpose $A^T$ also has these two subspaces:\n",
    "\n",
    "- the column space $C(A^T)$ is called the **row space of $A$**\n",
    "- the null space $N(A^T)$ is called the **left nullspace of $A$**\n",
    "\n",
    "What can we say about the number of dimensions of these four subspaces?\n",
    "\n",
    "- dimensions of $C(A) < n$\n",
    "- dimensions of $C(A^T) < m$\n",
    "\n",
    "We want to do better than that!"
   ]
  },
  {
   "cell_type": "markdown",
   "id": "1c43fa79",
   "metadata": {
    "slideshow": {
     "slide_type": "slide"
    }
   },
   "source": [
    "### Subspaces of reduced row echelon form matrices\n",
    "\n",
    "Let us start with matrices in reduced row echelon form. Example:\n",
    "\n",
    "$$\n",
    "R = \\left[\\begin{array}{r}\n",
    "1 & 2 & 0 & -2& 0\\\\\n",
    "0 & 0 & 1 & -1& 3\\\\\n",
    "0 & 0 & 0 & 0 & 0\n",
    "\\end{array}\\right]\n",
    "$$\n",
    "\n",
    "- columns $\\mathbf r_1$ an $\\mathbf r_3$ are pivot columns\n",
    "- columns $\\mathbf r_2, \\mathbf r_4$ and $\\mathbf r_5$ are free columns\n",
    "\n",
    "**Observation**: The pivot columns form a basis for $C(R)$.\n",
    "\n",
    "$$\n",
    "\\begin{aligned}\n",
    "\\mathbf r_2 &= 2\\mathbf r_1\\\\\n",
    "\\mathbf r_4 &= -2\\mathbf r_1-\\mathbf r_3\\\\\n",
    "\\mathbf r_5 &=  3\\mathbf r_3\n",
    "\\end{aligned}\n",
    "$$\n",
    "\n",
    "Remember that the *rank of $R$* is the number of pivot columns. Hence the rank of $R$ is the number of dimensions of the column space. In the example, this number is 2.\n",
    "\n",
    "(Here this is only demonstrated with a single example, but the argument works for any matrix in reduced row echelon form.)"
   ]
  },
  {
   "cell_type": "markdown",
   "id": "eb26e005",
   "metadata": {
    "slideshow": {
     "slide_type": "slide"
    }
   },
   "source": [
    "There is one special solution to $R\\mathbf x = \\mathbf 0$ for each free column of $R$:\n",
    "\n",
    "$$\n",
    "\\begin{aligned}\n",
    "\\mathbf x_1 &= \\left[\\begin{array}{r}-2\\\\1\\\\0\\\\0\\\\0\\end{array}\\right]&\n",
    "\\mathbf x_2 &= \\left[\\begin{array}{r}2\\\\0\\\\1\\\\1\\\\0\\end{array}\\right]&\n",
    "\\mathbf x_2 &= \\left[\\begin{array}{r}0\\\\0\\\\-3\\\\0\\\\1\\end{array}\\right]\n",
    "\\end{aligned}\n",
    "$$\n",
    "\n"
   ]
  },
  {
   "cell_type": "markdown",
   "id": "b997614f",
   "metadata": {
    "slideshow": {
     "slide_type": "slide"
    }
   },
   "source": [
    "\n",
    "With *sympy*:"
   ]
  },
  {
   "cell_type": "code",
   "execution_count": 13,
   "id": "464947bb",
   "metadata": {},
   "outputs": [
    {
     "data": {
      "text/latex": [
       "$\\displaystyle \\left[\\begin{matrix}1 & 2 & 0 & -2 & 0\\\\0 & 0 & 1 & -1 & 3\\\\0 & 0 & 0 & 0 & 0\\end{matrix}\\right]$"
      ],
      "text/plain": [
       "Matrix([\n",
       "[1, 2, 0, -2, 0],\n",
       "[0, 0, 1, -1, 3],\n",
       "[0, 0, 0,  0, 0]])"
      ]
     },
     "execution_count": 13,
     "metadata": {},
     "output_type": "execute_result"
    }
   ],
   "source": [
    "R = Matrix([\n",
    "    [1,2,0,-2,0],\n",
    "    [0,0,1,-1,3],\n",
    "    [0,0,0,0,0]\n",
    "])\n",
    "R"
   ]
  },
  {
   "cell_type": "code",
   "execution_count": 14,
   "id": "e03389fb",
   "metadata": {},
   "outputs": [],
   "source": [
    "x1, x2, x3 = R.nullspace()"
   ]
  },
  {
   "cell_type": "code",
   "execution_count": 15,
   "id": "e00cbd89",
   "metadata": {},
   "outputs": [
    {
     "data": {
      "text/latex": [
       "$\\displaystyle \\left[\\begin{matrix}-2\\\\1\\\\0\\\\0\\\\0\\end{matrix}\\right]$"
      ],
      "text/plain": [
       "Matrix([\n",
       "[-2],\n",
       "[ 1],\n",
       "[ 0],\n",
       "[ 0],\n",
       "[ 0]])"
      ]
     },
     "execution_count": 15,
     "metadata": {},
     "output_type": "execute_result"
    }
   ],
   "source": [
    "x1"
   ]
  },
  {
   "cell_type": "code",
   "execution_count": 16,
   "id": "0c2939d4",
   "metadata": {},
   "outputs": [
    {
     "data": {
      "text/latex": [
       "$\\displaystyle \\left[\\begin{matrix}2\\\\0\\\\1\\\\1\\\\0\\end{matrix}\\right]$"
      ],
      "text/plain": [
       "Matrix([\n",
       "[2],\n",
       "[0],\n",
       "[1],\n",
       "[1],\n",
       "[0]])"
      ]
     },
     "execution_count": 16,
     "metadata": {},
     "output_type": "execute_result"
    }
   ],
   "source": [
    "x2"
   ]
  },
  {
   "cell_type": "code",
   "execution_count": 17,
   "id": "92cf9e34",
   "metadata": {},
   "outputs": [
    {
     "data": {
      "text/latex": [
       "$\\displaystyle \\left[\\begin{matrix}0\\\\0\\\\-3\\\\0\\\\1\\end{matrix}\\right]$"
      ],
      "text/plain": [
       "Matrix([\n",
       "[ 0],\n",
       "[ 0],\n",
       "[-3],\n",
       "[ 0],\n",
       "[ 1]])"
      ]
     },
     "execution_count": 17,
     "metadata": {},
     "output_type": "execute_result"
    }
   ],
   "source": [
    "x3"
   ]
  },
  {
   "cell_type": "markdown",
   "id": "48a5d64d",
   "metadata": {
    "slideshow": {
     "slide_type": "slide"
    }
   },
   "source": [
    "collecting them in a matrix:\n",
    "\n",
    "$$\n",
    "X = \\left[\\begin{array}{r}\n",
    "-2 & 2 & 0\\\\\n",
    "1 & 0 & 0\\\\\n",
    "0 & 1 & -3\\\\\n",
    "0 & 1 & 0\\\\\n",
    "0 & 0 & 1\n",
    "\\end{array}\\right]\n",
    "$$\n",
    "\n",
    "Now consider the system\n",
    "\n",
    "$$\n",
    "X\\mathbf z = \\mathbf 0\n",
    "$$\n",
    "\n",
    "Solving via substitution, this gives\n",
    "\n",
    "$$\n",
    "\\begin{aligned}\n",
    "-2z_1 + 2 z_2 &= 0\\\\\n",
    "z_1 &= 0\\\\\n",
    "z_2-3z_3 &= 0\\\\\n",
    "z_2 &= 0\\\\\n",
    "z_3 &= 0\n",
    "\\end{aligned}\n",
    "$$\n",
    "\n",
    "Therefore $\\mathbf z = \\mathbf 0$. The columns of $X$ are linearly independent, so they are a basis for $N(R)$.\n",
    "\n",
    "There are as many columns in $X$ as there are free columns in $R$. If $r$ is the rank of $R$, there are $r$ pivot columns and $n-r$ free columns.\n",
    "\n",
    "**The nullspace $N(R)$ has $n-r$ dimensions.**"
   ]
  },
  {
   "cell_type": "markdown",
   "id": "43f0bd19",
   "metadata": {
    "slideshow": {
     "slide_type": "slide"
    }
   },
   "source": [
    "## Dimensions of the row space of $R$\n",
    "\n",
    "Now let us focus on the row space of $R$, which is the column space of \n",
    "\n",
    "$$\n",
    "R^T = \\left[\\begin{array}{r}\n",
    "1 & 0 & 0\\\\\n",
    "2 & 0 & 0\\\\\n",
    "0 & 1 & 0\\\\\n",
    "-2 & -1 & 0\\\\\n",
    "0 & 3 & 0\n",
    "\\end{array}\\right]\n",
    "$$\n",
    "\n",
    "By the construction of reduced row echelon forms, each row of $R$, i.e. each column of $R^T$, either contains a pivot or it is all-zero. By the same argument, each pivot row of $R^T$ contains a $1$ in one column and $0$ in all other columns, and all pivot columns are different.\n",
    "\n",
    "Two oberservations follow from this:\n",
    "\n",
    "- The pivot columns are linearly independent.\n",
    "- The pivot columns form a basis of $C(R^T)$.\n",
    "\n",
    "Since the number of pivot columns equals $r$, the rank of $R$, **the row space of $R$ has $r$ dimensions**.\n"
   ]
  },
  {
   "cell_type": "markdown",
   "id": "580d729e",
   "metadata": {
    "slideshow": {
     "slide_type": "slide"
    }
   },
   "source": [
    "When we bring $R^T$ in reduced row echelon form, pivot columns remain pivot columns:\n",
    "\n",
    "\n",
    "$$\n",
    "\\begin{aligned}\n",
    "R^T &= \\left[\\begin{array}{r}\n",
    "1 & 0 & 0\\\\\n",
    "2 & 0 & 0\\\\\n",
    "0 & 1 & 0\\\\\n",
    "-2 & -1 & 0\\\\\n",
    "0 & 3 & 0\n",
    "\\end{array}\\right]\\\\\n",
    "\\mathrm{rref}(R^T) &= \\left[\\begin{array}{r}\n",
    "1 & 0 & 0\\\\\n",
    "0 & 0 & 0\\\\\n",
    "0 & 1 & 0\\\\\n",
    "0 & 0 & 0\\\\\n",
    "0 & 0 & 0\n",
    "\\end{array}\\right]\n",
    "\\end{aligned}\n",
    "$$\n",
    "\n",
    "Hence the number of dimensions of $N(R^T)$, the left nullspace of $R$, is $m-r$.\n"
   ]
  },
  {
   "cell_type": "markdown",
   "id": "69e75e39",
   "metadata": {
    "slideshow": {
     "slide_type": "slide"
    }
   },
   "source": [
    "### Generalizing to all matrices\n",
    "\n",
    "We found that for an $m\\times n$ matrix $R$ in reduced row echelon form with rank $r$:\n",
    "\n",
    "- the row space of $R$ and the column space of $R$ both have $r$ dimensions\n",
    "- the null space of $R$ has $n-r$ dimensions\n",
    "- the left null space of $R$ has $m-r$ dimensions\n",
    "\n",
    "Next it will be shown that this holds not just for matrices in reduced row echelon form, but for all matrices $m\\times n$ matrices."
   ]
  },
  {
   "cell_type": "markdown",
   "id": "f7f75c23",
   "metadata": {},
   "source": [
    "Let \n",
    "\n",
    "$$\n",
    "A = \\left[\\begin{array}{r}\n",
    "-1 & -2 & -2 & 4 & -6\\\\\n",
    "-2 & -4 & - \\frac{7}{2} & \\frac{15}{2} & - \\frac{21}{2}\\\\\n",
    "2 & 4 & 3 & -7 & 9\n",
    "\\end{array}\\right]\n",
    "$$\n",
    "\n",
    "When performing Gauss-Jordan elimination, we multiply $A$ repeatedly with matrices from the left.\n",
    "\n"
   ]
  },
  {
   "cell_type": "markdown",
   "id": "4aa5ea1f",
   "metadata": {
    "slideshow": {
     "slide_type": "slide"
    }
   },
   "source": [
    "\n",
    "\n",
    "These matrices have one of two forms:\n",
    "\n",
    "- elimination matrix, i.e. a matrix with \n",
    "    - $1$s at the diagonal,\n",
    "    - one non-zero entry off the diagonal, and\n",
    "    - $0$s everywhere else\n",
    "- an invertable diagonal matrix, i.e., a matrix with \n",
    "    - non-zero entries along the diagonal and \n",
    "    - $0$ everywhere else"
   ]
  },
  {
   "cell_type": "code",
   "execution_count": 18,
   "id": "a18a1cb8",
   "metadata": {},
   "outputs": [
    {
     "data": {
      "text/latex": [
       "$\\displaystyle \\left[\\begin{matrix}-1 & -2 & -2 & 4 & -6\\\\-2 & -4 & - \\frac{7}{2} & \\frac{15}{2} & - \\frac{21}{2}\\\\2 & 4 & 3 & -7 & 9\\end{matrix}\\right]$"
      ],
      "text/plain": [
       "Matrix([\n",
       "[-1, -2,   -2,    4,    -6],\n",
       "[-2, -4, -7/2, 15/2, -21/2],\n",
       "[ 2,  4,    3,   -7,     9]])"
      ]
     },
     "execution_count": 18,
     "metadata": {},
     "output_type": "execute_result"
    }
   ],
   "source": [
    "A = Matrix([\n",
    "    [-1, -2, -2, 4, -6],\n",
    "    [-2, -4, -Rational(7,2), Rational(15,2), -Rational(21,2)],\n",
    "    [2,4,3,-7,9]\n",
    "])\n",
    "A"
   ]
  },
  {
   "cell_type": "code",
   "execution_count": 19,
   "id": "bcf82298",
   "metadata": {
    "slideshow": {
     "slide_type": "slide"
    }
   },
   "outputs": [
    {
     "data": {
      "text/latex": [
       "$\\displaystyle \\left[\\begin{matrix}1 & 0 & 0\\\\-2 & 1 & 0\\\\0 & 0 & 1\\end{matrix}\\right]$"
      ],
      "text/plain": [
       "Matrix([\n",
       "[ 1, 0, 0],\n",
       "[-2, 1, 0],\n",
       "[ 0, 0, 1]])"
      ]
     },
     "execution_count": 19,
     "metadata": {},
     "output_type": "execute_result"
    }
   ],
   "source": [
    "E1 = Matrix([\n",
    "    [1, 0, 0],\n",
    "    [-2, 1, 0],\n",
    "    [0, 0, 1]\n",
    "])\n",
    "E1"
   ]
  },
  {
   "cell_type": "code",
   "execution_count": 20,
   "id": "f231047a",
   "metadata": {},
   "outputs": [
    {
     "data": {
      "text/latex": [
       "$\\displaystyle \\left[\\begin{matrix}-1 & -2 & -2 & 4 & -6\\\\0 & 0 & \\frac{1}{2} & - \\frac{1}{2} & \\frac{3}{2}\\\\2 & 4 & 3 & -7 & 9\\end{matrix}\\right]$"
      ],
      "text/plain": [
       "Matrix([\n",
       "[-1, -2,  -2,    4,  -6],\n",
       "[ 0,  0, 1/2, -1/2, 3/2],\n",
       "[ 2,  4,   3,   -7,   9]])"
      ]
     },
     "execution_count": 20,
     "metadata": {},
     "output_type": "execute_result"
    }
   ],
   "source": [
    "B = E1 * A\n",
    "B"
   ]
  },
  {
   "cell_type": "code",
   "execution_count": 21,
   "id": "934d23ac",
   "metadata": {
    "slideshow": {
     "slide_type": "-"
    }
   },
   "outputs": [
    {
     "data": {
      "text/latex": [
       "$\\displaystyle \\left[\\begin{matrix}1 & 0 & 0\\\\0 & 1 & 0\\\\2 & 0 & 1\\end{matrix}\\right]$"
      ],
      "text/plain": [
       "Matrix([\n",
       "[1, 0, 0],\n",
       "[0, 1, 0],\n",
       "[2, 0, 1]])"
      ]
     },
     "execution_count": 21,
     "metadata": {},
     "output_type": "execute_result"
    }
   ],
   "source": [
    "E2 = Matrix([\n",
    "    [1, 0, 0],\n",
    "    [0, 1, 0],\n",
    "    [2, 0, 1]\n",
    "])\n",
    "E2"
   ]
  },
  {
   "cell_type": "code",
   "execution_count": 22,
   "id": "61e31b14",
   "metadata": {},
   "outputs": [
    {
     "data": {
      "text/latex": [
       "$\\displaystyle \\left[\\begin{matrix}-1 & -2 & -2 & 4 & -6\\\\0 & 0 & \\frac{1}{2} & - \\frac{1}{2} & \\frac{3}{2}\\\\0 & 0 & -1 & 1 & -3\\end{matrix}\\right]$"
      ],
      "text/plain": [
       "Matrix([\n",
       "[-1, -2,  -2,    4,  -6],\n",
       "[ 0,  0, 1/2, -1/2, 3/2],\n",
       "[ 0,  0,  -1,    1,  -3]])"
      ]
     },
     "execution_count": 22,
     "metadata": {},
     "output_type": "execute_result"
    }
   ],
   "source": [
    "B = E2 * B\n",
    "B"
   ]
  },
  {
   "cell_type": "code",
   "execution_count": 23,
   "id": "c8973b94",
   "metadata": {
    "slideshow": {
     "slide_type": "slide"
    }
   },
   "outputs": [
    {
     "data": {
      "text/latex": [
       "$\\displaystyle \\left[\\begin{matrix}1 & 0 & 0\\\\0 & 1 & 0\\\\0 & 2 & 1\\end{matrix}\\right]$"
      ],
      "text/plain": [
       "Matrix([\n",
       "[1, 0, 0],\n",
       "[0, 1, 0],\n",
       "[0, 2, 1]])"
      ]
     },
     "execution_count": 23,
     "metadata": {},
     "output_type": "execute_result"
    }
   ],
   "source": [
    "E3 = Matrix([\n",
    "    [1, 0, 0],\n",
    "    [0, 1, 0],\n",
    "    [0, 2, 1]\n",
    "])\n",
    "E3"
   ]
  },
  {
   "cell_type": "code",
   "execution_count": 24,
   "id": "00cd29b1",
   "metadata": {},
   "outputs": [
    {
     "data": {
      "text/latex": [
       "$\\displaystyle \\left[\\begin{matrix}-1 & -2 & -2 & 4 & -6\\\\0 & 0 & \\frac{1}{2} & - \\frac{1}{2} & \\frac{3}{2}\\\\0 & 0 & 0 & 0 & 0\\end{matrix}\\right]$"
      ],
      "text/plain": [
       "Matrix([\n",
       "[-1, -2,  -2,    4,  -6],\n",
       "[ 0,  0, 1/2, -1/2, 3/2],\n",
       "[ 0,  0,   0,    0,   0]])"
      ]
     },
     "execution_count": 24,
     "metadata": {},
     "output_type": "execute_result"
    }
   ],
   "source": [
    "B = E3 * B\n",
    "B"
   ]
  },
  {
   "cell_type": "code",
   "execution_count": 25,
   "id": "a5fe40d1",
   "metadata": {},
   "outputs": [
    {
     "data": {
      "text/latex": [
       "$\\displaystyle \\left[\\begin{matrix}1 & 4 & 0\\\\0 & 1 & 0\\\\0 & 0 & 1\\end{matrix}\\right]$"
      ],
      "text/plain": [
       "Matrix([\n",
       "[1, 4, 0],\n",
       "[0, 1, 0],\n",
       "[0, 0, 1]])"
      ]
     },
     "execution_count": 25,
     "metadata": {},
     "output_type": "execute_result"
    }
   ],
   "source": [
    "E4 = Matrix([\n",
    "    [1, 4, 0],\n",
    "    [0, 1, 0],\n",
    "    [0, 0, 1]\n",
    "])\n",
    "E4"
   ]
  },
  {
   "cell_type": "code",
   "execution_count": 26,
   "id": "25dae674",
   "metadata": {},
   "outputs": [
    {
     "data": {
      "text/latex": [
       "$\\displaystyle \\left[\\begin{matrix}-1 & -2 & 0 & 2 & 0\\\\0 & 0 & \\frac{1}{2} & - \\frac{1}{2} & \\frac{3}{2}\\\\0 & 0 & 0 & 0 & 0\\end{matrix}\\right]$"
      ],
      "text/plain": [
       "Matrix([\n",
       "[-1, -2,   0,    2,   0],\n",
       "[ 0,  0, 1/2, -1/2, 3/2],\n",
       "[ 0,  0,   0,    0,   0]])"
      ]
     },
     "execution_count": 26,
     "metadata": {},
     "output_type": "execute_result"
    }
   ],
   "source": [
    "B = E4 * B\n",
    "B"
   ]
  },
  {
   "cell_type": "code",
   "execution_count": 27,
   "id": "c43b585c",
   "metadata": {
    "slideshow": {
     "slide_type": "slide"
    }
   },
   "outputs": [
    {
     "data": {
      "text/latex": [
       "$\\displaystyle \\left[\\begin{matrix}-1 & 0 & 0\\\\0 & 2 & 0\\\\0 & 0 & 1\\end{matrix}\\right]$"
      ],
      "text/plain": [
       "Matrix([\n",
       "[-1, 0, 0],\n",
       "[ 0, 2, 0],\n",
       "[ 0, 0, 1]])"
      ]
     },
     "execution_count": 27,
     "metadata": {},
     "output_type": "execute_result"
    }
   ],
   "source": [
    "D = Matrix([\n",
    "    [-1, 0, 0],\n",
    "    [0, 2, 0],\n",
    "    [0, 0, 1]\n",
    "])\n",
    "D"
   ]
  },
  {
   "cell_type": "code",
   "execution_count": 28,
   "id": "c5eee6b9",
   "metadata": {},
   "outputs": [
    {
     "data": {
      "text/latex": [
       "$\\displaystyle \\left[\\begin{matrix}1 & 2 & 0 & -2 & 0\\\\0 & 0 & 1 & -1 & 3\\\\0 & 0 & 0 & 0 & 0\\end{matrix}\\right]$"
      ],
      "text/plain": [
       "Matrix([\n",
       "[1, 2, 0, -2, 0],\n",
       "[0, 0, 1, -1, 3],\n",
       "[0, 0, 0,  0, 0]])"
      ]
     },
     "execution_count": 28,
     "metadata": {},
     "output_type": "execute_result"
    }
   ],
   "source": [
    "B = D * B\n",
    "B"
   ]
  },
  {
   "cell_type": "code",
   "execution_count": 29,
   "id": "bd3e58d5",
   "metadata": {},
   "outputs": [
    {
     "data": {
      "text/latex": [
       "$\\displaystyle \\left[\\begin{matrix}1 & 2 & 0 & -2 & 0\\\\0 & 0 & 1 & -1 & 3\\\\0 & 0 & 0 & 0 & 0\\end{matrix}\\right]$"
      ],
      "text/plain": [
       "Matrix([\n",
       "[1, 2, 0, -2, 0],\n",
       "[0, 0, 1, -1, 3],\n",
       "[0, 0, 0,  0, 0]])"
      ]
     },
     "execution_count": 29,
     "metadata": {},
     "output_type": "execute_result"
    }
   ],
   "source": [
    "A.rref()[0]"
   ]
  },
  {
   "cell_type": "markdown",
   "id": "c6fd93c3",
   "metadata": {
    "slideshow": {
     "slide_type": "slide"
    }
   },
   "source": [
    "**Observations**:\n",
    "\n",
    "- Elimination matrices and invertable diagonal matrices are invertable.\n",
    "- Let $U$ be an invertable matrix. If a subset of the columns of $B$ form a basis of $C(B)$, than the corresponding columns of $UB$ form a basis for of $C(UB)$\n",
    "\n",
    "\n",
    "The first statement should be obvious. To invert an elimination matrix, you only have to replace its non-zero off-diagonal entry with its negation.\n"
   ]
  },
  {
   "cell_type": "code",
   "execution_count": 30,
   "id": "cebdb9c3",
   "metadata": {},
   "outputs": [
    {
     "data": {
      "text/latex": [
       "$\\displaystyle \\left[\\begin{matrix}1 & 0 & 0\\\\-2 & 1 & 0\\\\0 & 0 & 1\\end{matrix}\\right]$"
      ],
      "text/plain": [
       "Matrix([\n",
       "[ 1, 0, 0],\n",
       "[-2, 1, 0],\n",
       "[ 0, 0, 1]])"
      ]
     },
     "execution_count": 30,
     "metadata": {},
     "output_type": "execute_result"
    }
   ],
   "source": [
    "E1"
   ]
  },
  {
   "cell_type": "code",
   "execution_count": 31,
   "id": "a1da6013",
   "metadata": {},
   "outputs": [
    {
     "data": {
      "text/latex": [
       "$\\displaystyle \\left[\\begin{matrix}1 & 0 & 0\\\\2 & 1 & 0\\\\0 & 0 & 1\\end{matrix}\\right]$"
      ],
      "text/plain": [
       "Matrix([\n",
       "[1, 0, 0],\n",
       "[2, 1, 0],\n",
       "[0, 0, 1]])"
      ]
     },
     "execution_count": 31,
     "metadata": {},
     "output_type": "execute_result"
    }
   ],
   "source": [
    "E1.inv()"
   ]
  },
  {
   "cell_type": "markdown",
   "id": "a538d649",
   "metadata": {
    "slideshow": {
     "slide_type": "slide"
    }
   },
   "source": [
    "To invert an invertable diagonal matrix, you replace each diagonal entry with its inverse."
   ]
  },
  {
   "cell_type": "code",
   "execution_count": 32,
   "id": "75c7f202",
   "metadata": {},
   "outputs": [
    {
     "data": {
      "text/latex": [
       "$\\displaystyle \\left[\\begin{matrix}-1 & 0 & 0\\\\0 & 2 & 0\\\\0 & 0 & 1\\end{matrix}\\right]$"
      ],
      "text/plain": [
       "Matrix([\n",
       "[-1, 0, 0],\n",
       "[ 0, 2, 0],\n",
       "[ 0, 0, 1]])"
      ]
     },
     "execution_count": 32,
     "metadata": {},
     "output_type": "execute_result"
    }
   ],
   "source": [
    "D"
   ]
  },
  {
   "cell_type": "code",
   "execution_count": 33,
   "id": "ba5aec42",
   "metadata": {},
   "outputs": [
    {
     "data": {
      "text/latex": [
       "$\\displaystyle \\left[\\begin{matrix}-1 & 0 & 0\\\\0 & \\frac{1}{2} & 0\\\\0 & 0 & 1\\end{matrix}\\right]$"
      ],
      "text/plain": [
       "Matrix([\n",
       "[-1,   0, 0],\n",
       "[ 0, 1/2, 0],\n",
       "[ 0,   0, 1]])"
      ]
     },
     "execution_count": 33,
     "metadata": {},
     "output_type": "execute_result"
    }
   ],
   "source": [
    "D.inv()"
   ]
  },
  {
   "cell_type": "markdown",
   "id": "80a640c5",
   "metadata": {},
   "source": [
    "Now consider the second statement. Recall the running example\n",
    "\n",
    "$$\n",
    "A = \\left[\\begin{array}{r}\n",
    "-1 & -2 & -2 & 4 & -6\\\\\n",
    "-2 & -4 & - \\frac{7}{2} & \\frac{15}{2} & - \\frac{21}{2}\\\\\n",
    "2 & 4 & 3 & -7 & 9\n",
    "\\end{array}\\right]\n",
    "$$\n",
    "\n",
    "\n",
    "Here $\\{\\mathbf a_1, \\mathbf a_3\\}$ form a basis for the column space.\n"
   ]
  },
  {
   "cell_type": "code",
   "execution_count": 34,
   "id": "1ed75f9f",
   "metadata": {
    "slideshow": {
     "slide_type": "slide"
    }
   },
   "outputs": [
    {
     "data": {
      "text/latex": [
       "$\\displaystyle \\left[\\begin{matrix}-1 & -2\\\\-2 & - \\frac{7}{2}\\\\2 & 3\\end{matrix}\\right]$"
      ],
      "text/plain": [
       "Matrix([\n",
       "[-1,   -2],\n",
       "[-2, -7/2],\n",
       "[ 2,    3]])"
      ]
     },
     "execution_count": 34,
     "metadata": {},
     "output_type": "execute_result"
    }
   ],
   "source": [
    "D = A[:, [0,2]]\n",
    "D"
   ]
  },
  {
   "cell_type": "code",
   "execution_count": 35,
   "id": "ffa29b2c",
   "metadata": {},
   "outputs": [
    {
     "data": {
      "text/latex": [
       "$\\displaystyle \\left[\\begin{matrix}1 & 2 & 0 & -2 & 0\\\\0 & 0 & 1 & -1 & 3\\end{matrix}\\right]$"
      ],
      "text/plain": [
       "Matrix([\n",
       "[1, 2, 0, -2, 0],\n",
       "[0, 0, 1, -1, 3]])"
      ]
     },
     "execution_count": 35,
     "metadata": {},
     "output_type": "execute_result"
    }
   ],
   "source": [
    "D.solve(A)"
   ]
  },
  {
   "cell_type": "code",
   "execution_count": 36,
   "id": "5537ba9f",
   "metadata": {},
   "outputs": [
    {
     "ename": "NonInvertibleMatrixError",
     "evalue": "Matrix det == 0; not invertible.",
     "output_type": "error",
     "traceback": [
      "\u001b[0;31m---------------------------------------------------------------------------\u001b[0m",
      "\u001b[0;31mShapeError\u001b[0m                                Traceback (most recent call last)",
      "File \u001b[0;32m/usr/lib/python3/dist-packages/sympy/matrices/solvers.py:751\u001b[0m, in \u001b[0;36m_solve\u001b[0;34m(M, rhs, method)\u001b[0m\n\u001b[1;32m    750\u001b[0m \u001b[38;5;28;01mtry\u001b[39;00m:\n\u001b[0;32m--> 751\u001b[0m     soln, param \u001b[38;5;241m=\u001b[39m \u001b[43mM\u001b[49m\u001b[38;5;241;43m.\u001b[39;49m\u001b[43mgauss_jordan_solve\u001b[49m\u001b[43m(\u001b[49m\u001b[43mrhs\u001b[49m\u001b[43m)\u001b[49m\n\u001b[1;32m    753\u001b[0m     \u001b[38;5;28;01mif\u001b[39;00m param:\n",
      "File \u001b[0;32m/usr/lib/python3/dist-packages/sympy/matrices/matrices.py:2184\u001b[0m, in \u001b[0;36mMatrixBase.gauss_jordan_solve\u001b[0;34m(self, B, freevar)\u001b[0m\n\u001b[1;32m   2183\u001b[0m \u001b[38;5;28;01mdef\u001b[39;00m \u001b[38;5;21mgauss_jordan_solve\u001b[39m(\u001b[38;5;28mself\u001b[39m, B, freevar\u001b[38;5;241m=\u001b[39m\u001b[38;5;28;01mFalse\u001b[39;00m):\n\u001b[0;32m-> 2184\u001b[0m     \u001b[38;5;28;01mreturn\u001b[39;00m \u001b[43m_gauss_jordan_solve\u001b[49m\u001b[43m(\u001b[49m\u001b[38;5;28;43mself\u001b[39;49m\u001b[43m,\u001b[49m\u001b[43m \u001b[49m\u001b[43mB\u001b[49m\u001b[43m,\u001b[49m\u001b[43m \u001b[49m\u001b[43mfreevar\u001b[49m\u001b[38;5;241;43m=\u001b[39;49m\u001b[43mfreevar\u001b[49m\u001b[43m)\u001b[49m\n",
      "File \u001b[0;32m/usr/lib/python3/dist-packages/sympy/matrices/solvers.py:560\u001b[0m, in \u001b[0;36m_gauss_jordan_solve\u001b[0;34m(M, B, freevar)\u001b[0m\n\u001b[1;32m    559\u001b[0m \u001b[38;5;28mcls\u001b[39m      \u001b[38;5;241m=\u001b[39m M\u001b[38;5;241m.\u001b[39m\u001b[38;5;18m__class__\u001b[39m\n\u001b[0;32m--> 560\u001b[0m aug      \u001b[38;5;241m=\u001b[39m \u001b[43mM\u001b[49m\u001b[38;5;241;43m.\u001b[39;49m\u001b[43mhstack\u001b[49m\u001b[43m(\u001b[49m\u001b[43mM\u001b[49m\u001b[38;5;241;43m.\u001b[39;49m\u001b[43mcopy\u001b[49m\u001b[43m(\u001b[49m\u001b[43m)\u001b[49m\u001b[43m,\u001b[49m\u001b[43m \u001b[49m\u001b[43mB\u001b[49m\u001b[38;5;241;43m.\u001b[39;49m\u001b[43mcopy\u001b[49m\u001b[43m(\u001b[49m\u001b[43m)\u001b[49m\u001b[43m)\u001b[49m\n\u001b[1;32m    561\u001b[0m B_cols   \u001b[38;5;241m=\u001b[39m B\u001b[38;5;241m.\u001b[39mcols\n",
      "File \u001b[0;32m/usr/lib/python3/dist-packages/sympy/matrices/common.py:421\u001b[0m, in \u001b[0;36mMatrixShaping.hstack\u001b[0;34m(cls, *args)\u001b[0m\n\u001b[1;32m    420\u001b[0m kls \u001b[38;5;241m=\u001b[39m \u001b[38;5;28mtype\u001b[39m(args[\u001b[38;5;241m0\u001b[39m])\n\u001b[0;32m--> 421\u001b[0m \u001b[38;5;28;01mreturn\u001b[39;00m \u001b[43mreduce\u001b[49m\u001b[43m(\u001b[49m\u001b[43mkls\u001b[49m\u001b[38;5;241;43m.\u001b[39;49m\u001b[43mrow_join\u001b[49m\u001b[43m,\u001b[49m\u001b[43m \u001b[49m\u001b[43margs\u001b[49m\u001b[43m)\u001b[49m\n",
      "File \u001b[0;32m/usr/lib/python3/dist-packages/sympy/matrices/common.py:524\u001b[0m, in \u001b[0;36mMatrixShaping.row_join\u001b[0;34m(self, other)\u001b[0m\n\u001b[1;32m    523\u001b[0m \u001b[38;5;28;01mif\u001b[39;00m \u001b[38;5;28mself\u001b[39m\u001b[38;5;241m.\u001b[39mrows \u001b[38;5;241m!=\u001b[39m other\u001b[38;5;241m.\u001b[39mrows:\n\u001b[0;32m--> 524\u001b[0m     \u001b[38;5;28;01mraise\u001b[39;00m ShapeError(\n\u001b[1;32m    525\u001b[0m         \u001b[38;5;124m\"\u001b[39m\u001b[38;5;124m`self` and `rhs` must have the same number of rows.\u001b[39m\u001b[38;5;124m\"\u001b[39m)\n\u001b[1;32m    526\u001b[0m \u001b[38;5;28;01mreturn\u001b[39;00m \u001b[38;5;28mself\u001b[39m\u001b[38;5;241m.\u001b[39m_eval_row_join(other)\n",
      "\u001b[0;31mShapeError\u001b[0m: `self` and `rhs` must have the same number of rows.",
      "\nDuring handling of the above exception, another exception occurred:\n",
      "\u001b[0;31mNonInvertibleMatrixError\u001b[0m                  Traceback (most recent call last)",
      "Cell \u001b[0;32mIn[36], line 1\u001b[0m\n\u001b[0;32m----> 1\u001b[0m \u001b[43mD\u001b[49m\u001b[38;5;241;43m.\u001b[39;49m\u001b[43msolve\u001b[49m\u001b[43m(\u001b[49m\u001b[43mMatrix\u001b[49m\u001b[43m(\u001b[49m\u001b[43m[\u001b[49m\u001b[38;5;241;43m0\u001b[39;49m\u001b[43m,\u001b[49m\u001b[38;5;241;43m0\u001b[39;49m\u001b[43m]\u001b[49m\u001b[43m)\u001b[49m\u001b[43m)\u001b[49m\n",
      "File \u001b[0;32m/usr/lib/python3/dist-packages/sympy/matrices/matrices.py:2190\u001b[0m, in \u001b[0;36mMatrixBase.solve\u001b[0;34m(self, rhs, method)\u001b[0m\n\u001b[1;32m   2189\u001b[0m \u001b[38;5;28;01mdef\u001b[39;00m \u001b[38;5;21msolve\u001b[39m(\u001b[38;5;28mself\u001b[39m, rhs, method\u001b[38;5;241m=\u001b[39m\u001b[38;5;124m'\u001b[39m\u001b[38;5;124mGJ\u001b[39m\u001b[38;5;124m'\u001b[39m):\n\u001b[0;32m-> 2190\u001b[0m     \u001b[38;5;28;01mreturn\u001b[39;00m \u001b[43m_solve\u001b[49m\u001b[43m(\u001b[49m\u001b[38;5;28;43mself\u001b[39;49m\u001b[43m,\u001b[49m\u001b[43m \u001b[49m\u001b[43mrhs\u001b[49m\u001b[43m,\u001b[49m\u001b[43m \u001b[49m\u001b[43mmethod\u001b[49m\u001b[38;5;241;43m=\u001b[39;49m\u001b[43mmethod\u001b[49m\u001b[43m)\u001b[49m\n",
      "File \u001b[0;32m/usr/lib/python3/dist-packages/sympy/matrices/solvers.py:758\u001b[0m, in \u001b[0;36m_solve\u001b[0;34m(M, rhs, method)\u001b[0m\n\u001b[1;32m    754\u001b[0m             \u001b[38;5;28;01mraise\u001b[39;00m NonInvertibleMatrixError(\u001b[38;5;124m\"\u001b[39m\u001b[38;5;124mMatrix det == 0; not invertible. \u001b[39m\u001b[38;5;124m\"\u001b[39m\n\u001b[1;32m    755\u001b[0m             \u001b[38;5;124m\"\u001b[39m\u001b[38;5;124mTry ``M.gauss_jordan_solve(rhs)`` to obtain a parametric solution.\u001b[39m\u001b[38;5;124m\"\u001b[39m)\n\u001b[1;32m    757\u001b[0m     \u001b[38;5;28;01mexcept\u001b[39;00m \u001b[38;5;167;01mValueError\u001b[39;00m:\n\u001b[0;32m--> 758\u001b[0m         \u001b[38;5;28;01mraise\u001b[39;00m NonInvertibleMatrixError(\u001b[38;5;124m\"\u001b[39m\u001b[38;5;124mMatrix det == 0; not invertible.\u001b[39m\u001b[38;5;124m\"\u001b[39m)\n\u001b[1;32m    760\u001b[0m     \u001b[38;5;28;01mreturn\u001b[39;00m soln\n\u001b[1;32m    762\u001b[0m \u001b[38;5;28;01melif\u001b[39;00m method \u001b[38;5;241m==\u001b[39m \u001b[38;5;124m'\u001b[39m\u001b[38;5;124mLU\u001b[39m\u001b[38;5;124m'\u001b[39m:\n",
      "\u001b[0;31mNonInvertibleMatrixError\u001b[0m: Matrix det == 0; not invertible."
     ]
    }
   ],
   "source": [
    "D.solve(Matrix([0,0]))"
   ]
  },
  {
   "cell_type": "markdown",
   "id": "2980d81a",
   "metadata": {
    "slideshow": {
     "slide_type": "slide"
    }
   },
   "source": [
    "We get from $A$ to $\\begin{bmatrix}\\mathbf a_1, \\mathbf a_3\\end{bmatrix}$ by multiplying $A$ with\n",
    "\n",
    "$$\n",
    "\\begin{aligned}\n",
    "W &= \\begin{bmatrix}\n",
    "1 & 0\\\\\n",
    "0 & 0\\\\\n",
    "0 & 1\\\\\n",
    "0 & 0\\\\\n",
    "0 & 0\n",
    "\\end{bmatrix}\\\\\n",
    "AW &= D\n",
    "\\end{aligned}\n",
    "$$\n",
    "\n",
    "In general, $W$ is an $n\\times k$ matrix, $k\\leq n$, with exactly one 1 per column. Let us call such matrices *subset matrices*."
   ]
  },
  {
   "cell_type": "markdown",
   "id": "4448480e",
   "metadata": {},
   "source": [
    "Now let us assume:\n",
    "\n",
    "- $U$ is invertable\n",
    "- the columns of $BW$ form a basis for $C(B)$\n",
    "\n",
    "We need to show that $UBW$ form a basis for $C(UB)$.\n",
    "\n",
    "First we need to show that the columns of $UBW$ are linearly independent, i.e., $\\mathbf 0$ is the only solution for\n",
    "\n",
    "$$\n",
    "UBW\\mathbf x = \\mathbf 0\n",
    "$$\n",
    "\n",
    "Suppose it is otherwise, i.e, $\\mathbf x \\neq \\mathbf 0$.\n",
    "\n",
    "Since $U$ is invertable:\n",
    "\n",
    "$$\n",
    "\\begin{aligned}\n",
    "U^{-1}UBW\\mathbf x &= \\mathbf 0\\\\\n",
    "BW\\mathbf x &= \\mathbf 0\n",
    "\\end{aligned}\n",
    "$$\n",
    "\n",
    "This contradicts the assumption that $BW$ is a basis for $C(B)$.\n"
   ]
  },
  {
   "cell_type": "markdown",
   "id": "8b726848",
   "metadata": {
    "slideshow": {
     "slide_type": "slide"
    }
   },
   "source": [
    "\n",
    "\n",
    "By assumption, $BW$ is a basis for $C(B)$. This means that each column vector of $B$ is a linear combination of the column vectors of $BW$. This amounts to saying that there is a matrix $X$ such that\n",
    "\n",
    "$$\n",
    "BWX = B\n",
    "$$\n",
    "\n",
    "We need to show that $UBW$ is a basis for $UB$, i.e., that there is a matrix $Y$ with\n",
    "\n",
    "$$\n",
    "UBWY = UB\n",
    "$$\n",
    "For $Y=X$, this follows directly from the assumptions."
   ]
  },
  {
   "cell_type": "markdown",
   "id": "0c69dde7",
   "metadata": {},
   "source": [
    "Taking everything together, it follows that **the columns of $A$ with the same indices as the pivot columns of rref($A$)** form a basis of $C(A)$.\n",
    "\n",
    "Therefore $C(A)$ has the same number of dimensions as $C(\\mathrm{rref}(A))$, which equals the rank of $A$.\n",
    "\n",
    "Furthermore, if $U$ is invertible, $U^T$ is also invertible. Therefore, applying Gauss-Jordan elimination does not change the dimensionality of the row space either. Since matrices in reduced row echelon form have the same number of dimensions for the row space and the column space, this also applies to all matrices.\n",
    "\n"
   ]
  },
  {
   "cell_type": "markdown",
   "id": "d6ef2462",
   "metadata": {
    "slideshow": {
     "slide_type": "slide"
    }
   },
   "source": [
    "\n",
    "\n",
    "Finally $U$ is invertible. If \n",
    "\n",
    "$$\n",
    "A\\mathbf x = \\mathbf 0,\n",
    "$$\n",
    "\n",
    "then \n",
    "$$\n",
    "\\begin{aligned}\n",
    "UA\\mathbf x &= U\\mathbf 0 = \\mathbf 0\n",
    "\\end{aligned}\n",
    "$$\n",
    "\n",
    "If \n",
    "$$\n",
    "UA\\mathbf x = \\mathbf 0,\n",
    "$$\n",
    "\n",
    "then\n",
    "\n",
    "$$\n",
    "\\begin{aligned}\n",
    "U^{-1}UA\\mathbf x &=  U^{-1}\\mathbf 0\\\\\n",
    "A\\mathbf x &= \\mathbf 0\n",
    "\\end{aligned}\n",
    "$$\n",
    "\n",
    "This entails that $A$ and $\\mathrm{rref}(A)$ have the same nullspace, end therefore the same number of dimensions of their nullspaces.\n"
   ]
  },
  {
   "cell_type": "markdown",
   "id": "81444ae4",
   "metadata": {
    "slideshow": {
     "slide_type": "slide"
    }
   },
   "source": [
    "### Summary\n",
    "\n",
    "Let $A$ be an $m\\times n$ matrix.\n",
    "\n",
    "- The column space $C(A)$ and the row space $C(A^T)$ both have dimension $r$ (the rank of $A$).\n",
    "- The nullspace $N(A)$ has dimension $n-r$.\n",
    "- The left nullspace $N(A^T)$ has dimension $m-r$."
   ]
  }
 ],
 "metadata": {
  "@webio": {
   "lastCommId": null,
   "lastKernelId": null
  },
  "celltoolbar": "Slideshow",
  "hide_input": false,
  "kernelspec": {
   "display_name": "Python 3 (ipykernel)",
   "language": "python",
   "name": "python3"
  },
  "language_info": {
   "codemirror_mode": {
    "name": "ipython",
    "version": 3
   },
   "file_extension": ".py",
   "mimetype": "text/x-python",
   "name": "python",
   "nbconvert_exporter": "python",
   "pygments_lexer": "ipython3",
   "version": "3.10.12"
  },
  "latex_envs": {
   "LaTeX_envs_menu_present": true,
   "autoclose": false,
   "autocomplete": true,
   "bibliofile": "biblio.bib",
   "cite_by": "apalike",
   "current_citInitial": 1,
   "eqLabelWithNumbers": true,
   "eqNumInitial": 1,
   "hotkeys": {
    "equation": "Ctrl-E",
    "itemize": "Ctrl-I"
   },
   "labels_anchors": false,
   "latex_user_defs": false,
   "report_style_numbering": false,
   "user_envs_cfg": false
  },
  "varInspector": {
   "cols": {
    "lenName": 16,
    "lenType": 16,
    "lenVar": 40
   },
   "kernels_config": {
    "python": {
     "delete_cmd_postfix": "",
     "delete_cmd_prefix": "del ",
     "library": "var_list.py",
     "varRefreshCmd": "print(var_dic_list())"
    },
    "r": {
     "delete_cmd_postfix": ") ",
     "delete_cmd_prefix": "rm(",
     "library": "var_list.r",
     "varRefreshCmd": "cat(var_dic_list()) "
    }
   },
   "types_to_exclude": [
    "module",
    "function",
    "builtin_function_or_method",
    "instance",
    "_Feature"
   ],
   "window_display": false
  }
 },
 "nbformat": 4,
 "nbformat_minor": 5
}
