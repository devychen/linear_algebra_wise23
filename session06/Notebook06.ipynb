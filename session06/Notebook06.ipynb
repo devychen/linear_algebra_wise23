{
 "cells": [
  {
   "cell_type": "code",
   "execution_count": 1,
   "id": "6b6d3e8a",
   "metadata": {
    "slideshow": {
     "slide_type": "skip"
    }
   },
   "outputs": [],
   "source": [
    "import sympy\n",
    "from sympy import Matrix, Rational, sqrt, symbols, zeros\n",
    "import numpy as np\n",
    "%matplotlib notebook\n",
    "import matplotlib.pyplot as plt"
   ]
  },
  {
   "cell_type": "markdown",
   "id": "17d690f6",
   "metadata": {
    "slideshow": {
     "slide_type": "slide"
    }
   },
   "source": [
    "# Linear algebra\n",
    "\n",
    "## Session 06: \n",
    "\n",
    "## Gerhard Jäger\n",
    "\n",
    "### November 30, 2023"
   ]
  },
  {
   "cell_type": "markdown",
   "id": "physical-rough",
   "metadata": {
    "slideshow": {
     "slide_type": "slide"
    }
   },
   "source": [
    "### Theorem\n",
    "\n",
    "If the columns of $A$ and the columns of $B$ are both a basis for some vector space $S$, then $A$ and $B$ have the same number of columns.\n",
    "\n",
    "#### Proof\n",
    "\n",
    "Let $A$ be an $m\\times n$ matrix and $B$ and $m\\times k$ matrix. Suppose $k<n$\n",
    "\n",
    "Since $B$ is a basis of the column space of $A$, there must be a solution $\\mathbf x_i$\n",
    "$$\n",
    "B\\mathbf x_i = \\mathbf a_i \n",
    "$$\n",
    "\n",
    "for each column vector $\\mathbf a_i$ of $A$. Let \n",
    "\n",
    "$$\n",
    "X = \\begin{bmatrix}\n",
    "\\vdots & \\cdots & \\vdots\\\\\n",
    "\\mathbf x_1 & \\cdots & \\mathbf x_n\\\\\n",
    "\\vdots & \\cdots & \\vdots\\\\\n",
    "\\end{bmatrix}\n",
    "$$\n",
    "i.e., $X$ is the matrix with $\\mathbf x_1,\\ldots, \\mathbf x_n$ as column vectors. It has the format $k\\times n$.\n",
    "\n"
   ]
  },
  {
   "cell_type": "markdown",
   "id": "9bf4bd3b",
   "metadata": {
    "slideshow": {
     "slide_type": "slide"
    }
   },
   "source": [
    "\n",
    "\n",
    "Then it holds:\n",
    "\n",
    "$$\n",
    "A = BX\n",
    "$$\n",
    "\n",
    "Since $k<n$, $X$ is broader than high. Therefore its reduced row-echolon form must have free columns. Therefore there must be a non-zero solution $\\mathbf y$ for \n",
    "\n",
    "$$\n",
    "X\\mathbf y = \\mathbf 0\n",
    "$$\n",
    "\n",
    "It follows immediately that\n",
    "\n",
    "$$\n",
    "\\begin{aligned}\n",
    "X\\mathbf y &= \\mathbf 0\\\\\n",
    "BX\\mathbf y &= \\mathbf 0\\\\\n",
    "A\\mathbf y &= \\mathbf 0\n",
    "\\end{aligned}\n",
    "$$\n",
    "\n",
    "This is a contradiction, since by assumption, the columns of $A$ are linearly independent. \n",
    "\n",
    "$\\dashv$"
   ]
  },
  {
   "cell_type": "markdown",
   "id": "abroad-seller",
   "metadata": {
    "slideshow": {
     "slide_type": "slide"
    }
   },
   "source": [
    "### Dimensions of a vector space\n",
    "\n",
    "It follows that each basis of a vector space $S$ has the same number of vectors as elements. We call this number the **number of dimensions of $S$**.\n",
    "\n",
    "\n",
    "\n",
    "\n"
   ]
  },
  {
   "cell_type": "markdown",
   "id": "cd72dc5d",
   "metadata": {},
   "source": [
    "Let us re-consider the invertible matrix from last week:\n",
    "\n",
    "$$\n",
    "\\begin{aligned}\n",
    "A &= \n",
    "\\left[\n",
    "\\begin{array}{r}\n",
    "1 & -4 & 2\\\\\n",
    "-2 & 1 & 3\\\\\n",
    "2 & 6 & 8\n",
    "\\end{array}\\right]\\\\[1em]\n",
    "A^{-1} &=\n",
    "\\left[\\begin{array}{r}\n",
    "\\frac{5}{63} & - \\frac{22}{63} & \\frac{1}{9}\\\\- \\frac{11}{63} & - \\frac{2}{63} & \\frac{1}{18}\\\\\\frac{1}{9} & \\frac{1}{9} & \\frac{1}{18}\n",
    "\\end{array}\\right]\n",
    "\\end{aligned}\n",
    "$$\n",
    "\n",
    "Solving $A\\mathbf x = \\mathbf 0$:\n",
    "\n",
    "\n",
    "$$\n",
    "\\begin{aligned}\n",
    "A\\mathbf x &= \\mathbf 0\\\\\n",
    "A^{-1}A\\mathbf x &= A^{-1}\\mathbf 0\\\\\n",
    "\\mathbf x &= \\mathbf 0\n",
    "\\end{aligned}\n",
    "$$\n"
   ]
  },
  {
   "cell_type": "markdown",
   "id": "dd00f2d3",
   "metadata": {
    "slideshow": {
     "slide_type": "slide"
    }
   },
   "source": [
    "So the columns of $A$ are independent (as are the columns of each invertible matrix). Let $\\mathbf b$ be some arbitrary vector in $\\mathbb R^3$.\n",
    "$$\n",
    "\\begin{aligned}\n",
    "A\\mathbf x &= \\mathbf b\\\\\n",
    "\\mathbf x &= A^{-1}\\mathbf b\\\\\n",
    "\\end{aligned}\n",
    "$$\n",
    "This means that for each vector $\\mathbf b$ in $\\mathbb R^3$, we can find coefficients $x_1, x_2, x_3$ such that $\\mathbf b = x_1\\mathbf a_1 + x_2 \\mathbf a_2 + x_3\\mathbf a_3$. The columns of $A$ therefore are a basis for $\\mathbb R^3$.\n",
    "\n",
    "By an analogous argument, it follows that\n",
    "\n",
    "**The columns of an invertible $n\\times n$ matrix form a basis for $\\mathbb R^n$**."
   ]
  },
  {
   "cell_type": "markdown",
   "id": "applicable-likelihood",
   "metadata": {
    "slideshow": {
     "slide_type": "slide"
    }
   },
   "source": [
    "# The four subspaces of a matrix\n",
    "\n",
    "So far we have looked at two subspaces of an $n\\times m$ matrix $A$:\n",
    "\n",
    "- the **column space** $C(A)$\n",
    "- the **nullspace** $N(A)$\n",
    "\n",
    "The transpose $A^T$ also has these two subspaces:\n",
    "\n",
    "- the column space $C(A^T)$ is called the **row space of $A$**\n",
    "- the null space $N(A^T)$ is called the **left nullspace of $A$**\n",
    "\n",
    "What can we say about the number of dimensions of these four subspaces?\n",
    "\n",
    "- dimensions of $C(A) \\leq n$\n",
    "- dimensions of $C(A^T) \\leq m$\n",
    "\n",
    "We want to do better than that!"
   ]
  },
  {
   "cell_type": "markdown",
   "id": "working-pizza",
   "metadata": {
    "slideshow": {
     "slide_type": "slide"
    }
   },
   "source": [
    "### Subspaces of reduced row echelon form matrices\n",
    "\n",
    "Let us start with matrices in reduced row echelon form. \n",
    "\n",
    "Example:\n",
    "\n",
    "$$\n",
    "R = \\left[\\begin{array}{r}\n",
    "1 & 2 & 0 & -2& 0\\\\\n",
    "0 & 0 & 1 & -1& 3\\\\\n",
    "0 & 0 & 0 & 0 & 0\n",
    "\\end{array}\\right]\n",
    "$$\n",
    "\n",
    "- columns $\\mathbf r_1$ an $\\mathbf r_3$ are pivot columns\n",
    "- columns $\\mathbf r_2, \\mathbf r_4$ and $\\mathbf r_5$ are free columns\n",
    "\n",
    "**Observation**: The pivot columns form a basis for $C(R)$.\n",
    "\n",
    "$$\n",
    "\\begin{aligned}\n",
    "\\mathbf r_2 &= 2\\mathbf r_1\\\\\n",
    "\\mathbf r_4 &= -2\\mathbf r_1-\\mathbf r_3\\\\\n",
    "\\mathbf r_5 &=  3\\mathbf r_3\n",
    "\\end{aligned}\n",
    "$$\n",
    "\n",
    "Remember that the *rank of $R$* is the number of pivot columns. Hence the rank of $R$ is the number of dimensions of the column space. In the example, this number is 2.\n",
    "\n",
    "(Here this is only demonstrated with a single example, but the argument works for any matrix in reduced row echelon form.)"
   ]
  },
  {
   "cell_type": "markdown",
   "id": "trying-performer",
   "metadata": {
    "slideshow": {
     "slide_type": "slide"
    }
   },
   "source": [
    "There is one special solution to $R\\mathbf x = \\mathbf 0$ for each free column of $R$:\n",
    "\n",
    "$$\n",
    "\\begin{aligned}\n",
    "\\mathbf x_1 &= \\left[\\begin{array}{r}-2\\\\1\\\\0\\\\0\\\\0\\end{array}\\right]&\n",
    "\\mathbf x_2 &= \\left[\\begin{array}{r}2\\\\0\\\\1\\\\1\\\\0\\end{array}\\right]&\n",
    "\\mathbf x_2 &= \\left[\\begin{array}{r}0\\\\0\\\\-3\\\\0\\\\1\\end{array}\\right]\n",
    "\\end{aligned}\n",
    "$$\n",
    "\n"
   ]
  },
  {
   "cell_type": "markdown",
   "id": "1e0f25f9",
   "metadata": {
    "slideshow": {
     "slide_type": "slide"
    }
   },
   "source": [
    "\n",
    "With *sympy*:"
   ]
  },
  {
   "cell_type": "code",
   "execution_count": 2,
   "id": "behind-richmond",
   "metadata": {},
   "outputs": [
    {
     "data": {
      "text/latex": [
       "$\\displaystyle \\left[\\begin{matrix}1 & 2 & 0 & -2 & 0\\\\0 & 0 & 1 & -1 & 3\\\\0 & 0 & 0 & 0 & 0\\end{matrix}\\right]$"
      ],
      "text/plain": [
       "Matrix([\n",
       "[1, 2, 0, -2, 0],\n",
       "[0, 0, 1, -1, 3],\n",
       "[0, 0, 0,  0, 0]])"
      ]
     },
     "execution_count": 2,
     "metadata": {},
     "output_type": "execute_result"
    }
   ],
   "source": [
    "R = Matrix([\n",
    "    [1,2,0,-2,0],\n",
    "    [0,0,1,-1,3],\n",
    "    [0,0,0,0,0]\n",
    "])\n",
    "R"
   ]
  },
  {
   "cell_type": "code",
   "execution_count": 3,
   "id": "designing-while",
   "metadata": {},
   "outputs": [],
   "source": [
    "x1, x2, x3 = R.nullspace()"
   ]
  },
  {
   "cell_type": "code",
   "execution_count": 4,
   "id": "cardiovascular-single",
   "metadata": {},
   "outputs": [
    {
     "data": {
      "text/latex": [
       "$\\displaystyle \\left[\\begin{matrix}-2\\\\1\\\\0\\\\0\\\\0\\end{matrix}\\right]$"
      ],
      "text/plain": [
       "Matrix([\n",
       "[-2],\n",
       "[ 1],\n",
       "[ 0],\n",
       "[ 0],\n",
       "[ 0]])"
      ]
     },
     "execution_count": 4,
     "metadata": {},
     "output_type": "execute_result"
    }
   ],
   "source": [
    "x1"
   ]
  },
  {
   "cell_type": "code",
   "execution_count": 5,
   "id": "simple-workshop",
   "metadata": {},
   "outputs": [
    {
     "data": {
      "text/latex": [
       "$\\displaystyle \\left[\\begin{matrix}2\\\\0\\\\1\\\\1\\\\0\\end{matrix}\\right]$"
      ],
      "text/plain": [
       "Matrix([\n",
       "[2],\n",
       "[0],\n",
       "[1],\n",
       "[1],\n",
       "[0]])"
      ]
     },
     "execution_count": 5,
     "metadata": {},
     "output_type": "execute_result"
    }
   ],
   "source": [
    "x2"
   ]
  },
  {
   "cell_type": "code",
   "execution_count": 6,
   "id": "seven-volume",
   "metadata": {},
   "outputs": [
    {
     "data": {
      "text/latex": [
       "$\\displaystyle \\left[\\begin{matrix}0\\\\0\\\\-3\\\\0\\\\1\\end{matrix}\\right]$"
      ],
      "text/plain": [
       "Matrix([\n",
       "[ 0],\n",
       "[ 0],\n",
       "[-3],\n",
       "[ 0],\n",
       "[ 1]])"
      ]
     },
     "execution_count": 6,
     "metadata": {},
     "output_type": "execute_result"
    }
   ],
   "source": [
    "x3"
   ]
  },
  {
   "cell_type": "markdown",
   "id": "lightweight-penguin",
   "metadata": {
    "slideshow": {
     "slide_type": "slide"
    }
   },
   "source": [
    "Collecting them in a matrix:\n",
    "\n",
    "$$\n",
    "X = \\left[\\begin{array}{r}\n",
    "-2 & 2 & 0\\\\\n",
    "1 & 0 & 0\\\\\n",
    "0 & 1 & -3\\\\\n",
    "0 & 1 & 0\\\\\n",
    "0 & 0 & 1\n",
    "\\end{array}\\right]\n",
    "$$\n",
    "\n",
    "Now consider the system\n",
    "\n",
    "$$\n",
    "X\\mathbf z = \\mathbf 0\n",
    "$$\n",
    "\n",
    "Solving via substitution, this gives\n",
    "\n",
    "$$\n",
    "\\begin{aligned}\n",
    "-2z_1 + 2 z_2 &= 0\\\\\n",
    "z_1 &= 0\\\\\n",
    "z_2-3z_3 &= 0\\\\\n",
    "z_2 &= 0\\\\\n",
    "z_3 &= 0\n",
    "\\end{aligned}\n",
    "$$\n",
    "\n",
    "Therefore $\\mathbf z = \\mathbf 0$. The columns of $X$ are linearly independent, so they are a basis for $N(R)$.\n",
    "\n",
    "There are as many columns in $X$ as there are free columns in $R$. If $r$ is the rank of $R$, there are $r$ pivot columns and $n-r$ free columns.\n",
    "\n",
    "**The nullspace $N(R)$ has $n-r$ dimensions.**"
   ]
  },
  {
   "cell_type": "markdown",
   "id": "proud-adelaide",
   "metadata": {
    "slideshow": {
     "slide_type": "slide"
    }
   },
   "source": [
    "## Dimensions of the row space of $R$\n",
    "\n",
    "Now let us focus on the row space of $R$, which is the column space of \n",
    "\n",
    "$$\n",
    "R^T = \\left[\\begin{array}{r}\n",
    "1 & 0 & 0\\\\\n",
    "2 & 0 & 0\\\\\n",
    "0 & 1 & 0\\\\\n",
    "-2 & -1 & 0\\\\\n",
    "0 & 3 & 0\n",
    "\\end{array}\\right]\n",
    "$$\n",
    "\n",
    "By the construction of reduced row echelon forms, each row of $R$, i.e. each column of $R^T$, either contains a pivot or it is all-zero. By the same argument, each pivot row of $R^T$ contains a $1$ in one column and $0$ in all other columns, and all pivot columns are different.\n",
    "\n",
    "Two oberservations follow from this:\n",
    "\n",
    "- The pivot columns are linearly independent.\n",
    "- The pivot columns form a basis of $C(R^T)$.\n",
    "\n",
    "Since the number of pivot columns equals $r$, the rank of $R$, **the row space of $R$ has $r$ dimensions**.\n"
   ]
  },
  {
   "cell_type": "markdown",
   "id": "special-topic",
   "metadata": {
    "slideshow": {
     "slide_type": "slide"
    }
   },
   "source": [
    "When we bring $R^T$ in reduced row echelon form, pivot columns remain pivot columns:\n",
    "\n",
    "\n",
    "$$\n",
    "\\begin{aligned}\n",
    "R^T &= \\left[\\begin{array}{r}\n",
    "1 & 0 & 0\\\\\n",
    "2 & 0 & 0\\\\\n",
    "0 & 1 & 0\\\\\n",
    "-2 & -1 & 0\\\\\n",
    "0 & 3 & 0\n",
    "\\end{array}\\right]\\\\\n",
    "\\mathrm{rref}(R^T) &= \\left[\\begin{array}{r}\n",
    "1 & 0 & 0\\\\\n",
    "0 & 0 & 0\\\\\n",
    "0 & 1 & 0\\\\\n",
    "0 & 0 & 0\\\\\n",
    "0 & 0 & 0\n",
    "\\end{array}\\right]\n",
    "\\end{aligned}\n",
    "$$\n",
    "\n",
    "Hence the number of dimensions of $N(R^T)$, the left nullspace of $R$, is $m-r$.\n"
   ]
  },
  {
   "cell_type": "markdown",
   "id": "polar-discount",
   "metadata": {
    "slideshow": {
     "slide_type": "slide"
    }
   },
   "source": [
    "### Generalizing to all matrices\n",
    "\n",
    "We found that for an $m\\times n$ matrix $R$ in reduced row echelon form with rank $r$:\n",
    "\n",
    "- the row space of $R$ and the column space of $R$ both have $r$ dimensions\n",
    "- the null space of $R$ has $n-r$ dimensions\n",
    "- the left null space of $R$ has $m-r$ dimensions\n",
    "\n",
    "Next it will be shown that this holds not just for matrices in reduced row echelon form, but for all matrices $m\\times n$ matrices."
   ]
  },
  {
   "cell_type": "markdown",
   "id": "surrounded-liver",
   "metadata": {},
   "source": [
    "Let \n",
    "\n",
    "$$\n",
    "A = \\left[\\begin{array}{r}\n",
    "-1 & -2 & -2 & 4 & -6\\\\\n",
    "-2 & -4 & - \\frac{7}{2} & \\frac{15}{2} & - \\frac{21}{2}\\\\\n",
    "2 & 4 & 3 & -7 & 9\n",
    "\\end{array}\\right]\n",
    "$$\n",
    "\n",
    "When performing Gauss-Jordan elimination, we multiply $A$ repeatedly with matrices from the left.\n",
    "\n"
   ]
  },
  {
   "cell_type": "markdown",
   "id": "380ae317",
   "metadata": {
    "slideshow": {
     "slide_type": "slide"
    }
   },
   "source": [
    "\n",
    "\n",
    "These matrices have one of two forms:\n",
    "\n",
    "- elimination matrix, i.e. a matrix with \n",
    "    - $1$s at the diagonal,\n",
    "    - one non-zero entry off the diagonal, and\n",
    "    - $0$s everywhere else\n",
    "- an invertible diagonal matrix, i.e., a matrix with \n",
    "    - non-zero entries along the diagonal and \n",
    "    - $0$ everywhere else"
   ]
  },
  {
   "cell_type": "code",
   "execution_count": 7,
   "id": "better-lender",
   "metadata": {},
   "outputs": [
    {
     "data": {
      "text/latex": [
       "$\\displaystyle \\left[\\begin{matrix}-1 & -2 & -2 & 4 & -6\\\\-2 & -4 & - \\frac{7}{2} & \\frac{15}{2} & - \\frac{21}{2}\\\\2 & 4 & 3 & -7 & 9\\end{matrix}\\right]$"
      ],
      "text/plain": [
       "Matrix([\n",
       "[-1, -2,   -2,    4,    -6],\n",
       "[-2, -4, -7/2, 15/2, -21/2],\n",
       "[ 2,  4,    3,   -7,     9]])"
      ]
     },
     "execution_count": 7,
     "metadata": {},
     "output_type": "execute_result"
    }
   ],
   "source": [
    "A = Matrix([\n",
    "    [-1, -2, -2, 4, -6],\n",
    "    [-2, -4, -Rational(7,2), Rational(15,2), -Rational(21,2)],\n",
    "    [2,4,3,-7,9]\n",
    "])\n",
    "A"
   ]
  },
  {
   "cell_type": "code",
   "execution_count": 8,
   "id": "confident-vatican",
   "metadata": {
    "slideshow": {
     "slide_type": "slide"
    }
   },
   "outputs": [
    {
     "data": {
      "text/latex": [
       "$\\displaystyle \\left[\\begin{matrix}1 & 0 & 0\\\\-2 & 1 & 0\\\\0 & 0 & 1\\end{matrix}\\right]$"
      ],
      "text/plain": [
       "Matrix([\n",
       "[ 1, 0, 0],\n",
       "[-2, 1, 0],\n",
       "[ 0, 0, 1]])"
      ]
     },
     "execution_count": 8,
     "metadata": {},
     "output_type": "execute_result"
    }
   ],
   "source": [
    "E1 = Matrix([\n",
    "    [1, 0, 0],\n",
    "    [-2, 1, 0],\n",
    "    [0, 0, 1]\n",
    "])\n",
    "E1"
   ]
  },
  {
   "cell_type": "code",
   "execution_count": 9,
   "id": "legendary-enemy",
   "metadata": {},
   "outputs": [
    {
     "data": {
      "text/latex": [
       "$\\displaystyle \\left[\\begin{matrix}-1 & -2 & -2 & 4 & -6\\\\0 & 0 & \\frac{1}{2} & - \\frac{1}{2} & \\frac{3}{2}\\\\2 & 4 & 3 & -7 & 9\\end{matrix}\\right]$"
      ],
      "text/plain": [
       "Matrix([\n",
       "[-1, -2,  -2,    4,  -6],\n",
       "[ 0,  0, 1/2, -1/2, 3/2],\n",
       "[ 2,  4,   3,   -7,   9]])"
      ]
     },
     "execution_count": 9,
     "metadata": {},
     "output_type": "execute_result"
    }
   ],
   "source": [
    "B = E1 * A\n",
    "B"
   ]
  },
  {
   "cell_type": "code",
   "execution_count": 10,
   "id": "little-motion",
   "metadata": {},
   "outputs": [
    {
     "data": {
      "text/latex": [
       "$\\displaystyle \\left[\\begin{matrix}1 & 0 & 0\\\\0 & 1 & 0\\\\2 & 0 & 1\\end{matrix}\\right]$"
      ],
      "text/plain": [
       "Matrix([\n",
       "[1, 0, 0],\n",
       "[0, 1, 0],\n",
       "[2, 0, 1]])"
      ]
     },
     "execution_count": 10,
     "metadata": {},
     "output_type": "execute_result"
    }
   ],
   "source": [
    "E2 = Matrix([\n",
    "    [1, 0, 0],\n",
    "    [0, 1, 0],\n",
    "    [2, 0, 1]\n",
    "])\n",
    "E2"
   ]
  },
  {
   "cell_type": "code",
   "execution_count": 11,
   "id": "finite-baghdad",
   "metadata": {},
   "outputs": [
    {
     "data": {
      "text/latex": [
       "$\\displaystyle \\left[\\begin{matrix}-1 & -2 & -2 & 4 & -6\\\\0 & 0 & \\frac{1}{2} & - \\frac{1}{2} & \\frac{3}{2}\\\\0 & 0 & -1 & 1 & -3\\end{matrix}\\right]$"
      ],
      "text/plain": [
       "Matrix([\n",
       "[-1, -2,  -2,    4,  -6],\n",
       "[ 0,  0, 1/2, -1/2, 3/2],\n",
       "[ 0,  0,  -1,    1,  -3]])"
      ]
     },
     "execution_count": 11,
     "metadata": {},
     "output_type": "execute_result"
    }
   ],
   "source": [
    "B = E2 * B\n",
    "B"
   ]
  },
  {
   "cell_type": "code",
   "execution_count": 12,
   "id": "geographic-recommendation",
   "metadata": {
    "slideshow": {
     "slide_type": "slide"
    }
   },
   "outputs": [
    {
     "data": {
      "text/latex": [
       "$\\displaystyle \\left[\\begin{matrix}1 & 0 & 0\\\\0 & 1 & 0\\\\0 & 2 & 1\\end{matrix}\\right]$"
      ],
      "text/plain": [
       "Matrix([\n",
       "[1, 0, 0],\n",
       "[0, 1, 0],\n",
       "[0, 2, 1]])"
      ]
     },
     "execution_count": 12,
     "metadata": {},
     "output_type": "execute_result"
    }
   ],
   "source": [
    "E3 = Matrix([\n",
    "    [1, 0, 0],\n",
    "    [0, 1, 0],\n",
    "    [0, 2, 1]\n",
    "])\n",
    "E3"
   ]
  },
  {
   "cell_type": "code",
   "execution_count": 13,
   "id": "assured-breakdown",
   "metadata": {},
   "outputs": [
    {
     "data": {
      "text/latex": [
       "$\\displaystyle \\left[\\begin{matrix}-1 & -2 & -2 & 4 & -6\\\\0 & 0 & \\frac{1}{2} & - \\frac{1}{2} & \\frac{3}{2}\\\\0 & 0 & 0 & 0 & 0\\end{matrix}\\right]$"
      ],
      "text/plain": [
       "Matrix([\n",
       "[-1, -2,  -2,    4,  -6],\n",
       "[ 0,  0, 1/2, -1/2, 3/2],\n",
       "[ 0,  0,   0,    0,   0]])"
      ]
     },
     "execution_count": 13,
     "metadata": {},
     "output_type": "execute_result"
    }
   ],
   "source": [
    "B = E3 * B\n",
    "B"
   ]
  },
  {
   "cell_type": "code",
   "execution_count": 14,
   "id": "dutch-zealand",
   "metadata": {},
   "outputs": [
    {
     "data": {
      "text/latex": [
       "$\\displaystyle \\left[\\begin{matrix}1 & 4 & 0\\\\0 & 1 & 0\\\\0 & 0 & 1\\end{matrix}\\right]$"
      ],
      "text/plain": [
       "Matrix([\n",
       "[1, 4, 0],\n",
       "[0, 1, 0],\n",
       "[0, 0, 1]])"
      ]
     },
     "execution_count": 14,
     "metadata": {},
     "output_type": "execute_result"
    }
   ],
   "source": [
    "E4 = Matrix([\n",
    "    [1, 4, 0],\n",
    "    [0, 1, 0],\n",
    "    [0, 0, 1]\n",
    "])\n",
    "E4"
   ]
  },
  {
   "cell_type": "code",
   "execution_count": 15,
   "id": "angry-solid",
   "metadata": {},
   "outputs": [
    {
     "data": {
      "text/latex": [
       "$\\displaystyle \\left[\\begin{matrix}-1 & -2 & 0 & 2 & 0\\\\0 & 0 & \\frac{1}{2} & - \\frac{1}{2} & \\frac{3}{2}\\\\0 & 0 & 0 & 0 & 0\\end{matrix}\\right]$"
      ],
      "text/plain": [
       "Matrix([\n",
       "[-1, -2,   0,    2,   0],\n",
       "[ 0,  0, 1/2, -1/2, 3/2],\n",
       "[ 0,  0,   0,    0,   0]])"
      ]
     },
     "execution_count": 15,
     "metadata": {},
     "output_type": "execute_result"
    }
   ],
   "source": [
    "B = E4 * B\n",
    "B"
   ]
  },
  {
   "cell_type": "code",
   "execution_count": 16,
   "id": "blank-short",
   "metadata": {
    "slideshow": {
     "slide_type": "slide"
    }
   },
   "outputs": [
    {
     "data": {
      "text/latex": [
       "$\\displaystyle \\left[\\begin{matrix}-1 & 0 & 0\\\\0 & 2 & 0\\\\0 & 0 & 1\\end{matrix}\\right]$"
      ],
      "text/plain": [
       "Matrix([\n",
       "[-1, 0, 0],\n",
       "[ 0, 2, 0],\n",
       "[ 0, 0, 1]])"
      ]
     },
     "execution_count": 16,
     "metadata": {},
     "output_type": "execute_result"
    }
   ],
   "source": [
    "D = Matrix([\n",
    "    [-1, 0, 0],\n",
    "    [0, 2, 0],\n",
    "    [0, 0, 1]\n",
    "])\n",
    "D"
   ]
  },
  {
   "cell_type": "code",
   "execution_count": 17,
   "id": "subsequent-microwave",
   "metadata": {},
   "outputs": [
    {
     "data": {
      "text/latex": [
       "$\\displaystyle \\left[\\begin{matrix}1 & 2 & 0 & -2 & 0\\\\0 & 0 & 1 & -1 & 3\\\\0 & 0 & 0 & 0 & 0\\end{matrix}\\right]$"
      ],
      "text/plain": [
       "Matrix([\n",
       "[1, 2, 0, -2, 0],\n",
       "[0, 0, 1, -1, 3],\n",
       "[0, 0, 0,  0, 0]])"
      ]
     },
     "execution_count": 17,
     "metadata": {},
     "output_type": "execute_result"
    }
   ],
   "source": [
    "B = D * B\n",
    "B"
   ]
  },
  {
   "cell_type": "code",
   "execution_count": 18,
   "id": "continental-outline",
   "metadata": {},
   "outputs": [
    {
     "data": {
      "text/latex": [
       "$\\displaystyle \\left[\\begin{matrix}1 & 2 & 0 & -2 & 0\\\\0 & 0 & 1 & -1 & 3\\\\0 & 0 & 0 & 0 & 0\\end{matrix}\\right]$"
      ],
      "text/plain": [
       "Matrix([\n",
       "[1, 2, 0, -2, 0],\n",
       "[0, 0, 1, -1, 3],\n",
       "[0, 0, 0,  0, 0]])"
      ]
     },
     "execution_count": 18,
     "metadata": {},
     "output_type": "execute_result"
    }
   ],
   "source": [
    "A.rref()[0]"
   ]
  },
  {
   "cell_type": "markdown",
   "id": "arbitrary-protest",
   "metadata": {
    "slideshow": {
     "slide_type": "slide"
    }
   },
   "source": [
    "**Observations**:\n",
    "\n",
    "- Elimination matrices and invertible diagonal matrices are invertible.\n",
    "- Let $U$ be an invertable matrix. If a subset of the columns of $B$ form a basis of $C(B)$, than the corresponding columns of $UB$ form a basis for of $C(UB)$\n",
    "\n",
    "\n",
    "The first statement should be obvious. To invert an elimination matrix, you only have to replace its non-zero off-diagonal entry with its negation.\n"
   ]
  },
  {
   "cell_type": "code",
   "execution_count": 19,
   "id": "tight-expression",
   "metadata": {},
   "outputs": [
    {
     "data": {
      "text/latex": [
       "$\\displaystyle \\left[\\begin{matrix}1 & 0 & 0\\\\-2 & 1 & 0\\\\0 & 0 & 1\\end{matrix}\\right]$"
      ],
      "text/plain": [
       "Matrix([\n",
       "[ 1, 0, 0],\n",
       "[-2, 1, 0],\n",
       "[ 0, 0, 1]])"
      ]
     },
     "execution_count": 19,
     "metadata": {},
     "output_type": "execute_result"
    }
   ],
   "source": [
    "E1"
   ]
  },
  {
   "cell_type": "code",
   "execution_count": 20,
   "id": "split-richards",
   "metadata": {},
   "outputs": [
    {
     "data": {
      "text/latex": [
       "$\\displaystyle \\left[\\begin{matrix}1 & 0 & 0\\\\2 & 1 & 0\\\\0 & 0 & 1\\end{matrix}\\right]$"
      ],
      "text/plain": [
       "Matrix([\n",
       "[1, 0, 0],\n",
       "[2, 1, 0],\n",
       "[0, 0, 1]])"
      ]
     },
     "execution_count": 20,
     "metadata": {},
     "output_type": "execute_result"
    }
   ],
   "source": [
    "E1.inv()"
   ]
  },
  {
   "cell_type": "markdown",
   "id": "flush-fluid",
   "metadata": {},
   "source": [
    "To invert an invertable diagonal matrix, you replace each diagonal entry with its inverse."
   ]
  },
  {
   "cell_type": "code",
   "execution_count": 21,
   "id": "martial-deployment",
   "metadata": {},
   "outputs": [
    {
     "data": {
      "text/latex": [
       "$\\displaystyle \\left[\\begin{matrix}-1 & 0 & 0\\\\0 & 2 & 0\\\\0 & 0 & 1\\end{matrix}\\right]$"
      ],
      "text/plain": [
       "Matrix([\n",
       "[-1, 0, 0],\n",
       "[ 0, 2, 0],\n",
       "[ 0, 0, 1]])"
      ]
     },
     "execution_count": 21,
     "metadata": {},
     "output_type": "execute_result"
    }
   ],
   "source": [
    "D"
   ]
  },
  {
   "cell_type": "code",
   "execution_count": 22,
   "id": "catholic-chemistry",
   "metadata": {},
   "outputs": [
    {
     "data": {
      "text/latex": [
       "$\\displaystyle \\left[\\begin{matrix}-1 & 0 & 0\\\\0 & \\frac{1}{2} & 0\\\\0 & 0 & 1\\end{matrix}\\right]$"
      ],
      "text/plain": [
       "Matrix([\n",
       "[-1,   0, 0],\n",
       "[ 0, 1/2, 0],\n",
       "[ 0,   0, 1]])"
      ]
     },
     "execution_count": 22,
     "metadata": {},
     "output_type": "execute_result"
    }
   ],
   "source": [
    "D.inv()"
   ]
  },
  {
   "cell_type": "markdown",
   "id": "bottom-passion",
   "metadata": {
    "slideshow": {
     "slide_type": "slide"
    }
   },
   "source": [
    "Now consider the second statement. Recall the running example\n",
    "\n",
    "$$\n",
    "A = \\left[\\begin{array}{r}\n",
    "-1 & -2 & -2 & 4 & -6\\\\\n",
    "-2 & -4 & - \\frac{7}{2} & \\frac{15}{2} & - \\frac{21}{2}\\\\\n",
    "2 & 4 & 3 & -7 & 9\n",
    "\\end{array}\\right]\n",
    "$$\n",
    "\n",
    "\n",
    "Here $\\{\\mathbf a_1, \\mathbf a_3\\}$ form a basis for the column space.\n"
   ]
  },
  {
   "cell_type": "code",
   "execution_count": 23,
   "id": "sharp-marble",
   "metadata": {},
   "outputs": [
    {
     "data": {
      "text/latex": [
       "$\\displaystyle \\left[\\begin{matrix}-1 & -2\\\\-2 & - \\frac{7}{2}\\\\2 & 3\\end{matrix}\\right]$"
      ],
      "text/plain": [
       "Matrix([\n",
       "[-1,   -2],\n",
       "[-2, -7/2],\n",
       "[ 2,    3]])"
      ]
     },
     "execution_count": 23,
     "metadata": {},
     "output_type": "execute_result"
    }
   ],
   "source": [
    "D = A[:, [0,2]]\n",
    "D"
   ]
  },
  {
   "cell_type": "code",
   "execution_count": 24,
   "id": "liable-grass",
   "metadata": {},
   "outputs": [
    {
     "data": {
      "text/latex": [
       "$\\displaystyle \\left[\\begin{matrix}1 & 2 & 0 & -2 & 0\\\\0 & 0 & 1 & -1 & 3\\end{matrix}\\right]$"
      ],
      "text/plain": [
       "Matrix([\n",
       "[1, 2, 0, -2, 0],\n",
       "[0, 0, 1, -1, 3]])"
      ]
     },
     "execution_count": 24,
     "metadata": {},
     "output_type": "execute_result"
    }
   ],
   "source": [
    "D.solve(A)"
   ]
  },
  {
   "cell_type": "code",
   "execution_count": 25,
   "id": "young-vacation",
   "metadata": {},
   "outputs": [
    {
     "name": "stdout",
     "output_type": "stream",
     "text": [
      "no solution\n"
     ]
    }
   ],
   "source": [
    "try:\n",
    "    D.solve(zeros(2))\n",
    "except:\n",
    "    print(\"no solution\")"
   ]
  },
  {
   "cell_type": "markdown",
   "id": "demographic-homework",
   "metadata": {
    "slideshow": {
     "slide_type": "slide"
    }
   },
   "source": [
    "We get from $A$ to $\\begin{bmatrix}\\mathbf a_1, \\mathbf a_3\\end{bmatrix}$ by multiplying $A$ with\n",
    "\n",
    "$$\n",
    "\\begin{aligned}\n",
    "W &= \\begin{bmatrix}\n",
    "1 & 0\\\\\n",
    "0 & 0\\\\\n",
    "0 & 1\\\\\n",
    "0 & 0\\\\\n",
    "0 & 0\n",
    "\\end{bmatrix}\\\\\n",
    "AW &= D\n",
    "\\end{aligned}\n",
    "$$\n",
    "\n",
    "In general, $W$ is an $n\\times k$ matrix, $k\\leq n$, with exactly one 1 per column. Let us call such matrices *subset matrices*."
   ]
  },
  {
   "cell_type": "markdown",
   "id": "common-outside",
   "metadata": {
    "slideshow": {
     "slide_type": "slide"
    }
   },
   "source": [
    "No let us assume:\n",
    "\n",
    "- $U$ is invertable\n",
    "- the columns of $BW$ form a basis for $C(B)$\n",
    "\n",
    "We need to show that $UBW$ form a basis for $C(UB)$.\n",
    "\n",
    "First we need to show that the columns of $UBW$ are linearly independent, i.e., $\\mathbf 0$ is the only solution for\n",
    "\n",
    "$$\n",
    "UBW\\mathbf x = \\mathbf 0\n",
    "$$\n",
    "\n",
    "Suppose it is otherwise, i.e, $\\mathbf x \\neq \\mathbf 0$.\n",
    "\n",
    "Since $U$ is invertable:\n",
    "\n",
    "$$\n",
    "\\begin{aligned}\n",
    "U^{-1}UBW\\mathbf x &= \\mathbf 0\\\\\n",
    "BW\\mathbf x &= \\mathbf 0\n",
    "\\end{aligned}\n",
    "$$\n",
    "\n",
    "This contradicts the assumption that $BW$ is a basis for $C(B)$.\n"
   ]
  },
  {
   "cell_type": "markdown",
   "id": "febbab41",
   "metadata": {
    "slideshow": {
     "slide_type": "slide"
    }
   },
   "source": [
    "\n",
    "\n",
    "By assumption, $BW$ is a basis for $C(B)$. This means that each column vector of $B$ is a linear combination of the column vectors of $BW$. This amounts to saying that there is a matrix $X$ such that\n",
    "\n",
    "$$\n",
    "BWX = B\n",
    "$$\n",
    "\n",
    "We need to show that $UBW$ is a basis for $UB$, i.e., that there is a matrix $Y$ with\n",
    "\n",
    "$$\n",
    "UBWY = UB\n",
    "$$\n",
    "For $Y=X$, this follows directly from the assumptions."
   ]
  },
  {
   "cell_type": "markdown",
   "id": "foreign-difficulty",
   "metadata": {},
   "source": [
    "Taking everything together, it follows that **the columns of $A$ with the same indices as the pivot columns of rref($A$)** form a basis of $C(A)$.\n",
    "\n",
    "Therefore $C(A)$ has the same number of dimensions as $C(\\mathrm{rref}(A))$, which equals the rank of $A$.\n",
    "\n",
    "Furthermore, if $U$ is invertible, $U^T$ is also invertible. Therefore, applying Gauss-Jordan elimination does not change the dimensionality of the row space either. Since matrices in reduced row echelon form have the same number of dimensions for the row space and the column space, this also applies to all matrices.\n",
    "\n"
   ]
  },
  {
   "cell_type": "markdown",
   "id": "9761227e",
   "metadata": {
    "slideshow": {
     "slide_type": "slide"
    }
   },
   "source": [
    "\n",
    "\n",
    "Finally $U$ is invertible. If \n",
    "\n",
    "$$\n",
    "A\\mathbf x = \\mathbf 0,\n",
    "$$\n",
    "\n",
    "then \n",
    "$$\n",
    "\\begin{aligned}\n",
    "UA\\mathbf x &= U\\mathbf 0 = \\mathbf 0\n",
    "\\end{aligned}\n",
    "$$\n",
    "\n",
    "If \n",
    "$$\n",
    "UA\\mathbf x = \\mathbf 0,\n",
    "$$\n",
    "\n",
    "then\n",
    "\n",
    "$$\n",
    "\\begin{aligned}\n",
    "U^{-1}UA\\mathbf x &=  U^{-1}\\mathbf 0\\\\\n",
    "A\\mathbf x &= \\mathbf 0\n",
    "\\end{aligned}\n",
    "$$\n",
    "\n",
    "This entails that $A$ and $\\mathrm{rref}(A)$ have the same nullspace, end therefore the same number of dimensions of their nullspaces.\n"
   ]
  },
  {
   "cell_type": "markdown",
   "id": "precious-bottom",
   "metadata": {
    "slideshow": {
     "slide_type": "slide"
    }
   },
   "source": [
    "### Intermediate summary\n",
    "\n",
    "Let $A$ be an $m\\times n$ matrix.\n",
    "\n",
    "- The column space $C(A)$ has dimension $r$ (the rank of $A$).\n",
    "- The nullspace $N(A)$ has dimension $n-r$.\n",
    "\n"
   ]
  },
  {
   "cell_type": "markdown",
   "id": "65854662",
   "metadata": {
    "slideshow": {
     "slide_type": "slide"
    }
   },
   "source": [
    "\n",
    "\n",
    "What about the row space and the left nullspace?\n",
    "\n",
    "Suppose $\\mathbf x$ is in the left nullspace of $A$:\n",
    "\n",
    "$$\n",
    "A^T\\mathbf x = \\mathbf 0\n",
    "$$\n",
    "\n",
    "Let $U$ the the matrix that converts $A$ to the reduced row echelon form.\n",
    "\n",
    "$$\n",
    "UA = \\mathrm{rref}(A)\n",
    "$$"
   ]
  },
  {
   "cell_type": "markdown",
   "id": "261b1f2d",
   "metadata": {
    "slideshow": {
     "slide_type": "slide"
    }
   },
   "source": [
    "**Observation**\n",
    "\n",
    "If $E$ is invertible, than for any matrix $D$, the column spaces of $D$ and of $DE$ are identical.\n",
    "\n",
    "**Proof**\n",
    "\n",
    "Suppose $\\mathbf b$ is in the column space of $D$:\n",
    "\n",
    "$$\n",
    "\\exists \\mathbf x D\\mathbf x = \\mathbf b\n",
    "$$\n",
    "\n",
    "Then there is a $\\mathbf y$ such that \n",
    "\n",
    "$$\n",
    "DE\\mathbf y = \\mathbf b,\n",
    "$$\n",
    "namely $E^{-1}\\mathbf x$.\n",
    "\n",
    "Conversely, if $\\mathbf b$ is in the column space of $DE$, then it is also in the column space of $D$.\n",
    "\n",
    "$\\dashv$"
   ]
  },
  {
   "cell_type": "markdown",
   "id": "0c9a0124",
   "metadata": {
    "slideshow": {
     "slide_type": "slide"
    }
   },
   "source": [
    "This means that multiplying a matrix on its right with an invertible matrix does not change the column space. Hence the \n",
    "\n",
    "$$\n",
    "C(A^T) = C(A^TU^T) = C((UA)^T) = C(\\mathrm{rref}(A)^T)\n",
    "$$\n",
    "\n",
    "Since the row space of $\\mathrm{rref}(A)$ has $r$ dimensions, the same holds for the row space of $A$.\n",
    "\n",
    "And if the row space of $A$, i.e., the column space of $A^T$, has $r$ dimensions, the null space of $A^T$, which is the left null space of $A$, must have $m-r$ dimensions."
   ]
  },
  {
   "cell_type": "markdown",
   "id": "6f349be8",
   "metadata": {
    "slideshow": {
     "slide_type": "slide"
    }
   },
   "source": [
    "### Summary\n",
    "\n",
    "Let $A$ be an $m\\times n$ matrix.\n",
    "\n",
    "- The column space $C(A)$ and the row space $C(A^T)$ both have dimension $r$ (the rank of $A$).\n",
    "- The nullspace $N(A)$ has $n-r$ dimensions.\n",
    "- The left nullspace $N(A^T)$ has $m-r$ dimensions. \n"
   ]
  },
  {
   "cell_type": "markdown",
   "id": "aa45792e",
   "metadata": {
    "slideshow": {
     "slide_type": "slide"
    }
   },
   "source": [
    "## Orthogonality\n",
    "\n",
    "Recall: vectors $\\mathbf v$ and $\\mathbf w$ are **orthogonal** if and only if\n",
    "\n",
    "$$\n",
    "\\mathbf v^T \\mathbf w = \\mathbf 0\n",
    "$$\n",
    "\n",
    "#### Examples\n",
    "\n",
    "- $\\begin{bmatrix}1\\\\1 \\\\0\\end{bmatrix}$, $\\begin{bmatrix}0\\\\0 \\\\1\\end{bmatrix}$\n",
    "\n",
    "\n",
    "- $\\begin{bmatrix}1\\\\1 \\end{bmatrix}$, $\\begin{bmatrix}2\\\\-2\\end{bmatrix}$\n",
    "\n",
    "\n",
    "- $\\begin{bmatrix}1\\\\1 \\\\ 2\\end{bmatrix}$, $\\begin{bmatrix}-2\\\\-2\\\\2\\end{bmatrix}$\n",
    "\n",
    "- .."
   ]
  },
  {
   "cell_type": "markdown",
   "id": "6c81157a",
   "metadata": {
    "slideshow": {
     "slide_type": "slide"
    }
   },
   "source": [
    "### orthogonal spaces\n",
    "\n",
    "Two vector spaces $\\mathbf V$ and $\\mathbf W$ are orthogonal if and only if\n",
    "\n",
    "$$\n",
    "\\forall \\mathbf v\\in \\mathbf V, \\mathbf w \\in \\mathbf W. \\mathbf v^T\\mathbf w = \\mathbf 0\n",
    "$$\n",
    "\n",
    "**Examples**\n",
    "\n",
    "$$\n",
    "\\begin{aligned}\n",
    "\\mathbf V &= \\{\\begin{bmatrix}x\\\\0\\end{bmatrix}: x \\in \\mathbb R\\}\\\\[1em]\n",
    "\\mathbf W &= \\{\\begin{bmatrix}0\\\\y\\end{bmatrix}: y \\in \\mathbb R\\}\\\\\n",
    "\\end{aligned}\n",
    "$$\n",
    "\n",
    "These are of course the $x$-axis and $y$-axis of a 2d-space."
   ]
  },
  {
   "cell_type": "markdown",
   "id": "e03b3386",
   "metadata": {
    "slideshow": {
     "slide_type": "slide"
    }
   },
   "source": [
    "$$\n",
    "\\begin{aligned}\n",
    "\\mathbf V &= \\{\\begin{bmatrix}x\\\\y\\\\0\\end{bmatrix}: x,y \\in \\mathbb R\\}\\\\[1em]\n",
    "\\mathbf W &= \\{\\begin{bmatrix}0\\\\0\\\\z\\end{bmatrix}: z \\in \\mathbb R\\}\\\\\n",
    "\\end{aligned}\n",
    "$$\n",
    "\n",
    "These are the $x$-$y$ plane and the $z$-axis of a 3d-space."
   ]
  },
  {
   "cell_type": "markdown",
   "id": "eba2fcd4",
   "metadata": {
    "slideshow": {
     "slide_type": "slide"
    }
   },
   "source": [
    "$$\n",
    "\\begin{aligned}\n",
    "\\mathbf V &= \\mathrm{span}(\n",
    "\\begin{bmatrix}\n",
    "1\\\\\n",
    "-1\\\\\n",
    "0\n",
    "\\end{bmatrix},\n",
    "\\begin{bmatrix}\n",
    "1\\\\\n",
    "1\\\\\n",
    "1\n",
    "\\end{bmatrix}\n",
    ")\\\\[1em]\n",
    "\\mathbf W &= \\mathrm{span}(\\begin{bmatrix}-1\\\\-1\\\\2\\end{bmatrix})\\\\\n",
    "\\end{aligned}\n",
    "$$\n",
    "\n",
    "How do we know whether $\\mathbf V$ and $\\mathbf W$ are orthogonal?"
   ]
  },
  {
   "cell_type": "markdown",
   "id": "45bfbf31",
   "metadata": {
    "slideshow": {
     "slide_type": "slide"
    }
   },
   "source": [
    "**Observation** Let $V$ and $W$ be two sets of vectors $\\subseteq \\mathbb R^n$. \n",
    "\n",
    "$\\mathrm{span}(V)$ is orthogonal to $\\mathrm{span}(W)$ if and only if for all $\\mathbf v\\in V, \\mathbf w \\in W$: $\\mathbf v$ and $\\mathbf w$ are orthogonal.\n",
    "\n",
    "*Proof*\n",
    "\n",
    "Suppose $\\mathrm{span}(V)$ is orthogonal to $\\mathrm{span}(W)$. If $\\mathbf v\\in V$, then $\\mathbf v\\in\\mathrm{span}(V)$, and likewise for $\\mathbf w$. Hence $\\mathbf v$ and $\\mathbf w$ are orthogonal.\n",
    "\n",
    "Now suppose for all $\\mathbf v\\in V, \\mathbf w \\in W$: $\\mathbf v$ and $\\mathbf w$ are orthogonal. Let $\\mathbf x\\in\\mathrm{span}(V)$ and $\\mathbf y\\in\\mathrm{span}(W)$.\n",
    "\n",
    "If $\\mathbf x\\in\\mathrm{span}(V)$ and $\\mathbf y\\in\\mathrm{span}(W)$, $\\mathbf x = \\sum_i r_i\\mathbf v_i$, $\\mathbf y = \\sum_j s_j\\mathbf w_j$ for $r_1,\\ldots,r_{|V|}, s_1,\\ldots,s_{|W|}\\in \\mathbb R$.\n",
    "\n",
    "$$\n",
    "\\begin{aligned}\n",
    "\\mathbf x^T\\mathbf y &= (\\sum_i r_i\\mathbf v_i)^T(\\sum_j s_i\\mathbf w_j)\\\\\n",
    "        &= \\sum_i (r_i\\mathbf v_i)^T(\\sum_j s_j\\mathbf w_j)\\\\\n",
    "        &= \\sum_i \\sum_j(r_i\\mathbf v_i)^T( s_j\\mathbf w_j)\\\\\n",
    "        &= \\sum_i \\sum_jr_i\\mathbf v_i^T( s_j\\mathbf w_j)\\\\\n",
    "        &= \\sum_i \\sum_jr_is_j\\mathbf v_i^T\\mathbf w_j\\\\\n",
    "        &= \\sum_i \\sum_jr_is_j\\mathbf 0\\\\\n",
    "        &= \\mathbf 0\\\\\n",
    "\\end{aligned}\n",
    "$$\n",
    "\n",
    "$\\dashv$"
   ]
  },
  {
   "cell_type": "markdown",
   "id": "dc598cd9",
   "metadata": {
    "slideshow": {
     "slide_type": "slide"
    }
   },
   "source": [
    "**Observation**\n",
    "\n",
    "Let $A$ be an $m\\times n$ matrix. Then\n",
    "\n",
    "- the column space $C(A)$ is orthogonal to the left null space $C(A^T)$, and\n",
    "- the row space $C(A^T)$ is orthogonal to the null space $N(A)$.\n",
    "\n",
    "*Proof*\n",
    "\n",
    "The column space of $A$ is $\\mathrm{span}(\\{\\mathbf a_i|1\\leq i \\leq n\\})$. If $\\mathbf x$ is in the left null space of $A$, this means that\n",
    "\n",
    "$$\n",
    "A^T \\mathbf x = \\mathbf 0\n",
    "$$\n",
    "\n",
    "It follows that \n",
    "\n",
    "$$\n",
    "\\forall i:\\mathbf a_i^T\\mathbf x = \\mathbf 0\n",
    "$$\n",
    "\n",
    "Due to the previous observation, it follows that $C(A)$ is orthogonal to $N(A^T)$. \n",
    "\n",
    "The proof of the second statement is analogous.\n",
    "\n",
    "$\\dashv$"
   ]
  },
  {
   "cell_type": "markdown",
   "id": "fa0c7df2",
   "metadata": {
    "slideshow": {
     "slide_type": "slide"
    }
   },
   "source": [
    "## Orthogonal projections\n",
    "\n",
    "Suppose we have two vectors $\\mathbf a$ and $\\mathbf b$. We want to find the *orthogonal projection from $\\mathbf a$ onto the line through $\\mathbf b$*. This is a vector $\\mathbf p$ with the properties:\n",
    "\n",
    "- $\\mathbf p = x\\mathbf b$ ($\\mathbf p$ lies on the line defined by $\\mathbf a$)\n",
    "- $\\mathbf a - \\mathbf p$ is orthogonal to $\\mathbf b$\n",
    "\n",
    "Here is how we find $\\mathbf p$:\n",
    "\n",
    "$$\n",
    "\\begin{aligned}\n",
    "(\\mathbf a - x\\mathbf b)^T\\mathbf b &= 0\\\\\n",
    "(\\mathbf a^T - x\\mathbf b^T)\\mathbf b &= 0\\\\\n",
    "\\mathbf a^T\\mathbf b - x\\mathbf b^T\\mathbf b &= 0\\\\\n",
    "\\mathbf a^T\\mathbf b &= x\\mathbf b^T\\mathbf b\\\\\n",
    "x &= \\frac{\\mathbf a^T\\mathbf b}{\\mathbf b^T\\mathbf b}\\\\\n",
    "\\mathbf p &= \\frac{\\mathbf a^T\\mathbf b}{\\mathbf b^T\\mathbf b}\\mathbf b\\\\\n",
    "\\end{aligned}\n",
    "$$\n",
    "\n",
    "- $\\mathbf p$ is called the *projection of $\\mathbf a$ onto the line throuhg $\\mathbf b$*.\n",
    "- $\\mathbf e = \\mathbf a - \\mathbf p$ is called the *error*.\n",
    "- $\\mathbf p$ is the point on the line through $\\mathbf b$ which is closest to $\\mathbf a$, i.e., the point which minimizes the error."
   ]
  },
  {
   "cell_type": "markdown",
   "id": "f23861d7",
   "metadata": {
    "slideshow": {
     "slide_type": "slide"
    }
   },
   "source": [
    "## Orthogonal projections\n",
    "\n",
    "Now suppose we have a matrix $A$ and a vector $\\mathbf b$, and we want to find the *orthogonal projection of  $\\mathbf b$ onto the* ***column space*** of $A$.\n",
    "\n",
    "In other words, we want to find the point $\\mathbf p$ which\n",
    "\n",
    "- is in the column space of $A$, and\n",
    "- minimizes the error $\\mathbf b-\\mathbf p$.\n",
    "\n"
   ]
  },
  {
   "cell_type": "markdown",
   "id": "a0186408",
   "metadata": {},
   "source": [
    "\n",
    "<img src=_img/projection.svg>\n",
    "\n",
    "(image from https://medium.com/linear-algebra/part-17-projections-122aac21b07c)\n",
    "    "
   ]
  },
  {
   "cell_type": "markdown",
   "id": "b7a8467e",
   "metadata": {
    "slideshow": {
     "slide_type": "slide"
    }
   },
   "source": [
    "- assumptions:\n",
    "\n",
    "$$\n",
    "\\begin{aligned}\n",
    "Ax &= \\mathbf p\\\\\n",
    "\\mathbf p + \\mathbf e &= \\mathbf b\\\\\n",
    "A^T\\mathbf e &= \\mathbf 0\n",
    "\\end{aligned}\n",
    "$$\n",
    "\n",
    "- finding the solution\n",
    "\n",
    "Let us assume that the columns of $A$ are independent. (If this is not the case, we can replace $A$ by some basis of $C(A)$.\n",
    "\n"
   ]
  },
  {
   "cell_type": "markdown",
   "id": "1c4c9de6",
   "metadata": {
    "slideshow": {
     "slide_type": "slide"
    }
   },
   "source": [
    "\n",
    "\n",
    "**Observation** $(A^TA)$ is invertible if and only if the columns of $A$ are independent.\n",
    "\n",
    "*Proof*\n",
    "\n",
    "\n",
    "Suppose $(A^TA)$ is invertible, and let $A\\mathbf x = \\mathbf 0$. Then it follows\n",
    "\n",
    "$$\n",
    "\\begin{aligned}\n",
    "A^TA\\mathbf x &= A^T\\mathbf 0\\\\\n",
    "A^TA\\mathbf x &= \\mathbf 0\\\\\n",
    "\\mathbf x &= (A^TA)^{-1}\\mathbf 0\\\\\n",
    "&= \\mathbf 0\n",
    "\\end{aligned}\n",
    "$$\n",
    "This entails that the columns of $A$ are independent.\n",
    "\n",
    "Now suppose the columns of $A$ are independent. The Gauss-Jordan elimination factorizes\n",
    "\n",
    "$$\n",
    "A^T = E R,\n",
    "$$\n",
    "where $E$ is the combined elimination matrix and $R$ is the reduced row echelon form of $A^T$.\n",
    "\n",
    "As shown earlier today, $E$ is invertible.\n",
    "\n",
    "If the columns of $A$ are independent, $R$ contains $n$ pivot columns, and no free column. It follows that\n",
    "\n",
    "$$\n",
    "R^T R = \\mathbf I,\n",
    "$$\n",
    "\n",
    "since the dot product of a pivot column with itself must be $1$, and the dot product of two different pivot columns must be $0$.\n",
    "\n"
   ]
  },
  {
   "cell_type": "markdown",
   "id": "f5f3273f",
   "metadata": {
    "slideshow": {
     "slide_type": "slide"
    }
   },
   "source": [
    "Then we have:\n",
    "\n",
    "$$\n",
    "\\begin{aligned}\n",
    "A^TA &= ERR^T E^T\\\\\n",
    "&= E~\\mathbf I~ E^T\\\\\n",
    "&= E E^T\\\\\n",
    "\\end{aligned}\n",
    "$$\n",
    "\n",
    "By construction, $E$ is invertible. Therefore\n",
    "\n",
    "$$\n",
    "(A^TA)^{-1} = (E^{-1})^T E^{-1}\n",
    "$$\n",
    "\n",
    "$\\dashv$"
   ]
  },
  {
   "cell_type": "markdown",
   "id": "41b67139",
   "metadata": {
    "slideshow": {
     "slide_type": "slide"
    }
   },
   "source": [
    "- deriving the solution:\n",
    "\n",
    "$$\n",
    "\\begin{aligned}\n",
    "A\\mathbf x &= \\mathbf p\\\\\n",
    "\\mathbf p + \\mathbf e &= \\mathbf b\\\\\n",
    "A^T\\mathbf e &= \\mathbf 0\\\\\n",
    "A^T\\mathbf b &= A^T\\mathbf p + A^T\\mathbf e\\\\\n",
    "A^T\\mathbf b &= A^T\\mathbf p\\\\\n",
    "&= A^T A\\mathbf x\\\\\n",
    "\\mathbf x &= (A^T A)^{-1}A^T\\mathbf b\\\\\n",
    "\\mathbf p &= A(A^T A)^{-1}A^T\\mathbf b\\\\\n",
    "\\end{aligned}\n",
    "$$\n"
   ]
  },
  {
   "cell_type": "markdown",
   "id": "5939ab18",
   "metadata": {},
   "source": [
    "See https://book.stat420.org/collinearity.html about the relevance of this for statistics."
   ]
  },
  {
   "cell_type": "code",
   "execution_count": null,
   "id": "1931eaea",
   "metadata": {},
   "outputs": [],
   "source": []
  }
 ],
 "metadata": {
  "@webio": {
   "lastCommId": null,
   "lastKernelId": null
  },
  "celltoolbar": "Slideshow",
  "kernelspec": {
   "display_name": "Python 3 (ipykernel)",
   "language": "python",
   "name": "python3"
  },
  "language_info": {
   "codemirror_mode": {
    "name": "ipython",
    "version": 3
   },
   "file_extension": ".py",
   "mimetype": "text/x-python",
   "name": "python",
   "nbconvert_exporter": "python",
   "pygments_lexer": "ipython3",
   "version": "3.8.18"
  },
  "latex_envs": {
   "LaTeX_envs_menu_present": true,
   "autoclose": false,
   "autocomplete": true,
   "bibliofile": "biblio.bib",
   "cite_by": "apalike",
   "current_citInitial": 1,
   "eqLabelWithNumbers": true,
   "eqNumInitial": 1,
   "hotkeys": {
    "equation": "Ctrl-E",
    "itemize": "Ctrl-I"
   },
   "labels_anchors": false,
   "latex_user_defs": false,
   "report_style_numbering": false,
   "user_envs_cfg": false
  },
  "varInspector": {
   "cols": {
    "lenName": 16,
    "lenType": 16,
    "lenVar": 40
   },
   "kernels_config": {
    "python": {
     "delete_cmd_postfix": "",
     "delete_cmd_prefix": "del ",
     "library": "var_list.py",
     "varRefreshCmd": "print(var_dic_list())"
    },
    "r": {
     "delete_cmd_postfix": ") ",
     "delete_cmd_prefix": "rm(",
     "library": "var_list.r",
     "varRefreshCmd": "cat(var_dic_list()) "
    }
   },
   "types_to_exclude": [
    "module",
    "function",
    "builtin_function_or_method",
    "instance",
    "_Feature"
   ],
   "window_display": false
  }
 },
 "nbformat": 4,
 "nbformat_minor": 5
}
