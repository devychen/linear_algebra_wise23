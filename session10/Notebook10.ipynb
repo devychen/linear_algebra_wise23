{
 "cells": [
  {
   "cell_type": "code",
   "execution_count": 1,
   "id": "6b6d3e8a",
   "metadata": {
    "slideshow": {
     "slide_type": "skip"
    }
   },
   "outputs": [],
   "source": [
    "import sympy\n",
    "from sympy import Matrix, Rational, sqrt, symbols, zeros, simplify, exp\n",
    "import numpy as np\n",
    "import matplotlib.pyplot as plt\n",
    "import ipywidgets as widgets\n",
    "from ipywidgets import interact, interactive, fixed, interact_manual\n",
    "import matplotlib.pyplot as plt\n",
    "%matplotlib notebook\n"
   ]
  },
  {
   "cell_type": "markdown",
   "id": "17d690f6",
   "metadata": {
    "hide_input": true,
    "slideshow": {
     "slide_type": "slide"
    }
   },
   "source": [
    "# Linear algebra\n",
    "\n",
    "## Session 10: \n",
    "\n",
    "## Gerhard Jäger\n",
    "\n",
    "### January 11, 2024"
   ]
  },
  {
   "cell_type": "markdown",
   "id": "1d35b521",
   "metadata": {
    "slideshow": {
     "slide_type": "slide"
    }
   },
   "source": [
    "### Facts about eigenvalues and eigenvectors\n",
    "\n",
    "- An $n\\times n$ matrix has between 0 and $n$ eigenvalues.\n",
    "- Each eigenvalue has a certain *algebraic multiplicity* between $1$ and $n$.\n",
    "- The sum of the algebraic multiplicities is $\\leq n$.\n",
    "- For each eigenvalue, there is a number $k$ of linearly independent eigenvectors. $k$ is between $1$ and the algebraic multiplicity of the eigenvalue.\n",
    "- The number of eigenvectors for an eigenvalue is called its *geometric multiplicity*."
   ]
  },
  {
   "cell_type": "markdown",
   "id": "d0476bfd",
   "metadata": {
    "slideshow": {
     "slide_type": "slide"
    }
   },
   "source": [
    "## Eigenspaces\n",
    "\n",
    "\n",
    "- **Eigenspaces** are fundamental concepts in linear algebra, associated with eigenvalues and eigenvectors of a matrix.\n",
    "- **Definition:** The eigenspace of an eigenvalue is the set of all vectors that, when multiplied by the matrix, result in a vector that is a the original vector multiplied with that eigenvalue.\n",
    "- **Mathematically:** If $A$ is a matrix and λ is an eigenvalue, then the eigenspace of λ is the set of all vectors \n",
    "$\\mathbf v$ satisfying \n",
    "$$\n",
    "A\\mathbf v=λ\\mathbf v\n",
    "$$\n"
   ]
  },
  {
   "cell_type": "markdown",
   "id": "83e1aee6",
   "metadata": {
    "slideshow": {
     "slide_type": "slide"
    }
   },
   "source": [
    "### Computing Eigenspaces\n",
    "\n",
    "To find the eigenspace of an eigenvalue:\n",
    "\n",
    "1. **Determine Eigenvalues**: Solve $ \\det(A - \\lambda I) = 0 $ to find the eigenvalues $\\lambda$.\n",
    "2. **Find Eigenvectors**: Solve $ (A - \\lambda I)\\mathbf v = 0 $ for each eigenvalue to find the corresponding eigenvectors $ \\mathbf v $.\n",
    "3. **Form Eigenspace**: The set of all eigenvectors, including the zero vector, forms the eigenspace for the eigenvalue.\n",
    "\n",
    "**Example**: For matrix $ A $ and eigenvalue $ \\lambda $, the eigenspace is the solution to $ A\\mathbf v = \\lambda \\mathbf v $.\n"
   ]
  },
  {
   "cell_type": "markdown",
   "id": "eca72ca6",
   "metadata": {
    "slideshow": {
     "slide_type": "slide"
    }
   },
   "source": [
    "### Properties and Applications of Eigenspaces\n",
    "\n",
    "**Properties**:\n",
    "- The eigenspace of an eigenvalue is a linear subspace.\n",
    "- Dimension of the eigenspace is the geometric multiplicity of the eigenvalue.\n",
    "\n",
    "**Applications**:\n",
    "- Used in diagonalization of matrices.\n",
    "- Important in fields like quantum mechanics, vibrations analysis, facial recognition, and more.\n",
    "\n",
    "**Conclusion**: Understanding eigenspaces is crucial for grasping the behavior of linear transformations and matrices.\n"
   ]
  },
  {
   "cell_type": "markdown",
   "id": "9726e107",
   "metadata": {
    "slideshow": {
     "slide_type": "slide"
    }
   },
   "source": [
    "### Example\n",
    "\n",
    "$$\n",
    "A = \\begin{bmatrix}\n",
    "7 & -1 &0\\\\\n",
    "-2 &8&0\\\\\n",
    "-4 & 4 & 6\n",
    "\\end{bmatrix}\n",
    "$$"
   ]
  },
  {
   "cell_type": "code",
   "execution_count": 14,
   "id": "2ef3436d",
   "metadata": {},
   "outputs": [
    {
     "data": {
      "text/latex": [
       "$\\displaystyle \\left[\\begin{matrix}7 & -1 & 0\\\\-2 & 8 & 0\\\\-4 & 4 & 6\\end{matrix}\\right]$"
      ],
      "text/plain": [
       "Matrix([\n",
       "[ 7, -1, 0],\n",
       "[-2,  8, 0],\n",
       "[-4,  4, 6]])"
      ]
     },
     "execution_count": 14,
     "metadata": {},
     "output_type": "execute_result"
    }
   ],
   "source": [
    "A = Matrix([\n",
    "    [7, -1, 0],\n",
    "    [-2, 8, 0],\n",
    "    [-4, 4, 6]\n",
    "])\n",
    "A"
   ]
  },
  {
   "cell_type": "code",
   "execution_count": 15,
   "id": "527861d5",
   "metadata": {},
   "outputs": [
    {
     "data": {
      "text/plain": [
       "{9: 1, 6: 2}"
      ]
     },
     "execution_count": 15,
     "metadata": {},
     "output_type": "execute_result"
    }
   ],
   "source": [
    "A.eigenvals()"
   ]
  },
  {
   "cell_type": "markdown",
   "id": "9a6238c2",
   "metadata": {},
   "source": [
    "The eigenspace for the eigenvalue 6 is the nullspace of \n",
    "\n",
    "$$\n",
    "A - 6\\mathbf I = \n",
    "\\begin{bmatrix}\n",
    "1 & -1 & 0\\\\\n",
    "-2 & 2 & 0\\\\\n",
    "-4 & 4 & 0\n",
    "\\end{bmatrix}\n",
    "$$\n",
    "\n",
    "To find it, we need to derive the reduced row echelon form:"
   ]
  },
  {
   "cell_type": "code",
   "execution_count": 24,
   "id": "c87ffd35",
   "metadata": {
    "slideshow": {
     "slide_type": "slide"
    }
   },
   "outputs": [
    {
     "data": {
      "text/latex": [
       "$\\displaystyle \\left[\\begin{matrix}1 & -1 & 0\\\\0 & 0 & 0\\\\0 & 0 & 0\\end{matrix}\\right]$"
      ],
      "text/plain": [
       "Matrix([\n",
       "[1, -1, 0],\n",
       "[0,  0, 0],\n",
       "[0,  0, 0]])"
      ]
     },
     "execution_count": 24,
     "metadata": {},
     "output_type": "execute_result"
    }
   ],
   "source": [
    "(A-6*sympy.eye(3)).rref()[0]"
   ]
  },
  {
   "cell_type": "markdown",
   "id": "15b8af6b",
   "metadata": {},
   "source": [
    "The eigenspace of $A$ for the eigenvector 6 is then the column space of\n",
    "\n",
    "$$\n",
    "\\begin{bmatrix}\n",
    "1 & 0\\\\\n",
    "1 & 0\\\\\n",
    "0 & 1\n",
    "\\end{bmatrix}\n",
    "$$"
   ]
  },
  {
   "cell_type": "markdown",
   "id": "b7fcb3e9",
   "metadata": {
    "slideshow": {
     "slide_type": "slide"
    }
   },
   "source": [
    "### Triangular matrices\n",
    "\n",
    "$$\n",
    "\\begin{aligned}\n",
    "A &= \n",
    "\\begin{bmatrix}\n",
    "1 & 4 & 1\\\\\n",
    "0 & 6 & 4\\\\\n",
    "0 & 0 & 2\n",
    "\\end{bmatrix}\\\\\n",
    "A -\\lambda \\mathbf I &= \n",
    "\\begin{vmatrix}\n",
    "1-\\lambda & 4 & 1\\\\\n",
    "0 & 6-\\lambda & 4\\\\\n",
    "0 & 0 & 2-\\lambda \n",
    "\\end{vmatrix}\\\\\n",
    "&= 0\\\\\n",
    "(1-\\lambda)(6-\\lambda)(2-\\lambda) &= 0\\\\\n",
    "\\lambda_1 &= 6\\\\\n",
    "\\lambda_2 &= 2\\\\\n",
    "\\lambda_3 &= 1\n",
    "\\end{aligned}\n",
    "$$\n",
    "\n",
    "**In triangular matrices, the diagonal entries are the eigenvalues.**"
   ]
  },
  {
   "cell_type": "markdown",
   "id": "8ffe177c",
   "metadata": {
    "slideshow": {
     "slide_type": "slide"
    }
   },
   "source": [
    "## Matrix diagonalization\n",
    "\n",
    "Let $A$ be an $n\\times n$ matrix, which has $n$ **linearly independent eigenvectors** $\\mathbf v_1,\\ldots, \\mathbf v_n$. (This means that the algebraic and the geometric multiplicities both sum up to $n$.)\n",
    "\n",
    "Let \n",
    "\n",
    "$$\n",
    "V = \\begin{bmatrix}\n",
    "| & \\cdots & |\\\\\n",
    "\\mathbf v_1&\\cdots & \\mathbf v_n\\\\\n",
    "| & \\cdots & |\\\\\n",
    "\\end{bmatrix}\n",
    "$$\n",
    "\n",
    "Let $\\lambda_1, \\ldots, \\lambda_n$ be the corresponding eigenvalues.\n",
    "\n",
    "$$\n",
    "\\begin{aligned}\n",
    "A\\mathbf v_1 &= \\lambda_1 \\mathbf v_1\\\\\n",
    " & \\vdots \\\\\n",
    "A\\mathbf v_n &= \\lambda_1 \\mathbf v_n\n",
    "\\end{aligned}\n",
    "$$\n",
    "\n"
   ]
  },
  {
   "cell_type": "markdown",
   "id": "53e48cbd",
   "metadata": {
    "slideshow": {
     "slide_type": "slide"
    }
   },
   "source": [
    "In matrix notation:\n",
    "\n",
    "$$\n",
    "\\begin{aligned}\n",
    "A\\begin{bmatrix}\n",
    "| & \\cdots & |\\\\\n",
    "\\mathbf v_1&\\cdots & \\mathbf v_n\\\\\n",
    "| & \\cdots & |\\\\\n",
    "\\end{bmatrix} &= \n",
    "\\begin{bmatrix}\n",
    "| & \\cdots & |\\\\\n",
    "\\mathbf \\lambda_1 \\mathbf v_1&\\cdots & \\lambda_n \\mathbf v_n\\\\\n",
    "| & \\cdots & |\\\\\n",
    "\\end{bmatrix}\\\\\n",
    "AV &= \\begin{bmatrix}\n",
    "| & \\cdots & |\\\\\n",
    "\\mathbf \\lambda_1 \\mathbf v_1&\\cdots & \\lambda_n \\mathbf v_n\\\\\n",
    "| & \\cdots & |\\\\\n",
    "\\end{bmatrix}\\\\\n",
    "AV &= V\\begin{bmatrix}\n",
    "\\lambda_1 & \\cdots & 0\\\\\n",
    "0 & \\ddots & 0\\\\\n",
    "0 & \\cdots & \\lambda_n\n",
    "\\end{bmatrix}\n",
    "\\end{aligned}\n",
    "$$\n"
   ]
  },
  {
   "cell_type": "markdown",
   "id": "6f38257c",
   "metadata": {
    "slideshow": {
     "slide_type": "slide"
    }
   },
   "source": [
    "Let $\\Lambda$ be the diagonal matrix with $\\lambda_1,\\ldots,\\lambda_n$ as diagonal entries.\n",
    "\n",
    "$$\n",
    "AV = V\\Lambda\n",
    "$$\n",
    "\n",
    "By assumption, $V$ has independent columns, so it is invertible. Therefore\n",
    "\n",
    "$$\n",
    "A = V\\Lambda V^{-1}\n",
    "$$\n",
    "\n",
    "It also holds that:\n",
    "\n",
    "$$\n",
    "V^{-1}AV = \\Lambda\n",
    "$$\n",
    "\n",
    "This operation is called **diagonalization** of $A$, since $A$ is converted to a diagonal matrix."
   ]
  },
  {
   "cell_type": "markdown",
   "id": "22491cad",
   "metadata": {
    "slideshow": {
     "slide_type": "slide"
    }
   },
   "source": [
    "### Example\n",
    "\n",
    "$$\n",
    "\\begin{aligned}\n",
    "A &= \\left[\\begin{matrix}0.8 & 0.3\\\\0.2 & 0.7\\end{matrix}\\right]\\\\\n",
    "V &= \n",
    "\\begin{bmatrix}\n",
    "3 & -1\\\\\n",
    "2 & 1\n",
    "\\end{bmatrix}\\\\\n",
    "\\Lambda &= \\begin{bmatrix}\n",
    "1 & 0\\\\\n",
    "0 & 0.5\n",
    "\\end{bmatrix}\\\\\n",
    "V^{-1} &= \n",
    "\\begin{bmatrix}\n",
    "0.2 & 0.2\\\\\n",
    "-0.4 & 0.6\n",
    "\\end{bmatrix}\\\\\n",
    "A &= V \\Lambda V^{-1}\\\\\n",
    "\\left[\\begin{matrix}0.8 & 0.3\\\\0.2 & 0.7\\end{matrix}\\right] &=\n",
    "\\begin{bmatrix}\n",
    "3 & -1\\\\\n",
    "2 & 1\n",
    "\\end{bmatrix}\\begin{bmatrix}\n",
    "1 & 0\\\\\n",
    "0 & 0.5\n",
    "\\end{bmatrix}\\begin{bmatrix}\n",
    "0.2 & 0.2\\\\\n",
    "-0.4 & 0.6\n",
    "\\end{bmatrix}\\\\\n",
    "\\Lambda &= V^{-1}AV\\\\\n",
    "\\begin{bmatrix}\n",
    "1 & 0\\\\\n",
    "0 & 0.5\n",
    "\\end{bmatrix} &= \\begin{bmatrix}\n",
    "0.2 & 0.2\\\\\n",
    "-0.4 & 0.6\n",
    "\\end{bmatrix}\\left[\\begin{matrix}0.8 & 0.3\\\\0.2 & 0.7\\end{matrix}\\right]\\begin{bmatrix}\n",
    "3 & -1\\\\\n",
    "2 & 1\n",
    "\\end{bmatrix}\n",
    "\\end{aligned}\n",
    "$$\n"
   ]
  },
  {
   "cell_type": "markdown",
   "id": "599fed3f",
   "metadata": {
    "slideshow": {
     "slide_type": "slide"
    }
   },
   "source": [
    "### Matrix power\n",
    "\n",
    "Suppose $\\lambda, \\mathbf v$ are an eigenvalue and a corresponding eigenvector of $A$.\n",
    "\n",
    "$$\n",
    "\\begin{aligned}\n",
    "A\\mathbf v &= \\lambda \\mathbf v\\\\\n",
    "A^2\\mathbf v &= A\\lambda \\mathbf v\\\\\n",
    "&= \\lambda A\\mathbf v\\\\\n",
    "&= \\lambda ^2 \\mathbf v\n",
    "\\end{aligned}\n",
    "$$\n",
    "\n",
    "$\\mathbf v$ is also an eigenvector of $A^2$, and $\\lambda^2$ is the corresponding eigenvalue.\n",
    "\n",
    "Likewise, $\\mathbf v$ is also an eigenvector of $A^k$, and $\\lambda^k$ is the corresponding eigenvalue."
   ]
  },
  {
   "cell_type": "markdown",
   "id": "7e5a0876",
   "metadata": {
    "slideshow": {
     "slide_type": "slide"
    }
   },
   "source": [
    "### Matrix power\n",
    "\n",
    "Suppose $A$ is diagonalizable.\n",
    "\n",
    "$$\n",
    "\\begin{aligned}\n",
    "A &= V\\Lambda V^{-1}\\\\\n",
    "A^2 &= V\\Lambda V^{-1}V\\Lambda V^{-1}\\\\\n",
    "&= V\\Lambda^2V^{-1}\\\\\n",
    "&\\vdots\\\\\n",
    "A^k &= V\\Lambda^nV^{-1}\\\\\n",
    "&= V\n",
    "\\begin{bmatrix}\n",
    "\\lambda_1^k & \\cdots & 0\\\\\n",
    "0 & \\ddots & 0\\\\\n",
    "0 & \\cdots & \\lambda_n^k\n",
    "\\end{bmatrix}\n",
    "V^{-1}\\\\\n",
    "\\end{aligned}\n",
    "$$\n",
    "\n"
   ]
  },
  {
   "cell_type": "markdown",
   "id": "43f8a52f",
   "metadata": {
    "slideshow": {
     "slide_type": "slide"
    }
   },
   "source": [
    "### Matrix inverse\n",
    "\n",
    "Suppose $A$ is a invertible matrix, $\\lambda$ is an eigenvalue, and $\\mathbf v$ a corresponding eigenvector .\n",
    "\n",
    "$$\n",
    "\\begin{aligned}\n",
    "A^{-1}A &= \\mathbf I\\\\\n",
    "A^{-1}A\\mathbf v &= \\mathbf v\\\\\n",
    "A^{-1}\\lambda\\mathbf v &= \\mathbf v\\\\\n",
    "A^{-1}\\mathbf v &= \\lambda^{-1}\\mathbf v\\\\\n",
    "\\end{aligned}\n",
    "$$\n",
    "\n",
    "- $\\mathbf v$ is also an eigenvector of $A^{-1}$.\n",
    "- The corresponding eigenvalue is $\\lambda^{-1}$.\n",
    "\n",
    "If $A$ is also diagonlizabe as $A = P\\Lambda P^{-1}$, then\n",
    "\n",
    "$$\n",
    "A^{-1} = P \\Lambda^{-1}P^{-1}\n",
    "$$\n"
   ]
  },
  {
   "cell_type": "markdown",
   "id": "62828209",
   "metadata": {
    "slideshow": {
     "slide_type": "slide"
    }
   },
   "source": [
    "### Example: Fibonacci numbers\n",
    "\n",
    "- **Fibonacci numbers:** infinite sequence of natural numbers, formed according to the rules\n",
    "\n",
    "$$\n",
    "\\begin{aligned}\n",
    "F_0 &= 0\\\\\n",
    "F_2 &= 1\\\\\n",
    "F_{n+2} &= F_n + F_{n+1}\n",
    "\\end{aligned}\n",
    "$$\n",
    "\n",
    "- $0, 1, 1, 2, 3, 5, 8, 13, 21, ...$\n",
    "\n",
    "- What is the explicit rule for $F_n$?"
   ]
  },
  {
   "cell_type": "markdown",
   "id": "779424aa",
   "metadata": {
    "slideshow": {
     "slide_type": "slide"
    }
   },
   "source": [
    "- Suppose we have $F_n$ and $F_{n+1}$. Let us put them into a vector\n",
    "    $$\n",
    "        \\mathbf x_n = \\begin{pmatrix}F_n \\\\ F_{n+1}\\end{pmatrix}\n",
    "    $$\n",
    "\n",
    "- By definition, $F_{n+2} = F_n + F_{n+1}$, and\n",
    "\n",
    "    $$\n",
    "    \\begin{aligned}\n",
    "        \\mathbf{x}_{n+1} &= \\begin{pmatrix}F_{n+1}\\\\F_{n+2}\\end{pmatrix}\\\\\n",
    "            &= \\begin{pmatrix}\n",
    "                    0 & 1\\\\\n",
    "                    1 & 1\n",
    "               \\end{pmatrix}\n",
    "               \\mathbf x_n\n",
    "    \\end{aligned}\n",
    "    $$\n",
    "- So we have\n",
    "    $$\n",
    "    \\begin{aligned}\n",
    "        \\mathbf x_0 &= \\begin{pmatrix}0\\\\1\\end{pmatrix}\\\\\n",
    "        A &= \\begin{pmatrix}\n",
    "                    0 & 1\\\\\n",
    "                    1 & 1\n",
    "               \\end{pmatrix}\\\\\n",
    "        \\mathbf x_n &= A^n \\mathbf x_0\\\\\n",
    "        F_n &= \\begin{pmatrix}\n",
    "        1\\\\0\n",
    "        \\end{pmatrix}^T\n",
    "        A^n \\mathbf x_0\n",
    "    \\end{aligned}\n",
    "    $$\n",
    "    \n",
    "To write an explicit formula, we need to diagonize $A$."
   ]
  },
  {
   "cell_type": "markdown",
   "id": "1561899a",
   "metadata": {
    "slideshow": {
     "slide_type": "slide"
    }
   },
   "source": [
    "**1. Find eigenvalues**\n",
    "\n",
    "$$\n",
    "\\begin{aligned}\n",
    "    \\left|\\begin{pmatrix}\n",
    "    -\\lambda & 1\\\\\n",
    "    1 & 1-\\lambda\n",
    "    \\end{pmatrix}\\right| &= 0\\\\\n",
    "    \\lambda^2-\\lambda-1 &= 0\\\\\n",
    "    \\lambda_{1/2} &= \\frac{1}{2} \\pm \\frac{\\sqrt{5}}{2}\\\\\n",
    "    \\lambda _1 &= \\phi\\\\\n",
    "    \\lambda_2 &=  1-\\phi\n",
    "\\end{aligned}\n",
    "$$\n",
    "\n",
    "Here, $\\phi = \\frac{1+\\sqrt{5}}{2}$ is the *Golden Ratio*.\n",
    "\n",
    "It has the interesting property that \n",
    "$$\n",
    "\\phi (\\phi-1) = 1\n",
    "$$\n"
   ]
  },
  {
   "cell_type": "markdown",
   "id": "ebeca2c8",
   "metadata": {
    "slideshow": {
     "slide_type": "slide"
    }
   },
   "source": [
    "\n",
    "\n",
    "**2. Find eigenvectors**\n",
    "\n",
    "- $\\lambda_1 = \\phi$\n",
    "    - find nullspace of\n",
    "    \n",
    "    $$\n",
    "    \\begin{pmatrix}\n",
    "    -\\phi & 1\\\\\n",
    "    1 & 1-\\phi\n",
    "    \\end{pmatrix}\n",
    "    $$\n",
    "    - solution:\n",
    "    $$\n",
    "    \\begin{aligned}\n",
    "    \\mathbf v_1 &= \\begin{pmatrix}\n",
    "    \\phi-1\\\\\n",
    "    1\n",
    "    \\end{pmatrix}\n",
    "    \\end{aligned}\n",
    "    $$\n",
    "- $\\lambda_2 = 1-\\phi$\n",
    "    - find nullspace of\n",
    "    \n",
    "    $$\n",
    "    \\begin{pmatrix}\n",
    "    \\phi-1 & 1\\\\\n",
    "    1 & \\phi\n",
    "    \\end{pmatrix}\n",
    "    $$\n",
    "    - solution:\n",
    "    $$\n",
    "    \\mathbf v_2 = \\begin{pmatrix}\n",
    "    -\\phi\\\\\n",
    "    1\n",
    "    \\end{pmatrix}\n",
    "    $$\n",
    "\n"
   ]
  },
  {
   "cell_type": "markdown",
   "id": "045742cf",
   "metadata": {
    "slideshow": {
     "slide_type": "slide"
    }
   },
   "source": [
    "\n",
    "**3. diagonalize matrix**\n",
    "\n",
    "$$\n",
    "\\begin{aligned}\n",
    "V &= \\begin{pmatrix}\n",
    "\\phi-1 & -\\phi\\\\\n",
    "1 & 1\n",
    "\\end{pmatrix}\\\\\n",
    "V^{-1} &= \\frac{\\sqrt 5}{5}\\begin{pmatrix}\n",
    "1 & \\phi\\\\\n",
    "-1 & \\phi-1\n",
    "\\end{pmatrix}\\\\\n",
    "\\Lambda &= \\begin{pmatrix}\n",
    "\\phi & 0\\\\\n",
    "0 & 1-\\phi\n",
    "\\end{pmatrix}\\\\\n",
    "A &= V \\Lambda V^{-1}\n",
    "\\end{aligned}\n",
    "$$"
   ]
  },
  {
   "cell_type": "markdown",
   "id": "79fb99ca",
   "metadata": {
    "slideshow": {
     "slide_type": "slide"
    }
   },
   "source": [
    "**Solution**\n",
    "\n",
    "$$\n",
    "\\begin{aligned}\n",
    "F_n &= \\begin{pmatrix}1\\\\0\\end{pmatrix}^T A^n \\mathbf x_0\\\\\n",
    "&= \\begin{pmatrix}1\\\\0\\end{pmatrix}^TV \\Lambda^nV^{-1}\\begin{pmatrix}0\\\\1\\end{pmatrix}\\\\\n",
    "\\begin{pmatrix}1\\\\0\\end{pmatrix}^T V  &= \\begin{pmatrix}1\\\\0\\end{pmatrix}^T \\begin{pmatrix}\n",
    "\\phi-1 & -\\phi\\\\\n",
    "1 & 1\n",
    "\\end{pmatrix}\\\\\n",
    "&= \\begin{pmatrix}\n",
    "\\phi-1 \\\\ -\\phi\n",
    "\\end{pmatrix}^T\\\\\n",
    "V^{-1}\\begin{pmatrix}0\\\\1\\end{pmatrix} &= \\frac{\\sqrt 5}{5}\\begin{pmatrix}\n",
    "1 & \\phi\\\\\n",
    "-1 & \\phi-1\n",
    "\\end{pmatrix}\\begin{pmatrix}0\\\\1\\end{pmatrix}\\\\\n",
    "&= \\frac{\\sqrt 5}{5}\\begin{pmatrix}\n",
    "\\phi\\\\\n",
    "\\phi-1\n",
    "\\end{pmatrix}\\\\\n",
    "F_n &= \\frac{\\sqrt 5}{5}\\begin{pmatrix}\n",
    "\\phi-1 \\\\ -\\phi\n",
    "\\end{pmatrix}^T\n",
    "\\begin{pmatrix}\n",
    "\\phi^n & 0\\\\\n",
    "0 & (1-\\phi)^n\n",
    "\\end{pmatrix}\n",
    "\\begin{pmatrix}\n",
    "\\phi\\\\\n",
    "\\phi-1\n",
    "\\end{pmatrix}\\\\\n",
    "&= \\frac{\\sqrt 5}{5}\n",
    "\\begin{pmatrix}\n",
    "\\phi-1 \\\\ -\\phi\n",
    "\\end{pmatrix}^T\n",
    "\\begin{pmatrix}\n",
    "\\phi^{n+1}\\\\\n",
    "-(1-\\phi)^{n+1}\n",
    "\\end{pmatrix}\\\\\n",
    "&= \\frac{\\sqrt 5}{5} ((\\phi-1)\\phi^{n+1} + \\phi(1-\\phi)^{n+1})\\\\\n",
    "&= \\frac{\\sqrt 5}{5} (\\phi^n - (1-\\phi)^n)\n",
    "\\end{aligned}\n",
    "$$"
   ]
  },
  {
   "cell_type": "markdown",
   "id": "68ab6a88",
   "metadata": {
    "slideshow": {
     "slide_type": "slide"
    }
   },
   "source": [
    "##### Matrix exponential\n",
    "\n",
    "If $A$ is diagonalizable:\n",
    "\n",
    "$$\n",
    "e^A = V\n",
    "\\begin{bmatrix}\n",
    "e^\\lambda_1 & \\cdots & 0\\\\\n",
    "0 & \\ddots & 0\\\\\n",
    "0 & \\cdots & e^\\lambda_n\n",
    "\\end{bmatrix}\n",
    "V^{-1}\\\\\n",
    "$$\n",
    "\n"
   ]
  },
  {
   "cell_type": "markdown",
   "id": "f4f9b580",
   "metadata": {
    "slideshow": {
     "slide_type": "slide"
    }
   },
   "source": [
    "## Defective matrices\n",
    "\n",
    "**Defective Matrices** are square matrices that lack a complete set of linearly independent eigenvectors.\n",
    "\n",
    "- **Characteristics**:\n",
    "  - Cannot be diagonalized.\n",
    "  - The geometric multiplicity of at least one eigenvalue is less than its algebraic multiplicity.\n",
    "- **Implications**:\n",
    "  - Standard techniques like diagonalization are not directly applicable.\n",
    "  - Requires alternative methods for analysis, like Jordan canonical form."
   ]
  },
  {
   "cell_type": "markdown",
   "id": "d26a542e",
   "metadata": {
    "slideshow": {
     "slide_type": "slide"
    }
   },
   "source": [
    "### Algebraic vs Geometric Multiplicity\n",
    "\n",
    "The concept of a defective matrix is rooted in the difference between algebraic and geometric multiplicities of eigenvalues.\n",
    "\n",
    "- **Algebraic Multiplicity**: The number of times an eigenvalue appears as a root of the characteristic polynomial.\n",
    "- **Geometric Multiplicity**: The number of linearly independent eigenvectors associated with an eigenvalue (= the dimensionality of the corresponding eigenspace).\n",
    "\n",
    "**Defective Matrix Criterion**: A matrix is defective if, for any eigenvalue, its geometric multiplicity is less than its algebraic multiplicity.\n"
   ]
  },
  {
   "cell_type": "markdown",
   "id": "7374f6ed",
   "metadata": {
    "slideshow": {
     "slide_type": "slide"
    }
   },
   "source": [
    "### Diagonalization and Defective Matrices\n",
    "\n",
    "Diagonalization is a key concept in understanding defective matrices.\n",
    "\n",
    "- **Diagonalizable Matrix**: Can be expressed as $$P^{-1}AP = \\Lambda,$$ where $ A $ is the matrix, $ P $ contains the eigenvectors, and $ \\Lambda $ is a diagonal matrix of eigenvalues.\n",
    "- **Defective Matrix**: Lacks enough linearly independent eigenvectors to form matrix $ P $, making diagonalization impossible.\n",
    "\n",
    "**Result**: Alternative methods, like *Jordan canonical form*, are needed to analyze defective matrices.\n"
   ]
  },
  {
   "cell_type": "markdown",
   "id": "0f72f4ba",
   "metadata": {
    "slideshow": {
     "slide_type": "slide"
    }
   },
   "source": [
    "### Example of a Defective Matrix\n",
    "\n",
    "Consider the matrix $$ A = \\begin{pmatrix} 5 & 4 \\\\ -1 & 1 \\end{pmatrix} $$.\n",
    "\n",
    "- **Characteristic Polynomial**: $$ (5 - \\lambda)(1 - \\lambda) + 4,$$ leads to a single eigenvalue $\\lambda = 3$ with algebraic multiplicity 2.\n",
    "- **Eigenvectors**: Solving $$(A - 3I)\\mathbf v = 0$$ yields only one linearly independent eigenvector, $\\begin{pmatrix}-2\\\\1\\end{pmatrix}$.\n",
    "\n",
    "**Conclusion**: Matrix $A$ is defective as it has fewer linearly independent eigenvectors than the algebraic multiplicity of its eigenvalue."
   ]
  },
  {
   "cell_type": "markdown",
   "id": "1f72ddd9",
   "metadata": {
    "slideshow": {
     "slide_type": "slide"
    }
   },
   "source": [
    "### Working with Defective Matrices\n",
    "\n",
    "Handling defective matrices requires alternative approaches:\n",
    "\n",
    "- **Jordan Canonical Form**: A way to bring matrices to a nearly diagonal form, useful for defective matrices.\n",
    "- **Applications**:\n",
    "  - In fields where diagonalization is crucial but not directly applicable.\n",
    "  - In studying systems with complex or repeated eigenvalues.\n",
    "\n",
    "\n"
   ]
  },
  {
   "cell_type": "markdown",
   "id": "e70a72fd",
   "metadata": {
    "slideshow": {
     "slide_type": "slide"
    }
   },
   "source": [
    "### Jordan Canonical Form: An Introduction\n",
    "\n",
    "**Jordan Canonical Form** (JCF) is a fundamental concept in linear algebra for simplifying the study of linear transformations and matrices.\n",
    "\n",
    "- **Purpose**: Provides a simplified form for matrices, especially useful for non-diagonalizable (defective) matrices.\n",
    "- **Structure**: Consists of Jordan blocks along its diagonal, representing the eigenvalues of the matrix.\n"
   ]
  },
  {
   "cell_type": "markdown",
   "id": "d432988c",
   "metadata": {
    "slideshow": {
     "slide_type": "slide"
    }
   },
   "source": [
    "### Understanding Jordan Blocks\n",
    "\n",
    "A **Jordan Block** is a key component of the Jordan Canonical Form.\n",
    "\n",
    "- **Definition**: A square matrix with an eigenvalue repeated along the main diagonal, ones on the superdiagonal, and zeros elsewhere.\n",
    "- **Example**:\n",
    "  - A 3x3 Jordan block for eigenvalue $ \\lambda $ looks like:\n",
    "    $$\n",
    "    \\begin{pmatrix}\n",
    "    \\lambda & 1 & 0 \\\\\n",
    "    0 & \\lambda & 1 \\\\\n",
    "    0 & 0 & \\lambda\n",
    "    \\end{pmatrix}\n",
    "    $$\n",
    "\n",
    "**Significance**: Each Jordan block corresponds to an eigenvalue and its associated generalized eigenvectors.\n"
   ]
  },
  {
   "cell_type": "markdown",
   "id": "e17a0f31",
   "metadata": {
    "slideshow": {
     "slide_type": "slide"
    }
   },
   "source": [
    "### Generalized Eigenvectors\n",
    "\n",
    "**Generalized Eigenvectors** are essential in constructing the Jordan Canonical Form.\n",
    "\n",
    "- **Definition**: Vectors that are not eigenvectors but satisfy $$(A - \\lambda I)^k v = 0$$ for some integer $$k > 1$$.\n",
    "- **Role**: Used when a matrix does not have enough linearly independent eigenvectors (defective matrix).\n",
    "- **Significance**: Help in forming the Jordan blocks where each block corresponds to an eigenvalue and its generalized eigenvectors.\n"
   ]
  },
  {
   "cell_type": "markdown",
   "id": "544ad4cc",
   "metadata": {
    "slideshow": {
     "slide_type": "slide"
    }
   },
   "source": [
    "### Example\n",
    "\n",
    "$$\n",
    "\\begin{aligned}\n",
    "A &= \\begin{pmatrix}\n",
    "5 & 4\\\\\n",
    "-1 &1\n",
    "\\end{pmatrix}\\\\\n",
    "\\lambda &= 3\\\\\n",
    "A-\\lambda\\mathbf I &= \\begin{pmatrix}\n",
    "2 & 4\\\\\n",
    "-1 &-2\n",
    "\\end{pmatrix}\\\\\n",
    "(A-\\lambda\\mathbf I)^2 &= \\begin{pmatrix}\n",
    "0 & 0\\\\\n",
    "0 &0\n",
    "\\end{pmatrix}\\\\\n",
    "\\end{aligned}\n",
    "$$\n",
    "\n",
    "- eigenvector: $\\begin{pmatrix}2\\\\-1\\end{pmatrix}$\n",
    "- generalized eigenvector: $\\begin{pmatrix}1\\\\0\\end{pmatrix}$\n",
    "- Jordan Canonical Form:\n",
    "\n",
    "$$\n",
    "\\begin{aligned}\n",
    "A &= \n",
    "\\begin{pmatrix}\n",
    "2 &1\\\\\n",
    "-1 & 0\n",
    "\\end{pmatrix}\n",
    "\\begin{pmatrix}\n",
    "3 &1\\\\\n",
    "0 & 3\n",
    "\\end{pmatrix}\n",
    "\\begin{pmatrix}\n",
    "0 &-1\\\\\n",
    "1 & 2\n",
    "\\end{pmatrix}\n",
    "\\end{aligned}\n",
    "$$\n"
   ]
  },
  {
   "cell_type": "markdown",
   "id": "6ce58e34",
   "metadata": {
    "slideshow": {
     "slide_type": "slide"
    }
   },
   "source": [
    "### Applications of Jordan Canonical Form\n",
    "\n",
    "**Jordan Canonical Form** is used for:\n",
    "\n",
    "- **Simplifying Matrix Powers and Polynomials**:\n",
    "  - Easier computation of $ A^n $ for matrix powers.\n",
    "- **Computing Matrix Exponential**:\n",
    "  - Useful in solving systems of linear differential equations by simplifying $ e^{At} $.\n",
    "- **Theoretical Analysis**:\n",
    "  - Provides insights into the structure and behavior of linear transformations.\n",
    "\n",
    "*Note*: The next slides detail the computation of matrix powers and exponentials using JCF.\n"
   ]
  },
  {
   "cell_type": "markdown",
   "id": "5bb7e118",
   "metadata": {
    "slideshow": {
     "slide_type": "slide"
    }
   },
   "source": [
    "### Computing Matrix Power using JCF\n",
    "\n",
    "To compute $ A^n $ for a defective matrix $ A $:\n",
    "\n",
    "There is a matrix $P$ such that each column is a generalized eigenvector of $A$, allowing the following decomposition (we will skip the algorithm how to find $P$):\n",
    "\n",
    "1. **JCF Decomposition**:\n",
    "   - Decompose $ A $ into its JCF, $$ A = PJP^{-1} $$.\n",
    "2. **Compute Power of JCF**:\n",
    "   - Compute $ J^n $, which is simpler due to the Jordan block structure.\n",
    "3. **Transform Back**:\n",
    "   - Compute $$ A^n = PJ^nP^{-1} $$.\n",
    "\n",
    "*Example*: For a Jordan block $$ J = \\begin{pmatrix} \\lambda & 1 \\\\ 0 & \\lambda \\end{pmatrix}, $$ $ J^n $ involves $ \\lambda^n $ and terms with powers of $ n $.\n"
   ]
  },
  {
   "cell_type": "markdown",
   "id": "82a99384",
   "metadata": {
    "slideshow": {
     "slide_type": "slide"
    }
   },
   "source": [
    "# Computing Matrix Exponential using JCF\n",
    "\n",
    "To compute the matrix exponential $ e^{At} $:\n",
    "\n",
    "1. **JCF Decomposition**:\n",
    "   - Decompose $ A $ into its JCF, $ A = PJP^{-1}$.\n",
    "2. **Exponential of JCF**:\n",
    "   - Compute $ e^{Jt} $, easier for Jordan blocks.\n",
    "3. **Transform Back**:\n",
    "   - Compute $ e^{At} = Pe^{Jt}P^{-1} $.\n",
    "\n",
    "*Example*: For a Jordan block $$ J = \\begin{pmatrix} \\lambda & 1 \\\\ 0 & \\lambda \\end{pmatrix}, $$ $ e^{Jt} $ involves $ e^{\\lambda t} $ and terms with $ t $:\n",
    "\n",
    "$$\n",
    "e^{Jt} = \\begin{pmatrix}\n",
    "e^{\\lambda t} & te^{\\lambda t}\\\\\n",
    "0 & e^{\\lambda t}\n",
    "\\end{pmatrix}\n",
    "$$\n"
   ]
  },
  {
   "cell_type": "markdown",
   "id": "2755d20c",
   "metadata": {
    "slideshow": {
     "slide_type": "slide"
    }
   },
   "source": [
    "**Sympy**"
   ]
  },
  {
   "cell_type": "code",
   "execution_count": 2,
   "id": "c0fd7912",
   "metadata": {},
   "outputs": [
    {
     "data": {
      "text/latex": [
       "$\\displaystyle \\left[\\begin{matrix}5 & 4\\\\-1 & 1\\end{matrix}\\right]$"
      ],
      "text/plain": [
       "Matrix([\n",
       "[ 5, 4],\n",
       "[-1, 1]])"
      ]
     },
     "execution_count": 2,
     "metadata": {},
     "output_type": "execute_result"
    }
   ],
   "source": [
    "A = Matrix([[5, 4], [-1, 1]])\n",
    "\n",
    "A\n"
   ]
  },
  {
   "cell_type": "code",
   "execution_count": 3,
   "id": "c87c8d81",
   "metadata": {},
   "outputs": [
    {
     "name": "stdout",
     "output_type": "stream",
     "text": [
      "J: \n"
     ]
    },
    {
     "data": {
      "text/latex": [
       "$\\displaystyle \\left[\\begin{matrix}3 & 1\\\\0 & 3\\end{matrix}\\right]$"
      ],
      "text/plain": [
       "Matrix([\n",
       "[3, 1],\n",
       "[0, 3]])"
      ]
     },
     "execution_count": 3,
     "metadata": {},
     "output_type": "execute_result"
    }
   ],
   "source": [
    "P, J = A.jordan_form()\n",
    "print(\"J: \")\n",
    "J"
   ]
  },
  {
   "cell_type": "code",
   "execution_count": 4,
   "id": "9e6ad8cc",
   "metadata": {},
   "outputs": [
    {
     "name": "stdout",
     "output_type": "stream",
     "text": [
      "P: \n"
     ]
    },
    {
     "data": {
      "text/latex": [
       "$\\displaystyle \\left[\\begin{matrix}2 & 1\\\\-1 & 0\\end{matrix}\\right]$"
      ],
      "text/plain": [
       "Matrix([\n",
       "[ 2, 1],\n",
       "[-1, 0]])"
      ]
     },
     "execution_count": 4,
     "metadata": {},
     "output_type": "execute_result"
    }
   ],
   "source": [
    "print(\"P: \")\n",
    "P"
   ]
  },
  {
   "cell_type": "code",
   "execution_count": 5,
   "id": "fa89347b",
   "metadata": {},
   "outputs": [
    {
     "data": {
      "text/latex": [
       "$\\displaystyle \\left[\\begin{matrix}5 & 4\\\\-1 & 1\\end{matrix}\\right]$"
      ],
      "text/plain": [
       "Matrix([\n",
       "[ 5, 4],\n",
       "[-1, 1]])"
      ]
     },
     "execution_count": 5,
     "metadata": {},
     "output_type": "execute_result"
    }
   ],
   "source": [
    "P * J * P.inv()"
   ]
  },
  {
   "cell_type": "code",
   "execution_count": 6,
   "id": "f7f4c6f8",
   "metadata": {},
   "outputs": [],
   "source": [
    "t, k = symbols(\"t k\")"
   ]
  },
  {
   "cell_type": "code",
   "execution_count": 7,
   "id": "015f292a",
   "metadata": {},
   "outputs": [
    {
     "data": {
      "text/latex": [
       "$\\displaystyle \\left[\\begin{matrix}3^{k} & 3^{k - 1} k\\\\0 & 3^{k}\\end{matrix}\\right]$"
      ],
      "text/plain": [
       "Matrix([\n",
       "[3**k, 3**(k - 1)*k],\n",
       "[   0,         3**k]])"
      ]
     },
     "execution_count": 7,
     "metadata": {},
     "output_type": "execute_result"
    }
   ],
   "source": [
    "J**k"
   ]
  },
  {
   "cell_type": "code",
   "execution_count": 8,
   "id": "5fb3b7d3",
   "metadata": {},
   "outputs": [
    {
     "data": {
      "text/latex": [
       "$\\displaystyle \\left[\\begin{matrix}e^{3 t} & t e^{3 t}\\\\0 & e^{3 t}\\end{matrix}\\right]$"
      ],
      "text/plain": [
       "Matrix([\n",
       "[exp(3*t), t*exp(3*t)],\n",
       "[       0,   exp(3*t)]])"
      ]
     },
     "execution_count": 8,
     "metadata": {},
     "output_type": "execute_result"
    }
   ],
   "source": [
    "exp(t*J)"
   ]
  },
  {
   "cell_type": "code",
   "execution_count": 9,
   "id": "919e8607",
   "metadata": {
    "slideshow": {
     "slide_type": "slide"
    }
   },
   "outputs": [
    {
     "data": {
      "text/latex": [
       "$\\displaystyle \\left[\\begin{matrix}4 & 0 & 0 & 1\\\\0 & 4 & 1 & 0\\\\0 & 0 & 4 & 0\\\\0 & 0 & 0 & 4\\end{matrix}\\right]$"
      ],
      "text/plain": [
       "Matrix([\n",
       "[4, 0, 0, 1],\n",
       "[0, 4, 1, 0],\n",
       "[0, 0, 4, 0],\n",
       "[0, 0, 0, 4]])"
      ]
     },
     "execution_count": 9,
     "metadata": {},
     "output_type": "execute_result"
    }
   ],
   "source": [
    "A = Matrix([\n",
    "    [4, 0, 0, 1],\n",
    "    [0, 4, 1, 0],\n",
    "    [0, 0, 4, 0],\n",
    "    [0, 0, 0, 4]\n",
    "])\n",
    "A"
   ]
  },
  {
   "cell_type": "code",
   "execution_count": 10,
   "id": "92193e24",
   "metadata": {},
   "outputs": [
    {
     "name": "stdout",
     "output_type": "stream",
     "text": [
      "J: \n"
     ]
    },
    {
     "data": {
      "text/latex": [
       "$\\displaystyle \\left[\\begin{matrix}4 & 1 & 0 & 0\\\\0 & 4 & 0 & 0\\\\0 & 0 & 4 & 1\\\\0 & 0 & 0 & 4\\end{matrix}\\right]$"
      ],
      "text/plain": [
       "Matrix([\n",
       "[4, 1, 0, 0],\n",
       "[0, 4, 0, 0],\n",
       "[0, 0, 4, 1],\n",
       "[0, 0, 0, 4]])"
      ]
     },
     "execution_count": 10,
     "metadata": {},
     "output_type": "execute_result"
    }
   ],
   "source": [
    "P, J = A.jordan_form()\n",
    "print(\"J: \")\n",
    "J"
   ]
  },
  {
   "cell_type": "code",
   "execution_count": 11,
   "id": "d37ef5ab",
   "metadata": {},
   "outputs": [
    {
     "name": "stdout",
     "output_type": "stream",
     "text": [
      "P: \n"
     ]
    },
    {
     "data": {
      "text/latex": [
       "$\\displaystyle \\left[\\begin{matrix}0 & 0 & 1 & 0\\\\1 & 0 & 0 & 0\\\\0 & 1 & 0 & 0\\\\0 & 0 & 0 & 1\\end{matrix}\\right]$"
      ],
      "text/plain": [
       "Matrix([\n",
       "[0, 0, 1, 0],\n",
       "[1, 0, 0, 0],\n",
       "[0, 1, 0, 0],\n",
       "[0, 0, 0, 1]])"
      ]
     },
     "execution_count": 11,
     "metadata": {},
     "output_type": "execute_result"
    }
   ],
   "source": [
    "print(\"P: \")\n",
    "P"
   ]
  },
  {
   "cell_type": "code",
   "execution_count": 12,
   "id": "32d0728f",
   "metadata": {
    "slideshow": {
     "slide_type": "slide"
    }
   },
   "outputs": [
    {
     "data": {
      "text/latex": [
       "$\\displaystyle \\left[\\begin{matrix}4^{k} & 4^{k - 1} k & 0 & 0\\\\0 & 4^{k} & 0 & 0\\\\0 & 0 & 4^{k} & 4^{k - 1} k\\\\0 & 0 & 0 & 4^{k}\\end{matrix}\\right]$"
      ],
      "text/plain": [
       "Matrix([\n",
       "[4**k, 4**(k - 1)*k,    0,            0],\n",
       "[   0,         4**k,    0,            0],\n",
       "[   0,            0, 4**k, 4**(k - 1)*k],\n",
       "[   0,            0,    0,         4**k]])"
      ]
     },
     "execution_count": 12,
     "metadata": {},
     "output_type": "execute_result"
    }
   ],
   "source": [
    "J**k"
   ]
  },
  {
   "cell_type": "code",
   "execution_count": 13,
   "id": "3142bc4d",
   "metadata": {},
   "outputs": [
    {
     "data": {
      "text/latex": [
       "$\\displaystyle \\left[\\begin{matrix}e^{4 t} & t e^{4 t} & 0 & 0\\\\0 & e^{4 t} & 0 & 0\\\\0 & 0 & e^{4 t} & t e^{4 t}\\\\0 & 0 & 0 & e^{4 t}\\end{matrix}\\right]$"
      ],
      "text/plain": [
       "Matrix([\n",
       "[exp(4*t), t*exp(4*t),        0,          0],\n",
       "[       0,   exp(4*t),        0,          0],\n",
       "[       0,          0, exp(4*t), t*exp(4*t)],\n",
       "[       0,          0,        0,   exp(4*t)]])"
      ]
     },
     "execution_count": 13,
     "metadata": {},
     "output_type": "execute_result"
    }
   ],
   "source": [
    "exp(t*J)"
   ]
  }
 ],
 "metadata": {
  "@webio": {
   "lastCommId": null,
   "lastKernelId": null
  },
  "celltoolbar": "Slideshow",
  "hide_input": false,
  "kernelspec": {
   "display_name": "Python 3 (ipykernel)",
   "language": "python",
   "name": "python3"
  },
  "language_info": {
   "codemirror_mode": {
    "name": "ipython",
    "version": 3
   },
   "file_extension": ".py",
   "mimetype": "text/x-python",
   "name": "python",
   "nbconvert_exporter": "python",
   "pygments_lexer": "ipython3",
   "version": "3.8.18"
  },
  "latex_envs": {
   "LaTeX_envs_menu_present": true,
   "autoclose": false,
   "autocomplete": true,
   "bibliofile": "biblio.bib",
   "cite_by": "apalike",
   "current_citInitial": 1,
   "eqLabelWithNumbers": true,
   "eqNumInitial": 1,
   "hotkeys": {
    "equation": "Ctrl-E",
    "itemize": "Ctrl-I"
   },
   "labels_anchors": false,
   "latex_user_defs": false,
   "report_style_numbering": false,
   "user_envs_cfg": false
  },
  "rise": {
   "enable_chalkboard": true
  },
  "varInspector": {
   "cols": {
    "lenName": 16,
    "lenType": 16,
    "lenVar": 40
   },
   "kernels_config": {
    "python": {
     "delete_cmd_postfix": "",
     "delete_cmd_prefix": "del ",
     "library": "var_list.py",
     "varRefreshCmd": "print(var_dic_list())"
    },
    "r": {
     "delete_cmd_postfix": ") ",
     "delete_cmd_prefix": "rm(",
     "library": "var_list.r",
     "varRefreshCmd": "cat(var_dic_list()) "
    }
   },
   "types_to_exclude": [
    "module",
    "function",
    "builtin_function_or_method",
    "instance",
    "_Feature"
   ],
   "window_display": false
  }
 },
 "nbformat": 4,
 "nbformat_minor": 5
}
