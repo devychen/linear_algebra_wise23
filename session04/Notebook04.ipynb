{
 "cells": [
  {
   "cell_type": "code",
   "execution_count": 1,
   "id": "5d1f156d",
   "metadata": {
    "slideshow": {
     "slide_type": "skip"
    }
   },
   "outputs": [],
   "source": [
    "import sympy\n",
    "from sympy import Matrix, Rational, sqrt, symbols\n",
    "import numpy as np\n"
   ]
  },
  {
   "cell_type": "code",
   "execution_count": 2,
   "id": "3afd14d3",
   "metadata": {
    "slideshow": {
     "slide_type": "skip"
    }
   },
   "outputs": [],
   "source": [
    "%matplotlib notebook\n",
    "import matplotlib.pyplot as plt\n",
    "from mpl_toolkits.mplot3d import axes3d"
   ]
  },
  {
   "cell_type": "markdown",
   "id": "17d690f6",
   "metadata": {
    "slideshow": {
     "slide_type": "slide"
    }
   },
   "source": [
    "# Linear algebra\n",
    "\n",
    "## Session 04: LU decomposition\n",
    "\n",
    "## Gerhard Jäger\n",
    "\n",
    "### November 16, 2023"
   ]
  },
  {
   "cell_type": "markdown",
   "id": "f2d8ffbf",
   "metadata": {
    "slideshow": {
     "slide_type": "slide"
    }
   },
   "source": [
    "# LU decomposition\n",
    "\n",
    "### triangular matrices\n",
    "\n",
    "- an **upper triangular matrix** is a square matrix with only $0$ below the main diagonal\n"
   ]
  },
  {
   "cell_type": "code",
   "execution_count": 3,
   "id": "ffb4435e",
   "metadata": {
    "hide_input": true
   },
   "outputs": [
    {
     "data": {
      "text/latex": [
       "$\\displaystyle \\left[\\begin{matrix}1 & 1 & 1\\\\0 & 1 & 1\\\\0 & 0 & 1\\end{matrix}\\right]$"
      ],
      "text/plain": [
       "Matrix([\n",
       "[1, 1, 1],\n",
       "[0, 1, 1],\n",
       "[0, 0, 1]])"
      ]
     },
     "execution_count": 3,
     "metadata": {},
     "output_type": "execute_result"
    }
   ],
   "source": [
    "Matrix([\n",
    "    [1,1,1],\n",
    "    [0,1,1],\n",
    "    [0,0,1]\n",
    "])"
   ]
  },
  {
   "cell_type": "code",
   "execution_count": 4,
   "id": "f67c985c",
   "metadata": {
    "hide_input": true
   },
   "outputs": [
    {
     "data": {
      "text/latex": [
       "$\\displaystyle \\left[\\begin{matrix}0 & 1 & 6\\\\0 & 1 & 1\\\\0 & 0 & 0\\end{matrix}\\right]$"
      ],
      "text/plain": [
       "Matrix([\n",
       "[0, 1, 6],\n",
       "[0, 1, 1],\n",
       "[0, 0, 0]])"
      ]
     },
     "execution_count": 4,
     "metadata": {},
     "output_type": "execute_result"
    }
   ],
   "source": [
    "Matrix([\n",
    "    [0,1,6],\n",
    "    [0,1,1],\n",
    "    [0,0,0]\n",
    "])"
   ]
  },
  {
   "cell_type": "markdown",
   "id": "50ae4a84",
   "metadata": {
    "slideshow": {
     "slide_type": "slide"
    }
   },
   "source": [
    "- a **lower triangular matrix** is a square matrix with only $0$ above the main diagonal"
   ]
  },
  {
   "cell_type": "code",
   "execution_count": 5,
   "id": "14d7eaed",
   "metadata": {
    "hide_input": true
   },
   "outputs": [
    {
     "data": {
      "text/latex": [
       "$\\displaystyle \\left[\\begin{matrix}0 & 0 & 0\\\\1 & 1 & 0\\\\6 & 1 & 0\\end{matrix}\\right]$"
      ],
      "text/plain": [
       "Matrix([\n",
       "[0, 0, 0],\n",
       "[1, 1, 0],\n",
       "[6, 1, 0]])"
      ]
     },
     "execution_count": 5,
     "metadata": {},
     "output_type": "execute_result"
    }
   ],
   "source": [
    "Matrix([\n",
    "    [0,1,6],\n",
    "    [0,1,1],\n",
    "    [0,0,0]\n",
    "]).T"
   ]
  },
  {
   "cell_type": "markdown",
   "id": "d53e8138",
   "metadata": {},
   "source": [
    "- the transpose of an upper triangular matrix is lower triangular, and vice versa\n",
    "- *Gaussian elimination* transforms a matrix into an upper triangular matrix\n",
    "- *Jordan elimination* transforms a matrix into a lower triangular matrix\n",
    "- $\\Rightarrow$ Gauss-Jordan elimination produces a diagonal matrix\n",
    "\n"
   ]
  },
  {
   "cell_type": "markdown",
   "id": "492415e1",
   "metadata": {
    "slideshow": {
     "slide_type": "slide"
    }
   },
   "source": [
    "Let us focus on the Gauss part."
   ]
  },
  {
   "cell_type": "code",
   "execution_count": 6,
   "id": "fce54949",
   "metadata": {
    "hide_input": true
   },
   "outputs": [
    {
     "data": {
      "text/latex": [
       "$\\displaystyle \\left[\\begin{matrix}1 & 2 & 1\\\\3 & 2 & 4\\\\4 & 4 & 3\\end{matrix}\\right]$"
      ],
      "text/plain": [
       "Matrix([\n",
       "[1, 2, 1],\n",
       "[3, 2, 4],\n",
       "[4, 4, 3]])"
      ]
     },
     "execution_count": 6,
     "metadata": {},
     "output_type": "execute_result"
    }
   ],
   "source": [
    "A = Matrix([\n",
    "    [1,2,1],\n",
    "    [3,2,4],\n",
    "    [4,4,3]\n",
    "])\n",
    "A"
   ]
  },
  {
   "cell_type": "code",
   "execution_count": 7,
   "id": "77e3be30",
   "metadata": {},
   "outputs": [
    {
     "data": {
      "text/latex": [
       "$\\displaystyle \\left[\\begin{matrix}1 & 2 & 1\\\\0 & -4 & 1\\\\4 & 4 & 3\\end{matrix}\\right]$"
      ],
      "text/plain": [
       "Matrix([\n",
       "[1,  2, 1],\n",
       "[0, -4, 1],\n",
       "[4,  4, 3]])"
      ]
     },
     "execution_count": 7,
     "metadata": {},
     "output_type": "execute_result"
    }
   ],
   "source": [
    "E1 = Matrix([\n",
    "    [1,0,0],\n",
    "    [-3,1,0],\n",
    "    [0,0,1]\n",
    "])\n",
    "E1*A"
   ]
  },
  {
   "cell_type": "code",
   "execution_count": 8,
   "id": "1ebd7e27",
   "metadata": {},
   "outputs": [
    {
     "data": {
      "text/latex": [
       "$\\displaystyle \\left[\\begin{matrix}1 & 2 & 1\\\\0 & -4 & 1\\\\0 & -4 & -1\\end{matrix}\\right]$"
      ],
      "text/plain": [
       "Matrix([\n",
       "[1,  2,  1],\n",
       "[0, -4,  1],\n",
       "[0, -4, -1]])"
      ]
     },
     "execution_count": 8,
     "metadata": {},
     "output_type": "execute_result"
    }
   ],
   "source": [
    "E2 = Matrix([\n",
    "    [1,0,0],\n",
    "    [0,1,0],\n",
    "    [-4,0,1]\n",
    "])\n",
    "E2 * E1 * A"
   ]
  },
  {
   "cell_type": "code",
   "execution_count": 9,
   "id": "14e89e65",
   "metadata": {
    "slideshow": {
     "slide_type": "slide"
    }
   },
   "outputs": [
    {
     "data": {
      "text/latex": [
       "$\\displaystyle \\left[\\begin{matrix}1 & 2 & 1\\\\0 & -4 & 1\\\\0 & 0 & -2\\end{matrix}\\right]$"
      ],
      "text/plain": [
       "Matrix([\n",
       "[1,  2,  1],\n",
       "[0, -4,  1],\n",
       "[0,  0, -2]])"
      ]
     },
     "execution_count": 9,
     "metadata": {},
     "output_type": "execute_result"
    }
   ],
   "source": [
    "E3 = Matrix([\n",
    "    [1,0,0],\n",
    "    [0,1,0],\n",
    "    [0,-1,1]\n",
    "])\n",
    "E3 * E2 * E1 * A"
   ]
  },
  {
   "cell_type": "markdown",
   "id": "74ad00df",
   "metadata": {},
   "source": [
    "Let us call this upper triangular matrix resulting from Gauss elimination $U$.\n",
    "\n",
    "$$\n",
    "\\begin{aligned}\n",
    "U &= \\displaystyle \\left[\\begin{matrix}1 & 2 & 1\\\\0 & -4 & 1\\\\0 & 0 & -2\\end{matrix}\\right]\\\\\n",
    "E_3 E_2 E_1 A &= U\n",
    "\\end{aligned}\n",
    "$$\n",
    "\n",
    "Assuming that $E_i$ is invertible (which it is), this entails\n",
    "\n",
    "$$\n",
    "\\begin{aligned}\n",
    "A &= (E_3 E_2 E_1)^{-1} U\n",
    "\\end{aligned}\n",
    "$$"
   ]
  },
  {
   "cell_type": "markdown",
   "id": "d3e6019a",
   "metadata": {
    "slideshow": {
     "slide_type": "slide"
    }
   },
   "source": [
    "### Side remark: inverse of a matrix product\n",
    "\n",
    "- suppose both $A$ and $B$ are invertible. What is $(AB)^{-1}$?\n",
    "\n",
    "$$\n",
    "\\begin{aligned}\n",
    "(AB)^{-1} &= X\\\\\n",
    "XAB &= \\mathbf I\\\\\n",
    "XA &= \\mathbf I B^{-1}\\\\\n",
    " &= B^{-1}\\\\\n",
    " X &= B^{-1}A^{-1}\n",
    "\\end{aligned}\n",
    "$$\n",
    "\n",
    "$$\n",
    "\\Large\n",
    "    (AB)^{-1} = B^{-1}A^{-1}\n",
    "$$"
   ]
  },
  {
   "cell_type": "markdown",
   "id": "08f499c4",
   "metadata": {
    "slideshow": {
     "slide_type": "slide"
    }
   },
   "source": [
    "While we're at it: What is the transpose of a matrix product?\n",
    "\n",
    "$$\n",
    "\\begin{aligned}\n",
    "(A^TB^T)_{i,j} &= \\sum_k a^T_{ik}b^T_{kj}\\\\\n",
    "    &= \\sum_k a_{ki}b_{jk}\\\\\n",
    "    &= (BA)_{ji}\\\\\n",
    "    &=((BA)^T)_{ij}\n",
    "\\end{aligned}\n",
    "$$\n",
    "\n",
    "Therefore \n",
    "\n",
    "\n",
    "$$\n",
    "\\Large\n",
    "    (AB)^T = B^TA^T\n",
    "$$"
   ]
  },
  {
   "cell_type": "markdown",
   "id": "02689508",
   "metadata": {
    "slideshow": {
     "slide_type": "slide"
    }
   },
   "source": [
    "Still, while we're at it, what is the inverse of an transpose?\n",
    "\n",
    "$$\n",
    "\\begin{aligned}\n",
    "(A^T)^{-1} &= X\\\\\n",
    "A^T X &= \\mathbf I\\\\\n",
    "X^T A &= \\mathbf I\\\\\n",
    "X^T &= A^{-1}\\\\\n",
    "X &= (A^{-1})^T\n",
    "\\end{aligned}\n",
    "$$\n",
    "\n",
    "\n",
    "$$\n",
    "\\Large\n",
    "   (A^T)^{-1}  = (A^{-1})^T\n",
    "$$"
   ]
  },
  {
   "cell_type": "markdown",
   "id": "f88a65ab",
   "metadata": {
    "slideshow": {
     "slide_type": "slide"
    }
   },
   "source": [
    "Back to Gauss elimination.\n",
    "\n",
    "\n",
    "$$\n",
    "\\begin{aligned}\n",
    "A &= (E_3 E_2 E_1)^{-1} U\\\\\n",
    "&= E_1^{-1} E_2^{-1} E_3^{-1} U\n",
    "\\end{aligned}\n",
    "$$"
   ]
  },
  {
   "cell_type": "code",
   "execution_count": 10,
   "id": "c658a676",
   "metadata": {},
   "outputs": [
    {
     "data": {
      "text/latex": [
       "$\\displaystyle \\left[\\begin{matrix}1 & 0 & 0\\\\-3 & 1 & 0\\\\0 & 0 & 1\\end{matrix}\\right]$"
      ],
      "text/plain": [
       "Matrix([\n",
       "[ 1, 0, 0],\n",
       "[-3, 1, 0],\n",
       "[ 0, 0, 1]])"
      ]
     },
     "execution_count": 10,
     "metadata": {},
     "output_type": "execute_result"
    }
   ],
   "source": [
    "E1"
   ]
  },
  {
   "cell_type": "code",
   "execution_count": 11,
   "id": "3191ae34",
   "metadata": {},
   "outputs": [
    {
     "data": {
      "text/latex": [
       "$\\displaystyle \\left[\\begin{matrix}1 & 0 & 0\\\\3 & 1 & 0\\\\0 & 0 & 1\\end{matrix}\\right]$"
      ],
      "text/plain": [
       "Matrix([\n",
       "[1, 0, 0],\n",
       "[3, 1, 0],\n",
       "[0, 0, 1]])"
      ]
     },
     "execution_count": 11,
     "metadata": {},
     "output_type": "execute_result"
    }
   ],
   "source": [
    "E1.inv()"
   ]
  },
  {
   "cell_type": "markdown",
   "id": "fad7754a",
   "metadata": {
    "slideshow": {
     "slide_type": "slide"
    }
   },
   "source": [
    "It is generally true:\n",
    "\n",
    "- If $A$ is equal to $\\mathbf I$ except for one off-diagonal entry, then $A^{-1}$ is like $A$ except that the off-diagonal entry is multiplied with $-1$.\n",
    "    \n",
    "**consequence**: all $E_i^{-1}$ are lower triangular\n",
    "\n",
    "**fact**: The product of two lower-triangular matrices is lower triangular.\n",
    "\n",
    "**consequences**: \n",
    "\n",
    "- There is a lower-triangular matrix $L$ such that \n",
    "\n",
    "$$\n",
    "\\begin{aligned}\n",
    "A &= LU\\\\\n",
    "L &= E_1^{-1} \\cdots E_n^{-1}\n",
    "\\end{aligned}\n",
    "$$\n",
    "where $E_1, \\ldots, E_n$ are the elimination matrices corresponding to the steps of Gauss elimination."
   ]
  },
  {
   "cell_type": "markdown",
   "id": "8304ffbe",
   "metadata": {
    "slideshow": {
     "slide_type": "slide"
    }
   },
   "source": [
    "Our example:"
   ]
  },
  {
   "cell_type": "code",
   "execution_count": 12,
   "id": "5f9f1b11",
   "metadata": {},
   "outputs": [
    {
     "data": {
      "text/latex": [
       "$\\displaystyle \\left[\\begin{matrix}1 & 0 & 0\\\\3 & 1 & 0\\\\4 & 1 & 1\\end{matrix}\\right]$"
      ],
      "text/plain": [
       "Matrix([\n",
       "[1, 0, 0],\n",
       "[3, 1, 0],\n",
       "[4, 1, 1]])"
      ]
     },
     "execution_count": 12,
     "metadata": {},
     "output_type": "execute_result"
    }
   ],
   "source": [
    "L = E1.inv() * E2.inv() * E3.inv()\n",
    "L"
   ]
  },
  {
   "cell_type": "markdown",
   "id": "4d2c5e43",
   "metadata": {},
   "source": [
    "$$\n",
    "\\begin{aligned}\n",
    "A &= LU\\\\\n",
    "\\displaystyle \\left[\\begin{matrix}1 & 2 & 1\\\\3 & 2 & 4\\\\4 & 4 & 3\\end{matrix}\\right]\n",
    "&=\n",
    "\\displaystyle \\left[\\begin{matrix}1 & 0 & 0\\\\3 & 1 & 0\\\\4 & 1 & 1\\end{matrix}\\right]\n",
    "\\displaystyle \\left[\\begin{matrix}1 & 2 & 1\\\\0 & -4 & 1\\\\0 & 0 & -2\\end{matrix}\\right]\n",
    "\\end{aligned}\n",
    "$$"
   ]
  },
  {
   "cell_type": "markdown",
   "id": "1323f716",
   "metadata": {},
   "source": [
    "For each matrix $A$, there are \n",
    "- a permutation matrix $P$,\n",
    "- an upper triangular matrix $U$\n",
    "- a lower triangular matrix $L$,\n",
    "such that \n",
    "\n",
    "$$\n",
    "PA = LU\n",
    "$$"
   ]
  },
  {
   "cell_type": "markdown",
   "id": "8f122ecd",
   "metadata": {
    "slideshow": {
     "slide_type": "slide"
    }
   },
   "source": [
    "## When is a matrix invertible?\n",
    "\n",
    "The steps of Jordan elimination to not alter the diagonal. Hence, if, after Gauss elimination, we have no zeros on the diagonal, the rest of Gauss-Jordan will go through and we will find the inverse matrix.\n",
    "\n",
    "Conversely, this means:\n",
    "\n",
    "**A square matrix is invertible if and only if Gauss elimination produces an upper triangular matrix with only non-zero entries on the diagonal.**"
   ]
  },
  {
   "cell_type": "markdown",
   "id": "c6ed62ab",
   "metadata": {},
   "source": [
    "Example of a non-invertible matrix:"
   ]
  },
  {
   "cell_type": "code",
   "execution_count": 13,
   "id": "04572b84",
   "metadata": {},
   "outputs": [
    {
     "data": {
      "text/latex": [
       "$\\displaystyle \\left[\\begin{matrix}1 & -4 & 2\\\\-2 & 1 & 3\\\\2 & 6 & -10\\end{matrix}\\right]$"
      ],
      "text/plain": [
       "Matrix([\n",
       "[ 1, -4,   2],\n",
       "[-2,  1,   3],\n",
       "[ 2,  6, -10]])"
      ]
     },
     "execution_count": 13,
     "metadata": {},
     "output_type": "execute_result"
    }
   ],
   "source": [
    "B = Matrix(\n",
    "[\n",
    "    [1, -4, 2],\n",
    "    [-2, 1, 3],\n",
    "    [2,6,-10]\n",
    "])\n",
    "B"
   ]
  },
  {
   "cell_type": "code",
   "execution_count": 14,
   "id": "d82ef347",
   "metadata": {
    "slideshow": {
     "slide_type": "slide"
    }
   },
   "outputs": [
    {
     "data": {
      "text/latex": [
       "$\\displaystyle \\left[\\begin{matrix}1 & -4 & 2\\\\0 & -7 & 7\\\\2 & 6 & -10\\end{matrix}\\right]$"
      ],
      "text/plain": [
       "Matrix([\n",
       "[1, -4,   2],\n",
       "[0, -7,   7],\n",
       "[2,  6, -10]])"
      ]
     },
     "execution_count": 14,
     "metadata": {},
     "output_type": "execute_result"
    }
   ],
   "source": [
    "E1 = Matrix([\n",
    "    [1,0,0],\n",
    "    [2,1,0],\n",
    "    [0,0,1]\n",
    "])\n",
    "E1 * B"
   ]
  },
  {
   "cell_type": "code",
   "execution_count": 15,
   "id": "4ba57776",
   "metadata": {},
   "outputs": [
    {
     "data": {
      "text/latex": [
       "$\\displaystyle \\left[\\begin{matrix}1 & -4 & 2\\\\0 & -7 & 7\\\\0 & 14 & -14\\end{matrix}\\right]$"
      ],
      "text/plain": [
       "Matrix([\n",
       "[1, -4,   2],\n",
       "[0, -7,   7],\n",
       "[0, 14, -14]])"
      ]
     },
     "execution_count": 15,
     "metadata": {},
     "output_type": "execute_result"
    }
   ],
   "source": [
    "E2 = Matrix([\n",
    "    [1,0,0],\n",
    "    [0,1,0],\n",
    "    [-2,0,1]\n",
    "])\n",
    "E2 * E1 * B"
   ]
  },
  {
   "cell_type": "code",
   "execution_count": 16,
   "id": "78896d9f",
   "metadata": {},
   "outputs": [
    {
     "data": {
      "text/latex": [
       "$\\displaystyle \\left[\\begin{matrix}1 & -4 & 2\\\\0 & -7 & 7\\\\0 & 0 & 0\\end{matrix}\\right]$"
      ],
      "text/plain": [
       "Matrix([\n",
       "[1, -4, 2],\n",
       "[0, -7, 7],\n",
       "[0,  0, 0]])"
      ]
     },
     "execution_count": 16,
     "metadata": {},
     "output_type": "execute_result"
    }
   ],
   "source": [
    "E3 = Matrix([\n",
    "    [1,0,0],\n",
    "    [0,1,0],\n",
    "    [0,2,1]\n",
    "])\n",
    "E3 * E2 * E1 * B"
   ]
  },
  {
   "cell_type": "markdown",
   "id": "1a3209fb",
   "metadata": {
    "slideshow": {
     "slide_type": "slide"
    }
   },
   "source": [
    "We have a $0$ on the diagonal, therefore $B$ is not invertible.\n",
    "\n",
    "LU decomposition also works for non-invertible matrices though."
   ]
  },
  {
   "cell_type": "code",
   "execution_count": 17,
   "id": "e47ad185",
   "metadata": {},
   "outputs": [
    {
     "data": {
      "text/latex": [
       "$\\displaystyle \\left[\\begin{matrix}1 & -4 & 2\\\\0 & -7 & 7\\\\0 & 0 & 0\\end{matrix}\\right]$"
      ],
      "text/plain": [
       "Matrix([\n",
       "[1, -4, 2],\n",
       "[0, -7, 7],\n",
       "[0,  0, 0]])"
      ]
     },
     "execution_count": 17,
     "metadata": {},
     "output_type": "execute_result"
    }
   ],
   "source": [
    "U = E3 * E2 * E1 * B\n",
    "U"
   ]
  },
  {
   "cell_type": "code",
   "execution_count": 18,
   "id": "bfd2037c",
   "metadata": {},
   "outputs": [
    {
     "data": {
      "text/latex": [
       "$\\displaystyle \\left[\\begin{matrix}1 & 0 & 0\\\\-2 & 1 & 0\\\\2 & -2 & 1\\end{matrix}\\right]$"
      ],
      "text/plain": [
       "Matrix([\n",
       "[ 1,  0, 0],\n",
       "[-2,  1, 0],\n",
       "[ 2, -2, 1]])"
      ]
     },
     "execution_count": 18,
     "metadata": {},
     "output_type": "execute_result"
    }
   ],
   "source": [
    "L = E1.inv() * E2.inv() * E3.inv()\n",
    "L"
   ]
  },
  {
   "cell_type": "code",
   "execution_count": 19,
   "id": "50fcf0a4",
   "metadata": {},
   "outputs": [
    {
     "data": {
      "text/latex": [
       "$\\displaystyle \\left[\\begin{matrix}1 & -4 & 2\\\\-2 & 1 & 3\\\\2 & 6 & -10\\end{matrix}\\right]$"
      ],
      "text/plain": [
       "Matrix([\n",
       "[ 1, -4,   2],\n",
       "[-2,  1,   3],\n",
       "[ 2,  6, -10]])"
      ]
     },
     "execution_count": 19,
     "metadata": {},
     "output_type": "execute_result"
    }
   ],
   "source": [
    "L * U"
   ]
  },
  {
   "cell_type": "code",
   "execution_count": 20,
   "id": "ae2455e6",
   "metadata": {},
   "outputs": [
    {
     "data": {
      "text/latex": [
       "$\\displaystyle \\left[\\begin{matrix}1 & -4 & 2\\\\-2 & 1 & 3\\\\2 & 6 & -10\\end{matrix}\\right]$"
      ],
      "text/plain": [
       "Matrix([\n",
       "[ 1, -4,   2],\n",
       "[-2,  1,   3],\n",
       "[ 2,  6, -10]])"
      ]
     },
     "execution_count": 20,
     "metadata": {},
     "output_type": "execute_result"
    }
   ],
   "source": [
    "B"
   ]
  },
  {
   "cell_type": "markdown",
   "id": "9bd7d5d7",
   "metadata": {
    "slideshow": {
     "slide_type": "slide"
    }
   },
   "source": [
    "## LDU decomposition\n",
    "\n",
    "L is a lower triangular matrix with all-$1$ on the diagonal\n",
    "\n",
    "We can factorize U further into a *diagonal matrix* and an upper triangular matrix which also has all-$1$ on the diagonal.\n",
    "\n",
    "$$\n",
    "A = LDU'\n",
    "$$\n",
    "\n",
    "- if $u_{ii}\\neq 0$, we set $d_{ii} = u_{ii}$ and divide the $i$th row of U by this value\n",
    "- if $u_{ii}= 0$ we set $d_{ii}=0$ and $u'_{ii} = 1$."
   ]
  },
  {
   "cell_type": "markdown",
   "id": "3c0db43c",
   "metadata": {},
   "source": [
    "$$\n",
    "\\begin{aligned}\n",
    "\\left[\\begin{matrix}1 & -4 & 2\\\\-2 & 1 & 3\\\\2 & 6 & -10\\end{matrix}\\right]\n",
    "&=\n",
    "\\left[\\begin{matrix}1 & 0 & 0\\\\-2 & 1 & 0\\\\2 & -2 & 1\\end{matrix}\\right]\n",
    "\\left[\\begin{matrix}1 & -4 & 2\\\\0 & -7 & 7\\\\0 & 0 & 0\\end{matrix}\\right]\\\\[1em]\n",
    "&=\\left[\\begin{matrix}1 & 0 & 0\\\\-2 & 1 & 0\\\\2 & -2 & 1\\end{matrix}\\right]\n",
    "\\left[\\begin{matrix}1 & 0 & 0\\\\0 & -7 & 0\\\\0 & 0 & 0\\end{matrix}\\right]\n",
    "\\left[\\begin{matrix}1 & -4 & 2\\\\0 & 1 & -1\\\\0 & 0 & 1\\end{matrix}\\right]\n",
    "\\end{aligned}\n",
    "$$"
   ]
  },
  {
   "cell_type": "markdown",
   "id": "edebc4aa",
   "metadata": {
    "slideshow": {
     "slide_type": "slide"
    }
   },
   "source": [
    "### LU decomposition in SymPy"
   ]
  },
  {
   "cell_type": "code",
   "execution_count": 21,
   "id": "21c42330",
   "metadata": {},
   "outputs": [
    {
     "data": {
      "text/latex": [
       "$\\displaystyle \\left[\\begin{matrix}1 & -4 & 2\\\\-2 & 1 & 3\\\\2 & 6 & -10\\end{matrix}\\right]$"
      ],
      "text/plain": [
       "Matrix([\n",
       "[ 1, -4,   2],\n",
       "[-2,  1,   3],\n",
       "[ 2,  6, -10]])"
      ]
     },
     "execution_count": 21,
     "metadata": {},
     "output_type": "execute_result"
    }
   ],
   "source": [
    "B"
   ]
  },
  {
   "cell_type": "code",
   "execution_count": 22,
   "id": "1bcef638",
   "metadata": {},
   "outputs": [],
   "source": [
    "l,u,p = B.LUdecomposition()"
   ]
  },
  {
   "cell_type": "code",
   "execution_count": 23,
   "id": "64af17e2",
   "metadata": {},
   "outputs": [
    {
     "data": {
      "text/latex": [
       "$\\displaystyle \\left[\\begin{matrix}1 & 0 & 0\\\\-2 & 1 & 0\\\\2 & -2 & 1\\end{matrix}\\right]$"
      ],
      "text/plain": [
       "Matrix([\n",
       "[ 1,  0, 0],\n",
       "[-2,  1, 0],\n",
       "[ 2, -2, 1]])"
      ]
     },
     "execution_count": 23,
     "metadata": {},
     "output_type": "execute_result"
    }
   ],
   "source": [
    "l"
   ]
  },
  {
   "cell_type": "code",
   "execution_count": 24,
   "id": "d5751332",
   "metadata": {},
   "outputs": [
    {
     "data": {
      "text/latex": [
       "$\\displaystyle \\left[\\begin{matrix}1 & -4 & 2\\\\0 & -7 & 7\\\\0 & 0 & 0\\end{matrix}\\right]$"
      ],
      "text/plain": [
       "Matrix([\n",
       "[1, -4, 2],\n",
       "[0, -7, 7],\n",
       "[0,  0, 0]])"
      ]
     },
     "execution_count": 24,
     "metadata": {},
     "output_type": "execute_result"
    }
   ],
   "source": [
    "u"
   ]
  },
  {
   "cell_type": "code",
   "execution_count": 25,
   "id": "661f1665",
   "metadata": {
    "slideshow": {
     "slide_type": "-"
    }
   },
   "outputs": [
    {
     "data": {
      "text/plain": [
       "[]"
      ]
     },
     "execution_count": 25,
     "metadata": {},
     "output_type": "execute_result"
    }
   ],
   "source": [
    "p"
   ]
  },
  {
   "cell_type": "markdown",
   "id": "bb2b1a63",
   "metadata": {},
   "source": [
    "The third component, `p`, contains the permutation required to ensure the success of LU decomposition.\n"
   ]
  },
  {
   "cell_type": "markdown",
   "id": "960a12b0",
   "metadata": {
    "slideshow": {
     "slide_type": "slide"
    }
   },
   "source": [
    "\n",
    "Back to our old example:"
   ]
  },
  {
   "cell_type": "code",
   "execution_count": 26,
   "id": "f28eba62",
   "metadata": {},
   "outputs": [
    {
     "data": {
      "text/latex": [
       "$\\displaystyle \\left[\\begin{matrix}1 & 4 & 5\\\\4 & 16 & 6\\\\5 & 6 & 3\\end{matrix}\\right]$"
      ],
      "text/plain": [
       "Matrix([\n",
       "[1,  4, 5],\n",
       "[4, 16, 6],\n",
       "[5,  6, 3]])"
      ]
     },
     "execution_count": 26,
     "metadata": {},
     "output_type": "execute_result"
    }
   ],
   "source": [
    "A = Matrix([\n",
    "    [1,4,5],\n",
    "    [4,16,6],\n",
    "    [5,6,3]\n",
    "])\n",
    "A"
   ]
  },
  {
   "cell_type": "code",
   "execution_count": 27,
   "id": "d994526f",
   "metadata": {},
   "outputs": [],
   "source": [
    "l,u,p = A.LUdecomposition()"
   ]
  },
  {
   "cell_type": "code",
   "execution_count": 28,
   "id": "2aa566e3",
   "metadata": {},
   "outputs": [
    {
     "data": {
      "text/latex": [
       "$\\displaystyle \\left[\\begin{matrix}1 & 0 & 0\\\\5 & 1 & 0\\\\4 & 0 & 1\\end{matrix}\\right]$"
      ],
      "text/plain": [
       "Matrix([\n",
       "[1, 0, 0],\n",
       "[5, 1, 0],\n",
       "[4, 0, 1]])"
      ]
     },
     "execution_count": 28,
     "metadata": {},
     "output_type": "execute_result"
    }
   ],
   "source": [
    "l"
   ]
  },
  {
   "cell_type": "code",
   "execution_count": 29,
   "id": "624e42f2",
   "metadata": {},
   "outputs": [
    {
     "data": {
      "text/latex": [
       "$\\displaystyle \\left[\\begin{matrix}1 & 4 & 5\\\\0 & -14 & -22\\\\0 & 0 & -14\\end{matrix}\\right]$"
      ],
      "text/plain": [
       "Matrix([\n",
       "[1,   4,   5],\n",
       "[0, -14, -22],\n",
       "[0,   0, -14]])"
      ]
     },
     "execution_count": 29,
     "metadata": {},
     "output_type": "execute_result"
    }
   ],
   "source": [
    "u"
   ]
  },
  {
   "cell_type": "code",
   "execution_count": 30,
   "id": "6e7b38f6",
   "metadata": {},
   "outputs": [
    {
     "data": {
      "text/plain": [
       "[[1, 2]]"
      ]
     },
     "execution_count": 30,
     "metadata": {},
     "output_type": "execute_result"
    }
   ],
   "source": [
    "p"
   ]
  },
  {
   "cell_type": "markdown",
   "id": "f978b8e5",
   "metadata": {
    "slideshow": {
     "slide_type": "slide"
    }
   },
   "source": [
    "### LU decomposition with numpy arrays"
   ]
  },
  {
   "cell_type": "code",
   "execution_count": 31,
   "id": "93209f16",
   "metadata": {},
   "outputs": [],
   "source": [
    "import numpy as np\n",
    "from scipy.linalg import lu"
   ]
  },
  {
   "cell_type": "code",
   "execution_count": 32,
   "id": "7b6362a6",
   "metadata": {},
   "outputs": [
    {
     "data": {
      "text/plain": [
       "array([[ 1,  4,  5],\n",
       "       [ 4, 16,  6],\n",
       "       [ 5,  6,  3]])"
      ]
     },
     "execution_count": 32,
     "metadata": {},
     "output_type": "execute_result"
    }
   ],
   "source": [
    "A = np.array([\n",
    "    [1,4,5],\n",
    "    [4,16,6],\n",
    "    [5,6,3]\n",
    "])\n",
    "A"
   ]
  },
  {
   "cell_type": "code",
   "execution_count": 33,
   "id": "7fe92be9",
   "metadata": {},
   "outputs": [],
   "source": [
    "p,l,u = lu(A)"
   ]
  },
  {
   "cell_type": "code",
   "execution_count": 34,
   "id": "300b1708",
   "metadata": {
    "slideshow": {
     "slide_type": "slide"
    }
   },
   "outputs": [
    {
     "data": {
      "text/plain": [
       "array([[0., 0., 1.],\n",
       "       [0., 1., 0.],\n",
       "       [1., 0., 0.]])"
      ]
     },
     "execution_count": 34,
     "metadata": {},
     "output_type": "execute_result"
    }
   ],
   "source": [
    "p"
   ]
  },
  {
   "cell_type": "code",
   "execution_count": 35,
   "id": "ef92574b",
   "metadata": {},
   "outputs": [
    {
     "data": {
      "text/plain": [
       "array([[1.  , 0.  , 0.  ],\n",
       "       [0.8 , 1.  , 0.  ],\n",
       "       [0.2 , 0.25, 1.  ]])"
      ]
     },
     "execution_count": 35,
     "metadata": {},
     "output_type": "execute_result"
    }
   ],
   "source": [
    "l"
   ]
  },
  {
   "cell_type": "code",
   "execution_count": 36,
   "id": "cea5e163",
   "metadata": {},
   "outputs": [
    {
     "data": {
      "text/plain": [
       "array([[ 5. ,  6. ,  3. ],\n",
       "       [ 0. , 11.2,  3.6],\n",
       "       [ 0. ,  0. ,  3.5]])"
      ]
     },
     "execution_count": 36,
     "metadata": {},
     "output_type": "execute_result"
    }
   ],
   "source": [
    "u"
   ]
  },
  {
   "cell_type": "code",
   "execution_count": 37,
   "id": "de582d4f",
   "metadata": {},
   "outputs": [
    {
     "data": {
      "text/plain": [
       "array([[ 1.,  4.,  5.],\n",
       "       [ 4., 16.,  6.],\n",
       "       [ 5.,  6.,  3.]])"
      ]
     },
     "execution_count": 37,
     "metadata": {},
     "output_type": "execute_result"
    }
   ],
   "source": [
    " p @ l @ u"
   ]
  },
  {
   "cell_type": "markdown",
   "id": "64e0f4bb",
   "metadata": {
    "slideshow": {
     "slide_type": "slide"
    }
   },
   "source": [
    "### Why should we bother about LU decomposition?\n",
    "\n",
    "In numerical linear algebra, doing the LU decomposition once often saves a lot of computing time further down the road.\n",
    "\n",
    "E.g., suppose we have done the LU decomposition of some matrix A.\n",
    "\n",
    "$$\n",
    "\\begin{aligned}\n",
    "A &= \\left[\\begin{array}{r}1 & 2 & 1\\\\3 & 2 & 4\\\\4 & 4 & 3\\end{array}\\right]\\\\[1em]\n",
    "L &= \\left[\\begin{array}{r}1 & 0 & 0\\\\3 & 1 & 0\\\\4 & 1 & 1\\end{array}\\right]\\\\[1em]\n",
    "U &= \\left[\\begin{array}{r}1 & 2 & 1\\\\0 & -4 & 1\\\\0 & 0 & -2\\end{array}\\right]\n",
    "\\end{aligned}\n",
    "$$"
   ]
  },
  {
   "cell_type": "markdown",
   "id": "646d23c2",
   "metadata": {
    "slideshow": {
     "slide_type": "slide"
    }
   },
   "source": [
    "Now suppose you (or rather: the computer) are/is asked to solve the linear system\n",
    "\n",
    "$$\n",
    "A\\begin{bmatrix}x\\\\y\\\\z\\end{bmatrix} = \\begin{bmatrix}1\\\\1\\\\0\\end{bmatrix}\n",
    "$$\n",
    "\n",
    "Mathematically, an obvious way is\n",
    "\n",
    "$$\n",
    "\\begin{aligned}\n",
    "\\begin{bmatrix}x\\\\y\\\\z\\end{bmatrix} &= A^{-1}\\begin{bmatrix}1\\\\1\\\\0\\end{bmatrix}\\\\[1em]\n",
    "&= U^{-1}L^{-1}\\begin{bmatrix}1\\\\1\\\\0\\end{bmatrix}\n",
    "\\end{aligned}\n",
    "$$"
   ]
  },
  {
   "cell_type": "markdown",
   "id": "bf270c83",
   "metadata": {
    "slideshow": {
     "slide_type": "slide"
    }
   },
   "source": [
    "This requires us to find the inverses of L and U. However, a more efficient way is the following:\n",
    "\n",
    "$$\n",
    "\\begin{aligned}\n",
    "L\n",
    "\\begin{bmatrix}\n",
    "w\\\\u\\\\v\n",
    "\\end{bmatrix} &= \\begin{bmatrix}1\\\\1\\\\0\\end{bmatrix}\\\\[1em]\n",
    "U\\begin{bmatrix}x\\\\y\\\\z\\end{bmatrix} &= \\begin{bmatrix}\n",
    "w\\\\u\\\\v\n",
    "\\end{bmatrix}\n",
    "\\end{aligned}\n",
    "$$"
   ]
  },
  {
   "cell_type": "markdown",
   "id": "0c52b57d",
   "metadata": {
    "slideshow": {
     "slide_type": "slide"
    }
   },
   "source": [
    "Reason: We can solve these systems via **substitution**, without elimination.\n",
    "    \n",
    "$$\n",
    "\\begin{aligned}\n",
    "\\left[\\begin{array}{r}\n",
    "1 & 0 & 0\n",
    "\\\\3 & 1 & 0\n",
    "\\\\4 & 1 & 1\n",
    "\\end{array}\\right]\n",
    "\\begin{bmatrix}\n",
    "w\\\\u\\\\v\n",
    "\\end{bmatrix}\n",
    "&= \\begin{bmatrix}1\\\\1\\\\0\\end{bmatrix}\\\\[1em]\n",
    "\\end{aligned}\n",
    "$$\n",
    "\n",
    "In non-matrix notation:\n",
    "\n",
    "$$\n",
    "\\begin{aligned}\n",
    "w & & &= 1\\\\\n",
    "3w &+ u &&= 1\\\\\n",
    "4w &+u &+v &= 0\n",
    "\\end{aligned}\n",
    "$$\n",
    "\n",
    "- substituting $w$:\n",
    "\n",
    "$$\n",
    "\\begin{aligned}\n",
    "3\\cdot 1 &+ u &&= 1\\\\\n",
    "4\\cdot 1 &+u &+v &= 0\n",
    "\\end{aligned}\n",
    "$$\n",
    "\n",
    "- constants to the left-hand side\n",
    "\n",
    "$$\n",
    "\\begin{aligned}\n",
    " u &&= -2\\\\\n",
    "u &+v &= -4\n",
    "\\end{aligned}\n",
    "$$"
   ]
  },
  {
   "cell_type": "markdown",
   "id": "3c78b1ec",
   "metadata": {
    "slideshow": {
     "slide_type": "slide"
    }
   },
   "source": [
    "- same with $v$\n",
    "\n",
    "$$\n",
    "\\begin{aligned}\n",
    "-2 &+v &= -4\\\\\n",
    "&v&= -2\\\\[1em]\n",
    "\\begin{bmatrix}w\\\\u\\\\v\\end{bmatrix} &= \n",
    "\\begin{bmatrix}\n",
    "1\\\\-2\\\\-2\n",
    "\\end{bmatrix}\n",
    "\\end{aligned}\n",
    "$$"
   ]
  },
  {
   "cell_type": "markdown",
   "id": "2293fd4d",
   "metadata": {
    "slideshow": {
     "slide_type": "slide"
    }
   },
   "source": [
    "next system of equations.\n",
    "\n",
    "$$\n",
    "\\left[\\begin{array}{r}1 & 2 & 1\\\\0 & -4 & 1\\\\0 & 0 & -2\\end{array}\\right]\n",
    "\\begin{bmatrix}\n",
    "x\\\\y\\\\z\n",
    "\\end{bmatrix} = \n",
    "\\begin{bmatrix}\n",
    "1\\\\-2\\\\-2\n",
    "\\end{bmatrix}\\\\[1em]\n",
    "$$\n",
    "\n",
    "$$\n",
    "\\begin{aligned}\n",
    "&z &&= 1\\\\\\hline\n",
    "x & +2y  &&= 0\\\\\n",
    "  & -4y &+ z& = -3\\\\\\hline\n",
    "  y &&&= \\frac{3}{4}\\\\\\hline\n",
    "  x &&&=-\\frac{3}{2}\\\\\\hline\n",
    "\\end{aligned}\n",
    "$$\n",
    "\n",
    "$$\n",
    "\\begin{aligned}\n",
    "   \\begin{bmatrix}\n",
    "   x\\\\y\\\\z\n",
    "   \\end{bmatrix} \n",
    "   &= \n",
    "   \\left[\n",
    "   \\begin{array}{r}\n",
    "   -\\frac{3}{2}\\\\\n",
    "   \\frac{3}{4}\\\\\n",
    "   1\n",
    "   \\end{array}\\right]\n",
    "\\end{aligned}\n",
    "$$"
   ]
  },
  {
   "cell_type": "markdown",
   "id": "cac2c43b",
   "metadata": {
    "slideshow": {
     "slide_type": "slide"
    }
   },
   "source": [
    "## Symmetric matrices\n",
    "\n",
    "- symmetric matrices are square matrices $S$ with the property that\n",
    "\n",
    "$$\n",
    "S = S^T\n",
    "$$\n",
    "\n",
    "- if there is an LDU decomposition for a symmetric matrix $S$, then\n",
    "\n",
    "$$\n",
    "\\begin{aligned}\n",
    "S &= LDU\\\\\n",
    "L &= U^T\n",
    "\\end{aligned}\n",
    "$$\n",
    "\n",
    "- in other words, a symmetric matrix $S$ can be decomposed as\n",
    "$$\n",
    "S = LDL^T\n",
    "$$\n",
    "\n",
    "- if row permutation is required, it has to be accompanied by column permutation to preserve symmetry"
   ]
  },
  {
   "cell_type": "markdown",
   "id": "3ff889d1",
   "metadata": {
    "slideshow": {
     "slide_type": "slide"
    }
   },
   "source": [
    "### example\n",
    "\n"
   ]
  },
  {
   "cell_type": "code",
   "execution_count": 38,
   "id": "55a82bfd",
   "metadata": {},
   "outputs": [
    {
     "data": {
      "text/latex": [
       "$\\displaystyle \\left[\\begin{matrix}0 & 1 & 2\\\\1 & -1 & 1\\\\2 & 1 & 3\\end{matrix}\\right]$"
      ],
      "text/plain": [
       "Matrix([\n",
       "[0,  1, 2],\n",
       "[1, -1, 1],\n",
       "[2,  1, 3]])"
      ]
     },
     "execution_count": 38,
     "metadata": {},
     "output_type": "execute_result"
    }
   ],
   "source": [
    "S = Matrix([\n",
    "    [0, 1, 2],\n",
    "    [1, -1, 1],\n",
    "    [2, 1, 3]\n",
    "])\n",
    "S"
   ]
  },
  {
   "cell_type": "markdown",
   "id": "a5fb456f",
   "metadata": {},
   "source": [
    "- permutation matrix"
   ]
  },
  {
   "cell_type": "code",
   "execution_count": 39,
   "id": "9c2d414f",
   "metadata": {},
   "outputs": [
    {
     "data": {
      "text/latex": [
       "$\\displaystyle \\left[\\begin{matrix}0 & 0 & 1\\\\0 & 1 & 0\\\\1 & 0 & 0\\end{matrix}\\right]$"
      ],
      "text/plain": [
       "Matrix([\n",
       "[0, 0, 1],\n",
       "[0, 1, 0],\n",
       "[1, 0, 0]])"
      ]
     },
     "execution_count": 39,
     "metadata": {},
     "output_type": "execute_result"
    }
   ],
   "source": [
    "P = Matrix([\n",
    "    [0,0,1],\n",
    "    [0,1,0],\n",
    "    [1,0,0]\n",
    "])\n",
    "P"
   ]
  },
  {
   "cell_type": "code",
   "execution_count": 40,
   "id": "54e33533",
   "metadata": {},
   "outputs": [
    {
     "data": {
      "text/latex": [
       "$\\displaystyle \\left[\\begin{matrix}3 & 1 & 2\\\\1 & -1 & 1\\\\2 & 1 & 0\\end{matrix}\\right]$"
      ],
      "text/plain": [
       "Matrix([\n",
       "[3,  1, 2],\n",
       "[1, -1, 1],\n",
       "[2,  1, 0]])"
      ]
     },
     "execution_count": 40,
     "metadata": {},
     "output_type": "execute_result"
    }
   ],
   "source": [
    "S1 = P * S * P.T\n",
    "S1"
   ]
  },
  {
   "cell_type": "markdown",
   "id": "24c26325",
   "metadata": {
    "slideshow": {
     "slide_type": "slide"
    }
   },
   "source": [
    "$$\n",
    "\\begin{aligned}\n",
    "    L &= \\left[\\begin{matrix}1 & 0 & 0\\\\\\frac{1}{3} & 1 & 0\\\\\\frac{2}{3} & - \\frac{1}{4} & 1\\end{matrix}\\right]\\\\[1em]\n",
    "    D &= \\begin{bmatrix}\n",
    "    3 & 0 & 0\\\\\n",
    "    0 & -\\frac{4}{3} & 0\\\\\n",
    "    0 & 0 & -\\frac{5}{4}\n",
    "    \\end{bmatrix}\\\\\n",
    "    PSP^T &= L D L^T\n",
    "\\end{aligned}\n",
    "$$\n"
   ]
  },
  {
   "cell_type": "markdown",
   "id": "c775d14d",
   "metadata": {
    "slideshow": {
     "slide_type": "slide"
    }
   },
   "source": [
    "### Cholesky decomposition\n",
    "\n",
    "Let us consider the so-called **quadratic form** of $S$:\n",
    "\n",
    "$$\n",
    "\\mathbf x' S \\mathbf x\n",
    "$$\n",
    "\n",
    "This function assigns each vector $\\mathbf x$ to some real number – something like a high-dimensional parabola.\n",
    "\n",
    "Example:"
   ]
  },
  {
   "cell_type": "code",
   "execution_count": 41,
   "id": "d925193a",
   "metadata": {},
   "outputs": [
    {
     "data": {
      "text/latex": [
       "$\\displaystyle \\left[\\begin{matrix}3 & 1\\\\1 & -1\\end{matrix}\\right]$"
      ],
      "text/plain": [
       "Matrix([\n",
       "[3,  1],\n",
       "[1, -1]])"
      ]
     },
     "execution_count": 41,
     "metadata": {},
     "output_type": "execute_result"
    }
   ],
   "source": [
    "S = Matrix([\n",
    "    [3, 1],\n",
    "    [1, -1]\n",
    "])\n",
    "S"
   ]
  },
  {
   "cell_type": "code",
   "execution_count": 42,
   "id": "2ed17dc9",
   "metadata": {
    "hide_input": true,
    "slideshow": {
     "slide_type": "slide"
    }
   },
   "outputs": [
    {
     "data": {
      "application/javascript": [
       "/* Put everything inside the global mpl namespace */\n",
       "/* global mpl */\n",
       "window.mpl = {};\n",
       "\n",
       "mpl.get_websocket_type = function () {\n",
       "    if (typeof WebSocket !== 'undefined') {\n",
       "        return WebSocket;\n",
       "    } else if (typeof MozWebSocket !== 'undefined') {\n",
       "        return MozWebSocket;\n",
       "    } else {\n",
       "        alert(\n",
       "            'Your browser does not have WebSocket support. ' +\n",
       "                'Please try Chrome, Safari or Firefox ≥ 6. ' +\n",
       "                'Firefox 4 and 5 are also supported but you ' +\n",
       "                'have to enable WebSockets in about:config.'\n",
       "        );\n",
       "    }\n",
       "};\n",
       "\n",
       "mpl.figure = function (figure_id, websocket, ondownload, parent_element) {\n",
       "    this.id = figure_id;\n",
       "\n",
       "    this.ws = websocket;\n",
       "\n",
       "    this.supports_binary = this.ws.binaryType !== undefined;\n",
       "\n",
       "    if (!this.supports_binary) {\n",
       "        var warnings = document.getElementById('mpl-warnings');\n",
       "        if (warnings) {\n",
       "            warnings.style.display = 'block';\n",
       "            warnings.textContent =\n",
       "                'This browser does not support binary websocket messages. ' +\n",
       "                'Performance may be slow.';\n",
       "        }\n",
       "    }\n",
       "\n",
       "    this.imageObj = new Image();\n",
       "\n",
       "    this.context = undefined;\n",
       "    this.message = undefined;\n",
       "    this.canvas = undefined;\n",
       "    this.rubberband_canvas = undefined;\n",
       "    this.rubberband_context = undefined;\n",
       "    this.format_dropdown = undefined;\n",
       "\n",
       "    this.image_mode = 'full';\n",
       "\n",
       "    this.root = document.createElement('div');\n",
       "    this.root.setAttribute('style', 'display: inline-block');\n",
       "    this._root_extra_style(this.root);\n",
       "\n",
       "    parent_element.appendChild(this.root);\n",
       "\n",
       "    this._init_header(this);\n",
       "    this._init_canvas(this);\n",
       "    this._init_toolbar(this);\n",
       "\n",
       "    var fig = this;\n",
       "\n",
       "    this.waiting = false;\n",
       "\n",
       "    this.ws.onopen = function () {\n",
       "        fig.send_message('supports_binary', { value: fig.supports_binary });\n",
       "        fig.send_message('send_image_mode', {});\n",
       "        if (fig.ratio !== 1) {\n",
       "            fig.send_message('set_device_pixel_ratio', {\n",
       "                device_pixel_ratio: fig.ratio,\n",
       "            });\n",
       "        }\n",
       "        fig.send_message('refresh', {});\n",
       "    };\n",
       "\n",
       "    this.imageObj.onload = function () {\n",
       "        if (fig.image_mode === 'full') {\n",
       "            // Full images could contain transparency (where diff images\n",
       "            // almost always do), so we need to clear the canvas so that\n",
       "            // there is no ghosting.\n",
       "            fig.context.clearRect(0, 0, fig.canvas.width, fig.canvas.height);\n",
       "        }\n",
       "        fig.context.drawImage(fig.imageObj, 0, 0);\n",
       "    };\n",
       "\n",
       "    this.imageObj.onunload = function () {\n",
       "        fig.ws.close();\n",
       "    };\n",
       "\n",
       "    this.ws.onmessage = this._make_on_message_function(this);\n",
       "\n",
       "    this.ondownload = ondownload;\n",
       "};\n",
       "\n",
       "mpl.figure.prototype._init_header = function () {\n",
       "    var titlebar = document.createElement('div');\n",
       "    titlebar.classList =\n",
       "        'ui-dialog-titlebar ui-widget-header ui-corner-all ui-helper-clearfix';\n",
       "    var titletext = document.createElement('div');\n",
       "    titletext.classList = 'ui-dialog-title';\n",
       "    titletext.setAttribute(\n",
       "        'style',\n",
       "        'width: 100%; text-align: center; padding: 3px;'\n",
       "    );\n",
       "    titlebar.appendChild(titletext);\n",
       "    this.root.appendChild(titlebar);\n",
       "    this.header = titletext;\n",
       "};\n",
       "\n",
       "mpl.figure.prototype._canvas_extra_style = function (_canvas_div) {};\n",
       "\n",
       "mpl.figure.prototype._root_extra_style = function (_canvas_div) {};\n",
       "\n",
       "mpl.figure.prototype._init_canvas = function () {\n",
       "    var fig = this;\n",
       "\n",
       "    var canvas_div = (this.canvas_div = document.createElement('div'));\n",
       "    canvas_div.setAttribute(\n",
       "        'style',\n",
       "        'border: 1px solid #ddd;' +\n",
       "            'box-sizing: content-box;' +\n",
       "            'clear: both;' +\n",
       "            'min-height: 1px;' +\n",
       "            'min-width: 1px;' +\n",
       "            'outline: 0;' +\n",
       "            'overflow: hidden;' +\n",
       "            'position: relative;' +\n",
       "            'resize: both;'\n",
       "    );\n",
       "\n",
       "    function on_keyboard_event_closure(name) {\n",
       "        return function (event) {\n",
       "            return fig.key_event(event, name);\n",
       "        };\n",
       "    }\n",
       "\n",
       "    canvas_div.addEventListener(\n",
       "        'keydown',\n",
       "        on_keyboard_event_closure('key_press')\n",
       "    );\n",
       "    canvas_div.addEventListener(\n",
       "        'keyup',\n",
       "        on_keyboard_event_closure('key_release')\n",
       "    );\n",
       "\n",
       "    this._canvas_extra_style(canvas_div);\n",
       "    this.root.appendChild(canvas_div);\n",
       "\n",
       "    var canvas = (this.canvas = document.createElement('canvas'));\n",
       "    canvas.classList.add('mpl-canvas');\n",
       "    canvas.setAttribute('style', 'box-sizing: content-box;');\n",
       "\n",
       "    this.context = canvas.getContext('2d');\n",
       "\n",
       "    var backingStore =\n",
       "        this.context.backingStorePixelRatio ||\n",
       "        this.context.webkitBackingStorePixelRatio ||\n",
       "        this.context.mozBackingStorePixelRatio ||\n",
       "        this.context.msBackingStorePixelRatio ||\n",
       "        this.context.oBackingStorePixelRatio ||\n",
       "        this.context.backingStorePixelRatio ||\n",
       "        1;\n",
       "\n",
       "    this.ratio = (window.devicePixelRatio || 1) / backingStore;\n",
       "\n",
       "    var rubberband_canvas = (this.rubberband_canvas = document.createElement(\n",
       "        'canvas'\n",
       "    ));\n",
       "    rubberband_canvas.setAttribute(\n",
       "        'style',\n",
       "        'box-sizing: content-box; position: absolute; left: 0; top: 0; z-index: 1;'\n",
       "    );\n",
       "\n",
       "    // Apply a ponyfill if ResizeObserver is not implemented by browser.\n",
       "    if (this.ResizeObserver === undefined) {\n",
       "        if (window.ResizeObserver !== undefined) {\n",
       "            this.ResizeObserver = window.ResizeObserver;\n",
       "        } else {\n",
       "            var obs = _JSXTOOLS_RESIZE_OBSERVER({});\n",
       "            this.ResizeObserver = obs.ResizeObserver;\n",
       "        }\n",
       "    }\n",
       "\n",
       "    this.resizeObserverInstance = new this.ResizeObserver(function (entries) {\n",
       "        var nentries = entries.length;\n",
       "        for (var i = 0; i < nentries; i++) {\n",
       "            var entry = entries[i];\n",
       "            var width, height;\n",
       "            if (entry.contentBoxSize) {\n",
       "                if (entry.contentBoxSize instanceof Array) {\n",
       "                    // Chrome 84 implements new version of spec.\n",
       "                    width = entry.contentBoxSize[0].inlineSize;\n",
       "                    height = entry.contentBoxSize[0].blockSize;\n",
       "                } else {\n",
       "                    // Firefox implements old version of spec.\n",
       "                    width = entry.contentBoxSize.inlineSize;\n",
       "                    height = entry.contentBoxSize.blockSize;\n",
       "                }\n",
       "            } else {\n",
       "                // Chrome <84 implements even older version of spec.\n",
       "                width = entry.contentRect.width;\n",
       "                height = entry.contentRect.height;\n",
       "            }\n",
       "\n",
       "            // Keep the size of the canvas and rubber band canvas in sync with\n",
       "            // the canvas container.\n",
       "            if (entry.devicePixelContentBoxSize) {\n",
       "                // Chrome 84 implements new version of spec.\n",
       "                canvas.setAttribute(\n",
       "                    'width',\n",
       "                    entry.devicePixelContentBoxSize[0].inlineSize\n",
       "                );\n",
       "                canvas.setAttribute(\n",
       "                    'height',\n",
       "                    entry.devicePixelContentBoxSize[0].blockSize\n",
       "                );\n",
       "            } else {\n",
       "                canvas.setAttribute('width', width * fig.ratio);\n",
       "                canvas.setAttribute('height', height * fig.ratio);\n",
       "            }\n",
       "            canvas.setAttribute(\n",
       "                'style',\n",
       "                'width: ' + width + 'px; height: ' + height + 'px;'\n",
       "            );\n",
       "\n",
       "            rubberband_canvas.setAttribute('width', width);\n",
       "            rubberband_canvas.setAttribute('height', height);\n",
       "\n",
       "            // And update the size in Python. We ignore the initial 0/0 size\n",
       "            // that occurs as the element is placed into the DOM, which should\n",
       "            // otherwise not happen due to the minimum size styling.\n",
       "            if (fig.ws.readyState == 1 && width != 0 && height != 0) {\n",
       "                fig.request_resize(width, height);\n",
       "            }\n",
       "        }\n",
       "    });\n",
       "    this.resizeObserverInstance.observe(canvas_div);\n",
       "\n",
       "    function on_mouse_event_closure(name) {\n",
       "        return function (event) {\n",
       "            return fig.mouse_event(event, name);\n",
       "        };\n",
       "    }\n",
       "\n",
       "    rubberband_canvas.addEventListener(\n",
       "        'mousedown',\n",
       "        on_mouse_event_closure('button_press')\n",
       "    );\n",
       "    rubberband_canvas.addEventListener(\n",
       "        'mouseup',\n",
       "        on_mouse_event_closure('button_release')\n",
       "    );\n",
       "    rubberband_canvas.addEventListener(\n",
       "        'dblclick',\n",
       "        on_mouse_event_closure('dblclick')\n",
       "    );\n",
       "    // Throttle sequential mouse events to 1 every 20ms.\n",
       "    rubberband_canvas.addEventListener(\n",
       "        'mousemove',\n",
       "        on_mouse_event_closure('motion_notify')\n",
       "    );\n",
       "\n",
       "    rubberband_canvas.addEventListener(\n",
       "        'mouseenter',\n",
       "        on_mouse_event_closure('figure_enter')\n",
       "    );\n",
       "    rubberband_canvas.addEventListener(\n",
       "        'mouseleave',\n",
       "        on_mouse_event_closure('figure_leave')\n",
       "    );\n",
       "\n",
       "    canvas_div.addEventListener('wheel', function (event) {\n",
       "        if (event.deltaY < 0) {\n",
       "            event.step = 1;\n",
       "        } else {\n",
       "            event.step = -1;\n",
       "        }\n",
       "        on_mouse_event_closure('scroll')(event);\n",
       "    });\n",
       "\n",
       "    canvas_div.appendChild(canvas);\n",
       "    canvas_div.appendChild(rubberband_canvas);\n",
       "\n",
       "    this.rubberband_context = rubberband_canvas.getContext('2d');\n",
       "    this.rubberband_context.strokeStyle = '#000000';\n",
       "\n",
       "    this._resize_canvas = function (width, height, forward) {\n",
       "        if (forward) {\n",
       "            canvas_div.style.width = width + 'px';\n",
       "            canvas_div.style.height = height + 'px';\n",
       "        }\n",
       "    };\n",
       "\n",
       "    // Disable right mouse context menu.\n",
       "    this.rubberband_canvas.addEventListener('contextmenu', function (_e) {\n",
       "        event.preventDefault();\n",
       "        return false;\n",
       "    });\n",
       "\n",
       "    function set_focus() {\n",
       "        canvas.focus();\n",
       "        canvas_div.focus();\n",
       "    }\n",
       "\n",
       "    window.setTimeout(set_focus, 100);\n",
       "};\n",
       "\n",
       "mpl.figure.prototype._init_toolbar = function () {\n",
       "    var fig = this;\n",
       "\n",
       "    var toolbar = document.createElement('div');\n",
       "    toolbar.classList = 'mpl-toolbar';\n",
       "    this.root.appendChild(toolbar);\n",
       "\n",
       "    function on_click_closure(name) {\n",
       "        return function (_event) {\n",
       "            return fig.toolbar_button_onclick(name);\n",
       "        };\n",
       "    }\n",
       "\n",
       "    function on_mouseover_closure(tooltip) {\n",
       "        return function (event) {\n",
       "            if (!event.currentTarget.disabled) {\n",
       "                return fig.toolbar_button_onmouseover(tooltip);\n",
       "            }\n",
       "        };\n",
       "    }\n",
       "\n",
       "    fig.buttons = {};\n",
       "    var buttonGroup = document.createElement('div');\n",
       "    buttonGroup.classList = 'mpl-button-group';\n",
       "    for (var toolbar_ind in mpl.toolbar_items) {\n",
       "        var name = mpl.toolbar_items[toolbar_ind][0];\n",
       "        var tooltip = mpl.toolbar_items[toolbar_ind][1];\n",
       "        var image = mpl.toolbar_items[toolbar_ind][2];\n",
       "        var method_name = mpl.toolbar_items[toolbar_ind][3];\n",
       "\n",
       "        if (!name) {\n",
       "            /* Instead of a spacer, we start a new button group. */\n",
       "            if (buttonGroup.hasChildNodes()) {\n",
       "                toolbar.appendChild(buttonGroup);\n",
       "            }\n",
       "            buttonGroup = document.createElement('div');\n",
       "            buttonGroup.classList = 'mpl-button-group';\n",
       "            continue;\n",
       "        }\n",
       "\n",
       "        var button = (fig.buttons[name] = document.createElement('button'));\n",
       "        button.classList = 'mpl-widget';\n",
       "        button.setAttribute('role', 'button');\n",
       "        button.setAttribute('aria-disabled', 'false');\n",
       "        button.addEventListener('click', on_click_closure(method_name));\n",
       "        button.addEventListener('mouseover', on_mouseover_closure(tooltip));\n",
       "\n",
       "        var icon_img = document.createElement('img');\n",
       "        icon_img.src = '_images/' + image + '.png';\n",
       "        icon_img.srcset = '_images/' + image + '_large.png 2x';\n",
       "        icon_img.alt = tooltip;\n",
       "        button.appendChild(icon_img);\n",
       "\n",
       "        buttonGroup.appendChild(button);\n",
       "    }\n",
       "\n",
       "    if (buttonGroup.hasChildNodes()) {\n",
       "        toolbar.appendChild(buttonGroup);\n",
       "    }\n",
       "\n",
       "    var fmt_picker = document.createElement('select');\n",
       "    fmt_picker.classList = 'mpl-widget';\n",
       "    toolbar.appendChild(fmt_picker);\n",
       "    this.format_dropdown = fmt_picker;\n",
       "\n",
       "    for (var ind in mpl.extensions) {\n",
       "        var fmt = mpl.extensions[ind];\n",
       "        var option = document.createElement('option');\n",
       "        option.selected = fmt === mpl.default_extension;\n",
       "        option.innerHTML = fmt;\n",
       "        fmt_picker.appendChild(option);\n",
       "    }\n",
       "\n",
       "    var status_bar = document.createElement('span');\n",
       "    status_bar.classList = 'mpl-message';\n",
       "    toolbar.appendChild(status_bar);\n",
       "    this.message = status_bar;\n",
       "};\n",
       "\n",
       "mpl.figure.prototype.request_resize = function (x_pixels, y_pixels) {\n",
       "    // Request matplotlib to resize the figure. Matplotlib will then trigger a resize in the client,\n",
       "    // which will in turn request a refresh of the image.\n",
       "    this.send_message('resize', { width: x_pixels, height: y_pixels });\n",
       "};\n",
       "\n",
       "mpl.figure.prototype.send_message = function (type, properties) {\n",
       "    properties['type'] = type;\n",
       "    properties['figure_id'] = this.id;\n",
       "    this.ws.send(JSON.stringify(properties));\n",
       "};\n",
       "\n",
       "mpl.figure.prototype.send_draw_message = function () {\n",
       "    if (!this.waiting) {\n",
       "        this.waiting = true;\n",
       "        this.ws.send(JSON.stringify({ type: 'draw', figure_id: this.id }));\n",
       "    }\n",
       "};\n",
       "\n",
       "mpl.figure.prototype.handle_save = function (fig, _msg) {\n",
       "    var format_dropdown = fig.format_dropdown;\n",
       "    var format = format_dropdown.options[format_dropdown.selectedIndex].value;\n",
       "    fig.ondownload(fig, format);\n",
       "};\n",
       "\n",
       "mpl.figure.prototype.handle_resize = function (fig, msg) {\n",
       "    var size = msg['size'];\n",
       "    if (size[0] !== fig.canvas.width || size[1] !== fig.canvas.height) {\n",
       "        fig._resize_canvas(size[0], size[1], msg['forward']);\n",
       "        fig.send_message('refresh', {});\n",
       "    }\n",
       "};\n",
       "\n",
       "mpl.figure.prototype.handle_rubberband = function (fig, msg) {\n",
       "    var x0 = msg['x0'] / fig.ratio;\n",
       "    var y0 = (fig.canvas.height - msg['y0']) / fig.ratio;\n",
       "    var x1 = msg['x1'] / fig.ratio;\n",
       "    var y1 = (fig.canvas.height - msg['y1']) / fig.ratio;\n",
       "    x0 = Math.floor(x0) + 0.5;\n",
       "    y0 = Math.floor(y0) + 0.5;\n",
       "    x1 = Math.floor(x1) + 0.5;\n",
       "    y1 = Math.floor(y1) + 0.5;\n",
       "    var min_x = Math.min(x0, x1);\n",
       "    var min_y = Math.min(y0, y1);\n",
       "    var width = Math.abs(x1 - x0);\n",
       "    var height = Math.abs(y1 - y0);\n",
       "\n",
       "    fig.rubberband_context.clearRect(\n",
       "        0,\n",
       "        0,\n",
       "        fig.canvas.width / fig.ratio,\n",
       "        fig.canvas.height / fig.ratio\n",
       "    );\n",
       "\n",
       "    fig.rubberband_context.strokeRect(min_x, min_y, width, height);\n",
       "};\n",
       "\n",
       "mpl.figure.prototype.handle_figure_label = function (fig, msg) {\n",
       "    // Updates the figure title.\n",
       "    fig.header.textContent = msg['label'];\n",
       "};\n",
       "\n",
       "mpl.figure.prototype.handle_cursor = function (fig, msg) {\n",
       "    fig.rubberband_canvas.style.cursor = msg['cursor'];\n",
       "};\n",
       "\n",
       "mpl.figure.prototype.handle_message = function (fig, msg) {\n",
       "    fig.message.textContent = msg['message'];\n",
       "};\n",
       "\n",
       "mpl.figure.prototype.handle_draw = function (fig, _msg) {\n",
       "    // Request the server to send over a new figure.\n",
       "    fig.send_draw_message();\n",
       "};\n",
       "\n",
       "mpl.figure.prototype.handle_image_mode = function (fig, msg) {\n",
       "    fig.image_mode = msg['mode'];\n",
       "};\n",
       "\n",
       "mpl.figure.prototype.handle_history_buttons = function (fig, msg) {\n",
       "    for (var key in msg) {\n",
       "        if (!(key in fig.buttons)) {\n",
       "            continue;\n",
       "        }\n",
       "        fig.buttons[key].disabled = !msg[key];\n",
       "        fig.buttons[key].setAttribute('aria-disabled', !msg[key]);\n",
       "    }\n",
       "};\n",
       "\n",
       "mpl.figure.prototype.handle_navigate_mode = function (fig, msg) {\n",
       "    if (msg['mode'] === 'PAN') {\n",
       "        fig.buttons['Pan'].classList.add('active');\n",
       "        fig.buttons['Zoom'].classList.remove('active');\n",
       "    } else if (msg['mode'] === 'ZOOM') {\n",
       "        fig.buttons['Pan'].classList.remove('active');\n",
       "        fig.buttons['Zoom'].classList.add('active');\n",
       "    } else {\n",
       "        fig.buttons['Pan'].classList.remove('active');\n",
       "        fig.buttons['Zoom'].classList.remove('active');\n",
       "    }\n",
       "};\n",
       "\n",
       "mpl.figure.prototype.updated_canvas_event = function () {\n",
       "    // Called whenever the canvas gets updated.\n",
       "    this.send_message('ack', {});\n",
       "};\n",
       "\n",
       "// A function to construct a web socket function for onmessage handling.\n",
       "// Called in the figure constructor.\n",
       "mpl.figure.prototype._make_on_message_function = function (fig) {\n",
       "    return function socket_on_message(evt) {\n",
       "        if (evt.data instanceof Blob) {\n",
       "            var img = evt.data;\n",
       "            if (img.type !== 'image/png') {\n",
       "                /* FIXME: We get \"Resource interpreted as Image but\n",
       "                 * transferred with MIME type text/plain:\" errors on\n",
       "                 * Chrome.  But how to set the MIME type?  It doesn't seem\n",
       "                 * to be part of the websocket stream */\n",
       "                img.type = 'image/png';\n",
       "            }\n",
       "\n",
       "            /* Free the memory for the previous frames */\n",
       "            if (fig.imageObj.src) {\n",
       "                (window.URL || window.webkitURL).revokeObjectURL(\n",
       "                    fig.imageObj.src\n",
       "                );\n",
       "            }\n",
       "\n",
       "            fig.imageObj.src = (window.URL || window.webkitURL).createObjectURL(\n",
       "                img\n",
       "            );\n",
       "            fig.updated_canvas_event();\n",
       "            fig.waiting = false;\n",
       "            return;\n",
       "        } else if (\n",
       "            typeof evt.data === 'string' &&\n",
       "            evt.data.slice(0, 21) === 'data:image/png;base64'\n",
       "        ) {\n",
       "            fig.imageObj.src = evt.data;\n",
       "            fig.updated_canvas_event();\n",
       "            fig.waiting = false;\n",
       "            return;\n",
       "        }\n",
       "\n",
       "        var msg = JSON.parse(evt.data);\n",
       "        var msg_type = msg['type'];\n",
       "\n",
       "        // Call the  \"handle_{type}\" callback, which takes\n",
       "        // the figure and JSON message as its only arguments.\n",
       "        try {\n",
       "            var callback = fig['handle_' + msg_type];\n",
       "        } catch (e) {\n",
       "            console.log(\n",
       "                \"No handler for the '\" + msg_type + \"' message type: \",\n",
       "                msg\n",
       "            );\n",
       "            return;\n",
       "        }\n",
       "\n",
       "        if (callback) {\n",
       "            try {\n",
       "                // console.log(\"Handling '\" + msg_type + \"' message: \", msg);\n",
       "                callback(fig, msg);\n",
       "            } catch (e) {\n",
       "                console.log(\n",
       "                    \"Exception inside the 'handler_\" + msg_type + \"' callback:\",\n",
       "                    e,\n",
       "                    e.stack,\n",
       "                    msg\n",
       "                );\n",
       "            }\n",
       "        }\n",
       "    };\n",
       "};\n",
       "\n",
       "// from https://stackoverflow.com/questions/1114465/getting-mouse-location-in-canvas\n",
       "mpl.findpos = function (e) {\n",
       "    //this section is from http://www.quirksmode.org/js/events_properties.html\n",
       "    var targ;\n",
       "    if (!e) {\n",
       "        e = window.event;\n",
       "    }\n",
       "    if (e.target) {\n",
       "        targ = e.target;\n",
       "    } else if (e.srcElement) {\n",
       "        targ = e.srcElement;\n",
       "    }\n",
       "    if (targ.nodeType === 3) {\n",
       "        // defeat Safari bug\n",
       "        targ = targ.parentNode;\n",
       "    }\n",
       "\n",
       "    // pageX,Y are the mouse positions relative to the document\n",
       "    var boundingRect = targ.getBoundingClientRect();\n",
       "    var x = e.pageX - (boundingRect.left + document.body.scrollLeft);\n",
       "    var y = e.pageY - (boundingRect.top + document.body.scrollTop);\n",
       "\n",
       "    return { x: x, y: y };\n",
       "};\n",
       "\n",
       "/*\n",
       " * return a copy of an object with only non-object keys\n",
       " * we need this to avoid circular references\n",
       " * https://stackoverflow.com/a/24161582/3208463\n",
       " */\n",
       "function simpleKeys(original) {\n",
       "    return Object.keys(original).reduce(function (obj, key) {\n",
       "        if (typeof original[key] !== 'object') {\n",
       "            obj[key] = original[key];\n",
       "        }\n",
       "        return obj;\n",
       "    }, {});\n",
       "}\n",
       "\n",
       "mpl.figure.prototype.mouse_event = function (event, name) {\n",
       "    var canvas_pos = mpl.findpos(event);\n",
       "\n",
       "    if (name === 'button_press') {\n",
       "        this.canvas.focus();\n",
       "        this.canvas_div.focus();\n",
       "    }\n",
       "\n",
       "    var x = canvas_pos.x * this.ratio;\n",
       "    var y = canvas_pos.y * this.ratio;\n",
       "\n",
       "    this.send_message(name, {\n",
       "        x: x,\n",
       "        y: y,\n",
       "        button: event.button,\n",
       "        step: event.step,\n",
       "        guiEvent: simpleKeys(event),\n",
       "    });\n",
       "\n",
       "    /* This prevents the web browser from automatically changing to\n",
       "     * the text insertion cursor when the button is pressed.  We want\n",
       "     * to control all of the cursor setting manually through the\n",
       "     * 'cursor' event from matplotlib */\n",
       "    event.preventDefault();\n",
       "    return false;\n",
       "};\n",
       "\n",
       "mpl.figure.prototype._key_event_extra = function (_event, _name) {\n",
       "    // Handle any extra behaviour associated with a key event\n",
       "};\n",
       "\n",
       "mpl.figure.prototype.key_event = function (event, name) {\n",
       "    // Prevent repeat events\n",
       "    if (name === 'key_press') {\n",
       "        if (event.key === this._key) {\n",
       "            return;\n",
       "        } else {\n",
       "            this._key = event.key;\n",
       "        }\n",
       "    }\n",
       "    if (name === 'key_release') {\n",
       "        this._key = null;\n",
       "    }\n",
       "\n",
       "    var value = '';\n",
       "    if (event.ctrlKey && event.key !== 'Control') {\n",
       "        value += 'ctrl+';\n",
       "    }\n",
       "    else if (event.altKey && event.key !== 'Alt') {\n",
       "        value += 'alt+';\n",
       "    }\n",
       "    else if (event.shiftKey && event.key !== 'Shift') {\n",
       "        value += 'shift+';\n",
       "    }\n",
       "\n",
       "    value += 'k' + event.key;\n",
       "\n",
       "    this._key_event_extra(event, name);\n",
       "\n",
       "    this.send_message(name, { key: value, guiEvent: simpleKeys(event) });\n",
       "    return false;\n",
       "};\n",
       "\n",
       "mpl.figure.prototype.toolbar_button_onclick = function (name) {\n",
       "    if (name === 'download') {\n",
       "        this.handle_save(this, null);\n",
       "    } else {\n",
       "        this.send_message('toolbar_button', { name: name });\n",
       "    }\n",
       "};\n",
       "\n",
       "mpl.figure.prototype.toolbar_button_onmouseover = function (tooltip) {\n",
       "    this.message.textContent = tooltip;\n",
       "};\n",
       "\n",
       "///////////////// REMAINING CONTENT GENERATED BY embed_js.py /////////////////\n",
       "// prettier-ignore\n",
       "var _JSXTOOLS_RESIZE_OBSERVER=function(A){var t,i=new WeakMap,n=new WeakMap,a=new WeakMap,r=new WeakMap,o=new Set;function s(e){if(!(this instanceof s))throw new TypeError(\"Constructor requires 'new' operator\");i.set(this,e)}function h(){throw new TypeError(\"Function is not a constructor\")}function c(e,t,i,n){e=0 in arguments?Number(arguments[0]):0,t=1 in arguments?Number(arguments[1]):0,i=2 in arguments?Number(arguments[2]):0,n=3 in arguments?Number(arguments[3]):0,this.right=(this.x=this.left=e)+(this.width=i),this.bottom=(this.y=this.top=t)+(this.height=n),Object.freeze(this)}function d(){t=requestAnimationFrame(d);var s=new WeakMap,p=new Set;o.forEach((function(t){r.get(t).forEach((function(i){var r=t instanceof window.SVGElement,o=a.get(t),d=r?0:parseFloat(o.paddingTop),f=r?0:parseFloat(o.paddingRight),l=r?0:parseFloat(o.paddingBottom),u=r?0:parseFloat(o.paddingLeft),g=r?0:parseFloat(o.borderTopWidth),m=r?0:parseFloat(o.borderRightWidth),w=r?0:parseFloat(o.borderBottomWidth),b=u+f,F=d+l,v=(r?0:parseFloat(o.borderLeftWidth))+m,W=g+w,y=r?0:t.offsetHeight-W-t.clientHeight,E=r?0:t.offsetWidth-v-t.clientWidth,R=b+v,z=F+W,M=r?t.width:parseFloat(o.width)-R-E,O=r?t.height:parseFloat(o.height)-z-y;if(n.has(t)){var k=n.get(t);if(k[0]===M&&k[1]===O)return}n.set(t,[M,O]);var S=Object.create(h.prototype);S.target=t,S.contentRect=new c(u,d,M,O),s.has(i)||(s.set(i,[]),p.add(i)),s.get(i).push(S)}))})),p.forEach((function(e){i.get(e).call(e,s.get(e),e)}))}return s.prototype.observe=function(i){if(i instanceof window.Element){r.has(i)||(r.set(i,new Set),o.add(i),a.set(i,window.getComputedStyle(i)));var n=r.get(i);n.has(this)||n.add(this),cancelAnimationFrame(t),t=requestAnimationFrame(d)}},s.prototype.unobserve=function(i){if(i instanceof window.Element&&r.has(i)){var n=r.get(i);n.has(this)&&(n.delete(this),n.size||(r.delete(i),o.delete(i))),n.size||r.delete(i),o.size||cancelAnimationFrame(t)}},A.DOMRectReadOnly=c,A.ResizeObserver=s,A.ResizeObserverEntry=h,A}; // eslint-disable-line\n",
       "mpl.toolbar_items = [[\"Home\", \"Reset original view\", \"fa fa-home icon-home\", \"home\"], [\"Back\", \"Back to previous view\", \"fa fa-arrow-left icon-arrow-left\", \"back\"], [\"Forward\", \"Forward to next view\", \"fa fa-arrow-right icon-arrow-right\", \"forward\"], [\"\", \"\", \"\", \"\"], [\"Pan\", \"Left button pans, Right button zooms\\nx/y fixes axis, CTRL fixes aspect\", \"fa fa-arrows icon-move\", \"pan\"], [\"Zoom\", \"Zoom to rectangle\\nx/y fixes axis\", \"fa fa-square-o icon-check-empty\", \"zoom\"], [\"\", \"\", \"\", \"\"], [\"Download\", \"Download plot\", \"fa fa-floppy-o icon-save\", \"download\"]];\n",
       "\n",
       "mpl.extensions = [\"eps\", \"jpeg\", \"pgf\", \"pdf\", \"png\", \"ps\", \"raw\", \"svg\", \"tif\"];\n",
       "\n",
       "mpl.default_extension = \"png\";/* global mpl */\n",
       "\n",
       "var comm_websocket_adapter = function (comm) {\n",
       "    // Create a \"websocket\"-like object which calls the given IPython comm\n",
       "    // object with the appropriate methods. Currently this is a non binary\n",
       "    // socket, so there is still some room for performance tuning.\n",
       "    var ws = {};\n",
       "\n",
       "    ws.binaryType = comm.kernel.ws.binaryType;\n",
       "    ws.readyState = comm.kernel.ws.readyState;\n",
       "    function updateReadyState(_event) {\n",
       "        if (comm.kernel.ws) {\n",
       "            ws.readyState = comm.kernel.ws.readyState;\n",
       "        } else {\n",
       "            ws.readyState = 3; // Closed state.\n",
       "        }\n",
       "    }\n",
       "    comm.kernel.ws.addEventListener('open', updateReadyState);\n",
       "    comm.kernel.ws.addEventListener('close', updateReadyState);\n",
       "    comm.kernel.ws.addEventListener('error', updateReadyState);\n",
       "\n",
       "    ws.close = function () {\n",
       "        comm.close();\n",
       "    };\n",
       "    ws.send = function (m) {\n",
       "        //console.log('sending', m);\n",
       "        comm.send(m);\n",
       "    };\n",
       "    // Register the callback with on_msg.\n",
       "    comm.on_msg(function (msg) {\n",
       "        //console.log('receiving', msg['content']['data'], msg);\n",
       "        var data = msg['content']['data'];\n",
       "        if (data['blob'] !== undefined) {\n",
       "            data = {\n",
       "                data: new Blob(msg['buffers'], { type: data['blob'] }),\n",
       "            };\n",
       "        }\n",
       "        // Pass the mpl event to the overridden (by mpl) onmessage function.\n",
       "        ws.onmessage(data);\n",
       "    });\n",
       "    return ws;\n",
       "};\n",
       "\n",
       "mpl.mpl_figure_comm = function (comm, msg) {\n",
       "    // This is the function which gets called when the mpl process\n",
       "    // starts-up an IPython Comm through the \"matplotlib\" channel.\n",
       "\n",
       "    var id = msg.content.data.id;\n",
       "    // Get hold of the div created by the display call when the Comm\n",
       "    // socket was opened in Python.\n",
       "    var element = document.getElementById(id);\n",
       "    var ws_proxy = comm_websocket_adapter(comm);\n",
       "\n",
       "    function ondownload(figure, _format) {\n",
       "        window.open(figure.canvas.toDataURL());\n",
       "    }\n",
       "\n",
       "    var fig = new mpl.figure(id, ws_proxy, ondownload, element);\n",
       "\n",
       "    // Call onopen now - mpl needs it, as it is assuming we've passed it a real\n",
       "    // web socket which is closed, not our websocket->open comm proxy.\n",
       "    ws_proxy.onopen();\n",
       "\n",
       "    fig.parent_element = element;\n",
       "    fig.cell_info = mpl.find_output_cell(\"<div id='\" + id + \"'></div>\");\n",
       "    if (!fig.cell_info) {\n",
       "        console.error('Failed to find cell for figure', id, fig);\n",
       "        return;\n",
       "    }\n",
       "    fig.cell_info[0].output_area.element.on(\n",
       "        'cleared',\n",
       "        { fig: fig },\n",
       "        fig._remove_fig_handler\n",
       "    );\n",
       "};\n",
       "\n",
       "mpl.figure.prototype.handle_close = function (fig, msg) {\n",
       "    var width = fig.canvas.width / fig.ratio;\n",
       "    fig.cell_info[0].output_area.element.off(\n",
       "        'cleared',\n",
       "        fig._remove_fig_handler\n",
       "    );\n",
       "    fig.resizeObserverInstance.unobserve(fig.canvas_div);\n",
       "\n",
       "    // Update the output cell to use the data from the current canvas.\n",
       "    fig.push_to_output();\n",
       "    var dataURL = fig.canvas.toDataURL();\n",
       "    // Re-enable the keyboard manager in IPython - without this line, in FF,\n",
       "    // the notebook keyboard shortcuts fail.\n",
       "    IPython.keyboard_manager.enable();\n",
       "    fig.parent_element.innerHTML =\n",
       "        '<img src=\"' + dataURL + '\" width=\"' + width + '\">';\n",
       "    fig.close_ws(fig, msg);\n",
       "};\n",
       "\n",
       "mpl.figure.prototype.close_ws = function (fig, msg) {\n",
       "    fig.send_message('closing', msg);\n",
       "    // fig.ws.close()\n",
       "};\n",
       "\n",
       "mpl.figure.prototype.push_to_output = function (_remove_interactive) {\n",
       "    // Turn the data on the canvas into data in the output cell.\n",
       "    var width = this.canvas.width / this.ratio;\n",
       "    var dataURL = this.canvas.toDataURL();\n",
       "    this.cell_info[1]['text/html'] =\n",
       "        '<img src=\"' + dataURL + '\" width=\"' + width + '\">';\n",
       "};\n",
       "\n",
       "mpl.figure.prototype.updated_canvas_event = function () {\n",
       "    // Tell IPython that the notebook contents must change.\n",
       "    IPython.notebook.set_dirty(true);\n",
       "    this.send_message('ack', {});\n",
       "    var fig = this;\n",
       "    // Wait a second, then push the new image to the DOM so\n",
       "    // that it is saved nicely (might be nice to debounce this).\n",
       "    setTimeout(function () {\n",
       "        fig.push_to_output();\n",
       "    }, 1000);\n",
       "};\n",
       "\n",
       "mpl.figure.prototype._init_toolbar = function () {\n",
       "    var fig = this;\n",
       "\n",
       "    var toolbar = document.createElement('div');\n",
       "    toolbar.classList = 'btn-toolbar';\n",
       "    this.root.appendChild(toolbar);\n",
       "\n",
       "    function on_click_closure(name) {\n",
       "        return function (_event) {\n",
       "            return fig.toolbar_button_onclick(name);\n",
       "        };\n",
       "    }\n",
       "\n",
       "    function on_mouseover_closure(tooltip) {\n",
       "        return function (event) {\n",
       "            if (!event.currentTarget.disabled) {\n",
       "                return fig.toolbar_button_onmouseover(tooltip);\n",
       "            }\n",
       "        };\n",
       "    }\n",
       "\n",
       "    fig.buttons = {};\n",
       "    var buttonGroup = document.createElement('div');\n",
       "    buttonGroup.classList = 'btn-group';\n",
       "    var button;\n",
       "    for (var toolbar_ind in mpl.toolbar_items) {\n",
       "        var name = mpl.toolbar_items[toolbar_ind][0];\n",
       "        var tooltip = mpl.toolbar_items[toolbar_ind][1];\n",
       "        var image = mpl.toolbar_items[toolbar_ind][2];\n",
       "        var method_name = mpl.toolbar_items[toolbar_ind][3];\n",
       "\n",
       "        if (!name) {\n",
       "            /* Instead of a spacer, we start a new button group. */\n",
       "            if (buttonGroup.hasChildNodes()) {\n",
       "                toolbar.appendChild(buttonGroup);\n",
       "            }\n",
       "            buttonGroup = document.createElement('div');\n",
       "            buttonGroup.classList = 'btn-group';\n",
       "            continue;\n",
       "        }\n",
       "\n",
       "        button = fig.buttons[name] = document.createElement('button');\n",
       "        button.classList = 'btn btn-default';\n",
       "        button.href = '#';\n",
       "        button.title = name;\n",
       "        button.innerHTML = '<i class=\"fa ' + image + ' fa-lg\"></i>';\n",
       "        button.addEventListener('click', on_click_closure(method_name));\n",
       "        button.addEventListener('mouseover', on_mouseover_closure(tooltip));\n",
       "        buttonGroup.appendChild(button);\n",
       "    }\n",
       "\n",
       "    if (buttonGroup.hasChildNodes()) {\n",
       "        toolbar.appendChild(buttonGroup);\n",
       "    }\n",
       "\n",
       "    // Add the status bar.\n",
       "    var status_bar = document.createElement('span');\n",
       "    status_bar.classList = 'mpl-message pull-right';\n",
       "    toolbar.appendChild(status_bar);\n",
       "    this.message = status_bar;\n",
       "\n",
       "    // Add the close button to the window.\n",
       "    var buttongrp = document.createElement('div');\n",
       "    buttongrp.classList = 'btn-group inline pull-right';\n",
       "    button = document.createElement('button');\n",
       "    button.classList = 'btn btn-mini btn-primary';\n",
       "    button.href = '#';\n",
       "    button.title = 'Stop Interaction';\n",
       "    button.innerHTML = '<i class=\"fa fa-power-off icon-remove icon-large\"></i>';\n",
       "    button.addEventListener('click', function (_evt) {\n",
       "        fig.handle_close(fig, {});\n",
       "    });\n",
       "    button.addEventListener(\n",
       "        'mouseover',\n",
       "        on_mouseover_closure('Stop Interaction')\n",
       "    );\n",
       "    buttongrp.appendChild(button);\n",
       "    var titlebar = this.root.querySelector('.ui-dialog-titlebar');\n",
       "    titlebar.insertBefore(buttongrp, titlebar.firstChild);\n",
       "};\n",
       "\n",
       "mpl.figure.prototype._remove_fig_handler = function (event) {\n",
       "    var fig = event.data.fig;\n",
       "    if (event.target !== this) {\n",
       "        // Ignore bubbled events from children.\n",
       "        return;\n",
       "    }\n",
       "    fig.close_ws(fig, {});\n",
       "};\n",
       "\n",
       "mpl.figure.prototype._root_extra_style = function (el) {\n",
       "    el.style.boxSizing = 'content-box'; // override notebook setting of border-box.\n",
       "};\n",
       "\n",
       "mpl.figure.prototype._canvas_extra_style = function (el) {\n",
       "    // this is important to make the div 'focusable\n",
       "    el.setAttribute('tabindex', 0);\n",
       "    // reach out to IPython and tell the keyboard manager to turn it's self\n",
       "    // off when our div gets focus\n",
       "\n",
       "    // location in version 3\n",
       "    if (IPython.notebook.keyboard_manager) {\n",
       "        IPython.notebook.keyboard_manager.register_events(el);\n",
       "    } else {\n",
       "        // location in version 2\n",
       "        IPython.keyboard_manager.register_events(el);\n",
       "    }\n",
       "};\n",
       "\n",
       "mpl.figure.prototype._key_event_extra = function (event, _name) {\n",
       "    // Check for shift+enter\n",
       "    if (event.shiftKey && event.which === 13) {\n",
       "        this.canvas_div.blur();\n",
       "        // select the cell after this one\n",
       "        var index = IPython.notebook.find_cell_index(this.cell_info[0]);\n",
       "        IPython.notebook.select(index + 1);\n",
       "    }\n",
       "};\n",
       "\n",
       "mpl.figure.prototype.handle_save = function (fig, _msg) {\n",
       "    fig.ondownload(fig, null);\n",
       "};\n",
       "\n",
       "mpl.find_output_cell = function (html_output) {\n",
       "    // Return the cell and output element which can be found *uniquely* in the notebook.\n",
       "    // Note - this is a bit hacky, but it is done because the \"notebook_saving.Notebook\"\n",
       "    // IPython event is triggered only after the cells have been serialised, which for\n",
       "    // our purposes (turning an active figure into a static one), is too late.\n",
       "    var cells = IPython.notebook.get_cells();\n",
       "    var ncells = cells.length;\n",
       "    for (var i = 0; i < ncells; i++) {\n",
       "        var cell = cells[i];\n",
       "        if (cell.cell_type === 'code') {\n",
       "            for (var j = 0; j < cell.output_area.outputs.length; j++) {\n",
       "                var data = cell.output_area.outputs[j];\n",
       "                if (data.data) {\n",
       "                    // IPython >= 3 moved mimebundle to data attribute of output\n",
       "                    data = data.data;\n",
       "                }\n",
       "                if (data['text/html'] === html_output) {\n",
       "                    return [cell, data, j];\n",
       "                }\n",
       "            }\n",
       "        }\n",
       "    }\n",
       "};\n",
       "\n",
       "// Register the function which deals with the matplotlib target/channel.\n",
       "// The kernel may be null if the page has been refreshed.\n",
       "if (IPython.notebook.kernel !== null) {\n",
       "    IPython.notebook.kernel.comm_manager.register_target(\n",
       "        'matplotlib',\n",
       "        mpl.mpl_figure_comm\n",
       "    );\n",
       "}\n"
      ],
      "text/plain": [
       "<IPython.core.display.Javascript object>"
      ]
     },
     "metadata": {},
     "output_type": "display_data"
    },
    {
     "data": {
      "text/html": [
       "<img src=\"data:image/png;base64,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\" width=\"2399.9999642372136\">"
      ],
      "text/plain": [
       "<IPython.core.display.HTML object>"
      ]
     },
     "metadata": {},
     "output_type": "display_data"
    }
   ],
   "source": [
    "fig = plt.figure(figsize=(12,6))\n",
    "ax = fig.add_subplot(121, projection='3d')\n",
    "\n",
    "x = np.arange(-4, 4, .5)\n",
    "y = np.arange(-4, 4, .5)\n",
    "X,Y = np.meshgrid(x,y)\n",
    "\n",
    "\n",
    "def sQuadratic(v, S=S):\n",
    "    return (S @ v) @ v\n",
    "\n",
    "Z = np.apply_along_axis(sQuadratic, 0, np.array([X, Y]))\n",
    "\n",
    "ax.plot_wireframe(X, Y, Z, alpha=0.4)\n",
    "plt.show()\n"
   ]
  },
  {
   "cell_type": "markdown",
   "id": "532be9cc",
   "metadata": {
    "slideshow": {
     "slide_type": "slide"
    }
   },
   "source": [
    "### Positive definite matrices\n",
    "\n",
    "The quadratic form of $S$ has a saddle point at $\\mathbf 0$.\n",
    "\n",
    "Symmetric matrices with a quadratic form which is everywhere $\\neq \\mathbf 0$ positive are called **positive definit**.\n",
    "\n",
    "#### Definition\n",
    "A matrix $S$ is **positive definite** if and only if for all vectors $\\mathbf x \\neq \\mathbf 0$:\n",
    "$$\n",
    "    \\mathbf x' S \\mathbf x > 0\n",
    "$$\n",
    "\n",
    "\n",
    "#### Example"
   ]
  },
  {
   "cell_type": "code",
   "execution_count": 43,
   "id": "b979f466",
   "metadata": {},
   "outputs": [
    {
     "data": {
      "text/latex": [
       "$\\displaystyle \\left[\\begin{matrix}2 & -1\\\\-1 & 2\\end{matrix}\\right]$"
      ],
      "text/plain": [
       "Matrix([\n",
       "[ 2, -1],\n",
       "[-1,  2]])"
      ]
     },
     "execution_count": 43,
     "metadata": {},
     "output_type": "execute_result"
    }
   ],
   "source": [
    "S1 = Matrix([\n",
    "    [2,-1],\n",
    "    [-1,2]\n",
    "])\n",
    "S1"
   ]
  },
  {
   "cell_type": "code",
   "execution_count": 44,
   "id": "0da1bb56",
   "metadata": {
    "hide_input": true,
    "slideshow": {
     "slide_type": "slide"
    }
   },
   "outputs": [
    {
     "data": {
      "application/javascript": [
       "/* Put everything inside the global mpl namespace */\n",
       "/* global mpl */\n",
       "window.mpl = {};\n",
       "\n",
       "mpl.get_websocket_type = function () {\n",
       "    if (typeof WebSocket !== 'undefined') {\n",
       "        return WebSocket;\n",
       "    } else if (typeof MozWebSocket !== 'undefined') {\n",
       "        return MozWebSocket;\n",
       "    } else {\n",
       "        alert(\n",
       "            'Your browser does not have WebSocket support. ' +\n",
       "                'Please try Chrome, Safari or Firefox ≥ 6. ' +\n",
       "                'Firefox 4 and 5 are also supported but you ' +\n",
       "                'have to enable WebSockets in about:config.'\n",
       "        );\n",
       "    }\n",
       "};\n",
       "\n",
       "mpl.figure = function (figure_id, websocket, ondownload, parent_element) {\n",
       "    this.id = figure_id;\n",
       "\n",
       "    this.ws = websocket;\n",
       "\n",
       "    this.supports_binary = this.ws.binaryType !== undefined;\n",
       "\n",
       "    if (!this.supports_binary) {\n",
       "        var warnings = document.getElementById('mpl-warnings');\n",
       "        if (warnings) {\n",
       "            warnings.style.display = 'block';\n",
       "            warnings.textContent =\n",
       "                'This browser does not support binary websocket messages. ' +\n",
       "                'Performance may be slow.';\n",
       "        }\n",
       "    }\n",
       "\n",
       "    this.imageObj = new Image();\n",
       "\n",
       "    this.context = undefined;\n",
       "    this.message = undefined;\n",
       "    this.canvas = undefined;\n",
       "    this.rubberband_canvas = undefined;\n",
       "    this.rubberband_context = undefined;\n",
       "    this.format_dropdown = undefined;\n",
       "\n",
       "    this.image_mode = 'full';\n",
       "\n",
       "    this.root = document.createElement('div');\n",
       "    this.root.setAttribute('style', 'display: inline-block');\n",
       "    this._root_extra_style(this.root);\n",
       "\n",
       "    parent_element.appendChild(this.root);\n",
       "\n",
       "    this._init_header(this);\n",
       "    this._init_canvas(this);\n",
       "    this._init_toolbar(this);\n",
       "\n",
       "    var fig = this;\n",
       "\n",
       "    this.waiting = false;\n",
       "\n",
       "    this.ws.onopen = function () {\n",
       "        fig.send_message('supports_binary', { value: fig.supports_binary });\n",
       "        fig.send_message('send_image_mode', {});\n",
       "        if (fig.ratio !== 1) {\n",
       "            fig.send_message('set_device_pixel_ratio', {\n",
       "                device_pixel_ratio: fig.ratio,\n",
       "            });\n",
       "        }\n",
       "        fig.send_message('refresh', {});\n",
       "    };\n",
       "\n",
       "    this.imageObj.onload = function () {\n",
       "        if (fig.image_mode === 'full') {\n",
       "            // Full images could contain transparency (where diff images\n",
       "            // almost always do), so we need to clear the canvas so that\n",
       "            // there is no ghosting.\n",
       "            fig.context.clearRect(0, 0, fig.canvas.width, fig.canvas.height);\n",
       "        }\n",
       "        fig.context.drawImage(fig.imageObj, 0, 0);\n",
       "    };\n",
       "\n",
       "    this.imageObj.onunload = function () {\n",
       "        fig.ws.close();\n",
       "    };\n",
       "\n",
       "    this.ws.onmessage = this._make_on_message_function(this);\n",
       "\n",
       "    this.ondownload = ondownload;\n",
       "};\n",
       "\n",
       "mpl.figure.prototype._init_header = function () {\n",
       "    var titlebar = document.createElement('div');\n",
       "    titlebar.classList =\n",
       "        'ui-dialog-titlebar ui-widget-header ui-corner-all ui-helper-clearfix';\n",
       "    var titletext = document.createElement('div');\n",
       "    titletext.classList = 'ui-dialog-title';\n",
       "    titletext.setAttribute(\n",
       "        'style',\n",
       "        'width: 100%; text-align: center; padding: 3px;'\n",
       "    );\n",
       "    titlebar.appendChild(titletext);\n",
       "    this.root.appendChild(titlebar);\n",
       "    this.header = titletext;\n",
       "};\n",
       "\n",
       "mpl.figure.prototype._canvas_extra_style = function (_canvas_div) {};\n",
       "\n",
       "mpl.figure.prototype._root_extra_style = function (_canvas_div) {};\n",
       "\n",
       "mpl.figure.prototype._init_canvas = function () {\n",
       "    var fig = this;\n",
       "\n",
       "    var canvas_div = (this.canvas_div = document.createElement('div'));\n",
       "    canvas_div.setAttribute(\n",
       "        'style',\n",
       "        'border: 1px solid #ddd;' +\n",
       "            'box-sizing: content-box;' +\n",
       "            'clear: both;' +\n",
       "            'min-height: 1px;' +\n",
       "            'min-width: 1px;' +\n",
       "            'outline: 0;' +\n",
       "            'overflow: hidden;' +\n",
       "            'position: relative;' +\n",
       "            'resize: both;'\n",
       "    );\n",
       "\n",
       "    function on_keyboard_event_closure(name) {\n",
       "        return function (event) {\n",
       "            return fig.key_event(event, name);\n",
       "        };\n",
       "    }\n",
       "\n",
       "    canvas_div.addEventListener(\n",
       "        'keydown',\n",
       "        on_keyboard_event_closure('key_press')\n",
       "    );\n",
       "    canvas_div.addEventListener(\n",
       "        'keyup',\n",
       "        on_keyboard_event_closure('key_release')\n",
       "    );\n",
       "\n",
       "    this._canvas_extra_style(canvas_div);\n",
       "    this.root.appendChild(canvas_div);\n",
       "\n",
       "    var canvas = (this.canvas = document.createElement('canvas'));\n",
       "    canvas.classList.add('mpl-canvas');\n",
       "    canvas.setAttribute('style', 'box-sizing: content-box;');\n",
       "\n",
       "    this.context = canvas.getContext('2d');\n",
       "\n",
       "    var backingStore =\n",
       "        this.context.backingStorePixelRatio ||\n",
       "        this.context.webkitBackingStorePixelRatio ||\n",
       "        this.context.mozBackingStorePixelRatio ||\n",
       "        this.context.msBackingStorePixelRatio ||\n",
       "        this.context.oBackingStorePixelRatio ||\n",
       "        this.context.backingStorePixelRatio ||\n",
       "        1;\n",
       "\n",
       "    this.ratio = (window.devicePixelRatio || 1) / backingStore;\n",
       "\n",
       "    var rubberband_canvas = (this.rubberband_canvas = document.createElement(\n",
       "        'canvas'\n",
       "    ));\n",
       "    rubberband_canvas.setAttribute(\n",
       "        'style',\n",
       "        'box-sizing: content-box; position: absolute; left: 0; top: 0; z-index: 1;'\n",
       "    );\n",
       "\n",
       "    // Apply a ponyfill if ResizeObserver is not implemented by browser.\n",
       "    if (this.ResizeObserver === undefined) {\n",
       "        if (window.ResizeObserver !== undefined) {\n",
       "            this.ResizeObserver = window.ResizeObserver;\n",
       "        } else {\n",
       "            var obs = _JSXTOOLS_RESIZE_OBSERVER({});\n",
       "            this.ResizeObserver = obs.ResizeObserver;\n",
       "        }\n",
       "    }\n",
       "\n",
       "    this.resizeObserverInstance = new this.ResizeObserver(function (entries) {\n",
       "        var nentries = entries.length;\n",
       "        for (var i = 0; i < nentries; i++) {\n",
       "            var entry = entries[i];\n",
       "            var width, height;\n",
       "            if (entry.contentBoxSize) {\n",
       "                if (entry.contentBoxSize instanceof Array) {\n",
       "                    // Chrome 84 implements new version of spec.\n",
       "                    width = entry.contentBoxSize[0].inlineSize;\n",
       "                    height = entry.contentBoxSize[0].blockSize;\n",
       "                } else {\n",
       "                    // Firefox implements old version of spec.\n",
       "                    width = entry.contentBoxSize.inlineSize;\n",
       "                    height = entry.contentBoxSize.blockSize;\n",
       "                }\n",
       "            } else {\n",
       "                // Chrome <84 implements even older version of spec.\n",
       "                width = entry.contentRect.width;\n",
       "                height = entry.contentRect.height;\n",
       "            }\n",
       "\n",
       "            // Keep the size of the canvas and rubber band canvas in sync with\n",
       "            // the canvas container.\n",
       "            if (entry.devicePixelContentBoxSize) {\n",
       "                // Chrome 84 implements new version of spec.\n",
       "                canvas.setAttribute(\n",
       "                    'width',\n",
       "                    entry.devicePixelContentBoxSize[0].inlineSize\n",
       "                );\n",
       "                canvas.setAttribute(\n",
       "                    'height',\n",
       "                    entry.devicePixelContentBoxSize[0].blockSize\n",
       "                );\n",
       "            } else {\n",
       "                canvas.setAttribute('width', width * fig.ratio);\n",
       "                canvas.setAttribute('height', height * fig.ratio);\n",
       "            }\n",
       "            canvas.setAttribute(\n",
       "                'style',\n",
       "                'width: ' + width + 'px; height: ' + height + 'px;'\n",
       "            );\n",
       "\n",
       "            rubberband_canvas.setAttribute('width', width);\n",
       "            rubberband_canvas.setAttribute('height', height);\n",
       "\n",
       "            // And update the size in Python. We ignore the initial 0/0 size\n",
       "            // that occurs as the element is placed into the DOM, which should\n",
       "            // otherwise not happen due to the minimum size styling.\n",
       "            if (fig.ws.readyState == 1 && width != 0 && height != 0) {\n",
       "                fig.request_resize(width, height);\n",
       "            }\n",
       "        }\n",
       "    });\n",
       "    this.resizeObserverInstance.observe(canvas_div);\n",
       "\n",
       "    function on_mouse_event_closure(name) {\n",
       "        return function (event) {\n",
       "            return fig.mouse_event(event, name);\n",
       "        };\n",
       "    }\n",
       "\n",
       "    rubberband_canvas.addEventListener(\n",
       "        'mousedown',\n",
       "        on_mouse_event_closure('button_press')\n",
       "    );\n",
       "    rubberband_canvas.addEventListener(\n",
       "        'mouseup',\n",
       "        on_mouse_event_closure('button_release')\n",
       "    );\n",
       "    rubberband_canvas.addEventListener(\n",
       "        'dblclick',\n",
       "        on_mouse_event_closure('dblclick')\n",
       "    );\n",
       "    // Throttle sequential mouse events to 1 every 20ms.\n",
       "    rubberband_canvas.addEventListener(\n",
       "        'mousemove',\n",
       "        on_mouse_event_closure('motion_notify')\n",
       "    );\n",
       "\n",
       "    rubberband_canvas.addEventListener(\n",
       "        'mouseenter',\n",
       "        on_mouse_event_closure('figure_enter')\n",
       "    );\n",
       "    rubberband_canvas.addEventListener(\n",
       "        'mouseleave',\n",
       "        on_mouse_event_closure('figure_leave')\n",
       "    );\n",
       "\n",
       "    canvas_div.addEventListener('wheel', function (event) {\n",
       "        if (event.deltaY < 0) {\n",
       "            event.step = 1;\n",
       "        } else {\n",
       "            event.step = -1;\n",
       "        }\n",
       "        on_mouse_event_closure('scroll')(event);\n",
       "    });\n",
       "\n",
       "    canvas_div.appendChild(canvas);\n",
       "    canvas_div.appendChild(rubberband_canvas);\n",
       "\n",
       "    this.rubberband_context = rubberband_canvas.getContext('2d');\n",
       "    this.rubberband_context.strokeStyle = '#000000';\n",
       "\n",
       "    this._resize_canvas = function (width, height, forward) {\n",
       "        if (forward) {\n",
       "            canvas_div.style.width = width + 'px';\n",
       "            canvas_div.style.height = height + 'px';\n",
       "        }\n",
       "    };\n",
       "\n",
       "    // Disable right mouse context menu.\n",
       "    this.rubberband_canvas.addEventListener('contextmenu', function (_e) {\n",
       "        event.preventDefault();\n",
       "        return false;\n",
       "    });\n",
       "\n",
       "    function set_focus() {\n",
       "        canvas.focus();\n",
       "        canvas_div.focus();\n",
       "    }\n",
       "\n",
       "    window.setTimeout(set_focus, 100);\n",
       "};\n",
       "\n",
       "mpl.figure.prototype._init_toolbar = function () {\n",
       "    var fig = this;\n",
       "\n",
       "    var toolbar = document.createElement('div');\n",
       "    toolbar.classList = 'mpl-toolbar';\n",
       "    this.root.appendChild(toolbar);\n",
       "\n",
       "    function on_click_closure(name) {\n",
       "        return function (_event) {\n",
       "            return fig.toolbar_button_onclick(name);\n",
       "        };\n",
       "    }\n",
       "\n",
       "    function on_mouseover_closure(tooltip) {\n",
       "        return function (event) {\n",
       "            if (!event.currentTarget.disabled) {\n",
       "                return fig.toolbar_button_onmouseover(tooltip);\n",
       "            }\n",
       "        };\n",
       "    }\n",
       "\n",
       "    fig.buttons = {};\n",
       "    var buttonGroup = document.createElement('div');\n",
       "    buttonGroup.classList = 'mpl-button-group';\n",
       "    for (var toolbar_ind in mpl.toolbar_items) {\n",
       "        var name = mpl.toolbar_items[toolbar_ind][0];\n",
       "        var tooltip = mpl.toolbar_items[toolbar_ind][1];\n",
       "        var image = mpl.toolbar_items[toolbar_ind][2];\n",
       "        var method_name = mpl.toolbar_items[toolbar_ind][3];\n",
       "\n",
       "        if (!name) {\n",
       "            /* Instead of a spacer, we start a new button group. */\n",
       "            if (buttonGroup.hasChildNodes()) {\n",
       "                toolbar.appendChild(buttonGroup);\n",
       "            }\n",
       "            buttonGroup = document.createElement('div');\n",
       "            buttonGroup.classList = 'mpl-button-group';\n",
       "            continue;\n",
       "        }\n",
       "\n",
       "        var button = (fig.buttons[name] = document.createElement('button'));\n",
       "        button.classList = 'mpl-widget';\n",
       "        button.setAttribute('role', 'button');\n",
       "        button.setAttribute('aria-disabled', 'false');\n",
       "        button.addEventListener('click', on_click_closure(method_name));\n",
       "        button.addEventListener('mouseover', on_mouseover_closure(tooltip));\n",
       "\n",
       "        var icon_img = document.createElement('img');\n",
       "        icon_img.src = '_images/' + image + '.png';\n",
       "        icon_img.srcset = '_images/' + image + '_large.png 2x';\n",
       "        icon_img.alt = tooltip;\n",
       "        button.appendChild(icon_img);\n",
       "\n",
       "        buttonGroup.appendChild(button);\n",
       "    }\n",
       "\n",
       "    if (buttonGroup.hasChildNodes()) {\n",
       "        toolbar.appendChild(buttonGroup);\n",
       "    }\n",
       "\n",
       "    var fmt_picker = document.createElement('select');\n",
       "    fmt_picker.classList = 'mpl-widget';\n",
       "    toolbar.appendChild(fmt_picker);\n",
       "    this.format_dropdown = fmt_picker;\n",
       "\n",
       "    for (var ind in mpl.extensions) {\n",
       "        var fmt = mpl.extensions[ind];\n",
       "        var option = document.createElement('option');\n",
       "        option.selected = fmt === mpl.default_extension;\n",
       "        option.innerHTML = fmt;\n",
       "        fmt_picker.appendChild(option);\n",
       "    }\n",
       "\n",
       "    var status_bar = document.createElement('span');\n",
       "    status_bar.classList = 'mpl-message';\n",
       "    toolbar.appendChild(status_bar);\n",
       "    this.message = status_bar;\n",
       "};\n",
       "\n",
       "mpl.figure.prototype.request_resize = function (x_pixels, y_pixels) {\n",
       "    // Request matplotlib to resize the figure. Matplotlib will then trigger a resize in the client,\n",
       "    // which will in turn request a refresh of the image.\n",
       "    this.send_message('resize', { width: x_pixels, height: y_pixels });\n",
       "};\n",
       "\n",
       "mpl.figure.prototype.send_message = function (type, properties) {\n",
       "    properties['type'] = type;\n",
       "    properties['figure_id'] = this.id;\n",
       "    this.ws.send(JSON.stringify(properties));\n",
       "};\n",
       "\n",
       "mpl.figure.prototype.send_draw_message = function () {\n",
       "    if (!this.waiting) {\n",
       "        this.waiting = true;\n",
       "        this.ws.send(JSON.stringify({ type: 'draw', figure_id: this.id }));\n",
       "    }\n",
       "};\n",
       "\n",
       "mpl.figure.prototype.handle_save = function (fig, _msg) {\n",
       "    var format_dropdown = fig.format_dropdown;\n",
       "    var format = format_dropdown.options[format_dropdown.selectedIndex].value;\n",
       "    fig.ondownload(fig, format);\n",
       "};\n",
       "\n",
       "mpl.figure.prototype.handle_resize = function (fig, msg) {\n",
       "    var size = msg['size'];\n",
       "    if (size[0] !== fig.canvas.width || size[1] !== fig.canvas.height) {\n",
       "        fig._resize_canvas(size[0], size[1], msg['forward']);\n",
       "        fig.send_message('refresh', {});\n",
       "    }\n",
       "};\n",
       "\n",
       "mpl.figure.prototype.handle_rubberband = function (fig, msg) {\n",
       "    var x0 = msg['x0'] / fig.ratio;\n",
       "    var y0 = (fig.canvas.height - msg['y0']) / fig.ratio;\n",
       "    var x1 = msg['x1'] / fig.ratio;\n",
       "    var y1 = (fig.canvas.height - msg['y1']) / fig.ratio;\n",
       "    x0 = Math.floor(x0) + 0.5;\n",
       "    y0 = Math.floor(y0) + 0.5;\n",
       "    x1 = Math.floor(x1) + 0.5;\n",
       "    y1 = Math.floor(y1) + 0.5;\n",
       "    var min_x = Math.min(x0, x1);\n",
       "    var min_y = Math.min(y0, y1);\n",
       "    var width = Math.abs(x1 - x0);\n",
       "    var height = Math.abs(y1 - y0);\n",
       "\n",
       "    fig.rubberband_context.clearRect(\n",
       "        0,\n",
       "        0,\n",
       "        fig.canvas.width / fig.ratio,\n",
       "        fig.canvas.height / fig.ratio\n",
       "    );\n",
       "\n",
       "    fig.rubberband_context.strokeRect(min_x, min_y, width, height);\n",
       "};\n",
       "\n",
       "mpl.figure.prototype.handle_figure_label = function (fig, msg) {\n",
       "    // Updates the figure title.\n",
       "    fig.header.textContent = msg['label'];\n",
       "};\n",
       "\n",
       "mpl.figure.prototype.handle_cursor = function (fig, msg) {\n",
       "    fig.rubberband_canvas.style.cursor = msg['cursor'];\n",
       "};\n",
       "\n",
       "mpl.figure.prototype.handle_message = function (fig, msg) {\n",
       "    fig.message.textContent = msg['message'];\n",
       "};\n",
       "\n",
       "mpl.figure.prototype.handle_draw = function (fig, _msg) {\n",
       "    // Request the server to send over a new figure.\n",
       "    fig.send_draw_message();\n",
       "};\n",
       "\n",
       "mpl.figure.prototype.handle_image_mode = function (fig, msg) {\n",
       "    fig.image_mode = msg['mode'];\n",
       "};\n",
       "\n",
       "mpl.figure.prototype.handle_history_buttons = function (fig, msg) {\n",
       "    for (var key in msg) {\n",
       "        if (!(key in fig.buttons)) {\n",
       "            continue;\n",
       "        }\n",
       "        fig.buttons[key].disabled = !msg[key];\n",
       "        fig.buttons[key].setAttribute('aria-disabled', !msg[key]);\n",
       "    }\n",
       "};\n",
       "\n",
       "mpl.figure.prototype.handle_navigate_mode = function (fig, msg) {\n",
       "    if (msg['mode'] === 'PAN') {\n",
       "        fig.buttons['Pan'].classList.add('active');\n",
       "        fig.buttons['Zoom'].classList.remove('active');\n",
       "    } else if (msg['mode'] === 'ZOOM') {\n",
       "        fig.buttons['Pan'].classList.remove('active');\n",
       "        fig.buttons['Zoom'].classList.add('active');\n",
       "    } else {\n",
       "        fig.buttons['Pan'].classList.remove('active');\n",
       "        fig.buttons['Zoom'].classList.remove('active');\n",
       "    }\n",
       "};\n",
       "\n",
       "mpl.figure.prototype.updated_canvas_event = function () {\n",
       "    // Called whenever the canvas gets updated.\n",
       "    this.send_message('ack', {});\n",
       "};\n",
       "\n",
       "// A function to construct a web socket function for onmessage handling.\n",
       "// Called in the figure constructor.\n",
       "mpl.figure.prototype._make_on_message_function = function (fig) {\n",
       "    return function socket_on_message(evt) {\n",
       "        if (evt.data instanceof Blob) {\n",
       "            var img = evt.data;\n",
       "            if (img.type !== 'image/png') {\n",
       "                /* FIXME: We get \"Resource interpreted as Image but\n",
       "                 * transferred with MIME type text/plain:\" errors on\n",
       "                 * Chrome.  But how to set the MIME type?  It doesn't seem\n",
       "                 * to be part of the websocket stream */\n",
       "                img.type = 'image/png';\n",
       "            }\n",
       "\n",
       "            /* Free the memory for the previous frames */\n",
       "            if (fig.imageObj.src) {\n",
       "                (window.URL || window.webkitURL).revokeObjectURL(\n",
       "                    fig.imageObj.src\n",
       "                );\n",
       "            }\n",
       "\n",
       "            fig.imageObj.src = (window.URL || window.webkitURL).createObjectURL(\n",
       "                img\n",
       "            );\n",
       "            fig.updated_canvas_event();\n",
       "            fig.waiting = false;\n",
       "            return;\n",
       "        } else if (\n",
       "            typeof evt.data === 'string' &&\n",
       "            evt.data.slice(0, 21) === 'data:image/png;base64'\n",
       "        ) {\n",
       "            fig.imageObj.src = evt.data;\n",
       "            fig.updated_canvas_event();\n",
       "            fig.waiting = false;\n",
       "            return;\n",
       "        }\n",
       "\n",
       "        var msg = JSON.parse(evt.data);\n",
       "        var msg_type = msg['type'];\n",
       "\n",
       "        // Call the  \"handle_{type}\" callback, which takes\n",
       "        // the figure and JSON message as its only arguments.\n",
       "        try {\n",
       "            var callback = fig['handle_' + msg_type];\n",
       "        } catch (e) {\n",
       "            console.log(\n",
       "                \"No handler for the '\" + msg_type + \"' message type: \",\n",
       "                msg\n",
       "            );\n",
       "            return;\n",
       "        }\n",
       "\n",
       "        if (callback) {\n",
       "            try {\n",
       "                // console.log(\"Handling '\" + msg_type + \"' message: \", msg);\n",
       "                callback(fig, msg);\n",
       "            } catch (e) {\n",
       "                console.log(\n",
       "                    \"Exception inside the 'handler_\" + msg_type + \"' callback:\",\n",
       "                    e,\n",
       "                    e.stack,\n",
       "                    msg\n",
       "                );\n",
       "            }\n",
       "        }\n",
       "    };\n",
       "};\n",
       "\n",
       "// from https://stackoverflow.com/questions/1114465/getting-mouse-location-in-canvas\n",
       "mpl.findpos = function (e) {\n",
       "    //this section is from http://www.quirksmode.org/js/events_properties.html\n",
       "    var targ;\n",
       "    if (!e) {\n",
       "        e = window.event;\n",
       "    }\n",
       "    if (e.target) {\n",
       "        targ = e.target;\n",
       "    } else if (e.srcElement) {\n",
       "        targ = e.srcElement;\n",
       "    }\n",
       "    if (targ.nodeType === 3) {\n",
       "        // defeat Safari bug\n",
       "        targ = targ.parentNode;\n",
       "    }\n",
       "\n",
       "    // pageX,Y are the mouse positions relative to the document\n",
       "    var boundingRect = targ.getBoundingClientRect();\n",
       "    var x = e.pageX - (boundingRect.left + document.body.scrollLeft);\n",
       "    var y = e.pageY - (boundingRect.top + document.body.scrollTop);\n",
       "\n",
       "    return { x: x, y: y };\n",
       "};\n",
       "\n",
       "/*\n",
       " * return a copy of an object with only non-object keys\n",
       " * we need this to avoid circular references\n",
       " * https://stackoverflow.com/a/24161582/3208463\n",
       " */\n",
       "function simpleKeys(original) {\n",
       "    return Object.keys(original).reduce(function (obj, key) {\n",
       "        if (typeof original[key] !== 'object') {\n",
       "            obj[key] = original[key];\n",
       "        }\n",
       "        return obj;\n",
       "    }, {});\n",
       "}\n",
       "\n",
       "mpl.figure.prototype.mouse_event = function (event, name) {\n",
       "    var canvas_pos = mpl.findpos(event);\n",
       "\n",
       "    if (name === 'button_press') {\n",
       "        this.canvas.focus();\n",
       "        this.canvas_div.focus();\n",
       "    }\n",
       "\n",
       "    var x = canvas_pos.x * this.ratio;\n",
       "    var y = canvas_pos.y * this.ratio;\n",
       "\n",
       "    this.send_message(name, {\n",
       "        x: x,\n",
       "        y: y,\n",
       "        button: event.button,\n",
       "        step: event.step,\n",
       "        guiEvent: simpleKeys(event),\n",
       "    });\n",
       "\n",
       "    /* This prevents the web browser from automatically changing to\n",
       "     * the text insertion cursor when the button is pressed.  We want\n",
       "     * to control all of the cursor setting manually through the\n",
       "     * 'cursor' event from matplotlib */\n",
       "    event.preventDefault();\n",
       "    return false;\n",
       "};\n",
       "\n",
       "mpl.figure.prototype._key_event_extra = function (_event, _name) {\n",
       "    // Handle any extra behaviour associated with a key event\n",
       "};\n",
       "\n",
       "mpl.figure.prototype.key_event = function (event, name) {\n",
       "    // Prevent repeat events\n",
       "    if (name === 'key_press') {\n",
       "        if (event.key === this._key) {\n",
       "            return;\n",
       "        } else {\n",
       "            this._key = event.key;\n",
       "        }\n",
       "    }\n",
       "    if (name === 'key_release') {\n",
       "        this._key = null;\n",
       "    }\n",
       "\n",
       "    var value = '';\n",
       "    if (event.ctrlKey && event.key !== 'Control') {\n",
       "        value += 'ctrl+';\n",
       "    }\n",
       "    else if (event.altKey && event.key !== 'Alt') {\n",
       "        value += 'alt+';\n",
       "    }\n",
       "    else if (event.shiftKey && event.key !== 'Shift') {\n",
       "        value += 'shift+';\n",
       "    }\n",
       "\n",
       "    value += 'k' + event.key;\n",
       "\n",
       "    this._key_event_extra(event, name);\n",
       "\n",
       "    this.send_message(name, { key: value, guiEvent: simpleKeys(event) });\n",
       "    return false;\n",
       "};\n",
       "\n",
       "mpl.figure.prototype.toolbar_button_onclick = function (name) {\n",
       "    if (name === 'download') {\n",
       "        this.handle_save(this, null);\n",
       "    } else {\n",
       "        this.send_message('toolbar_button', { name: name });\n",
       "    }\n",
       "};\n",
       "\n",
       "mpl.figure.prototype.toolbar_button_onmouseover = function (tooltip) {\n",
       "    this.message.textContent = tooltip;\n",
       "};\n",
       "\n",
       "///////////////// REMAINING CONTENT GENERATED BY embed_js.py /////////////////\n",
       "// prettier-ignore\n",
       "var _JSXTOOLS_RESIZE_OBSERVER=function(A){var t,i=new WeakMap,n=new WeakMap,a=new WeakMap,r=new WeakMap,o=new Set;function s(e){if(!(this instanceof s))throw new TypeError(\"Constructor requires 'new' operator\");i.set(this,e)}function h(){throw new TypeError(\"Function is not a constructor\")}function c(e,t,i,n){e=0 in arguments?Number(arguments[0]):0,t=1 in arguments?Number(arguments[1]):0,i=2 in arguments?Number(arguments[2]):0,n=3 in arguments?Number(arguments[3]):0,this.right=(this.x=this.left=e)+(this.width=i),this.bottom=(this.y=this.top=t)+(this.height=n),Object.freeze(this)}function d(){t=requestAnimationFrame(d);var s=new WeakMap,p=new Set;o.forEach((function(t){r.get(t).forEach((function(i){var r=t instanceof window.SVGElement,o=a.get(t),d=r?0:parseFloat(o.paddingTop),f=r?0:parseFloat(o.paddingRight),l=r?0:parseFloat(o.paddingBottom),u=r?0:parseFloat(o.paddingLeft),g=r?0:parseFloat(o.borderTopWidth),m=r?0:parseFloat(o.borderRightWidth),w=r?0:parseFloat(o.borderBottomWidth),b=u+f,F=d+l,v=(r?0:parseFloat(o.borderLeftWidth))+m,W=g+w,y=r?0:t.offsetHeight-W-t.clientHeight,E=r?0:t.offsetWidth-v-t.clientWidth,R=b+v,z=F+W,M=r?t.width:parseFloat(o.width)-R-E,O=r?t.height:parseFloat(o.height)-z-y;if(n.has(t)){var k=n.get(t);if(k[0]===M&&k[1]===O)return}n.set(t,[M,O]);var S=Object.create(h.prototype);S.target=t,S.contentRect=new c(u,d,M,O),s.has(i)||(s.set(i,[]),p.add(i)),s.get(i).push(S)}))})),p.forEach((function(e){i.get(e).call(e,s.get(e),e)}))}return s.prototype.observe=function(i){if(i instanceof window.Element){r.has(i)||(r.set(i,new Set),o.add(i),a.set(i,window.getComputedStyle(i)));var n=r.get(i);n.has(this)||n.add(this),cancelAnimationFrame(t),t=requestAnimationFrame(d)}},s.prototype.unobserve=function(i){if(i instanceof window.Element&&r.has(i)){var n=r.get(i);n.has(this)&&(n.delete(this),n.size||(r.delete(i),o.delete(i))),n.size||r.delete(i),o.size||cancelAnimationFrame(t)}},A.DOMRectReadOnly=c,A.ResizeObserver=s,A.ResizeObserverEntry=h,A}; // eslint-disable-line\n",
       "mpl.toolbar_items = [[\"Home\", \"Reset original view\", \"fa fa-home icon-home\", \"home\"], [\"Back\", \"Back to previous view\", \"fa fa-arrow-left icon-arrow-left\", \"back\"], [\"Forward\", \"Forward to next view\", \"fa fa-arrow-right icon-arrow-right\", \"forward\"], [\"\", \"\", \"\", \"\"], [\"Pan\", \"Left button pans, Right button zooms\\nx/y fixes axis, CTRL fixes aspect\", \"fa fa-arrows icon-move\", \"pan\"], [\"Zoom\", \"Zoom to rectangle\\nx/y fixes axis\", \"fa fa-square-o icon-check-empty\", \"zoom\"], [\"\", \"\", \"\", \"\"], [\"Download\", \"Download plot\", \"fa fa-floppy-o icon-save\", \"download\"]];\n",
       "\n",
       "mpl.extensions = [\"eps\", \"jpeg\", \"pgf\", \"pdf\", \"png\", \"ps\", \"raw\", \"svg\", \"tif\"];\n",
       "\n",
       "mpl.default_extension = \"png\";/* global mpl */\n",
       "\n",
       "var comm_websocket_adapter = function (comm) {\n",
       "    // Create a \"websocket\"-like object which calls the given IPython comm\n",
       "    // object with the appropriate methods. Currently this is a non binary\n",
       "    // socket, so there is still some room for performance tuning.\n",
       "    var ws = {};\n",
       "\n",
       "    ws.binaryType = comm.kernel.ws.binaryType;\n",
       "    ws.readyState = comm.kernel.ws.readyState;\n",
       "    function updateReadyState(_event) {\n",
       "        if (comm.kernel.ws) {\n",
       "            ws.readyState = comm.kernel.ws.readyState;\n",
       "        } else {\n",
       "            ws.readyState = 3; // Closed state.\n",
       "        }\n",
       "    }\n",
       "    comm.kernel.ws.addEventListener('open', updateReadyState);\n",
       "    comm.kernel.ws.addEventListener('close', updateReadyState);\n",
       "    comm.kernel.ws.addEventListener('error', updateReadyState);\n",
       "\n",
       "    ws.close = function () {\n",
       "        comm.close();\n",
       "    };\n",
       "    ws.send = function (m) {\n",
       "        //console.log('sending', m);\n",
       "        comm.send(m);\n",
       "    };\n",
       "    // Register the callback with on_msg.\n",
       "    comm.on_msg(function (msg) {\n",
       "        //console.log('receiving', msg['content']['data'], msg);\n",
       "        var data = msg['content']['data'];\n",
       "        if (data['blob'] !== undefined) {\n",
       "            data = {\n",
       "                data: new Blob(msg['buffers'], { type: data['blob'] }),\n",
       "            };\n",
       "        }\n",
       "        // Pass the mpl event to the overridden (by mpl) onmessage function.\n",
       "        ws.onmessage(data);\n",
       "    });\n",
       "    return ws;\n",
       "};\n",
       "\n",
       "mpl.mpl_figure_comm = function (comm, msg) {\n",
       "    // This is the function which gets called when the mpl process\n",
       "    // starts-up an IPython Comm through the \"matplotlib\" channel.\n",
       "\n",
       "    var id = msg.content.data.id;\n",
       "    // Get hold of the div created by the display call when the Comm\n",
       "    // socket was opened in Python.\n",
       "    var element = document.getElementById(id);\n",
       "    var ws_proxy = comm_websocket_adapter(comm);\n",
       "\n",
       "    function ondownload(figure, _format) {\n",
       "        window.open(figure.canvas.toDataURL());\n",
       "    }\n",
       "\n",
       "    var fig = new mpl.figure(id, ws_proxy, ondownload, element);\n",
       "\n",
       "    // Call onopen now - mpl needs it, as it is assuming we've passed it a real\n",
       "    // web socket which is closed, not our websocket->open comm proxy.\n",
       "    ws_proxy.onopen();\n",
       "\n",
       "    fig.parent_element = element;\n",
       "    fig.cell_info = mpl.find_output_cell(\"<div id='\" + id + \"'></div>\");\n",
       "    if (!fig.cell_info) {\n",
       "        console.error('Failed to find cell for figure', id, fig);\n",
       "        return;\n",
       "    }\n",
       "    fig.cell_info[0].output_area.element.on(\n",
       "        'cleared',\n",
       "        { fig: fig },\n",
       "        fig._remove_fig_handler\n",
       "    );\n",
       "};\n",
       "\n",
       "mpl.figure.prototype.handle_close = function (fig, msg) {\n",
       "    var width = fig.canvas.width / fig.ratio;\n",
       "    fig.cell_info[0].output_area.element.off(\n",
       "        'cleared',\n",
       "        fig._remove_fig_handler\n",
       "    );\n",
       "    fig.resizeObserverInstance.unobserve(fig.canvas_div);\n",
       "\n",
       "    // Update the output cell to use the data from the current canvas.\n",
       "    fig.push_to_output();\n",
       "    var dataURL = fig.canvas.toDataURL();\n",
       "    // Re-enable the keyboard manager in IPython - without this line, in FF,\n",
       "    // the notebook keyboard shortcuts fail.\n",
       "    IPython.keyboard_manager.enable();\n",
       "    fig.parent_element.innerHTML =\n",
       "        '<img src=\"' + dataURL + '\" width=\"' + width + '\">';\n",
       "    fig.close_ws(fig, msg);\n",
       "};\n",
       "\n",
       "mpl.figure.prototype.close_ws = function (fig, msg) {\n",
       "    fig.send_message('closing', msg);\n",
       "    // fig.ws.close()\n",
       "};\n",
       "\n",
       "mpl.figure.prototype.push_to_output = function (_remove_interactive) {\n",
       "    // Turn the data on the canvas into data in the output cell.\n",
       "    var width = this.canvas.width / this.ratio;\n",
       "    var dataURL = this.canvas.toDataURL();\n",
       "    this.cell_info[1]['text/html'] =\n",
       "        '<img src=\"' + dataURL + '\" width=\"' + width + '\">';\n",
       "};\n",
       "\n",
       "mpl.figure.prototype.updated_canvas_event = function () {\n",
       "    // Tell IPython that the notebook contents must change.\n",
       "    IPython.notebook.set_dirty(true);\n",
       "    this.send_message('ack', {});\n",
       "    var fig = this;\n",
       "    // Wait a second, then push the new image to the DOM so\n",
       "    // that it is saved nicely (might be nice to debounce this).\n",
       "    setTimeout(function () {\n",
       "        fig.push_to_output();\n",
       "    }, 1000);\n",
       "};\n",
       "\n",
       "mpl.figure.prototype._init_toolbar = function () {\n",
       "    var fig = this;\n",
       "\n",
       "    var toolbar = document.createElement('div');\n",
       "    toolbar.classList = 'btn-toolbar';\n",
       "    this.root.appendChild(toolbar);\n",
       "\n",
       "    function on_click_closure(name) {\n",
       "        return function (_event) {\n",
       "            return fig.toolbar_button_onclick(name);\n",
       "        };\n",
       "    }\n",
       "\n",
       "    function on_mouseover_closure(tooltip) {\n",
       "        return function (event) {\n",
       "            if (!event.currentTarget.disabled) {\n",
       "                return fig.toolbar_button_onmouseover(tooltip);\n",
       "            }\n",
       "        };\n",
       "    }\n",
       "\n",
       "    fig.buttons = {};\n",
       "    var buttonGroup = document.createElement('div');\n",
       "    buttonGroup.classList = 'btn-group';\n",
       "    var button;\n",
       "    for (var toolbar_ind in mpl.toolbar_items) {\n",
       "        var name = mpl.toolbar_items[toolbar_ind][0];\n",
       "        var tooltip = mpl.toolbar_items[toolbar_ind][1];\n",
       "        var image = mpl.toolbar_items[toolbar_ind][2];\n",
       "        var method_name = mpl.toolbar_items[toolbar_ind][3];\n",
       "\n",
       "        if (!name) {\n",
       "            /* Instead of a spacer, we start a new button group. */\n",
       "            if (buttonGroup.hasChildNodes()) {\n",
       "                toolbar.appendChild(buttonGroup);\n",
       "            }\n",
       "            buttonGroup = document.createElement('div');\n",
       "            buttonGroup.classList = 'btn-group';\n",
       "            continue;\n",
       "        }\n",
       "\n",
       "        button = fig.buttons[name] = document.createElement('button');\n",
       "        button.classList = 'btn btn-default';\n",
       "        button.href = '#';\n",
       "        button.title = name;\n",
       "        button.innerHTML = '<i class=\"fa ' + image + ' fa-lg\"></i>';\n",
       "        button.addEventListener('click', on_click_closure(method_name));\n",
       "        button.addEventListener('mouseover', on_mouseover_closure(tooltip));\n",
       "        buttonGroup.appendChild(button);\n",
       "    }\n",
       "\n",
       "    if (buttonGroup.hasChildNodes()) {\n",
       "        toolbar.appendChild(buttonGroup);\n",
       "    }\n",
       "\n",
       "    // Add the status bar.\n",
       "    var status_bar = document.createElement('span');\n",
       "    status_bar.classList = 'mpl-message pull-right';\n",
       "    toolbar.appendChild(status_bar);\n",
       "    this.message = status_bar;\n",
       "\n",
       "    // Add the close button to the window.\n",
       "    var buttongrp = document.createElement('div');\n",
       "    buttongrp.classList = 'btn-group inline pull-right';\n",
       "    button = document.createElement('button');\n",
       "    button.classList = 'btn btn-mini btn-primary';\n",
       "    button.href = '#';\n",
       "    button.title = 'Stop Interaction';\n",
       "    button.innerHTML = '<i class=\"fa fa-power-off icon-remove icon-large\"></i>';\n",
       "    button.addEventListener('click', function (_evt) {\n",
       "        fig.handle_close(fig, {});\n",
       "    });\n",
       "    button.addEventListener(\n",
       "        'mouseover',\n",
       "        on_mouseover_closure('Stop Interaction')\n",
       "    );\n",
       "    buttongrp.appendChild(button);\n",
       "    var titlebar = this.root.querySelector('.ui-dialog-titlebar');\n",
       "    titlebar.insertBefore(buttongrp, titlebar.firstChild);\n",
       "};\n",
       "\n",
       "mpl.figure.prototype._remove_fig_handler = function (event) {\n",
       "    var fig = event.data.fig;\n",
       "    if (event.target !== this) {\n",
       "        // Ignore bubbled events from children.\n",
       "        return;\n",
       "    }\n",
       "    fig.close_ws(fig, {});\n",
       "};\n",
       "\n",
       "mpl.figure.prototype._root_extra_style = function (el) {\n",
       "    el.style.boxSizing = 'content-box'; // override notebook setting of border-box.\n",
       "};\n",
       "\n",
       "mpl.figure.prototype._canvas_extra_style = function (el) {\n",
       "    // this is important to make the div 'focusable\n",
       "    el.setAttribute('tabindex', 0);\n",
       "    // reach out to IPython and tell the keyboard manager to turn it's self\n",
       "    // off when our div gets focus\n",
       "\n",
       "    // location in version 3\n",
       "    if (IPython.notebook.keyboard_manager) {\n",
       "        IPython.notebook.keyboard_manager.register_events(el);\n",
       "    } else {\n",
       "        // location in version 2\n",
       "        IPython.keyboard_manager.register_events(el);\n",
       "    }\n",
       "};\n",
       "\n",
       "mpl.figure.prototype._key_event_extra = function (event, _name) {\n",
       "    // Check for shift+enter\n",
       "    if (event.shiftKey && event.which === 13) {\n",
       "        this.canvas_div.blur();\n",
       "        // select the cell after this one\n",
       "        var index = IPython.notebook.find_cell_index(this.cell_info[0]);\n",
       "        IPython.notebook.select(index + 1);\n",
       "    }\n",
       "};\n",
       "\n",
       "mpl.figure.prototype.handle_save = function (fig, _msg) {\n",
       "    fig.ondownload(fig, null);\n",
       "};\n",
       "\n",
       "mpl.find_output_cell = function (html_output) {\n",
       "    // Return the cell and output element which can be found *uniquely* in the notebook.\n",
       "    // Note - this is a bit hacky, but it is done because the \"notebook_saving.Notebook\"\n",
       "    // IPython event is triggered only after the cells have been serialised, which for\n",
       "    // our purposes (turning an active figure into a static one), is too late.\n",
       "    var cells = IPython.notebook.get_cells();\n",
       "    var ncells = cells.length;\n",
       "    for (var i = 0; i < ncells; i++) {\n",
       "        var cell = cells[i];\n",
       "        if (cell.cell_type === 'code') {\n",
       "            for (var j = 0; j < cell.output_area.outputs.length; j++) {\n",
       "                var data = cell.output_area.outputs[j];\n",
       "                if (data.data) {\n",
       "                    // IPython >= 3 moved mimebundle to data attribute of output\n",
       "                    data = data.data;\n",
       "                }\n",
       "                if (data['text/html'] === html_output) {\n",
       "                    return [cell, data, j];\n",
       "                }\n",
       "            }\n",
       "        }\n",
       "    }\n",
       "};\n",
       "\n",
       "// Register the function which deals with the matplotlib target/channel.\n",
       "// The kernel may be null if the page has been refreshed.\n",
       "if (IPython.notebook.kernel !== null) {\n",
       "    IPython.notebook.kernel.comm_manager.register_target(\n",
       "        'matplotlib',\n",
       "        mpl.mpl_figure_comm\n",
       "    );\n",
       "}\n"
      ],
      "text/plain": [
       "<IPython.core.display.Javascript object>"
      ]
     },
     "metadata": {},
     "output_type": "display_data"
    },
    {
     "data": {
      "text/html": [
       "<img src=\"data:image/png;base64,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\" width=\"2399.9999642372136\">"
      ],
      "text/plain": [
       "<IPython.core.display.HTML object>"
      ]
     },
     "metadata": {},
     "output_type": "display_data"
    }
   ],
   "source": [
    "fig = plt.figure(figsize=(12,6))\n",
    "ax = fig.add_subplot(121, projection='3d')\n",
    "\n",
    "\n",
    "Z = np.apply_along_axis(lambda v:sQuadratic(v, S1), 0, np.array([X, Y]))\n",
    "\n",
    "ax.plot_wireframe(X, Y, Z, alpha=0.4)\n",
    "plt.show()\n"
   ]
  },
  {
   "cell_type": "markdown",
   "id": "8550c38e",
   "metadata": {
    "slideshow": {
     "slide_type": "slide"
    }
   },
   "source": [
    "Suppose we know that\n",
    "\n",
    "$$\n",
    "\\begin{aligned}\n",
    "\\mathbf x^TS\\mathbf x &> 0 & \\forall \\mathbf x:\\mathbf x\\neq \\mathbf 0\\\\\n",
    "S &= LDL^T\n",
    "\\end{aligned}\n",
    "$$\n",
    "\n",
    "This entails\n",
    "\n",
    "$$\n",
    "\\begin{aligned}\n",
    "\\mathbf x^TS\\mathbf x &> 0\\\\\n",
    "\\mathbf x^TLDL^T\\mathbf x &> 0\n",
    "\\end{aligned}\n",
    "$$\n",
    "\n",
    "Let us introduce a variable $\\mathbf y$\n",
    "\n",
    "$$\n",
    "\\begin{aligned}\n",
    "\\mathbf y &= L^T\\mathbf x\\\\\n",
    "\\mathbf x &= (L^T)^{-1}\\mathbf y &(L\\mbox{ must be invertible, which follows from definiteness.})\\\\\n",
    "\\mathbf y^T D\\mathbf y &> 0\\\\\n",
    "\\sum_i d_i y_i^2 &> 0\n",
    "\\end{aligned}\n",
    "$$\n",
    "\n",
    "For each $i$, we can set $y_i=1$, $\\forall j\\neq i: y_j = 0$. It follows that\n",
    "$$\n",
    "\\forall i: d_i > 0\n",
    "$$\n",
    "\n",
    "So if $S$ is positive definite and the LU-decomposition gives $S = LDL^T$, all entries of $D$ must be positive."
   ]
  },
  {
   "cell_type": "markdown",
   "id": "2975ed39",
   "metadata": {
    "slideshow": {
     "slide_type": "slide"
    }
   },
   "source": [
    "We define\n",
    "\n",
    "$$\n",
    "(D^{\\frac{1}{2}})_{ij} = \\sqrt{d_{ij}}\n",
    "$$\n",
    "\n",
    "It follows that\n",
    "\n",
    "$$\n",
    "D = D^{\\frac{1}{2}} D^{\\frac{1}{2}}\n",
    "$$\n",
    "\n",
    "Taken together, we have\n",
    "\n",
    "$$\n",
    "S = LD^{\\frac{1}{2}} D^{\\frac{1}{2}}L^T\n",
    "$$\n",
    "\n",
    "It follows that for each positive definite matrix $S$ wich has an LU decomposition, there is a lower triangular matrix $M$ such that\n",
    "\n",
    "$$\n",
    "S = M M^T\n",
    "$$\n",
    "\n",
    "This factorization is called **Cholesky decomposition**."
   ]
  },
  {
   "cell_type": "code",
   "execution_count": 58,
   "id": "303ec6f0",
   "metadata": {
    "slideshow": {
     "slide_type": "slide"
    }
   },
   "outputs": [
    {
     "data": {
      "text/latex": [
       "$\\displaystyle \\left[\\begin{matrix}2 & -1 & 0\\\\-1 & 2 & -1\\\\0 & -1 & 2\\end{matrix}\\right]$"
      ],
      "text/plain": [
       "Matrix([\n",
       "[ 2, -1,  0],\n",
       "[-1,  2, -1],\n",
       "[ 0, -1,  2]])"
      ]
     },
     "execution_count": 58,
     "metadata": {},
     "output_type": "execute_result"
    }
   ],
   "source": [
    "S = Matrix([\n",
    "    [2,-1,0],\n",
    "    [-1,2,-1],\n",
    "    [0,-1,2]\n",
    "])\n",
    "S"
   ]
  },
  {
   "cell_type": "code",
   "execution_count": 46,
   "id": "90cb3386",
   "metadata": {},
   "outputs": [
    {
     "data": {
      "text/plain": [
       "True"
      ]
     },
     "execution_count": 46,
     "metadata": {},
     "output_type": "execute_result"
    }
   ],
   "source": [
    "S.is_positive_definite"
   ]
  },
  {
   "cell_type": "code",
   "execution_count": 47,
   "id": "adca0637",
   "metadata": {},
   "outputs": [
    {
     "data": {
      "text/latex": [
       "$\\displaystyle \\left[\\begin{matrix}\\sqrt{2} & 0 & 0\\\\- \\frac{\\sqrt{2}}{2} & \\frac{\\sqrt{6}}{2} & 0\\\\0 & - \\frac{\\sqrt{6}}{3} & \\frac{2 \\sqrt{3}}{3}\\end{matrix}\\right]$"
      ],
      "text/plain": [
       "Matrix([\n",
       "[   sqrt(2),          0,           0],\n",
       "[-sqrt(2)/2,  sqrt(6)/2,           0],\n",
       "[         0, -sqrt(6)/3, 2*sqrt(3)/3]])"
      ]
     },
     "execution_count": 47,
     "metadata": {},
     "output_type": "execute_result"
    }
   ],
   "source": [
    "M = S.cholesky()\n",
    "M"
   ]
  },
  {
   "cell_type": "code",
   "execution_count": 48,
   "id": "caf10d96",
   "metadata": {},
   "outputs": [
    {
     "data": {
      "text/latex": [
       "$\\displaystyle \\left[\\begin{matrix}2 & -1 & 0\\\\-1 & 2 & -1\\\\0 & -1 & 2\\end{matrix}\\right]$"
      ],
      "text/plain": [
       "Matrix([\n",
       "[ 2, -1,  0],\n",
       "[-1,  2, -1],\n",
       "[ 0, -1,  2]])"
      ]
     },
     "execution_count": 48,
     "metadata": {},
     "output_type": "execute_result"
    }
   ],
   "source": [
    "M*M.T"
   ]
  },
  {
   "cell_type": "code",
   "execution_count": 49,
   "id": "52e2c061",
   "metadata": {
    "slideshow": {
     "slide_type": "slide"
    }
   },
   "outputs": [
    {
     "data": {
      "text/latex": [
       "$\\displaystyle \\left[\\begin{matrix}3 & 1\\\\1 & -1\\end{matrix}\\right]$"
      ],
      "text/plain": [
       "Matrix([\n",
       "[3,  1],\n",
       "[1, -1]])"
      ]
     },
     "execution_count": 49,
     "metadata": {},
     "output_type": "execute_result"
    }
   ],
   "source": [
    "S = Matrix([\n",
    "    [3, 1],\n",
    "    [1, -1]\n",
    "])\n",
    "S"
   ]
  },
  {
   "cell_type": "code",
   "execution_count": 50,
   "id": "0ce4e6d6",
   "metadata": {},
   "outputs": [
    {
     "data": {
      "text/plain": [
       "False"
      ]
     },
     "execution_count": 50,
     "metadata": {},
     "output_type": "execute_result"
    }
   ],
   "source": [
    "S.is_positive_definite"
   ]
  },
  {
   "cell_type": "code",
   "execution_count": 51,
   "id": "ec91bb2c",
   "metadata": {},
   "outputs": [
    {
     "ename": "NonPositiveDefiniteMatrixError",
     "evalue": "Matrix must be positive-definite",
     "output_type": "error",
     "traceback": [
      "\u001b[0;31m---------------------------------------------------------------------------\u001b[0m",
      "\u001b[0;31mNonPositiveDefiniteMatrixError\u001b[0m            Traceback (most recent call last)",
      "\u001b[0;32m/tmp/ipykernel_5058/1885332215.py\u001b[0m in \u001b[0;36m<module>\u001b[0;34m\u001b[0m\n\u001b[0;32m----> 1\u001b[0;31m \u001b[0mS\u001b[0m\u001b[0;34m.\u001b[0m\u001b[0mcholesky\u001b[0m\u001b[0;34m(\u001b[0m\u001b[0;34m)\u001b[0m\u001b[0;34m\u001b[0m\u001b[0;34m\u001b[0m\u001b[0m\n\u001b[0m",
      "\u001b[0;32m/usr/lib/python3/dist-packages/sympy/matrices/dense.py\u001b[0m in \u001b[0;36mcholesky\u001b[0;34m(self, hermitian)\u001b[0m\n\u001b[1;32m     76\u001b[0m \u001b[0;34m\u001b[0m\u001b[0m\n\u001b[1;32m     77\u001b[0m     \u001b[0;32mdef\u001b[0m \u001b[0mcholesky\u001b[0m\u001b[0;34m(\u001b[0m\u001b[0mself\u001b[0m\u001b[0;34m,\u001b[0m \u001b[0mhermitian\u001b[0m\u001b[0;34m=\u001b[0m\u001b[0;32mTrue\u001b[0m\u001b[0;34m)\u001b[0m\u001b[0;34m:\u001b[0m\u001b[0;34m\u001b[0m\u001b[0;34m\u001b[0m\u001b[0m\n\u001b[0;32m---> 78\u001b[0;31m         \u001b[0;32mreturn\u001b[0m \u001b[0m_cholesky\u001b[0m\u001b[0;34m(\u001b[0m\u001b[0mself\u001b[0m\u001b[0;34m,\u001b[0m \u001b[0mhermitian\u001b[0m\u001b[0;34m=\u001b[0m\u001b[0mhermitian\u001b[0m\u001b[0;34m)\u001b[0m\u001b[0;34m\u001b[0m\u001b[0;34m\u001b[0m\u001b[0m\n\u001b[0m\u001b[1;32m     79\u001b[0m \u001b[0;34m\u001b[0m\u001b[0m\n\u001b[1;32m     80\u001b[0m     \u001b[0;32mdef\u001b[0m \u001b[0mLDLdecomposition\u001b[0m\u001b[0;34m(\u001b[0m\u001b[0mself\u001b[0m\u001b[0;34m,\u001b[0m \u001b[0mhermitian\u001b[0m\u001b[0;34m=\u001b[0m\u001b[0;32mTrue\u001b[0m\u001b[0;34m)\u001b[0m\u001b[0;34m:\u001b[0m\u001b[0;34m\u001b[0m\u001b[0;34m\u001b[0m\u001b[0m\n",
      "\u001b[0;32m/usr/lib/python3/dist-packages/sympy/matrices/decompositions.py\u001b[0m in \u001b[0;36m_cholesky\u001b[0;34m(M, hermitian)\u001b[0m\n\u001b[1;32m    271\u001b[0m \u001b[0;34m\u001b[0m\u001b[0m\n\u001b[1;32m    272\u001b[0m             \u001b[0;32mif\u001b[0m \u001b[0mLii2\u001b[0m\u001b[0;34m.\u001b[0m\u001b[0mis_positive\u001b[0m \u001b[0;32mis\u001b[0m \u001b[0;32mFalse\u001b[0m\u001b[0;34m:\u001b[0m\u001b[0;34m\u001b[0m\u001b[0;34m\u001b[0m\u001b[0m\n\u001b[0;32m--> 273\u001b[0;31m                 raise NonPositiveDefiniteMatrixError(\n\u001b[0m\u001b[1;32m    274\u001b[0m                     \"Matrix must be positive-definite\")\n\u001b[1;32m    275\u001b[0m \u001b[0;34m\u001b[0m\u001b[0m\n",
      "\u001b[0;31mNonPositiveDefiniteMatrixError\u001b[0m: Matrix must be positive-definite"
     ]
    }
   ],
   "source": [
    "S.cholesky()"
   ]
  },
  {
   "cell_type": "markdown",
   "id": "733942e6",
   "metadata": {
    "slideshow": {
     "slide_type": "slide"
    }
   },
   "source": [
    "### Fact\n",
    "\n",
    "If a square matrix (not necessarily symmetric) is invertible, the following two matrices are positive definite:\n",
    "\n",
    "$$\n",
    "A A^T\\\\\n",
    "A^T A\n",
    "$$"
   ]
  },
  {
   "cell_type": "markdown",
   "id": "dd10430c",
   "metadata": {
    "slideshow": {
     "slide_type": "slide"
    }
   },
   "source": [
    "## Vector spaces\n",
    "\n",
    "In mathematics, vector spaces are not confined to $\\mathbb R^n$. Any set can be a vector space if the following eight axioms are met."
   ]
  },
  {
   "cell_type": "markdown",
   "id": "9d3f733e",
   "metadata": {},
   "source": [
    "<table border=\"0\" style=\"width:100%;\" align = \"left\">\n",
    "<tbody><tr>\n",
    "<th>Axiom</th>\n",
    "<th>Meaning\n",
    "</th>\n",
    "    <tr>\n",
    "    <td>Associativity of vector addition</td>\n",
    "    <td><span class=\"texhtml\"><b>u</b> + (<b>v</b> + <b>w</b>) = (<b>u</b> + <b>v</b>) + <b>w</b></span>\n",
    "    </td></tr>\n",
    "    \n",
    "<tr style=\"background:#F8F4FF;\">\n",
    "<td>Commutativity of vector addition</td>\n",
    "<td><span class=\"texhtml\"><b>u</b> + <b>v</b> = <b>v</b> + <b>u</b></span>\n",
    "</td></tr>\n",
    "<tr>\n",
    "<td>Identity element of vector addition</td>\n",
    "<td>There exists an element <span class=\"texhtml\"><b>0</b> ∈ <i>V</i></span>, called the <i>zero vector</i>, such that <span class=\"texhtml\"><b>v</b> + <b>0</b> = <b>v</b></span> for all <span class=\"texhtml\"><b>v</b> ∈ <i>V</i></span>.\n",
    "</td></tr>\n",
    "<tr style=\"background:#F8F4FF;\">\n",
    "<td>Inverse elements of vector addition</td>\n",
    "<td>For every <span class=\"texhtml\"><b>v</b> ∈ <i>V</i></span>, there exists an element <span class=\"texhtml\">−<b>v</b> ∈ <i>V</i></span>, called the <i>additive inverse</i> of <span class=\"texhtml\"><b>v</b></span>, such that <span class=\"texhtml\"><b>v</b> + (−<b>v</b>) = <b>0</b></span>.\n",
    "</td></tr>\n",
    "<tr>\n",
    "<td>Compatibility of scalar multiplication with field multiplication</td>\n",
    "<td><span class=\"texhtml\"><i>a</i>(<i>b</i><b>v</b>) = (<i>ab</i>)<b>v</b></span> \n",
    "</td></tr>\n",
    "<tr style=\"background:#F8F4FF;\">\n",
    "<td>Identity element of scalar multiplication</td>\n",
    "<td><span class=\"texhtml\">1<b>v</b> = <b>v</b></span>, where <span class=\"texhtml\">1</span> denotes the multiplicative identity in <span class=\"texhtml mvar\" style=\"font-style:italic;\">F</span>.\n",
    "</td></tr>\n",
    "<tr>\n",
    "<td>Distributivityof scalar multiplication with respect to vector addition</td>\n",
    "<td><span class=\"texhtml\"><i>a</i>(<b>u</b> + <b>v</b>) = <i>a</i><b>u</b> + <i>a</i><b>v</b></span>\n",
    "</td></tr>\n",
    "<tr style=\"background:#F8F4FF;\">\n",
    "<td>Distributivity of scalar multiplication with respect to field addition</td>\n",
    "<td><span class=\"texhtml\">(<i>a</i> + <i>b</i>)<b>v</b> = <i>a</i><b>v</b> + <i>b</i><b>v</b></span>\n",
    "</td></tr></tbody></table>"
   ]
  },
  {
   "cell_type": "markdown",
   "id": "7ff686c0",
   "metadata": {
    "slideshow": {
     "slide_type": "-"
    }
   },
   "source": [
    "A subset $\\alpha$ of a vector space is a **sub-space** if it is also a vector space.\n",
    "\n",
    "This is guaranteed if two conditions are met: If $\\mathbf u, \\mathbf v\\in \\alpha$, \n",
    "\n",
    "- $\\mathbf u + \\mathbf v \\in \\alpha$\n",
    "- for any scalar $c$, $c\\mathbf u\\in \\alpha$."
   ]
  },
  {
   "cell_type": "markdown",
   "id": "c3e3aa51",
   "metadata": {
    "slideshow": {
     "slide_type": "slide"
    }
   },
   "source": [
    "### Column space of a matrix\n",
    "\n",
    "For an $n\\times m$ matrix $A$, the set $\\{A\\mathbf x:\\mathbf x\\in \\mathbb R^m\\}$ is a subspace of $\\mathbb R^n$, because:\n",
    "\n",
    "- $A\\mathbf u + A\\mathbf v = A(\\mathbf u+\\mathbf v)$\n",
    "- $Ac\\mathbf u = cA\\mathbf u$\n",
    "\n",
    "This vector space is called the **column space** of $A$, because it consists of all linear combinations of the column vectors of $A$.\n",
    "\n",
    "\n",
    "The system of linear equation \n",
    "$$\n",
    "A\\mathbf x = \\mathbf b\n",
    "$$\n",
    "\n",
    "is solvable if and only if $\\mathbf b$ is in the column space of $A$."
   ]
  },
  {
   "cell_type": "markdown",
   "id": "091ba9be",
   "metadata": {
    "slideshow": {
     "slide_type": "slide"
    }
   },
   "source": [
    "So far we have focused on invertable matrices. In this case, the column space equals the entire vector space.\n",
    "\n",
    "But what about non-invertable matrices?\n",
    "\n",
    "We proceed per Gauss-Jordan elimination as usual. After the Gauss part, we will see whether the system is solvable.\n",
    "\n",
    "$$\n",
    "\\begin{aligned}\n",
    "\\begin{bmatrix}\n",
    "1 & 0\\\\\n",
    "4 & 3\\\\\n",
    "2 & 3\n",
    "\\end{bmatrix} \\mathbf x &=\n",
    "\\begin{bmatrix}\n",
    "1\\\\1\\\\0\n",
    "\\end{bmatrix}\n",
    "\\end{aligned}\n",
    "$$"
   ]
  },
  {
   "cell_type": "markdown",
   "id": "2e01c593",
   "metadata": {},
   "source": [
    "$$\n",
    "\\left[\n",
    "\\begin{array}{rr|r}\n",
    "1 & 0 & 1\\\\\n",
    "4 & 3 & 1\\\\\n",
    "2 & 3 & 0\n",
    "\\end{array}\n",
    "\\right]\\\\[1em]\n",
    "\\left[\n",
    "\\begin{array}{rr|r}\n",
    "1 & 0 & 1\\\\\n",
    "0 & 3 & -3\\\\\n",
    "0 & 3 & -2\n",
    "\\end{array}\n",
    "\\right]\\\\[1em]\n",
    "\\left[\n",
    "\\begin{array}{rr|r}\n",
    "1 & 0 & 1\\\\\n",
    "0 & 3 & -3\\\\\n",
    "0 & 0 & 1\n",
    "\\end{array}\n",
    "\\right]\\\\[1em]\n",
    "$$\n",
    "\n",
    "There can't be a solution for the last row, so $\\mathbf b$ is not in the column space of $A$."
   ]
  },
  {
   "cell_type": "markdown",
   "id": "f6b0a54e",
   "metadata": {
    "slideshow": {
     "slide_type": "slide"
    }
   },
   "source": [
    "Another example:\n",
    "\n",
    "$$\n",
    "\\begin{aligned}\n",
    "A & =\n",
    "\\begin{bmatrix}\n",
    "1 & 2& 3\\\\\n",
    "2 & 4 & 3\\\\\n",
    "3 & 6 & 1\n",
    "\\end{bmatrix}\\\\[1em]\n",
    "\\mathbf b &= \\begin{bmatrix} 4\\\\ 5\\\\ 4\\end{bmatrix}\\\\[1em]\n",
    "A\\mathbf x &= \\mathbf b\n",
    "\\end{aligned}\n",
    "$$"
   ]
  },
  {
   "cell_type": "markdown",
   "id": "7180fe80",
   "metadata": {
    "slideshow": {
     "slide_type": "slide"
    }
   },
   "source": [
    "$$\n",
    "\\left[\n",
    "\\begin{array}{rrr|r}\n",
    "1 & 2 & 3 & 4\\\\\n",
    "2 & 4 & 3 & 5\\\\\n",
    "3 & 6 & 1 & 4\n",
    "\\end{array}\n",
    "\\right]\\\\[1em]\n",
    "\\left[\n",
    "\\begin{array}{rrr|r}\n",
    "1 & 2 & 3 & 4\\\\\n",
    "0 & 0 & -3 & -3\\\\\n",
    "3 & 6 & 1 & 4\n",
    "\\end{array}\n",
    "\\right]\\\\[1em]\n",
    "\\left[\n",
    "\\begin{array}{rrr|r}\n",
    "1 & 2 & 3 & 4\\\\\n",
    "0 & 0 & -3 & -3\\\\\n",
    "0 & 0 & -8 & -8\n",
    "\\end{array}\n",
    "\\right]\\\\[1em]\n",
    "\\left[\n",
    "\\begin{array}{rrr|r}\n",
    "1 & 2 & 3 & 4\\\\\n",
    "0 & 0 & -3 & -3\\\\\n",
    "0 & 0 & 0 & 0\n",
    "\\end{array}\n",
    "\\right]\\\\[1em]\n",
    "\\left[\n",
    "\\begin{array}{rrr|r}\n",
    "1 & 2 & 0 & 1\\\\\n",
    "0 & 0 & -3 & -3\\\\\n",
    "0 & 0 & 0 & 0\n",
    "\\end{array}\n",
    "\\right]\\\\[1em]\n",
    "\\left[\n",
    "\\begin{array}{rrr|r}\n",
    "1 & 2 & 0 & 1\\\\\n",
    "0 & 0 & 1 & 1\\\\\n",
    "0 & 0 & 0 & 0\n",
    "\\end{array}\n",
    "\\right]\\\\[1em]\n",
    "$$\n"
   ]
  },
  {
   "cell_type": "markdown",
   "id": "0341beed",
   "metadata": {
    "slideshow": {
     "slide_type": "slide"
    }
   },
   "source": [
    "Since the left side is not the identity matrix, we cannot simply read off the solution from the right side.\n",
    "\n",
    "### Pivots\n",
    "\n",
    "A pivot cell in a matrix $A$ is a cell $a_{ij}$ with an entry $\\neq 0$ such that\n",
    "$$\n",
    "\\begin{aligned}\n",
    "a_{ij} &\\neq 0\\\\\n",
    "\\forall k \\geq i, l< j: &  a_{kl} = 0\n",
    "\\end{aligned}\n",
    "$$\n",
    "\n",
    "During Gauss elimination, we\n",
    "\n",
    "- go top-down through the rows,\n",
    "- identify the pivot in the current row, and\n",
    "- transform all cells below the pivot into $0$ using elimination.\n",
    "\n",
    "A column with a pivot in it is called *pivot column*.\n",
    "\n",
    "A column without a pivot in it is called *free column*.\n"
   ]
  },
  {
   "cell_type": "markdown",
   "id": "99da718d",
   "metadata": {
    "slideshow": {
     "slide_type": "slide"
    }
   },
   "source": [
    "\n",
    "\n",
    "After Gauss-Jordan elimination, we find the *canonical solution* by\n",
    "- setting all positions corresponding to a free column to $0$, and\n",
    "- setting all positions corresponding to a pivot column to the entry on the the same row as the pivot on the right side.\n",
    "\n",
    "For our example above, the solution thus found is\n",
    "$$\n",
    "\\begin{bmatrix}\n",
    "1 \\\\ 0 \\\\ 1\n",
    "\\end{bmatrix}\n",
    "$$"
   ]
  },
  {
   "cell_type": "markdown",
   "id": "da80eb9f",
   "metadata": {},
   "source": [
    "The result of Gauss elimination is called **row echelon form**.\n",
    "\n",
    "The result of Gauss-Jordan elimination is called **reduced row echelon form**."
   ]
  }
 ],
 "metadata": {
  "@webio": {
   "lastCommId": null,
   "lastKernelId": null
  },
  "celltoolbar": "Slideshow",
  "hide_input": false,
  "kernelspec": {
   "display_name": "Python 3 (ipykernel)",
   "language": "python",
   "name": "python3"
  },
  "language_info": {
   "codemirror_mode": {
    "name": "ipython",
    "version": 3
   },
   "file_extension": ".py",
   "mimetype": "text/x-python",
   "name": "python",
   "nbconvert_exporter": "python",
   "pygments_lexer": "ipython3",
   "version": "3.10.12"
  },
  "latex_envs": {
   "LaTeX_envs_menu_present": true,
   "autoclose": false,
   "autocomplete": true,
   "bibliofile": "biblio.bib",
   "cite_by": "apalike",
   "current_citInitial": 1,
   "eqLabelWithNumbers": true,
   "eqNumInitial": 1,
   "hotkeys": {
    "equation": "Ctrl-E",
    "itemize": "Ctrl-I"
   },
   "labels_anchors": false,
   "latex_user_defs": false,
   "report_style_numbering": false,
   "user_envs_cfg": false
  },
  "rise": {
   "enable_chalkboard": true
  },
  "varInspector": {
   "cols": {
    "lenName": 16,
    "lenType": 16,
    "lenVar": 40
   },
   "kernels_config": {
    "python": {
     "delete_cmd_postfix": "",
     "delete_cmd_prefix": "del ",
     "library": "var_list.py",
     "varRefreshCmd": "print(var_dic_list())"
    },
    "r": {
     "delete_cmd_postfix": ") ",
     "delete_cmd_prefix": "rm(",
     "library": "var_list.r",
     "varRefreshCmd": "cat(var_dic_list()) "
    }
   },
   "types_to_exclude": [
    "module",
    "function",
    "builtin_function_or_method",
    "instance",
    "_Feature"
   ],
   "window_display": false
  }
 },
 "nbformat": 4,
 "nbformat_minor": 5
}
