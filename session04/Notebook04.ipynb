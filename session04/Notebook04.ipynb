{
 "cells": [
  {
   "cell_type": "code",
   "execution_count": 1,
   "id": "5d1f156d",
   "metadata": {
    "slideshow": {
     "slide_type": "skip"
    }
   },
   "outputs": [],
   "source": [
    "import sympy\n",
    "from sympy import Matrix, Rational, sqrt, symbols\n",
    "import numpy as np\n"
   ]
  },
  {
   "cell_type": "code",
   "execution_count": 2,
   "id": "3afd14d3",
   "metadata": {
    "slideshow": {
     "slide_type": "skip"
    }
   },
   "outputs": [],
   "source": [
    "%matplotlib notebook\n",
    "import matplotlib.pyplot as plt\n",
    "from mpl_toolkits.mplot3d import axes3d"
   ]
  },
  {
   "cell_type": "markdown",
   "id": "17d690f6",
   "metadata": {
    "slideshow": {
     "slide_type": "slide"
    }
   },
   "source": [
    "# Linear algebra\n",
    "\n",
    "## Session 04: LU decomposition\n",
    "\n",
    "## Gerhard Jäger\n",
    "\n",
    "### November 16, 2023"
   ]
  },
  {
   "cell_type": "markdown",
   "id": "f2d8ffbf",
   "metadata": {
    "slideshow": {
     "slide_type": "slide"
    }
   },
   "source": [
    "# LU decomposition\n",
    "\n",
    "### triangular matrices\n",
    "\n",
    "- an **upper triangular matrix** is a square matrix with only $0$ below the main diagonal\n"
   ]
  },
  {
   "cell_type": "code",
   "execution_count": 3,
   "id": "ffb4435e",
   "metadata": {
    "hide_input": true
   },
   "outputs": [
    {
     "data": {
      "text/latex": [
       "$\\displaystyle \\left[\\begin{matrix}1 & 1 & 1\\\\0 & 1 & 1\\\\0 & 0 & 1\\end{matrix}\\right]$"
      ],
      "text/plain": [
       "Matrix([\n",
       "[1, 1, 1],\n",
       "[0, 1, 1],\n",
       "[0, 0, 1]])"
      ]
     },
     "execution_count": 3,
     "metadata": {},
     "output_type": "execute_result"
    }
   ],
   "source": [
    "Matrix([\n",
    "    [1,1,1],\n",
    "    [0,1,1],\n",
    "    [0,0,1]\n",
    "])"
   ]
  },
  {
   "cell_type": "code",
   "execution_count": 4,
   "id": "f67c985c",
   "metadata": {
    "hide_input": true
   },
   "outputs": [
    {
     "data": {
      "text/latex": [
       "$\\displaystyle \\left[\\begin{matrix}0 & 1 & 6\\\\0 & 1 & 1\\\\0 & 0 & 0\\end{matrix}\\right]$"
      ],
      "text/plain": [
       "Matrix([\n",
       "[0, 1, 6],\n",
       "[0, 1, 1],\n",
       "[0, 0, 0]])"
      ]
     },
     "execution_count": 4,
     "metadata": {},
     "output_type": "execute_result"
    }
   ],
   "source": [
    "Matrix([\n",
    "    [0,1,6],\n",
    "    [0,1,1],\n",
    "    [0,0,0]\n",
    "])"
   ]
  },
  {
   "cell_type": "markdown",
   "id": "50ae4a84",
   "metadata": {
    "slideshow": {
     "slide_type": "slide"
    }
   },
   "source": [
    "- a **lower triangular matrix** is a square matrix with only $0$ above the main diagonal"
   ]
  },
  {
   "cell_type": "code",
   "execution_count": 5,
   "id": "14d7eaed",
   "metadata": {
    "hide_input": true
   },
   "outputs": [
    {
     "data": {
      "text/latex": [
       "$\\displaystyle \\left[\\begin{matrix}0 & 0 & 0\\\\1 & 1 & 0\\\\6 & 1 & 0\\end{matrix}\\right]$"
      ],
      "text/plain": [
       "Matrix([\n",
       "[0, 0, 0],\n",
       "[1, 1, 0],\n",
       "[6, 1, 0]])"
      ]
     },
     "execution_count": 5,
     "metadata": {},
     "output_type": "execute_result"
    }
   ],
   "source": [
    "Matrix([\n",
    "    [0,1,6],\n",
    "    [0,1,1],\n",
    "    [0,0,0]\n",
    "]).T"
   ]
  },
  {
   "cell_type": "markdown",
   "id": "d53e8138",
   "metadata": {},
   "source": [
    "- the transpose of an upper triangular matrix is lower triangular, and vice versa\n",
    "- *Gaussian elimination* transforms a matrix into an upper triangular matrix\n",
    "- *Jordan elimination* transforms a matrix into a lower triangular matrix\n",
    "- $\\Rightarrow$ Gauss-Jordan elimination produces a diagonal matrix\n",
    "\n"
   ]
  },
  {
   "cell_type": "markdown",
   "id": "492415e1",
   "metadata": {
    "slideshow": {
     "slide_type": "slide"
    }
   },
   "source": [
    "Let us focus on the Gauss part."
   ]
  },
  {
   "cell_type": "code",
   "execution_count": 6,
   "id": "fce54949",
   "metadata": {
    "hide_input": true
   },
   "outputs": [
    {
     "data": {
      "text/latex": [
       "$\\displaystyle \\left[\\begin{matrix}1 & 2 & 1\\\\3 & 2 & 4\\\\4 & 4 & 3\\end{matrix}\\right]$"
      ],
      "text/plain": [
       "Matrix([\n",
       "[1, 2, 1],\n",
       "[3, 2, 4],\n",
       "[4, 4, 3]])"
      ]
     },
     "execution_count": 6,
     "metadata": {},
     "output_type": "execute_result"
    }
   ],
   "source": [
    "A = Matrix([\n",
    "    [1,2,1],\n",
    "    [3,2,4],\n",
    "    [4,4,3]\n",
    "])\n",
    "A"
   ]
  },
  {
   "cell_type": "code",
   "execution_count": 7,
   "id": "77e3be30",
   "metadata": {},
   "outputs": [
    {
     "data": {
      "text/latex": [
       "$\\displaystyle \\left[\\begin{matrix}1 & 2 & 1\\\\0 & -4 & 1\\\\4 & 4 & 3\\end{matrix}\\right]$"
      ],
      "text/plain": [
       "Matrix([\n",
       "[1,  2, 1],\n",
       "[0, -4, 1],\n",
       "[4,  4, 3]])"
      ]
     },
     "execution_count": 7,
     "metadata": {},
     "output_type": "execute_result"
    }
   ],
   "source": [
    "E1 = Matrix([\n",
    "    [1,0,0],\n",
    "    [-3,1,0],\n",
    "    [0,0,1]\n",
    "])\n",
    "E1*A"
   ]
  },
  {
   "cell_type": "code",
   "execution_count": 8,
   "id": "1ebd7e27",
   "metadata": {},
   "outputs": [
    {
     "data": {
      "text/latex": [
       "$\\displaystyle \\left[\\begin{matrix}1 & 2 & 1\\\\0 & -4 & 1\\\\0 & -4 & -1\\end{matrix}\\right]$"
      ],
      "text/plain": [
       "Matrix([\n",
       "[1,  2,  1],\n",
       "[0, -4,  1],\n",
       "[0, -4, -1]])"
      ]
     },
     "execution_count": 8,
     "metadata": {},
     "output_type": "execute_result"
    }
   ],
   "source": [
    "E2 = Matrix([\n",
    "    [1,0,0],\n",
    "    [0,1,0],\n",
    "    [-4,0,1]\n",
    "])\n",
    "E2 * E1 * A"
   ]
  },
  {
   "cell_type": "code",
   "execution_count": 9,
   "id": "14e89e65",
   "metadata": {
    "slideshow": {
     "slide_type": "slide"
    }
   },
   "outputs": [
    {
     "data": {
      "text/latex": [
       "$\\displaystyle \\left[\\begin{matrix}1 & 2 & 1\\\\0 & -4 & 1\\\\0 & 0 & -2\\end{matrix}\\right]$"
      ],
      "text/plain": [
       "Matrix([\n",
       "[1,  2,  1],\n",
       "[0, -4,  1],\n",
       "[0,  0, -2]])"
      ]
     },
     "execution_count": 9,
     "metadata": {},
     "output_type": "execute_result"
    }
   ],
   "source": [
    "E3 = Matrix([\n",
    "    [1,0,0],\n",
    "    [0,1,0],\n",
    "    [0,-1,1]\n",
    "])\n",
    "E3 * E2 * E1 * A"
   ]
  },
  {
   "cell_type": "markdown",
   "id": "74ad00df",
   "metadata": {},
   "source": [
    "Let us call this upper triangular matrix resulting from Gauss elimination $U$.\n",
    "\n",
    "$$\n",
    "\\begin{aligned}\n",
    "U &= \\displaystyle \\left[\\begin{matrix}1 & 2 & 1\\\\0 & -4 & 1\\\\0 & 0 & -2\\end{matrix}\\right]\\\\\n",
    "E_3 E_2 E_1 A &= U\n",
    "\\end{aligned}\n",
    "$$\n",
    "\n",
    "Assuming that $E_i$ is invertible (which it is), this entails\n",
    "\n",
    "$$\n",
    "\\begin{aligned}\n",
    "A &= (E_3 E_2 E_1)^{-1} U\n",
    "\\end{aligned}\n",
    "$$"
   ]
  },
  {
   "cell_type": "markdown",
   "id": "d3e6019a",
   "metadata": {
    "slideshow": {
     "slide_type": "slide"
    }
   },
   "source": [
    "### Side remark: inverse of a matrix product\n",
    "\n",
    "- suppose both $A$ and $B$ are invertible. What is $(AB)^{-1}$?\n",
    "\n",
    "$$\n",
    "\\begin{aligned}\n",
    "(AB)^{-1} &= X\\\\\n",
    "XAB &= \\mathbf I\\\\\n",
    "XA &= \\mathbf I B^{-1}\\\\\n",
    " &= B^{-1}\\\\\n",
    " X &= B^{-1}A^{-1}\n",
    "\\end{aligned}\n",
    "$$\n",
    "\n",
    "$$\n",
    "\\Large\n",
    "    (AB)^{-1} = B^{-1}A^{-1}\n",
    "$$"
   ]
  },
  {
   "cell_type": "markdown",
   "id": "08f499c4",
   "metadata": {
    "slideshow": {
     "slide_type": "slide"
    }
   },
   "source": [
    "While we're at it: What is the transpose of a matrix product?\n",
    "\n",
    "$$\n",
    "\\begin{aligned}\n",
    "(A^TB^T)_{i,j} &= \\sum_k a^T_{ik}b^T_{kj}\\\\\n",
    "    &= \\sum_k a_{ki}b_{jk}\\\\\n",
    "    &= (BA)_{ji}\\\\\n",
    "    &=((BA)^T)_{ij}\n",
    "\\end{aligned}\n",
    "$$\n",
    "\n",
    "Therefore \n",
    "\n",
    "\n",
    "$$\n",
    "\\Large\n",
    "    (AB)^T = B^TA^T\n",
    "$$"
   ]
  },
  {
   "cell_type": "markdown",
   "id": "02689508",
   "metadata": {
    "slideshow": {
     "slide_type": "slide"
    }
   },
   "source": [
    "Still, while we're at it, what is the inverse of an transpose?\n",
    "\n",
    "$$\n",
    "\\begin{aligned}\n",
    "(A^T)^{-1} &= X\\\\\n",
    "A^T X &= \\mathbf I\\\\\n",
    "X^T A &= \\mathbf I\\\\\n",
    "X^T &= A^{-1}\\\\\n",
    "X &= (A^{-1})^T\n",
    "\\end{aligned}\n",
    "$$\n",
    "\n",
    "\n",
    "$$\n",
    "\\Large\n",
    "   (A^T)^{-1}  = (A^{-1})^T\n",
    "$$"
   ]
  },
  {
   "cell_type": "markdown",
   "id": "f88a65ab",
   "metadata": {
    "slideshow": {
     "slide_type": "slide"
    }
   },
   "source": [
    "Back to Gauss elimination.\n",
    "\n",
    "\n",
    "$$\n",
    "\\begin{aligned}\n",
    "A &= (E_3 E_2 E_1)^{-1} U\\\\\n",
    "&= E_1^{-1} E_2^{-1} E_3^{-1} U\n",
    "\\end{aligned}\n",
    "$$"
   ]
  },
  {
   "cell_type": "code",
   "execution_count": 10,
   "id": "c658a676",
   "metadata": {},
   "outputs": [
    {
     "data": {
      "text/latex": [
       "$\\displaystyle \\left[\\begin{matrix}1 & 0 & 0\\\\-3 & 1 & 0\\\\0 & 0 & 1\\end{matrix}\\right]$"
      ],
      "text/plain": [
       "Matrix([\n",
       "[ 1, 0, 0],\n",
       "[-3, 1, 0],\n",
       "[ 0, 0, 1]])"
      ]
     },
     "execution_count": 10,
     "metadata": {},
     "output_type": "execute_result"
    }
   ],
   "source": [
    "E1"
   ]
  },
  {
   "cell_type": "code",
   "execution_count": 11,
   "id": "3191ae34",
   "metadata": {},
   "outputs": [
    {
     "data": {
      "text/latex": [
       "$\\displaystyle \\left[\\begin{matrix}1 & 0 & 0\\\\3 & 1 & 0\\\\0 & 0 & 1\\end{matrix}\\right]$"
      ],
      "text/plain": [
       "Matrix([\n",
       "[1, 0, 0],\n",
       "[3, 1, 0],\n",
       "[0, 0, 1]])"
      ]
     },
     "execution_count": 11,
     "metadata": {},
     "output_type": "execute_result"
    }
   ],
   "source": [
    "E1.inv()"
   ]
  },
  {
   "cell_type": "markdown",
   "id": "fad7754a",
   "metadata": {
    "slideshow": {
     "slide_type": "slide"
    }
   },
   "source": [
    "It is generally true:\n",
    "\n",
    "- If $A$ is equal to $\\mathbf I$ except for one off-diagonal entry, then $A^{-1}$ is like $A$ except that the off-diagonal entry is multiplied with $-1$.\n",
    "    \n",
    "**consequence**: all $E_i^{-1}$ are lower triangular\n",
    "\n",
    "**fact**: The product of two lower-triangular matrices is lower triangular.\n",
    "\n",
    "**consequences**: \n",
    "\n",
    "- There is a lower-triangular matrix $L$ such that \n",
    "\n",
    "$$\n",
    "\\begin{aligned}\n",
    "A &= LU\\\\\n",
    "L &= E_1^{-1} \\cdots E_n^{-1}\n",
    "\\end{aligned}\n",
    "$$\n",
    "where $E_1, \\ldots, E_n$ are the elimination matrices corresponding to the steps of Gauss elimination."
   ]
  },
  {
   "cell_type": "markdown",
   "id": "8304ffbe",
   "metadata": {
    "slideshow": {
     "slide_type": "slide"
    }
   },
   "source": [
    "Our example:"
   ]
  },
  {
   "cell_type": "code",
   "execution_count": 12,
   "id": "5f9f1b11",
   "metadata": {},
   "outputs": [
    {
     "data": {
      "text/latex": [
       "$\\displaystyle \\left[\\begin{matrix}1 & 0 & 0\\\\3 & 1 & 0\\\\4 & 1 & 1\\end{matrix}\\right]$"
      ],
      "text/plain": [
       "Matrix([\n",
       "[1, 0, 0],\n",
       "[3, 1, 0],\n",
       "[4, 1, 1]])"
      ]
     },
     "execution_count": 12,
     "metadata": {},
     "output_type": "execute_result"
    }
   ],
   "source": [
    "L = E1.inv() * E2.inv() * E3.inv()\n",
    "L"
   ]
  },
  {
   "cell_type": "markdown",
   "id": "4d2c5e43",
   "metadata": {},
   "source": [
    "$$\n",
    "\\begin{aligned}\n",
    "A &= LU\\\\\n",
    "\\displaystyle \\left[\\begin{matrix}1 & 2 & 1\\\\3 & 2 & 4\\\\4 & 4 & 3\\end{matrix}\\right]\n",
    "&=\n",
    "\\displaystyle \\left[\\begin{matrix}1 & 0 & 0\\\\3 & 1 & 0\\\\4 & 1 & 1\\end{matrix}\\right]\n",
    "\\displaystyle \\left[\\begin{matrix}1 & 2 & 1\\\\0 & -4 & 1\\\\0 & 0 & -2\\end{matrix}\\right]\n",
    "\\end{aligned}\n",
    "$$"
   ]
  },
  {
   "cell_type": "markdown",
   "id": "1323f716",
   "metadata": {},
   "source": [
    "For each matrix $A$, there are \n",
    "- a permutation matrix $P$,\n",
    "- an upper triangular matrix $U$\n",
    "- a lower triangular matrix $L$,\n",
    "such that \n",
    "\n",
    "$$\n",
    "PA = LU\n",
    "$$"
   ]
  },
  {
   "cell_type": "markdown",
   "id": "8f122ecd",
   "metadata": {
    "slideshow": {
     "slide_type": "slide"
    }
   },
   "source": [
    "## When is a matrix invertible?\n",
    "\n",
    "The steps of Jordan elimination to not alter the diagonal. Hence, if, after Gauss elimination, we have no zeros on the diagonal, the rest of Gauss-Jordan will go through and we will find the inverse matrix.\n",
    "\n",
    "Conversely, this means:\n",
    "\n",
    "**A square matrix is invertible if and only if Gauss elimination produces an upper triangular matrix with only non-zero entries on the diagonal.**"
   ]
  },
  {
   "cell_type": "markdown",
   "id": "c6ed62ab",
   "metadata": {},
   "source": [
    "Example of a non-invertible matrix:"
   ]
  },
  {
   "cell_type": "code",
   "execution_count": 14,
   "id": "04572b84",
   "metadata": {},
   "outputs": [
    {
     "data": {
      "text/latex": [
       "$\\displaystyle \\left[\\begin{matrix}1 & -4 & 2\\\\-2 & 1 & 3\\\\2 & 6 & -10\\end{matrix}\\right]$"
      ],
      "text/plain": [
       "Matrix([\n",
       "[ 1, -4,   2],\n",
       "[-2,  1,   3],\n",
       "[ 2,  6, -10]])"
      ]
     },
     "execution_count": 14,
     "metadata": {},
     "output_type": "execute_result"
    }
   ],
   "source": [
    "B = Matrix(\n",
    "[\n",
    "    [1, -4, 2],\n",
    "    [-2, 1, 3],\n",
    "    [2,6,-10]\n",
    "])\n",
    "B"
   ]
  },
  {
   "cell_type": "code",
   "execution_count": 15,
   "id": "d82ef347",
   "metadata": {
    "slideshow": {
     "slide_type": "slide"
    }
   },
   "outputs": [
    {
     "data": {
      "text/latex": [
       "$\\displaystyle \\left[\\begin{matrix}1 & -4 & 2\\\\0 & -7 & 7\\\\2 & 6 & -10\\end{matrix}\\right]$"
      ],
      "text/plain": [
       "Matrix([\n",
       "[1, -4,   2],\n",
       "[0, -7,   7],\n",
       "[2,  6, -10]])"
      ]
     },
     "execution_count": 15,
     "metadata": {},
     "output_type": "execute_result"
    }
   ],
   "source": [
    "E1 = Matrix([\n",
    "    [1,0,0],\n",
    "    [2,1,0],\n",
    "    [0,0,1]\n",
    "])\n",
    "E1 * B"
   ]
  },
  {
   "cell_type": "code",
   "execution_count": 16,
   "id": "4ba57776",
   "metadata": {},
   "outputs": [
    {
     "data": {
      "text/latex": [
       "$\\displaystyle \\left[\\begin{matrix}1 & -4 & 2\\\\0 & -7 & 7\\\\0 & 14 & -14\\end{matrix}\\right]$"
      ],
      "text/plain": [
       "Matrix([\n",
       "[1, -4,   2],\n",
       "[0, -7,   7],\n",
       "[0, 14, -14]])"
      ]
     },
     "execution_count": 16,
     "metadata": {},
     "output_type": "execute_result"
    }
   ],
   "source": [
    "E2 = Matrix([\n",
    "    [1,0,0],\n",
    "    [0,1,0],\n",
    "    [-2,0,1]\n",
    "])\n",
    "E2 * E1 * B"
   ]
  },
  {
   "cell_type": "code",
   "execution_count": 17,
   "id": "78896d9f",
   "metadata": {},
   "outputs": [
    {
     "data": {
      "text/latex": [
       "$\\displaystyle \\left[\\begin{matrix}1 & -4 & 2\\\\0 & -7 & 7\\\\0 & 0 & 0\\end{matrix}\\right]$"
      ],
      "text/plain": [
       "Matrix([\n",
       "[1, -4, 2],\n",
       "[0, -7, 7],\n",
       "[0,  0, 0]])"
      ]
     },
     "execution_count": 17,
     "metadata": {},
     "output_type": "execute_result"
    }
   ],
   "source": [
    "E3 = Matrix([\n",
    "    [1,0,0],\n",
    "    [0,1,0],\n",
    "    [0,2,1]\n",
    "])\n",
    "E3 * E2 * E1 * B"
   ]
  },
  {
   "cell_type": "markdown",
   "id": "1a3209fb",
   "metadata": {
    "slideshow": {
     "slide_type": "slide"
    }
   },
   "source": [
    "We have a $0$ on the diagonal, therefore $B$ is not invertible.\n",
    "\n",
    "LU decomposition also works for non-invertible matrices though."
   ]
  },
  {
   "cell_type": "code",
   "execution_count": 18,
   "id": "e47ad185",
   "metadata": {},
   "outputs": [
    {
     "data": {
      "text/latex": [
       "$\\displaystyle \\left[\\begin{matrix}1 & -4 & 2\\\\0 & -7 & 7\\\\0 & 0 & 0\\end{matrix}\\right]$"
      ],
      "text/plain": [
       "Matrix([\n",
       "[1, -4, 2],\n",
       "[0, -7, 7],\n",
       "[0,  0, 0]])"
      ]
     },
     "execution_count": 18,
     "metadata": {},
     "output_type": "execute_result"
    }
   ],
   "source": [
    "U = E3 * E2 * E1 * B\n",
    "U"
   ]
  },
  {
   "cell_type": "code",
   "execution_count": 19,
   "id": "bfd2037c",
   "metadata": {},
   "outputs": [
    {
     "data": {
      "text/latex": [
       "$\\displaystyle \\left[\\begin{matrix}1 & 0 & 0\\\\-2 & 1 & 0\\\\2 & -2 & 1\\end{matrix}\\right]$"
      ],
      "text/plain": [
       "Matrix([\n",
       "[ 1,  0, 0],\n",
       "[-2,  1, 0],\n",
       "[ 2, -2, 1]])"
      ]
     },
     "execution_count": 19,
     "metadata": {},
     "output_type": "execute_result"
    }
   ],
   "source": [
    "L = E1.inv() * E2.inv() * E3.inv()\n",
    "L"
   ]
  },
  {
   "cell_type": "code",
   "execution_count": 20,
   "id": "50fcf0a4",
   "metadata": {},
   "outputs": [
    {
     "data": {
      "text/latex": [
       "$\\displaystyle \\left[\\begin{matrix}1 & -4 & 2\\\\-2 & 1 & 3\\\\2 & 6 & -10\\end{matrix}\\right]$"
      ],
      "text/plain": [
       "Matrix([\n",
       "[ 1, -4,   2],\n",
       "[-2,  1,   3],\n",
       "[ 2,  6, -10]])"
      ]
     },
     "execution_count": 20,
     "metadata": {},
     "output_type": "execute_result"
    }
   ],
   "source": [
    "L * U"
   ]
  },
  {
   "cell_type": "code",
   "execution_count": 57,
   "id": "ae2455e6",
   "metadata": {},
   "outputs": [
    {
     "data": {
      "text/latex": [
       "$\\displaystyle \\left[\\begin{matrix}1 & -4 & 2\\\\-2 & 1 & 3\\\\2 & 6 & -10\\end{matrix}\\right]$"
      ],
      "text/plain": [
       "Matrix([\n",
       "[ 1, -4,   2],\n",
       "[-2,  1,   3],\n",
       "[ 2,  6, -10]])"
      ]
     },
     "execution_count": 57,
     "metadata": {},
     "output_type": "execute_result"
    }
   ],
   "source": [
    "B"
   ]
  },
  {
   "cell_type": "markdown",
   "id": "9bd7d5d7",
   "metadata": {
    "slideshow": {
     "slide_type": "slide"
    }
   },
   "source": [
    "## LDU decomposition\n",
    "\n",
    "L is a lower triangular matrix with all-$1$ on the diagonal\n",
    "\n",
    "We can factorize U further into a *diagonal matrix* and an upper triangular matrix which also has all-$1$ on the diagonal.\n",
    "\n",
    "$$\n",
    "A = LDU'\n",
    "$$\n",
    "\n",
    "- if $u_{ii}\\neq 0$, we set $d_{ii} = u_{ii}$ and divide the $i$th row of U by this value\n",
    "- if $u_{ii}= 0$ we set $d_{ii}=0$ and $u'_{ii} = 1$."
   ]
  },
  {
   "cell_type": "markdown",
   "id": "3c0db43c",
   "metadata": {},
   "source": [
    "$$\n",
    "\\begin{aligned}\n",
    "\\left[\\begin{matrix}1 & -4 & 2\\\\-2 & 1 & 3\\\\2 & 6 & -10\\end{matrix}\\right]\n",
    "&=\n",
    "\\left[\\begin{matrix}1 & 0 & 0\\\\-2 & 1 & 0\\\\2 & -2 & 1\\end{matrix}\\right]\n",
    "\\left[\\begin{matrix}1 & -4 & 2\\\\0 & -7 & 7\\\\0 & 0 & 0\\end{matrix}\\right]\\\\[1em]\n",
    "&=\\left[\\begin{matrix}1 & 0 & 0\\\\-2 & 1 & 0\\\\2 & -2 & 1\\end{matrix}\\right]\n",
    "\\left[\\begin{matrix}1 & 0 & 0\\\\0 & -7 & 0\\\\0 & 0 & 0\\end{matrix}\\right]\n",
    "\\left[\\begin{matrix}1 & -4 & 2\\\\0 & 1 & -1\\\\0 & 0 & 1\\end{matrix}\\right]\n",
    "\\end{aligned}\n",
    "$$"
   ]
  },
  {
   "cell_type": "markdown",
   "id": "edebc4aa",
   "metadata": {
    "slideshow": {
     "slide_type": "slide"
    }
   },
   "source": [
    "### LU decomposition in SymPy"
   ]
  },
  {
   "cell_type": "code",
   "execution_count": 21,
   "id": "21c42330",
   "metadata": {},
   "outputs": [
    {
     "data": {
      "text/latex": [
       "$\\displaystyle \\left[\\begin{matrix}1 & -4 & 2\\\\-2 & 1 & 3\\\\2 & 6 & -10\\end{matrix}\\right]$"
      ],
      "text/plain": [
       "Matrix([\n",
       "[ 1, -4,   2],\n",
       "[-2,  1,   3],\n",
       "[ 2,  6, -10]])"
      ]
     },
     "execution_count": 21,
     "metadata": {},
     "output_type": "execute_result"
    }
   ],
   "source": [
    "B"
   ]
  },
  {
   "cell_type": "code",
   "execution_count": 22,
   "id": "1bcef638",
   "metadata": {},
   "outputs": [],
   "source": [
    "l,u,p = B.LUdecomposition()"
   ]
  },
  {
   "cell_type": "code",
   "execution_count": 23,
   "id": "64af17e2",
   "metadata": {},
   "outputs": [
    {
     "data": {
      "text/latex": [
       "$\\displaystyle \\left[\\begin{matrix}1 & 0 & 0\\\\-2 & 1 & 0\\\\2 & -2 & 1\\end{matrix}\\right]$"
      ],
      "text/plain": [
       "Matrix([\n",
       "[ 1,  0, 0],\n",
       "[-2,  1, 0],\n",
       "[ 2, -2, 1]])"
      ]
     },
     "execution_count": 23,
     "metadata": {},
     "output_type": "execute_result"
    }
   ],
   "source": [
    "l"
   ]
  },
  {
   "cell_type": "code",
   "execution_count": 24,
   "id": "d5751332",
   "metadata": {},
   "outputs": [
    {
     "data": {
      "text/latex": [
       "$\\displaystyle \\left[\\begin{matrix}1 & -4 & 2\\\\0 & -7 & 7\\\\0 & 0 & 0\\end{matrix}\\right]$"
      ],
      "text/plain": [
       "Matrix([\n",
       "[1, -4, 2],\n",
       "[0, -7, 7],\n",
       "[0,  0, 0]])"
      ]
     },
     "execution_count": 24,
     "metadata": {},
     "output_type": "execute_result"
    }
   ],
   "source": [
    "u"
   ]
  },
  {
   "cell_type": "code",
   "execution_count": 25,
   "id": "661f1665",
   "metadata": {
    "slideshow": {
     "slide_type": "-"
    }
   },
   "outputs": [
    {
     "data": {
      "text/plain": [
       "[]"
      ]
     },
     "execution_count": 25,
     "metadata": {},
     "output_type": "execute_result"
    }
   ],
   "source": [
    "p"
   ]
  },
  {
   "cell_type": "markdown",
   "id": "bb2b1a63",
   "metadata": {},
   "source": [
    "The third component, `p`, contains the permutation required to ensure the success of LU decomposition.\n"
   ]
  },
  {
   "cell_type": "markdown",
   "id": "960a12b0",
   "metadata": {
    "slideshow": {
     "slide_type": "slide"
    }
   },
   "source": [
    "\n",
    "Back to our old example:"
   ]
  },
  {
   "cell_type": "code",
   "execution_count": 26,
   "id": "f28eba62",
   "metadata": {},
   "outputs": [
    {
     "data": {
      "text/latex": [
       "$\\displaystyle \\left[\\begin{matrix}1 & 4 & 5\\\\4 & 16 & 6\\\\5 & 6 & 3\\end{matrix}\\right]$"
      ],
      "text/plain": [
       "Matrix([\n",
       "[1,  4, 5],\n",
       "[4, 16, 6],\n",
       "[5,  6, 3]])"
      ]
     },
     "execution_count": 26,
     "metadata": {},
     "output_type": "execute_result"
    }
   ],
   "source": [
    "A = Matrix([\n",
    "    [1,4,5],\n",
    "    [4,16,6],\n",
    "    [5,6,3]\n",
    "])\n",
    "A"
   ]
  },
  {
   "cell_type": "code",
   "execution_count": 27,
   "id": "d994526f",
   "metadata": {},
   "outputs": [],
   "source": [
    "l,u,p = A.LUdecomposition()"
   ]
  },
  {
   "cell_type": "code",
   "execution_count": 28,
   "id": "2aa566e3",
   "metadata": {},
   "outputs": [
    {
     "data": {
      "text/latex": [
       "$\\displaystyle \\left[\\begin{matrix}1 & 0 & 0\\\\5 & 1 & 0\\\\4 & 0 & 1\\end{matrix}\\right]$"
      ],
      "text/plain": [
       "Matrix([\n",
       "[1, 0, 0],\n",
       "[5, 1, 0],\n",
       "[4, 0, 1]])"
      ]
     },
     "execution_count": 28,
     "metadata": {},
     "output_type": "execute_result"
    }
   ],
   "source": [
    "l"
   ]
  },
  {
   "cell_type": "code",
   "execution_count": 29,
   "id": "624e42f2",
   "metadata": {},
   "outputs": [
    {
     "data": {
      "text/latex": [
       "$\\displaystyle \\left[\\begin{matrix}1 & 4 & 5\\\\0 & -14 & -22\\\\0 & 0 & -14\\end{matrix}\\right]$"
      ],
      "text/plain": [
       "Matrix([\n",
       "[1,   4,   5],\n",
       "[0, -14, -22],\n",
       "[0,   0, -14]])"
      ]
     },
     "execution_count": 29,
     "metadata": {},
     "output_type": "execute_result"
    }
   ],
   "source": [
    "u"
   ]
  },
  {
   "cell_type": "code",
   "execution_count": 30,
   "id": "6e7b38f6",
   "metadata": {},
   "outputs": [
    {
     "data": {
      "text/plain": [
       "[[1, 2]]"
      ]
     },
     "execution_count": 30,
     "metadata": {},
     "output_type": "execute_result"
    }
   ],
   "source": [
    "p"
   ]
  },
  {
   "cell_type": "markdown",
   "id": "f978b8e5",
   "metadata": {
    "slideshow": {
     "slide_type": "slide"
    }
   },
   "source": [
    "### LU decomposition with numpy arrays"
   ]
  },
  {
   "cell_type": "code",
   "execution_count": 31,
   "id": "93209f16",
   "metadata": {},
   "outputs": [],
   "source": [
    "import numpy as np\n",
    "from scipy.linalg import lu"
   ]
  },
  {
   "cell_type": "code",
   "execution_count": 32,
   "id": "7b6362a6",
   "metadata": {},
   "outputs": [
    {
     "data": {
      "text/plain": [
       "array([[ 1,  4,  5],\n",
       "       [ 4, 16,  6],\n",
       "       [ 5,  6,  3]])"
      ]
     },
     "execution_count": 32,
     "metadata": {},
     "output_type": "execute_result"
    }
   ],
   "source": [
    "A = np.array([\n",
    "    [1,4,5],\n",
    "    [4,16,6],\n",
    "    [5,6,3]\n",
    "])\n",
    "A"
   ]
  },
  {
   "cell_type": "code",
   "execution_count": 33,
   "id": "7fe92be9",
   "metadata": {},
   "outputs": [],
   "source": [
    "p,l,u = lu(A)"
   ]
  },
  {
   "cell_type": "code",
   "execution_count": 34,
   "id": "300b1708",
   "metadata": {
    "slideshow": {
     "slide_type": "slide"
    }
   },
   "outputs": [
    {
     "data": {
      "text/plain": [
       "array([[0., 0., 1.],\n",
       "       [0., 1., 0.],\n",
       "       [1., 0., 0.]])"
      ]
     },
     "execution_count": 34,
     "metadata": {},
     "output_type": "execute_result"
    }
   ],
   "source": [
    "p"
   ]
  },
  {
   "cell_type": "code",
   "execution_count": 35,
   "id": "ef92574b",
   "metadata": {},
   "outputs": [
    {
     "data": {
      "text/plain": [
       "array([[1.  , 0.  , 0.  ],\n",
       "       [0.8 , 1.  , 0.  ],\n",
       "       [0.2 , 0.25, 1.  ]])"
      ]
     },
     "execution_count": 35,
     "metadata": {},
     "output_type": "execute_result"
    }
   ],
   "source": [
    "l"
   ]
  },
  {
   "cell_type": "code",
   "execution_count": 36,
   "id": "cea5e163",
   "metadata": {},
   "outputs": [
    {
     "data": {
      "text/plain": [
       "array([[ 5. ,  6. ,  3. ],\n",
       "       [ 0. , 11.2,  3.6],\n",
       "       [ 0. ,  0. ,  3.5]])"
      ]
     },
     "execution_count": 36,
     "metadata": {},
     "output_type": "execute_result"
    }
   ],
   "source": [
    "u"
   ]
  },
  {
   "cell_type": "code",
   "execution_count": 37,
   "id": "de582d4f",
   "metadata": {},
   "outputs": [
    {
     "data": {
      "text/plain": [
       "array([[ 1.,  4.,  5.],\n",
       "       [ 4., 16.,  6.],\n",
       "       [ 5.,  6.,  3.]])"
      ]
     },
     "execution_count": 37,
     "metadata": {},
     "output_type": "execute_result"
    }
   ],
   "source": [
    " p @ l @ u"
   ]
  },
  {
   "cell_type": "markdown",
   "id": "64e0f4bb",
   "metadata": {
    "slideshow": {
     "slide_type": "slide"
    }
   },
   "source": [
    "### Why should we bother about LU decomposition?\n",
    "\n",
    "In numerical linear algebra, doing the LU decomposition once often saves a lot of computing time further down the road.\n",
    "\n",
    "E.g., suppose we have done the LU decomposition of some matrix A.\n",
    "\n",
    "$$\n",
    "\\begin{aligned}\n",
    "A &= \\left[\\begin{array}{r}1 & 2 & 1\\\\3 & 2 & 4\\\\4 & 4 & 3\\end{array}\\right]\\\\[1em]\n",
    "L &= \\left[\\begin{array}{r}1 & 0 & 0\\\\3 & 1 & 0\\\\4 & 1 & 1\\end{array}\\right]\\\\[1em]\n",
    "U &= \\left[\\begin{array}{r}1 & 2 & 1\\\\0 & -4 & 1\\\\0 & 0 & -2\\end{array}\\right]\n",
    "\\end{aligned}\n",
    "$$"
   ]
  },
  {
   "cell_type": "markdown",
   "id": "646d23c2",
   "metadata": {
    "slideshow": {
     "slide_type": "slide"
    }
   },
   "source": [
    "Now suppose you (or rather: the computer) are/is asked to solve the linear system\n",
    "\n",
    "$$\n",
    "A\\begin{bmatrix}x\\\\y\\\\z\\end{bmatrix} = \\begin{bmatrix}1\\\\1\\\\0\\end{bmatrix}\n",
    "$$\n",
    "\n",
    "Mathematically, an obvious way is\n",
    "\n",
    "$$\n",
    "\\begin{aligned}\n",
    "\\begin{bmatrix}x\\\\y\\\\z\\end{bmatrix} &= A^{-1}\\begin{bmatrix}1\\\\1\\\\0\\end{bmatrix}\\\\[1em]\n",
    "&= U^{-1}L^{-1}\\begin{bmatrix}1\\\\1\\\\0\\end{bmatrix}\n",
    "\\end{aligned}\n",
    "$$"
   ]
  },
  {
   "cell_type": "markdown",
   "id": "bf270c83",
   "metadata": {
    "slideshow": {
     "slide_type": "slide"
    }
   },
   "source": [
    "This requires us to find the inverses of L and U. However, a more efficient way is the following:\n",
    "\n",
    "$$\n",
    "\\begin{aligned}\n",
    "L\n",
    "\\begin{bmatrix}\n",
    "w\\\\u\\\\v\n",
    "\\end{bmatrix} &= \\begin{bmatrix}1\\\\1\\\\0\\end{bmatrix}\\\\[1em]\n",
    "U\\begin{bmatrix}x\\\\y\\\\z\\end{bmatrix} &= \\begin{bmatrix}\n",
    "w\\\\u\\\\v\n",
    "\\end{bmatrix}\n",
    "\\end{aligned}\n",
    "$$"
   ]
  },
  {
   "cell_type": "markdown",
   "id": "0c52b57d",
   "metadata": {
    "slideshow": {
     "slide_type": "slide"
    }
   },
   "source": [
    "Reason: We can solve these systems via **substitution**, without elimination.\n",
    "    \n",
    "$$\n",
    "\\begin{aligned}\n",
    "\\left[\\begin{array}{r}\n",
    "1 & 0 & 0\n",
    "\\\\3 & 1 & 0\n",
    "\\\\4 & 1 & 1\n",
    "\\end{array}\\right]\n",
    "\\begin{bmatrix}\n",
    "w\\\\u\\\\v\n",
    "\\end{bmatrix}\n",
    "&= \\begin{bmatrix}1\\\\1\\\\0\\end{bmatrix}\\\\[1em]\n",
    "\\end{aligned}\n",
    "$$\n",
    "\n",
    "In non-matrix notation:\n",
    "\n",
    "$$\n",
    "\\begin{aligned}\n",
    "w & & &= 1\\\\\n",
    "3w &+ u &&= 1\\\\\n",
    "4w &+u &+v &= 0\n",
    "\\end{aligned}\n",
    "$$\n",
    "\n",
    "- substituting $w$:\n",
    "\n",
    "$$\n",
    "\\begin{aligned}\n",
    "3\\cdot 1 &+ u &&= 1\\\\\n",
    "4\\cdot 1 &+u &+v &= 0\n",
    "\\end{aligned}\n",
    "$$\n",
    "\n",
    "- constants to the left-hand side\n",
    "\n",
    "$$\n",
    "\\begin{aligned}\n",
    " u &&= -2\\\\\n",
    "u &+v &= -4\n",
    "\\end{aligned}\n",
    "$$"
   ]
  },
  {
   "cell_type": "markdown",
   "id": "3c78b1ec",
   "metadata": {
    "slideshow": {
     "slide_type": "slide"
    }
   },
   "source": [
    "- same with $v$\n",
    "\n",
    "$$\n",
    "\\begin{aligned}\n",
    "-2 &+v &= -4\\\\\n",
    "&v&= -2\\\\[1em]\n",
    "\\begin{bmatrix}w\\\\u\\\\v\\end{bmatrix} &= \n",
    "\\begin{bmatrix}\n",
    "1\\\\-2\\\\-2\n",
    "\\end{bmatrix}\n",
    "\\end{aligned}\n",
    "$$"
   ]
  },
  {
   "cell_type": "markdown",
   "id": "2293fd4d",
   "metadata": {
    "slideshow": {
     "slide_type": "slide"
    }
   },
   "source": [
    "next system of equations.\n",
    "\n",
    "$$\n",
    "\\left[\\begin{array}{r}1 & 2 & 1\\\\0 & -4 & 1\\\\0 & 0 & -2\\end{array}\\right]\n",
    "\\begin{bmatrix}\n",
    "x\\\\y\\\\z\n",
    "\\end{bmatrix} = \n",
    "\\begin{bmatrix}\n",
    "1\\\\-2\\\\-2\n",
    "\\end{bmatrix}\\\\[1em]\n",
    "$$\n",
    "\n",
    "$$\n",
    "\\begin{aligned}\n",
    "&z &&= 1\\\\\\hline\n",
    "x & +2y  &&= 0\\\\\n",
    "  & -4y &+ z& = -3\\\\\\hline\n",
    "  y &&&= \\frac{3}{4}\\\\\\hline\n",
    "  x &&&=-\\frac{3}{2}\\\\\\hline\n",
    "\\end{aligned}\n",
    "$$\n",
    "\n",
    "$$\n",
    "\\begin{aligned}\n",
    "   \\begin{bmatrix}\n",
    "   x\\\\y\\\\z\n",
    "   \\end{bmatrix} \n",
    "   &= \n",
    "   \\left[\n",
    "   \\begin{array}{r}\n",
    "   -\\frac{3}{2}\\\\\n",
    "   \\frac{3}{4}\\\\\n",
    "   1\n",
    "   \\end{array}\\right]\n",
    "\\end{aligned}\n",
    "$$"
   ]
  },
  {
   "cell_type": "markdown",
   "id": "cac2c43b",
   "metadata": {
    "slideshow": {
     "slide_type": "slide"
    }
   },
   "source": [
    "## Symmetric matrices\n",
    "\n",
    "- symmetric matrices are square matrices $S$ with the property that\n",
    "\n",
    "$$\n",
    "S = S^T\n",
    "$$\n",
    "\n",
    "- if there is an LDU decomposition for a symmetric matrix $S$, then\n",
    "\n",
    "$$\n",
    "\\begin{aligned}\n",
    "S &= LDU\\\\\n",
    "L &= U^T\n",
    "\\end{aligned}\n",
    "$$\n",
    "\n",
    "- in other words, a symmetric matrix $S$ can be decomposed as\n",
    "$$\n",
    "S = LDL^T\n",
    "$$\n",
    "\n",
    "- if row permutation is required, it has to be accompanied by column permutation to preserve symmetry"
   ]
  },
  {
   "cell_type": "markdown",
   "id": "3ff889d1",
   "metadata": {
    "slideshow": {
     "slide_type": "slide"
    }
   },
   "source": [
    "### example\n",
    "\n"
   ]
  },
  {
   "cell_type": "code",
   "execution_count": 43,
   "id": "55a82bfd",
   "metadata": {},
   "outputs": [
    {
     "data": {
      "text/latex": [
       "$\\displaystyle \\left[\\begin{matrix}0 & 1 & 2\\\\1 & -1 & 1\\\\2 & 1 & 3\\end{matrix}\\right]$"
      ],
      "text/plain": [
       "Matrix([\n",
       "[0,  1, 2],\n",
       "[1, -1, 1],\n",
       "[2,  1, 3]])"
      ]
     },
     "execution_count": 43,
     "metadata": {},
     "output_type": "execute_result"
    }
   ],
   "source": [
    "S = Matrix([\n",
    "    [0, 1, 2],\n",
    "    [1, -1, 1],\n",
    "    [2, 1, 3]\n",
    "])\n",
    "S"
   ]
  },
  {
   "cell_type": "markdown",
   "id": "a5fb456f",
   "metadata": {},
   "source": [
    "- permutation matrix"
   ]
  },
  {
   "cell_type": "code",
   "execution_count": 44,
   "id": "9c2d414f",
   "metadata": {},
   "outputs": [
    {
     "data": {
      "text/latex": [
       "$\\displaystyle \\left[\\begin{matrix}0 & 0 & 1\\\\0 & 1 & 0\\\\1 & 0 & 0\\end{matrix}\\right]$"
      ],
      "text/plain": [
       "Matrix([\n",
       "[0, 0, 1],\n",
       "[0, 1, 0],\n",
       "[1, 0, 0]])"
      ]
     },
     "execution_count": 44,
     "metadata": {},
     "output_type": "execute_result"
    }
   ],
   "source": [
    "P = Matrix([\n",
    "    [0,0,1],\n",
    "    [0,1,0],\n",
    "    [1,0,0]\n",
    "])\n",
    "P"
   ]
  },
  {
   "cell_type": "code",
   "execution_count": 45,
   "id": "54e33533",
   "metadata": {},
   "outputs": [
    {
     "data": {
      "text/latex": [
       "$\\displaystyle \\left[\\begin{matrix}3 & 1 & 2\\\\1 & -1 & 1\\\\2 & 1 & 0\\end{matrix}\\right]$"
      ],
      "text/plain": [
       "Matrix([\n",
       "[3,  1, 2],\n",
       "[1, -1, 1],\n",
       "[2,  1, 0]])"
      ]
     },
     "execution_count": 45,
     "metadata": {},
     "output_type": "execute_result"
    }
   ],
   "source": [
    "S1 = P * S * P.T\n",
    "S1"
   ]
  },
  {
   "cell_type": "markdown",
   "id": "24c26325",
   "metadata": {
    "slideshow": {
     "slide_type": "slide"
    }
   },
   "source": [
    "$$\n",
    "\\begin{aligned}\n",
    "    L &= \\left[\\begin{matrix}1 & 0 & 0\\\\\\frac{1}{3} & 1 & 0\\\\\\frac{2}{3} & - \\frac{1}{4} & 1\\end{matrix}\\right]\\\\[1em]\n",
    "    D &= \\begin{bmatrix}\n",
    "    3 & 0 & 0\\\\\n",
    "    0 & -\\frac{4}{3} & 0\\\\\n",
    "    0 & 0 & -\\frac{5}{4}\n",
    "    \\end{bmatrix}\\\\\n",
    "    PSP^T &= L D L^T\n",
    "\\end{aligned}\n",
    "$$\n"
   ]
  },
  {
   "cell_type": "markdown",
   "id": "c775d14d",
   "metadata": {
    "slideshow": {
     "slide_type": "slide"
    }
   },
   "source": [
    "### Cholesky decomposition\n",
    "\n",
    "Let us consider the so-called **quadratic form** of $S$:\n",
    "\n",
    "$$\n",
    "\\mathbf x' S \\mathbf x\n",
    "$$\n",
    "\n",
    "This function assigns each vector $\\mathbf x$ to some real number – something like a high-dimensional parabola.\n",
    "\n",
    "Example:"
   ]
  },
  {
   "cell_type": "code",
   "execution_count": 46,
   "id": "d925193a",
   "metadata": {},
   "outputs": [
    {
     "data": {
      "text/latex": [
       "$\\displaystyle \\left[\\begin{matrix}3 & 1\\\\1 & -1\\end{matrix}\\right]$"
      ],
      "text/plain": [
       "Matrix([\n",
       "[3,  1],\n",
       "[1, -1]])"
      ]
     },
     "execution_count": 46,
     "metadata": {},
     "output_type": "execute_result"
    }
   ],
   "source": [
    "S = Matrix([\n",
    "    [3, 1],\n",
    "    [1, -1]\n",
    "])\n",
    "S"
   ]
  },
  {
   "cell_type": "code",
   "execution_count": 47,
   "id": "2ed17dc9",
   "metadata": {
    "hide_input": true,
    "slideshow": {
     "slide_type": "slide"
    }
   },
   "outputs": [
    {
     "data": {
      "application/javascript": [
       "/* Put everything inside the global mpl namespace */\n",
       "/* global mpl */\n",
       "window.mpl = {};\n",
       "\n",
       "mpl.get_websocket_type = function () {\n",
       "    if (typeof WebSocket !== 'undefined') {\n",
       "        return WebSocket;\n",
       "    } else if (typeof MozWebSocket !== 'undefined') {\n",
       "        return MozWebSocket;\n",
       "    } else {\n",
       "        alert(\n",
       "            'Your browser does not have WebSocket support. ' +\n",
       "                'Please try Chrome, Safari or Firefox ≥ 6. ' +\n",
       "                'Firefox 4 and 5 are also supported but you ' +\n",
       "                'have to enable WebSockets in about:config.'\n",
       "        );\n",
       "    }\n",
       "};\n",
       "\n",
       "mpl.figure = function (figure_id, websocket, ondownload, parent_element) {\n",
       "    this.id = figure_id;\n",
       "\n",
       "    this.ws = websocket;\n",
       "\n",
       "    this.supports_binary = this.ws.binaryType !== undefined;\n",
       "\n",
       "    if (!this.supports_binary) {\n",
       "        var warnings = document.getElementById('mpl-warnings');\n",
       "        if (warnings) {\n",
       "            warnings.style.display = 'block';\n",
       "            warnings.textContent =\n",
       "                'This browser does not support binary websocket messages. ' +\n",
       "                'Performance may be slow.';\n",
       "        }\n",
       "    }\n",
       "\n",
       "    this.imageObj = new Image();\n",
       "\n",
       "    this.context = undefined;\n",
       "    this.message = undefined;\n",
       "    this.canvas = undefined;\n",
       "    this.rubberband_canvas = undefined;\n",
       "    this.rubberband_context = undefined;\n",
       "    this.format_dropdown = undefined;\n",
       "\n",
       "    this.image_mode = 'full';\n",
       "\n",
       "    this.root = document.createElement('div');\n",
       "    this.root.setAttribute('style', 'display: inline-block');\n",
       "    this._root_extra_style(this.root);\n",
       "\n",
       "    parent_element.appendChild(this.root);\n",
       "\n",
       "    this._init_header(this);\n",
       "    this._init_canvas(this);\n",
       "    this._init_toolbar(this);\n",
       "\n",
       "    var fig = this;\n",
       "\n",
       "    this.waiting = false;\n",
       "\n",
       "    this.ws.onopen = function () {\n",
       "        fig.send_message('supports_binary', { value: fig.supports_binary });\n",
       "        fig.send_message('send_image_mode', {});\n",
       "        if (fig.ratio !== 1) {\n",
       "            fig.send_message('set_device_pixel_ratio', {\n",
       "                device_pixel_ratio: fig.ratio,\n",
       "            });\n",
       "        }\n",
       "        fig.send_message('refresh', {});\n",
       "    };\n",
       "\n",
       "    this.imageObj.onload = function () {\n",
       "        if (fig.image_mode === 'full') {\n",
       "            // Full images could contain transparency (where diff images\n",
       "            // almost always do), so we need to clear the canvas so that\n",
       "            // there is no ghosting.\n",
       "            fig.context.clearRect(0, 0, fig.canvas.width, fig.canvas.height);\n",
       "        }\n",
       "        fig.context.drawImage(fig.imageObj, 0, 0);\n",
       "    };\n",
       "\n",
       "    this.imageObj.onunload = function () {\n",
       "        fig.ws.close();\n",
       "    };\n",
       "\n",
       "    this.ws.onmessage = this._make_on_message_function(this);\n",
       "\n",
       "    this.ondownload = ondownload;\n",
       "};\n",
       "\n",
       "mpl.figure.prototype._init_header = function () {\n",
       "    var titlebar = document.createElement('div');\n",
       "    titlebar.classList =\n",
       "        'ui-dialog-titlebar ui-widget-header ui-corner-all ui-helper-clearfix';\n",
       "    var titletext = document.createElement('div');\n",
       "    titletext.classList = 'ui-dialog-title';\n",
       "    titletext.setAttribute(\n",
       "        'style',\n",
       "        'width: 100%; text-align: center; padding: 3px;'\n",
       "    );\n",
       "    titlebar.appendChild(titletext);\n",
       "    this.root.appendChild(titlebar);\n",
       "    this.header = titletext;\n",
       "};\n",
       "\n",
       "mpl.figure.prototype._canvas_extra_style = function (_canvas_div) {};\n",
       "\n",
       "mpl.figure.prototype._root_extra_style = function (_canvas_div) {};\n",
       "\n",
       "mpl.figure.prototype._init_canvas = function () {\n",
       "    var fig = this;\n",
       "\n",
       "    var canvas_div = (this.canvas_div = document.createElement('div'));\n",
       "    canvas_div.setAttribute(\n",
       "        'style',\n",
       "        'border: 1px solid #ddd;' +\n",
       "            'box-sizing: content-box;' +\n",
       "            'clear: both;' +\n",
       "            'min-height: 1px;' +\n",
       "            'min-width: 1px;' +\n",
       "            'outline: 0;' +\n",
       "            'overflow: hidden;' +\n",
       "            'position: relative;' +\n",
       "            'resize: both;'\n",
       "    );\n",
       "\n",
       "    function on_keyboard_event_closure(name) {\n",
       "        return function (event) {\n",
       "            return fig.key_event(event, name);\n",
       "        };\n",
       "    }\n",
       "\n",
       "    canvas_div.addEventListener(\n",
       "        'keydown',\n",
       "        on_keyboard_event_closure('key_press')\n",
       "    );\n",
       "    canvas_div.addEventListener(\n",
       "        'keyup',\n",
       "        on_keyboard_event_closure('key_release')\n",
       "    );\n",
       "\n",
       "    this._canvas_extra_style(canvas_div);\n",
       "    this.root.appendChild(canvas_div);\n",
       "\n",
       "    var canvas = (this.canvas = document.createElement('canvas'));\n",
       "    canvas.classList.add('mpl-canvas');\n",
       "    canvas.setAttribute('style', 'box-sizing: content-box;');\n",
       "\n",
       "    this.context = canvas.getContext('2d');\n",
       "\n",
       "    var backingStore =\n",
       "        this.context.backingStorePixelRatio ||\n",
       "        this.context.webkitBackingStorePixelRatio ||\n",
       "        this.context.mozBackingStorePixelRatio ||\n",
       "        this.context.msBackingStorePixelRatio ||\n",
       "        this.context.oBackingStorePixelRatio ||\n",
       "        this.context.backingStorePixelRatio ||\n",
       "        1;\n",
       "\n",
       "    this.ratio = (window.devicePixelRatio || 1) / backingStore;\n",
       "\n",
       "    var rubberband_canvas = (this.rubberband_canvas = document.createElement(\n",
       "        'canvas'\n",
       "    ));\n",
       "    rubberband_canvas.setAttribute(\n",
       "        'style',\n",
       "        'box-sizing: content-box; position: absolute; left: 0; top: 0; z-index: 1;'\n",
       "    );\n",
       "\n",
       "    // Apply a ponyfill if ResizeObserver is not implemented by browser.\n",
       "    if (this.ResizeObserver === undefined) {\n",
       "        if (window.ResizeObserver !== undefined) {\n",
       "            this.ResizeObserver = window.ResizeObserver;\n",
       "        } else {\n",
       "            var obs = _JSXTOOLS_RESIZE_OBSERVER({});\n",
       "            this.ResizeObserver = obs.ResizeObserver;\n",
       "        }\n",
       "    }\n",
       "\n",
       "    this.resizeObserverInstance = new this.ResizeObserver(function (entries) {\n",
       "        var nentries = entries.length;\n",
       "        for (var i = 0; i < nentries; i++) {\n",
       "            var entry = entries[i];\n",
       "            var width, height;\n",
       "            if (entry.contentBoxSize) {\n",
       "                if (entry.contentBoxSize instanceof Array) {\n",
       "                    // Chrome 84 implements new version of spec.\n",
       "                    width = entry.contentBoxSize[0].inlineSize;\n",
       "                    height = entry.contentBoxSize[0].blockSize;\n",
       "                } else {\n",
       "                    // Firefox implements old version of spec.\n",
       "                    width = entry.contentBoxSize.inlineSize;\n",
       "                    height = entry.contentBoxSize.blockSize;\n",
       "                }\n",
       "            } else {\n",
       "                // Chrome <84 implements even older version of spec.\n",
       "                width = entry.contentRect.width;\n",
       "                height = entry.contentRect.height;\n",
       "            }\n",
       "\n",
       "            // Keep the size of the canvas and rubber band canvas in sync with\n",
       "            // the canvas container.\n",
       "            if (entry.devicePixelContentBoxSize) {\n",
       "                // Chrome 84 implements new version of spec.\n",
       "                canvas.setAttribute(\n",
       "                    'width',\n",
       "                    entry.devicePixelContentBoxSize[0].inlineSize\n",
       "                );\n",
       "                canvas.setAttribute(\n",
       "                    'height',\n",
       "                    entry.devicePixelContentBoxSize[0].blockSize\n",
       "                );\n",
       "            } else {\n",
       "                canvas.setAttribute('width', width * fig.ratio);\n",
       "                canvas.setAttribute('height', height * fig.ratio);\n",
       "            }\n",
       "            canvas.setAttribute(\n",
       "                'style',\n",
       "                'width: ' + width + 'px; height: ' + height + 'px;'\n",
       "            );\n",
       "\n",
       "            rubberband_canvas.setAttribute('width', width);\n",
       "            rubberband_canvas.setAttribute('height', height);\n",
       "\n",
       "            // And update the size in Python. We ignore the initial 0/0 size\n",
       "            // that occurs as the element is placed into the DOM, which should\n",
       "            // otherwise not happen due to the minimum size styling.\n",
       "            if (fig.ws.readyState == 1 && width != 0 && height != 0) {\n",
       "                fig.request_resize(width, height);\n",
       "            }\n",
       "        }\n",
       "    });\n",
       "    this.resizeObserverInstance.observe(canvas_div);\n",
       "\n",
       "    function on_mouse_event_closure(name) {\n",
       "        return function (event) {\n",
       "            return fig.mouse_event(event, name);\n",
       "        };\n",
       "    }\n",
       "\n",
       "    rubberband_canvas.addEventListener(\n",
       "        'mousedown',\n",
       "        on_mouse_event_closure('button_press')\n",
       "    );\n",
       "    rubberband_canvas.addEventListener(\n",
       "        'mouseup',\n",
       "        on_mouse_event_closure('button_release')\n",
       "    );\n",
       "    rubberband_canvas.addEventListener(\n",
       "        'dblclick',\n",
       "        on_mouse_event_closure('dblclick')\n",
       "    );\n",
       "    // Throttle sequential mouse events to 1 every 20ms.\n",
       "    rubberband_canvas.addEventListener(\n",
       "        'mousemove',\n",
       "        on_mouse_event_closure('motion_notify')\n",
       "    );\n",
       "\n",
       "    rubberband_canvas.addEventListener(\n",
       "        'mouseenter',\n",
       "        on_mouse_event_closure('figure_enter')\n",
       "    );\n",
       "    rubberband_canvas.addEventListener(\n",
       "        'mouseleave',\n",
       "        on_mouse_event_closure('figure_leave')\n",
       "    );\n",
       "\n",
       "    canvas_div.addEventListener('wheel', function (event) {\n",
       "        if (event.deltaY < 0) {\n",
       "            event.step = 1;\n",
       "        } else {\n",
       "            event.step = -1;\n",
       "        }\n",
       "        on_mouse_event_closure('scroll')(event);\n",
       "    });\n",
       "\n",
       "    canvas_div.appendChild(canvas);\n",
       "    canvas_div.appendChild(rubberband_canvas);\n",
       "\n",
       "    this.rubberband_context = rubberband_canvas.getContext('2d');\n",
       "    this.rubberband_context.strokeStyle = '#000000';\n",
       "\n",
       "    this._resize_canvas = function (width, height, forward) {\n",
       "        if (forward) {\n",
       "            canvas_div.style.width = width + 'px';\n",
       "            canvas_div.style.height = height + 'px';\n",
       "        }\n",
       "    };\n",
       "\n",
       "    // Disable right mouse context menu.\n",
       "    this.rubberband_canvas.addEventListener('contextmenu', function (_e) {\n",
       "        event.preventDefault();\n",
       "        return false;\n",
       "    });\n",
       "\n",
       "    function set_focus() {\n",
       "        canvas.focus();\n",
       "        canvas_div.focus();\n",
       "    }\n",
       "\n",
       "    window.setTimeout(set_focus, 100);\n",
       "};\n",
       "\n",
       "mpl.figure.prototype._init_toolbar = function () {\n",
       "    var fig = this;\n",
       "\n",
       "    var toolbar = document.createElement('div');\n",
       "    toolbar.classList = 'mpl-toolbar';\n",
       "    this.root.appendChild(toolbar);\n",
       "\n",
       "    function on_click_closure(name) {\n",
       "        return function (_event) {\n",
       "            return fig.toolbar_button_onclick(name);\n",
       "        };\n",
       "    }\n",
       "\n",
       "    function on_mouseover_closure(tooltip) {\n",
       "        return function (event) {\n",
       "            if (!event.currentTarget.disabled) {\n",
       "                return fig.toolbar_button_onmouseover(tooltip);\n",
       "            }\n",
       "        };\n",
       "    }\n",
       "\n",
       "    fig.buttons = {};\n",
       "    var buttonGroup = document.createElement('div');\n",
       "    buttonGroup.classList = 'mpl-button-group';\n",
       "    for (var toolbar_ind in mpl.toolbar_items) {\n",
       "        var name = mpl.toolbar_items[toolbar_ind][0];\n",
       "        var tooltip = mpl.toolbar_items[toolbar_ind][1];\n",
       "        var image = mpl.toolbar_items[toolbar_ind][2];\n",
       "        var method_name = mpl.toolbar_items[toolbar_ind][3];\n",
       "\n",
       "        if (!name) {\n",
       "            /* Instead of a spacer, we start a new button group. */\n",
       "            if (buttonGroup.hasChildNodes()) {\n",
       "                toolbar.appendChild(buttonGroup);\n",
       "            }\n",
       "            buttonGroup = document.createElement('div');\n",
       "            buttonGroup.classList = 'mpl-button-group';\n",
       "            continue;\n",
       "        }\n",
       "\n",
       "        var button = (fig.buttons[name] = document.createElement('button'));\n",
       "        button.classList = 'mpl-widget';\n",
       "        button.setAttribute('role', 'button');\n",
       "        button.setAttribute('aria-disabled', 'false');\n",
       "        button.addEventListener('click', on_click_closure(method_name));\n",
       "        button.addEventListener('mouseover', on_mouseover_closure(tooltip));\n",
       "\n",
       "        var icon_img = document.createElement('img');\n",
       "        icon_img.src = '_images/' + image + '.png';\n",
       "        icon_img.srcset = '_images/' + image + '_large.png 2x';\n",
       "        icon_img.alt = tooltip;\n",
       "        button.appendChild(icon_img);\n",
       "\n",
       "        buttonGroup.appendChild(button);\n",
       "    }\n",
       "\n",
       "    if (buttonGroup.hasChildNodes()) {\n",
       "        toolbar.appendChild(buttonGroup);\n",
       "    }\n",
       "\n",
       "    var fmt_picker = document.createElement('select');\n",
       "    fmt_picker.classList = 'mpl-widget';\n",
       "    toolbar.appendChild(fmt_picker);\n",
       "    this.format_dropdown = fmt_picker;\n",
       "\n",
       "    for (var ind in mpl.extensions) {\n",
       "        var fmt = mpl.extensions[ind];\n",
       "        var option = document.createElement('option');\n",
       "        option.selected = fmt === mpl.default_extension;\n",
       "        option.innerHTML = fmt;\n",
       "        fmt_picker.appendChild(option);\n",
       "    }\n",
       "\n",
       "    var status_bar = document.createElement('span');\n",
       "    status_bar.classList = 'mpl-message';\n",
       "    toolbar.appendChild(status_bar);\n",
       "    this.message = status_bar;\n",
       "};\n",
       "\n",
       "mpl.figure.prototype.request_resize = function (x_pixels, y_pixels) {\n",
       "    // Request matplotlib to resize the figure. Matplotlib will then trigger a resize in the client,\n",
       "    // which will in turn request a refresh of the image.\n",
       "    this.send_message('resize', { width: x_pixels, height: y_pixels });\n",
       "};\n",
       "\n",
       "mpl.figure.prototype.send_message = function (type, properties) {\n",
       "    properties['type'] = type;\n",
       "    properties['figure_id'] = this.id;\n",
       "    this.ws.send(JSON.stringify(properties));\n",
       "};\n",
       "\n",
       "mpl.figure.prototype.send_draw_message = function () {\n",
       "    if (!this.waiting) {\n",
       "        this.waiting = true;\n",
       "        this.ws.send(JSON.stringify({ type: 'draw', figure_id: this.id }));\n",
       "    }\n",
       "};\n",
       "\n",
       "mpl.figure.prototype.handle_save = function (fig, _msg) {\n",
       "    var format_dropdown = fig.format_dropdown;\n",
       "    var format = format_dropdown.options[format_dropdown.selectedIndex].value;\n",
       "    fig.ondownload(fig, format);\n",
       "};\n",
       "\n",
       "mpl.figure.prototype.handle_resize = function (fig, msg) {\n",
       "    var size = msg['size'];\n",
       "    if (size[0] !== fig.canvas.width || size[1] !== fig.canvas.height) {\n",
       "        fig._resize_canvas(size[0], size[1], msg['forward']);\n",
       "        fig.send_message('refresh', {});\n",
       "    }\n",
       "};\n",
       "\n",
       "mpl.figure.prototype.handle_rubberband = function (fig, msg) {\n",
       "    var x0 = msg['x0'] / fig.ratio;\n",
       "    var y0 = (fig.canvas.height - msg['y0']) / fig.ratio;\n",
       "    var x1 = msg['x1'] / fig.ratio;\n",
       "    var y1 = (fig.canvas.height - msg['y1']) / fig.ratio;\n",
       "    x0 = Math.floor(x0) + 0.5;\n",
       "    y0 = Math.floor(y0) + 0.5;\n",
       "    x1 = Math.floor(x1) + 0.5;\n",
       "    y1 = Math.floor(y1) + 0.5;\n",
       "    var min_x = Math.min(x0, x1);\n",
       "    var min_y = Math.min(y0, y1);\n",
       "    var width = Math.abs(x1 - x0);\n",
       "    var height = Math.abs(y1 - y0);\n",
       "\n",
       "    fig.rubberband_context.clearRect(\n",
       "        0,\n",
       "        0,\n",
       "        fig.canvas.width / fig.ratio,\n",
       "        fig.canvas.height / fig.ratio\n",
       "    );\n",
       "\n",
       "    fig.rubberband_context.strokeRect(min_x, min_y, width, height);\n",
       "};\n",
       "\n",
       "mpl.figure.prototype.handle_figure_label = function (fig, msg) {\n",
       "    // Updates the figure title.\n",
       "    fig.header.textContent = msg['label'];\n",
       "};\n",
       "\n",
       "mpl.figure.prototype.handle_cursor = function (fig, msg) {\n",
       "    fig.rubberband_canvas.style.cursor = msg['cursor'];\n",
       "};\n",
       "\n",
       "mpl.figure.prototype.handle_message = function (fig, msg) {\n",
       "    fig.message.textContent = msg['message'];\n",
       "};\n",
       "\n",
       "mpl.figure.prototype.handle_draw = function (fig, _msg) {\n",
       "    // Request the server to send over a new figure.\n",
       "    fig.send_draw_message();\n",
       "};\n",
       "\n",
       "mpl.figure.prototype.handle_image_mode = function (fig, msg) {\n",
       "    fig.image_mode = msg['mode'];\n",
       "};\n",
       "\n",
       "mpl.figure.prototype.handle_history_buttons = function (fig, msg) {\n",
       "    for (var key in msg) {\n",
       "        if (!(key in fig.buttons)) {\n",
       "            continue;\n",
       "        }\n",
       "        fig.buttons[key].disabled = !msg[key];\n",
       "        fig.buttons[key].setAttribute('aria-disabled', !msg[key]);\n",
       "    }\n",
       "};\n",
       "\n",
       "mpl.figure.prototype.handle_navigate_mode = function (fig, msg) {\n",
       "    if (msg['mode'] === 'PAN') {\n",
       "        fig.buttons['Pan'].classList.add('active');\n",
       "        fig.buttons['Zoom'].classList.remove('active');\n",
       "    } else if (msg['mode'] === 'ZOOM') {\n",
       "        fig.buttons['Pan'].classList.remove('active');\n",
       "        fig.buttons['Zoom'].classList.add('active');\n",
       "    } else {\n",
       "        fig.buttons['Pan'].classList.remove('active');\n",
       "        fig.buttons['Zoom'].classList.remove('active');\n",
       "    }\n",
       "};\n",
       "\n",
       "mpl.figure.prototype.updated_canvas_event = function () {\n",
       "    // Called whenever the canvas gets updated.\n",
       "    this.send_message('ack', {});\n",
       "};\n",
       "\n",
       "// A function to construct a web socket function for onmessage handling.\n",
       "// Called in the figure constructor.\n",
       "mpl.figure.prototype._make_on_message_function = function (fig) {\n",
       "    return function socket_on_message(evt) {\n",
       "        if (evt.data instanceof Blob) {\n",
       "            var img = evt.data;\n",
       "            if (img.type !== 'image/png') {\n",
       "                /* FIXME: We get \"Resource interpreted as Image but\n",
       "                 * transferred with MIME type text/plain:\" errors on\n",
       "                 * Chrome.  But how to set the MIME type?  It doesn't seem\n",
       "                 * to be part of the websocket stream */\n",
       "                img.type = 'image/png';\n",
       "            }\n",
       "\n",
       "            /* Free the memory for the previous frames */\n",
       "            if (fig.imageObj.src) {\n",
       "                (window.URL || window.webkitURL).revokeObjectURL(\n",
       "                    fig.imageObj.src\n",
       "                );\n",
       "            }\n",
       "\n",
       "            fig.imageObj.src = (window.URL || window.webkitURL).createObjectURL(\n",
       "                img\n",
       "            );\n",
       "            fig.updated_canvas_event();\n",
       "            fig.waiting = false;\n",
       "            return;\n",
       "        } else if (\n",
       "            typeof evt.data === 'string' &&\n",
       "            evt.data.slice(0, 21) === 'data:image/png;base64'\n",
       "        ) {\n",
       "            fig.imageObj.src = evt.data;\n",
       "            fig.updated_canvas_event();\n",
       "            fig.waiting = false;\n",
       "            return;\n",
       "        }\n",
       "\n",
       "        var msg = JSON.parse(evt.data);\n",
       "        var msg_type = msg['type'];\n",
       "\n",
       "        // Call the  \"handle_{type}\" callback, which takes\n",
       "        // the figure and JSON message as its only arguments.\n",
       "        try {\n",
       "            var callback = fig['handle_' + msg_type];\n",
       "        } catch (e) {\n",
       "            console.log(\n",
       "                \"No handler for the '\" + msg_type + \"' message type: \",\n",
       "                msg\n",
       "            );\n",
       "            return;\n",
       "        }\n",
       "\n",
       "        if (callback) {\n",
       "            try {\n",
       "                // console.log(\"Handling '\" + msg_type + \"' message: \", msg);\n",
       "                callback(fig, msg);\n",
       "            } catch (e) {\n",
       "                console.log(\n",
       "                    \"Exception inside the 'handler_\" + msg_type + \"' callback:\",\n",
       "                    e,\n",
       "                    e.stack,\n",
       "                    msg\n",
       "                );\n",
       "            }\n",
       "        }\n",
       "    };\n",
       "};\n",
       "\n",
       "// from https://stackoverflow.com/questions/1114465/getting-mouse-location-in-canvas\n",
       "mpl.findpos = function (e) {\n",
       "    //this section is from http://www.quirksmode.org/js/events_properties.html\n",
       "    var targ;\n",
       "    if (!e) {\n",
       "        e = window.event;\n",
       "    }\n",
       "    if (e.target) {\n",
       "        targ = e.target;\n",
       "    } else if (e.srcElement) {\n",
       "        targ = e.srcElement;\n",
       "    }\n",
       "    if (targ.nodeType === 3) {\n",
       "        // defeat Safari bug\n",
       "        targ = targ.parentNode;\n",
       "    }\n",
       "\n",
       "    // pageX,Y are the mouse positions relative to the document\n",
       "    var boundingRect = targ.getBoundingClientRect();\n",
       "    var x = e.pageX - (boundingRect.left + document.body.scrollLeft);\n",
       "    var y = e.pageY - (boundingRect.top + document.body.scrollTop);\n",
       "\n",
       "    return { x: x, y: y };\n",
       "};\n",
       "\n",
       "/*\n",
       " * return a copy of an object with only non-object keys\n",
       " * we need this to avoid circular references\n",
       " * https://stackoverflow.com/a/24161582/3208463\n",
       " */\n",
       "function simpleKeys(original) {\n",
       "    return Object.keys(original).reduce(function (obj, key) {\n",
       "        if (typeof original[key] !== 'object') {\n",
       "            obj[key] = original[key];\n",
       "        }\n",
       "        return obj;\n",
       "    }, {});\n",
       "}\n",
       "\n",
       "mpl.figure.prototype.mouse_event = function (event, name) {\n",
       "    var canvas_pos = mpl.findpos(event);\n",
       "\n",
       "    if (name === 'button_press') {\n",
       "        this.canvas.focus();\n",
       "        this.canvas_div.focus();\n",
       "    }\n",
       "\n",
       "    var x = canvas_pos.x * this.ratio;\n",
       "    var y = canvas_pos.y * this.ratio;\n",
       "\n",
       "    this.send_message(name, {\n",
       "        x: x,\n",
       "        y: y,\n",
       "        button: event.button,\n",
       "        step: event.step,\n",
       "        guiEvent: simpleKeys(event),\n",
       "    });\n",
       "\n",
       "    /* This prevents the web browser from automatically changing to\n",
       "     * the text insertion cursor when the button is pressed.  We want\n",
       "     * to control all of the cursor setting manually through the\n",
       "     * 'cursor' event from matplotlib */\n",
       "    event.preventDefault();\n",
       "    return false;\n",
       "};\n",
       "\n",
       "mpl.figure.prototype._key_event_extra = function (_event, _name) {\n",
       "    // Handle any extra behaviour associated with a key event\n",
       "};\n",
       "\n",
       "mpl.figure.prototype.key_event = function (event, name) {\n",
       "    // Prevent repeat events\n",
       "    if (name === 'key_press') {\n",
       "        if (event.key === this._key) {\n",
       "            return;\n",
       "        } else {\n",
       "            this._key = event.key;\n",
       "        }\n",
       "    }\n",
       "    if (name === 'key_release') {\n",
       "        this._key = null;\n",
       "    }\n",
       "\n",
       "    var value = '';\n",
       "    if (event.ctrlKey && event.key !== 'Control') {\n",
       "        value += 'ctrl+';\n",
       "    }\n",
       "    else if (event.altKey && event.key !== 'Alt') {\n",
       "        value += 'alt+';\n",
       "    }\n",
       "    else if (event.shiftKey && event.key !== 'Shift') {\n",
       "        value += 'shift+';\n",
       "    }\n",
       "\n",
       "    value += 'k' + event.key;\n",
       "\n",
       "    this._key_event_extra(event, name);\n",
       "\n",
       "    this.send_message(name, { key: value, guiEvent: simpleKeys(event) });\n",
       "    return false;\n",
       "};\n",
       "\n",
       "mpl.figure.prototype.toolbar_button_onclick = function (name) {\n",
       "    if (name === 'download') {\n",
       "        this.handle_save(this, null);\n",
       "    } else {\n",
       "        this.send_message('toolbar_button', { name: name });\n",
       "    }\n",
       "};\n",
       "\n",
       "mpl.figure.prototype.toolbar_button_onmouseover = function (tooltip) {\n",
       "    this.message.textContent = tooltip;\n",
       "};\n",
       "\n",
       "///////////////// REMAINING CONTENT GENERATED BY embed_js.py /////////////////\n",
       "// prettier-ignore\n",
       "var _JSXTOOLS_RESIZE_OBSERVER=function(A){var t,i=new WeakMap,n=new WeakMap,a=new WeakMap,r=new WeakMap,o=new Set;function s(e){if(!(this instanceof s))throw new TypeError(\"Constructor requires 'new' operator\");i.set(this,e)}function h(){throw new TypeError(\"Function is not a constructor\")}function c(e,t,i,n){e=0 in arguments?Number(arguments[0]):0,t=1 in arguments?Number(arguments[1]):0,i=2 in arguments?Number(arguments[2]):0,n=3 in arguments?Number(arguments[3]):0,this.right=(this.x=this.left=e)+(this.width=i),this.bottom=(this.y=this.top=t)+(this.height=n),Object.freeze(this)}function d(){t=requestAnimationFrame(d);var s=new WeakMap,p=new Set;o.forEach((function(t){r.get(t).forEach((function(i){var r=t instanceof window.SVGElement,o=a.get(t),d=r?0:parseFloat(o.paddingTop),f=r?0:parseFloat(o.paddingRight),l=r?0:parseFloat(o.paddingBottom),u=r?0:parseFloat(o.paddingLeft),g=r?0:parseFloat(o.borderTopWidth),m=r?0:parseFloat(o.borderRightWidth),w=r?0:parseFloat(o.borderBottomWidth),b=u+f,F=d+l,v=(r?0:parseFloat(o.borderLeftWidth))+m,W=g+w,y=r?0:t.offsetHeight-W-t.clientHeight,E=r?0:t.offsetWidth-v-t.clientWidth,R=b+v,z=F+W,M=r?t.width:parseFloat(o.width)-R-E,O=r?t.height:parseFloat(o.height)-z-y;if(n.has(t)){var k=n.get(t);if(k[0]===M&&k[1]===O)return}n.set(t,[M,O]);var S=Object.create(h.prototype);S.target=t,S.contentRect=new c(u,d,M,O),s.has(i)||(s.set(i,[]),p.add(i)),s.get(i).push(S)}))})),p.forEach((function(e){i.get(e).call(e,s.get(e),e)}))}return s.prototype.observe=function(i){if(i instanceof window.Element){r.has(i)||(r.set(i,new Set),o.add(i),a.set(i,window.getComputedStyle(i)));var n=r.get(i);n.has(this)||n.add(this),cancelAnimationFrame(t),t=requestAnimationFrame(d)}},s.prototype.unobserve=function(i){if(i instanceof window.Element&&r.has(i)){var n=r.get(i);n.has(this)&&(n.delete(this),n.size||(r.delete(i),o.delete(i))),n.size||r.delete(i),o.size||cancelAnimationFrame(t)}},A.DOMRectReadOnly=c,A.ResizeObserver=s,A.ResizeObserverEntry=h,A}; // eslint-disable-line\n",
       "mpl.toolbar_items = [[\"Home\", \"Reset original view\", \"fa fa-home icon-home\", \"home\"], [\"Back\", \"Back to previous view\", \"fa fa-arrow-left icon-arrow-left\", \"back\"], [\"Forward\", \"Forward to next view\", \"fa fa-arrow-right icon-arrow-right\", \"forward\"], [\"\", \"\", \"\", \"\"], [\"Pan\", \"Left button pans, Right button zooms\\nx/y fixes axis, CTRL fixes aspect\", \"fa fa-arrows icon-move\", \"pan\"], [\"Zoom\", \"Zoom to rectangle\\nx/y fixes axis\", \"fa fa-square-o icon-check-empty\", \"zoom\"], [\"\", \"\", \"\", \"\"], [\"Download\", \"Download plot\", \"fa fa-floppy-o icon-save\", \"download\"]];\n",
       "\n",
       "mpl.extensions = [\"eps\", \"jpeg\", \"pgf\", \"pdf\", \"png\", \"ps\", \"raw\", \"svg\", \"tif\"];\n",
       "\n",
       "mpl.default_extension = \"png\";/* global mpl */\n",
       "\n",
       "var comm_websocket_adapter = function (comm) {\n",
       "    // Create a \"websocket\"-like object which calls the given IPython comm\n",
       "    // object with the appropriate methods. Currently this is a non binary\n",
       "    // socket, so there is still some room for performance tuning.\n",
       "    var ws = {};\n",
       "\n",
       "    ws.binaryType = comm.kernel.ws.binaryType;\n",
       "    ws.readyState = comm.kernel.ws.readyState;\n",
       "    function updateReadyState(_event) {\n",
       "        if (comm.kernel.ws) {\n",
       "            ws.readyState = comm.kernel.ws.readyState;\n",
       "        } else {\n",
       "            ws.readyState = 3; // Closed state.\n",
       "        }\n",
       "    }\n",
       "    comm.kernel.ws.addEventListener('open', updateReadyState);\n",
       "    comm.kernel.ws.addEventListener('close', updateReadyState);\n",
       "    comm.kernel.ws.addEventListener('error', updateReadyState);\n",
       "\n",
       "    ws.close = function () {\n",
       "        comm.close();\n",
       "    };\n",
       "    ws.send = function (m) {\n",
       "        //console.log('sending', m);\n",
       "        comm.send(m);\n",
       "    };\n",
       "    // Register the callback with on_msg.\n",
       "    comm.on_msg(function (msg) {\n",
       "        //console.log('receiving', msg['content']['data'], msg);\n",
       "        var data = msg['content']['data'];\n",
       "        if (data['blob'] !== undefined) {\n",
       "            data = {\n",
       "                data: new Blob(msg['buffers'], { type: data['blob'] }),\n",
       "            };\n",
       "        }\n",
       "        // Pass the mpl event to the overridden (by mpl) onmessage function.\n",
       "        ws.onmessage(data);\n",
       "    });\n",
       "    return ws;\n",
       "};\n",
       "\n",
       "mpl.mpl_figure_comm = function (comm, msg) {\n",
       "    // This is the function which gets called when the mpl process\n",
       "    // starts-up an IPython Comm through the \"matplotlib\" channel.\n",
       "\n",
       "    var id = msg.content.data.id;\n",
       "    // Get hold of the div created by the display call when the Comm\n",
       "    // socket was opened in Python.\n",
       "    var element = document.getElementById(id);\n",
       "    var ws_proxy = comm_websocket_adapter(comm);\n",
       "\n",
       "    function ondownload(figure, _format) {\n",
       "        window.open(figure.canvas.toDataURL());\n",
       "    }\n",
       "\n",
       "    var fig = new mpl.figure(id, ws_proxy, ondownload, element);\n",
       "\n",
       "    // Call onopen now - mpl needs it, as it is assuming we've passed it a real\n",
       "    // web socket which is closed, not our websocket->open comm proxy.\n",
       "    ws_proxy.onopen();\n",
       "\n",
       "    fig.parent_element = element;\n",
       "    fig.cell_info = mpl.find_output_cell(\"<div id='\" + id + \"'></div>\");\n",
       "    if (!fig.cell_info) {\n",
       "        console.error('Failed to find cell for figure', id, fig);\n",
       "        return;\n",
       "    }\n",
       "    fig.cell_info[0].output_area.element.on(\n",
       "        'cleared',\n",
       "        { fig: fig },\n",
       "        fig._remove_fig_handler\n",
       "    );\n",
       "};\n",
       "\n",
       "mpl.figure.prototype.handle_close = function (fig, msg) {\n",
       "    var width = fig.canvas.width / fig.ratio;\n",
       "    fig.cell_info[0].output_area.element.off(\n",
       "        'cleared',\n",
       "        fig._remove_fig_handler\n",
       "    );\n",
       "    fig.resizeObserverInstance.unobserve(fig.canvas_div);\n",
       "\n",
       "    // Update the output cell to use the data from the current canvas.\n",
       "    fig.push_to_output();\n",
       "    var dataURL = fig.canvas.toDataURL();\n",
       "    // Re-enable the keyboard manager in IPython - without this line, in FF,\n",
       "    // the notebook keyboard shortcuts fail.\n",
       "    IPython.keyboard_manager.enable();\n",
       "    fig.parent_element.innerHTML =\n",
       "        '<img src=\"' + dataURL + '\" width=\"' + width + '\">';\n",
       "    fig.close_ws(fig, msg);\n",
       "};\n",
       "\n",
       "mpl.figure.prototype.close_ws = function (fig, msg) {\n",
       "    fig.send_message('closing', msg);\n",
       "    // fig.ws.close()\n",
       "};\n",
       "\n",
       "mpl.figure.prototype.push_to_output = function (_remove_interactive) {\n",
       "    // Turn the data on the canvas into data in the output cell.\n",
       "    var width = this.canvas.width / this.ratio;\n",
       "    var dataURL = this.canvas.toDataURL();\n",
       "    this.cell_info[1]['text/html'] =\n",
       "        '<img src=\"' + dataURL + '\" width=\"' + width + '\">';\n",
       "};\n",
       "\n",
       "mpl.figure.prototype.updated_canvas_event = function () {\n",
       "    // Tell IPython that the notebook contents must change.\n",
       "    IPython.notebook.set_dirty(true);\n",
       "    this.send_message('ack', {});\n",
       "    var fig = this;\n",
       "    // Wait a second, then push the new image to the DOM so\n",
       "    // that it is saved nicely (might be nice to debounce this).\n",
       "    setTimeout(function () {\n",
       "        fig.push_to_output();\n",
       "    }, 1000);\n",
       "};\n",
       "\n",
       "mpl.figure.prototype._init_toolbar = function () {\n",
       "    var fig = this;\n",
       "\n",
       "    var toolbar = document.createElement('div');\n",
       "    toolbar.classList = 'btn-toolbar';\n",
       "    this.root.appendChild(toolbar);\n",
       "\n",
       "    function on_click_closure(name) {\n",
       "        return function (_event) {\n",
       "            return fig.toolbar_button_onclick(name);\n",
       "        };\n",
       "    }\n",
       "\n",
       "    function on_mouseover_closure(tooltip) {\n",
       "        return function (event) {\n",
       "            if (!event.currentTarget.disabled) {\n",
       "                return fig.toolbar_button_onmouseover(tooltip);\n",
       "            }\n",
       "        };\n",
       "    }\n",
       "\n",
       "    fig.buttons = {};\n",
       "    var buttonGroup = document.createElement('div');\n",
       "    buttonGroup.classList = 'btn-group';\n",
       "    var button;\n",
       "    for (var toolbar_ind in mpl.toolbar_items) {\n",
       "        var name = mpl.toolbar_items[toolbar_ind][0];\n",
       "        var tooltip = mpl.toolbar_items[toolbar_ind][1];\n",
       "        var image = mpl.toolbar_items[toolbar_ind][2];\n",
       "        var method_name = mpl.toolbar_items[toolbar_ind][3];\n",
       "\n",
       "        if (!name) {\n",
       "            /* Instead of a spacer, we start a new button group. */\n",
       "            if (buttonGroup.hasChildNodes()) {\n",
       "                toolbar.appendChild(buttonGroup);\n",
       "            }\n",
       "            buttonGroup = document.createElement('div');\n",
       "            buttonGroup.classList = 'btn-group';\n",
       "            continue;\n",
       "        }\n",
       "\n",
       "        button = fig.buttons[name] = document.createElement('button');\n",
       "        button.classList = 'btn btn-default';\n",
       "        button.href = '#';\n",
       "        button.title = name;\n",
       "        button.innerHTML = '<i class=\"fa ' + image + ' fa-lg\"></i>';\n",
       "        button.addEventListener('click', on_click_closure(method_name));\n",
       "        button.addEventListener('mouseover', on_mouseover_closure(tooltip));\n",
       "        buttonGroup.appendChild(button);\n",
       "    }\n",
       "\n",
       "    if (buttonGroup.hasChildNodes()) {\n",
       "        toolbar.appendChild(buttonGroup);\n",
       "    }\n",
       "\n",
       "    // Add the status bar.\n",
       "    var status_bar = document.createElement('span');\n",
       "    status_bar.classList = 'mpl-message pull-right';\n",
       "    toolbar.appendChild(status_bar);\n",
       "    this.message = status_bar;\n",
       "\n",
       "    // Add the close button to the window.\n",
       "    var buttongrp = document.createElement('div');\n",
       "    buttongrp.classList = 'btn-group inline pull-right';\n",
       "    button = document.createElement('button');\n",
       "    button.classList = 'btn btn-mini btn-primary';\n",
       "    button.href = '#';\n",
       "    button.title = 'Stop Interaction';\n",
       "    button.innerHTML = '<i class=\"fa fa-power-off icon-remove icon-large\"></i>';\n",
       "    button.addEventListener('click', function (_evt) {\n",
       "        fig.handle_close(fig, {});\n",
       "    });\n",
       "    button.addEventListener(\n",
       "        'mouseover',\n",
       "        on_mouseover_closure('Stop Interaction')\n",
       "    );\n",
       "    buttongrp.appendChild(button);\n",
       "    var titlebar = this.root.querySelector('.ui-dialog-titlebar');\n",
       "    titlebar.insertBefore(buttongrp, titlebar.firstChild);\n",
       "};\n",
       "\n",
       "mpl.figure.prototype._remove_fig_handler = function (event) {\n",
       "    var fig = event.data.fig;\n",
       "    if (event.target !== this) {\n",
       "        // Ignore bubbled events from children.\n",
       "        return;\n",
       "    }\n",
       "    fig.close_ws(fig, {});\n",
       "};\n",
       "\n",
       "mpl.figure.prototype._root_extra_style = function (el) {\n",
       "    el.style.boxSizing = 'content-box'; // override notebook setting of border-box.\n",
       "};\n",
       "\n",
       "mpl.figure.prototype._canvas_extra_style = function (el) {\n",
       "    // this is important to make the div 'focusable\n",
       "    el.setAttribute('tabindex', 0);\n",
       "    // reach out to IPython and tell the keyboard manager to turn it's self\n",
       "    // off when our div gets focus\n",
       "\n",
       "    // location in version 3\n",
       "    if (IPython.notebook.keyboard_manager) {\n",
       "        IPython.notebook.keyboard_manager.register_events(el);\n",
       "    } else {\n",
       "        // location in version 2\n",
       "        IPython.keyboard_manager.register_events(el);\n",
       "    }\n",
       "};\n",
       "\n",
       "mpl.figure.prototype._key_event_extra = function (event, _name) {\n",
       "    // Check for shift+enter\n",
       "    if (event.shiftKey && event.which === 13) {\n",
       "        this.canvas_div.blur();\n",
       "        // select the cell after this one\n",
       "        var index = IPython.notebook.find_cell_index(this.cell_info[0]);\n",
       "        IPython.notebook.select(index + 1);\n",
       "    }\n",
       "};\n",
       "\n",
       "mpl.figure.prototype.handle_save = function (fig, _msg) {\n",
       "    fig.ondownload(fig, null);\n",
       "};\n",
       "\n",
       "mpl.find_output_cell = function (html_output) {\n",
       "    // Return the cell and output element which can be found *uniquely* in the notebook.\n",
       "    // Note - this is a bit hacky, but it is done because the \"notebook_saving.Notebook\"\n",
       "    // IPython event is triggered only after the cells have been serialised, which for\n",
       "    // our purposes (turning an active figure into a static one), is too late.\n",
       "    var cells = IPython.notebook.get_cells();\n",
       "    var ncells = cells.length;\n",
       "    for (var i = 0; i < ncells; i++) {\n",
       "        var cell = cells[i];\n",
       "        if (cell.cell_type === 'code') {\n",
       "            for (var j = 0; j < cell.output_area.outputs.length; j++) {\n",
       "                var data = cell.output_area.outputs[j];\n",
       "                if (data.data) {\n",
       "                    // IPython >= 3 moved mimebundle to data attribute of output\n",
       "                    data = data.data;\n",
       "                }\n",
       "                if (data['text/html'] === html_output) {\n",
       "                    return [cell, data, j];\n",
       "                }\n",
       "            }\n",
       "        }\n",
       "    }\n",
       "};\n",
       "\n",
       "// Register the function which deals with the matplotlib target/channel.\n",
       "// The kernel may be null if the page has been refreshed.\n",
       "if (IPython.notebook.kernel !== null) {\n",
       "    IPython.notebook.kernel.comm_manager.register_target(\n",
       "        'matplotlib',\n",
       "        mpl.mpl_figure_comm\n",
       "    );\n",
       "}\n"
      ],
      "text/plain": [
       "<IPython.core.display.Javascript object>"
      ]
     },
     "metadata": {},
     "output_type": "display_data"
    },
    {
     "data": {
      "text/html": [
       "<img src=\"data:image/png;base64,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\" width=\"1199.9999821186068\">"
      ],
      "text/plain": [
       "<IPython.core.display.HTML object>"
      ]
     },
     "metadata": {},
     "output_type": "display_data"
    }
   ],
   "source": [
    "fig = plt.figure(figsize=(12,6))\n",
    "ax = fig.add_subplot(121, projection='3d')\n",
    "\n",
    "x = np.arange(-4, 4, .5)\n",
    "y = np.arange(-4, 4, .5)\n",
    "X,Y = np.meshgrid(x,y)\n",
    "\n",
    "\n",
    "def sQuadratic(v, S=S):\n",
    "    return (S @ v) @ v\n",
    "\n",
    "Z = np.apply_along_axis(sQuadratic, 0, np.array([X, Y]))\n",
    "\n",
    "ax.plot_wireframe(X, Y, Z, alpha=0.4)\n",
    "plt.show()\n"
   ]
  },
  {
   "cell_type": "markdown",
   "id": "532be9cc",
   "metadata": {
    "slideshow": {
     "slide_type": "slide"
    }
   },
   "source": [
    "### Positive definite matrices\n",
    "\n",
    "The quadratic form of $S$ has a saddle point at $\\mathbf 0$.\n",
    "\n",
    "Symmetric matrices with a quadratic form which is everywhere $\\neq \\mathbf 0$ positive are called **positive definit**.\n",
    "\n",
    "#### Definition\n",
    "A matrix $S$ is **positive definite** if and only if for all vectors $\\mathbf x \\neq \\mathbf 0$:\n",
    "$$\n",
    "    \\mathbf x' S \\mathbf x > 0\n",
    "$$\n",
    "\n",
    "\n",
    "#### Example"
   ]
  },
  {
   "cell_type": "code",
   "execution_count": 48,
   "id": "b979f466",
   "metadata": {},
   "outputs": [
    {
     "data": {
      "text/latex": [
       "$\\displaystyle \\left[\\begin{matrix}2 & -1\\\\-1 & 2\\end{matrix}\\right]$"
      ],
      "text/plain": [
       "Matrix([\n",
       "[ 2, -1],\n",
       "[-1,  2]])"
      ]
     },
     "execution_count": 48,
     "metadata": {},
     "output_type": "execute_result"
    }
   ],
   "source": [
    "S1 = Matrix([\n",
    "    [2,-1],\n",
    "    [-1,2]\n",
    "])\n",
    "S1"
   ]
  },
  {
   "cell_type": "code",
   "execution_count": 49,
   "id": "0da1bb56",
   "metadata": {
    "hide_input": true,
    "slideshow": {
     "slide_type": "slide"
    }
   },
   "outputs": [
    {
     "data": {
      "application/javascript": [
       "/* Put everything inside the global mpl namespace */\n",
       "/* global mpl */\n",
       "window.mpl = {};\n",
       "\n",
       "mpl.get_websocket_type = function () {\n",
       "    if (typeof WebSocket !== 'undefined') {\n",
       "        return WebSocket;\n",
       "    } else if (typeof MozWebSocket !== 'undefined') {\n",
       "        return MozWebSocket;\n",
       "    } else {\n",
       "        alert(\n",
       "            'Your browser does not have WebSocket support. ' +\n",
       "                'Please try Chrome, Safari or Firefox ≥ 6. ' +\n",
       "                'Firefox 4 and 5 are also supported but you ' +\n",
       "                'have to enable WebSockets in about:config.'\n",
       "        );\n",
       "    }\n",
       "};\n",
       "\n",
       "mpl.figure = function (figure_id, websocket, ondownload, parent_element) {\n",
       "    this.id = figure_id;\n",
       "\n",
       "    this.ws = websocket;\n",
       "\n",
       "    this.supports_binary = this.ws.binaryType !== undefined;\n",
       "\n",
       "    if (!this.supports_binary) {\n",
       "        var warnings = document.getElementById('mpl-warnings');\n",
       "        if (warnings) {\n",
       "            warnings.style.display = 'block';\n",
       "            warnings.textContent =\n",
       "                'This browser does not support binary websocket messages. ' +\n",
       "                'Performance may be slow.';\n",
       "        }\n",
       "    }\n",
       "\n",
       "    this.imageObj = new Image();\n",
       "\n",
       "    this.context = undefined;\n",
       "    this.message = undefined;\n",
       "    this.canvas = undefined;\n",
       "    this.rubberband_canvas = undefined;\n",
       "    this.rubberband_context = undefined;\n",
       "    this.format_dropdown = undefined;\n",
       "\n",
       "    this.image_mode = 'full';\n",
       "\n",
       "    this.root = document.createElement('div');\n",
       "    this.root.setAttribute('style', 'display: inline-block');\n",
       "    this._root_extra_style(this.root);\n",
       "\n",
       "    parent_element.appendChild(this.root);\n",
       "\n",
       "    this._init_header(this);\n",
       "    this._init_canvas(this);\n",
       "    this._init_toolbar(this);\n",
       "\n",
       "    var fig = this;\n",
       "\n",
       "    this.waiting = false;\n",
       "\n",
       "    this.ws.onopen = function () {\n",
       "        fig.send_message('supports_binary', { value: fig.supports_binary });\n",
       "        fig.send_message('send_image_mode', {});\n",
       "        if (fig.ratio !== 1) {\n",
       "            fig.send_message('set_device_pixel_ratio', {\n",
       "                device_pixel_ratio: fig.ratio,\n",
       "            });\n",
       "        }\n",
       "        fig.send_message('refresh', {});\n",
       "    };\n",
       "\n",
       "    this.imageObj.onload = function () {\n",
       "        if (fig.image_mode === 'full') {\n",
       "            // Full images could contain transparency (where diff images\n",
       "            // almost always do), so we need to clear the canvas so that\n",
       "            // there is no ghosting.\n",
       "            fig.context.clearRect(0, 0, fig.canvas.width, fig.canvas.height);\n",
       "        }\n",
       "        fig.context.drawImage(fig.imageObj, 0, 0);\n",
       "    };\n",
       "\n",
       "    this.imageObj.onunload = function () {\n",
       "        fig.ws.close();\n",
       "    };\n",
       "\n",
       "    this.ws.onmessage = this._make_on_message_function(this);\n",
       "\n",
       "    this.ondownload = ondownload;\n",
       "};\n",
       "\n",
       "mpl.figure.prototype._init_header = function () {\n",
       "    var titlebar = document.createElement('div');\n",
       "    titlebar.classList =\n",
       "        'ui-dialog-titlebar ui-widget-header ui-corner-all ui-helper-clearfix';\n",
       "    var titletext = document.createElement('div');\n",
       "    titletext.classList = 'ui-dialog-title';\n",
       "    titletext.setAttribute(\n",
       "        'style',\n",
       "        'width: 100%; text-align: center; padding: 3px;'\n",
       "    );\n",
       "    titlebar.appendChild(titletext);\n",
       "    this.root.appendChild(titlebar);\n",
       "    this.header = titletext;\n",
       "};\n",
       "\n",
       "mpl.figure.prototype._canvas_extra_style = function (_canvas_div) {};\n",
       "\n",
       "mpl.figure.prototype._root_extra_style = function (_canvas_div) {};\n",
       "\n",
       "mpl.figure.prototype._init_canvas = function () {\n",
       "    var fig = this;\n",
       "\n",
       "    var canvas_div = (this.canvas_div = document.createElement('div'));\n",
       "    canvas_div.setAttribute(\n",
       "        'style',\n",
       "        'border: 1px solid #ddd;' +\n",
       "            'box-sizing: content-box;' +\n",
       "            'clear: both;' +\n",
       "            'min-height: 1px;' +\n",
       "            'min-width: 1px;' +\n",
       "            'outline: 0;' +\n",
       "            'overflow: hidden;' +\n",
       "            'position: relative;' +\n",
       "            'resize: both;'\n",
       "    );\n",
       "\n",
       "    function on_keyboard_event_closure(name) {\n",
       "        return function (event) {\n",
       "            return fig.key_event(event, name);\n",
       "        };\n",
       "    }\n",
       "\n",
       "    canvas_div.addEventListener(\n",
       "        'keydown',\n",
       "        on_keyboard_event_closure('key_press')\n",
       "    );\n",
       "    canvas_div.addEventListener(\n",
       "        'keyup',\n",
       "        on_keyboard_event_closure('key_release')\n",
       "    );\n",
       "\n",
       "    this._canvas_extra_style(canvas_div);\n",
       "    this.root.appendChild(canvas_div);\n",
       "\n",
       "    var canvas = (this.canvas = document.createElement('canvas'));\n",
       "    canvas.classList.add('mpl-canvas');\n",
       "    canvas.setAttribute('style', 'box-sizing: content-box;');\n",
       "\n",
       "    this.context = canvas.getContext('2d');\n",
       "\n",
       "    var backingStore =\n",
       "        this.context.backingStorePixelRatio ||\n",
       "        this.context.webkitBackingStorePixelRatio ||\n",
       "        this.context.mozBackingStorePixelRatio ||\n",
       "        this.context.msBackingStorePixelRatio ||\n",
       "        this.context.oBackingStorePixelRatio ||\n",
       "        this.context.backingStorePixelRatio ||\n",
       "        1;\n",
       "\n",
       "    this.ratio = (window.devicePixelRatio || 1) / backingStore;\n",
       "\n",
       "    var rubberband_canvas = (this.rubberband_canvas = document.createElement(\n",
       "        'canvas'\n",
       "    ));\n",
       "    rubberband_canvas.setAttribute(\n",
       "        'style',\n",
       "        'box-sizing: content-box; position: absolute; left: 0; top: 0; z-index: 1;'\n",
       "    );\n",
       "\n",
       "    // Apply a ponyfill if ResizeObserver is not implemented by browser.\n",
       "    if (this.ResizeObserver === undefined) {\n",
       "        if (window.ResizeObserver !== undefined) {\n",
       "            this.ResizeObserver = window.ResizeObserver;\n",
       "        } else {\n",
       "            var obs = _JSXTOOLS_RESIZE_OBSERVER({});\n",
       "            this.ResizeObserver = obs.ResizeObserver;\n",
       "        }\n",
       "    }\n",
       "\n",
       "    this.resizeObserverInstance = new this.ResizeObserver(function (entries) {\n",
       "        var nentries = entries.length;\n",
       "        for (var i = 0; i < nentries; i++) {\n",
       "            var entry = entries[i];\n",
       "            var width, height;\n",
       "            if (entry.contentBoxSize) {\n",
       "                if (entry.contentBoxSize instanceof Array) {\n",
       "                    // Chrome 84 implements new version of spec.\n",
       "                    width = entry.contentBoxSize[0].inlineSize;\n",
       "                    height = entry.contentBoxSize[0].blockSize;\n",
       "                } else {\n",
       "                    // Firefox implements old version of spec.\n",
       "                    width = entry.contentBoxSize.inlineSize;\n",
       "                    height = entry.contentBoxSize.blockSize;\n",
       "                }\n",
       "            } else {\n",
       "                // Chrome <84 implements even older version of spec.\n",
       "                width = entry.contentRect.width;\n",
       "                height = entry.contentRect.height;\n",
       "            }\n",
       "\n",
       "            // Keep the size of the canvas and rubber band canvas in sync with\n",
       "            // the canvas container.\n",
       "            if (entry.devicePixelContentBoxSize) {\n",
       "                // Chrome 84 implements new version of spec.\n",
       "                canvas.setAttribute(\n",
       "                    'width',\n",
       "                    entry.devicePixelContentBoxSize[0].inlineSize\n",
       "                );\n",
       "                canvas.setAttribute(\n",
       "                    'height',\n",
       "                    entry.devicePixelContentBoxSize[0].blockSize\n",
       "                );\n",
       "            } else {\n",
       "                canvas.setAttribute('width', width * fig.ratio);\n",
       "                canvas.setAttribute('height', height * fig.ratio);\n",
       "            }\n",
       "            canvas.setAttribute(\n",
       "                'style',\n",
       "                'width: ' + width + 'px; height: ' + height + 'px;'\n",
       "            );\n",
       "\n",
       "            rubberband_canvas.setAttribute('width', width);\n",
       "            rubberband_canvas.setAttribute('height', height);\n",
       "\n",
       "            // And update the size in Python. We ignore the initial 0/0 size\n",
       "            // that occurs as the element is placed into the DOM, which should\n",
       "            // otherwise not happen due to the minimum size styling.\n",
       "            if (fig.ws.readyState == 1 && width != 0 && height != 0) {\n",
       "                fig.request_resize(width, height);\n",
       "            }\n",
       "        }\n",
       "    });\n",
       "    this.resizeObserverInstance.observe(canvas_div);\n",
       "\n",
       "    function on_mouse_event_closure(name) {\n",
       "        return function (event) {\n",
       "            return fig.mouse_event(event, name);\n",
       "        };\n",
       "    }\n",
       "\n",
       "    rubberband_canvas.addEventListener(\n",
       "        'mousedown',\n",
       "        on_mouse_event_closure('button_press')\n",
       "    );\n",
       "    rubberband_canvas.addEventListener(\n",
       "        'mouseup',\n",
       "        on_mouse_event_closure('button_release')\n",
       "    );\n",
       "    rubberband_canvas.addEventListener(\n",
       "        'dblclick',\n",
       "        on_mouse_event_closure('dblclick')\n",
       "    );\n",
       "    // Throttle sequential mouse events to 1 every 20ms.\n",
       "    rubberband_canvas.addEventListener(\n",
       "        'mousemove',\n",
       "        on_mouse_event_closure('motion_notify')\n",
       "    );\n",
       "\n",
       "    rubberband_canvas.addEventListener(\n",
       "        'mouseenter',\n",
       "        on_mouse_event_closure('figure_enter')\n",
       "    );\n",
       "    rubberband_canvas.addEventListener(\n",
       "        'mouseleave',\n",
       "        on_mouse_event_closure('figure_leave')\n",
       "    );\n",
       "\n",
       "    canvas_div.addEventListener('wheel', function (event) {\n",
       "        if (event.deltaY < 0) {\n",
       "            event.step = 1;\n",
       "        } else {\n",
       "            event.step = -1;\n",
       "        }\n",
       "        on_mouse_event_closure('scroll')(event);\n",
       "    });\n",
       "\n",
       "    canvas_div.appendChild(canvas);\n",
       "    canvas_div.appendChild(rubberband_canvas);\n",
       "\n",
       "    this.rubberband_context = rubberband_canvas.getContext('2d');\n",
       "    this.rubberband_context.strokeStyle = '#000000';\n",
       "\n",
       "    this._resize_canvas = function (width, height, forward) {\n",
       "        if (forward) {\n",
       "            canvas_div.style.width = width + 'px';\n",
       "            canvas_div.style.height = height + 'px';\n",
       "        }\n",
       "    };\n",
       "\n",
       "    // Disable right mouse context menu.\n",
       "    this.rubberband_canvas.addEventListener('contextmenu', function (_e) {\n",
       "        event.preventDefault();\n",
       "        return false;\n",
       "    });\n",
       "\n",
       "    function set_focus() {\n",
       "        canvas.focus();\n",
       "        canvas_div.focus();\n",
       "    }\n",
       "\n",
       "    window.setTimeout(set_focus, 100);\n",
       "};\n",
       "\n",
       "mpl.figure.prototype._init_toolbar = function () {\n",
       "    var fig = this;\n",
       "\n",
       "    var toolbar = document.createElement('div');\n",
       "    toolbar.classList = 'mpl-toolbar';\n",
       "    this.root.appendChild(toolbar);\n",
       "\n",
       "    function on_click_closure(name) {\n",
       "        return function (_event) {\n",
       "            return fig.toolbar_button_onclick(name);\n",
       "        };\n",
       "    }\n",
       "\n",
       "    function on_mouseover_closure(tooltip) {\n",
       "        return function (event) {\n",
       "            if (!event.currentTarget.disabled) {\n",
       "                return fig.toolbar_button_onmouseover(tooltip);\n",
       "            }\n",
       "        };\n",
       "    }\n",
       "\n",
       "    fig.buttons = {};\n",
       "    var buttonGroup = document.createElement('div');\n",
       "    buttonGroup.classList = 'mpl-button-group';\n",
       "    for (var toolbar_ind in mpl.toolbar_items) {\n",
       "        var name = mpl.toolbar_items[toolbar_ind][0];\n",
       "        var tooltip = mpl.toolbar_items[toolbar_ind][1];\n",
       "        var image = mpl.toolbar_items[toolbar_ind][2];\n",
       "        var method_name = mpl.toolbar_items[toolbar_ind][3];\n",
       "\n",
       "        if (!name) {\n",
       "            /* Instead of a spacer, we start a new button group. */\n",
       "            if (buttonGroup.hasChildNodes()) {\n",
       "                toolbar.appendChild(buttonGroup);\n",
       "            }\n",
       "            buttonGroup = document.createElement('div');\n",
       "            buttonGroup.classList = 'mpl-button-group';\n",
       "            continue;\n",
       "        }\n",
       "\n",
       "        var button = (fig.buttons[name] = document.createElement('button'));\n",
       "        button.classList = 'mpl-widget';\n",
       "        button.setAttribute('role', 'button');\n",
       "        button.setAttribute('aria-disabled', 'false');\n",
       "        button.addEventListener('click', on_click_closure(method_name));\n",
       "        button.addEventListener('mouseover', on_mouseover_closure(tooltip));\n",
       "\n",
       "        var icon_img = document.createElement('img');\n",
       "        icon_img.src = '_images/' + image + '.png';\n",
       "        icon_img.srcset = '_images/' + image + '_large.png 2x';\n",
       "        icon_img.alt = tooltip;\n",
       "        button.appendChild(icon_img);\n",
       "\n",
       "        buttonGroup.appendChild(button);\n",
       "    }\n",
       "\n",
       "    if (buttonGroup.hasChildNodes()) {\n",
       "        toolbar.appendChild(buttonGroup);\n",
       "    }\n",
       "\n",
       "    var fmt_picker = document.createElement('select');\n",
       "    fmt_picker.classList = 'mpl-widget';\n",
       "    toolbar.appendChild(fmt_picker);\n",
       "    this.format_dropdown = fmt_picker;\n",
       "\n",
       "    for (var ind in mpl.extensions) {\n",
       "        var fmt = mpl.extensions[ind];\n",
       "        var option = document.createElement('option');\n",
       "        option.selected = fmt === mpl.default_extension;\n",
       "        option.innerHTML = fmt;\n",
       "        fmt_picker.appendChild(option);\n",
       "    }\n",
       "\n",
       "    var status_bar = document.createElement('span');\n",
       "    status_bar.classList = 'mpl-message';\n",
       "    toolbar.appendChild(status_bar);\n",
       "    this.message = status_bar;\n",
       "};\n",
       "\n",
       "mpl.figure.prototype.request_resize = function (x_pixels, y_pixels) {\n",
       "    // Request matplotlib to resize the figure. Matplotlib will then trigger a resize in the client,\n",
       "    // which will in turn request a refresh of the image.\n",
       "    this.send_message('resize', { width: x_pixels, height: y_pixels });\n",
       "};\n",
       "\n",
       "mpl.figure.prototype.send_message = function (type, properties) {\n",
       "    properties['type'] = type;\n",
       "    properties['figure_id'] = this.id;\n",
       "    this.ws.send(JSON.stringify(properties));\n",
       "};\n",
       "\n",
       "mpl.figure.prototype.send_draw_message = function () {\n",
       "    if (!this.waiting) {\n",
       "        this.waiting = true;\n",
       "        this.ws.send(JSON.stringify({ type: 'draw', figure_id: this.id }));\n",
       "    }\n",
       "};\n",
       "\n",
       "mpl.figure.prototype.handle_save = function (fig, _msg) {\n",
       "    var format_dropdown = fig.format_dropdown;\n",
       "    var format = format_dropdown.options[format_dropdown.selectedIndex].value;\n",
       "    fig.ondownload(fig, format);\n",
       "};\n",
       "\n",
       "mpl.figure.prototype.handle_resize = function (fig, msg) {\n",
       "    var size = msg['size'];\n",
       "    if (size[0] !== fig.canvas.width || size[1] !== fig.canvas.height) {\n",
       "        fig._resize_canvas(size[0], size[1], msg['forward']);\n",
       "        fig.send_message('refresh', {});\n",
       "    }\n",
       "};\n",
       "\n",
       "mpl.figure.prototype.handle_rubberband = function (fig, msg) {\n",
       "    var x0 = msg['x0'] / fig.ratio;\n",
       "    var y0 = (fig.canvas.height - msg['y0']) / fig.ratio;\n",
       "    var x1 = msg['x1'] / fig.ratio;\n",
       "    var y1 = (fig.canvas.height - msg['y1']) / fig.ratio;\n",
       "    x0 = Math.floor(x0) + 0.5;\n",
       "    y0 = Math.floor(y0) + 0.5;\n",
       "    x1 = Math.floor(x1) + 0.5;\n",
       "    y1 = Math.floor(y1) + 0.5;\n",
       "    var min_x = Math.min(x0, x1);\n",
       "    var min_y = Math.min(y0, y1);\n",
       "    var width = Math.abs(x1 - x0);\n",
       "    var height = Math.abs(y1 - y0);\n",
       "\n",
       "    fig.rubberband_context.clearRect(\n",
       "        0,\n",
       "        0,\n",
       "        fig.canvas.width / fig.ratio,\n",
       "        fig.canvas.height / fig.ratio\n",
       "    );\n",
       "\n",
       "    fig.rubberband_context.strokeRect(min_x, min_y, width, height);\n",
       "};\n",
       "\n",
       "mpl.figure.prototype.handle_figure_label = function (fig, msg) {\n",
       "    // Updates the figure title.\n",
       "    fig.header.textContent = msg['label'];\n",
       "};\n",
       "\n",
       "mpl.figure.prototype.handle_cursor = function (fig, msg) {\n",
       "    fig.rubberband_canvas.style.cursor = msg['cursor'];\n",
       "};\n",
       "\n",
       "mpl.figure.prototype.handle_message = function (fig, msg) {\n",
       "    fig.message.textContent = msg['message'];\n",
       "};\n",
       "\n",
       "mpl.figure.prototype.handle_draw = function (fig, _msg) {\n",
       "    // Request the server to send over a new figure.\n",
       "    fig.send_draw_message();\n",
       "};\n",
       "\n",
       "mpl.figure.prototype.handle_image_mode = function (fig, msg) {\n",
       "    fig.image_mode = msg['mode'];\n",
       "};\n",
       "\n",
       "mpl.figure.prototype.handle_history_buttons = function (fig, msg) {\n",
       "    for (var key in msg) {\n",
       "        if (!(key in fig.buttons)) {\n",
       "            continue;\n",
       "        }\n",
       "        fig.buttons[key].disabled = !msg[key];\n",
       "        fig.buttons[key].setAttribute('aria-disabled', !msg[key]);\n",
       "    }\n",
       "};\n",
       "\n",
       "mpl.figure.prototype.handle_navigate_mode = function (fig, msg) {\n",
       "    if (msg['mode'] === 'PAN') {\n",
       "        fig.buttons['Pan'].classList.add('active');\n",
       "        fig.buttons['Zoom'].classList.remove('active');\n",
       "    } else if (msg['mode'] === 'ZOOM') {\n",
       "        fig.buttons['Pan'].classList.remove('active');\n",
       "        fig.buttons['Zoom'].classList.add('active');\n",
       "    } else {\n",
       "        fig.buttons['Pan'].classList.remove('active');\n",
       "        fig.buttons['Zoom'].classList.remove('active');\n",
       "    }\n",
       "};\n",
       "\n",
       "mpl.figure.prototype.updated_canvas_event = function () {\n",
       "    // Called whenever the canvas gets updated.\n",
       "    this.send_message('ack', {});\n",
       "};\n",
       "\n",
       "// A function to construct a web socket function for onmessage handling.\n",
       "// Called in the figure constructor.\n",
       "mpl.figure.prototype._make_on_message_function = function (fig) {\n",
       "    return function socket_on_message(evt) {\n",
       "        if (evt.data instanceof Blob) {\n",
       "            var img = evt.data;\n",
       "            if (img.type !== 'image/png') {\n",
       "                /* FIXME: We get \"Resource interpreted as Image but\n",
       "                 * transferred with MIME type text/plain:\" errors on\n",
       "                 * Chrome.  But how to set the MIME type?  It doesn't seem\n",
       "                 * to be part of the websocket stream */\n",
       "                img.type = 'image/png';\n",
       "            }\n",
       "\n",
       "            /* Free the memory for the previous frames */\n",
       "            if (fig.imageObj.src) {\n",
       "                (window.URL || window.webkitURL).revokeObjectURL(\n",
       "                    fig.imageObj.src\n",
       "                );\n",
       "            }\n",
       "\n",
       "            fig.imageObj.src = (window.URL || window.webkitURL).createObjectURL(\n",
       "                img\n",
       "            );\n",
       "            fig.updated_canvas_event();\n",
       "            fig.waiting = false;\n",
       "            return;\n",
       "        } else if (\n",
       "            typeof evt.data === 'string' &&\n",
       "            evt.data.slice(0, 21) === 'data:image/png;base64'\n",
       "        ) {\n",
       "            fig.imageObj.src = evt.data;\n",
       "            fig.updated_canvas_event();\n",
       "            fig.waiting = false;\n",
       "            return;\n",
       "        }\n",
       "\n",
       "        var msg = JSON.parse(evt.data);\n",
       "        var msg_type = msg['type'];\n",
       "\n",
       "        // Call the  \"handle_{type}\" callback, which takes\n",
       "        // the figure and JSON message as its only arguments.\n",
       "        try {\n",
       "            var callback = fig['handle_' + msg_type];\n",
       "        } catch (e) {\n",
       "            console.log(\n",
       "                \"No handler for the '\" + msg_type + \"' message type: \",\n",
       "                msg\n",
       "            );\n",
       "            return;\n",
       "        }\n",
       "\n",
       "        if (callback) {\n",
       "            try {\n",
       "                // console.log(\"Handling '\" + msg_type + \"' message: \", msg);\n",
       "                callback(fig, msg);\n",
       "            } catch (e) {\n",
       "                console.log(\n",
       "                    \"Exception inside the 'handler_\" + msg_type + \"' callback:\",\n",
       "                    e,\n",
       "                    e.stack,\n",
       "                    msg\n",
       "                );\n",
       "            }\n",
       "        }\n",
       "    };\n",
       "};\n",
       "\n",
       "// from https://stackoverflow.com/questions/1114465/getting-mouse-location-in-canvas\n",
       "mpl.findpos = function (e) {\n",
       "    //this section is from http://www.quirksmode.org/js/events_properties.html\n",
       "    var targ;\n",
       "    if (!e) {\n",
       "        e = window.event;\n",
       "    }\n",
       "    if (e.target) {\n",
       "        targ = e.target;\n",
       "    } else if (e.srcElement) {\n",
       "        targ = e.srcElement;\n",
       "    }\n",
       "    if (targ.nodeType === 3) {\n",
       "        // defeat Safari bug\n",
       "        targ = targ.parentNode;\n",
       "    }\n",
       "\n",
       "    // pageX,Y are the mouse positions relative to the document\n",
       "    var boundingRect = targ.getBoundingClientRect();\n",
       "    var x = e.pageX - (boundingRect.left + document.body.scrollLeft);\n",
       "    var y = e.pageY - (boundingRect.top + document.body.scrollTop);\n",
       "\n",
       "    return { x: x, y: y };\n",
       "};\n",
       "\n",
       "/*\n",
       " * return a copy of an object with only non-object keys\n",
       " * we need this to avoid circular references\n",
       " * https://stackoverflow.com/a/24161582/3208463\n",
       " */\n",
       "function simpleKeys(original) {\n",
       "    return Object.keys(original).reduce(function (obj, key) {\n",
       "        if (typeof original[key] !== 'object') {\n",
       "            obj[key] = original[key];\n",
       "        }\n",
       "        return obj;\n",
       "    }, {});\n",
       "}\n",
       "\n",
       "mpl.figure.prototype.mouse_event = function (event, name) {\n",
       "    var canvas_pos = mpl.findpos(event);\n",
       "\n",
       "    if (name === 'button_press') {\n",
       "        this.canvas.focus();\n",
       "        this.canvas_div.focus();\n",
       "    }\n",
       "\n",
       "    var x = canvas_pos.x * this.ratio;\n",
       "    var y = canvas_pos.y * this.ratio;\n",
       "\n",
       "    this.send_message(name, {\n",
       "        x: x,\n",
       "        y: y,\n",
       "        button: event.button,\n",
       "        step: event.step,\n",
       "        guiEvent: simpleKeys(event),\n",
       "    });\n",
       "\n",
       "    /* This prevents the web browser from automatically changing to\n",
       "     * the text insertion cursor when the button is pressed.  We want\n",
       "     * to control all of the cursor setting manually through the\n",
       "     * 'cursor' event from matplotlib */\n",
       "    event.preventDefault();\n",
       "    return false;\n",
       "};\n",
       "\n",
       "mpl.figure.prototype._key_event_extra = function (_event, _name) {\n",
       "    // Handle any extra behaviour associated with a key event\n",
       "};\n",
       "\n",
       "mpl.figure.prototype.key_event = function (event, name) {\n",
       "    // Prevent repeat events\n",
       "    if (name === 'key_press') {\n",
       "        if (event.key === this._key) {\n",
       "            return;\n",
       "        } else {\n",
       "            this._key = event.key;\n",
       "        }\n",
       "    }\n",
       "    if (name === 'key_release') {\n",
       "        this._key = null;\n",
       "    }\n",
       "\n",
       "    var value = '';\n",
       "    if (event.ctrlKey && event.key !== 'Control') {\n",
       "        value += 'ctrl+';\n",
       "    }\n",
       "    else if (event.altKey && event.key !== 'Alt') {\n",
       "        value += 'alt+';\n",
       "    }\n",
       "    else if (event.shiftKey && event.key !== 'Shift') {\n",
       "        value += 'shift+';\n",
       "    }\n",
       "\n",
       "    value += 'k' + event.key;\n",
       "\n",
       "    this._key_event_extra(event, name);\n",
       "\n",
       "    this.send_message(name, { key: value, guiEvent: simpleKeys(event) });\n",
       "    return false;\n",
       "};\n",
       "\n",
       "mpl.figure.prototype.toolbar_button_onclick = function (name) {\n",
       "    if (name === 'download') {\n",
       "        this.handle_save(this, null);\n",
       "    } else {\n",
       "        this.send_message('toolbar_button', { name: name });\n",
       "    }\n",
       "};\n",
       "\n",
       "mpl.figure.prototype.toolbar_button_onmouseover = function (tooltip) {\n",
       "    this.message.textContent = tooltip;\n",
       "};\n",
       "\n",
       "///////////////// REMAINING CONTENT GENERATED BY embed_js.py /////////////////\n",
       "// prettier-ignore\n",
       "var _JSXTOOLS_RESIZE_OBSERVER=function(A){var t,i=new WeakMap,n=new WeakMap,a=new WeakMap,r=new WeakMap,o=new Set;function s(e){if(!(this instanceof s))throw new TypeError(\"Constructor requires 'new' operator\");i.set(this,e)}function h(){throw new TypeError(\"Function is not a constructor\")}function c(e,t,i,n){e=0 in arguments?Number(arguments[0]):0,t=1 in arguments?Number(arguments[1]):0,i=2 in arguments?Number(arguments[2]):0,n=3 in arguments?Number(arguments[3]):0,this.right=(this.x=this.left=e)+(this.width=i),this.bottom=(this.y=this.top=t)+(this.height=n),Object.freeze(this)}function d(){t=requestAnimationFrame(d);var s=new WeakMap,p=new Set;o.forEach((function(t){r.get(t).forEach((function(i){var r=t instanceof window.SVGElement,o=a.get(t),d=r?0:parseFloat(o.paddingTop),f=r?0:parseFloat(o.paddingRight),l=r?0:parseFloat(o.paddingBottom),u=r?0:parseFloat(o.paddingLeft),g=r?0:parseFloat(o.borderTopWidth),m=r?0:parseFloat(o.borderRightWidth),w=r?0:parseFloat(o.borderBottomWidth),b=u+f,F=d+l,v=(r?0:parseFloat(o.borderLeftWidth))+m,W=g+w,y=r?0:t.offsetHeight-W-t.clientHeight,E=r?0:t.offsetWidth-v-t.clientWidth,R=b+v,z=F+W,M=r?t.width:parseFloat(o.width)-R-E,O=r?t.height:parseFloat(o.height)-z-y;if(n.has(t)){var k=n.get(t);if(k[0]===M&&k[1]===O)return}n.set(t,[M,O]);var S=Object.create(h.prototype);S.target=t,S.contentRect=new c(u,d,M,O),s.has(i)||(s.set(i,[]),p.add(i)),s.get(i).push(S)}))})),p.forEach((function(e){i.get(e).call(e,s.get(e),e)}))}return s.prototype.observe=function(i){if(i instanceof window.Element){r.has(i)||(r.set(i,new Set),o.add(i),a.set(i,window.getComputedStyle(i)));var n=r.get(i);n.has(this)||n.add(this),cancelAnimationFrame(t),t=requestAnimationFrame(d)}},s.prototype.unobserve=function(i){if(i instanceof window.Element&&r.has(i)){var n=r.get(i);n.has(this)&&(n.delete(this),n.size||(r.delete(i),o.delete(i))),n.size||r.delete(i),o.size||cancelAnimationFrame(t)}},A.DOMRectReadOnly=c,A.ResizeObserver=s,A.ResizeObserverEntry=h,A}; // eslint-disable-line\n",
       "mpl.toolbar_items = [[\"Home\", \"Reset original view\", \"fa fa-home icon-home\", \"home\"], [\"Back\", \"Back to previous view\", \"fa fa-arrow-left icon-arrow-left\", \"back\"], [\"Forward\", \"Forward to next view\", \"fa fa-arrow-right icon-arrow-right\", \"forward\"], [\"\", \"\", \"\", \"\"], [\"Pan\", \"Left button pans, Right button zooms\\nx/y fixes axis, CTRL fixes aspect\", \"fa fa-arrows icon-move\", \"pan\"], [\"Zoom\", \"Zoom to rectangle\\nx/y fixes axis\", \"fa fa-square-o icon-check-empty\", \"zoom\"], [\"\", \"\", \"\", \"\"], [\"Download\", \"Download plot\", \"fa fa-floppy-o icon-save\", \"download\"]];\n",
       "\n",
       "mpl.extensions = [\"eps\", \"jpeg\", \"pgf\", \"pdf\", \"png\", \"ps\", \"raw\", \"svg\", \"tif\"];\n",
       "\n",
       "mpl.default_extension = \"png\";/* global mpl */\n",
       "\n",
       "var comm_websocket_adapter = function (comm) {\n",
       "    // Create a \"websocket\"-like object which calls the given IPython comm\n",
       "    // object with the appropriate methods. Currently this is a non binary\n",
       "    // socket, so there is still some room for performance tuning.\n",
       "    var ws = {};\n",
       "\n",
       "    ws.binaryType = comm.kernel.ws.binaryType;\n",
       "    ws.readyState = comm.kernel.ws.readyState;\n",
       "    function updateReadyState(_event) {\n",
       "        if (comm.kernel.ws) {\n",
       "            ws.readyState = comm.kernel.ws.readyState;\n",
       "        } else {\n",
       "            ws.readyState = 3; // Closed state.\n",
       "        }\n",
       "    }\n",
       "    comm.kernel.ws.addEventListener('open', updateReadyState);\n",
       "    comm.kernel.ws.addEventListener('close', updateReadyState);\n",
       "    comm.kernel.ws.addEventListener('error', updateReadyState);\n",
       "\n",
       "    ws.close = function () {\n",
       "        comm.close();\n",
       "    };\n",
       "    ws.send = function (m) {\n",
       "        //console.log('sending', m);\n",
       "        comm.send(m);\n",
       "    };\n",
       "    // Register the callback with on_msg.\n",
       "    comm.on_msg(function (msg) {\n",
       "        //console.log('receiving', msg['content']['data'], msg);\n",
       "        var data = msg['content']['data'];\n",
       "        if (data['blob'] !== undefined) {\n",
       "            data = {\n",
       "                data: new Blob(msg['buffers'], { type: data['blob'] }),\n",
       "            };\n",
       "        }\n",
       "        // Pass the mpl event to the overridden (by mpl) onmessage function.\n",
       "        ws.onmessage(data);\n",
       "    });\n",
       "    return ws;\n",
       "};\n",
       "\n",
       "mpl.mpl_figure_comm = function (comm, msg) {\n",
       "    // This is the function which gets called when the mpl process\n",
       "    // starts-up an IPython Comm through the \"matplotlib\" channel.\n",
       "\n",
       "    var id = msg.content.data.id;\n",
       "    // Get hold of the div created by the display call when the Comm\n",
       "    // socket was opened in Python.\n",
       "    var element = document.getElementById(id);\n",
       "    var ws_proxy = comm_websocket_adapter(comm);\n",
       "\n",
       "    function ondownload(figure, _format) {\n",
       "        window.open(figure.canvas.toDataURL());\n",
       "    }\n",
       "\n",
       "    var fig = new mpl.figure(id, ws_proxy, ondownload, element);\n",
       "\n",
       "    // Call onopen now - mpl needs it, as it is assuming we've passed it a real\n",
       "    // web socket which is closed, not our websocket->open comm proxy.\n",
       "    ws_proxy.onopen();\n",
       "\n",
       "    fig.parent_element = element;\n",
       "    fig.cell_info = mpl.find_output_cell(\"<div id='\" + id + \"'></div>\");\n",
       "    if (!fig.cell_info) {\n",
       "        console.error('Failed to find cell for figure', id, fig);\n",
       "        return;\n",
       "    }\n",
       "    fig.cell_info[0].output_area.element.on(\n",
       "        'cleared',\n",
       "        { fig: fig },\n",
       "        fig._remove_fig_handler\n",
       "    );\n",
       "};\n",
       "\n",
       "mpl.figure.prototype.handle_close = function (fig, msg) {\n",
       "    var width = fig.canvas.width / fig.ratio;\n",
       "    fig.cell_info[0].output_area.element.off(\n",
       "        'cleared',\n",
       "        fig._remove_fig_handler\n",
       "    );\n",
       "    fig.resizeObserverInstance.unobserve(fig.canvas_div);\n",
       "\n",
       "    // Update the output cell to use the data from the current canvas.\n",
       "    fig.push_to_output();\n",
       "    var dataURL = fig.canvas.toDataURL();\n",
       "    // Re-enable the keyboard manager in IPython - without this line, in FF,\n",
       "    // the notebook keyboard shortcuts fail.\n",
       "    IPython.keyboard_manager.enable();\n",
       "    fig.parent_element.innerHTML =\n",
       "        '<img src=\"' + dataURL + '\" width=\"' + width + '\">';\n",
       "    fig.close_ws(fig, msg);\n",
       "};\n",
       "\n",
       "mpl.figure.prototype.close_ws = function (fig, msg) {\n",
       "    fig.send_message('closing', msg);\n",
       "    // fig.ws.close()\n",
       "};\n",
       "\n",
       "mpl.figure.prototype.push_to_output = function (_remove_interactive) {\n",
       "    // Turn the data on the canvas into data in the output cell.\n",
       "    var width = this.canvas.width / this.ratio;\n",
       "    var dataURL = this.canvas.toDataURL();\n",
       "    this.cell_info[1]['text/html'] =\n",
       "        '<img src=\"' + dataURL + '\" width=\"' + width + '\">';\n",
       "};\n",
       "\n",
       "mpl.figure.prototype.updated_canvas_event = function () {\n",
       "    // Tell IPython that the notebook contents must change.\n",
       "    IPython.notebook.set_dirty(true);\n",
       "    this.send_message('ack', {});\n",
       "    var fig = this;\n",
       "    // Wait a second, then push the new image to the DOM so\n",
       "    // that it is saved nicely (might be nice to debounce this).\n",
       "    setTimeout(function () {\n",
       "        fig.push_to_output();\n",
       "    }, 1000);\n",
       "};\n",
       "\n",
       "mpl.figure.prototype._init_toolbar = function () {\n",
       "    var fig = this;\n",
       "\n",
       "    var toolbar = document.createElement('div');\n",
       "    toolbar.classList = 'btn-toolbar';\n",
       "    this.root.appendChild(toolbar);\n",
       "\n",
       "    function on_click_closure(name) {\n",
       "        return function (_event) {\n",
       "            return fig.toolbar_button_onclick(name);\n",
       "        };\n",
       "    }\n",
       "\n",
       "    function on_mouseover_closure(tooltip) {\n",
       "        return function (event) {\n",
       "            if (!event.currentTarget.disabled) {\n",
       "                return fig.toolbar_button_onmouseover(tooltip);\n",
       "            }\n",
       "        };\n",
       "    }\n",
       "\n",
       "    fig.buttons = {};\n",
       "    var buttonGroup = document.createElement('div');\n",
       "    buttonGroup.classList = 'btn-group';\n",
       "    var button;\n",
       "    for (var toolbar_ind in mpl.toolbar_items) {\n",
       "        var name = mpl.toolbar_items[toolbar_ind][0];\n",
       "        var tooltip = mpl.toolbar_items[toolbar_ind][1];\n",
       "        var image = mpl.toolbar_items[toolbar_ind][2];\n",
       "        var method_name = mpl.toolbar_items[toolbar_ind][3];\n",
       "\n",
       "        if (!name) {\n",
       "            /* Instead of a spacer, we start a new button group. */\n",
       "            if (buttonGroup.hasChildNodes()) {\n",
       "                toolbar.appendChild(buttonGroup);\n",
       "            }\n",
       "            buttonGroup = document.createElement('div');\n",
       "            buttonGroup.classList = 'btn-group';\n",
       "            continue;\n",
       "        }\n",
       "\n",
       "        button = fig.buttons[name] = document.createElement('button');\n",
       "        button.classList = 'btn btn-default';\n",
       "        button.href = '#';\n",
       "        button.title = name;\n",
       "        button.innerHTML = '<i class=\"fa ' + image + ' fa-lg\"></i>';\n",
       "        button.addEventListener('click', on_click_closure(method_name));\n",
       "        button.addEventListener('mouseover', on_mouseover_closure(tooltip));\n",
       "        buttonGroup.appendChild(button);\n",
       "    }\n",
       "\n",
       "    if (buttonGroup.hasChildNodes()) {\n",
       "        toolbar.appendChild(buttonGroup);\n",
       "    }\n",
       "\n",
       "    // Add the status bar.\n",
       "    var status_bar = document.createElement('span');\n",
       "    status_bar.classList = 'mpl-message pull-right';\n",
       "    toolbar.appendChild(status_bar);\n",
       "    this.message = status_bar;\n",
       "\n",
       "    // Add the close button to the window.\n",
       "    var buttongrp = document.createElement('div');\n",
       "    buttongrp.classList = 'btn-group inline pull-right';\n",
       "    button = document.createElement('button');\n",
       "    button.classList = 'btn btn-mini btn-primary';\n",
       "    button.href = '#';\n",
       "    button.title = 'Stop Interaction';\n",
       "    button.innerHTML = '<i class=\"fa fa-power-off icon-remove icon-large\"></i>';\n",
       "    button.addEventListener('click', function (_evt) {\n",
       "        fig.handle_close(fig, {});\n",
       "    });\n",
       "    button.addEventListener(\n",
       "        'mouseover',\n",
       "        on_mouseover_closure('Stop Interaction')\n",
       "    );\n",
       "    buttongrp.appendChild(button);\n",
       "    var titlebar = this.root.querySelector('.ui-dialog-titlebar');\n",
       "    titlebar.insertBefore(buttongrp, titlebar.firstChild);\n",
       "};\n",
       "\n",
       "mpl.figure.prototype._remove_fig_handler = function (event) {\n",
       "    var fig = event.data.fig;\n",
       "    if (event.target !== this) {\n",
       "        // Ignore bubbled events from children.\n",
       "        return;\n",
       "    }\n",
       "    fig.close_ws(fig, {});\n",
       "};\n",
       "\n",
       "mpl.figure.prototype._root_extra_style = function (el) {\n",
       "    el.style.boxSizing = 'content-box'; // override notebook setting of border-box.\n",
       "};\n",
       "\n",
       "mpl.figure.prototype._canvas_extra_style = function (el) {\n",
       "    // this is important to make the div 'focusable\n",
       "    el.setAttribute('tabindex', 0);\n",
       "    // reach out to IPython and tell the keyboard manager to turn it's self\n",
       "    // off when our div gets focus\n",
       "\n",
       "    // location in version 3\n",
       "    if (IPython.notebook.keyboard_manager) {\n",
       "        IPython.notebook.keyboard_manager.register_events(el);\n",
       "    } else {\n",
       "        // location in version 2\n",
       "        IPython.keyboard_manager.register_events(el);\n",
       "    }\n",
       "};\n",
       "\n",
       "mpl.figure.prototype._key_event_extra = function (event, _name) {\n",
       "    // Check for shift+enter\n",
       "    if (event.shiftKey && event.which === 13) {\n",
       "        this.canvas_div.blur();\n",
       "        // select the cell after this one\n",
       "        var index = IPython.notebook.find_cell_index(this.cell_info[0]);\n",
       "        IPython.notebook.select(index + 1);\n",
       "    }\n",
       "};\n",
       "\n",
       "mpl.figure.prototype.handle_save = function (fig, _msg) {\n",
       "    fig.ondownload(fig, null);\n",
       "};\n",
       "\n",
       "mpl.find_output_cell = function (html_output) {\n",
       "    // Return the cell and output element which can be found *uniquely* in the notebook.\n",
       "    // Note - this is a bit hacky, but it is done because the \"notebook_saving.Notebook\"\n",
       "    // IPython event is triggered only after the cells have been serialised, which for\n",
       "    // our purposes (turning an active figure into a static one), is too late.\n",
       "    var cells = IPython.notebook.get_cells();\n",
       "    var ncells = cells.length;\n",
       "    for (var i = 0; i < ncells; i++) {\n",
       "        var cell = cells[i];\n",
       "        if (cell.cell_type === 'code') {\n",
       "            for (var j = 0; j < cell.output_area.outputs.length; j++) {\n",
       "                var data = cell.output_area.outputs[j];\n",
       "                if (data.data) {\n",
       "                    // IPython >= 3 moved mimebundle to data attribute of output\n",
       "                    data = data.data;\n",
       "                }\n",
       "                if (data['text/html'] === html_output) {\n",
       "                    return [cell, data, j];\n",
       "                }\n",
       "            }\n",
       "        }\n",
       "    }\n",
       "};\n",
       "\n",
       "// Register the function which deals with the matplotlib target/channel.\n",
       "// The kernel may be null if the page has been refreshed.\n",
       "if (IPython.notebook.kernel !== null) {\n",
       "    IPython.notebook.kernel.comm_manager.register_target(\n",
       "        'matplotlib',\n",
       "        mpl.mpl_figure_comm\n",
       "    );\n",
       "}\n"
      ],
      "text/plain": [
       "<IPython.core.display.Javascript object>"
      ]
     },
     "metadata": {},
     "output_type": "display_data"
    },
    {
     "data": {
      "text/html": [
       "<img src=\"data:image/png;base64,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\" width=\"1199.9999821186068\">"
      ],
      "text/plain": [
       "<IPython.core.display.HTML object>"
      ]
     },
     "metadata": {},
     "output_type": "display_data"
    }
   ],
   "source": [
    "fig = plt.figure(figsize=(12,6))\n",
    "ax = fig.add_subplot(121, projection='3d')\n",
    "\n",
    "\n",
    "Z = np.apply_along_axis(lambda v:sQuadratic(v, S1), 0, np.array([X, Y]))\n",
    "\n",
    "ax.plot_wireframe(X, Y, Z, alpha=0.4)\n",
    "plt.show()\n"
   ]
  },
  {
   "cell_type": "markdown",
   "id": "8550c38e",
   "metadata": {
    "slideshow": {
     "slide_type": "slide"
    }
   },
   "source": [
    "Suppose we know that\n",
    "\n",
    "$$\n",
    "\\begin{aligned}\n",
    "\\mathbf x^TS\\mathbf x &> 0 & \\forall \\mathbf x:\\mathbf x\\neq \\mathbf 0\\\\\n",
    "S &= LDL^T\n",
    "\\end{aligned}\n",
    "$$\n",
    "\n",
    "This entails\n",
    "\n",
    "$$\n",
    "\\begin{aligned}\n",
    "\\mathbf x^TS\\mathbf x &> 0\\\\\n",
    "\\mathbf x^TLDL^T\\mathbf x &> 0\n",
    "\\end{aligned}\n",
    "$$\n",
    "\n",
    "Let us introduce a variable $\\mathbf y$\n",
    "\n",
    "$$\n",
    "\\begin{aligned}\n",
    "\\mathbf y &= L^T\\mathbf x\\\\\n",
    "\\mathbf x &= (L^T)^{-1}\\mathbf y &(L\\mbox{ must be invertible, which follows from definiteness.})\\\\\n",
    "\\mathbf y^T D\\mathbf y &> 0\\\\\n",
    "\\sum_i d_i y_i^2 &> 0\n",
    "\\end{aligned}\n",
    "$$\n",
    "\n",
    "For each $i$, we can set $y_i=1$, $\\forall j\\neq i: y_j = 0$. It follows that\n",
    "$$\n",
    "\\forall i: d_i > 0\n",
    "$$\n",
    "\n",
    "So if $S$ is positive defininte and the LU-decomposition gives $S = LDL^T$, all entries of $D$ must be positive."
   ]
  },
  {
   "cell_type": "markdown",
   "id": "2975ed39",
   "metadata": {
    "slideshow": {
     "slide_type": "slide"
    }
   },
   "source": [
    "We define\n",
    "\n",
    "$$\n",
    "(D^{\\frac{1}{2}})_{ij} = \\sqrt{d_{ij}}\n",
    "$$\n",
    "\n",
    "It follows that\n",
    "\n",
    "$$\n",
    "D = D^{\\frac{1}{2}} D^{\\frac{1}{2}}\n",
    "$$\n",
    "\n",
    "Taken together, we have\n",
    "\n",
    "$$\n",
    "S = LD^{\\frac{1}{2}} D^{\\frac{1}{2}}L^T\n",
    "$$\n",
    "\n",
    "It follows that for each positive definite matrix $S$ wich has an LU decomposition, there is a lower triangular matrix $M$ such that\n",
    "\n",
    "$$\n",
    "S = M M^T\n",
    "$$\n",
    "\n",
    "This factorization is called **Cholesky decomposition**."
   ]
  },
  {
   "cell_type": "code",
   "execution_count": 50,
   "id": "303ec6f0",
   "metadata": {
    "slideshow": {
     "slide_type": "slide"
    }
   },
   "outputs": [
    {
     "data": {
      "text/latex": [
       "$\\displaystyle \\left[\\begin{matrix}2 & -1 & 0\\\\-1 & 2 & -1\\\\0 & -1 & 2\\end{matrix}\\right]$"
      ],
      "text/plain": [
       "Matrix([\n",
       "[ 2, -1,  0],\n",
       "[-1,  2, -1],\n",
       "[ 0, -1,  2]])"
      ]
     },
     "execution_count": 50,
     "metadata": {},
     "output_type": "execute_result"
    }
   ],
   "source": [
    "S = Matrix([\n",
    "    [2,-1,0],\n",
    "    [-1,2,-1],\n",
    "    [0,-1,2]\n",
    "])\n",
    "S"
   ]
  },
  {
   "cell_type": "code",
   "execution_count": 51,
   "id": "90cb3386",
   "metadata": {},
   "outputs": [
    {
     "data": {
      "text/plain": [
       "True"
      ]
     },
     "execution_count": 51,
     "metadata": {},
     "output_type": "execute_result"
    }
   ],
   "source": [
    "S.is_positive_definite"
   ]
  },
  {
   "cell_type": "code",
   "execution_count": 52,
   "id": "adca0637",
   "metadata": {},
   "outputs": [
    {
     "data": {
      "text/latex": [
       "$\\displaystyle \\left[\\begin{matrix}\\sqrt{2} & 0 & 0\\\\- \\frac{\\sqrt{2}}{2} & \\frac{\\sqrt{6}}{2} & 0\\\\0 & - \\frac{\\sqrt{6}}{3} & \\frac{2 \\sqrt{3}}{3}\\end{matrix}\\right]$"
      ],
      "text/plain": [
       "Matrix([\n",
       "[   sqrt(2),          0,           0],\n",
       "[-sqrt(2)/2,  sqrt(6)/2,           0],\n",
       "[         0, -sqrt(6)/3, 2*sqrt(3)/3]])"
      ]
     },
     "execution_count": 52,
     "metadata": {},
     "output_type": "execute_result"
    }
   ],
   "source": [
    "M = S.cholesky()\n",
    "M"
   ]
  },
  {
   "cell_type": "code",
   "execution_count": 53,
   "id": "caf10d96",
   "metadata": {},
   "outputs": [
    {
     "data": {
      "text/latex": [
       "$\\displaystyle \\left[\\begin{matrix}2 & -1 & 0\\\\-1 & 2 & -1\\\\0 & -1 & 2\\end{matrix}\\right]$"
      ],
      "text/plain": [
       "Matrix([\n",
       "[ 2, -1,  0],\n",
       "[-1,  2, -1],\n",
       "[ 0, -1,  2]])"
      ]
     },
     "execution_count": 53,
     "metadata": {},
     "output_type": "execute_result"
    }
   ],
   "source": [
    "M*M.T"
   ]
  },
  {
   "cell_type": "code",
   "execution_count": 54,
   "id": "52e2c061",
   "metadata": {
    "slideshow": {
     "slide_type": "slide"
    }
   },
   "outputs": [
    {
     "data": {
      "text/latex": [
       "$\\displaystyle \\left[\\begin{matrix}3 & 1\\\\1 & -1\\end{matrix}\\right]$"
      ],
      "text/plain": [
       "Matrix([\n",
       "[3,  1],\n",
       "[1, -1]])"
      ]
     },
     "execution_count": 54,
     "metadata": {},
     "output_type": "execute_result"
    }
   ],
   "source": [
    "S = Matrix([\n",
    "    [3, 1],\n",
    "    [1, -1]\n",
    "])\n",
    "S"
   ]
  },
  {
   "cell_type": "code",
   "execution_count": 55,
   "id": "0ce4e6d6",
   "metadata": {},
   "outputs": [
    {
     "data": {
      "text/plain": [
       "False"
      ]
     },
     "execution_count": 55,
     "metadata": {},
     "output_type": "execute_result"
    }
   ],
   "source": [
    "S.is_positive_definite"
   ]
  },
  {
   "cell_type": "code",
   "execution_count": 56,
   "id": "ec91bb2c",
   "metadata": {},
   "outputs": [
    {
     "ename": "NonPositiveDefiniteMatrixError",
     "evalue": "Matrix must be positive-definite",
     "output_type": "error",
     "traceback": [
      "\u001b[0;31m---------------------------------------------------------------------------\u001b[0m",
      "\u001b[0;31mNonPositiveDefiniteMatrixError\u001b[0m            Traceback (most recent call last)",
      "Cell \u001b[0;32mIn[56], line 1\u001b[0m\n\u001b[0;32m----> 1\u001b[0m \u001b[43mS\u001b[49m\u001b[38;5;241;43m.\u001b[39;49m\u001b[43mcholesky\u001b[49m\u001b[43m(\u001b[49m\u001b[43m)\u001b[49m\n",
      "File \u001b[0;32m/usr/lib/python3/dist-packages/sympy/matrices/dense.py:78\u001b[0m, in \u001b[0;36mDenseMatrix.cholesky\u001b[0;34m(self, hermitian)\u001b[0m\n\u001b[1;32m     77\u001b[0m \u001b[38;5;28;01mdef\u001b[39;00m \u001b[38;5;21mcholesky\u001b[39m(\u001b[38;5;28mself\u001b[39m, hermitian\u001b[38;5;241m=\u001b[39m\u001b[38;5;28;01mTrue\u001b[39;00m):\n\u001b[0;32m---> 78\u001b[0m     \u001b[38;5;28;01mreturn\u001b[39;00m \u001b[43m_cholesky\u001b[49m\u001b[43m(\u001b[49m\u001b[38;5;28;43mself\u001b[39;49m\u001b[43m,\u001b[49m\u001b[43m \u001b[49m\u001b[43mhermitian\u001b[49m\u001b[38;5;241;43m=\u001b[39;49m\u001b[43mhermitian\u001b[49m\u001b[43m)\u001b[49m\n",
      "File \u001b[0;32m/usr/lib/python3/dist-packages/sympy/matrices/decompositions.py:273\u001b[0m, in \u001b[0;36m_cholesky\u001b[0;34m(M, hermitian)\u001b[0m\n\u001b[1;32m    269\u001b[0m         Lii2 \u001b[38;5;241m=\u001b[39m (M[i, i] \u001b[38;5;241m-\u001b[39m\n\u001b[1;32m    270\u001b[0m             \u001b[38;5;28msum\u001b[39m(L[i, k]\u001b[38;5;241m*\u001b[39mL[i, k]\u001b[38;5;241m.\u001b[39mconjugate() \u001b[38;5;28;01mfor\u001b[39;00m k \u001b[38;5;129;01min\u001b[39;00m \u001b[38;5;28mrange\u001b[39m(i)))\n\u001b[1;32m    272\u001b[0m         \u001b[38;5;28;01mif\u001b[39;00m Lii2\u001b[38;5;241m.\u001b[39mis_positive \u001b[38;5;129;01mis\u001b[39;00m \u001b[38;5;28;01mFalse\u001b[39;00m:\n\u001b[0;32m--> 273\u001b[0m             \u001b[38;5;28;01mraise\u001b[39;00m NonPositiveDefiniteMatrixError(\n\u001b[1;32m    274\u001b[0m                 \u001b[38;5;124m\"\u001b[39m\u001b[38;5;124mMatrix must be positive-definite\u001b[39m\u001b[38;5;124m\"\u001b[39m)\n\u001b[1;32m    276\u001b[0m         L[i, i] \u001b[38;5;241m=\u001b[39m sqrt(Lii2)\n\u001b[1;32m    278\u001b[0m \u001b[38;5;28;01melse\u001b[39;00m:\n",
      "\u001b[0;31mNonPositiveDefiniteMatrixError\u001b[0m: Matrix must be positive-definite"
     ]
    }
   ],
   "source": [
    "S.cholesky()"
   ]
  },
  {
   "cell_type": "markdown",
   "id": "733942e6",
   "metadata": {
    "slideshow": {
     "slide_type": "slide"
    }
   },
   "source": [
    "### Fact\n",
    "\n",
    "If a square matrix (not necessarily symmetric) is invertible, the following two matrices are positive definite:\n",
    "\n",
    "$$\n",
    "A A^T\\\\\n",
    "A^T A\n",
    "$$"
   ]
  },
  {
   "cell_type": "markdown",
   "id": "dd10430c",
   "metadata": {
    "slideshow": {
     "slide_type": "slide"
    }
   },
   "source": [
    "## Vector spaces\n",
    "\n",
    "In mathematics, vector spaces are not confined to $\\mathbb R^n$. Any set can be a vector space if the following eight axioms are met."
   ]
  },
  {
   "cell_type": "markdown",
   "id": "9d3f733e",
   "metadata": {},
   "source": [
    "<table border=\"0\" style=\"width:100%;\" align = \"left\">\n",
    "<tbody><tr>\n",
    "<th>Axiom</th>\n",
    "<th>Meaning\n",
    "</th>\n",
    "    <tr>\n",
    "    <td>Associativity of vector addition</td>\n",
    "    <td><span class=\"texhtml\"><b>u</b> + (<b>v</b> + <b>w</b>) = (<b>u</b> + <b>v</b>) + <b>w</b></span>\n",
    "    </td></tr>\n",
    "    \n",
    "<tr style=\"background:#F8F4FF;\">\n",
    "<td>Commutativity of vector addition</td>\n",
    "<td><span class=\"texhtml\"><b>u</b> + <b>v</b> = <b>v</b> + <b>u</b></span>\n",
    "</td></tr>\n",
    "<tr>\n",
    "<td>Identity element of vector addition</td>\n",
    "<td>There exists an element <span class=\"texhtml\"><b>0</b> ∈ <i>V</i></span>, called the <i>zero vector</i>, such that <span class=\"texhtml\"><b>v</b> + <b>0</b> = <b>v</b></span> for all <span class=\"texhtml\"><b>v</b> ∈ <i>V</i></span>.\n",
    "</td></tr>\n",
    "<tr style=\"background:#F8F4FF;\">\n",
    "<td>Inverse elements of vector addition</td>\n",
    "<td>For every <span class=\"texhtml\"><b>v</b> ∈ <i>V</i></span>, there exists an element <span class=\"texhtml\">−<b>v</b> ∈ <i>V</i></span>, called the <i>additive inverse</i> of <span class=\"texhtml\"><b>v</b></span>, such that <span class=\"texhtml\"><b>v</b> + (−<b>v</b>) = <b>0</b></span>.\n",
    "</td></tr>\n",
    "<tr>\n",
    "<td>Compatibility of scalar multiplication with field multiplication</td>\n",
    "<td><span class=\"texhtml\"><i>a</i>(<i>b</i><b>v</b>) = (<i>ab</i>)<b>v</b></span> \n",
    "</td></tr>\n",
    "<tr style=\"background:#F8F4FF;\">\n",
    "<td>Identity element of scalar multiplication</td>\n",
    "<td><span class=\"texhtml\">1<b>v</b> = <b>v</b></span>, where <span class=\"texhtml\">1</span> denotes the multiplicative identity in <span class=\"texhtml mvar\" style=\"font-style:italic;\">F</span>.\n",
    "</td></tr>\n",
    "<tr>\n",
    "<td>Distributivityof scalar multiplication with respect to vector addition</td>\n",
    "<td><span class=\"texhtml\"><i>a</i>(<b>u</b> + <b>v</b>) = <i>a</i><b>u</b> + <i>a</i><b>v</b></span>\n",
    "</td></tr>\n",
    "<tr style=\"background:#F8F4FF;\">\n",
    "<td>Distributivity of scalar multiplication with respect to field addition</td>\n",
    "<td><span class=\"texhtml\">(<i>a</i> + <i>b</i>)<b>v</b> = <i>a</i><b>v</b> + <i>b</i><b>v</b></span>\n",
    "</td></tr></tbody></table>"
   ]
  },
  {
   "cell_type": "markdown",
   "id": "7ff686c0",
   "metadata": {
    "slideshow": {
     "slide_type": "-"
    }
   },
   "source": [
    "A subset $\\alpha$ of a vector space is a **sub-space** if it is also a vector space.\n",
    "\n",
    "This is guaranteed if two conditions are met: If $\\mathbf u, \\mathbf v\\in \\alpha$, \n",
    "\n",
    "- $\\mathbf u + \\mathbf v \\in \\alpha$\n",
    "- for any scalar $c$, $c\\mathbf u\\in \\alpha$."
   ]
  },
  {
   "cell_type": "markdown",
   "id": "c3e3aa51",
   "metadata": {
    "slideshow": {
     "slide_type": "slide"
    }
   },
   "source": [
    "### Column space of a matrix\n",
    "\n",
    "For an $n\\times m$ matrix $A$, the set $\\{A\\mathbf x:\\mathbf x\\in \\mathbb R^m\\}$ is a subspace of $\\mathbb R^n$, because:\n",
    "\n",
    "- $A\\mathbf u + A\\mathbf v = A(\\mathbf u+\\mathbf v)$\n",
    "- $Ac\\mathbf u = cA\\mathbf u$\n",
    "\n",
    "This vector space is called the **column space** of $A$, because it consists of all linear combinations of the column vectors of $A$.\n",
    "\n",
    "\n",
    "The system of linear equation \n",
    "$$\n",
    "A\\mathbf x = \\mathbf b\n",
    "$$\n",
    "\n",
    "is solvable if and only if $\\mathbf b$ is in the column space of $A$."
   ]
  },
  {
   "cell_type": "markdown",
   "id": "091ba9be",
   "metadata": {
    "slideshow": {
     "slide_type": "slide"
    }
   },
   "source": [
    "So far we have focused on invertable matrices. In this case, the column space equals the entire vector space.\n",
    "\n",
    "But what about non-invertable matrices?\n",
    "\n",
    "We proceed per Gauss-Jordan elimination as usual. After the Gauss part, we will see whether the system is solvable.\n",
    "\n",
    "$$\n",
    "\\begin{aligned}\n",
    "\\begin{bmatrix}\n",
    "1 & 0\\\\\n",
    "4 & 3\\\\\n",
    "2 & 3\n",
    "\\end{bmatrix} \\mathbf x &=\n",
    "\\begin{bmatrix}\n",
    "1\\\\1\\\\0\n",
    "\\end{bmatrix}\n",
    "\\end{aligned}\n",
    "$$"
   ]
  },
  {
   "cell_type": "markdown",
   "id": "2e01c593",
   "metadata": {},
   "source": [
    "$$\n",
    "\\left[\n",
    "\\begin{array}{rr|r}\n",
    "1 & 0 & 1\\\\\n",
    "4 & 3 & 1\\\\\n",
    "2 & 3 & 0\n",
    "\\end{array}\n",
    "\\right]\\\\[1em]\n",
    "\\left[\n",
    "\\begin{array}{rr|r}\n",
    "1 & 0 & 1\\\\\n",
    "0 & 3 & -3\\\\\n",
    "0 & 3 & -2\n",
    "\\end{array}\n",
    "\\right]\\\\[1em]\n",
    "\\left[\n",
    "\\begin{array}{rr|r}\n",
    "1 & 0 & 1\\\\\n",
    "0 & 3 & -3\\\\\n",
    "0 & 0 & 1\n",
    "\\end{array}\n",
    "\\right]\\\\[1em]\n",
    "$$\n",
    "\n",
    "There can't be a solution for the last row, so $\\mathbf b$ is not in the column space of $A$."
   ]
  },
  {
   "cell_type": "markdown",
   "id": "f6b0a54e",
   "metadata": {
    "slideshow": {
     "slide_type": "slide"
    }
   },
   "source": [
    "Another example:\n",
    "\n",
    "$$\n",
    "\\begin{aligned}\n",
    "A & =\n",
    "\\begin{bmatrix}\n",
    "1 & 2& 3\\\\\n",
    "2 & 4 & 3\\\\\n",
    "3 & 6 & 1\n",
    "\\end{bmatrix}\\\\[1em]\n",
    "\\mathbf b &= \\begin{bmatrix} 4\\\\ 5\\\\ 4\\end{bmatrix}\\\\[1em]\n",
    "A\\mathbf x &= \\mathbf b\n",
    "\\end{aligned}\n",
    "$$"
   ]
  },
  {
   "cell_type": "markdown",
   "id": "7180fe80",
   "metadata": {
    "slideshow": {
     "slide_type": "slide"
    }
   },
   "source": [
    "$$\n",
    "\\left[\n",
    "\\begin{array}{rrr|r}\n",
    "1 & 2 & 3 & 4\\\\\n",
    "2 & 4 & 3 & 5\\\\\n",
    "3 & 6 & 1 & 4\n",
    "\\end{array}\n",
    "\\right]\\\\[1em]\n",
    "\\left[\n",
    "\\begin{array}{rrr|r}\n",
    "1 & 2 & 3 & 4\\\\\n",
    "0 & 0 & -3 & -3\\\\\n",
    "3 & 6 & 1 & 4\n",
    "\\end{array}\n",
    "\\right]\\\\[1em]\n",
    "\\left[\n",
    "\\begin{array}{rrr|r}\n",
    "1 & 2 & 3 & 4\\\\\n",
    "0 & 0 & -3 & -3\\\\\n",
    "0 & 0 & -8 & -8\n",
    "\\end{array}\n",
    "\\right]\\\\[1em]\n",
    "\\left[\n",
    "\\begin{array}{rrr|r}\n",
    "1 & 2 & 3 & 4\\\\\n",
    "0 & 0 & -3 & -3\\\\\n",
    "0 & 0 & 0 & 0\n",
    "\\end{array}\n",
    "\\right]\\\\[1em]\n",
    "\\left[\n",
    "\\begin{array}{rrr|r}\n",
    "1 & 2 & 0 & 1\\\\\n",
    "0 & 0 & -3 & -3\\\\\n",
    "0 & 0 & 0 & 0\n",
    "\\end{array}\n",
    "\\right]\\\\[1em]\n",
    "\\left[\n",
    "\\begin{array}{rrr|r}\n",
    "1 & 2 & 0 & 1\\\\\n",
    "0 & 0 & 1 & 1\\\\\n",
    "0 & 0 & 0 & 0\n",
    "\\end{array}\n",
    "\\right]\\\\[1em]\n",
    "$$\n"
   ]
  },
  {
   "cell_type": "markdown",
   "id": "0341beed",
   "metadata": {
    "slideshow": {
     "slide_type": "slide"
    }
   },
   "source": [
    "Since the left side is not the identity matrix, we cannot simply read off the solution from the right side.\n",
    "\n",
    "### Pivots\n",
    "\n",
    "A pivot cell in a matrix $A$ is a cell $a_{ij}$ with an entry $\\neq 0$ such that\n",
    "$$\n",
    "\\begin{aligned}\n",
    "a_{ij} &\\neq 0\\\\\n",
    "\\forall k \\geq i, l< j: &  a_{kl} = 0\n",
    "\\end{aligned}\n",
    "$$\n",
    "\n",
    "During Gauss elimination, we\n",
    "\n",
    "- go top-down through the rows,\n",
    "- identify the pivot in the current row, and\n",
    "- transform all cells below the pivot into $0$ using elimination.\n",
    "\n",
    "A column with a pivot in it is called *pivot column*.\n",
    "\n",
    "A column without a pivot in it is called *free column*.\n"
   ]
  },
  {
   "cell_type": "markdown",
   "id": "99da718d",
   "metadata": {
    "slideshow": {
     "slide_type": "slide"
    }
   },
   "source": [
    "\n",
    "\n",
    "After Gauss-Jordan elimination, we find the *canonical solution* by\n",
    "- setting all positions corresponding to a free column to $0$, and\n",
    "- setting all positions corresponding to a pivot column to the entry on the the same row as the pivot on the right side.\n",
    "\n",
    "For our example above, the solution thus found is\n",
    "$$\n",
    "\\begin{bmatrix}\n",
    "1 \\\\ 0 \\\\ 1\n",
    "\\end{bmatrix}\n",
    "$$"
   ]
  },
  {
   "cell_type": "markdown",
   "id": "da80eb9f",
   "metadata": {},
   "source": [
    "The result of Gauss elimination is called **row echelon form**.\n",
    "\n",
    "The result of Gauss-Jordan elimination is called **reduced row echelon form**."
   ]
  },
  {
   "cell_type": "code",
   "execution_count": 58,
   "id": "2486aa6c",
   "metadata": {
    "slideshow": {
     "slide_type": "slide"
    }
   },
   "outputs": [
    {
     "data": {
      "text/latex": [
       "$\\displaystyle \\left[\\begin{matrix}1 & 2 & 3\\\\2 & 4 & 3\\\\3 & 6 & 1\\end{matrix}\\right]$"
      ],
      "text/plain": [
       "Matrix([\n",
       "[1, 2, 3],\n",
       "[2, 4, 3],\n",
       "[3, 6, 1]])"
      ]
     },
     "execution_count": 58,
     "metadata": {},
     "output_type": "execute_result"
    }
   ],
   "source": [
    "A = Matrix([\n",
    "    [1,2,3],\n",
    "    [2,4,3],\n",
    "    [3,6,1]\n",
    "])\n",
    "A"
   ]
  },
  {
   "cell_type": "code",
   "execution_count": 59,
   "id": "b657d822",
   "metadata": {},
   "outputs": [],
   "source": [
    "rr, i = A.rref()"
   ]
  },
  {
   "cell_type": "code",
   "execution_count": 60,
   "id": "ad42277a",
   "metadata": {},
   "outputs": [
    {
     "data": {
      "text/latex": [
       "$\\displaystyle \\left[\\begin{matrix}1 & 2 & 0\\\\0 & 0 & 1\\\\0 & 0 & 0\\end{matrix}\\right]$"
      ],
      "text/plain": [
       "Matrix([\n",
       "[1, 2, 0],\n",
       "[0, 0, 1],\n",
       "[0, 0, 0]])"
      ]
     },
     "execution_count": 60,
     "metadata": {},
     "output_type": "execute_result"
    }
   ],
   "source": [
    "rr"
   ]
  },
  {
   "cell_type": "code",
   "execution_count": 61,
   "id": "befd8411",
   "metadata": {},
   "outputs": [
    {
     "data": {
      "text/plain": [
       "(0, 2)"
      ]
     },
     "execution_count": 61,
     "metadata": {},
     "output_type": "execute_result"
    }
   ],
   "source": [
    "i"
   ]
  },
  {
   "cell_type": "markdown",
   "id": "41f1d799",
   "metadata": {
    "slideshow": {
     "slide_type": "slide"
    }
   },
   "source": [
    "## The nullspace of a matrix\n",
    "\n",
    "The canonical solution is only one of infinitely many solutions.\n",
    "\n",
    "$$\n",
    "\\begin{aligned}\n",
    "A & =\n",
    "\\begin{bmatrix}\n",
    "1 & 2& 3\\\\\n",
    "2 & 4 & 3\\\\\n",
    "3 & 6 & 1\n",
    "\\end{bmatrix}\\\\[1em]\n",
    "\\mathbf b &= \\begin{bmatrix} 4\\\\ 5\\\\ 4\\end{bmatrix}\\\\[1em]\n",
    "A\\mathbf x &= \\mathbf b\\\\\n",
    "\\mathbf x &= \\begin{bmatrix}\n",
    "1 \\\\ 0 \\\\ 1\n",
    "\\end{bmatrix}, \n",
    "\\begin{bmatrix}\n",
    "-1 \\\\ 1 \\\\ 1\n",
    "\\end{bmatrix},\n",
    "\\begin{bmatrix}\n",
    "3 \\\\ -1 \\\\ 1\n",
    "\\end{bmatrix},\\cdots\n",
    "\\end{aligned}\n",
    "$$\n",
    "\n",
    "How do we find all solutions?"
   ]
  },
  {
   "cell_type": "markdown",
   "id": "91fbeee6",
   "metadata": {
    "slideshow": {
     "slide_type": "slide"
    }
   },
   "source": [
    "Suppose we have a solution $\\mathbf y$ to \n",
    "\n",
    "$$\n",
    "A\\mathbf y = \\mathbf 0\n",
    "$$\n",
    "\n",
    "Let $\\mathbf x$ be the canonical solution to\n",
    "\n",
    "$$\n",
    "A\\mathbf x = \\mathbf b\n",
    "$$\n",
    "\n",
    "It follows:\n",
    "\n",
    "$$\n",
    "\\begin{aligned}\n",
    "A\\mathbf x + A\\mathbf y &= \\mathbf x + \\mathbf 0\\\\\n",
    "A(\\mathbf x + \\mathbf y) &= \\mathbf b\n",
    "\\end{aligned}\n",
    "$$\n",
    "\n",
    "The set of solutions $\\mathbf y$ to $A\\mathbf y = \\mathbf 0$ form a *vector space*:\n",
    "\n"
   ]
  },
  {
   "cell_type": "markdown",
   "id": "c64a6df5",
   "metadata": {
    "slideshow": {
     "slide_type": "slide"
    }
   },
   "source": [
    "\n",
    "Suppose $A\\mathbf y_1 = \\mathbf 0$ and $A\\mathbf y_2 = \\mathbf 0$.\n",
    "\n",
    "$$\n",
    "\\begin{aligned}\n",
    "A(\\mathbf y_1 + \\mathbf y_2) &= A\\mathbf y_1 + A\\mathbf y_2\\\\\n",
    "&= \\mathbf 0 + \\mathbf 0\\\\\n",
    "&= \\mathbf 0\\\\[2em]\n",
    "A(c\\mathbf y_1) &= cA\\mathbf y_1\\\\\n",
    "&= c~\\mathbf 0\\\\\n",
    "&=\\mathbf 0\n",
    "\\end{aligned}\n",
    "$$\n",
    "\n",
    "The set of solutions $\\mathbf y$ to $A\\mathbf y = \\mathbf 0$ is called the **nullspace** of $A$."
   ]
  },
  {
   "cell_type": "markdown",
   "id": "e2d20917",
   "metadata": {
    "slideshow": {
     "slide_type": "slide"
    }
   },
   "source": [
    "### How to find the null space\n",
    "\n",
    "For each free column $i$ in the reduced row echelon form or $A$:\n",
    "- set $y_i = 1$,\n",
    "- set $y_j = 0$ for all free columns $j\\neq i$,\n",
    "- solve $A\\mathbf y = \\mathbf 0$ via substitution.\n",
    "\n"
   ]
  },
  {
   "cell_type": "code",
   "execution_count": 62,
   "id": "49adee32",
   "metadata": {},
   "outputs": [
    {
     "data": {
      "text/latex": [
       "$\\displaystyle \\left[\\begin{matrix}1 & 2 & 3\\\\2 & 4 & 3\\\\3 & 6 & 1\\end{matrix}\\right]$"
      ],
      "text/plain": [
       "Matrix([\n",
       "[1, 2, 3],\n",
       "[2, 4, 3],\n",
       "[3, 6, 1]])"
      ]
     },
     "execution_count": 62,
     "metadata": {},
     "output_type": "execute_result"
    }
   ],
   "source": [
    "A = Matrix([\n",
    "    [1,2,3],\n",
    "    [2,4,3],\n",
    "    [3,6,1]\n",
    "])\n",
    "A"
   ]
  },
  {
   "cell_type": "code",
   "execution_count": 63,
   "id": "e5949a69",
   "metadata": {
    "slideshow": {
     "slide_type": "slide"
    }
   },
   "outputs": [
    {
     "data": {
      "text/latex": [
       "$\\displaystyle \\left[\\begin{matrix}1 & 2 & 0\\\\0 & 0 & 1\\\\0 & 0 & 0\\end{matrix}\\right]$"
      ],
      "text/plain": [
       "Matrix([\n",
       "[1, 2, 0],\n",
       "[0, 0, 1],\n",
       "[0, 0, 0]])"
      ]
     },
     "execution_count": 63,
     "metadata": {},
     "output_type": "execute_result"
    }
   ],
   "source": [
    "rr,_ = A.rref()\n",
    "rr"
   ]
  },
  {
   "cell_type": "markdown",
   "id": "8aa4af90",
   "metadata": {},
   "source": [
    "$$\n",
    "\\begin{aligned}\n",
    "\\left[\\begin{matrix}1 & 2 & 0\\\\0 & 0 & 1\\\\0 & 0 & 0\\end{matrix}\\right]\n",
    "\\begin{bmatrix}\n",
    "a \\\\ 1 \\\\ b\n",
    "\\end{bmatrix}\n",
    "&= \\begin{bmatrix}\n",
    "0\\\\0\\\\0\n",
    "\\end{bmatrix}\\\\\n",
    "a + 2 &= 0\\\\\n",
    "b &= 0\\\\\n",
    "a &= -2\\\\\n",
    "\\mathbf y &= \n",
    "\\begin{bmatrix}\n",
    "-2\\\\1\\\\0\n",
    "\\end{bmatrix}\\\\[2em]\n",
    "\\left[\\begin{matrix}1 & 2 & 3\\\\2 & 4 & 3\\\\3 & 6 & 1\\end{matrix}\\right]\n",
    "\\begin{bmatrix}\n",
    "-2\\\\1\\\\0\n",
    "\\end{bmatrix} &= \\begin{bmatrix}\n",
    "0\\\\0\\\\0\n",
    "\\end{bmatrix}\n",
    "\\end{aligned}\n",
    "$$"
   ]
  }
 ],
 "metadata": {
  "@webio": {
   "lastCommId": null,
   "lastKernelId": null
  },
  "celltoolbar": "Slideshow",
  "hide_input": false,
  "kernelspec": {
   "display_name": "Python 3 (ipykernel)",
   "language": "python",
   "name": "python3"
  },
  "language_info": {
   "codemirror_mode": {
    "name": "ipython",
    "version": 3
   },
   "file_extension": ".py",
   "mimetype": "text/x-python",
   "name": "python",
   "nbconvert_exporter": "python",
   "pygments_lexer": "ipython3",
   "version": "3.10.12"
  },
  "latex_envs": {
   "LaTeX_envs_menu_present": true,
   "autoclose": false,
   "autocomplete": true,
   "bibliofile": "biblio.bib",
   "cite_by": "apalike",
   "current_citInitial": 1,
   "eqLabelWithNumbers": true,
   "eqNumInitial": 1,
   "hotkeys": {
    "equation": "Ctrl-E",
    "itemize": "Ctrl-I"
   },
   "labels_anchors": false,
   "latex_user_defs": false,
   "report_style_numbering": false,
   "user_envs_cfg": false
  },
  "rise": {
   "enable_chalkboard": true
  },
  "varInspector": {
   "cols": {
    "lenName": 16,
    "lenType": 16,
    "lenVar": 40
   },
   "kernels_config": {
    "python": {
     "delete_cmd_postfix": "",
     "delete_cmd_prefix": "del ",
     "library": "var_list.py",
     "varRefreshCmd": "print(var_dic_list())"
    },
    "r": {
     "delete_cmd_postfix": ") ",
     "delete_cmd_prefix": "rm(",
     "library": "var_list.r",
     "varRefreshCmd": "cat(var_dic_list()) "
    }
   },
   "types_to_exclude": [
    "module",
    "function",
    "builtin_function_or_method",
    "instance",
    "_Feature"
   ],
   "window_display": false
  }
 },
 "nbformat": 4,
 "nbformat_minor": 5
}
