{
 "cells": [
  {
   "cell_type": "code",
   "execution_count": 1,
   "id": "5d1f156d",
   "metadata": {
    "slideshow": {
     "slide_type": "skip"
    }
   },
   "outputs": [],
   "source": [
    "import sympy\n",
    "from sympy import Matrix, Rational, sqrt, symbols\n",
    "import numpy as np\n"
   ]
  },
  {
   "cell_type": "code",
   "execution_count": 2,
   "id": "3afd14d3",
   "metadata": {
    "slideshow": {
     "slide_type": "skip"
    }
   },
   "outputs": [],
   "source": [
    "%matplotlib notebook\n",
    "import matplotlib.pyplot as plt\n",
    "from mpl_toolkits.mplot3d import axes3d"
   ]
  },
  {
   "cell_type": "markdown",
   "id": "17d690f6",
   "metadata": {
    "slideshow": {
     "slide_type": "slide"
    }
   },
   "source": [
    "# Linear algebra\n",
    "\n",
    "## Session 04: LU decomposition\n",
    "\n",
    "## Gerhard Jäger\n",
    "\n",
    "### November 16, 2023"
   ]
  },
  {
   "cell_type": "markdown",
   "id": "f2d8ffbf",
   "metadata": {
    "slideshow": {
     "slide_type": "slide"
    }
   },
   "source": [
    "# LU decomposition\n",
    "\n",
    "### triangular matrices\n",
    "\n",
    "- an **upper triangular matrix** is a square matrix with only $0$ below the main diagonal\n"
   ]
  },
  {
   "cell_type": "code",
   "execution_count": 3,
   "id": "ffb4435e",
   "metadata": {
    "hide_input": true
   },
   "outputs": [
    {
     "data": {
      "text/latex": [
       "$\\displaystyle \\left[\\begin{matrix}1 & 1 & 1\\\\0 & 1 & 1\\\\0 & 0 & 1\\end{matrix}\\right]$"
      ],
      "text/plain": [
       "Matrix([\n",
       "[1, 1, 1],\n",
       "[0, 1, 1],\n",
       "[0, 0, 1]])"
      ]
     },
     "execution_count": 3,
     "metadata": {},
     "output_type": "execute_result"
    }
   ],
   "source": [
    "Matrix([\n",
    "    [1,1,1],\n",
    "    [0,1,1],\n",
    "    [0,0,1]\n",
    "])"
   ]
  },
  {
   "cell_type": "code",
   "execution_count": 4,
   "id": "f67c985c",
   "metadata": {
    "hide_input": true
   },
   "outputs": [
    {
     "data": {
      "text/latex": [
       "$\\displaystyle \\left[\\begin{matrix}0 & 1 & 6\\\\0 & 1 & 1\\\\0 & 0 & 0\\end{matrix}\\right]$"
      ],
      "text/plain": [
       "Matrix([\n",
       "[0, 1, 6],\n",
       "[0, 1, 1],\n",
       "[0, 0, 0]])"
      ]
     },
     "execution_count": 4,
     "metadata": {},
     "output_type": "execute_result"
    }
   ],
   "source": [
    "Matrix([\n",
    "    [0,1,6],\n",
    "    [0,1,1],\n",
    "    [0,0,0]\n",
    "])"
   ]
  },
  {
   "cell_type": "markdown",
   "id": "50ae4a84",
   "metadata": {
    "slideshow": {
     "slide_type": "slide"
    }
   },
   "source": [
    "- a **lower triangular matrix** is a square matrix with only $0$ above the main diagonal"
   ]
  },
  {
   "cell_type": "code",
   "execution_count": 5,
   "id": "14d7eaed",
   "metadata": {
    "hide_input": true
   },
   "outputs": [
    {
     "data": {
      "text/latex": [
       "$\\displaystyle \\left[\\begin{matrix}0 & 0 & 0\\\\1 & 1 & 0\\\\6 & 1 & 0\\end{matrix}\\right]$"
      ],
      "text/plain": [
       "Matrix([\n",
       "[0, 0, 0],\n",
       "[1, 1, 0],\n",
       "[6, 1, 0]])"
      ]
     },
     "execution_count": 5,
     "metadata": {},
     "output_type": "execute_result"
    }
   ],
   "source": [
    "Matrix([\n",
    "    [0,1,6],\n",
    "    [0,1,1],\n",
    "    [0,0,0]\n",
    "]).T"
   ]
  },
  {
   "cell_type": "markdown",
   "id": "d53e8138",
   "metadata": {},
   "source": [
    "- the transpose of an upper triangular matrix is lower triangular, and vice versa\n",
    "- *Gaussian elimination* transforms a matrix into an upper triangular matrix\n",
    "- *Jordan elimination* transforms a matrix into a lower triangular matrix\n",
    "- $\\Rightarrow$ Gauss-Jordan elimination produces a diagonal matrix\n",
    "\n"
   ]
  },
  {
   "cell_type": "markdown",
   "id": "492415e1",
   "metadata": {
    "slideshow": {
     "slide_type": "slide"
    }
   },
   "source": [
    "Let us focus on the Gauss part."
   ]
  },
  {
   "cell_type": "code",
   "execution_count": 6,
   "id": "fce54949",
   "metadata": {
    "hide_input": true
   },
   "outputs": [
    {
     "data": {
      "text/latex": [
       "$\\displaystyle \\left[\\begin{matrix}1 & 2 & 1\\\\3 & 2 & 4\\\\4 & 4 & 3\\end{matrix}\\right]$"
      ],
      "text/plain": [
       "Matrix([\n",
       "[1, 2, 1],\n",
       "[3, 2, 4],\n",
       "[4, 4, 3]])"
      ]
     },
     "execution_count": 6,
     "metadata": {},
     "output_type": "execute_result"
    }
   ],
   "source": [
    "A = Matrix([\n",
    "    [1,2,1],\n",
    "    [3,2,4],\n",
    "    [4,4,3]\n",
    "])\n",
    "A"
   ]
  },
  {
   "cell_type": "code",
   "execution_count": 7,
   "id": "77e3be30",
   "metadata": {},
   "outputs": [
    {
     "data": {
      "text/latex": [
       "$\\displaystyle \\left[\\begin{matrix}1 & 2 & 1\\\\0 & -4 & 1\\\\4 & 4 & 3\\end{matrix}\\right]$"
      ],
      "text/plain": [
       "Matrix([\n",
       "[1,  2, 1],\n",
       "[0, -4, 1],\n",
       "[4,  4, 3]])"
      ]
     },
     "execution_count": 7,
     "metadata": {},
     "output_type": "execute_result"
    }
   ],
   "source": [
    "E1 = Matrix([\n",
    "    [1,0,0],\n",
    "    [-3,1,0],\n",
    "    [0,0,1]\n",
    "])\n",
    "E1*A"
   ]
  },
  {
   "cell_type": "code",
   "execution_count": 8,
   "id": "1ebd7e27",
   "metadata": {},
   "outputs": [
    {
     "data": {
      "text/latex": [
       "$\\displaystyle \\left[\\begin{matrix}1 & 2 & 1\\\\0 & -4 & 1\\\\0 & -4 & -1\\end{matrix}\\right]$"
      ],
      "text/plain": [
       "Matrix([\n",
       "[1,  2,  1],\n",
       "[0, -4,  1],\n",
       "[0, -4, -1]])"
      ]
     },
     "execution_count": 8,
     "metadata": {},
     "output_type": "execute_result"
    }
   ],
   "source": [
    "E2 = Matrix([\n",
    "    [1,0,0],\n",
    "    [0,1,0],\n",
    "    [-4,0,1]\n",
    "])\n",
    "E2 * E1 * A"
   ]
  },
  {
   "cell_type": "code",
   "execution_count": 9,
   "id": "14e89e65",
   "metadata": {
    "slideshow": {
     "slide_type": "slide"
    }
   },
   "outputs": [
    {
     "data": {
      "text/latex": [
       "$\\displaystyle \\left[\\begin{matrix}1 & 2 & 1\\\\0 & -4 & 1\\\\0 & 0 & -2\\end{matrix}\\right]$"
      ],
      "text/plain": [
       "Matrix([\n",
       "[1,  2,  1],\n",
       "[0, -4,  1],\n",
       "[0,  0, -2]])"
      ]
     },
     "execution_count": 9,
     "metadata": {},
     "output_type": "execute_result"
    }
   ],
   "source": [
    "E3 = Matrix([\n",
    "    [1,0,0],\n",
    "    [0,1,0],\n",
    "    [0,-1,1]\n",
    "])\n",
    "E3 * E2 * E1 * A"
   ]
  },
  {
   "cell_type": "markdown",
   "id": "74ad00df",
   "metadata": {},
   "source": [
    "Let us call this upper triangular matrix resulting from Gauss elimination $U$.\n",
    "\n",
    "$$\n",
    "\\begin{aligned}\n",
    "U &= \\displaystyle \\left[\\begin{matrix}1 & 2 & 1\\\\0 & -4 & 1\\\\0 & 0 & -2\\end{matrix}\\right]\\\\\n",
    "E_3 E_2 E_1 A &= U\n",
    "\\end{aligned}\n",
    "$$\n",
    "\n",
    "Assuming that $E_i$ is invertible (which it is), this entails\n",
    "\n",
    "$$\n",
    "\\begin{aligned}\n",
    "A &= (E_3 E_2 E_1)^{-1} U\n",
    "\\end{aligned}\n",
    "$$"
   ]
  },
  {
   "cell_type": "markdown",
   "id": "d3e6019a",
   "metadata": {
    "slideshow": {
     "slide_type": "slide"
    }
   },
   "source": [
    "### Side remark: inverse of a matrix product\n",
    "\n",
    "- suppose both $A$ and $B$ are invertible. What is $(AB)^{-1}$?\n",
    "\n",
    "$$\n",
    "\\begin{aligned}\n",
    "(AB)^{-1} &= X\\\\\n",
    "XAB &= \\mathbf I\\\\\n",
    "XA &= \\mathbf I B^{-1}\\\\\n",
    " &= B^{-1}\\\\\n",
    " X &= B^{-1}A^{-1}\n",
    "\\end{aligned}\n",
    "$$\n",
    "\n",
    "$$\n",
    "\\Large\n",
    "    (AB)^{-1} = B^{-1}A^{-1}\n",
    "$$"
   ]
  },
  {
   "cell_type": "markdown",
   "id": "08f499c4",
   "metadata": {
    "slideshow": {
     "slide_type": "slide"
    }
   },
   "source": [
    "While we're at it: What is the tanspose of a matrix product?\n",
    "\n",
    "$$\n",
    "\\begin{aligned}\n",
    "(A^TB^T)_{i,j} &= \\sum_k a^T_{ik}b^T_{kj}\\\\\n",
    "    &= \\sum_k a_{ki}b_{jk}\\\\\n",
    "    &= (BA)_{ji}\\\\\n",
    "    &=((BA)^T)_{ij}\n",
    "\\end{aligned}\n",
    "$$\n",
    "\n",
    "Therefore \n",
    "\n",
    "\n",
    "$$\n",
    "\\Large\n",
    "    (AB)^T = B^TA^T\n",
    "$$"
   ]
  },
  {
   "cell_type": "markdown",
   "id": "02689508",
   "metadata": {
    "slideshow": {
     "slide_type": "slide"
    }
   },
   "source": [
    "Still, while we're at it, what is the inverse of an transpose?\n",
    "\n",
    "$$\n",
    "\\begin{aligned}\n",
    "(A^T)^{-1} &= X\\\\\n",
    "A^T X &= \\mathbf I\\\\\n",
    "X^T A &= \\mathbf I\\\\\n",
    "X^T &= A^{-1}\\\\\n",
    "X &= (A^{-1})^T\n",
    "\\end{aligned}\n",
    "$$\n",
    "\n",
    "\n",
    "$$\n",
    "\\Large\n",
    "   (A^T)^{-1}  = (A^{-1})^T\n",
    "$$"
   ]
  },
  {
   "cell_type": "markdown",
   "id": "f88a65ab",
   "metadata": {
    "slideshow": {
     "slide_type": "slide"
    }
   },
   "source": [
    "Back to Gauss elimination.\n",
    "\n",
    "\n",
    "$$\n",
    "\\begin{aligned}\n",
    "A &= (E_3 E_2 E_1)^{-1} U\\\\\n",
    "&= E_1^{-1} E_2^{-1} E_3^{-1} U\n",
    "\\end{aligned}\n",
    "$$"
   ]
  },
  {
   "cell_type": "code",
   "execution_count": 10,
   "id": "c658a676",
   "metadata": {},
   "outputs": [
    {
     "data": {
      "text/latex": [
       "$\\displaystyle \\left[\\begin{matrix}1 & 0 & 0\\\\-3 & 1 & 0\\\\0 & 0 & 1\\end{matrix}\\right]$"
      ],
      "text/plain": [
       "Matrix([\n",
       "[ 1, 0, 0],\n",
       "[-3, 1, 0],\n",
       "[ 0, 0, 1]])"
      ]
     },
     "execution_count": 10,
     "metadata": {},
     "output_type": "execute_result"
    }
   ],
   "source": [
    "E1"
   ]
  },
  {
   "cell_type": "code",
   "execution_count": 11,
   "id": "3191ae34",
   "metadata": {},
   "outputs": [
    {
     "data": {
      "text/latex": [
       "$\\displaystyle \\left[\\begin{matrix}1 & 0 & 0\\\\3 & 1 & 0\\\\0 & 0 & 1\\end{matrix}\\right]$"
      ],
      "text/plain": [
       "Matrix([\n",
       "[1, 0, 0],\n",
       "[3, 1, 0],\n",
       "[0, 0, 1]])"
      ]
     },
     "execution_count": 11,
     "metadata": {},
     "output_type": "execute_result"
    }
   ],
   "source": [
    "E1.inv()"
   ]
  },
  {
   "cell_type": "markdown",
   "id": "fad7754a",
   "metadata": {
    "slideshow": {
     "slide_type": "slide"
    }
   },
   "source": [
    "It is generally true:\n",
    "\n",
    "- If $A$ is equal to $\\mathbf I$ except for one off-diagonal entry, then $A^{-1}$ is like $A$ except that the off-diagonal entry is multiplied with $-1$.\n",
    "    \n",
    "**consequence**: all $E_i^{-1}$ are lower triangular\n",
    "\n",
    "**fact**: The product of two lower-triangular matrices is lower triangular.\n",
    "\n",
    "**consequences**: \n",
    "\n",
    "- There is a lower-triangular matrix $L$ such that \n",
    "\n",
    "$$\n",
    "\\begin{aligned}\n",
    "A &= LU\\\\\n",
    "L &= E_1^{-1} \\cdots E_n^{-1}\n",
    "\\end{aligned}\n",
    "$$\n",
    "where $E_1^{-1}, \\ldots, E_n^{-1}$ are the elimination matrices corresponding to the steps of Gauss elimination."
   ]
  },
  {
   "cell_type": "markdown",
   "id": "8304ffbe",
   "metadata": {
    "slideshow": {
     "slide_type": "slide"
    }
   },
   "source": [
    "Our example:"
   ]
  },
  {
   "cell_type": "code",
   "execution_count": 12,
   "id": "5f9f1b11",
   "metadata": {},
   "outputs": [
    {
     "data": {
      "text/latex": [
       "$\\displaystyle \\left[\\begin{matrix}1 & 0 & 0\\\\3 & 1 & 0\\\\4 & 1 & 1\\end{matrix}\\right]$"
      ],
      "text/plain": [
       "Matrix([\n",
       "[1, 0, 0],\n",
       "[3, 1, 0],\n",
       "[4, 1, 1]])"
      ]
     },
     "execution_count": 12,
     "metadata": {},
     "output_type": "execute_result"
    }
   ],
   "source": [
    "L = E1.inv() * E2.inv() * E3.inv()\n",
    "L"
   ]
  },
  {
   "cell_type": "code",
   "execution_count": 13,
   "id": "ede07c5b",
   "metadata": {},
   "outputs": [
    {
     "data": {
      "text/latex": [
       "$\\displaystyle \\left[\\begin{matrix}1 & 0 & 0\\\\-3 & 1 & 0\\\\0 & 0 & 1\\end{matrix}\\right]$"
      ],
      "text/plain": [
       "Matrix([\n",
       "[ 1, 0, 0],\n",
       "[-3, 1, 0],\n",
       "[ 0, 0, 1]])"
      ]
     },
     "execution_count": 13,
     "metadata": {},
     "output_type": "execute_result"
    }
   ],
   "source": [
    "E1"
   ]
  },
  {
   "cell_type": "markdown",
   "id": "4d2c5e43",
   "metadata": {},
   "source": [
    "$$\n",
    "\\begin{aligned}\n",
    "A &= LU\\\\\n",
    "\\displaystyle \\left[\\begin{matrix}1 & 2 & 1\\\\3 & 2 & 4\\\\4 & 4 & 3\\end{matrix}\\right]\n",
    "&=\n",
    "\\displaystyle \\left[\\begin{matrix}1 & 0 & 0\\\\3 & 1 & 0\\\\4 & 1 & 1\\end{matrix}\\right]\n",
    "\\displaystyle \\left[\\begin{matrix}1 & 2 & 1\\\\0 & -4 & 1\\\\0 & 0 & -2\\end{matrix}\\right]\n",
    "\\end{aligned}\n",
    "$$"
   ]
  },
  {
   "cell_type": "markdown",
   "id": "1323f716",
   "metadata": {},
   "source": [
    "For each matrix $A$, there are \n",
    "- a permutation matrix $P$,\n",
    "- an upper triangular matrix $U$\n",
    "- a lower triangular matrix $L$,\n",
    "such that \n",
    "\n",
    "$$\n",
    "PA = LU\n",
    "$$"
   ]
  },
  {
   "cell_type": "markdown",
   "id": "8f122ecd",
   "metadata": {
    "slideshow": {
     "slide_type": "slide"
    }
   },
   "source": [
    "## When is a matrix invertible?\n",
    "\n",
    "The steps of Jordan elimination to not alter the diagonal. Hence, if, after Gauss elimination, we have no zeros on the diagonal, the rest of Gauss-Jordan will go throug and we will find the inverse matrix.\n",
    "\n",
    "Conversely, this means:\n",
    "\n",
    "**A square matrix is invertible if and only if Gauss elimination produces an upper triangular matrix with only non-zero entries on the diagonal.**"
   ]
  },
  {
   "cell_type": "markdown",
   "id": "c6ed62ab",
   "metadata": {},
   "source": [
    "Example of a non-invertible matrix:"
   ]
  },
  {
   "cell_type": "code",
   "execution_count": 14,
   "id": "04572b84",
   "metadata": {},
   "outputs": [
    {
     "data": {
      "text/latex": [
       "$\\displaystyle \\left[\\begin{matrix}1 & -4 & 2\\\\-2 & 1 & 3\\\\2 & 6 & -10\\end{matrix}\\right]$"
      ],
      "text/plain": [
       "Matrix([\n",
       "[ 1, -4,   2],\n",
       "[-2,  1,   3],\n",
       "[ 2,  6, -10]])"
      ]
     },
     "execution_count": 14,
     "metadata": {},
     "output_type": "execute_result"
    }
   ],
   "source": [
    "B = Matrix(\n",
    "[\n",
    "    [1, -4, 2],\n",
    "    [-2, 1, 3],\n",
    "    [2,6,-10]\n",
    "])\n",
    "B"
   ]
  },
  {
   "cell_type": "code",
   "execution_count": 15,
   "id": "d82ef347",
   "metadata": {
    "slideshow": {
     "slide_type": "slide"
    }
   },
   "outputs": [
    {
     "data": {
      "text/latex": [
       "$\\displaystyle \\left[\\begin{matrix}1 & -4 & 2\\\\0 & -7 & 7\\\\2 & 6 & -10\\end{matrix}\\right]$"
      ],
      "text/plain": [
       "Matrix([\n",
       "[1, -4,   2],\n",
       "[0, -7,   7],\n",
       "[2,  6, -10]])"
      ]
     },
     "execution_count": 15,
     "metadata": {},
     "output_type": "execute_result"
    }
   ],
   "source": [
    "E1 = Matrix([\n",
    "    [1,0,0],\n",
    "    [2,1,0],\n",
    "    [0,0,1]\n",
    "])\n",
    "E1 * B"
   ]
  },
  {
   "cell_type": "code",
   "execution_count": 16,
   "id": "4ba57776",
   "metadata": {},
   "outputs": [
    {
     "data": {
      "text/latex": [
       "$\\displaystyle \\left[\\begin{matrix}1 & -4 & 2\\\\0 & -7 & 7\\\\0 & 14 & -14\\end{matrix}\\right]$"
      ],
      "text/plain": [
       "Matrix([\n",
       "[1, -4,   2],\n",
       "[0, -7,   7],\n",
       "[0, 14, -14]])"
      ]
     },
     "execution_count": 16,
     "metadata": {},
     "output_type": "execute_result"
    }
   ],
   "source": [
    "E2 = Matrix([\n",
    "    [1,0,0],\n",
    "    [0,1,0],\n",
    "    [-2,0,1]\n",
    "])\n",
    "E2 * E1 * B"
   ]
  },
  {
   "cell_type": "code",
   "execution_count": 17,
   "id": "78896d9f",
   "metadata": {},
   "outputs": [
    {
     "data": {
      "text/latex": [
       "$\\displaystyle \\left[\\begin{matrix}1 & -4 & 2\\\\0 & -7 & 7\\\\0 & 0 & 0\\end{matrix}\\right]$"
      ],
      "text/plain": [
       "Matrix([\n",
       "[1, -4, 2],\n",
       "[0, -7, 7],\n",
       "[0,  0, 0]])"
      ]
     },
     "execution_count": 17,
     "metadata": {},
     "output_type": "execute_result"
    }
   ],
   "source": [
    "E3 = Matrix([\n",
    "    [1,0,0],\n",
    "    [0,1,0],\n",
    "    [0,2,1]\n",
    "])\n",
    "E3 * E2 * E1 * B"
   ]
  },
  {
   "cell_type": "markdown",
   "id": "1a3209fb",
   "metadata": {
    "slideshow": {
     "slide_type": "slide"
    }
   },
   "source": [
    "We have a $0$ on the diagonal, therefore $B$ is not invertible.\n",
    "\n",
    "LU decomposition also works for non-invertible matrices though."
   ]
  },
  {
   "cell_type": "code",
   "execution_count": 18,
   "id": "e47ad185",
   "metadata": {},
   "outputs": [
    {
     "data": {
      "text/latex": [
       "$\\displaystyle \\left[\\begin{matrix}1 & -4 & 2\\\\0 & -7 & 7\\\\0 & 0 & 0\\end{matrix}\\right]$"
      ],
      "text/plain": [
       "Matrix([\n",
       "[1, -4, 2],\n",
       "[0, -7, 7],\n",
       "[0,  0, 0]])"
      ]
     },
     "execution_count": 18,
     "metadata": {},
     "output_type": "execute_result"
    }
   ],
   "source": [
    "U = E3 * E2 * E1 * B\n",
    "U"
   ]
  },
  {
   "cell_type": "code",
   "execution_count": 19,
   "id": "bfd2037c",
   "metadata": {},
   "outputs": [
    {
     "data": {
      "text/latex": [
       "$\\displaystyle \\left[\\begin{matrix}1 & 0 & 0\\\\-2 & 1 & 0\\\\2 & -2 & 1\\end{matrix}\\right]$"
      ],
      "text/plain": [
       "Matrix([\n",
       "[ 1,  0, 0],\n",
       "[-2,  1, 0],\n",
       "[ 2, -2, 1]])"
      ]
     },
     "execution_count": 19,
     "metadata": {},
     "output_type": "execute_result"
    }
   ],
   "source": [
    "L = E1.inv() * E2.inv() * E3.inv()\n",
    "L"
   ]
  },
  {
   "cell_type": "code",
   "execution_count": 20,
   "id": "50fcf0a4",
   "metadata": {},
   "outputs": [
    {
     "data": {
      "text/latex": [
       "$\\displaystyle \\left[\\begin{matrix}1 & -4 & 2\\\\-2 & 1 & 3\\\\2 & 6 & -10\\end{matrix}\\right]$"
      ],
      "text/plain": [
       "Matrix([\n",
       "[ 1, -4,   2],\n",
       "[-2,  1,   3],\n",
       "[ 2,  6, -10]])"
      ]
     },
     "execution_count": 20,
     "metadata": {},
     "output_type": "execute_result"
    }
   ],
   "source": [
    "L * U"
   ]
  },
  {
   "cell_type": "markdown",
   "id": "9bd7d5d7",
   "metadata": {
    "slideshow": {
     "slide_type": "slide"
    }
   },
   "source": [
    "## LDU decomposition\n",
    "\n",
    "L is a lower triangular matrix with all-$1$ on the diagonal\n",
    "\n",
    "We can factorize U further into a *diagonal matrix* and an upper triangular matrix which also has all-$1$ on the diagonal.\n",
    "\n",
    "$$\n",
    "A = LDU'\n",
    "$$\n",
    "\n",
    "- if $u_{ii}\\neq 0$, we set $d_{ii} = u_{ii}$ and divide the $i$th row of U by this value\n",
    "- if $u_{ii}= 0$ we set $d_{ii}=0$ and $u'_{ii} = 1$."
   ]
  },
  {
   "cell_type": "markdown",
   "id": "3c0db43c",
   "metadata": {},
   "source": [
    "$$\n",
    "\\begin{aligned}\n",
    "\\left[\\begin{matrix}1 & -4 & 2\\\\-2 & 1 & 3\\\\2 & 6 & -10\\end{matrix}\\right]\n",
    "&=\n",
    "\\left[\\begin{matrix}1 & 0 & 0\\\\-2 & 1 & 0\\\\2 & -2 & 1\\end{matrix}\\right]\n",
    "\\left[\\begin{matrix}1 & -4 & 2\\\\0 & -7 & 7\\\\0 & 0 & 0\\end{matrix}\\right]\\\\[1em]\n",
    "&=\\left[\\begin{matrix}1 & 0 & 0\\\\-2 & 1 & 0\\\\2 & -2 & 1\\end{matrix}\\right]\n",
    "\\left[\\begin{matrix}1 & 0 & 0\\\\0 & -7 & 0\\\\0 & 0 & 0\\end{matrix}\\right]\n",
    "\\left[\\begin{matrix}1 & -4 & 2\\\\0 & 1 & -1\\\\0 & 0 & 1\\end{matrix}\\right]\n",
    "\\end{aligned}\n",
    "$$"
   ]
  },
  {
   "cell_type": "markdown",
   "id": "edebc4aa",
   "metadata": {
    "slideshow": {
     "slide_type": "slide"
    }
   },
   "source": [
    "### LU decomposition in SymPy"
   ]
  },
  {
   "cell_type": "code",
   "execution_count": 21,
   "id": "21c42330",
   "metadata": {},
   "outputs": [
    {
     "data": {
      "text/latex": [
       "$\\displaystyle \\left[\\begin{matrix}1 & -4 & 2\\\\-2 & 1 & 3\\\\2 & 6 & -10\\end{matrix}\\right]$"
      ],
      "text/plain": [
       "Matrix([\n",
       "[ 1, -4,   2],\n",
       "[-2,  1,   3],\n",
       "[ 2,  6, -10]])"
      ]
     },
     "execution_count": 21,
     "metadata": {},
     "output_type": "execute_result"
    }
   ],
   "source": [
    "B"
   ]
  },
  {
   "cell_type": "code",
   "execution_count": 22,
   "id": "1bcef638",
   "metadata": {},
   "outputs": [],
   "source": [
    "l,u,p = B.LUdecomposition()"
   ]
  },
  {
   "cell_type": "code",
   "execution_count": 23,
   "id": "64af17e2",
   "metadata": {},
   "outputs": [
    {
     "data": {
      "text/latex": [
       "$\\displaystyle \\left[\\begin{matrix}1 & 0 & 0\\\\-2 & 1 & 0\\\\2 & -2 & 1\\end{matrix}\\right]$"
      ],
      "text/plain": [
       "Matrix([\n",
       "[ 1,  0, 0],\n",
       "[-2,  1, 0],\n",
       "[ 2, -2, 1]])"
      ]
     },
     "execution_count": 23,
     "metadata": {},
     "output_type": "execute_result"
    }
   ],
   "source": [
    "l"
   ]
  },
  {
   "cell_type": "code",
   "execution_count": 24,
   "id": "d5751332",
   "metadata": {},
   "outputs": [
    {
     "data": {
      "text/latex": [
       "$\\displaystyle \\left[\\begin{matrix}1 & -4 & 2\\\\0 & -7 & 7\\\\0 & 0 & 0\\end{matrix}\\right]$"
      ],
      "text/plain": [
       "Matrix([\n",
       "[1, -4, 2],\n",
       "[0, -7, 7],\n",
       "[0,  0, 0]])"
      ]
     },
     "execution_count": 24,
     "metadata": {},
     "output_type": "execute_result"
    }
   ],
   "source": [
    "u"
   ]
  },
  {
   "cell_type": "code",
   "execution_count": 25,
   "id": "661f1665",
   "metadata": {
    "slideshow": {
     "slide_type": "slide"
    }
   },
   "outputs": [
    {
     "data": {
      "text/plain": [
       "[]"
      ]
     },
     "execution_count": 25,
     "metadata": {},
     "output_type": "execute_result"
    }
   ],
   "source": [
    "p"
   ]
  },
  {
   "cell_type": "markdown",
   "id": "960a12b0",
   "metadata": {},
   "source": [
    "The third component, `p`, contains the permutation required to ensure the success of LU decomposition.\n",
    "\n",
    "Back to our old example:"
   ]
  },
  {
   "cell_type": "code",
   "execution_count": 26,
   "id": "f28eba62",
   "metadata": {},
   "outputs": [
    {
     "data": {
      "text/latex": [
       "$\\displaystyle \\left[\\begin{matrix}1 & 4 & 5\\\\4 & 16 & 6\\\\5 & 6 & 3\\end{matrix}\\right]$"
      ],
      "text/plain": [
       "Matrix([\n",
       "[1,  4, 5],\n",
       "[4, 16, 6],\n",
       "[5,  6, 3]])"
      ]
     },
     "execution_count": 26,
     "metadata": {},
     "output_type": "execute_result"
    }
   ],
   "source": [
    "A = Matrix([\n",
    "    [1,4,5],\n",
    "    [4,16,6],\n",
    "    [5,6,3]\n",
    "])\n",
    "A"
   ]
  },
  {
   "cell_type": "code",
   "execution_count": 27,
   "id": "d994526f",
   "metadata": {},
   "outputs": [],
   "source": [
    "l,u,p = A.LUdecomposition()"
   ]
  },
  {
   "cell_type": "code",
   "execution_count": 28,
   "id": "2aa566e3",
   "metadata": {},
   "outputs": [
    {
     "data": {
      "text/latex": [
       "$\\displaystyle \\left[\\begin{matrix}1 & 0 & 0\\\\5 & 1 & 0\\\\4 & 0 & 1\\end{matrix}\\right]$"
      ],
      "text/plain": [
       "Matrix([\n",
       "[1, 0, 0],\n",
       "[5, 1, 0],\n",
       "[4, 0, 1]])"
      ]
     },
     "execution_count": 28,
     "metadata": {},
     "output_type": "execute_result"
    }
   ],
   "source": [
    "l"
   ]
  },
  {
   "cell_type": "code",
   "execution_count": 29,
   "id": "624e42f2",
   "metadata": {},
   "outputs": [
    {
     "data": {
      "text/latex": [
       "$\\displaystyle \\left[\\begin{matrix}1 & 4 & 5\\\\0 & -14 & -22\\\\0 & 0 & -14\\end{matrix}\\right]$"
      ],
      "text/plain": [
       "Matrix([\n",
       "[1,   4,   5],\n",
       "[0, -14, -22],\n",
       "[0,   0, -14]])"
      ]
     },
     "execution_count": 29,
     "metadata": {},
     "output_type": "execute_result"
    }
   ],
   "source": [
    "u"
   ]
  },
  {
   "cell_type": "code",
   "execution_count": 30,
   "id": "6e7b38f6",
   "metadata": {},
   "outputs": [
    {
     "data": {
      "text/plain": [
       "[[1, 2]]"
      ]
     },
     "execution_count": 30,
     "metadata": {},
     "output_type": "execute_result"
    }
   ],
   "source": [
    "p"
   ]
  },
  {
   "cell_type": "markdown",
   "id": "f978b8e5",
   "metadata": {
    "slideshow": {
     "slide_type": "slide"
    }
   },
   "source": [
    "### LU decomposition with numpy arrays"
   ]
  },
  {
   "cell_type": "code",
   "execution_count": 31,
   "id": "93209f16",
   "metadata": {},
   "outputs": [],
   "source": [
    "import numpy as np\n",
    "from scipy.linalg import lu"
   ]
  },
  {
   "cell_type": "code",
   "execution_count": 32,
   "id": "7b6362a6",
   "metadata": {},
   "outputs": [
    {
     "data": {
      "text/plain": [
       "array([[ 1,  4,  5],\n",
       "       [ 4, 16,  6],\n",
       "       [ 5,  6,  3]])"
      ]
     },
     "execution_count": 32,
     "metadata": {},
     "output_type": "execute_result"
    }
   ],
   "source": [
    "A = np.array([\n",
    "    [1,4,5],\n",
    "    [4,16,6],\n",
    "    [5,6,3]\n",
    "])\n",
    "A"
   ]
  },
  {
   "cell_type": "code",
   "execution_count": 33,
   "id": "7fe92be9",
   "metadata": {},
   "outputs": [],
   "source": [
    "p,l,u = lu(A)"
   ]
  },
  {
   "cell_type": "code",
   "execution_count": 34,
   "id": "300b1708",
   "metadata": {
    "slideshow": {
     "slide_type": "slide"
    }
   },
   "outputs": [
    {
     "data": {
      "text/plain": [
       "array([[0., 0., 1.],\n",
       "       [0., 1., 0.],\n",
       "       [1., 0., 0.]])"
      ]
     },
     "execution_count": 34,
     "metadata": {},
     "output_type": "execute_result"
    }
   ],
   "source": [
    "p"
   ]
  },
  {
   "cell_type": "code",
   "execution_count": 35,
   "id": "ef92574b",
   "metadata": {},
   "outputs": [
    {
     "data": {
      "text/plain": [
       "array([[1.  , 0.  , 0.  ],\n",
       "       [0.8 , 1.  , 0.  ],\n",
       "       [0.2 , 0.25, 1.  ]])"
      ]
     },
     "execution_count": 35,
     "metadata": {},
     "output_type": "execute_result"
    }
   ],
   "source": [
    "l"
   ]
  },
  {
   "cell_type": "code",
   "execution_count": 36,
   "id": "cea5e163",
   "metadata": {},
   "outputs": [
    {
     "data": {
      "text/plain": [
       "array([[ 5. ,  6. ,  3. ],\n",
       "       [ 0. , 11.2,  3.6],\n",
       "       [ 0. ,  0. ,  3.5]])"
      ]
     },
     "execution_count": 36,
     "metadata": {},
     "output_type": "execute_result"
    }
   ],
   "source": [
    "u"
   ]
  },
  {
   "cell_type": "code",
   "execution_count": 37,
   "id": "de582d4f",
   "metadata": {},
   "outputs": [
    {
     "data": {
      "text/plain": [
       "array([[ 1.,  4.,  5.],\n",
       "       [ 4., 16.,  6.],\n",
       "       [ 5.,  6.,  3.]])"
      ]
     },
     "execution_count": 37,
     "metadata": {},
     "output_type": "execute_result"
    }
   ],
   "source": [
    " p @ l @ u"
   ]
  },
  {
   "cell_type": "markdown",
   "id": "64e0f4bb",
   "metadata": {
    "slideshow": {
     "slide_type": "slide"
    }
   },
   "source": [
    "### Why should we bother about LU decomposition?\n",
    "\n",
    "In numerical linear algebra, doing the LU decomposition once often saves a lot of computing time further down the road.\n",
    "\n",
    "E.g., suppose we have done the LU decomposition of some matrix A.\n",
    "\n",
    "$$\n",
    "\\begin{aligned}\n",
    "A &= \\left[\\begin{array}{r}1 & 2 & 1\\\\3 & 2 & 4\\\\4 & 4 & 3\\end{array}\\right]\\\\[1em]\n",
    "L &= \\left[\\begin{array}{r}1 & 0 & 0\\\\3 & 1 & 0\\\\4 & 1 & 1\\end{array}\\right]\\\\[1em]\n",
    "U &= \\left[\\begin{array}{r}1 & 2 & 1\\\\0 & -4 & 1\\\\0 & 0 & -2\\end{array}\\right]\n",
    "\\end{aligned}\n",
    "$$"
   ]
  },
  {
   "cell_type": "markdown",
   "id": "646d23c2",
   "metadata": {
    "slideshow": {
     "slide_type": "slide"
    }
   },
   "source": [
    "Now suppose you (or rather: the computer) are/is asked to solve the linear system\n",
    "\n",
    "$$\n",
    "A\\begin{bmatrix}x\\\\y\\\\z\\end{bmatrix} = \\begin{bmatrix}1\\\\1\\\\0\\end{bmatrix}\n",
    "$$\n",
    "\n",
    "Mathematically, an obvious way is\n",
    "\n",
    "$$\n",
    "\\begin{aligned}\n",
    "\\begin{bmatrix}x\\\\y\\\\z\\end{bmatrix} &= A^{-1}\\begin{bmatrix}1\\\\1\\\\0\\end{bmatrix}\\\\[1em]\n",
    "&= U^{-1}L^{-1}\\begin{bmatrix}1\\\\1\\\\0\\end{bmatrix}\n",
    "\\end{aligned}\n",
    "$$"
   ]
  },
  {
   "cell_type": "markdown",
   "id": "bf270c83",
   "metadata": {
    "slideshow": {
     "slide_type": "slide"
    }
   },
   "source": [
    "This requires us to find the inverses of L and U. However, a more efficient way is the following:\n",
    "\n",
    "$$\n",
    "\\begin{aligned}\n",
    "L\n",
    "\\begin{bmatrix}\n",
    "w\\\\u\\\\v\n",
    "\\end{bmatrix} &= \\begin{bmatrix}1\\\\1\\\\0\\end{bmatrix}\\\\[1em]\n",
    "U\\begin{bmatrix}x\\\\y\\\\z\\end{bmatrix} &= \\begin{bmatrix}\n",
    "w\\\\u\\\\v\n",
    "\\end{bmatrix}\n",
    "\\end{aligned}\n",
    "$$"
   ]
  },
  {
   "cell_type": "markdown",
   "id": "0c52b57d",
   "metadata": {
    "slideshow": {
     "slide_type": "slide"
    }
   },
   "source": [
    "Reason: We can solve these systems via **substitution**, without elimination.\n",
    "    \n",
    "$$\n",
    "\\begin{aligned}\n",
    "\\left[\\begin{array}{r}\n",
    "1 & 0 & 0\n",
    "\\\\3 & 1 & 0\n",
    "\\\\4 & 1 & 1\n",
    "\\end{array}\\right]\n",
    "\\begin{bmatrix}\n",
    "w\\\\u\\\\v\n",
    "\\end{bmatrix}\n",
    "&= \\begin{bmatrix}1\\\\1\\\\0\\end{bmatrix}\\\\[1em]\n",
    "\\end{aligned}\n",
    "$$\n",
    "\n",
    "In non-matrix notation:\n",
    "\n",
    "$$\n",
    "\\begin{aligned}\n",
    "w & & &= 1\\\\\n",
    "3w &+ u &&= 1\\\\\n",
    "4w &+u &+v &= 0\n",
    "\\end{aligned}\n",
    "$$\n",
    "\n",
    "- substituting $w$:\n",
    "\n",
    "$$\n",
    "\\begin{aligned}\n",
    "3\\cdot 1 &+ u &&= 1\\\\\n",
    "4\\cdot 1 &+u &+v &= 0\n",
    "\\end{aligned}\n",
    "$$\n",
    "\n",
    "- constants to the left-hand side\n",
    "\n",
    "$$\n",
    "\\begin{aligned}\n",
    " u &&= -2\\\\\n",
    "u &+v &= -4\n",
    "\\end{aligned}\n",
    "$$"
   ]
  },
  {
   "cell_type": "code",
   "execution_count": 38,
   "id": "764bd3c2",
   "metadata": {
    "slideshow": {
     "slide_type": "slide"
    }
   },
   "outputs": [],
   "source": [
    "A = Matrix([\n",
    "    [1,4,5],\n",
    "    [4,16,6],\n",
    "    [5,6,3]\n",
    "])"
   ]
  },
  {
   "cell_type": "code",
   "execution_count": 39,
   "id": "a1acc721",
   "metadata": {},
   "outputs": [],
   "source": [
    "l,u,p = A.LUdecomposition()"
   ]
  },
  {
   "cell_type": "code",
   "execution_count": 40,
   "id": "e11072f8",
   "metadata": {},
   "outputs": [
    {
     "data": {
      "text/latex": [
       "$\\displaystyle \\left[\\begin{matrix}1 & 0 & 0\\\\5 & 1 & 0\\\\4 & 0 & 1\\end{matrix}\\right]$"
      ],
      "text/plain": [
       "Matrix([\n",
       "[1, 0, 0],\n",
       "[5, 1, 0],\n",
       "[4, 0, 1]])"
      ]
     },
     "execution_count": 40,
     "metadata": {},
     "output_type": "execute_result"
    }
   ],
   "source": [
    "l"
   ]
  },
  {
   "cell_type": "code",
   "execution_count": 41,
   "id": "bce52685",
   "metadata": {},
   "outputs": [
    {
     "data": {
      "text/latex": [
       "$\\displaystyle \\left[\\begin{matrix}1 & 4 & 5\\\\0 & -14 & -22\\\\0 & 0 & -14\\end{matrix}\\right]$"
      ],
      "text/plain": [
       "Matrix([\n",
       "[1,   4,   5],\n",
       "[0, -14, -22],\n",
       "[0,   0, -14]])"
      ]
     },
     "execution_count": 41,
     "metadata": {},
     "output_type": "execute_result"
    }
   ],
   "source": [
    "u"
   ]
  },
  {
   "cell_type": "markdown",
   "id": "3c78b1ec",
   "metadata": {
    "slideshow": {
     "slide_type": "slide"
    }
   },
   "source": [
    "- same with $v$\n",
    "\n",
    "$$\n",
    "\\begin{aligned}\n",
    "-2 &+v &= -4\\\\\n",
    "&v&= -2\\\\[1em]\n",
    "\\begin{bmatrix}w\\\\u\\\\v\\end{bmatrix} &= \n",
    "\\begin{bmatrix}\n",
    "1\\\\-2\\\\-2\n",
    "\\end{bmatrix}\n",
    "\\end{aligned}\n",
    "$$"
   ]
  },
  {
   "cell_type": "code",
   "execution_count": 42,
   "id": "00a712c9",
   "metadata": {},
   "outputs": [
    {
     "data": {
      "text/latex": [
       "$\\displaystyle \\left[\\begin{matrix}\\frac{30}{49}\\\\- \\frac{4}{49}\\\\\\frac{1}{7}\\end{matrix}\\right]$"
      ],
      "text/plain": [
       "Matrix([\n",
       "[30/49],\n",
       "[-4/49],\n",
       "[  1/7]])"
      ]
     },
     "execution_count": 42,
     "metadata": {},
     "output_type": "execute_result"
    }
   ],
   "source": [
    "u.inv() * Matrix([1,-2,-2])"
   ]
  },
  {
   "cell_type": "markdown",
   "id": "2293fd4d",
   "metadata": {
    "slideshow": {
     "slide_type": "slide"
    }
   },
   "source": [
    "next system of equations.\n",
    "\n",
    "$$\n",
    "\\left[\\begin{array}{r}1 & 2 & 1\\\\0 & -4 & 1\\\\0 & 0 & -2\\end{array}\\right]\n",
    "\\begin{bmatrix}\n",
    "x\\\\y\\\\z\n",
    "\\end{bmatrix} = \n",
    "\\begin{bmatrix}\n",
    "1\\\\-2\\\\-2\n",
    "\\end{bmatrix}\\\\[1em]\n",
    "$$\n",
    "\n",
    "$$\n",
    "\\begin{aligned}\n",
    "&z &&= 1\\\\\\hline\n",
    "x & +2y  &&= 0\\\\\n",
    "  & -4y &+ z& = -3\\\\\\hline\n",
    "  y &&&= \\frac{3}{4}\\\\\\hline\n",
    "  x &&&=-\\frac{3}{2}\\\\\\hline\n",
    "\\end{aligned}\n",
    "$$\n",
    "\n",
    "$$\n",
    "\\begin{aligned}\n",
    "   \\begin{bmatrix}\n",
    "   x\\\\y\\\\z\n",
    "   \\end{bmatrix} \n",
    "   &= \n",
    "   \\left[\n",
    "   \\begin{array}{r}\n",
    "   -\\frac{3}{2}\\\\\n",
    "   \\frac{3}{4}\\\\\n",
    "   1\n",
    "   \\end{array}\\right]\n",
    "\\end{aligned}\n",
    "$$"
   ]
  },
  {
   "cell_type": "markdown",
   "id": "cac2c43b",
   "metadata": {
    "slideshow": {
     "slide_type": "slide"
    }
   },
   "source": [
    "## Symmetric matrices\n",
    "\n",
    "- symmetric matrices are square matrices $S$ with the property that\n",
    "\n",
    "$$\n",
    "S = S^T\n",
    "$$\n",
    "\n",
    "- if there is an LDU decomposition for a symmetric matrix $S$, then\n",
    "\n",
    "$$\n",
    "\\begin{aligned}\n",
    "S &= LDU\\\\\n",
    "L &= U^T\n",
    "\\end{aligned}\n",
    "$$\n",
    "\n",
    "- in other words, a symmetric matrix $S$ can be decomposed as\n",
    "$$\n",
    "S = LDL^T\n",
    "$$\n",
    "\n",
    "- if row permutation is required, it has to be accompanied by column permutation to preserve symmetry"
   ]
  },
  {
   "cell_type": "markdown",
   "id": "3ff889d1",
   "metadata": {
    "slideshow": {
     "slide_type": "slide"
    }
   },
   "source": [
    "### example\n",
    "\n"
   ]
  },
  {
   "cell_type": "code",
   "execution_count": 43,
   "id": "55a82bfd",
   "metadata": {},
   "outputs": [
    {
     "data": {
      "text/latex": [
       "$\\displaystyle \\left[\\begin{matrix}0 & 1 & 2\\\\1 & -1 & 1\\\\2 & 1 & 3\\end{matrix}\\right]$"
      ],
      "text/plain": [
       "Matrix([\n",
       "[0,  1, 2],\n",
       "[1, -1, 1],\n",
       "[2,  1, 3]])"
      ]
     },
     "execution_count": 43,
     "metadata": {},
     "output_type": "execute_result"
    }
   ],
   "source": [
    "S = Matrix([\n",
    "    [0, 1, 2],\n",
    "    [1, -1, 1],\n",
    "    [2, 1, 3]\n",
    "])\n",
    "S"
   ]
  },
  {
   "cell_type": "markdown",
   "id": "a5fb456f",
   "metadata": {},
   "source": [
    "- permutation matrix"
   ]
  },
  {
   "cell_type": "code",
   "execution_count": 44,
   "id": "9c2d414f",
   "metadata": {},
   "outputs": [
    {
     "data": {
      "text/latex": [
       "$\\displaystyle \\left[\\begin{matrix}0 & 0 & 1\\\\0 & 1 & 0\\\\1 & 0 & 0\\end{matrix}\\right]$"
      ],
      "text/plain": [
       "Matrix([\n",
       "[0, 0, 1],\n",
       "[0, 1, 0],\n",
       "[1, 0, 0]])"
      ]
     },
     "execution_count": 44,
     "metadata": {},
     "output_type": "execute_result"
    }
   ],
   "source": [
    "P = Matrix([\n",
    "    [0,0,1],\n",
    "    [0,1,0],\n",
    "    [1,0,0]\n",
    "])\n",
    "P"
   ]
  },
  {
   "cell_type": "code",
   "execution_count": 45,
   "id": "54e33533",
   "metadata": {},
   "outputs": [
    {
     "data": {
      "text/latex": [
       "$\\displaystyle \\left[\\begin{matrix}3 & 1 & 2\\\\1 & -1 & 1\\\\2 & 1 & 0\\end{matrix}\\right]$"
      ],
      "text/plain": [
       "Matrix([\n",
       "[3,  1, 2],\n",
       "[1, -1, 1],\n",
       "[2,  1, 0]])"
      ]
     },
     "execution_count": 45,
     "metadata": {},
     "output_type": "execute_result"
    }
   ],
   "source": [
    "S1 = P * S * P.T\n",
    "S1"
   ]
  },
  {
   "cell_type": "markdown",
   "id": "24c26325",
   "metadata": {
    "slideshow": {
     "slide_type": "slide"
    }
   },
   "source": [
    "$$\n",
    "\\begin{aligned}\n",
    "    L &= \\left[\\begin{matrix}1 & 0 & 0\\\\\\frac{1}{3} & 1 & 0\\\\\\frac{2}{3} & - \\frac{1}{4} & 1\\end{matrix}\\right]\\\\[1em]\n",
    "    D &= \\begin{bmatrix}\n",
    "    3 & 0 & 0\\\\\n",
    "    0 & -\\frac{4}{3} & 0\\\\\n",
    "    0 & 0 & -\\frac{5}{4}\n",
    "    \\end{bmatrix}\\\\\n",
    "    PSP^T &= L D L^T\n",
    "\\end{aligned}\n",
    "$$\n"
   ]
  },
  {
   "cell_type": "markdown",
   "id": "c775d14d",
   "metadata": {
    "slideshow": {
     "slide_type": "slide"
    }
   },
   "source": [
    "### Cholesky decomposition\n",
    "\n",
    "Let us consider the so-called **quadratic form** of $S$:\n",
    "\n",
    "$$\n",
    "\\mathbf x' S \\mathbf x\n",
    "$$\n",
    "\n",
    "This function assigns each vector $\\mathbf x$ to some real number – something like a high-dimensional parabola.\n",
    "\n",
    "Example:"
   ]
  },
  {
   "cell_type": "code",
   "execution_count": 46,
   "id": "d925193a",
   "metadata": {},
   "outputs": [
    {
     "data": {
      "text/latex": [
       "$\\displaystyle \\left[\\begin{matrix}3 & 1\\\\1 & -1\\end{matrix}\\right]$"
      ],
      "text/plain": [
       "Matrix([\n",
       "[3,  1],\n",
       "[1, -1]])"
      ]
     },
     "execution_count": 46,
     "metadata": {},
     "output_type": "execute_result"
    }
   ],
   "source": [
    "S = Matrix([\n",
    "    [3, 1],\n",
    "    [1, -1]\n",
    "])\n",
    "S"
   ]
  },
  {
   "cell_type": "code",
   "execution_count": 47,
   "id": "2ed17dc9",
   "metadata": {
    "hide_input": true,
    "slideshow": {
     "slide_type": "slide"
    }
   },
   "outputs": [
    {
     "data": {
      "application/javascript": [
       "/* Put everything inside the global mpl namespace */\n",
       "/* global mpl */\n",
       "window.mpl = {};\n",
       "\n",
       "mpl.get_websocket_type = function () {\n",
       "    if (typeof WebSocket !== 'undefined') {\n",
       "        return WebSocket;\n",
       "    } else if (typeof MozWebSocket !== 'undefined') {\n",
       "        return MozWebSocket;\n",
       "    } else {\n",
       "        alert(\n",
       "            'Your browser does not have WebSocket support. ' +\n",
       "                'Please try Chrome, Safari or Firefox ≥ 6. ' +\n",
       "                'Firefox 4 and 5 are also supported but you ' +\n",
       "                'have to enable WebSockets in about:config.'\n",
       "        );\n",
       "    }\n",
       "};\n",
       "\n",
       "mpl.figure = function (figure_id, websocket, ondownload, parent_element) {\n",
       "    this.id = figure_id;\n",
       "\n",
       "    this.ws = websocket;\n",
       "\n",
       "    this.supports_binary = this.ws.binaryType !== undefined;\n",
       "\n",
       "    if (!this.supports_binary) {\n",
       "        var warnings = document.getElementById('mpl-warnings');\n",
       "        if (warnings) {\n",
       "            warnings.style.display = 'block';\n",
       "            warnings.textContent =\n",
       "                'This browser does not support binary websocket messages. ' +\n",
       "                'Performance may be slow.';\n",
       "        }\n",
       "    }\n",
       "\n",
       "    this.imageObj = new Image();\n",
       "\n",
       "    this.context = undefined;\n",
       "    this.message = undefined;\n",
       "    this.canvas = undefined;\n",
       "    this.rubberband_canvas = undefined;\n",
       "    this.rubberband_context = undefined;\n",
       "    this.format_dropdown = undefined;\n",
       "\n",
       "    this.image_mode = 'full';\n",
       "\n",
       "    this.root = document.createElement('div');\n",
       "    this.root.setAttribute('style', 'display: inline-block');\n",
       "    this._root_extra_style(this.root);\n",
       "\n",
       "    parent_element.appendChild(this.root);\n",
       "\n",
       "    this._init_header(this);\n",
       "    this._init_canvas(this);\n",
       "    this._init_toolbar(this);\n",
       "\n",
       "    var fig = this;\n",
       "\n",
       "    this.waiting = false;\n",
       "\n",
       "    this.ws.onopen = function () {\n",
       "        fig.send_message('supports_binary', { value: fig.supports_binary });\n",
       "        fig.send_message('send_image_mode', {});\n",
       "        if (fig.ratio !== 1) {\n",
       "            fig.send_message('set_device_pixel_ratio', {\n",
       "                device_pixel_ratio: fig.ratio,\n",
       "            });\n",
       "        }\n",
       "        fig.send_message('refresh', {});\n",
       "    };\n",
       "\n",
       "    this.imageObj.onload = function () {\n",
       "        if (fig.image_mode === 'full') {\n",
       "            // Full images could contain transparency (where diff images\n",
       "            // almost always do), so we need to clear the canvas so that\n",
       "            // there is no ghosting.\n",
       "            fig.context.clearRect(0, 0, fig.canvas.width, fig.canvas.height);\n",
       "        }\n",
       "        fig.context.drawImage(fig.imageObj, 0, 0);\n",
       "    };\n",
       "\n",
       "    this.imageObj.onunload = function () {\n",
       "        fig.ws.close();\n",
       "    };\n",
       "\n",
       "    this.ws.onmessage = this._make_on_message_function(this);\n",
       "\n",
       "    this.ondownload = ondownload;\n",
       "};\n",
       "\n",
       "mpl.figure.prototype._init_header = function () {\n",
       "    var titlebar = document.createElement('div');\n",
       "    titlebar.classList =\n",
       "        'ui-dialog-titlebar ui-widget-header ui-corner-all ui-helper-clearfix';\n",
       "    var titletext = document.createElement('div');\n",
       "    titletext.classList = 'ui-dialog-title';\n",
       "    titletext.setAttribute(\n",
       "        'style',\n",
       "        'width: 100%; text-align: center; padding: 3px;'\n",
       "    );\n",
       "    titlebar.appendChild(titletext);\n",
       "    this.root.appendChild(titlebar);\n",
       "    this.header = titletext;\n",
       "};\n",
       "\n",
       "mpl.figure.prototype._canvas_extra_style = function (_canvas_div) {};\n",
       "\n",
       "mpl.figure.prototype._root_extra_style = function (_canvas_div) {};\n",
       "\n",
       "mpl.figure.prototype._init_canvas = function () {\n",
       "    var fig = this;\n",
       "\n",
       "    var canvas_div = (this.canvas_div = document.createElement('div'));\n",
       "    canvas_div.setAttribute(\n",
       "        'style',\n",
       "        'border: 1px solid #ddd;' +\n",
       "            'box-sizing: content-box;' +\n",
       "            'clear: both;' +\n",
       "            'min-height: 1px;' +\n",
       "            'min-width: 1px;' +\n",
       "            'outline: 0;' +\n",
       "            'overflow: hidden;' +\n",
       "            'position: relative;' +\n",
       "            'resize: both;'\n",
       "    );\n",
       "\n",
       "    function on_keyboard_event_closure(name) {\n",
       "        return function (event) {\n",
       "            return fig.key_event(event, name);\n",
       "        };\n",
       "    }\n",
       "\n",
       "    canvas_div.addEventListener(\n",
       "        'keydown',\n",
       "        on_keyboard_event_closure('key_press')\n",
       "    );\n",
       "    canvas_div.addEventListener(\n",
       "        'keyup',\n",
       "        on_keyboard_event_closure('key_release')\n",
       "    );\n",
       "\n",
       "    this._canvas_extra_style(canvas_div);\n",
       "    this.root.appendChild(canvas_div);\n",
       "\n",
       "    var canvas = (this.canvas = document.createElement('canvas'));\n",
       "    canvas.classList.add('mpl-canvas');\n",
       "    canvas.setAttribute('style', 'box-sizing: content-box;');\n",
       "\n",
       "    this.context = canvas.getContext('2d');\n",
       "\n",
       "    var backingStore =\n",
       "        this.context.backingStorePixelRatio ||\n",
       "        this.context.webkitBackingStorePixelRatio ||\n",
       "        this.context.mozBackingStorePixelRatio ||\n",
       "        this.context.msBackingStorePixelRatio ||\n",
       "        this.context.oBackingStorePixelRatio ||\n",
       "        this.context.backingStorePixelRatio ||\n",
       "        1;\n",
       "\n",
       "    this.ratio = (window.devicePixelRatio || 1) / backingStore;\n",
       "\n",
       "    var rubberband_canvas = (this.rubberband_canvas = document.createElement(\n",
       "        'canvas'\n",
       "    ));\n",
       "    rubberband_canvas.setAttribute(\n",
       "        'style',\n",
       "        'box-sizing: content-box; position: absolute; left: 0; top: 0; z-index: 1;'\n",
       "    );\n",
       "\n",
       "    // Apply a ponyfill if ResizeObserver is not implemented by browser.\n",
       "    if (this.ResizeObserver === undefined) {\n",
       "        if (window.ResizeObserver !== undefined) {\n",
       "            this.ResizeObserver = window.ResizeObserver;\n",
       "        } else {\n",
       "            var obs = _JSXTOOLS_RESIZE_OBSERVER({});\n",
       "            this.ResizeObserver = obs.ResizeObserver;\n",
       "        }\n",
       "    }\n",
       "\n",
       "    this.resizeObserverInstance = new this.ResizeObserver(function (entries) {\n",
       "        var nentries = entries.length;\n",
       "        for (var i = 0; i < nentries; i++) {\n",
       "            var entry = entries[i];\n",
       "            var width, height;\n",
       "            if (entry.contentBoxSize) {\n",
       "                if (entry.contentBoxSize instanceof Array) {\n",
       "                    // Chrome 84 implements new version of spec.\n",
       "                    width = entry.contentBoxSize[0].inlineSize;\n",
       "                    height = entry.contentBoxSize[0].blockSize;\n",
       "                } else {\n",
       "                    // Firefox implements old version of spec.\n",
       "                    width = entry.contentBoxSize.inlineSize;\n",
       "                    height = entry.contentBoxSize.blockSize;\n",
       "                }\n",
       "            } else {\n",
       "                // Chrome <84 implements even older version of spec.\n",
       "                width = entry.contentRect.width;\n",
       "                height = entry.contentRect.height;\n",
       "            }\n",
       "\n",
       "            // Keep the size of the canvas and rubber band canvas in sync with\n",
       "            // the canvas container.\n",
       "            if (entry.devicePixelContentBoxSize) {\n",
       "                // Chrome 84 implements new version of spec.\n",
       "                canvas.setAttribute(\n",
       "                    'width',\n",
       "                    entry.devicePixelContentBoxSize[0].inlineSize\n",
       "                );\n",
       "                canvas.setAttribute(\n",
       "                    'height',\n",
       "                    entry.devicePixelContentBoxSize[0].blockSize\n",
       "                );\n",
       "            } else {\n",
       "                canvas.setAttribute('width', width * fig.ratio);\n",
       "                canvas.setAttribute('height', height * fig.ratio);\n",
       "            }\n",
       "            canvas.setAttribute(\n",
       "                'style',\n",
       "                'width: ' + width + 'px; height: ' + height + 'px;'\n",
       "            );\n",
       "\n",
       "            rubberband_canvas.setAttribute('width', width);\n",
       "            rubberband_canvas.setAttribute('height', height);\n",
       "\n",
       "            // And update the size in Python. We ignore the initial 0/0 size\n",
       "            // that occurs as the element is placed into the DOM, which should\n",
       "            // otherwise not happen due to the minimum size styling.\n",
       "            if (fig.ws.readyState == 1 && width != 0 && height != 0) {\n",
       "                fig.request_resize(width, height);\n",
       "            }\n",
       "        }\n",
       "    });\n",
       "    this.resizeObserverInstance.observe(canvas_div);\n",
       "\n",
       "    function on_mouse_event_closure(name) {\n",
       "        return function (event) {\n",
       "            return fig.mouse_event(event, name);\n",
       "        };\n",
       "    }\n",
       "\n",
       "    rubberband_canvas.addEventListener(\n",
       "        'mousedown',\n",
       "        on_mouse_event_closure('button_press')\n",
       "    );\n",
       "    rubberband_canvas.addEventListener(\n",
       "        'mouseup',\n",
       "        on_mouse_event_closure('button_release')\n",
       "    );\n",
       "    rubberband_canvas.addEventListener(\n",
       "        'dblclick',\n",
       "        on_mouse_event_closure('dblclick')\n",
       "    );\n",
       "    // Throttle sequential mouse events to 1 every 20ms.\n",
       "    rubberband_canvas.addEventListener(\n",
       "        'mousemove',\n",
       "        on_mouse_event_closure('motion_notify')\n",
       "    );\n",
       "\n",
       "    rubberband_canvas.addEventListener(\n",
       "        'mouseenter',\n",
       "        on_mouse_event_closure('figure_enter')\n",
       "    );\n",
       "    rubberband_canvas.addEventListener(\n",
       "        'mouseleave',\n",
       "        on_mouse_event_closure('figure_leave')\n",
       "    );\n",
       "\n",
       "    canvas_div.addEventListener('wheel', function (event) {\n",
       "        if (event.deltaY < 0) {\n",
       "            event.step = 1;\n",
       "        } else {\n",
       "            event.step = -1;\n",
       "        }\n",
       "        on_mouse_event_closure('scroll')(event);\n",
       "    });\n",
       "\n",
       "    canvas_div.appendChild(canvas);\n",
       "    canvas_div.appendChild(rubberband_canvas);\n",
       "\n",
       "    this.rubberband_context = rubberband_canvas.getContext('2d');\n",
       "    this.rubberband_context.strokeStyle = '#000000';\n",
       "\n",
       "    this._resize_canvas = function (width, height, forward) {\n",
       "        if (forward) {\n",
       "            canvas_div.style.width = width + 'px';\n",
       "            canvas_div.style.height = height + 'px';\n",
       "        }\n",
       "    };\n",
       "\n",
       "    // Disable right mouse context menu.\n",
       "    this.rubberband_canvas.addEventListener('contextmenu', function (_e) {\n",
       "        event.preventDefault();\n",
       "        return false;\n",
       "    });\n",
       "\n",
       "    function set_focus() {\n",
       "        canvas.focus();\n",
       "        canvas_div.focus();\n",
       "    }\n",
       "\n",
       "    window.setTimeout(set_focus, 100);\n",
       "};\n",
       "\n",
       "mpl.figure.prototype._init_toolbar = function () {\n",
       "    var fig = this;\n",
       "\n",
       "    var toolbar = document.createElement('div');\n",
       "    toolbar.classList = 'mpl-toolbar';\n",
       "    this.root.appendChild(toolbar);\n",
       "\n",
       "    function on_click_closure(name) {\n",
       "        return function (_event) {\n",
       "            return fig.toolbar_button_onclick(name);\n",
       "        };\n",
       "    }\n",
       "\n",
       "    function on_mouseover_closure(tooltip) {\n",
       "        return function (event) {\n",
       "            if (!event.currentTarget.disabled) {\n",
       "                return fig.toolbar_button_onmouseover(tooltip);\n",
       "            }\n",
       "        };\n",
       "    }\n",
       "\n",
       "    fig.buttons = {};\n",
       "    var buttonGroup = document.createElement('div');\n",
       "    buttonGroup.classList = 'mpl-button-group';\n",
       "    for (var toolbar_ind in mpl.toolbar_items) {\n",
       "        var name = mpl.toolbar_items[toolbar_ind][0];\n",
       "        var tooltip = mpl.toolbar_items[toolbar_ind][1];\n",
       "        var image = mpl.toolbar_items[toolbar_ind][2];\n",
       "        var method_name = mpl.toolbar_items[toolbar_ind][3];\n",
       "\n",
       "        if (!name) {\n",
       "            /* Instead of a spacer, we start a new button group. */\n",
       "            if (buttonGroup.hasChildNodes()) {\n",
       "                toolbar.appendChild(buttonGroup);\n",
       "            }\n",
       "            buttonGroup = document.createElement('div');\n",
       "            buttonGroup.classList = 'mpl-button-group';\n",
       "            continue;\n",
       "        }\n",
       "\n",
       "        var button = (fig.buttons[name] = document.createElement('button'));\n",
       "        button.classList = 'mpl-widget';\n",
       "        button.setAttribute('role', 'button');\n",
       "        button.setAttribute('aria-disabled', 'false');\n",
       "        button.addEventListener('click', on_click_closure(method_name));\n",
       "        button.addEventListener('mouseover', on_mouseover_closure(tooltip));\n",
       "\n",
       "        var icon_img = document.createElement('img');\n",
       "        icon_img.src = '_images/' + image + '.png';\n",
       "        icon_img.srcset = '_images/' + image + '_large.png 2x';\n",
       "        icon_img.alt = tooltip;\n",
       "        button.appendChild(icon_img);\n",
       "\n",
       "        buttonGroup.appendChild(button);\n",
       "    }\n",
       "\n",
       "    if (buttonGroup.hasChildNodes()) {\n",
       "        toolbar.appendChild(buttonGroup);\n",
       "    }\n",
       "\n",
       "    var fmt_picker = document.createElement('select');\n",
       "    fmt_picker.classList = 'mpl-widget';\n",
       "    toolbar.appendChild(fmt_picker);\n",
       "    this.format_dropdown = fmt_picker;\n",
       "\n",
       "    for (var ind in mpl.extensions) {\n",
       "        var fmt = mpl.extensions[ind];\n",
       "        var option = document.createElement('option');\n",
       "        option.selected = fmt === mpl.default_extension;\n",
       "        option.innerHTML = fmt;\n",
       "        fmt_picker.appendChild(option);\n",
       "    }\n",
       "\n",
       "    var status_bar = document.createElement('span');\n",
       "    status_bar.classList = 'mpl-message';\n",
       "    toolbar.appendChild(status_bar);\n",
       "    this.message = status_bar;\n",
       "};\n",
       "\n",
       "mpl.figure.prototype.request_resize = function (x_pixels, y_pixels) {\n",
       "    // Request matplotlib to resize the figure. Matplotlib will then trigger a resize in the client,\n",
       "    // which will in turn request a refresh of the image.\n",
       "    this.send_message('resize', { width: x_pixels, height: y_pixels });\n",
       "};\n",
       "\n",
       "mpl.figure.prototype.send_message = function (type, properties) {\n",
       "    properties['type'] = type;\n",
       "    properties['figure_id'] = this.id;\n",
       "    this.ws.send(JSON.stringify(properties));\n",
       "};\n",
       "\n",
       "mpl.figure.prototype.send_draw_message = function () {\n",
       "    if (!this.waiting) {\n",
       "        this.waiting = true;\n",
       "        this.ws.send(JSON.stringify({ type: 'draw', figure_id: this.id }));\n",
       "    }\n",
       "};\n",
       "\n",
       "mpl.figure.prototype.handle_save = function (fig, _msg) {\n",
       "    var format_dropdown = fig.format_dropdown;\n",
       "    var format = format_dropdown.options[format_dropdown.selectedIndex].value;\n",
       "    fig.ondownload(fig, format);\n",
       "};\n",
       "\n",
       "mpl.figure.prototype.handle_resize = function (fig, msg) {\n",
       "    var size = msg['size'];\n",
       "    if (size[0] !== fig.canvas.width || size[1] !== fig.canvas.height) {\n",
       "        fig._resize_canvas(size[0], size[1], msg['forward']);\n",
       "        fig.send_message('refresh', {});\n",
       "    }\n",
       "};\n",
       "\n",
       "mpl.figure.prototype.handle_rubberband = function (fig, msg) {\n",
       "    var x0 = msg['x0'] / fig.ratio;\n",
       "    var y0 = (fig.canvas.height - msg['y0']) / fig.ratio;\n",
       "    var x1 = msg['x1'] / fig.ratio;\n",
       "    var y1 = (fig.canvas.height - msg['y1']) / fig.ratio;\n",
       "    x0 = Math.floor(x0) + 0.5;\n",
       "    y0 = Math.floor(y0) + 0.5;\n",
       "    x1 = Math.floor(x1) + 0.5;\n",
       "    y1 = Math.floor(y1) + 0.5;\n",
       "    var min_x = Math.min(x0, x1);\n",
       "    var min_y = Math.min(y0, y1);\n",
       "    var width = Math.abs(x1 - x0);\n",
       "    var height = Math.abs(y1 - y0);\n",
       "\n",
       "    fig.rubberband_context.clearRect(\n",
       "        0,\n",
       "        0,\n",
       "        fig.canvas.width / fig.ratio,\n",
       "        fig.canvas.height / fig.ratio\n",
       "    );\n",
       "\n",
       "    fig.rubberband_context.strokeRect(min_x, min_y, width, height);\n",
       "};\n",
       "\n",
       "mpl.figure.prototype.handle_figure_label = function (fig, msg) {\n",
       "    // Updates the figure title.\n",
       "    fig.header.textContent = msg['label'];\n",
       "};\n",
       "\n",
       "mpl.figure.prototype.handle_cursor = function (fig, msg) {\n",
       "    fig.rubberband_canvas.style.cursor = msg['cursor'];\n",
       "};\n",
       "\n",
       "mpl.figure.prototype.handle_message = function (fig, msg) {\n",
       "    fig.message.textContent = msg['message'];\n",
       "};\n",
       "\n",
       "mpl.figure.prototype.handle_draw = function (fig, _msg) {\n",
       "    // Request the server to send over a new figure.\n",
       "    fig.send_draw_message();\n",
       "};\n",
       "\n",
       "mpl.figure.prototype.handle_image_mode = function (fig, msg) {\n",
       "    fig.image_mode = msg['mode'];\n",
       "};\n",
       "\n",
       "mpl.figure.prototype.handle_history_buttons = function (fig, msg) {\n",
       "    for (var key in msg) {\n",
       "        if (!(key in fig.buttons)) {\n",
       "            continue;\n",
       "        }\n",
       "        fig.buttons[key].disabled = !msg[key];\n",
       "        fig.buttons[key].setAttribute('aria-disabled', !msg[key]);\n",
       "    }\n",
       "};\n",
       "\n",
       "mpl.figure.prototype.handle_navigate_mode = function (fig, msg) {\n",
       "    if (msg['mode'] === 'PAN') {\n",
       "        fig.buttons['Pan'].classList.add('active');\n",
       "        fig.buttons['Zoom'].classList.remove('active');\n",
       "    } else if (msg['mode'] === 'ZOOM') {\n",
       "        fig.buttons['Pan'].classList.remove('active');\n",
       "        fig.buttons['Zoom'].classList.add('active');\n",
       "    } else {\n",
       "        fig.buttons['Pan'].classList.remove('active');\n",
       "        fig.buttons['Zoom'].classList.remove('active');\n",
       "    }\n",
       "};\n",
       "\n",
       "mpl.figure.prototype.updated_canvas_event = function () {\n",
       "    // Called whenever the canvas gets updated.\n",
       "    this.send_message('ack', {});\n",
       "};\n",
       "\n",
       "// A function to construct a web socket function for onmessage handling.\n",
       "// Called in the figure constructor.\n",
       "mpl.figure.prototype._make_on_message_function = function (fig) {\n",
       "    return function socket_on_message(evt) {\n",
       "        if (evt.data instanceof Blob) {\n",
       "            var img = evt.data;\n",
       "            if (img.type !== 'image/png') {\n",
       "                /* FIXME: We get \"Resource interpreted as Image but\n",
       "                 * transferred with MIME type text/plain:\" errors on\n",
       "                 * Chrome.  But how to set the MIME type?  It doesn't seem\n",
       "                 * to be part of the websocket stream */\n",
       "                img.type = 'image/png';\n",
       "            }\n",
       "\n",
       "            /* Free the memory for the previous frames */\n",
       "            if (fig.imageObj.src) {\n",
       "                (window.URL || window.webkitURL).revokeObjectURL(\n",
       "                    fig.imageObj.src\n",
       "                );\n",
       "            }\n",
       "\n",
       "            fig.imageObj.src = (window.URL || window.webkitURL).createObjectURL(\n",
       "                img\n",
       "            );\n",
       "            fig.updated_canvas_event();\n",
       "            fig.waiting = false;\n",
       "            return;\n",
       "        } else if (\n",
       "            typeof evt.data === 'string' &&\n",
       "            evt.data.slice(0, 21) === 'data:image/png;base64'\n",
       "        ) {\n",
       "            fig.imageObj.src = evt.data;\n",
       "            fig.updated_canvas_event();\n",
       "            fig.waiting = false;\n",
       "            return;\n",
       "        }\n",
       "\n",
       "        var msg = JSON.parse(evt.data);\n",
       "        var msg_type = msg['type'];\n",
       "\n",
       "        // Call the  \"handle_{type}\" callback, which takes\n",
       "        // the figure and JSON message as its only arguments.\n",
       "        try {\n",
       "            var callback = fig['handle_' + msg_type];\n",
       "        } catch (e) {\n",
       "            console.log(\n",
       "                \"No handler for the '\" + msg_type + \"' message type: \",\n",
       "                msg\n",
       "            );\n",
       "            return;\n",
       "        }\n",
       "\n",
       "        if (callback) {\n",
       "            try {\n",
       "                // console.log(\"Handling '\" + msg_type + \"' message: \", msg);\n",
       "                callback(fig, msg);\n",
       "            } catch (e) {\n",
       "                console.log(\n",
       "                    \"Exception inside the 'handler_\" + msg_type + \"' callback:\",\n",
       "                    e,\n",
       "                    e.stack,\n",
       "                    msg\n",
       "                );\n",
       "            }\n",
       "        }\n",
       "    };\n",
       "};\n",
       "\n",
       "// from https://stackoverflow.com/questions/1114465/getting-mouse-location-in-canvas\n",
       "mpl.findpos = function (e) {\n",
       "    //this section is from http://www.quirksmode.org/js/events_properties.html\n",
       "    var targ;\n",
       "    if (!e) {\n",
       "        e = window.event;\n",
       "    }\n",
       "    if (e.target) {\n",
       "        targ = e.target;\n",
       "    } else if (e.srcElement) {\n",
       "        targ = e.srcElement;\n",
       "    }\n",
       "    if (targ.nodeType === 3) {\n",
       "        // defeat Safari bug\n",
       "        targ = targ.parentNode;\n",
       "    }\n",
       "\n",
       "    // pageX,Y are the mouse positions relative to the document\n",
       "    var boundingRect = targ.getBoundingClientRect();\n",
       "    var x = e.pageX - (boundingRect.left + document.body.scrollLeft);\n",
       "    var y = e.pageY - (boundingRect.top + document.body.scrollTop);\n",
       "\n",
       "    return { x: x, y: y };\n",
       "};\n",
       "\n",
       "/*\n",
       " * return a copy of an object with only non-object keys\n",
       " * we need this to avoid circular references\n",
       " * https://stackoverflow.com/a/24161582/3208463\n",
       " */\n",
       "function simpleKeys(original) {\n",
       "    return Object.keys(original).reduce(function (obj, key) {\n",
       "        if (typeof original[key] !== 'object') {\n",
       "            obj[key] = original[key];\n",
       "        }\n",
       "        return obj;\n",
       "    }, {});\n",
       "}\n",
       "\n",
       "mpl.figure.prototype.mouse_event = function (event, name) {\n",
       "    var canvas_pos = mpl.findpos(event);\n",
       "\n",
       "    if (name === 'button_press') {\n",
       "        this.canvas.focus();\n",
       "        this.canvas_div.focus();\n",
       "    }\n",
       "\n",
       "    var x = canvas_pos.x * this.ratio;\n",
       "    var y = canvas_pos.y * this.ratio;\n",
       "\n",
       "    this.send_message(name, {\n",
       "        x: x,\n",
       "        y: y,\n",
       "        button: event.button,\n",
       "        step: event.step,\n",
       "        guiEvent: simpleKeys(event),\n",
       "    });\n",
       "\n",
       "    /* This prevents the web browser from automatically changing to\n",
       "     * the text insertion cursor when the button is pressed.  We want\n",
       "     * to control all of the cursor setting manually through the\n",
       "     * 'cursor' event from matplotlib */\n",
       "    event.preventDefault();\n",
       "    return false;\n",
       "};\n",
       "\n",
       "mpl.figure.prototype._key_event_extra = function (_event, _name) {\n",
       "    // Handle any extra behaviour associated with a key event\n",
       "};\n",
       "\n",
       "mpl.figure.prototype.key_event = function (event, name) {\n",
       "    // Prevent repeat events\n",
       "    if (name === 'key_press') {\n",
       "        if (event.key === this._key) {\n",
       "            return;\n",
       "        } else {\n",
       "            this._key = event.key;\n",
       "        }\n",
       "    }\n",
       "    if (name === 'key_release') {\n",
       "        this._key = null;\n",
       "    }\n",
       "\n",
       "    var value = '';\n",
       "    if (event.ctrlKey && event.key !== 'Control') {\n",
       "        value += 'ctrl+';\n",
       "    }\n",
       "    else if (event.altKey && event.key !== 'Alt') {\n",
       "        value += 'alt+';\n",
       "    }\n",
       "    else if (event.shiftKey && event.key !== 'Shift') {\n",
       "        value += 'shift+';\n",
       "    }\n",
       "\n",
       "    value += 'k' + event.key;\n",
       "\n",
       "    this._key_event_extra(event, name);\n",
       "\n",
       "    this.send_message(name, { key: value, guiEvent: simpleKeys(event) });\n",
       "    return false;\n",
       "};\n",
       "\n",
       "mpl.figure.prototype.toolbar_button_onclick = function (name) {\n",
       "    if (name === 'download') {\n",
       "        this.handle_save(this, null);\n",
       "    } else {\n",
       "        this.send_message('toolbar_button', { name: name });\n",
       "    }\n",
       "};\n",
       "\n",
       "mpl.figure.prototype.toolbar_button_onmouseover = function (tooltip) {\n",
       "    this.message.textContent = tooltip;\n",
       "};\n",
       "\n",
       "///////////////// REMAINING CONTENT GENERATED BY embed_js.py /////////////////\n",
       "// prettier-ignore\n",
       "var _JSXTOOLS_RESIZE_OBSERVER=function(A){var t,i=new WeakMap,n=new WeakMap,a=new WeakMap,r=new WeakMap,o=new Set;function s(e){if(!(this instanceof s))throw new TypeError(\"Constructor requires 'new' operator\");i.set(this,e)}function h(){throw new TypeError(\"Function is not a constructor\")}function c(e,t,i,n){e=0 in arguments?Number(arguments[0]):0,t=1 in arguments?Number(arguments[1]):0,i=2 in arguments?Number(arguments[2]):0,n=3 in arguments?Number(arguments[3]):0,this.right=(this.x=this.left=e)+(this.width=i),this.bottom=(this.y=this.top=t)+(this.height=n),Object.freeze(this)}function d(){t=requestAnimationFrame(d);var s=new WeakMap,p=new Set;o.forEach((function(t){r.get(t).forEach((function(i){var r=t instanceof window.SVGElement,o=a.get(t),d=r?0:parseFloat(o.paddingTop),f=r?0:parseFloat(o.paddingRight),l=r?0:parseFloat(o.paddingBottom),u=r?0:parseFloat(o.paddingLeft),g=r?0:parseFloat(o.borderTopWidth),m=r?0:parseFloat(o.borderRightWidth),w=r?0:parseFloat(o.borderBottomWidth),b=u+f,F=d+l,v=(r?0:parseFloat(o.borderLeftWidth))+m,W=g+w,y=r?0:t.offsetHeight-W-t.clientHeight,E=r?0:t.offsetWidth-v-t.clientWidth,R=b+v,z=F+W,M=r?t.width:parseFloat(o.width)-R-E,O=r?t.height:parseFloat(o.height)-z-y;if(n.has(t)){var k=n.get(t);if(k[0]===M&&k[1]===O)return}n.set(t,[M,O]);var S=Object.create(h.prototype);S.target=t,S.contentRect=new c(u,d,M,O),s.has(i)||(s.set(i,[]),p.add(i)),s.get(i).push(S)}))})),p.forEach((function(e){i.get(e).call(e,s.get(e),e)}))}return s.prototype.observe=function(i){if(i instanceof window.Element){r.has(i)||(r.set(i,new Set),o.add(i),a.set(i,window.getComputedStyle(i)));var n=r.get(i);n.has(this)||n.add(this),cancelAnimationFrame(t),t=requestAnimationFrame(d)}},s.prototype.unobserve=function(i){if(i instanceof window.Element&&r.has(i)){var n=r.get(i);n.has(this)&&(n.delete(this),n.size||(r.delete(i),o.delete(i))),n.size||r.delete(i),o.size||cancelAnimationFrame(t)}},A.DOMRectReadOnly=c,A.ResizeObserver=s,A.ResizeObserverEntry=h,A}; // eslint-disable-line\n",
       "mpl.toolbar_items = [[\"Home\", \"Reset original view\", \"fa fa-home icon-home\", \"home\"], [\"Back\", \"Back to previous view\", \"fa fa-arrow-left icon-arrow-left\", \"back\"], [\"Forward\", \"Forward to next view\", \"fa fa-arrow-right icon-arrow-right\", \"forward\"], [\"\", \"\", \"\", \"\"], [\"Pan\", \"Left button pans, Right button zooms\\nx/y fixes axis, CTRL fixes aspect\", \"fa fa-arrows icon-move\", \"pan\"], [\"Zoom\", \"Zoom to rectangle\\nx/y fixes axis\", \"fa fa-square-o icon-check-empty\", \"zoom\"], [\"\", \"\", \"\", \"\"], [\"Download\", \"Download plot\", \"fa fa-floppy-o icon-save\", \"download\"]];\n",
       "\n",
       "mpl.extensions = [\"eps\", \"jpeg\", \"pgf\", \"pdf\", \"png\", \"ps\", \"raw\", \"svg\", \"tif\"];\n",
       "\n",
       "mpl.default_extension = \"png\";/* global mpl */\n",
       "\n",
       "var comm_websocket_adapter = function (comm) {\n",
       "    // Create a \"websocket\"-like object which calls the given IPython comm\n",
       "    // object with the appropriate methods. Currently this is a non binary\n",
       "    // socket, so there is still some room for performance tuning.\n",
       "    var ws = {};\n",
       "\n",
       "    ws.binaryType = comm.kernel.ws.binaryType;\n",
       "    ws.readyState = comm.kernel.ws.readyState;\n",
       "    function updateReadyState(_event) {\n",
       "        if (comm.kernel.ws) {\n",
       "            ws.readyState = comm.kernel.ws.readyState;\n",
       "        } else {\n",
       "            ws.readyState = 3; // Closed state.\n",
       "        }\n",
       "    }\n",
       "    comm.kernel.ws.addEventListener('open', updateReadyState);\n",
       "    comm.kernel.ws.addEventListener('close', updateReadyState);\n",
       "    comm.kernel.ws.addEventListener('error', updateReadyState);\n",
       "\n",
       "    ws.close = function () {\n",
       "        comm.close();\n",
       "    };\n",
       "    ws.send = function (m) {\n",
       "        //console.log('sending', m);\n",
       "        comm.send(m);\n",
       "    };\n",
       "    // Register the callback with on_msg.\n",
       "    comm.on_msg(function (msg) {\n",
       "        //console.log('receiving', msg['content']['data'], msg);\n",
       "        var data = msg['content']['data'];\n",
       "        if (data['blob'] !== undefined) {\n",
       "            data = {\n",
       "                data: new Blob(msg['buffers'], { type: data['blob'] }),\n",
       "            };\n",
       "        }\n",
       "        // Pass the mpl event to the overridden (by mpl) onmessage function.\n",
       "        ws.onmessage(data);\n",
       "    });\n",
       "    return ws;\n",
       "};\n",
       "\n",
       "mpl.mpl_figure_comm = function (comm, msg) {\n",
       "    // This is the function which gets called when the mpl process\n",
       "    // starts-up an IPython Comm through the \"matplotlib\" channel.\n",
       "\n",
       "    var id = msg.content.data.id;\n",
       "    // Get hold of the div created by the display call when the Comm\n",
       "    // socket was opened in Python.\n",
       "    var element = document.getElementById(id);\n",
       "    var ws_proxy = comm_websocket_adapter(comm);\n",
       "\n",
       "    function ondownload(figure, _format) {\n",
       "        window.open(figure.canvas.toDataURL());\n",
       "    }\n",
       "\n",
       "    var fig = new mpl.figure(id, ws_proxy, ondownload, element);\n",
       "\n",
       "    // Call onopen now - mpl needs it, as it is assuming we've passed it a real\n",
       "    // web socket which is closed, not our websocket->open comm proxy.\n",
       "    ws_proxy.onopen();\n",
       "\n",
       "    fig.parent_element = element;\n",
       "    fig.cell_info = mpl.find_output_cell(\"<div id='\" + id + \"'></div>\");\n",
       "    if (!fig.cell_info) {\n",
       "        console.error('Failed to find cell for figure', id, fig);\n",
       "        return;\n",
       "    }\n",
       "    fig.cell_info[0].output_area.element.on(\n",
       "        'cleared',\n",
       "        { fig: fig },\n",
       "        fig._remove_fig_handler\n",
       "    );\n",
       "};\n",
       "\n",
       "mpl.figure.prototype.handle_close = function (fig, msg) {\n",
       "    var width = fig.canvas.width / fig.ratio;\n",
       "    fig.cell_info[0].output_area.element.off(\n",
       "        'cleared',\n",
       "        fig._remove_fig_handler\n",
       "    );\n",
       "    fig.resizeObserverInstance.unobserve(fig.canvas_div);\n",
       "\n",
       "    // Update the output cell to use the data from the current canvas.\n",
       "    fig.push_to_output();\n",
       "    var dataURL = fig.canvas.toDataURL();\n",
       "    // Re-enable the keyboard manager in IPython - without this line, in FF,\n",
       "    // the notebook keyboard shortcuts fail.\n",
       "    IPython.keyboard_manager.enable();\n",
       "    fig.parent_element.innerHTML =\n",
       "        '<img src=\"' + dataURL + '\" width=\"' + width + '\">';\n",
       "    fig.close_ws(fig, msg);\n",
       "};\n",
       "\n",
       "mpl.figure.prototype.close_ws = function (fig, msg) {\n",
       "    fig.send_message('closing', msg);\n",
       "    // fig.ws.close()\n",
       "};\n",
       "\n",
       "mpl.figure.prototype.push_to_output = function (_remove_interactive) {\n",
       "    // Turn the data on the canvas into data in the output cell.\n",
       "    var width = this.canvas.width / this.ratio;\n",
       "    var dataURL = this.canvas.toDataURL();\n",
       "    this.cell_info[1]['text/html'] =\n",
       "        '<img src=\"' + dataURL + '\" width=\"' + width + '\">';\n",
       "};\n",
       "\n",
       "mpl.figure.prototype.updated_canvas_event = function () {\n",
       "    // Tell IPython that the notebook contents must change.\n",
       "    IPython.notebook.set_dirty(true);\n",
       "    this.send_message('ack', {});\n",
       "    var fig = this;\n",
       "    // Wait a second, then push the new image to the DOM so\n",
       "    // that it is saved nicely (might be nice to debounce this).\n",
       "    setTimeout(function () {\n",
       "        fig.push_to_output();\n",
       "    }, 1000);\n",
       "};\n",
       "\n",
       "mpl.figure.prototype._init_toolbar = function () {\n",
       "    var fig = this;\n",
       "\n",
       "    var toolbar = document.createElement('div');\n",
       "    toolbar.classList = 'btn-toolbar';\n",
       "    this.root.appendChild(toolbar);\n",
       "\n",
       "    function on_click_closure(name) {\n",
       "        return function (_event) {\n",
       "            return fig.toolbar_button_onclick(name);\n",
       "        };\n",
       "    }\n",
       "\n",
       "    function on_mouseover_closure(tooltip) {\n",
       "        return function (event) {\n",
       "            if (!event.currentTarget.disabled) {\n",
       "                return fig.toolbar_button_onmouseover(tooltip);\n",
       "            }\n",
       "        };\n",
       "    }\n",
       "\n",
       "    fig.buttons = {};\n",
       "    var buttonGroup = document.createElement('div');\n",
       "    buttonGroup.classList = 'btn-group';\n",
       "    var button;\n",
       "    for (var toolbar_ind in mpl.toolbar_items) {\n",
       "        var name = mpl.toolbar_items[toolbar_ind][0];\n",
       "        var tooltip = mpl.toolbar_items[toolbar_ind][1];\n",
       "        var image = mpl.toolbar_items[toolbar_ind][2];\n",
       "        var method_name = mpl.toolbar_items[toolbar_ind][3];\n",
       "\n",
       "        if (!name) {\n",
       "            /* Instead of a spacer, we start a new button group. */\n",
       "            if (buttonGroup.hasChildNodes()) {\n",
       "                toolbar.appendChild(buttonGroup);\n",
       "            }\n",
       "            buttonGroup = document.createElement('div');\n",
       "            buttonGroup.classList = 'btn-group';\n",
       "            continue;\n",
       "        }\n",
       "\n",
       "        button = fig.buttons[name] = document.createElement('button');\n",
       "        button.classList = 'btn btn-default';\n",
       "        button.href = '#';\n",
       "        button.title = name;\n",
       "        button.innerHTML = '<i class=\"fa ' + image + ' fa-lg\"></i>';\n",
       "        button.addEventListener('click', on_click_closure(method_name));\n",
       "        button.addEventListener('mouseover', on_mouseover_closure(tooltip));\n",
       "        buttonGroup.appendChild(button);\n",
       "    }\n",
       "\n",
       "    if (buttonGroup.hasChildNodes()) {\n",
       "        toolbar.appendChild(buttonGroup);\n",
       "    }\n",
       "\n",
       "    // Add the status bar.\n",
       "    var status_bar = document.createElement('span');\n",
       "    status_bar.classList = 'mpl-message pull-right';\n",
       "    toolbar.appendChild(status_bar);\n",
       "    this.message = status_bar;\n",
       "\n",
       "    // Add the close button to the window.\n",
       "    var buttongrp = document.createElement('div');\n",
       "    buttongrp.classList = 'btn-group inline pull-right';\n",
       "    button = document.createElement('button');\n",
       "    button.classList = 'btn btn-mini btn-primary';\n",
       "    button.href = '#';\n",
       "    button.title = 'Stop Interaction';\n",
       "    button.innerHTML = '<i class=\"fa fa-power-off icon-remove icon-large\"></i>';\n",
       "    button.addEventListener('click', function (_evt) {\n",
       "        fig.handle_close(fig, {});\n",
       "    });\n",
       "    button.addEventListener(\n",
       "        'mouseover',\n",
       "        on_mouseover_closure('Stop Interaction')\n",
       "    );\n",
       "    buttongrp.appendChild(button);\n",
       "    var titlebar = this.root.querySelector('.ui-dialog-titlebar');\n",
       "    titlebar.insertBefore(buttongrp, titlebar.firstChild);\n",
       "};\n",
       "\n",
       "mpl.figure.prototype._remove_fig_handler = function (event) {\n",
       "    var fig = event.data.fig;\n",
       "    if (event.target !== this) {\n",
       "        // Ignore bubbled events from children.\n",
       "        return;\n",
       "    }\n",
       "    fig.close_ws(fig, {});\n",
       "};\n",
       "\n",
       "mpl.figure.prototype._root_extra_style = function (el) {\n",
       "    el.style.boxSizing = 'content-box'; // override notebook setting of border-box.\n",
       "};\n",
       "\n",
       "mpl.figure.prototype._canvas_extra_style = function (el) {\n",
       "    // this is important to make the div 'focusable\n",
       "    el.setAttribute('tabindex', 0);\n",
       "    // reach out to IPython and tell the keyboard manager to turn it's self\n",
       "    // off when our div gets focus\n",
       "\n",
       "    // location in version 3\n",
       "    if (IPython.notebook.keyboard_manager) {\n",
       "        IPython.notebook.keyboard_manager.register_events(el);\n",
       "    } else {\n",
       "        // location in version 2\n",
       "        IPython.keyboard_manager.register_events(el);\n",
       "    }\n",
       "};\n",
       "\n",
       "mpl.figure.prototype._key_event_extra = function (event, _name) {\n",
       "    // Check for shift+enter\n",
       "    if (event.shiftKey && event.which === 13) {\n",
       "        this.canvas_div.blur();\n",
       "        // select the cell after this one\n",
       "        var index = IPython.notebook.find_cell_index(this.cell_info[0]);\n",
       "        IPython.notebook.select(index + 1);\n",
       "    }\n",
       "};\n",
       "\n",
       "mpl.figure.prototype.handle_save = function (fig, _msg) {\n",
       "    fig.ondownload(fig, null);\n",
       "};\n",
       "\n",
       "mpl.find_output_cell = function (html_output) {\n",
       "    // Return the cell and output element which can be found *uniquely* in the notebook.\n",
       "    // Note - this is a bit hacky, but it is done because the \"notebook_saving.Notebook\"\n",
       "    // IPython event is triggered only after the cells have been serialised, which for\n",
       "    // our purposes (turning an active figure into a static one), is too late.\n",
       "    var cells = IPython.notebook.get_cells();\n",
       "    var ncells = cells.length;\n",
       "    for (var i = 0; i < ncells; i++) {\n",
       "        var cell = cells[i];\n",
       "        if (cell.cell_type === 'code') {\n",
       "            for (var j = 0; j < cell.output_area.outputs.length; j++) {\n",
       "                var data = cell.output_area.outputs[j];\n",
       "                if (data.data) {\n",
       "                    // IPython >= 3 moved mimebundle to data attribute of output\n",
       "                    data = data.data;\n",
       "                }\n",
       "                if (data['text/html'] === html_output) {\n",
       "                    return [cell, data, j];\n",
       "                }\n",
       "            }\n",
       "        }\n",
       "    }\n",
       "};\n",
       "\n",
       "// Register the function which deals with the matplotlib target/channel.\n",
       "// The kernel may be null if the page has been refreshed.\n",
       "if (IPython.notebook.kernel !== null) {\n",
       "    IPython.notebook.kernel.comm_manager.register_target(\n",
       "        'matplotlib',\n",
       "        mpl.mpl_figure_comm\n",
       "    );\n",
       "}\n"
      ],
      "text/plain": [
       "<IPython.core.display.Javascript object>"
      ]
     },
     "metadata": {},
     "output_type": "display_data"
    },
    {
     "data": {
      "text/html": [
       "<img src=\"data:image/png;base64,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\" width=\"1280\">"
      ],
      "text/plain": [
       "<IPython.core.display.HTML object>"
      ]
     },
     "metadata": {},
     "output_type": "display_data"
    }
   ],
   "source": [
    "fig = plt.figure(figsize=(12,6))\n",
    "ax = fig.add_subplot(121, projection='3d')\n",
    "\n",
    "x = np.arange(-4, 4, .5)\n",
    "y = np.arange(-4, 4, .5)\n",
    "X,Y = np.meshgrid(x,y)\n",
    "\n",
    "\n",
    "def sQuadratic(v, S=S):\n",
    "    return (S @ v) @ v\n",
    "\n",
    "Z = np.apply_along_axis(sQuadratic, 0, np.array([X, Y]))\n",
    "\n",
    "ax.plot_wireframe(X, Y, Z, alpha=0.4)\n",
    "plt.show()\n"
   ]
  },
  {
   "cell_type": "markdown",
   "id": "532be9cc",
   "metadata": {
    "slideshow": {
     "slide_type": "slide"
    }
   },
   "source": [
    "### Positive definite matrices\n",
    "\n",
    "The quadratic form of $S$ has a saddle point at $\\mathbf 0$.\n",
    "\n",
    "Symmetric matrices with a quadratic form which is everywhere positive are called **positive definit**.\n",
    "\n",
    "#### Definition\n",
    "A matrix $S$ is **positive definite** if and only if for all vectors $\\mathbf x$:\n",
    "$$\n",
    "    \\mathbf x' S \\mathbf x > 0\n",
    "$$\n",
    "\n",
    "\n",
    "#### Example"
   ]
  },
  {
   "cell_type": "code",
   "execution_count": 48,
   "id": "b979f466",
   "metadata": {},
   "outputs": [
    {
     "data": {
      "text/latex": [
       "$\\displaystyle \\left[\\begin{matrix}2 & -1\\\\-1 & 2\\end{matrix}\\right]$"
      ],
      "text/plain": [
       "Matrix([\n",
       "[ 2, -1],\n",
       "[-1,  2]])"
      ]
     },
     "execution_count": 48,
     "metadata": {},
     "output_type": "execute_result"
    }
   ],
   "source": [
    "S1 = Matrix([\n",
    "    [2,-1],\n",
    "    [-1,2]\n",
    "])\n",
    "S1"
   ]
  },
  {
   "cell_type": "code",
   "execution_count": 49,
   "id": "0da1bb56",
   "metadata": {
    "hide_input": true,
    "slideshow": {
     "slide_type": "slide"
    }
   },
   "outputs": [
    {
     "data": {
      "application/javascript": [
       "/* Put everything inside the global mpl namespace */\n",
       "/* global mpl */\n",
       "window.mpl = {};\n",
       "\n",
       "mpl.get_websocket_type = function () {\n",
       "    if (typeof WebSocket !== 'undefined') {\n",
       "        return WebSocket;\n",
       "    } else if (typeof MozWebSocket !== 'undefined') {\n",
       "        return MozWebSocket;\n",
       "    } else {\n",
       "        alert(\n",
       "            'Your browser does not have WebSocket support. ' +\n",
       "                'Please try Chrome, Safari or Firefox ≥ 6. ' +\n",
       "                'Firefox 4 and 5 are also supported but you ' +\n",
       "                'have to enable WebSockets in about:config.'\n",
       "        );\n",
       "    }\n",
       "};\n",
       "\n",
       "mpl.figure = function (figure_id, websocket, ondownload, parent_element) {\n",
       "    this.id = figure_id;\n",
       "\n",
       "    this.ws = websocket;\n",
       "\n",
       "    this.supports_binary = this.ws.binaryType !== undefined;\n",
       "\n",
       "    if (!this.supports_binary) {\n",
       "        var warnings = document.getElementById('mpl-warnings');\n",
       "        if (warnings) {\n",
       "            warnings.style.display = 'block';\n",
       "            warnings.textContent =\n",
       "                'This browser does not support binary websocket messages. ' +\n",
       "                'Performance may be slow.';\n",
       "        }\n",
       "    }\n",
       "\n",
       "    this.imageObj = new Image();\n",
       "\n",
       "    this.context = undefined;\n",
       "    this.message = undefined;\n",
       "    this.canvas = undefined;\n",
       "    this.rubberband_canvas = undefined;\n",
       "    this.rubberband_context = undefined;\n",
       "    this.format_dropdown = undefined;\n",
       "\n",
       "    this.image_mode = 'full';\n",
       "\n",
       "    this.root = document.createElement('div');\n",
       "    this.root.setAttribute('style', 'display: inline-block');\n",
       "    this._root_extra_style(this.root);\n",
       "\n",
       "    parent_element.appendChild(this.root);\n",
       "\n",
       "    this._init_header(this);\n",
       "    this._init_canvas(this);\n",
       "    this._init_toolbar(this);\n",
       "\n",
       "    var fig = this;\n",
       "\n",
       "    this.waiting = false;\n",
       "\n",
       "    this.ws.onopen = function () {\n",
       "        fig.send_message('supports_binary', { value: fig.supports_binary });\n",
       "        fig.send_message('send_image_mode', {});\n",
       "        if (fig.ratio !== 1) {\n",
       "            fig.send_message('set_device_pixel_ratio', {\n",
       "                device_pixel_ratio: fig.ratio,\n",
       "            });\n",
       "        }\n",
       "        fig.send_message('refresh', {});\n",
       "    };\n",
       "\n",
       "    this.imageObj.onload = function () {\n",
       "        if (fig.image_mode === 'full') {\n",
       "            // Full images could contain transparency (where diff images\n",
       "            // almost always do), so we need to clear the canvas so that\n",
       "            // there is no ghosting.\n",
       "            fig.context.clearRect(0, 0, fig.canvas.width, fig.canvas.height);\n",
       "        }\n",
       "        fig.context.drawImage(fig.imageObj, 0, 0);\n",
       "    };\n",
       "\n",
       "    this.imageObj.onunload = function () {\n",
       "        fig.ws.close();\n",
       "    };\n",
       "\n",
       "    this.ws.onmessage = this._make_on_message_function(this);\n",
       "\n",
       "    this.ondownload = ondownload;\n",
       "};\n",
       "\n",
       "mpl.figure.prototype._init_header = function () {\n",
       "    var titlebar = document.createElement('div');\n",
       "    titlebar.classList =\n",
       "        'ui-dialog-titlebar ui-widget-header ui-corner-all ui-helper-clearfix';\n",
       "    var titletext = document.createElement('div');\n",
       "    titletext.classList = 'ui-dialog-title';\n",
       "    titletext.setAttribute(\n",
       "        'style',\n",
       "        'width: 100%; text-align: center; padding: 3px;'\n",
       "    );\n",
       "    titlebar.appendChild(titletext);\n",
       "    this.root.appendChild(titlebar);\n",
       "    this.header = titletext;\n",
       "};\n",
       "\n",
       "mpl.figure.prototype._canvas_extra_style = function (_canvas_div) {};\n",
       "\n",
       "mpl.figure.prototype._root_extra_style = function (_canvas_div) {};\n",
       "\n",
       "mpl.figure.prototype._init_canvas = function () {\n",
       "    var fig = this;\n",
       "\n",
       "    var canvas_div = (this.canvas_div = document.createElement('div'));\n",
       "    canvas_div.setAttribute(\n",
       "        'style',\n",
       "        'border: 1px solid #ddd;' +\n",
       "            'box-sizing: content-box;' +\n",
       "            'clear: both;' +\n",
       "            'min-height: 1px;' +\n",
       "            'min-width: 1px;' +\n",
       "            'outline: 0;' +\n",
       "            'overflow: hidden;' +\n",
       "            'position: relative;' +\n",
       "            'resize: both;'\n",
       "    );\n",
       "\n",
       "    function on_keyboard_event_closure(name) {\n",
       "        return function (event) {\n",
       "            return fig.key_event(event, name);\n",
       "        };\n",
       "    }\n",
       "\n",
       "    canvas_div.addEventListener(\n",
       "        'keydown',\n",
       "        on_keyboard_event_closure('key_press')\n",
       "    );\n",
       "    canvas_div.addEventListener(\n",
       "        'keyup',\n",
       "        on_keyboard_event_closure('key_release')\n",
       "    );\n",
       "\n",
       "    this._canvas_extra_style(canvas_div);\n",
       "    this.root.appendChild(canvas_div);\n",
       "\n",
       "    var canvas = (this.canvas = document.createElement('canvas'));\n",
       "    canvas.classList.add('mpl-canvas');\n",
       "    canvas.setAttribute('style', 'box-sizing: content-box;');\n",
       "\n",
       "    this.context = canvas.getContext('2d');\n",
       "\n",
       "    var backingStore =\n",
       "        this.context.backingStorePixelRatio ||\n",
       "        this.context.webkitBackingStorePixelRatio ||\n",
       "        this.context.mozBackingStorePixelRatio ||\n",
       "        this.context.msBackingStorePixelRatio ||\n",
       "        this.context.oBackingStorePixelRatio ||\n",
       "        this.context.backingStorePixelRatio ||\n",
       "        1;\n",
       "\n",
       "    this.ratio = (window.devicePixelRatio || 1) / backingStore;\n",
       "\n",
       "    var rubberband_canvas = (this.rubberband_canvas = document.createElement(\n",
       "        'canvas'\n",
       "    ));\n",
       "    rubberband_canvas.setAttribute(\n",
       "        'style',\n",
       "        'box-sizing: content-box; position: absolute; left: 0; top: 0; z-index: 1;'\n",
       "    );\n",
       "\n",
       "    // Apply a ponyfill if ResizeObserver is not implemented by browser.\n",
       "    if (this.ResizeObserver === undefined) {\n",
       "        if (window.ResizeObserver !== undefined) {\n",
       "            this.ResizeObserver = window.ResizeObserver;\n",
       "        } else {\n",
       "            var obs = _JSXTOOLS_RESIZE_OBSERVER({});\n",
       "            this.ResizeObserver = obs.ResizeObserver;\n",
       "        }\n",
       "    }\n",
       "\n",
       "    this.resizeObserverInstance = new this.ResizeObserver(function (entries) {\n",
       "        var nentries = entries.length;\n",
       "        for (var i = 0; i < nentries; i++) {\n",
       "            var entry = entries[i];\n",
       "            var width, height;\n",
       "            if (entry.contentBoxSize) {\n",
       "                if (entry.contentBoxSize instanceof Array) {\n",
       "                    // Chrome 84 implements new version of spec.\n",
       "                    width = entry.contentBoxSize[0].inlineSize;\n",
       "                    height = entry.contentBoxSize[0].blockSize;\n",
       "                } else {\n",
       "                    // Firefox implements old version of spec.\n",
       "                    width = entry.contentBoxSize.inlineSize;\n",
       "                    height = entry.contentBoxSize.blockSize;\n",
       "                }\n",
       "            } else {\n",
       "                // Chrome <84 implements even older version of spec.\n",
       "                width = entry.contentRect.width;\n",
       "                height = entry.contentRect.height;\n",
       "            }\n",
       "\n",
       "            // Keep the size of the canvas and rubber band canvas in sync with\n",
       "            // the canvas container.\n",
       "            if (entry.devicePixelContentBoxSize) {\n",
       "                // Chrome 84 implements new version of spec.\n",
       "                canvas.setAttribute(\n",
       "                    'width',\n",
       "                    entry.devicePixelContentBoxSize[0].inlineSize\n",
       "                );\n",
       "                canvas.setAttribute(\n",
       "                    'height',\n",
       "                    entry.devicePixelContentBoxSize[0].blockSize\n",
       "                );\n",
       "            } else {\n",
       "                canvas.setAttribute('width', width * fig.ratio);\n",
       "                canvas.setAttribute('height', height * fig.ratio);\n",
       "            }\n",
       "            canvas.setAttribute(\n",
       "                'style',\n",
       "                'width: ' + width + 'px; height: ' + height + 'px;'\n",
       "            );\n",
       "\n",
       "            rubberband_canvas.setAttribute('width', width);\n",
       "            rubberband_canvas.setAttribute('height', height);\n",
       "\n",
       "            // And update the size in Python. We ignore the initial 0/0 size\n",
       "            // that occurs as the element is placed into the DOM, which should\n",
       "            // otherwise not happen due to the minimum size styling.\n",
       "            if (fig.ws.readyState == 1 && width != 0 && height != 0) {\n",
       "                fig.request_resize(width, height);\n",
       "            }\n",
       "        }\n",
       "    });\n",
       "    this.resizeObserverInstance.observe(canvas_div);\n",
       "\n",
       "    function on_mouse_event_closure(name) {\n",
       "        return function (event) {\n",
       "            return fig.mouse_event(event, name);\n",
       "        };\n",
       "    }\n",
       "\n",
       "    rubberband_canvas.addEventListener(\n",
       "        'mousedown',\n",
       "        on_mouse_event_closure('button_press')\n",
       "    );\n",
       "    rubberband_canvas.addEventListener(\n",
       "        'mouseup',\n",
       "        on_mouse_event_closure('button_release')\n",
       "    );\n",
       "    rubberband_canvas.addEventListener(\n",
       "        'dblclick',\n",
       "        on_mouse_event_closure('dblclick')\n",
       "    );\n",
       "    // Throttle sequential mouse events to 1 every 20ms.\n",
       "    rubberband_canvas.addEventListener(\n",
       "        'mousemove',\n",
       "        on_mouse_event_closure('motion_notify')\n",
       "    );\n",
       "\n",
       "    rubberband_canvas.addEventListener(\n",
       "        'mouseenter',\n",
       "        on_mouse_event_closure('figure_enter')\n",
       "    );\n",
       "    rubberband_canvas.addEventListener(\n",
       "        'mouseleave',\n",
       "        on_mouse_event_closure('figure_leave')\n",
       "    );\n",
       "\n",
       "    canvas_div.addEventListener('wheel', function (event) {\n",
       "        if (event.deltaY < 0) {\n",
       "            event.step = 1;\n",
       "        } else {\n",
       "            event.step = -1;\n",
       "        }\n",
       "        on_mouse_event_closure('scroll')(event);\n",
       "    });\n",
       "\n",
       "    canvas_div.appendChild(canvas);\n",
       "    canvas_div.appendChild(rubberband_canvas);\n",
       "\n",
       "    this.rubberband_context = rubberband_canvas.getContext('2d');\n",
       "    this.rubberband_context.strokeStyle = '#000000';\n",
       "\n",
       "    this._resize_canvas = function (width, height, forward) {\n",
       "        if (forward) {\n",
       "            canvas_div.style.width = width + 'px';\n",
       "            canvas_div.style.height = height + 'px';\n",
       "        }\n",
       "    };\n",
       "\n",
       "    // Disable right mouse context menu.\n",
       "    this.rubberband_canvas.addEventListener('contextmenu', function (_e) {\n",
       "        event.preventDefault();\n",
       "        return false;\n",
       "    });\n",
       "\n",
       "    function set_focus() {\n",
       "        canvas.focus();\n",
       "        canvas_div.focus();\n",
       "    }\n",
       "\n",
       "    window.setTimeout(set_focus, 100);\n",
       "};\n",
       "\n",
       "mpl.figure.prototype._init_toolbar = function () {\n",
       "    var fig = this;\n",
       "\n",
       "    var toolbar = document.createElement('div');\n",
       "    toolbar.classList = 'mpl-toolbar';\n",
       "    this.root.appendChild(toolbar);\n",
       "\n",
       "    function on_click_closure(name) {\n",
       "        return function (_event) {\n",
       "            return fig.toolbar_button_onclick(name);\n",
       "        };\n",
       "    }\n",
       "\n",
       "    function on_mouseover_closure(tooltip) {\n",
       "        return function (event) {\n",
       "            if (!event.currentTarget.disabled) {\n",
       "                return fig.toolbar_button_onmouseover(tooltip);\n",
       "            }\n",
       "        };\n",
       "    }\n",
       "\n",
       "    fig.buttons = {};\n",
       "    var buttonGroup = document.createElement('div');\n",
       "    buttonGroup.classList = 'mpl-button-group';\n",
       "    for (var toolbar_ind in mpl.toolbar_items) {\n",
       "        var name = mpl.toolbar_items[toolbar_ind][0];\n",
       "        var tooltip = mpl.toolbar_items[toolbar_ind][1];\n",
       "        var image = mpl.toolbar_items[toolbar_ind][2];\n",
       "        var method_name = mpl.toolbar_items[toolbar_ind][3];\n",
       "\n",
       "        if (!name) {\n",
       "            /* Instead of a spacer, we start a new button group. */\n",
       "            if (buttonGroup.hasChildNodes()) {\n",
       "                toolbar.appendChild(buttonGroup);\n",
       "            }\n",
       "            buttonGroup = document.createElement('div');\n",
       "            buttonGroup.classList = 'mpl-button-group';\n",
       "            continue;\n",
       "        }\n",
       "\n",
       "        var button = (fig.buttons[name] = document.createElement('button'));\n",
       "        button.classList = 'mpl-widget';\n",
       "        button.setAttribute('role', 'button');\n",
       "        button.setAttribute('aria-disabled', 'false');\n",
       "        button.addEventListener('click', on_click_closure(method_name));\n",
       "        button.addEventListener('mouseover', on_mouseover_closure(tooltip));\n",
       "\n",
       "        var icon_img = document.createElement('img');\n",
       "        icon_img.src = '_images/' + image + '.png';\n",
       "        icon_img.srcset = '_images/' + image + '_large.png 2x';\n",
       "        icon_img.alt = tooltip;\n",
       "        button.appendChild(icon_img);\n",
       "\n",
       "        buttonGroup.appendChild(button);\n",
       "    }\n",
       "\n",
       "    if (buttonGroup.hasChildNodes()) {\n",
       "        toolbar.appendChild(buttonGroup);\n",
       "    }\n",
       "\n",
       "    var fmt_picker = document.createElement('select');\n",
       "    fmt_picker.classList = 'mpl-widget';\n",
       "    toolbar.appendChild(fmt_picker);\n",
       "    this.format_dropdown = fmt_picker;\n",
       "\n",
       "    for (var ind in mpl.extensions) {\n",
       "        var fmt = mpl.extensions[ind];\n",
       "        var option = document.createElement('option');\n",
       "        option.selected = fmt === mpl.default_extension;\n",
       "        option.innerHTML = fmt;\n",
       "        fmt_picker.appendChild(option);\n",
       "    }\n",
       "\n",
       "    var status_bar = document.createElement('span');\n",
       "    status_bar.classList = 'mpl-message';\n",
       "    toolbar.appendChild(status_bar);\n",
       "    this.message = status_bar;\n",
       "};\n",
       "\n",
       "mpl.figure.prototype.request_resize = function (x_pixels, y_pixels) {\n",
       "    // Request matplotlib to resize the figure. Matplotlib will then trigger a resize in the client,\n",
       "    // which will in turn request a refresh of the image.\n",
       "    this.send_message('resize', { width: x_pixels, height: y_pixels });\n",
       "};\n",
       "\n",
       "mpl.figure.prototype.send_message = function (type, properties) {\n",
       "    properties['type'] = type;\n",
       "    properties['figure_id'] = this.id;\n",
       "    this.ws.send(JSON.stringify(properties));\n",
       "};\n",
       "\n",
       "mpl.figure.prototype.send_draw_message = function () {\n",
       "    if (!this.waiting) {\n",
       "        this.waiting = true;\n",
       "        this.ws.send(JSON.stringify({ type: 'draw', figure_id: this.id }));\n",
       "    }\n",
       "};\n",
       "\n",
       "mpl.figure.prototype.handle_save = function (fig, _msg) {\n",
       "    var format_dropdown = fig.format_dropdown;\n",
       "    var format = format_dropdown.options[format_dropdown.selectedIndex].value;\n",
       "    fig.ondownload(fig, format);\n",
       "};\n",
       "\n",
       "mpl.figure.prototype.handle_resize = function (fig, msg) {\n",
       "    var size = msg['size'];\n",
       "    if (size[0] !== fig.canvas.width || size[1] !== fig.canvas.height) {\n",
       "        fig._resize_canvas(size[0], size[1], msg['forward']);\n",
       "        fig.send_message('refresh', {});\n",
       "    }\n",
       "};\n",
       "\n",
       "mpl.figure.prototype.handle_rubberband = function (fig, msg) {\n",
       "    var x0 = msg['x0'] / fig.ratio;\n",
       "    var y0 = (fig.canvas.height - msg['y0']) / fig.ratio;\n",
       "    var x1 = msg['x1'] / fig.ratio;\n",
       "    var y1 = (fig.canvas.height - msg['y1']) / fig.ratio;\n",
       "    x0 = Math.floor(x0) + 0.5;\n",
       "    y0 = Math.floor(y0) + 0.5;\n",
       "    x1 = Math.floor(x1) + 0.5;\n",
       "    y1 = Math.floor(y1) + 0.5;\n",
       "    var min_x = Math.min(x0, x1);\n",
       "    var min_y = Math.min(y0, y1);\n",
       "    var width = Math.abs(x1 - x0);\n",
       "    var height = Math.abs(y1 - y0);\n",
       "\n",
       "    fig.rubberband_context.clearRect(\n",
       "        0,\n",
       "        0,\n",
       "        fig.canvas.width / fig.ratio,\n",
       "        fig.canvas.height / fig.ratio\n",
       "    );\n",
       "\n",
       "    fig.rubberband_context.strokeRect(min_x, min_y, width, height);\n",
       "};\n",
       "\n",
       "mpl.figure.prototype.handle_figure_label = function (fig, msg) {\n",
       "    // Updates the figure title.\n",
       "    fig.header.textContent = msg['label'];\n",
       "};\n",
       "\n",
       "mpl.figure.prototype.handle_cursor = function (fig, msg) {\n",
       "    fig.rubberband_canvas.style.cursor = msg['cursor'];\n",
       "};\n",
       "\n",
       "mpl.figure.prototype.handle_message = function (fig, msg) {\n",
       "    fig.message.textContent = msg['message'];\n",
       "};\n",
       "\n",
       "mpl.figure.prototype.handle_draw = function (fig, _msg) {\n",
       "    // Request the server to send over a new figure.\n",
       "    fig.send_draw_message();\n",
       "};\n",
       "\n",
       "mpl.figure.prototype.handle_image_mode = function (fig, msg) {\n",
       "    fig.image_mode = msg['mode'];\n",
       "};\n",
       "\n",
       "mpl.figure.prototype.handle_history_buttons = function (fig, msg) {\n",
       "    for (var key in msg) {\n",
       "        if (!(key in fig.buttons)) {\n",
       "            continue;\n",
       "        }\n",
       "        fig.buttons[key].disabled = !msg[key];\n",
       "        fig.buttons[key].setAttribute('aria-disabled', !msg[key]);\n",
       "    }\n",
       "};\n",
       "\n",
       "mpl.figure.prototype.handle_navigate_mode = function (fig, msg) {\n",
       "    if (msg['mode'] === 'PAN') {\n",
       "        fig.buttons['Pan'].classList.add('active');\n",
       "        fig.buttons['Zoom'].classList.remove('active');\n",
       "    } else if (msg['mode'] === 'ZOOM') {\n",
       "        fig.buttons['Pan'].classList.remove('active');\n",
       "        fig.buttons['Zoom'].classList.add('active');\n",
       "    } else {\n",
       "        fig.buttons['Pan'].classList.remove('active');\n",
       "        fig.buttons['Zoom'].classList.remove('active');\n",
       "    }\n",
       "};\n",
       "\n",
       "mpl.figure.prototype.updated_canvas_event = function () {\n",
       "    // Called whenever the canvas gets updated.\n",
       "    this.send_message('ack', {});\n",
       "};\n",
       "\n",
       "// A function to construct a web socket function for onmessage handling.\n",
       "// Called in the figure constructor.\n",
       "mpl.figure.prototype._make_on_message_function = function (fig) {\n",
       "    return function socket_on_message(evt) {\n",
       "        if (evt.data instanceof Blob) {\n",
       "            var img = evt.data;\n",
       "            if (img.type !== 'image/png') {\n",
       "                /* FIXME: We get \"Resource interpreted as Image but\n",
       "                 * transferred with MIME type text/plain:\" errors on\n",
       "                 * Chrome.  But how to set the MIME type?  It doesn't seem\n",
       "                 * to be part of the websocket stream */\n",
       "                img.type = 'image/png';\n",
       "            }\n",
       "\n",
       "            /* Free the memory for the previous frames */\n",
       "            if (fig.imageObj.src) {\n",
       "                (window.URL || window.webkitURL).revokeObjectURL(\n",
       "                    fig.imageObj.src\n",
       "                );\n",
       "            }\n",
       "\n",
       "            fig.imageObj.src = (window.URL || window.webkitURL).createObjectURL(\n",
       "                img\n",
       "            );\n",
       "            fig.updated_canvas_event();\n",
       "            fig.waiting = false;\n",
       "            return;\n",
       "        } else if (\n",
       "            typeof evt.data === 'string' &&\n",
       "            evt.data.slice(0, 21) === 'data:image/png;base64'\n",
       "        ) {\n",
       "            fig.imageObj.src = evt.data;\n",
       "            fig.updated_canvas_event();\n",
       "            fig.waiting = false;\n",
       "            return;\n",
       "        }\n",
       "\n",
       "        var msg = JSON.parse(evt.data);\n",
       "        var msg_type = msg['type'];\n",
       "\n",
       "        // Call the  \"handle_{type}\" callback, which takes\n",
       "        // the figure and JSON message as its only arguments.\n",
       "        try {\n",
       "            var callback = fig['handle_' + msg_type];\n",
       "        } catch (e) {\n",
       "            console.log(\n",
       "                \"No handler for the '\" + msg_type + \"' message type: \",\n",
       "                msg\n",
       "            );\n",
       "            return;\n",
       "        }\n",
       "\n",
       "        if (callback) {\n",
       "            try {\n",
       "                // console.log(\"Handling '\" + msg_type + \"' message: \", msg);\n",
       "                callback(fig, msg);\n",
       "            } catch (e) {\n",
       "                console.log(\n",
       "                    \"Exception inside the 'handler_\" + msg_type + \"' callback:\",\n",
       "                    e,\n",
       "                    e.stack,\n",
       "                    msg\n",
       "                );\n",
       "            }\n",
       "        }\n",
       "    };\n",
       "};\n",
       "\n",
       "// from https://stackoverflow.com/questions/1114465/getting-mouse-location-in-canvas\n",
       "mpl.findpos = function (e) {\n",
       "    //this section is from http://www.quirksmode.org/js/events_properties.html\n",
       "    var targ;\n",
       "    if (!e) {\n",
       "        e = window.event;\n",
       "    }\n",
       "    if (e.target) {\n",
       "        targ = e.target;\n",
       "    } else if (e.srcElement) {\n",
       "        targ = e.srcElement;\n",
       "    }\n",
       "    if (targ.nodeType === 3) {\n",
       "        // defeat Safari bug\n",
       "        targ = targ.parentNode;\n",
       "    }\n",
       "\n",
       "    // pageX,Y are the mouse positions relative to the document\n",
       "    var boundingRect = targ.getBoundingClientRect();\n",
       "    var x = e.pageX - (boundingRect.left + document.body.scrollLeft);\n",
       "    var y = e.pageY - (boundingRect.top + document.body.scrollTop);\n",
       "\n",
       "    return { x: x, y: y };\n",
       "};\n",
       "\n",
       "/*\n",
       " * return a copy of an object with only non-object keys\n",
       " * we need this to avoid circular references\n",
       " * https://stackoverflow.com/a/24161582/3208463\n",
       " */\n",
       "function simpleKeys(original) {\n",
       "    return Object.keys(original).reduce(function (obj, key) {\n",
       "        if (typeof original[key] !== 'object') {\n",
       "            obj[key] = original[key];\n",
       "        }\n",
       "        return obj;\n",
       "    }, {});\n",
       "}\n",
       "\n",
       "mpl.figure.prototype.mouse_event = function (event, name) {\n",
       "    var canvas_pos = mpl.findpos(event);\n",
       "\n",
       "    if (name === 'button_press') {\n",
       "        this.canvas.focus();\n",
       "        this.canvas_div.focus();\n",
       "    }\n",
       "\n",
       "    var x = canvas_pos.x * this.ratio;\n",
       "    var y = canvas_pos.y * this.ratio;\n",
       "\n",
       "    this.send_message(name, {\n",
       "        x: x,\n",
       "        y: y,\n",
       "        button: event.button,\n",
       "        step: event.step,\n",
       "        guiEvent: simpleKeys(event),\n",
       "    });\n",
       "\n",
       "    /* This prevents the web browser from automatically changing to\n",
       "     * the text insertion cursor when the button is pressed.  We want\n",
       "     * to control all of the cursor setting manually through the\n",
       "     * 'cursor' event from matplotlib */\n",
       "    event.preventDefault();\n",
       "    return false;\n",
       "};\n",
       "\n",
       "mpl.figure.prototype._key_event_extra = function (_event, _name) {\n",
       "    // Handle any extra behaviour associated with a key event\n",
       "};\n",
       "\n",
       "mpl.figure.prototype.key_event = function (event, name) {\n",
       "    // Prevent repeat events\n",
       "    if (name === 'key_press') {\n",
       "        if (event.key === this._key) {\n",
       "            return;\n",
       "        } else {\n",
       "            this._key = event.key;\n",
       "        }\n",
       "    }\n",
       "    if (name === 'key_release') {\n",
       "        this._key = null;\n",
       "    }\n",
       "\n",
       "    var value = '';\n",
       "    if (event.ctrlKey && event.key !== 'Control') {\n",
       "        value += 'ctrl+';\n",
       "    }\n",
       "    else if (event.altKey && event.key !== 'Alt') {\n",
       "        value += 'alt+';\n",
       "    }\n",
       "    else if (event.shiftKey && event.key !== 'Shift') {\n",
       "        value += 'shift+';\n",
       "    }\n",
       "\n",
       "    value += 'k' + event.key;\n",
       "\n",
       "    this._key_event_extra(event, name);\n",
       "\n",
       "    this.send_message(name, { key: value, guiEvent: simpleKeys(event) });\n",
       "    return false;\n",
       "};\n",
       "\n",
       "mpl.figure.prototype.toolbar_button_onclick = function (name) {\n",
       "    if (name === 'download') {\n",
       "        this.handle_save(this, null);\n",
       "    } else {\n",
       "        this.send_message('toolbar_button', { name: name });\n",
       "    }\n",
       "};\n",
       "\n",
       "mpl.figure.prototype.toolbar_button_onmouseover = function (tooltip) {\n",
       "    this.message.textContent = tooltip;\n",
       "};\n",
       "\n",
       "///////////////// REMAINING CONTENT GENERATED BY embed_js.py /////////////////\n",
       "// prettier-ignore\n",
       "var _JSXTOOLS_RESIZE_OBSERVER=function(A){var t,i=new WeakMap,n=new WeakMap,a=new WeakMap,r=new WeakMap,o=new Set;function s(e){if(!(this instanceof s))throw new TypeError(\"Constructor requires 'new' operator\");i.set(this,e)}function h(){throw new TypeError(\"Function is not a constructor\")}function c(e,t,i,n){e=0 in arguments?Number(arguments[0]):0,t=1 in arguments?Number(arguments[1]):0,i=2 in arguments?Number(arguments[2]):0,n=3 in arguments?Number(arguments[3]):0,this.right=(this.x=this.left=e)+(this.width=i),this.bottom=(this.y=this.top=t)+(this.height=n),Object.freeze(this)}function d(){t=requestAnimationFrame(d);var s=new WeakMap,p=new Set;o.forEach((function(t){r.get(t).forEach((function(i){var r=t instanceof window.SVGElement,o=a.get(t),d=r?0:parseFloat(o.paddingTop),f=r?0:parseFloat(o.paddingRight),l=r?0:parseFloat(o.paddingBottom),u=r?0:parseFloat(o.paddingLeft),g=r?0:parseFloat(o.borderTopWidth),m=r?0:parseFloat(o.borderRightWidth),w=r?0:parseFloat(o.borderBottomWidth),b=u+f,F=d+l,v=(r?0:parseFloat(o.borderLeftWidth))+m,W=g+w,y=r?0:t.offsetHeight-W-t.clientHeight,E=r?0:t.offsetWidth-v-t.clientWidth,R=b+v,z=F+W,M=r?t.width:parseFloat(o.width)-R-E,O=r?t.height:parseFloat(o.height)-z-y;if(n.has(t)){var k=n.get(t);if(k[0]===M&&k[1]===O)return}n.set(t,[M,O]);var S=Object.create(h.prototype);S.target=t,S.contentRect=new c(u,d,M,O),s.has(i)||(s.set(i,[]),p.add(i)),s.get(i).push(S)}))})),p.forEach((function(e){i.get(e).call(e,s.get(e),e)}))}return s.prototype.observe=function(i){if(i instanceof window.Element){r.has(i)||(r.set(i,new Set),o.add(i),a.set(i,window.getComputedStyle(i)));var n=r.get(i);n.has(this)||n.add(this),cancelAnimationFrame(t),t=requestAnimationFrame(d)}},s.prototype.unobserve=function(i){if(i instanceof window.Element&&r.has(i)){var n=r.get(i);n.has(this)&&(n.delete(this),n.size||(r.delete(i),o.delete(i))),n.size||r.delete(i),o.size||cancelAnimationFrame(t)}},A.DOMRectReadOnly=c,A.ResizeObserver=s,A.ResizeObserverEntry=h,A}; // eslint-disable-line\n",
       "mpl.toolbar_items = [[\"Home\", \"Reset original view\", \"fa fa-home icon-home\", \"home\"], [\"Back\", \"Back to previous view\", \"fa fa-arrow-left icon-arrow-left\", \"back\"], [\"Forward\", \"Forward to next view\", \"fa fa-arrow-right icon-arrow-right\", \"forward\"], [\"\", \"\", \"\", \"\"], [\"Pan\", \"Left button pans, Right button zooms\\nx/y fixes axis, CTRL fixes aspect\", \"fa fa-arrows icon-move\", \"pan\"], [\"Zoom\", \"Zoom to rectangle\\nx/y fixes axis\", \"fa fa-square-o icon-check-empty\", \"zoom\"], [\"\", \"\", \"\", \"\"], [\"Download\", \"Download plot\", \"fa fa-floppy-o icon-save\", \"download\"]];\n",
       "\n",
       "mpl.extensions = [\"eps\", \"jpeg\", \"pgf\", \"pdf\", \"png\", \"ps\", \"raw\", \"svg\", \"tif\"];\n",
       "\n",
       "mpl.default_extension = \"png\";/* global mpl */\n",
       "\n",
       "var comm_websocket_adapter = function (comm) {\n",
       "    // Create a \"websocket\"-like object which calls the given IPython comm\n",
       "    // object with the appropriate methods. Currently this is a non binary\n",
       "    // socket, so there is still some room for performance tuning.\n",
       "    var ws = {};\n",
       "\n",
       "    ws.binaryType = comm.kernel.ws.binaryType;\n",
       "    ws.readyState = comm.kernel.ws.readyState;\n",
       "    function updateReadyState(_event) {\n",
       "        if (comm.kernel.ws) {\n",
       "            ws.readyState = comm.kernel.ws.readyState;\n",
       "        } else {\n",
       "            ws.readyState = 3; // Closed state.\n",
       "        }\n",
       "    }\n",
       "    comm.kernel.ws.addEventListener('open', updateReadyState);\n",
       "    comm.kernel.ws.addEventListener('close', updateReadyState);\n",
       "    comm.kernel.ws.addEventListener('error', updateReadyState);\n",
       "\n",
       "    ws.close = function () {\n",
       "        comm.close();\n",
       "    };\n",
       "    ws.send = function (m) {\n",
       "        //console.log('sending', m);\n",
       "        comm.send(m);\n",
       "    };\n",
       "    // Register the callback with on_msg.\n",
       "    comm.on_msg(function (msg) {\n",
       "        //console.log('receiving', msg['content']['data'], msg);\n",
       "        var data = msg['content']['data'];\n",
       "        if (data['blob'] !== undefined) {\n",
       "            data = {\n",
       "                data: new Blob(msg['buffers'], { type: data['blob'] }),\n",
       "            };\n",
       "        }\n",
       "        // Pass the mpl event to the overridden (by mpl) onmessage function.\n",
       "        ws.onmessage(data);\n",
       "    });\n",
       "    return ws;\n",
       "};\n",
       "\n",
       "mpl.mpl_figure_comm = function (comm, msg) {\n",
       "    // This is the function which gets called when the mpl process\n",
       "    // starts-up an IPython Comm through the \"matplotlib\" channel.\n",
       "\n",
       "    var id = msg.content.data.id;\n",
       "    // Get hold of the div created by the display call when the Comm\n",
       "    // socket was opened in Python.\n",
       "    var element = document.getElementById(id);\n",
       "    var ws_proxy = comm_websocket_adapter(comm);\n",
       "\n",
       "    function ondownload(figure, _format) {\n",
       "        window.open(figure.canvas.toDataURL());\n",
       "    }\n",
       "\n",
       "    var fig = new mpl.figure(id, ws_proxy, ondownload, element);\n",
       "\n",
       "    // Call onopen now - mpl needs it, as it is assuming we've passed it a real\n",
       "    // web socket which is closed, not our websocket->open comm proxy.\n",
       "    ws_proxy.onopen();\n",
       "\n",
       "    fig.parent_element = element;\n",
       "    fig.cell_info = mpl.find_output_cell(\"<div id='\" + id + \"'></div>\");\n",
       "    if (!fig.cell_info) {\n",
       "        console.error('Failed to find cell for figure', id, fig);\n",
       "        return;\n",
       "    }\n",
       "    fig.cell_info[0].output_area.element.on(\n",
       "        'cleared',\n",
       "        { fig: fig },\n",
       "        fig._remove_fig_handler\n",
       "    );\n",
       "};\n",
       "\n",
       "mpl.figure.prototype.handle_close = function (fig, msg) {\n",
       "    var width = fig.canvas.width / fig.ratio;\n",
       "    fig.cell_info[0].output_area.element.off(\n",
       "        'cleared',\n",
       "        fig._remove_fig_handler\n",
       "    );\n",
       "    fig.resizeObserverInstance.unobserve(fig.canvas_div);\n",
       "\n",
       "    // Update the output cell to use the data from the current canvas.\n",
       "    fig.push_to_output();\n",
       "    var dataURL = fig.canvas.toDataURL();\n",
       "    // Re-enable the keyboard manager in IPython - without this line, in FF,\n",
       "    // the notebook keyboard shortcuts fail.\n",
       "    IPython.keyboard_manager.enable();\n",
       "    fig.parent_element.innerHTML =\n",
       "        '<img src=\"' + dataURL + '\" width=\"' + width + '\">';\n",
       "    fig.close_ws(fig, msg);\n",
       "};\n",
       "\n",
       "mpl.figure.prototype.close_ws = function (fig, msg) {\n",
       "    fig.send_message('closing', msg);\n",
       "    // fig.ws.close()\n",
       "};\n",
       "\n",
       "mpl.figure.prototype.push_to_output = function (_remove_interactive) {\n",
       "    // Turn the data on the canvas into data in the output cell.\n",
       "    var width = this.canvas.width / this.ratio;\n",
       "    var dataURL = this.canvas.toDataURL();\n",
       "    this.cell_info[1]['text/html'] =\n",
       "        '<img src=\"' + dataURL + '\" width=\"' + width + '\">';\n",
       "};\n",
       "\n",
       "mpl.figure.prototype.updated_canvas_event = function () {\n",
       "    // Tell IPython that the notebook contents must change.\n",
       "    IPython.notebook.set_dirty(true);\n",
       "    this.send_message('ack', {});\n",
       "    var fig = this;\n",
       "    // Wait a second, then push the new image to the DOM so\n",
       "    // that it is saved nicely (might be nice to debounce this).\n",
       "    setTimeout(function () {\n",
       "        fig.push_to_output();\n",
       "    }, 1000);\n",
       "};\n",
       "\n",
       "mpl.figure.prototype._init_toolbar = function () {\n",
       "    var fig = this;\n",
       "\n",
       "    var toolbar = document.createElement('div');\n",
       "    toolbar.classList = 'btn-toolbar';\n",
       "    this.root.appendChild(toolbar);\n",
       "\n",
       "    function on_click_closure(name) {\n",
       "        return function (_event) {\n",
       "            return fig.toolbar_button_onclick(name);\n",
       "        };\n",
       "    }\n",
       "\n",
       "    function on_mouseover_closure(tooltip) {\n",
       "        return function (event) {\n",
       "            if (!event.currentTarget.disabled) {\n",
       "                return fig.toolbar_button_onmouseover(tooltip);\n",
       "            }\n",
       "        };\n",
       "    }\n",
       "\n",
       "    fig.buttons = {};\n",
       "    var buttonGroup = document.createElement('div');\n",
       "    buttonGroup.classList = 'btn-group';\n",
       "    var button;\n",
       "    for (var toolbar_ind in mpl.toolbar_items) {\n",
       "        var name = mpl.toolbar_items[toolbar_ind][0];\n",
       "        var tooltip = mpl.toolbar_items[toolbar_ind][1];\n",
       "        var image = mpl.toolbar_items[toolbar_ind][2];\n",
       "        var method_name = mpl.toolbar_items[toolbar_ind][3];\n",
       "\n",
       "        if (!name) {\n",
       "            /* Instead of a spacer, we start a new button group. */\n",
       "            if (buttonGroup.hasChildNodes()) {\n",
       "                toolbar.appendChild(buttonGroup);\n",
       "            }\n",
       "            buttonGroup = document.createElement('div');\n",
       "            buttonGroup.classList = 'btn-group';\n",
       "            continue;\n",
       "        }\n",
       "\n",
       "        button = fig.buttons[name] = document.createElement('button');\n",
       "        button.classList = 'btn btn-default';\n",
       "        button.href = '#';\n",
       "        button.title = name;\n",
       "        button.innerHTML = '<i class=\"fa ' + image + ' fa-lg\"></i>';\n",
       "        button.addEventListener('click', on_click_closure(method_name));\n",
       "        button.addEventListener('mouseover', on_mouseover_closure(tooltip));\n",
       "        buttonGroup.appendChild(button);\n",
       "    }\n",
       "\n",
       "    if (buttonGroup.hasChildNodes()) {\n",
       "        toolbar.appendChild(buttonGroup);\n",
       "    }\n",
       "\n",
       "    // Add the status bar.\n",
       "    var status_bar = document.createElement('span');\n",
       "    status_bar.classList = 'mpl-message pull-right';\n",
       "    toolbar.appendChild(status_bar);\n",
       "    this.message = status_bar;\n",
       "\n",
       "    // Add the close button to the window.\n",
       "    var buttongrp = document.createElement('div');\n",
       "    buttongrp.classList = 'btn-group inline pull-right';\n",
       "    button = document.createElement('button');\n",
       "    button.classList = 'btn btn-mini btn-primary';\n",
       "    button.href = '#';\n",
       "    button.title = 'Stop Interaction';\n",
       "    button.innerHTML = '<i class=\"fa fa-power-off icon-remove icon-large\"></i>';\n",
       "    button.addEventListener('click', function (_evt) {\n",
       "        fig.handle_close(fig, {});\n",
       "    });\n",
       "    button.addEventListener(\n",
       "        'mouseover',\n",
       "        on_mouseover_closure('Stop Interaction')\n",
       "    );\n",
       "    buttongrp.appendChild(button);\n",
       "    var titlebar = this.root.querySelector('.ui-dialog-titlebar');\n",
       "    titlebar.insertBefore(buttongrp, titlebar.firstChild);\n",
       "};\n",
       "\n",
       "mpl.figure.prototype._remove_fig_handler = function (event) {\n",
       "    var fig = event.data.fig;\n",
       "    if (event.target !== this) {\n",
       "        // Ignore bubbled events from children.\n",
       "        return;\n",
       "    }\n",
       "    fig.close_ws(fig, {});\n",
       "};\n",
       "\n",
       "mpl.figure.prototype._root_extra_style = function (el) {\n",
       "    el.style.boxSizing = 'content-box'; // override notebook setting of border-box.\n",
       "};\n",
       "\n",
       "mpl.figure.prototype._canvas_extra_style = function (el) {\n",
       "    // this is important to make the div 'focusable\n",
       "    el.setAttribute('tabindex', 0);\n",
       "    // reach out to IPython and tell the keyboard manager to turn it's self\n",
       "    // off when our div gets focus\n",
       "\n",
       "    // location in version 3\n",
       "    if (IPython.notebook.keyboard_manager) {\n",
       "        IPython.notebook.keyboard_manager.register_events(el);\n",
       "    } else {\n",
       "        // location in version 2\n",
       "        IPython.keyboard_manager.register_events(el);\n",
       "    }\n",
       "};\n",
       "\n",
       "mpl.figure.prototype._key_event_extra = function (event, _name) {\n",
       "    // Check for shift+enter\n",
       "    if (event.shiftKey && event.which === 13) {\n",
       "        this.canvas_div.blur();\n",
       "        // select the cell after this one\n",
       "        var index = IPython.notebook.find_cell_index(this.cell_info[0]);\n",
       "        IPython.notebook.select(index + 1);\n",
       "    }\n",
       "};\n",
       "\n",
       "mpl.figure.prototype.handle_save = function (fig, _msg) {\n",
       "    fig.ondownload(fig, null);\n",
       "};\n",
       "\n",
       "mpl.find_output_cell = function (html_output) {\n",
       "    // Return the cell and output element which can be found *uniquely* in the notebook.\n",
       "    // Note - this is a bit hacky, but it is done because the \"notebook_saving.Notebook\"\n",
       "    // IPython event is triggered only after the cells have been serialised, which for\n",
       "    // our purposes (turning an active figure into a static one), is too late.\n",
       "    var cells = IPython.notebook.get_cells();\n",
       "    var ncells = cells.length;\n",
       "    for (var i = 0; i < ncells; i++) {\n",
       "        var cell = cells[i];\n",
       "        if (cell.cell_type === 'code') {\n",
       "            for (var j = 0; j < cell.output_area.outputs.length; j++) {\n",
       "                var data = cell.output_area.outputs[j];\n",
       "                if (data.data) {\n",
       "                    // IPython >= 3 moved mimebundle to data attribute of output\n",
       "                    data = data.data;\n",
       "                }\n",
       "                if (data['text/html'] === html_output) {\n",
       "                    return [cell, data, j];\n",
       "                }\n",
       "            }\n",
       "        }\n",
       "    }\n",
       "};\n",
       "\n",
       "// Register the function which deals with the matplotlib target/channel.\n",
       "// The kernel may be null if the page has been refreshed.\n",
       "if (IPython.notebook.kernel !== null) {\n",
       "    IPython.notebook.kernel.comm_manager.register_target(\n",
       "        'matplotlib',\n",
       "        mpl.mpl_figure_comm\n",
       "    );\n",
       "}\n"
      ],
      "text/plain": [
       "<IPython.core.display.Javascript object>"
      ]
     },
     "metadata": {},
     "output_type": "display_data"
    },
    {
     "data": {
      "text/html": [
       "<img src=\"data:image/png;base64,iVBORw0KGgoAAAANSUhEUgAAB4AAAAPACAYAAADUtWS5AAAAAXNSR0IArs4c6QAAIABJREFUeF7s3QmYnWV5N/A7e0L2yR4gJIFACIGwIzvK+mmtWm1V1Cotaq11qV7dLrXa6mU3rdVS69Ja6671q58riKKyCCjIEiAbWSEhezLZt0nmu543npgDSWYyy8m8z/s715VCyTnvee/ffc9MO//zPE+v1tbW1vAgQIAAAQIECBAgQIAAAQIECBAgQIAAAQIECBAgQKASAr169epViUIrWmQvAXBFO69sAgQIECBAgAABAgQIECBAgAABAgQIECBAgACBSgoIgPNuuwA47/6qjgABAgQIECBAgAABAgQIECBAgAABAgQIECBAgECdgAA474EQAOfdX9URIECAAAECBAgQIECAAAECBAgQIECAAAECBAgQEABXaAYEwBVqtlIJECBAgAABAgQIECBAgAABAgQIECBAgAABAgQIWAGc9wwIgPPur+oIECBAgAABAgQIECBAgAABAgQIECBAgAABAgQI1AkIgPMeCAFw3v1VHQECBAgQIECAAAECBAgQIECAAAECBAgQIECAAAEBcIVmQABcoWYrlQABAgQIECBAgAABAgQIECBAgAABAgQIECBAgIAVwHnPgAA47/6qjgABAgQIECBAgAABAgQIECBAgAABAgQIECBAgECdgAA474EQAOfdX9URIECAAAECBAgQIECAAAECBAgQIECAAAECBAgQEABXaAYEwBVqtlIJECBAgAABAgQIECBAgAABAgQIECBAgAABAgQIWAGc9wwIgPPur+oIECBAgAABAgQIECBAgAABAgQIECBAgAABAgQI1AkIgPMeCAFw3v1VHQECBAgQIECAAAECBAgQIECAAAECBAgQIECAAAEBcIVmQABcoWYrlQABAgQIECBAgAABAgQIECBAgAABAgQIECBAgIAVwHnPgAA47/6qjgABAgQIECBAgAABAgQIECBAgAABAgQIECBAgECdgAA474EQAOfdX9URIECAAAECBAgQIECAAAECBAgQIECAAAECBAgQEABXaAYEwBVqtlIJECBAgAABAgQIECBAgAABAgQIECBAgAABAgQIWAGc9wwIgPPur+oIECBAgAABAgQIECBAgAABAgQIECBAgAABAgQI1AkIgPMeCAFw3v1VHQECBAgQIECAAAECBAgQIECAAAECBAgQIECAAAEBcIVmQABcoWYrlQABAgQIECBAgAABAgQIECBAgAABAgQIECBAgIAVwHnPgAA47/6qjgABAgQIECBAgAABAgQIECBAgAABAgQIECBAgECdgAA474EQAOfdX9URIECAAAECBAgQIECAAAECBAgQIECAAAECBAgQEABXaAYEwBVqtlIJECBAgAABAgQIECBAgAABAgQIECBAgAABAgQIWAGc9wwIgPPur+oIECBAgAABAgQIECBAgAABAgQIECBAgAABAgQI1AkIgPMeCAFw3v1VHQECBAgQIECAAAECBAgQIECAAAECBAgQIECAAAEBcIVmQABcoWYrlQABAgQIECBAgAABAgQIECBAgAABAgQIECBAgIAVwHnPgAA47/6qjgABAgQIECBAgAABAgQIECBAgAABAgQIECBAgECdgAA474EQAOfdX9URIECAAAECBAgQIECAAAECBAgQIECAAAECBAgQEABXaAYEwBVqtlIJECBAgAABAgQIECBAgAABAgQIECBAgAABAgQIWAGc9wwIgPPur+oIECBAgAABAgQIECBAgAABAgQIECBAgAABAgQI1AkIgPMeCAFw3v1VHQECBAgQIECAAAECBAgQIECAAAECBAgQIECAAAEBcIVmQABcoWYrlQABAgQIECBAgAABAgQIECBAgAABAgQIECBAgIAVwHnPgAA47/6qjgABAgQIECBAgAABAgQIECBAgAABAgQIECBAgECdgAA474EQAOfdX9URIECAAAECBAgQIECAAAECBAgQIECAAAECBAgQEABXaAYEwBVqtlIJECBAgAABAgQIECBAgAABAgQIECBAgAABAgQIWAGc9wwIgPPur+oIECBAgAABAgQIECBAgAABAgQIECBAgAABAgQI1AkIgPMeCAFw3v1VHQECBAgQIECAAAECBAgQIECAAAECBAgQIECAAAEBcIVmQABcoWYrlQABAgQIECBAgAABAgQIECBAgAABAgQIECBAgIAVwHnPgAA47/6qjgABAgQIECBAgAABAgQIECBAgAABAgQIECBAgECdgAA474EQAOfdX9URIECAAAECBAgQIECAAAECBAgQIECAAAECBAgQEABXaAYEwBVqtlIJECBAgAABAgQIECBAgAABAgQIECBAgAABAgQIWAGc9wwIgPPur+oIECBAgAABAgQIECBAgAABAgQIECBAgAABAgQI1AkIgPMeCAFw3v1VHQECBAgQIECAAAECBAgQIECAAAECBAgQIECAAAEBcIVmQABcoWYrlQABAgQIECBAgAABAgQIECBAgAABAgQIECBAgIAVwHnPgAA47/6qjgABAgQIECBAgAABAgQIECBAgAABAgQIECBAgECdgAA474EQAOfdX9URIECAAAECBAgQIECAAAECBAgQIECAAAECBAgQEABXaAYEwBVqtlIJECBAgAABAgQIECBAgAABAgQIECBAgAABAgQIWAGc9wwIgPPur+oIECBAgAABAgQIECBAgAABAgQIECBAgAABAgQI1AkIgPMeCAFw3v1VHQECBAgQIECAAAECBAgQIECAAAECBAgQIECAAAEBcIVmQABcoWYrlQABAgQIECBAgAABAgQIECBAgAABAgQIECBAgIAVwHnPgAA47/6qjgABAgQIECBAgAABAgQIECBAgAABAgQIECBAgECdgAA474EQAOfdX9URIECAAAECBAgQIECAAAECBAgQIECAAAECBAgQEABXaAYEwBVqtlIJECBAgAABAgQIECBAgAABAgQIECBAgAABAgQIWAGc9wwIgPPur+oIECBAgAABAgQIECBAgAABAgQIECBAgAABAgQI1AkIgPMeCAFw3v1VHQECBAgQIECAAAECBAgQIECAAAECBAgQIECAAAEBcIVmQABcoWYrlQABAgQIECBAgAABAgQIECBAgAABAgQIECBAgIAVwHnPgAA47/6qjgABAgQIECBAgAABAgQIECBAgAABAgQIECBAgECdgAA474EQAOfdX9URIECAAAECBAgQIECAAAECBAgQIECAAAECBAgQEABXaAYEwBVqtlIJECBAgAABAgQIECBAgAABAgQIECBAgAABAgQIWAGc9wwIgPPur+oIECBAgAABAgQIECBAgAABAgQIECBAgAABAgQI1AkIgPMeCAFw3v1VHQECBAgQIECAAAECBAgQIECAAAECBAgQIECAAAEBcIVmQABcoWYrlQABAgQIECBAgAABAgQIECBAgAABAgQIECBAgIAVwHnPgAA47/6qjgABAgQIECBAgAABAgQIECBAgAABAgQIECBAgECdgAA474EQAOfdX9URIECAAAECBAgQIECAAAECBAgQIECAAAECBAgQEABXaAYEwBVqtlIJECBAgAABAgQIECBAgAABAgQIECBAgAABAgQIWAGc9wwIgPPur+oIECBAgAABAgQIECBAgAABAgQIECBAgAABAgQI1AkIgPMeCAFw3v1VHQECBAgQIECAAAECBAgQIECAAAECBAgQIECAAAEBcIVmQABcoWYrlQABAgQIECBAgAABAgQIECBAgAABAgQIECBAgIAVwHnPgAA47/6qjgABAgQIECBAgAABAgQIECBAgAABAgQIECBAgECdgAA474EQAOfdX9URIECAAAECBAgQIECAAAECBAgQIECAAAECBAgQEABXaAYEwBVqtlIJECBAgAABAgQIECBAgAABAgQIECBAgAABAgQIWAGc9wwIgPPur+oIECBAgAABAgQIECBAgAABAgQIECBAgAABAgQI1AkIgPMeCAFw3v1VHQECBAgQIECAAAECBAgQIECAAAECBAgQIECAAAEBcIVmQABcoWYrlQABAgQIECBAgAABAgQIECBAgAABAgQIECBAgIAVwHnPgAA47/6qjgABAgQIECBAgAABAgQIECBAgAABAgQIECBAgECdgAA474EQAOfdX9URIECAAAECBAgQIECAAAECBAgQIECAAAECBAgQEABXaAYEwBVqtlIJECBAgAABAgQIECBAgAABAgQIECBAgAABAgQIWAGc9wwIgPPur+oIECBAgAABAgQIECBAgAABAgQIECBAgAABAgQI1AkIgPMeCAFw3v1VHQECBAgQIECAAAECBAgQIECAAAECBAgQIECAAAEBcIVmQABcoWYrlQABAgQIECBAgAABAgQIECBAgAABAgQIECBAgIAVwHnPgAA47/6qjgABAgQIECBAgAABAgQIECBAgAABAgQIECBAgECdgAA474EQAOfdX9URIECAAAECBAgQIECAAAECBAgQIECAAAECBAgQEABXaAYEwBVqtlIJECBAgAABAgQIECBAgAABAgQIECBAgAABAgQIWAGc9wwIgPPur+oIECBAgAABAgQIECBAgAABAgQIECBAgAABAgQI1AkIgPMeCAFw3v1VHQECBAgQIECAAAECBAgQIECAAAECBAgQIECAAAEBcIVmQABcoWYrlQABAgQIECBAgAABAgQIECBAgAABAgQIECBAgIAVwHnPgAA47/6qjgABAgQIECBAgAABAgQIECBAgAABAgQIECBAgECdgAA474EQAOfdX9URIECAAAECBAgQIECAAAECBAgQIECAAAECBAgQEABXaAYEwBVqtlIJECBAgAABAgQIECBAgAABAgQIECBAgAABAgQIWAGc9wwIgPPur+oIECBAgAABAgQIECBAgAABAgQIECBAgAABAgQI1AkIgPMeCAFw3v1VHQECBAgQIECAAAECBAgQIECAAAECBAgQIECAAAEBcIVmQABcoWYrlQABAgQIECBAgAABAgQIECBAgAABAgQIECBAgIAVwHnPgAA47/6qjgABAgQIECBAgAABAgQIECBAgAABAgQIECBAgECdgAA474EQAOfdX9URIECAAAECBAgQIECAAAECBAgQIECAAAECBAgQEABXaAYEwBVqtlIJECBAgAABAgQIECBAgAABAgQIECBAgAABAgQIWAGc9wwIgPPur+oIECBAgAABAgQIECBAgAABAgQIECBAgAABAgQI1AkIgPMeCAFw3v1VHQECBAgQIECAAAECBAgQIECAAAECBAgQIECAAAEBcIVmQABcoWYrlQABAgQIECBAgAABAgQIECBAgAABAgQIECBAgIAVwHnPgAA47/6qjgABAgQIECBAgAABAgQIECBAgAABAgQIECBAgECdgAA474EQAOfdX9URIECAAAECBAgQIECAAAECBAgQIECAAAECBAgQEABXaAYEwBVqtlIJECBAgAABAgQIECBAgAABAgQIECBAgAABAgQIWAGc9wwIgPPur+oIECBAgAABAgQIECBAgAABAgQIECBAgAABAgQI1AkIgPMeCAFw3v1VHQECBAgQIECAAAECBAgQIECAAAECBAgQIECAAAEBcIVmQABcoWYrlQABAgQIECBAgAABAgQIECBAgAABAgQIECBAgIAVwHnPgAA47/6qjgABAgQIECBAgAABAgQIECBAgAABAgQIECBAgECdgAA474EQAOfdX9URIECAAAECBAgQIECAAAECBAgQIECAAAECBAgQEABXaAYEwBVqtlIJECBAgAABAgQIECBAgAABAgQIECBAgAABAgQIWAGc9wwIgPPur+oIECBAgAABAgQIECBAgAABAgQIECBAgAABAgQI1AkIgPMeCAFw3v1VHQECBAgQIECAAAECBAgQIECAAAECBAgQIECAAAEBcIVmQABcoWYrlQABAgQIECBAgAABAgQIECBAgAABAgQIECBAgIAVwHnPgAA47/6qjgABAgQIECBAgAABAgQIECBAgAABAgQIECBAgECdgAA474EQAOfdX9URIECAAAECBAgQIECAAAECBAgQIECAAAECBAgQEABXaAYEwBVqtlIJECBAgAABAgQIECBAgAABAgQIECBAgAABAgQIWAGc9wwIgPPur+oIECBAgAABAgQIECBAgAABAgQIECBAgAABAgQI1AkIgPMeCAFw3v1VHQECBAgQIECAAAECBAgQIECAAAECBAgQIECAAAEBcIVmQABcoWYrlQABAgQIECBAgAABAgQIECBAgAABAgQIECBAgIAVwHnPgAA47/6qjgABAgQIECBAgAABAgQIECBAgAABAgQIECBAgECdgAA474EQAOfdX9URIECAAAECBAgQIECAAAECBAgQIECAAAECBAgQEABXaAYEwBVqtlIJECBAgAABAgQIECBAgAABAgQIECBAgAABAgQIWAGc9wwIgPPur+oIECBAgAABAgQIECBAgAABAgQIECBAgAABAgQI1AkIgPMeCAFw3v1VHQECBAgQIECAAAECBAgQIECAAAECBAgQIECAAAEBcIVmQABcoWYrlQABAgQIECBAgAABAgQIECBAgAABAgQIECBAgIAVwHnPgAA47/6qjgABAgQIECBAgAABAgQIECBAgAABAgQIECBAgECdgAA474EQAOfdX9URIECAAAECBAgQIECAAAECBAgQIECAAAECBAgQEABXaAYEwBVqtlIJECBAgAABAgQIECBAgAABAgQIECBAgAABAgQIWAGc9wwIgPPur+oIECBAgAABAgQIECBAgAABAgQIECBAgAABAgQI1AkIgPMeCAFw3v1VHQECBAgQIECAAAECBAgQIECAAAECBAgQIECAAAEBcIVmQABcoWYrlQABAgQIECBAgAABAgQIECBAgAABAgQIECBAgIAVwHnPgAA47/6qjgABAgQIECBAgAABAgQIECBAgAABAgQIECBAgECdgAA474EQAOfdX9URIECAAAECBAgQIECAAAECBAgQIECAAAECBAgQEABXaAYEwBVqtlIJECBAgAABAgQIECBAgAABAgQIECBAgAABAgQIWAGc9wwIgPPur+oIECBAgAABAgQIECBAgAABAgQIECBAgAABAgQI1AkIgPMeCAFw3v1VHQECBAgQIECAAAECBAgQIECAAAECBAgQIECAAAEBcIVmQABcoWYrlQABAgQIECBAgAABAgQIECBAgAABAgQIECBAgIAVwHnPgAA47/6qjgABAgQIECBAgAABAgQIECBAgAABAgQIECBAgECdgAA474EQAOfdX9URIECAAAECBAgQIECAAAECBAgQIECAAAECBAgQEABXaAYEwBVqtlIJECBAgAABAgQIECBAgAABAgQIECBAgAABAgQIWAGc9wwIgPPur+oIECBAgAABAgQIECBAgAABAgQIECBAgAABAgQI1AkIgPMeCAFw3v1VHQECBAgQIECAAAECBAgQIECAAAECBAgQIECAAAEBcIVmQABcoWYrlQABAgQIECBAgAABAgQIECBAgAABAgQIECBAgIAVwHnPgAA47/6qjgABAgQIECBAgAABAgQIECBAgAABAgQIECBAgECdgAA474EQAOfdX9URIECAAAECBAgQIECAAAECBAgQIECAAAECBAgQEABXaAYEwBVqtlIJECBAgAABAgQIECBAgAABAgQIECBAgAABAgQIWAGc9wwIgPPur+oIECBAgAABAgQIECBAgAABAgQIECBAgAABAgQI1AkIgPMeCAFw3v1VHQECBAgQIECAAAECBAgQIECAAAECBAgQIECAAAEBcIVmQABcoWYrlQABAgQIECBAgAABAgQIECBAgAABAgQIECBAgIAVwHnPgAA47/6qjgABAgQIECBAgAABAgQIECBAgAABAgQIECBAgECdgAA474EQAOfdX9URIECAAAECBAgQIECAAAECBAgQIECAAAECBAgQEABXaAYEwBVqtlIJECBAgAABAgQIECBAgAABAgQIECBAgAABAgQIWAGc9wwIgPPur+oIECBAgAABAgQIECBAgAABAgQIECBAgAABAgQI1AkIgPMeCAFw3v1VHQECBAgQIECAAAECBAgQIECAAAECBAgQIECAAAEBcIVmQABcoWYrlQABAgQIECBAgAABAgQIECBAgAABAgQIECBAgIAVwHnPgAA47/6qjgABAgQIECBAgAABAgQIECBAgAABAgQIECBAgECdgAA474EQAOfdX9URIECAAAECBAgQIECAAAECBAgQIECAAAECBAgQEABXaAYEwBVqtlIJECBAgAABAgQIECBAgAABAgQIECBAgAABAgQIWAGc9wwIgPPur+oIECBAgAABAgQIECBAgAABAgQIECBAgAABAgQI1AkIgPMeCAFw3v1VHQECBAgQIECAAAECBAgQIECAAAECBAgQIECAAAEBcIVmQABcoWYrlQABAgQIECBAgAABAgQIECBAgAABAgQIECBAgIAVwHnPgAA47/6qjgABAgQIECBAgAABAgQIECBAgAABAgQIECBAgECdgAA474EQAOfdX9URIECAAAECBAgQIECAAAECBAgQIECAAAECBAgQEABXaAYEwBVqtlIJECBAgAABAgQIECBAgAABAgQIECBAgAABAgQIWAGc9wwIgPPur+oIECBAgAABAgQIECBAgAABAgQIECBAgAABAgQI1AkIgPMeCAFw3v1VHQECBAgQIECAAAECBAgQIECAAAECBAgQIECAAAEBcIVmQABcoWYrlQABAgQIECBAgAABAgQIECBAgAABAgQIECBAgIAVwHnPgAA47/6qjgABAgQIECBAgAABAgQIECBAgAABAgQIECBAgECdgAA474EQAOfdX9URIECAAAECBAgQIECAAAECBAgQIECAAAECBAgQEABXaAYEwBVqtlIJECBAgAABAgQIECBAgAABAgQIECBAgAABAgQIWAGc9wwIgPPur+oIECBAgAABAgQIECBAgAABAgQIECBAgAABAgQI1AkIgPMeCAFw3v1VHQECBAgQIECAAAECBAgQIECAAAECBAgQIECAAAEBcIVmQABcoWYrlQABAgQIECBAgAABAgQIECBAgAABAgQIECBAgIAVwHnPgAA47/6qjgABAgQIECBAgAABAgQIECBAgAABAgQIECBAgECdgAA474EQAOfdX9URIECAAAECBAgQIECAAAECBAgQIECAAAECBAgQEABXaAYEwBVqtlIJECBAgAABAgQIECBAgAABAgQIECBAgAABAgQIWAGc9wwIgPPur+oIECBAgAABAgQIECBAgAABAgQIECBAgAABAgQI1AkIgPMeCAFw3v1VHQECBAgQIECAAAECBAgQIECAAAECBAgQIECAAAEBcIVmQABcoWYrlQABAgQIECBAgAABAgQIECBAgAABAgQIECBAgIAVwHnPgAA47/6qjgABAgQIECBAgAABAgQIECBAgAABAgQIECBAgECdgAA474EQAOfdX9URIECAAAECBAgQIECAAAECBAgQIECAAAECBAgQEABXaAYEwBVqtlIJECBAgAABAgQIECBAgAABAgQIECBAgAABAgQIWAGc9wwIgPPur+oIECBAgAABAgQIECBAgAABAgQIECBAgAABAgQI1AkIgPMeCAFw3v1VHQECBAgQIECAAAECBAgQIECAAAECBAgQIECAAAEBcIVmQABcoWYrlQABAgQIECBAgAABAgQIECBAgAABAgQIECBAgIAVwHnPgAA47/6qjgABAgQIECBAgAABAgQIECBAgAABAgQIECBAgECdgAA474EQAOfdX9URIECAAAECBAgQIECAAAECBAgQIECAAAECBAgQEABXaAYEwBVqtlIJECBAgAABAgQIECBAgAABAgQIECBAgAABAgQIWAGc9wwIgPPur+oIECBAgAABAgQIECBAgAABAgQIECBAgAABAgQI1AkIgPMeCAFw3v1VHQECBAgQIECAAAECBAgQIECAAAECBAgQIECAAAEBcIVmQABcoWYrlQABAgQIECBAgAABAgQIECBAgAABAgQIECBAgIAVwHnPgAA47/6qjgABAgQIECBAgAABAgQIECBAgAABAgQIECBAgECdgAA474EQAOfdX9URIECAAAECBAgQIECAAAECBAgQIECAAAECBAgQEABXaAYEwBVqtlIJECBAgAABAgQIECBAgAABAgQIECBAgAABAgQIWAGc9wwIgPPur+oIECBAgAABAgQIECBAgAABAgQIECBAgAABAgQI1AkIgPMeCAFw3v1VHQECBAgQIECAAAECBAgQIECAAAECBAgQIECAAAEBcIVmQABcoWYrlQABAgQIECBAgAABAgQIECBAgAABAgQIECBAgIAVwHnPgAA47/6qjgABAgQIECBAgAABAgQIECBAgAABAgQIECBAgECdgAA474EQAOfdX9URIECAAAECBAgQIECAAAECBAgQIECAAAECBAgQEABXaAYEwBVqtlIJECBAgAABAgQIECBAgAABAgQIECBAgAABAgQIWAGc9wwIgPPur+oIECBAgAABAgQIECBAgAABAgQIECBAgAABAgQI1AkIgPMeCAFw3v1VHQECBAgQIECAAAECBAgQIECAAAECBAgQIECAAAEBcIVmQABcoWYrlQABAgQIECBAgAABAgQIECBAgAABAgQIECBAgIAVwHnPgAA47/6qjgABAgQIECBAgAABAgQIECBAgAABAgQIECBAgECdgAA474EQAOfdX9URIECAAAECBAgQIECAAAECBAgQIECAAAECBAgQEABXaAYEwBVqtlIJECBAgAABAgQIECBAgAABAgQIECBAgAABAgQIWAGc9wwIgPPur+oIECBAgAABAgQIECBAgAABAgQIECBAgAABAgQI1AkIgPMeCAFw3v1VHQECBAgQIEBlfCjPAAAgAElEQVSAAAECBAgQIECAAAECBAgQIECAAAEBcIVmQABcoWYrlQABAgQIECBAgAABAgQIECBAgAABAgQIECBAgIAVwHnPgAA47/6qjgABAgQIECBAgAABAgQIECBAgAABAgQIECBAgECdgAA474EQAOfdX9URIECAAAECBAgQIECAAAECBAgQIECAAAECBAgQEABXaAYEwBVqtlIJECBAgAABAgQIECBAgAABAgQIECBAgAABAgQIWAGc9wwIgPPur+oIECBAgAABAgQIECBAgAABAgQIECBAgAABAgQI1AkIgPMeCAFw3v1VHQECBAgQIECAAAECBAgQIECAAAECBAgQIECAAAEBcIVmQABcoWYrlQABAgQIECBAgAABAgQIECBAgAABAgQIECBAgIAVwHnPgAA47/6qjgABAgQIECBAgAABAgQIECBAgAABAgQIECBAgECdgAA474EQAOfdX9URIECAAAECBAgQIECAAAECBAgQIECAAAECBAgQEABXaAYEwBVqtlIJECBAgAABAgQIECBAgAABAgQIECBAgAABAgQIWAGc9wwIgPPur+oIECBAgAABAgQIECBAgAABAgQIECBAgAABAgQI1AkIgPMeCAFw3v1VHQECBAgQIECAAAECBAgQIECAAAECBAgQIECAAAEBcIVmQABcoWYrlQABAgQIECBAgAABAgQIECBAgAABAgQIECBAgIAVwHnPgAA47/6qjgABAgQIECBAgAABAgQIECBAgAABAgQIECBAgECdgAA474EQAOfdX9URIECAAAECBAgQIECAAAECBAgQIECAAAECBAgQEABXaAYEwBVqtlIJECBAgAABAgQIECBAgAABAgQIECBAgAABAgQIWAGc9wwIgPPur+oIECBAgAABAgQIECBAgAABAgQIECBAgAABAgQI1AkIgPMeCAFw3v1VHQECBAgQIECAAAECBAgQIECAAAECBAgQIECAAAEBcIVmQABcoWYrlQABAgQIECBAgAABAgQIECBAgAABAgQIECBAgIAVwHnPgAA47/6qjgABAgQIECBAgAABAgQIECBAgAABAgQIECBAgECdgAA474EQAOfdX9URIECAAAECBAgQIECAAAECBAgQIECAAAECBAgQEABXaAYEwBVqtlIJECBAgAABAgQIECBAgAABAgQIECBAgAABAgQIWAGc9wwIgPPur+oIECBAgAABAgQIECBAgAABAgQIECBAgAABAgQI1AkIgPMeCAFw3v1VHQECBAgQIECAAAECBAgQIECAAAECBAgQIECAAAEBcIVmQABcoWYrlQABAgQIECBAgAABAgQIECBAgAABAgQIECBAgIAVwHnPgAA47/6qjgABAgQIECBAgAABAgQIECBAgAABAgQIECBAgECdgAA474EQAOfdX9URIECAAAECBAgQIECAAAECBAgQIECAAAECBAgQEABXaAYEwBVqtlIJECBAgAABAgQIECBAgAABAgQIECBAgAABAgQIWAGc9wwIgPPur+oIECBAgAABAgQIECBAgAABAgQIECBAgAABAgQI1AkIgPMeCAFw3v1VHQECBAgQIECAAAECBAgQIECAAAECBAgQIECAAAEBcIVmQABcoWYrlQABAgQIECBAgAABAgQIECBAgAABAgQIECBAgIAVwHnPgAA47/6qjgABAgQIECBAgAABAgQIECBAgAABAgQIECBAgECdgAA474EQAOfdX9URIECAAAECBAgQIECAAAECBAgQIECAAAECBAgQEABXaAYEwBVqtlIJECBAgAABAgQIECBAgAABAgQIECBAgAABAgQIWAGc9wwIgPPur+oIECBAgAABAgQIECBAgAABAgQIECBAgAABAgQI1AkIgPMeCAFw3v1VHQECBAgQIECAAAECBAgQIECAAAECBAgQIECAAAEBcIVmQABcoWYrlQABAgQIECBAgAABAgQIECBAgAABAgQIECBAgIAVwHnPgAA47/6qjgABAgQIECBAgAABAgQIECBAgAABAgQIECBAgECdgAA474EQAOfdX9URIECAAAECBAgQIECAAAECBAgQIECAAAECBAgQEABXaAYEwBVqtlIJECBAgAABAgQIECBAgAABAgQIECBAgAABAgQIWAGc9wwIgPPur+oIECBAgAABAgQIECBAgAABAgQIECBAgAABAgQI1AkIgPMeCAFw3v1VHQECBAgQIECAAAECBAgQIECAAAECBAgQIECAAAEBcIVmQABcoWYrlQABAgQIECBAgAABAgQIECBAgAABAgQIECBAgIAVwHnPgAA47/6qjgABAgQIECBAgAABAgQIECBAgAABAgQIECBAgECdgAA474EQAOfdX9URIECAAAECBAgQIECAAAECBAgQIECAAAECBAgQEABXaAYEwBVqtlIJECBAgAABAgQIECBAgAABAgQIECBAgAABAgQIWAGc9wwIgPPur+oIECBAgAABAgQIECBAgAABAgQIECBAgAABAgQI1AkIgPMeCAFw3v1VHQECBAgQIECAAAECBAgQIECAAAECBAgQIECAAAEBcIVmQABcoWYrlQABAgQIECBAgAABAgQIECBAgAABAgQIECBAgIAVwHnPgAA47/6qjgABAgQIECBAgAABAgQIECBAgAABAgQIECBAgECdgAA474EQAOfdX9URIECAAAECBAgQIECAAAECBAgQIECAAAECBAgQEABXaAYEwBVqtlIJECBAgAABAgQIECBAgAABAgQIECBAgAABAgQIWAGc9wwIgPPur+oIECBAgAABAgQIECBAgAABAgQIECBAgAABAgQI1AkIgPMeCAFw3v1VHQECBAgQIECAAAECBAgQIECAAAECBAgQIECAAAEBcIVmQABcoWYrlQABAgQIECBAgAABAgQIECBAgAABAgQIECBAgIAVwHnPgAA47/6qjgABAgQIECBAgAABAgQIECBAgAABAgQIECBAgECdgAA474EQAOfdX9URIECAAAECBAgQIECAAAECBAgQIECAAAECBAgQEABXaAYEwBVqtlIJECBAgAABAgQIECBAgAABAgQIECBAgAABAgQIWAGc9wwIgPPur+oIECBAgAABAgQIECBAgAABAgQIECBAgAABAgQI1AkIgPMeCAFw3v1VHQECBAgQIECAAAECBAgQIECAAAECBAgQIECAAAEBcIVmQABcoWYrlQABAgQIECBAgAABAgQIECBAgAABAgQIECBAgIAVwHnPgAA47/6qjgABAgQIECBAgAABAgQIECBAgAABAgQIECBAgECdgAA474EQAOfdX9URIECAAAECBAgQIECAAAECBAgQIECAAAECBAgQEABXaAYEwBVqtlIJECBAgAABAgQIECBAgAABAgQIECBAgAABAgQIWAGc9wwIgPPur+oIECBAgAABAgQIECBAgAABAgQIECBAgAABAgQI1AkIgPMeCAFw3v1VHQECBAgQIECAAAECBAgQIECAAAECBAgQIECAAAEBcIVmQABcoWYrlQABAgQIECBAgAABAgQIECBAgAABAgQIECBAgIAVwHnPgAA47/6qjgABAgQIECBAgAABAgQIECBAgAABAgQIECBAgECdgAA474EQAOfdX9URIECAAAECBAgQIECAAAECBAgQIECAAAECBAgQEABXaAYEwBVqtlIJECBAgAABAgQIECBAgAABAgQIECBAgAABAgQIWAGc9wwIgPPur+oIECBAgAABAgQIECBAgAABAgQIECBAgAABAgQI1AkIgPMeCAFw3v1VHQECBAgQIECAAAECBAgQIECAAAECBAgQIECAAAEBcIVmQABcoWYrlQABAgQIECBAgAABAgQIECBAgAABAgQIECBAgIAVwHnPgAA47/6qjgABAgQIECBAgAABAgQIECBAgAABAgQIECBAgECdgAA474EQAOfdX9URIFBigX379sXevXuPeQW9evU65vfQk2+Az+G7w+bIk8uHT0/+3ubeCBAgQIAAAQIECBAgQIAAgbwFBMCZ97e1tbU17xJVR4AAgXIJpG/LKfjdvXt37Nq1K3r37t0tBaRrb926NYYOHRr9+/fvlvfo6oume96xY0cMGTIk+vbt29WX75brpT6mP4MGDYo+ffp0+Xt0R4i4Z8+eaGlpKeaiO+65yxEiiq+Z9CfNRXd9zXT1facPeaSv93S/3dHH9tzvsXrf9txbmZ7TXY7pa/EVr3hFXHXVVfG+972vTCTulQABAgQIECBAgAABAgQIEOjhAgLgHt6gTt6eFcCdBPRyAgQIdKVACoNS8JaCrPTPnTt3dluYtWrVqnjyySfjjDPOiKampq4so9uutWLFili8eHGcddZZMXz48C57n+78LNTy5ctj6dKlMWvWrCJsL8OjjPecZmPJkiXFbAwbNqzHMB9pttLX4KJFi4qvwREjRvSYez7Sjaxbty7mz58fp512WowePbrh99yRoHXTpk0xZ86cmDJlSowfP77h99yZN0w/A0444YR45StfGV/72tc6cymvJUCAAAECBAgQIECAAAECBAjUCQiA8x4IAXDe/VUdAQIlEkirAWvhbwqN0p+0crS7VrquXLky5s6dWwRmxyLI6UhrUjC5YMGCOOecc2LkyJEduUTDX/PUU0/FwoUL47zzzuvS0Lo7CynjPT/99NPFBxrOPffc0oSpKbROYWr6cEBZPoSxZs2aeOKJJ4rQeuzYsd05hl127Y0bN8YjjzwSp556ahx//PFddt1GXGjbtm0xceLEePWrXx1f+cpXGvGW3oMAAQIECBAgQIAAAQIECBCoiIAAOO9GC4Dz7q/qCBAoiUBa8ZtW1qU/EyZMKLYLToGwALi+gQLgxgy0ALgxzrUA+Oyzzy5NALx69eoiAJ45c2ZpAuANGzYcCIDTatoyPbZs2VKE1jfeeGN8+ctfLtOtu1cCBAgQIECAAAECBAgQIECghwsIgHt4gzp5ewLgTgJ6OQECBDojUDvvN638TVsbpxWMF110UbGCsXYOcHevAD7zzDNjzJgxnSmjYa8VADeGWgDcGGcBcGOcawFw2ra6bCuAN2/eXGwB/drXvja++MUvNgbMuxAgQIAAAQIECBAgQIAAAQKVEBAA591mAXDe/VUdAQI9WODg837Tat9ly5YV2xsLgA/ftFoAXKYVk2UMU8t4z2XeArpM85zOLU7n6ZZxBXAZA+Dm5uaYNGlS/P7v/37893//dw/+iebWCBAgQIAAAQIECBAgQIAAgbIJCIDL1rGju18B8NF5eTYBAgS6RCCFv3v27IlHH300+vXrFymYSKHbvHnzGhYA14KcMq0ALuOKyVow6QzgLvnSOexFBMDd61u7ehm/b6xfv774XlvGADitXp48eXK8/vWvj89//vONabJ3IUCAAAECBAgQIECAAAECBCohIADOu80C4Lz7qzoCBHqgQFrtm8Lf9M8777wzBg4cGBdffHEsXbq0IQHwvtbW6BURD8x/OpYuXhhXnV+eszzLHACfe+65xdbeZXhYAdyYLpVxnsscAE+fPj0mTpzYmOZ20bvUAuA3vOEN8V//9V9ddFWXIUCAAAECBAgQIECAAAECBAhECIDzngIBcN79VR0BAj1IIK36TaFvOu83ne+bHnfffXcMGDCgLgC+8MILY+TIkcXzUlDc1WcA3zZnTfzqqU2xftPWGLi7Of74mtPjhAnje5DU4W+ljIFZGVemCoAb8+VQxnkWADdmNmrvsm7dupg6dWrcdNNN8bnPfa6xb+7dCBAgQIAAAQIECBAgQIAAgawFBMBZtzcEwHn3V3UECPQQgdp5vykMXLRoUXF+Zgp50wrg/v37xyWXXFKcATx37tzo7gD4B4+vjp8v3hjbduyIAbua49pZU+KaWZN7iNSRb6OMgZkAuDGjVQuty7TSuoxnWpcxAE4h6uzZs6OMK4DXrl0bJ598ctx8883x2c9+tjFfTN6FAAECBAgQIECAAAECBAgQqISAADjvNguA8+6v6ggQ6AECtfN+0+rfFPKmc37PP//8GD16dBEApzOADw6AL7jggmhqauq2FcC3z10bC9Zsi4WrNsagXc1xykkT4yXnTYnRQ/r3AK32BcCzZs2KUaNG9fj7TTcoAG5Mm8q4arkWAJ9zzjnFB0LK8Fi5cmXxQZUynR1e5gB49erVMW3atHjjG98Yn/nMZ8owIu6RAAECBAgQIECAAAECBAgQKImAALgkjergbQqAOwjnZQQIEGiPwMHn/aYgOK1gnTNnTqSQNwWYKQBOWzxfeumlkQKs2t91ZwCctoDevLMlHlqyNnpv3xAnT5oYx49piutOHx29e6XTgXvu45lnnikCdAFw9/aojGFqGe+5zAHwWWedVXyIpQyPWgB8+umnx4QJE8pwywfuMa24PvXUU+PNb35zfOpTnyrVvbtZAgQIECBAgAABAgQIECBAoGcLCIB7dn86e3cC4M4Kej0BAgQOI5DO+d21a1f87Gc/i/Hjx8eMGTMiBT5PPPHEgRXAd911V/Tp06cuAE6rg1M43F1nAH/v8dWxY/e+WL2hOVauXBVTJ02MYUOHxcyJQ+P08UN6dD/LHACXaZVnGcPUMt6zALgx327SNsqPPfZYlDEATt/z0tbVb3nLW+KTn/xkY8C8CwECBAgQIECAAAECBAgQIFAJAQFw3m0WAOfdX9URIHAMBNJK3xT+1gLcn/zkJzFx4sRIK+bSdsApAD7vvPNizJgxkQLg3r17x2WXXXbg77o7AP727FWxu6U1tmzZElvWLo8hoyfGsGHDo0/viOtOHxNDBvQ9Bmrte8syBsBlDPnKGKaW8Z7LOBu1LaDLtAK4zAFwmpH04SEBcPt+RngWAQIECBAgQIAAAQIECBAg0H4BAXD7rcr4TAFwGbvmngkQ6LECKfxNwW8KgNP2z+nPHXfcUWw7mrYtTr/Mf/zxxw8EwHfffXf06tWrLgBO4XDaWrW7VgB/65FV0bKvNbZu3RIjty+PrUNOiAHHDS1Mxw3tH1dM67ln69YC4DKFT2UM+coYppbxnss4G2UOgFOQmnZjKNMjfWjojDPOiLe+9a1xyy23lOnW3SsBAgQIECBAgAABAgQIECDQwwUEwD28QZ28PQFwJwG9nAABAjWBFPam0PbBBx+MHTt2FNs6p0D49ttvb1cAfHA4fHAAnLaITiFxVz3+56GVxaVSADxu1/KYcNIpsXBrvwOXv2jyiJjUNKir3q5Lr1PG8KmMIV8Zw9Qy3nMZZ6OMH8KorQAuYwC8bNmyOPPMM+NP/uRP4l//9V+79PupixEgQIAAAQIECBAgQIAAAQLVFhAA591/AXDe/VUdAQINEqht+Zz++cADD8T27dvjBS94QbECOAXAadXZ2WeffWAF8Lnnnhtjx46Ne+65pwiJL7/88rrVwd0VAKeVv2kFcC0AnrBrecyaeXos2j4gVm7aVfz3AX17xw0zxkT/vr0bpNf+txEAt9+qM88sY5haxnsucwCcdjRIZ5WX4bFmzZpi54UyBsBLly4tjg94+9vfHh//+MfLwO0eCRAgQIAAAQIECBAgQIAAgZIICIBL0qgO3qYAuINwXkaAAIEkcPB5vynsTY+0Anjbtm1FAJz+/oc//OGBAHjFihXx2GOPxZEC4PR36Xzg2hbQXbkCeHfLvvj27NXFfW7dujWO3/10nHnG6TGsaUzcPnddsTV0ekwZPSjOnzSixzVZANyYltTC1DSLI0b0vDk4lEIZA+C0ve+TTz4Z55xzTowcObIxze3ku5TxHO5aAJy2Uh43blwnBRr78sWLFxcfHnrHO94R//Iv/9LYN/duBAgQIECAAAECBAgQIECAQNYCAuCs2xsC4Lz7qzoCBLpRoHbebwpwVq1aFeeff37079+/WAG8ZcuWuPrqqw8bAKfAJwURP//5z4vzgq+44oo4OBzurgB4++698f3H1xQqKQA+cc/TccaM04stquev3hqzV2w5IHbVtKYYM3RANwoe/aVrAXDaEjUZleFRxlWetWBSANy9E1ZGZwFw987Es6++aNGi4gMCf/qnfxr//M//3Ng3924ECBAgQIAAAQIECBAgQIBA1gIC4KzbKwDOu72qI0CguwRq5/2m8HbOnDnF9s1pxW8KgH/5y18eCIDT+992221F2Jt+iZ/Ck9mzZxf/fiwC4C07W+K2OWsLlm3btsakPU/H9OnTY+LEibGvtTXumL8umre3FH8/dGDfuHb66OjTu+vOH+5sP1LQnrzLGACnVXxNTU2dJWjI68sYTJZ5BXCZgvYyBsCrV6+OJ554Isq4Ajh9wOi8886Ld7/73fGRj3ykIV//3oQAAQIECBAgQIAAAQIECBCohoAAOO8+WwGcd39VR4BANwjUzvtNIXBaBTxv3rxIgdnzn//8GDBgQLECeNOmTXHNNdcU736oADiFgelc4HvvvTf27NkTV155ZV04nM4HTqtdN2zYEL169Sr+HM3jcM/fvGtv3Pf0zuJS+1r2xIxBm4pzPIcMGVK8R/POvfGL5TsOvNUpTf3j5Kb+h33ro72vdKHOvCatrE7buSa7wYMHP+e+OnPtrvA91DWam5uLez7hhBMOec9Het9G1fPsvqxfvz5SaDZ58uQ47rjjOtX/jtTQkTlZt25d8TVz8sknH5VzR+6vq16T5iKt/J82bVrxNfjsR3vfp73PO/j6HX1Nuudly5YV99ye7cE7+j5H8/XY1ryk2Vi4cGFxz88+t7g776+j1969e3fxMyQ9lixZEi9/+cvjpptuig984AMHWGrXTh86GjZsWLu47r///vinf/qnYueJ9DU+dOjQ4sNIb3nLW+IVr3jFIa/xhS98IW655ZbigzfpvZ73vOfFe9/73rjkkkva9Z6eRIAAAQIECBAgQIAAAQIECPRcAQFwz+1NV9yZALgrFF2DAIFKCNTO+02rfdeuXVuECQMHDoy5c+dGWn14uAA4nQGctitOq/xSQPXoo48WZzoeLgCeNWtWsT1z2vqzqx9b9kQ8tmF/mNyvd8QFY/af+XvwY/HmiFU79j8n/c+zR7XGoL5dfSeuR4AAAQKHEkjnxL/vfe9rF84NN9wQt956a5vP/Z//+Z941ateFemDS+m4gvRBibSaO4XB6b/9xV/8Rfz93/993XXe9a53xcc+9rEYNGhQXHfddbFz58644447ig8+peu97GUva/N9PYEAAQIECBAgQIAAAQIECBDouQIC4J7bm664MwFwVyi6BgEC2QvUzvtNq3/nz58fS5cujcsvv7xYaZhWRqUA+KqrrioC4QcffDA2btwY1157beHSVgCcVnul19bC4bRNcFr5m1ZnnXrqqdGvX782V82m+2vPY+3W3XHP4v0ry1r37IiJe56JKVOmRFpxXHvs2bsvfrxgY+xq2Vf8pzFD+selU4bvf0073+fge+nK16RVa2lF3NSpU5+znXJXvs+zLTtz7bT6MH1oIAUuqadHenTmfdrT/9pz2nqf2mra5HzwSuu2Xneoe2jPa9rznLaunWYjrU5Nq5ZTYHW4R0feq7tek75PpA+TpNXhaaV1d71PR+f5UPezefPmSPORzg0/lHNPqyHVnj5Qk+Zj9OjRR1zR3taMdeXX2JHeK62w/trXvlY8ZdeuXfHwww8XHyJKq2+f/X14xowZ8ba3ve2It9bS0lJs859mLV33la985YHn33fffcXxBel90nbT6ftUevzkJz8pzrFPK6bTc9IHntIj/Xv6eZV6n74Xjxw58mhYPJcAAQIECBAgQIAAAQIECBDoQQIC4B7UjG64FQFwN6C6JAECeQmkQCNt05zC3/TvaSvR9IvvWgCcVgCnX9gfKQBOwUM6xzGdYfvII49EWuWbApT0y/T0i/f02hQSPv744wVe+qV7Ouc2rczq06dPmwFwe8VXbtoZ9yzaWDy9V8vOaNq6JE477bQ4/vjj6y7x9MYdcf+S5gP/7cLJI+KkpsOHau19/84+r3aW58yZM+tC685etztfn7b4TR8acAZwdypH8SGM9LWZvs6GD9//gYWe/ijjWctlnOcynh1em910dvHFF18cf/VXfxUf/vCHOzTS6edK+nmSzntPP6+e/XjpS18a3/72t+PrX/96/N7v/V7x1y960YviBz/4QbEC+J3vfGfdS97xjnfEJz7xieJM4nQ2sQcBAgQIECBAgAABAgQIECBQTgEBcDn71t67FgC3V8rzCBCopEAKYNNqt23bthUrsPr27Vusklq8ePFhA+Bf/epXxQre2grg22+/vQh0jxQAp/MU0/mM27dvL1ZUpS06U9icVgd3ZQB8cLDbb9/OGLb50AFwavY9izbEyk27ir4P6Ns7rp8xpvjnsXwIgBujX8ZgUgDcmNlIH1RZsGBBqT7QUOYAOG0Hfemll8Z73vOe+NCHPtShJqefWWk3ibYC4B/96EfF2fVpq+d0vnP6cFL6XpBWqB/8uPvuu+OKK64ozq7/2c9+1qF78iICBAgQIECAAAECBAgQIEDg2AsIgI99D7rzDgTA3anr2gQIlFogrfhNW2em1VMp9Kid8ZvCjxQAX3bZZTFkyJCYN29esSV0+mV42hYzBcBpu9F0ZmJ6pAA4beucQt0UYKbtPM8666xiS85a6JuC5RT+pkf6u7Q6OL1/VwfAS9dvjweW7d8CemDrrhi8aXERDDz7F/zp77ftaonb566Lln37t5eeMnpQnD9pxDHtaZkD4LTqO30QoAwPAXBjulTG0LoWAJ9zzjml2f43ba+fVr6mVbDpgzxleqQz49NuE+9973vjgx/8YIduPf0sSd/n08+tg1f5povVtoBOP3PSz7L+/fsXu1Sk/iartK36sx/pA1HpZ1/6sFL6sJMHAQIECBAgQIAAAQIECBAgUE4BAXA5+9beuxYAt1fK8wgQqJxAWv2bVkKlX4qnQKwWAKfVVIsWLXpOAJxWRKVzPFMAnBoxOawAACAASURBVFYNX3/99YVZWlVVW9X77AD4nnvuKc6nTI8UwqZwpTsD4MXrtsevntofAA/uvTsGblh02AA4PWf+6q0xe8WWA72/alpTjBk64JjNQgojUiB/xhlnxLhx447ZfRzNGz/zzDPFDAmAj0bt6J9bxjC1jPdc5gA4fW9N2/GX6ZHC2PSz5a//+q/jb/7mbzp862nV7otf/OLYtGlT8WGkdNZvCsbTz6ALL7wwvvjFL8Ypp5xSXP873/lOvOQlLylC4IceeuiQ75l+pjU3N0c6E7qts807fNNeSIAAAQIECBAgQIAAAQIECHSrgAC4W3mP+cUFwMe8BW6AAIGeKpC2YE5bYM6ZM+eQAXDaljP94jud75rOBK4FwOkX5mvXrq0LgNN2mhdccEGxmir9fVqJllZapbA4PdIv2tOjtjq4u1YAL1izLR5dvrl4r2F99kS/9QuPGADva22NO+avi+btLcVrhg7sG9dOHx19evc6Jm0TADeG3QrgxjgLgBvjXFsBXMYAOP1MSLtLvP/9748PfOADnQJLq4lf9rKXFT+vao/0Myyd6ZvOGE4fYEqPr3zlK/Ga17ym2Ho6BcSHeqQPLKXzoNMHXNLPKw8CBAgQIECAAAECBAgQIECgfAIC4PL17GjuWAB8NFqeS4BApQRqZ/CmADgFNVdddVUMHDgwFi5cWPw5XACcfmGfgsraCuAf//jHMXz48LoAuPbL8wSazvhN5y4evDq4uwLguau2xuPP7F/RO7JfS/Re+2RMmzYtTjzxxMP2dv223fGT+esP/P0ZE4bEjAlDj8ksCIAbwy4AboyzALgxzrVV+GUMgNMHhtLPnrT6N60C7ujjq1/9atx0003xvOc9L/7xH/+x2EUhuXzkIx+Jz3zmM3HxxRfHnXfeGf369Ysvf/nL8drXvrbY5SKtHD7U4/jjjy9eLwDuaEe8jgABAgQIECBAgAABAgQIHHsBAfCx70F33oEAuDt1XZsAgVIL1ALgdHbksmXLnhMAX3LJJTFs2LConQmczmkcPHhwsYo3hbk33HBDUf/BAXAt5E3/PYXJaRXwjh074uqrr65bHZzOB+6OM4CfeGZLzFm1f8vp0QP2RuvqBW0GwOm5Dz+9KRau3X9GcZ/eEddOH1OsBm70oxYAz5gxI8aPH9/ot+/Q+9kCukNsR/2iMoapZbzn2ocDynQGcJkD4AcffDBe8IIXxN/+7d/G+973vqP+ukgvSMcW1LbNT9vRp59TBz9++7d/O7773e/Gpz/96XjTm95kC+gOKXsRAQIECBAgQIAAAQIECBAon4AAuHw9O5o7FgAfjZbnEiBQOYG0BXQtAE7bcA4aNKg4/zf9Qr29AfAdd9xRbBWdtoCubQ+dwt+0Emv27NmxZcuW5wTAaXVVS0tL7N69u1gh3KtX12y5/OiKzbFg9baij+MG7ouWVfPbFQDv2bsvbpuzNnbu2Ve8duzQ/nHltFENn4e0tfZjjz0WAuDupS9jyFfGMLWM91zG1eE96UMY6Xtpv/QpmnY+HnjggeLnw4c+9KF4z3ve085X1T/tgx/8YLF6+Oabb47Pfvazz7nGl770pXjd614Xr371q4vtn9O5wyngHzNmTPHBpGc/tm3bFkOGDIl0tMHGjRs7dE9eRIAAAQIECBAgQIAAAQIECBx7AQHwse9Bd96BALg7dV2bAIHSC6QAOK2YWrp0aXEO48EBcNoyM23tnMLgFAqn7TLTL8XTL89XrVpVbAGdgtsUAKf/nrbWrP0yffr06TF58uT45S9/eSAATuFmOhN45syZkbaITiuA0/t3ZQD80NObYtGvV/JOHNwau1bMi1NOOSUmTZrUZq+WN++I+xY3H3jehZNHxElNg9p8XVc+QQDclZqHv5YAuDHOAuDGOPeUADjtKvH/Zq+OaG2NMyYOjXFDB8TwQf2OiPCLX/wirr322vjwhz9cnNPbkceb3/zmYpvnd73rXfHRj370OZf4zne+Ey95yUuKn1m33XZbsSvFyJEji58/6XtB+nl08CNtC53OvE9/0rbRHgQIECBAgAABAgQIECBAgEA5BQTA5exbe+9aANxeKc8jQKCSAgcHwOmX3ccdd1wsXry42Pb5aALgffv2FYFuU1NTbNiwodiOM527m1Z3bdq0qTgD+FABcFoB3Lt37y5bAfzAsuZYun5H0ctJQyK2LZ/b7gA4veaeRRti5aZdxesH9O0d188YU/yzUY8yB8BlOn9UANyYiRYAN8Z5xYoVMX/+/Jg1a1aMGtX4nQtqVc5fvTW++9iaWLd1d/TtE/HSWePj/Ekjjohw3333FcHs3/3d38Vf/uVfdgjs/e9/f7GF9OEC27S1dFphnILiT33qU8V7vPCFL4xbb701Pvaxj8U73/nOuvd9xzveEZ/4xCeKs4T/7M/+rEP35EUECBAgQIAAAQIECBAgQIDAsRcQAB/7HnTnHQiAu1PXtQkQKL1ACoBTcLBkyZLil+cHB8BpC+e0BWZtBfCll15abPX86KOPxsqVK+O6666LnTt3xl133VU4TJkypQiA0yrftIVxWnWbAuDm5uZihVctAK6Fw7UzgLsyAL5vycZYvnHn/vsZ1is2PzXnqALg7bv3xg/nrI2Wfa3FNSaPGhQXnHTkAKMrh6AWAJ9++ukxYcKErrx0t10rzULaRlwA3G3ExYXLGKbW7vn8888vzhMvw6OMW0DXAuCzzz67+B58LB5bdrbEj+atLc5S37BtT4wa3C9eOHNsnDFh6BFv59577y3Ok/+Hf/iH+PM///MO3Xo6euC8884rXvvJT34y3vKWtxy4zv333198AClt6/yjH/2o+Pf0SGfXp59LKTBPIfS0adOK/57+/fnPf34MGDCg+Ll4rDw7BOFFBAgQIECAAAECBAgQIECAQJ2AADjvgRAA591f1REg0EmBgwPgyy+/PAYPHlz80juFwrUAeOHChZH+PDsATn//8MMPF9topq2j0xbS69evL0LfWgD84IMPFmcopl+0r1u3LtL/3p0B8M8XbYhnfr2Cd9rI3rFhyRNx8sknx0knndRuqbSKbfaKLQeef9W0phgzdEC7X9+ZJwqAO6PX/tcuX768WOWezgFNW8GW4VHGAHjZsmXF9vFlCoDL6HysA+C09fPPntxQrPxdvG57bN3VUgS/Z58wLKaPH3LEL6977rmnWI3b2dW2aaXuRz7ykeK90s+Y9DMobY2dAt20Q8Wb3vSm+PSnP113L2nl78c//vHig0/pZ1TakSKFxOn53/jGN+LlL395Gb41uEcCBAgQIECAAAECBAgQIEDgMAIC4LxHQwCcd39VR4BAJwVSeJuCsLTt87MD4IsuuqgIx1KAk1YBX3LJJcUqvtmzZxe/WE9n96ZflKd/pjOAUyDcngC4Fg53xwrgu55cH6u37C5UTmvqE+sWP37UAfC+1ta4Y/66aN7eUlxn6MC+ce300dGnd69Oarf98hSSJ18rgNu26swzBMCd0Wv/awXA7bfqzDNr83ysVgA/uWZbPLJ8c1HCwrXbYvSQ/jFiUL+YdcKwOHXs4COWls7bfdGLXlSEt+9+97s7wxDf+ta3ii2e0y4U6eiBtGNFMrn55pvjxhtvPOS1P//5z8ctt9xS7GKQzrFPP8fe+973FmfeexAgQIAAAQIECBAgQIAAAQLlFhAAl7t/bd29ALgtIX9PgEClBQ4OgNMvvFOQu3Tp0pg3b14cLgBOW2qmbZ379u0b5557brEl9MCBA4szg2sBcAow06rb9Iv49N/SdtHPDoe7IwD+yfx1sX7bnqKnM0b3jdULH4upU6fG5MmTj6rPG7btjjvmrz/wmjMmDIkZbWxlelRvcJgnC4C7QrHtawiA2zbqimcIgLtCse1rHMt53rarJW6fu+7Atvkbt++Okcf1L2763BOHxcljjhwApyMEfuu3fis++tGPxrve9a62i/UMAgQIECBAgAABAgQIECBAgEA7BQTA7YQq6dMEwCVtnNsmQKAxAikArp3x21YAnFZGbdiwoVgxnB61LaJ/9rOfFeclpgA4/f0vf/nLYgXrsQiAfzxvXWzcvj8APmtsv1ixYHaHAuD0+keWb4on12wvrtWnd8S108cUq4G78yEA7k7d31z7WAZmHa2wjFsTC4A72u2je92xnOc7n1wfa36968KAvr1jUP/eB3ZPOP+k4TFl1HFHLObOO++MF7/4xfGxj30s0pbMHgQIECBAgAABAgQIECBAgACBrhIQAHeVZM+8jgC4Z/bFXREg0EMEDg6Aa2f8ptAmbYd54YUXRlNTU7E9dAp9x48fH6tWrSpW/ra0tMQ111xT/HsKgPv3719sEV0LgKdPn16suk0rgFOoef311z9ndXB3rAC+bc7a2LJz/9bNZ4/vH0/Pe7TDAfCevfsiXW/nnn3F9cYO7R9XThvVrZ2rBcDJb+LEid36Xl118ZUrVxbzctZZZ8Xo0aO76rLdep1jGZh1tDABcEflju51ZXR++umniw/yNPpM63Te76+e2nQA+HlTRsSCNdtiw693Ybho8oiY1DToiA346U9/Gi95yUuKs3jf/va3H12zPJsAAQIECBAgQIAAAQIECBAgcAQBAXDe4yEAzru/qiNAoJMCKQBeuHBh8efZAfAFF1wQo0aNOvD36a3SmcCDBg0qzgCuBcBpBVc6OzEFwBs3boxf/OIXUQuAH3rooVi7dm0RAD97dXB3BMDff3xNbN+9t1A5b8KAWDr3kZgyZUrxpyOP5c074r7FzQdeesFJw2NyGyvaOvI+tdekbbLTltplDIDPPPPMGDNmTGfKb9hrBcCNoS7jCuAy3vOxCIDT99kfzl0bLXtbi2E6fsSAuGRqU/xo3toDK4AvnjoiThhx5AD4jjvuiJe97GXxiU98It72trc1ZjC9CwECBAgQIECAAAECBAgQIFAJAQFw3m0WAOfdX9URINBJgUMFwGkF3Jw5cyIFwMOGDYt77703duzYUawGPu+884rVnilAu/rqq4vg91AB8GmnnVaErikAXrNmTdxwww3PCYe7IwD+zuzVsatl/4rdi04YGAsff7hTAXC6zs8XbYhnNu0qrpm2OL1+xpjin93xKGMAnFaFp3kRAHfHRPzmmmVcmZrOE087CJx//vnF95IyPMocAKcz2UeMGNEQ5rsXbohVm/d/X+zft1dcd/qYGNSvT7FrQm0XhstOHhkThg884v38+Mc/jt/5nd+JW265Jd761rc25N69CQECBAgQIECAAAECBAgQIFANAQFw3n0WAOfdX9URINBJgRQAL1q0qNg+NK3gTSFNLQBOW/qm8Gbr1q3Fu9S2hH788ceLAPgFL3hBsfXzXXfdFX369ClWEDc3N8f9998ftQD44YcfjtWrVzcsAP7WI6uiZd/+FWmXTBoU82c/1OkAuFjpNmftgetOHjUoLjipe0IWAXAnB7qdL7cCuJ1QnXxaLQBOHyYZOnRoJ6/WmJcLgNt2Xrp+ezyw7DdbPx+8M8KtT6yJrbv278JwxSlNMW7YgCNe8Pbbb49XvOIV8W//9m/xx3/8x22/uWcQIECAAAECBAgQIECAAAECBNopIABuJ1RJnyYALmnj3DYBAo0RODgAvvjii2P48OGRthN94oknitW9e/bsKbb1Tds4X3TRRcUW0Onv0nM6GgDXwuHuWAH8zYdXRuv+/DeuOOm4eOLRXxVnEU+dOrVToPNXb43ZK7YcuMaV05pi7NAjBxsdecNaAJyMjj/++I5couGvsQK4MeRlXgFcpgC4jKuWGzkbO/bs/0DMnl9v/Tx+2IC4/JSmA18E331s9YFz059/6qgYPaT/Eb9AfvjDH8bv/u7vxr//+7/HH/3RHzXmi8m7ECBAgAABAgQIECBAgAABApUQEADn3WYBcN79VR0BAp0U2L17d7ECeMGCBVELgOfNmxcpBOnVq1exrW96TvpvtRXAabvfFDjUAuC77767eO5ll10WmzZtivvuuy9OPfXUInR95JFHIgWE6Qzg9HcHrw7u6gB4777W+N9HVhUiadXuC08bGo893DUB8L7W1vjJ/PWxcfue4vpDB/aNa6ePjj69e3WyA/UvT+ckJzMBcJeyPudiZVwBXFuZmrZhTx/UKMOjjCuAy3jPjQyAD94Sv1+f/Vs/H9e/z4FxPHgb/qtPGxVNg48cAN96663xyle+Mj796U/Hm970pjKMtXskQIAAAQIECBAgQIAAAQIESiIgAC5Jozp4mwLgDsJ5GQEC1RA4OAB+3vOeV5z1O3v27GhtbY1p06bFySefHCl4Suf+PjsAfv7znx8DBgyInhIA79m7L/7vI6vimeadsWbL7vi9WU3RvOTxLlkBnKZhw7bd8cVfrihWGPfqFXHJ1JFdvhW0ALgxX3dlDoDLdJ5uGcPUMt5zowLgpzbsiF8sbT7wRXrepOExdfRxdV+0B2/Df93po2P4oH5H/KL+/ve/H69+9avjM5/5TLzxjW9szDcA70KAAAECBAgQIECAAAECBAhUQkAAnHebBcB591d1BAh0UiAFwOmc3/nz58dJJ51UhL19+/aNlpaWSCsN0/bPtQA4beM6atSoqK0ArgXA99xzTxEYX3755bF58+a49957D4THtRXA1113XWzZsqVudXBXrwBOq34/dfeyIvxNj7MmDIwRmxfHaVNPKoLsrnj8y0+XxKpNu4pLzZgwJP7PjDExpgu3gi5zADxz5swYO3ZsVzB3+zUEwN1OXLxBGcPUMt5zI84t3rlnb9w+d13satlX9Hbc0P5xxbRRzxmk//vwyvj1Mexxw4wxxW4JR3p873vfixtvvDH+4z/+I/7wD/+wMYPpXQgQIECAAAECBAgQIECAAIFKCAiA826zADjv/qqOAIFOChy8AjhdavDgwXHCCScUgfC5555bBHppdVkKfWsBcFoNnAKHq666KgYOHBhHCoAfffTRWLlyZTQiAN6ysyXS+ZNzVm2NtB30zHGDYsOKxfHCsyd1WQD89V89E3NXbS3OuJw5cWg0De5XbAXdr0/vTnZi/8trAXDaQjv1oQyP1atXF+dClzEAPvvss6Op6Tfnl/Zk70aEfF1dfxnD1DLecyNm474lG2P5xp3FiPTtnbZ+Hh2DB9SHu+mDQN98eP82/Onxoplj67aHPtR8fec734nXvva18Z//+Z/xB3/wB109gq5HgAABAgQIECBAgAABAgQIVFhAAJx38wXAefdXdQQIdFIgbfmczuxNq3OHDBlSbPO8du3aeOyxx44qAN63b19cccUVxXV+/vOfxymnnFL8qQXA1157bWzdurV4r9rW0l29Arh5+5740bx1sWH77khblc4YOyiWLFkcl0+fEFeeM72TUlGEyumM4W27W2L+6m1x5sShRfA7ZfSgOH/SiE5fP11g48aN8fDDDxdnKAuAu4T0kBeprQAWAHefcbpyGcPUJUuWRPqTPvAydOjQ7gXqoqvXnLtre/DlzTvivsW/2fr5nBOHxSljBj/n7lv2tUbaArr2ePGZY2Ngv9+cD3yocr/97W/H6173uvjc5z4XN910UxeJuAwBAgQIECBAgAABAgQIECBAIB3jlw7y88hVQACca2fVRYBApwX27NkT999/f7HqND1SeDB69Oh45plninOAzznnnBg3blw8/fTTxQrP2t/PmzevCHauvPLKGDRoUBH4pjD3UAFwuk66XgqAt23bVrc9dFcHwOu27o6fLlhf1PLUhu0xfkjfIgAeO3pUvPbKM9pcidYW6O6WffHt2auLpz2zaWeMGzog+vTe/39DXHryyJg4fGBbl2jz7wXAbRJ1yRMEwF3C2OZFyhim1u45fRgmfSimDI/uDIDTls+3z11b7HqQHmOG9I8rpzWl/wfqOTQHf49Mf/nSWePa3B3hW9/6Vrz+9a+Pz3/+88U/PQgQIECAAAECBAgQIECAAAECXSUgAO4qyZ55HQFwz+yLuyJAoAcIbN++Pe68885i2+cUPKbAI22He7gAuHYm8KEC4HRmcAqEayuA05m7aaVvLQC+5pprIr1fOh+4tjq4qwPg1Zt3xV0L94fZ/fv2it2798T8JxcWNZ11yolx2cmd2+p3x5698b3H1hTXb43WGDmoXzTvaCn+94H9esd1p4+JAX07txW0ALgxXxgC4MY4C4Ab49ydK61/sXRjPLXhN1s/X3v66BjyrK2fa1Ue/D0y/bffOXv8gQ/JHE7if//3f+MNb3hDfOELXyhWAnsQIECAAAECBAgQIECAAAECBLpKQADcVZI98zoC4J7ZF3dFgEAPEUiBbQp8U6hbO+M3ndmbtm5O2+OOHz8+Ulj2+OOPRy0ATucDp2Anrfg97rjjilA3rSZOAXDa5jmdCVwLgNNW0itWrIgUAKftpg/eHrqrA+AVzTvj3sUbC9nhg/rGpGF94pt3PVoEwGPGjI2LJo+ISU2DOiy/dVdL3PrE2gOvv37GmPjxvLWxd//CuDh+xMC4ZOrIDl8/vbAWAKfw/MQTT+zUtRr1YmcAN0a6Eee8dnUlZVxNW8Z77q4AOO108PNF+7+npsdZxw+N08YdflX0tl0t8YODvkf+7rkT2hypb37zm8XZv1/60pfiNa95TZvP9wQCBAgQIECAAAECBAgQIECAQHsFBMDtlSrn8wTA5eybuyZAoEECu3fvjhQszZkzp1MBcLrOVVdddSAAnjp1anGO7aEC4Fo43NUBcDr39xdL959T2TS4X1wyaXD8xw/uj96Dm2Ls2LHFquDrTx/T5pmUh6PftGNP3D53XfHXfXv3ipedPT6eXLMtHlm++cBLLpw8Ik7qRMjc3NwcDz30ULF6uiwB8Jo1a4oPCMycObNwLsMjfSghfZDBGcDd260yhqllvueuPLd4z959cduc32z9nL6nvuDUUYfc+rk2RZt3tsQP5+z/kEzaHf/l57QdAH/jG9+Im2++Ob785S/HjTfe2L0D6eoECBAgQIAAAQIECBAgQIBApQQEwHm3WwCcd39VR4BAJwUODoBrZ/yuWrUqHnnkkZg1a1ZMmDChWMGbgtxzzz23CPgWLFgQixcvjssvv7zYPvq+++6LXbt2FQFwOuf37rvvjloAnILBtIL46quvLp5z8OrgFACnlcPpLMlDnSd5tKUtXrc9fvXUpuJlY4f2j4tOHBw/vfveWNY6KkaN3h9MnjByYFw8pWOrdDds2x13zN9/xnDa6vm3zxoXra2txbbTa7bsLv57vz69iq2gj+vf52hvv3h+mQPgM844ozgzugwPAXBjulTGMDV9b0srast0BnB3OD+wrDmWrt9RDEqf3hHXTB8Twwb2PeLgNG/fEz+at/9DMul74UtnjW9z0L7+9a/HG9/4xvjqV78ar3rVq9p8vicQIECAAAECBAgQIECAAAECBNorIABur1Q5nycALmff3DUBAg0SSAHwU089FU888UR0ZQA8ZcqUOO2004qVoYcLgNNW0+nvDn4cTRD87Oc+vXlvLNiw/0ze0cf1jpmjeseGDRti476BsXxn/wNvM3NMvxg3+MgB7aHuY+POffGrVfuD3oF9esVlJw4o/n3X3oj7V+yKll9vBd00qHecM67fYUPtI9WY+rF+/foYNmxYEa63x6M9z6kVfzTPTa9pz/PT2c7pnkeNGlXcc3sf7bl2R+67PddNW5+vW7eu2OI8bWPe3kd7rt2e53SkrrQ9+P9n7z2A47rue/8veu+dIECC6Oy9iUUkRUqWZEuybE/GznPy/N5zMh6/SLYn+TuJ4sQvmThxUyIrb+zEHjv2szOxHMuWrEaKXWxi7wTBDqL33oH/fM/iLhdLAHsXu4Cw1PfMYEhgzz333M+5e3dmP+f3+3HOubm5iIyM9Dhlb+Zhd629nXd9fb2ZMzeE2Jmz3Xl4c23e9OX5mdKcUe3MYOBpzt6M7U1fuxys9eCmHT5PS0tLERU1dpp7b85f39mPI7fuZTYozYhGUdr47xNr7Kaufhy44diEExEShI+Uptx3n7IvnxdkzMZNQd/61rfw13/913jssceczxxrzLS0NPBnorZv3z5s2bLF43vi61//Or72ta+N6sfawy+//LLJghEeHo61a9fihRdewPr16z2Opw4iIAIiIAIiIAIiIAIiIAIiIAIiIAIzm4AE8MxeH19nJwHsK0EdLwIi8EATcBXAVo1fCpDTp09j8eLFmDVrlqkRfO7cOSxbtsxEeJaXl+P69evYsGEDYmNjcfToUVPfl1/AUwYeOHAA7gJ469at4Ln4ZT9lEI/jmGzBwcHmX0bT2m1j9b3bCdzpCDJDpEQAxYmO8TjsxeYgtPU7Rg8LBpamDJt/vWktvcClFsf4kSHA8tR7863rBq61OV5jy4sbRpZ9r+jNNNRXBERABKaMADeynGkMQt/IhpaYUGBR8rBJ6eyptfY5nrVs4cHAyrSxn+m/+c1v8JOf/MTTcOZ1CluK24kaa9j/wz/8w5hdmGmC9YXZ9uzZM0oUf/nLX8aLL75opPmOHTvQ09OD3bt3m8+iV155Bc8884ytOaqTCIiACIiACIiACIiACIiACIiACIjAzCQgATwz18Vfs5IA9hdJjSMCIvBAEqCUraioMJG6UyGAGVnM8SmAme6Z6aGZRpqRgYy2Yg1WRmB6E5023kJcrGrHpZoO8/LclCgszozCoUOHMHv2bGTl5pnUpINDDiGRmxQF1uu1mh35XNnSgyM3HTWG4yNDsL0kddRUDt9sRlVrr/lbaFAQthanmJSpdsa2BmprazPptynQOW9PzZuxOZY3/e30ZR9G8zEtOOsWp6aOZuI6fzvjebMevozN6EPWvmaUZ0JCwoSYP8h5u56bGzO4GYOR9eNFLU/VXL0Z1/U+s6JpeW+MF0072bHHWzRfx3ONWo6IcET5T9d96en9Pt5c+B5ktoM5c+aY56p784bJhdpuVLQ6dstQ5a7PjUZcxOiMCeON19A1gBOVPebY6LAgbJobIqtvYgAAIABJREFUM+Yzh884bhxiY/QyNwZxAxEjmN2fU5s3bzafH5Ntb731Fh5//HFTU52pva0NR5TBLE3AzAUsY8B7lI3/ZzkDSmGm1k5KmlzJgMnOV8eJgAiIgAiIgAiIgAiIgAiIgAiIgAj4j4AEsP9YzsSRJIBn4qpoTiIgAjOGgKsAtmr8Uo6dOnUKixYtQnZ2tjMCmLKWKXOtCOCHHnoIcXFxOHbsmKn9yy/prQjguXPnoqSkxKSWpgDml/sDAwNGALNRrFA4U1b4qwbwmbttKK/rNOMXpEVjfnqkUwBT9JXVduBcZbuT/Yb8JGQleE6lax1wp6kbx245BHByTBi2FY+WnT39g9h5uQG9I7mg2WdLUQqCg2yEzo2cpLW1FSdPnkRBQYFJ9RsIjfcLNxCoBvDUrhaFNSPvmaqdKcIDoU1Fbdqpvm4yJus1a9Z4ldJ8quc10fhW3WJf51zX3ov95U3OU83PisWCrDjbl1bV2oND15tN//ioUDxaOnHqZvZjdO4XvvAF/Nd//Rc+/vGP2z6X3Y6f+cxn8Itf/AJf/epX8Y1vfMN52BNPPIE333zTRAA///zzo4Z77rnn8NJLL+Hb3/42vvKVr9g9lfqJgAiIgAiIgAiIgAiIgAiIgAiIgAjMMAISwDNsQfw8HQlgPwPVcCIgAg8WAQpg1uE9f/48xhPArC159uxZE61LAXzt2jXzM5YAZiro/fv3wxLArKvIGsMUwBSFFMKMwGJ9RUZYMSrYXwL45J1W3GjoMgtUnBGD4tQII4ApsRk1yai1PVcb0dTpiG6LCg82giIsxF4u6JuNXThx21HfMj0uHJsL769vySjhwzccAoRtQVYs5nshUAJZAM+fP9/cH4HQKisrUVZWZu7p5OTkQJiykZKBJoAtMbl69WqT9j0QWiAKYH/MeWBoGLsu16ODRc0BJESF4pGSVK82sFQ0d+PoSJaEpOgwc7ynxhq8X/ziF/Hqq6/i6aef9tTdq9e5MYllC/ivtUmFAzDVc2JiInp7e80GJfdsC9yotGnTJjD6mPWF1URABERABERABERABERABERABERABAKTgARwYK6b3VlLANslpX4iIAIfSgITCeCFCxeaL8aZopMpO5csWYKsrCwjoRgF7CqAOzo6TDpNfrHOL8yZipTpPC0BzHrClMyUsKwrzN9Zm9GfAvj9Wy243dRt1pGRa4UpESa1qCWA+ffW7n68e6UBI5mgkZcahZW591JBT3QTXK/vxKmKNtMlMz4CGwvGFofHb7fgVqNjHqybubU4FZQhdhpTQJ84cQL5+fmGYSA0pszl2koAT+1qBbIA9jUydWrJjh7dkqlr164dN9X2dM7Hzrn8IYDP3G1FeZ1jAw2TFjDDgd3nljVHPn/5HGZLiQkzzz5PjbWA/+RP/gSsC/zUU0956u7V6z/72c/w2c9+1tSvZ1YLq/HzjH9LS0szG5PcG4UxNyww/TNTa6uJgAiIgAiIgAiIgAiIgAiIgAiIgAgEJgEJ4MBcN7uzlgC2S0r9REAEPpQEKIAZDXnu3DnzhTijpSj0mIbYkwBmFC9T0b7//vtob28fUwBfvnzZRC4y6pc/TANtRQf7WwAz8pYRuGyLs+OQlxR+nwDma5drOnCh6l4q6E0FyciIH13rc6ybwTWFdHZiBNbPG1sA9w8OmVTQXX2OSDqmQn2kOBUhtMEemgSwJ0L+eV0RwP7h6GkUf6Um9nQef74eyAJ4stK6oaMPe682OjGWZsZi4Sz7qZ+tA5mBgZkY2MbLkuC+Vj/+8Y/BlMuvvfYaPvrRj/pzKfHoo49i586d+O53v4svfelLzrF5LspmdzHsenLK35aWFvCZzFIHaiIgAiIgAiIgAiIgAiIgAiIgAiIgAoFHQAI48NbMmxlLAHtDS31FQAQ+dARcBbCV4tkSwKzpmpOT44wAZtQuo3etCGBXAcwvyR955BFnBDDr1zIi9PTp06itrUVoaKiJ+mUUlhUd7G8BfOBaE2rbes0aLs+JR05CmBHAnDPrEVttaHgYu8sa0NI1YP4UExGC7SWpHlNBX6pux8XqDnNMbnIk1sxNGvd+ca+lWZQRgyXZnuu2SgBPz1tQAnh6OEsATw9nX6Q1Uz+/e6Ue7T2ODStxkaHmeWhnw4r71V2r78RpG1kSXI/70Y9+ZOTs66+/jieffNJvwJi5wkrtzDIHrunpWROYtYGZxYKfEWM1HsvnRFVVlcl8oSYCIiACIiACIiACIiACIiACIiACIhB4BCSAA2/NvJmxBLA3tNRXBETgQ0eAAphfcLvW+G1oaDBpiC0BTIFLkWsJYEqdq1evYt26dUhISMDx48fB2rUUwKypuHfvXlAA80tzRgcz7TMjrdjXNT20vwUwI9gYyca2ak4CsuPDwFqO7gKYr7d09RsJbKWCLkyPxtLZCROuP6OGGT3MZid19Jm7bSiv63SO+XBhMtLiJo40tgTwvHnzTKR0IDSlgJ6eVVIK6OnhzPrmrFs+2Wja6Znl6LP4MudzlW0oq3U8p5j6eUtRClJiwid1GXazJLgO/sMf/hBf/vKX8cYbb+Dxxx+f1HnHOohRv1/5ylfw2GOP4a233hrV5ec//zl+//d/Hxs2bDCfEWM1lg7gZ6MEsN+WRAOJgAiIgAiIgAiIgAiIgAiIgAiIwLQTkACeduTTekIJ4GnFrZOJgAgEGoGJBDAjeClyLQG8aNEiU093LAHMVJnbt293CmCmkqZIHhoaMgJ48+bNCAoKmlIBzNq+zV39ZgnW5iUiMzbUfLlPEc16xO7tYlU7Lo0IXb5G8ZEaO774cBW6BWnRWJYzsTB2RNY1oL3HfqSxBPD0vIMUATw9nAMxAtiSqdzgEhUVNT2gfDzLZOfc2OlI/Tw87JiA3UwF403XNb1+TlIk1uaNnyXBGuPf/u3fjKilpKWs9Vdbvny52bhE2fvpT3961LBKAe0vyhpHBERABERABERABERABERABERABGY2AQngmb0+vs5OAthXgjpeBETggSZAAVxdXY0zZ85gyZIlRpY2NjaaqF5LANfV1ZnUzZYAvnnzJsrKykyEXGJiookWbm5uNgKY4+3Zs8fIXtb8TUtLMymkN23aZH5nBLCVHtrfEcBvX2IaU4ds3ZCfhNTokAkF8CAFbVkD2rodx8RFhuCRkjSEjlOr91RFK67Xd5m+xRkxWGwjpXNTZx/2uAgWT5HDrKVM9oEYAUzJHiipUi0BzHs+JSUlIN7jigCenmWarEydntmNfZbJzNnb55+d63PdVDM3JQqr5iR6POwHP/gB/vRP/xRvv/22qdnrj8ba8/z8io2NNRuYoqOjRw3LzztmpeDnEz/f3FtnZ6c5lp9v/GxTEwEREAEREAEREAEREAEREAEREAERCEwCEsCBuW52Zy0BbJeU+omACHwoCfT395sUl/xC3ErxbAlgCj3W67UE8MKFC01NxYkEsHUsBfDKlStNFDD7UwCHhIQ400Pzy3l/C+A3LtShq89Rx3JzYTKSo0Jw4MCBcSOA2c89Am4isXv8dgtuNXab8ednxmLBrDhb98zF6nZcGqkdzAMeyk/CrITIMY8NRAHMNT537pyJspYAtnVLTKqTBPCksHl90GRkqtcn8fMB5eXlqKioMGn57UYte5sBwc6UXdNJz0uNxorcibMkcMzvf//7+LM/+zPs3LnTbCLyR/uLv/gLfOMb38BnP/tZ/Pu///t9Q3Z3dyMpKclkrCA3q1aw1ZGZI/iZxZ/9+/f7Y0oaQwREQAREQAREQAREQAREQAREQARE4AMgIAH8AUCfxlNKAE8jbJ1KBEQg8AhQADMC2LXGb1NTk6ndawlg1ng9efIkLAF869YtXLlyBWvWrDFfovM1il/KBx7HMVNTU40AZqQwBfDGjRsRGhpqBHBOTo6pL+xvAfzauVr0DgyZRdhWnIL4iGAjgDMzM0002HjtbGUbrrrUwNxalILkMWpgHrnZjLvNPWaYRbPiUJIZa2vBh4aHsbesEU0j6akjw4KxozQNEaHB9x0vAWwLqc+dFAHsM0JbA1y/fh0U13xWxMTE2Drmg+4UyAJ4/fr1iIwce3OJK1emymcNdCv1s50a6HbW5czdVpTXObIk2B3z//7f/4uvfvWr2LVrl6kj72tjyYG8vDxz3000JusNM+30iy++iOeff37UaZ977jm89NJL+OY3v2mik9VEQAREQAREQAREQAREQAREQAREQAQCk4AEcGCum91ZSwDbJaV+IiACH0oCEwngkpISzJ07F3YEMPuEh4cb+csv4BlRRWF89epVUzOYAjgsLMykh54qAfzqmRqw7i7bjtJUxIQF2RLAPGbX5Xp09Dqih+OjQvFIcSpC3FJBH7rehKrWXtNn6ex4FKbbF1ptPQN490o9Bh1+GtmJkVg/7/76mJYApsDgTyA0RQBPzyoFYgRwIArgyUTTTs8dMP5ZrDnbEcDckEL529Jlvza53eubTJr8f/mXf8Gf//mfY/fu3di6davdU43bj5t+WHN+1qxZJrqXpQfGau+++66JOGYK+CNHjqCwsNB04/+3bNmCiIgIs3kpOTnZ5zlpABEQAREQAREQAREQAREQAREQAREQgQ+GgATwB8N9us4qATxdpHUeERCBgCRAYcsava41flnz8NixY7AEMAUf6/wyapfyliKKNRZXr15tvhxn1C+jhpn2mWmkz549i+zsbFMz2BLAGzZsMIKYAtiSw1YEMMGN9yW9XaiUzr86XePs/viCNESGBpn0nZ4igHlQfXsv9pU3OY8fK8XzgfJG1Lb3mT5MbcoUp9608rpOnLnb5jxk9dxEzEmOGjVER0eH4SkB7A1Z7/sy7Tmj2FUD2Ht23hxhCWDWC3evw+rNONPZ1xuZOp3zmuhcfM7evXsXdgTwpep2XHRJSb+pIBkZ8RF+uZTJpMn/3ve+h7/8y780nw0Ur762z3/+8/i3f/s3E7nLCN6JGiN///mf/9ncm1YNe0YNDw0N4Ze//CWeffZZX6ej40VABERABERABERABERABERABERABD5AAhLAHyD8aTi1BPA0QNYpREAEApeAqwC2UjxbAri4uNiISEsAM41ybm7uKAHMKKlDhw6ZL8yXLl1qUj8zssoSwJQplEAUwOzLKK+pEMCM4mUEsNU+uigdYcEwAjgjI8PIa0/tdEUrrtU70pcy+HdbcSoSo8Och+292oiGDocAHkveehqfkvrAtSbUjUjksJAgkwo6OjzEeagEsCeK/nk9EAUwU68zmp6p1ePj4/0DYopHkQCeYsAjw1sC+KGHHjLP2fFaa3c/3r3SgJFECWYTi506vXav4titZtxpcqTJXzgrDqU20uQz1fILL7yAffv2mchdXxpr+rIOOT/DuBGJG5I8tZ/85Cd4+eWXzaYmZqngZgXOh59ZaiIgAiIgAiIgAiIgAiIgAiIgAiIgAoFNQAI4sNfP0+wlgD0R0usiIAIfagIUwLW1taNq/La0tODo0aOwBDDr+x4/ftzU0aUAvnPnDi5dumS+XKd46OlxfOH/2GOPYWBgwAhgpt/k69MlgHv6B/H6+TrnWj6zNBNBw0NeCeD+wSHsvNyArj5HKuik6DBsLU5BcFCQ+Z3ihLUz2dbmJSInaXT0rp0biWPvvFyP/kFHquqMuHBsLEg20dNsEsB2KPreRwLYd4Z2RpAAtkPJ9z52BDBTP+8pa3Q+w6LCg/FoaRrCQsZOkTyZWf3iRCX6B4bNppbF2XEozvBcJ/2f/umf8LWvfc2k62epADUREAEREAEREAEREAEREAEREAEREAER8BcBCWB/kZyZ40gAz8x10axEQARmCAFfBDBTOvf19ZloxLa2NiOAmdaZKTTdBTAj06KiokZFB/szBXRn7wDevFjvpPqJZZmmFjGjyuxGAPPgmrZeHLx2LxX0ollxKBmJYnvncj3auh11MzfkJyErIXJSq3irsQvHb7c6j12WE4+CNEc9YUsAs/byvHnzJjX+dB9k1QBmynCueyA0CeDpWSUJ4OnhbEcAn61sw2tna82EuN/kM6tmIS/Vfh1zT1dyt6UbPztWCdY7n5UQicfmp6Iw3bMA/u53v4u/+Zu/wcGDBxV16wmyXhcBERABERABERABERABERABERABEfCKgASwV7gCrrMEcMAtmSYsAiIwnQQogOvq6kbV+G1tbcWRI0dQVFRkJCTr+7IubWlpKebMmWNSOjOyl411fnk8o4gfffRRkwqaAphpOFlf9dq1a+ZnqgUwU5syepctNDgIjADmXLwVwDz+xJ0W3GzoNmMxFfT20jTER4bizYt16Ox1RAf7Wjfz8I0mVLb0Oue7rSTVnKOzs9PUXw4kAcwIcaZblQCe2neuUkBPLV9rdDsydXpmYv8sZWVlqKysNAKVG3Pcm7Wx5eQdx8aTtNhw/PHGXMREhNo/yQQ9u/sHsetyA85XtaG9ZxAxESH49MpZyB/Z2DLRSb7zne/g61//uiklwBrGaiIgAiIgAiIgAiIgAiIgAiIgAiIgAiLgLwISwP4iOTPHkQCemeuiWYmACMwQAq4C2ErxbAngwsJC5OfnOwUwBV9mZiYOHz5sIn8pgymFz5w5g5qaGiOAGXW7c+dOpwC2ZDG/2I+Ojh6VHpoRwEwZzWOCg31LQ9rU2YfdZY2GakRoMD62OMMpgNPT08H6xnYbU0G/fakePf1D5pCUmDBsKUrB7y7UOf/G31Nj7xctds/BlNUU1r0DjnMkj5yju6tLAtguRB/6KQLYB3heHBqIEcAPmgDms2bXlQZ09w3iVEUbmPq5JCPWPCOjwu7VH/diWe/r+t71JlS39qKstgOUwcyasLkgBbnJntPkf+tb38Lf/u3fms+VdevW+TINHSsCIiACIiACIiACIiACIiACIiACIiACowhIAD/YN4QE8IO9vro6ERABHwlQANfX14+q8ct0zvwy3hLAzc3NRkoWFBSgurraRKmyrVixAmlpaU4BvGPHDvN3CmCK4qVLlzqjhSmAY2JiRqWH9qcArmvvxf5yR+pm1p98YmG6Ect79+6FtwKYY1S19uDQ9WYn3SWz43Gput1Zu/eRklRTI9iXVtnSg8M37p1jQVYs5sQHSwD7AtXmsRLANkH52I3R/6wZvnbtWrMBJBDagySA+Qw8eL0ZtW29GBwaxrmqNiN/KX4pgLlZxtd2o6ELVmTx5ZoOpMaGIS02AuvmJWJ2omcB/M1vfhN/93d/Z+rOr1mzxtfp6HgREAEREAEREAEREAEREAEREAEREAERcBKQAH6wbwYJ4Ad7fXV1IiACPhLwRgBbNX+Z3pki2BLATP/L3ymAg4KC8M4779wngBnZFRsbOyo9tD9rAFe39uC9EWEbFxmKx+an+SSAifXYrWbcaeoxhJlWmpFtYSEOYfLofEdaaF/b8dstuNV4L9302pxolJ07aaKrGX0dCE0poKdnlQIxBbQE8PTcG1euXAE3NbingGZE7rnKdjOJgcEhNHf3GznL9vSSDOfzbLKz7OgdMKmfB4aGzRDc1JKd6KiNbrdO+j/8wz/g7//+783Gl9WrV092KjpOBERABERABERABERABERABERABERABO4jIAH8YN8UEsAP9vrq6kRABHwkQAHc0NAwqsZve3u7qcfIiF/+MEL45MmT5kzFxcUICwvDhQsXbAngGzdugBF1FMBxcXGj0kP7UwBXNHfj6M0WM0dG5jJCl23Pnj0mSpm1ir1tTM/8zqV6k6aZkXTl9Z0oSo8BEGQijBlp7Gtjummmgu7qc9QWjgweRFTjVeTNlQD2le1ExysCeCrp3hvbEsB8/0dFeY4GnZ5ZTXwWT/V0Z8Ic3edgCeCNGzea5zMb0+LvvdqIETeLtNgw1Hf0Ow/9+NJMhLDI+SQbn4n7ypvQ0NFnRggPDcLwMJxZEjYXJiM9ziGbJ2rf+MY3wJ/jx49j5cqVnrrrdREQAREQAREQAREQAREQAREQAREQARGwTUAC2DaqgOwoARyQy6ZJi4AITBcBVwHMGr9z586FJYAZgcrfmZqTaZ9TU1PNF/SVlZU4f/48li9fbtIrnzt3zkSfbd++HSEhIXj77beRkZGBZcuWYSwBbKWH9qcAvtXYheO3Ww021uZljV42XwQwj7fE8tDQME7fbUNucqSJoPvoonRE+ql+pmv6atZW7q29js0LJYCn8j0gATyVdO+NLQE8PZzdBTA3lrx7pQEdvY6NJaz7uz4vyVknnX/7xLJMk7Fhsu1KTQfOVzmii9nW5iXizN02r+ukM/qXUcDcZMTPFDUREAEREAEREAEREAEREAEREAEREAER8BcBCWB/kZyZ40gAz8x10axEQARmCAEKYKbwZfpNSwB3dHTgvffeM/KX9X9bWx1itaioCPPmzRtXAD/yyCMIDQ0dJYBv3rwJRtSxBmhCQsKo9ND+FMDX6ztxqqINjZ2OaLQ/2pBr5IavAphjsU7v7cYunK1sBzNAz8+Kw6eWZ/mcPtX1FmC66WM3WzA4MIDqqrt4ZtksrFtcPEPukomnYaWAZnR4dnZ2QMxZAnh6lkkCeHo4X7582aThtyKA37/VgttNjtTydLybC5LNhpW3L9WbvzHw99llWZOeXEtXP3aXNTiji7kxZs3cJPz2XA36BhzpoO3WSWf9X9YBPnXqlNk0pCYCIiACIiACIiACIiACIiACIiACIiAC/iIgAewvkjNzHAngmbkumpUIiMAMITCRAI6IiEBvb6+Reoz6tQQw5RmjfvllPSN9GQ3M1y0BzBrATLvMaK7pEsCXqtvx2vlatHQNIDE6FE8vzkRJZiz27t2LlJQULF68eNLEWfv39fO1OHWnzYwRHxWK/2/7PIQEO+oB+6PVtvfi+wdvo6O7D82NDVidl4zPbJqPmAjf6wz7Y34TjdHU1IQzZ86Y9OASwFNH26oBvGrVKpNOPRCaBPD0rJIlgDdt2oTKtn5QAFttfmYsFsyKQ2t3v0k3z8aa5s8szZzU5AaHho38be0eMMczunhHSRrCQ4Px6pkaZz3gHaWpSIhypKOeqP3t3/4tvvWtb5lnyJIlSzx11+siIAIiIAIiIAIiIAIiIAIiIAIiIAIiYJuABLBtVAHZUQI4IJdNkxYBEZguAhTAFHhM80yBl5eXh7a2Nhw+fNhMgb9T8vL1wsJCMC20NwKY0orpSdesWYPExEQTAWylh/ZnBPDF6na8caEOTZ39SIkJw7zUaBOBduroez4LYHKgYP7psUrDhBF1/31dzkg9YP+sFNNAv3O5HhcqW9HUUI9luUkompNtUln7UqfTP7ObeBQJ4OmgDEgATw/nQKwBbAng5WvWY++1FgwMOqJwmQ6ftXiDg4LQ3NVv0kKzsV7vU4snJ4DPVrbham2nczE2FSQjI95R6/eVU9XOv39kQRpibWxg+frXv47vfOc7OHv2rE8bdabn7tBZREAEREAEREAEREAEREAEREAEREAEAomABHAgrZb3c5UA9p6ZjhABEfgQEXAXwLm5uXj//fdN2uf4+HisW7fO1ASmELYEMFON8sv6pUuXgvV8L1y4gLt372Lbtm0ICwszkpf1glesWGGklSWAk5KSRqWH9qcAppS4XN2BSzXtSIgMQ25yFBKiQhFSfQFpqb5FAPN2YMpTRui2dA8YIbs8Jx5bi1ORFO05ws3O7VTd2oP3rjejtrUL565VYGluEtLS0pGfFo3lOQl2hvjA+gSyAGZkOO/VQGgSwNOzSu71dKfnrL6d5dKlS6iqrsFQ1gK09gyZwcJCgrCjNA3R4SHm94aOPuy92mj+HxkWjI8uyvD6pPXtvdhX3uQ8rjA9GktnO55PQ8PD+K/TNc7XnlyUjigbddL/5m/+Bt/97ndNJomFCxd6PScdIAIiIAIiIAIiIAIiIAIiIAIiIAIiIALjEZAAfrDvDQngB3t9dXUiIAI+EqAAZp3fI0eOoKCgwPyfNV3ZWAOYdYEpgA8dOmRe548nAbxz504TdesqgFevXo3k5OQpE8An77TiRkMX2noGzM/sxEhzDZ2VZSaa1tfUopQnu640mEhgtsXZ8YiLDMG24lS/1AK+29KNIzda0N/fh7NlNzAnI9kIYLY1cxON0J6pTQJ4elZGAnh6OAeqAD5aXoOY2cUIDnKkpl+bl4icpHvPDVd5Syn8xELH88Vu6x8cMimku/oGzSFxkaEmywLTSbPx9d+crXUO99TiDJMW2lP72te+hn/6p3/CxYsXMX/+fE/d9boIiIAIiIAIiIAIiIAIiIAIiIAIiIAI2CYgAWwbVUB2lAAOyGXTpEVABKaLgKsAjo6ORldXF7KysozkZfpnpoV2F8A1NTXOeo3sa0UAb926FeHh4XAVwLdv3wbTk1oC2LU+sD8jgI/dasadph6Djc5hwBEEh6tXy7AhLwGb1yzzCWltWy8OXGtCe+8Abjd2Y+EsRw3WuSlRWDUn0aexefCdpm4cu+UQwLV3bpio1MgER2QqBcvW4hRb9TR9nsgkBpAAngS0SRwSiAK4vLwcFRUVJpNAVNTM3cTguhyBKIAPnjyP/VcbUFhUZAQwU+CvyB2dOaCmrRcHrzmid2MjQvCRBd4J4OO3W3CrsdscT+fL9PTJMeFOdD2mVnqd83fWGLbk8ES3+wsvvICXXnoJjGIuLS2dxDtDh4iACIiACIiACIiACIiACIiACIiACIjA2AQkgB/sO0MC+MFeX12dCIiAjwRcU0BzqOzsbFPn98CBA/dFAPPvTAPtLoAZuUXJYwngXbt2gemeV65cCUsAr1q1ykQFT5UAPnyjCZUtvYYG5eztpi609wwaAZwSH4P/8egKnyJ1q1p7cOh6sxm/tbt/lIx1j7SbzJIweplRzP0D/WiouI6HS2fh5kAC+gYctTwZbbetOMWna5jMvOwcYwngoqIizJ49284hH3gfbnDgxgSlgJ7apbAE8Pr16xEZ6YjKn+kt0AQwxesOlvURAAAgAElEQVSP3z2LxpZWI4ATosJHReZavK008/w9PioUj5am2V6KypYeHL7heP6xLciKxfwsxyYYqzEymHXYrfaJZZkIYsF0D+0v//Iv8b3vfc+UCuCGIzUREAEREAEREAEREAEREAEREAEREAER8BcBCWB/kZyZ40gAz8x10axEQARmCIHe3l5T85cSLy4uDhQ1PT092L9/P+bMmWMisjo6OvDee+8ZMUwBXFtbi9OnTxt5NmvWLBO5defOHWzZsgURERGgAE5MTASlL//O1y0B7Bod7M8I4APljaht7zNUGfnG+r+sd1l29aqJPNy8tPi+iDhvlqCiuRtHb7aYQ5KiQ43YaOrsN7+z1ub2klTERIR6M+SovtfqO3G6os0I4KaK63h08WzEpueYusBWy02OxJq5SZM+x1QdyLThvB8kgKeKsGPcQI4ADiQBzI0B3CCwceNGU9N8Jrfh4WHzjDhVdhPtbW0oKS7G9tK0MbMFWGnmeT2J0aHYXmJPAFMwM/Vz70haheSYMBP9G+wmd5l6/51L9QYXI4SfXZZlC91f/MVf4OWXX0ZZWZl5hqiJgAiIgAiIgAiIgAiIgAiIgAiIgAiIgL8ISAD7i+TMHEcCeGaui2YlAiIwAwgMDQ3hxIkTRnawWYKXAnjfvn33CeB58+aZL+g9CeB3330XCQkJ0yqAd5c1OIWsVTP3YlU7fnPwlBHAObNzsCE/CVkJk4tCvNnYhRO3Ww2n9LhwI5NZE3hg0BGhmxIThofHkCJ2l7mstgPnKtuNAG65ex3bF802sv18ZRuu1HY6h1meE4/8tBi7w05LPwngacEsATw9mE1kOJ+JmzZtQmjo5Dd1TMd0redGVXWVEcCf2roSRRmjI3OtebhuYqHEZf1yO+3Q9SZUtTqyKzClM+v+MiOBe2vp6jfPRNMvJAjPLMm0Mzz+/M//HP/yL/8CRouzxrwvjdkp/vEf/xFvvPGGyUrBZz9LGWzbtg3f/OY37xv6pz/9qZHP3KTE8gVr164FU1Jzw4KaCIiACIiACIiACIiACIiACIiACIhA4BOQAA78NZzoCiSAH+z11dWJgAj4QIARuMeOHQNFcGNjo/nynT/uArizsxMHDx6EJYDr6upw6tQpLFq0yKSMtiKAH374YZPm1VUA80t4pohmOmjWtXVND11ZWYmrV6+C87CTKnSiPqfqhzESkIsFKUFIiQzC0PAwTlT3o3MgCKGhIQgPBpanBZmIXTY757T6VXUM41qrQ/YmRwILU4JR1zWMK83DsALhcuOCMDc+eNwVmeh8t9uGcKuN4w8jPrgPC1JDTTQ1r+FcwxBaex3n5syXpYcgLjzIq/nbuU284eE63sDAgIkSp2zhnK1mdzxPa2F3HG/68R5nbev4+PhRc3a9Lm/Gs8PX03V6OjcZc858H1mRqRPN0d/ztzue63VycwDnzEwBY8lUu2NOZ7/6+noz57lz5yIkJGTCpZ3OebnfH609gzh8pxPDw0BLawuih3vw1OrCUc8F1/ndbe3DuRpHDd+kqFCsy723kWS867jT0ofzI8fwuIWZUZibdO897jqn5u4BHL7dYf4UERqM7YWjaxC79j1z5oxz4xE/WyhsKW5ZU979+cH60a5/H29Bjhw5gscffxwtLS2YP38+Fi5caNaRn093794Fn1Ou7ctf/jJefPFF89zasWOH+dzbvXs3GFX9yiuv4JlnnrH7tlY/ERABERABERABERABERABERABERCBGUpAAniGLoyfpiUB7CeQGkYERODBJMAU0G1tbTh8+PB9EcC5ubnmi3RLADOSijUa3QUwI+ZY69cSwPwSnemkV69ebaKwKIBXrFiBtLQ0pwDmWIw+phSKiRk/opVfxttpR6r60TPy/f6StGAkRTpEbE1TG843hyAs3CEtUqOABSkTSx32cz9vRfsQbrQOmTHSooIwf2SMy42DqO26N0eeOzFi7LqXE13LzbYhVLQPG+GbHNKHkpRQp+TrHRzGqbph9A9RDw8jMgRYRpHNPKvjNLvcxrpWb8fkuShXgoODjTCze+4Pqp8312zn3lMfEZhuAoNDwNmmIPQMOs7MzS1LUoYRNv7+E9R2A9fbHM+MhHBgQdLEz1Y+T880cSON4xyejmntAy42O8bnfFamjT/+d77zHbOpyE57/fXX8eSTT07YtaqqCgsWLAA/z37+85/fJ29Z5oCfR1bbs2ePiQpmXXqKY2ZbYOP/+TlGKXzz5k1Ty15NBERABERABERABERABERABERABEQgcAlIAAfu2tmZuQSwHUrqIwIi8KElQHHX2to6qsYvv0Tfu3cvLAHc1dWFAwcOmFSargKYEVazZ882KVMpgDdv3my+OHcVwIy8unDhwigBHBsba6Qy27Jly4wApjz0pb12rtZZo3JrcQpSYsLNcJx383A0+uKyncNbKaK9Od/F6nZcqnZEt81NicKqOYnm//2DQ3j3SgM6eh0mJio82NTWZAScN+1sZRuu1nYakdpZVY5N82ePqodZ196LA9eaTLQf26yECKyfl2Q7CtibuXjb90FOAT2RpPa3wCb3icZkPW3WAeZ7hu8hO83fc/Q0nvvrnC/TKS9fvnxUpLWncaxr+yD63bhxw2REIGdPEcCe1sx1jfxxL1nnO13ZgQoa15GWE9yCoJ42LFmyxPlMcD/fzaYeXKjpMkekx4ZhTa4jVfRY8+LfGM3b1OXYVcOsCZvy4hA1gWGu7+jHsYoO84yKCQ/Glvz4cW9RZpCwSg/wGf3WW2+ZCGBGt7vPiam4mWliovbZz34WP/vZz/C9730PX/ziFz2+NZ544gm8+eabJgL4+eefH9X/ueeew0svvYRvf/vb+MpXvuJxLHUQAREQAREQAREQAREQAREQAREQARGYuQQkgGfu2vhjZhLA/qCoMURABB5YAq4C2Erx3NfXB0ZI5eTkmKgqdwHMFKknT540KTYpgK9cuWLElKsApqBas2aNSb3pLoApF/hDKcQUvPy/rwL41TM1GBgJVdtRmoqEqDCzZpQLFMztcXNR3+EQJpQZO0rTEB3uORLYWvhzlW0oG6nFm58WjeU599KbNnX2Ye/VRmekXHYi5WyyV/fMqYpWXK/vMgK4u7ocG0pHC2AOdrmmAxeq2p3jLs6OQ3GGPRHo1WS87PwgC2AvUUxpd77HKCdXrVplIuwDobGuK7MAsKYq08MHQmPKYNaSnak1gG83deP9Wy1OlPMzYzHcdNtkZtiyZcu4m0KsesE80NMzyrUv+6/NS0ROUtSEy1fZ0oPDN5pNn4SoUPOMtdOYivmHP/whuMGBnzneNj5/mCKa9xfXzdN9xlTPiYmJJlqY9yY/w1wbI5O59vw827dvn7fTUX8REAEREAEREAEREAEREAEREAEREIEZREACeAYtxhRMRQJ4CqBqSBEQgQeHAIUjU0C71vh1F8Dd3d3Yv3+/qYlZUlKC8QQwvzSPjo428pjS1VUAU/YmJyeb+sBslMesC9rf3++zAKZA/tXpGueiPLEw3Sl3eV2cS/GCxdh5pQEDg44Q2oz4CGzMtx9Be7qiFdfqHdFzRRkxWJI9OrrNXZgsz4lHftr4qa3d76Djt1twq7HbCOCemnKsL8420daujdd56EYzqlt7zZ9Ze3hzQTLS4sauyTldd6klgJlGdTICZ7rm6XoeRh8ycn3x4sXOqMMPYh7enDMQBTBrfHMTyEMPPTRurWVvGExHX0sAUwDaiQCejjlZ5+joHcAul+dYSkwYHi5KwcULF8xzeSIBfKWmA+dHNpDMTorEuryx0xu3dvebrAZW6uecpEisHaev67VXNHfj6E2HmE6OCcO2Ykc0r6f2pS99CT/60Y/MfeIp0nessX73u9/hox/9KBjV+9vf/havvvqqyWjBzxZ+Xn3qU59CRkaG81DWH2Z0N0sSUJq7N2an4AYmpn9uamryNH29LgIiIAIiIAIiIAIiIAIiIAIiIAIiMIMJSADP4MXxw9QkgP0AUUOIgAg8uAQoHNvb20eleLYEMCOjKGotATxnzhyUlpaioaHB1O9ldDCFX1lZmamXaAlgpo9mKui1a9eisrIS58+fN1+48//8wp0RWqyzODQ05BcBzDTMvzlb61ykjy3OcKZgtgQwBfTNxi6cuN3q7LcsJx4FNiWtJWh5MCPuFswaHYFJOXvwejNq2xxyNiQYRoBYkcie7qBjt5pxp6kHg4MD6Kspx5qi+wUwx+gdcKSc7upzpJyODGPK6VREhtmPZvY0F29fb2lpAVO6SgB7S867/hLA3vGabO+ZKoBZH3xvWSOauvrNpblmMuAzlgJ469at4172pep2XBxJYz8nOQqr5zrS2Lu2waFh7C5rQGu3I/UzU9rvKElDuI2U9rcau3B85PmaFhtuxLSdxpTLP/7xj83nAzcFeduYOvqrX/0qPve5z5lNHazj69q4AYjjf/KTnzR/fu211/DUU0+ZzyQ+t8ZqlL98rnFzVKBE23vLTf1FQAREQAREQAREQAREQAREQARE4MNAQAL4wV5lCeAHe311dSIgAj4SGEsAM3KKdXwtAcyUmUyF6S6A58+fb+oE2xHAjLaioAgKCjLpNxkd7C8B3N0/iN+dvxfJ9fGlmQgJDjJkKIAZlbxixQrz+6HrTagaiaANDQ7CIyWpiIsM9Ujx6M1mVDT3mH6LZsWhJPP+1Mucx67LDc5axEyDurU4FTyPp3b4RhMqW3qNAO6vKcfqcQQwx2ns7MM+l5TT6XHh2FSQ/IHVA5YA9rS6/nldAtg/HD2NMlMFsGsael6Da1pmOwKY6eOZRp4tLzUKK3PvF8Du59hYkIzMeHsZBm40dOHkHccGG2ZY4DPJTvuTP/kT/OQnPzE1gTMzM+0cMqoP5S8lcGhoqIkyZ/3ej33sY+jo6DA1gb/73e8iPDwcx48fNxH/v/jFL/CZz3zGRKUzUnisxs8+CumqqiqTXlpNBERABERABERABERABERABERABEQgMAlIAAfmutmdtQSwXVLqJwIi8KEk4CqArRTP/BtTNTMd56JFi+AugBsbG82X6e4CeOPGjSbdMiOAGeW7bt068wX6uXPnDFumgGa0sVUf2F8CuL1nAG9fqjfnYFrkTyy794U9v+BnNLIlgHv6B7HTRdIyVemWohQE88AJmqs4Xjo7HoXpY6d3rm7twXvXHXUw2QrSorHMpV7weKc4eK0JNW0OATxUW44VhWNHAFvHX6vvxOmKNudwY0UlT9cNLQE8PaQlgKeH88WLF1FbW2tqwM6UFNB8NvAZYTV3gctnLDMzTBQBfLayDVfHqWPOcRs6HLXMvX12Wf2v1nXi7F3HM2lWQgQeyrcngP/3//7f+Pd//3dTv9c1VbPd1f7TP/1TfPvb3zbdf/CDH+Dzn//8qEMZ+furX/3KSN//9//+H37+85/j93//97FhwwazQWisxs8+fnZJANtdBfUTAREQAREQAREQAREQAREQAREQgZlJQAJ4Zq6Lv2YlAewvkhpHBETggSRA2ctIKdcav+4CuLe310hdRvtS+roLYNb5vHHjBiwBzGhhRmJRADMl5+3bt83v1hfuVn1gfwng5i5HzUo2pkV9esm9KDJ3Acw+lS09OHzjnqRdkBWL+VmjUzq7L/aB8kbUtveZP6/ITcC81Ohx74czd9tQXtfpfH39vCRkJ0ZOeP/sL29EXXufEcDDdeVYXjCxAOZgR2424+5IVDJ/31iQhMz4ic8zFTexBPBUUL1/TAng6eE80wQwN62w7m9P/5ABwIwFzFzgmlmAApjPZdYAHq+duduK8jpHHfPC9GgsnZ3g7Mo0+jxHZ68jtfxY5/BE326NYfdxvvjFL+KnP/2pKQ/ATBHetv/zf/4P/vqv/xrBwcHo6uq6r9b0W2+9hccff9xsaGKdYaWA9paw+ouACIiACIiACIiACIiACIiACIhA4BKQAA7ctbMzcwlgO5TURwRE4ENLgLK3s7NzVIpnSwCzHiNTZroL4KamJrz//vumHjDTQpeXl+P69etG8DK61xLAfP3YsWNgfVyrr2t9YH8JYNfINdasfHJhhnM9KYAZjbxy5cpRa+xa05cZmpmqOSk6bNz7YE9ZAxo7HbU318xNRG5y1Lh9WUdzz9UGtHQ56miGhwZhe0kaosPHr9PLuptNnf0YHBxEUN1VLMmfhZKSkgnvS0qb3WWNYAS03fNMxY0uATwVVO8fUwJ4ejhbAph1yikVP8jGZyczCjACmI21xbcWpSLR7VllRwAzPTPTNLMVZ8RgcXa889JO3GnBzYZu8zuTIWwtSkFyTLhXl36xuh2XRmoMz02Jwqo596eYHmvAL3zhCyYylxHMKSn26ga7jkN5/Ad/8AemfjDTNrs3bkLixqWwsDCwvv2ZM2dM/V/KZkpn98bPQ36OsVRBc/O9jUJewVBnERABERABERABERABERABERABERCBGUFAAnhGLMOUTUICeMrQamAREIEHgcBYApgScteuXeYLdQpgfmm+Z88e5OTkYMGCBfAkgBlNzNSpPI71hCkxli5dauo7ToUArmnrwcFrji/q4yJD8Nj8dOfSHDp0yESEuQtgylOmgu7qc0S8xUeF4pHiVGftYPe13XWl3il07UT0tvUMYPeVBgwMDZuhPNXptcYn+5D6q1g0z7MA5rit3f3YU9boPI/dlNb+vHdbW1tx8uRJFBYWmnskEBrrjVIMMcX5ZKIOP4hrlACeHuozSQCX1XbgXGW788KX5cSjIO3+9PN2BLDrphfXlPFVrT045JK2fn5WLBZ4yIgw1kqcr2zDlZEU08yQwEwJdtof//Efm7q8jGBmmQBvG+sf83OKqf4pb1ln3rVxExCzUyQlJZnPru7ubvN/bmyqqKgwte5dG9NCb9q0yfzws0xNBERABERABERABERABERABERABEQgcAlIAAfu2tmZuQSwHUrqIwIi8KEl4CqArRTPjMzduXMnsrKysGTJkvsEMKOiGNnLCFXWDbYigB966CHExcWZCGDKX47D1ymuOA7Hc60P7K8I4Irmbhy92WLWkFG8TI9qtfEEMF+va+/F/vJ7dTWLMmKwxCUqzvWmePtSHdp7HLJ4Y0EyMuMjPN4zjLZj1J3VFs6KQ2lm7JjHsYYxI3kpgMMarmJBnj0BzMFuNXbh+O1753FP7+pxoj52sARwQUGBSRMeCE0CeHpWienhmXaXzwZuxAiENlMEMFPbM/PAyB6SCevqnj171kSrMmp5vHbsVjPuNPWYl620970D3AhT70wvnRwdhi3Fnmuij3WOiVJMT7Tuf/RHf4T/+I//MPNn1O1k2rx583Dz5k0cOXIEa9euHTXE3/3d3+Gv/uqvsG3bNlPbno0poZka+sUXX8Tzzz8/qv9zzz2Hl156Cd/85jfB+sJqIiACIiACIiACIiACIiACIiACIiACgUtAAjhw187OzCWA7VBSHxEQgQ8tAQpg1k10rfHrLoAZxbt7924TKbVw4ULzRb2rAL527Rr4Q8nD+r78kp1jUBAz/TJTbloC2LU+sL8EsKsATYsNx8NF99KIUgCHh4dj1apVY66xe73ezYXJSI+7X1T97kItuvscNTi3FKUgNdZeelTXOr0MTOOxKWOkVn3jQp2JRqYAjmi8ipI5WSZttt3mmsKVx6zNS0RO0vhpqu2Oa6efBLAdSr73CcQI4LKyMpOWl+nh+T4MhHbhwgWTGviDTAHNDAWsa94xUpM3MiwYO0rTEBE6dkpqOwLY9Vm0ODsOxRmxOHyjCZUt99JLP1KShvjI0Ekt00Qppica8H/9r/+F//zP/wRTySck2Isadh/vBz/4ARhJzOf8m2++idRUxyYgZiZ45JFHzNivvPIKPvGJT5i/8zNq+/btJuU0pTGzF7Dx/6yjzM0KFMqTiUieFDwdJAIiIAIiIAIiIAIiIAIiIAIiIAIiMCUEJICnBOuMGVQCeMYshSYiAiIwEwlQADMlpmuKZ0sAM2UzUze7C2B+mX706FEUFxcjLy/PyF/+rFu3Drdv30ZVVZWpt8iIq5qaGiOAmaKTKaWnQgBfq+/E6Yo2gzcrIQIb8u+lET18+LCZy3gCmCmaKVqsOrqs07ujNBVhLLbp0n57rgZ9A450zowwnqhesOtx7qmmYyJCsL3k/vFfP19rovCGhgYR2XgVRbneCWBex16XusOhIUEmpXXcJGWON/eqBLA3tCbfVwJ48uy8OdISwBSB7umEvRnHl76u6Zo5zngbU6xz2BHAh643oarVIXuXzI5HWEgQTrhkDlg6Ox6F6fenl7Z7HeOlmPZ0/P/8n/8Tv/zlL9HW1mYySEym8TPr937v94zkpbRdv349Ojo6wOc/s1FQMv/rv/7rqKEZ+fvP//zPiI6ONjKY/Vj6gGNxPs8+++xkpqJjREAEREAEREAEREAEREAEREAEREAEZhABCeAZtBhTMBUJ4CmAqiFFQAQeHAJjCWDW7H3nnXdMzV4KYPZhxFR2drapmeougK9fv27SQDNCmOleWf+Xkb+su1hbW4vTp087BTBrKlLI8gt6f0UAX6npwPkqR53M2UmRWJeX5FwgTwKYHd1Trc5NicKqOaNTkf76TDUGHQHAeHS+d1FyDR192FfeiGGHP0ZuciTWzL03R/7t1bM1GBgcNgI4uvEqCrwUwByjo3fAyOz+QceJEqJCsbU4FaHBo2ti+vvuDUQBzI0Jly5dUg1gf98MbuMFcgTwByWA7zR149gtR0p7Ntd6veMtFzfZ8H24efPmcVf04LUm1LQ5BHBpRgzKG7rMM4ctIy7cpLb3RXgfvdmMimZHiulFs+JQMk66e/cJfu5zn8OvfvUrU7+XMnayjZ8n3//+9/HDH/4QvO94Lcw8wcjg//bf/tuYw/7kJz/Byy+/bOqB83OJ6aNfeOEFE7GuJgIiIAIiIAIiIAIiIAIiIAIiIAIiEPgEJIADfw0nugIJ4Ad7fXV1IiACPhJwFcBWimdLAGdkZGDZsmX3CWCKBqbKLCoqAmsvWgKYU4mPjzf9g4ODzZfolgCmOKZAngoBfLGqHZdqOgwJd3lLARwaGorVq1dPSOpSdTsuVjvGYFs/LwnZiZHm/+Txq9M1zteeWJgORgp709zHXzUnAXNT7smO/zpdbWp9UgDHNF1Ffo53EcDWXCpbenD4RrNzamPJbG/mbaevBLAdSr73UQSw7wztjPBBRgBzE8euKw1OMZsSE2ZS2gczf/wEzY4A3l/eiLr2Pj7RzGaWkJGNIYwEZnppb59p7tNxTSfNCOMim9HEf/iHf4hf//rXphRBVNT0pK23cx+ojwiIgAiIgAiIgAiIgAiIgAiIgAiIQOATkAAO/DWc6AokgB/s9dXViYAI+EiAsranp2dUjV8O+fbbb8NdADOFM1M5uwvg8+fPmzqfrJvIyN7333/fRF9RALOW5qlTp0ykJQXwgQMHTIQw6wX7KwLYtY5vYXo0ls6+V0eSoprn8ySAh4aZQrkRTZ39hihrbTIVdGRYCJhe+dUz9wTwxxZnjFuLc7zloETeX96E+g4KGJioXKaSZopmV8FMARzffBVzsjMxf/78Sa3u2co2XK3tdB67ck4C8lxk86QGneAgCWB/Ex17PNYk5Q/TmU82Ve70zPTeWRQBbJ+4eQaVNaKpy/EMophluviYCM81eZllgSmUJ4oA5vON2Qhq23vN88eqRb5mbiJyk30XrweuNaF2JMJ4eU488tPspZP+gz/4A7z66qvmc4ifIWoiIAIiIAIiIAIiIAIiIAIiIAIiIAIi4C8CEsD+Ijkzx5EAnpnrolmJgAjMEAIUwL29vaNSPHNqrgJ4cHDQ1EZ0F8CFhYVIT0830cCUuUy3mZWVhffee89ITaaAtgTwwoULTYroqRDAJ+604GZDtyFakhGDRdnxTrp2BTAPaOthCuV6Z6rn7MQIrJ+XjN6BIbx2rtY55jNLMyeVVrmrbxC7rtQ7awmzjvDW4hQT+WsJ5qHhISQ0lSHXBwFMkbTvaiMaR2Q2yxlvLUpFYnTYlNx1FE8nTpxAfn4+5syZMyXn8PeggZgCWgLY33fB2ONxQ0t9fT22bt06PSccOcu5yjaUuWzcWJuXiJwke2LWjgDefaUBla09uFzTgbnJUUiOCb8vZb4vF/zLk1VglvyQoCC4ZziYaFymZ/7tb39rPofCw8N9mYKOFQEREAEREAEREAEREAEREAEREAEREIFRBCSAH+wbQgL4wV5fXZ0IiICPBMYTwKwBnJaWhuXLlxu5u3PnTiN3KXkp/JhaOS8vD9XV1SZyi431ExMTE40A5jGbNm0yIuXkyZNwFcBWemh/RQAfu9WMO02OOSycFYdSl9qTR48eNdHIa9assUWqvK4TjCi2GkVGelwE3rhQ5/zbJ5ZlTrpW5t2Wbhy5ca++Z1FGDEoyYp2CmQI4qbkMs2dNPgKYE6VsZj1gymu22IgQE3EcRhvs5yYB7Geg4wwnATw9nD8IAeyeuj0vNQorc0fXIZ/o6imA29vbzTN3vPbOpXrwWdnVN4T81GhkJkTg0dI0hIf6/kyoau3Bjw5XmGwJeSlRZsOJ3ahiSwD39/ebdP1qIiACIiACIiACIiACIiACIiACIiACIuAvAhLA/iI5M8eRAJ6Z66JZiYAIzBACrgLYivDl1CiAU1NTsWLFivsEMEXDoUOHTLpORm1lZmaCEZWWAOZrjBoeSwAfPHjQmR7aXwL40PUmVLX2GqJLZ8ej0KX2pLcCmJHLB5nK1NTKBEJDgrA+LwlMb8pGf/rxpVk+rd7JO6240dDlHIMpmk/cbjW/UwCntJRhVpZvAphj1bT1mmuxGmsas7axv5sEsL+Jjj2eBPD0cJ5uAdza3Y9fn61BWU0nWOo3OToMX9o2z6ssA3YE8L++dxs3RjIlFKRF48lFGciM9z3lspXZ4ExFG7r7hxATHoLPrc9x1lD3tGqf+cxn8Prrr5va8d058XIAACAASURBVEzXryYCIiACIiACIiACIiACIiACIiACIiAC/iIgAewvkjNzHAngmbkumpUIiMAMIcAv3fv6+kaleObUGPGbkpIySgBT9C5dutQZAcx+BQUFJmrrypUrJso2KSnJyGF3AbxgwQLk5ORgKgTw/vJG1I0I2xW5CZiXGu2k660A5oEUGjsv16N/cNiMEx0ebP4GBCE8NAhPLc70afUYJbe7rAFt3QMj4wybczE6d3h4CKmtZab+Mpn52i5Wt+NSdYdzmEWz4lDiEiHt6/g8XgLYHxQ9jxHIApjp4MPCpiYFuWdy3vWYTgHcNzBkngV3m3twvaHLbDBZNScRTy/x7hnDOusdHR3jRgBXt/bg+wfvODMCPFKaikeKU70DM0Zv19rmF6raMTA0ZJ4v20vSbMvlT3/603jjjTfACGAJYJ+XRAOIgAiIgAiIgAiIgAiIgAiIgAiIgAi4EJAAfrBvBwngB3t9dXUiIAI+EqAA5hfvrimeOaSrAOaX/IwIpgBmCuizZ8+aiN+4uDisX78et2/fHiWAmR6aY27evBkNDQ2mPqwlgF3rAzMCmOfnv0wLPdlGgdLU2Y+O3gE8NC8JRRmxzqGOHTtm6hEzOtmbdrupG+/fcqRq5ridfYPIiItAVHgwnlyY4c1QY/Zl1B/nPTgEdPcNmtqcjMoLDgKSmq/4TQDz2l85XYPyug4TeZ0QGYqnlmRgdqK92qJ2LlQC2A4l3/sEogDmxpCqqipTDzxQBPC5c+fMc2uqawCzVvd715tR29aL5q5+kxWAz4C5KdEmXbs3jQK4s7PTcHZvnb0D2HWlAafutKJvcBiRYcH4441zbAvaieZxqbodF0c2mJyvbENWYiRSY8LxcGEy0uLsRRf/3u/9nvl8YTYJCWBvVl19RUAEREAEREAEREAEREAEREAEREAEPBGQAPZEKLBflwAO7PXT7EVABKaYwHgCeNeuXSaad+XKlUag8gt6RqWyxm9ZWZmZ1bx581BUVIRbt24ZAbx69WokJyeb+sDuAnj+/PnIzc019YE5HkWFvwTw2xfrUF7fBdahZDrlZ5ZkIpi5VAFMVgDz2CM3m01kXlt3P643dplavelx4XhsfrpfVuVafSdOV7SBguZKbSdmJ0VidkIE4psu+00Ac6Inbrfg9Qt16O0fQlpsOFhfdHNhClJiwv1yHZYA5v0wd+5cv4w51YNwA8OlS5ewaNEiU+s6EJoE8PSsEgVwY2MjtmzZMqUnPFvZhqu1neYcTZ19Jjo3KyESyTFh2OZldO54AnhwaBh7rzYawczz8dnLCN3HF6T7/P5v6OjDvvJGDDsSJaCipRs5IxtLthWnINnm8+VTn/oU3n33XVNLXgJ4Sm85DS4CIiACIiACIiACIiACIiACIiACHzoCEsAP9pJLAD/Y66urEwER8JEAUzUzBTQjfq0UzxySApiyd9WqVeYMb7/9NhISEtDa2oro6Gh0dXUhPz8fhYWFJgL48uXLowQwx3z44YeNSDl+/DhcBTDFL+sD+0sA//z4XZyvdKQ5LkqPwZq8RCzIijO/+yKAKWSYCrqmtdekZ40OD8HavETsKPWfMGT94qt1nSirddT/XJIdh/Q2/6WAJoMzd1txvqodV2o6jPTJSYoyUYBbi1IQExHq4x0EsCY011gC2GeUEw4gATy1fK3Rp0MAu2YY4HnDQoKcKedTY8OxpSjFq4s9efKkeSa7RwC71hvncyA3OQrJ0eHYXpKKxOjJp+Rm6mpGFTtS4wMxESFmIwvT5LPtKE1FQpS98T/5yU9i7969Zv4SwF4tuzqLgAiIgAiIgAiIgAiIgAiIgAiIgAh4ICAB/GDfIhLAD/b66upEQAR8JEABzGhdK8Uza/yyMSKLwtdVAPPvERERWLx4sVP4MQLYEsDsy7rBR44cMek8XQVwaWkp5syZM6o+sL8E8G/OMsVxJxo7+1GaGWtkxOYCRwpSCmCeZ926dZMixdqZr52rxc3GbnN8SUYM/nBdzqTGGusgSuZXTlXhQpVDYMdHhmBlaAVmZaZj4cKFfjnPiTstuNnQjfbeAbT3DGBWQqTjXFGhRgKz9rAvTQLYF3r2j5UAts/Kl55TLYAZ7cvIWaZ/Z0uICsXclCicvdtufmeWAUboe9MogLu7u7FhwwbnYe6S+W5LtzP1+6Pz0xAfOfnNH4dvNKOypceci2nrHy5KwZ6yRue5P7IgDbE2N5c8++yzOHDggElhLQHszaqrrwiIgAiIgAiIgAiIgAiIgAiIgAiIgCcCEsCeCAX26xLAgb1+mr0IiMAUE3AVwEzxvGzZMnNGVwHMyCx+Qc9GkRoaGoqDBw86U0DfuXPHpNN1FcBM58kUqk1NTXj//fdhCWDX9ND+EsC/Ol2NgaFhXK7pQGFqNCLCQkyt3h0laThz6gR4jZMVwLzm187X4PB1Rz3guMhQ/I/1s5EZ75Co/mjnKtvwi+NVZihG5qb0VGJzUSoWL1rkj+FNLWPKILak6FA0dzFSz9Ey4sKxoSDZmTJ7MieUAJ4MNe+PsQQwU63Hxt6rc+39SNN3RKDWAJ6qFNDd/YN490oDevod9jciNBhMl1zT1otTFW2O92R8BDYVJHu1SO4CmDXGKWT5XGRjWmmmbLZS43sjaN0nwlrFjCy22qJZcShMj8Gvz9Q4//bkonREhYXYuoaPf/zjZmMQnyMSwLaQqZMIiIAIiIAIiIAIiIAIiIAIiIAIiIBNAhLANkEFaDcJ4ABdOE1bBERgeghQjrIOMFM8uwrg3bt3Iy4uDowIPnr0qEnPyYhgilRLCOfl5aG4uBiWAGa94NTUVNOf0WiuArikpMTUh/W3AKbgeHVEPHT2DSAyNBghwY6I1uzESIQ2lJvrW79+/aSBXqpuxy9PVRtpkxgVitKsWGwvSTMpof3RKpq78ZuztSaiLiY8GEGtlViQnYRnNjmisX1tVi1jjkNZY8lya1zWBF6Zmzjp00gATxqdVwdKAHuFa9Kdz549i+bmZpPBwJ+N9Xj3lzeaTAVsTPlO0ZseF2EyGJy56xDAWQkR2JDvnQA+ceKEqaHLCOD+wSHsLmtAe48jPXN4aBC2FqXi7Uv1zst5YmH6pJ5fFMsc24pe5gaSjQXJ5pnCZ5jVnlqcgfBQe5kFnnnmGZM1grXEJYD9ecdpLBEQAREQAREQAREQAREQAREQAREQAQngB/sekAB+sNdXVycCIuAjAUsAMwV0Wloali9fbkakAI6JiUFQUJCRIfyXcnfFihX3CeCKigpcvHgRYwlgHss0zK4C2KoP7I8IYEbU/e58nZPCgqxYXKx2pFNmC2u5jfTIIZ8F8Ik7rSir7TB1LfNSok1EHet0WhF1vizDzcYunLjdihuNXegfGAJa7hr5/sz6BaZmp6+NdYarWnvNMEtnx6MgLRrHbrWgotmRwpWNYrgkc3JRpYEsgJlmOz093VfE03J8IApg1gavrq42tWnDwuzVhJ0WmBOcZKoEsJWK3Tr1shy+F2PMr3y2nKt0pIDOTozA+nmTF8CuGz443saCJFP721XQfmxxhok+9qZR8lL+tnU7Mgjw+O2lqSbS1/05/MzSTIQyN7SN9vTTT5ssEawvHzyyecfGYeoiAiIgAiIgAiIgAiIgAiIgAiIgAiIgAh4JSAB7RBTQHSSAA3r5NHkREIGpJjCRAOa5WR+YkbuM8mV9XwpgRvfu37/f/J1i1xLAfI0SmcKX9Ry3bt1q5LGrAHatD+wPAcyatlZkG33Dx5dm4uD1ZtS2OYTnndu3sDh5CNs3PzRplOcr23ClthNNXX0mqm7OiJQtTI/G0tkJkx7XOvBafSdOV7RhaHgYrDncUXsbsbFxyM3JxpaiVCRF+ybODlxrcvJYnhOP/LQYuEcjci5r8xKRk+S9cJYA9vkWsDWABLAtTD53mgoBbL3Hrcm5R91fqenA+SqHAJ6dFIl1eUleXQcjgFl3Pa1wKc6ORBJzgPmZsVgwKw6sNc5a5lZ7ekmG17W/T1W04np9l3MMimUrFX5H7wDeungvwviTy7Nsz/9jH/sYTp06ZT4rJIBtY1NHERABERABERABERABERABERABERABGwQkgG1ACuAuEsABvHiaugiIwNQTcBXAVoQvz7pz505Q0DItNNNAsyZwUlKSifJ1F8B3797FhQsXjBweTwAzVTRTRvtbADd39ZuammxMdfrU4kwTjbbrcoORHrdu30IEBvGFpx6yHZHmTv10RSuujYiPweEhhATdi5ybrDR1PYdr9F9KTBjeP3MekdFxyM7ONrWMHylORaTNeppj3TH7rjaivqPPvLRqTgLmpkSb/5PPnrIGdPQ6UsWGBAObC1NMtKA3zRLAXF/+BEKrqakxdasVATy1q2VFAG/atMnUDg+E5m8BXNfeC27CGHaU4wXf43yfhbhEyDLNvJW5IDc5Emvmei+A69t70JWYj5Gyv6aW8Mb8JJO9oatvEG9cuJcp4dllmV5lL7jb0o0jNxx10NmKMmKwJDve+TtTQ++87HgO8zny8aX2BfCTTz4JMme9eAngQHiHaI4iIAIiIAIiIAIiIAIiIAIiIAIiEDgEJIADZ60mM1MJ4MlQ0zEiIAIfGgKWAKbwtSJ8rYhe1mNkFC//3bVrl1MAs9bkvn37MGfOHJSWlsJdADOdJ6Xgtm3b0NLSYmoCuwpgHs/6wP6IAKZc2V/eZNaLNXlZ25KNkbTvXW82AnhwYACPrl2MZTmTi9Y9frsFtxq7zbjFGTGoa+8DxTNbaEgQthWnIj5y8nLLXf5UXTmNOwPxmDUr25wjNTYcmwuTvRI2rjcw07Y2jdQddRfWbT0D2Hu1AX0DDjvFtK7bilMQE2H/ejo6OkwK10ASwLW1tSZtuQTw1D7qPuwCuLN3ALvLGs1mCzZu6ODzgmmTXdvFqnZcqnGkrp+bEoVVc7yryX3o6Ps4VtWLnLkFzvOwTrmV5tmXCF3K452X69E/6HhGMCPB1uLR6e+bOvvMdbJZG3Hs3llPPPEEzp8/j8bGRglgu9DUTwREQAREQAREQAREQAREQAREQAREwBYBCWBbmAK2kwRwwC6dJi4CIjAdBCwBbAlepnU+efIkhoeHTR3ahx5ypE5mBHBCQgJWrVoFdwFcWVlpvsBn/WDWU3UVwKzryKjfoqIizJs3z8hgRhD7SwBXtfbg0PVmM8eEqFDsKE1zYjtztw3vHr+EgYF+5OcXYP28JGQnRnqN1bWmJmvlMkUro44tIRIfFWqkjt2al+4TsFJM8+9MDdt27RR6IpLRGZXh7JqfFo3lkxTYlDetI3U7x2JAiX7wWpMzcjAukteTYjtFrASw17fUpA4I5BTQgRQBfObMGVOPdvPmzZNaJ+sg1sxlhL313mNk7MOFKUgeI8Le/RmwMte+AOaz+kdvHUND1wDy5+WDgcWMMObGEatxo8c7lxwpmvn6s8vsRegyLT032DSMZBDghhdmJOAzwrXx9b1XHQI4MiwYH11079nlCeJHPvIRE43f0NAgAewJll4XAREQAREQAREQAREQAREQAREQARHwioAEsFe4Aq6zBHDALZkmLAIiMJ0EXAUwhS8jd5mGk2lDo6KisG7dOjOdsQRwbm4u5s+fD3cBfPz4cSNQHnnkEfOvuwDu6uoykcWMAG5razO1KxllPFHjfMZqFS09OHnXETmXEh2GTfn3xAnr3P5833m0dA+Acw1jtG5R0n3Rd2ON63q+I7daUdPmSKG8eFYs8lOjUNXai/fvtDkPzUmMxMrceylRrRfGmzdft147W9mO6w2OCGOO3XHrHJKTk9EZkw1en9WWzY5HXsr9NXonOgePfedyAzr7HGmeH5rHup0R913y7aZunKi4dz3pseHYkJ90X9TxWOeiAGYNUm4e4I+da57Oe3yscykCeHpWIBAjgP0lgF03jpD26rmJzvrh7vTPVrbham2n4xng5WYPRg+/eewC+CynAF46Ox6F6TGjTtHS1Y9dI6nyKXGfWZJp6wZwjUye6Bpq2hybSNhiI0LwkQWOTAx22mOPPYaysjLU1dVNWgA//PDDpi79eO2tt94Cz+PefvrTn+Lll182Ajo8PBxr167FCy+8gPXr19uZuvqIgAiIgAiIgAiIgAiIgAiIgAiIgAjMcAISwDN8gXycngSwjwB1uAiIwINNwDUFNK+U0WSM8j137hwiIiKcAnj37t0mInj16tVG2O7du9dIVQrgqqoq03/ZsmWmZvBYAriwsBD5+fk4duwYOjs7jQC2Uk37QrimC7jR7pDDCeHAgqSRQpsjg3YNAOeagpzRrfHskziMcXzymFO50BSENkfGZ+THDyNjxMHeagequu6JadfXvLmma21AXbdjnOzoYcyJcxzNWp4XmoPQMXJu9uD18Rq8aSfqg9DnyEBrjiensdqdDuBu573rSY8cRsHksmZ7M737+noS2tYBdvqN14f3OTcgcLODnbqjvpzL9QJ9GWdgYAD84ftyojn7cg5v58r+E52P2QL6+/vNs8PTvDy97ulc/rgvOAY3wXDOTIk/XvM011utA7jRMvKmA5AbH4LC5PvTqlvjXG3qR0WbY5NGTnwIipLDRp16vPM1dA3iTF0/Ojs6MTw8hPzMRCxOv/8N3to7hONVfea5FxYchM1zxs+EYJ2ruXsQJ2v6nLWLs2JDsCjj/s0jnGhd5yDO1vaaOcdFhGDd7IkzLfz4xz9Gc7Mjc8O1a9dMOvbPf/7z5h6xzm/9+7Wvfc3cPxM1SwA/++yziI2Nva/rV77yFSxatGjU37/85S/jxRdfNBudduzYYTJb8HOOz4ZXXnkFzzzzjE/PMR0sAiIgAiIgAiIgAiIgAiIgAiIgAiLwwROQAP7g12AqZyABPJV0NbYIiEDAE6AA5hffjPBlW7x4MWbNmmVq/DIiyoqEchXAfX192LNnz4QCmLV/t2/fbiJ8Dx8+DFcBzIjRlStXGhkcFhaG7OzsMeUQv4j31G409aKs0RGdmxkbiqWZo8UD5XRl2wAaQ5KcQxUmh2Ne8v2SZLzzHb3bjdYeh8xZnBFuzsPG9KgnqnrR0uMQN0ytujo7EnHhwZ6mbSSD1c7X9aK6wzFGQVIYwjtrERkZaQRU78AwjlX2oHek/mZ4SBBWZ0cgKtRxjokYWa8duNODvpHjV2ZFIDHy3vzcj79Q34eajnviqiApFHMSJo7OpixrampCTEyM+Zmo2VnT6ejDTQzciMD58j4fq03HPKzz2jkX58z3XnR09LgC2M44nu4bT3Py5hwU1nzGUFoHAmNrY4B5PweP/T72dP1NPcDllntXyw0XpYnD5vkwXrveBtSObAKZFT2MuRP7TjNM7yBwtjEII+W7ERkCLE4exsijYdSpWvuAi82OCfDxtDJt4mdr/5BjbGvjCMdekjwMprEeqzX0AFdbHePHhAJLUiYe/wtf+ILZOGSnMVqfpQUmapYAZpp0ZiHw1Pj5xRr1fMYyQwU/n9j4f45FKcyxkpLufW54GlOvi4AIiIAIiIAIiIAIiIAIiIAIiIAIzDwCEsAzb038OSMJYH/S1FgiIAIPHAHKO9bsZf1Ffult1b1kOk3KWUsA8wtzyrI1a9YYCcXfc3JysGDBAmcE8NKlS5GZmWnSATO6aywBzHNRCoeGhppI4hUrVphxPaWAHg/8hap2XK5xpICemxKFVXNG185kPWOmnA6bvRAVzY50yoyCYy1O1xqZEy3s25fq0d4zYLowLXJWwj3J3N0/aOoB99CYjKQ/faQk1Xb9XB5z+EYzKkdSPS/OjkPVpeNGTFDGs7G+5v7yRmcUc1J0GB4uSrFdc/g3Z2uc9Yo5Nx4/XmPa7APX7tX8ZL+1eYnISbo/9bQ1hmoAT89jIRBrADO1bk1NDQKpBvDp06fNM2oyNYBbu/ux52ojBkY2XDAdMuuDh49hZV1F8ok7rbjV2GVupOKMWCzMuj+K1fUu4/t039VGNHU70gPcvX0bi1OGsXXD2vtuRp7H1PkeqZUeEx6Kx+anjurnLrUP32xBdasjopfi+uHCZCRG3R/BbA3CFPInK9pMtHBqLFPxjy9OeS5KXW4M4P+/+MUvory83GwIsqJ+XefDzxlPnw/eCuAnnngCb775pokAfv7550exeO655/DSSy/h29/+Nhg5rCYCIiACIiACIiACIiACIiACIiACIhC4BCSAA3ft7MxcAtgOJfURARH40BKg7Lhz54754j0xMdEIXrYDBw6YL90feugh8/tYAnj27NlYuHAhqqurcfbsWYwlgJlO9dChQygoKDA//JKf0cH8gp/poymMKQI8fcE/3gKduduK8jqHOClMj8bS2aNzFlsCeO36h0wNzE6GzQGIDg/BjlJ7ovaNC3XoGqmhu7kwGelxo6MZa1n/8nqTM1VqdmIE1s9Ltn1PsXYma2iyLcuJR8WF90cJYP79RkMXTt5pdY45JznK1BS10359phqDI0G9j85PQ3zk+CKH4/UODGFPWQM6Rlgx6m9TwfjC3BLAjLybN2+enSl94H1UA3h6liBQBTCfW5TW3rS+gSHsdnnfsNbu1qIUJESNv+HCGv/47RbcanTUAZ+fGYsFsyYOAT5V0Yrr9Y7nHltE6y2kRcKZst993tWtPXhvRADHRVIAp417adfqO3HapR44N6VQSk/Urtd34tTIMRnxEdhUYP/5x3IArCN/9+5dW+nYx5qHNwKYGS/4WccNSCxDwM8x13bw4EGz9twAwEwYaiIgAiIgAiIgAiIgAiIgAiIgAiIgAoFLQAI4cNfOzswlgO1QUh8REIEPLYFbt26ZCF5G7LLO4ngCmDV/GSG8du1aUx+TKaHdBfCSJUuQlZUFStfGxkZTV9FdADOyuLu726R9pgCm/PVFAHsSJ6dOnTKpfjdu3GgiafeVNzpFbU5SJNbmeU7x+dtzNegbybO6rTgFyTH3pwxmFDKjka1mR5pYfRndW9fuSGO9ck4Cbp9/36QeJU/XdrqiFddcpI/dc7xyqto5zOML0hATMbEAZmdGPO+52uC87ojQYGwtTkHsGMeSL8W+BPDUPkYCOQKYMm2ymzymlur9o3NTjLcCmOngKVi5GcRqD+UnYZZLtoCJruPYrWbcYe5o1unOisX8rPEF8J2mbhy7dS/H9LzUaAxUXzGbavh8HqvdbenGkRuOYxKjQ7G9ZGwB3NLFCOYG54aRzPgIk/XAU83jstoOnKt0PP+83QCzZcsWEyXOjUh26nGPdX2WAH7hhRfMZw/HKSoqwtNPP21KFbi2M2fOmHr1aWlpqKuru284Ps9YR5jPYKa2VxMBERABERABERABERABERABERABEQhcAhLAgbt2dmYuAWyHkvqIgAh8aAlQvlLoUvBaKZ4JgxHA/BJ9w4YNhs1EAphf3vNLdVcBzJTSjz76KBgd+t577yE/P99EXVEOszE9NKWCVSN0snLIPX2ye6QaBTDnYEXzuYtaCte8lOgJ199OBC3lCwWQFcnrTZppRg02dTpSua6Zm4gb546NKYApmQ6UN6G+wyGLeY4N+cmgpBmvMVXsr8/UOF9+clE6osImrulrda5v7zXpoIdGynkycpARje7pbCWAp+fxIQE8PZwnI4DPVrbham2nc4KeJK77lRy52Yy7IynqF82KQ0nm/8/eewZHcp5nuw/CAAMMcs45LTZgc867XCaRFIOOPkuUTX2fHFTyMWW5VOUfsn/5z9GxLVFi2f7ksqUjH0k+ogLFvDnnXW4EFhmLRQ4zGAzCIOPU/fZ0o9GY0D0zC2KWz1PFIhbT/fbbd4epwvXe9+PecSsiphusNON6KBHnfqAilW5cv+YVAKuhcYrFJGKptYUxEWcvx92bTeH0VFUamXW8L9TvVb0La+TjY3HAwMAAtbe3BwyAteeENgZ/93d/J/6T67333qOXXnpJQGB8P7grwF8kVSAKHAujuFgBVoAVYAVYAVaAFWAFWAFWgBVgBVgBViA0FWAAHJrXTe+sGQDrVYq3YwVYgc+lAgDAgLBqwAshEIMJQKsGwGazWUSMYvsTJ04IF+/atWuFewsAGD1rc3JyxB/V8Qd9NQCGCwtOYxwP48IdPDc3FzAABqCUXXcb8xOoNN2y6DpqATBALfaRHbeR4WF0qCrNYywytv/NrQWA+vyaDBEf7a4QnQyAIsdF6wUoxx4M0LBT6jG8sySZmm5fcQuA8bn2GFGRYQLmuHPmYvvp2Tl6906fMt2X1mW67Ufq6eZHb89rKrdhRnwU7SlLoXDQZ1cxAF6eVwcD4OXRWfvO8HVU7TOSl2ymHTqSBdTjXmq1UZddcg97cvbjWT7ZYFUALZ79w5VpwtEPB743BzD6C19vlyLk0fsc0FhbNx7ZqW1QiqFG4Tn3trhEvb+vXuyeNMScAYDhtMX97a8D+O///u+F4xc965FCgWjn3/zmN/QP//APInHihz/8IaG3L+qXv/wlffWrXxXtDbA4yV0h3QKx1PjOwnhcrAArwAqwAqwAK8AKsAKsACvACrACrAArEJoKMAAOzeumd9YMgPUqxduxAqzA51IBTwAYfxjHH+cRnYxCL8To6Gi3ABj9VOGa8waAo6KiaGpqihISEkQkMxzAwQDAWvdsQUrMouvozs0HQHu8fkCJN0Yk6sGKNIoIX4Ca8iBagPriukxCHLKnso5N0ZlGq+KaBTBFP0xvEaof1/Yr/XYBXeo/vewRAOO4Q+PT4hiyCzAxJlIAHROa9WpqYnqW3r+3EHP68vosAvQ2UrU9I1TXM6rsUpQaQ1sKF/oPMwA2oqb/2zIA9l87I3saAcA2PO9NViUy2duz6G0OF1ps1DMsAeD1eQlUnrF4IQt+f6VtiDpcLmH8G9HM2a6I6StXroh3jBzhrz2Wuod4Jt5J5YsBcMeQk660LcRKV2ZaaF1ugm7Z1A7o0vRY2pi/uBe7p4Hk75jh4WEBgH1FTeuekGvDY8eOiYVIiYmJolc92hj8c1A8LQAAIABJREFU4he/oNdff10sbsJCJ3eFxU2AvwyAjSrO27MCrAArwAqwAqwAK8AKsAKsACvACrACK0sBBsAr63oEezYMgIOtKI/HCrACT5QCagAsO3xxgu4AMCAuHFbY5/jx48LtC+irBcCArvjdM888o0RAY0zEQOMP/XB7BcsBfPTBADlc7ll3PTcxF8R4wmWmri77BCE+Wi4AF4AXbTmnZ+kDFUB9ZX2WW1Cs3q95YIxudTiUX1VnxdHqHM8xou/f66OJ6TmxPUBu7c3LAlisX7/e472m7QOamwTXYdISgALY/eH9BQD82oYsvyCLukcpJrUmJ55WuWJqGQAvzyuBAfDy6KzuG+7tiHg3YAGKc0p6drEwBD3C9fTY1o7rK8lA+06pyrTQWhWg9QWAm/rH6Han9E7KTkRf3xRlCmOTM3S8fpCmZ6Wsd0RE4z2kdvn7Uv7TjmFqcfUnr8i0UI1OeAwADCcuYvpbW1v9ejf5mtuWLVvoxo0bdOrUKUK/YY6A9qUYf84KsAKsACvACrACrAArwAqwAqwAK8AKPDkKMAB+cq6luzNhAPxkX18+O1aAFQhQARkAqx2+GBIAGA5duXfu2bNnCf0U3QHg/v5+EfuMOGg4p9QAuLm5mfAfnFcYC9tZrdagAWDATTlyeV95CmXEL+6H6wkA4xxvdQxTswta4N9qR50sK/phflI3IP6J1OPXNuiLA9W69faUJVNWgtnt1frD3V7FjXy4Ko3uXr/kEwBjoLtdDmrw0XfUMTFDR13zh/H3VZ3z104UvYQBqQZd/Yfx+fbiJMpPjhGObkTQFhYWCsgfCoUFCrW1tbRmzRrKyMgIhSkLhyT+27p1K8XFue8Ru9JOpK6uTkTEYwGGv32+l/uc9ABgPA9nm6xkdfXuxrsBTn/t+0fv3DGWHEu/qSCRStIW+pK7SxXQxrD7AsANfaN0t2tETAeLRRA1j0Jf8dONVqUHeWREmOj76ylS3tP5XG+300OrFB/ta8GLegwAYHynIKYZ3xPBdgDjWF/5ylfoV7/6lXD+4me0K0D/3/T0dMJ3l7bwPsPzhZ71Q0MLi4T0XkvejhVgBVgBVoAVYAVYAVaAFWAFWAFWgBVgBVaOAgyAV861eBwzYQD8OFTlMVkBVuCJUUANgGWHL07u4sWLwunrDgADDCNaE70Ra2pqxB/RAU0A09A7EX9gB/TZvn270psSPYCrq6vp5s2bNDg4KGI5gxEB/e6dXsW5BniaHGtadG0wF7iOtQ5gbIQI5VMNg0r/XTj4nlqVRjGmhR6/9vFp4Y5DmSLC6Is1Wbquvbt+nU9VpbvtH/y72z1KhOzT1el06+pFXQAY8ORCyxD1OqToWJTWBa2eP+DOyzrn7+4k0X/4dOMgjUzMio+ROL23LJViw2cIACqUADDu2fv379Pq1aspMzNT1zX9rDdiALw8V0APANb2y/UU26x3xoCw8uKKLYWJVJQqAWC9fcUvX74sADsWB7irB72jhD69qIIUM20rkgDwvS4H1asWkWwrSiJtjL6ec1AveFGnA/jaF+8w9JWfnJykpqamxwKAn332Wfrkk0/oD3/4A7344osCNicnJ4tjolcwvrPUhVhofO/hPyx84mIFWAFWgBVgBVgBVoAVYAVYAVaAFWAFWIHQVYABcOheOz0zZwCsRyXehhVgBT63CsgAWO3whRiXLl2i6elpBZyeO3dOAAbEdWoB8MDAgAC7WgCMSGn8kR1/5C8uLqbKykoBirF9sADwb2710LyUXErPVKdTvDly0bUEALbb7bR//36313jYOS1iXGelFFfKTIimPaXJCogAlAGcQZlN4fTCWv2wEGOfaljo1esuWhXa/OZWrzK351an040rF0WvZLjUfNXUzJyY/+ikBGUBeQ9VplGCSwe4BzEHFAA3ehgHUnBEn2ocVBzLGHN7fizdv3WdAXAgwurYNxQBMFzWcFuHkgMY77Lx8XGl/7n20rQMjNGnqoh3bU9sHZdyySbuepnj3XC+ZYj6XAs84DLeX55KaXFRS/b3BYBru0eorlfq4y3PF+PC1S9XIOdxqdVGXXZpIcq63HiqzNTnUMc5YqHQzMwMNTQ0BB0A47sG3z1w9aph73PPPUcff/wx/eAHP6Bvf/vbi/R888036Uc/+hF9//vfp+9+97v+XE7ehxVgBVgBVoAVYAVYAVaAFWAFWAFWgBVgBVaIAgyAV8iFeEzTYAD8mITlYVkBVuDJUAAwF6AXADgyMlIAXpQ7ABweHk67d+8WQPfo0aOUlZUl+tRqAbAcAY1xKioqqLGxkYqKiqiqqiqoABgO3t/fXoCnX1ibsci9i+PfuXNHxHh6AsDYpnVwnG4+GlYuqBpgwF173gVJ4qIj6NnVxuKC221OuvbQroxdnhFL6/MSlX9rz+GFtRl07fJFio+P1wWAMZAAzY1WmnH18Iw3RwgIbIoIp4GRSTrTJEGemKhw+sKawAAwxgEUR2TtnAu8R4fNktnaSKXFoRMBzQ7g5Xl/PWkAuH9Eeh/I9z4WdQDKRiBfPYA6UT9IQ+PTYgQ5Wr22Z4TqeiRoi/IGVn0BYHVcPOKl4dI99mBA6T2OhTPoX4x3hj/lq4expzHxXQLXMv5fX1/vFwBG+gBcvXjHqyOkHz58SK+//rpIs4DzFw5guU6cOEFPPfUUpaamErQrLy8XH+Fn9AmOjo4WcespKQu9kv3RhfdhBVgBVoAVYAVYAVaAFWAFWAFWgBVgBViBz1YBBsCfrf6P++gMgB+3wjw+K8AKhLQCMgBWO3xxQgDAU1NTCjhFLCb+uO4NACNONz8/X/QPHh0dFf2Ay8rKBFyWAbC6P3CgEdAT07P0/r2FHo4vr8+iSA2I0QOAxfm2DlGXfUJcSwxxoCKVUixR1Gl30uVWCeAmxUYSYpyNFuAyILNcMuDBvxHx+t7dPuWzL9Zk0uWLFwwBYOyMueMc5MpKiBY9jftGpgIC2J7O9ZHNSVddYBv3ibWrlZ5Zl08V5WVG5flMtmcAvDyyywAYcA4LSEKh4AAGUMS7Tl1jkzN0ssEqnlkUEgEQO6+OjPf3/ABjh50zYnf05wVQlhee4He5SdG0s8QzjMT7Ggt4PEVA3+4cpqZ+6R2ERShIDOgZlhy7eN8drFwan2/kXDxFWPsaA+B38+bNIl0C/aL96QH8s5/9jL7+9a+LlgRYcISFSZ2dnSKVYmJiQsS8nzp1akmvbzh/33rrLYqNjRUwGO+x48ePi4SLX//61/Tqq6/6mj5/zgqwAqwAK8AKsAKsACvACrACrAArwAqwAitcAQbAK/wCBTg9BsABCsi7swKswJOtgBoAyw5fnDGcUIhvlp2zagCMz9FTEb1TEVOMnr43btwQf2iHcwoxz6hDhw6JPsJnzpwR8cCrVq2iYALg0ckZ+rh2QBwL8aivbchecrEAgG02m3B1eStEKR+rHyDnlAR34PYF3OkenlQcvIheBRg2WrNz8yJGWnb4qWOax6dm6cP7CxD71Q1ZdOH8ecMAGHOq6xmhWpVjsCrTQqlxUXSxRQLDiTGRdGSVcYDt6XzhUMTYACednR20rjCdvrxndcBuSKP6+rM9A2B/VDO+z5MCgOHUR/9r+7gEaWGU3VeeSqmWpXHMxlUi+qRugBCvjtpUkCj69cqgWX4XeXPnAgCbTCbasmWL28N/2jFMLQMSAI4xhZNz2pV5T0SB9i/GmL+60S1AcnhYmOJg1qMDAPCmTZsI/efRk9sfAPzgwQP68Y9/LPrNI+YZiQ8Wi0V833zpS1+ib37zmxQTE+N2OoDHb7/9NmEM6Ic46u9973tL4L+ec+FtWAFWgBVgBVgBVoAVYAVYAVaAFWAFWAFWYOUpwAB45V2TYM6IAXAw1eSxWAFW4IlTQAbAWsALAAz3lAxO4erFH+v37NkjNHAHgOH2RewmoC+2hasK8dLuADB6AGMb9H7E9nCAGS0AVUSnogBVX67JWjLE3bt3yWq1+gTA2BFxyWebbUpP4cKUGEq1mJR+n+gPvLfMv0hQwGrMddoV05wQg8jVNAIAPlonQWwAlFc3ZBPc2HFxcbRx40ZDkkDPy21wMkvOPlRhipnabZKzOSXWRIeq0gyN6WvjH51pow7rmFgEUJ2TRDurC2hHSbIAQSu5GAAvz9V5UgAwnqvOIek5Qm0pTKSi1Nigifhxbb9w5c7TPEWEhSkR0wDNByvSKCnW5PVYvgDw9XY7PbQ6xfsGkfHZiWYxXnYikgL8e6fJE0IawE8vdxCFESFeGu+1HNf4vgTCOwuLiABo79275xcA9nUM/pwVYAVYAVaAFWAFWAFWgBVgBVgBVoAVYAU+vwowAH6yrz0D4Cf7+vLZsQKsQIAKqAEwhpIBr9xX0RMARg/gjIwM8cd7ANbr168L9y9cw+ibCNetGgAXFBRQdXU13b59m3p7eykYAFjub2sbnxJ9af/6YAnFRi0GyUYAMM6/tnuE6noX+m6mx0fRwMiUUNlXDKuvS6GNaQZgrsiw0HEXxDZFhNEXa7IIMB4ONqMAGMefnp0T/YAdrjhZwB44B6GLvw5mb+f1h7u9dL/TTs0dvbQ6N5EKc7KETtuLVzYEZgDs624NzuehCICRZoDFL3IE9L0uB9X3jSmCVGRaqCY3ITgCuUZBCgDgbIfdSUlmE6EnL2pzYSIV6wDN6HMLF60nB/DVh0PUZnVSfe+oWAgCAIwIayQCREf6H80t+o83WOl2p0M4lhPMEfS/dhYQFsvoKQBg9JHHghekNfjjANZzHN6GFWAFWAFWgBVgBVgBVoAVYAVYAVaAFWAFPp8KMAB+sq87A+An+/ry2bECrECACsgAWOvw1QJgAAY4dffu3SuOCACcnp4uIKUcAY3fwwWM/pldXV10+PBhsc/p06fpcQDg7uEJ+v9udlOfY0rEmu4uSxERzWr3qVEAPDc/T2ebbAIoo/pHJkV0cnRkBAHYbi1KCkjxu10OalDBpNK0WGpx9QcGkHlhbWZAABiTg9v4ZMMgTc3Mi/PocUzSqqw4yk2Mpr3lxiOsvZ3w7+/00rhzki7XtlFJViLlZ0su7LxkM20rSlqxTuBQBMCtra3CYY8+rwBmoVChCoCxkGXXrl3U0DcqHPr9o1MwuFJZuoW+ti036Pf1+/f6qGd4gloHnVSZaaG46EgqTouhzQX63jd4P2MBDvrpuis4mC+02Mg6Ok25SWZCj/B95SmUEa8P1LobE4tN0BMZ0dV4r8G9vCozjp6uzhCLTfQUAHBNTQ0lJCSIxUEMgPWoxtuwAqwAK8AKsAKsACvACrACrAArwAqwAqyAXgUYAOtVKjS3YwAcmteNZ80KsALLpIAaAONnGfCin+LY2BgdPHhQzMQdAE5LSxP9G9E/sb29XUApQBP0cvQEgOHy6unpoSNHjohxA4mAbrc5CdGpiDZFn8zKzDgqz4il9XmJinqIFR0YGFDOQ4+scOIdezAg4po77RM0OjFDlVkWAX825i+MrWcs7TZawDw2NUNhFCYcupboCHpudUbAABjH7HVMCuDT55ikjqEJijdHiPjqPWXBBcC/vdVDk1NT1NzSSkXZqRSTuNBjuCDFTFsLk1Yk1GEA7M/da3yfUAbAuVUb6Hr7MMG5j+cpJiqcnl6VLtztwS4sZAFEnZ0jQu/u3GQzHahIo0jkwusoXwD4d7d7lV7m+clm0b94TU68jpE9b6KOxYYDuDg1hhJjTPRUle/IanlUAOB169ZRcnKy6B3PADigS8I7swKsACvACrACrAArwAqwAqwAK8AKsAKsgEYBBsBP9i3BAPjJvr58dqwAKxCgAjIA1gJeAODR0VE6dOiQOAJ6TKKf7759+8S/jx07RqmpqVRaWkrYFn/ILy8vF/8GAO7s7BT74venTp2i/Px8Wr16tYj5DBYAbuofE9Gj7bZxAWsBaFHbi5MoPzlG/OwPAMZ+HUNOutJmJ/S3HBidoqyEKDpQmRaU6Ffn9KzoBzwxPSf6cXbYJ4RDNznWJAATIqBjY2MFXA+k4F489mBQACxUVZaF3tieH8iQS/Z959Memp6eIrhTn1+XQ6PR6QKWyVWUChdj4ooDOwyAg3obeBwM7wJovX//fgoP9z9qeHlmKx0FEdBIF5hKKRX9wDuHnGTHIpAMC1VlxQW8CER7LlMzc/R/HW+hsclZ8dHa3Hh6aV2mcAHrLSQ4mM1mtw5g9Er/3xfayT4+I4ZblxtP/2NzTkAuZvndK8+v1zFBWQlSX+FnqtOVCGtf88f3w5o1awiLiW7evLni3hO+5s+fswKsACvACrACrAArwAqwAqwAK8AKsAKswMpWgAHwyr4+gc6OAXCgCvL+rAAr8EQroAbAcOPKgPfatWs0MjLiFQDDtQWXMOJS8Yf8qqoqKioq8gqAEcnc3d0t+gPD7RWIA7iuZ4Rqe0YJrlrb2LQSOxoZEUaHKtMowRypAGD0MjbqLrvxyE6nG6xkHZsW98Cz1Wm0ryItKPcDnLnnW2xi3q2D45QUG0lbCpLoUFVa0AAwJvrOp91085FDzDnFYqJnq9NpbZD6l87OzROchTIAfnlDLlVWlNMlOI9dfZNx3JUIgRkAB+U29jlIKALgExev06c9E1RcUibOTx0Dr00Y8CmAjw3wDJ1vtonEgbl5aeM3tucJ0GykAIBjYmKWLBqZwGKThkG63eGg0clZiowg+srmXKrO9t/9i1j5s01WZb7pcSaxSIZESDbR82sylvRi93Qu+N5Ab/jMzEwBgLlYAVaAFWAFWAFWgBVgBVgBVoAVYAVYAVaAFQimAgyAg6nmyhuLAfDKuyY8I1aAFVhBCsgAWOvw1QLgy5cvC9ALJx8KDuCIiAjhCi4pKREO0MrKSiouLlYAMOKjAV1PnjxJeXl5wukVTAB8p8tBja5+ujmJ0QJCwAmMSoiJFBC4vq5WOBD9AcAzc/P0L+ceUrddcrQWpsbQ61tydbvbfF3mB72jAqQgwhq1OjuOvrYtjzzBHF/jufscDukP7vfR6MSsAOToYwwHIOKyAy30AH33Tp8CgF/ZmEfVleUE3S622KhfBYFL0mJpU0Fg8dmBzle9PwPgYKrpeSwZAPvz/C3PDBcfxT4+TT89doMmp2eotLSMTBFhlGqJUlzt5RkWWp+XELSpXXtoJ0TZf9oxLNzG2YnR9D935Bt+x7h7ZwAun2uW+pnX940Sou2RkoCI5oIUKSHBaMlA2Tk1J3ZFLPb+8lT6uHZAGQru5ahIfW5vAOBVq1ZRTk4OXb9+3eh0eHtWgBVgBVgBVoAVYAVYAVaAFWAFWAFWgBVgBbwqwAD4yb5BGAA/2deXz44VYAUCVEANgKemphTAiz/GDw8P0+HDh8URtAD46NGjwvWLaOfc3Fy6cuWKAoDR97Ojo0P03fUEgDEuImEDcQDDods2KMFT9M1MsUTRpdYhRRHAztjRTr8BMAb6pLZfOHXRm7Mg2Uwl6RY6VJlKpgh9gMPb5YF+iFD+tENy6MKx/LVtudRee9Otm8+fSw0ADPiDOGhEyha4orG3FCZSUWqsP0Mq+0zOzNF7dxcA8Ksbc2lVZYX4HBAYzkbAJ7nK0mNpQ4A9lAOasGpnBsDBUtL7OKEEgEcnZ+h0o5Xqm1tpdnaWKspKaU9piohobxkYFydakWkJSgw8xqrtGaG6nlEx7s1Hw5RqMYln8rnV6WQxEP+M/d0BYPX78UHviADZGfHRtLMkmXKTpLhmI4X3FZ5p2d2P9sToJYze5R/c61eGemV9FkXo7F2MMbFwCN8jWHTExQqwAqwAK8AKsAKsACvACrACrAArwAqwAqxAMBVgABxMNVfeWAyAV9414RmxAqzAClJABsBawAsAbLfbRVQzCp9PTEwIJ21fXx/dunWLIiMjBeR1OBxuATC2hUv4xIkTAhKvXbtWRDJ3dXUJsCw7iAFb8LPRutw2RJ1DUn/btTnxIjb1bpeDGlyuYPw+YbKfTE6r3z1ITzUMUvPgGLUOOKk4NUZAZrj0dpUkG46Udnd+97tH6J1bPTQ5PUdJMZECMJltzZSREOO2n6dRjQCWEDENt65jYkZAIFRYGIlzyE40DoLkOcBR+OH9fpqemabWlhb60iZEQEsAGIVjAhjJEdr4XbAdlEb1kLeXATDiZ7OysvwdZln3g8v+4cOHtHXrVoqLC9zBvRyTDxUAjL7cgL/ow/uw/SHNzc7S157aTDmJZgFn8QyhsNAkGBHqD63jdL19WIwJCNo0MCbcueFhYYYilOVrqO0b3jwwRrdcC0uwTf/oJGXERYvNd5f699zjXYXUArnghMbzDHCudgB/aWO27lsL515RUSFaB2ARERcrwAqwAqwAK8AKsAKsACvACrACrAArwAqwAsFUgAFwMNVceWMxAF5514RnxAqwAitIATUAlgEvpnfjxg0aGhpSADD+OO90OgV8AgyGczcpKYm2b98unML4Hf6Qjzjouro6evTokYDFjxMAI94UvXRRiBdGzDD6AZ9tWnCe9vZ0U2HkMH3hqf3CcWy00Jtz2DlD3cMTFGuKoKRYkxhiVVYcrcnxv4+mPA/0Mb7ZMSwcuglmExWnxlJ7azNtyzPTnu1bjE53yfbX2+1KxDR68fY6JmliWopvhYl5b1mq0jvZ6MFk8CMD4C9vzqPy8vJFwwAC4zqh17FclZkWWhekPsRG5yxvzwDYX+WM7RcKAHhqZo7ONFnFc44CAC6Ln6OXD+8S/1Y/Q8F47tFTGAsj5J6/sVERNDIxo7hmX1ibQWaTsQUxAMAWi4U2btwoehbjmUOkNAq9v51Ts+R0Pff7ylOEE9hI9QxP0IWWhXSFvGQz7ShOFkMMO6fp2INB8XNkeBi9vF7/ggoAYLwz8L2B7xAuVoAVYAVYAVaAFWAFWAFWgBVgBVgBVoAVYAWCqQAD4GCqufLGYgC88q4Jz4gVYAVWkAIyAJYBL6AtSguAr169SqOjoxQdHS3+D7CbmJgogLAnAIx+wXAJwwGMHo/r1q1T+gMfOnRIfIYewv46gE/WD5JtXAKL24uTKN8Vbww334n6QQE6u3u6aWrMQf/nF/eQOSrSsPJwuMLpSjRPADXjrt6X2mMaHti1g+xYBkwdGp8W59DS0kwJMSb6xjNbdffS9HR8rUs6MyFa9B2WeyWjx+mBilRKjJHAtpGSwQ8AcFtLC/0fbgAwxgMEBpTH+ckVDJBmZK7abRkAB6Ke/n1XOgB2F1UePtRO2TFztHPnTnGiagBcnR1Hq7P9X/gBFz5SBeTnLzoyXDhyTzZYFVG/WJNpOGJeBsCVq9eJsRDPjkKPXvRCl9+H+B2ed/QD11tjkzN0omGQpmYkohxvRn/1hRh869gUnXLNH+fz4rpMvUML93NZWZmAwBcvXtS9H2/ICrACrAArwAqwAqwAK8AKsAKsACvACrACrIAeBRgA61EpdLdhABy6145nzgqwAsuggCcAfPPmTbJarXTkyBExCwBiRD1je/yxHlG08fHxiwAwfl9aWkoPHjyg9vZ2EbtsMpno+PHjHgEwnMT4z58I6E/q+mlkAnCWaE9ZMmUlLMQZyy64ru5uGnE4aN/mtbS7LNVwbPMf7vYq4APOOfTrhVsPBbfbwUr/4Kl8aW91DFOzq78owArGBgCOjDTRljXltKcsRcTC+lsXW2zUPSy5pGvyEqgiwyIcghdcfY3xe7MpnA5WoJenMUAOoAuwBADc3tpCr21a6gCW5w2X5dlmK9nHJe1QgcI0fzXBfgMDAyKOPBQjoLdt2ybcnqFQKxkAIy0APcN7XM8H9ETEs7OrXryTZAB89eEQPbJJUfOrs+Oo2k8APDE9S6dcMdMYCw580UM3KoLeV/XQhYMW7xYjde7cOTLHWshuKVCczBh/f3mqiK1Xv8cOV6VRsivJwNcxZufmRTS2vHjD3TsP7xMs8EBhkczzazJ8Dat8DgAM9++qVasIEJuLFWAFWAFWgBVgBVgBVoAVYAVYAVaAFWAFWIFgKsAAOJhqrryxGACvvGvCM2IFWIEVpIAMgOHwHRsbEz19UQDAg4OD9PTTT4t/nz17VkRAZ2Rk0IYNG+j06dMCQgFGAQxfunRJgGFfALi2tpY6OjrEcQCHAwHA79/rU+KM3bna0K/y+M1GcjiGqbyigtbnJVJlprHeqb+91aNEtT5dnU7AMidVDj5LdIRw2MH55k8tchdmxREO8P6F2xQRGUlFhUWE2OYthUn+DC32Oddkpb6RKfGzHJONn7vsEwR3sBwTGxcdIZyBRqJnB0enBBwCAO5oa6FXNnoGwDgmXIlwH8tRu/gdYrThBl7uYgC8PIoDskNr+b2yPEf1fRSAx2vtdgXsYo/itBjaXJBE165dE6kEO3bsEANdaRuiDk2vcd9HWLwFnMa499VR6DtKkigvKUYkDCBpQK5XN2QZXvQBANw+EUPmtDxlnK1FSVSYEiP+/fvbvYQ5oI6sStPt+Ff3P8a+24qSqMA1pnwgdTw0FrE8U52uWx5cB/T/XbNmDeEcuFgBVoAVYAVYAVaAFWAFWAFWgBVgBVgBVoAVCKYCDICDqebKG4sB8Mq7JjwjVoAVWEEKqAEwop0RzYz69NNPBbgBAEYvYABiFD4HuD116pQCgEdGRkR8J6I88Z/sAN63b5+IjD527BhlZ2dTTU0NBRMA/+52D81KSacEOJtgXuxgBVz41Zk71No7JABwRHg47StLoXSd/S/hfvvd7V7lasHZBodbr0PqhynD04z4KL+dutqI5qqsOPrPDy6QdTpCAGBUIJAUgBagFrWlMJGKUmOV82kdHCcAHrngCoTL2QTroI6SnX+A+B1tzfSyDwCMIeGCPNtsI4er3yp+ty433jCY1zE9r5swAA5UQX37r1QAfLtzmJr6x5WTyE1CT9skkRCgBcDqZ9SfexXvocttdrHoQi71OIhY/qh2QPnsSxuz9Ymr2ur//egc9U9HU35+gfhtRaaFalR9tn9zq0f3uPR5AAAgAElEQVR5Xz27Op3idLj9221OuvbQrhylND2WNuYnLplbx5CTrrRJ2+EdAoex3oI2hYWF4rvhzJkzenfj7VgBVoAVYAVYAVaAFWAFWAFWgBVgBVgBVoAV0KUAA2BdMoXsRgyAQ/bS8cRZAVZgORSQATCgB0CuFgAjxhnu3snJSdGz9/Dhw2JacADHxMTQ9u3bxX5qAFxfXy8iotUAOCsri9avX091dXX06NEjQq/hqKgovx3AWjj7hbUZFGOKWCLZnXu1dLSunwpLyyk8PELEHQNQuNtWuzMcq+/d7VN+re7N2dA3Sne7RpTPyjNihcPYaCGKWY6gXZ+XQOUZFrpw8SLV2SMoObtQGc6d807PsRDRLMe3qvsky/vW947Sve6F8wDM3l2aQhE6Imh7HZN0vtkmrmHXw2Z6cX0uVVRU+JwWejQjMlaO0sYOcjy1z52DtAED4CAJ6WOYlQiA63pGqLZnVJm59p7XAuBLrTbqsi+OUTei3p0uBzX2jSm7aEEq+gIfrZMAMB67VzcYA8AAyz87epVizGYBgNHne09pshJ3j6jr395aupDF2zmgvzf6+squ4ZRYE+2vSHX7XnhoHafr7dJCEvQWRpKA3gIAzs/Pp40bN4rvFC5WgBVgBVgBVoAVYAVYAVaAFWAFWAFWgBVgBYKpAAPgYKq58sZiALzyrgnPiBVgBVaQAp4A8K1bt6ivr49SUlLIZrNRXFwcTUxMeAXAiH9GDHRDQwO1tbXR3r17BSQ+evQoBRsAw0mqp28m3MhNj3poIq2SwsIkZ6tex67WmffahqxFPYTVvUEx7ubCRCpWOWz1XGbEwvZrIpoB3Ck8khwJRUqPY4Ah9AsFYDFSRx8MKG7b3aXJlJ240CdZHkcLqNRuSG/HAnhCD1UA4J72ZvpCjT4AjDEBgc80Wml0UurhjJIBuJHz83dbBsD+Kmdsv5UGgFsGxkQfb7kANvdqXO9IOwCYxOIWlLtFGnpV0B4vKyGadpUmL4p4Bmw99mBQDIkeu+gBrLcEqG20Ul19g3jXVpcV0cGKNIpSRdJPz87Ru3cWFrK8uC7Ta2Q9tkfMvdxfPSoyjJ6qShfpB+5KfY6Az3vLUvROX+icl5dHW7ZsoZMnT+rejzdkBVgBVoAVYAVYAVaAFWAFWAFWgBVgBVgBVkCPAgyA9agUutswAA7da8czZwVYgWVQQAbA169fp+HhYQXwygAYUygoKBD9ge12Oz311FNiVojrRLwz+mQiOvrChQui/69eAAxnMfb3twcw3KOf6HDNAQD39PRQbvVmutu94MKryrTQWlVEqjupfYEZuOMAMWWHLSAtXHKpFv2QFqBF7gsqO3QBgBGzvWrdBuHCgxMZhT7DBytTdcW3yufzUW0/jbkgK8AMAI22AGHg4EPkq1xyP1Rvt6Ac/Ypr2NveTM8bAMAYF71PzzRZlfnhdxvzE6g03fLY73wGwI9dYnGAlQSA1VHFmBv61cKtqu3frQXAcLnD7W70/kRv3IutC1HxSbGRtL88dUnEOt4fcOqjTBFh9MUafQB4akYCtVhE0djUSPGxMfTGUxuXROF7SzJwdxdgUYc6rnpPWTJlJSxdOCLvq05DyE2Kpp0lxgBwTk6OgO0nTpwIyk2JBUtVVVWihUFlZSUhkcJT/fznP6e3335bJFMgkQLz+N73vkc7d+4Mylx4EFaAFWAFWAFWgBVgBVgBVoAVYAVYAVaAFfhsFWAA/Nnq/7iPzgD4cSvM47MCrEBIK6AGwGrAe+XKFQF8ExMTadu2baInMHoBewPAJSUlIgJYdgDv2bNH9An+5JNPKDMzkzZs2KD0BwYAxh/c29vbBUBG70251D97End4co6udUk9NU3hYXSgeKG3LX4njzE4OCjgNWJG7w9MU8/IjNgHh9uYbaZ0y+K+werj2Sfm6GqXBEWjI3CMxWASx3BOz9HljnGachlZoyPDaEd+DJkjwxedk3pc9fmdbx+j0UkJ8G7KiaGMuEgRnx0eHi56Y9qcM3St0ymccqhYUzjtKIil6Ej3bjythidbRmhyRtp3e34spcRK56vVGDGxN7vGaWBM0gdVlmqmynTP4KfLMU13esZpdnaWnEP9tA+gKGsBXnm7jvJn0O9S+wg5p6U5otZlx1Bhsufjupu/9j7xdQ9hsQN0xuIGuNzdla8xPH3uaz9/59/Z2SkWM6xZs4ZiYxff78Gcv/YeciuOm3vI3T2OBRgAcrt27Vo0jC+NAv1cq3GfY5Iutg3RnOs2izGFC6esO1crIqDVDmAA4L4RGQAn6lqgYB+fptNNVpqZlQ6I6PlDle6PZx2bEgs9UIDRcOj6KjyvF8S8pP7eAMDb8uPp8M6NS3bFQosP7/crv391Q9YiB7J6h8b+MbrTueCQrs6Ko9U58V6no47ULkgx07aiZF/TVz6HzugPj/sDveKDUW+88QYB7GJsbwD4O9/5Dv3gBz8QzukjR46IhAu4kLHfO++8Qy+//HIwpsNjsAKsACvACrACrAArwAqwAqwAK8AKsAKswGeoAAPgz1D8ZTg0A+BlEJkPwQqwAqGrgAyAb9y4oQBeAFn09MUfwtHHF38gV3+Os1U7gAFYz58/TzIAbmxspNbWVvIFgBExDUDkT6ElZ51dgsbmCKKNaQsA0dN4s3NEd21h5HTB2ogwoprUebG/u9J7jOEporqhMJJnEGciWpM8L/p5+qqbg2EkpyBXJ81T0lKDLg04iZocC4MlmIiqdY5/tT+MXAyK1qXME+bmUZ956TxGphe2KIqbpxwPhtw+J1GLa14JUdI5+1MTM0T3h8JoSuLgosoS5ikjxp/ReB9WYLECuJ9rh8IU+It0ZNyrrrUQPuXCvemQOCuVJsxTpo/7Es/zvaFwZVEI3jNrU+bJonr21IAbY9+zSeNHhRNtyVi6QEM7yVYHUc/4wjshL3aG8uPCKCJi4WWmLLKYmaebUothUbuzpf20kH14ap7uWYlca00o2RxGa1K8zwVjtDnmqWNUevazYsOoIsn7Yh6A1m9961vKfPDv8fFxsRhDPS+MDThsxBkMgIs+9X/2Z39GP/nJTzwC4FOnTol+96mpqXT58mWRXIHCz1ichO88tDFITtYPs33eSLwBK8AKsAKsACvACrACrAArwAqwAqwAK8AKLLsCDICXXfJlPSAD4GWVmw/GCrACoaYAIO/U1JQCeA8cOEBw/wICo+CMghv15s2bZLVaxb9RZ8+eFTHFiMqUAXBxcbH4g7sMgHfv3i16B6sdwIjjhPNy8+bNwlUMF/C6devEWHLJbletlurfI6L02iPJqZYUE0kHylMUl6x6P4Do/v5+2rRpkziGwzlNZ1rsNOuyAibGRNLekiSKcNHaRccYnqTrj0Zcx4ig/WXJbo+BDdqsTrrT44qYnp+ngmQzbciNc3s7qI/xSb1NcejuLUmg5FiTiM0FyFm1apWyf8PAODX0wwks/SovKYo2uhlfq92HD2wKAD5QmkhxIExeamp2ji49HCHHxEJv3g25sZSXuECm5WO02Saptk9yAE/YemlPWQohztXT9fN2fcemZuly+yhNuOKuse36nFjKBVlWlT9ju7uPcH93dXUJwJSQkPBYjuFNZz33uHZ/OGnhykfPVPXz4u05cTeHYGmo5/zwznA6nWLORq4jtvVHI+1+o1NzdLNniqZdiwsAYzdmR1FClOfVGUgNQAEOom72ThHSAFDVaSbKjovwODfEwt/snabRKTyo0sNak2Gi1Jilz518fkMTc3SrT3LemyOJduZK97yn8+8emaV624JTPyM2nHIiRsQ9gfetdt+x6Xm61iNtj/Pfm29aMvbU7Dzd6Jsl/B+F18TmzAgRSe2p5Pk122ep0wWA8+LCqCxJgtCe5o/74c0331Q+x/cHADASD9T7ye5gvb2BMS6+S/Cd8u6774o0Ck8O4Oeff54++ugj4QD+9re/vegUMbcf/ehH9I//+I/0N3/zN95uc/6MFWAFWAFWgBVgBVgBVoAVYAVYAVaAFWAFVrgCDIBX+AUKcHoMgAMUkHdnBViBJ1sBGQAD8AJ8IKq5t7eX4uPjaWRkZBEAxudPP/20EEQNgPHH+3PnzpEMgJuamqilpYVkAHz06FFKT0+njRs3in6MAMAAFYBwALP4We1c06N46+A43Xw0LDbNiI+ifeUSrNEW4qgB+jAXgAHUI5uTrj60K5uWpsfSxvzEJfu2WcfpRrt0jPS4KNHf11vdeGSntsGFPrrr8xKoPMN7P9vf3+4lQCPUkVVplBhjEi406LF169ZFh7vebqeH1oXxq7PjaHW253hWXNvf3OpVxnhudTpZoj1HXssbOqdn6XTjQm9esPGdJcmUnbg4llnu/Tk7O0O2jmY6vCZXQBd/yzExQ2ebrDThonWI6d5WlET5ycG3AnMPYH+vkrH9PssewIg+PtU4SE6XtRz38a7SFMpy0wdbfVZYAAP3KaLvUacaBsk6JtnicT8WpLi/HxHLfLFlSOkXjO319LTudUzQ+eYhMX68OYKeqc7wKDLiotF3XI6yRl/hAxVpdOHcWeFWrampWbKvusdwVGQYvbRucY9hvCfONduo3xUnbbSXOd7DeB+j9PRWV08QCRQZGRnCjQsgG0j97d/+LX3/+98X6RRwE8vfR9oewHAcJyUl0eTkJHV0dCxZnIA0i71794r0C4zFxQqwAqwAK8AKsAKsACvACrACrAArwAqwAqGrAAPg0L12embOAFiPSrwNK8AKfG4VUANgQDEUIDBcv+g3ip6/gJFw6+JzGQAD+OL36N2oBwCnpaUJ2Cv3B8ZxEBmNP9LPzMwYBsAyfMQ4uUnRtLPEfR9XdwAY+3zaMUwtAxK0QG0tSqJCDdhp6h+j265+mNmJ0bS71P0x5DEAgM422WhwVMqLBcDcW5ZCGfFucp1dO73zaY8yh2dXp1NcdKRwYKsBlHp89COVQY2necvbAywDMMv1hbUZFGPy3jtY3nZkYkZA4EmXIzcyPEw4fNPiFhy59b2jdK97hACAhzqb6WB1jnDcBVLDzmmhoXzcxwWBGQAHcpX073v37l2RHIBkgeUs3D+nGwdpROVk316sbzGB9vk72TBINhcA9jaGGoTiXCsyLVSTu9hd7k6D7uEJAY5RCTGR9PSqdLdSYWHGifpBZYEE+gUfrpL6Cp8+fVo4luGA1RbeR3iWUehF/MLaxT2G73eP0INeKfEBpWfhivoY1x7aqd0mLUxZnR1H1V4WpWjnBgCM7wYkS3z44Yd+3yK4z/D98sd//Mf0H//xH2KRkScAfPv2bdGPHouSkA6hLTiSsSgJQB2uey5WgBVgBVgBVoAVYAVYAVaAFWAFWAFWgBUIXQUYAIfutdMzcwbAelTibVgBVuBzq4AMgAE9EC8bGxtLO3bsEL15u7u7DQHgoqIiqqqqoubmZvEf4DCcxMeOHRNwAn+gxx/fZYfx9u3bCQDAHwBc2z1CdS5oUZQaQ1sKk9xeQ08AGBHQcNLZxiVnHwDnwcpU4cCVC1AEcASVn2ym7cW++0EC0gAYya5DQJpDlalunbeeAK0nAIx5TM3M0alGKwHQouDWA2ROdwOZAcHeu9unnM8XazLJFOE9AlotIpyDZ5qsNCPHwkaG0f7yBY3kawAAPNzZTPuDAIBxfEBggC5ANwBgxHPDuVnhw01t5CFmAGxELf+3/SwA8PTsnFhEgPtXLj1OXHlb7fOHe1EeyxMAVi9IwTi5SWbaUZy0pM+uOyU77U663ColEiACHlBXW+J91WRVQDSee6QeyAsyvAHg/pFJoQfKEh1Bz61ecBj3DE/QBRd8NvKeU8/vUusQIZIftS43nioz3Uffuzt3vP/x3fDss8/S+++/79eNhjHwnYW4f7h9MZ43APzee+/RSy+9JCAwFja5K8BffB86HA7xHcbFCrACrAArwAqwAqwAK8AKsAKsACvACrACoakAA+DQvG56Z80AWK9SvB0rwAp8LhUAAMYfueHoxR/SZWgLcAMAfPjwYYqMjKRbt25RX18fPfPMM0InxGTCpYpoZfReRCS0LwAMdxoiNdEzFj2A8Yd6wF9/APCtjmFqdjl4EbMM15q7Qj/izs5OcV7R0YuduGOTM3SiYZCmZqQI5nhzpIC1MiS91+Wg+j6pr29xWgxtLnAPmbXHtSGmtclKs66+o+gzfLAyTUBmdXkCtN4AMPYfnZyhUw0L7lzEuiIGNgENRFWFCNwP7y843F7dkEXhIKoGCvAIrmM5chYOwkOVkutQ1gcA2NHVRPtW5QbsAJan1tg3Sj+/1kkzs5JrEVHX5RmxwlGJ+y7QYgAcqIL69l9uAAxQeqFlsUveqCtV+/wdrx8g+7i04AJR6IC76uoYctKVtoVI+RSLScBZ7fPuSTH1/tgXz5e2tPHvmwoSqSQtVtnMGwBeHDEdSc9USw5jvP+O1w/StGuBh/b9p+8Kk3g/9DomxeZGQDu2x3cOYOsLL7xAf/jDH/QectF2b731lujj+9Of/pTeeOMN8Zk3APzLX/6SvvrVr4rvhAsXLrg9JnpWo3UAvgPRJ5yLFWAFWAFWgBVgBVgBVoAVYAVYAVaAFWAFQlMBBsChed30zpoBsF6leDtWgBX4XCoAGHvx4kUaGpIiSGXAi96d+AO4HgCMnooAu4WFhbRq1SrR/xd9gHfu3EkJCQl0/Phx0XPRZDIJ9y9qz549wm3sLwBWx45664XrDQBjHt4ccOqYaL1xrvJNhEhUzFGuvGQ4Ahc7iLWA9rUNWQJu+gLAGBOxrueaFyBzXHSEgMxwHMsFUPxxrRTrDWb62gb/QAYcigBc8xInF31KAZzhkEZMNgDwaFcT7QkiAEYsLpzUgPw4IzlWFnHfW4uSdcM1Tw81A+Dled0tJwDGYpbLbXbFjYozxKKB9XlL+3t7O3vt83f0wQA5nBIA3lWaTDmqXtjoyYu+1fJiDzhsD1akklln1DrGfGgdp+uuXuNw9B7Q9Bpv7B+jO64oemzvrmf5qVOnRJSyuwhouHPh0kWhZ/BTVekEUI5YaNnZ7C4BQe8dgiSFAVfs/ZbCRCpKXQDTvsYAAMZ3Axy57777rq/Nl3yOHr7V1dUiXULdr9cbAP7FL35Br7/+uli8hIVM7io3N1fAXwbAhi8J78AKsAKsACvACrACrAArwAqwAqwAK8AKrCgFGACvqMsR9MkwAA66pDwgK8AKPEkKIDITMckxMTHCyYsev4CQ9+/fF87ZQ4cOCXArRzfLn8M5BeACkKsHAGP80dFRAX3RMxh/fLdYLH4D4IstNuoeniTb+BStzY6nnR768/oCwLiW2h6YG/ITqCzdQmrXXXVWHK3OMRYFeqfLQY0uBzGOszYnnqqyFuJRHRMzdLROArRIZn5lvQRor169KrRFRLa30joPU13OQ0QmoxClfOzBoPgZgOfl9Vl+37qtg+OEHqdyIao2wRxB7bYJAYDHu5toV1XwHMDyuSHOF+7C/OQY5dhwSaIfsxp2Gz0xGQBjwUKoOPwQcQuwtW3bNvHshEItJwC+8chObYNSL1oUenoDSBp1jF++fFn0JN+6dasY55O6ASVyfU9ZMmUlSA5grRPfFIEY+aVOfF/XSf1sZcRHCfewXLj34WiWF18AEO8rT1ni5AcARk/btWvXLjmcO4extl/xtqIkKtD0QPc1b/nzX93oEvPBf3r7LMv7YgESHMAvv/wy/e53v9N7SGU7OIfRYgDfT3iW5eIIaMNS8g6sACvACrACrAArwAqwAqwAK8AKsAKswBOpAAPgJ/KyKifFAPjJvr58dqwAKxCgAoC3AMCAv4h4DgQAFxQUCDeW7ABGX8bExETxB3oAzaioKAHb8Mf5QAHwqYZBAmDtc0wJR9yXN+UsiUCGNHAiwyUGN7LZvDi6VZZubn5exJj2j0yJX4Gf7q9IJfT17LJL0aZGe1tiH4yL/pp9rnhU/G53aTJluxyEiIo+2WAV4yPG+aV1EqDVC4CxbX3vKN1z9SnGv9GrGDAH0AvuRERFowBLX1yXGdDdou6JjIEAmBEbOz83S86eJtpZGTwA/MjmpKsuB3VSrIliTOHUMyxdCxQcz4DAOL4/xQDYH9WM77NcAFgd145ZZidGi7hmo5Hn2FcLgD+u7afRyVlx8nvKUigrIdptL258luGmF7cv1VoGxujTDofYLDMhWvT0RgEwwwUvR9Qjdh0R9e7cxd4AsNphnB4XReiZLjuOcZyy9FjakG/MJS2fE+D1f13tFO8bvIfhfpbfb77OG59PT0+LVgCvvPIK/fa3v9Wzy6JtcFw4iGtqahb9Ht9reI9i4ZEM8j/44AOKi4sTsBj9fwHM+/sXIvLlAcbGxsR2GFdOxjA8Md6BFWAFWAFWgBVgBVgBVoAVYAVYAVaAFWAFVoQCDIBXxGV4bJNgAPzYpOWBWQFW4ElQAGB2ampqicNXdgAfPHhQgFvZAXzkyBEKDw8XsdFwb+3du5cmJycJPShlAAynIpy3AMDx8fECAKPQ9xd/UAcgDhQA/+Fur4hYRvQqwAPAJ3pnyv175WujBwBj24npWdEPc2JaatwL2ILes7axafFvbc9Nvdd+amZOQBwZIKldggMjk3SmySaGiokKpy+skQCtEQCM7bXOx1VZcbQmJ548ja937u62u93pELHPqDbrOCEVujApiiZ7mmhbRQ5VVVUFMryyL8a+4YrFhSsScA3HbnH1fcaGgNqAfHBFGq3BwUECnGQHsFHljG2/HAAYCzXudo0oE8P9gPtFbw9e7RlpAfBHtf005gLAcN+mWqLEghE59hj7by1KEo5jfwrPE+5tFMA1FjbA+X6q0apET+NcEA2NxRDawjsc719PDmC1wzg+OoLGp2eVyGq46feXp5KcGmBk/oihR/w1FuIAUqPX+f/amW8IguO7B9HVr732Gr3zzjtGDi+2NeLuxncPoC4WO8F1jO8tLA5Cv191IRYa32v4D73tuVgBVoAVYAVYAVaAFWAFWAFWgBVgBVgBViB0FWAAHLrXTs/MGQDrUYm3YQVYgc+tAjIAvnPnDvX09JAMeGtra8Ufx2UArP3cHQDOz8+n1atXU1tbm3AVI8IYoK25uZmio6PpwIED4mf8t2vXLuGy8rcH8Pv3+kQ0MIBgZaaF4qIjhTMPDls1FJABMGA03GDeCkDjTJNViVvF+FkJgIthwlXrb0QqnLJw4s7MSU100UMXsBoO3fPNUm9OOFmfqU4XPxsFwMJp3GyjPpeDGWNsLkwUrtmF8SPomeqMgO9z3C9wD6LHMcASeoimxEZQ9mQHbSkPHgBWQyu1K1IL+xCdDfiWl2QMvjEADvhW0DXA4wbA2mhyQEiAUu1CEF2TdW106dIlioyMVJyjH97vJ/TrRu0vT6E2q1Pc/3J560Gu57jqezo3Cb3Ck0TPXkTcy+UtWlkGwBkZGbRmzZolh5QB8+z8PPUOT1Cu61nBAorDVWlisYvRgh4n6gdpcmZOAGCEziPeHu8wAHK9Bacu5v2lL32Jfv3rX+vdzed23iKgsfNzzz1HH3/8Mf3gBz+gb3/724vGe/PNN+lHP/oRff/736fvfve7Po/FG7ACrAArwAqwAqwAK8AKsAKsACvACrACrMDKVYAB8Mq9NsGYGQPgYKjIY7ACrMATq4AnAFxXV0ePHj0S0BbwFiCnu7ubnnrqKdEfE5AE8Z379u0TDmJEkGoBMGAwxsEx4LhC79JgAeDf3e4RLrae4QlCP1o5FrUq00JrcxOU64Xj4Tz0AGDspIYxdT0jlGKJEmB5V2ky5biim/25GbrsEwLqyAWnX2Gyma48lPrq4hwAY1AAwHNzc2LOekvrGESMdXmGhRpcPYgBxo6skgBzoAXgfLFlSPQmHXbO0Nz8HKVM9tJLNdmL+nAGchx3rkh5PPQ0hfvbxdPFr2vyEqgiQ39fXAbAgVwd/fti4Qicl/v379e/k84t8axiYYVzelYAyOwkM720LpNiTMaBpvqQWgCMxSZyMkBOQjR1qyLdEae8pTBJ54zdb6aOcUeSQXx0JNX1jioby45+TwfxBYDl8VsGx4VOJWmxYig5ztro5LGQ5UyjVSz+QN3uHBbvGksU3jFplBiz1KXs6Rhw42ZmZtKXv/xl+u///m+jU/G4vS8AfOLECfFdhvhpOL7Ly8vFWPhZ/s7DQqaUFCmOm4sVYAVYAVaAFWAFWAFWgBVgBVgBVoAVYAVCUwEGwKF53fTOmgGwXqV4O1aAFfhcKiADYC3g9QcAI0oTDjTZAQxwDEiMyGhEQQMAy/2B0ZMXv/PHAQwA8fvbva7rNU/oazkwKsEIlNqtaxQAY/9LrTbR+/det4OmZ+epLN1CL6zNMBRt6u5mqu0ZobqeBbCTaI6g4QnJWYjYWjgXUdeuXRPx2kYAMPYbm5wRsbEyrHJMTFNUZDiZIyMIUa9wHQercA3+9dxDoRMA8Lyjj7YVp9Ire9b61XdVOy+tKxJRz+pCvPWltiGlPyo+K8+IpZrcBF2xsAyAg3UneB/ncQHg2u4RAUnRP9funBE9tF9Zn0Xr8/zrZas+CwBgk8lEW7ZsEb9+726fcLrCsW+ODCdLtNR3Wo4m96fPsPp46vcCouCdU1IMPQoLRXaVLE410CqOxSJnzpwRTlp3DmAsZMF7oXNoQrwHilNjKRDX8pW2IeoYmhDTwPeHbXxacf0+vybDkKMY/XbRF/6P/uiP6Je//GXQbkpfABgHgvP3rbfeotjYWAGDsZDp+PHjYvEN3Mivvvpq0ObDA7ECrAArwAqwAqwAK8AKsAKsACvACrACrMBnowAD4M9G9+U6KgPg5VKaj8MKsAIhqYAvAAznntlsVhzAhw8fFvGocEqhhyI+B+Q9efKk6KUIAIE/vtfX1ws90BMWPYEtFkvQADDiRxHLKteL6zLobJPkRkWhX+b+ilThqpUBMOKo8Yd+PQU3LeJNL7QM0ezcPEVGhNE3dxdQbvw3NDEAACAASURBVLKxmGHtsaD15bYhAU1RgJgYOzk2itQxx/4CYIwJSHWuySbiphFp3TsySZUZFuFehibBrBP1A3S5zU4jE9MU5uijvPQk2lRVSNuKkv3qKaqe24PeUbrfLfV1LUgxizG15ZiYES5kuT8rPs9NiqatRck++78yAA7mneB5rGADYDxDiBxu6h8XB20eGKOJmTmqSI8V1x1O1EBLC4DRb9w6Ni16X1dlxgnAicj2gxWpYoFFoIX7HPe7c2qWBsemKN/1nsExDlX6jrOWATCctEhd0Na5Jit9XDcgou2x0ASR6Xs0Ufl6z0HtVsY+xWmx1DYoXQvUi+syRW9uvTUyMkK5ubn0la98hX7xi1/o3c3ndnoAMAb52c9+Rm+//TY9ePBAQH98T3zve98TPeq5WAFWgBVgBVgBVoAVYAVYAVaAFWAFWAFWIPQVYAAc+tfQ2xkwAH6yry+fHSvACgSogAyA7927R11dXSQDXvxBvL29XQBeAGDt594AsLxtQkKCcLGePn16CQDG7/G5Pw5g+/g0Ha8fFGcOgPpyTRaNTs7QyYZBxREKSAN40vXooTgPIwAY4yLe9P8+0UJzLjPetuIken51RsDARx3V3OeYpB7HBFVmxFFZhoVklysAMHSBS9qfkuOm+0cmhVPPEh0h4l73lwcXAJ+sH6SBsSlq6hulscEuyk1LpKysbAGzcS4A8f6W7PDE/t5idiemZ0UcNVyIcsHlCNekHAvubg4MgP29Msb2CyYARvT4zUfD9NC60H+3e3hCJACg5+/6vITHAoB/daOb7nc7ROQ84phxfwH+yk5gY4os3fpul4Nqe0YFBE40R4pe46aIMOHYBwT2Vd4AMBZJ/D9XOpRFJ4iY/sauAkOQVj4+tMazJldmfBRtKkykj+4PKL97eX2Woefe4XCIhUOvv/46/dd//ZevU+XPWQFWgBVgBVgBVoAVYAVYAVaAFWAFWAFWgBUwpAADYENyhdzGDIBD7pLxhFkBVmA5FfAFgNHjNyYmhu7fv0+dnZ106NAh4ZRSA2DASvRUhJMLvRTPnz8vIozXr19PWVlZAgBjDEBYuIEbGxsFGPYXAANswvGLAuhF7CgKQPV8i0043VBwu+WFD1HHo0eGATActP9x6RG1DUqwaV1uPOUmmQVIDTTyFbAaDuNHNid1D08KqHykKpV2ly1EQAcCgDFfRCgffzBInXYpqrU4LYa+sbMgYGeu+t489mBAuK5nZmfpYUsTxSVIAFjWfndpsgBz/tS9LgfVu/oXo2fppgLP0b64Voil7RmWnNWouOgI2l2a4hGgMQD256oY3ydYABhO/KsP7YTFDXKlxJooPDxMON1RG/ITRFx7oHXx4kWKiooSEdB4Vv/xRKsSq74mJ46eXZ2hRB4Heizsf6tjmD6q7aeRiVkRKw0AjHsXvcf1FN61Z8+eFb101Q5gLI5A9PODnlEaGJ2i8HCiZ6vTaY/rPaNnbHmbYee0GGtmVnq54vkCoJ6anaOPayUAHBZG9NoG6fnXW3a7nQoKCuhrX/sa/fznP9e7G2/HCrACrAArwAqwAqwAK8AKsAKsACvACrACrIAuBRgA65IpZDdiAByyl44nzgqwAsuhgAyAtYAXEc6I0fQEgK9cuUJOp5MOHDgg3KoAwDk5OSIW2mq1iqlv3bqVUlJSvAJgwAtESEdEROg+3U67ky632sX2SbGR9FRVurJvY/8Y3el0KP82Tw2RZbxXxE8jhlpvOadn6YN7/QTXG8Ai4BLArzc3qt6xsV2vY5L++2Y39bqgZUlaDH19R74AptevXxea+OsAlufxu9s9dO3hsPgnXItw5eK/QAG2PP4ndRK0mpubpYj+RpqzpFJYvATjUYjgBjA3Egkr73u7EzG/Y+KfZemxtCHfe29XuEOxT8vAQhwtjovzxUIAbTEANnK3+r9tMAAwAP+l1iGxwEMuuH53lSbTlTa7eJZQG/MTqDSIALh63QY602Sjiy02mnMtKnljRy5VZcb7L4hmT7x/f3mjm+51SXHncNU+tyaDKjPjdB9DBsBYbFNdXS32g2Znm6xkG5umh9ZxEWGNd8yukhRanWNs/lMzcyJdYXRS6leO1AU4oBNjTOQujUH3xJG0MDREhYWF9Cd/8icijpmLFWAFWAFWgBVgBVgBVoAVYAVYAVaAFWAFWIFgKsAAOJhqrryxGACvvGvCM2IFWIEVpIAvALx3717RO1cGxAcPHhTuODUABoA4fvy4cPQi0jMpKYng7IKDLjU1lc6cOUPR0dHC9dvW1kYNDQ3CkZuYmCicwkYBcOvguIiCRcExt08TbXy93a7ExA4ODlDi1CC9dMAYAEZ06tE6ydnWbhunwpSF/sGrs+OoOtsYRHF3yd+90ysAFkrEqRYk0q7SFPr05o2gAGD0SoU7D5AGELQwJUb0yN1eHBwIjD7M6McMABw12EiVBVk0HpejuKZxXgkxkbS3LIViTPoBP/aDK7LZBXMrMi1Uk5ug66mB8/muC6ZhBxiQtxQmKX1V5UFCEQC3tLSIOHOjixl0CfeYNgoUACMyHb24ZZcvppmdKN3DiBg/12xTwDCeH7jFAy04gOcjosgRXyj6S3/aMSxSBdCL+o+35VFctO9YZr1zwKIFpAHI54cY6/+xOUfv7mI7LQCWeo0vuKXxvkQMfGZ8NK3NiaeqLP1wGQsroL8avgO8o6c4CvM+3Sgt+DGbwumFtZmG5m6z2aioqIjeeOMN+ulPf2poX96YFWAFWAFWgBVgBVgBVoAVYAVYAVaAFWAFWAFfCjAA9qVQaH/OADi0rx/PnhVgBR6zAjIArq2tpY6ODpIBLyAtYK0MgLWfX716lcbGxsT2MgDGVAGLEekJB7FeADw1NUWRkfqhSn3vKN3rlhxzeclm2lGcvEglxMWecbnfAIBtVit97dAGKshI0q2mdWyKTjVIYAP9OJNiTCJGVa5tRUkiqjWQAqhGZHW/Y0pALUAVnE/EQJMAwLt27QpkeLrdOUxwRAMARUWEKxAUx8D8A3UCv3e3jyZn5gQANlsbqaIgm1atWiWcuLJ7FyeAuFhAYCM9U288sisguSrTQmt1AmAcr2PISdce2hXXJn6HCG+1q5IBcEC3lu6dAwHAuLfON9tEP2650MN2q+rePddkpb4R6bkMFgA+efYCPXBEUmZuoRgXi00Af9Pjoum51emG7mNvQsnvMdmhG2+OoBfXZhq61zG+FgBj4UejKz4dn49Pz1KsawFGTV4CVWToT0LQjqVd/AL3Na6R/JwjHttI4TksKSmhr3/96/Sf//mfRnblbVkBVoAVYAVYAVaAFWAFWAFWgBVgBVgBVoAV8KkAA2CfEoX0BgyAQ/ry8eRZAVbgcSvgCwDv2bNHRCd7A8CAlSdPnhRThbMXLuC6ujravHkzpaWlCQcwXMOINEasNOAwXIxwCgNeGAXAd7sc1OCjPyycqYgt7ezpE5HUlWUl9HxNnugZrKe0YAP9Lk81DorIY1R4GAnnsbt4YT3jYxvE2nbZndRmdQpAk+nq+Tk12E5FltmAAbAMUedpnhDjGh25cO5akKZ3zurtfn+nV/QEBQCOtTZSmQsAY5va7hGq6x1VNo+JCqe9ZamUYNYH+tUu7ursOFpt0HENZ+LFVhtNzbiye4moPCNWOInDwsKIAbA/V9z4Prdv36bh4WERJW+k8PzC3TsyMaPshj7Wm/ITxfWTCzHH/UEEwDjuTz64RDNhJhFNjPcjFn5kxEv9eNFvXO87xNv5qlMM8DNgt+x0X2XAoYtjIIL/3Llzot96dHohfdqxEIGPPsJw8coaGYnJBpi+3i4lLaDcLbZBT2a8x1CJMZF0ZNVCHL+e6z0wMEClpaX0jW98g/793/9dzy68DSvACrACrAArwAqwAqwAK8AKsAKsACvACrACuhVgAKxbqpDckAFwSF42njQrwAoslwIyAAawffTokejpi7jmxsZGam1tJRkAaz+/du0ajYyM0KFDhwTsxb5xcXG0e/du4SQGMJYB8NmzZ8lkMgUNAOt1hwIC/vZyAw0MDlJRUTFlJcfR/opUER3rq+AileOZ0cv2cFUajU7OCFcwYA0qKhK9MNMoXifU1B5Tjq8FoEWFkTQvxPzmmGfoK8/u9jVNr59ffThEj2wTYhtAJTgp5X6p+B0iobcULgZqRg7421s9wmULABxna6SSfMkBLJc2jhk9eeEEToo1+TzMlbYh6hiS5m40tlYeHDHeF1psIsZXLkRgby1KJrvNSnfv3hXzzc7O9jmflbBBKEZA+wOA8Zzh2VBfN08x4GoAvLkwkYpT/Y+ARt9vjHfrfoN4XwEAw/Fa27OwkOELazMMx5lr7x31uwWf9TgmKM0SJfp/a53qeu47GQCbEjOoLzxVxFWj0B99f3kqXWwZUtIL8LwX6dAICQjQYlZ61YmxDlSkLXl3ttsktz0q1WKig5VpeqasbNPX10fl5eX0p3/6p/STn/zE0L68MSvACrACrAArwAqwAqwAK8AKsAKsACvACrACvhRgAOxLodD+nAFwaF8/nj0rwAo8ZgV8AWAAXYBdGfLu37+fzGYzyQC4pqaGbty4IWaZmZlJGzZsUADwpk2bKD09ndwB4K1bt1JycrJfDuBLrTbqsk+KY/oCJufvNNLZui4BgAG2EeW6rWhxZLQ7iT31GQZUPte8AEYQbwzoAbhptE41DJJ1TIq3RXytHAULADwzM02v7ttI5QbiWrXH1+pUmm4Rbj11P8+i1BjaXGAcAuO++c2tXnFIAOCEoUYqzM2i6urqRdNQ64gPEKe9uzTFp3PayDX2pvvE9KwAYDZVjHCKxURViXPUUHefAbDRm9bg9kYB8LBzWsDfiWkXeSQSENZTz+0zjVbDcNPdKUjwV3IcNzc3U1SUib6wY43oKfzunT5llxfXZfr1rMsDYAHGxRabEk8OZzz6Y9tc7wH0ADb6zAMAf3TyHHXMJVFGprSYAeNicQrcykhCkMffXry0H7ZWD2iBvsTyNcC7DQtg3Dmf1c83EgywwMNI9fb2UkVFBf35n/85/du//ZuRXXlbVoAVYAVYAVaAFWAFWAFWgBVgBVgBVoAVYAV8KsAA2KdEIb0BA+CQvnw8eVaAFXjcCsgA+MGDB8J5KgPepqYmguNQBsDaz69fv052u1307gWAQJQzIkjXr19PnZ2ddP/+fZIBMOJJIyIiRKQxjoGxAgHAaujjy/WHPsan7rZRVEYxmaPNQk5f0BjbqN2rcI3uLFkAG1oHH2KgAT4idDiL1dfz2IMBGnZKEbc7S5IpPS6KTjdZ6V59i+gBXFZWJnr1+ttrWHYYY3w5+nVmbl4AKDkSFp+5i9b1dd9hnN/fdgHg+TlKtDVQgRsAjHEewSXYbleciXBg43zlyGt3x4Jzt2dYgvwb8hOoLF1/31LteJgrHMXyePh8fmqcLI522riWHcC+rnUgnxsBwLaxKdETWx3b7QuInm60EhZloNAbGK52o4VFAmdc8Bf7AgBXpkfTKwe20vTs3CIA/MWaTOHU9afgqj3XZCPcjygkCMChe6drRFmU4U8f4+GxCfq3Dy5TbHwiZWVlU2QEkglSKTFGctpr3zO5SdJ70F2p+6fjc7zS8G5Ld0Vga/fx9p7Uo1F3dzdVVVXRX/zFX9C//uu/6tmFt2EFWAFWgBVgBVgBVoAVYAVYAVaAFWAFWAFWQLcCDIB1SxWSGzIADsnLxpNmBViB5VRgcnJSQFl3ABjQNj4+fsnncAAPDQ2JHplr1qwRwFd2AOsBwFu2bKGUlBS/HMBGgAZ6Dje3tNJMegWNzEg9cNFCFC5U9Mf0VOoetnDJbilMWrTpg95Rut89ovxOr7NYPchHtf1KzO2+8hTRZxQ9SP/jk+s0OiEBYACYXaXJlJXgGdp4Ogc1HFNHvwJAXWi2Kc5J7F+aHksb8xN133aIwX7vruSMnJufo+ShBsrLWeoAlgdEr1BAWBf7IjC07cXJlJPo/rzONVmpL4i9XdEH9Xang1oGxsWURkdHqa+7k57ZWELrKwp1n/dnueGTHAHdPzJJF1uHRE9p+RkFDPUV6ax20fuzWALw92yzjRyuhRg49nRfM1VmxIoFLOr7HJ/5C4ARR366cVCB21gEsbc8hVItUSJqWV6Q4WtBi/b+A6A+8aCfbt57QImJSZSdnbXk3fZJXb/Su3xPmff3nrr3No7lq2dwXc+IEpHtzzuwq6tLuPC/+c1v0r/8y798lo8XH5sVYAVYAVaAFWAFWAFWgBVgBVgBVoAVYAWeQAUYAD+BF1V1SgyAn+zry2fHCrACQVBADYD37dtHMTExwgWH/2QAXF9fT4Cp8ucXLlwQEA2uX8RAHz16VAHA+KP+vXv3aOPGjZSRkUHnz5+nsLAw4SZGr2DESQcCgD+430fOKSkidn+5Z3caPsec0ct43YZNdLVrUgBWFKKID1V67t97u3OYmvolWFieEUvr85bCUS0sqc6Ko9U58bqvCACq3E/4YGWqgEGo81du0NVOJxWWlIl/AxYB3MBpbKQQ44q+vyht9CvA0YWWIcU96e083R0TOn54v198BACcam+gnGzPABjbIf72MiCfiwIDbsO1mZ+81LUZrGhf7dzhWEQfZ5tjlAYH+qkoJ4P2rc4XfYaNOriNXItgbPukAuCe4Qm63Dak9Jv1dl9odVTHGxsFwHj2AF9lFz7Grs6OI1vzbYqNlQAw4pA/uCfd56hX1mcZvk/wrJxqHFTeWdKijgUQ6y/ExqIGPMPdQ+PU3NwkAPDzWytFbLW69L4vtT279SwKudvloIa+MXE4HBfQ3kihX/zq1avpW9/6Fr399ttGduVtWQFWgBVgBVgBVoAVYAVYAVaAFWAFWAFWgBXwqQADYJ8ShfQGDIBD+vLx5FkBVmA5FAAAlgHv3r17BfzwBoDn5uYE1EUdOnSITCYTffLJJ34BYMRHI+4YUdJ6C9HDMkQ8sipNiTp1t78MgDdv3kxzkTEEV6y8b7w5kg5VprqNdFXDXU9gVwCYZpviVMXx1U5bX+fzu9s9CvRSn8fNmzdpwDFOzpRyxREpx8XKsa6+xsbnn9QNiJ6mqN2lyZStcdsCAiMmWu4Piu3QfxSxu75qdHKGPq4dEJsBAKcPN4jFANoewNpxENeLeOdpl9MTn7uLvQ0E7PmaO3S/2NhPtqEhqspLpZLsNEqONYm4bdwTK7WeRACMOPVrD+2LnOGIB9freD9ZP6j0d9bT31a+toC/6OVtH5eeD5T8nOPdJgNg9UIHbPPqhiwKR4SAzsJx4PwdmZAWnqC08/S2UMPbYW48slPboFOkKAAA1xSm0Qs71y7ZRb3QBO+7FNdCE/WGWJyB53JeMmCLOHo4lH2d662OYWp2ueorMi1Uk+v73aE+LlIn1q5dS3/5l39JP/7xj3WqypuxAqwAK8AKsAKsACvACrACrAArwAqwAqwAK6BPAQbA+nQK1a0YAIfqleN5swKswLIpAADc0NBA6JcrA2DAJvQB3rlzJyUkJCifw8ULd+/w8LBw9T799NNinnAAp6enC9cv+jrevXuXNmzYIKAw3MKIit6zZ4/iAAaQTU1NFf2DjQBgde9ZHPcLazMoxiRFO7srAAacC46H89D2781JRH/fZHEu6rrUaqMuu9SD1lvPYEDUU41WJUIW7j64dRHn7K0Aj397S+qhi3p+TQbFRknnAQDsdDqpomYLnW+2KXAsJiqcDlakKdv5ukHg0JUdz3LEtHYfAYGbbApEw+eVmRZa5wPkDDun6diDQTFcOM1Tsr1eFwDG9nAl47xk9zN+V5OXQBUZC31+1VBsR0kS5SUZ7+3qSR/ES9d1WulWczeV5qRScXaa2BROa/QbLkpd7KD0pfNyfR6KAPjWrVvkcDhEcoC2WgfH6eajYeXX6F27G72wfTw76nH8gadTAv7aFHc8xqvKtNBa1z0PAGyxWMS7bGxyhj5yLXTAdl/amK37cuPZOtu0+DjuFjsYibSXD17fO0r3XBH0s7MzNNTRTAeqs0U/XW35WjCDRSJYcCEvysB7CKDY7OW9Kh9Dz0IZb4LhOwcJEn/1V39Fb731lm5teUNWgBVgBVgBVoAVYAVYAVaAFWAFWAFWgBVgBfQowABYj0qhuw0D4NC9djxzVoAVWCYFvAHgHTt2UGJiogKACwoKBMRFTDT2O3LkiJilXgCMyM/a2loBZP0BwEYjWbUAGHNF71708JXLncNX3ZfTHbRRXxpAIkDgiWkplhrx0gcr0yjBi5sUcOjdO1IPXdRL6zIpKjJc/AwAPD4+LoB5p91JV9rsijMv3hxBByrSKNq1rbdbxFPEtHYfd0BsVVYcrfESZw2IC/iGwlQSbQ90A2DsA4AMCCdrht+tzo6j6mwpQvvogwEFqrtzLwfyaCBe+mGfjR51dFJpfjZFWRbH1qKXKfohm9CoeAWVDIC3b98uHKqhUJ4AsDZuGPczrrM7d6q38zS6UMDdva5d8KAGwGqnO9aIvLZBHwCeRZ/tFpvS2xfngOcJz5W21E79PWW+3c/aRSyJ0WEU3ltH+Xm5VFlZuWT839zqUd4fz65Op7joBZc73kMnG6xKUgAWQRyoSKWkWJOu2wvR3Z1DE2JbxKhXuTk/bwMhnn/9+vX05ptv0g9/+ENdx+SNWAFWgBVgBVgBVoAVYAVYAVaAFWAFWAFWgBXQqwADYL1KheZ2DIBD87rxrFkBVmAZFVADYEBHuN/wh/nGxkaSATB+xu9QcNJGR0fT4OCg4gA+duyYALromyk7gPGHfcQCwwGM2Gi4i2UAjO3S0tIMO4AXnKfzIlb1f+7M96qUDIBxPIBsFNzIl1qHqHtYcviitC5To85C69iUcNLK8dKW6Ag6WOHZRectWvbTTz+lsbExAYBRWqck4orh6PUFKH05/9TCuY3EzY6j1S4gqxUZUc6I00ZFRxDFWR8Itzf6eeotwDVA4LHJhXhcOUb249p+GnX9Ho7qrATvjmq9x8R26Ln6qH+IOjs76ekNxZSTlUWI052aceXfElFcdISIhDYKJI3Mw+i2oQqAR0ZGxLMvV233CNWpFmCYTeG0tyzFa5S7J62O1w8oMc5w8ucmmT3K6s7t7i62WA2AHRMzdLROijrHeoBX1vsGwHD3X2kbUhIEsK+3aPWPavuVZwA6ZHq51/HcIbp6VlprIu7T3cUJdP3KJcrNXQqAvSUN4D14sXWIelTvQSMx2jg+nPyIj0bBPV+WvuDi13N/455GUsRf//Vf0z//8z/r2YW3YQVYAVaAFWAFWAFWgBVgBVgBVoAVYAVYAVZAtwIMgHVLFZIbMgAOycvGk2YFWIHlVAAAWAa8iHiOi4tbAoDlHsHh4eEiFhrbDwwMuAXAPT09dOfOHeHsAgC+ePGi6FMJCATodv/+fQGK/QHAAyOTwm3bNjgu4o2/ti1PwBVPBbcy+hmrATC2ded8O1iZqkAofwBkl31CgGW5UiwAtakiWlhbarCEj19VOQu1ABj7wrEM57JcGfFRtLs0hSLcjC1v886nPcr2WuefO70AgeF8HnYu9EX15Frsc0wKeIuKNYVTzECtYQCMfXENMY7cqxi/K0mLpR7HBDmnJMrlKb7a32cEcL9zQALAz24soU2VhWIeVx/aCYBNLkiL80c0tTYi3N9jB7JfqANgAMc7XQ5q6h9XZMBCCUBPtSvViEbq+ORdpcmUo+lzLY/lvt91LK3PW+z+xvbnzp0T70BEQKujzvEcv7w+y+f01LHI2LgoNYY2FyR6vIc+uN+n3Otw36bFRbk9Bp6RU42DykIFuKaxfVTYrHjH5uXlUUVFxaJ9tUkDL67LVNID9CQh+DrZ397qEYte0CvYSP9zeVy0GcC7+Tvf+Q790z/9k6/D8eesACvACrACrAArwAqwAqwAK8AKsAKsACvAChhSgAGwIblCbmMGwCF3yXjCrAArsNwKAADjD/EATDIARm9G9AVG3GxSUpJw8Y6OjlJpaSmVl5cTol37+/sVAHz8+HFKTk4W0c69vb10+/Zt0dsxOzvbLQAGXEHPYKM9gBF/+t83u8k6Oi164VZnx9GukmTK9gB+PAFgaKztfQkYdahSilfWG5+svVbaaFs4EncUJy2BP7axKRG9isLxAGbkcgeA8dntTsCzMWU7T2NjA6O9kuVBJ6Zn6UzTYiDrrgdyz/AEXWiRYHdcdDhF9/kHgLG/O/dxl91JOUlmCiMpktYTFPPnWQE07B60CwD83MYS2lhZKIaBWxKgHf/N///svQdwXNd5/v2gY9F7JRpRCBIkQVLspERSFKluVcdNjlsc+3M+R27xZBIn+adNxrHzt6Nxxv4SO26xk7jKkizZskSJvXcSJAii945dtEX/5jl3z+LuYjsgiaTfd4YjaPfec899bsEMfud53nkzsHJkbi5KDqgnaijzCXSf2xkA081+psWKpv5x5+kmxkYq+Kt7Xweqg3m7QKLCCUHpVO0fnXLuWpYZh/UFC+EvNzAD4KGxKfzOEXXOaPfHq30D4EvtNtR2zz+j7DG+bXmqAqTeKpB3DZ8ROte1K56LE7i4hM8F39/eADCf5xcv9zgPTYBNkB1oL3Rf16RlYBzfO9GG8HCgNCNeRXgXpAbXq5sLifg74wtf+AK+8pWvhHILyD6igCggCogCooAoIAqIAqKAKCAKiAKigCggCnhVQADwnX1zCAC+s6+vnJ0oIAosgQK+APCWLVtgt9uVo5e1Y8cOJCYmKgDc3d2NBx54QH3uCwAfO3YMU1NT2LVrF9rb23H58mXlrgsFAN/sHcWppiFc7x5FbGS4cv8SaOyuSAejkd1LA2AejyDbvbpsdhy+Oe/apbOWkcOMT551QMD7V2X67OfrPua5Vivqe+ddju49Rrl9z/AEDtY5HLTREXh4dZZzGAJgwnZzbC6/pIPydLMVzQPzEI1uWfYodi8CI4IlXY9XZ/uNjNbbss8y9QvHiwAAIABJREFUncCM2NblDoHZm/h4w5D6OtkSgcjOKyE5gPX47pDuYpsNCbERKEmPw/6VmR6vbai3PnuudvUbAPiRu5ZjXYUBgHXRZX6yecjpyuTnjCneVJSypFHUwc7/dgXAVtswYgrXOHvF8rz5rPI5C6SXtS+dzP1zPfWK5n3FhQpmZ3dpZpzq8eytCID5jmM0sa+FGu77uy/+IJzlOXpKADDv+/zFLkzNGC+bfZUZC/rvsp8wn0czwDZHNfsCwO5R80+vz8HQ+DTYB1vH1SdZIlVcvb9IefdnhM79yx3Dqo93siUSH9m2DDlJ3iO4PenNZInNmzfji1/8Ir785S8H+0g4t2d8NBcp8XcLFybxdxbTJ3bv3q3G9hZN/4Mf/ADf+MY3UFNTg+joaLXg6Utf+pJKuZASBUQBUUAUEAVEAVFAFBAFRAFRQBQQBUSB218BAcC3/zX0dQYCgO/s6ytnJwqIAkuggBkAa8Db1NQE/nGeMc6MbGYPX/7zBYAJWDdt2uR0AK9duxZ5eXnwBoDZM5iws7/fcMLq8hW32zICtI2Gge1hbZNApsNwFh0OrE0HYiNdnXaEppw3o6s5rqex20aAJke6Mo162Rage56xYnMWEB3heV9P86aTtGYAGJyYt5GWp4QjN35+bv32OVwdML6PjwQ2Zkc4h+L14JwtFsuC+Rpjz2HAzn2N8QoTw1CSHO6ioX16Dqe6HY1CAdydH+HiQvQXaTw5A1zonYEpDRplKeFYlmjo2D06i2sDBiBOig5DaewooqKiEBcX5zcu2duxCbqu9M1gYGIONwamwTOMiwzDo6UxSI+b18f9lvd3Lu7fH2ufxIh9CuPj49i8LB55qXELnqLJmTlc759G7/i8htyoKCkCpamRTi19HTvYefm7/202G9hPl72WqbWneivm429e/N7bcdvaO3CpdwoRCRnO6aZawrEh1wI6an3tG4h+h5pGMOqICt+YH4dMPkyO+fB+Ot0+hoHx+YUMhclRqMqKVe8Db8U0hNjYWBQWFipYeqzFcPTyHXBfWZLHc20ZmsTlrnFoo29STAS2FiY4z9GXhq/UDmF2ztBi1/JEJLKptqP4/jrfMY7O4flo8spMC8oy5kErF9fwXc1Ifb5vzTUyOYs3661OTfaVJ+Nwow3jU8Z9HR0RjruXJyE+2vPz5ekaDE/M4EijTQHkq11j6jktz4jFvWUpSI+P8vn8czzew1zMwGK7gD//8z/HI488gk9/+tPOffW7mr9TiouLvV4r/QXPnX3T+TuHvZBZV69eVa0KCHaff/55PPjggy7jMHb6a1/7mnrP7t+/X0Hj119/XS20+elPf4onnnjC73FlA1FAFBAFRAFRQBQQBUQBUUAUEAVEAVFAFLi1FRAAfGtfn8XOTgDwYhWU/UUBUeCOV4DAkX1y+c8dACclJYHgiVHO/GO9/p4Rz4x6vv/++9Uf7V977TUkJycrAExnMB3CGgAfP35cxZTSjdXR0YFLly4pd93Y2JiKmabbjsBFF/8A762u90+hfdiAF8kxYbBNzCkAwUqICsP67AgXxx3/qM/j8BiRkQYcci8er6Z/Gt2jxkgEG0yL5fgswlNvvXa9zZVjnO+ZwciUMSZHWpMRjrRYAzx1j83iWr8BphKjw7Ahax7AEEyyZ3J8vOfexgRbl/pmYZuc16k0OQz5CfNQi1DsTI/j2GHA3XnGd760df+OEPly/xy0EZiXpSwZCmR3jc2hzjAAIzl6DpVJ0wqqRUR4Bkm+jmueF13X14eA0z1wXtfypDlUpwPxnplnUOfEY53pDYODGaIqdQ7JnluuqnPrHOPigDDnXIz7DKhImkOs59vJ4z32+/jh9CxwbSgMw/PJy0iJBlakzMHBfhcty7m+MOf9uSplDikxxpA01PLYXCSiK8syh9JEwurAD8v9rwwaO3CRycbMhe+mfjtQa50fNDYCWJ06By9MdcHBj3XP77sh3fW+ah4G2sfmv+c5lCUFPn++xy4OGPvzDcBnyHw9zJoFMioXhlweNBbgsBptYciJm4MlEqhOm/P6jJrHpkv3r/7qrwI5HJ5++mkFY/0VI7DZS9j8e4T7fPOb38SnPvUpBcaZBqHfTwcOHMDevXvBRUj8/cS2Biz+zN9ThMJsg8C2BlKigCggCogCooAoIAqIAqKAKCAKiAKigChw+yogAPj2vXaBzFwAcCAqyTaigCjwe60A4SwdWXS+MfqS0Fc7gClMQUGB+sO6+XtPAJj7Mc4zEAC8atUq5VqLiYlRcdB0aflz/HEuxxoG0T5kV9eLscSMLT3bYjjcWOzXyihY3XOztbVVzZvA2dcf8wlsGYs6ODYF9s2s6RoBo5sTYyLx1PrckO4Pxq++XtunIlJZkRFhKmo12RKFhr4x57yzE6NxT3m68xiE53TJuUdAmycxOT2LN+v6YTVZdDcXp6AozbBE8zxeC6J3qbcT5Dm8caMf/K8uRk7TiXy+1aY+ykmMxlTrRWRlZWH16tUhaWXeaWZ2Fv/39UZn5O2avETVJ3ZjUXLQPUY9TebFy93oH7KpCOjHNy1HVWnhgs3MwJp9YBkJrSOxueQgKjwMGwqSPM4nGMjufmBf+/KZ5Jz5vBBQBbrvWzUfX+MOT0zjZJMNdS3tmJycVG7a/KRo3FWQ6Hw2l2Jer9UNOe/NrYWJyEyIUgs4TrcMo3d02ilRQUo0qnN9u9P1fAgo6WRnv/O+0Skcbx5WPaEtUeG4r9w1Oprfn2wZUc8Di5HWO4oSXPoa+zvPl7jiwVF7S5PUcbiP4Sqej5LPiI/EpmXxSj/zmHQAc/FOWlqacoez9PeD49M47nAw94xMIysh0tnfemVWDEpSHcTcdDN5my8XnpxoHYXVsSKE29kmZpFM4k33ckkCLG4JDOZ7VI/LhUSvvPKKmiPfc6+++qrSmouJ9Db6v5WVlXjyyScX9U4h3KU+dATz9w7r4Ycfxssvv6wcwJ/5zGdcxn/22Wfx3HPP4atf/So+//nPL+rYsrMoIAqIAqKAKCAKiAKigCggCogCooAoIAq8swoIAH5n9X+rjy4A+K1WWMYXBUSB214BAhr+gdwMeOnMpQOK4Pfuu+9WQNj8PXsC8w/5jM6k85PRmXTZEgCzByOjndesWaPiOOmqohN3z549TgdwQkKC6nNLmMWf6cwKBAATRup+npuKklGcHofL7TbVE1iXuS8ugRljQP0BYO5LyEloyr6fHI8RtdXLkvB0iACYYxLEmvttWqLDsXdFBloGxnGp3cidzk+Jwfblac75EwDTdc2eyb6KvXqpx6jDjhceBmxfnorc5FilEb9jsX/to2sMMBRKjUxMq37FZgicnhCF/hHD2sn525suLBkAJsBjD+Yu24SC/Rr081iE8gTCgdwr3s71V5e6MGgdVjD1yS1lWLW8wK8snNOFNisa+0zZ4ACK0y1YX5Dst8+r3wMEsMHt0gO4w2pXfbqvdY2gtbMHU9PTeHJbJdhLWy/MCOB0A9rk5as9zvt/V3ka0uOjcbRhEN22Cef+XBTBd0Wg98zBgwfVIhi+MzgOe92yEmIi8GDVfK9uvicO3hzAtKN/L98XexwLPAKavCNtgPe6rkfWZMESFaHu/SP1A05Yyx67HNtTn14mBvAdy4U62smqx9O9xntHJtSYa/IM+zDvW/a0DrQIZI83cvHNvK4rc+JxrWv+vfuutdlB93RmGsTOnTtV392///u/D3Q6QW1HiMzfZ/z9VVZWpn4XMVqaC5+4QGjZsmUu4x0+fFgtvuH798033wzqWLKxKCAKiAKigCggCogCooAoIAqIAqKAKCAK3FoKCAC+ta7HUs9GAPBSKyrjiQKiwB2ngBkAb9u2TQFZQhB+TscU3XvaIczvGfXsCQBzvy1btiwAwCdOnFD9VgmACY25L4t/eF+xYgXoYAsUAP+mpsfpxKTTl7CTcOJE0xDaBg1nMIvQcEV2goJ8gQJg7kdw+sKlLtzoMZx3afFR+Oy9JR7BS6A3QqfVrqCUTrZOjYtCZmI0bjigNQEV3bu6AgXA3H7YPq2cwE6XcXgY7i5LUy7Iw17AVaDzNm9HCEygrI/Dc4qJCkdaXDQKUmMx1nh+yQAw3c2/utStDm+zTyuH4Zyj3zE/o8t7a3EKoiO993H1dY6/vNgFq80AwE9vLUNliX8ArMdrHRxXzu0pB/Tj54mxkWo+KXFeMqpDEdzDPrc6AFZR6l0jqOkcUbO/3k0A3IvEyGk8+8hGFKYt7LW8WGl+faXHuTCB74ObvWMKdOoqTIvF5qKUgOEv9+O7j+849j/vstlx+OagGo7X+YFVmc77kgs7JphzTXe/47nLSPCRJ+7hZKdmZvH8ReNeZz22Nhtc2HHgRr8TLHMBBxeN0AXvqTQA5nuagNNcfE5fqelFXc+ogrNVuYnqnba7PN1rrL2nY1xstznfV/y+NDMOldkJoP66nlyXE9SY3I9JEoStjIT+u7/7u8XeDgv2/8EPfoAPfehDqKiowLVr19RiJR6TcD8zM1P9rnIv9hLm7zImRgwMGPBfShQQBUQBUUAUEAVEAVFAFBAFRAFRQBQQBW5PBQQA357XLdBZCwAOVCnZThQQBX5vFSDoJVwiKCXgbW9vV/0SWezpyz6JDQ0Nzu8JR+jcYj/fffv2KXjLnorsWUsA3Nvbi7Nnz6o4YEJeMwDmuDU1NYiKilLOYrryggHAdG9OThtxq3tXpCMt3gAuBJ6H6vqdscH8bGtJCsJG+9W8CXMYkRpIHa0fwIuXDTBA6HJPWZqCqt76AAcy5s3eUWdkMrdnzDTBDrsDE6ZsKJiPliWgsFqtfh3A+rjKZVw3D4zoRKzMjsflDgPE0T24f6UBrhZTZthMZ2738IRyEm5YloThhqUDwARgLzn053z3rcxQjlJz3DXdmHQ7M0472PrFhU7YhkcUAP6DrWWoCAIA81ijE9NqwcEAG6w6iu7rtflJKM/y3Lc52Dl62v5WBsAEmbxGHdZ5+FrXO4opax+iMYln9m1akvhud11eutKN8clZFcHMe2JMN3dmdH1qrFpYEazr2AyACVCP1BsAOMkSiftXZirgbI5F57XfUZqKnKT5PuaBXm8C5Bccix24D13Sh272q3NiESzvrkgHF414K18AuLZ7BD881a5gclx0uHKr31eZoVzGgZb7uys3mYkFqRiZmMFva3rVMNQglKh8Lnah0/Zv/uZv8H/+z/8JdEpet/vKV76iop4JcQl8+TP7/77wwguqRzCLPz/22GMKAjOpwlMR/g4NDakkBiZbSIkCooAoIAqIAqKAKCAKiAKigCggCogCosDtqYAA4NvzugU6awHAgSol24kCosDvrQIEwAS8jMmkI5f/ZQ/MsbExbNy4ERkZGSoOmp9v3bpVxWcGA4BPnjyp/iBPBzCjSvlH9eLiYnWsmZkZ5TQOxAFMyPPz8/NxqQ+vznJxxRGmHKjtU2CCFREOrEiYRHdLfVAAuL53FC9c7ka3bVK5/iqy4lXM8daS+d7CodwsF9psyonHYgR0WDhQkGJRscaEh7qCBcDcj1GvdPzOGmxcQUqC4OjICOX4o4NwKYqO3IN1/bjZM4ru4UmEEX4tT0Vc79UlcwATsJmdhU+vz1GA/0yL1cXlTTgWSl/gn57rxOioAYDfs60c5cWuEbCB6MR78WrHsEv0OPfLS47BxqKUoKNwAznmrQqAeU8caxhwOvN5LomxEaCTu66hGZOTE28ZAGY/Zy4YaOgdU87whJhIJeWy1FhsCQH+cl8zAOZCB/YdZ6XEReKesnQFf7kYQhePU+jovR3IdTRvY77XZ+bmkBoXCdu48f7SzxZTDnwV39NcZOPuAObYvNcZxa2vyf9zd5Fz0Uwgc3VPL6AGdA8zipoR2K/XGjHz0ZFheGxtTiBDumxDALt792787d/+Lf76r/866P3dd7jvvvtUOwJdjMX+4Q9/6LKY5sc//jE+8IEPYMeOHThy5IjHY3LhEhdCcZFTbm5oPeAXfTIygCggCogCooAoIAqIAqKAKCAKiAKigCggCixaAQHAi5bwlh5AAPAtfXlkcqKAKHArKGAGwHTmMsq1pKRE9Uz0BoAvX76s/kDOP7hHRkbijTfegMViUYBYO4CrqqpUX0oNgFeuXOmMf167dq36w3owANjdGfrEupwFvVcJo9640ed0CY8NW5E50YGtGwN3ABOYXOmwoWlgHLOzAHsKs0oyLNhYGHjfTPdra+6j2dg/phykdCmyt+eq3HmXGQEw3WcEI8EUYRX7dDJqmlHWXcMTWKHgdSx2lacHM5TPba3jU/j+iTan2zM7MRqpo03YuDxLub4XW7yG3pyF17tGcLnD6J2si27n1QH2BeY1+Nn5LicAft/2cpQWBQ+A9bHZI/ZU85AzGpuf09nN/qo5STGLlcJl/1sRAPOe4/nrPricMB2ihKKH6gZw4Xr9WwqAuVCjpnMYQ2PTaiEFATDvd7r/g3X+arHZ95UO0OrqajDy+0TjkPqKUDsqPBwDY/PO7w0FSSjNDN31zWj1V672Yg5zqO8dQ5lprEDH1gC4qKgIpaWlaq5cDMNUAILx5gGjb/XGwmQ8vSFwmOmpf/m9FfNR1Ob+yPExEXjI1B850Bv/zJkzuPfee1X8M2Ogl6r4/uTvKI772muv4R/+4R/wl3/5l2r4H/3oR3jmmWdU72H2+/VU7F1P+CsAeKmuiIwjCogCooAoIAqIAqKAKCAKiAKigCggCrwzCggAfmd0f7uOKgD47VJajiMKiAK3rQLmCGieBMEHweyVK1dUbCZ7JWoHMCOeCUc8AeDY2FgVId3X1wf+YV8D4FOnTinXL/svclz+CwUAD41N4XfX+5TOkRFheKLas+Osd3gChxxuWBXj2deF9+9ejdyswGKQdb9LQpnRiRmnq5DHJWxcY3LrBnvR6WRl79AzzUMYGp9WLr8HqzKVs1AXeyQPDg4GDYC5f0PfmOpRS0dw66DdiLAuT1OuvaWsN2/0Kfcfe+ESdI50N6EiNwVP71oXMnjT8yNgfvWa9+vMvqyEcuY+vIH2Bab+v7xgBsBlKC0KvAewJw0Z53262Qq6JTknXtMwAEXpFuXs1q7Uxep/KwFg1e+3c0T1/DXXqpwErMpNUNHur1/ve0sBMK/lvx5oQO+IAWT5bFZkxy/aqe8JANPxzcjzXFPMc1Uuz3Vx8cB6sUPL4LhatKGj4Hke1QG+Z9wBMOO4+f7jAhP9HuBCk+plSdhZGlgMPt3Dr9f2zfcWjwjDvRXpLpHrZnd0qDHzp0+fxt69e10A7WKfE/P+bC/A30l0GnMhElsaSAT0UiosY4kCooAoIAqIAqKAKCAKiAKigCggCogCt7YCAoBv7euz2NkJAF6sgrK/KCAK3PEKEADzD+Td3d0q7pmuX8bjmgFwU1MTrl+/rnr8EgDzO27DP97TNUxoEhMT4wKAV61apWJJCYAJNAmN6FJrbm4OCQB32YyYYxb7fT7ow3FG15vqG2sdQldXF6pXlODh9UUBwcnTzUNo6jdcc+zpSicc4YyutfmJWJGdEPJ9QSfzvx1sdo7JPrqMsy5ItagxFwOAuT9dsgTlBDSswtRYfGxH4ZLGEp9oHASjsut6x5AWFwVbVxMSEhKxvrJE9QdlRGyoZY6WjYkMx7vWZi8Yis7Jow2DsI3PR/EG0heYcOz5i91OB/AHtpehZJEAmJPjvX2+zaYid+nAJgQmzKMMFVkJyp26GE14jFsFAFPDk01D6DT1++WCjM1FKcp9q+utBMB8ho7VD+INU+/rXeVpqoduqM5fPW8zADbeI4Oo7xvH9Mys87kvz4rDumXzfbtDvde52IE9etsG7epe4ZjUcBv7l/MmCqAYr0+4yXdrccly9VzQncviO5PwOi85VsVibytJ9Tsir++BG/3OZ4vTIDh2d7TrdywHTI+Pwr0hxMxz3uwj/4//+I/4i7/4C79zC2UD9gX+4he/qBzGdAQzYYH9f7mwqafH6PVuLuqZkJCgWh3w95aUKCAKiAKigCggCogCooAoIAqIAqKAKCAK3L4KCAC+fa9dIDMXAByISrKNKCAK/F4rMDAwoHohEmJpx68GwBs2bFC9XYMBwP39/aCzSwPgo0ePYnh4WP3Bnb0Vz58/jzVr1iAvLy+oCGgzcAikr+3VzmEcv96mADCPW1WYqaJ5/RX7mbYPGQCFsJcR0Oz7aTXBxk1FyShON6KhQ6kXLnXhVLNVRedyfJ4P4Qzhz2IBMOfzy4tdOOmIriWcofvv7rI0WKIiQpnugn20RjOzcwowNdy8oQAwo1PpBiQwovs4lCJsp94sxik/umYhAOZ3BFV03mrQzc/89QVmNO4Ll7oxOjaKttZWfHBnOYoKQo+ANp8fYd6vLnajZWgcYxMzWF8wDwgt0eFYm5cUcq9YHudWAMA8R/bE1X22OS/2ySb0T4o1+u/qMgDwTdXj+5l9m5wLHEK5J9x1PlI/CLpUL7bZVH/oFEsk/mhHITISohc7vFrMoiOgm/rH8LPznegbmVKLTrjwozAtVsHuQAGtrwmdb7Xif892qk147+5Zka7i2vlzoGUGwD3haS59sjmM7gvOhSb+3n98lo/cHFD9vXXdVZjsjME3z4kLQM612tRHdODfUxaYu9g8BnsX79+/H//0T/+EP//zPw/0lIPa7rvf/S4++tGP4pOf/CS++c1vYnx8XF3fiYkJtLa2qt8N5mIs9D333KP+sR+0lCggCogCooAoIAqIAqKAKCAKiAKigCggCty+CggAvn2vXSAzFwAciEqyjSggCvzeKjA7O6v+yM2IZtbmzZuRlpam+vsy5lkDYLp2r1275vz+6tWr6o/n7N8YHR2toAn/u337dmgAzJ6/BIIHDhwAj7Nr1y4Fguk2DgUA13aP4FK70f81LzkGOwKIM3357E2cu9GK/PxlytUVSGwrI5p7HY7fjUXJKEmPAx2H/FyDL7riCL3orAulflPTgx7bJG70jqA4LU5FqxLWbFueit6mWhDK79mzJ5Sh1T4XWq04UNevjpGZGI3CVIsCWIRLoYJZ82QYMatdhtXLEnHg6GnYIw0AzCK4vbs0DSlxUUGfQ7C9RY2eza59gVfmGNfaHdLpPtIaAP/hznIULhEANkeU2+xTyEqMcekNTCEIKNctS0JqCLq80wCY/XDPcNGCJooA8lNiFFT05G5+KwAwI40JoHX894U2m3KfMuL4vsrMkHR1v0HZz5zvQMbUv3SlG0fr53sAM6p9R2nqol3GPCbj2g/W9aO2e1RNISE2Al/YuxyxQS7S0AB4NC4X9uj5BS7UhM9hXc+YGr80M84ZMe3toTSnH3AbPkfsr+2pzP24A3UXu49z7NgxPPDAA/jyl7+sXLpvRX34wx/G97//fdAJ/IUvfEEd4qGHHsIrr7yCr33ta/jMZz7jcthnn30Wzz33HP75n/8Zf/Znf/ZWTEnGFAVEAVFAFBAFRAFRQBQQBUQBUUAUEAVEgbdJAQHAb5PQ79BhBAC/Q8LLYUUBUeD2UIARmMePH0d6eroCt+yRyJ87Ojpw6dIlFZWZnZ2tYpsJgPX37gCYEJlR0ATAhJeMfSYAJpxoaWlRIO7+++9XkZsEwKtXr1awkP2A6RCMiIjw66i73G7DdQcsKcmwYGOhfzdvW3sHfnG8FolZBgBmbSlO8enEfPVar9PtS8irY20ZO0xnqn1qVo3DyFZCzszEmKAv9ouXu9U4dDFynJhIwy1LCJw60Y2w8cFFAeAzLUNo7BtHh9WuIon1OdCJSojl7tYM9gSog47Fphu6/sIJ2KJSMZ0w35eZscCMss0x9U0N5DjspUuHJ4vu0gdW+e/dzH0YS2zuC8zI2q0lrnCSev/6So/TAfzhu8sXOAADmaOnbRgV/pqjR3V0ZBgeqspScI8LF0zMVO1K1zfBGiOuA613CgAzGYCAXT97er4E7ASE3pywSw2AmQDA3tlmLftHJ5Eeb7h+91VmhLTgwF1/AuDUtDSMJxXifIsVLYNGlDoh5yfvLgrKnevt2jb2jymYPmyfxo2eUfB+oUv/qXW5gd4Ozu34jv3J6ydhj81ARobxrPDeJ6gmIK/vNQCwv77CNZ3DuNo539PZn9OZ9wQXX7ACcRd7OjEmTxDGLga20rHL31dPPfUUIiPnXejs//utb31LAV62J6itrUVBgdHv+7XXXlPR0/xdx99/5eXl6nP+zIU33J5977kQQEoUEAVEAVFAFBAFRAFRQBQQBUQBUUAUEAVuXwUEAN++1y6QmQsADkQl2UYUEAV+rxUglB0aGnIBvO4AmBC3pqbGCYD5Mz/TDmACYP7xfceOHU4AzP6/3Iaf0wHMqM/e3l6cPXs2JABsdqdVZsdjTX6S3+vW2dmJy1evwZpYBEQZkc2ErIwr9QZu6fobnzQg7+5y1+3o8nyzrt8JGqMiwrC7PD1o8PSLC52YMQ6BzUXJqn+shpcd7W0oiBrBkw+E7gA+2TSIlgEDXNH5a47sXYw7VwtO0EngySJkrTt/XEV8x+eW4lyrVUFnlu6FS+AZaLUNjeN4g+G6TImLxL5K/wCY2xKmsf8p/6vLvS8wIf4rV3udAPgj91Q4XcuBzs/bdoSRB2oXRlfzmJfabc5Ycb0/752q3ETlzAykb+07AYAnp2dxomnI6fbm3DlvLqLI9eN+5z1yUUVAT+GZfRsXFQHtDie5aGJzcQpON807kvevzFBO+sXWawfeQMdMEizpeaDjuHXQrty5jDXns77YYqw0o8tZjNQm2CaczUyIxgOrsoIe/kJjD146cVXBTAJgOqLvccRIm9+Zq+iK9+LmbRkYVwsodNGpzndkhI8o6gttVqe7ONSeyIS3Dz/8ML761a/i85//fNDnzh2+973v4SMf+YjqX88WBtShr69PJVjw/R8bG6scwH/wB3/gMj7B8L/+678iLi5OwWAuRPrd736nflf95Cc/UUDKLq73AAAgAElEQVRZShQQBUQBUUAUEAVEAVFAFBAFRAFRQBQQBW5vBQQA397Xz9/sBQD7U0i+FwVEgd97BfiHbzp8CXU3btyo/pCuAfC6deuQk5OjQK4nAKzdUocOHVIuXgLgwcFBnDx5UkVCT09PIykpSUU/84/sZgDM3ov8PlAH8JH6AXRaJ1Qc84aCJKzOCwwA07m8fMUqXOoPA3vAsui421OR4dEJ+8sLXc6YW09Qic7XQzf7nQCXQHVPRToSYlx7oHq7sdhn8+fnu5xfP7w6S50TY5XZE7i9vQ1jo6P42EPbVG/NUOpo/QA6rEYfYzoLI8Lg7NfJzwjx2BNYuyeDPcZvr/XC5uiJvLM0FdfOHlMAmNHedOOeaBxyiQr2FSXrfmwzjAqk17N5f6Mv8JALbKUTmS7lZSkWBdxevdanAHB7ays+vIQA2Ny7mE7rR1a79i7usk0oR6YZUHPuSZZIrMtP8nut324ATK0I1EcnZpwSc67bS1KVM9tfLQUA5rNytsWKpv5x5+Homqa7lfeuv2fV3xzdv+f9883nD2I2OkHFxncPT8Bmn0ZpRpyKmd6+fHGOUHMfcx6bzz0XScRGRqje2ftXBrbYQc+bMPnIjR40NTUiPSMDpctyFKSOdjjLjzcOOnsCr8lLRGWOkYJgrt7hCfXu0c7qxNgI9W705043w+Vgnm/zsfl745FHHsG//Mu/4HOf+1ywl0ttT6fut7/9bdXKoKGhQcFf/u4pLi5WC5T+9E//FGVlZR7HJjz+xje+oRY/McFi69at+NKXvoSdO3eGNBfZSRQQBUQBUUAUEAVEAVFAFBAFRAFRQBQQBW4tBQQA31rXY6lnIwB4qRWV8UQBUeCOU4AAloCXsc4aANM5dfHiRWgAzH6/5u+1A3j37t3KYcU/5IeHh6s/nGsATKEqKirU/zNemg5g/nH+zJkzqKqqUnGcjICemJgIKAKakbItg+O42Tuq4O/T63M89h41X6Curi4FrgkmwyzJLuCW7tB7V7iCjpnZOfzigiuc9dQzl9HK7EWqna7xMYQm6bAE0L+TEPqFS93OaT5ena3OgwDxcP0AmltaMTIygqqVKxXoYi/ZYIu9RXuGJ9VudxUmq8hhwidCGz3nyPCwkMd/+WqPEwzSKVhz9phaOECdWXQHE9jruGx+VpRmAXsq+3O76nhc7kNX5O6K4FyXjCxmNK05zpZj0QHJ3tGv1fYrANzZ1oo/vHvpHMB0ix6sG1Dnz3uGYN+9CDRv9o6BjlZzXDW3Y0x3dX4i4r0sJHg7AbDnfr+xCqR76vfr6f5cLAAmjD3eMIhux33MYxBO0omrF1uYnfT3r8pcVLQ5n8vDNwdw4vwVJCTEKwDM68XiPRtqn1utDRc2nDI9f1w4UpoZj6uO/tVpcVHYW5kR8KPePmQHAa/dPqEA8LKcTLxn50qXd5BeNMNB2Xu6PCveZXzC7Tdu9GFy2jhPQt97VwS2mIX79Y0YKQDe4LK/kyG0ffTRRz324vW3r3wvCogCooAoIAqIAqKAKCAKiAKigCggCogCooA/BQQA+1Po9v5eAPDtff1k9qKAKPA2KGAGwIzQpJOT4PTChQuorq5Gbm4u3AEwHVN0DWsAzChP9gIlAG5vb1fxm+yjuGvXLpw/f35JAPDPznfifKtVOW8rsuJVdC5hkK+YUjMA5nkRbNGdqotxqbvK051j0JH30uUe5/dPrMvx2vPTHOXKHejgM7vvvF06HUOsvyfI1n1UCYH/++AlWG3DWLGiUh2bDttg+wy/XtuHgVEDzph7HhManWgcdLr9GKW7tSQVeX7ifN3PRfcw5ucE35dPH1XRq2vXrnVuyn67BNraKcwvshKjwb7KviBife+o061MBzQBcyjlqS8wob/VPg37+Bi62lvxwZ1LB4Dp8CVAZPE4D1Z5j/O1T83gSuew6tNsLl6PFVkJWJGTsOC+ezsAMIHn5Y5h3HD02tZzCwXwLQYAe7p3GEu8Y3mq093Kuf38fKfzXmav6ECcyZ7uJR6PLli6s2trr6t+4TvWliuQX+Poi0sHMJ+VUIrvHUYs68UXhL+8r7lQQsdB8/z4LAVSXGxAuMt3oX3Cjo6WJjyyvhBVFaUuu3taCKI34D144Ea/cyEH7z32B+c8/BXd4f/f4WaEh4epfup3FSQrmB1ssd/yY489hq9//et49tlng91dthcFRAFRQBQQBUQBUUAUEAVEAVFAFBAFRAFRwKcCAoDv7BtEAPCdfX3l7EQBUWAJFCAAJuC9cuWK6qHoCQC3tbW5fO8NAG/fvh1Hjx7F6OgoioqKsHLlSpw7d05FP99///0KBJ8+fRqrVq0CewTTAczj0z2sIainUyKYojOXDuAe2ySqchMQGxWhXJPbSlK87qsB8OrVq5GVZQC5610jCnLpItghJOXxdUQwvyMQeXJdrk+Fa7tHcKl9fizCE0YrE9x6K/YR/t31PvU1o5gfr85x2fTQ6YsK7pRXVKrPORbHDATM6IHMEc10EZsBL0ElnZXTjsxXTpX9VAtSLQHfTc9f7HI6WPdVZuD8ySMLADAHo4uTTmntRuZnjBG+uzRNwTVPVdczqqKSWXTs7igNDQBzfzoceXwdu0z4Tid0bhww1NOOZ5YQABM4H6kfVPMmiCSQ9FcEgFzU0O+A9Xp7arM2P9HlmrzVAJgO2JONro5b3p/s8ZyTFOvvVBZ8HyoA9uQeL0yLxcbClAWLPbgoREPVB6syA45hN0+W9wThr466JgBemZeCJ+9Z5+Ikp4Odz0mw5Q5/6bLdVZ6m+hU39I2piGsWF0dwMYq/oj7sQ864eNbM1ATihxqwZsVyFXtsrgO1fc57y7wQhM8+4bBeJMJ9eJ0DeQdQrzdu9KtnlJoxpv29d+UpEBxsHThwAI8//jiee+45fPrTnw52d9leFBAFRAFRQBQQBUQBUUAUEAVEAVFAFBAFRAGfCggAvrNvEAHAd/b1lbMTBUSBJVDADIA3bNigQKl2ANPRmZeXB3cAfP36dTQ1NSmHr8ViwZEjR8DoXfb1ra2tVbNi/PPy5cuXBADToffrK3Tmzql+oIWpFuU+Y5VkWBQc8lTd3d0qutoMgLndmZYhF/dlZXY81uQnqRhmwg0WXXqPrnHt4+rpGJfbbbhuckzmJscol6u3qGP23HzTERXsqVcs3dN1bb1A7kpnn2H2saVjMNCeveaIZsIm9xhpnichszmGWEdFB3JLmZ2XjN49e/ywRwDMsQjvzzRbFXjVRW3p3k6Ni1pwODOgX2zsLgcnhD7VNKR6IhME3+gZxfT0JCz2fnxyz9I5gOmuJmxmBdvPldpcare5RGZzHEZgM7o3JS4KbyUAJlTk3Pmc6eI58D4OtLe1+4U0A+AP7t+oejD7K2/9o7ngw9MCkZ+e63QO+VBVptf4bG/H5YIPwl9zVPlY2zVsKDH6WTOeuaZrRO1enG7BpqLgAHDbkJE4oCG1Gf5yTMbZn281FjvkJMWohR6+igsa3rzR7+xlzsUh63Oi0VBzQb1r3QHw7673YmhsWg3Ja8kFM3xPMzq6fcjoEc7iYoMV2Qv7A7vPhQkJPP7IxAyudg6reTBe/pHVWcgNMkWAY7/22mt48sknVR/eP/mTP/F3e8j3ooAoIAqIAqKAKCAKiAKigCggCogCooAoIAoEpYAA4KDkuu02FgB8210ymbAoIAq83QoQABPwEjxqAExwyuhmDYB1rLP+3hMAnp6eVm7e6Oho2O12JwDmOBzvgQcecDqA6QymQzhQB3D/6CQO1Bpglq5EumE7rfMAQwNcd+28AWBCSbo1u23zYxCAEtBoiEen6v0r/bs4eUx3oEy3IPuleoJW7B981OEU9XQMXgc6pldt3IFjDUbMqz5vQuC0eP8RrewxTDjDYk9PT+CY0I+RxXo7blu9LEnFa/sqavfz8659kk8ePeQVAOuxzDCNnxFe0XXoDo7YH1f37w3Vdek+f0IvgrwTDYOo6x3D5OQERqyDeLg6H/vXLw+od7O/59IcL06wfV8Q/Vw5NkE14TcBtcOcrQ4ZFgYF2WLHelRs9datWxEXF+dvOgF/z960vH/1fcYdCd43Fgbe79fTwQiAL1y7iampKQQCgBn9fb7N5oSlPO8NBUb/am9lBsDsuezNVe5p/4FRo+e27n+r7/+2KydVCgIBsHlxB+fBd0Sg5R63Hh0Zhl1l6Qrm6zInCOSncOGIdwBMOM/FKRrSc/0LoW582KTqq+4JAP+mpgfDdgPqEy4TMl9st7lEfDNKnzr7q8npWeU8to4bQJkLFvJSYpERb0RXB5NQoI/16quv4umnn8a//du/4VOf+pS/Kcj3ooAoIAqIAqKAKCAKiAKigCggCogCooAoIAoEpYAA4KDkuu02FgB8210ymbAoIAq83QqYAfD69euRnZ2tgC3BLSFIfn6+s6+vBsB0+TY2NuKee+5RMIoO4LGxMczOzqKqqkq5bsvLy1FaWqrG0QB4YGAAp06dUtHQwQBgOumONxi9e+lMvHdFhoKXdLLq8uRi6+npUdHVnBPPy1wEbgQqGmgQOBWnWdDYbzhVg+nJSSjK3rpmV115Vrxyb7oXgRv7gbLYg5jnYi7Ol/Pes2cPGNdMIK2BIOE3Y2I9OWfNY/ziQqcT6O1fmaHiZj0VHYWMgjU7IFflJqAqN9HrbUjdnr/Y7fz+XWuzcezwQb8AmDsw8vZcq9Un5LvSMayid1m+3N2hPCcX2qwgNBy3T2DUOoCNpTnITE9V4LskfXFQ1QyAGYu71+26BjpfRuxebLMpx7K5Bvt7ETfRh3ft3oKkhOD7rbofn/cs48sZua2LzwD7/QbiBvV3PoECYML5S259h+l431aSqoClt/K0ECFQAMweukcZg+6IUeYxtAOescQaAJthaaCglGNxkQdj1vVz6wn+cjuz291Xj2Eu0uC7SkeZc18d6Wyz2RQA5ruW71RzvXSlG+OTxkIQQtqhcUaOG45jlr+0Ar0dI6MP1fW7RJX3jkwgM8G4Pr7eMb7uk9/+9rd497vfjW9+85v45Cc/6e+Wku9FAVFAFBAFRAFRQBQQBUQBUUAUEAVEAVFAFAhKAQHAQcl1220sAPi2u2QyYVFAFHi7FSAApsP30qVL0ACYAJK9ezUA7ujocPneHQC/8cYbmJiYQEFBgfp37NixBQCYPYAHBwcVAK6srFRxpYE6gM19YbOTYlQcsjvApW503RabQJ4vAMzt6aZ7vbbPCUDpNCZEsqj+wr4dee7XaWaWruIBl363hGmVOa7RqnQ6nnNAGH0u5rHMAJgO4kBhkh6DQO1nbg5dX2BsdGIaB009UDlORXY8qvMXwmt+Z5+awYuXGcdt1BPrcnD44JsBAWBur3oQN7rCNzq4V+clKsd0qNAtkOeGCwkO3uhHbecQunt6FQBOSTFifXkt6HoNFCK6H48xzoyaZgWzeMDbvLtsdlxoG3ZCv97eHnABRWV5KSrzUkEgyfs0lOI15CIEc29mQsotxb6hazDH0gB4enoKz+zzHAFNsHi6eQhtg3bn0IxF37k8zcUp6+m47gD4kTVZAenBmGnef9rxbO6BzWeH7zINgLlgoK5nTB2+PCsO65b5d8py/EAXbTBGuabTd8Q033OH6gYwMDbllIELS7jAhOULAP/qUpfT4bwmLwFXOkeciy+4iITx8FFsdu5W1KF7eEKde3ZSNLptk+q51VWRGYcbvYYurGDd13q/V155Be95z3vwrW99C5/4xCeCub1kW1FAFBAFRAFRQBQQBUQBUUAUEAVEAVFAFBAF/CogANivRLf1BgKAb+vLJ5MXBUSBt0MBMwBet24dcnJylAOVAJi9c9nX1x0A37hxAw0NDbj77rsRERGBN998U8G7vXv3KiewGQBfuHBB9RQmAB4aGsLJkyeDBsCMG6119Nk19+JkT0o640YnjJhTOhgZi5rn6EepAfCqVavUeXkqRiGzryVhFGNbCVoIJAlYgu35SVhzsG4AHFOXe29dfz1u3QEwx3GPk3XvJWo+L08OXW7vqwjC2QvV7DCk+/augoUx1gTGL1/tdQ739PocHDx4EKmpqaiurg7olh1i/HS9a+/VwjTGDqeoaNmbDrjkzUUd0EE8bKTd16Njo2hqbkVRfg4Skub7utJ5ujYvUcUOe4rv9nXcxv4x1euYxd69uyvSQ52mcz9CTi5+eKWmFw0dfRgdHUVVST4K0hNAcMmo5oqsBL+OcPNEqMGFNptL9HdKXCS2l6QG3UPX1wn6A8B0tR6tH3BxlXIeO5anBQThueDiFxfmo8gDAcB0aRPSa2cu2SffFzlJsepUNABmH3S+++hWr3fci74WRWgdPMFfX7Ht5ohpT253niM16h6eTzpwd+j7AsA6CYDPN9MDNOwlZKdD3X0BAd8dXMjA54/vgr6RCbQN2ZEcG4n0hBgkxUaqZ4M9md0XgTDSPdh6+eWX8d73vhf//u//jo9//OPB7i7biwKigCggCogCooAoIAqIAqKAKCAKiAKigCjgUwEBwHf2DSIA+M6+vnJ2ooAosAQKEAAT8F68eBEaALMH7dmzZxcAYP29BsA7d+4E3cDcnr1/7733XgwPD+Po0aMoKytT/5YCAJ9sGkTLgOESXJWTgKq8+YhiRuYSAusYY0Kdu0vTkJkYo+bFnrq+ADDH1H15Ccd6RwwX8MOrM3FX4TwcDFRquivZK1P33iSUZq/bZSkWNYQ/6KMB8O7duxEePg9uCa/o2pybM2biDQITir9kcug+uS4HEQHAGQI5xmqb4TVjaTcXpyCcJ+Eoxkb/tsYAwNT6yXW5agFAMACY+xJK0TGtI7j5GcFpbFQ4Wh2OUG+9nQO9Fu7bNfWP4XSzFQTA1q5WPLKxDJ0z8S79pPU8NhYlIyEmMuBDMd76bIsBgLMTo3FP+eIBsD44IeBvzjeifWAYq4rzUJThGtFNxzEdqlz4YL5W5slTbwJN9s6+3j2CialZ8FbaWZaKfZWZqifzUpYvAEy4yGs/4li4weMy7pnPiSdHqqd5ccHGL00A+NE1WYj14Yg2Xx+OR9i/c3mqek/ocgfAvJ7cj+XvXjTi2l17drPvrqf+2/p4BPE6grssMw7rTb14OZfjjUNq8Ycu9234udVqVe9qvmsLCwtdzoVJAJOO3tKM9eY7g+d9b0W6Syw836H1fWNo7BvDlCkWm07pLusEspKiUZYZr2KytxanYHhixvkO4G3z1PrckG6dl156Ce9///vxH//xH/ijP/qjkMaQnUQBUUAUEAVEAVFAFBAFRAFRQBQQBUQBUUAU8KaAAOA7+94QAHxnX185O1FAFFgCBaamphQAJqilgzM3N1eBU0IF9s5lpHNnZ6cLIK6rq0N9fT1WrFihAHBkZKT6R2jpDoAJlrn//v37VVzpiRMn1H4lJSUBR0DToUswy3J31PIzOkoJXTW8oNttd3k6pkaHAgLAHIMgho5CDUDpcnvfpvyQwBhdsgdMUJqQhDAoKzHGr6uQ/ZPZM9kdAHOO7hCYsJQ9genM00W49hsHoCW3fToIOEMH4JH6QZfeynnJBHOpTohMfQj3WNT58eqckAAw9+fx2CvV7HBk9GyqJRLRkRHw14842NtfQ0AC4OHuVjy5tUL1uKbrkXG/k9MOuk5AGB6mFhqUZwbmBjZHexNm8novVdG1eqa2Gb39A6iuLENUdIwC6O7FhQuEhHRpapBKkMi+1nRW6+eD0cPUPj8lFk9U5yDX4ZhfqvlynN9d78XFa/Vwj4Bm3+6jDQMuWtP9uqEg2Su89jSvYJzutd0jqt+xLoJQXh/3XtruAJjx1E2OnuDuC0/Mc3KHv4SsdP76gr/c35fD+EzLEBr7jH7kLDrkNxelLHCmewPABOQ/O98Jnjv7ALNHenRkOHaWpjl7K7MX8s3eUZfe5fp4XBRDIIwwIDYyQkW0v29jnnoPMCr/QG2/2pRasg94KPXCCy/gmWeewXe+8x189KMfDWUI2UcUEAVEAVFAFBAFRAFRQBQQBUQBUUAUEAVEAa8KCAC+s28OAcB39vWVsxMFRIElUMATAO7r68OZM2ecAJgRzmZArAFwVFSUmkFsbCw4DqHlyMgIjhw5gtLSUtUHeCkA8CtXe5xuwZ2lqR6BVe/whIoV1r09CUfXpM2hobYGK1euVGDbX33vRCuud42qzQrTLCrqdEdpWkgQ2DpuQGkNFQmFdpWloa531Olm5vircl3dnL4AMOelY4z1ufA8CbsTHRDYE6D1d97m7wmO2MO029TzMysxWkXlEioS4NFxra57VDgeXZMdMgDmGIw5ptNSgzZCWjoS2eN2a3Hqgh7KwZyL+7aEXedbbcoBPNrdise2lKuIcxad0/zO7Ljk52nxUSoK3AzZPc3B3Kea0Jz3zVLVicZBnLvRonoAP7xtDaqL0tU8ecz+0fm4cX083msl6RbkJsXgeveoS69fbtNutSMzPkpBdm/P02LnbgbAH9y3ScFmLmAgVNXPKI/hqU92IMd2B8CPrc1WgNO9rnQM41qX0WdX37OEs8kW491lrtnZWXUv6whogncuDmB5W4zA54RAW58TtWcCAV3Z/soMeVfmJCjIyjKnBPD/uaBgR2mqR0DuDQCPTs7g6wcanEkE7BtMNz/fa3yH8Fkwu+/1XLmog4sfuKiGCzO48CY+JgIPVc0nIhB4My2AlRATgQersvydqsfvf/WrX+GDH/wg/vM//xMf+chHQhpDdhIFRAFRQBQQBUQBUUAUEAVEAVFAFBAFRAFRwJsCAoDv7HtDAPCdfX3l7EQBUWAJFDAD4LVr1yIvLw8aADM6mbGi3gAwD899mpubYbfbsWfPngUA+NKlS8phvG/fPvXd8ePHUVFRgeXLlwfsAGbUK8Eka19lBlLiFsIbfkfXGuGljkmenRxD8nAzqlcHBoB/W9ODSx3D6B+ZQmlGnDpONuHL8nkHbDCSE5YSlOi50y3H/ptDY9NqGEIZ9rk1lz8AzG11lLHej2MSAjOy2BOgDWbO3Ja9Rxm73T404dyVIJRgiz2S3eFPKBHQ7nOiK7Wmc8QJphgvfV9lBvZUZAQ7fa/baycoAfBYTyvetXkeAOudCCkJghmJrYsO7qrcRLAPrLeIZbPLlLCTwHypilG85x0A+JHta7CuaF4TujEJ89oG7c7etsCcgnfsSct7IjsxRi0QINyrXpakwLGGfwSLumf2Us2X47gDYDrTL3fMu3CpKYFkQaoRjR5sTU7P4leXup27PV6d7RIfTTfvxXZGLBsRzizCSsLfeC/R3hoAZ2dnq8Uv5uh5wllCWnPRQXu0ftD5fBOc0lkcCPzlOGbArBeDuLuVORbH9BbRzb7q7NfOxTZMa9DP7+u1fU6XLj97al22isimG9x8b+vzSYylezyehl+ca7Wpj7nIwGqfUn2mGTHOHt0sPiMnGofUz2lxUdhbGdoz+stf/hIf+tCH8N3vfhcf/vCHg70FZHtRQBQQBUQBUUAUEAVEAVFAFBAFRAFRQBQQBXwqIAD4zr5BBADf2ddXzk4UEAWWQAECYEY0nz9/XsFcAuD+/n6cPn1a9c41A2D9vXb1su/r5s2bcfLkSYyPj7sAYAJegt7FAmB30MO4UYJUb2WGowTOg91teGpbBYqW5ftV68XL3WAPX7pRCV50D1g68Aj0Auml636QLptdQSIHv0bTwJgCbtER4WCf2ZL0OJddNADetWsXIiIivM65sX8MZ5qNnrMsxv/uLk/D8MQ0Dt8cVJ8R6jywKjR3Hp25HF87IDlesiVSRSKfaTEAEf9//8rMRTmAzSfIc/qfMx1OOFmYGou7ipJVPHCgvWF9XeTrXSMKQo6NjWGstwWPbloIgLk/ARkjoXXfaT0mI4M3FiZ7XICgx+a2y1Jjsa1k6QAwe8teqGtVDuBHt9MBvBC4MRKaMdQE6XW9Yxg19dflnPJTYtTiifKsBBAOagDM+5rAeqmLAPjCtZuYnprG+tWVIADWFR0Zhh3LAwelnubGa/SCFwDs7irn/kmWSAV/LT76BLsDYIJ3gnUWI5TZR1cXEwcYl64XdxDQ0k1t7insT1Pz+HRCx0SFuzzTfL72VKT7vPfdATAXb3ARDJ8lLqiYmJ5BeHiY6t2r8pzdigtc+EzzHdep+hjPL6BhmgDdv3xXsR84o+BZS9Xv+he/+IUCvz/4wQ+UE1hKFBAFRAFRQBQQBUQBUUAUEAVEAVFAFBAFRIGlVEAA8FKqeeuNJQD41rsmMiNRQBS4xRQgAKbDly6yNWvWqJ6oGgAzOrmoqEj1pNWAmPGodHxOT09j48aNyMjIUH19NQAeHR3F4cOHlcPXDIDvu+8+8Ds6gOlWY0T0zMwMJicnER4evqC3pZaJUcqvXjN6ztIV+uQ6/1HO2kVHANze3oaVJcvw2OYyn1HOdAz+/EKXwz08pwBw38h8vG5ucoyCeqFAYHNs87WuYdDLTFfd3WWpWJbi6oCsqalR18MfAHYHMfx/wpqKzHicbzMALYElXbShFjXhWPW98y5KAqWwsDAFhbT77+DBg0hJSVE9pBdbv7zYhbMtQ5ieAYrTLaqPKs9rS3GK356q/o6tXcYEwPbeFjzsBQDrcegoZzy1fcrVDVyZnYCVuQkubuCazmFc7TSihtmvdUvx0gHgo/UDuHjTAMCP7ViLNYXpC06V0JMQmpHHdIH3jEyqedP1S3iXGmdEEjO2m7G+sZHhCiy+lQD43NU6tA3PYG1ZkROa04XLeGx/kdr+riUXarx4uce52RPrctTz7dG9HheFnWVpPheOcCB3AEzwrl3wdE5XONz67s5+HpdOavb4DqZ4XTushsue7xdGK+v0Auq0uyLdJ7DmfmYAnJe/DITKHUN2tA3ZVd9jRlJnJ0VjXX6yc2qcb1G6RTl+9XXwFKFfmGrBjR4jEp/zY/9g1lK53X/2s5+p3r8//OEPVS9gKVFAFBAFRAFRQBQQBUQBURcs4swAACAASURBVEAUEAVEAVFAFBAFllIBAcBLqeatN5YA4FvvmsiMRAFR4BZTwBMAJmg6deqU6p1LANzT06MAMR3ABA4tLS3qLLZv346kpCTlACbcvffee9V/CYBLSkqwYsUKXL58Ge3t7SAAJng7duxYUACYDlo6Wgl27NMz+PBWI+bUX7GP5tmGbrS1tSEnJweVhdkKdnmL8HV3FL5rbZaKQtUOQB6PLkq64LyN4WtOukcsAR2PRaj50W3LkL8IAMzj0fWpI1v5/+xlS0hNQEuITQfhYsvck5Twi07Biqw4Ba8JqQiAk5OTsW7dusUeSrlTCcLo5M6Ij0ZavAEudQzziux4r4sF/B1c94PlfTjR14yHNlY4ewB725e9Zhkl3Nhn9ILVRXcm3cB6flc7hlHj6DVLcM2+wUtVR+oHcMkBgB/fWY3VBa79hQdGJ3GmxerS05XwnnAvKjIcA259gtkTl/cJY70frspa0Id6Keb90uVu/ObcTYxPzWJrpQGAeTxCRF8O/kCPzfm/5AaAua97/+rMhGgFZwNxkHNBCu9lHQFN3TsdgFbHtbvDXy5K4TkFC38510M3B1Svbbr2J6ZmkJFgAGRCej63OoHAlyaDg4NqcU5ZeTnqxywqwp5zpON6ZHIGGarXczjW5CWplICyzDiVOmDul0yn78G6fkzNGDH7XDSwqzwdXHxz2pEyYH6XmN8HJRkWZzR0oNdOb/fTn/4UH/vYx/CjH/0I73//+4PdXbYXBUQBUUAUEAVEAVFAFBAFRAFRQBQQBUQBUcCnAgKA7+wbRADwnX195exEAVFgCRQwA+DVq1crIKYBcGVlJYqLi50AmK7ehoYGWCwW5fjdtm2bAn8EwHTb7t27V0HeQ4cOOQHwlStXFIQNFQAzbvRk05DqW0oI+O4NuS5RrL4kOHC5Bceu1CsAnJycgqI0grlkjwDRZp/Gb2t61XA8zlPrc0FXJXtdshemLsblbi1JCQkCExL+99kOTDtAy+biZDxUlaV6c+oKxgGs99Fwmf/PvqR0f9KtSAcf+4cuRREaEqDSKdgyaFeQiED9waqsJQXAr17rdYDMORDe9Y1OOV2RPI/sxGhsKk7x64z0dM4EuTe6R9U9OtnXjAcDAMB6HEJpuoEZtawrLAxYkRWvACodwNe7DbfkYqCYp3kTFF6pNxzAT9xdjaplxjVl/DCPS5emdo7yc/aEvqsgGbnJRrQzQd7N3jE0D4xhZhbgtdTnsTwjDoTqhWkWFQPsKyI50PuIz8v3T7SisaNHuWoJgKvyElXPX2+9bAMdW2/nDoC5YINR6/0m2E3XKhdsBHpMdwCsAS2PuaEgCcmWKByuH3A+v4S/jLJmjHIoRejKqGY+v1xMQcjK54rwl8cKpHhPHDx5AU3IRM9klPM+oPN3mhcbYeqZ+YO78pCXHLPg3UdQ/GZdv9PlznO6pyxdzYXXkUCdlRIXiX2Vmernn53vBN+XiTGRqi92dX5SIFNdsM3//u//4uMf/zj++7//G+9973tDGkN2EgVEAVFAFBAFRAFRQBQQBUQBUUAUEAVEAVHAmwICgO/se0MA8J19feXsRAFRYAkUIABmxPPZs2ehATBdZYS67gA4OjpaRT+zL3BTU5MTANMtPDw87AKACY65vwbAhMN2ux1Hjx5FWVmZ+hdIBPSldhteqenF4OgU0uOjUJweB3Mcqy8J+vr68JNDlxGVkqMiilnlWXFYt2w+DlXvT7D5Zt2A+l868B5dk61+NiDwoDMKlp+xxysjiYN1AtOV+bUDjegZnlRjV+UmqJ6h7E1Kdx5LA+B77rkHkZGRAV9hHctKUElww3PYXZ6uHLpLVQRVhOSMl2Xxerznrjw0Xj61ZA7g39T0YNhuQFbCa8I7LgAwg1c6SAnPc5KC613Lvr51PWMKAE/3N+P+u/w7gM3a0Q3MHsLmSGx+nxgbibiocHQ7rmtpZpzqW7xUdaiuH1ca2hQAfuqeaqzMT1MuzzMtQ06t9LEIdNmv1pPjlc7zxr4xPH+pC0NjRk9eLopgVDi7w7JXLGO9c5JjkJsUY3xOyh1gEUjzeaU+BNNt3b0KAL9vZyX2rsgIaix/h+T98OsrRgQ0r0t6QhRs4/NwnrHXBM7BPKMaAHPBCPufE9DqZ5XXlP2w9eINgtLty9MUNA+1OH9GNnPMknSLchHznid89VW8jnQOd9rsqO8cwLGaVoTHJSHOYvQTJ6zldbTap5GdEIP81Filv3tRwzdu9DufLV7qHctTnQsHeAxCcBYTC7hYRb2Pr/bCZp9CaWa86i3MBRCh1P/8z//gj//4j8H/vuc97wl6CD7Hr776Kl588UXVs56/k3gN+bvlqaeewuc+9zkkJMz3bTYfgH2Hv/GNb6j3LX+vbd26FV/60pdUqoWUKCAKiAKigCggCogCooAoIAqIAqKAKCAK3BkKCAC+M66jt7MQAHxnX185O1FAFFgCBcwAuKqqCgUFBdAAmBHOjHLu7e1VgJjFvr6sGzdueATAdAYzRtUdADMeemJiwgUAM06a/W4JmbyBpgtddrRZp9A4NIXU2HBkxhOKhmFlZgyKUxeCEvM4BAStbe3omEuBPSwGcMCsivQYlKW7gpuukWmc7zBifpNiwrGzeB4cMBj1XMcYekYMaMbKTYxCda4FEeHhXq+C+zkxYvXVOis6h6fQNzaNlVkWBTgtkeHYWhivIl/plqYujN+OiJh3BvsCcfq7m/12vHHT6pxndmIU3lOd7rXfaiBjup/coQYrDjU4egxbIlGYGoOZgVasyo5D5YoVAWth3tA8j1drBzDm6Lm7syRZuYAnp2dxoX0EHTYDnOsqz7RgZXa8x77Mns7tfNswmgbssNvHEW7twO61Jcod7m0u+nP3sQhfz7YNY3SC/ZCNrQjFeZ/kJceiIjMO1fmJPoFnMNoTwtU0dmBwcACPbV+DybDIBRCagI6R1J6iiN2P9dr1XtT3jaHHNolRk6N5/bIkBYF1cREBAaf+5ytGmS5jgnrruPGMEAB3dPciPXYWf/LQJtA5v5SlAfDkzKxy0K7KSXDqTQhOx24w8JpzcwfAb97oV/2SRyenFaTVrlxKxFjpYBcgmM9/aGwK3zzc7NSLgPnRNVkex+TCEcY0c3EH49d1pPcc5nCusR/X2/sRa4lDgiUWq3ITcP+qTPVeYQ9gVlZitIp0NhchMp2/Nsf14ncE5lwQoKt/dBIHavvV/3LRBSE1Xe50nNM5nBAbgfdvzAf1DqXo/P3EJz6Bn/zkJ3j3u98d9BDf/va3lYOYxd9dhPY2m021GeCCJC5A4u8i9q03F8Hw1772NZVksX//frUw6fXXXwd1Ziz1E088EfRcZAdRQBQQBUQBUUAUEAVEAVFAFBAFRAFRQBS49RQQAHzrXZOlnJEA4KVUU8YSBUSBO1IBAmD2+D1z5oz6IzoBMAHkiRMnVA9fAuDm5mZcu3YNsbGxoDOV/19bW6tcU3TW0n1ltVpVzLMGwOwdTIh59epVtLa2qv7Ak5OTOHLkCEpLS8E4afYK5h/ffdWF/jDQrEgmyJhbh1FW7bI8cQ45AbCH6Vng6mAYRuf57YJ9u8aAhmEDfiVHA1WpRj9MXbNzQO1QGAZNDDIzFihLmnNCQH83CI2t5/qMYwxMAOTXGiBGhRvHjAvc9OvxcCd7gBtWA0onR88h2wKsSJ5DSuhGRZfjNA0DN21h6B4PQ0LkHDIdvIiaVSTPgeexmDrVGwZeL9aatDkkmpJweY0ah8MUaNXF9QA8riUA3W5agR67of+y+DkUejYHBjR9pni3jgAdY8Z4vXbANhmGyHCgMnkW69Lnr21AA/rY6PJAGIanoJ4Dyhvrdq55cXMoSAAiAjTrXhoIw8iUcUD7zPzYBfFG/Lkus/mXHydFA6kxxr/4qPkNO3ldbIDjsiEMYegZB5IiZ9TzWpUegXQH/w0GfJslcd/PPj2Ho11zaB+Zw/RcGMpTjPkUxIehJHl+bp6O52sOXDRC531MTAzO98ygZ9w4RqYlDMkxPDPH+VhcxQ7mvKwTc7jcN4ObQ7OYdMTB71oWicr0+Qs7NTuHQTswYJ/FgH0OJk7vlKVjdFYt9hi0zyA2MgL5SRF4ZlUMoiIi0GqbQd2Q4YjOsISjOmv+QaJT+0LPNGwTxpPE61yeGomCpPkFJ/x8dGoWh1qnEBMRhr7xGWRYjO8bh6bVPoVJkViXHYWseNf9jDE934zHjx/H7373OzUO2wbQgcvkCS4YMi8E4s9PP/00HnzwQa9PBl28/D312c9+VvWV19XZ2YmHH35Y9UZ+3/vehx//+MfO7w4cOKCSKtLT08G56P348+7duxUUbmxsRGpq6mIfW9lfFBAFRAFRQBQQBUQBUUAUEAVEAVFAFBAF3mEFBAC/wxfgLT68AOC3WGAZXhQQBW5/BcwAmA4qxjubATBBLqEtwQihLR3A/AO5NwBMoPvmm2/CHwCmcvX19Wq7zMxMF2BAJ5aul2r6MUP6SodaQSIudY5i3OEQ5WfVefEoTjPoknk//j/dYDdv3lR9jZNS03Gk0YbRSY2pgI3LEpCbZICR2t5x9Y+1LCkaG5YlLBiP8zjdOoJeU1/agpRoVOfGeZ2/+Q5hJOuhBsOVFxkBVGTEoqZ7HoATnhZEDmN23Krca3QAu5+TeTxP313qHMOFznHllqVbOieRMb7AmmwLlpHSetDJ35j6ex7vao8dLUOTmJyew/j0HJJjw9HT04uoqCjkZqZiQ54FSTGuQMjTPL2d12v1IyD8Yu0osCDRbSybfQaXuu0YMV3HiDA6wqORl+idAvN4l7onQKc37/mUWRvWFqQiMTExaI3Neljts7jaO4mbg5MYtBv3VrolAiUpkShNIRwLD+je8HVdTrRN4Er3KAbHppULM9lBuxOiwrAyIwpJ0d7Jryedz3ROghASLigd2JgTqWBj//gceF6uSyDm7xI6Ty2RYUiODsPQxCzGpucUmNa1LDECA+Oz6B8ZV6s2+JxlxnleGRDs/a2P0TE8g5ebpuHgp6hIDUdJUjiKksIXdT35nuNzRwB8tGMGtYOzCmznWMKQFBOGVWlhSI819A5l7oP2OdQMzKl5Nw3PqcUOXKSxPddYPED9Bye4mMD8VBo/69cir0u/nfH06lNwzMRooDgxDJscZlcuTmgeMfbLiJnDCiMBX+1TMwhYHeNzzIKEhYshePx6G8DFB5ZIPuthKEmcUwsEOsfCkGWZUwsOuGjF8VpZOGEPn/zqV7/Cd7/73YC2/fKXv4wvfvGLAW3rvhGBLuOceR35e4AxzyyC4Zdfflk5gD/zmc+47Pbss8/iueeew1e/+lV8/vOfD+m4spMoIAqIAqKAKCAKiAKigCggCogCooAoIArcOgoIAL51rsVbMRMBwG+FqjKmKCAK3FEKEIYx4pkuXg2A6eblH9DNcc88af09ey1ev34dW7ZsUU4p7ktovG/fPuXoNQNgOrxaWlqwZ88eBd4Ik+kybm9vV26rDRs2KMedJ8fY+NQMXrps9PlkPV6dreKA2avX3BP2rsJkjzGkjLKmC4znQQjMfQ7c6MO4Ax4aUa5GH89zrVZnrG55VjzWLUvyeJ3pnjtWP+Ds98qNSjIsuKsg2W/krKeemg19YzjbYnUeq7e7C7lhg3hk790KqgZb7CnaNmgHI3mpFXsM62I8bFWI/Tr1GKebh9DUb4Dyiux4jFPTU5cRGxuDgoJCFT3L61FoipIN5hx+fr7TAbaAB1Zlqv667mXuNWv+jvG16wuSPPa/5XZaG0K+8MFm7FkfXA9gb+fBhQE/v9CJ8602Belyk2NUFDSLsJaahxqB3DY0jv861Y62nkGMjo5iY8Uy5KTEozI7AZU5CR7jr/3pzb6vjLF2r6fW5zh75vLe6R6eQKd1QkUPMzLYXMMT02jqH1MLAfgc8ToxavjeFekoSY/Hq9d6cfFaHWZmZ/GH+zY69fA3t0C+Z79r3odXOgzCyQUOH9tegLLM+EB297oN+5sfOnRIxYKn5i/Hfx5rxfCE4aIty4zDg1VZIV9HjsFrebJxyHl/X2y3IdUSBaL2/ORYr/etPsf0+GhkJ0Wj02rHgCPOoGfQiqtNXaguzkJ+djoeWW30Lr/cblNxzSy+nzYWpihgfaJpSL0fdPG81pv6VTP2+WrniOoxzPuafZDt07PIToxRvaXZn5hx1Nopvr8yA0mW+feUPyjO3wHUmdsx+pmg9b/+67/w6KOPOoG6HoPwlv9CKT7j8fHG/dDR0YHc3Fz1u4mJFWxFwFQK/k4wFxMpmHCxa9cu9TtMShQQBUQBUUAUEAVEAVFAFBAFRAFRQBQQBW5vBQQA397Xz9/sBQD7U0i+FwVEgd97BcwAmJHNdORqAMyf+Ydyuqf4x3NvAJjx0YStBMD84/obb7yhnMTc3gyA+Yd//pE9Li5OOYrvuusuJCQkIDzc1SWpLwohFWEViz0o37XWgBsjE9Oqf6UGufxsU1EyitNd86DdATC3IxjlvgRXLALLe8rTVF9LDUbW5CUquOatCCCP1g+gZ3geogXSd7R1cBwnGofUsKlxUbivMkP9zM9PNRlgqKurEzarFX+4fxMK0oPPKGa/WMIbVmmGBe3WCdhNjunidIsCtOFeIlr9PRAaonI7rdOPXz6ErikDAOsiHOb3wRxndm4OPz/f5Rzj4dVZiDNnfrtNjkDtTLMV7K2sKyEmAluKU5AWv7A/NK9Zh3VC3XsRQ83YvW5pADCPzetX2zOigGlsZDhyHQBYz4vXuyo3YcHn3vS2T83gfJtN3ZPXukbQMzCkAPC9a4vxrnX5zn60/q6Xp+91b1v3755en+NxEQOBXP+o0YO2w2rMh+dpriRLJIrTLApipsRFomVgHO1tbYgOm1H3sgbiocxX78Pn7kzzEFoH7aA+BJVswV2SFoeP75y/90I9hgbAM/GZsEZn4GrHsEob4KPy7vW52FCYHOrQCpafabFibGIGTALgO2xgdNLZQ7wyOx7xMa6LHcw9mAlgoyLCcKp5CC0D8wB3dmIMtY0tyMvNQWZ6Kh5ba/S0Pt9qxc3eMfWzXtBypmUIjX3G4g1WYVosNhelqGtO8FvTOaKusS5ea/Z15ruXvbi3L09V76xXrvY6t+E7md+HUt///vfx6U9/Gs8//zwee+yxUIbwus+VK1ewZs0atYiG/YAJki9cuID169erxAm2PXAvPl/8fcRFTQMDA0s6HxlMFBAFRAFRQBQQBUQBUUAUEAVEAVFAFBAF3n4FBAC//Zq/nUcUAPx2qi3HEgVEgdtSAQLgvr4+nDp1SvXsJfRlZOaxY8eUQ5c9fRlHTMevBsC6J/DmzZuRlpaGs2fPor+/H/v3718AgNk7mNuzv+LMzIwCwKy41CxsWrcGYXMzLr0fzSISmpxuNtyxafFR2LvCAKasYbsBgc1wc3NxCugC1aUBMPs80nWsi7DjUN0ACJRYBBiREWEYdbj9NhYlo8QNJrtf3KmZWRypH3RxUpZmxmGDyU3nvo/Z7Uu35K7ydOcmdPURrrZ3dMFqHUJFeTm2laajIHX+fAK5wQ7U9ilYxyIITY+PwuH6QaWXruzEaGxbnurTcejtWEfqB5zwjy5pwiW6Jqci4zGSkO8E69yfx9lSkhowIKKmz1/sdh46ELhEVzchldnRSnfi6rxEVGTFuwBNDccJgKOGmnHPEgLgE42DCkyyGNPMGGuz01KfFO9jOoLpOvdWzQPjuNBmdWpZ0zmMvkEroqdH8Mn716E8d3H9Sb0B4HdvyPV5i41OTCsHaZd1QkFMLqYgyCTs5rWG6pBrFOfc1kXINof71pUqR3hSTCQSYiNBSJ8YE4noIMAhj3OsYRDWceM+ZjoAAWdpRhySYiPxxDoDfC6m+C784cuHMRqVgpycXFztHAbvyeUZ8Xh4dSZykhyNjP0chAsZeF9yzsP2GVzvHsHljmHYJ2dUz9+IcAPK3ugedbqBV+UkwBIdoZ5X3hvUNMUyn4xACM93Ie8N53OcFIO82Cn8z+Ea5VpOT0116mB26nNszkk7grk/j7GjNFXpyfN0B/p8H9ns0xgan1aLZCzR4fjYtgKkxEW5AGBviwYCuQ6Mgmbs8gsvvKAcwEtZH//4x/Htb39bjcvxWfwvQTMh8Llz5zwejvCXaRb8Hch4eClRQBQQBUQBUUAUEAVEAVFAFBAFRAFRQBS4fRUQAHz7XrtAZi4AOBCVZBtRQBT4vVbADIAJeouLi50AmMLQyUu4YAbEvgDw5OQkDhw4oIBrVVUVzACYDjtGQM/MhWEguQK071Vlx6so4Wg2xXWrKx3Dym2o5pEWiy3FruCLgEJFlDocrnTq0dGm44f5h3z+od8dAHM8Ot3oCHUwYNT1jqAoLQ7REeEKjATiWCQcOnxzwAlcOW55VhzWLfPsFLzeZYAg1rLUWGwrcT2f3uEJ/OxoDfoHh1BWVo7IyAhsLFzobPZ1w/72Wi9sDkimz4NxvoRnvabYX0YT7yxN8+mw9XQc6q2dzxqUEwATlpSvWuMC6bh/fEwEtpekKnDkrxgz/MKleQDMyG86Sv0V4da1zhFc6x5x9knlPtlJMdhclIzYKOPe0nMnAI62NuPu6qVzAB9rGED7kOGeZFTuiuwEBUgJ1/Tn5vNglC4dwVmmiG46t7m9Bvh6ezrEw+w2jNoG8f5712N5tqOhqz9hvHxvvoZ6Ez47T6/3DoDp6GVMutltnRjL+zNFLaTostkVRBxxLKJgrHl/f5+K9V1Vku9xIQMXXigYrKDwPBgmJCZ01MVn9WTToMvigvjocFjtM2o7/lssAOY5nKjvx5tnLiM5OVkBYDq6C1MtsERF4J6yNHU/6XKHvKOTBuwl9CX81e8VglS6zulYZjx4RESYcsbzfKlnRHgYkmMj8eiabJRkxHlcLEEN6R7W0evq3k6MxvbSNHR29+L7b15V7+jk5BRoiG926vM6cW66eO9xgcSN7hE1N/fi/KdnZlW0M0E+l8lwMQUXrNCVfKB2YSpDKLfid77zHXz2s5/Fiy++iEceeSSUITzuwx6/HI+tBdieoLq6Wm334x//GB/4wAewY8cO9XvIUzEWmu0JdGz0kk1KBhIFRAFRQBQQBUQBUUAUEAVEAVFAFBAFRIG3XQEBwG+75G/rAQUAv61yy8FEAVHgdlSAAJju3ZMnTyqnLwEwHcGMdeYf0OncpRvKDIDZ05fRzps2bUJ6erpyAHOf+++/H94AMPsqsnfw0Zpm1I/HYdqSptxuy5JjlBOQwIz9KM3Az+yq9Na/lpCNzk4zBKbzlc5ZXwCY18ocycx+nARJnMf+lRlgv81AihCYxx9wuG65j7cewp76crof4+SFGrxxvRvFpWWIiDAiYbXTNpD5/PpKj7M/8q7yNCdgZD9PugK1S5VjEebcXZoWEJzVx379eh8GxgyH8dYSQ2cNgOmsI0jjcczuV+pKWOzPzUzwxPnrMvekDeTcCdBPNg+5RIPzHDcVpSjHo+59SwAcY23GziUEwJ6c0XrO7JnqyWXJ7+kEJ8zrtE0qF3P7kF25Tgnd2Dd4a3EK6npG0dDWqWJpn9m7HsVZiwPAh+r6XXpYcx7krU95AMCcy4U2mwt85PaMEud96Q7ouSiD0PNn5zvR3N6tnKf5OdkKOAZTdJzSJczniprwOhIY89+KnAQUpMTidQeIZDTy49WhO4C58IDXr9dmx82bdQoAVy4vUAsp6DTm96vzkhATGeYR8no7L0aUd9uMmHj+zKhlXu97StNUz/KzrVbEq4jzMHiLO/cEfzkGe5fzuWrr7MH3FADOVfMmCOfnXJhCcN43OonZ2Tnne4Cm6/SEaOe8zHNPi4tS+naaYqD5juSzw+vMZ5jx5kw+YBHcs093qEWH7uc+9zn8+te/xkMPPRTqMC77ccERAS/TH77+9a8rh7GuH/3oR3jmmWewc+dOZxKF+0Hz8/MV/BUAvCSXQwYRBUQBUUAUEAVEAVFAFBAFRAFRQBQQBd5RBQQAv6Pyv+UHFwD8lkssBxAFRIHbXQEzAF6xYoUCwIS9/AN6bm6uck/xZzMgdgfAdNn29va6AGA6qVavXq2iowl+t2zZotxYnaOzaJhKxURUAqIjwlCRGad6bBKCKLiTHY/SzHgFMV673gfCM8bIbi5OdYl3NutOCHywbkCBGjVSmAEnEzChHMBlZWXKyeyp6ntHQbfiuVab+po9Z//fXUUee8h6u9YKAtcNOMEot+N5rM1PctnF3IPT0/fcuLa2Fjea2jGdtQLTc/PuVwK0lT76EusDPX+xy+nSZL9O9p7VRZhEV7U5CpbR13Qi+4okNp+EJ4exGQDrbWsdsbd0Pery1xeYMdW/qTH6i3oDkv6eN94DZ1uGFrhuqXf38ASGxqZVD2CLrRnb1y6dA9jce3lDQZK6h92LgJeOym5H72i6Rdlnle5MxhjnJcegaWBcLWagQ/u9G/NUFPkrV3vQ6ATAG1Cc9f+z9x7QjV33ue9HAkQjCIC915nh9D6aoi5ZVix32U7uu0nWzct7K705cZpjx4mX09x7kpvEN45TXuISl/jKaiNpVGekaZpeyGGvYAFBohIg3vr+hxs8AEES5NC+M/L+a80SBzj12/scrjW//X3/tfei5TWZr1VdYy69+ezReWt2jxK2sof0SjD/G6eH0NnVJc9kW0uL9M9VkcjTsQQSpr7NucY0mUoJdA7MLzbgNjSD06XfWOoQQH5uwHhm+a5gf1pzBHWuFtcLnmLjjNwmHJ/DhcGg9PqdS85hYLAfVT439m5qkn67qlc45w9du/lVSqKaCcPtVotA0+HpmESD+5xFeHhrpYzvSnHnfF4Jic19e83wl9dCB/BXnrmQBsDv2lUtC2q42IGpBtyXsfiuIgsmI7PSyzcb2qv+1LzecwNGQgGLzmG+k8dmjAUfdLbz7yqWn07iB9oXYuzz02Zhq7//+7/HBz7wAdCxMmcqIAAAIABJREFU+8gjj6x290Xb9/f3C/zl7yeC5U9/+tMZ2+gI6JuWWB9AK6AV0ApoBbQCWgGtgFZAK6AV0ApoBbQCt5UCGgDfVsO16ovVAHjVkukdtAJagR83BQiA6Sw8fvw4CIDtdjvOnTsnMmzYsEHik5cCwAcOHEBFRYVA1tHRUbzlLW8Bj3f06FFkA2BuR5cwWcJAQQUqqqoxMhVFjadoPrZ3Ac/Q7bel2m30zZxN4ro/hPftqcX2ZVyE2RCYQGt7hRWD188vC4B5n2f6pvAfp4bSQ3/vpjIBG4x+zbcYs0ywZgBro7ZUF2OnCQKbY1kZA7slB9AlAGYE6e47DuN4z0zazcvjLQWNzddI56WCro9sr8wJrdiLmPGzajuCMPYupitxpcrlMGZf5+LiYuzbty9j91zRvcv1BeYYPnl5TI5BMP3oTbg6O/whAYRJY02AFGOMqz02JOMxuII9OLwzszf0Sve+3PfmWGUC0uW0JBzn4gazG1sde3ZuTvraVrrtuHtDqfSCfeziKLrnAfD/eGgfmirXHwATrr5njxEBTfB4bTQkiwVUlDE/Z/9iOpKL8wChBMDd3V3iPt21dRMe2V6VIR+dtey5TehIMCxwOMbPEgjFk+AcjcQXBs9eVIgN5S7pk8tnTW2j5srurMUW+Ywlz9k5FkJiPh05OZdEdHIUrdUe1NXUyv2rPuF8lnPdNxeMlNgt0tuYbl5Gnl8dCYmbu3CeQhOw8np53Sw6873OomXjzjkGXJRCHVQR3t690XD+qhr1+/F3Ty8AYOUk/ubpIYHHPCffY7wUvj8IpFXxupiswLh7zsls+MvIZzrXFYDm/l1jYVmkwH3qfXbc2VaWj9Q5t/m7v/s7/O7v/i4ef/xxWTx0M8XfLffcc48sOPr5n/95MF6ajmtznT17Vvr/VlZWyu+r7AqFQnC73fD5fPI7T5dWQCugFdAKaAW0AloBrYBWQCugFdAKaAW0Are3AhoA397jt9LVawC8kkL6e62AVuDHXgEzACbwpXuKxc8VAGaUsgLEra2t6Ovrw8WLF6EA8JkzZzAyMpITABNodnV1yTEJgUf9Y+hIVqC6pkbg0J0tHvhDs+j0h9OwhdvSOXh5mAB4TmDg3gYPjrSVLekC5j50Cx7rGE+79mLRCBxT3Ti4fWkHMPebCMXxTyf6JRaVPTkZbUuQw76f+bv+ILCF56fLVNW2GncaXJujd5eChAoAM6Y0AQue7xjPcGBuqHSJFtlwg+cjrPr22eH0ud+xsyrd/zZ7ojOm93hXIENzOoxXiuplj17ltH5wc7lEZS8FgHlOQjb2H56a70vMz5bqCzweiq9bf1E1H453B0BnMYswi27tSifQmBjEwR3rB4BVvDTPc0dz7r7NvL+LQzNgr1+Wiktm31y6LQnVCKnpRmXP5Ed3V0skOaF7z4ARAf1zD+1D400CYBUPbJ4Tqo8uwSwdnuoa1TacG4SFCmqu9OJcCQAvtf9gIIIXOicxE00gmpiTuUbo2+B1IJacA6PMz8y79dUx+H5YLQCeCMfFYWx2qBcVptA/NAKn04mW2grp4cwFBHTUHm7xosbrEMirehbzZ74vVPH5e+XGpEQvq6JLliD/6NWx9HN8z8YycXwvF3fOBRp8J2YfJ9u9y+SF/2kCwFz0wXn11893Y3gqLgtIajw27Gn0phe0+FxWbKspkYhxVjb8ZV9mwl/CbRVbn0IKsdk56SPOHuCqhznfY2utv/3bv8Xv//7v44knnsDDDz+81sNgenoaDz74oLQteM973oOvf/3rsFgWL96JRCIoLS1FLBaT32FcpGQuvsfuvfde+XPs2LE1X4/eUSugFdAKaAW0AloBrYBWQCugFdAKaAW0AlqBW0MBDYBvjXH4YV2FBsA/LGX1cbUCWoE3jAIEvXQ7vfLKKygpKZF/TKcTmCCyra0N7e3t0kvXDIAZtXnhwgXs379f3FQKANPFlUwm8fTTT4O9FHfu3JmOgC4sLMTBgwflOIOFVSguqxIAvKe+GG0VxQJ6ro6GwEhmQhc6aa+MzEhsr91i9HEtdxdhf6M3Z7yuGhDuRzfmbDIF/oN/X28PHt7dhDu2bVhyzNhjlJCScbyEyNtqjX6ldCITAtOtl2/xPnh+M/DcXkt4VmKKtF7on5t9XAWAGWVKNzYd0C90TmRAZUa6sh9nNowjvPv++QVnm+oHutS1Uyv2PlX9k7ndUsdWxyBgVq5I9kqmNssBYO6Xb19g9vB97vqEnIrwiW7Gmy2e+2y/EaNLRyfHZ3Y2jvLkON65vxU7NrXc7ClkfwI+1QeaPaibypzp43KBwaXhGQxNLYBB9SUBYaW7SBYfsLfy5eEF1zddxIzdpVPY7x81APCb96OxIjNafLU3YO5XrPY1osB9eLV7Kg34+R178R5s9qV7yOZ7LjMA3r1tE96ybfmxpOOV905Abi46b7kogQseCH8ZH013K8dRpYvbLQW4d1PuKGIz4FXH7RoPS19lVYWFwPbaEkyH43ju7FV4S0pwYHMjApGEuG35nKm5vtT9c2EBe+PS+auq2kOHbKkcwxydTiDMhSUq7pxG1feZ+i9nw1/2Sic0zoa/PA8B8N8fvYDqmlp4PF40lzkkDv/1gWl5vxYUAkdafKj2OCR2mhC/3utILyCh0/v1fiNKm2WGvxwTLmxgD2jlXuY48L3BRRzv2VMjuq21/vqv/xp/+Id/iKeeegoPPfTQmg5DmMv46GeffVZcxIx5ttmW7t/OXsM/+MEP8NnPfhbvf//7M87JfsFf+MIX8IlPfAK/93u/t6br0TtpBbQCWgGtgFZAK6AV0ApoBbQCWgGtgFZAK3DrKKAB8K0zFj+MK9EA+Iehqj6mVkAr8IZSwAyAeWMEugTAL774YhoAT01NCSAmDCYUzgbAjNYcHh6Wf4DPBsDsJ0xw1dzcDLqHn3vuOUw7qjHnrhRA0Vxqw/4mXxpIEGLSkcY45cFADPHknMTClrpsYAxsrccORjTTwbZUEbhx/+lQGD09PaiuqsQ77ti0ZJ9bxgUrV2Fibg5WEqH5Ys9LwhdzL92VJgDh1HPXxxE0uV4JsQieGHvLIlgmIMqua9euib4KAPN7whdCYAUY+RnjVw+1lGY4EOn8e2KVPXTpEOSxzdfKPqMEV9nAiUDom2cWHMZv3V4psbgrAWB1j7n6AjNWlnHYBEt0TtKdyqIjdiVouNI4mL/vm4zgKy/3CewmAHZEx9FcV4X9mxoEMHKcb6YW+lUvwH2CMvb8HcwBfgn1CM/Mc4ALEf795AD88z1XCYA5784NBjEXnYElGsQvPbIf9eXrC4DnUilZaFHrMRyhqjjH+GyuRRsCYMP5b0RALzeWhKevdgcydCI05SKH7F7DvNZvmeYgr5ULNd6xs3rF4eO+hKvmnrq8N851gvgL/ZP4zgtnJQJ4/5YWcDwUQH7Ltkpx/uYqPu+ct+b4dzpkuRBALdIwz48jbT6U2K054865WOH66ILzdzn4y2shAGYPYE95DQbCBeIet1kKwfmOAqDKbRM4fqDJiwbfAvjlvoTghLuqzPCXIJvf8Zk92TuFUqdV+qITutP0zB7X7B3OBSNrrS9/+cv44Ac/KC0D6OBdbfF3zU/+5E/i29/+tsQ/M0ra5Vo+xp6Lk9785jejvLxcfqexxQGLPz/wwAOy6Ibztqxs7dHWq70Pvb1WQCugFdAKaAW0AloBrYBWQCugFdAKaAW0Aj8cBTQA/uHoeqscVQPgW2Uk9HVoBbQCt6wCBMDsn0hQS5cu4y/n5ubw/PPPC7AlDF4KALPna1VVFcwAmPvS0VVXVyf/uM7jEBwSaNKZRadWga8WAWu5AGCvoxBv2lyxKNL4qSt+6UlJEFFRXCSO2njS8PwR+NzVVoqHtizeTwnNuN0nzw+gs6sbFRWVqKosx11tuaGrijnlvi3lTok1PtU7lR6zIksB7t5QJpAo36Jzl25WFT/M/XhNPDaL154LKucCwNyekIwuZcavqjI7DPkZwffRq+Pytc1agHftqsnrcnMd2+O04p4NZeLEVbVUxHS+AJjHIeQ93jUpDm3zfbC3LONleY8suhUf3lqZ1/Xnu9E3Tg9KrK4/GIYzNo6m2iqUltJZWSAwlvHa+UYcZ5/zycv+tOubrl2O9UBgseOXfXR5rpoc8J/HfObqGLgggdCYix0I3V4fCCIwFQR7lL51/wbsbS4TMLoWMMtzvNQ5kYat0URS+rrGEynsbjDAMvsBM1KZkG+tlS8A5qKFl2/wOZlvxDsP/wkXcznvcwHgfNzinOOvdAUyoq25yIDPtYp5v9g/iW/PA+B9m5szxk8tdsjWgwsoZLHJfMy4eocQuJpj2s0O8cOtPomSVs8qx/Gdu6rFqW6Gv5wrXCiSy/nL8/B5PN85gK++0IEZixuRpAVcvMHjDUxFZY60ljvxM3fUL+pfbF70wmPR0Xv/vIv6/GAQvRNRcVxz7vWMR2TxTWOpAz5nkURH8zlhL+OqksWLWPKdM1/84hfxoQ99CM8884zA19XW5z//+bSL99FHH4XHk3thxKc+9SlpP6CKzl/uS1hMGByPx+V3Fn93MT76ve9972ovRW+vFdAKaAW0AloBrYBWQCugFdAKaAW0AloBrcAtqIAGwLfgoKzjJWkAvI5i6kNpBbQCb0wFCIBPnTolPXzp/mWsczgczgmACXTZF3hgYADnz59HNgBmH0fCXgWA+Q/qdAaz2NO2qKhIALC3qh69c6UCgFOpJB7dXQOLyXXL7b97bligFB3AhBr+6TiujoQy4mnpPnvbjkoBHbl64nYPj+PfnjuHsvJKcXzRVXjXhtJF0ILuw56JiFyn6tnLXqyv9QQwN88pue+RttIlwV2u2UE3M+OgCbeoy+m+oPTOrC6xYymgtBQA5vEJZAhPzY5Ss0NwdDom8a8sAp23bs8/Qplg7WTPVFoHHoOgnYBMgWpC7f8yRUy/e3e1wKnVAGAed6m+wC1lznQEMOEXFwasZ6n46pHANIIjA6ioMgCwKkLvPfWenM7sla6Dcb7UfygYQ7mraBG8pIaMAq/1Zrpss4+70Es4hQafE1PRWbzQMYmpoAGA79rWBG+xU1yYhMjN5U5x7pp70a50rQSuhNNcXNEfiEjkuuqjS/BO5+pqYs9znS8TALeDDtrs4rnZbzhhWgxQ66Wz3bck9Mx2oecz1wlpGXttjmXnYg46f80Q/eJAAN9+/ow4gHdvas7o5cs4cvNiCJ6X0Jfwl8dXtamqWHqILz2uRo9oQmeONYsx2xxrcyx1matIkg6y4S+fUy4C4fuJDuXJqSCevjiIWasTRVbGidtQWWKTHsPUkjZg9Zyqa2LMPt9FqnhfjKXuD0RxbSQkYJnA/Lo/JMkA1I3zl+9hzrcCWosBsN/wanqkZ2vCuOUPf/jDkgpx3333rTRtF33/p3/6p/joRz+64n509La0ZEa9f/WrX8WXvvQlXL58WX4vHT58WK6Fv6d0aQW0AloBrYBWQCugFdAKaAW0AloBrYBWQCvwxlBAA+A3xjgudRcaAL+xx1ffnVZAK7AOCoyOjkr8JYtwl5BXAWD+o/mWLVsQDAbx8ssvy3e5APDrr7+OoaEhEACznnzySYnQZPRzcXGxgCv+wzodwHR71dU34Gq8FInkHHrGZ8TpuaNuAZoQEP7goj99dwQYjFllJCkdkuH4XPo7gkI6LnfWecSZZi72Mz760mvwF1XBV2r0CCXIJeyoNDnXCGmVs3Z/kxeM3mWxJzCBKwEZi9DtUKtPYE2+RTjE47O3MPtysgiBf+nuppyQazkAzH0JgAim6dBT5XMZbt3x0OxNO2gvDk5Lv1pV1IuORYJLRnE/ZhqX9+2tEfBOAEw3HRcP5FsETIyW7Z9cuA9qlEJK4r4Jsu5vz93XNd9zZG/3rTNDAvQjkTBKZ3rgrW3GRKo4w43MfRh9TAcs463zKbpYv/pKXxrMEwISwLE4NnT81q0AftV5zHOREchc5MDo6iu9o5gIzuDu7U3wuDLnH93enJPcNh+XOs9xvDuAydDswjhbCqSn6656jzwjN1vLAWBCXPb6Zc9fc3HxBXvU5lrMobbLBYAZXfzIEosdcvW5ppOVPcWzofmlgQD+cx4A79jQJI50Ve/YWQVH0YIbfioyK/DX3D9b9frOpd3z18cxMu/e5zuG0FXFnZuTAbhvLvjL++AiFUY7L5wzhcv9EzjdPYYihxNOu13g8n/bX5deCMLjqeeUP98YC2ekG/A6Nla60OEPp0F2PJHENX8YloIC1Hnt8h3hL3WTXOn54nxZzcKDbF0+97nP4SMf+QiOHTsmyRO6tAJaAa2AVkAroBXQCmgFtAJaAa2AVkAroBXQCqynAhoAr6eat96xNAC+9cZEX5FWQCtwCynAHop05EYiEYm/VACYf+c/yisATJD60ksvYePGjfJncHAQ586dw969e1FdXQ0FgBmnSXhDAGy1WuWYDQ0N6O3tTfe0JQBubGzEQEElusdncGVoWsDC9lqPOOd8riKBHMe7AqJUNtwZn4njG2cG0T1uAqBOK1orXBKvbHZZ8rpfe+01eGua0Bt3i7ONRcDFvr4Klv3g4ihm5nvzEg6bXZp0db7UOZnet6AA0k+zpXz5XpPmYSYEfuLSKE50G7HSPMZP7auV+82GXdevX0dfXx/uvPNOOBy53aLKTUyYo4r9SemgPT9oQGbe2wNrBKjsVcwIbNX/lNe7t8Ejx3zy8lhaw0f3GBHT7BftdDpXBYDVdV8Znklfs386ht7JKGo8Nuxt9OK++Uja9XhkzOCQALgy3IMdWzahsqYOF4amM/rC8nyMQd5c5cbmGveSQJTg9/LwtMB4xubSsc5qryoWyE/wm70oYaV7IVQcCRrR0Woxwn+eHcLwyCiG/BN40/6tmE4UZIBH8zH5vDSVGTA4253JxQOEed87N4yx+T7D8jxYgE1VbvzcoYaVLi/v75cCwOxnfaI7kOGupfuYrt98ITmPba6l+kUPyQKOQPrZ5T5bqoul53MuyHx5YBLfet7oAby1rTGj57bZRUtgS0exGm8el88ywf9SRdjL+HPWvkYPnDaLvFcGAhFx2G6rNXqa02nL2GebtVCALJ2+PZORjB7d3I4LJbrHIxiZnMbQ2CS8Hi9qytz4b/tqUeNx4Kkr88+ppUASFljZ8JfPBN8b6t3HbZha0D0eRqXbDqYLUCe+Axn1HIon5Jr4Xb59l5ebMJ/97GfxJ3/yJ7KARDtv83609IZaAa2AVkAroBXQCmgFtAJaAa2AVkAroBXQCuSpgAbAeQp1m26mAfBtOnD6srUCWoEfjQKMf2b/Xjpzu7u7FwHg5uZmbN26FSsBYMJgQmECYPYRfuKJJ+QGCItZHR0dAoAJNI8ePSpQeM7XiG+eHsBMdFZA1eZqOv+A1nmwSljhn2EfVAcUaFSq0D1KwEHYqVyMdFxuqHChsLAAqs9qcUFcADB7GRdX1Am0UW5eQie6Zgk1VTQwj//mLRUCoc1F4EOAY+5bu7fRg42r6JFKqP0PL/chNjuXjtslHDzY4ssAjPkAYHVt7M/JyFZVjKSlG9RutUg8MCH3Wouw6pWuycx4Xo9NIo7pAlR9S3n8mwHA3F/1BWYErXIEc1HAzx6sv+koYnX/5v7FBMBV4R5s37JJFiOw6LA80zclLmpzMZ6XbmDGjKuiQ53uVToyFSQ/NxCU+cHtCdx2LgEZVxoPMyhUc+ybZ4ZApz4d9b/0yB2o8BaLm7RnIozBQCwDcJqPz7lNENzgc2AiHMfZ/mmJLeazxftlEZ5yMQOfn3fsrF7p8vL+3gyAd29rx09srQRds+zxbAaOBJCMYlaO6XxOsBgAWxdFTDPm+Ex/MGMRw77GBXd/rvNcGQzgm8fOwFdais0t9QiEE+nN+A7iwhHCed6DWkyS74IQFbvNA7LXsrOoEHSkDwfj0g94S41b3OJHWkoxOmNEPJsdyObr5TKDQJju5AIUJMI42zkkCQc7mypk0YDPaZX+4yzOx7fvqM6Av3x/joXi4jTmu0IV4S/nBxfSKGcv0xXYi32E8eZT7AsMtFU6saGi+KYj2j/96U9LhDMXF3HBiy6tgFZAK6AV0ApoBbQCWgGtgFZAK6AV0ApoBbQC66mABsDrqeatdywNgG+9MdFXpBXQCtxiCiQSCQQCAflH+La2NrS3tyMajUpfxmwArBzCjHum63fPnj2oqakRNzAB8EMPPQRCZbqHLRYLHnzwQbD/Yi4AXNvSjv86N4ie8RDopNxV54GVtksAV0ZmUFRYgEBkVqJt79tUtsi1x364BJQ3/GEMBqMCa+h+JJRV8MJlSSLYfw37N7egfWObgEaCGDMEPtziw4udk+lReeeu6oy+oOqLXJGvhHwEN/kU+3UyepcOTDrvlOOPsJp9dlUv0tUAYJ730tB0um8u749uPToR6UI93Fqaz6UtuQ0jmV+8MYHIfOQ24RDBkXKXsi8q62YBMI9BqPr100NpoE0nJKNpt9a4ReNCkrabKDpPv3tuRI5AAFwT6cHWzQsAWB2aUJcw1xzty+8IU1vKndI31wx+1X5XR2YkJpfXzd7FZcW2NV3tS50T6Shp5Sol8PT7DQD8y28lAF6Yc4R5nFsEhipi2HziaCKJwQDd8sbCCK/Diq7xCILRWXG6V5fwOgvSoHBNF51jp2wAzHhn9phW4JS7MGqbUczZfW5XuoZsAMzezQTMLD5bXBjCfuGquNjjSOvK/buvDgbwjXkAvLGpXmCoqvfurcHQVEwi4VVf8NVEwvNdpRY37Khzo3MsjBc7jPcO+3W3V7nEucv5pY6frQMduVw0wrEORIxrC04Hcb1nEBub6uD1eOQ9yT7OdBezCNg3VxeL9qp/MBe08Nkyw99iWyGmoglYTb3YCX/5bpYFCNPx9Fzha/qdO6tx6CbfL5/85CfxsY99TNoLHDlyZKVh199rBbQCWgGtgFZAK6AV0ApoBbQCWgGtgFZAK6AVWJUCGgCvSq7bbmMNgG+7IdMXrBXQCvyoFSAAZo9fxnBmA+CmpiZs27YNMzMzAvmWAsDnz5/HwMCAAOALFy5geHhYYlQPHz6Mzs5OEGrS4cU+sU8//TTq6+uxY8cOfPf1QcxEZgVG2awWOIssEjHKWN3BqZg4gg+1lEo/2Fx9Owk0Xu0OoG8yKvuxZy+BGKOQE3NAMByFf6gfTbUV2LWhQT5n0cGnIAu3jyfnUGyzSuzve/bULjkEBEKM6OW5VDFSdmf9Qv/ipXZW8avJVAqToTgq3Pb0pgTXhMCENQoAE4gwVjmfuj4akv7IBIGEwDT1PdBecdMOPZ6b90rnNGNqCcEJsN0OC/Y2eLGeAJjnOts/Jc7u8ZlZiZ9VMdsEWgSFhKtrLbobv39+VHYnAK6L9mBz+2IAzO85JxhNfW00hGhiTqKACc0IhQmC67329GIFOmi31ZTgVC+jho2ry+Uiz/e6zU5RAjjC/G+dGU4D4F992x0o8+RedKAig7sFEM6KY5PgTrmUeQ2EoW6bRXpgm1237AWrxjPfa11uOwWA+YyW1zbC58wcO4JKPjvL9ftd6vgEkuZ74vxgH3HCZfbHNveVpgP27rayRa7+XMe+NhTA158zHMCtDXUZzzmd+jy2Oi/dwEfaVobK6jwnuiclKpzPfyKZErB6fXQGoXgSRRb2JS/PGTXO+dVU6pRYb4JyOsSVe5vHdqXC6O/tQVFZA0pKDE29ziKJ2WYl5uYE6nIxBx32HI/26mI45p2/hOe1Hvb5DWX0Ouf7lm7/Tn9YnoNgJIHS4iJxF7dVFOPBzeXptIa1zpdPfOIT+LM/+zMcP34chw4dWuth9H5aAa2AVkAroBXQCmgFtAJaAa2AVkAroBXQCmgFciqgAfAbe2JoAPzGHl99d1oBrcA6KGAGwIxK3rx5M2KxmPQGXgoAE/AyOnr37t2ora2FAsD79u3D6dOn5arYG5g9gpcCwDt37sRrXeO4Omz0rK312lHtcUiv3IFADHT4EgyXumwSjcoY23qfU+JilVuW+9Hxd6pvKt3DlX0q6f4jZEnNJREP+rG1oRwVFYZDkPu6bIUCmAmcCTXZ87a9yi0Ozke2G67WpYqQ7fmOcUxHFyDwhkqX9MhdDmYxMvjCfH9eOh8dRRaBK6oY3XxXWxkCw73SM3k1AJjH4D0wyprAj8U+um/fWb2qmOql7plA9JWuAC6zV+54RDYrdVnx/xxpFJC4Hg5gHlNFWnPcCVvZd1QVFwNsrioW57RyeK9m+odiCTx20S+7EAA3xHqwadPSAJiLCujqJVgn/GYRrlMLXsvBZh/evrNKIDXdyezTq5zlP7GtclWRxub7MDtF6TAnAP7PswsA+NfedgdKlwDA6nngGJ3omhSANxGeTcd4EyY2+pwYno4J1GYfV8b90hlMuP7WFeb+avQmAO7ovIGhcArlFVVpxzth5+FWn7hd11rZAJjvh3s3loPuaXOEN8EwF1YQbudT14en8B/PnhYA3Fxfm3aBj83EMhZsGMB2oYd4PscmPCZI5TPECTQTTcizai8qlGeUjn1VfEc1lTkkdpzjwzLeOxMZrmQ60uttEfzg1csoLG2A210izl6C/dN9QVm0MDwVQ5G1UPbjdSv4y/cNe1QTZLPft1oQQ0BMRzJjurvGwjL3o7MJWWTjcRZJGgMXyzy8teKm49n/6q/+Cn/xF3+BEydO4ODBg/nIqLfRCmgFtAJaAa2AVkAroBXQCmgFtAJaAa2AVkArkLcCGgDnLdVtuaEGwLflsOmL1gpoBX6UChAAs8fv888/L71yzQCY/VG3b9+OUCiU4RDOBsB0/fb396O4uBiRSARzc3NpAHzjxg1cu3ZNgCa/pwO4rq4Ou3btwuBkGM9cGUUKKdwYi+A9e2ok0pjxqIxCZdxpMGr0pWQyaXWJHYSt928ql77B5jL3w2XvzN6JMNxFwPDIMLav+rT9AAAgAElEQVSbALDahw5JOoYLUYBgLAG7tUDcxvn0QY3OGjBGgUEek7HIB5q9S0YVEyTSqcsipNnb6BXAyP6aquhArsIU4hODqwbAPMZ/nR8RdzNdinVeu0T8EhKx9+laoKlZX4Kh78vxDWchYSL7Nm+tdmO88yyKXS7s37//pqbu6b6pNBTnOLPMkNw4rxUHmrzixF1N0XH5xCUDAEejYdRHMwEw748Rv72TkXSvU3X8YGQWfYGoADH2mKZje2d9CZrLXNhT70G1xy4xucod+sj2ykXzM99rVU5Rbk+XLOfKd14fkR7Ak5MT+PW3H4SvZAEWmo/LZ4bzzOwQ5QIJ9ibmeNEhS0jNxQIEwOYiRH2wvUKc14yvJjy9mdjtrx7vw4lL3ZhNFaCxxgDAPCYXcGQ/u/lqo7Zj71xzTDJBNkGmubcwe2ATNK8mXvr6UAD/Me8AbqitEd0I/emk5vPKIpy9d2N+jmJqPx1LYiIUxzNXx/DijUlE43MCaLmIYHYuZejtsgkArvPZxe3L+WTWnvHofN+EYguLTjZVuaQ39cjICB5/9RJSPgMA83kvsVtx9OqYLKigThXFtjT85aIX9krnePRPRgQUm9+J7E3Mc9PpT+jM54L9hrlgpsbrkOvcVFmMd++uXpN72zzWf/mXfwn+YZ/2AwcOrHYa6O21AloBrYBWQCugFdAKaAW0AloBrYBWQCugFdAKLKuABsBv7AmiAfAbe3z13WkFtALroIAZALe0tGDLli2Ix+N45plnkA2AFSAmdDhz5oxAXMJcBYB5OYyJJvStrKwEHcFmAOx2u/HUU0+lAfBsIoHvnBlA93gEQ8G4QAq69QiK2LeUsat0grLnqnL2cZu2ChfYq1e545QMqh8ugTHddgWpJOzhUTyyqx5z7spFYI+xqKf7pzAVTogTj7Gn/++djQL2Vir2lH2hcyIDpNHZS4icC7aawd72WnfaEdk3GZEYawW02Ou1JD6O9z2UfwS0ulbGw3aOhQSaEoApB22Zq0jiavN1Qi5179T0yct+iZomxKJzkTXa24HdNQ7cffiOlWRb9nu6JDkXWNtq3eJQZE9jOhTNcI/f0xlLQErwl09xrBkvzZqNRVAT6RYHsLO0WqAvxyGeSOU8FOEpHeh05/L6CFE5B1UkNWF793hYYsxZjFJeq9bZGhC4mQHwb77jIDzuTABMUMe+xXRpmovasP9re7VbdKJ7mds8fWUMjCQ3F8Em9VTF7Xl/Cgjz/3Str1SEzBeHpvHvJwfhHyNwL0BTbRXevLVSYrzzHa/lzmMGwISjw8EoNlYuxGJzbPY2elYNsDuGA/j3Z8+gtLQM1dVVMidGgnGJht/T4JUxvWdj2ZLu7pjEhceNyPDwrPxMiMyUgZO9AQQjBsDlIoYKd5GkHPA5YoT8W7ZV5oTVuXqPq2eDx2I/9qdPXkbCawBgQmQuNOEYz80Z/YX5LqDzt7nUid0NHnHuMuKcvZJZsdkkBoMxWWBDME34y/cbVzSMhuLgE8ZxY+oB33G/cHeTJCbcbNH9SxfwyZMnb3rxyM1ei95fK6AV0ApoBbQCWgGtgFZAK6AV0ApoBbQCWoE3ngIaAL/xxtR8RxoAv7HHV9+dVkArsA4KEACzx++xY8eQDYAbGhqkV284HM5wCGcD4HPnzmFwcBAOhwP33HOPuHwVAO7q6sLVq1elHzB7VJoBcDKZxKWBSXzt1UGBanQC08XIvqt0wh1pLRUoOzAVxQ1/WFxoqjwOC969uyYNUtXnhB+EaHTWJpMJTIyP4RcP1+LQrs1pAEagzPOwCM7oOEYKYD9Mgq79TV5xKhKgLueCJFCj41bFLvN4dO9x32zQRQffSNC4/n2NHmyYh6f8O6/lpRsTAiAJgCcmJvDggW04vLFqVRCLrj/CJ14Xe73yP1V0SVLP1TpnzVNMAXbGbBOyqxjfzs4OOGxFeN99u9Hgy69vca6pa44/Zv9bOoxZhIqMz1YOarUvnbgcK3NU9FKPBONwn7k6Ll9zPqcmemD11cLu9uXcJVcML12cdITSOU6XJZ2yLLok6bYkQCNs4+IEOi3XUhkAuMaNjVXF+N65BQfwb73jIErmATB1oYv8GiPPzZZYQCKEd9Z5coJoiSMemZFFFQSVsdk5iYMmcF+uCBOVY1XFRpufDzOsJ7QfG/fLHLx7ezN+7nDjWuTIuY8CwJPhuESSE8xumZ8r5nmz2hN2jkzh/3vmNDzeUoQs7rTDn8/y3RtLJWZagX3CW6YI8HmbCBvQN3uRAs/vn4kJdOf3fGb4SO6qK5EFDnQH2yyMgDYSAbKLc5b9t80LEwhwzXHRBMDPnrqMmKcRSYtd3N3+6Xj6WujsftPmClkAUuc1YrfPDwRxZSQk8fmjM3F5/9Bxz/PcGOPnxpzmIhyn3YJS6d9cgMqSIvzMHfU3Fd9tvsc///M/x8c//nFpG8B2Abq0AloBrYBWQCugFdAKaAW0AloBrYBWQCugFdAKrKcCGgCvp5q33rE0AL71xkRfkVZAK3CLKWAGwM3Nzdi6dStmZ2dx9OhRLAWAGUfLf7RnH9/6+nqBw4Rq6u9PPvkkysvLxdVlBsAejwf8jn2D2T+YAJjnf7lzAsc6JtA9ERF4kZibQ2u5S2Bac7nRX5d865WuCYmKVlG7lPJQqxePbKvKcCcSgvzDS72IzyYwNjaG3Y0+/PQ9WzNAIXvCEgR//8KoAD3GRpc5i1A8Hy1dXWITKMLz0znncxGCLC6CoONdkxlwmpCMTkFz/OxTV/wIhI1eskfafItAKSOKCXu6+4cEALe2tqG5sgSHWxfD5KWm0OOX/OkeoXe2+TAyHc+IUKZZlgBJOXdXOxUJy9lfmUXASLhHDQmArdYicP7QfclzrMXpyftnDDOLDs7s6ySoOtk7ldEHldtynNgvd7m4X7qWv3tuWKBnKBKDO+ZHVVWVuD1V0elJSMY47+wYXm5z7Pp4GvZvqnRJf10ej3OA0cssmoAf3VWDrbUla3IBE5wqd+6W6mIBwN8/P5qOgH7/Ow/BXewSdyoXOdD9ay66dvc0eJYF/XSjdo0ZTmtWPMFjFGB7nRvjM7MCNrN4cs6pQr18ziJx7HMRBCGnzVoo2/I+gpN+VLsKcdfuzXhoS8Vqp9uS23/jzBD6JiLpseBCAAJVOozZN3etdWNkCv/41GnMFLphdy3AcN7fL9zViHB8TmBvfhql0B+IioOYscocp8hsEltqjOskOFfjTJf2rnpPxmUTpr/UOZkG+3TmcrED34vmIgD+/vHL6C2oxFAoJf2e+ezxfFwE8q7d1Xj3rhpJJSDwPdMflHcCr4XPLhcOECgHIwlxwnPhA99FPD/HlnHdfG/sbfLinTurM/qvr1Vntd/HPvYxfPKTn0z3k7/Z4+n9tQJaAa2AVkAroBXQCmgFtAJaAa2AVkAroBXQCpgV0AD4jT0fNAB+Y4+vvjutgFZgHRQggGWP3+eee04AnhkAE+4S6rKvr9khbAbALpcLJ06ckCu5//77xQWcCwAfOnQIXq83JwBOzs3hWMekOB1jiSQsBQUIRBISj0qgxV7A7Pu6ucYtsPilGwGBbqoYwfvw1gqJulWOxP84NYhT3RPwj41hU40XW5prxAHLvrjm+vbrwxLRSghMh14qteCa5blbypzS95UQiGCwqcy5yN1Jtxxdlb0TCxG8dN7ds6EsDabZn5dx1qLTpjJUltgXjR57C3/r5cvoGvQLALbZbHL/d20ozctRaj7HA+3lAgEJmc70TWUAvbX2BTb36GWkLHuQEiJ9/ZmTKLAYAJhFJ/XhFp9Eza6mzICV/ZSzYRePxXGnE/nqqOFUVEVn5v4mT4Y7kXCL/Vt7JyKGU3bUiD0umEug2ASAq0psMracZ8tB5Fwubt7/6d4ATnRPpa+FAJbwjbHRjKrOjipfTpNsjdlv9X9fWADAP//wPlwbT6Qd7OpYdPAywpnztYC0cJnKBsDclPP74a2Vshd1Y2Q2HagG5I4jEjfmbnbx2SE4VC5Vm6UAbocVM9EECkJ+OK0FOLBj/QAwz/eF57oz+uHyGWF0+82423lfr1wfwd8/exl2hws2Z7HEIDNyngs6ttVmAtql5OU4cN5z3tERXGyzCHwlOHZaLXDaLBmLJ3gcc6Qz/87FCoyMZyoCiwCWcfhmuM0x4rx+7Vo/Tl0fwECyBClY5Hr5vuJ5+QzRtcxFGeod1TMeMfoaB2Pi+qb7mItuxkKzcFoL0T8VFQDMvsF0sfO5+omtFXL+lebVap51bvvRj34Un/70p/H6669LOwFdWgGtgFZAK6AV0ApoBbQCWgGtgFZAK6AV0ApoBdZTAQ2A11PNW+9YGgDfemOir0groBW4xRQwA+CmpiZs27ZNXLmMcc4GwAoQ+/1+nDp1Ctu3b0dvby+mp41ekg888ADsdrvEPJeWluLAgQPo7u7GlStXQADs8/nwxBNPoKamBnv27Ek7gOlMI1xgX8qzA0EQUtC9SscnQRphhNdlFZfcm9rLxSX6jbND0rtXlc9p9NJUEJAA5XTPBF690oemihLsaK1bBFLogqO7UtWbNpdLn1g6iKcihMEA3YUbKlyw0u5IeFgAcRIrYKicrryH033BjN6q7PV578YygSjmvqU/sa1yyT6i16534OnzffDWGQCYxf3v3lC6IlBd6hwEeIyqVgCax1xLX+Cl+hg/fexFdMxYUV5rAGAW5SIgNkddrzT1VYQ1tzvcurybczI8K9Cd42Su5jKHuHgJuAjS2IOVRVcrnY9ybakEyhN+7NvUiIPbWvN26r7UOZF2ehPyEu6ygtFZ/K+X+8RFTmiX3X+Wccl0WRIwLxcpzmOd7Z/C9XlQzePTafzYRT8Gh0fQOTyJw9vbUFRkzAsW4SC321rjXhZemzUyu4zV52YAnGuc6ChNA+GZuNwr4Tddv+Zy2grRUubC5eEZiYCms7i5rlpcyXQH2y2FsFkLTD/z74XiLGUc8sLPBYuAY6c/JFHbJ3sWFjS4bIXiqH1ke9Wiyyb0JMSNJ9X/59J/n03MIZack7h0PhfX/SFcHpjCtcFxFNnscNgdAsX5x261ZPRHNs9xumTL3TZ5ngj6CXvpZDfrwsUglW6jNy+L84Dvkf75ns3m2GpqynmtFjfw/cL4ZqYhsDgOHf6QvKMI3UfHJ/Bapx9hSzGsFitcdotA3ZZylyykYdoAo9qZUtAxGpIxi8zOyXuNYJgu5YTokJoH+XOyOIVjwYU1dBDn0xN9pWc71/d/+qd/is985jM4f/68tBrQpRXQCmgFtAJaAa2AVkAroBXQCmgFtAJaAa2AVmA9FdAAeD3VvPWOpQHwrTcm+oq0AlqBW0wBwl7GNz/77LPIBsB1dXXizIpGoxkOYQWAGeXMCFJGOweDwbQDeDUAmHHTrMJCA7ASMp3oDkjEbfe8W42QptxlQ7HDInHMhBKEq/95ZhhXRmbSTjn2KCWsNVy6hbg6NIWL124ADg/2bKhLK88oVcIP/3QMz12fkM8JoNi7lec63hUQMMIeo4z4ZawqQZw9q68r4UyN1y6AWvVEPT84LT1ZVRHeMo756StG/1kWz8Pz5arOzk50d/fA1bQd/dMLrks6+1Rf4lz70RH47bPD6a/evrMqwzVM2M37Ur2PueFq+wKbAai5F+lLL72EIpsN9rrNGffOc9T77DjQ5EtHAy83/Z+87E8DXbqeVc/SpfYh4OOiAWo+EzP6EtOxSnjGHtLm2G4CY84pjlONqwDV4S5s3LhR5ny+tVSPYkI5unSTKaOHNV24hGzZRTi6saJY5p6KSs7ehoBTzR+CPMZbf+3EAK72+TETCuHNe1rTAJiAjosi+CyspswuY7UfXbT5xjRTR0JkuoRD8aQ4XTm/CEH5PDAaXPUAJgBuqq0WQL3aElBsKRRo3jMRllQAPnMEwSSovGaOp9dBh657Hu4S8qYQT87Jc7tS8bnpGgshGE0iFI2ja2QCDrsdDRUeOJjnDci7ZFttiehs9EDmeW0Ch81An85ZPiPmXsAEt1zMwHeZigmv9RowNzvunPfFRSSq+MzfvaFMnM18V12XPujRNBzmnD/fOwb/xBQKHG6UuZ1oKneCrnG12IPP0eWhGel1zn6/fDbYP53vSPZULyoswPB0TK5FLW5xWOkmd+Mt26pWXHSykr7Lff+Rj3wEn/vc53DhwgVZTKRLK6AV0ApoBbQCWgGtgFZAK6AV0ApoBbQCWgGtwHoqoAHweqp56x1LA+Bbb0z0FWkFtAK3mAK5ADB78xLirgSACW3pUq2srERfX18GAKbb94477kBPTw8uX76MgwcPiis42wGcDYApDyGsglSETZ1jEYmUdTssKGVfSocVb91eKfDrxc5JnO6dEkcii2CV4CyamEMgFEVkbACV5WWor61BLLEA5VSfWoIqFsHOg5uNPqUEizy/6pMaTSTl/IQ+CviY3YUENYxLVT1Rg7EERoMx6SdMgAWkBAhyG0KW9+6pWTJOlQCYmtExPRiiI3QBCNHteaDZJ+7j7FIQUn3+nj1G309z8Zp5POWE5Xer6QtsjmhWEJ3HIADmPOB4M16WDkaz25jg81CzL2fstfn6fnBxNA3P6JxmH97s4j0QPBL00mXJBQOMsKWzkTDSXASErRVOiZKmG7JzjGC+AM6CWbgmO1YNgJdyQBM8s/8yi+NL7Qnq6OQ1A3d1bYSYzeVO6XHMmHNzmfss09VOyMd4abrsI+EQHtrTirISlzhqlSt0ta8URoJ3zLuh1b75AGDOMe5LcGguQlhGtBNqqzFhHHn3wDBSdADXVkvv27XUdCyBrrFw2snNYwxMRQXC8nliEczSYb3a4v10jtFJa7wXCIB7RydQ63OhotQrMcr8w9j4d+2qXnYRAwHty12T6ShsHo/wnuOk+v2qdw37ixNNs28yi1HNsdk5Wcigiu+xu9pKwXcJHb+qf7j6npHS7INsS8URDY4jai9Da5U3Y04Qbs/NzUn0uXr3cVFEnceO6disxHr3TkblGeL5Kkps8n4lsCZ4Xi4OfbVa59r+j//4j/H5z38ely5dktYDurQCWgGtgFZAK6AV0ApoBbQCWgGtgFZAK6AV0AqspwIaAK+nmrfesTQAvvXGRF+RVkArcIspQADMHr/PPPMMGhsbxYmlADAdvrt370YsFstwCI+NjeHkyZNyJ4xynpycFGh53333wel0Snw0+/1mA+CysjI8/vjjqK6uxt69e+U8uQCwkqh7nP1rgxgLxaXvK2Oh6VijI46wiXCFbuBLQzO4MDCN3gBBcVJcgnU+O7r8M5gcH0NrlQe//NB2vNyVCSYJblVEMPviMkrWXMpdqj5Tcbt0F77YMYHhoAFwCHQaSjOh7Oh0DH2TUYm7Zbz1RCiOrdVu1PkcePfumiVnwY0bNyQ2mwC4uLh4UT9Q7sher9mOSvZGffLymByXzPk9e2qXPsca+wIfvTIm4JVljmh++eWXUVRUJOPNohv0tZ4pjAQXQCHBKK+Zf5aKQc7VwzgUM1y9dGITVPE+VW9U8w2yxy/hM52+nB+EowSTjOve3+iVvrYKwBUXJuCYuL5qAEywTScna1uNG9vrSuRns/ace4/uWRhfXg+jf7mQwdS2On3pvE5GOCuYe2FwGmf6pyQemACuym3DpeEZAcCxSAjvf2QntjWUrRglvdxrxhwzrbajVm+aXwCRa1/2kiacVs8Lt+G9ci5ywUV2f9hvnB5C541OLjHAjs0bcLi1VFy5BJESyzwfwWz8nJI4ZvU5dUqB/ZsNZ6q52F86GOEcXFjcQIiu4rhzXTufW74v5A9jpi3G83hjPCxuZd4HF0u4rHO40tGNyvJS1NdUpw+1kjbSi7cnkDG+5lhnHojvMj4TLM5PLmRQMdEE/XQ3qzLeXw55fsyLVtT3nG/8nJHT08EpDA8Po6SiFvUV3vQx+Ay+2hOQvsNqIUi5u0ic8VywwHh0xqQHI8bCGh6LPavvby+Xub3e/X5zjcuHPvQhfPGLX5QFQlu2bFluyurvtAJaAa2AVkAroBXQCmgFtAJaAa2AVkAroBXQCqxaAQ2AVy3ZbbWDBsC31XDpi9UKaAX+TyhgBsANDQ3Si5GusSeffBJLAWDV15eA8u6778bVq1cFWuYCwOwRTIcX4WB5efmqADD1IKxgJDSdlNf9M7g2EhZ4Qsei225FhbsI/9f+OnF/nhuYltjm/gDBCV27swhPTcDlKsZ92+qlLybdgyoalpGrtqJCNPqcOaEqz78U3OEx6PijQ5NOxKoS2yIwyWvunYwgFEvK9RcUAo0+B968pRKEMWUumziP6RRWlQ2A+TnB50udkxkwiM7WfY3eNAjk8Z+9ZsRMM9r5HTsXAFauebWWvsB0uXI8WOxJTGckKxsA8zP2RL42GgKBphl8En4davHl7LvLHsYEYXRmbqpyGWDQ5Npe7vngWNJVSScjgbxtPr53YZ+UwEtC1RJrArax1QNgc3Ty5upicaCzCHmfvmLAdy4qyAX4CeRu+MPiOM11TwSb5a4iiTS/ODQjUb2cGwTY/MwyG4JjNogPvPuwLLK4mVoNAOb8JjhXblV1Xmq8r8krz2CuIgDmXC4sLMC+7e3LwuXs/fkMs2c1nd0E90n+SaXE+U5Qzth2asiFBExSp0YHm42YcRUbrfoJ8zPVp5vn4buDIFv1WeZnXJyws64ExZYkvvrUaXChSmXlQk9hztkH2stz3id7HXOOq+LiCy4kacxaEMIFAIxgZ9G9zPshyO2diIJjz17CXOwwE08IjLXOR+KbT1pZYkMknpRnUAHa8PQUvJFBTJc0weE0XNBcfHKyd0pcxY2l7DdcgGqPDTtq3egYC6d7rPN7OoI5lgTovEf1TN/M/Mp33z/6oz/Cl770Jfn90d7enu9uejutgFZAK6AV0ApoBbQCWgGtgFZAK6AV0ApoBbQCeSmgAXBeMt22G2kAfNsOnb5wrYBW4EelAAEwe/wePXoU2QC4pqZGHL7xeDztEN62bRteeOEF6Ru8YcMGbNq0CVeuXBEAfO+998LlcsmxSkpKJPY5GwAzApqR0fv27VvRAaw0IAC6MGT01qVz72TfFELRJBgtTFhCyPPQ5nIBvIR0BH10g57smUQ8FESFpxi7WqokwjmRnMN4OC7gqmc8ItHMhLE/tbcWzeWunLLnind12y0Cf+lEpEOQ8ITRxHSqMp6V/yf4JRwkcFJuP8JZgltzvDE/IxQSR9/YEALDfThy+CDc7oXYXJ7rxc4JTEcXYo55jCOtPoGajBwmJGYRKP3E1soVp9BSfYEPt+SOa87l0OVJcgFgdXKOFwG+uS8qIR01KLFb5929hl6MmCb4ZG2vdcOR1XNZHZOQzeukXoZm1I7AS0HK/Y0eMNT3/MC0AEQW3ZRDwag4tTd4C2FdAwA2g1MC6j0NhuOSMP2Zq/nBd14PFxUw1ncqkjCcoOFZ6fEajs/JnOI21IbAj25Mfj89OY7pqQm8/11H4HAY4H2txRhwupLNlQ05CfDZc/bi4IKG3J6Am+CbfYyXq7UCYGpzqm8qo39vicOCQy2lsuiD9Z3XhzOcyOypy8jilSo6m8QrWX2wuWCACxL4LA2MTeEfBQCXyztKFRd33LcpEwBz3AjGlSOc2/JY7NNNLbPL/HyydzBj7gn6+XxUum0Iz87JognGgpujlwmv2a+XCQXc3uyqpy5tzhj6u65j1NWCOYtdxpVziy55gm2C6PbqYmyuKpa4/JHpGPwzMfm+orgIzWUubK11454NZavuJb2S3it9/8EPfhBf/vKXcf26sRhjLXXq1ClpV/Dqq6/ixIkTGBwchN1ul99py9XXvvY1gc9cnMT4+sOHD+PDH/4w7rzzzrVcht5HK6AV0ApoBbQCWgGtgFZAK6AV0ApoBbQCWoFbUAENgG/BQVnHS9IAeB3F1IfSCmgF3pgK5ALABBHmXr1mAEywy380ZxEGNzU1iYOrq6srAwATXjLGWAHgAwcOoKKiQo5rBsDqH+rZT9hcuSJIpb9s7xTCsYT0smXEMuNNy902ceESyt3dVoYrIyFxCF4eDuLcjSE4HQ7saalEU5kBrQiB6U7tnoigxG4RNyr7bT60tTLdVzR7tINRA8AS6rLowqPTrrXCJfvnctwSsBL8Hr3ix7GOCelLzOusILQkfCl1ikPSXGNjfoyPj2P3lo2or/AI3GSPU8IlFmNkzX1lCZMIv3gt5ojZpRyL2fe1mr7A3359OA3m3rylQtyDrOUAML8PxxN4tWcK10ZnRD+6telkpAOasbPUgHPudN9Cv2M6Mgn2WYTt1EvBXp43O0aaY6PighkNTkcjHZWEdIwO59xh7C2rygU0JgZxaMdGmb/5lrk/L/u7EmKzzO5rLkp4+47l3dfcR2KyuwOii3k86QolGC6yFmBvg0fmFXUZHR3FzNQEfmsdAPDrA0FZTGEuMwDmNRCoq0ULart6nx17G71LPiPm45kB8P7t7en+2ktpTSDKuHf2cjYXwSfH0wxFv3tuOKPXLq/rzrblAXAuxzuBMoEtn1/W0HgQX3ny1CIATNfxPRsXjs9rfeUGYaoRAc8ijOVzuJQjmvPvhY4J2ZYLPgjWea8E/pzX1J/wV8U185oYrc3+1VwQwPnNeaGK2/Pa/cODuHz1GjoKGnBlfNbohT6/iMJqKcB/P1AHmuFf6JiUxSgcU4LhWo8d7dVuST5g/+Yfdr/fXOP+B3/wB/ibv/kbdHR0yGKitdS73/1ufPe7383YdSUA/Du/8zv47Gc/K076hx9+OL0Aiu+gb3zjG3j00UfXcil6H62AVkAroBXQCmgFtAJaAa2AVkAroBXQCmgFbjEFNAC+xQZknS9HA+B1FlQfTiugFXjjKUAAzB6/7NtbX1+PnTt3CowjqFW9etmnl65eRkKz/y+Ln23duhXNzc1pAHzPPfdI31r2E+b/CYD7+vpw8eJFmAEwQfD+/fvFNRAUUVIAACAASURBVEz38GoqngSuBwswFQf8EaB7pgDJFOCyAi4LUGJLod2TQiRZAH8UGIsWSASx3ZLCBk8BZmkNJZRMApcnIX+3FACbPEC5E9heCnjtmVBWXd/sXAEuTQIzs8Z+PdM8LlDrAu6rR86+rATZ1wIp9E6nMBgGHIUAuaky8pY7IH2NVSXn5pCam4PFYkVBFhxW24xFgPBsCmTmvHantQCldmAyxr8XoMwB7Cg3ep0WcZvCxdeWDdiHQnO4PjmHFOnQfNW4CtBeWij3xTnxXH9StOafXRVGtC51mJoOIZkqQJHDgFWJFDCbpEb8mfsaB5yKzWE0nJLxUKche6tzF8JaAHQEGOtr3M+R+iKUOQpRYiuQ+1iqJ6n6/IJ/FqNhY3DbfBa0eK3pfQamk3hlIIaRkHEhJUUpeAujqChxYGu1C+VOAwCyljtP5+QsugLGAoC6Egu2VRgAfDI6h9PDBgzktd/VaDh0cx0rGEuhN5jASCiR1iWWTMkxAtE5MPGaunFeeQi+nYXwh+bgRAzFBXG8c1cNrFYjdnm5Pq3L3cfVsRi6A0YvZ1VlTgsO1DvRNTmLzom4OKhV2S0F2FbpQE3J4rjnXOfhZz+4Ni0LGfhzW30ljjQu7hOsjj8VTeLscFRcsKr4TGyvcqDeu9hN+1QHexEvzKFqdxH21y84krOvqTcQx8URowezmncNXht2VDvTwJX7jAXD+PbJbnHel3g80h+YVe224o5Gw43PxIBX+2YwE1+41lKnFXc0FMuChaV0p8P9ld4ZTIQTuDYWQSCSTEejt5XZ0V5pLAYpd1rRVu5AdYmxyIHavNo7jSgfqvmiJnvrjes5c2MIr3WM4EbcDVPLbVkwcqjJWERxZTSMQDQhLnw+s82lDmyscGJ3nRvtXA2xRK30zOXabaV9+PuD6REswt9//ud/lt8X/D1intM8Dn9PEOYuVx//+MfleGwxwD9MrVgOAPNcb3rTm6QdwSuvvCIJFiz+fP/99wsU5mKm0tLSZc+rv9QKaAW0AloBrYBWQCugFdAKaAW0AloBrYBW4NZXQAPgW3+MbuYKNQC+GfX0vloBrcCPhQJmAFxXV4ddu3bJfT/++OOLADChbigUErdWZ2cntmzZgpaWFly7dk36fS4HgAl86fxlb2H+4zvPc+zYMQEm7LmpwAFBY64yf86fe4NJdAYSCMVTuDw+i+lYSvqB+uyFcNkK0OyxYDYxhyv+CAotFhRZrdhbbUVjiQXD4RS6AoRwSUzHUwLdCNroN/XZC3CgxooNpQuwy3xuxlFfHE9iLJzE1QkDAjGp+F0bbahwLriYzfu87k9gMmqch9RPufy4bwFSaCghZCUgNeKA47MJiSUNzhYI6OU5PbYCeObBNI89FiV4TCmzn2zH+ycs9RQBNcWZEJugmDCYEb7WAmNb+Xuh0Ud1bi6FqXgKHYGUwGnCMv4pKkyh2mX83Dm1MDKtHgM2s5JJIwrbYlEgNXMMCesJ7qVHbyEE3tNIzd1thYSmQLM7JQBbpT7fWU1obZwvnzlxfQoYjRg7NLpTaCzOvAZ+f36iEKEE4LGlUGlKUS4pgmzvW541oW8G6AsZ56hwAO1e4xwTMeBKwPicLHlvRea5qd14FBiKFMjigezifVY6jGu6MQ1cmiycX9SQgs8GDIaNY3O8dpenUGpLCfAnJF5LceHCwPwx1f4cB86D8ILJVL7iNbWUpOTcq6mXRxbmH/XdWbb4ueajPhAG+mb4FCwUt9/kTcGxxP296i8wnqX5KrcDm32Lj0/du6aBkfl5wc15Vc0lKdTl4J6897Pjixd/qONz7C4HFhaRqHmw0ZNKz9VsjXgN3I/3eWK0UOYKz6CulgsgdpYa11PrSsFtrClIz6trU8YCFlX1xSk0uIDRKNAfKpDxGg4XyPsgNq8Jn38eiwtgeDYalWf5LBcYY1nlBDZ7V57vqxnvfLf9zGc+g+effz6vzQlrH3jggby2VRvx98hyAPhtb3sbHnvsMXEAv//978849m/91m/hC1/4Aj71qU/hAx/4wKrOqzfWCmgFtAJaAa2AVkAroBXQCmgFtAJaAa2AVuDWU0AD4FtvTNbzijQAXk819bG0AlqBN6QCBMCMeGYfxaUAMLehQ5hFWMt+jey5mA2A7777bnHPPfvss+KkYl/F/v5+XLhwQRy/ZgBMmEwHMI9B11Z2BHQ+Yqv+suy9e2lkRnqr0oFa7rLB47Ci3mvFy5f64C52wuvxor2qGFUem/S7PN4dwOv9QYlFJTSNJ1NpRybPvbm6WPro1vkW91slkGSM7n+eGZb9WNtq3XhkWyUqSxZTxMcv+SUymnWkzSf9bs0RvAShjDzeXO0WkH7xejdatuzEudG49PNk5Czvif1rzcW+sX2BqFw3wTHjZBkZzf6s7P25luK5boyFM3r2EhozqrlrfCGel/HEKr6680YnLIWFaGlpzXlKRj+zdzHdiHsaSrC1pkR63g4FY2nXdGw2if6pGFrKDFfmT+6rXdXls/dzp99wFnLs2KfWXGf6ptDhDyMUTyAWjcI/1C/zkfNZrTmocBdhe22J9GRVZYbPV0dCOD80LV/Ve+w43OqTn9nflb1lWexN/KZ2Iy6YMeTU8sZ4BFFxt2ZCSsaBb6hwyj1TYxa3PzMwjUAkgXhyDg5rITrHIgjNzCARi+DubU2wMtOXvZ4dVtSU2KR/bbnLcDznA8svDoekvy+L05fxxLy+Nlrg58tZVIhddcVy/Fy10nm+e2EcAwMD8lzv2NiIu1u9GdfG853un4afRH6++BxsqnCIGza3B99YDPDE1YBoo6rOY8P+BnfG8enUPdU/g8kIHduG7jZLIQ40FKOMcQHzZb6PiWAY33ytK+0AVtvUe4pQV2LD6UH21l0Yw43lDrRX2BfpznHnffHP6MysvCN6JmOg89pcdF03l9rwnm1eGUvzNfVMxnHJH03PGOqxrcout0KHNuPk6ULu9IcQjkSRtNiBQguqi62yAOaKPw5GQLMfOq+5xF6IXdUO1JYUYU+tQ5zqqxlXbrvSmOdzPC4sunz5smzKdIjXXnsNP/3TP53ud85zqPP82q/9Wtqhm/Nic3y4HABmuwGfzyeJFzw3e96bi73t2cf+vvvuw3PPPZfvKfV2WgGtgFZAK6AV0ApoBbQCWgGtgFZAK6AV0ArcogpoAHyLDsw6XZYGwOskpD6MVkAr8MZVYCkAbO7VqyKgqcJdd90F7nPixIk0AL5+/bo4gvMBwATNHo8HgUBA/tF/3759AlDWAoB5Pap3aPd4GH2TEYF8U9GE9I31OSwYGhmFxUYAXCI9NtnPk7CNvWgJJAmS6jx2DExFQcBHYKKq2G6R/qOEgk1lTolPNde/vDqAC4MGEGSvUoLDO5p9sq25zL1zH9pSAfYeJaxmf1oCa1WNpQ5UzE2it6db4kx76QYdnpGvm0od2NPoFagY55/knPzMvraEm93jjJWdFbcgr2V3vUfAj9k9mGsWc3/CaV5Hrdcu/UgJYNhfWfqJzldibk7ib0vsVukpeldbmQC1IgLKq5dhK7Jgz47t8ncCdUbQsq8oNT7dG8DoTFwidXfVG6CbNRyM4tXuKbkP9gTmvXL7tgon/u/Djat66Mx9bdk7lb1qzXWyN4AuZmeLQxgY7bqMhKcOSXvmdvy+usSGbbUl0pfVXNdHQ9J7mlXnteOuDQbo5bw7Pg+ACeD3N3lx3R+Sz02cMn0oo9+rC/Xsf2yK3OYGBMCcF+o6uO33L4yib2QCsUgI9+9uQ5HVZBOdP6rNWiBzu9bjkP+r/sm5ROScvTw8IwsG2Ac7NjsnAJJ9k1nsb8wFCTfTF5Y9gNXCgAM7NsPck5rA/GSPMe6q2Dv5ULMv5wKK7Hv4r/Mj80Dd+KapzIFDLQuRveyp/ErXZMY27CF9pHWh328uXfyTQfzPx09JQkFFRWV6E74v+HyohQIcMvZ/5kILFp8XLsAYnooJTOfPqmRBxXgYk6HZdI9q3uu2mhI0ljnkmXh0T0363WIsLpkG55oqRrjX+5zSKzpMKz2AkWmjp3U4HAKiQdTXVqPQagd7lXeOheV5EhhqKURjqdG7eUNlsfw/+z2WS4sfxWe//du/ja985SuySIjtB9ajlgPAZ8+exd69e2XhB3tqZxfTLfg7ifHPExNGv2ZdWgGtgFZAK6AV0ApoBbQCWgGtgFZAK6AV0ArcvgpoAHz7jl0+V64BcD4q6W20AlqBH2sFksmkOIAZzcwev7t37xY9CIBVr96enh5xbdG1y5hnwtvjx49j8+bNaG1tRTYApnuKMZxHjhwRF+D58+cF9FZVVYnTmFHBPCddwSUlJXK+tQJgNXg9ExHQBToajIlr1j8zi7m5OYSmp+RafB63OEsJ56yFhbg4NI3mMqcAz3fsrILVUojrIzN47JIffmamzhfhD0EPt+P/Ccfo3GQd75rEucGgwNeaEjtqvYZbeEcdXa4G5CQA+s7rI+nj8VyO+f3pXH7pxmQa6nCj+MwkSqPDuOfIHRiNFuJ0nwEc6fK8d6MBHLOLLub/9Upf+roJkgl7jrT64LJZBBgLOE4SHqfSEDmWnBMX9NBUVGARAfmmKpeAXQLEkWAMV0dnBFLyGITrhNw89nv21KQvg/0zOaYHDx7MeX2vdgfA8WHRKU2grioym8Rr3QEBn1dGDOhF5+Jbt1eKi9dtX9x3NtdJLg5Op2E5AThBvLlOdE+id0IycdFcAsz0XRYnu6usBpeGpjFiGnO1H0Hq9lo3yooNEEy3Za7x4L292j0prt3obBI1nsWuca4d4MIAaswFAEtV13hY4CiLWrdXF+OlzkkMj4wgMDmJhw/twEQ0leHQzj4WASXna63HLjDYl3U+Avlnr09kzHOv0yqLHQ40efOCsEvewPwXaQBsseDA9nYBwISo5weCMo/MRRDO8y4Hrc3bZwNgPscHW4zx5rPPOW1e+MDnlvdmjl7Pdf1jgSD+9gdmAJwSh/3cHORdweL74HBrqYwhYS8XMYwE4xkwWx2bbnO60nnfdHJzjpUXF2FLNfsFL+RbK7c7t+M8GggYTmHC4FA8KYtZjOBoOrZT8izx3VFRbINjLozAuB+b2ppxrDsMpiIQEvN555jubfAK2N/d4JG5dysVI5f/8R//UX5HMH1iPWo5APy9730P73rXuwQCnz59OufpCH/5+y0YDKZ/N63HdeljaAW0AloBrYBWQCugFdAKaAW0AloBrYBWQCvwo1dAA+AfveY/yjNqAPyjVFufSyugFbgtFTADYEYx79mzR+5D9erduXMnGI1JF7D6fikATHcwge5KAJjnpAuL/xBPEMy6WQDMY9DReKIrgP5AFB1jIYxNx9A1PAGLtQgVnmJ4HBa4bFZxwDFClQ7H5nIHfvGu5jQcomv26NUxcWFORYx4WgK1Rp9DwBhBXkOpA5sqi+U8dA3zvMFIIiMuurXCKS5BumufvDxm3GMBBJyqfsf8jKDmRNdkGkCOj48L0PnJe3fB7nLhlRsqWtiKh7cuuBKzJ9tjF0blmgmMWsudAi3pHCREXQ78mKOTCRvpHDbXeCiOl29MCiy8Nu9KJFj6xbubBDKyVgLAK52DoIsw/XvnR8VlSfcwITqvv73KLZHOK7lRrwzP4Py8G5sAnJDOXLwHOiZZbd4CTPVcEgDc1NQknzGS+sLQjLgss4tuX0LrychsBpy9v71cAP8LHRM41jEhTtoSh0WuWZWjiI5mFzZUuNLgf7kXhQGTjTEnLOSYcA7QsRifnsCvvOMIHA6HOD0J7gkhec3LOb3pOKUzmNHHk5EEXrkxKQ5vVZzf22rc+O931K+bO9QMgO/Y3o69jR6c6A6knymem88hwaRy0ub7As0GwAT+dLYqJ7w6Dp83fp7v8cenpvE3j50UB3BpeQWYKhAIJ1BZYpPnn159nmsmlsREKEczZ9MN8J3AhRklDqu45ll0hHMRgNn1zcUOj+6ukYUDBP10D/N5YEz8dCwh0etq7scSSVkoUWyzpl3e4xMTMjdmbBXomZrFTDyJZHJOFrQwwp7XS+dztps9X61/mNv95m/+Jr761a9iaGhIfresRy0HgP/t3/4NP/MzPyMpFi+++GLO0zEWmkB6cHBQFkTp0gpoBbQCWgGtgFZAK6AV0ApoBbQCWgGtgFbg9lVAA+Dbd+zyuXINgPNRSW+jFdAK/FgrQBhLuEvHby4ATNjEfoks5RCempoS6Nfe3o62tjZ0dHTIHzMAttlsuPPOO+Uf0s+dOyewlw5gnofFuGiXyyXnJvBYDwDM486lUhLLTEco3YBXuwfhny0Cr6fETjhXLL1mw7EknDaLwNJDrT6JkDX34SRoITRk1CpddYzyJUQhXFQAh/CPoIcOS6/DKoCIvW5V0bXLvqqqPywjpd+6vWrRfOM1E16yLzAB8NiYHy3NLdhY60uDOoLEd+ysXnKuPnZxVK5lMBAV4ORxLrhM63127G/yCVjNLhUHzM9zOWf5OV26BMyvzTtT2R+WEcl0FhLUvnbi+LIOYLo+lbuXYPxAU6Y7l+dgLPBTl8fmY5NTcnxVBJi76jyLorXN97JUPLPahpCWsJS10VeIye6LGQBYbUfX84Wh6ZyAj+5Pglc6wKkB+0P3jEcExPbOA1UVpUyHKPUhwFvJeWq+j+w4aQJgxksT8s3OTOCX324AYHNxHnKeDs1HEBv9hheKztKRoBHpTcBOJzjjvJ3WQpQ4reJu5XNxZ1tuh/laXpBmANzQ2CRzzxyH7XNZFz1z+Z7n+xdGEImbegB77XI/BK7mOUPwqRYp5HPs8UAQf/ODU3B5yxBMOcVJy7lPxz6jvanTUgsRCJv5fqBr2z8Tw+j0wrXwOz4n5waMuHhz8bmms59JADPRhABgjiM/b61wwTIfET4dnZW5V+k24r055ry2Qf8EbgwFUOT2om/KeJcSOnM8H9xcsWLsdT66/LC2+Y3f+A380z/9E4aHh1FdvfS7bTXnXw4A/+u//it+9md/Vn73cFFTrmIUNX9naQC8GtX1tloBrYBWQCugFdAKaAW0AloBrYBWQCugFbg1FdAA+NYcl/W6Kg2A10tJfRytgFbgDavAUgCYUc1089Lt6/P55P9LAWD2/2UMNIEv+/seO3YMRUVFiwAwRTxz5oxEMj/wwAMS0bzeAFgNFGHfS51jeOHsNYwnHIjAJjHG9qJCiW+lW5P9fqtKbALyCOroGjW7BVUvUfYLHgvFMTodlwjYtnKXQJipyKzE2fJnQta3b6/CldFQBjyka49QgrHKBETmXqjZk4p9gZ8404mRUT+am5tRYLFhIBhDS5lTIOJ7s9zD5v2/fXY43U94d30Jro6GMnqgLtVj9erITBpM8R6WgoA3xkL4zrkRjAbjEkmr+vhKPK2/A+Uu65IR0Cu5c3kfvHc6RFkE4oyuzgaZ1I9RvrkilLN75967qTxD3mPXx2X8WFvKLfB3XsgJgNVOhLoXh2YyoCLnwOXhaenbStBLdzVrdDomoJ6sjk7fd++uWbPjsj8QSbu+CUnpJqYjmAA4MTOBX8oBgM03SgBIEDoU5DVFQO0Jfs3wlfOWiwVKnEUCLOnobi514p6NZRK5Tbhtdqmv5eVHAHytowNjsUJUVFZluKIZM76zbuVI5qXOawbAdMkSnKr4de7DecL4cxW1ns/1c871jU7gE98/h1CBCwVFDiPWOQXpjX1Hiy8NY9XxCGn5HWO2q0vs8j5h72GzO5jbKAfut84MLXJq87x8p3BuEvzynHwncaGJEfuckrHgs0CIzvHltkZP7iR6RqcwPDkDu7MYRUVWiZrm/d/fXoE3b6lY1eKDfHRaz21+/dd/HV/72tdkbjMRYj1KR0Cvh4r6GFoBrYBWQCugFdAKaAW0AloBrYBWQCugFXhjKKAB8BtjHJe6Cw2A39jjq+9OK6AVWAcFCIATiQQef/xxcWHRqctiBDRdufz+8OHD4vhVDmH2R3z55ZexadMmbNiwAfkAYPYWJiQOh8MClHnMHyYA5j3MRGL46mMvww83OoLWtPuR0IUAj045xqmyCO/o8tvf7MU9G8rSTj9CFkbmMpI1hZT03iRgqyqxCxC6NDwj+9Plp/qMTkUT4tDzOIoEDjJGmTHMjDKm03i5On/tBh4/24OahmYU2Rw42x8E4S3B4vv21uaEWnR4EgCrevvOKkFHr/ZMSR9fczHqd2utO+1iZsytcvYuB6iVw5bgkPdXP9/vmMfu6rqBercFP/XQwZwOSTqxz8z3MiYsI2jMrmyAe6StVOK1Caiz443pIiZANDuazQCZ0cl0P5qLsd4KzG2vsGK44/yyAFjte2V4Gse7AxIfTfCm+kMXWQuwo7ZE+uwydpcRvowI5wICAr+1Fp3QjAJmeZyGk5M9gQnJkjMT+MUVADD340IHjtc1fwiReFKco4wz5/85zxm9zHlNkK2KUF0tfuD3dKur+GJCfoJh/j2XizzXvf7DS7147UoP5goK0VJnAGDue0ezNwPWrkWn/31hVNy5dD1zXNgLl9HKLMJlgnlzzLI6B+PdGZHOOcwYZ/P/CcWvDE7hVNcobHYHHDa77EY4vqWmGHVep2ineisT/HpNLntGiHOemBctlBUXZThwv/P6sEBiVWMzMXSNRzIWOzBenjCZ5+KiFCNK2oiiD0QMdzDHYyIcx/jMLPxTIczGo2iuKsXuJgJ8C3bWl2BbzYKDfi0a/yj2+dVf/VX8y7/8C/x+v/SbX49aDgCfPXtWfr8RNvN5yq5QKAS32y2/nyYnjWdQl1ZAK6AV0ApoBbQCWgGtgFZAK6AV0ApoBbQCt68CGgDfvmOXz5VrAJyPSnobrYBW4MdageUAMAEtnahbtmzJiIheCgAfOXIEXq8Xzz//vEQCMxKa/R1ff/11MFqTvRUJlbnNoUOHfugAmGD72LHnMVtcidcm7LjuDyMhACaF2bkUqj02NPmcCMaS858bIJg9X9+1qxpNZS6ZGwRHBLGElKrCs0kU2wpxqjcoYJnFmFfl0huYigl8DccJg1NwO9jDl6685Z1uPT09uHK9E6nKTZhOWqWvKQGo1QL8j4MNaK9e6C+bvpZ4EoRiqt67t0YAGN2C7NvLmGczRCXoPdTiE/CUDRzZNzRXXRqaFkcsi2CKoIkuY947ATDdits3b8T+Jg9qPJkRxflA5qWcyARg5waCGAhkgmy6JhkTvbHSJfea7ZzN1vmpK37p58raVWXFwLXcAJgwndCeDnLCNoJG6hiIJNDpD6Ujudm7dUOlS2AdoSBjlenybipzrAj5l3vhDAejeKHDgE+qnzB7OxNYzYUm8AtvWxwBrY7HRQeMEb/uD2WARn7PeUmtfE4rTvYFcbp3KgNWmgHwctdnsxYYMNhulTlAKMy/82fGIxMyv94flPnoH/PL804AfM/GcoG/jM++2frW2SFxNqu4dfboZZQ7e243ljrTkJf9twX4RhMC6Y2xXHx2wt/uiQgi0TiuDo4LAC522gUs8964sONgi0+cvrkioAnbOUfNzxhhuloQos6oehdzPnFxA8eJzn7OIfa7bil3ibudUdP1XjvODU7LPRLW909GEU0k4SqyCPjmghRxD2MWzkQYd2xpxI7GcunhzUSC26F+5Vd+BYxlZux9Wdn6xI8vB4AjkQhKS0sRi8WkrQH7/ZqLsdD33nuv/GGKhS6tgFZAK6AV0ApoBbQCWgGtgFZAK6AV0ApoBW5vBTQAvr3Hb6Wr1wB4JYX091oBrcCPvQIKALM3L51R+/btk1jmo0ePSvTogw8+CKvVmgGAp6en8dJLL4mDkn9u3LiBa9euYTkATCDM4xAq02X1owLAhNF0Lnvr2vDvJwdwadhwRRJ+VriLJDbZbWPkbaH0EVVFR++BZi8IRIvthkuYAFgBWbUdY3YJhRhFW11iE9evKroCT/ZNITrfr5Sg6o4WL+5pK5PY6VwwiQCYjup9+/ejd6YA3zozbETRAmivcuGuDWXp+GV1HvYoPnp1XP5KMMoIYnPxe8Yr0/Woitvx/hxWC569Zuy7XJ9hAnCCLhZB4t5GrzihX+sJ4OylawKAW1tb5Xv2EjaDKLo02U+ZRUflwzkgsxkwE4ARuJmLQJbXQKhnLgJIgjZCfTM4fcu2zF7Lj18aTQPDPdVF6Lt6TtzrXODAYzIymefgmGU7jtX5gpH/n703DY7rTO97n943NBr7DpAE910LRVEUJY1G0oxm8XjGysT22IntuV7qfrhe4sqnTJw4TspV/mA7qUnde2Mnntx7k6nZIo9tjcZaRxrtIsVN3HcCIPZGA73vt35P4wAHjQYJUhBFcN6HhQLRffo97/m/bzeq8Dv//5OX48NxddjiHLfmCETntQDDe3vrF7mPb+ZDhpsGXj8f1ZcAVekjjHsaAFxORuU3awBgwK86fscWg1+ALe5b1szabxZszxWK6uYGjKJjV8S/KHZ7uXPnJgmc7sBUr9ul75WZWFTcLqc8vLVXvsKedDj0Bovqsj9UK3raeh5wemEipW73dKGkN2ZwcwWOb1zXsF2uZbkFQB2azmisOcUNI+euTUhLfVB29rVIY9ArQa9TdvdE1IldXXx2ANKvRNNzT/G5wXvDHiVvPfnch6NyeTJdAbvpyj7mPdfd4Nf12doRlq0ddTKd4X3F50ZR9yUR3sRyV3o5Z3Uf1/ldCovrnTnxZqLylQM7ZUPXyrhol6vfRz3ud37nd+Tb3/62um1x3a5EXQ8AM/7nP/95ef755+Uv/uIv5Pd///cXnPL3fu/35D/9p/8kf/Znfyb/8l/+y5WYjhnDKGAUMAoYBYwCRgGjgFHAKGAUMAoYBYwCRoFPUAEDgD9B8W/DqQ0Avg0im1MYBYwCq1sBOwAmhvP++++XkydPytWrVyUUCskjjzyiF2iPiF4KABPrzB/ycVLxh/gDBw7IyMiIEL1J7dixQ0Ex494OAMy14eQCAG/btk0dc+fHec80fgAAIABJREFUEvLK2Ul1cs73RS2LyyES8Lo1crXSe7NS9X6XfHpTs+zurbgXrb7AVtQrLr5isSz9rRXHX0PAI8MzGXWPcsy7l6cU4pRLIgBgxgD6AIjo7dsR8WuMMACOQvfz58/rOuCU/u4H19RRyVwBq7hNiYl9YE2DRvlSdtco0PBz2xfCT44BEgJQAVD2AlozP1y0uBB/4Z7Omhsa0Gu9FkiF25lC0++9+LZcTYisXVsBwBTXiCMTuGWHmkQLf77G/HBQ4oqkcNby2uriXBfGU3JiOL7I4Vrnc6or0ud2aWT2F3e0L3i5FRvMgwDgY8eOSbClWyTYuACM17p4QBvuT/qrfjA4rYfgKmXt6A8N4AYAU7irieClpy6xxNxocDMFgP7JuQoA5rWAR9ZNI2tTUfnfPj/vAGZN6UF9diwhucJCayuAn9cCkKtvNAAUs6fsZUF3xrTikQHjlR67Rf1ujy+ef21ZJhJ5BakVd32liOTOpOIS8TtlQ09HTYB6M7pov9toWvUGuFvnYq0Bp8x/OQWADnldCqIZj3FwR/PlKuXlyNnLsq6rRVqa52Hqfb31sr51IQBOZgvy1qWpOVc552YugGjeo/YCjHOjCH2ROWdp/j4Toc/zL97fpdA47HOpW//UbN9mPkOAvkBobragB7Xb6ZTGgEciQbesaw5KmysprtiQPLh3j/ZfX031W7/1W/Kd73xH+8vzWbcSdSMA/NJLL8lTTz0lzc3N2taANgYU/6cvPf3pL126tGKO5JW4JjOGUcAoYBQwChgFjAJGAaOAUcAoYBQwChgFjAK3poABwLem22p5lQHAq2WlzDyNAkaBT0wBCwDT85c/ivMHcfr78od0YC6glqoFgHFQcjx/MD9z5oz29a0GwABNgLLf75fHHntMfvKTn0ggELgtPYCrAbAlMo7aQ1dj8tq5qPZGtUrhkM8l2XxpAewCtNJ39v6+BtnSHlKnodUXeHAqLaPxnDpvH9vYLE9umQdHwLxvH7ym4ObqVEZagh51RFKcCzhK/CtF3C/RyaXEhESHLssDeyoA+K2LUTk/lpILkyl1mAIiKZy0+/sbNaLWHrFcq/+tfXMBoD4YmJ4DaOoeHU8qTAJOf+WejjmwbH8d87BimHd1hxe4kN955x1JImPLBomm8gv2MrB6TaNf3rwY08cBbV/atRDO8jhzAu5Sm9pD6iBeqli/49dm5NLEPMwGyBFJDdAGvFaDbEA68J71bvaLjF0bUMd7U1PzotOwlu31PtWaLyu2GHfrC6cm9HgioIkJB4r/+OS4Ak+qLezVGGKrrPmw1rUc39UnZ452RzYQ99hQXAGwIxWVr3/+IXF5vKrVmSXAL9CX1y11Pqufs/3c3FzATQXXK3Sfh8IFGYhlFMZPaRzx/Ct9HoBlTpKxqDhdLlnb1X7LAJi+24BQALsV3wwA5mYAenYHvW5dK2LJF7yPvVbfYpe6tXl/8Z33N2sGAAeuWsX7id7Q//3lI9LYvBAA45Tn/WEVc+HGDjt0b63zyr51DXM9urmRhD1xdSqtew5AfnwwPufm171S75Wv7OqQxzY16+O49FkbPlNII+AzghtT+HzheW4u4aYAbiThJoy9axokMXFNExj27Fl9APg3f/M35bvf/a7QUiAcvrWexc8995z8yZ/8ydzavPvuu/q7a+/evXOP/et//a/lC1/4wtzPOH//43/8jxIMBhUG53I5efHFFzWdgvk888wz130fmCeNAkYBo4BRwChgFDAKGAWMAkYBo4BRwChgFFgdChgAvDrW6VZnaQDwrSpnXmcUMAr8zChgB8D0YSQGFUcWcc38Ud4CwPaI6EQiIW+88YZG6NoBMMfSY5HniGvFPcwf5In4JB548+bN8uqrr952ANze3i7bt29ftKYAvX88NS5HB+MaJ2sVLTQBLfT5LdgSZQEvuHaBaxvaQurUe/dSbC4CFvftL+3pkg2zbkF7NDPAqjHoliODcY3JtdzHgCfcixasi0ajMjkxJg9s3yjrO5u03yf9P4FVRA/bHaXE+z64tlHHAxJS3Q0+2d9//X6awCnmDaxlXkQMO52V3r6/vq+3pmv1tXOTMhavROXe37cw4hYADHR5YO9eBVhAwXl3dcUlHEvnpSnoFUzLz9y72GX83uV5Hbd11sn2zhsDIVyRuGOBpjhET872KPa5HfJrs9cBrOPr9XOTc5Cyv9G9CACzDjixAb7NdcxzcVYx8BPYS9mv4+CVmEb2TqZyChntMHJ+Tzmkq8Ena5roG+xVvWqVfc8Ay9lrx69VADAO4Ef27JbLsfwCkMg4AOlNrRXH7416wJ4fT+qa22s5ANg6Hth+dCiuzmeK9zru4EKppDHSTSGvvHBqXK4MXhOHyyXrezoWxZbX6sUL7LWK5znPJXrzzkaoE/NNAVS58QHQjCsbjXZ11yvk5XHeI7XWz7rxo7qf9Ma2oOzsqpdUMiHffO6gNDa36s0wVtEvm5sKKOKzWQ/7/Hk950cD4C03WeBGp9iXlyZTeg30ls4UShrtDcDtaQgIe7074pdXzk5o/2Z6TWs5RKPq2ePaa9nnFo/boX2CH1rbKFs66rR/8OXLlxUAP/DAA7cMUT+pX3Zf//rX5fvf/76QKEFbgFupb33rW/Ibv/Eb133p3/zN38iv//qvLziG133zm9+UU6dOicfj0RuSvvGNb2hqhSmjgFHAKGAUMAoYBYwCRgGjgFHAKGAUMAoYBe4OBQwAvjvWcamrMAD47l5fc3VGAaPACihgAWAcUDhzgbt9fX0a3WxFNXOa6wFgIMTp06cVFtsB8K5duzRak+L/XV1d6gAmZpN+wTiu6DcMQHJCIFe4GJ/zLQWArdOdG0vIP3w4rlHF9gIk4v5M5opzjmB6ca5rCWpkM8ANmPq3x0YVCAFkiIEGphFhPBjLCGCTIkYYdzAQ6J3LMZlUN2pee7ASQwvYqfe7BQA8Pj4mfX1rdD1wOwK8iKLmvM1BjwxOZ8U1CxD55nM5FSxROJX39N24nyZQFpAFdLL3NX5ic5M8urFFnbr2eun0hMIoCqej3eVqAWDrZgFA6cGr0wpmKVzGAOqGgFtBGpG3aGWv6zmMb7QtcFq+fWlqzpUJdAOy4g4FxtLDGYexBe02NFUA8NY1nbJ7Y59C3+VENdNflihpq565t0NBoz0em7VnLOZk77lsvwbisdGBmwkigfme0RyDxmhNWTHOrNOZqyMyFZuWB7avF497/jWA342tFcfvjcCvNYcL40n5oAoAL2ffsI7EdBM5bQf8jMt1EwtuuaWJO75w4by43R7Zu3OTPLrh+jcl2PXhZgduIuBmAjtoJWL5/t6Iwmd7L+htHXWyfTaSfKm9wvvuvSsxG0yuuNEfWBORzkjFPQyI/M8/OigNTQsB8EP9DerUZ09zM4ZVmPnv6YnoOrHe3Ghgd0Kz/wdjadUKiEskvMvlkPUtFbc9hWOf2GeNiVe+XZZ8qaz7gPc4rl/eK8BtznVgfeOCPbOaATDg9gc/+IGkUin9rDNlFDAKGAWMAkYBo4BRwChgFDAKGAWMAkYBo4BRYCUVMAB4JdW888YyAPjOWxMzI6OAUeAOU8DuAAbE4vzFufvmm2/OOXWZshURTW/aZDKpfX77+/tl06ZN6kKrBsCMyx/1AZrUzp07pbu7+44EwMwP6PTTc5PafxWnoFW4GnEV1gfcEk3mFdbCLnsaA0Lsq0PKcmEiJTOZgoKenV1hBXHE0+IqvTTbc7evya9uXYrxgYZE21K5YklhMAA4HZ+W0TEAcJ8EAkEhRpr4aEqhc1tIcIlem8kqeAJiMS947fqWkNzTG1EIvdwCWv3Vm1e1tyrF+ETTPrimQVpn46l5/EcnxuaOAeYRu2sVLm/2Di46q/gZXY4PVWJvcepSQLN//mDPIkfo6+ejcwC+2mFsjck4AHerR639//F0Qd64OKVgEJBG9LTlAgWyjSVw57p0TT6zPizD54/Lxg3rZc2aNcuVSq/j746Nzh1vxWUTB3w1Wlmj7Z11sm3WvQwAxA1K/9fa/XNFe8D2zfYLBgraY6aB+8Bk4sajsRlx5ROyb0cFABNLvqE1KJva6xbB+htd0MWJlBy6WullbNVSfZd5nrVkD9Kn2ep9bb2uKeTR/Vbd9/ZWATCglrlVw3Pmx3sLpzyu/RlbdPv1HOPc6IAzHLe+vdi/wF8LxPIcUcT/1/OHpL4KAHN9FydTc+dED8ZlDG7OqF5bPkuuRFMaJY8bms8CPhNwOLM32Zc6r5G4jknfaqpYLks8k9fxIv7Ka9gD3MTAzSO4u6udzcTv87UaHcC/9mu/Js8++6yk02ltEWDKKGAUMAoYBYwCRgGjgFHAKGAUMAoYBYwCRgGjwEoqYADwSqp5541lAPCdtyZmRkYBo8AdpoAFgHH4AjaISu7t7V0Q1cyUawFgK9bZAsD0XSRGGniczWa1tyJRqpOTkwsAsNfrlf379982B3BbW5vs2LFjWcrjvPvboyPqdLQKXYB/nRGf9vgcT2Q1Ghp4t6YxICdHEupyBdwAaSwYBvjD+QtAtoNBa1wcjkA1u2uwkIpJKTYsvf2bJV7yqAPY6o2Lc9SKRiYeFsDKvDRaNl9SILyzu17jZcM+l9T53Rode6No3B99OCpHhiowqr8lqHMGPG1tr5OtnXUKnX54bGSu5+kTm5sVbFlVCwBbzxHjS0Ty8ycrrlZqR2ed9DUH5f7eenXnUq+cmdDYXOAZQA/nYwXwFiSRKUoiV1jQc7V6MYnwBjIXiiWZmo2bJiIb7XFf4sbGtUyP3sfXBuX4kQ80wvxmADBr/LdH5wEwvYwB8G9dnJqLQ67uj8w8mdvwTEauTC52iVrXgd64TIHVrMVUMqfx38RmA+lxpwKAD+zcIFu6IgrQq13ay9rgIlILAAOT7+2NLBpiMplTXbnJwF7sRWKP+xr9NeOs7QD4wZ2b5JEbOIAtlzhzsxd7F9ev/WYE4qXtvbtrvbcYQ6POL8cWzJ2bN3Aqc6NDdQw3APj//vEhCTfOO4AB8l6XQwJet0YyT6aIby9r/24gfHVZN3MQBW65yi2nMRryWUF/ZBzYvN+Ila+kDBQkkStKnbfSq5gi4npPX0Qe39Ss+7hWWQCYz95bjVFe7r5Z6eP+2T/7Z/LDH/5Qf1fwO8GUUcAoYBQwChgFjAJGAaOAUcAoYBQwChgFjAJGgZVUwADglVTzzhvLAOA7b03MjIwCRoE7TAEAMD16gba4f5944gkFI/TqxZVFVDNFRDTxznv27NHIztdff32ur++VK1e0lyIuNIAvYxElTawzQPnYsWMKYHt6euS1117Tnou3AwADbrmOmwHA1vJ8eG1G/uHDMYmlZntyikgmX1QwCjwC9gLoiGfF1VdxAZbF7XRK0OtUQEqsK317gUU/v7NNepuCi1Y/lsprJLQVaTs1FZWJ8TH50r5tsmNtu1yNpuTvjo/NxlCXZHtHWCEpBezEYXx2LKnnoZrrPOoEBlZXuwXhVQBXOxwGjgL4AF2j8ZxCLbubs6XOK3vXROT5k+Nzcbyf2966AEhdDwBbF/xf3riqrkhc0kBynMBo1tvgV5D+5oWYTKVzCtaJyG0ILoxGvtHbhrU+OjSjbso6v0seWd+kEdQ4SS24yBhA4S9srpfYlVOyZePNAWBcmz84PDI3lS/saFPI98aF6JybG7co17dUAey5MQBn8EKoWta5Dk9n5NRoQvxul4R8LnUH03s5kYhLuzMu/8fP7ZOG8OJ9dCN97M/Tk/bglYUOYPrYEjFsFTHaRBNfnnWwW4+zbpva6mRze2iub3Wtc98MAOaaDw1ML4hn5n22uS0kWzvDi0BrNQDGGUxPXHsRycyYOPatAibjwucGh1oFAP4vAOCmVr2R5dp0pf827wHe++l8STrqvfp+1ia9s0UMd1fEp45fYL0dLNudxsTB/92xEbkcTUtpNmQAABzP5sXjdGq0s/Weba/3yue3t9UE1QvWctYBvJoBMG0A+N1jyihgFDAKGAWMAkYBo4BRwChgFDAKGAWMAkYBo8BKKmAA8EqqeeeNZQDwnbcmZkZGAaPAHaZAoVCQt956SyFwfX29glnK3quXn68HgK9evSonT56cA8C8NpPJqMOyoaFBDh06tOoAMNecKxTlxyfH5b0r8yAJ9x8xrW31fulvDmgP39Oz8bLECwMuiW8FduI6xTEMZH1ic4s8trFZY56rC6B7ZHBaLk2kBQA8NjYmvb19sq23Wehv+qMT43MvwXUKiAQYAwxnMnn5zqFrMhTLKhhuq/PqOXFormkKLOkctM/hwkRSx3O7nOpAJQ7a6inMcY5yWZL54pwzkYhmonitunD+nMLhjZs22rDY/BmAecT6Mu5IPCshnV8l9pZCH/osW/1eAai1dOJYYBuuZl5juXut78+fGJ+D45/Z2qKR2bin6f972NbzdlurRwYHrsru9V1yYEf/oj6813uLfv/w8CIQ/vq5SYXn1FLx1bXGJDb85HBcATywEYgP1Of/VjWFcHB7pMGRlubSlPzq0/s/clzu5cmUvL8IAIc0ypn9jTOdyGTrRgNrLoDP3d3hOdf29XQCAJ8/f15v9ti3a5McWL+4B3AlGnx6Lj7bGo8bAuhjvRSoffH0+IIbM+yua2A/aw1gtxc9irk++76tnj8A+K//8ZA465plJOvRNQXqAnG5qYP3U2Ow4lRlT9M7GkBPPDz72w70LacxzurBWFZOXIvLTy9E1QVuVbZQ1BsI2sK+uXnxtrq/r0Ge3ta6rL7Uq9kB/Cu/8ivy93//98LvIJdr/vPgevvKPGcUMAoYBYwCRgGjgFHAKGAUMAoYBYwCRgGjgFFguQoYALxcpVbncQYAr851M7M2ChgFbqMCwNvDhw+rWzcSiciDDz6oZwfiWlHN/PzSSy/p87h86dmIk3ft2rWyZcsWsQNgjnn55Zc1TvrJJ59UsAwAtqKlcQ7zx/6HH374Y4+AthzAra2tGkF9qzU4lZa/Pz6qfVCBlIwbzxYUxG5srZOAxynHr8W1hyfQishaYpmJn8XxCixa1xzQGNuH+xvlvr7IIncuc8MZ+uKRS3JtZFQBcDAY1PhmopG9s8C1On7ZcqUyH8AekIoiEhrAZvUgtfc1rtYBWIZblgJ2ddb75OrUvEPVgpI4axsDHoWcdpcjEAr387p1/UtKfGI4Ptc/tiXkkVi6sAAwDsXSCjrr/S7Z3hWWznp/TchrB8fVJ2ONrB61xObi3KTGEzn5f94d1GvEt7m11Su41tkXTU3Nes2b2oIawVwdC1x9jmePjCyAzLg2Xz07OacffWXXNl/foYu7FofqwFRGiBxnPwHziVvmi37CDqdoHPC65qBqRQS0r5iQz+/dKp0NIaH3Lmt7KzHQrDduVHttag9JS8irLmqrH7T1PDc2AE8BlcutGwFgrh/wbd+XQFP6J+Murnav28/70ukJ1c0qCwCjHddl7x9MLDr7lfjvpYqoaODt1bEp+ZvXz8h0OSBez/y1Ao9xGBPVjO5A395Gv97EgJbcYFDtNEYv3rdEWvO+HoplVFfc3PQCTuUqaQKb2+rm9lwk6Jav7O6QLe0L3czX0/zixYvag53P7VBoaef5ctftdh73ta99TZ577jnBAWwA8O1U3pzLKGAUMAoYBYwCRgGjgFHAKGAUMAoYBYwCPxsKGAB8d6+zAcB39/qaqzMKGAU+ogKAp1deeUV7MFL0kLQAsD2qmeeWA4CJh45GowKUINITADwxMSEHDx78RAAw8+b6PioAZhychQBd3J4zmaLqBbwiOhnXL8+HvC4hiXnfugYZmc4oMI6m8lLCmWuDZy11HvnUxmYFnUAle529dFWeP3RBGjoqAJg6NRJX2Nce9spD/Y3S0zAPs+ixazmEgcHEU58fX9hHlShhgBTzA47h9gUY83/gFy5ZomspHMAWwASoAa/SuUq0LYUDFzen3Z25HAB8ejQxBxYBaoC08XhOnb9ATPoZuxyirt2v7eleFOm7nK3+/ImxOfhHz1kcmhTX8cqZSV0j1qvJJ3Lu4qU5AGyNzbk3tgZlTXOwZn9XjrP3Qn5yS4vq8PLpCV1nirWvBRs5N85egCE3B1huZ/t1AQRxPgNGOZ71oRcysBMA7C0k5IHt68Xjno8w5gYB+gSzbuwRYO314CnnA76yl60CSPNZEJztPWs9zrrQL5ebF24ExqvXZykADPgEmA7bXM7WvtuzpmFJ57d9fLvePI4rmVR0bjKw99NGk33rGhc4aXFZs1bRZG72e17fx2hwbmRajl8ZF5fXLz5vZe8EvE753LZW2doRlr6mgO5P6/OgltOYc+K+5/pS+aKuNz2sKW6kGJzOqKvY63aq67dH46RF358/v7t90efBjfb9agbAv/RLvyQ//vGPtVe8AcA3WmnzvFHAKGAUMAoYBYwCRgGjgFHAKGAUMAoYBYwCN6uAAcA3q9jqOt4A4NW1Xma2RgGjwCegAP18Y7GYHD16VB1kdgAMxMWpS+HqDYfDQq9J4p1xCK9Zs0a2bt0qAwMDcuLECdm1a5d8+OGHejzRr48//vgcAN62bZv09fXJT3/6U4VJBw4c+NgdwMxjpQCwtTS4SF88NS6nx5IKcoC7AKVYOq+gCQDU30J/VIc6/NSpWJbZHr7z/Uh5Dqftru566W8JSleDX6Hj4OCgnD5zVkI9m2UwWYlZPj+elOl0QeHez+1skx1d9XM7hfngQKUAdkREAzyJ+LX6ClsHr2sJyO7uxTG4AGaAIPCsNeSVvWsb9CXMNpkryOvnouoM1XV1OhTOcp1AMQWWR45KqVyS++69V19jlR1yvn8lJmOJrPY6xSVrXcNgLK3xuW9fnAeS9HTFlbu9s046IxVAtpyyRwPv72+c7dUqClxfOxfVIVij/T0++fGbh6QU7hBvXeOioekT3N8clPWtoUUxvLVcxvaetPbzAuQ5NxDw2mxEd63rACIDF3GVsgf+9uioHgYEpsf02dGkjE7GxFtMyJ5tCwFw9Xi8nvEsIFwBkgtvMgDqv3Mppk7ma9MZdS/jfq70thXBicu1Ez8OqLyVsgCw1+uRfTs3CbrQr/rYEHB7fpcwXyAzUcnLhcwvn5mYi1tGI+brcs7Pk/fW1o5Kn+KZdGEO9EZTOYnPwti5PSplGZnOVvp153JycTgqTq9fQgG/rGsJytqmgPzSnq4FYLbaaVxxcBekzu8WhzjU4Ts6k5PhmYz2+mV+HrdTppJZGZrOim827pjPiA1tIfnK7vYF7+mb0Xs1A+Bf/MVf1NYC/D4xAPhmVt0caxQwChgFjAJGAaOAUcAoYBQwChgFjAJGAaPAchQwAHg5Kq3eYwwAXr1rZ2ZuFDAK3CYFisWi9mB89dVXJRAIyL59+/TM9qhmfl4OAG5ubpbJyUkFyYwJAObn999/Xz4pAMx1MS/g9EoVfVKJfP7p+aiMzGQ05nl4OqNRwwDG1jqv+DxOBXFEMn9+e5tC2dfPR7XPr72Ij+aYSNCjbkBvNiYTAxfl3nvvkYInpGAWAMjYVE+jX/7JvZ1z7la7m5Pz4UqlmCN9XHHe2kEsjkYiqu1g1QKCvM4+hjXPq9GU/K8jI9oTFccycI0CtAGv04OnxSkleeihh5aU+N3LU3O9XgG7RP1alcgU5P9844pMJiouWtyQgE8Kp/D2zvDc9V5vDe1RzEBsKw6btXnjwpS+FAcnABhXen9/vwSbO7Xnrb3vrnUOro81oSdxc6gSJ213GT+6oUlB9Y9Pjs2BRZzHgHh6QBPxbEVSV8+bfcL8gL7ESFtlRXpbP7OXWPvhkRFxZ6bk4T27JZF3KNRcauzqc+EAVyA86xSeSueFfsnowt6lOiM+6Yr49XrQf6kezMt9D9kB8O4t69XtSvyxvTjX/b31y+opbH+dBYBxc1+OpnXe6ISTF/3Qlf3PTRnW9dWaNzc3AOdxuOPadZcLcn5wVNqaInLPuva5vrxf3l35P6D39GhSnca8p3D0TiTz6h4GnhPTns4VdU44nQG8Ia9Tj+FmjPqARyYTubl1e2BtRH774b6bvn77tVy4cEHjzFdjBPRXv/pV/b3DTUgGAC/3nWWOMwoYBYwCRgGjgFHAKGAUMAoYBYwCRgGjgFFguQoYALxcpVbncQYAr851M7M2ChgFbqMCdgDs9/vnIB4AmL7AOHUpnLSWQ5jIaP5wj6MXsItr1XL+AluBv7i6agHgN954Q0HKI488clscwB8HALaWB3fvGxeiClqvxTLqIsQJCLwE8AECAao4CHHeAk9x8xJhixOQOFoK0NhW51WQNT0Tk9j4qDy8a6PsWNuu7s1njwzLkcG4HtsQcKs7E3cjzkng5bGhynPdDT7Z39+0YPcwx4NXYxJLFRY83tfkl3t6IjpHu0MWQPzFHe0Ljr0wnpQPBmYkUyhqjLMFQ62DBq9elr5QWb7y5ENLxg8T+0vUNAVQBTJaZcVYA89wpAKVq92g9PPd0VmnfZSXKgD76GxU9X299aoTZQfcTUGP7O326U0JAGD6WFMAugsTSQX0OGOrCxBNvDbwz3KRHljfqCD9uQ/HJJYiUrggbWHvkhoABAH4axoD2p94Kccr8NQq9g9rODo2KpF8VP7pZx4Wn6+iAbrRZxZnK/Ac4Flj6nNjsX7Ebg/EMhJL0VfaIT63S0Hlxrag/NzOdum2xYt/lI8hruHc+XOSLHkk0twq65rn+9NyPtb/Rr2Slzo/EP7I4LS6bIG+OOPdLqfCfbS1bh5Y6vXEmHPTgbr2PS59r/J6KWTl4qVL0tDcJk1N8++jZ+7tUGirLvZ4TiHvWIL1rjingecAYWLS+SJqnS9u+uAzoc7nnnMQkxjg8TjkqS2tGgP/UcsCwNy4Y0XGf9Qxb9frn3nmGb3RKJlMGgB8u0Q35zEKGAWMAkYBo4BRwChgFDAKGAWMAkYBo8DPkAIGAN/di20A8N29vubqjAJGgRUxye0uAAAgAElEQVRQwALARDoDliwXpz2qmdNcDwBbEdAct3//fjl16pT+Uf/Tn/609gR+7733NCqayOi7CQBzvTgOT48k5L3LMXnr0pSCxFSuJLliUeEtkcpt9T51sD6yvkl2dofVnXh8aEaODsUVEgH4cCriQmxw5SUxNSY9vb0SCoYUIANpAaij8az43fMOXGCm3+vUeGGKGN17eyOLdgVzPDOalJNVPVI5n+X2fOHUhL4O4+0z93YuGAPoeXI4oY8BjnFY0qfWAqGXL1/SKOx7t2/S8ez9jq2BPrwWV1BO0QP4gTWVmGmK63/pdOX8wLnHNjTJieHEXN9h+2QArDiCAajV9dbFKRmKZfThXd1h2dxecSpfmkzJwSvT+n+covd3ehcBYGssIoUvTqS0jzIuzuoCEoe8bh3nwbUNGnn9vcPDMpWsuJcB8wA/q9ATQEjEc2e9/4Zwktf94PDwHMgFarKnAMAN+ah81QaAq+cGuAbssqcAw3wHXM5kCgr5iRGnuC5inymHU9SBvLktKF2RgMJg9hvRz/rdVfl/BRbXeNztrNkv+VvvDMh7Jy9JQVzS390+B+Nxyt7bW7kZgn3JTRC5YuU72lv/rzw++1Uo6/9x2g5E03Lw6rS6dq1qDXtkS3vtPYH+9Oi2HNDFUkldvPRXttf61qD0hUryvdeOiDM8D4B5PX2E378yJePxvMaYs+/RhN7IrDU3fVydSus11Xld6tjG/U0qNT2crZ7MgGpc4w+ua1yyx/SiDXeDB1YzAP6FX/gFefPNN7W/tXEA3+zKm+ONAkYBo4BRwChgFDAKGAWMAkYBo4BRwChgFLiRAgYA30ih1f28AcCre/3M7I0CRoHboMD1ADCnx6lL2SOi6ZUJEO7t7ZXt27fL6dOn5fLly+qao0fwu+++e10AXCqV5NFHH70tDmDAdmNjo+zevftjVZM4WiKhXzk7Kfyf3qNAq7DPJZGgV+p8LgVBXRGfPLm5RbZ2hmU8nlWYBaDjNUC7keiMSGZadq3vkfq6CsAEMJ0dS4rf7ZREriA7OusFpy79Ri9HUxrXS7yvHXrWuljOwfmis7DSOgaoCjgl5pb6+V3tC3q/Hh6YViBK4RTFOQy8w318ciQh5y9cVACMo5YC8u3uDi+Itj0zmljSqVzdo/cLO9p0HCAl0Jro6eqyegTb3cg4NC9PViK2t3XWKSimcF0fHqj0MAbE39PuWRIAW+fh+nAjnxtLzcFSngOGR5M5SedLep3rW4IKFIH6FPHYOEoB1IByjfW+yT66zx4ZmXMhs87ATgBwUyEqzzw17wC+3oYGBl+ZTMmHwwl1ReMWTuaK+pXKFmUildO9GfZ7xOVw6LWgza0UfXwVErsdCnKJ02YtpmMx7c3b3tI0d+NAvd+jrl3eGwVbL+AbnXcqlZPBWMU1z40Q9N+mOC9AGfc8xfsMtzbvB74DYHEEA5dxygP37cXxe/oi6iynF/p3X/1AyuF2/SxjDwzGMuJzORXqMm+qMVSJdtc9Gs8KlxH0OHWfcjyAnXNzs4Y1J254IB6cvbGSdf78ebl69apG9682B/BXvvIVefvtt2VmZsYA4JXcFGYso4BRwChgFDAKGAWMAkYBo4BRwChgFDAKGAVUAQOA7+6NYADw3b2+5uqMAkaBFVAAGJvP5wVQ6vV61cFL2Z26/LwUAMbZ+9prrwmx0Dt27JCenh4FwIlEQp544gmZmprSn7ds2aJxuzi+gM53GwBGI4ARLtSXTk1IScoKewCrOFzpaIvTkn6sgFt6vz6xuVn6W0PqIAbwEiM7EY3KhcExCTe1Sk9zvfYNBXrRc5giPhvoOZ3JS8Drkol4Tl2o7fVe7Q28qa0CjZcqXs+5cPRaUcc8xvhAQMb+7LbWBT1g3740JYNTFWctsdNWD2B+xpX5/Zffl2uJ4hwA5nFY8ua2OtncUadux2oX7qc2zcffohG6UbgkP7O1dcH0AeU4gq0+yPYnAer0E8YpbQfVm9pDGrtNoa+lHxHMO1rcNwTAvM5y1DL3D4fjCpfpuWzBRyAfDtDxRFbCPrc6TT+/vVXnY3cB3+zb9IfHRiRXqABlHLn5YlkBcHMxKr/w5PUBMKD3/ERKLk2k9HXVVed36XoArYkyBgizvwCotwqAOQfQE2BuuYzRKZ6Ii9PpkP6OJnlwbeOy3M/V82XcgVhaEpl5xy4AmP67TXVeaQ/jxG4U+ko3Br3qUq4ueh0fGljoGiZ2nUhv1go9KADw935SAcDiq9M9w/VYcJk93UN892w/aObGe57xiXrGfR30uRQ68x7nvb6to07Y69Wx6Te7J5Y63gLAJDfQw3011Ze//GVNh5ientZ2A6aMAkYBo4BRwChgFDAKGAWMAkYBo4BRwChgFDAKrKQCBgCvpJp33lgGAN95a2JmZBQwCtxhClgAGIjr8XgWAGDLqcuUAcBWj2DLAQzsjUQicuLECb2qe++9V9rb2/WP+sR6LgcA0y+Y83xcAOB2OYDty5rJF+XMWFLonQvIG4ln5exoUgGRyyUS8QMOXdoDtq8xII9saFSodPRaXK4OT8jo6IiCdKc3oK5fj0vk/Sszc7HAW9pDGpV7JZqWK9GUlGbTcNc0+eXevojs6qqX1rBXoagVP1u97XAVE4tsQdVjQzMKDAGwv/JAt0YWW/XauUntfUrd3xfRHr32Yr2B3O7OzYvcxThYAbEAt7cvxvRl1ZD38mRK3p+NaMY5+7gNDtvPg5MVEFvtYOYY4LVDcGxW4rCZI3OlTlyLq1OZIn56S5NrEQAGgsezRXX3RlN5PQeOaXtPXVykRHHT5xXN0Rc3KAC40vcVeN0i/S0h7QVsOapv9i3/98dHNbqZgk0yBwBwSzEqX1kCAAPJz40n1X3LjQTVRQz1htaQQl7mj1vdXgBUXK0Vd24lkln/P+vWnf9/ee5xADkQFAAam42XtsYEAKdTcYn4XLKlbz4CupYWXCNOXvQC4AK9QbKA37GZnIJjIC1fPJcplFRv76zDdt+6BultXAw/mTO9gq9GKzcvWMX+w/XbNAtyrccHRifl/3vlqFwu1Eu84BLurCCSHADMzRzsKd4XuUJRhmJZBd7oHk0XZm/M8IjX5VLwyz57dEOz9DX6l+z1fLP7otbxqxkAf+lLX5JDhw4peP+4Pv9XQmMzhlHAKGAUMAoYBYwCRgGjgFHAKGAUMAoYBYwCq1MBA4BX57otd9YGAC9XKXOcUcAo8DOrgAWAX3/9dY3hfPjhh1ULu1OXn+09gnEMv/zyy9LV1SWTk5Pq6AXk3nPPPdLR0VETAG/evFnWrVsnb731ljqOH3vsMQW/HzcABmwDqZnb7S7csUQfXxhPSXHWKXh6JKmuQsASIAqQBfgCBN/TE5bxiUk5fG5Aunt6JBSquHnp1Qv8nCHGN1vU/rM4CnF7vnY+OudIBYICy4BoOF3pe4obEdDF/3mNPYIW6Ekk7rFrce1JTO9iipjnxze1aI9TIPULp8bnnJ37+xsVttrr/fff1zXFhXh1KiPAZAtgWscB7ojFxrXMHKyYZ54nSpqewhSg8sD6pusu1chMRk5cSyiotRcgEjjIGLg7cYZSR4dmFMBT9Hrd2OCUt959Xxo7+yTU2C6TCnxzNR2z1RNBr5lM5bzEUONAPTxQcWdTO7vCCjOBmsQKA1w7631CL9/l1j98OLqgxy2vAwC3FqPyZRsAJnaa3rNEXMdSlf6+9mKPsYaAX7sj2R65bR1P7+aNbaHlTlHhOHvmSjSj8dfAYP0qlhSAAoAnx0bE43HLPZvWyP29kVnIO9tLeLa3MPvCDsoZi+sB2FdHRHc3+GRXd718MDCj7werau1Jzs+esmKbOZY1wb2+paNOb4xgvgBcgDgw98zQlLx7fkSKLr94vZU4bOa3d22DHNjQJAGPU6PEcVcT1z6VzisAj/jdUh9wS53XLd2NPtm7plF7Qd/qDQDLXgTizWcjoFejA/jnfu7n5MiRI9on3gDgm1l1c6xRwChgFDAKGAWMAkYBo4BRwChgFDAKGAWMAstRwADg5ai0eo8xAHj1rp2ZuVHAKHCbFLgeAAbOAmope0Q0j7/00ksSDofV6dvd3S1DQ0NzABggSKznk08+qe6ud955R34WAbC1hECi06MJBUe4OYem03IGEJwpqKvRAsE4SCOunOSnx6S5cx4AMw4uWYydOB2Bm7g1z40lFAADsIChXfULwSy9gYma9mMhni1gMiDYAsLEFuPy/O/vDKqjmOI1bWGfulhx0b56dnIO6OLOxaVrLwsAW/HhOGWtWGvLQWtpgNMZF+VX7+ucG4I+v0Q8U31N/jlwe6O3ANCOnrwW/CQamKhq3MbAzH96X6eCz4NXYuocBp4T2+xzFOXk2QvS0tIqzc3zUdS1zsf6oBGvQ7NLE2nVm6LPMPDv/31vSPs447yl97F7tpeyfbyw3yUd9X6Fwbizl3Jm85rnT4xJIjsfecxjAOD2UlS+9MTDUnS4FdzzZQec1vlwlwN9caHWgpBAz5+cW+gAvq+3Xta33hgAA35ZK2K7qwtHNJrgmP3eB8Ny/vw5jZV/aNdmAdLeqFjPo4Mzi64duIqL3Iqoxr1srQFjHljfKJ2zPYDZZ7i0h6fnATHHsH64frlBgud4Pc7tYkkkni3IwFRaphMZGRqPzgFg3OsPrm2QX36gW965GJVDV2fU6c5a84W27Ami3a0o8ure1ze65o/6/Llz52RgYECTG0hoWE31hS98QY4fP643ERkAvJpWzszVKGAUMAoYBYwCRgGjgFHAKGAUMAoYBYwCq0MBA4BXxzrd6iwNAL5V5czrjAJGgZ8ZBewAmD/CHzhwQK/d7tTlZ3tEtAWAcYcGg0FZv369HDt2bFkA+O2339Z+wZ/61KdumwO4vr5e46k/6cKxe2o0ob1ki8WyDE5nNCYamORyAII94ihmpZSelh1ru8QTCAowFRfvRCInA1MZdQ7j1qTfr905i6sWzntyJCnEO2t/0pIoDMUxDJQDflUXDzE+8JTxJ5M5dbYSXSviEJdDZDielTaFvo5F/YEZrxoAW+dgHgA9YontfYzho//8wR6FtIDQaofufb2V6OblFC7mIQXBCbk4ntJIbJydODeB2OhSiXOuOGRxBzf5Ra5cvlwTAAMbm4IVtzTf+dkOa4GLOLopXJ5cwz8cH9Nz4gze2RmWscT13cSsIc5hBcIRnwRsgJ5xf3xyXOKZhY5eAHBdLirrt+yQsSS9Zxerw5jMB1DKe3OpYi8B9e1VK9rb/jzgF1eu1Qva/lxD0C3bOsILnOHzANgn+3dvkofWLQ2AGfvoUHyBq5fxvW6HbO8Ma/SyfQ3euBBdAHgf2dCkel6aTOtesjuH2d/sfXXRx7MSt/USzhaKMhjLzN1AQLT9+OSkuP11sqW7SQE6+5bXTSQqbt9YOq9uft6rnJOxuRmD9yT77XbXagbAn/vc5+TkyZMyMTHxsQDgTCYjf/qnfyrf/va35erVq9LU1CRPP/20/Lt/9+80Yt+UUcAoYBQwChgFjAJGAaOAUcAoYBQwChgFjAJ3twIGAN/l61vmL8OmjAJGAaOAUWBJBSwA/NOf/lShkR0AA0QAtVQtAMzj9913n4Jcojx3794tnZ2dcvDgQZmampKnnnpKncBA302bNkl/f7/+/3YCYKKtcSrfCQDYWgTA6KmRhDpus/mSxvjiqMSJmMvmxJFPSWdLo6xti0i93yXD9Jwti7oPAcUAxM9ta1W4Sy9SakNrUO7tjWg0L9CVvsMAK1yvyVxRnaK4b3Es1oKDgDBidYFbxPj63C6ptFh1KCQjqhpY+dmtreqq9bocGulL3PSJ40dFinl59OH9NSEzbsuDV6flDVvfWZySTXVeuae7Xnu94qyl6G+8s7teY4VzxUoPWnoTW//nOgB82dnn6Feb1361RdUUkMjzzM1yjE4kcxr/S+9l3McNvrIC4K72Ntm8plMjsoG9uERvFNtrh9VoDnB9/sT43PsLZ3OpXFboTCQ1a2fB56XehDhncQZ3AKeDHnnx9MTca8pS1nU/OzAmvkJCdm7eIG73fJw0DmWuibkAJZdTtQDwnjURWde8sLczY3FzAg5tbg6oLpzrAFrcr9V7ajkAmLXFwX1hIrWgbzH7en1LULZ1hnV/VddbF6Nz+57n7u+t1+hxq581e2Qmndf3B9q6nAvHYI+PTGdkNF7ZF8Rzszfc5ZxEhwcl3Nwm3mBYo8xT+ZLgpGcNeK/6PE7paeAGiaDeKLGjKzwXlb4c7Vf6mNUMgIGxZ86ckbGxsRUHwMBfetBzIxO/kx555BG5fPmytidobW3V30PcuGTKKGAUMAoYBYwCRgGjgFHAKGAUMAoYBYwCRoG7VwEDgO/eteXKjAP47l5fc3VGAaPACihgAeA33nhDuGeGP5RTdlDLz/YewVasM/Gujz/+uIyOjt4UAOaP87yO76dPn9YewrWg5FIuxpt5fGSEPqQeaWlpWaDWzYyhv1CWcFR+lMcTuZJcjOZkOFGQZL4sI4mCTCayMp3KicvjVaAX8TmlLeSSbKEsx0az4vc4JOhxyo42vx5f73NKY8Al29v80tcwH808msjLqfGspPNlBWEULlWclG11bgXK05miFGdvk5pIFnQ8Kux16ZjX4nmNfh5LzrtRt7bS99YjfhuYm5iclFKxJG1tbYK7V+EwPV7p7+qufHdKWV48F5epTEHP2RvxiMvhVOAczxZ1XsC49jqPNAbdGs1b0X2pTb74CWDl5amsQjvmDeymxpN5yRUqruAtbUG5p90jEh2Q9X2d2rO6Vi21H0+PpuTMeAVW9zX6ZH2zX35yYVp/xmH9xW3zkdLWGIB4YONoPC8TSRykta+Ja0U3C/gDtwGPrFsikZAmZ1o29/eJy+WWoNepzti1jX6F3fa60XuJMV89N7VAXyAqTlariKA+NZpcBH6ZI0CUXrrdNvBbfc7vHxmRC+cviM/nlYd2bpJ96xrmxgaQ49bFtY3Dfb4qzujdPfXXhdlvXZzSGyaA42PxnIS8TimVHXrzA3uAMXsaA3rDw8Iqa+9e4tJxXRPfTVw2c2ev9IVK8uJ7H8rxVL1MF1x6EwK7zME/p0hn2Ceb2uukKeiWje11sq2j7oY3DCy1e1fq8bNnz8rg4KD2bvf5br8D+aNcx2c+8xntYczvj5WOgP6jP/oj+ZM/+RPtS/7CCy9IXV2ln/qf//mfyx/+4R/Ko48+qjc1mTIKGAWMAkYBo4BRwChgFDAKGAWMAkYBo4BR4O5VwADgu3dtuTIDgO/u9TVXZxQwCqyAAtcDwBao5TR2AEzkL30bgap79uwRICsO4F27dklXV5ccOnRIn+cP/DMzM+rC2rhxozqu6AecTqcVABP/STTnz3qlCiIDCYdMZERm8iLRrENyRZF0URQWBt0iEW9Z4jmHJPIi+bIIrJc0Ww9AzivycEdJeqpauAJ5r6VEBpOORZHBLX6R3lBZH4/nK8ecn3FIviTidZalt04Uwg6lGKMCW8GMzbNtRus8ZWn0AiyXv3qX4pXxuV6/S8Qzyy1jOdHHA67KnIhovpUi5dmaK2P11ZX12kbSXItDYXKbvyxhryhsbvaJtPrLEvFeDzQvnMlgUuRqoqIHWnQHy3IsWvkZDru39frBI6zndE4E4/ZUziH2Vr+sOax9IOlQjSjWF40ZuzdYls6QSFewLI2+yjXcSrGHrDlbr99YX5bWgAgashfGFxt+JeCurA+6XSdhWod8a3R+cui0OVLRheu+lHDoeezFflgbLktTDYZZDZdPT4lcSTh0b3PPQp0b+F4ZLeQWaQs45n7mMbYoGsbzlTlZ+876P9edK4mci5VlOFnWdcmXKu9BXsd+XBMWiXhEmgMO6a/nJozF4t/MzSA3cyzzXOp40hTy+byEQqEFEHWlxr+ZcZZz7F/8xV+o45dj+R1x8eJFIQqan60v63q/9a1vSSAwf1PCcvc6enAzCjcqffDBB4vSH0iqoGUBSRX333//coc1xxkFjAJGAaOAUcAoYBQwChgFjAJGAaOAUcAosMoUMAB4lS3YTU7XAOCbFMwcbhQwCvzsKWAHwPwfZxRlB7X8bEVEb9myRf9wThGtyR/TcXAdPnz4pgDwvn37FCrjzCJG2u4AWyq9/1Yex8lMn2LmadWtjFO9M1ZiDMa0j0NU8LvnhuX45REpBxolUXRJCfdnrij5UlldrTg/iYEm5jZTsNyTDtnY7Jc1zT55oKcSSWu/1nS+JCdHUzI0XYmLtpojAM02tgTUxYoL97WLFScraOuJDRHBgXp5KiNvXpoRHMW8rrPeq85I4HChVFIXZSERFUe5pPuhUrUh6OmxtGRn7a+ddR6ZIZ46X9LoXs5FNQXceo7moEudzkAhdRLz5eQ7AK/6MYcQhYwmB4dS6sTlNZ/dSJR0Sf725LRciVX68vZFvBJwlSQandS9FwyFxO92SFfYI931HqnzLo4ctq/T5amcOqspnNRrI255b6jiCPa5HfL4uroFa2rfN9V7Bh2vTuflQjQnV2J5mc4WVeOJVHFOD2s93FKQvmBB+jsa1bUa8jgVQvI9MPu9Rlry7HovXI94tiRvD2XmNwIR4k0eSebK6kavbp4R8jpkXcQt7aHKelzvmqznXryUlvhMXFwup6xrq5f1DS45N1WQ8WRxwevZy+saXNITdi7o84tLmDbIuLnThbKk8mX9Hk2X5MhYXqKZ+Wtq8jsk6Hbo/Oq8lfmF3A6FtSGPQ/UcTy/UgPeT3+XQtRpNlWUqW5Zcvqh7cjLr1DeB2+GQ/ganbGxwqs79EcZcvD8+js+CG2lsnRPYSYIC7l/W5pOYS/Xn2PXm/ru/+7syMDAwdwi/c5aaNzcPEd9/s/Xqq6/Kpz/9ab3hCIdxdeEMxiH8b/7Nv5F/+2//7c0Ob443ChgFjAJGAaOAUcAoYBQwChgFjAJGAaOAUWCVKGAA8CpZqFucpgHAtyiceZlRwCjws6OABYDffPNNBQnXA8CoAqhNJpPa97caAO/cuVO6u7vVdTU+Pi6f/exnJR6PC2Nv2LBBv9599119PQ4toksBs42NjSseAWqtIOAadxyQeTXU8PCwvH/slLha18lkziMD9AaGhElZQSnxvUT+NgY8FQicLy3od8s1toQ9cn9PRDZ31Elb2KdwlKL365HBGR3DXiGfS7a212mfXqu+tKtd+6/S/5WoXs7Pz163a3Y+8yNcvXJFGj15+dKnHtRz0a+XudHjVb/Tw7dQkvevxDR+l+nQO7a3MSDRZE5eODUuQGpata5vCc32bXXo3OkJ3N3gXwAHl1rHZLYgP7L1433m3g593Y9OjGkvZHov9zT6ZXI6KecvXpKWllZpbp6PbGZcesbSU7ev0S9+aHNVXZxIyaFZnYgrJhL4p7O9jcN+lzy9re2624y1JOKZvsjj8UpvZ6sAwkQY0xd3MplTEE+/5Tq/W5KJuDQ7krJt08IewPaTsT70swUQh/V1le8hn3tuD3A8UckvnJrQl9I7mfk0BDz6ZS+uZ1sH6+Rf0oG61MXSA5j+tB6vV3p6ezXa2n6tvK6vya8x1lw3kdOsj/Wd9bIfT4w2PZVj6YLuY362amtnSLa010lnxF/ppVzvE5/HJWdHE3JmNKkR2hTR0PRmRth6n1um0nkZi2clnauA35lUVtKppIjbJ22RoDSHvHJfb73c39cg61uDy9qDt/szhh66Q0ND2rudSP7VVEBa5s7vgaVuAFrKVXy96/zLv/xL+YM/+AP56le/Kt/97ncXHfrcc8/JF7/4Rfnyl78szz777GqSzMzVKGAUMAoYBYwCRgGjgFHAKGAUMAoYBYwCRoGbUMAA4JsQaxUeagDwKlw0M2WjgFHg9ipgAWBimnGTPfbYYzoBC9TyR3qKHsG5XE6/1q1bJ5cuXdL+qffcc49GegJ9lwuA6WdaKBQkEoloPCeutZXuAWmpCADGAbxaoj6J0yYaGy2dwYjC1zMjCRmMZRR6DU1nBHckLtcAQFadoC5xQ0+rKhJwK/Bc0xRUMNYZ8UnI69L+qx9eiyuctdeF8aR0Nfi1P+qTW1oUhh68GpNLExWH66b2kOzqCmtf2JMjcYmTQS0iV65ckUIhLxs3bJB1LUGFccEa2dBvXYzKEBnAIrKrOyyb2yt9OX9weFghJP1c17cEF72WsTa0BmVdc3BRv1v7/IHMPzw2OvfQz+9q1+N/eGxEewBTT2xuFmchIy+8eVDcDZ1SDjQsApMch9G1PeyTtc0BBYsWRL8aTcu7l2M6Fn1juQZ60lINQbc8taV1gabAx4lEVoanK9AXwHm9QvPReFaBOQUQjmcLMjYRkwZJyNbrAODrjYuGYZ9LYTJgmTnPZPKC6xwiiu4NwQoABiDT4xcQDkC/lfreB9fk0InzMl10SU97m7TX+3S/8YU7G0gL3KuGwtXnAs5em8lIzMrEFlE4DiAGcPc1BuQX7+9SkMx7ghqYSsuxobi+X4DLsXRee//y/66IT5LakzmrNzKwHtl8Sfwep/hdJfFlY9LT3iI5l1+2doblc9va9MaHO7VWMwCmDQCfd7QBWMnP/3/xL/6FEDUNBKbnb3UdPXpUf29xUxDtCkwZBYwCRgGjgFHAKGAUMAoYBYwCRgGjgFHAKHB3KmAA8N25rtZVGQB8d6+vuTqjgFFgBRS4HgAG1D7xxBN6FkBqKpUSt9stjzzyiLzyyiuLAPCOHTukp6dH46CJhX766afnHMDEcdIH+L333pOpqSmFvvQPJobXigGtvpxbcX9Vj4H7GAAMaF4NhW6nTp1SANzaWoGJOB6PD83I8WtxOTY0Iykals4W3HdHV720hTzqaBynwWtVNQTc0hXxSwAI6HcrCG4JeRS44mi1IBxuX2KlW8Ne+cquDoW5r5+PyuhMBdre01MvG9sqjYaB0MDQUyMJOXH2ogLg9es36HNESwPkgKPAZKtwznI+CpYAfVwAACAASURBVJi8u7tex/nB4RF9rCxlPQeQmGuuLiDsmuaAbGgNSb3fveh59tT3Z8fiyc9vb1X36/cPD8/FGj+9rVUknxb6WPf390tnT59eB1+4k2uV2+WQngZAekDB7NuXKgAY4Lu5rW4OCDeFPPLE5hZ1sgJ7gb7jiazGZS9VRFsDRwGifKHX25emZHBqYRPe0bFR6XNE5YEH9kpOXJKYBcMATECm5XK93h7HAYv7eySelQtjlXWABmtv5DqfNAYr+6S5zrugv7BDkfHCWooLA1knkjl588KURKemiQyQ1oZ6aanzitdd0bExeGOnajpflGvTlZseALA+t0v8+t0pqXxRAh7n3Dif296qTmmuDYc7zmrAOdAXtzNgGI2JA2dNgN6skdPpkJDXLfUBl3RHAhJy5mVieFD2bV0jD25be0eDX2s1VjMA5mYjkiK4gWQlAfBv//Zvy1/91V/Jv/pX/0r+/b//94v2LrHQ/C7atGmToJ8po4BRwChgFDAKGAWMAkYBo4BRwChgFDAKGAXuTgUMAL4719W6KgOA7+71NVdnFDAKrIACdgCMu/dTn/qUjgqoJb7ZAsAAX57funWrrFmzRn784x9Le3u7glX+iI+TqhYABiLjHrYAMD15p6enNXoXV24mk9Ho6ZWAvdVyAARxMgOAd+3atWy1luqjuewBPsKBaHn27Fmh17IVT2xpQwT0T85F5ZWzUUnmK05SHL04USmcwB31XoWq0+miQrCiraErsdE8b0FZwGad1yVT6YIUimW5Ek3LTBZHqMjaxoC6Zc+PJ7U/MLVvbUQBob041wtvH5Hzkznp6lu74DnAW39zQDa1hSpx0iMJOT2a1GOIWN7TFxFA3/MnK3HE1Jd2tqnbFph3brzSt7jWegBL17cE1KVrr787PjYHQz+9qUnBII9Z9bltLVLMpuXIkSO6j3t7e+eeA6Remcqow5l51SqcxADOpqBHWuo8srE1JIcGZipA0YGz1XtDly/wmvkTIc3aVbts3786rXOodGOuFPtio2dKDjy0V/u9VhfzrcQnF9UxjEOW7zOZosRSeYXb7Ad80IViSa7NzAN2eipv7wwp4K4Fe2sKUfVgplDUiPLJZKFyc8BURhLxhLhcDmltDMv2jrBeby1HMX2tWSf2MrcB4AafShXE53IqpLVgMxHVWztCMjKTk0uTswBbRB7f2CSXomk5cS2h18neAYjzvmkOusXldCpMJj6ayGvc0JyLiO+2sFfa6rzSGvZJqycnE1fOyuZNG239rJdz9R/fMTf6XOSzgtj4/fv3i8ezMML745vVyoyMA3hiYmLFAfBv/dZvyV//9V/LN77xDaHfb3URTQ78NQB4ZdbRjGIUMAoYBYwCRgGjgFHAKGAUMAoYBYwCRoE7VQEDgO/UlVmZeRkAvDI6mlGMAkaBu1gBCwADZrPZbE0AzOOvvvqqApWnnnpK3Vq1APD27dsVqNkdwNUA2ALJDz74oNTX1ytUZg4fR8ViMTl+/LjCHPoP36g+SfBrze3ChQsKdIgoxR1dq86PpwRIeHYsqf12qyER2BDXL/1fgbC4KKczRQHSUU0Kgn0ae2sVTskzYymNx/W7XdIV8SoQ5BxEIBMfDGgjotheaMbNAi63W5rWbJXTYynJVMFT5kDEMAm9FgAGBj7c36huzJfPTuqQHPfzOxf20AVsXpxIa2w111pdOJo3tAS1Ty3g+EcnJ+bO/8j6Ro0zrgbMyfiM7guizOlZXV1c00QyrxBzKJZZ4K4F9J4dT0mxWBbcu2jDMbDaiN+t11ldzKu1zltx+Ya96sS+Xn0wMCOXo5XYbavGxsZliy8m+/ftvWGvV+aPE/zqVFrnlspXopfpF813ruHiZFphL/rQA3pja7Cmq/p68+TeAqAy4Ne6ccA63gLAgNada1plZ1dYz6VfXr7Tm7gCYll3xjk1ktSI8+pCV8CvdfOBpQ/Oda7P7RCZyhTUvW4Ve5/1GZ7OKQhn73E+4qeJSwf6ttdX9jj7h31NMsGJEyf0ZhU+M1ZD4WYlRpnP09UGgPv6+rQVQDqdXlEHsImAXg0718zRKGAUMAoYBYwCRgGjgFHAKGAUMAoYBYwCH78CBgB//Bp/kmcwAPiTVN+c2yhgFFgVCtgBMG5cXFkUEbk4dZ988kmFIgMDAwqerJ7A//iP/6gRxfRRxMV18OBBsQAw7kqgxGc/+1mNjSY+mrhdegbTa9gCyTh/rf6/N3K63YqYgGjm9vDDD6sL+Gbq44LS15sD58QtDcjZt2/fDV3RRPri0H3vckxBLfG71YW+wDacjoBH+vYCe4FiuFjpDezzuDQieXg6o4CW54HDuGtxYwLScF/+k/s6ZXNbSMez+q3iEmevAP6JVWUOxDyfHk0ocLQXPWdxqBLH2xLyap/hsXhWXjsX1cNwZn5hx0IAbL0eRycxzefGkzKjfWsXFvHC/c1BdYZavY339zcqBP/HU+NzB/+TeztlcHBQcAHu3r1bmpqaFgxkvwkAfXGN0hsZYIqLlHMDZ0sl+lY7FJrisMVNCuTF7cx1ABRxAwN9iT++mV66hwdn5ML4vMOVCV67NiTbg3H59KceW3JfMA+gL/C1WnvrIivr6tXobiKVs8Wyvgf39zdIU41o5gU7atZNni+WtSc1OrCPqsvjdMpALC2J8WGpD/rksXs2yoNrG2pu/Qr4TcgAEL2qAL/bOuq0b6/1+cD+eu3cpLx3ZVpvCuCGhe4G/9x+9Lkc4nU5ZTSR07huekAH3LiIHXoMa4T7nCjzdc2BBRHl7GU+M9auXSvAydVQ9M+9fPmy3jDCDTW13v936nXs3btXuOGF3xWkSaxU/eVf/qX2//3qV78q3/3udxcN+9xzz8kXv/hF+fKXvyzPPvvsSp3WjGMUMAoYBYwCRgGjgFHAKGAUMAoYBYwCRgGjwB2mgAHAd9iCrPB0DABeYUHNcEYBo8Ddp4AFgN955x11YtkBMA7ahx56SOiji+sXMGlFRNcCwNu2bVNwshQABrAQZctYREtb0c8r2f/RWiHOxTUBFm4m/vmTXOGxsTE5evSoupVxp95MzaTz8s6lmBwaiGkErr0AfHnckRpR7JO2sE+I3SUeOJ7Ji8dV6aeazBUU3gLZiBD2eZwyMlMBc7hF+5oCCg0Zo6cxIJGARxJT4zIxPCB779khfR2tCj+BbYVSSSHm6ZHEHJAF9p0dS4jLUenl+/X9fTIynZV3Lk3pOYCmT22t9D2+XtGTmHHo51pdZ0bjej1A5sc3tSigfel0JWIaSPzl3Z16Q8O1a9eEHqTidKsjdi42eba3LtdvgWTrHDiQgeT0YVbntYjUBzwKzNEHyL6pvU7d12jcHCLi2Sv0Bq73Lz+e9+jgtJyZjcq2zn358iV5oDkvj89GtFuPs2ZWD2Pc1LWKqO9eehg3BxWAMvcfHh1dcOinN7coqL5eodP5saRCdiBwdUUCbgWr7JP/dXhETp85LcFAUB69d7PsXdu44HBuBjg5nNC5V1d9wC3bO8PaL5gbBiaTOYkmczIaz8q5saScGI5LLD2/x3sbA+r+dopDUvmCYEAHdFs3KbDfcPtuaQ/Llo464XjrOfu5+fzjBgw+wzZv3nyjbXhHPG99ZvDZW8vNfkdMcolJ/Nf/+l/ld3/3d+V//I//IV/72tdWbKqkVXCjEk5uHNLVRSz0H/3RH+nXH//xH6/Yec1ARgGjgFHAKGAUMAoYBYwCRgGjgFHAKGAUMArcWQoYAHxnrcdKz8YA4JVW1IxnFDAK3HUK2AEwbl3L4Yujl0hUHJJA21AopMDWDoBbWlq0j+/k5KS6QC0ADMQkxvgzn/mM9vh9/fXXNVKVx3ARW+N8nO7fDz/8UM+HyywSiayKdQOco/Ujjzwifv/CXrvLvQA0BboCVc9PJBeAOp5L54oCCwZSEl8MnPS5XRoP7XaKnB4hVrqsfVybgx6FbdliSV2VHG8VwA1gmJkakUI2I5s2bVawX4nadSt4Je434HHKRCIvg7G0pPMlHY8Cnj7U36gOTOAefVqBto9tbF7upQo9e8+NJdQJarmf+Xk6UwGhxA7v7KrXc1rA9oE1jfLe4WP62r4Nm4SevjdTuEqPXZtRdymQG5cqPZLpcQz0XdNU22kOfMZhi2Zo3hTyqqa16vjQjLpi7XX+/Dn59BqfOsO5lkGcvtG0jMXne/naj2cd0HNtc1A6Iz6NPbaK1//tkZEF4z+xpUVhda3CpQ141ajrGoVDF/DN9Vv13UPXagJgdD85HFensq09tb4s4HVqzDNaRpP0LcbFW9YI87F4Rvv7YnKfSOT0ZgWtksja5oAUyjiZRdw2TRX8hr1yX19EtnXW3xBw87lERD2fVfQzXw21GqG1peulS5dU59/4jd+Q//bf/tuKyU1bgba2Nk2w+OCDD7RPvb1w/h87dkyj6x944IEVO68ZyChgFDAKGAWMAkYBo4BRwChgFDAKGAWMAkaBO0sBA4DvrPVY6dkYALzSiprxjAJGgbtOAQsAv/vuu5JMJhcA4Gg0qv15iW4GNNh7BL/wwgvS3Ny8bAAM0AQGNzQ0yMzMjIJknKIfh/uX8+Dk41x79uxZFWsGtACUNzY2qqYrUVOpnMZDHx2cmYVnFdgJCCY6N5svqWMXV2hznVcduMDSxoBHfw56XDIx674ExDkcouDTCnYul0oyOjoqLWG/7Fjfq9HQSxURzkC8IwMz4nCKgCM3tIbUrQywJY6an3f3LIb1nNde9h/ZQ0Q148wdmMrIpYmU9pMtlktCf2BqIp6XOr9LmoNe2d0TltOnz0hdXUh6e28c84tTNOyv9KzlCwf0T89PauQzTuOeBp+cHEmoi7gh4BVcsLXcsbV0welKFDZAGPgKNOd6AKQfXquAcl0vKcuZ06dl39oGqetcp9daox2yHstYQOi+JkBq7V7D6PVsFQB+amuLusCtAm5r5PYYkeA1Yp5dDlnXHJQNs5Hg1denAPj0Kb1x5NF7NsvWzrBe15VoBfxygwFgl33IfiRiHMc5Tmrrmom0BnBXx0xHEzl1ZwODmSfOZnsRt417mAjwLR1h3ePLrZdfflnfg0Tbr4ZCOxyv3OSyUp8bt+u6mTvpDPQBBgav5O+Cb3zjG/If/sN/kP379wu/q9iH1J//+Z/LH/7hH8qBAwe0NYEpo4BRwChgFDAKGAWMAkYBo4BRwChgFDAKGAXuXgUMAL5715YrMwD47l5fc3VGAaPACihgB8CJREKjmSkcwPTPBUjhSMXVa+8R/OKLL6o72O4A3rp1q6xZs0bdVUTsPvXUUwqNAZtUV1eXADpxDANYGNv6qnUptfoCL9Ur2P44PTFx/zIfYM5yxl7OuPZxqo//qK+3+tLioga4W3Uz4y51bLZQVFfwoavTci2WkZnZvq0KgrMVCAckA3TyMwAt5HNJW51POmbdo/f3RdTheWYsIWdGEvqa6HRcBq+NSCjSKB5/SHsF0ze4Ieip2fOW871/JaaAFicoY/PdAnz1PresbQ5Jc8ij8dK1Ynqvt+WBikBGetNyzQBVIC0RwhTO0u6wRxLRUelpa5I1Xe06TyKScStbkJe+wQBjfsahbC+u4XsfDM89hKMXRyq1oyssWzvq9PoqscV5Bei1ehbXug70wxmcyORlaDqrc6KX7/hMRs5eGpBdvRHp7Oxa9FKOA/oSq309CG+9ELf0Dw7PXwOPf2Zbq0JYnLVEd1+cSNZ0R7NHNrTWqesWbZcqCwCzL3q6u9XyTZxzZb8VFP6yHpYL3QK/AF30BPziVKaA7rjKXXoDQlGjv8eTObG825brmrXsbw7IY5uaZX1raIHrebkflUBBqwf3cl/zSR+Hk5UbdDTSfJUVEdBEQZ88eVI/r1eq+F3FTUbc2ISjm99hV65c0Z+5cYn2AETtmzIKGAWMAkYBo4BRwChgFDAKGAWMAkYBo4BR4O5VwADgu3dtuTIDgO/u9TVXZxQwCqyAAhYABiLQN9cCwPT95ee1a9fKli1b9A/m9h7BAGDgKg5bnMK8nuM4fikAzB/hz5w5I/StNHX7FLDAsMbnZkSuJkRG0g5J5EVyJRzBIpmiCEZPWrvS3dbtEPE4K1+NPoc80inSU1eZMxHSo2mRoURJMoWyOJ30/cXVKZKn1bCIRHwiQTc/O3RcfdwhcmmmrK/n2JCnMs5sYrP+HPJUUCARxnUeh4S9IgEXr+VmgVqaLXxwIl2WqWxZ8pyAuRZFZvKVczN2m78sjnJBgl6P9kFuCziko84lTX6H+CCMs3U98P76QF51ojAZM3/G39Dgkt76CjC2vx7380y2LDO5ytd0tqKBvaxro3/tSLIgw8myZItl1UKnVczLuga3+H1eXRuf2yEdIZf01LukOUC/29owdqnrePnywjjnba0emUyVZSyFI3d+Zta8mgMu6Yu49Vz2mzaA7lwLeuv3YuX/L15MyeDkjCQKbgn6PVLvmwfpgO7WoEsi/nnHL9caTRclkSuJ3+2QgNuh11gqicRyJZnJlvT/7MdUviyxbKUHM/ukK+yW/iavPNgdkI6wZ4H21WuxUPPFG+rq1avqSKV/7I2OvZmbM5aax0cdg9dz8wifwdw84nZXXO8rMW7Nd1vtN2HN8y11Aw83AQF8KSKav/nNb8qv/uqvyi//8i/Pzd16LTB++/btt/Rhye+rP/3TP5X/+T//pwwMDOjvq6efflroAdzb23tLY5oXGQWMAkYBo4BRwChgFDAKGAWMAkYBo4BRwCiwehQwAHj1rNWtzNQA4FtRzbzGKGAU+JlSwA6AiWZ+8skntUcvUag8BxDmj/A4p+gR/Pjjj6s+AGAilumhuBQAZiwigo8fPy51dXUaxwlUps+tBZFwVNaqWo8v5zH6FvPV2tqq56yu5Z5vucdZ41cffzOvz+fzqkkgEFBN7fVRxmWcpTSLZUoyEC/KwExRgSSAMl8qKTyNpksKHb0uh7pwHVKWtqBDIl4ctC5ZGwGcOiWTnJFoViRWDirYrF5KxugIOaWrziGk8KbzIgdHCxLNVOhnX9ihoHMsVZZkviwRn0Mh7cLrF/E6ywpoAdHAwVqaW7uIsQDTgMHWAOOJXJguKYQG8Lb6AInFCiirgll1HpEmH+cpS9izEKLZdXx3tCy5oqqrENI694aISEfQUVPz6rVgPrGsyGiqrFA+lqtAeFoS8xxw3l5cT7OvAs3DnrJCcR6ziv9b0J5eznx5HGUFphh1kZX/W88dHK+8mPNM5xzSFijrmusNALNfXFfEW5YGb+V1hZJD5wfotb5bIJyxgPyMF8875Fpqfm5+F3OunL/BWxZ0Zr6WdnrdJdancjNCqihCa2PmxRw4t9fGt5kfUJ9jtzaU5ME2kfra7Yt/pj7LV8vF8vvi61//+rKmS595PhtNGQWMAkYBo4BRwChgFDAKGAWMAkYBo4BRwChgFLhZBQwAvlnFVtfxBgCvrvUyszUKGAU+AQUsAPz+++/L9PS0AuCLFy/K2bNndTY4pqjqHsEvvfSS9p0EAANced5yAAN8h4aGFB7zONHSxD/jUON8H1fvX8A1vX/pJfnwww+vaE/Jj3Npzp07J8RWE6dNrPbtrGS2IOfHk3JhIikTCXquZuXE8IykskVJ53FZVnrgEtVLFK9jljr6nWXJTA3L9p4meWD7RnE7HTKeyGo876z5dsFldNT7ZFN7SK5MprUPLEVcMuelvzD/dnfXa3zyYCwjBTtZtI10ox63V6IpefdSTF/BsfQ1JtKY6mv0y8iVczIwmZTO/i0152mdyu9xCnPmutvrfeK1xR0/f2JU4lDLqtq3rlH6mgI1lw+ATK/j6Gw0NBHR9t66xDITq816DM9ktP9ucZaoO0sFcWQT8qlt3dIQWdwjGe0W1RI3VnAeYreJ4k7lK25fvjrrfRqFTXndTu0L3RIihnuhs7j6XIxHr97JZF77IFt1ZSojifiMuNwe6WoKy47OOu1LTK9n3MDJXElG41mNhI5ni6oN48TSBe3vy40HRFtXx4AHPU5Z2+SXbe0h2dIRmluXm7nh4nrH0ouW6Hsi6l2uimt5pW/CuJm51jq/pbE1Dp+vzJuoY+KNq+tmznczxy5nbtVz5Wd6zX/nO99RXfkibYIWA/TttfoAW89xUww9e00ZBYwCRgGjgFHAKGAUMAoYBYwCRgGjgFHAKGAUuFkFDAC+WcVW1/EGAK+u9TKzNQoYBT4BBfhDO5GcAOBYLKZ9JOnZy+MAVTsAtvcIrgWAN2/eLOvWrVPHLwB4165dGgdN9fX1ycaNG3Vc/si/VETpR5GAKNRTp07Jpk2btBfxaij0oO8oehw4cOBj0WU5OuSLJbk8mZZzYwn9Oj+ekky+qLDQ43ZqP1bwoN/tkoDXJeV8RlKJuMaqdjSGtXdtJOCWkNel4HgmnVeQ6PPMx/wyj1g6L5yLPr89DQG5Np2dm94Xd7ZrL2L6wA7FMjofgHQtlgmHBtCubQ4qpLVA4chMRl4/F9Ux6WMMAB6cqsQd7+iqk9HTh9QZfu/992uf2eHpjEJretIuVZyLXr+cpzPiU8A8laqy6IrIgQ1N0hXx6zCMB+y1egFHU3kBli6n6F/M9QOdiUuenIpJcjoqn9mzWby+gGSLJYXmgNLljMk6TqfzClkTmYLgvwaU24u1aAx4pK2edfQo+F+qiH2eyeRlMsGYeQXpGlXtdOiNAHxdnEhJaiYq7fUB+eID6+XxTa06X242ODUSV2DMnNhfaEVfYKA/PYxZN+vzweVwSH3ALX2NAdndHZYNbXXir+rLvBxNl3sMN77QK5YbSILB4HJf9okex+f3a6+9Jt3d3XqTzWqrP/7jP5Y/+7M/089BPgNNGQWMAkYBo4BRwChgFDAKGAWMAkYBo4BRwChgFFgJBQwAXgkV79wxDAC+c9fGzMwoYBS4QxSwAPDBgwfVyQtEoA8m7l4cwRYAru4RTER0OByWvXv3KjimR7AFgD/88EPtSxkKhbRvMK7fnp4eBbMfl/uX63jrrbcUZtNr2OqFeYfIvOQ0cBsePnxY+vv7F/Ud/STmjo7XpjPy/Idj6tTtavCrkxa36rXptIzNZGUmU5TpeELKxbx0tDRJ0OfRfq0el1MdnsDggMelkHQymdU1V7DndUmmUJSBqYxCQgAuxwI6gazP3Nu5CICn80V1wwIsY6l5h6ldGyBpb2NA1jQHdNwXT03o0zhamQ+gl9rR7pehU4e0/ydudXsBpi0YDLRdwkCrL2Eu2uc44JGw3603NQAxt3aGNQ96MpWTNM2Vl1HM3dIMLQDjzMWC2AwxMjIixURU/vefPyB+fwUwWwUsBwbnCiUFrID6VK4gIzNZGZnOqssWyEofYv0qltVZbAFgroO12dffJPU+t0Jcr5vIbmflC4jvroBoHMrjcaB2xeVdAb70H65AXwq3+JqmoBy8EpNL589IuL5etq1fo3M7N5ZSYMz/s/mSQl90Y/x6v1t8s2CXvcPNBLiSt3eFFfL//+zdCZhU1Z3+8V/vC9DsICKyqiwqIJsrIi7oxIwmbmE0T6ITiZNxN4/jzPjXaOJkEjNmc0YTzSQaNRmdRENGY4yKO6AgCogQQfZ9p+l9+z/vaW5bVVR13+qu6q5763ufh6el+ta953zO6SLp9/7OKSsu8KHZ8VNUia+KfK1sELsce8evnr4rKABWtaw+j4N2KPjVvzN33XWXKQzmQAABBBBAAAEEEEAAAQQQQAABBFIhQACcCsXMvQYBcOaODS1DAIEMEYgMgHfv3u1apfC3sLDQduzYYbNmzXKhnJ8AWAGvgkwvANa1VPmrQNkLgNNV/au2ahlRVSCPGjUqQ3TbboaqpRXwZWLFoSpRVR2rYFSBYt2hZZkraups8Yo1drAx34q693Rhnqp6FRYqvFOFsMLe5kCz0AV+quRVsKlq1D0VdS4wzs/LNVV4Kkgd3KvYLjtpkHUrynfXiVxy2VPU+9fvrnTBdLU2nI1zKKjU9xWkFuXnuUDSW675uJ6NtmPtx65KUg86JDoUpqq/zYFwtVsqWZW2XoC6ZmeFCzLloXObQ9NcGz2gu/XqVuCqpGOXLta9tOVwrxIF5AXORV97FOUfFnprKe15q5p/FnVs2rzJ8qoP2A2Xzky4rLmWX/YCbL2/oZX8WatZf7z1oHUvznMV13L64sRBVlpweLtV6dscwFe55ZrjHQpwtfS1/ijMVqj7+MKNtmTFGiu3Iuveo8xVYtc3KPRtsIM1DdbY2OT6rjbo/gqAVemrpadH9u/mQmRVXXf2sWXLFvvoo49s/PjxNmDAgM6+fbvvt3jxYvfAjvZoT8fqCu1umI831tTUuIcyJkyY0LIago+3cQoCCCCAAAIIIIAAAggggAACCCDQqgABcLgnCAFwuMeX3iGAQAoEvABYAcLOnTvdFadNm+aWQVUw6QXAkXsE65xXX33VVfjqXAUP8+fPdxW+kQGw9tA85ZRT3L68Wk5VFXXxwonY1xIFGK0FG2qrqn8VNCeq/k32uh1tV1vvV2X06tWrXVVnvCWr/bbX73nedGmrXfHO07K/eyvrbfvBOtuwq9zWbt5uZWVlZkXdbG9Vgx2oqjcVvSoQrT0UFCto1L7BfUryrXdpvpUU5NqOg3W2YnvVYfuqKkQc0KPABcdlxXnWs7iguSr0UGVxYV5zyFqUp0rjHDtY22i7Kpr3nlWw2rz0cK7bS3jplgrXBYWbfUrz3dLG2sr26IIKO7B7ux1z3BgrKC5x7aw71F5VzirQdaHuof/WV4XXVXVNrn9aQlkVybsr61yQGXuoYlVV0DoKcpuXLh7QvdDtIXxkWZELudUnBd/xDm9cVDn9SkQAvHHjBuueU2tz/vYM9zadpzB618GaQ0F1jQtV5ZDgwi54bt7TuMiFz79bsi3q1EtPGmS5hy6gkH7j3ubQV2F97OGWh29qctdUsKtlvhUOKzTfsq/aBf0rtpbbgQP73R7AZd27I5jGbgAAIABJREFUufHR0tUFubmuarp/9wLrVVJoZSUF1rMkzwb3KrGhfUrcMtteO1Lw8Zb0JfQZ+MEHH7T5kEDSF07zG1atWuUetNESyqoEDtKh+XTJJZeYVpWQf5Aqr4PkTFsRQAABBBBAAAEEEEAAAQQQyDYBAuBwjzgBcLjHl94hgEAKBLwAWAGugtyBAwfaxIkTXQiiUPW8885zVYfeHsHnnnuuu2u8AFh7/I4cOdIWLlzolpMeNmyYq8bVEp+q8uIIj0B1g9m+GrO9NTm2r9asvslMWWF5nVl1Q3MSqWWU65rMLResyFP5Yo+CJttfm2PKiKsamr+nozhP34v2yc81K81vstJ8s5I8c8tExx56v7tvvVlVfY47Z3fzlr9ajdm1QV/zc8wGd2ty9yjKU2DcvrGobzTbVGG2pybHBd6Rx5HdzLrlNbnrqz+J7uF9X33Teepbcb5ZUW6zkVa6/mB3dGf7F5sN6dZke2vlnmP76z6zi9cTOfQqNOtd1OS+6p6Rxzvbo68/bUCTG8ud1Wb7anOssbF5TFVo7X3Vfxco1M/TuMg1x6rqzSrqm9vc2JTjrGW0vcqsobHRvbcwN9d6Fpn10Z/i5vfqOr2Kcqx/iVm/4uYA3zva84BCZN868n49lFFZWelWQCgqKooy68h1daFUvz/Sq7q62srLy91DGbHLhCdyTZe33+tqv/bnn3/ena6l8FesWGEnnXSS2yve8/LMtJLEDTfc0L4fWt6FAAIIIIAAAggggAACCCCAAAJZKUAAHO5hJwAO9/jSOwQQSIGAAmCFs6q+qq+vd/vnqrJXyylv3bq1JQD29gj2AuB58+a5SrOTTz7ZDhw44Pbf1S/utQSzrtXQ0OCq0RRG6LrxDt3bz+ttnaclWxU4KzxQpXHs+W29P7YNfs/3e553/djzV65caRUVFXbiiSdGVS37va7f8xLdP9HrbV1XVcsaU+357KpRGxptd2W97ThYbzsq6mxfVb3tq2qwfdUNVqMEsOVQ5ai576uCtWdxXnNlaH2TlRZoSeicqKWLI9/p9qotzLEehbnWvSjPVBH8Wfub/0vVu/urG+zjndVWFXXf5u/3yKk1Fd9qjqhCVxXJum9xQY6V5OccXp0eMT91N7VP79tZUW+7KhvctfS6QmiZje5X6AJRVUvrSLSPsKqUo45DJyr8LS3IdWH1X/fUuQBZQeyu/eVuae0jenU/VOUb/+dGfelbrIprBa7N+yon+vl6fYP28W1y4bkquPuUaH/mRhf4usroBgW8zfcpzs+xMmef4wLdg7V6X5NV1TW6sFfvqWtsavmq9xysEUqDleTn2rBe+Tasp9qTY90KcmxAaY4NLM1114082pp3yc7j1s6Pdy+9pj8KU7WKQEFB8xMJmdCujnxOxp8FXf+q9i3+4Q9/6Ksh2pNZ2xBwIIAAAggggAACCCCAAAIIIIAAAn4FCID9SgXzPALgYI4brUYAgU4UULih5Z4V+Oo4//zz3VcvAFbgq6Wc/QbACk1UyaXjzDPPdEGK7pGuvX8PHjzolp/Wfp3atzMoh6oM3377bVdxrQA4KIfCMVV0Dxo0yI4//vi4zdYSwN5+tBv2VNqug7W2p7LOhb46DlTV2d6q5qWFFQFqaedJQ3pa724FLmDVfrsuOM5RFalZfYP231XY2NS8F29DkxXk51qPojzr5sJgV1/c0pZV2w/a7opatyxxRW29W65YaWxhzQErLS2xfn17u+A5LzfXhaz6b7VBSxpr39n+3YtsQI9Ctzex2484P9e1y6tG/GTHQVuy8UBU37Us9RcmDHJzXcGo9uQ9UF1vB6vrrbym3v1d7fEqniPfrP2Tq+sbrLa+ye2RrD101QcFsU2NjXag/ID1Ki2yIQP7RN1TgWrPQ3vnarnporyYMt+Y0VFFrq59sLbBPti43y1v7WzM3J67kYdMtUexrq9gXXsBazlovVfLfLv3Nja5vY69YFzLX8usb/cCK6+qs9XrN1tpSYmdM36YHTOgeV/fXqUxZd4ZNvH14IpWN2htfmdYk11z9ECGHspJ9HmSKPCO1xe/5/oNxnWPeOfq4RetOqHvqfL6b//2b92/F3qAyDu8UF4V2a3t252JY0KbEEAAAQQQQAABBBBAAAEEEECgawUIgLvWP913JwBOtzDXRwCBwAsoONAv3FUFrF+2ewHw0qVLbcuWLeYFwNojePfu3a4iWMdrr73mlkjVHr9aelRhpvb/3bx5s9XV1blf6KuaWIFwusJftUPVv2rn1KlTrWfPnoEZjzVr1tinn37qltvu169fYNota5kr/FVI1tahsFB7w27eV2WrtlfY1gPVtkN7xR44tE6z2y83147sVRx1KYWyqmBVEJmbm+P281UVbHFBrmm/YO336x0KXxXcKrDsU1poSzcfsE93Vbr3K6B0gWV1leUd2GI9+h1h3cqig9REfdC9+nUrtL6Hrq39bnXf9XsqbeHafVFvUxD9ueMHJuRQsLu/us52ldfajvJa23mwxoXi2u9XwbD2G/YO/Rxu2Fvl/trY0GgHD5Zb3+4ldmT/Xm5PZQXVCny7F+Un3C9X1bsKoisVPCv0ram36rrGltpj9SHyUDibl5Pj9mqWtcJotVGBb6ML3nV2k9u/2O23nKfxad6PWSGxgl/t7SsffU/Vwh98uMyOH9rfzj9lfNy9v9uaO131fX0e9u7d260oEKRDe617+64Hqd1eW6+99lp76qmnbO3atW77AA4EEEAAAQQQQAABBBBAAAEEEECgIwIEwB3Ry/z3EgBn/hjRQgQQ6GKBTz75xFXsdu/e3VRNO2vWLBfWeAHwOeec46qy/ATAffv2dSGxwhMtyXzaaae5kFihRDoOVaMq9OjVq5dNnjw5HbdIyzUV8CkwV7WhQnIF5EE5NC+2b9/uqrtVlZfMoX4r9FRV8Isf7bBVOyrc8tG9SwutpDDxHHH7VGvt6CZVAje5+alloEsL890ywkUKhvNzD33NcUHn/qp661miMDPfNTGnep/1qtxskyZNsuLuPW1PRa2rEt5doRC2Nmrp6UR9cvvqlha4ByVW76x0bSjKb263wufTRvZxQevB6ubAVZW/Cnf1VVXLrR3NVc+qrG1w7V+25YDrc01NrVVXHbTjjuhp44cf4cJvHVELazdp2eZGqzh0PwW++uMtRR3vvl4A3Ly0dp6NP6rMtXFvVb1V1TZYfVNzda9C3shDf+tWlN8S+ir4lrOC977dmkP4suJ8V5Gqh0SOPPJIGzduXDLTpMvPVYW7HlzR8vZBOrRvu/bSnTlzZqA+Uzxjhb8KgR955BH72te+FiR62ooAAggggAACCCCAAAIIIIAAAhkoQACcgYOSwiYRAKcQk0shgEA4BbTPr6pRFfIq2PMC4GXLlrlqXi8Afv/9923nzp3u+zoU7igAPPXUU1sqgBVkKjjRMqQbNmxw39N+q97SuakW/Otf/+qWr54wYYL1798/1ZdP2/UUjmtJ7aFDh9qxxx6btvuk+sIKPrVvp/Z1TkU4pmWd91XU2aZ91bZ5f7Vt219t28trXGiqPWUTHVoy2e0/29Do9tnVEs1FeblWcGgf37r6RldZ65YmztNev3lWVH/QejWV25TxJ1qP0kLTcsVetqmgVEs179efKv2pc/vhRh6RMahC2rW7q6yp0Uw1tapQVgB9dO8SVyHrlkX2/uTpv5urZvV6okPtVAWtqnoVLL+7bp9rX23lQdu2dYv9zZRjbcpxR7u3q//qnwJsLcusrwqNYw8t+Ry5bLZCZr2mtizbWu5C5FotV13bYEf1Lmm1bV6V74AeRTawR5H1UWV0twK3bHdkNbZ3Ea0CoM8ILds7duzYVE/FtF5v4cKFbkWE6dOnp/U+qb649uZW9axWZdADPUE7tm3bZiNHjrQvfelL9pvf/CZozae9CCCAAAIIIIAAAggggAACCCCQYQIEwBk2ICluDgFwikG5HAIIhE/AVVfW1pqqx/QLeC3xrCDXC4DPPvtsF+rGBsAKAvW6Ql5VDqsSV4fCHu3tqGC2W7ducSvR4gXCfl/TPXSulpjW/pGqLi4rK4sbMicKnv2+7vc8b1bEnp/o/fv27bOqqioXWsvQ61O82eX3mn7b6ve8eH1SKKaHAlRxrWrvyCOZ67Y11hW1jbazot62H6yzHQfrbU9VgwtkXUVsfVPUProKb/Wa+772pM3JcbsBl9c2uKDTy1zzG2qsNN+sR1kPt19wfk6OFeXnWGGevmpZ6c++qupV+95Wagll/altDpy9TFr75m4rb97D2DtKC3Ktj25w2PFZ6KtAunthrtu3uEdhngt6y/TfxfrvfLfcdeGhNi1cX25V9Y128MAB27Z7n510zGArKS6x3ZV1tr+6wQW7Xrjrgt2mQ/slNza5gFiBsEJ0hc55OeZCarXEq+jddqDW6ho/C42HRCzBrTNLC3OtV2m+DetdYkf1ag581b/iguaK57bmpSqAFyxY4B4GiX3Ioa3xT/TzlOzPmd85GXvekiVLbM+ePa6SNl0Pr6TjXxJ9futz2+/y7OloQ0euqX+Lpk2b5h400lLz6Vo5oiNt5L0IIIAAAggggAACCCCAAAIIIBAcAQLg4IxVe1pKANweNd6DAAJZJeAFwB9++KGpGtgLgJcvX26bNm0yLwBWKKIKYW+P4DfeeMNVDSsAVqCpsEd/P+uss9wv8FWdq2vHHql6TcsnKwRWSJAopIm9V7x7q33Jvp5VEyQDOqtws6LOTJlreV2O7a0xq6w3q200U+FrXWPOoa/Nf69tMNtVbdbgot7mP93zzZRdKhBuDkI/+xr7ms4ryG2yglx9bf6Tn+NWoLaaRrPqerMNFTkudPWOkjyz7gXN1/3sfU1WoL+765kLYnUNxa7KXtU+XUP/rdfcfyvIbcqxnVVm1Q1m9Yfu0bPQrDBipfDm86L/6Npu3+McM60UrXvHrODc0t6qerOD9c1/Vdt1/d5FTda/uMkGlZr1KjQXmCd6fwZMi7Q3wW+A7DWkrVA80Xl63e+9WjtPn4d6SEOfw4keLPF7n9baGq+9yVw39tznnnvOrSyg1ysrK92/Q8cdd1zLgz163XvPlClT7N5770372HMDBBBAAAEEEEAAAQQQQAABBBAIvgABcPDHsLUeEACHe3zpHQIIpEAgNgA+99xzXajqBcCqgtNSz/ECYJ2nfX4/+ugj27hxo6tonThxotvbVtdNVwWXgg7t06lQ4PTTT+/0/S47Eiwr3Pj444/tmGOOsaOOOsqNoN9QPJlz/Ybafs/TvVVdqIBG+y3H7lvcEZN4/WqrXZW1DbavStXB9W4ZZFXFqjLXVQnXNdq6vdW2p6Leahqa3HwsbKi0/MJiyy0ojKogbh6A6B8kF6Ieqh5W5axXQasQWEs9qzpWFcBujufmuK9HlhVY75J8t49utSqSG7Sfb/O+vqomblDg29T89fCFoA9/UEL90vtr6+qsvqHB+pc1L6Xe0NBkdUp63dLXzUtcKxjWV1U/Rx7eVfWqW4La9av53NL85tC8W0GOTRxUbEN6Frhlsb2jLf/Yj57Y82WuB0i0FHGfPn2Svm5H75/Mz0rsuVrRQPNc7Y79DOvoz2p75npb1pFtKi8vd23W0vvJGPrtVzqu+fjjj9vzzz/f8lnohdj6d0f38+6pr3pA6fe//30K/uXjEggggAACCCCAAAIIIIAAAgggEHYBAuBwjzABcLjHl94hgEAKBLwAeOnSpW7ZTS8A9kJdLwD2loj29ghWBbBCwKlTp7rqLQU+w4YNs1GjRrn/bq0yt6PN1jLEK1ascEvLah/dIB1aSlvLy2p/UQUcQTm8PV0HDBhg48ePz7hmaxnkfVV1tvtgrdsTd/O+ant/4363THKf/Dqr2b/TBe49epRZrcLZukarrm849FVLJje4sDbxzsPRXd5RXmNVdarhbT60L663PHIsjn7Gmit2m6yxsfm/9dX9Peq/9X1VATf3RUs519TUWlNjkw0dUGalhXlWUpDvlpAuKch1+w17ewt/9rV5D+LiglzrVVJgPUvy3VftL+yWni76bBnndA6iQjx9RgwZMsRGjx6dzlul/Nrr1q2zTz75xFRtquXOg3TMnz/ftPz2GWecEaRmt7RV4bvmjD4fX3rppUAtwR1IcBqNAAIIIIAAAggggAACCCCAQIgFCIBDPLhaUa8pUalCuPtN7xBAAAHfArEB8DnnnOOWEPUCYC3pXFRU1LJHsBcAexW4/fr1MwUmOhQAjxw5Mq3Vv2rvO++84/YtVsihtgblqK6udpXLqpSeMGFCUJrt2qnlv/WQwJgxY1oqlzO9A+U19bavstY+XbPGNm7ZZieMn2iWV+AqchX2en9c0Frf6EJZVRArDNaewjUtXxutRqW7Ecfeyjo7UP3ZPsBH9Spxwavfo6UqV5W5uTktQa6qcPX3iuo627S/xvbt3eOWYj73pGNa9u/17qFKXu0drL2EFfDqvzsz5G2tr95cD2IArAdh9PmnBx30wEOQDlXpay9gfW4H6bPRM9bn+wUXXGCLFi2yXbt2uUpmDgQQQAABBBBAAAEEEEAAAQQQQKA9AgTA7VELznsIgIMzVrQUAQS6SMALgBUcqLLWC4BVYbthwwYXJEQGwN4ewQoy9V4FPSUlJVZRUWFHH320C4DTWf27Y8cO037FCpu1jHKQDq+y8MQTT7SBAwcGqekuEFMwpiW3Nd5BOt599103P2fMmNFqRaEqg2sPBcORX/V6lVtyus7Kq+ptf0297TpYa5/sqHAhcZ/uhda3W6ELcb1KXIWzuTk5LVW67nuHlmnOi7Ncszwjq48VRq/dXWmr1220UX2L7PQJo1tCXgW9PYrzrCg/L2OHwQuA9Zmg/VyDdGgPc614MHbsWBs8eHCQmm5r16611atXB7J62YP+3ve+5/b5/fOf/+yWfOZAAAEEEEAAAQQQQAABBBBAAAEE2iNAANweteC8hwA4OGNFSxFAoIsEYgPgs88+2woKCtwSywqAFZoVFxe70FX713oB8FtvveXCXy03Om7cOBcQKuzREtDp2vtXRArzDhw44Kp/FUwH5ZCzlmfV0rhnnnlmp+9b3BEntV2Bv7fnc0eu1dnvVdvnzZtnPXv2tEmTJnX27Tt0Py2l/uqrr9oRRxxhJ5xwQoeu1dlvrqqqMn1GBDEA3r9/v/uc0WfZ8OHDO5uuQ/fzwusgVerHdljVv/qM/OY3v2n3339/hzx4MwIIIIAAAggggAACCCCAAAIIZK8AAXC4x54AONzjS+8QQCAFAl4AvHz5ctu0aZN5AfDHH39s69evbwmAY/cI1v6elZWVLlhTRasCQi05qlA2Jyf+Urh+X090ngIx7RGpvXO9pUHjnev3NfF1tE1+76U9dHfv3u3aLbNk7u0Nc+y9/LY90b38tl3Lbas6vKyszLTkd+TRVW3y66fAfc2aNdanTx8bNGhQq23vqJPfNvk9T23Xz6WqxbWUcmvufq+ZzHmJ5p0fJz0coiBPFbQjRow47JOqI/Mm3v078rMQ+94gh9de24O49LY3SfRQkVZ40J/FixezD3AK/p3nEggggAACCCCAAAIIIIAAAghkowABcLhHnQA43ONL7xBAIAUCsQHwzJkzXcDqBcCqxNKSv7EB8CuvvGIKNSdPnuwCTS2ZqvBBYUrs9uuJtmP3+7p3noKBxsZGV6Ec7z7iSPaasYR+358Cei6BAAIZLuD3IYlUh9IeS3uCcn0O5+bmxn0YpyP96UibEr030u2RRx5x/+6ojXrQRw8kTZkypWWlB73utf/kk0+2O++8M8NnD81DAAEEEEAAAQQQQAABBBBAAIGuFCAA7kr99N+bADj9xtwBAQQCLuAFwFrCeePGjeYFwCtXrjTtWRsbAGuPYFUmquJXIYP+rlBWf/T3RJV4HWVSIKAllAcMGGDjx4/v6OVS8v54YXG811S5rOVwFaxPmzatxShdQXlk5/wG2q2dp+XAtey2whhveW+/ffd7ntqcDg/tW6x9o0ePHu2WMo93n0SvpatN8SZfPCeZq/2qXFb1tXd0xMnvePidN4napIdD1Ha1u1evXgnbnsx4dLRNybxfc0YPmrSn7emaT37HXftd6/O4e/fuUVPNb//9zpFU/3z827/9m3uQyLuuVh7QqhL6ozZ57dLXCy+80J555pmUfI5zEQQQQAABBBBAAAEEEEAAAQQQCKcAAXA4x9XrFQFwuMeX3iGAQAoEYgPgs846y1VceQHw9OnT3bLFy5Ytc8sAK/BVWKz9gBVoKiBW2KDrpHPvX91TgZJCyMhQJgUEab+EwiTtoRzEPUUVXmsPXS2hfNJJJ6XdKtU3eP/9923v3r2mea0HFIJ0aA/uVatWub2L5R+kQyHkO++845bxPeaYY4LUdNdWPeCiAFiVpkE79MCGPqv12R2kfdIjnT/99FO37/U111xjv/jFLzo8BA888IB7CEf/junzWEuUa29t7XF/++23u33sORBAAAEEEEAAAQQQQAABBBBAIFwCBMDhGs/Y3hAAh3t86R0CCKRAwAuAFRoocPICYAVPa9eudSGCAmBvj2AFIgsWLHBhrwLg0047Le3Vv/plvX55r6WmFQAH7VD4q9DhjDPOaKlCDUofdu7c6aryjj32WBs6dGhQmt3Sztdff92FYEEM8j755BNXhX/qqadat27dAmXvBcDDhw93Dz4E7Vi4cKFb6UCff0E7vAcH9MBG3759g9Z81179u6QAWA8XKQzu6MMb2rtcc1L71Wtfah16qOivf/2r+3fsueeeswsuuCCQVjQaAQQQQAABBBBAAAEEEEAAAQTiCxAAh3tmEACHe3zpHQIIpEhAQYcXAKsiSkvlegGwQkuFT14A3L9/f1MoqNdUHaoAWEdHf0HfWle8IGzChAmm+wfp0DKmb7zxhvXu3dtVcgbtUCW4lgY/5ZRTDltSNtP7onkt+yOPPDKQFX5e1bseytAyuEE6vCXbgxoAL1myxHbv3m1nn3122pa1T9d47tmzxxYvXhzYhzY8lxtuuMH++7//2+0LrCXcO3K8/fbb7vPXWwbeu9ZDDz1k3/jGN9xnhILzdK5i0ZH2814EEEAAAQQQQAABBBBAAAEEEEhegAA4ebMgvYMAOEijRVsRQKDLBBSU6Zfs69evd0ti6pfkqoxS5VVsAKxGah9evUeVuQqA07n3r/YSVfWvqjgVQqZrj+F04XvVeMcff7zbyzVoh4ITBf2aB0Gz37VrlynIU3g0ZMiQoNGbt3y19uUOmr0XAI8YMcJGjhwZOPsgh+966ESV70F98MGbLM8++6xdddVV9pOf/MQUBqfr0BLlq1evdhXBY8eOTddtuC4CCCCAAAIIIIAAAggggAACCHSyAAFwJ4N38u0IgDsZnNshgEAwBSIDYO3pW1JS0hIAn3766a7yU78cVyWoDi1Jq7+Xl5e3VOTGBlSJAqt4r7d2ru6xf/9+V0GrdsQ7/FwzmfboHqm6pgJgBTIKwWKrpJNpk99z/Z4Xr4+x71W7VQGs/WfjBaipMoocUz/zyG8ftWe05qz29+zRo0fLbfy02zvZT3v8zpdkztO57733ngvf9eBDovcmc83ODJH1c6ul4oMaAOsBGD0QowdctAR+0A4FwHqQZ9q0aUFrekt7VcmsZecvvPBCt0RzuuavHhDRihdaaSKIy5UHdoBpOAIIIIAAAggggAACCCCAAAJpFiAATjNwF1+eALiLB4DbI4BAMAQUACvo036jXgCsX4avWbPGvABY1Yjax1bVvxMnTnQB8KZNm4LRQVqJAAJxBfyG6Xqz3+Bc52kP1/r6evfQg7esbjLvj22s33b6PS9Rf7zX9ZmoP1rqPtHy2376k0x7kjVuzWjv3r2m1RP0eZ3qhxjitTOZfrbVnqeeespUva/ztPWAqnPnzJnTMg563buGqnevvPLKdv90P/744/aVr3zFLZetVTDSuZVBuxvJGxFAAAEEEEAAAQQQQAABBBBAoF0CBMDtYgvMmwiAAzNUNBQBBLpSIDIAnj59uqt48wJgVcCpenLevHkuEJk6dar17NnTVSa2FqIoAIo9Yl+Ld47e472+detWV4msfUSPPvrolte96/q5R6Jz27p3ZNv9nht7nqpP1YfjjjvOysrKojj8tr29906FkR4IUCXnmDFjovbG9NN2v+1Opp3JXlMVnDo0dyLnVXvGNpl55LedrZ2n72nuqIpTFdipuGZbP4+pMPLaqc+HAwcOuPbH7rua6D7xXvfb71RfU+1XgFpQUBAVCibTHr+eqbhmV/77kep733TTTa762s9x/vnn25/+9Cc/p7pz7r//fvfwUkVFhQt89d9aKnvu3LmB3KPdd8c5EQEEEEAAAQQQQAABBBBAAIEsFCAADvegEwCHe3zpHQIIpEhAwa6WwFy7dq15AbCqrvRHAbCWAtZytDq0R7Aq4hobG9O6969Ckfnz57vQWfvPJqrCSxFByi+j9r/55puuUk1V1OlavjTlDT90QY3va6+95pbdVugftEPVp3poYeDAgXbiiScGrfluf23NHy29rSVqg3Yo/F24cKFbUlcPcATt2Llzp33wwQduT9jBgwdnfPNjQ+TNmze7gFNzv3///i3t9xs2+3nIw7tosg/2RGLGu4+3bL7OW7p0qdv/92tf+5pdf/317kEI7z36qs+nYcOG+RqfyspKt5y6rukd+lzW/FQV8K233ppwmwFfN+AkBBBAAAEEEEAAAQQQQAABBBDIKAEC4IwajpQ3hgA45aRcEAEEwigQGQArbNWyp14ArP1+V6xYYfv27XNd1/dVFadfnKdzuUwvgNEv97XMZ9CO3bt3m5bNVrgQxH0ltYTsokWL3N7F2sc1aIfmqx5aCGoAqX2v3333XdrfRRMvLP5B/fn1hl3/NukhCG078MYbb3ToQZpHH33Urr32WndpPVRxxBFH2LJly0yf1d5r2jtZy2ZzIIDIvw18AAAgAElEQVQAAggggAACCCCAAAIIIIBA8AUIgIM/hq31gAA43ONL7xBAIEUC+iW7llr+9NNPXcCrAFj7/2oZaC3/q0oyVVodPHjQVbMWFhamtfpX3VJ4pxBG94u3hGyKup62yyhY2LZtmylAl2fQDo29loD2lvwOWvu1/Lb2tVZw1K9fv6A13+23/eGHH9q4cePcErVBO7wAVQ9v+K3QzKQ+VlVV2VtvveWWD9cS7kE7tIT1q6++GtgKeM9bVb5f/OIXXTW/HgrS9gPtPbTf74IFC+yWW25peahIy3xPnjy5pSp49uzZpj2IORBAAAEEEEAAAQQQQAABBBBAIPgCBMDBH8PWekAAHO7xpXcIIJAigcgAWIGrwl4vAFZ4qTBk0KBBpmVFFWiWlJSktfrXq95U8KUALGiHlh9WJZn2Tg7i8snyVlCiZYjPPPPMDlXdddXYqWpd81VLmhcVFXVVM9p9Xy/APumkk6xv377tvk5XvdH7GQ5qAOwFqPrcO/7447uKsUP3VYCtVRr0mR3k4yc/+Yn98z//sz333HN20UUXpbwr2hf49ttvd9fVZ4WWL9dDThwIIIAAAggggAACCCCAAAIIIBBsAQLgYI9fW60nAG5LiO8jgAACZm6fXVV8KvSNDYAFNHToUOe0fv16VxGsitxEe9rGez32tbbeq2pkBUjav1Jhc+TR1nvbc25HrhnvvVu3bnUV1ccee2xU9WayDm31JV37Cms+aLlVLZF6wgknBPJnRPvPKsBWAJwup3TC6GdRFfnas1QPZATt8AJg/Qx4nx9B64MqaHv16mUK4YN4aA/jXbt22cyZM9P6wE66bT766CP3IM0//uM/2oMPPpjy2/3yl7+0a665puW6W7ZscQ88cSCAAAIIIIAAAggggAACCCCAQLAFCICDPX5ttZ4AuC0hvo8AAgjEBMCnnXaaq1z1KoBVQaYQbcOGDS6Q4shsgVSE2Y2NjaY/eXl5Ljz1E+p7Kn5Cbr9t9Hue7h17bnl5uWt/7PLbXdWXZH1UhajK+/79+7eEd6m0jWeWzGvxzo1sn8J3LYHep0+fuMv2+hmHjox/R/ui9+uhmPz8/JY9sDvSno68N5m5E9lvVcBrDMaOHWulpaVRH1wdaU9H3ptMX/QgjZaA9paB1t7zL7/8ctTPg9cWfU9zrT3HV7/6VXvsscfcW3UdfXYEcdWA9vSd9yCAAAIIIIAAAggggAACCCAQZgEC4DCPrhkBcLjHl94hgECKBFTxuXr1avfHC4C1/6h+Aa9lmLUEqs7RvqSJDv2SPvaI95rOiX098u/bt293S3AeddRRcff+be29kfdPVXu8a/rti5Z/VuiiyuXIQKKr2uO33ZHjor2ea2trXfWjHgDwY+73Ph1xiDd34r2m8FrzVeGd/rQ2LzqjPYna3drrKfrR5jIIBFZgzpw5rf6bE9kxVWkvXrw4bl/ffPNNU1XvJZdcEvV5oP1/H374Ybv55pvdAyRa9vvzn/+8zZ07N7BmNBwBBBBAAAEEEEAAAQQQQAABBD4TIAAO92wgAA73+NI7BBBIkYDCPlW7eQGwqibnzZtn+gX5pEmTXJCpUE2HAsF0HQrt9Mv6srKywO6d6y3dO2HCBFe9GbRDgaj2L1YFnJYfDuKhBxeWL1/ulq/WMtZBOzQG2oNZP39nnHHGYQG81x+/4bXf83TdVIX9WgJaS/cOHz48ajldvw8KxGtLMq+loi/6WdbDKPpZTnR0hW0ih9jX9Xm6du1a9/kd77MoVWPd0XFJNJ8feeQR279/v5uTe/fudf82TJs2zVU0e233KoSHDBlid9xxR9xh+tWvfmVXX3219evXz/17pj21tZqF5qeqfSMPLZs9fvz4oH1k0F4EEEAAAQQQQAABBBBAAAEEEIgjQAAc7mlBABzu8aV3CCCQIgEFwAp/FQKfeuqp7pfu+uW4Du29qEBW1VHeksApuu1hl9H9161b534BP2DAgHTdJm3XVRjx9ttvOysFd+kMy9PVCQVe2j932LBhdswxx6TrNmm9rvZf1n7VmsuxS0Cn9cYpvLj2YNZe2/r5C+KxZ88eV5E5evRoUzgXxEOfgaocPeussw6rJA9Cf/TQjvYxVuA5ceLEIDQ5YRv1UMeoUaNs9uzZ9tRTTyXVF4Xgjz76qHuwRcGv9kWWjT6nIw/9+6YVHDgQQAABBBBAAAEEEEAAAQQQQCAcAgTA4RjHRL0gAA73+NI7BBBIkUBkAKwKKy3/rOpD/YJ88uTJLXt4pjPQ1C/eVeFVWFjogrtE+0ymqMtpuYyq1BYtWmRDhw61Y489Ni33SPdFFZCo8tGr/E73/dJxfQWPqkCdOXNmIOeRHiTQXqeq2myt+jQddqm65u7du+39998PdADsPZCiZfFj99BNlVO6rzN//nwXauqBlCAf+pnQwxCaV9rbWGFtR47vfe97bqn+J5980nbu3OkupVUPtHc1BwIIIIAAAggggAACCCCAAAIIhEOAADgc45ioFwTA4R5feocAAikSUACs0E+Vk6r8VBWuwif9Ylx7K3p7waYzlNU9Fbhoec/BgwenqGede5kVK1a4cOLkk0+2Hj16dO7NU3S39957zy2LOmPGjEBWMHtLWCuwC2r1rJbuVQWw9sEeM2ZMika2cy/jBcBqv/oRxMP7TJoyZYr7DAzisWzZMhd0BrWKOdL8n/7pn+zBBx90DxZ0tKJZVcAKxVeuXOmWh/7lL39JABzECU6bEUAAAQQQQAABBBBAAAEEEGhFgAA43NODADjc40vvEEAgRQKRAXBBQYEL/lTFqkBYv2jXHpLprP7VcpxvvfWW29cxqEsnq1paoV1JSYkLgIN4qOpby6Rqr8ygVp6qgk+V5EEOT71luEeOHGkjRowI4lRyy+wuWbLEBdhBDYC1/LOWgQ7qkvSaOFr+WMv7BznE9n4A/vSnP9mll15qqt69/fbb2/1zoQdctDqAVmv44he/aE8//bRb4psK4HaT8kYEEEAAAQQQQAABBBBAAAEEMlKAADgjhyVljSIAThklF0IAgTALKADW0r+rVq1y3VRoozBW1VE9e/Y0hcKR1b/xKoETVQfHvh7vvKqqKrdkr6pmIytn/dzH733VLz9tiXdeotciXz948KBt377d7bfZu3fvqOnit41++utd2M+5fu/r9UN7P2/YsMGOPPJIFwLHO/zcNxnDVF9P88irZB84cKDrQkfu4Xfe+LX20xaFp8uXL7fjjjvOjUUyY57o3HRW78ebJ14AHOSK/jD0Qas4fPDBB4EO4r35peD26KOPtjPPPNP+/Oc/t2t5d1XXX3DBBTZv3jybNWuWzZ071207oJ8PAuAw/68c+oYAAggggAACCCCAAAIIIJCNAgTA4R51AuBwjy+9QwCBFAkoANbyy6oU0y/D9Qt27Wer4ECVrZGHgmEOBBAIvoDf0Fo9TfbhCVX167NDe7Um2q/VzzX9ttFPsJ4oHE/UP+2dW1FRYcXFxS4cjHdee2wiZ066+6cxUAisJdH1ME9rBp3RP7/9jWzLE0884Zal13u1P/3HH39s119/fUtw653rhbi33HJL3B9OWVx22WX27LPPupUmXnzxxZa9nQmAg/95Rg8QQAABBBBAAAEEEEAAAQQQiBUgAA73nCAADvf40jsEEEiRgAJg7f2qirfhw4fbMccc48Ibhb1a+tlP9WBsMBwvKI73msIJ7VM5ZMgQGzVqlOuR3/fGO7cr3quqMi13q31CVbXpHYnCcj9t7Oz3ehXfGuvIPrTWFz/9SGY8/fa5tftu3brVhXZaOllzt73z0m+7/bbZ71zVeVoCWoGX9uFW9X2itvi9pt82+h1PPzb6TNE4KHjUQyWRh5/7+G2zn7a0dw6rDepHohDbTz8S3bsj703Rx35gLjNnzhzbsWOHr/ZqBQn9/MQ7fvzjH9vNN9/svvWFL3zBysrK3H/r3zqFzDr0maGfu7/5m7+xe++9N7DLl/vC4iQEEEAAAQQQQAABBBBAAAEEQi5AABzuASYADvf40jsEEEiRgJYv1pKYqtqbPHmyW8JYvxRXGJjOvX/VfAXPWnr49NNPd5V2QTzWrVvnKqhPPPFE85YdDlo/FNa98847LogfPXp00Jrf0l7tJa05e+qppwa2D6pw3LRpk02fPr2l8jRonVFgp2rNcePGRS1jHaR+6DPw1VdftUGDBtnxxx+fUU3382CDGqzztNdtZWWlq3rVZ3oy743tdFe8VytTKIjXoc/ZG2+80a644goX5qo9Xpu8B5a0b32841vf+pbdc889bY6j9nzW3FUQPH/+fNNe3BwIIIAAAggggAACCCCAAAIIIBA8AQLg4I1ZMi0mAE5Gi3MRQCBrBVSBqz2AdSgA1lKhyVT/thdO+7UqANY+pwqKgnjIacGCBVZdXe2Wzk53YJ4uo/Xr17u9cydMmOCCjyAedXV19tprr9kRRxxhJ5xwQhC74Nqs8EkB6jnnnOOr+j4TO+oFwApOFaAG9VAArMr+k046KahdsBUrVtjmzZsD/UCBh69luYcOHeoq/BVs+1mdorWBu+uuu+zb3/62OyVyD+AHHnjAbrvtNmf2+uuvB3bsaTgCCCCAAAIIIIAAAggggAAC2SxAABzu0ScADvf40jsEEEiBgJYv/stf/uKWOVWV1aRJk1wA3BnVv17Qdcopp1j37t1T0JvOv4SWG124cKFbKnTMmDGd34AU3fH999+3PXv22IwZMyw/Pz9FV+3cy6j9ixcvdkuYDxs2rHNvnsK7vfvuu1ZVVeUeKAjqsX37dlu6dKmrnA1yAPzmm2+6ZbhPPvnkoA6FbdiwwVatWuVC7L59+wa2H2q4Hri58sorbe7cuaY51pGHVfTAyIABA0wPIumIDID1d1UCaw4raNa/ixwIIIAAAggggAACCCCAAAIIIBAsAQLgYI1Xsq0lAE5WjPMRQCDrBLZs2eJ+wT148GC37KyWz9QS0H73/m0vmLfkcL9+/dw9g3qsXLnSNm7caFOnTnXBeRAPLXWryllVOgY56AhL0BWG0NELgFWJrYrsoB56uEMPyagSNKiH92DEscce66png348+uijdtNNN9lvfvMb+9KXvtTu7mjbg5kzZ7olntesWXNYAKzKYFUI33333ablozkQQAABBBBAAAEEEEAAAQQQQCBYAgTAwRqvZFtLAJysGOcjgEBWCmgPXgU22ntUSwCrSizdSxl7y5J6ew4HEV57Jr/xxhuuQlB7znZ0OdKuMti9e7epAjjolbMfffSR6YEGVc4WFhZ2FWeH7qsKx1deecX9DAb5wYht27aZlpYP8r7YGsglS5aYfj7OPvvswP58a2UHLWMc5KX2I3+oFNZqXv393/+9KQxu7/GjH/3IbrnlFrvsssvsmWeeOSwAfv755+3CCy+0iy++2J599tn23ob3IYAAAggggAACCCCAAAIIIIBAFwkQAHcRfCfdlgC4k6C5DQIIBFtAAYH2gFUoqzAzUfVvooAz9vV450W+ppBLFcC6T2lp6WHBSrLXi9RP5Xt13daup8pAhedavrpbt26HTYL2tiVVzn5dVCGopawVEGkZ1Nbe532vvX1ryzTR9eO9L/ZcBUOqZj7uuOPaHItE12tr7rbWvlT0TcvSaml0VcYPHz68Xf3wO3/8GrTnetoDWNXxY8eOjbtMrx9nP+ckMx/b8yntPVRw1llnBXZpdPVbAXBxcbFNmzatPQwZ9R79+6GlxXVo7/r2Pnhz66232g9/+EMXAutr7BLQ+jnUA1FaOltLy3MggAACCCCAAAIIIIAAAggggECwBAiAgzVeybaWADhZMc5HAIGsFFCQqQBQFcAK0PQLdf2SPfKI/bu+5/e12HMVONfX17sqTe097B3xrhfvPn7v21nXy8pJQ6cRCJhAewJlVfnrc0SfU34eehCJn/v4Ocfj9XPftkL6yspK99neo0cPX/1o63qJ2ua3/+3p23/913/Z1q1bXfv10MratWvdygvenvXevfV9/fnud7+bcP9pVfdec801pgcV9OCLVg7Qe7SUv3eownjOnDmmpbO1hzIHAggggAACCCCAAAIIIIAAAggES4AAOFjjlWxrCYCTFeN8BBDISoHq6moXyCroSPfev7qP9jhV+BvkZZMVYmv5Z+2XrAqxyMNvQK33pCpo9xt2x95T4b/2gB4wYICNGjWqpRvtvV68PnkX9ePi55x411PApZBm4MCBUaFPe6+XqB9+XfzeN/Y8VcZrL26Nh/ZkTsbO73zqjL6pHwrptJR1SUmJ64ZfO7/t68j1/L63qqrKNLfKysqiKoD9/Nx2Rj/8jrk+rxQAq8o1djWGVH12+W2LX5fYf4xVqavQ1++hCvR4qwHo/b/61a/s6quvbvVS//7v/2533HGHC4C1RP7vf/97e/fdd037Qqs6WKYKmXUOBwIIIIAAAggggAACCCCAAAIIZJ4AAXDmjUkqW0QAnEpNroUAAqEUUJChgEOVbukOfwWosFHBkJaGPeqoowJrum7dOvvkk09s3LhxroIsqIfCRlV+n3DCCXbEEUcEtRu2efNmt4R50PecVSWilh0eP368C4GDetCPzBo57+cjaPMqMmhXgO1VZOvfEIW7F1xwgT399NMtq1bofO89evCgtb3sI5eAfuCBBw4bsMgloH/xi1/E3ZObADiz5jmtQQABBBBAAAEEEEAAAQQQQCBSgAA43POBADjc40vvEEAgBQL/8z//4yqadHhLZ3pfY19L9Hfv9Xjf90JlXVO/wP/JT37i9ja95JJL3C/qI+/p935+2ufRpOv63/rWt9zeptdff31LH9pqv1d5l642JXN9r6333nuvqQpYX1WV3VYf2vP9yPe05/1teWmO3X///S6Q19c+ffqk4Cejay6hKsMFCxa4eXX00UentBHt3Su1PY1YsmSJvfLKK/b5z38+YRVme67b2e/Ztm2bzZs3zz0g4e0729ltSMX9tFe5PueHDBliY8aMScUlu/Qa+rfjzDPPNO37rWWctXd9ssePfvQjt//vZZdd5kLk2EPLRF944YV28cUX2w9+8ANX7asloqdMmWK/+93v7L777qMCOFl0zkcAAQQQQAABBBBAAAEEEECgEwUIgDsRuwtuRQDcBejcEgEEgiXw1a9+1R577LFOabS3t7AC4GSW8uyUxrXjJsOGDTNVAgf5UHDSr18/t7dmkA8t/ayQS8uZe0cygXhbDxXomp1xPe3RumzZMhc2avlh776d3b7IsLitAD7e99VuBcCzZs1qedAjclza6k8qvx9p6NfTu79WR/j1r39t559/vo0YMSJqPNLZn7bmW+RqDZFWifqnylktaayq2csvv9z3Qyuxdsn6ted8v+P15JNP2jPPPOP+XHrppUl/fCnYnzlzpo0cOdJWr1592Pu//e1v21133eX+3HPPPVHf1wNAeo0K4KTZeQMCCCCAAAIIIIAAAggggAACnSZAANxp1F1yIwLgLmHnpgggECSB7du32969e11IE/lHfUjl33Ut7bmopUj1C3sFXam8fqrbG3s9b1lRff3f//1fe+GFF+y2226z0aNHt/Qj3W1I9fW1/PMTTzzh9mI+7bTT3LRN1Zh4PwOpul6kf+Qyr/pvhVtz5851e+aeccYZKRmPRO33lqBNV//0QIGCbC2RrpAv1q+1eZnK8UvkHXmPtu6n8LS0tLRl2d62zve+n0mfn9ozVxXyWk7YC+QzqX3JtKVbt25ur3f1J0zH2WefbS+//HLSXdIevlpmXT9v2uN34sSJUdfQctlLly51+/6q6jfyIABOmps3IIAAAggggAACCCCAAAIIINDpAgTAnU7eqTckAO5Ubm6GAAIItC6watUq9wt1LbkZ5OO9994zLZ39/e9/v9U9JjO9jx988IFb2vTmm2+2yZMnZ3pzE7ZPAY7m1CmnnHJYpV4mdypyf1OvnbNnz7b58+d3emV5vLZ0xO6RRx6x6667zv70pz/Zeeed5/tSkcGz3tQZDxDEPlAQ+XeF2Kqaveiii0xLBnd1ezpyf4WWmlt/+MMfWpZM7sj1unp8FGaryvzKK6+0K664wvccizzxzjvvdEs56yGYl156yRSS69CewHrA5/TTT7c333zzsGsTALeLmzchgAACCCCAAAIIIIAAAggg0KkCBMCdyt3pNyMA7nRybogAAggggAAC2S6gKlOFp927d2/X/qyZ5PfGG2/Y0KFD3Z8gH1ryWKs9fO5znzNVNnOYWzJ+xowZbn/kQYMGuRUE1q9f7/7et29ftx/3qFGjDqMiAGb2IIAAAggggAACCCCAAAIIIJD5AgTAmT9GHWkhAXBH9HgvAggggAACCCCAAAIhFtDS3trL96mnnrKNGzda79693Z7P2gN4yJAhUT1fuXKlq6B++OGHXZV+Xl6e20NdFcS33HKLC5A5EEAAAQQQQAABBBBAAAEEEEAgMwQIgDNjHNLVCgLgdMlyXQQQQAABBBBAAAEEAiBw6aWX2vLly5Nq6eOPP25Tp06Nes9RRx3l9rEvLCw07SF8wgknuGXBde2cnBy3dLSW1OdAAAEEEEAAAQQQQAABBBBAAIGuFyAA7voxSGcLCIDTqcu1EUAAAQQQQAABBBDIcAHtcb548eKkWqkls7U8dOSh/ayvvvpqW7FihX3nO99xlcN33HGH/exnP3N7XqsiWPvcjx07Nql7cTICCCCAAAIIIIAAAggggAACCKRegAA49aaZdEUC4EwaDdqCAAIIIIAAAggggEDABeLtATxr1ix76aWXTN+7++67A95Dmo8AAggggAACCCCAAAIIIIBA8AUIgIM/hq31gAA43ONL7xBAAAEEEEAAAQQQ6FSBeAHw7bffbvfff7/NmTPHVQRzIIAAAggggAACCCCAAAIIIIBA1woQAHetf7rvTgCcbmGujwACCCCAAAIIIIBAFgnEC4C1z/Dvfvc7u+uuu+yee+7JIg26igACCCCAAAIIIIAAAggggEBmChAAZ+a4pKpVBMCpkuQ6CCCAAAIIIIAAAggg4JZ5Vsjr7QG8Zs0aGzdunNXU1NiiRYts0qRJKCGAAAIIIIAAAggggAACCCCAQBcLEAB38QCk+fYEwGkG5vIIIIAAAggggAACCIRd4Atf+IJt3brVdXPTpk22efNmGzJkiA0aNMg+/vhjKy8vtyuuuMJ++9vfhp2C/iGAAAIIIIAAAggggAACCCAQCAEC4EAMU7sbSQDcbjreiAACCCCAAAIIIIBAeAS0TPPy5cuT6tDjjz9uU6dOtWHDhtn69etbfW+PHj1cJfCVV15p1113neXn5yd1L05GAAEEEEAAAQQQQAABBBBAAIHUCRAAp84yE69EAJyJo0KbEEAAAQQQQAABBBDoZIHJkyfb4sWLk7rrvHnzbMaMGYe958EHH7QbbrjBvV5YWGjnnnuuVVdX29tvv+2+zpw501588UUrKChI6n6cjAACCCCAAAIIIIAAAggggAACqREgAE6NY6ZehQA4U0eGdiGAAAIIIIAAAgggEFAB7QGsvYB79uxpr732mk2YMMH1ZPv27XbOOee4SuOHHnrIVQJzIIAAAggggAACCCCAAAIIIIBA5wsQAHe+eWfekQC4M7W5FwIIIIAAAggggAACIRd48skn7ctf/rKVlJTYSy+9ZKeddlpUj/X9q666yi677DJ7+umnQ65B9xBAAAEEEEAAAQQQQAABBBDITAEC4Mwcl1S1igA4VZJcBwEEEEAAAQQQQACBLBd44YUX7KKLLrLc3Fz74x//aOedd95hIr/97W9t9uzZbi/gJ554IsvF6D4CCCCAAAIIIIAAAggggAACXSNAANw17p11VwLgzpLmPggggAACCCCAAAIIhFhA+/tqr9+6ujp75pln7OKLLz6st3v37nWh8KJFi1z4qxCYAwEEEEAAAQQQQAABBBBAAAEEOl+AALjzzTvzjgTAnanNvRBAAAEEEEAAAQQQCKlA7969bd++fTZ8+HCbPn266+WBAwds6dKl1tTUZNXV1bZ7926rqamxr3/9624P4JycnJBq0C0EEEAAAQQQQAABBBBAAAEEMluAADizx6ejrSMA7qgg70cAAQQQQAABBBBAAAHfYe71119v9913n5WVlaGGAAIIIIAAAggggAACCCCAAAJdJEAA3EXwnXRbAuBOguY2CCCAAAIIIIAAAggEReDSSy+15cuXJ9Xcxx9/3KZOnRr3PQ0NDbZhwwZ79tln7V/+5V9cFbCO3/zmN/alL30pqftwMgIIIIAAAggggAACCCCAAAIIdFyAALjjhpl8BQLgTB4d2oYAAggggAACCCCAQBcITJ482RYvXpzUnefNm2czZsxo9T2rVq2y448/3urr6915BMBJEXMyAggggAACCCCAAAIIIIAAAikTIABOGWVGXogAOCOHhUYhgAACCCCAAAIIIBAuAe0DrIB45cqVbi9gVQX/+te/tquuuipcHaU3CCCAAAIIIIAAAggggAACCARAgAA4AIPUgSYSAHcAj7cigAACCCCAAAIIIICAP4FHHnnE5syZY0888YR9/etft4qKCnvooYfsuuuu83cBzkIAAQQQQAABBBBAAAEEEEAAgZQJEACnjDIjL0QAnJHDQqMQQAABBBBAAAEEEAiPwLZt22zMmDE2adIk+/nPf24jR450nXvyySft7/7u78LTUXqCAAIIIIAAAggggAACCCCAQEAECIADMlDtbCYBcDvheBsCCCCAAAIIIIAAAgjEF/j+979vl156qY0YMcKdcPnll9vcuXPtD3/4g9199922cOFC9zp7ADODEEAAAQQQQAABBBBAAAEEEOgaAQLgrnHvrLsSAHeWNPdBAAEEEEAAAQQQQCBLBIYNG2YbN2608ePHW2lpqb399ts2ePBg27p1qzU2NtrAgQNt+/btBMBZMh/oJgIIIIAAAggggAACCCCAQOYJEABn3pikskUEwLlTw0YAACAASURBVKnU5FoIIIAAAggggAACCCDglnZ+4YUX7N1337U1a9ZYU1OTC30nTJhgs2fPtldffdUef/xxAmDmCgIIIIAAAggggAACCCCAAAJdJEAA3EXwnXRbAuBOguY2CCCAAAIIIIAAAggETUDLOC9fvjypZivYnTp1qnvPjTfeaD/96U/tlVdesZkzZ7Zc56tf/ao99thjBMBJyXIyAggggAACCCCAAAIIIIAAAqkTIABOnWUmXokAOBNHhTYhgAACcQTuvfdet2+ijiDtmbh06VL7+c9/bosWLbINGzbY7t27rbi42MaOHWtXXnmlXXfddZafn5/xY75y5Uq3d+VLL71kn3zyiVu6tHfv3nbqqafaLbfcYmeccUbG98FrYEVFhf3+9793lXnah/PDDz+02tpa++53v2t33HFHxvWjurratU3zXnOoT58+dv7555t+Jo466qiMay8NQiBMApMnT7bFixcn1aV58+bZjBkz3GfMKaec4j7rFQpHHgTASZFyMgIIIIAAAggggAACCCCAAAIpFyAATjlpRl2QADijhoPGIIAAAvEFVq1a5fZRVEinZTSDFAA/+OCDdsMNN9jQoUNt1KhR1r9/f9u5c6fbD1LBnirCXnzxRSsoKMjo4VfQuHnzZisrK7Np06a58HfFihWuMi4nJ8ceeOABu/nmmzO6D17jPvjgA5s4ceJhbc3EAFhz5Oyzz7Z33nnHBg0a5IL2devWuWBJc2n+/Pk2cuTIQLgrRPvLX/7SErxv2bLFioqK3M9BkI7Kykr3IMQf//hHe++999x4NDQ0uJ/vSy65xG699Vbr3r17YLqkn9233nrLli1bZjt27HDjccQRR7gA8/bbb7dx48YFpi+Z1tBvfetbds8997hln3v27BnVPD1UowdpxowZYwMGDDBVGl9//fWZ1gXagwACCCCAAAIIIIAAAggggEBoBQiAQzu0rmMEwOEeX3qHAAIhEFDgqyBCIfDJJ5/sqlCDFAB/+umnbhRGjBgRNRr6xf8555zjAtSHHnrIVQJn8nHeeefZ1Vdf7QKuwsLClqb+7Gc/c23Py8szVTursjnTD+3HqbBXS7ROmTLFfve739l9992XkRXAd911l3372992VYQKHb1gUaHdbbfdZtOnT7fXX38908ld+y6++GL38xt5BDEAfvTRR+3aa6913VA4qjl/4MABF9KXl5fb6NGj3Zgo1AvC0a9fP1NV/IknnmiDBw92Tf7oo4/sr3/9q/tZf+655+yCCy4IQlcyro1eAOynYTfddJP96Ec/8nMq5yCAAAIIIIAAAggggAACCCCAQAoECIBTgJjBlyAAzuDBoWkIIICABB555BGbM2eOPfHEE656MEx7Jj755JN21VVX2WWXXWZPP/10YAd81qxZLpxU2OEt0x2kznghTaZVANfV1bkQcd++ffb+++8fVrWsqniF7lpefNKkSRlP/r3vfc9UPavQXX9UZRrEAFhL+S5YsMAtfX7MMce0uG/dutU+97nP2ZIlS2z27Nn21FNPZfyYqIFajUDzR0vTRx56MOUb3/iGHXnkkW7pcT3kwZE6AZaATp0lV0IAAQQQQAABBBBAAAEEEECgPQIEwO1RC857CICDM1a0FAEEslBg27ZtbnlMhRMvv/yyhe0X5r/97W9dUKT9IRVwB/XQMrH333+/C+pVERy0I1MDYO0jqiXCtcTz6tWrD2NVZbAqhBW6qw9BO7R0eBAD4NactSS39sVWv1QVHFktH7TxUXsVcGvuqSI4CNX9QTIO279nQbKnrQgggAACCCCAAAIIIIAAAghIgAA43POAADjc40vvEEAg4AKXX365zZ071+1NqSAiTL8w37t3r2lZZVVvKvxVCBzUQ3tXahllhZHa7zJoR6YGwFoOVlWmiSrEn3/+ebvwwgvd0srPPvts0Njd3tFhC4BV4dytWzc3FtrjWPs2B/nQctZafv+TTz5xexxzpE4gTP+epU6FKyGAAAIIIIAAAggggAACCCDQeQIEwJ1n3RV3IgDuCnXuiQACCPgQ+L//+z/7/Oc/7wJFBYs6gvwLcwUo2me2sbHRtP+v9gs9ePCgff3rX3d7ACsMC+Kh/XS1D2pNTU1gliKOdc7UAPjWW2+1H/7why4E1p6/sceHH35oEyZMsJNOOskWL14cuOkTxgBYe3qfcMIJVlBQ4PYDVsAd1ENLXX/lK1+xY4891j7++GPLzc0Nalcyst1B/vcsI0FpFAIIIIAAAggggAACCCCAAAJJChAAJwkWsNMJgAM2YDQXAQSyQ0DBqJYbLSkpcXuceiFKkH9h/tZbb9kZZ5wRNYDXX3+9C4XLysoCObD19fV21llnmfp2xRVXmJa0DuKRqQGwltTWHtj/+q//at/5zncOo9XSvKqMV0CnKs2gHWEMgK+99lp79NFH3cMrWr0gSIeWcddSzxUVFS7w1X9r/1/1Iwh7TAfJmrYigAACCCCAAAIIIIAAAggggEDXCxAAd/0YpLMFBMDp1OXaCCCQtQJaEliVcMkcqjabOnWqe8uNN95oP/3pT+2VV15xe6B6R1cEwB3tS6xBQ0ODbdiwwS3Zq+rmgQMH2ksvvWTDhg1Lhivpc1PdDzXgH/7hH+zhhx+2ESNG2HvvvWd9+vRJul3teUOq+5KpAbAXJt55552m/X5jD1WVK/wlAG7PLEr9e1544QW3JHd+fr77eRg/fnzqb5LGK55zzjnuM9c7hgwZYr/+9a/tzDPPTONduTQCCCCAAAIIIIAAAggggAACCCDQNQIEwF3j3ll3JQDuLGnugwACWSUwefLkpJeknTdvns2YMcPeffddO+WUU9yeuAqFI4+uCIA70pe2Bl0h8Be/+EUXGv3xj39s6/QOfT/V/bj33nvt7rvvdgG2KoA7c3/QVPclUwNgloDu0JTv1DerYva0004z7e2tvZtvuummTr1/Km+2b98+t++6fsZffvllV32uKnQOBBBAAAEEEEAAAQQQQAABBBBAIEwCBMBhGs3D+0IAHO7xpXcIIBBAAS+M096mPXv2jOrBypUr3f65Y8aMsQEDBpgqQbWMclCPpqYmt/xzVVWVVVZWWmFhYSC68p//+Z/OXePz2muvuX1og3xkagCsIFH7/1522WX29NNPH0b8/PPPu4cHLr74YldRHrQjLEtAb9q0yYW/quxXaP8f//EfQRuKuO2tq6tzD+O8//77tnDhQpsyZUoo+kUnEEAAAQQQQAABBBBAAAEEEEAAAQkQAId7HhAAh3t86R0CCARQwAvj/DRdVXYKyYJ8DB061AVH27Ztc9W0mX48+eST9uUvf9ntz6ylqxV8Bf3I1ABYVfFaAn3kyJGm/X5jDy0Lfdddd7k/Wk48aEcYAuBdu3a5vb31cMrVV19tv/jFL/R/HoI2FAnbq32Bb7/9dvt//+//uYpgDgQQQAABBBBAAAEEEEAAAQQQQCAsAgTAYRnJ+P0gAA73+NI7BBAImUBXLAGdTsJPP/3ULZ3co0cP27Nnj+Xl5aXzdh2+tvY4veiiiyw3N9ctWX3eeed1+JqZcIFMDYBra2tdpfv+/ftdFebEiROjuLTH7NKlS92y6UGszgx6AFxeXu4C+kWLFrml3FWlnek/w8n+vP3yl7+0a665xq677jp76KGHkn075yOAAAIIIIAAAggggAACCCCAAAIZK0AAnLFDk5KGEQCnhJGLIIAAAp0jEMQA+Pvf/75bqnrEiBFRSKtWrbKvfOUrbmlVLaf805/+tHMQ23mXt99+284991zTsrDPPPOMW3Y4LEemBsDyvfPOO+2+++6zU0891VVcd+vWzbE/8MADdtttt9npp59ub775ZiCHIsgBcE1NjV1wwQWmKu1Zs2bZ3LlzA7OEezKTxfvMVSXwN7/5zWTeyrkIIIAAAggggAACCCCAAAIIIIBARgsQAGf08HS4cQTAHSbkAggggEDnCQQxAB42bJht3LjRVK2pal/t+7t+/XpbvHixNTY22vTp0017uXbv3r3zINtxp969e9u+ffts+PDhrs3xDoWRX/va19px9c5/yxe+8AXbunWru7H2cN28ebMNGTLEjjzySPfaoEGDMmJf3erqapsxY4Z7UEBt0nLDmj/6e9++fW3BggVuXgXxCGoA3NDQ4PZl1r7LGo8XX3zRSktLgzgE7uGBLVu22CWXXGL5+fktfdCDHg8//LDdfPPNVlRUZHpgRT8fHAgggAACCCCAAAIIIIAAAggggEBYBAiAwzKS8ftBABzu8aV3CCAQMoEgBsDaM1dLJ2uZWO3zW1VVZX369LEJEybY7Nmz3X66WlI50w8/+5qqovlXv/pVpnfFtU/BvILURIf2Zl63bl1G9EVz5rvf/a499dRT7mEChfHnn3++aQ/gIIVyetBBbfYOhdiaV1OnTm15TXvNfu5zn8sI90SN+PGPf+yCUR16kKCsrCzuqT/4wQ+sX79+Gd0X/bxq72K1c9KkSe6hAu1rvGzZMveARHFxsT322GN2+eWXZ3Q/aBwCCCCAAAIIIIAAAggggAACCCCQrAABcLJiwTqfADhY40VrEUAAAQQQQCCgAl7Y2FrzteesHvTI5MNbMrytNq5du9Y9aJDJh9r46KOP2uuvv27ak1zhb2FhoWu39je+8cYbA1thnsnutA0BBBBAAAEEEEAAAQQQQAABBLpegAC468cgnS0gAE6nLtdGAAEEEEAAAQQQQAABBBBAAAEEEEAAAQQQQAABBBBAIMMECIAzbEBS3BwC4BSDcjkEEEAAAQQQQAABBBBAAAEEEEAAAQQQQAABBBBAAAEEMlmAADiTR6fjbSMA7rghV0AAAQQQQAABBBBAAAEEEEAAAQQQQAABBBBAAAEEEEAgMAIEwIEZqnY1lAC4XWy8CQEEEEAAAQQQQAABBBBAAAEEEEAAAQQQQAABBBBAAIFgChAAB3Pc/LaaANivFOchgAACCCCAAAIIIIAAAggggAACCCCAAAIIIIAAAgggEAIBAuAQDGIrXSAADvf40jsEEEAAAQQQQAABBBBAAAEEEEAAAQQQQAABBBBAAAEEogQIgMM9IQiAwz2+9A4BBBBAAAEEEEAAAQQQQAABBBBAAAEEEEAAAQQQQAABAuAsmgMEwFk02HQVAQQQQAABBBBAAAEEEEAAAQQQQAABBBBAAAEEEEAAASqAwz0HCIDDPb70DgEEEEAAAQQQQAABBBBAAAEEEEAAAQQQQAABBBBAAIEoAQLgcE8IAuBwjy+9QwABBBBAAAEEEEAAAQQQQAABBBBAAAEEEEAAAQQQQIAAOIvmAAFwFg02XUUAAQQQQAABBBBAAAEEEEAAAQQQQAABBBBAAAEEEECACuBwzwEC4HCPL71DAAEEEEAAAQQQQAABBBBAAAEEEEAAAQQQQAABBBBAIEqAADjcE4IAONzjS+8QQAABBBBAAAEEEEAAAQQQQAABBBBAAAEEEEAAAQQQIADOojlAAJxFg01XEUAAAQQQQAABBBBAAAEEEEAAAQQQQAABBBBAAAEEEKACONxzgAA43ONL7xBAAAEEEEAAAQQQQAABBBBAAAEEEEAAAQQQQAABBBCIEiAADveEIAAO9/jSOwQQQAABBBBAAAEEEEAAAQQQQAABBBBAAAEEEEAAAQQIgLNoDhAAZ9Fg01UEEEAAAQQQQAABBBBAAAEEEEAAAQQQQAABBBBAAAEEqAAO9xwgAA73+NI7BBBAAAEEEEAAAQQQQAABBBBAAAEEEEAAAQQQQAABBKIECIDDPSEIgMM9vvQOAQQQQAABBBBAAAEEEEAAAQQQQAABBBBAAAEEEEAAAQLgLJoDBMBZNNh0FQEEEEAAAQQQQAABBBBAAAEEEEAAAQQQQAABBBBAAAEqgMM9BwiAwz2+9A4BBBBAAAEEEEAAAQQQQAABBBBAAAEEEEAAAQQQQACBKAEC4HBPCALgcI8vvUMAAQQQQAABBBBAAAEEEEAAAQQQQAABBBBAAAEEEECAADiL5gABcBYNNl1FAAEEEEAAAQQQQAABBBBAAAEEEEAAAQQQQAABBBBAgArgcM8BAuBwjy+9QwABBBBAAAEEEEAAAQQQQAABBBBAAAEEEEAAAQQQQCBKgAA43BOCADjc40vvEEAAAQQQQAABBBBAAAEEEEAAAQQQQAABBBBAAAEEECAAzqI5QACcRYNNVxFAAAEEEEAAAQQQQAABBBBAAAEEEEAAAQQQQAABBBCgAjjcc4AAONzjS+8QQAABBBBAAAEEEEAAAQQQQAABBBBAAAEEEEAAAQQQiBIgAA73hCAADvf40jsEEEAAAQQQQAABBBBAAAEEEEAAAQQQQAABBBBAAAEECICzaA4QAGfRYNNVBBBAAAEEEEAAAQQQQAABBBBAAAEEEEAAAQQQQAABBKgADvccIAAO9/jSOwQQQAABBBBAAAEEEEAAAQQQQAABBBBAAAEEEEAAAQSiBAiAwz0hCIDDPb70DgEEEEAAAQQQQAABBBBAAAEEEEAAAQQQQAABBBBAAAEC4CyaAwTAWTTYdBUBBBBAAAEEEEAAAQQQQAABBBBAAAEEEEAAAQQQQAABKoDDPQcIgMM9vvQOAQQQQAABBBBAAAEEEEAAAQQQQAABBBBAAAEEEEAAgSgBAuBwTwgC4HCPL71DAAEEEEAAAQQQQAABBBBAAAEEEEAAAQQQQAABBBBAgAA4i+YAAXAWDTZdRQABBBBAAAEEEEAAAQQQQAABBBBAAAEEEEAAAQQQQIAK4HDPAQLgcI8vvUMAAQQQQAABBBBAAAEEEEAAAQQQQAABBBBAAAEEEEAgSoAAONwTggA43ONL7xBAAAEEEEAAAQQQQAABBBBAAAEEEEAAAQQQQAABBBAgAM6iOUAAnEWDTVcRQAABBBBAAAEEEEAAAQQQQAABBBBAAAEEEEAAAQQQoAI43HOAADjc40vvEEAAAQQQQAABBBBAAAEEEEAAAQQQQAABBBBAAAEEEIgSIAAO94QgAA73+NI7BBBAAAEEEEAAAQQQQAABBBBAAAEEEEAAAQQQQAABBAiAs2gOEABn0WDTVQQQQAABBBBAAAEEEEAAAQQQQAABBBBAAAEEEEAAAQSoAA73HCAADvf40jsEEEAAAQQQQAABBBBAAAEEEEAAAQQQQAABBBBAAAEEogQIgMM9IQiAwz2+9A4BBBBAAAEEEEAAAQQQQAABBBBAAAEEEEAAAQQQQAABAuAsmgMEwFk02HQVAQQQQAABBBBAAAEEEEAAAQQQQAABBBBAAAEEEEAAASqAwz0HCIDDPb70DgEEEEAAAQQQQAABBBBAAAEEEEAAAQQQQAABBBBAAIEoAQLgcE8IAuBwjy+9QwABBBBAAAEEEEAAAQQQQAABBBBAAAEEEEAAAQQQQIAAOIvmAAFwFg02XUUAAQQQQAABBBBAAAEEEEAAAQQQQAABBBBAAAEEEECACuBwzwEC4HCPL71DAAEEEEAAAQQQQAABBBBAAAEEEEAAAQQQQAABBBBAIEqAADjcE4IAONzjS+8QQAABBBBAAAEEEEAAAQQQQAABBBBAAAEEEEAAAQQQIADOojlAAJxFg01XEUAAAQQQQAABBBBAAAEEEEAAAQQQQAABBBBAAAEEEKACONxzgAA43ONL7xBAAAEEEEAAAQQQQAABBBBAAAEEEEAAAQQQQAABBBCIEiAADveEIAAO9/jSOwQQQAABBBBAAAEEEEAAAQQQQAABBBBAAAEEEEAAAQQIgLNoDhAAZ9Fg01UEEEAAAQQQQAABBBBAAAEEEEAAAQQQQAABBBBAAAEEqAAO9xwgAA73+NI7BBBAAAEEEEAAAQQQQAABBBBAAAEEEEAAAQQQQAABBKIECIDDPSEIgMM9vvQOAQQQQAABBBBAAAEEEEAAAQQQQAABBBBAAAEEEEAAAQLgLJoDBMBZNNh0FQEEEEAAAQQQQAABBBBAAAEEEEAAAQQQQAABBBBAAAEqgMM9BwiAwz2+9A4BBBBAAAEEEEAAAQQQQAABBBBAAAEEEEAAAQQQQACBKAEC4HBPCALgcI8vvUMAAQQQQAABBBBAAAEEEEAAAQQQQAABBBBAAAEEEECAADiL5gABcBYNNl1FAAEEEEAAAQQQQAABBBBAAAEEEEAAAQQQQAABBBBAgArgcM8BAuBwjy+9QwABBBBAAAEEEEAAAQQQQAABBBBAAAEEEEAAAQQQQCBKgAA43BOCADjc40vvEEAAAQQQQAABBBBAAAEEEEAAAQQQQAABBBBAAAEEECAAzqI5QACcRYNNVxFAAAEEEEAAAQQQQAABBBBAAAEEEEAAAQQQQAABBBCgAjjcc4AAONzjS+8QQAABBBBAAAEEEEAAAQQQQAABBBBAAAEEEEAAAQQQiBIgAA73hCAADvf40jsEEEAAAQQQQAABBBBAAAEEEEAAAQQQQAABBBBAAAEECICzaA4QAGfRYNNVBBBAAAEEEEAAAQQQQAABBBBAAAEEEEAAAQQQQAABBKgADvccIAAO9/jSOwQQQAABBBBAAAEEEEAAAQQQQAABBBBAAAEEEEAAAQSiBAiAwz0hCIDDPb70DgEEEEAAAQQQQAABBBBAAAEEEEAAAQQQQAABBBBAAAEC4CyaAwTAWTTYdBUBBBBAAAEEEEAAAQQQQAABBBBAAAEEEEAAAQQQQAABKoDDPQcIgMM9vvQOAQQQQAABBBBAAAEEEEAAAQQQQAABBBBAAAEEEEAAgSgBAuBwTwgC4HCPL71DAAEEEEAAAQQQQAABBBBAAAEEEEAAAQQQQAABBBBAgAA4i+YAAXAWDTZdRQABBBBAAAEEEEAAAQQQQAABBBBAAAEEEEAAAQQQQIAK4HDPAQLgcI8vvUMAAQQQQAABBBBAAAEEEEAAAQQQQAABBBBAAAEEEEAgSoAAONwTggA43ONL7xBAAAEEEEAAAQQQQAABBBBAAAEEEEAAAQQQQAABBBAgAM6iOUAAnEWDTVcRQAABBBBAAAEEEEAAAQQQQAABBBBAAAEEEEAAAQQQoAI43HOAADjc40vvEEAAAQQQQAABBBBAAAEEEEAAAQQQQAABBBBAAAEEEIgSIAAO94QgAA73+NI7BBBAAAEEEEAAAQQQQAABBBBAAAEEEEAAAQQQQAABBAiAs2gOEABn0WDTVQQQQAABBBBAAAEEEEAAAQQQQAABBBBAAAEEEEAAAQSoAA73HCAADvf40jsEEEAAAQQQQAABBBBAAAEEEEAAAQQQQAABBBBAAAEEogQIgMM9IQiAwz2+9A4BBBBAAAEEEEAAAQQQQAABBBBAAAEEEEAAAQQQQAABAuAsmgMEwFk02HQVAQQQQAABBBBAAAEEEEAAAQQQQAABBBBAAAEEEEAAASqAwz0HCIDDPb70DgEEEEAAAQQQQAABBBBAAAEEEEAAAQQQQAABBBBAAIEoAQLgcE8IAuBwjy+9QwABBBBAAAEEEEAAAQQQQAABBBBAAAEEEEAAAQQQQIAAOIvmAAFwFg02XUUAAQQQQAABBBBAAAEEEEAAAQQQQAABBBBAAAEEEECACuBwzwEC4HCPL71DAAEEEEAAAQQQQAABBBBAAAEEEEAAAQQQQAABBBBAIEqAADjcE4IAONzjS+8QQAABBBBAAAEEEEAAAQQQQAABBBBAAAEEEEAAAQQQIADOojlAAJxFg01XEUAAAQQQQAABBBBAAAEEEEAAAQQQQAABBBBAAAEEEKACONxzgAA43ONL7xBAAAEEEEAAAQQQQAABBBBAAAEEEEAAAQQQQAABBBCIEiAADveEIAAO9/jSOwQQQAABBBBAAAEEEEAAAQQQQAABBBBAAAEEEEAAAQQIgLNoDhAAZ9Fg01UEEEAAAQQQQAABBBBAAAEEEEAAAQQQQAABBBBAAAEEqAAO9xwgAA73+NI7BBBAAAEEEEAAAQQQQAABBBBAAAEEEEAAAQQQQAABBKIECIDDPSEIgMM9vvQOAQQQQAABBBBAAAEEEEAAAQQQQAABBBBAAAEEEEAAAQLgLJoDBMBZNNh0FQEEEEAAAQQQQAABBBBAAAEEEEAAAQQQQAABBBBAAAEqgMM9BwiAwz2+9A4BBBBAAAEEEEAAAQQQQAABBBBAAAEEEEAAAQQQQACBKAEC4HBPCALgcI8vvUMAAQQQQAABBBBAAAEEEEAAAQQQQAABBBBAAAEEEECAADiL5gABcBYNNl1FAAEEEEAAAQQQQAABBBBAAAEEEEAAAQQQQAABBBBAgArgcM8BAuBwjy+9QwABBBBAAAEEEEAAAQQQQAABBBBAAAEEEEAAAQQQQCBKgAA43BOCADjc40vvEEAAAQQQQAABBBBAAAEEEEAAAQQQQAABBBBAAAEEECAAzqI5QACcRYNNVxFAAAEEEEAAAQQQQAABBBBAAAEEEEAAAQQQQAABBBCgAjjcc4AAONzjS+8QQAABBBBAAAEEEEAAAQQQQAABBBBAAAEEEEAAAQQQiBIgAA73hCAADvf40jsEEEAAAQQQQAABBBBAAAEEEEAAAQQQQAABBBBAAAEECICzaA4QAGfRYNNVBBBAAAEEEEAAAQQQQAABBBBAAAEEEEAAAQQQQAABBKgADvccIAAO9/jSOwQQQAABBBBAAAEEEEAAAQQQQAABBBBAAAEEEEAAAQSiBAiAwz0hCIDDPb70DgEEEEAAAQQQQAABBBBAAAEEEEAAAQQQQAABBBBAAAEC4CyaAwTAWTTYdBUBBBBAAAEEEEAAAQQQQAABBBBAAAEEEEAAAQQQQAABKoDDPQcIgMM9vvQOAQQQQAABBBBAAAEEEEAAAQQQQAABBBBAAAEEEEAAgSgBAuBwTwgC4HCPL71DAAEEEEAAAQQQQAABBBBAAAEEEEAAAQQQQAABBBBAgAA4i+YAAXAWDTZdRQABBBBAAAEEEEAAAQQQQAABBBBAAAEEEEAAAQQQQIAK4HDPAQLgBgU7tAAAGoxJREFUcI8vvUMAAQQQQAABBBBAAAEEEEAAAQQQQAABBBBAAAEEEEAgSoAAONwTggA43ONL7xBAAAEEEEAAAQQQQAABBBBAAAEEEEAAAQQQQAABBBAgAM6iOUAAnEWDTVcRQAABBBBAAAEEEEAAAQQQQAABBBBAAAEEEEAAAQQQoAI43HOAADjc40vvEEAAAQQQQAABBBBAAAEEEEAAAQQQQAABBBBAAAEEEIgSIAAO94QgAA73+NI7BBBAAAEEEEAAAQQQQAABBBBAAAEEEEAAAQQQQAABBAiAs2gOEABn0WDTVQQQQAABBBBAAAEEEEAAAQQQQAABBBBAAAEEEEAAAQSoAA73HCAADvf40jsEEEAAAQQQQAABBBBAAAEEEEAAAQQQQAABBBBAAAEEogQIgMM9IQiAwz2+9A4BBBBAAAEEEEAAAQQQQAABBBBAAAEEEEAAAQQQQAABAuAsmgMEwFk02HQVAQQQQAABBBBAAAEEEEAAAQQQQAABBBBAAAEEEEAAASqAwz0HCIDDPb70DgEEEEAAAQQQQAABBBBAAAEEEEAAAQQQQAABBBBAAIEoAQLgcE8IAuBwjy+9QwABBBBAAAEEEEAAAQQQQAABBBBAAAEEEEAAAQQQ+P/t27ERADAMArHL/kun9gqPRkC440zAADx0AwbgobJFJUCAAAECBAgQIECAAAECBAgQIECAAAECBAgQIOADuH0DBuB2v9IRIECAAAECBAgQIECAAAECBAgQIECAAAECBAgQOAIG4PZBGIDb/UpHgAABAgQIECBAgAABAgQIECBAgAABAgQIECBAwAA8dAMG4KGyRSVAgAABAgQIECBAgAABAgQIECBAgAABAgQIECDgA7h9Awbgdr/SESBAgAABAgQIECBAgAABAgQIECBAgAABAgQIEDgCBuD2QRiA2/1KR4AAAQIECBAgQIAAAQIECBAgQIAAAQIECBAgQMAAPHQDBuChskUlQIAAAQIECBAgQIAAAQIECBAgQIAAAQIECBAg4AO4fQMG4Ha/0hEgQIAAAQIECBAgQIAAAQIECBAgQIAAAQIECBA4Agbg9kEYgNv9SkeAAAECBAgQIECAAAECBAgQIECAAAECBAgQIEDAADx0AwbgobJFJUCAAAECBAgQIECAAAECBAgQIECAAAECBAgQIOADuH0DBuB2v9IRIECAAAECBAgQIECAAAECBAgQIECAAAECBAgQOAIG4PZBGIDb/UpHgAABAgQIECBAgAABAgQIECBAgAABAgQIECBAwAA8dAMG4KGyRSVAgAABAgQIECBAgAABAgQIECBAgAABAgQIECDgA7h9Awbgdr/SESBAgAABAgQIECBAgAABAgQIECBAgAABAgQIEDgCBuD2QRiA2/1KR4AAAQIECBAgQIAAAQIECBAgQIAAAQIECBAgQMAAPHQDBuChskUlQIAAAQIECBAgQIAAAQIECBAgQIAAAQIECBAg4AO4fQMG4Ha/0hEgQIAAAQIECBAgQIAAAQIECBAgQIAAAQIECBA4Agbg9kEYgNv9SkeAAAECBAgQIECAAAECBAgQIECAAAECBAgQIEDAADx0AwbgobJFJUCAAAECBAgQIECAAAECBAgQIECAAAECBAgQIOADuH0DBuB2v9IRIECAAAECBAgQIECAAAECBAgQIECAAAECBAgQOAIG4PZBGIDb/UpHgAABAgQIECBAgAABAgQIECBAgAABAgQIECBAwAA8dAMG4KGyRSVAgAABAgQIECBAgAABAgQIECBAgAABAgQIECDgA7h9Awbgdr/SESBAgAABAgQIECBAgAABAgQIECBAgAABAgQIEDgCBuD2QRiA2/1KR4AAAQIECBAgQIAAAQIECBAgQIAAAQIECBAgQMAAPHQDBuChskUlQIAAAQIECBAgQIAAAQIECBAgQIAAAQIECBAg4AO4fQMG4Ha/0hEgQIAAAQIECBAgQIAAAQIECBAgQIAAAQIECBA4Agbg9kEYgNv9SkeAAAECBAgQIECAAAECBAgQIECAAAECBAgQIEDAADx0AwbgobJFJUCAAAECBAgQIECAAAECBAgQIECAAAECBAgQIOADuH0DBuB2v9IRIECAAAECBAgQIECAAAECBAgQIECAAAECBAgQOAIG4PZBGIDb/UpHgAABAgQIECBAgAABAgQIECBAgAABAgQIECBAwAA8dAMG4KGyRSVAgAABAgQIECBAgAABAgQIECBAgAABAgQIECDgA7h9Awbgdr/SESBAgAABAgQIECBAgAABAgQIECBAgAABAgQIEDgCBuD2QRiA2/1KR4AAAQIECBAgQIAAAQIECBAgQIAAAQIECBAgQMAAPHQDBuChskUlQIAAAQIECBAgQIAAAQIECBAgQIAAAQIECBAg4AO4fQMG4Ha/0hEgQIAAAQIECBAgQIAAAQIECBAgQIAAAQIECBA4Agbg9kEYgNv9SkeAAAECBAgQIECAAAECBAgQIECAAAECBAgQIEDAADx0AwbgobJFJUCAAAECBAgQIECAAAECBAgQIECAAAECBAgQIOADuH0DBuB2v9IRIECAAAECBAgQIECAAAECBAgQIECAAAECBAgQOAIG4PZBGIDb/UpHgAABAgQIECBAgAABAgQIECBAgAABAgQIECBAwAA8dAMG4KGyRSVAgAABAgQIECBAgAABAgQIECBAgAABAgQIECDgA7h9Awbgdr/SESBAgAABAgQIECBAgAABAgQIECBAgAABAgQIEDgCBuD2QRiA2/1KR4AAAQIECBAgQIAAAQIECBAgQIAAAQIECBAgQMAAPHQDBuChskUlQIAAAQIECBAgQIAAAQIECBAgQIAAAQIECBAg4AO4fQMG4Ha/0hEgQIAAAQIECBAgQIAAAQIECBAgQIAAAQIECBA4Agbg9kEYgNv9SkeAAAECBAgQIECAAAECBAgQIECAAAECBAgQIEDAADx0AwbgobJFJUCAAAECBAgQIECAAAECBAgQIECAAAECBAgQIOADuH0DBuB2v9IRIECAAAECBAgQIECAAAECBAgQIECAAAECBAgQOAIG4PZBGIDb/UpHgAABAgQIECBAgAABAgQIECBAgAABAgQIECBAwAA8dAMG4KGyRSVAgAABAgQIECBAgAABAgQIECBAgAABAgQIECDgA7h9Awbgdr/SESBAgAABAgQIECBAgAABAgQIECBAgAABAgQIEDgCBuD2QRiA2/1KR4AAAQIECBAgQIAAAQIECBAgQIAAAQIECBAgQMAAPHQDBuChskUlQIAAAQIECBAgQIAAAQIECBAgQIAAAQIECBAg4AO4fQMG4Ha/0hEgQIAAAQIECBAgQIAAAQIECBAgQIAAAQIECBA4Agbg9kEYgNv9SkeAAAECBAgQIECAAAECBAgQIECAAAECBAgQIEDAADx0AwbgobJFJUCAAAECBAgQIECAAAECBAgQIECAAAECBAgQIOADuH0DBuB2v9IRIECAAAECBAgQIECAAAECBAgQIECAAAECBAgQOAIG4PZBGIDb/UpHgAABAgQIECBAgAABAgQIECBAgAABAgQIECBAwAA8dAMG4KGyRSVAgAABAgQIECBAgAABAgQIECBAgAABAgQIECDgA7h9Awbgdr/SESBAgAABAgQIECBAgAABAgQIECBAgAABAgQIEDgCBuD2QRiA2/1KR4AAAQIECBAgQIAAAQIECBAgQIAAAQIECBAgQMAAPHQDBuChskUlQIAAAQIECBAgQIAAAQIECBAgQIAAAQIECBAg4AO4fQMG4Ha/0hEgQIAAAQIECBAgQIAAAQIECBAgQIAAAQIECBA4Agbg9kEYgNv9SkeAAAECBAgQIECAAAECBAgQIECAAAECBAgQIEDAADx0AwbgobJFJUCAAAECBAgQIECAAAECBAgQIECAAAECBAgQIOADuH0DBuB2v9IRIECAAAECBAgQIECAAAECBAgQIECAAAECBAgQOAIG4PZBGIDb/UpHgAABAgQIECBAgAABAgQIECBAgAABAgQIECBAwAA8dAMG4KGyRSVAgAABAgQIECBAgAABAgQIECBAgAABAgQIECDgA7h9Awbgdr/SESBAgAABAgQIECBAgAABAgQIECBAgAABAgQIEDgCBuD2QRiA2/1KR4AAAQIECBAgQIAAAQIECBAgQIAAAQIECBAgQMAAPHQDBuChskUlQIAAAQIECBAgQIAAAQIECBAgQIAAAQIECBAg4AO4fQMG4Ha/0hEgQIAAAQIECBAgQIAAAQIECBAgQIAAAQIECBA4Agbg9kEYgNv9SkeAAAECBAgQIECAAAECBAgQIECAAAECBAgQIEDAADx0AwbgobJFJUCAAAECBAgQIECAAAECBAgQIECAAAECBAgQIOADuH0DBuB2v9IRIECAAAECBAgQIECAAAECBAgQIECAAAECBAgQOAIG4PZBGIDb/UpHgAABAgQIECBAgAABAgQIECBAgAABAgQIECBAwAA8dAMG4KGyRSVAgAABAgQIECBAgAABAgQIECBAgAABAgQIECDgA7h9Awbgdr/SESBAgAABAgQIECBAgAABAgQIECBAgAABAgQIEDgCBuD2QRiA2/1KR4AAAQIECBAgQIAAAQIECBAgQIAAAQIECBAgQMAAPHQDBuChskUlQIAAAQIECBAgQIAAAQIECBAgQIAAAQIECBAg4AO4fQMG4Ha/0hEgQIAAAQIECBAgQIAAAQIECBAgQIAAAQIECBA4Agbg9kEYgNv9SkeAAAECBAgQIECAAAECBAgQIECAAAECBAgQIEDAADx0AwbgobJFJUCAAAECBAgQIECAAAECBAgQIECAAAECBAgQIOADuH0DBuB2v9IRIECAAAECBAgQIECAAAECBAgQIECAAAECBAgQOAIG4PZBGIDb/UpHgAABAgQIECBAgAABAgQIECBAgAABAgQIECBAwAA8dAMG4KGyRSVAgAABAgQIECBAgAABAgQIECBAgAABAgQIECDgA7h9Awbgdr/SESBAgAABAgQIECBAgAABAgQIECBAgAABAgQIEDgCBuD2QRiA2/1KR4AAAQIECBAgQIAAAQIECBAgQIAAAQIECBAgQMAAPHQDBuChskUlQIAAAQIECBAgQIAAAQIECBAgQIAAAQIECBAg4AO4fQMG4Ha/0hEgQIAAAQIECBAgQIAAAQIECBAgQIAAAQIECBA4Agbg9kEYgNv9SkeAAAECBAgQIECAAAECBAgQIECAAAECBAgQIEDAADx0AwbgobJFJUCAAAECBAgQIECAAAECBAgQIECAAAECBAgQIOADuH0DBuB2v9IRIECAAAECBAgQIECAAAECBAgQIECAAAECBAgQOAIG4PZBGIDb/UpHgAABAgQIECBAgAABAgQIECBAgAABAgQIECBAwAA8dAMG4KGyRSVAgAABAgQIECBAgAABAgQIECBAgAABAgQIECDgA7h9Awbgdr/SESBAgAABAgQIECBAgAABAgQIECBAgAABAgQIEDgCBuD2QRiA2/1KR4AAAQIECBAgQIAAAQIECBAgQIAAAQIECBAgQMAAPHQDBuChskUlQIAAAQIECBAgQIAAAQIECBAgQIAAAQIECBAg4AO4fQMG4Ha/0hEgQIAAAQIECBAgQIAAAQIECBAgQIAAAQIECBA4Agbg9kEYgNv9SkeAAAECBAgQIECAAAECBAgQIECAAAECBAgQIEDAADx0AwbgobJFJUCAAAECBAgQIECAAAECBAgQIECAAAECBAgQIOADuH0DBuB2v9IRIECAAAECBAgQIECAAAECBAgQIECAAAECBAgQOAIG4PZBGIDb/UpHgAABAgQIECBAgAABAgQIECBAgAABAgQIECBAwAA8dAMG4KGyRSVAgAABAgQIECBAgAABAgQIECBAgAABAgQIECDgA7h9Awbgdr/SESBAgAABAgQIECBAgAABAgQIECBAgAABAgQIEDgCBuD2QRiA2/1KR4AAAQIECBAgQIAAAQIECBAgQIAAAQIECBAgQMAAPHQDBuChskUlQIAAAQIECBAgQIAAAQIECBAgQIAAAQIECBAg4AO4fQMG4Ha/0hEgQIAAAQIECBAgQIAAAQIECBAgQIAAAQIECBA4Agbg9kG8djzpCBAgQIAAAQIECBAgQIAAAQIECBAgQIAAAQIECBAgsCNgAN7pWlICBAgQIECAAAECBAgQIECAAAECBAgQIECAAAECBOICBuB4weIRIECAAAECBAgQIECAAAECBAgQIECAAAECBAgQILAjYADe6VpSAgQIECBAgAABAgQIECBAgAABAgQIECBAgAABAgTiAgbgeMHiESBAgAABAgQIECBAgAABAgQIECBAgAABAgQIECCwI2AA3ulaUgIECBAgQIAAAQIECBAgQIAAAQIECBAgQIAAAQIE4gIG4HjB4hEgQIAAAQIECBAgQIAAAQIECBAgQIAAAQIECBAgsCNgAN7pWlICBAgQIECAAAECBAgQIECAAAECBAgQIECAAAECBOICBuB4weIRIECAAAECBAgQIECAAAECBAgQIECAAAECBAgQILAjYADe6VpSAgQIECBAgAABAgQIECBAgAABAgQIECBAgAABAgTiAgbgeMHiESBAgAABAgQIECBAgAABAgQIECBAgAABAgQIECCwI2AA3ulaUgIECBAgQIAAAQIECBAgQIAAAQIECBAgQIAAAQIE4gIG4HjB4hEgQIAAAQIECBAgQIAAAQIECBAgQIAAAQIECBAgsCNgAN7pWlICBAgQIECAAAECBAgQIECAAAECBAgQIECAAAECBOICBuB4weIRIECAAAECBAgQIECAAAECBAgQIECAAAECBAgQILAjYADe6VpSAgQIECBAgAABAgQIECBAgAABAgQIECBAgAABAgTiAgbgeMHiESBAgAABAgQIECBAgAABAgQIECBAgAABAgQIECCwI2AA3ulaUgIECBAgQIAAAQIECBAgQIAAAQIECBAgQIAAAQIE4gIG4HjB4hEgQIAAAQIECBAgQIAAAQIECBAgQIAAAQIECBAgsCNgAN7pWlICBAgQIECAAAECBAgQIECAAAECBAgQIECAAAECBOICBuB4weIRIECAAAECBAgQIECAAAECBAgQIECAAAECBAgQILAjYADe6VpSAgQIECBAgAABAgQIECBAgAABAgQIECBAgAABAgTiAgbgeMHiESBAgAABAgQIECBAgAABAgQIECBAgAABAgQIECCwI2AA3ulaUgIECBAgQIAAAQIECBAgQIAAAQIECBAgQIAAAQIE4gIG4HjB4hEgQIAAAQIECBAgQIAAAQIECBAgQIAAAQIECBAgsCNgAN7pWlICBAgQIECAAAECBAgQIECAAAECBAgQIECAAAECBOICBuB4weIRIECAAAECBAgQIECAAAECBAgQIECAAAECBAgQILAjYADe6VpSAgQIECBAgAABAgQIECBAgAABAgQIECBAgAABAgTiAgbgeMHiESBAgAABAgQIECBAgAABAgQIECBAgAABAgQIECCwI2AA3ulaUgIECBAgQIAAAQIECBAgQIAAAQIECBAgQIAAAQIE4gIG4HjB4hEgQIAAAQIECBAgQIAAAQIECBAgQIAAAQIECBAgsCNgAN7pWlICBAgQIECAAAECBAgQIECAAAECBAgQIECAAAECBOICBuB4weIRIECAAAECBAgQIECAAAECBAgQIECAAAECBAgQILAjYADe6VpSAgQIECBAgAABAgQIECBAgAABAgQIECBAgAABAgTiAgbgeMHiESBAgAABAgQIECBAgAABAgQIECBAgAABAgQIECCwI2AA3ulaUgIECBAgQIAAAQIECBAgQIAAAQIECBAgQIAAAQIE4gIG4HjB4hEgQIAAAQIECBAgQIAAAQIECBAgQIAAAQIECBAgsCNgAN7pWlICBAgQIECAAAECBAgQIECAAAECBAgQIECAAAECBOICBuB4weIRIECAAAECBAgQIECAAAECBAgQIECAAAECBAgQILAjYADe6VpSAgQIECBAgAABAgQIECBAgAABAgQIECBAgAABAgTiAgbgeMHiESBAgAABAgQIECBAgAABAgQIECBAgAABAgQIECCwI2AA3ulaUgIECBAgQIAAAQIECBAgQIAAAQIECBAgQIAAAQIE4gIG4HjB4hEgQIAAAQIECBAgQIAAAQIECBAgQIAAAQIECBAgsCNgAN7pWlICBAgQIECAAAECBAgQIECAAAECBAgQIECAAAECBOICBuB4weIRIECAAAECBAgQIECAAAECBAgQIECAAAECBAgQILAjYADe6VpSAgQIECBAgAABAgQIECBAgAABAgQIECBAgAABAgTiAgbgeMHiESBAgAABAgQIECBAgAABAgQIECBAgAABAgQIECCwI2AA3ulaUgIECBAgQIAAAQIECBAgQIAAAQIECBAgQIAAAQIE4gIG4HjB4hEgQIAAAQIECBAgQIAAAQIECBAgQIAAAQIECBAgsCNgAN7pWlICBAgQIECAAAECBAgQIECAAAECBAgQIECAAAECBOICBuB4weIRIECAAAECBAgQIECAAAECBAgQIECAAAECBAgQILAjYADe6VpSAgQIECBAgAABAgQIECBAgAABAgQIECBAgAABAgTiAgbgeMHiESBAgAABAgQIECBAgAABAgQIECBAgAABAgQIECCwI2AA3ulaUgIECBAgQIAAAQIECBAgQIAAAQIECBAgQIAAAQIE4gIG4HjB4hEgQIAAAQIECBAgQIAAAQIECBAgQIAAAQIECBAgsCNgAN7pWlICBAgQIECAAAECBAgQIECAAAECBAgQIECAAAECBOICBuB4weIRIECAAAECBAgQIECAAAECBAgQIECAAAECBAgQILAjYADe6VpSAgQIECBAgAABAgQIECBAgAABAgQIECBAgAABAgTiAgbgeMHiESBAgAABAgQIECBAgAABAgQIECBAgAABAgQIECCwI2AA3ulaUgIECBAgQIAAAQIECBAgQIAAAQIECBAgQIAAAQIE4gIfFFUI6lpDlbUAAAAASUVORK5CYII=\" width=\"1280\">"
      ],
      "text/plain": [
       "<IPython.core.display.HTML object>"
      ]
     },
     "metadata": {},
     "output_type": "display_data"
    }
   ],
   "source": [
    "fig = plt.figure(figsize=(12,6))\n",
    "ax = fig.add_subplot(121, projection='3d')\n",
    "\n",
    "\n",
    "Z = np.apply_along_axis(lambda v:sQuadratic(v, S1), 0, np.array([X, Y]))\n",
    "\n",
    "ax.plot_wireframe(X, Y, Z, alpha=0.4)\n",
    "plt.show()\n"
   ]
  },
  {
   "cell_type": "markdown",
   "id": "8550c38e",
   "metadata": {
    "slideshow": {
     "slide_type": "slide"
    }
   },
   "source": [
    "Suppose we know that\n",
    "\n",
    "$$\n",
    "\\begin{aligned}\n",
    "\\mathbf x^TS\\mathbf x &> 0 & \\forall \\mathbf x:\\mathbf x\\neq \\mathbf 0\\\\\n",
    "S &= LDL^T\n",
    "\\end{aligned}\n",
    "$$\n",
    "\n",
    "This entails\n",
    "\n",
    "$$\n",
    "\\begin{aligned}\n",
    "\\mathbf x^TS\\mathbf x &> 0\\\\\n",
    "\\mathbf x^TLDL^T\\mathbf x &> 0\n",
    "\\end{aligned}\n",
    "$$\n",
    "\n",
    "Let us introduce a variable $\\mathbf y$\n",
    "\n",
    "$$\n",
    "\\begin{aligned}\n",
    "\\mathbf y &= L^T\\mathbf x\\\\\n",
    "\\mathbf x &= (L^T)^{-1}\\mathbf y &(L\\mbox{ must be invertible, which follows from definiteness.})\\\\\n",
    "\\mathbf y^T D\\mathbf y &> 0\\\\\n",
    "\\sum_i d_i y_i^2 &> 0\n",
    "\\end{aligned}\n",
    "$$\n",
    "\n",
    "For each $i$, we can set $y_i=1$, $\\forall j\\neq i: y_j = 0$. It follows that\n",
    "$$\n",
    "\\forall i: d_i > 0\n",
    "$$\n",
    "\n",
    "So if $S$ is positive defininte and the LU-decomposition gives $S = LDL^T$, all entries of $D$ must be positive."
   ]
  },
  {
   "cell_type": "markdown",
   "id": "2975ed39",
   "metadata": {
    "slideshow": {
     "slide_type": "slide"
    }
   },
   "source": [
    "We define\n",
    "\n",
    "$$\n",
    "(D^{\\frac{1}{2}})_{ij} = \\sqrt{d_{ij}}\n",
    "$$\n",
    "\n",
    "It follows that\n",
    "\n",
    "$$\n",
    "D = D^{\\frac{1}{2}} D^{\\frac{1}{2}}\n",
    "$$\n",
    "\n",
    "Taken together, we have\n",
    "\n",
    "$$\n",
    "S = LD^{\\frac{1}{2}} D^{\\frac{1}{2}}L^T\n",
    "$$\n",
    "\n",
    "It follows that for each positive definite matrix $S$ wich has an LU decomposition, there is a lower triangular matrix $M$ such that\n",
    "\n",
    "$$\n",
    "S = M M^T\n",
    "$$\n",
    "\n",
    "This factorization is called **Cholesky decomposition**."
   ]
  },
  {
   "cell_type": "code",
   "execution_count": 50,
   "id": "303ec6f0",
   "metadata": {
    "slideshow": {
     "slide_type": "slide"
    }
   },
   "outputs": [
    {
     "data": {
      "text/latex": [
       "$\\displaystyle \\left[\\begin{matrix}2 & -1 & 0\\\\-1 & 2 & -1\\\\0 & -1 & 2\\end{matrix}\\right]$"
      ],
      "text/plain": [
       "Matrix([\n",
       "[ 2, -1,  0],\n",
       "[-1,  2, -1],\n",
       "[ 0, -1,  2]])"
      ]
     },
     "execution_count": 50,
     "metadata": {},
     "output_type": "execute_result"
    }
   ],
   "source": [
    "S = Matrix([\n",
    "    [2,-1,0],\n",
    "    [-1,2,-1],\n",
    "    [0,-1,2]\n",
    "])\n",
    "S"
   ]
  },
  {
   "cell_type": "code",
   "execution_count": 51,
   "id": "90cb3386",
   "metadata": {},
   "outputs": [
    {
     "data": {
      "text/plain": [
       "True"
      ]
     },
     "execution_count": 51,
     "metadata": {},
     "output_type": "execute_result"
    }
   ],
   "source": [
    "S.is_positive_definite"
   ]
  },
  {
   "cell_type": "code",
   "execution_count": 52,
   "id": "adca0637",
   "metadata": {},
   "outputs": [
    {
     "data": {
      "text/latex": [
       "$\\displaystyle \\left[\\begin{matrix}\\sqrt{2} & 0 & 0\\\\- \\frac{\\sqrt{2}}{2} & \\frac{\\sqrt{6}}{2} & 0\\\\0 & - \\frac{\\sqrt{6}}{3} & \\frac{2 \\sqrt{3}}{3}\\end{matrix}\\right]$"
      ],
      "text/plain": [
       "Matrix([\n",
       "[   sqrt(2),          0,           0],\n",
       "[-sqrt(2)/2,  sqrt(6)/2,           0],\n",
       "[         0, -sqrt(6)/3, 2*sqrt(3)/3]])"
      ]
     },
     "execution_count": 52,
     "metadata": {},
     "output_type": "execute_result"
    }
   ],
   "source": [
    "M = S.cholesky()\n",
    "M"
   ]
  },
  {
   "cell_type": "code",
   "execution_count": 53,
   "id": "caf10d96",
   "metadata": {},
   "outputs": [
    {
     "data": {
      "text/latex": [
       "$\\displaystyle \\left[\\begin{matrix}2 & -1 & 0\\\\-1 & 2 & -1\\\\0 & -1 & 2\\end{matrix}\\right]$"
      ],
      "text/plain": [
       "Matrix([\n",
       "[ 2, -1,  0],\n",
       "[-1,  2, -1],\n",
       "[ 0, -1,  2]])"
      ]
     },
     "execution_count": 53,
     "metadata": {},
     "output_type": "execute_result"
    }
   ],
   "source": [
    "M*M.T"
   ]
  },
  {
   "cell_type": "code",
   "execution_count": 54,
   "id": "52e2c061",
   "metadata": {
    "slideshow": {
     "slide_type": "slide"
    }
   },
   "outputs": [
    {
     "data": {
      "text/latex": [
       "$\\displaystyle \\left[\\begin{matrix}3 & 1\\\\1 & -1\\end{matrix}\\right]$"
      ],
      "text/plain": [
       "Matrix([\n",
       "[3,  1],\n",
       "[1, -1]])"
      ]
     },
     "execution_count": 54,
     "metadata": {},
     "output_type": "execute_result"
    }
   ],
   "source": [
    "S = Matrix([\n",
    "    [3, 1],\n",
    "    [1, -1]\n",
    "])\n",
    "S"
   ]
  },
  {
   "cell_type": "code",
   "execution_count": 55,
   "id": "0ce4e6d6",
   "metadata": {},
   "outputs": [
    {
     "data": {
      "text/plain": [
       "False"
      ]
     },
     "execution_count": 55,
     "metadata": {},
     "output_type": "execute_result"
    }
   ],
   "source": [
    "S.is_positive_definite"
   ]
  },
  {
   "cell_type": "code",
   "execution_count": 56,
   "id": "ec91bb2c",
   "metadata": {},
   "outputs": [
    {
     "ename": "NonPositiveDefiniteMatrixError",
     "evalue": "Matrix must be positive-definite",
     "output_type": "error",
     "traceback": [
      "\u001b[0;31m---------------------------------------------------------------------------\u001b[0m",
      "\u001b[0;31mNonPositiveDefiniteMatrixError\u001b[0m            Traceback (most recent call last)",
      "Cell \u001b[0;32mIn[56], line 1\u001b[0m\n\u001b[0;32m----> 1\u001b[0m \u001b[43mS\u001b[49m\u001b[38;5;241;43m.\u001b[39;49m\u001b[43mcholesky\u001b[49m\u001b[43m(\u001b[49m\u001b[43m)\u001b[49m\n",
      "File \u001b[0;32m/usr/lib/python3/dist-packages/sympy/matrices/dense.py:78\u001b[0m, in \u001b[0;36mDenseMatrix.cholesky\u001b[0;34m(self, hermitian)\u001b[0m\n\u001b[1;32m     77\u001b[0m \u001b[38;5;28;01mdef\u001b[39;00m \u001b[38;5;21mcholesky\u001b[39m(\u001b[38;5;28mself\u001b[39m, hermitian\u001b[38;5;241m=\u001b[39m\u001b[38;5;28;01mTrue\u001b[39;00m):\n\u001b[0;32m---> 78\u001b[0m     \u001b[38;5;28;01mreturn\u001b[39;00m \u001b[43m_cholesky\u001b[49m\u001b[43m(\u001b[49m\u001b[38;5;28;43mself\u001b[39;49m\u001b[43m,\u001b[49m\u001b[43m \u001b[49m\u001b[43mhermitian\u001b[49m\u001b[38;5;241;43m=\u001b[39;49m\u001b[43mhermitian\u001b[49m\u001b[43m)\u001b[49m\n",
      "File \u001b[0;32m/usr/lib/python3/dist-packages/sympy/matrices/decompositions.py:273\u001b[0m, in \u001b[0;36m_cholesky\u001b[0;34m(M, hermitian)\u001b[0m\n\u001b[1;32m    269\u001b[0m         Lii2 \u001b[38;5;241m=\u001b[39m (M[i, i] \u001b[38;5;241m-\u001b[39m\n\u001b[1;32m    270\u001b[0m             \u001b[38;5;28msum\u001b[39m(L[i, k]\u001b[38;5;241m*\u001b[39mL[i, k]\u001b[38;5;241m.\u001b[39mconjugate() \u001b[38;5;28;01mfor\u001b[39;00m k \u001b[38;5;129;01min\u001b[39;00m \u001b[38;5;28mrange\u001b[39m(i)))\n\u001b[1;32m    272\u001b[0m         \u001b[38;5;28;01mif\u001b[39;00m Lii2\u001b[38;5;241m.\u001b[39mis_positive \u001b[38;5;129;01mis\u001b[39;00m \u001b[38;5;28;01mFalse\u001b[39;00m:\n\u001b[0;32m--> 273\u001b[0m             \u001b[38;5;28;01mraise\u001b[39;00m NonPositiveDefiniteMatrixError(\n\u001b[1;32m    274\u001b[0m                 \u001b[38;5;124m\"\u001b[39m\u001b[38;5;124mMatrix must be positive-definite\u001b[39m\u001b[38;5;124m\"\u001b[39m)\n\u001b[1;32m    276\u001b[0m         L[i, i] \u001b[38;5;241m=\u001b[39m sqrt(Lii2)\n\u001b[1;32m    278\u001b[0m \u001b[38;5;28;01melse\u001b[39;00m:\n",
      "\u001b[0;31mNonPositiveDefiniteMatrixError\u001b[0m: Matrix must be positive-definite"
     ]
    }
   ],
   "source": [
    "S.cholesky()"
   ]
  },
  {
   "cell_type": "markdown",
   "id": "733942e6",
   "metadata": {
    "slideshow": {
     "slide_type": "slide"
    }
   },
   "source": [
    "### Fact\n",
    "\n",
    "If a square matrix (not necessarily symmetric) is invertible, the following two matrices are positive definite:\n",
    "\n",
    "$$\n",
    "A A^T\\\\\n",
    "A^T A\n",
    "$$"
   ]
  },
  {
   "cell_type": "markdown",
   "id": "dd10430c",
   "metadata": {
    "slideshow": {
     "slide_type": "slide"
    }
   },
   "source": [
    "## Vector spaces\n",
    "\n",
    "In mathematics, vector spaces are not confined to $\\mathbb R^n$. Any set can be a vector space if the following eight axioms are met."
   ]
  },
  {
   "cell_type": "markdown",
   "id": "9d3f733e",
   "metadata": {},
   "source": [
    "<table border=\"0\" style=\"width:100%;\" align = \"left\">\n",
    "<tbody><tr>\n",
    "<th>Axiom</th>\n",
    "<th>Meaning\n",
    "</th>\n",
    "    <tr>\n",
    "    <td>Associativity of vector addition</td>\n",
    "    <td><span class=\"texhtml\"><b>u</b> + (<b>v</b> + <b>w</b>) = (<b>u</b> + <b>v</b>) + <b>w</b></span>\n",
    "    </td></tr>\n",
    "    \n",
    "<tr style=\"background:#F8F4FF;\">\n",
    "<td>Commutativity of vector addition</td>\n",
    "<td><span class=\"texhtml\"><b>u</b> + <b>v</b> = <b>v</b> + <b>u</b></span>\n",
    "</td></tr>\n",
    "<tr>\n",
    "<td>Identity element of vector addition</td>\n",
    "<td>There exists an element <span class=\"texhtml\"><b>0</b> ∈ <i>V</i></span>, called the <i>zero vector</i>, such that <span class=\"texhtml\"><b>v</b> + <b>0</b> = <b>v</b></span> for all <span class=\"texhtml\"><b>v</b> ∈ <i>V</i></span>.\n",
    "</td></tr>\n",
    "<tr style=\"background:#F8F4FF;\">\n",
    "<td>Inverse elements of vector addition</td>\n",
    "<td>For every <span class=\"texhtml\"><b>v</b> ∈ <i>V</i></span>, there exists an element <span class=\"texhtml\">−<b>v</b> ∈ <i>V</i></span>, called the <i>additive inverse</i> of <span class=\"texhtml\"><b>v</b></span>, such that <span class=\"texhtml\"><b>v</b> + (−<b>v</b>) = <b>0</b></span>.\n",
    "</td></tr>\n",
    "<tr>\n",
    "<td>Compatibility of scalar multiplication with field multiplication</td>\n",
    "<td><span class=\"texhtml\"><i>a</i>(<i>b</i><b>v</b>) = (<i>ab</i>)<b>v</b></span> <sup id=\"cite_ref-4\" class=\"reference\"><a href=\"#cite_note-4\">&#91;nb 3&#93;</a></sup>\n",
    "</td></tr>\n",
    "<tr style=\"background:#F8F4FF;\">\n",
    "<td>Identity element of scalar multiplication</td>\n",
    "<td><span class=\"texhtml\">1<b>v</b> = <b>v</b></span>, where <span class=\"texhtml\">1</span> denotes the multiplicative identity in <span class=\"texhtml mvar\" style=\"font-style:italic;\">F</span>.\n",
    "</td></tr>\n",
    "<tr>\n",
    "<td>Distributivityof scalar multiplication with respect to vector addition</td>\n",
    "<td><span class=\"texhtml\"><i>a</i>(<b>u</b> + <b>v</b>) = <i>a</i><b>u</b> + <i>a</i><b>v</b></span>\n",
    "</td></tr>\n",
    "<tr style=\"background:#F8F4FF;\">\n",
    "<td>Distributivity of scalar multiplication with respect to field addition</td>\n",
    "<td><span class=\"texhtml\">(<i>a</i> + <i>b</i>)<b>v</b> = <i>a</i><b>v</b> + <i>b</i><b>v</b></span>\n",
    "</td></tr></tbody></table>"
   ]
  },
  {
   "cell_type": "markdown",
   "id": "7ff686c0",
   "metadata": {
    "slideshow": {
     "slide_type": "-"
    }
   },
   "source": [
    "A subset $\\alpha$ of a vector space is a **sub-space** if it is also a vector space.\n",
    "\n",
    "This is guaranteed if two conditions are met: If $\\mathbf u, \\mathbf v\\in \\alpha$, \n",
    "\n",
    "- $\\mathbf u + \\mathbf v \\in \\alpha$\n",
    "- for any scalar $c$, $c\\mathbf u\\in \\alpha$."
   ]
  },
  {
   "cell_type": "markdown",
   "id": "c3e3aa51",
   "metadata": {
    "slideshow": {
     "slide_type": "slide"
    }
   },
   "source": [
    "### Column space of a matrix\n",
    "\n",
    "For an $n\\times m$ matrix $A$, the set $\\{A\\mathbf x:\\mathbf x\\in \\mathbb R^m\\}$ is a subspace of $\\mathbb R^n$, because:\n",
    "\n",
    "- $A\\mathbf u + A\\mathbf v = A(\\mathbf u+\\mathbf v)$\n",
    "- $Ac\\mathbf u = cA\\mathbf u$\n",
    "\n",
    "This vector space is called the **column space** of $A$, because it consists of all linear combinations of the column vectors of $A$.\n",
    "\n",
    "\n",
    "The system of linear equation \n",
    "$$\n",
    "A\\mathbf x = \\mathbf b\n",
    "$$\n",
    "\n",
    "is solvable if and only if $\\mathbf b$ is in the column space of $A$."
   ]
  },
  {
   "cell_type": "markdown",
   "id": "091ba9be",
   "metadata": {
    "slideshow": {
     "slide_type": "slide"
    }
   },
   "source": [
    "So far we have focused on invertable matrices. In this case, the column space equals the entire vector space.\n",
    "\n",
    "But what about non-invertable matrices?\n",
    "\n",
    "We proceed per Gauss-Jordan elimination as usual. After the Gauss part, we will see whether the system is solvable.\n",
    "\n",
    "$$\n",
    "\\begin{aligned}\n",
    "\\begin{bmatrix}\n",
    "1 & 0\\\\\n",
    "4 & 3\\\\\n",
    "2 & 3\n",
    "\\end{bmatrix} \\mathbf x &=\n",
    "\\begin{bmatrix}\n",
    "1\\\\1\\\\0\n",
    "\\end{bmatrix}\n",
    "\\end{aligned}\n",
    "$$"
   ]
  },
  {
   "cell_type": "markdown",
   "id": "2e01c593",
   "metadata": {},
   "source": [
    "$$\n",
    "\\left[\n",
    "\\begin{array}{rr|r}\n",
    "1 & 0 & 1\\\\\n",
    "4 & 3 & 1\\\\\n",
    "2 & 3 & 0\n",
    "\\end{array}\n",
    "\\right]\\\\[1em]\n",
    "\\left[\n",
    "\\begin{array}{rr|r}\n",
    "1 & 0 & 1\\\\\n",
    "0 & 3 & -3\\\\\n",
    "0 & 3 & -2\n",
    "\\end{array}\n",
    "\\right]\\\\[1em]\n",
    "\\left[\n",
    "\\begin{array}{rr|r}\n",
    "1 & 0 & 1\\\\\n",
    "0 & 3 & -3\\\\\n",
    "0 & 0 & 1\n",
    "\\end{array}\n",
    "\\right]\\\\[1em]\n",
    "$$\n",
    "\n",
    "There can't be a solution for the last row, so $\\mathbf b$ is not in the column space of $A$."
   ]
  },
  {
   "cell_type": "markdown",
   "id": "f6b0a54e",
   "metadata": {
    "slideshow": {
     "slide_type": "slide"
    }
   },
   "source": [
    "Another example:\n",
    "\n",
    "$$\n",
    "\\begin{aligned}\n",
    "A & =\n",
    "\\begin{bmatrix}\n",
    "1 & 2& 3\\\\\n",
    "2 & 4 & 3\\\\\n",
    "3 & 6 & 1\n",
    "\\end{bmatrix}\\\\[1em]\n",
    "\\mathbf b &= \\begin{bmatrix} 4\\\\ 5\\\\ 4\\end{bmatrix}\\\\[1em]\n",
    "A\\mathbf x &= \\mathbf b\n",
    "\\end{aligned}\n",
    "$$"
   ]
  },
  {
   "cell_type": "markdown",
   "id": "7180fe80",
   "metadata": {
    "slideshow": {
     "slide_type": "slide"
    }
   },
   "source": [
    "$$\n",
    "\\left[\n",
    "\\begin{array}{rrr|r}\n",
    "1 & 2 & 3 & 4\\\\\n",
    "2 & 4 & 3 & 5\\\\\n",
    "3 & 6 & 1 & 4\n",
    "\\end{array}\n",
    "\\right]\\\\[1em]\n",
    "\\left[\n",
    "\\begin{array}{rrr|r}\n",
    "1 & 2 & 3 & 4\\\\\n",
    "0 & 0 & -3 & -3\\\\\n",
    "3 & 6 & 1 & 4\n",
    "\\end{array}\n",
    "\\right]\\\\[1em]\n",
    "\\left[\n",
    "\\begin{array}{rrr|r}\n",
    "1 & 2 & 3 & 4\\\\\n",
    "0 & 0 & -3 & -3\\\\\n",
    "0 & 0 & -8 & -8\n",
    "\\end{array}\n",
    "\\right]\\\\[1em]\n",
    "\\left[\n",
    "\\begin{array}{rrr|r}\n",
    "1 & 2 & 3 & 4\\\\\n",
    "0 & 0 & -3 & -3\\\\\n",
    "0 & 0 & 0 & 0\n",
    "\\end{array}\n",
    "\\right]\\\\[1em]\n",
    "\\left[\n",
    "\\begin{array}{rrr|r}\n",
    "1 & 2 & 0 & 1\\\\\n",
    "0 & 0 & -3 & -3\\\\\n",
    "0 & 0 & 0 & 0\n",
    "\\end{array}\n",
    "\\right]\\\\[1em]\n",
    "\\left[\n",
    "\\begin{array}{rrr|r}\n",
    "1 & 2 & 0 & 1\\\\\n",
    "0 & 0 & 1 & 1\\\\\n",
    "0 & 0 & 0 & 0\n",
    "\\end{array}\n",
    "\\right]\\\\[1em]\n",
    "$$\n"
   ]
  },
  {
   "cell_type": "markdown",
   "id": "0341beed",
   "metadata": {
    "slideshow": {
     "slide_type": "slide"
    }
   },
   "source": [
    "Since the left side is not the identity matrix, we cannot simply read off the solution from the right side.\n",
    "\n",
    "### Pivots\n",
    "\n",
    "A pivot cell in a matrix $A$ is a cell $a_{ij}$ with an entry $\\neq 0$ such that\n",
    "$$\n",
    "\\begin{aligned}\n",
    "a_{ij} &\\neq 0\\\\\n",
    "\\forall k\\geq i, l< j: &  a_{ij} = 0\n",
    "\\end{aligned}\n",
    "$$\n",
    "\n",
    "During Gauss elimination, we\n",
    "\n",
    "- go top-down through the rows,\n",
    "- identify the pivot in the current row, and\n",
    "- transform all cells below the pivot into $0$ using elimination.\n",
    "\n",
    "A column with a pivot in it is called *pivot column*.\n",
    "\n",
    "A column without a pivot in it is called *free column*.\n"
   ]
  },
  {
   "cell_type": "markdown",
   "id": "99da718d",
   "metadata": {
    "slideshow": {
     "slide_type": "slide"
    }
   },
   "source": [
    "\n",
    "\n",
    "After Gauss-Jordan elimination, we find the *canonical solution* by\n",
    "- setting all positions corresponding to a free column to $0$, and\n",
    "- setting all positions corresponding to a pivot colun to the entry on the the same row as the pivot on the right side.\n",
    "\n",
    "For our example above, the solution thus found is\n",
    "$$\n",
    "\\begin{bmatrix}\n",
    "1 \\\\ 0 \\\\ 1\n",
    "\\end{bmatrix}\n",
    "$$"
   ]
  },
  {
   "cell_type": "markdown",
   "id": "da80eb9f",
   "metadata": {},
   "source": [
    "The result of Gauss elimination is called **row echelon form**.\n",
    "\n",
    "The result of Gauss-Jordan elimination is called **reduced row echelon form**."
   ]
  },
  {
   "cell_type": "code",
   "execution_count": 57,
   "id": "2486aa6c",
   "metadata": {
    "slideshow": {
     "slide_type": "slide"
    }
   },
   "outputs": [
    {
     "data": {
      "text/latex": [
       "$\\displaystyle \\left[\\begin{matrix}1 & 2 & 3\\\\2 & 4 & 3\\\\3 & 6 & 1\\end{matrix}\\right]$"
      ],
      "text/plain": [
       "Matrix([\n",
       "[1, 2, 3],\n",
       "[2, 4, 3],\n",
       "[3, 6, 1]])"
      ]
     },
     "execution_count": 57,
     "metadata": {},
     "output_type": "execute_result"
    }
   ],
   "source": [
    "A = Matrix([\n",
    "    [1,2,3],\n",
    "    [2,4,3],\n",
    "    [3,6,1]\n",
    "])\n",
    "A"
   ]
  },
  {
   "cell_type": "code",
   "execution_count": 58,
   "id": "b657d822",
   "metadata": {},
   "outputs": [],
   "source": [
    "rr, i = A.rref()"
   ]
  },
  {
   "cell_type": "code",
   "execution_count": 59,
   "id": "ad42277a",
   "metadata": {},
   "outputs": [
    {
     "data": {
      "text/latex": [
       "$\\displaystyle \\left[\\begin{matrix}1 & 2 & 0\\\\0 & 0 & 1\\\\0 & 0 & 0\\end{matrix}\\right]$"
      ],
      "text/plain": [
       "Matrix([\n",
       "[1, 2, 0],\n",
       "[0, 0, 1],\n",
       "[0, 0, 0]])"
      ]
     },
     "execution_count": 59,
     "metadata": {},
     "output_type": "execute_result"
    }
   ],
   "source": [
    "rr"
   ]
  },
  {
   "cell_type": "code",
   "execution_count": 60,
   "id": "befd8411",
   "metadata": {},
   "outputs": [
    {
     "data": {
      "text/plain": [
       "(0, 2)"
      ]
     },
     "execution_count": 60,
     "metadata": {},
     "output_type": "execute_result"
    }
   ],
   "source": [
    "i"
   ]
  },
  {
   "cell_type": "markdown",
   "id": "41f1d799",
   "metadata": {
    "slideshow": {
     "slide_type": "slide"
    }
   },
   "source": [
    "## The nullspace of a matrix\n",
    "\n",
    "The canonical solution is only one of infinitely many solutions.\n",
    "\n",
    "$$\n",
    "\\begin{aligned}\n",
    "A & =\n",
    "\\begin{bmatrix}\n",
    "1 & 2& 3\\\\\n",
    "2 & 4 & 3\\\\\n",
    "3 & 6 & 1\n",
    "\\end{bmatrix}\\\\[1em]\n",
    "\\mathbf b &= \\begin{bmatrix} 4\\\\ 5\\\\ 4\\end{bmatrix}\\\\[1em]\n",
    "A\\mathbf x &= \\mathbf b\\\\\n",
    "\\mathbf x &= \\begin{bmatrix}\n",
    "1 \\\\ 0 \\\\ 1\n",
    "\\end{bmatrix}, \n",
    "\\begin{bmatrix}\n",
    "-1 \\\\ 1 \\\\ 1\n",
    "\\end{bmatrix},\n",
    "\\begin{bmatrix}\n",
    "3 \\\\ -1 \\\\ 1\n",
    "\\end{bmatrix},\\cdots\n",
    "\\end{aligned}\n",
    "$$\n",
    "\n",
    "How do we find all solutions?"
   ]
  },
  {
   "cell_type": "markdown",
   "id": "91fbeee6",
   "metadata": {
    "slideshow": {
     "slide_type": "slide"
    }
   },
   "source": [
    "Suppose we have a solution $\\mathbf y$ to \n",
    "\n",
    "$$\n",
    "A\\mathbf y = \\mathbf 0\n",
    "$$\n",
    "\n",
    "Let $\\mathbf x$ be the canonical solution to\n",
    "\n",
    "$$\n",
    "A\\mathbf x = \\mathbf b\n",
    "$$\n",
    "\n",
    "It follows:\n",
    "\n",
    "$$\n",
    "\\begin{aligned}\n",
    "A\\mathbf x + A\\mathbf y &= \\mathbf x + \\mathbf 0\\\\\n",
    "A(\\mathbf x + \\mathbf y) &= \\mathbf b\n",
    "\\end{aligned}\n",
    "$$\n",
    "\n",
    "The set of solutions $\\mathbf y$ to $A\\mathbf y = \\mathbf 0$ form a *vector space*:\n",
    "\n"
   ]
  },
  {
   "cell_type": "markdown",
   "id": "c64a6df5",
   "metadata": {
    "slideshow": {
     "slide_type": "slide"
    }
   },
   "source": [
    "\n",
    "Suppose $A\\mathbf y_1 = \\mathbf 0$ and $A\\mathbf y_2 = \\mathbf 0$.\n",
    "\n",
    "$$\n",
    "\\begin{aligned}\n",
    "A(\\mathbf y_1 + \\mathbf y_2) &= A\\mathbf y_1 + A\\mathbf y_2\\\\\n",
    "&= \\mathbf 0 + \\mathbf 0\\\\\n",
    "&= \\mathbf 0\\\\[2em]\n",
    "A(c\\mathbf y_1) &= cA\\mathbf y_1\\\\\n",
    "&= c~\\mathbf 0\\\\\n",
    "&=\\mathbf 0\n",
    "\\end{aligned}\n",
    "$$\n",
    "\n",
    "The set of solutions $\\mathbf y$ to $A\\mathbf y = \\mathbf 0$ is called the **nullspace** of $A$."
   ]
  },
  {
   "cell_type": "markdown",
   "id": "e2d20917",
   "metadata": {
    "slideshow": {
     "slide_type": "slide"
    }
   },
   "source": [
    "### How to find the null space\n",
    "\n",
    "For each free column $i$ in the reduced row echelon form or $A$:\n",
    "- set $y_i = 1$,\n",
    "- set $y_j = 0$ for all free columns $j\\neq i$,\n",
    "- solve $A\\mathbf y = \\mathbf 0$ via substitution.\n",
    "\n"
   ]
  },
  {
   "cell_type": "code",
   "execution_count": 61,
   "id": "49adee32",
   "metadata": {},
   "outputs": [
    {
     "data": {
      "text/latex": [
       "$\\displaystyle \\left[\\begin{matrix}1 & 2 & 3\\\\2 & 4 & 3\\\\3 & 6 & 1\\end{matrix}\\right]$"
      ],
      "text/plain": [
       "Matrix([\n",
       "[1, 2, 3],\n",
       "[2, 4, 3],\n",
       "[3, 6, 1]])"
      ]
     },
     "execution_count": 61,
     "metadata": {},
     "output_type": "execute_result"
    }
   ],
   "source": [
    "A = Matrix([\n",
    "    [1,2,3],\n",
    "    [2,4,3],\n",
    "    [3,6,1]\n",
    "])\n",
    "A"
   ]
  },
  {
   "cell_type": "code",
   "execution_count": 62,
   "id": "e5949a69",
   "metadata": {
    "slideshow": {
     "slide_type": "slide"
    }
   },
   "outputs": [
    {
     "data": {
      "text/latex": [
       "$\\displaystyle \\left[\\begin{matrix}1 & 2 & 0\\\\0 & 0 & 1\\\\0 & 0 & 0\\end{matrix}\\right]$"
      ],
      "text/plain": [
       "Matrix([\n",
       "[1, 2, 0],\n",
       "[0, 0, 1],\n",
       "[0, 0, 0]])"
      ]
     },
     "execution_count": 62,
     "metadata": {},
     "output_type": "execute_result"
    }
   ],
   "source": [
    "rr,_ = A.rref()\n",
    "rr"
   ]
  },
  {
   "cell_type": "markdown",
   "id": "8aa4af90",
   "metadata": {},
   "source": [
    "$$\n",
    "\\begin{aligned}\n",
    "\\left[\\begin{matrix}1 & 2 & 0\\\\0 & 0 & 1\\\\0 & 0 & 0\\end{matrix}\\right]\n",
    "\\begin{bmatrix}\n",
    "a \\\\ 1 \\\\ b\n",
    "\\end{bmatrix}\n",
    "&= \\begin{bmatrix}\n",
    "0\\\\0\\\\0\n",
    "\\end{bmatrix}\\\\\n",
    "a + 2 &= 0\\\\\n",
    "b &= 0\\\\\n",
    "a &= -2\\\\\n",
    "\\mathbf y &= \n",
    "\\begin{bmatrix}\n",
    "-2\\\\1\\\\0\n",
    "\\end{bmatrix}\\\\[2em]\n",
    "\\left[\\begin{matrix}1 & 2 & 3\\\\2 & 4 & 3\\\\3 & 6 & 1\\end{matrix}\\right]\n",
    "\\begin{bmatrix}\n",
    "-2\\\\1\\\\0\n",
    "\\end{bmatrix} &= \\begin{bmatrix}\n",
    "0\\\\0\\\\0\n",
    "\\end{bmatrix}\n",
    "\\end{aligned}\n",
    "$$"
   ]
  }
 ],
 "metadata": {
  "@webio": {
   "lastCommId": null,
   "lastKernelId": null
  },
  "celltoolbar": "Slideshow",
  "hide_input": false,
  "kernelspec": {
   "display_name": "Python 3 (ipykernel)",
   "language": "python",
   "name": "python3"
  },
  "language_info": {
   "codemirror_mode": {
    "name": "ipython",
    "version": 3
   },
   "file_extension": ".py",
   "mimetype": "text/x-python",
   "name": "python",
   "nbconvert_exporter": "python",
   "pygments_lexer": "ipython3",
   "version": "3.10.12"
  },
  "latex_envs": {
   "LaTeX_envs_menu_present": true,
   "autoclose": false,
   "autocomplete": true,
   "bibliofile": "biblio.bib",
   "cite_by": "apalike",
   "current_citInitial": 1,
   "eqLabelWithNumbers": true,
   "eqNumInitial": 1,
   "hotkeys": {
    "equation": "Ctrl-E",
    "itemize": "Ctrl-I"
   },
   "labels_anchors": false,
   "latex_user_defs": false,
   "report_style_numbering": false,
   "user_envs_cfg": false
  },
  "rise": {
   "enable_chalkboard": true
  },
  "varInspector": {
   "cols": {
    "lenName": 16,
    "lenType": 16,
    "lenVar": 40
   },
   "kernels_config": {
    "python": {
     "delete_cmd_postfix": "",
     "delete_cmd_prefix": "del ",
     "library": "var_list.py",
     "varRefreshCmd": "print(var_dic_list())"
    },
    "r": {
     "delete_cmd_postfix": ") ",
     "delete_cmd_prefix": "rm(",
     "library": "var_list.r",
     "varRefreshCmd": "cat(var_dic_list()) "
    }
   },
   "types_to_exclude": [
    "module",
    "function",
    "builtin_function_or_method",
    "instance",
    "_Feature"
   ],
   "window_display": false
  }
 },
 "nbformat": 4,
 "nbformat_minor": 5
}
