{
 "cells": [
  {
   "cell_type": "code",
   "execution_count": 1,
   "id": "6b6d3e8a",
   "metadata": {
    "slideshow": {
     "slide_type": "skip"
    }
   },
   "outputs": [],
   "source": [
    "import sympy\n",
    "from sympy import Matrix, Rational, sqrt, symbols, zeros, simplify\n",
    "import numpy as np\n",
    "import matplotlib.pyplot as plt\n",
    "import ipywidgets as widgets\n",
    "from ipywidgets import interact, interactive, fixed, interact_manual\n",
    "import matplotlib.pyplot as plt\n",
    "%matplotlib notebook\n"
   ]
  },
  {
   "cell_type": "markdown",
   "id": "17d690f6",
   "metadata": {
    "hide_input": true,
    "slideshow": {
     "slide_type": "slide"
    }
   },
   "source": [
    "# Linear algebra\n",
    "\n",
    "## Session 8: \n",
    "\n",
    "## Gerhard Jäger\n",
    "\n",
    "### December 14, 2023"
   ]
  },
  {
   "cell_type": "markdown",
   "id": "73340476",
   "metadata": {
    "slideshow": {
     "slide_type": "slide"
    }
   },
   "source": [
    "## Determinants\n",
    "\n",
    "### Sympy"
   ]
  },
  {
   "cell_type": "code",
   "execution_count": 6,
   "id": "3b3e5cb9",
   "metadata": {},
   "outputs": [
    {
     "data": {
      "text/latex": [
       "$\\displaystyle \\left[\\begin{matrix}a & b\\\\c & d\\end{matrix}\\right]$"
      ],
      "text/plain": [
       "Matrix([\n",
       "[a, b],\n",
       "[c, d]])"
      ]
     },
     "execution_count": 6,
     "metadata": {},
     "output_type": "execute_result"
    }
   ],
   "source": [
    "a,b,c,d, e, f, g, h, i = symbols('a b c d e f g h i')\n",
    "A = Matrix([\n",
    "    [a, b],\n",
    "    [c,d]\n",
    "])\n",
    "A"
   ]
  },
  {
   "cell_type": "code",
   "execution_count": 7,
   "id": "66809be0",
   "metadata": {},
   "outputs": [
    {
     "data": {
      "text/latex": [
       "$\\displaystyle a d - b c$"
      ],
      "text/plain": [
       "a*d - b*c"
      ]
     },
     "execution_count": 7,
     "metadata": {},
     "output_type": "execute_result"
    }
   ],
   "source": [
    "A.det()"
   ]
  },
  {
   "cell_type": "code",
   "execution_count": 8,
   "id": "4732f434",
   "metadata": {},
   "outputs": [
    {
     "data": {
      "text/latex": [
       "$\\displaystyle \\left[\\begin{matrix}a & b & c\\\\d & e & f\\\\g & h & i\\end{matrix}\\right]$"
      ],
      "text/plain": [
       "Matrix([\n",
       "[a, b, c],\n",
       "[d, e, f],\n",
       "[g, h, i]])"
      ]
     },
     "execution_count": 8,
     "metadata": {},
     "output_type": "execute_result"
    }
   ],
   "source": [
    "A = Matrix([\n",
    "    [a,b,c],\n",
    "    [d,e,f],\n",
    "    [g,h,i]\n",
    "])\n",
    "A"
   ]
  },
  {
   "cell_type": "code",
   "execution_count": 9,
   "id": "62384f0b",
   "metadata": {},
   "outputs": [],
   "source": [
    "l, u, _ = A.LUdecomposition()"
   ]
  },
  {
   "cell_type": "code",
   "execution_count": 11,
   "id": "8aa80b9e",
   "metadata": {},
   "outputs": [
    {
     "data": {
      "text/latex": [
       "$\\displaystyle \\left[\\begin{matrix}a & b & c\\\\0 & e - \\frac{b d}{a} & f - \\frac{c d}{a}\\\\0 & 0 & \\frac{a e i - a f h - b d i + b f g + c d h - c e g}{a e - b d}\\end{matrix}\\right]$"
      ],
      "text/plain": [
       "Matrix([\n",
       "[a,         b,                                                           c],\n",
       "[0, e - b*d/a,                                                   f - c*d/a],\n",
       "[0,         0, (a*e*i - a*f*h - b*d*i + b*f*g + c*d*h - c*e*g)/(a*e - b*d)]])"
      ]
     },
     "execution_count": 11,
     "metadata": {},
     "output_type": "execute_result"
    }
   ],
   "source": [
    "\n",
    "sympy.simplify(u)\n"
   ]
  },
  {
   "cell_type": "code",
   "execution_count": 12,
   "id": "8a73eda9",
   "metadata": {
    "slideshow": {
     "slide_type": "slide"
    }
   },
   "outputs": [
    {
     "data": {
      "text/latex": [
       "$\\displaystyle \\left[\\begin{matrix}a & b & c\\\\d & e & f\\\\g & h & i\\end{matrix}\\right]$"
      ],
      "text/plain": [
       "Matrix([\n",
       "[a, b, c],\n",
       "[d, e, f],\n",
       "[g, h, i]])"
      ]
     },
     "execution_count": 12,
     "metadata": {},
     "output_type": "execute_result"
    }
   ],
   "source": [
    "A"
   ]
  },
  {
   "cell_type": "code",
   "execution_count": 13,
   "id": "2ad3304c",
   "metadata": {
    "slideshow": {
     "slide_type": "-"
    }
   },
   "outputs": [
    {
     "data": {
      "text/latex": [
       "$\\displaystyle a e i - a f h - b d i + b f g + c d h - c e g$"
      ],
      "text/plain": [
       "a*e*i - a*f*h - b*d*i + b*f*g + c*d*h - c*e*g"
      ]
     },
     "execution_count": 13,
     "metadata": {},
     "output_type": "execute_result"
    }
   ],
   "source": [
    "from math import prod\n",
    "sympy.simplify(prod(u.diagonal()))"
   ]
  },
  {
   "cell_type": "code",
   "execution_count": 14,
   "id": "856c72d3",
   "metadata": {},
   "outputs": [
    {
     "data": {
      "text/latex": [
       "$\\displaystyle a e i - a f h - b d i + b f g + c d h - c e g$"
      ],
      "text/plain": [
       "a*e*i - a*f*h - b*d*i + b*f*g + c*d*h - c*e*g"
      ]
     },
     "execution_count": 14,
     "metadata": {},
     "output_type": "execute_result"
    }
   ],
   "source": [
    "A.det()"
   ]
  },
  {
   "cell_type": "markdown",
   "id": "363ad955",
   "metadata": {
    "slideshow": {
     "slide_type": "slide"
    }
   },
   "source": [
    "## Geometric interpretation\n",
    "\n",
    "The absolute value $A$ is the $n$-dimensional volume of the parallelepiped created by the column vectors of $A$.\n",
    "\n",
    "Why?\n",
    "\n",
    "It is fairly easy to see that this interpretation holds for the first two axioms:\n",
    "\n",
    "- the parallelepiped corresponding to the identity matrix is the $n$-dimensional standard cube with length 1 along each edge\n",
    "- swapping two columns does not change the parallelepiped\n",
    "\n"
   ]
  },
  {
   "cell_type": "markdown",
   "id": "468e1da3",
   "metadata": {
    "slideshow": {
     "slide_type": "slide"
    }
   },
   "source": [
    "The third axiom is more complex. These pictures give an intuitive explanation in 2 dimensions:\n",
    "\n",
    "<img src=_img/axiom3.svg>"
   ]
  },
  {
   "cell_type": "markdown",
   "id": "30498ae2",
   "metadata": {},
   "source": [
    "There is no simple geometric interpretation of the sign of the determinant though."
   ]
  },
  {
   "cell_type": "markdown",
   "id": "5f041803",
   "metadata": {
    "slideshow": {
     "slide_type": "slide"
    }
   },
   "source": [
    "## Determinants and permutations\n",
    "\n",
    "Consider our standard $2\\times 2$ matrix\n",
    "\n",
    "$$\n",
    "\\begin{bmatrix}\n",
    "a & b\\\\\n",
    "c & d\n",
    "\\end{bmatrix}\n",
    "$$\n",
    "\n",
    "According to rule 3:\n",
    "\n",
    "$$\n",
    "\\begin{aligned}\n",
    "\\begin{vmatrix}\n",
    "a & b\\\\\n",
    "c & d\n",
    "\\end{vmatrix} &=\n",
    "\\begin{vmatrix}\n",
    "a & b\\\\\n",
    "0 & d\n",
    "\\end{vmatrix} +\n",
    "\\begin{vmatrix}\n",
    "0 & b\\\\\n",
    "c & d\n",
    "\\end{vmatrix}\\\\\n",
    "&=\n",
    "\\begin{vmatrix}\n",
    "a & b\\\\\n",
    "0 & 0\n",
    "\\end{vmatrix} +\n",
    "\\begin{vmatrix}\n",
    "a & 0\\\\\n",
    "0 & d\n",
    "\\end{vmatrix} +\n",
    "\\begin{vmatrix}\n",
    "0 & b\\\\\n",
    "c & 0\n",
    "\\end{vmatrix}+\n",
    "\\begin{vmatrix}\n",
    "0 & 0\\\\\n",
    "c & d\n",
    "\\end{vmatrix}\\\\\n",
    "\\end{aligned}\n",
    "$$\n"
   ]
  },
  {
   "cell_type": "markdown",
   "id": "a50ab445",
   "metadata": {},
   "source": [
    "The first and last summand each have a zero row. According to rules 6 and 10, their determinants are 0. So we get\n",
    "\n",
    "$$\n",
    "\\begin{aligned}\n",
    "\\begin{vmatrix}\n",
    "a & b\\\\\n",
    "c & d\n",
    "\\end{vmatrix} &=\n",
    "\\begin{vmatrix}\n",
    "a & 0\\\\\n",
    "0 & d\n",
    "\\end{vmatrix} +\n",
    "\\begin{vmatrix}\n",
    "0 & b\\\\\n",
    "c & 0\n",
    "\\end{vmatrix}\n",
    "\\end{aligned}\n",
    "$$\n"
   ]
  },
  {
   "cell_type": "markdown",
   "id": "faf0896e",
   "metadata": {},
   "source": [
    "According to rule 3, it follows that\n",
    "\n",
    "$$\n",
    "\\begin{aligned}\n",
    "\\begin{vmatrix}\n",
    "a & b\\\\\n",
    "c & d\n",
    "\\end{vmatrix} &=\n",
    "a d\\begin{vmatrix}\n",
    "1 & 0\\\\\n",
    "0 & 1\n",
    "\\end{vmatrix} +\n",
    "b c \\begin{vmatrix}\n",
    "0 & 1\\\\\n",
    "1 & 0\n",
    "\\end{vmatrix}\n",
    "\\end{aligned}\n",
    "$$\n"
   ]
  },
  {
   "cell_type": "markdown",
   "id": "013d6591",
   "metadata": {
    "slideshow": {
     "slide_type": "slide"
    }
   },
   "source": [
    "Note the pattern:\n",
    "\n",
    "- each summand is the determinant of a **permutation matrix**, \n",
    "- multiplied by the entries of the original matrix corresponding to the non-zero entries of the permutation matrix\n",
    "\n",
    "(Reminder: a permutation matrix is a square matrix with exactly one 1 in each row and each column, and 0 everywhere else.)\n",
    "\n",
    "According to rules 2 and 1:\n",
    "\n",
    "$$\n",
    "\\begin{aligned}\n",
    "\\begin{vmatrix}\n",
    "a & b\\\\\n",
    "c & d\n",
    "\\end{vmatrix} &=\n",
    "a d\\begin{vmatrix}\n",
    "1 & 0\\\\\n",
    "0 & 1\n",
    "\\end{vmatrix} +\n",
    "b c \\begin{vmatrix}\n",
    "0 & 1\\\\\n",
    "1 & 0\n",
    "\\end{vmatrix}\\\\\n",
    "&=\n",
    "a d\\begin{vmatrix}\n",
    "1 & 0\\\\\n",
    "0 & 1\n",
    "\\end{vmatrix} -\n",
    "b c \\begin{vmatrix}\n",
    "1 & 0\\\\\n",
    "0 & 1\n",
    "\\end{vmatrix}\\\\\n",
    "&= ad - bc\n",
    "\\end{aligned}\n",
    "$$\n"
   ]
  },
  {
   "cell_type": "markdown",
   "id": "5c4355ac",
   "metadata": {
    "slideshow": {
     "slide_type": "slide"
    }
   },
   "source": [
    "Same thing for $3\\times 3$ matrix:\n",
    "\n",
    "$$\n",
    "\\begin{aligned}\n",
    "\\begin{vmatrix}\n",
    "a & b & c\\\\\n",
    "d & e & f\\\\\n",
    "g & h & i\n",
    "\\end{vmatrix} \n",
    "&= \n",
    "\\begin{vmatrix}\n",
    "a &  & \\\\\n",
    " & e & \\\\\n",
    " &  & i\n",
    "\\end{vmatrix} +\n",
    "\\begin{vmatrix}\n",
    "a &  & \\\\\n",
    " &  & f\\\\\n",
    " & h & \n",
    "\\end{vmatrix} +\n",
    "\\begin{vmatrix}\n",
    " & b & \\\\\n",
    "d &  & \\\\\n",
    " &  & i\n",
    "\\end{vmatrix} +\n",
    "\\begin{vmatrix}\n",
    " & b & \\\\\n",
    " &  & f\\\\\n",
    "g &  & \n",
    "\\end{vmatrix} +\n",
    "\\begin{vmatrix}\n",
    " &  & c\\\\\n",
    "d &  & \\\\\n",
    " & h & \n",
    "\\end{vmatrix} +\n",
    "\\begin{vmatrix}\n",
    " &  & c\\\\\n",
    " & e & \\\\\n",
    "g &  & \n",
    "\\end{vmatrix} \\\\\n",
    "&=\n",
    "\\begin{vmatrix}\n",
    "a &  & \\\\\n",
    " & e & \\\\\n",
    " &  & i\n",
    "\\end{vmatrix} -\n",
    "\\begin{vmatrix}\n",
    "a &  & \\\\\n",
    " & f & \\\\\n",
    " &  & h\n",
    "\\end{vmatrix} -\n",
    "\\begin{vmatrix}\n",
    "b &  & \\\\\n",
    " & d & \\\\\n",
    " &  & i\n",
    "\\end{vmatrix} -\n",
    "\\begin{vmatrix}\n",
    " b& & \\\\\n",
    " &  & f\\\\\n",
    " &g  & \n",
    "\\end{vmatrix} -\n",
    "\\begin{vmatrix}\n",
    " & c & \\\\\n",
    "d &  & \\\\\n",
    " &  & h\n",
    "\\end{vmatrix} -\n",
    "\\begin{vmatrix}\n",
    " &  c& \\\\\n",
    " & & e\\\\\n",
    "g &  & \n",
    "\\end{vmatrix} \\\\\n",
    "&=\n",
    "\\begin{vmatrix}\n",
    "a &  & \\\\\n",
    " & e & \\\\\n",
    " &  & i\n",
    "\\end{vmatrix} -\n",
    "\\begin{vmatrix}\n",
    "a &  & \\\\\n",
    " & f & \\\\\n",
    " &  & h\n",
    "\\end{vmatrix} -\n",
    "\\begin{vmatrix}\n",
    "b &  & \\\\\n",
    " & d & \\\\\n",
    " &  & i\n",
    "\\end{vmatrix} +\n",
    "\\begin{vmatrix}\n",
    " b& & \\\\\n",
    " & f & \\\\\n",
    " & & g\n",
    "\\end{vmatrix} +\n",
    "\\begin{vmatrix}\n",
    "c &  & \\\\\n",
    " & d & \\\\\n",
    " &  & h\n",
    "\\end{vmatrix} +\n",
    "\\begin{vmatrix}\n",
    " c&  & \\\\\n",
    " & & e\\\\\n",
    "& g & \n",
    "\\end{vmatrix} \\\\\n",
    "&=\n",
    "\\begin{vmatrix}\n",
    "a &  & \\\\\n",
    " & e & \\\\\n",
    " &  & i\n",
    "\\end{vmatrix} -\n",
    "\\begin{vmatrix}\n",
    "a &  & \\\\\n",
    " & f & \\\\\n",
    " &  & h\n",
    "\\end{vmatrix} -\n",
    "\\begin{vmatrix}\n",
    "b &  & \\\\\n",
    " & d & \\\\\n",
    " &  & i\n",
    "\\end{vmatrix} +\n",
    "\\begin{vmatrix}\n",
    " b& & \\\\\n",
    " & f & \\\\\n",
    " & & g\n",
    "\\end{vmatrix} +\n",
    "\\begin{vmatrix}\n",
    "c &  & \\\\\n",
    " & d & \\\\\n",
    " &  & h\n",
    "\\end{vmatrix} -\n",
    "\\begin{vmatrix}\n",
    " c&  & \\\\\n",
    " &e & \\\\\n",
    "&  & g\n",
    "\\end{vmatrix} \\\\\n",
    "&= aei + bfg + cdh - ceg - bdi - afh\n",
    "\\end{aligned}\n",
    "$$\n",
    "\n"
   ]
  },
  {
   "cell_type": "markdown",
   "id": "572080e1",
   "metadata": {
    "slideshow": {
     "slide_type": "slide"
    }
   },
   "source": [
    "Let $\\pi$ be a *permutation* of $1,\\ldots, n$. This means $\\pi$ is a **bijection** from $\\{1,\\ldots,n\\}$ onto itself.\n",
    "\n",
    "Each component of the formula above has the form\n",
    "\n",
    "$$\n",
    "\\pm \\prod_i a_{i,\\pi(i)}\n",
    "$$\n",
    "\n",
    "for some permutation $\\pi$.\n",
    "\n",
    "We distinguish *even* and *odd* permutations::\n",
    "\n",
    "**Definition**\n",
    "\n",
    "*A permutation $\\pi$ is ***even*** if and only if\n",
    "$$\n",
    "\\|\\{\\langle i,j\\rangle|i < j \\wedge \\pi(i) > \\pi(j)\\}\\|\n",
    "$$\n",
    "is even. Otherwise it is ***odd***.*\n",
    "\n",
    "The sum in the definition is the number of column permutations we have to perform to convert the corresponding permutation matrix to the identity matrix.\n"
   ]
  },
  {
   "cell_type": "markdown",
   "id": "0833280a",
   "metadata": {
    "slideshow": {
     "slide_type": "slide"
    }
   },
   "source": [
    "\n",
    "**Definition**\n",
    "\n",
    "*Let $\\pi$ be a permutation.*\n",
    "\n",
    "$$\n",
    "\\mathrm{sign}(\\pi) \\doteq \\left\\{\\begin{aligned}1 & \\mbox{ if }\\pi\\mbox{ is even}\\\\-1&\\mbox{ else}\\end{aligned}\\right.\n",
    "$$\n",
    "\n",
    "\n",
    "\n",
    "This leads to the **Leibniz formula**:\n",
    "\n",
    "$$\n",
    "|A | = \\sum_{\\pi: \\pi \\mathrm{~a~permutation~over~}\\{1,\\ldots,n\\}}\\mathrm{sign}(\\pi)\\prod_ia_{i,\\pi(i)}\n",
    "$$\n",
    "\n",
    "This formula is much too unwieldy for actual computations, but it is useful for proving properties of the determinant."
   ]
  },
  {
   "cell_type": "markdown",
   "id": "d8dc0025",
   "metadata": {
    "slideshow": {
     "slide_type": "slide"
    }
   },
   "source": [
    "## Cofactors\n",
    "\n",
    "If we expand the Leibniz formula for $n=3$, we get\n",
    "\n",
    "$$\n",
    "\\begin{aligned}\n",
    "|A| &=& ~~a_{11}a_{22}a_{33} - a_{11}a_{23}a_{32}\\\\\n",
    "&& -a_{21}a_{12}a_{33} + a_{21}a_{32}a_{13}\\\\\n",
    "&& +a_{31}a_{12}a_{23} - a_{31}a_{22}a_{13}\\\\\n",
    "&=& ~~a_{11}(a_{22}a_{33} - a_{23}a_{32})\\\\\n",
    "&& -a_{21}(a_{12}a_{33} - a_{32}a_{13})\\\\\n",
    "&& +a_{31}(a_{12}a_{23} - a_{22}a_{13})\n",
    "\\end{aligned}\n",
    "$$"
   ]
  },
  {
   "cell_type": "markdown",
   "id": "d70a2649",
   "metadata": {
    "slideshow": {
     "slide_type": "slide"
    }
   },
   "source": [
    "Note that in the second equation, we have three products. Each consists of \n",
    "- $(-1)^{1+i}$\n",
    "- an entry $a_{i1}$ from the first column, and\n",
    "- the determinant of the matrix that results when we remove from $A$ the first column and the $i$th row, and\n",
    "\n",
    "This generalizes to matrices of arbitrary size, and to arbitrary columns.\n",
    "\n",
    "Let $M_{ij}$ be the matrix that results if we remove the $i$th row and the $j$th column from $A$.\n",
    "\n",
    "$$\n",
    "|A| = \\sum_i (-1)^{i+j} a_{ij} |M_{ij}|\n",
    "$$\n",
    "\n",
    "Fore brevity's sake, we define\n",
    "\n",
    "$$\n",
    "C_{ij} \\doteq (-1)^{i+j} |M_{ij}|\n",
    "$$\n",
    "\n",
    "These quantities are called **cofactors**.\n",
    "\n",
    "Then the above formula simplifies to the **Laplace expansion**\n",
    "\n",
    "$$\n",
    "|A| = \\sum_i a_{ij}C_{ij}\n",
    "$$"
   ]
  },
  {
   "cell_type": "markdown",
   "id": "7d180aed",
   "metadata": {
    "slideshow": {
     "slide_type": "slide"
    }
   },
   "source": [
    "Note that all matrices $M_{ij}$ have size $(n-1)\\times (n-1)$.\n",
    "\n",
    "This leads to a **recursive definition** of the determinant:\n",
    "\n",
    "- *If $n=1$, $|A| = a_{11}$.<p>*\n",
    "\n",
    "- *If $n>1$, $|A| = \\sum_i (-1)^{i+1}a_{i1}|M_{i1}|$.*\n",
    "\n",
    "\n",
    "Applying this definition to actual computations is not advisable, because it amounts to an application of the Leibniz formula, i.e., it is computationally costly."
   ]
  },
  {
   "cell_type": "markdown",
   "id": "32e02ae8",
   "metadata": {
    "slideshow": {
     "slide_type": "slide"
    }
   },
   "source": [
    "## Matrix powers and exponentials\n",
    "\n",
    "So far we studied basic operations such as addition and multiplication of matrices and vectors.\n",
    "\n",
    "Higher operations are also defined, at least for square matrices:\n",
    "\n",
    "**power**\n",
    "- $A^0 = \\mathbf I$\n",
    "- $A^{n+1} = A A^n$\n",
    "\n",
    "**exponential**\n",
    "- $e^A = \\sum_{k=0}^\\infty \\frac{1}{k!} A^k$\n",
    "\n",
    "To compute them efficiently (and for many other applications), \n",
    "we need **eigenvectors** and **eigenvalues** of square matrices."
   ]
  },
  {
   "cell_type": "markdown",
   "id": "e9396559",
   "metadata": {
    "slideshow": {
     "slide_type": "slide"
    }
   },
   "source": [
    "## Example"
   ]
  },
  {
   "cell_type": "code",
   "execution_count": 17,
   "id": "8f942112",
   "metadata": {},
   "outputs": [
    {
     "data": {
      "text/latex": [
       "$\\displaystyle \\left[\\begin{matrix}0.8 & 0.3\\\\0.2 & 0.7\\end{matrix}\\right]$"
      ],
      "text/plain": [
       "Matrix([\n",
       "[0.8, 0.3],\n",
       "[0.2, 0.7]])"
      ]
     },
     "execution_count": 17,
     "metadata": {},
     "output_type": "execute_result"
    }
   ],
   "source": [
    "A = Matrix([\n",
    "    [0.8, 0.3],\n",
    "    [0.2, 0.7]\n",
    "])\n",
    "A"
   ]
  },
  {
   "cell_type": "code",
   "execution_count": 18,
   "id": "eb49feaf",
   "metadata": {},
   "outputs": [
    {
     "data": {
      "text/latex": [
       "$\\displaystyle \\left[\\begin{matrix}0.7 & 0.45\\\\0.3 & 0.55\\end{matrix}\\right]$"
      ],
      "text/plain": [
       "Matrix([\n",
       "[0.7, 0.45],\n",
       "[0.3, 0.55]])"
      ]
     },
     "execution_count": 18,
     "metadata": {},
     "output_type": "execute_result"
    }
   ],
   "source": [
    "A**2"
   ]
  },
  {
   "cell_type": "code",
   "execution_count": 19,
   "id": "220d5072",
   "metadata": {},
   "outputs": [
    {
     "data": {
      "text/latex": [
       "$\\displaystyle \\left[\\begin{matrix}0.65 & 0.525\\\\0.35 & 0.475\\end{matrix}\\right]$"
      ],
      "text/plain": [
       "Matrix([\n",
       "[0.65, 0.525],\n",
       "[0.35, 0.475]])"
      ]
     },
     "execution_count": 19,
     "metadata": {},
     "output_type": "execute_result"
    }
   ],
   "source": [
    "A**3"
   ]
  },
  {
   "cell_type": "code",
   "execution_count": 20,
   "id": "0f7658ad",
   "metadata": {},
   "outputs": [
    {
     "data": {
      "text/latex": [
       "$\\displaystyle \\left[\\begin{matrix}0.600390625 & 0.5994140625\\\\0.399609375 & 0.4005859375\\end{matrix}\\right]$"
      ],
      "text/plain": [
       "Matrix([\n",
       "[0.600390625, 0.5994140625],\n",
       "[0.399609375, 0.4005859375]])"
      ]
     },
     "execution_count": 20,
     "metadata": {},
     "output_type": "execute_result"
    }
   ],
   "source": [
    "A**10"
   ]
  },
  {
   "cell_type": "code",
   "execution_count": 21,
   "id": "e38a1740",
   "metadata": {},
   "outputs": [
    {
     "data": {
      "text/latex": [
       "$\\displaystyle \\left[\\begin{matrix}0.600000000000002 & 0.600000000000002\\\\0.400000000000001 & 0.400000000000001\\end{matrix}\\right]$"
      ],
      "text/plain": [
       "Matrix([\n",
       "[0.600000000000002, 0.600000000000002],\n",
       "[0.400000000000001, 0.400000000000001]])"
      ]
     },
     "execution_count": 21,
     "metadata": {},
     "output_type": "execute_result"
    }
   ],
   "source": [
    "A**100"
   ]
  },
  {
   "cell_type": "code",
   "execution_count": 22,
   "id": "d3573f08",
   "metadata": {},
   "outputs": [
    {
     "data": {
      "text/latex": [
       "$\\displaystyle \\left[\\begin{matrix}0.6 & 0.6\\\\0.4 & 0.4\\end{matrix}\\right]$"
      ],
      "text/plain": [
       "Matrix([\n",
       "[0.6, 0.6],\n",
       "[0.4, 0.4]])"
      ]
     },
     "execution_count": 22,
     "metadata": {},
     "output_type": "execute_result"
    }
   ],
   "source": [
    "A**1000000"
   ]
  },
  {
   "cell_type": "markdown",
   "id": "44c70668",
   "metadata": {
    "slideshow": {
     "slide_type": "slide"
    }
   },
   "source": [
    "## Eigenvectors and eigenvalues\n",
    "\n",
    "### Basic equation\n",
    "\n",
    "$$\n",
    "A\\mathbf x = \\lambda \\mathbf x\n",
    "$$\n",
    "\n",
    "- $\\mathbf x$ is called an **eigenvector** of $A$\n",
    "- $\\lambda$ is called an **eigenvalue** of $A$"
   ]
  },
  {
   "cell_type": "code",
   "execution_count": 69,
   "id": "4c1c7db7",
   "metadata": {
    "hide_input": false,
    "slideshow": {
     "slide_type": "slide"
    }
   },
   "outputs": [],
   "source": [
    "A = np.array([\n",
    "    [1, 1],\n",
    "    [-1, 1]\n",
    "])"
   ]
  },
  {
   "cell_type": "code",
   "execution_count": 70,
   "id": "01005c82",
   "metadata": {
    "hide_input": true
   },
   "outputs": [
    {
     "data": {
      "application/javascript": [
       "/* Put everything inside the global mpl namespace */\n",
       "/* global mpl */\n",
       "window.mpl = {};\n",
       "\n",
       "mpl.get_websocket_type = function () {\n",
       "    if (typeof WebSocket !== 'undefined') {\n",
       "        return WebSocket;\n",
       "    } else if (typeof MozWebSocket !== 'undefined') {\n",
       "        return MozWebSocket;\n",
       "    } else {\n",
       "        alert(\n",
       "            'Your browser does not have WebSocket support. ' +\n",
       "                'Please try Chrome, Safari or Firefox ≥ 6. ' +\n",
       "                'Firefox 4 and 5 are also supported but you ' +\n",
       "                'have to enable WebSockets in about:config.'\n",
       "        );\n",
       "    }\n",
       "};\n",
       "\n",
       "mpl.figure = function (figure_id, websocket, ondownload, parent_element) {\n",
       "    this.id = figure_id;\n",
       "\n",
       "    this.ws = websocket;\n",
       "\n",
       "    this.supports_binary = this.ws.binaryType !== undefined;\n",
       "\n",
       "    if (!this.supports_binary) {\n",
       "        var warnings = document.getElementById('mpl-warnings');\n",
       "        if (warnings) {\n",
       "            warnings.style.display = 'block';\n",
       "            warnings.textContent =\n",
       "                'This browser does not support binary websocket messages. ' +\n",
       "                'Performance may be slow.';\n",
       "        }\n",
       "    }\n",
       "\n",
       "    this.imageObj = new Image();\n",
       "\n",
       "    this.context = undefined;\n",
       "    this.message = undefined;\n",
       "    this.canvas = undefined;\n",
       "    this.rubberband_canvas = undefined;\n",
       "    this.rubberband_context = undefined;\n",
       "    this.format_dropdown = undefined;\n",
       "\n",
       "    this.image_mode = 'full';\n",
       "\n",
       "    this.root = document.createElement('div');\n",
       "    this.root.setAttribute('style', 'display: inline-block');\n",
       "    this._root_extra_style(this.root);\n",
       "\n",
       "    parent_element.appendChild(this.root);\n",
       "\n",
       "    this._init_header(this);\n",
       "    this._init_canvas(this);\n",
       "    this._init_toolbar(this);\n",
       "\n",
       "    var fig = this;\n",
       "\n",
       "    this.waiting = false;\n",
       "\n",
       "    this.ws.onopen = function () {\n",
       "        fig.send_message('supports_binary', { value: fig.supports_binary });\n",
       "        fig.send_message('send_image_mode', {});\n",
       "        if (fig.ratio !== 1) {\n",
       "            fig.send_message('set_device_pixel_ratio', {\n",
       "                device_pixel_ratio: fig.ratio,\n",
       "            });\n",
       "        }\n",
       "        fig.send_message('refresh', {});\n",
       "    };\n",
       "\n",
       "    this.imageObj.onload = function () {\n",
       "        if (fig.image_mode === 'full') {\n",
       "            // Full images could contain transparency (where diff images\n",
       "            // almost always do), so we need to clear the canvas so that\n",
       "            // there is no ghosting.\n",
       "            fig.context.clearRect(0, 0, fig.canvas.width, fig.canvas.height);\n",
       "        }\n",
       "        fig.context.drawImage(fig.imageObj, 0, 0);\n",
       "    };\n",
       "\n",
       "    this.imageObj.onunload = function () {\n",
       "        fig.ws.close();\n",
       "    };\n",
       "\n",
       "    this.ws.onmessage = this._make_on_message_function(this);\n",
       "\n",
       "    this.ondownload = ondownload;\n",
       "};\n",
       "\n",
       "mpl.figure.prototype._init_header = function () {\n",
       "    var titlebar = document.createElement('div');\n",
       "    titlebar.classList =\n",
       "        'ui-dialog-titlebar ui-widget-header ui-corner-all ui-helper-clearfix';\n",
       "    var titletext = document.createElement('div');\n",
       "    titletext.classList = 'ui-dialog-title';\n",
       "    titletext.setAttribute(\n",
       "        'style',\n",
       "        'width: 100%; text-align: center; padding: 3px;'\n",
       "    );\n",
       "    titlebar.appendChild(titletext);\n",
       "    this.root.appendChild(titlebar);\n",
       "    this.header = titletext;\n",
       "};\n",
       "\n",
       "mpl.figure.prototype._canvas_extra_style = function (_canvas_div) {};\n",
       "\n",
       "mpl.figure.prototype._root_extra_style = function (_canvas_div) {};\n",
       "\n",
       "mpl.figure.prototype._init_canvas = function () {\n",
       "    var fig = this;\n",
       "\n",
       "    var canvas_div = (this.canvas_div = document.createElement('div'));\n",
       "    canvas_div.setAttribute('tabindex', '0');\n",
       "    canvas_div.setAttribute(\n",
       "        'style',\n",
       "        'border: 1px solid #ddd;' +\n",
       "            'box-sizing: content-box;' +\n",
       "            'clear: both;' +\n",
       "            'min-height: 1px;' +\n",
       "            'min-width: 1px;' +\n",
       "            'outline: 0;' +\n",
       "            'overflow: hidden;' +\n",
       "            'position: relative;' +\n",
       "            'resize: both;' +\n",
       "            'z-index: 2;'\n",
       "    );\n",
       "\n",
       "    function on_keyboard_event_closure(name) {\n",
       "        return function (event) {\n",
       "            return fig.key_event(event, name);\n",
       "        };\n",
       "    }\n",
       "\n",
       "    canvas_div.addEventListener(\n",
       "        'keydown',\n",
       "        on_keyboard_event_closure('key_press')\n",
       "    );\n",
       "    canvas_div.addEventListener(\n",
       "        'keyup',\n",
       "        on_keyboard_event_closure('key_release')\n",
       "    );\n",
       "\n",
       "    this._canvas_extra_style(canvas_div);\n",
       "    this.root.appendChild(canvas_div);\n",
       "\n",
       "    var canvas = (this.canvas = document.createElement('canvas'));\n",
       "    canvas.classList.add('mpl-canvas');\n",
       "    canvas.setAttribute(\n",
       "        'style',\n",
       "        'box-sizing: content-box;' +\n",
       "            'pointer-events: none;' +\n",
       "            'position: relative;' +\n",
       "            'z-index: 0;'\n",
       "    );\n",
       "\n",
       "    this.context = canvas.getContext('2d');\n",
       "\n",
       "    var backingStore =\n",
       "        this.context.backingStorePixelRatio ||\n",
       "        this.context.webkitBackingStorePixelRatio ||\n",
       "        this.context.mozBackingStorePixelRatio ||\n",
       "        this.context.msBackingStorePixelRatio ||\n",
       "        this.context.oBackingStorePixelRatio ||\n",
       "        this.context.backingStorePixelRatio ||\n",
       "        1;\n",
       "\n",
       "    this.ratio = (window.devicePixelRatio || 1) / backingStore;\n",
       "\n",
       "    var rubberband_canvas = (this.rubberband_canvas = document.createElement(\n",
       "        'canvas'\n",
       "    ));\n",
       "    rubberband_canvas.setAttribute(\n",
       "        'style',\n",
       "        'box-sizing: content-box;' +\n",
       "            'left: 0;' +\n",
       "            'pointer-events: none;' +\n",
       "            'position: absolute;' +\n",
       "            'top: 0;' +\n",
       "            'z-index: 1;'\n",
       "    );\n",
       "\n",
       "    // Apply a ponyfill if ResizeObserver is not implemented by browser.\n",
       "    if (this.ResizeObserver === undefined) {\n",
       "        if (window.ResizeObserver !== undefined) {\n",
       "            this.ResizeObserver = window.ResizeObserver;\n",
       "        } else {\n",
       "            var obs = _JSXTOOLS_RESIZE_OBSERVER({});\n",
       "            this.ResizeObserver = obs.ResizeObserver;\n",
       "        }\n",
       "    }\n",
       "\n",
       "    this.resizeObserverInstance = new this.ResizeObserver(function (entries) {\n",
       "        var nentries = entries.length;\n",
       "        for (var i = 0; i < nentries; i++) {\n",
       "            var entry = entries[i];\n",
       "            var width, height;\n",
       "            if (entry.contentBoxSize) {\n",
       "                if (entry.contentBoxSize instanceof Array) {\n",
       "                    // Chrome 84 implements new version of spec.\n",
       "                    width = entry.contentBoxSize[0].inlineSize;\n",
       "                    height = entry.contentBoxSize[0].blockSize;\n",
       "                } else {\n",
       "                    // Firefox implements old version of spec.\n",
       "                    width = entry.contentBoxSize.inlineSize;\n",
       "                    height = entry.contentBoxSize.blockSize;\n",
       "                }\n",
       "            } else {\n",
       "                // Chrome <84 implements even older version of spec.\n",
       "                width = entry.contentRect.width;\n",
       "                height = entry.contentRect.height;\n",
       "            }\n",
       "\n",
       "            // Keep the size of the canvas and rubber band canvas in sync with\n",
       "            // the canvas container.\n",
       "            if (entry.devicePixelContentBoxSize) {\n",
       "                // Chrome 84 implements new version of spec.\n",
       "                canvas.setAttribute(\n",
       "                    'width',\n",
       "                    entry.devicePixelContentBoxSize[0].inlineSize\n",
       "                );\n",
       "                canvas.setAttribute(\n",
       "                    'height',\n",
       "                    entry.devicePixelContentBoxSize[0].blockSize\n",
       "                );\n",
       "            } else {\n",
       "                canvas.setAttribute('width', width * fig.ratio);\n",
       "                canvas.setAttribute('height', height * fig.ratio);\n",
       "            }\n",
       "            /* This rescales the canvas back to display pixels, so that it\n",
       "             * appears correct on HiDPI screens. */\n",
       "            canvas.style.width = width + 'px';\n",
       "            canvas.style.height = height + 'px';\n",
       "\n",
       "            rubberband_canvas.setAttribute('width', width);\n",
       "            rubberband_canvas.setAttribute('height', height);\n",
       "\n",
       "            // And update the size in Python. We ignore the initial 0/0 size\n",
       "            // that occurs as the element is placed into the DOM, which should\n",
       "            // otherwise not happen due to the minimum size styling.\n",
       "            if (fig.ws.readyState == 1 && width != 0 && height != 0) {\n",
       "                fig.request_resize(width, height);\n",
       "            }\n",
       "        }\n",
       "    });\n",
       "    this.resizeObserverInstance.observe(canvas_div);\n",
       "\n",
       "    function on_mouse_event_closure(name) {\n",
       "        /* User Agent sniffing is bad, but WebKit is busted:\n",
       "         * https://bugs.webkit.org/show_bug.cgi?id=144526\n",
       "         * https://bugs.webkit.org/show_bug.cgi?id=181818\n",
       "         * The worst that happens here is that they get an extra browser\n",
       "         * selection when dragging, if this check fails to catch them.\n",
       "         */\n",
       "        var UA = navigator.userAgent;\n",
       "        var isWebKit = /AppleWebKit/.test(UA) && !/Chrome/.test(UA);\n",
       "        if(isWebKit) {\n",
       "            return function (event) {\n",
       "                /* This prevents the web browser from automatically changing to\n",
       "                 * the text insertion cursor when the button is pressed. We\n",
       "                 * want to control all of the cursor setting manually through\n",
       "                 * the 'cursor' event from matplotlib */\n",
       "                event.preventDefault()\n",
       "                return fig.mouse_event(event, name);\n",
       "            };\n",
       "        } else {\n",
       "            return function (event) {\n",
       "                return fig.mouse_event(event, name);\n",
       "            };\n",
       "        }\n",
       "    }\n",
       "\n",
       "    canvas_div.addEventListener(\n",
       "        'mousedown',\n",
       "        on_mouse_event_closure('button_press')\n",
       "    );\n",
       "    canvas_div.addEventListener(\n",
       "        'mouseup',\n",
       "        on_mouse_event_closure('button_release')\n",
       "    );\n",
       "    canvas_div.addEventListener(\n",
       "        'dblclick',\n",
       "        on_mouse_event_closure('dblclick')\n",
       "    );\n",
       "    // Throttle sequential mouse events to 1 every 20ms.\n",
       "    canvas_div.addEventListener(\n",
       "        'mousemove',\n",
       "        on_mouse_event_closure('motion_notify')\n",
       "    );\n",
       "\n",
       "    canvas_div.addEventListener(\n",
       "        'mouseenter',\n",
       "        on_mouse_event_closure('figure_enter')\n",
       "    );\n",
       "    canvas_div.addEventListener(\n",
       "        'mouseleave',\n",
       "        on_mouse_event_closure('figure_leave')\n",
       "    );\n",
       "\n",
       "    canvas_div.addEventListener('wheel', function (event) {\n",
       "        if (event.deltaY < 0) {\n",
       "            event.step = 1;\n",
       "        } else {\n",
       "            event.step = -1;\n",
       "        }\n",
       "        on_mouse_event_closure('scroll')(event);\n",
       "    });\n",
       "\n",
       "    canvas_div.appendChild(canvas);\n",
       "    canvas_div.appendChild(rubberband_canvas);\n",
       "\n",
       "    this.rubberband_context = rubberband_canvas.getContext('2d');\n",
       "    this.rubberband_context.strokeStyle = '#000000';\n",
       "\n",
       "    this._resize_canvas = function (width, height, forward) {\n",
       "        if (forward) {\n",
       "            canvas_div.style.width = width + 'px';\n",
       "            canvas_div.style.height = height + 'px';\n",
       "        }\n",
       "    };\n",
       "\n",
       "    // Disable right mouse context menu.\n",
       "    canvas_div.addEventListener('contextmenu', function (_e) {\n",
       "        event.preventDefault();\n",
       "        return false;\n",
       "    });\n",
       "\n",
       "    function set_focus() {\n",
       "        canvas.focus();\n",
       "        canvas_div.focus();\n",
       "    }\n",
       "\n",
       "    window.setTimeout(set_focus, 100);\n",
       "};\n",
       "\n",
       "mpl.figure.prototype._init_toolbar = function () {\n",
       "    var fig = this;\n",
       "\n",
       "    var toolbar = document.createElement('div');\n",
       "    toolbar.classList = 'mpl-toolbar';\n",
       "    this.root.appendChild(toolbar);\n",
       "\n",
       "    function on_click_closure(name) {\n",
       "        return function (_event) {\n",
       "            return fig.toolbar_button_onclick(name);\n",
       "        };\n",
       "    }\n",
       "\n",
       "    function on_mouseover_closure(tooltip) {\n",
       "        return function (event) {\n",
       "            if (!event.currentTarget.disabled) {\n",
       "                return fig.toolbar_button_onmouseover(tooltip);\n",
       "            }\n",
       "        };\n",
       "    }\n",
       "\n",
       "    fig.buttons = {};\n",
       "    var buttonGroup = document.createElement('div');\n",
       "    buttonGroup.classList = 'mpl-button-group';\n",
       "    for (var toolbar_ind in mpl.toolbar_items) {\n",
       "        var name = mpl.toolbar_items[toolbar_ind][0];\n",
       "        var tooltip = mpl.toolbar_items[toolbar_ind][1];\n",
       "        var image = mpl.toolbar_items[toolbar_ind][2];\n",
       "        var method_name = mpl.toolbar_items[toolbar_ind][3];\n",
       "\n",
       "        if (!name) {\n",
       "            /* Instead of a spacer, we start a new button group. */\n",
       "            if (buttonGroup.hasChildNodes()) {\n",
       "                toolbar.appendChild(buttonGroup);\n",
       "            }\n",
       "            buttonGroup = document.createElement('div');\n",
       "            buttonGroup.classList = 'mpl-button-group';\n",
       "            continue;\n",
       "        }\n",
       "\n",
       "        var button = (fig.buttons[name] = document.createElement('button'));\n",
       "        button.classList = 'mpl-widget';\n",
       "        button.setAttribute('role', 'button');\n",
       "        button.setAttribute('aria-disabled', 'false');\n",
       "        button.addEventListener('click', on_click_closure(method_name));\n",
       "        button.addEventListener('mouseover', on_mouseover_closure(tooltip));\n",
       "\n",
       "        var icon_img = document.createElement('img');\n",
       "        icon_img.src = '_images/' + image + '.png';\n",
       "        icon_img.srcset = '_images/' + image + '_large.png 2x';\n",
       "        icon_img.alt = tooltip;\n",
       "        button.appendChild(icon_img);\n",
       "\n",
       "        buttonGroup.appendChild(button);\n",
       "    }\n",
       "\n",
       "    if (buttonGroup.hasChildNodes()) {\n",
       "        toolbar.appendChild(buttonGroup);\n",
       "    }\n",
       "\n",
       "    var fmt_picker = document.createElement('select');\n",
       "    fmt_picker.classList = 'mpl-widget';\n",
       "    toolbar.appendChild(fmt_picker);\n",
       "    this.format_dropdown = fmt_picker;\n",
       "\n",
       "    for (var ind in mpl.extensions) {\n",
       "        var fmt = mpl.extensions[ind];\n",
       "        var option = document.createElement('option');\n",
       "        option.selected = fmt === mpl.default_extension;\n",
       "        option.innerHTML = fmt;\n",
       "        fmt_picker.appendChild(option);\n",
       "    }\n",
       "\n",
       "    var status_bar = document.createElement('span');\n",
       "    status_bar.classList = 'mpl-message';\n",
       "    toolbar.appendChild(status_bar);\n",
       "    this.message = status_bar;\n",
       "};\n",
       "\n",
       "mpl.figure.prototype.request_resize = function (x_pixels, y_pixels) {\n",
       "    // Request matplotlib to resize the figure. Matplotlib will then trigger a resize in the client,\n",
       "    // which will in turn request a refresh of the image.\n",
       "    this.send_message('resize', { width: x_pixels, height: y_pixels });\n",
       "};\n",
       "\n",
       "mpl.figure.prototype.send_message = function (type, properties) {\n",
       "    properties['type'] = type;\n",
       "    properties['figure_id'] = this.id;\n",
       "    this.ws.send(JSON.stringify(properties));\n",
       "};\n",
       "\n",
       "mpl.figure.prototype.send_draw_message = function () {\n",
       "    if (!this.waiting) {\n",
       "        this.waiting = true;\n",
       "        this.ws.send(JSON.stringify({ type: 'draw', figure_id: this.id }));\n",
       "    }\n",
       "};\n",
       "\n",
       "mpl.figure.prototype.handle_save = function (fig, _msg) {\n",
       "    var format_dropdown = fig.format_dropdown;\n",
       "    var format = format_dropdown.options[format_dropdown.selectedIndex].value;\n",
       "    fig.ondownload(fig, format);\n",
       "};\n",
       "\n",
       "mpl.figure.prototype.handle_resize = function (fig, msg) {\n",
       "    var size = msg['size'];\n",
       "    if (size[0] !== fig.canvas.width || size[1] !== fig.canvas.height) {\n",
       "        fig._resize_canvas(size[0], size[1], msg['forward']);\n",
       "        fig.send_message('refresh', {});\n",
       "    }\n",
       "};\n",
       "\n",
       "mpl.figure.prototype.handle_rubberband = function (fig, msg) {\n",
       "    var x0 = msg['x0'] / fig.ratio;\n",
       "    var y0 = (fig.canvas.height - msg['y0']) / fig.ratio;\n",
       "    var x1 = msg['x1'] / fig.ratio;\n",
       "    var y1 = (fig.canvas.height - msg['y1']) / fig.ratio;\n",
       "    x0 = Math.floor(x0) + 0.5;\n",
       "    y0 = Math.floor(y0) + 0.5;\n",
       "    x1 = Math.floor(x1) + 0.5;\n",
       "    y1 = Math.floor(y1) + 0.5;\n",
       "    var min_x = Math.min(x0, x1);\n",
       "    var min_y = Math.min(y0, y1);\n",
       "    var width = Math.abs(x1 - x0);\n",
       "    var height = Math.abs(y1 - y0);\n",
       "\n",
       "    fig.rubberband_context.clearRect(\n",
       "        0,\n",
       "        0,\n",
       "        fig.canvas.width / fig.ratio,\n",
       "        fig.canvas.height / fig.ratio\n",
       "    );\n",
       "\n",
       "    fig.rubberband_context.strokeRect(min_x, min_y, width, height);\n",
       "};\n",
       "\n",
       "mpl.figure.prototype.handle_figure_label = function (fig, msg) {\n",
       "    // Updates the figure title.\n",
       "    fig.header.textContent = msg['label'];\n",
       "};\n",
       "\n",
       "mpl.figure.prototype.handle_cursor = function (fig, msg) {\n",
       "    fig.canvas_div.style.cursor = msg['cursor'];\n",
       "};\n",
       "\n",
       "mpl.figure.prototype.handle_message = function (fig, msg) {\n",
       "    fig.message.textContent = msg['message'];\n",
       "};\n",
       "\n",
       "mpl.figure.prototype.handle_draw = function (fig, _msg) {\n",
       "    // Request the server to send over a new figure.\n",
       "    fig.send_draw_message();\n",
       "};\n",
       "\n",
       "mpl.figure.prototype.handle_image_mode = function (fig, msg) {\n",
       "    fig.image_mode = msg['mode'];\n",
       "};\n",
       "\n",
       "mpl.figure.prototype.handle_history_buttons = function (fig, msg) {\n",
       "    for (var key in msg) {\n",
       "        if (!(key in fig.buttons)) {\n",
       "            continue;\n",
       "        }\n",
       "        fig.buttons[key].disabled = !msg[key];\n",
       "        fig.buttons[key].setAttribute('aria-disabled', !msg[key]);\n",
       "    }\n",
       "};\n",
       "\n",
       "mpl.figure.prototype.handle_navigate_mode = function (fig, msg) {\n",
       "    if (msg['mode'] === 'PAN') {\n",
       "        fig.buttons['Pan'].classList.add('active');\n",
       "        fig.buttons['Zoom'].classList.remove('active');\n",
       "    } else if (msg['mode'] === 'ZOOM') {\n",
       "        fig.buttons['Pan'].classList.remove('active');\n",
       "        fig.buttons['Zoom'].classList.add('active');\n",
       "    } else {\n",
       "        fig.buttons['Pan'].classList.remove('active');\n",
       "        fig.buttons['Zoom'].classList.remove('active');\n",
       "    }\n",
       "};\n",
       "\n",
       "mpl.figure.prototype.updated_canvas_event = function () {\n",
       "    // Called whenever the canvas gets updated.\n",
       "    this.send_message('ack', {});\n",
       "};\n",
       "\n",
       "// A function to construct a web socket function for onmessage handling.\n",
       "// Called in the figure constructor.\n",
       "mpl.figure.prototype._make_on_message_function = function (fig) {\n",
       "    return function socket_on_message(evt) {\n",
       "        if (evt.data instanceof Blob) {\n",
       "            var img = evt.data;\n",
       "            if (img.type !== 'image/png') {\n",
       "                /* FIXME: We get \"Resource interpreted as Image but\n",
       "                 * transferred with MIME type text/plain:\" errors on\n",
       "                 * Chrome.  But how to set the MIME type?  It doesn't seem\n",
       "                 * to be part of the websocket stream */\n",
       "                img.type = 'image/png';\n",
       "            }\n",
       "\n",
       "            /* Free the memory for the previous frames */\n",
       "            if (fig.imageObj.src) {\n",
       "                (window.URL || window.webkitURL).revokeObjectURL(\n",
       "                    fig.imageObj.src\n",
       "                );\n",
       "            }\n",
       "\n",
       "            fig.imageObj.src = (window.URL || window.webkitURL).createObjectURL(\n",
       "                img\n",
       "            );\n",
       "            fig.updated_canvas_event();\n",
       "            fig.waiting = false;\n",
       "            return;\n",
       "        } else if (\n",
       "            typeof evt.data === 'string' &&\n",
       "            evt.data.slice(0, 21) === 'data:image/png;base64'\n",
       "        ) {\n",
       "            fig.imageObj.src = evt.data;\n",
       "            fig.updated_canvas_event();\n",
       "            fig.waiting = false;\n",
       "            return;\n",
       "        }\n",
       "\n",
       "        var msg = JSON.parse(evt.data);\n",
       "        var msg_type = msg['type'];\n",
       "\n",
       "        // Call the  \"handle_{type}\" callback, which takes\n",
       "        // the figure and JSON message as its only arguments.\n",
       "        try {\n",
       "            var callback = fig['handle_' + msg_type];\n",
       "        } catch (e) {\n",
       "            console.log(\n",
       "                \"No handler for the '\" + msg_type + \"' message type: \",\n",
       "                msg\n",
       "            );\n",
       "            return;\n",
       "        }\n",
       "\n",
       "        if (callback) {\n",
       "            try {\n",
       "                // console.log(\"Handling '\" + msg_type + \"' message: \", msg);\n",
       "                callback(fig, msg);\n",
       "            } catch (e) {\n",
       "                console.log(\n",
       "                    \"Exception inside the 'handler_\" + msg_type + \"' callback:\",\n",
       "                    e,\n",
       "                    e.stack,\n",
       "                    msg\n",
       "                );\n",
       "            }\n",
       "        }\n",
       "    };\n",
       "};\n",
       "\n",
       "function getModifiers(event) {\n",
       "    var mods = [];\n",
       "    if (event.ctrlKey) {\n",
       "        mods.push('ctrl');\n",
       "    }\n",
       "    if (event.altKey) {\n",
       "        mods.push('alt');\n",
       "    }\n",
       "    if (event.shiftKey) {\n",
       "        mods.push('shift');\n",
       "    }\n",
       "    if (event.metaKey) {\n",
       "        mods.push('meta');\n",
       "    }\n",
       "    return mods;\n",
       "}\n",
       "\n",
       "/*\n",
       " * return a copy of an object with only non-object keys\n",
       " * we need this to avoid circular references\n",
       " * https://stackoverflow.com/a/24161582/3208463\n",
       " */\n",
       "function simpleKeys(original) {\n",
       "    return Object.keys(original).reduce(function (obj, key) {\n",
       "        if (typeof original[key] !== 'object') {\n",
       "            obj[key] = original[key];\n",
       "        }\n",
       "        return obj;\n",
       "    }, {});\n",
       "}\n",
       "\n",
       "mpl.figure.prototype.mouse_event = function (event, name) {\n",
       "    if (name === 'button_press') {\n",
       "        this.canvas.focus();\n",
       "        this.canvas_div.focus();\n",
       "    }\n",
       "\n",
       "    // from https://stackoverflow.com/q/1114465\n",
       "    var boundingRect = this.canvas.getBoundingClientRect();\n",
       "    var x = (event.clientX - boundingRect.left) * this.ratio;\n",
       "    var y = (event.clientY - boundingRect.top) * this.ratio;\n",
       "\n",
       "    this.send_message(name, {\n",
       "        x: x,\n",
       "        y: y,\n",
       "        button: event.button,\n",
       "        step: event.step,\n",
       "        modifiers: getModifiers(event),\n",
       "        guiEvent: simpleKeys(event),\n",
       "    });\n",
       "\n",
       "    return false;\n",
       "};\n",
       "\n",
       "mpl.figure.prototype._key_event_extra = function (_event, _name) {\n",
       "    // Handle any extra behaviour associated with a key event\n",
       "};\n",
       "\n",
       "mpl.figure.prototype.key_event = function (event, name) {\n",
       "    // Prevent repeat events\n",
       "    if (name === 'key_press') {\n",
       "        if (event.key === this._key) {\n",
       "            return;\n",
       "        } else {\n",
       "            this._key = event.key;\n",
       "        }\n",
       "    }\n",
       "    if (name === 'key_release') {\n",
       "        this._key = null;\n",
       "    }\n",
       "\n",
       "    var value = '';\n",
       "    if (event.ctrlKey && event.key !== 'Control') {\n",
       "        value += 'ctrl+';\n",
       "    }\n",
       "    else if (event.altKey && event.key !== 'Alt') {\n",
       "        value += 'alt+';\n",
       "    }\n",
       "    else if (event.shiftKey && event.key !== 'Shift') {\n",
       "        value += 'shift+';\n",
       "    }\n",
       "\n",
       "    value += 'k' + event.key;\n",
       "\n",
       "    this._key_event_extra(event, name);\n",
       "\n",
       "    this.send_message(name, { key: value, guiEvent: simpleKeys(event) });\n",
       "    return false;\n",
       "};\n",
       "\n",
       "mpl.figure.prototype.toolbar_button_onclick = function (name) {\n",
       "    if (name === 'download') {\n",
       "        this.handle_save(this, null);\n",
       "    } else {\n",
       "        this.send_message('toolbar_button', { name: name });\n",
       "    }\n",
       "};\n",
       "\n",
       "mpl.figure.prototype.toolbar_button_onmouseover = function (tooltip) {\n",
       "    this.message.textContent = tooltip;\n",
       "};\n",
       "\n",
       "///////////////// REMAINING CONTENT GENERATED BY embed_js.py /////////////////\n",
       "// prettier-ignore\n",
       "var _JSXTOOLS_RESIZE_OBSERVER=function(A){var t,i=new WeakMap,n=new WeakMap,a=new WeakMap,r=new WeakMap,o=new Set;function s(e){if(!(this instanceof s))throw new TypeError(\"Constructor requires 'new' operator\");i.set(this,e)}function h(){throw new TypeError(\"Function is not a constructor\")}function c(e,t,i,n){e=0 in arguments?Number(arguments[0]):0,t=1 in arguments?Number(arguments[1]):0,i=2 in arguments?Number(arguments[2]):0,n=3 in arguments?Number(arguments[3]):0,this.right=(this.x=this.left=e)+(this.width=i),this.bottom=(this.y=this.top=t)+(this.height=n),Object.freeze(this)}function d(){t=requestAnimationFrame(d);var s=new WeakMap,p=new Set;o.forEach((function(t){r.get(t).forEach((function(i){var r=t instanceof window.SVGElement,o=a.get(t),d=r?0:parseFloat(o.paddingTop),f=r?0:parseFloat(o.paddingRight),l=r?0:parseFloat(o.paddingBottom),u=r?0:parseFloat(o.paddingLeft),g=r?0:parseFloat(o.borderTopWidth),m=r?0:parseFloat(o.borderRightWidth),w=r?0:parseFloat(o.borderBottomWidth),b=u+f,F=d+l,v=(r?0:parseFloat(o.borderLeftWidth))+m,W=g+w,y=r?0:t.offsetHeight-W-t.clientHeight,E=r?0:t.offsetWidth-v-t.clientWidth,R=b+v,z=F+W,M=r?t.width:parseFloat(o.width)-R-E,O=r?t.height:parseFloat(o.height)-z-y;if(n.has(t)){var k=n.get(t);if(k[0]===M&&k[1]===O)return}n.set(t,[M,O]);var S=Object.create(h.prototype);S.target=t,S.contentRect=new c(u,d,M,O),s.has(i)||(s.set(i,[]),p.add(i)),s.get(i).push(S)}))})),p.forEach((function(e){i.get(e).call(e,s.get(e),e)}))}return s.prototype.observe=function(i){if(i instanceof window.Element){r.has(i)||(r.set(i,new Set),o.add(i),a.set(i,window.getComputedStyle(i)));var n=r.get(i);n.has(this)||n.add(this),cancelAnimationFrame(t),t=requestAnimationFrame(d)}},s.prototype.unobserve=function(i){if(i instanceof window.Element&&r.has(i)){var n=r.get(i);n.has(this)&&(n.delete(this),n.size||(r.delete(i),o.delete(i))),n.size||r.delete(i),o.size||cancelAnimationFrame(t)}},A.DOMRectReadOnly=c,A.ResizeObserver=s,A.ResizeObserverEntry=h,A}; // eslint-disable-line\n",
       "mpl.toolbar_items = [[\"Home\", \"Reset original view\", \"fa fa-home\", \"home\"], [\"Back\", \"Back to previous view\", \"fa fa-arrow-left\", \"back\"], [\"Forward\", \"Forward to next view\", \"fa fa-arrow-right\", \"forward\"], [\"\", \"\", \"\", \"\"], [\"Pan\", \"Left button pans, Right button zooms\\nx/y fixes axis, CTRL fixes aspect\", \"fa fa-arrows\", \"pan\"], [\"Zoom\", \"Zoom to rectangle\\nx/y fixes axis\", \"fa fa-square-o\", \"zoom\"], [\"\", \"\", \"\", \"\"], [\"Download\", \"Download plot\", \"fa fa-floppy-o\", \"download\"]];\n",
       "\n",
       "mpl.extensions = [\"eps\", \"jpeg\", \"pgf\", \"pdf\", \"png\", \"ps\", \"raw\", \"svg\", \"tif\", \"webp\"];\n",
       "\n",
       "mpl.default_extension = \"png\";/* global mpl */\n",
       "\n",
       "var comm_websocket_adapter = function (comm) {\n",
       "    // Create a \"websocket\"-like object which calls the given IPython comm\n",
       "    // object with the appropriate methods. Currently this is a non binary\n",
       "    // socket, so there is still some room for performance tuning.\n",
       "    var ws = {};\n",
       "\n",
       "    ws.binaryType = comm.kernel.ws.binaryType;\n",
       "    ws.readyState = comm.kernel.ws.readyState;\n",
       "    function updateReadyState(_event) {\n",
       "        if (comm.kernel.ws) {\n",
       "            ws.readyState = comm.kernel.ws.readyState;\n",
       "        } else {\n",
       "            ws.readyState = 3; // Closed state.\n",
       "        }\n",
       "    }\n",
       "    comm.kernel.ws.addEventListener('open', updateReadyState);\n",
       "    comm.kernel.ws.addEventListener('close', updateReadyState);\n",
       "    comm.kernel.ws.addEventListener('error', updateReadyState);\n",
       "\n",
       "    ws.close = function () {\n",
       "        comm.close();\n",
       "    };\n",
       "    ws.send = function (m) {\n",
       "        //console.log('sending', m);\n",
       "        comm.send(m);\n",
       "    };\n",
       "    // Register the callback with on_msg.\n",
       "    comm.on_msg(function (msg) {\n",
       "        //console.log('receiving', msg['content']['data'], msg);\n",
       "        var data = msg['content']['data'];\n",
       "        if (data['blob'] !== undefined) {\n",
       "            data = {\n",
       "                data: new Blob(msg['buffers'], { type: data['blob'] }),\n",
       "            };\n",
       "        }\n",
       "        // Pass the mpl event to the overridden (by mpl) onmessage function.\n",
       "        ws.onmessage(data);\n",
       "    });\n",
       "    return ws;\n",
       "};\n",
       "\n",
       "mpl.mpl_figure_comm = function (comm, msg) {\n",
       "    // This is the function which gets called when the mpl process\n",
       "    // starts-up an IPython Comm through the \"matplotlib\" channel.\n",
       "\n",
       "    var id = msg.content.data.id;\n",
       "    // Get hold of the div created by the display call when the Comm\n",
       "    // socket was opened in Python.\n",
       "    var element = document.getElementById(id);\n",
       "    var ws_proxy = comm_websocket_adapter(comm);\n",
       "\n",
       "    function ondownload(figure, _format) {\n",
       "        window.open(figure.canvas.toDataURL());\n",
       "    }\n",
       "\n",
       "    var fig = new mpl.figure(id, ws_proxy, ondownload, element);\n",
       "\n",
       "    // Call onopen now - mpl needs it, as it is assuming we've passed it a real\n",
       "    // web socket which is closed, not our websocket->open comm proxy.\n",
       "    ws_proxy.onopen();\n",
       "\n",
       "    fig.parent_element = element;\n",
       "    fig.cell_info = mpl.find_output_cell(\"<div id='\" + id + \"'></div>\");\n",
       "    if (!fig.cell_info) {\n",
       "        console.error('Failed to find cell for figure', id, fig);\n",
       "        return;\n",
       "    }\n",
       "    fig.cell_info[0].output_area.element.on(\n",
       "        'cleared',\n",
       "        { fig: fig },\n",
       "        fig._remove_fig_handler\n",
       "    );\n",
       "};\n",
       "\n",
       "mpl.figure.prototype.handle_close = function (fig, msg) {\n",
       "    var width = fig.canvas.width / fig.ratio;\n",
       "    fig.cell_info[0].output_area.element.off(\n",
       "        'cleared',\n",
       "        fig._remove_fig_handler\n",
       "    );\n",
       "    fig.resizeObserverInstance.unobserve(fig.canvas_div);\n",
       "\n",
       "    // Update the output cell to use the data from the current canvas.\n",
       "    fig.push_to_output();\n",
       "    var dataURL = fig.canvas.toDataURL();\n",
       "    // Re-enable the keyboard manager in IPython - without this line, in FF,\n",
       "    // the notebook keyboard shortcuts fail.\n",
       "    IPython.keyboard_manager.enable();\n",
       "    fig.parent_element.innerHTML =\n",
       "        '<img src=\"' + dataURL + '\" width=\"' + width + '\">';\n",
       "    fig.close_ws(fig, msg);\n",
       "};\n",
       "\n",
       "mpl.figure.prototype.close_ws = function (fig, msg) {\n",
       "    fig.send_message('closing', msg);\n",
       "    // fig.ws.close()\n",
       "};\n",
       "\n",
       "mpl.figure.prototype.push_to_output = function (_remove_interactive) {\n",
       "    // Turn the data on the canvas into data in the output cell.\n",
       "    var width = this.canvas.width / this.ratio;\n",
       "    var dataURL = this.canvas.toDataURL();\n",
       "    this.cell_info[1]['text/html'] =\n",
       "        '<img src=\"' + dataURL + '\" width=\"' + width + '\">';\n",
       "};\n",
       "\n",
       "mpl.figure.prototype.updated_canvas_event = function () {\n",
       "    // Tell IPython that the notebook contents must change.\n",
       "    IPython.notebook.set_dirty(true);\n",
       "    this.send_message('ack', {});\n",
       "    var fig = this;\n",
       "    // Wait a second, then push the new image to the DOM so\n",
       "    // that it is saved nicely (might be nice to debounce this).\n",
       "    setTimeout(function () {\n",
       "        fig.push_to_output();\n",
       "    }, 1000);\n",
       "};\n",
       "\n",
       "mpl.figure.prototype._init_toolbar = function () {\n",
       "    var fig = this;\n",
       "\n",
       "    var toolbar = document.createElement('div');\n",
       "    toolbar.classList = 'btn-toolbar';\n",
       "    this.root.appendChild(toolbar);\n",
       "\n",
       "    function on_click_closure(name) {\n",
       "        return function (_event) {\n",
       "            return fig.toolbar_button_onclick(name);\n",
       "        };\n",
       "    }\n",
       "\n",
       "    function on_mouseover_closure(tooltip) {\n",
       "        return function (event) {\n",
       "            if (!event.currentTarget.disabled) {\n",
       "                return fig.toolbar_button_onmouseover(tooltip);\n",
       "            }\n",
       "        };\n",
       "    }\n",
       "\n",
       "    fig.buttons = {};\n",
       "    var buttonGroup = document.createElement('div');\n",
       "    buttonGroup.classList = 'btn-group';\n",
       "    var button;\n",
       "    for (var toolbar_ind in mpl.toolbar_items) {\n",
       "        var name = mpl.toolbar_items[toolbar_ind][0];\n",
       "        var tooltip = mpl.toolbar_items[toolbar_ind][1];\n",
       "        var image = mpl.toolbar_items[toolbar_ind][2];\n",
       "        var method_name = mpl.toolbar_items[toolbar_ind][3];\n",
       "\n",
       "        if (!name) {\n",
       "            /* Instead of a spacer, we start a new button group. */\n",
       "            if (buttonGroup.hasChildNodes()) {\n",
       "                toolbar.appendChild(buttonGroup);\n",
       "            }\n",
       "            buttonGroup = document.createElement('div');\n",
       "            buttonGroup.classList = 'btn-group';\n",
       "            continue;\n",
       "        }\n",
       "\n",
       "        button = fig.buttons[name] = document.createElement('button');\n",
       "        button.classList = 'btn btn-default';\n",
       "        button.href = '#';\n",
       "        button.title = name;\n",
       "        button.innerHTML = '<i class=\"fa ' + image + ' fa-lg\"></i>';\n",
       "        button.addEventListener('click', on_click_closure(method_name));\n",
       "        button.addEventListener('mouseover', on_mouseover_closure(tooltip));\n",
       "        buttonGroup.appendChild(button);\n",
       "    }\n",
       "\n",
       "    if (buttonGroup.hasChildNodes()) {\n",
       "        toolbar.appendChild(buttonGroup);\n",
       "    }\n",
       "\n",
       "    // Add the status bar.\n",
       "    var status_bar = document.createElement('span');\n",
       "    status_bar.classList = 'mpl-message pull-right';\n",
       "    toolbar.appendChild(status_bar);\n",
       "    this.message = status_bar;\n",
       "\n",
       "    // Add the close button to the window.\n",
       "    var buttongrp = document.createElement('div');\n",
       "    buttongrp.classList = 'btn-group inline pull-right';\n",
       "    button = document.createElement('button');\n",
       "    button.classList = 'btn btn-mini btn-primary';\n",
       "    button.href = '#';\n",
       "    button.title = 'Stop Interaction';\n",
       "    button.innerHTML = '<i class=\"fa fa-power-off icon-remove icon-large\"></i>';\n",
       "    button.addEventListener('click', function (_evt) {\n",
       "        fig.handle_close(fig, {});\n",
       "    });\n",
       "    button.addEventListener(\n",
       "        'mouseover',\n",
       "        on_mouseover_closure('Stop Interaction')\n",
       "    );\n",
       "    buttongrp.appendChild(button);\n",
       "    var titlebar = this.root.querySelector('.ui-dialog-titlebar');\n",
       "    titlebar.insertBefore(buttongrp, titlebar.firstChild);\n",
       "};\n",
       "\n",
       "mpl.figure.prototype._remove_fig_handler = function (event) {\n",
       "    var fig = event.data.fig;\n",
       "    if (event.target !== this) {\n",
       "        // Ignore bubbled events from children.\n",
       "        return;\n",
       "    }\n",
       "    fig.close_ws(fig, {});\n",
       "};\n",
       "\n",
       "mpl.figure.prototype._root_extra_style = function (el) {\n",
       "    el.style.boxSizing = 'content-box'; // override notebook setting of border-box.\n",
       "};\n",
       "\n",
       "mpl.figure.prototype._canvas_extra_style = function (el) {\n",
       "    // this is important to make the div 'focusable\n",
       "    el.setAttribute('tabindex', 0);\n",
       "    // reach out to IPython and tell the keyboard manager to turn it's self\n",
       "    // off when our div gets focus\n",
       "\n",
       "    // location in version 3\n",
       "    if (IPython.notebook.keyboard_manager) {\n",
       "        IPython.notebook.keyboard_manager.register_events(el);\n",
       "    } else {\n",
       "        // location in version 2\n",
       "        IPython.keyboard_manager.register_events(el);\n",
       "    }\n",
       "};\n",
       "\n",
       "mpl.figure.prototype._key_event_extra = function (event, _name) {\n",
       "    // Check for shift+enter\n",
       "    if (event.shiftKey && event.which === 13) {\n",
       "        this.canvas_div.blur();\n",
       "        // select the cell after this one\n",
       "        var index = IPython.notebook.find_cell_index(this.cell_info[0]);\n",
       "        IPython.notebook.select(index + 1);\n",
       "    }\n",
       "};\n",
       "\n",
       "mpl.figure.prototype.handle_save = function (fig, _msg) {\n",
       "    fig.ondownload(fig, null);\n",
       "};\n",
       "\n",
       "mpl.find_output_cell = function (html_output) {\n",
       "    // Return the cell and output element which can be found *uniquely* in the notebook.\n",
       "    // Note - this is a bit hacky, but it is done because the \"notebook_saving.Notebook\"\n",
       "    // IPython event is triggered only after the cells have been serialised, which for\n",
       "    // our purposes (turning an active figure into a static one), is too late.\n",
       "    var cells = IPython.notebook.get_cells();\n",
       "    var ncells = cells.length;\n",
       "    for (var i = 0; i < ncells; i++) {\n",
       "        var cell = cells[i];\n",
       "        if (cell.cell_type === 'code') {\n",
       "            for (var j = 0; j < cell.output_area.outputs.length; j++) {\n",
       "                var data = cell.output_area.outputs[j];\n",
       "                if (data.data) {\n",
       "                    // IPython >= 3 moved mimebundle to data attribute of output\n",
       "                    data = data.data;\n",
       "                }\n",
       "                if (data['text/html'] === html_output) {\n",
       "                    return [cell, data, j];\n",
       "                }\n",
       "            }\n",
       "        }\n",
       "    }\n",
       "};\n",
       "\n",
       "// Register the function which deals with the matplotlib target/channel.\n",
       "// The kernel may be null if the page has been refreshed.\n",
       "if (IPython.notebook.kernel !== null) {\n",
       "    IPython.notebook.kernel.comm_manager.register_target(\n",
       "        'matplotlib',\n",
       "        mpl.mpl_figure_comm\n",
       "    );\n",
       "}\n"
      ],
      "text/plain": [
       "<IPython.core.display.Javascript object>"
      ]
     },
     "metadata": {},
     "output_type": "display_data"
    },
    {
     "data": {
      "text/html": [
       "<img src=\"data:image/png;base64,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\" width=\"600\">"
      ],
      "text/plain": [
       "<IPython.core.display.HTML object>"
      ]
     },
     "metadata": {},
     "output_type": "display_data"
    },
    {
     "data": {
      "application/vnd.jupyter.widget-view+json": {
       "model_id": "913f38b220e7466bbb56063910f51a88",
       "version_major": 2,
       "version_minor": 0
      },
      "text/plain": [
       "interactive(children=(FloatSlider(value=0.0, description='theta', max=6.283185307179586, step=0.01), Output())…"
      ]
     },
     "metadata": {},
     "output_type": "display_data"
    }
   ],
   "source": [
    "\n",
    "def g(A, theta):\n",
    "    a, c = np.cos(theta), np.sin(theta)\n",
    "    x = np.linspace(0, a, 100)\n",
    "    y = np.linspace(0, c, 100)\n",
    "    b, d = A @ np.array([a,c])\n",
    "    z = np.linspace(0, b, 100)\n",
    "    w = np.linspace(0, d, 100)\n",
    "    return x, y, z, w\n",
    "\n",
    "fig, ax = plt.subplots(figsize=(6,6))\n",
    "xmin, xmax, ymin, ymax = -2, 2, -2, 2\n",
    "ax.set(xlim=(xmin-1, xmax+1), ylim=(ymin-1, ymax+1), aspect='equal')\n",
    "ax.spines['bottom'].set_position('zero')\n",
    "ax.spines['left'].set_position('zero')\n",
    "ax.spines['top'].set_visible(False)\n",
    "ax.spines['right'].set_visible(False)\n",
    "\n",
    "ax.set_xlabel('x', size=14, labelpad=-24, x=1.03)\n",
    "ax.set_ylabel('y', size=14, labelpad=-21, y=1.02, rotation=0)\n",
    "arrow_fmt = dict(markersize=4, color='black', clip_on=False)\n",
    "ax.plot((1), (0), marker='>', transform=ax.get_yaxis_transform(), **arrow_fmt)\n",
    "ax.plot((0), (1), marker='^', transform=ax.get_xaxis_transform(), **arrow_fmt)\n",
    "\n",
    "x, y, z, w = g(A, 0)\n",
    "line1, = ax.plot(x,y, color='red')\n",
    "line2, = ax.plot(z,w, color='green')\n",
    "\n",
    "angles = np.linspace(0, 2*np.pi, 100)\n",
    "crc = np.array([np.cos(angles), np.sin(angles)])\n",
    "elps = A @ crc\n",
    "ax.plot(crc[0,:], crc[1,:], color='red')\n",
    "ax.plot(elps[0,:], elps[1,:], color='green')\n",
    "\n",
    "def update(theta = 0):\n",
    "    x, y, z, w = g(A,theta)\n",
    "    print(\"x = \"+str(x[-1])+\",\"+str(y[-1]))\n",
    "    print(\"y = \"+str(z[-1])+\",\"+str(w[-1]))\n",
    "    line1.set_data(x, y)\n",
    "    line2.set_data(z, w)\n",
    "    fig.canvas.draw_idle()\n",
    "    \n",
    "interact(update, theta = (0, 2*np.pi, 0.01));"
   ]
  },
  {
   "cell_type": "markdown",
   "id": "2b2e08ce",
   "metadata": {
    "slideshow": {
     "slide_type": "slide"
    }
   },
   "source": [
    "### Example: How to find eigenvalues and eigenvectors\n",
    "\n",
    "$$\n",
    "\\begin{aligned}\n",
    "A &= \\left[\\begin{matrix}0.8 & 0.3\\\\0.2 & 0.7\\end{matrix}\\right]\\\\\n",
    "A\\mathbf x &= \\lambda \\mathbf x\\\\\n",
    "&= \\lambda \\mathbf I \\mathbf x\\\\\n",
    "(A-\\lambda \\mathbf I)\\mathbf x &= \\mathbf 0 \n",
    "\\end{aligned}\n",
    "$$\n",
    "\n",
    "The important matrix now is\n",
    "\n",
    "$$\n",
    "A-\\lambda \\mathbf I = \\begin{bmatrix}\n",
    "0.8-\\lambda & 0.3\\\\\n",
    "0.2 & 0.7-\\lambda\n",
    "\\end{bmatrix}\n",
    "$$"
   ]
  },
  {
   "cell_type": "markdown",
   "id": "866eacb0",
   "metadata": {},
   "source": [
    "We are looking for a value of $\\lambda$ such that\n",
    "$$\n",
    "(A-\\lambda \\mathbf I)\\mathbf x = \\mathbf 0 \n",
    "$$\n",
    "\n",
    "with $\\mathbf x \\neq \\mathbf 0$ (otherwise the equation would be trivial).\n",
    "\n",
    "It follows that $(A-\\lambda \\mathbf I)$ is not invertible. Hence:\n",
    "\n",
    "$$\n",
    "|(A-\\lambda \\mathbf I)| = 0\n",
    "$$\n",
    "\n",
    "Using the formula for the determinant of a $2\\times 2$ matrix:\n",
    "\n",
    "$$\n",
    "(0.8-\\lambda)(0.7-\\lambda) - 0.2\\times 0.3 = 0\n",
    "$$\n"
   ]
  },
  {
   "cell_type": "markdown",
   "id": "6c01c2bf",
   "metadata": {
    "slideshow": {
     "slide_type": "slide"
    }
   },
   "source": [
    "Simplifying:\n",
    "\n",
    "$$\n",
    "\\begin{aligned}\n",
    "(0.8-\\lambda)(0.7-\\lambda) - 0.2\\times 0.3 &= 0\\\\\n",
    "\\lambda ^2 - 1.5\\lambda + 0.56 - 0.06 &= 0\\\\\n",
    "\\lambda^2 - 1.5\\lambda + 0.5 &= 0\n",
    "\\end{aligned}\n",
    "$$\n",
    "\n",
    "There is a formula for finding the solution of quadratic equations (https://en.wikipedia.org/wiki/Quadratic_equation):\n",
    "\n",
    "$$\n",
    "\\begin{aligned}\n",
    "\\lambda_{1/2} = \\frac{3}{4} \\pm \\sqrt{(\\frac{3}{4})^2-\\frac{1}{2}}\\\\\n",
    "&= \\frac{3}{4} \\pm \\sqrt{\\frac{9-8}{16}}\\\\\n",
    "&= \\frac{3}{4} \\pm \\sqrt{\\frac{1}{16}}\\\\\n",
    "&= \\frac{3}{4} \\pm \\frac{1}{4}\\\\\n",
    "\\lambda_1 &= 1\\\\\n",
    "\\lambda_2 &= 0.5\n",
    "\\end{aligned}\n",
    "$$\n",
    "\n",
    "$\\lambda_1$ and $\\lambda_2$ are the eigenvalues of $A$. Now let's find the corresponding eigenvectors."
   ]
  },
  {
   "cell_type": "markdown",
   "id": "2cc32822",
   "metadata": {
    "slideshow": {
     "slide_type": "slide"
    }
   },
   "source": [
    "This amount to finding the nullspace of $A-\\lambda\\mathbf I$:\n",
    "\n",
    "- $\\lambda_1$\n",
    "\n",
    "$$\n",
    "\\begin{aligned}\n",
    "(A - \\lambda_1\\mathbf I)\\mathbf x_1 &= \\mathbf 0\\\\\n",
    "\\begin{bmatrix}\n",
    "-0.2 & 0.3\\\\\n",
    "0.2 & -0.3\n",
    "\\end{bmatrix}\\mathbf x_1 &= \\mathbf 0\\\\\n",
    "\\begin{bmatrix}\n",
    "-0.2 & 0.3\\\\\n",
    "0 & 0\n",
    "\\end{bmatrix}\\mathbf x_1 &= \\mathbf 0\\\\\n",
    "\\begin{bmatrix}\n",
    "1 & -1.5\\\\\n",
    "0 & 0\n",
    "\\end{bmatrix}\\mathbf x_1 &= \\mathbf 0\\\\\n",
    "\\mathbf x_1 &= \\begin{bmatrix}1.5\\\\1\\end{bmatrix}\n",
    "\\end{aligned}\n",
    "$$\n",
    "\n"
   ]
  },
  {
   "cell_type": "markdown",
   "id": "fe963bfe",
   "metadata": {
    "slideshow": {
     "slide_type": "slide"
    }
   },
   "source": [
    "\n",
    "- $\\lambda_2$\n",
    "\n",
    "$$\n",
    "\\begin{aligned}\n",
    "(A - \\lambda_2\\mathbf I)\\mathbf x_1 &= \\mathbf 0\\\\\n",
    "\\begin{bmatrix}\n",
    "0.3 & 0.3\\\\\n",
    "0.2 & 0.2\n",
    "\\end{bmatrix}\\mathbf x_2 &= \\mathbf 0\\\\\n",
    "\\begin{bmatrix}\n",
    "0.3 & 0.3\\\\\n",
    "0 & 0\n",
    "\\end{bmatrix}\\mathbf x_2 &= \\mathbf 0\\\\\n",
    "\\begin{bmatrix}\n",
    "1 & 1\\\\\n",
    "0 & 0\n",
    "\\end{bmatrix}\\mathbf x_2 &= \\mathbf 0\\\\\n",
    "\\mathbf x_2 &= \\begin{bmatrix}-1\\\\1\\end{bmatrix}\\\\\n",
    "\\end{aligned}\n",
    "$$"
   ]
  },
  {
   "cell_type": "markdown",
   "id": "b0623f9f",
   "metadata": {
    "slideshow": {
     "slide_type": "slide"
    }
   },
   "source": [
    "$\\mathbf x_1$ is the eigenvector *corresponding to* $\\lambda_1$.\n",
    "\n",
    "$\\mathbf x_2$ is the eigenvector *corresponding to* $\\lambda_2$.\n",
    "\n",
    "Any non-zero multiples of $\\mathbf x_1, \\mathbf x_2$ are also eigenvectors. It is common practice to use normalized eigenvectors, i.e.\\ eigenvectors with length 1.\n",
    "\n",
    "$$\n",
    "\\begin{aligned}\n",
    "\\mathbf v_1 &= \\frac{\\mathbf x_1}{||\\mathbf x_1||}\\\\\n",
    "&= \\frac{1}{\\sqrt{13}}\\begin{bmatrix}3\\\\2\\end{bmatrix}\\\\\n",
    "\\mathbf v_2 &= \\frac{\\mathbf x_1}{||\\mathbf x_1||}\\\\\n",
    "&= \\frac{1}{\\sqrt{2}}\\begin{bmatrix}-1\\\\1\\end{bmatrix}\\\\\n",
    "\\end{aligned}\n",
    "$$"
   ]
  },
  {
   "cell_type": "code",
   "execution_count": 52,
   "id": "9854f98c",
   "metadata": {
    "slideshow": {
     "slide_type": "slide"
    }
   },
   "outputs": [
    {
     "data": {
      "text/latex": [
       "$\\displaystyle \\left[\\begin{matrix}\\frac{4}{5} & \\frac{3}{10}\\\\\\frac{1}{5} & \\frac{7}{10}\\end{matrix}\\right]$"
      ],
      "text/plain": [
       "Matrix([\n",
       "[4/5, 3/10],\n",
       "[1/5, 7/10]])"
      ]
     },
     "execution_count": 52,
     "metadata": {},
     "output_type": "execute_result"
    }
   ],
   "source": [
    "A = Matrix([\n",
    "    [Rational(4,5), Rational(3,10)],\n",
    "    [Rational(1,5), Rational(7,10)]\n",
    "])\n",
    "A"
   ]
  },
  {
   "cell_type": "code",
   "execution_count": 56,
   "id": "e1c8ffa1",
   "metadata": {},
   "outputs": [],
   "source": [
    "e1, e2 = A.eigenvects()"
   ]
  },
  {
   "cell_type": "code",
   "execution_count": 57,
   "id": "8083ca17",
   "metadata": {},
   "outputs": [],
   "source": [
    "lambda1, _, v1 = e1"
   ]
  },
  {
   "cell_type": "code",
   "execution_count": 58,
   "id": "26fe76ca",
   "metadata": {},
   "outputs": [
    {
     "data": {
      "text/latex": [
       "$\\displaystyle \\frac{1}{2}$"
      ],
      "text/plain": [
       "1/2"
      ]
     },
     "execution_count": 58,
     "metadata": {},
     "output_type": "execute_result"
    }
   ],
   "source": [
    "lambda1"
   ]
  },
  {
   "cell_type": "code",
   "execution_count": 59,
   "id": "64a8b1b3",
   "metadata": {},
   "outputs": [
    {
     "data": {
      "text/latex": [
       "$\\displaystyle \\left[\\begin{matrix}- \\frac{\\sqrt{2}}{2}\\\\\\frac{\\sqrt{2}}{2}\\end{matrix}\\right]$"
      ],
      "text/plain": [
       "Matrix([\n",
       "[-sqrt(2)/2],\n",
       "[ sqrt(2)/2]])"
      ]
     },
     "execution_count": 59,
     "metadata": {},
     "output_type": "execute_result"
    }
   ],
   "source": [
    "v1[0].normalized()"
   ]
  },
  {
   "cell_type": "code",
   "execution_count": 60,
   "id": "7a832706",
   "metadata": {},
   "outputs": [],
   "source": [
    "lambda2, _, v2 = e2"
   ]
  },
  {
   "cell_type": "code",
   "execution_count": 61,
   "id": "4056bd25",
   "metadata": {},
   "outputs": [
    {
     "data": {
      "text/latex": [
       "$\\displaystyle 1$"
      ],
      "text/plain": [
       "1"
      ]
     },
     "execution_count": 61,
     "metadata": {},
     "output_type": "execute_result"
    }
   ],
   "source": [
    "lambda2"
   ]
  },
  {
   "cell_type": "code",
   "execution_count": 62,
   "id": "08859f45",
   "metadata": {},
   "outputs": [
    {
     "data": {
      "text/latex": [
       "$\\displaystyle \\left[\\begin{matrix}\\frac{3 \\sqrt{13}}{13}\\\\\\frac{2 \\sqrt{13}}{13}\\end{matrix}\\right]$"
      ],
      "text/plain": [
       "Matrix([\n",
       "[3*sqrt(13)/13],\n",
       "[2*sqrt(13)/13]])"
      ]
     },
     "execution_count": 62,
     "metadata": {},
     "output_type": "execute_result"
    }
   ],
   "source": [
    "v2[0].normalized()"
   ]
  },
  {
   "cell_type": "code",
   "execution_count": 63,
   "id": "c5b5637a",
   "metadata": {
    "slideshow": {
     "slide_type": "slide"
    }
   },
   "outputs": [
    {
     "data": {
      "text/plain": [
       "array([[0.8, 0.3],\n",
       "       [0.2, 0.7]])"
      ]
     },
     "execution_count": 63,
     "metadata": {},
     "output_type": "execute_result"
    }
   ],
   "source": [
    "A = np.array([\n",
    "    [0.8, 0.3],\n",
    "    [0.2, 0.7]\n",
    "])\n",
    "A"
   ]
  },
  {
   "cell_type": "code",
   "execution_count": 64,
   "id": "eefa5cf4",
   "metadata": {},
   "outputs": [
    {
     "data": {
      "text/plain": [
       "(array([1. , 0.5]),\n",
       " array([[ 0.83205029, -0.70710678],\n",
       "        [ 0.5547002 ,  0.70710678]]))"
      ]
     },
     "execution_count": 64,
     "metadata": {},
     "output_type": "execute_result"
    }
   ],
   "source": [
    "np.linalg.eig(A)"
   ]
  },
  {
   "cell_type": "markdown",
   "id": "e25f4761",
   "metadata": {
    "slideshow": {
     "slide_type": "slide"
    }
   },
   "source": [
    "\n",
    "\n",
    "### Procedure to find eigenvalues and eigenvectors:\n",
    "\n",
    "1. Construct $A-\\lambda \\mathbf I$ with $\\lambda$ as unknown.\n",
    "2. Set $|A-\\lambda \\mathbf I| = 0$ and solve for $\\lambda$. All solutions are eigenvalues.\n",
    "3. For each solution for $\\lambda$, find the nullspace of $|A-\\lambda \\mathbf I| = 0$. Each vector in the nullspace is an eigenvector corresponding to this solution."
   ]
  },
  {
   "cell_type": "markdown",
   "id": "9693cd72",
   "metadata": {
    "slideshow": {
     "slide_type": "slide"
    }
   },
   "source": [
    "##### Example 2: Projection matrix\n",
    "\n",
    "$$\n",
    "A = \\begin{bmatrix}\n",
    "\\frac{1}{2} & \\frac{1}{2}\\\\\n",
    "\\frac{1}{2} & \\frac{1}{2}\n",
    "\\end{bmatrix}\n",
    "$$\n",
    "\n",
    "- find eigenvalues\n",
    "\n",
    "$$\n",
    "\\begin{aligned}\n",
    "\\begin{vmatrix}\n",
    "\\frac{1}{2}-\\lambda & \\frac{1}{2}\\\\\n",
    "\\frac{1}{2} & \\frac{1}{2}-\\lambda\n",
    "\\end{vmatrix} &= 0\\\\\n",
    "(\\frac{1}{2}-\\lambda)^2 - \\frac{1}{4} &= 0\\\\\n",
    "\\lambda^2 -\\lambda &= 0\\\\\n",
    "\\lambda(\\lambda-1) &= 0\\\\\n",
    "\\lambda_1 &= 1\\\\\n",
    "\\lambda_2 &= 0\n",
    "\\end{aligned}\n",
    "$$"
   ]
  },
  {
   "cell_type": "markdown",
   "id": "de352eeb",
   "metadata": {
    "slideshow": {
     "slide_type": "slide"
    }
   },
   "source": [
    "- find eigenvectors\n",
    "\n",
    "    - $\\lambda_1$: \n",
    "    $$\n",
    "    \\begin{aligned}\n",
    "    \\begin{bmatrix}\n",
    "    -\\frac{1}{2} & \\frac{1}{2}\\\\\n",
    "    \\frac{1}{2} & -\\frac{1}{2}\n",
    "    \\end{bmatrix}\\mathbf x_1 &= \\mathbf 0\\\\\n",
    "    \\mathbf x_1 &= \\begin{bmatrix}1\\\\1\\end{bmatrix}\n",
    "    \\end{aligned}\n",
    "    $$\n",
    "    \n",
    "    - $\\lambda_2$:\n",
    "    $$\n",
    "    \\begin{aligned}\n",
    "    \\begin{bmatrix}\n",
    "    \\frac{1}{2} & \\frac{1}{2}\\\\\n",
    "    \\frac{1}{2} & \\frac{1}{2}\n",
    "    \\end{bmatrix}\\mathbf x_2 &= \\mathbf 0\\\\\n",
    "    \\mathbf x_2 &= \\begin{bmatrix}-1\\\\1\\end{bmatrix}\n",
    "    \\end{aligned}\n",
    "    $$"
   ]
  },
  {
   "cell_type": "markdown",
   "id": "b13fec6b",
   "metadata": {
    "slideshow": {
     "slide_type": "slide"
    }
   },
   "source": [
    "##### Example 3: Reflection matrix\n",
    "\n",
    "$$\n",
    "A = \\begin{bmatrix}\n",
    "0 & 1\\\\\n",
    "1 & 0\n",
    "\\end{bmatrix}\n",
    "$$\n",
    "\n",
    "- find eigenvalues\n",
    "\n",
    "$$\n",
    "\\begin{aligned}\n",
    "\\begin{vmatrix}\n",
    "-\\lambda & 1\\\\\n",
    "1 & -\\lambda\n",
    "\\end{vmatrix} &= 0\\\\\n",
    "\\lambda^2-1 &= 0\\\\\n",
    "\\lambda^2 &= 1\\\\\n",
    "\\lambda_1 &= 1\\\\\n",
    "\\lambda_2 &= -1\n",
    "\\end{aligned}\n",
    "$$"
   ]
  },
  {
   "cell_type": "markdown",
   "id": "590f050d",
   "metadata": {
    "slideshow": {
     "slide_type": "slide"
    }
   },
   "source": [
    "- find eigenvectors\n",
    "\n",
    "    - $\\lambda_1$: \n",
    "    $$\n",
    "    \\begin{aligned}\n",
    "    \\begin{bmatrix}\n",
    "    -1 & 1\\\\\n",
    "    1 & -1\n",
    "    \\end{bmatrix}\\mathbf x_1 &= \\mathbf 0\\\\\n",
    "    \\mathbf x_1 &= \\begin{bmatrix}1\\\\1\\end{bmatrix}\n",
    "    \\end{aligned}\n",
    "    $$\n",
    "    \n",
    "    - $\\lambda_2$:\n",
    "    $$\n",
    "    \\begin{aligned}\n",
    "    \\begin{bmatrix}\n",
    "    1 & 1\\\\\n",
    "    1 & 1\n",
    "    \\end{bmatrix}\\mathbf x_2 &= \\mathbf 0\\\\\n",
    "    \\mathbf x_2 &= \\begin{bmatrix}-1\\\\1\\end{bmatrix}\n",
    "    \\end{aligned}\n",
    "    $$"
   ]
  }
 ],
 "metadata": {
  "@webio": {
   "lastCommId": null,
   "lastKernelId": null
  },
  "celltoolbar": "Slideshow",
  "hide_input": false,
  "kernelspec": {
   "display_name": "Python 3 (ipykernel)",
   "language": "python",
   "name": "python3"
  },
  "language_info": {
   "codemirror_mode": {
    "name": "ipython",
    "version": 3
   },
   "file_extension": ".py",
   "mimetype": "text/x-python",
   "name": "python",
   "nbconvert_exporter": "python",
   "pygments_lexer": "ipython3",
   "version": "3.8.18"
  },
  "latex_envs": {
   "LaTeX_envs_menu_present": true,
   "autoclose": false,
   "autocomplete": true,
   "bibliofile": "biblio.bib",
   "cite_by": "apalike",
   "current_citInitial": 1,
   "eqLabelWithNumbers": true,
   "eqNumInitial": 1,
   "hotkeys": {
    "equation": "Ctrl-E",
    "itemize": "Ctrl-I"
   },
   "labels_anchors": false,
   "latex_user_defs": false,
   "report_style_numbering": false,
   "user_envs_cfg": false
  },
  "rise": {
   "enable_chalkboard": true
  },
  "varInspector": {
   "cols": {
    "lenName": 16,
    "lenType": 16,
    "lenVar": 40
   },
   "kernels_config": {
    "python": {
     "delete_cmd_postfix": "",
     "delete_cmd_prefix": "del ",
     "library": "var_list.py",
     "varRefreshCmd": "print(var_dic_list())"
    },
    "r": {
     "delete_cmd_postfix": ") ",
     "delete_cmd_prefix": "rm(",
     "library": "var_list.r",
     "varRefreshCmd": "cat(var_dic_list()) "
    }
   },
   "types_to_exclude": [
    "module",
    "function",
    "builtin_function_or_method",
    "instance",
    "_Feature"
   ],
   "window_display": false
  }
 },
 "nbformat": 4,
 "nbformat_minor": 5
}
